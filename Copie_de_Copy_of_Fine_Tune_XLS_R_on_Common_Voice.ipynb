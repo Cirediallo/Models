{
  "nbformat": 4,
  "nbformat_minor": 0,
  "metadata": {
    "accelerator": "GPU",
    "colab": {
      "provenance": [],
      "toc_visible": true,
      "machine_shape": "hm",
      "include_colab_link": true
    },
    "kernelspec": {
      "display_name": "Python 3",
      "name": "python3"
    },
    "widgets": {
      "application/vnd.jupyter.widget-state+json": {
        "4bbfd25cb0ea44b7a61ebec32bfd70e1": {
          "model_module": "@jupyter-widgets/controls",
          "model_name": "VBoxModel",
          "model_module_version": "1.5.0",
          "state": {
            "_dom_classes": [],
            "_model_module": "@jupyter-widgets/controls",
            "_model_module_version": "1.5.0",
            "_model_name": "VBoxModel",
            "_view_count": null,
            "_view_module": "@jupyter-widgets/controls",
            "_view_module_version": "1.5.0",
            "_view_name": "VBoxView",
            "box_style": "",
            "children": [
              "IPY_MODEL_f592f9ed67d84adbb534895ba7b34e8f",
              "IPY_MODEL_ba7c76adf8244c7693c14904c3f115f9",
              "IPY_MODEL_0271b5c7c1b94ce78a424296a3a5e8e4",
              "IPY_MODEL_280b33234e9346d8a9873dcec102261e"
            ],
            "layout": "IPY_MODEL_99516fbcd20447fbbd943c5d209fe1e7"
          }
        },
        "fe68c9ae29f749bda16cfe1042971980": {
          "model_module": "@jupyter-widgets/controls",
          "model_name": "HTMLModel",
          "model_module_version": "1.5.0",
          "state": {
            "_dom_classes": [],
            "_model_module": "@jupyter-widgets/controls",
            "_model_module_version": "1.5.0",
            "_model_name": "HTMLModel",
            "_view_count": null,
            "_view_module": "@jupyter-widgets/controls",
            "_view_module_version": "1.5.0",
            "_view_name": "HTMLView",
            "description": "",
            "description_tooltip": null,
            "layout": "IPY_MODEL_fe63aa7c6c324ed090af5f1b480b277a",
            "placeholder": "​",
            "style": "IPY_MODEL_5a3a75a5fd614c0e9faa2cfa46066a51",
            "value": "<center> <img\nsrc=https://huggingface.co/front/assets/huggingface_logo-noborder.svg\nalt='Hugging Face'> <br> Copy a token from <a\nhref=\"https://huggingface.co/settings/tokens\" target=\"_blank\">your Hugging Face\ntokens page</a> and paste it below. <br> Immediately click login after copying\nyour token or it might be stored in plain text in this notebook file. </center>"
          }
        },
        "3bd933b273c44461a39a7c4182ecc51d": {
          "model_module": "@jupyter-widgets/controls",
          "model_name": "PasswordModel",
          "model_module_version": "1.5.0",
          "state": {
            "_dom_classes": [],
            "_model_module": "@jupyter-widgets/controls",
            "_model_module_version": "1.5.0",
            "_model_name": "PasswordModel",
            "_view_count": null,
            "_view_module": "@jupyter-widgets/controls",
            "_view_module_version": "1.5.0",
            "_view_name": "PasswordView",
            "continuous_update": true,
            "description": "Token:",
            "description_tooltip": null,
            "disabled": false,
            "layout": "IPY_MODEL_ac5dbe713b2c4559b01964e33318cd06",
            "placeholder": "​",
            "style": "IPY_MODEL_863d3396454b457195639e56cad46596",
            "value": ""
          }
        },
        "c9b1c813ed90451194a96d73379f4641": {
          "model_module": "@jupyter-widgets/controls",
          "model_name": "CheckboxModel",
          "model_module_version": "1.5.0",
          "state": {
            "_dom_classes": [],
            "_model_module": "@jupyter-widgets/controls",
            "_model_module_version": "1.5.0",
            "_model_name": "CheckboxModel",
            "_view_count": null,
            "_view_module": "@jupyter-widgets/controls",
            "_view_module_version": "1.5.0",
            "_view_name": "CheckboxView",
            "description": "Add token as git credential?",
            "description_tooltip": null,
            "disabled": false,
            "indent": true,
            "layout": "IPY_MODEL_f931c23fd90f432595cc8ca683aa7b70",
            "style": "IPY_MODEL_f37a164511db45d19278f9d8b625dcf0",
            "value": true
          }
        },
        "56540e32f46748e9aed30d788513e283": {
          "model_module": "@jupyter-widgets/controls",
          "model_name": "ButtonModel",
          "model_module_version": "1.5.0",
          "state": {
            "_dom_classes": [],
            "_model_module": "@jupyter-widgets/controls",
            "_model_module_version": "1.5.0",
            "_model_name": "ButtonModel",
            "_view_count": null,
            "_view_module": "@jupyter-widgets/controls",
            "_view_module_version": "1.5.0",
            "_view_name": "ButtonView",
            "button_style": "",
            "description": "Login",
            "disabled": false,
            "icon": "",
            "layout": "IPY_MODEL_e9410da8c5d845fbb69c8b57e607a524",
            "style": "IPY_MODEL_6092310eaabe4396b7064a3206355dba",
            "tooltip": ""
          }
        },
        "60af7ea0e56546a49852f3a709de3c29": {
          "model_module": "@jupyter-widgets/controls",
          "model_name": "HTMLModel",
          "model_module_version": "1.5.0",
          "state": {
            "_dom_classes": [],
            "_model_module": "@jupyter-widgets/controls",
            "_model_module_version": "1.5.0",
            "_model_name": "HTMLModel",
            "_view_count": null,
            "_view_module": "@jupyter-widgets/controls",
            "_view_module_version": "1.5.0",
            "_view_name": "HTMLView",
            "description": "",
            "description_tooltip": null,
            "layout": "IPY_MODEL_e24df839061146ba9698a768346c1b9d",
            "placeholder": "​",
            "style": "IPY_MODEL_8679345428184b468947b5915ec792e4",
            "value": "\n<b>Pro Tip:</b> If you don't already have one, you can create a dedicated\n'notebooks' token with 'write' access, that you can then easily reuse for all\nnotebooks. </center>"
          }
        },
        "99516fbcd20447fbbd943c5d209fe1e7": {
          "model_module": "@jupyter-widgets/base",
          "model_name": "LayoutModel",
          "model_module_version": "1.2.0",
          "state": {
            "_model_module": "@jupyter-widgets/base",
            "_model_module_version": "1.2.0",
            "_model_name": "LayoutModel",
            "_view_count": null,
            "_view_module": "@jupyter-widgets/base",
            "_view_module_version": "1.2.0",
            "_view_name": "LayoutView",
            "align_content": null,
            "align_items": "center",
            "align_self": null,
            "border": null,
            "bottom": null,
            "display": "flex",
            "flex": null,
            "flex_flow": "column",
            "grid_area": null,
            "grid_auto_columns": null,
            "grid_auto_flow": null,
            "grid_auto_rows": null,
            "grid_column": null,
            "grid_gap": null,
            "grid_row": null,
            "grid_template_areas": null,
            "grid_template_columns": null,
            "grid_template_rows": null,
            "height": null,
            "justify_content": null,
            "justify_items": null,
            "left": null,
            "margin": null,
            "max_height": null,
            "max_width": null,
            "min_height": null,
            "min_width": null,
            "object_fit": null,
            "object_position": null,
            "order": null,
            "overflow": null,
            "overflow_x": null,
            "overflow_y": null,
            "padding": null,
            "right": null,
            "top": null,
            "visibility": null,
            "width": "50%"
          }
        },
        "fe63aa7c6c324ed090af5f1b480b277a": {
          "model_module": "@jupyter-widgets/base",
          "model_name": "LayoutModel",
          "model_module_version": "1.2.0",
          "state": {
            "_model_module": "@jupyter-widgets/base",
            "_model_module_version": "1.2.0",
            "_model_name": "LayoutModel",
            "_view_count": null,
            "_view_module": "@jupyter-widgets/base",
            "_view_module_version": "1.2.0",
            "_view_name": "LayoutView",
            "align_content": null,
            "align_items": null,
            "align_self": null,
            "border": null,
            "bottom": null,
            "display": null,
            "flex": null,
            "flex_flow": null,
            "grid_area": null,
            "grid_auto_columns": null,
            "grid_auto_flow": null,
            "grid_auto_rows": null,
            "grid_column": null,
            "grid_gap": null,
            "grid_row": null,
            "grid_template_areas": null,
            "grid_template_columns": null,
            "grid_template_rows": null,
            "height": null,
            "justify_content": null,
            "justify_items": null,
            "left": null,
            "margin": null,
            "max_height": null,
            "max_width": null,
            "min_height": null,
            "min_width": null,
            "object_fit": null,
            "object_position": null,
            "order": null,
            "overflow": null,
            "overflow_x": null,
            "overflow_y": null,
            "padding": null,
            "right": null,
            "top": null,
            "visibility": null,
            "width": null
          }
        },
        "5a3a75a5fd614c0e9faa2cfa46066a51": {
          "model_module": "@jupyter-widgets/controls",
          "model_name": "DescriptionStyleModel",
          "model_module_version": "1.5.0",
          "state": {
            "_model_module": "@jupyter-widgets/controls",
            "_model_module_version": "1.5.0",
            "_model_name": "DescriptionStyleModel",
            "_view_count": null,
            "_view_module": "@jupyter-widgets/base",
            "_view_module_version": "1.2.0",
            "_view_name": "StyleView",
            "description_width": ""
          }
        },
        "ac5dbe713b2c4559b01964e33318cd06": {
          "model_module": "@jupyter-widgets/base",
          "model_name": "LayoutModel",
          "model_module_version": "1.2.0",
          "state": {
            "_model_module": "@jupyter-widgets/base",
            "_model_module_version": "1.2.0",
            "_model_name": "LayoutModel",
            "_view_count": null,
            "_view_module": "@jupyter-widgets/base",
            "_view_module_version": "1.2.0",
            "_view_name": "LayoutView",
            "align_content": null,
            "align_items": null,
            "align_self": null,
            "border": null,
            "bottom": null,
            "display": null,
            "flex": null,
            "flex_flow": null,
            "grid_area": null,
            "grid_auto_columns": null,
            "grid_auto_flow": null,
            "grid_auto_rows": null,
            "grid_column": null,
            "grid_gap": null,
            "grid_row": null,
            "grid_template_areas": null,
            "grid_template_columns": null,
            "grid_template_rows": null,
            "height": null,
            "justify_content": null,
            "justify_items": null,
            "left": null,
            "margin": null,
            "max_height": null,
            "max_width": null,
            "min_height": null,
            "min_width": null,
            "object_fit": null,
            "object_position": null,
            "order": null,
            "overflow": null,
            "overflow_x": null,
            "overflow_y": null,
            "padding": null,
            "right": null,
            "top": null,
            "visibility": null,
            "width": null
          }
        },
        "863d3396454b457195639e56cad46596": {
          "model_module": "@jupyter-widgets/controls",
          "model_name": "DescriptionStyleModel",
          "model_module_version": "1.5.0",
          "state": {
            "_model_module": "@jupyter-widgets/controls",
            "_model_module_version": "1.5.0",
            "_model_name": "DescriptionStyleModel",
            "_view_count": null,
            "_view_module": "@jupyter-widgets/base",
            "_view_module_version": "1.2.0",
            "_view_name": "StyleView",
            "description_width": ""
          }
        },
        "f931c23fd90f432595cc8ca683aa7b70": {
          "model_module": "@jupyter-widgets/base",
          "model_name": "LayoutModel",
          "model_module_version": "1.2.0",
          "state": {
            "_model_module": "@jupyter-widgets/base",
            "_model_module_version": "1.2.0",
            "_model_name": "LayoutModel",
            "_view_count": null,
            "_view_module": "@jupyter-widgets/base",
            "_view_module_version": "1.2.0",
            "_view_name": "LayoutView",
            "align_content": null,
            "align_items": null,
            "align_self": null,
            "border": null,
            "bottom": null,
            "display": null,
            "flex": null,
            "flex_flow": null,
            "grid_area": null,
            "grid_auto_columns": null,
            "grid_auto_flow": null,
            "grid_auto_rows": null,
            "grid_column": null,
            "grid_gap": null,
            "grid_row": null,
            "grid_template_areas": null,
            "grid_template_columns": null,
            "grid_template_rows": null,
            "height": null,
            "justify_content": null,
            "justify_items": null,
            "left": null,
            "margin": null,
            "max_height": null,
            "max_width": null,
            "min_height": null,
            "min_width": null,
            "object_fit": null,
            "object_position": null,
            "order": null,
            "overflow": null,
            "overflow_x": null,
            "overflow_y": null,
            "padding": null,
            "right": null,
            "top": null,
            "visibility": null,
            "width": null
          }
        },
        "f37a164511db45d19278f9d8b625dcf0": {
          "model_module": "@jupyter-widgets/controls",
          "model_name": "DescriptionStyleModel",
          "model_module_version": "1.5.0",
          "state": {
            "_model_module": "@jupyter-widgets/controls",
            "_model_module_version": "1.5.0",
            "_model_name": "DescriptionStyleModel",
            "_view_count": null,
            "_view_module": "@jupyter-widgets/base",
            "_view_module_version": "1.2.0",
            "_view_name": "StyleView",
            "description_width": ""
          }
        },
        "e9410da8c5d845fbb69c8b57e607a524": {
          "model_module": "@jupyter-widgets/base",
          "model_name": "LayoutModel",
          "model_module_version": "1.2.0",
          "state": {
            "_model_module": "@jupyter-widgets/base",
            "_model_module_version": "1.2.0",
            "_model_name": "LayoutModel",
            "_view_count": null,
            "_view_module": "@jupyter-widgets/base",
            "_view_module_version": "1.2.0",
            "_view_name": "LayoutView",
            "align_content": null,
            "align_items": null,
            "align_self": null,
            "border": null,
            "bottom": null,
            "display": null,
            "flex": null,
            "flex_flow": null,
            "grid_area": null,
            "grid_auto_columns": null,
            "grid_auto_flow": null,
            "grid_auto_rows": null,
            "grid_column": null,
            "grid_gap": null,
            "grid_row": null,
            "grid_template_areas": null,
            "grid_template_columns": null,
            "grid_template_rows": null,
            "height": null,
            "justify_content": null,
            "justify_items": null,
            "left": null,
            "margin": null,
            "max_height": null,
            "max_width": null,
            "min_height": null,
            "min_width": null,
            "object_fit": null,
            "object_position": null,
            "order": null,
            "overflow": null,
            "overflow_x": null,
            "overflow_y": null,
            "padding": null,
            "right": null,
            "top": null,
            "visibility": null,
            "width": null
          }
        },
        "6092310eaabe4396b7064a3206355dba": {
          "model_module": "@jupyter-widgets/controls",
          "model_name": "ButtonStyleModel",
          "model_module_version": "1.5.0",
          "state": {
            "_model_module": "@jupyter-widgets/controls",
            "_model_module_version": "1.5.0",
            "_model_name": "ButtonStyleModel",
            "_view_count": null,
            "_view_module": "@jupyter-widgets/base",
            "_view_module_version": "1.2.0",
            "_view_name": "StyleView",
            "button_color": null,
            "font_weight": ""
          }
        },
        "e24df839061146ba9698a768346c1b9d": {
          "model_module": "@jupyter-widgets/base",
          "model_name": "LayoutModel",
          "model_module_version": "1.2.0",
          "state": {
            "_model_module": "@jupyter-widgets/base",
            "_model_module_version": "1.2.0",
            "_model_name": "LayoutModel",
            "_view_count": null,
            "_view_module": "@jupyter-widgets/base",
            "_view_module_version": "1.2.0",
            "_view_name": "LayoutView",
            "align_content": null,
            "align_items": null,
            "align_self": null,
            "border": null,
            "bottom": null,
            "display": null,
            "flex": null,
            "flex_flow": null,
            "grid_area": null,
            "grid_auto_columns": null,
            "grid_auto_flow": null,
            "grid_auto_rows": null,
            "grid_column": null,
            "grid_gap": null,
            "grid_row": null,
            "grid_template_areas": null,
            "grid_template_columns": null,
            "grid_template_rows": null,
            "height": null,
            "justify_content": null,
            "justify_items": null,
            "left": null,
            "margin": null,
            "max_height": null,
            "max_width": null,
            "min_height": null,
            "min_width": null,
            "object_fit": null,
            "object_position": null,
            "order": null,
            "overflow": null,
            "overflow_x": null,
            "overflow_y": null,
            "padding": null,
            "right": null,
            "top": null,
            "visibility": null,
            "width": null
          }
        },
        "8679345428184b468947b5915ec792e4": {
          "model_module": "@jupyter-widgets/controls",
          "model_name": "DescriptionStyleModel",
          "model_module_version": "1.5.0",
          "state": {
            "_model_module": "@jupyter-widgets/controls",
            "_model_module_version": "1.5.0",
            "_model_name": "DescriptionStyleModel",
            "_view_count": null,
            "_view_module": "@jupyter-widgets/base",
            "_view_module_version": "1.2.0",
            "_view_name": "StyleView",
            "description_width": ""
          }
        },
        "95edb3e292cb43668fd6452e76951a20": {
          "model_module": "@jupyter-widgets/controls",
          "model_name": "LabelModel",
          "model_module_version": "1.5.0",
          "state": {
            "_dom_classes": [],
            "_model_module": "@jupyter-widgets/controls",
            "_model_module_version": "1.5.0",
            "_model_name": "LabelModel",
            "_view_count": null,
            "_view_module": "@jupyter-widgets/controls",
            "_view_module_version": "1.5.0",
            "_view_name": "LabelView",
            "description": "",
            "description_tooltip": null,
            "layout": "IPY_MODEL_6bbc8cda57f741109356af50493a6636",
            "placeholder": "​",
            "style": "IPY_MODEL_6c4bf28f472148e29726fb6df41ec9d6",
            "value": "Connecting..."
          }
        },
        "6bbc8cda57f741109356af50493a6636": {
          "model_module": "@jupyter-widgets/base",
          "model_name": "LayoutModel",
          "model_module_version": "1.2.0",
          "state": {
            "_model_module": "@jupyter-widgets/base",
            "_model_module_version": "1.2.0",
            "_model_name": "LayoutModel",
            "_view_count": null,
            "_view_module": "@jupyter-widgets/base",
            "_view_module_version": "1.2.0",
            "_view_name": "LayoutView",
            "align_content": null,
            "align_items": null,
            "align_self": null,
            "border": null,
            "bottom": null,
            "display": null,
            "flex": null,
            "flex_flow": null,
            "grid_area": null,
            "grid_auto_columns": null,
            "grid_auto_flow": null,
            "grid_auto_rows": null,
            "grid_column": null,
            "grid_gap": null,
            "grid_row": null,
            "grid_template_areas": null,
            "grid_template_columns": null,
            "grid_template_rows": null,
            "height": null,
            "justify_content": null,
            "justify_items": null,
            "left": null,
            "margin": null,
            "max_height": null,
            "max_width": null,
            "min_height": null,
            "min_width": null,
            "object_fit": null,
            "object_position": null,
            "order": null,
            "overflow": null,
            "overflow_x": null,
            "overflow_y": null,
            "padding": null,
            "right": null,
            "top": null,
            "visibility": null,
            "width": null
          }
        },
        "6c4bf28f472148e29726fb6df41ec9d6": {
          "model_module": "@jupyter-widgets/controls",
          "model_name": "DescriptionStyleModel",
          "model_module_version": "1.5.0",
          "state": {
            "_model_module": "@jupyter-widgets/controls",
            "_model_module_version": "1.5.0",
            "_model_name": "DescriptionStyleModel",
            "_view_count": null,
            "_view_module": "@jupyter-widgets/base",
            "_view_module_version": "1.2.0",
            "_view_name": "StyleView",
            "description_width": ""
          }
        },
        "f592f9ed67d84adbb534895ba7b34e8f": {
          "model_module": "@jupyter-widgets/controls",
          "model_name": "LabelModel",
          "model_module_version": "1.5.0",
          "state": {
            "_dom_classes": [],
            "_model_module": "@jupyter-widgets/controls",
            "_model_module_version": "1.5.0",
            "_model_name": "LabelModel",
            "_view_count": null,
            "_view_module": "@jupyter-widgets/controls",
            "_view_module_version": "1.5.0",
            "_view_name": "LabelView",
            "description": "",
            "description_tooltip": null,
            "layout": "IPY_MODEL_e0ebe0a2fcbc45939ba161622eafbc9a",
            "placeholder": "​",
            "style": "IPY_MODEL_fffed27026184c4baa390ba2d76d0914",
            "value": "Token is valid (permission: write)."
          }
        },
        "ba7c76adf8244c7693c14904c3f115f9": {
          "model_module": "@jupyter-widgets/controls",
          "model_name": "LabelModel",
          "model_module_version": "1.5.0",
          "state": {
            "_dom_classes": [],
            "_model_module": "@jupyter-widgets/controls",
            "_model_module_version": "1.5.0",
            "_model_name": "LabelModel",
            "_view_count": null,
            "_view_module": "@jupyter-widgets/controls",
            "_view_module_version": "1.5.0",
            "_view_name": "LabelView",
            "description": "",
            "description_tooltip": null,
            "layout": "IPY_MODEL_c6370b041c594823aeb1ce57970d141e",
            "placeholder": "​",
            "style": "IPY_MODEL_de6532717fc34e0bb39623e360976291",
            "value": "Your token has been saved in your configured git credential helpers (store)."
          }
        },
        "0271b5c7c1b94ce78a424296a3a5e8e4": {
          "model_module": "@jupyter-widgets/controls",
          "model_name": "LabelModel",
          "model_module_version": "1.5.0",
          "state": {
            "_dom_classes": [],
            "_model_module": "@jupyter-widgets/controls",
            "_model_module_version": "1.5.0",
            "_model_name": "LabelModel",
            "_view_count": null,
            "_view_module": "@jupyter-widgets/controls",
            "_view_module_version": "1.5.0",
            "_view_name": "LabelView",
            "description": "",
            "description_tooltip": null,
            "layout": "IPY_MODEL_d6b1717c4b3f43ea91db98b0f410cf97",
            "placeholder": "​",
            "style": "IPY_MODEL_8602dea130a34c39ace94d090bfb35ca",
            "value": "Your token has been saved to /root/.cache/huggingface/token"
          }
        },
        "280b33234e9346d8a9873dcec102261e": {
          "model_module": "@jupyter-widgets/controls",
          "model_name": "LabelModel",
          "model_module_version": "1.5.0",
          "state": {
            "_dom_classes": [],
            "_model_module": "@jupyter-widgets/controls",
            "_model_module_version": "1.5.0",
            "_model_name": "LabelModel",
            "_view_count": null,
            "_view_module": "@jupyter-widgets/controls",
            "_view_module_version": "1.5.0",
            "_view_name": "LabelView",
            "description": "",
            "description_tooltip": null,
            "layout": "IPY_MODEL_9c9ed037938b4f8eb3a147d768f48ad5",
            "placeholder": "​",
            "style": "IPY_MODEL_7bd7771af46746299cd3a37d366e0913",
            "value": "Login successful"
          }
        },
        "e0ebe0a2fcbc45939ba161622eafbc9a": {
          "model_module": "@jupyter-widgets/base",
          "model_name": "LayoutModel",
          "model_module_version": "1.2.0",
          "state": {
            "_model_module": "@jupyter-widgets/base",
            "_model_module_version": "1.2.0",
            "_model_name": "LayoutModel",
            "_view_count": null,
            "_view_module": "@jupyter-widgets/base",
            "_view_module_version": "1.2.0",
            "_view_name": "LayoutView",
            "align_content": null,
            "align_items": null,
            "align_self": null,
            "border": null,
            "bottom": null,
            "display": null,
            "flex": null,
            "flex_flow": null,
            "grid_area": null,
            "grid_auto_columns": null,
            "grid_auto_flow": null,
            "grid_auto_rows": null,
            "grid_column": null,
            "grid_gap": null,
            "grid_row": null,
            "grid_template_areas": null,
            "grid_template_columns": null,
            "grid_template_rows": null,
            "height": null,
            "justify_content": null,
            "justify_items": null,
            "left": null,
            "margin": null,
            "max_height": null,
            "max_width": null,
            "min_height": null,
            "min_width": null,
            "object_fit": null,
            "object_position": null,
            "order": null,
            "overflow": null,
            "overflow_x": null,
            "overflow_y": null,
            "padding": null,
            "right": null,
            "top": null,
            "visibility": null,
            "width": null
          }
        },
        "fffed27026184c4baa390ba2d76d0914": {
          "model_module": "@jupyter-widgets/controls",
          "model_name": "DescriptionStyleModel",
          "model_module_version": "1.5.0",
          "state": {
            "_model_module": "@jupyter-widgets/controls",
            "_model_module_version": "1.5.0",
            "_model_name": "DescriptionStyleModel",
            "_view_count": null,
            "_view_module": "@jupyter-widgets/base",
            "_view_module_version": "1.2.0",
            "_view_name": "StyleView",
            "description_width": ""
          }
        },
        "c6370b041c594823aeb1ce57970d141e": {
          "model_module": "@jupyter-widgets/base",
          "model_name": "LayoutModel",
          "model_module_version": "1.2.0",
          "state": {
            "_model_module": "@jupyter-widgets/base",
            "_model_module_version": "1.2.0",
            "_model_name": "LayoutModel",
            "_view_count": null,
            "_view_module": "@jupyter-widgets/base",
            "_view_module_version": "1.2.0",
            "_view_name": "LayoutView",
            "align_content": null,
            "align_items": null,
            "align_self": null,
            "border": null,
            "bottom": null,
            "display": null,
            "flex": null,
            "flex_flow": null,
            "grid_area": null,
            "grid_auto_columns": null,
            "grid_auto_flow": null,
            "grid_auto_rows": null,
            "grid_column": null,
            "grid_gap": null,
            "grid_row": null,
            "grid_template_areas": null,
            "grid_template_columns": null,
            "grid_template_rows": null,
            "height": null,
            "justify_content": null,
            "justify_items": null,
            "left": null,
            "margin": null,
            "max_height": null,
            "max_width": null,
            "min_height": null,
            "min_width": null,
            "object_fit": null,
            "object_position": null,
            "order": null,
            "overflow": null,
            "overflow_x": null,
            "overflow_y": null,
            "padding": null,
            "right": null,
            "top": null,
            "visibility": null,
            "width": null
          }
        },
        "de6532717fc34e0bb39623e360976291": {
          "model_module": "@jupyter-widgets/controls",
          "model_name": "DescriptionStyleModel",
          "model_module_version": "1.5.0",
          "state": {
            "_model_module": "@jupyter-widgets/controls",
            "_model_module_version": "1.5.0",
            "_model_name": "DescriptionStyleModel",
            "_view_count": null,
            "_view_module": "@jupyter-widgets/base",
            "_view_module_version": "1.2.0",
            "_view_name": "StyleView",
            "description_width": ""
          }
        },
        "d6b1717c4b3f43ea91db98b0f410cf97": {
          "model_module": "@jupyter-widgets/base",
          "model_name": "LayoutModel",
          "model_module_version": "1.2.0",
          "state": {
            "_model_module": "@jupyter-widgets/base",
            "_model_module_version": "1.2.0",
            "_model_name": "LayoutModel",
            "_view_count": null,
            "_view_module": "@jupyter-widgets/base",
            "_view_module_version": "1.2.0",
            "_view_name": "LayoutView",
            "align_content": null,
            "align_items": null,
            "align_self": null,
            "border": null,
            "bottom": null,
            "display": null,
            "flex": null,
            "flex_flow": null,
            "grid_area": null,
            "grid_auto_columns": null,
            "grid_auto_flow": null,
            "grid_auto_rows": null,
            "grid_column": null,
            "grid_gap": null,
            "grid_row": null,
            "grid_template_areas": null,
            "grid_template_columns": null,
            "grid_template_rows": null,
            "height": null,
            "justify_content": null,
            "justify_items": null,
            "left": null,
            "margin": null,
            "max_height": null,
            "max_width": null,
            "min_height": null,
            "min_width": null,
            "object_fit": null,
            "object_position": null,
            "order": null,
            "overflow": null,
            "overflow_x": null,
            "overflow_y": null,
            "padding": null,
            "right": null,
            "top": null,
            "visibility": null,
            "width": null
          }
        },
        "8602dea130a34c39ace94d090bfb35ca": {
          "model_module": "@jupyter-widgets/controls",
          "model_name": "DescriptionStyleModel",
          "model_module_version": "1.5.0",
          "state": {
            "_model_module": "@jupyter-widgets/controls",
            "_model_module_version": "1.5.0",
            "_model_name": "DescriptionStyleModel",
            "_view_count": null,
            "_view_module": "@jupyter-widgets/base",
            "_view_module_version": "1.2.0",
            "_view_name": "StyleView",
            "description_width": ""
          }
        },
        "9c9ed037938b4f8eb3a147d768f48ad5": {
          "model_module": "@jupyter-widgets/base",
          "model_name": "LayoutModel",
          "model_module_version": "1.2.0",
          "state": {
            "_model_module": "@jupyter-widgets/base",
            "_model_module_version": "1.2.0",
            "_model_name": "LayoutModel",
            "_view_count": null,
            "_view_module": "@jupyter-widgets/base",
            "_view_module_version": "1.2.0",
            "_view_name": "LayoutView",
            "align_content": null,
            "align_items": null,
            "align_self": null,
            "border": null,
            "bottom": null,
            "display": null,
            "flex": null,
            "flex_flow": null,
            "grid_area": null,
            "grid_auto_columns": null,
            "grid_auto_flow": null,
            "grid_auto_rows": null,
            "grid_column": null,
            "grid_gap": null,
            "grid_row": null,
            "grid_template_areas": null,
            "grid_template_columns": null,
            "grid_template_rows": null,
            "height": null,
            "justify_content": null,
            "justify_items": null,
            "left": null,
            "margin": null,
            "max_height": null,
            "max_width": null,
            "min_height": null,
            "min_width": null,
            "object_fit": null,
            "object_position": null,
            "order": null,
            "overflow": null,
            "overflow_x": null,
            "overflow_y": null,
            "padding": null,
            "right": null,
            "top": null,
            "visibility": null,
            "width": null
          }
        },
        "7bd7771af46746299cd3a37d366e0913": {
          "model_module": "@jupyter-widgets/controls",
          "model_name": "DescriptionStyleModel",
          "model_module_version": "1.5.0",
          "state": {
            "_model_module": "@jupyter-widgets/controls",
            "_model_module_version": "1.5.0",
            "_model_name": "DescriptionStyleModel",
            "_view_count": null,
            "_view_module": "@jupyter-widgets/base",
            "_view_module_version": "1.2.0",
            "_view_name": "StyleView",
            "description_width": ""
          }
        },
        "75a2627bdd10409e8987367aee79774e": {
          "model_module": "@jupyter-widgets/controls",
          "model_name": "HBoxModel",
          "model_module_version": "1.5.0",
          "state": {
            "_dom_classes": [],
            "_model_module": "@jupyter-widgets/controls",
            "_model_module_version": "1.5.0",
            "_model_name": "HBoxModel",
            "_view_count": null,
            "_view_module": "@jupyter-widgets/controls",
            "_view_module_version": "1.5.0",
            "_view_name": "HBoxView",
            "box_style": "",
            "children": [
              "IPY_MODEL_9dbf8e9f36cb4f04a1a5497701e5a558",
              "IPY_MODEL_e8850fa8df8943fb9542d3fc937eee7e",
              "IPY_MODEL_0d67433ee26e4f6499ac03f10f0f7288"
            ],
            "layout": "IPY_MODEL_d519ffc25c5e4e6e8c6fc17475855493"
          }
        },
        "9dbf8e9f36cb4f04a1a5497701e5a558": {
          "model_module": "@jupyter-widgets/controls",
          "model_name": "HTMLModel",
          "model_module_version": "1.5.0",
          "state": {
            "_dom_classes": [],
            "_model_module": "@jupyter-widgets/controls",
            "_model_module_version": "1.5.0",
            "_model_name": "HTMLModel",
            "_view_count": null,
            "_view_module": "@jupyter-widgets/controls",
            "_view_module_version": "1.5.0",
            "_view_name": "HTMLView",
            "description": "",
            "description_tooltip": null,
            "layout": "IPY_MODEL_a3370e8845e34e7f9f6e686a3325b9b9",
            "placeholder": "​",
            "style": "IPY_MODEL_2d1d11b115cf4aef8205e2f9858b0bfb",
            "value": "Downloading: "
          }
        },
        "e8850fa8df8943fb9542d3fc937eee7e": {
          "model_module": "@jupyter-widgets/controls",
          "model_name": "FloatProgressModel",
          "model_module_version": "1.5.0",
          "state": {
            "_dom_classes": [],
            "_model_module": "@jupyter-widgets/controls",
            "_model_module_version": "1.5.0",
            "_model_name": "FloatProgressModel",
            "_view_count": null,
            "_view_module": "@jupyter-widgets/controls",
            "_view_module_version": "1.5.0",
            "_view_name": "ProgressView",
            "bar_style": "success",
            "description": "",
            "description_tooltip": null,
            "layout": "IPY_MODEL_571ce6b54cef408d9f1330399d132b96",
            "max": 4620,
            "min": 0,
            "orientation": "horizontal",
            "style": "IPY_MODEL_1672b8966cc445979c65aef60015d931",
            "value": 4620
          }
        },
        "0d67433ee26e4f6499ac03f10f0f7288": {
          "model_module": "@jupyter-widgets/controls",
          "model_name": "HTMLModel",
          "model_module_version": "1.5.0",
          "state": {
            "_dom_classes": [],
            "_model_module": "@jupyter-widgets/controls",
            "_model_module_version": "1.5.0",
            "_model_name": "HTMLModel",
            "_view_count": null,
            "_view_module": "@jupyter-widgets/controls",
            "_view_module_version": "1.5.0",
            "_view_name": "HTMLView",
            "description": "",
            "description_tooltip": null,
            "layout": "IPY_MODEL_5d05b284024e40bdb2ddba2e853569c5",
            "placeholder": "​",
            "style": "IPY_MODEL_9b1b1d0a24a84513a93a135831049b14",
            "value": " 23.3k/? [00:00&lt;00:00, 1.67MB/s]"
          }
        },
        "d519ffc25c5e4e6e8c6fc17475855493": {
          "model_module": "@jupyter-widgets/base",
          "model_name": "LayoutModel",
          "model_module_version": "1.2.0",
          "state": {
            "_model_module": "@jupyter-widgets/base",
            "_model_module_version": "1.2.0",
            "_model_name": "LayoutModel",
            "_view_count": null,
            "_view_module": "@jupyter-widgets/base",
            "_view_module_version": "1.2.0",
            "_view_name": "LayoutView",
            "align_content": null,
            "align_items": null,
            "align_self": null,
            "border": null,
            "bottom": null,
            "display": null,
            "flex": null,
            "flex_flow": null,
            "grid_area": null,
            "grid_auto_columns": null,
            "grid_auto_flow": null,
            "grid_auto_rows": null,
            "grid_column": null,
            "grid_gap": null,
            "grid_row": null,
            "grid_template_areas": null,
            "grid_template_columns": null,
            "grid_template_rows": null,
            "height": null,
            "justify_content": null,
            "justify_items": null,
            "left": null,
            "margin": null,
            "max_height": null,
            "max_width": null,
            "min_height": null,
            "min_width": null,
            "object_fit": null,
            "object_position": null,
            "order": null,
            "overflow": null,
            "overflow_x": null,
            "overflow_y": null,
            "padding": null,
            "right": null,
            "top": null,
            "visibility": null,
            "width": null
          }
        },
        "a3370e8845e34e7f9f6e686a3325b9b9": {
          "model_module": "@jupyter-widgets/base",
          "model_name": "LayoutModel",
          "model_module_version": "1.2.0",
          "state": {
            "_model_module": "@jupyter-widgets/base",
            "_model_module_version": "1.2.0",
            "_model_name": "LayoutModel",
            "_view_count": null,
            "_view_module": "@jupyter-widgets/base",
            "_view_module_version": "1.2.0",
            "_view_name": "LayoutView",
            "align_content": null,
            "align_items": null,
            "align_self": null,
            "border": null,
            "bottom": null,
            "display": null,
            "flex": null,
            "flex_flow": null,
            "grid_area": null,
            "grid_auto_columns": null,
            "grid_auto_flow": null,
            "grid_auto_rows": null,
            "grid_column": null,
            "grid_gap": null,
            "grid_row": null,
            "grid_template_areas": null,
            "grid_template_columns": null,
            "grid_template_rows": null,
            "height": null,
            "justify_content": null,
            "justify_items": null,
            "left": null,
            "margin": null,
            "max_height": null,
            "max_width": null,
            "min_height": null,
            "min_width": null,
            "object_fit": null,
            "object_position": null,
            "order": null,
            "overflow": null,
            "overflow_x": null,
            "overflow_y": null,
            "padding": null,
            "right": null,
            "top": null,
            "visibility": null,
            "width": null
          }
        },
        "2d1d11b115cf4aef8205e2f9858b0bfb": {
          "model_module": "@jupyter-widgets/controls",
          "model_name": "DescriptionStyleModel",
          "model_module_version": "1.5.0",
          "state": {
            "_model_module": "@jupyter-widgets/controls",
            "_model_module_version": "1.5.0",
            "_model_name": "DescriptionStyleModel",
            "_view_count": null,
            "_view_module": "@jupyter-widgets/base",
            "_view_module_version": "1.2.0",
            "_view_name": "StyleView",
            "description_width": ""
          }
        },
        "571ce6b54cef408d9f1330399d132b96": {
          "model_module": "@jupyter-widgets/base",
          "model_name": "LayoutModel",
          "model_module_version": "1.2.0",
          "state": {
            "_model_module": "@jupyter-widgets/base",
            "_model_module_version": "1.2.0",
            "_model_name": "LayoutModel",
            "_view_count": null,
            "_view_module": "@jupyter-widgets/base",
            "_view_module_version": "1.2.0",
            "_view_name": "LayoutView",
            "align_content": null,
            "align_items": null,
            "align_self": null,
            "border": null,
            "bottom": null,
            "display": null,
            "flex": null,
            "flex_flow": null,
            "grid_area": null,
            "grid_auto_columns": null,
            "grid_auto_flow": null,
            "grid_auto_rows": null,
            "grid_column": null,
            "grid_gap": null,
            "grid_row": null,
            "grid_template_areas": null,
            "grid_template_columns": null,
            "grid_template_rows": null,
            "height": null,
            "justify_content": null,
            "justify_items": null,
            "left": null,
            "margin": null,
            "max_height": null,
            "max_width": null,
            "min_height": null,
            "min_width": null,
            "object_fit": null,
            "object_position": null,
            "order": null,
            "overflow": null,
            "overflow_x": null,
            "overflow_y": null,
            "padding": null,
            "right": null,
            "top": null,
            "visibility": null,
            "width": null
          }
        },
        "1672b8966cc445979c65aef60015d931": {
          "model_module": "@jupyter-widgets/controls",
          "model_name": "ProgressStyleModel",
          "model_module_version": "1.5.0",
          "state": {
            "_model_module": "@jupyter-widgets/controls",
            "_model_module_version": "1.5.0",
            "_model_name": "ProgressStyleModel",
            "_view_count": null,
            "_view_module": "@jupyter-widgets/base",
            "_view_module_version": "1.2.0",
            "_view_name": "StyleView",
            "bar_color": null,
            "description_width": ""
          }
        },
        "5d05b284024e40bdb2ddba2e853569c5": {
          "model_module": "@jupyter-widgets/base",
          "model_name": "LayoutModel",
          "model_module_version": "1.2.0",
          "state": {
            "_model_module": "@jupyter-widgets/base",
            "_model_module_version": "1.2.0",
            "_model_name": "LayoutModel",
            "_view_count": null,
            "_view_module": "@jupyter-widgets/base",
            "_view_module_version": "1.2.0",
            "_view_name": "LayoutView",
            "align_content": null,
            "align_items": null,
            "align_self": null,
            "border": null,
            "bottom": null,
            "display": null,
            "flex": null,
            "flex_flow": null,
            "grid_area": null,
            "grid_auto_columns": null,
            "grid_auto_flow": null,
            "grid_auto_rows": null,
            "grid_column": null,
            "grid_gap": null,
            "grid_row": null,
            "grid_template_areas": null,
            "grid_template_columns": null,
            "grid_template_rows": null,
            "height": null,
            "justify_content": null,
            "justify_items": null,
            "left": null,
            "margin": null,
            "max_height": null,
            "max_width": null,
            "min_height": null,
            "min_width": null,
            "object_fit": null,
            "object_position": null,
            "order": null,
            "overflow": null,
            "overflow_x": null,
            "overflow_y": null,
            "padding": null,
            "right": null,
            "top": null,
            "visibility": null,
            "width": null
          }
        },
        "9b1b1d0a24a84513a93a135831049b14": {
          "model_module": "@jupyter-widgets/controls",
          "model_name": "DescriptionStyleModel",
          "model_module_version": "1.5.0",
          "state": {
            "_model_module": "@jupyter-widgets/controls",
            "_model_module_version": "1.5.0",
            "_model_name": "DescriptionStyleModel",
            "_view_count": null,
            "_view_module": "@jupyter-widgets/base",
            "_view_module_version": "1.2.0",
            "_view_name": "StyleView",
            "description_width": ""
          }
        },
        "ae053164a9fd4d9aaef5f6be8151d773": {
          "model_module": "@jupyter-widgets/controls",
          "model_name": "HBoxModel",
          "model_module_version": "1.5.0",
          "state": {
            "_dom_classes": [],
            "_model_module": "@jupyter-widgets/controls",
            "_model_module_version": "1.5.0",
            "_model_name": "HBoxModel",
            "_view_count": null,
            "_view_module": "@jupyter-widgets/controls",
            "_view_module_version": "1.5.0",
            "_view_name": "HBoxView",
            "box_style": "",
            "children": [
              "IPY_MODEL_24cfbad1c12a4fdb92edabea317d97bb",
              "IPY_MODEL_df029cbf94f346a6afc50037d3f88ff6",
              "IPY_MODEL_3794072f023f43ec9c65b820518d9fc0"
            ],
            "layout": "IPY_MODEL_98a1a0186b1b4684baf83cc2a99bcd45"
          }
        },
        "24cfbad1c12a4fdb92edabea317d97bb": {
          "model_module": "@jupyter-widgets/controls",
          "model_name": "HTMLModel",
          "model_module_version": "1.5.0",
          "state": {
            "_dom_classes": [],
            "_model_module": "@jupyter-widgets/controls",
            "_model_module_version": "1.5.0",
            "_model_name": "HTMLModel",
            "_view_count": null,
            "_view_module": "@jupyter-widgets/controls",
            "_view_module_version": "1.5.0",
            "_view_name": "HTMLView",
            "description": "",
            "description_tooltip": null,
            "layout": "IPY_MODEL_a2c180229e594385928f60c7832121e1",
            "placeholder": "​",
            "style": "IPY_MODEL_8d3142f157c348abb9c8f7163580b8c5",
            "value": "Downloading: "
          }
        },
        "df029cbf94f346a6afc50037d3f88ff6": {
          "model_module": "@jupyter-widgets/controls",
          "model_name": "FloatProgressModel",
          "model_module_version": "1.5.0",
          "state": {
            "_dom_classes": [],
            "_model_module": "@jupyter-widgets/controls",
            "_model_module_version": "1.5.0",
            "_model_name": "FloatProgressModel",
            "_view_count": null,
            "_view_module": "@jupyter-widgets/controls",
            "_view_module_version": "1.5.0",
            "_view_name": "ProgressView",
            "bar_style": "success",
            "description": "",
            "description_tooltip": null,
            "layout": "IPY_MODEL_a8d05239c77349dfba9738678e07623c",
            "max": 10657,
            "min": 0,
            "orientation": "horizontal",
            "style": "IPY_MODEL_60c57febbed743149102309eec18ead8",
            "value": 10657
          }
        },
        "3794072f023f43ec9c65b820518d9fc0": {
          "model_module": "@jupyter-widgets/controls",
          "model_name": "HTMLModel",
          "model_module_version": "1.5.0",
          "state": {
            "_dom_classes": [],
            "_model_module": "@jupyter-widgets/controls",
            "_model_module_version": "1.5.0",
            "_model_name": "HTMLModel",
            "_view_count": null,
            "_view_module": "@jupyter-widgets/controls",
            "_view_module_version": "1.5.0",
            "_view_name": "HTMLView",
            "description": "",
            "description_tooltip": null,
            "layout": "IPY_MODEL_6444990d59ea45fcb29960cf240cb5bd",
            "placeholder": "​",
            "style": "IPY_MODEL_23583990909f458ba72766436c6b9478",
            "value": " 168k/? [00:00&lt;00:00, 11.8MB/s]"
          }
        },
        "98a1a0186b1b4684baf83cc2a99bcd45": {
          "model_module": "@jupyter-widgets/base",
          "model_name": "LayoutModel",
          "model_module_version": "1.2.0",
          "state": {
            "_model_module": "@jupyter-widgets/base",
            "_model_module_version": "1.2.0",
            "_model_name": "LayoutModel",
            "_view_count": null,
            "_view_module": "@jupyter-widgets/base",
            "_view_module_version": "1.2.0",
            "_view_name": "LayoutView",
            "align_content": null,
            "align_items": null,
            "align_self": null,
            "border": null,
            "bottom": null,
            "display": null,
            "flex": null,
            "flex_flow": null,
            "grid_area": null,
            "grid_auto_columns": null,
            "grid_auto_flow": null,
            "grid_auto_rows": null,
            "grid_column": null,
            "grid_gap": null,
            "grid_row": null,
            "grid_template_areas": null,
            "grid_template_columns": null,
            "grid_template_rows": null,
            "height": null,
            "justify_content": null,
            "justify_items": null,
            "left": null,
            "margin": null,
            "max_height": null,
            "max_width": null,
            "min_height": null,
            "min_width": null,
            "object_fit": null,
            "object_position": null,
            "order": null,
            "overflow": null,
            "overflow_x": null,
            "overflow_y": null,
            "padding": null,
            "right": null,
            "top": null,
            "visibility": null,
            "width": null
          }
        },
        "a2c180229e594385928f60c7832121e1": {
          "model_module": "@jupyter-widgets/base",
          "model_name": "LayoutModel",
          "model_module_version": "1.2.0",
          "state": {
            "_model_module": "@jupyter-widgets/base",
            "_model_module_version": "1.2.0",
            "_model_name": "LayoutModel",
            "_view_count": null,
            "_view_module": "@jupyter-widgets/base",
            "_view_module_version": "1.2.0",
            "_view_name": "LayoutView",
            "align_content": null,
            "align_items": null,
            "align_self": null,
            "border": null,
            "bottom": null,
            "display": null,
            "flex": null,
            "flex_flow": null,
            "grid_area": null,
            "grid_auto_columns": null,
            "grid_auto_flow": null,
            "grid_auto_rows": null,
            "grid_column": null,
            "grid_gap": null,
            "grid_row": null,
            "grid_template_areas": null,
            "grid_template_columns": null,
            "grid_template_rows": null,
            "height": null,
            "justify_content": null,
            "justify_items": null,
            "left": null,
            "margin": null,
            "max_height": null,
            "max_width": null,
            "min_height": null,
            "min_width": null,
            "object_fit": null,
            "object_position": null,
            "order": null,
            "overflow": null,
            "overflow_x": null,
            "overflow_y": null,
            "padding": null,
            "right": null,
            "top": null,
            "visibility": null,
            "width": null
          }
        },
        "8d3142f157c348abb9c8f7163580b8c5": {
          "model_module": "@jupyter-widgets/controls",
          "model_name": "DescriptionStyleModel",
          "model_module_version": "1.5.0",
          "state": {
            "_model_module": "@jupyter-widgets/controls",
            "_model_module_version": "1.5.0",
            "_model_name": "DescriptionStyleModel",
            "_view_count": null,
            "_view_module": "@jupyter-widgets/base",
            "_view_module_version": "1.2.0",
            "_view_name": "StyleView",
            "description_width": ""
          }
        },
        "a8d05239c77349dfba9738678e07623c": {
          "model_module": "@jupyter-widgets/base",
          "model_name": "LayoutModel",
          "model_module_version": "1.2.0",
          "state": {
            "_model_module": "@jupyter-widgets/base",
            "_model_module_version": "1.2.0",
            "_model_name": "LayoutModel",
            "_view_count": null,
            "_view_module": "@jupyter-widgets/base",
            "_view_module_version": "1.2.0",
            "_view_name": "LayoutView",
            "align_content": null,
            "align_items": null,
            "align_self": null,
            "border": null,
            "bottom": null,
            "display": null,
            "flex": null,
            "flex_flow": null,
            "grid_area": null,
            "grid_auto_columns": null,
            "grid_auto_flow": null,
            "grid_auto_rows": null,
            "grid_column": null,
            "grid_gap": null,
            "grid_row": null,
            "grid_template_areas": null,
            "grid_template_columns": null,
            "grid_template_rows": null,
            "height": null,
            "justify_content": null,
            "justify_items": null,
            "left": null,
            "margin": null,
            "max_height": null,
            "max_width": null,
            "min_height": null,
            "min_width": null,
            "object_fit": null,
            "object_position": null,
            "order": null,
            "overflow": null,
            "overflow_x": null,
            "overflow_y": null,
            "padding": null,
            "right": null,
            "top": null,
            "visibility": null,
            "width": null
          }
        },
        "60c57febbed743149102309eec18ead8": {
          "model_module": "@jupyter-widgets/controls",
          "model_name": "ProgressStyleModel",
          "model_module_version": "1.5.0",
          "state": {
            "_model_module": "@jupyter-widgets/controls",
            "_model_module_version": "1.5.0",
            "_model_name": "ProgressStyleModel",
            "_view_count": null,
            "_view_module": "@jupyter-widgets/base",
            "_view_module_version": "1.2.0",
            "_view_name": "StyleView",
            "bar_color": null,
            "description_width": ""
          }
        },
        "6444990d59ea45fcb29960cf240cb5bd": {
          "model_module": "@jupyter-widgets/base",
          "model_name": "LayoutModel",
          "model_module_version": "1.2.0",
          "state": {
            "_model_module": "@jupyter-widgets/base",
            "_model_module_version": "1.2.0",
            "_model_name": "LayoutModel",
            "_view_count": null,
            "_view_module": "@jupyter-widgets/base",
            "_view_module_version": "1.2.0",
            "_view_name": "LayoutView",
            "align_content": null,
            "align_items": null,
            "align_self": null,
            "border": null,
            "bottom": null,
            "display": null,
            "flex": null,
            "flex_flow": null,
            "grid_area": null,
            "grid_auto_columns": null,
            "grid_auto_flow": null,
            "grid_auto_rows": null,
            "grid_column": null,
            "grid_gap": null,
            "grid_row": null,
            "grid_template_areas": null,
            "grid_template_columns": null,
            "grid_template_rows": null,
            "height": null,
            "justify_content": null,
            "justify_items": null,
            "left": null,
            "margin": null,
            "max_height": null,
            "max_width": null,
            "min_height": null,
            "min_width": null,
            "object_fit": null,
            "object_position": null,
            "order": null,
            "overflow": null,
            "overflow_x": null,
            "overflow_y": null,
            "padding": null,
            "right": null,
            "top": null,
            "visibility": null,
            "width": null
          }
        },
        "23583990909f458ba72766436c6b9478": {
          "model_module": "@jupyter-widgets/controls",
          "model_name": "DescriptionStyleModel",
          "model_module_version": "1.5.0",
          "state": {
            "_model_module": "@jupyter-widgets/controls",
            "_model_module_version": "1.5.0",
            "_model_name": "DescriptionStyleModel",
            "_view_count": null,
            "_view_module": "@jupyter-widgets/base",
            "_view_module_version": "1.2.0",
            "_view_name": "StyleView",
            "description_width": ""
          }
        },
        "cb512abc6ee24edaa8c405581734d934": {
          "model_module": "@jupyter-widgets/controls",
          "model_name": "HBoxModel",
          "model_module_version": "1.5.0",
          "state": {
            "_dom_classes": [],
            "_model_module": "@jupyter-widgets/controls",
            "_model_module_version": "1.5.0",
            "_model_name": "HBoxModel",
            "_view_count": null,
            "_view_module": "@jupyter-widgets/controls",
            "_view_module_version": "1.5.0",
            "_view_name": "HBoxView",
            "box_style": "",
            "children": [
              "IPY_MODEL_2ce22a8b2c324e82b56263e25780acea",
              "IPY_MODEL_030abcc86d4f46658f7f66d48085b49a",
              "IPY_MODEL_d93bb540fe3c418d8b07169e5c8ed367"
            ],
            "layout": "IPY_MODEL_0b57021beb824f2fa4ef3b3f1981c850"
          }
        },
        "2ce22a8b2c324e82b56263e25780acea": {
          "model_module": "@jupyter-widgets/controls",
          "model_name": "HTMLModel",
          "model_module_version": "1.5.0",
          "state": {
            "_dom_classes": [],
            "_model_module": "@jupyter-widgets/controls",
            "_model_module_version": "1.5.0",
            "_model_name": "HTMLModel",
            "_view_count": null,
            "_view_module": "@jupyter-widgets/controls",
            "_view_module_version": "1.5.0",
            "_view_name": "HTMLView",
            "description": "",
            "description_tooltip": null,
            "layout": "IPY_MODEL_ebc57c43d867441c9bb48f3427825fe3",
            "placeholder": "​",
            "style": "IPY_MODEL_8133669691df4972a740f7aaaf42599f",
            "value": "Downloading: 100%"
          }
        },
        "030abcc86d4f46658f7f66d48085b49a": {
          "model_module": "@jupyter-widgets/controls",
          "model_name": "FloatProgressModel",
          "model_module_version": "1.5.0",
          "state": {
            "_dom_classes": [],
            "_model_module": "@jupyter-widgets/controls",
            "_model_module_version": "1.5.0",
            "_model_name": "FloatProgressModel",
            "_view_count": null,
            "_view_module": "@jupyter-widgets/controls",
            "_view_module_version": "1.5.0",
            "_view_name": "ProgressView",
            "bar_style": "success",
            "description": "",
            "description_tooltip": null,
            "layout": "IPY_MODEL_32f9f1d43a6141eb8a6e8349544f06e0",
            "max": 16188844718,
            "min": 0,
            "orientation": "horizontal",
            "style": "IPY_MODEL_3f001170bdba49bbb82c5d3935c0fde6",
            "value": 16188844718
          }
        },
        "d93bb540fe3c418d8b07169e5c8ed367": {
          "model_module": "@jupyter-widgets/controls",
          "model_name": "HTMLModel",
          "model_module_version": "1.5.0",
          "state": {
            "_dom_classes": [],
            "_model_module": "@jupyter-widgets/controls",
            "_model_module_version": "1.5.0",
            "_model_name": "HTMLModel",
            "_view_count": null,
            "_view_module": "@jupyter-widgets/controls",
            "_view_module_version": "1.5.0",
            "_view_name": "HTMLView",
            "description": "",
            "description_tooltip": null,
            "layout": "IPY_MODEL_72d73eae224040ac955a634ae1aff26a",
            "placeholder": "​",
            "style": "IPY_MODEL_5144fa9856a24d03bb771937874e1383",
            "value": " 16.2G/16.2G [15:53&lt;00:00, 17.6MB/s]"
          }
        },
        "0b57021beb824f2fa4ef3b3f1981c850": {
          "model_module": "@jupyter-widgets/base",
          "model_name": "LayoutModel",
          "model_module_version": "1.2.0",
          "state": {
            "_model_module": "@jupyter-widgets/base",
            "_model_module_version": "1.2.0",
            "_model_name": "LayoutModel",
            "_view_count": null,
            "_view_module": "@jupyter-widgets/base",
            "_view_module_version": "1.2.0",
            "_view_name": "LayoutView",
            "align_content": null,
            "align_items": null,
            "align_self": null,
            "border": null,
            "bottom": null,
            "display": null,
            "flex": null,
            "flex_flow": null,
            "grid_area": null,
            "grid_auto_columns": null,
            "grid_auto_flow": null,
            "grid_auto_rows": null,
            "grid_column": null,
            "grid_gap": null,
            "grid_row": null,
            "grid_template_areas": null,
            "grid_template_columns": null,
            "grid_template_rows": null,
            "height": null,
            "justify_content": null,
            "justify_items": null,
            "left": null,
            "margin": null,
            "max_height": null,
            "max_width": null,
            "min_height": null,
            "min_width": null,
            "object_fit": null,
            "object_position": null,
            "order": null,
            "overflow": null,
            "overflow_x": null,
            "overflow_y": null,
            "padding": null,
            "right": null,
            "top": null,
            "visibility": null,
            "width": null
          }
        },
        "ebc57c43d867441c9bb48f3427825fe3": {
          "model_module": "@jupyter-widgets/base",
          "model_name": "LayoutModel",
          "model_module_version": "1.2.0",
          "state": {
            "_model_module": "@jupyter-widgets/base",
            "_model_module_version": "1.2.0",
            "_model_name": "LayoutModel",
            "_view_count": null,
            "_view_module": "@jupyter-widgets/base",
            "_view_module_version": "1.2.0",
            "_view_name": "LayoutView",
            "align_content": null,
            "align_items": null,
            "align_self": null,
            "border": null,
            "bottom": null,
            "display": null,
            "flex": null,
            "flex_flow": null,
            "grid_area": null,
            "grid_auto_columns": null,
            "grid_auto_flow": null,
            "grid_auto_rows": null,
            "grid_column": null,
            "grid_gap": null,
            "grid_row": null,
            "grid_template_areas": null,
            "grid_template_columns": null,
            "grid_template_rows": null,
            "height": null,
            "justify_content": null,
            "justify_items": null,
            "left": null,
            "margin": null,
            "max_height": null,
            "max_width": null,
            "min_height": null,
            "min_width": null,
            "object_fit": null,
            "object_position": null,
            "order": null,
            "overflow": null,
            "overflow_x": null,
            "overflow_y": null,
            "padding": null,
            "right": null,
            "top": null,
            "visibility": null,
            "width": null
          }
        },
        "8133669691df4972a740f7aaaf42599f": {
          "model_module": "@jupyter-widgets/controls",
          "model_name": "DescriptionStyleModel",
          "model_module_version": "1.5.0",
          "state": {
            "_model_module": "@jupyter-widgets/controls",
            "_model_module_version": "1.5.0",
            "_model_name": "DescriptionStyleModel",
            "_view_count": null,
            "_view_module": "@jupyter-widgets/base",
            "_view_module_version": "1.2.0",
            "_view_name": "StyleView",
            "description_width": ""
          }
        },
        "32f9f1d43a6141eb8a6e8349544f06e0": {
          "model_module": "@jupyter-widgets/base",
          "model_name": "LayoutModel",
          "model_module_version": "1.2.0",
          "state": {
            "_model_module": "@jupyter-widgets/base",
            "_model_module_version": "1.2.0",
            "_model_name": "LayoutModel",
            "_view_count": null,
            "_view_module": "@jupyter-widgets/base",
            "_view_module_version": "1.2.0",
            "_view_name": "LayoutView",
            "align_content": null,
            "align_items": null,
            "align_self": null,
            "border": null,
            "bottom": null,
            "display": null,
            "flex": null,
            "flex_flow": null,
            "grid_area": null,
            "grid_auto_columns": null,
            "grid_auto_flow": null,
            "grid_auto_rows": null,
            "grid_column": null,
            "grid_gap": null,
            "grid_row": null,
            "grid_template_areas": null,
            "grid_template_columns": null,
            "grid_template_rows": null,
            "height": null,
            "justify_content": null,
            "justify_items": null,
            "left": null,
            "margin": null,
            "max_height": null,
            "max_width": null,
            "min_height": null,
            "min_width": null,
            "object_fit": null,
            "object_position": null,
            "order": null,
            "overflow": null,
            "overflow_x": null,
            "overflow_y": null,
            "padding": null,
            "right": null,
            "top": null,
            "visibility": null,
            "width": null
          }
        },
        "3f001170bdba49bbb82c5d3935c0fde6": {
          "model_module": "@jupyter-widgets/controls",
          "model_name": "ProgressStyleModel",
          "model_module_version": "1.5.0",
          "state": {
            "_model_module": "@jupyter-widgets/controls",
            "_model_module_version": "1.5.0",
            "_model_name": "ProgressStyleModel",
            "_view_count": null,
            "_view_module": "@jupyter-widgets/base",
            "_view_module_version": "1.2.0",
            "_view_name": "StyleView",
            "bar_color": null,
            "description_width": ""
          }
        },
        "72d73eae224040ac955a634ae1aff26a": {
          "model_module": "@jupyter-widgets/base",
          "model_name": "LayoutModel",
          "model_module_version": "1.2.0",
          "state": {
            "_model_module": "@jupyter-widgets/base",
            "_model_module_version": "1.2.0",
            "_model_name": "LayoutModel",
            "_view_count": null,
            "_view_module": "@jupyter-widgets/base",
            "_view_module_version": "1.2.0",
            "_view_name": "LayoutView",
            "align_content": null,
            "align_items": null,
            "align_self": null,
            "border": null,
            "bottom": null,
            "display": null,
            "flex": null,
            "flex_flow": null,
            "grid_area": null,
            "grid_auto_columns": null,
            "grid_auto_flow": null,
            "grid_auto_rows": null,
            "grid_column": null,
            "grid_gap": null,
            "grid_row": null,
            "grid_template_areas": null,
            "grid_template_columns": null,
            "grid_template_rows": null,
            "height": null,
            "justify_content": null,
            "justify_items": null,
            "left": null,
            "margin": null,
            "max_height": null,
            "max_width": null,
            "min_height": null,
            "min_width": null,
            "object_fit": null,
            "object_position": null,
            "order": null,
            "overflow": null,
            "overflow_x": null,
            "overflow_y": null,
            "padding": null,
            "right": null,
            "top": null,
            "visibility": null,
            "width": null
          }
        },
        "5144fa9856a24d03bb771937874e1383": {
          "model_module": "@jupyter-widgets/controls",
          "model_name": "DescriptionStyleModel",
          "model_module_version": "1.5.0",
          "state": {
            "_model_module": "@jupyter-widgets/controls",
            "_model_module_version": "1.5.0",
            "_model_name": "DescriptionStyleModel",
            "_view_count": null,
            "_view_module": "@jupyter-widgets/base",
            "_view_module_version": "1.2.0",
            "_view_name": "StyleView",
            "description_width": ""
          }
        },
        "fb5e728447734c2caca5ae57210c8347": {
          "model_module": "@jupyter-widgets/controls",
          "model_name": "HBoxModel",
          "model_module_version": "1.5.0",
          "state": {
            "_dom_classes": [],
            "_model_module": "@jupyter-widgets/controls",
            "_model_module_version": "1.5.0",
            "_model_name": "HBoxModel",
            "_view_count": null,
            "_view_module": "@jupyter-widgets/controls",
            "_view_module_version": "1.5.0",
            "_view_name": "HBoxView",
            "box_style": "",
            "children": [
              "IPY_MODEL_a1fb51b338044222b24f14153b3ace83",
              "IPY_MODEL_d30710d9e40e41a099dff0d0fa7d294a",
              "IPY_MODEL_b8514a35086d486486bee65df2bb142c"
            ],
            "layout": "IPY_MODEL_3d860b00418341a0ad487262478c486e"
          }
        },
        "a1fb51b338044222b24f14153b3ace83": {
          "model_module": "@jupyter-widgets/controls",
          "model_name": "HTMLModel",
          "model_module_version": "1.5.0",
          "state": {
            "_dom_classes": [],
            "_model_module": "@jupyter-widgets/controls",
            "_model_module_version": "1.5.0",
            "_model_name": "HTMLModel",
            "_view_count": null,
            "_view_module": "@jupyter-widgets/controls",
            "_view_module_version": "1.5.0",
            "_view_name": "HTMLView",
            "description": "",
            "description_tooltip": null,
            "layout": "IPY_MODEL_c1e453f014024a60b05edb0ff41c267b",
            "placeholder": "​",
            "style": "IPY_MODEL_db7bfdbb65074bd286c947cb589ff41c",
            "value": ""
          }
        },
        "d30710d9e40e41a099dff0d0fa7d294a": {
          "model_module": "@jupyter-widgets/controls",
          "model_name": "FloatProgressModel",
          "model_module_version": "1.5.0",
          "state": {
            "_dom_classes": [],
            "_model_module": "@jupyter-widgets/controls",
            "_model_module_version": "1.5.0",
            "_model_name": "FloatProgressModel",
            "_view_count": null,
            "_view_module": "@jupyter-widgets/controls",
            "_view_module_version": "1.5.0",
            "_view_name": "ProgressView",
            "bar_style": "info",
            "description": "",
            "description_tooltip": null,
            "layout": "IPY_MODEL_a8dd91438faa47298a4d6bed26c59d87",
            "max": 1,
            "min": 0,
            "orientation": "horizontal",
            "style": "IPY_MODEL_73c2e866051e4f748a8dae00fa052cc7",
            "value": 1
          }
        },
        "b8514a35086d486486bee65df2bb142c": {
          "model_module": "@jupyter-widgets/controls",
          "model_name": "HTMLModel",
          "model_module_version": "1.5.0",
          "state": {
            "_dom_classes": [],
            "_model_module": "@jupyter-widgets/controls",
            "_model_module_version": "1.5.0",
            "_model_name": "HTMLModel",
            "_view_count": null,
            "_view_module": "@jupyter-widgets/controls",
            "_view_module_version": "1.5.0",
            "_view_name": "HTMLView",
            "description": "",
            "description_tooltip": null,
            "layout": "IPY_MODEL_282ee98819f443e7be3ae4d06741398a",
            "placeholder": "​",
            "style": "IPY_MODEL_8d125548bba04c1bb3df977f8efa417a",
            "value": " 161798/0 [02:00&lt;00:00, 835.60 examples/s]"
          }
        },
        "3d860b00418341a0ad487262478c486e": {
          "model_module": "@jupyter-widgets/base",
          "model_name": "LayoutModel",
          "model_module_version": "1.2.0",
          "state": {
            "_model_module": "@jupyter-widgets/base",
            "_model_module_version": "1.2.0",
            "_model_name": "LayoutModel",
            "_view_count": null,
            "_view_module": "@jupyter-widgets/base",
            "_view_module_version": "1.2.0",
            "_view_name": "LayoutView",
            "align_content": null,
            "align_items": null,
            "align_self": null,
            "border": null,
            "bottom": null,
            "display": null,
            "flex": null,
            "flex_flow": null,
            "grid_area": null,
            "grid_auto_columns": null,
            "grid_auto_flow": null,
            "grid_auto_rows": null,
            "grid_column": null,
            "grid_gap": null,
            "grid_row": null,
            "grid_template_areas": null,
            "grid_template_columns": null,
            "grid_template_rows": null,
            "height": null,
            "justify_content": null,
            "justify_items": null,
            "left": null,
            "margin": null,
            "max_height": null,
            "max_width": null,
            "min_height": null,
            "min_width": null,
            "object_fit": null,
            "object_position": null,
            "order": null,
            "overflow": null,
            "overflow_x": null,
            "overflow_y": null,
            "padding": null,
            "right": null,
            "top": null,
            "visibility": "hidden",
            "width": null
          }
        },
        "c1e453f014024a60b05edb0ff41c267b": {
          "model_module": "@jupyter-widgets/base",
          "model_name": "LayoutModel",
          "model_module_version": "1.2.0",
          "state": {
            "_model_module": "@jupyter-widgets/base",
            "_model_module_version": "1.2.0",
            "_model_name": "LayoutModel",
            "_view_count": null,
            "_view_module": "@jupyter-widgets/base",
            "_view_module_version": "1.2.0",
            "_view_name": "LayoutView",
            "align_content": null,
            "align_items": null,
            "align_self": null,
            "border": null,
            "bottom": null,
            "display": null,
            "flex": null,
            "flex_flow": null,
            "grid_area": null,
            "grid_auto_columns": null,
            "grid_auto_flow": null,
            "grid_auto_rows": null,
            "grid_column": null,
            "grid_gap": null,
            "grid_row": null,
            "grid_template_areas": null,
            "grid_template_columns": null,
            "grid_template_rows": null,
            "height": null,
            "justify_content": null,
            "justify_items": null,
            "left": null,
            "margin": null,
            "max_height": null,
            "max_width": null,
            "min_height": null,
            "min_width": null,
            "object_fit": null,
            "object_position": null,
            "order": null,
            "overflow": null,
            "overflow_x": null,
            "overflow_y": null,
            "padding": null,
            "right": null,
            "top": null,
            "visibility": null,
            "width": null
          }
        },
        "db7bfdbb65074bd286c947cb589ff41c": {
          "model_module": "@jupyter-widgets/controls",
          "model_name": "DescriptionStyleModel",
          "model_module_version": "1.5.0",
          "state": {
            "_model_module": "@jupyter-widgets/controls",
            "_model_module_version": "1.5.0",
            "_model_name": "DescriptionStyleModel",
            "_view_count": null,
            "_view_module": "@jupyter-widgets/base",
            "_view_module_version": "1.2.0",
            "_view_name": "StyleView",
            "description_width": ""
          }
        },
        "a8dd91438faa47298a4d6bed26c59d87": {
          "model_module": "@jupyter-widgets/base",
          "model_name": "LayoutModel",
          "model_module_version": "1.2.0",
          "state": {
            "_model_module": "@jupyter-widgets/base",
            "_model_module_version": "1.2.0",
            "_model_name": "LayoutModel",
            "_view_count": null,
            "_view_module": "@jupyter-widgets/base",
            "_view_module_version": "1.2.0",
            "_view_name": "LayoutView",
            "align_content": null,
            "align_items": null,
            "align_self": null,
            "border": null,
            "bottom": null,
            "display": null,
            "flex": null,
            "flex_flow": null,
            "grid_area": null,
            "grid_auto_columns": null,
            "grid_auto_flow": null,
            "grid_auto_rows": null,
            "grid_column": null,
            "grid_gap": null,
            "grid_row": null,
            "grid_template_areas": null,
            "grid_template_columns": null,
            "grid_template_rows": null,
            "height": null,
            "justify_content": null,
            "justify_items": null,
            "left": null,
            "margin": null,
            "max_height": null,
            "max_width": null,
            "min_height": null,
            "min_width": null,
            "object_fit": null,
            "object_position": null,
            "order": null,
            "overflow": null,
            "overflow_x": null,
            "overflow_y": null,
            "padding": null,
            "right": null,
            "top": null,
            "visibility": null,
            "width": "20px"
          }
        },
        "73c2e866051e4f748a8dae00fa052cc7": {
          "model_module": "@jupyter-widgets/controls",
          "model_name": "ProgressStyleModel",
          "model_module_version": "1.5.0",
          "state": {
            "_model_module": "@jupyter-widgets/controls",
            "_model_module_version": "1.5.0",
            "_model_name": "ProgressStyleModel",
            "_view_count": null,
            "_view_module": "@jupyter-widgets/base",
            "_view_module_version": "1.2.0",
            "_view_name": "StyleView",
            "bar_color": null,
            "description_width": ""
          }
        },
        "282ee98819f443e7be3ae4d06741398a": {
          "model_module": "@jupyter-widgets/base",
          "model_name": "LayoutModel",
          "model_module_version": "1.2.0",
          "state": {
            "_model_module": "@jupyter-widgets/base",
            "_model_module_version": "1.2.0",
            "_model_name": "LayoutModel",
            "_view_count": null,
            "_view_module": "@jupyter-widgets/base",
            "_view_module_version": "1.2.0",
            "_view_name": "LayoutView",
            "align_content": null,
            "align_items": null,
            "align_self": null,
            "border": null,
            "bottom": null,
            "display": null,
            "flex": null,
            "flex_flow": null,
            "grid_area": null,
            "grid_auto_columns": null,
            "grid_auto_flow": null,
            "grid_auto_rows": null,
            "grid_column": null,
            "grid_gap": null,
            "grid_row": null,
            "grid_template_areas": null,
            "grid_template_columns": null,
            "grid_template_rows": null,
            "height": null,
            "justify_content": null,
            "justify_items": null,
            "left": null,
            "margin": null,
            "max_height": null,
            "max_width": null,
            "min_height": null,
            "min_width": null,
            "object_fit": null,
            "object_position": null,
            "order": null,
            "overflow": null,
            "overflow_x": null,
            "overflow_y": null,
            "padding": null,
            "right": null,
            "top": null,
            "visibility": null,
            "width": null
          }
        },
        "8d125548bba04c1bb3df977f8efa417a": {
          "model_module": "@jupyter-widgets/controls",
          "model_name": "DescriptionStyleModel",
          "model_module_version": "1.5.0",
          "state": {
            "_model_module": "@jupyter-widgets/controls",
            "_model_module_version": "1.5.0",
            "_model_name": "DescriptionStyleModel",
            "_view_count": null,
            "_view_module": "@jupyter-widgets/base",
            "_view_module_version": "1.2.0",
            "_view_name": "StyleView",
            "description_width": ""
          }
        },
        "b456deec2e5441b28a50875ed5a1401f": {
          "model_module": "@jupyter-widgets/controls",
          "model_name": "HBoxModel",
          "model_module_version": "1.5.0",
          "state": {
            "_dom_classes": [],
            "_model_module": "@jupyter-widgets/controls",
            "_model_module_version": "1.5.0",
            "_model_name": "HBoxModel",
            "_view_count": null,
            "_view_module": "@jupyter-widgets/controls",
            "_view_module_version": "1.5.0",
            "_view_name": "HBoxView",
            "box_style": "",
            "children": [
              "IPY_MODEL_ce9aeac4ce714984a7a2a03fbab723b6",
              "IPY_MODEL_a5359f1827ab4805bc059653f5c55158",
              "IPY_MODEL_df43ad0085aa407f9812e1214ed3d799"
            ],
            "layout": "IPY_MODEL_feef3cececf64e19a24361cde7822d6a"
          }
        },
        "ce9aeac4ce714984a7a2a03fbab723b6": {
          "model_module": "@jupyter-widgets/controls",
          "model_name": "HTMLModel",
          "model_module_version": "1.5.0",
          "state": {
            "_dom_classes": [],
            "_model_module": "@jupyter-widgets/controls",
            "_model_module_version": "1.5.0",
            "_model_name": "HTMLModel",
            "_view_count": null,
            "_view_module": "@jupyter-widgets/controls",
            "_view_module_version": "1.5.0",
            "_view_name": "HTMLView",
            "description": "",
            "description_tooltip": null,
            "layout": "IPY_MODEL_05d499d86a7f4698b100071c79d936cb",
            "placeholder": "​",
            "style": "IPY_MODEL_1a0af159166445e588a61b68c677be9c",
            "value": ""
          }
        },
        "a5359f1827ab4805bc059653f5c55158": {
          "model_module": "@jupyter-widgets/controls",
          "model_name": "FloatProgressModel",
          "model_module_version": "1.5.0",
          "state": {
            "_dom_classes": [],
            "_model_module": "@jupyter-widgets/controls",
            "_model_module_version": "1.5.0",
            "_model_name": "FloatProgressModel",
            "_view_count": null,
            "_view_module": "@jupyter-widgets/controls",
            "_view_module_version": "1.5.0",
            "_view_name": "ProgressView",
            "bar_style": "info",
            "description": "",
            "description_tooltip": null,
            "layout": "IPY_MODEL_55fdd91acc2a4cb5b522e6db3373c985",
            "max": 1,
            "min": 0,
            "orientation": "horizontal",
            "style": "IPY_MODEL_a40489c581954389ae66e00dd39688d7",
            "value": 1
          }
        },
        "df43ad0085aa407f9812e1214ed3d799": {
          "model_module": "@jupyter-widgets/controls",
          "model_name": "HTMLModel",
          "model_module_version": "1.5.0",
          "state": {
            "_dom_classes": [],
            "_model_module": "@jupyter-widgets/controls",
            "_model_module_version": "1.5.0",
            "_model_name": "HTMLModel",
            "_view_count": null,
            "_view_module": "@jupyter-widgets/controls",
            "_view_module_version": "1.5.0",
            "_view_name": "HTMLView",
            "description": "",
            "description_tooltip": null,
            "layout": "IPY_MODEL_f9b8bec2040142ccb84e0115ac0335cf",
            "placeholder": "​",
            "style": "IPY_MODEL_8ee79b163d9a4485b01a9fae429800b0",
            "value": " 15089/0 [01:32&lt;00:00,  2.72 examples/s]"
          }
        },
        "feef3cececf64e19a24361cde7822d6a": {
          "model_module": "@jupyter-widgets/base",
          "model_name": "LayoutModel",
          "model_module_version": "1.2.0",
          "state": {
            "_model_module": "@jupyter-widgets/base",
            "_model_module_version": "1.2.0",
            "_model_name": "LayoutModel",
            "_view_count": null,
            "_view_module": "@jupyter-widgets/base",
            "_view_module_version": "1.2.0",
            "_view_name": "LayoutView",
            "align_content": null,
            "align_items": null,
            "align_self": null,
            "border": null,
            "bottom": null,
            "display": null,
            "flex": null,
            "flex_flow": null,
            "grid_area": null,
            "grid_auto_columns": null,
            "grid_auto_flow": null,
            "grid_auto_rows": null,
            "grid_column": null,
            "grid_gap": null,
            "grid_row": null,
            "grid_template_areas": null,
            "grid_template_columns": null,
            "grid_template_rows": null,
            "height": null,
            "justify_content": null,
            "justify_items": null,
            "left": null,
            "margin": null,
            "max_height": null,
            "max_width": null,
            "min_height": null,
            "min_width": null,
            "object_fit": null,
            "object_position": null,
            "order": null,
            "overflow": null,
            "overflow_x": null,
            "overflow_y": null,
            "padding": null,
            "right": null,
            "top": null,
            "visibility": "hidden",
            "width": null
          }
        },
        "05d499d86a7f4698b100071c79d936cb": {
          "model_module": "@jupyter-widgets/base",
          "model_name": "LayoutModel",
          "model_module_version": "1.2.0",
          "state": {
            "_model_module": "@jupyter-widgets/base",
            "_model_module_version": "1.2.0",
            "_model_name": "LayoutModel",
            "_view_count": null,
            "_view_module": "@jupyter-widgets/base",
            "_view_module_version": "1.2.0",
            "_view_name": "LayoutView",
            "align_content": null,
            "align_items": null,
            "align_self": null,
            "border": null,
            "bottom": null,
            "display": null,
            "flex": null,
            "flex_flow": null,
            "grid_area": null,
            "grid_auto_columns": null,
            "grid_auto_flow": null,
            "grid_auto_rows": null,
            "grid_column": null,
            "grid_gap": null,
            "grid_row": null,
            "grid_template_areas": null,
            "grid_template_columns": null,
            "grid_template_rows": null,
            "height": null,
            "justify_content": null,
            "justify_items": null,
            "left": null,
            "margin": null,
            "max_height": null,
            "max_width": null,
            "min_height": null,
            "min_width": null,
            "object_fit": null,
            "object_position": null,
            "order": null,
            "overflow": null,
            "overflow_x": null,
            "overflow_y": null,
            "padding": null,
            "right": null,
            "top": null,
            "visibility": null,
            "width": null
          }
        },
        "1a0af159166445e588a61b68c677be9c": {
          "model_module": "@jupyter-widgets/controls",
          "model_name": "DescriptionStyleModel",
          "model_module_version": "1.5.0",
          "state": {
            "_model_module": "@jupyter-widgets/controls",
            "_model_module_version": "1.5.0",
            "_model_name": "DescriptionStyleModel",
            "_view_count": null,
            "_view_module": "@jupyter-widgets/base",
            "_view_module_version": "1.2.0",
            "_view_name": "StyleView",
            "description_width": ""
          }
        },
        "55fdd91acc2a4cb5b522e6db3373c985": {
          "model_module": "@jupyter-widgets/base",
          "model_name": "LayoutModel",
          "model_module_version": "1.2.0",
          "state": {
            "_model_module": "@jupyter-widgets/base",
            "_model_module_version": "1.2.0",
            "_model_name": "LayoutModel",
            "_view_count": null,
            "_view_module": "@jupyter-widgets/base",
            "_view_module_version": "1.2.0",
            "_view_name": "LayoutView",
            "align_content": null,
            "align_items": null,
            "align_self": null,
            "border": null,
            "bottom": null,
            "display": null,
            "flex": null,
            "flex_flow": null,
            "grid_area": null,
            "grid_auto_columns": null,
            "grid_auto_flow": null,
            "grid_auto_rows": null,
            "grid_column": null,
            "grid_gap": null,
            "grid_row": null,
            "grid_template_areas": null,
            "grid_template_columns": null,
            "grid_template_rows": null,
            "height": null,
            "justify_content": null,
            "justify_items": null,
            "left": null,
            "margin": null,
            "max_height": null,
            "max_width": null,
            "min_height": null,
            "min_width": null,
            "object_fit": null,
            "object_position": null,
            "order": null,
            "overflow": null,
            "overflow_x": null,
            "overflow_y": null,
            "padding": null,
            "right": null,
            "top": null,
            "visibility": null,
            "width": "20px"
          }
        },
        "a40489c581954389ae66e00dd39688d7": {
          "model_module": "@jupyter-widgets/controls",
          "model_name": "ProgressStyleModel",
          "model_module_version": "1.5.0",
          "state": {
            "_model_module": "@jupyter-widgets/controls",
            "_model_module_version": "1.5.0",
            "_model_name": "ProgressStyleModel",
            "_view_count": null,
            "_view_module": "@jupyter-widgets/base",
            "_view_module_version": "1.2.0",
            "_view_name": "StyleView",
            "bar_color": null,
            "description_width": ""
          }
        },
        "f9b8bec2040142ccb84e0115ac0335cf": {
          "model_module": "@jupyter-widgets/base",
          "model_name": "LayoutModel",
          "model_module_version": "1.2.0",
          "state": {
            "_model_module": "@jupyter-widgets/base",
            "_model_module_version": "1.2.0",
            "_model_name": "LayoutModel",
            "_view_count": null,
            "_view_module": "@jupyter-widgets/base",
            "_view_module_version": "1.2.0",
            "_view_name": "LayoutView",
            "align_content": null,
            "align_items": null,
            "align_self": null,
            "border": null,
            "bottom": null,
            "display": null,
            "flex": null,
            "flex_flow": null,
            "grid_area": null,
            "grid_auto_columns": null,
            "grid_auto_flow": null,
            "grid_auto_rows": null,
            "grid_column": null,
            "grid_gap": null,
            "grid_row": null,
            "grid_template_areas": null,
            "grid_template_columns": null,
            "grid_template_rows": null,
            "height": null,
            "justify_content": null,
            "justify_items": null,
            "left": null,
            "margin": null,
            "max_height": null,
            "max_width": null,
            "min_height": null,
            "min_width": null,
            "object_fit": null,
            "object_position": null,
            "order": null,
            "overflow": null,
            "overflow_x": null,
            "overflow_y": null,
            "padding": null,
            "right": null,
            "top": null,
            "visibility": null,
            "width": null
          }
        },
        "8ee79b163d9a4485b01a9fae429800b0": {
          "model_module": "@jupyter-widgets/controls",
          "model_name": "DescriptionStyleModel",
          "model_module_version": "1.5.0",
          "state": {
            "_model_module": "@jupyter-widgets/controls",
            "_model_module_version": "1.5.0",
            "_model_name": "DescriptionStyleModel",
            "_view_count": null,
            "_view_module": "@jupyter-widgets/base",
            "_view_module_version": "1.2.0",
            "_view_name": "StyleView",
            "description_width": ""
          }
        },
        "81120a0682c240a2a630e374f8874585": {
          "model_module": "@jupyter-widgets/controls",
          "model_name": "HBoxModel",
          "model_module_version": "1.5.0",
          "state": {
            "_dom_classes": [],
            "_model_module": "@jupyter-widgets/controls",
            "_model_module_version": "1.5.0",
            "_model_name": "HBoxModel",
            "_view_count": null,
            "_view_module": "@jupyter-widgets/controls",
            "_view_module_version": "1.5.0",
            "_view_name": "HBoxView",
            "box_style": "",
            "children": [
              "IPY_MODEL_a1ff6a85f8624a9fa5ce70a43cf82464",
              "IPY_MODEL_1f8d825474ff47129b3e9456336f94e4",
              "IPY_MODEL_fb8c2bbe25bc450da009de8c506728b3"
            ],
            "layout": "IPY_MODEL_12c66b60a82b49f19f15ab16c5115b6a"
          }
        },
        "a1ff6a85f8624a9fa5ce70a43cf82464": {
          "model_module": "@jupyter-widgets/controls",
          "model_name": "HTMLModel",
          "model_module_version": "1.5.0",
          "state": {
            "_dom_classes": [],
            "_model_module": "@jupyter-widgets/controls",
            "_model_module_version": "1.5.0",
            "_model_name": "HTMLModel",
            "_view_count": null,
            "_view_module": "@jupyter-widgets/controls",
            "_view_module_version": "1.5.0",
            "_view_name": "HTMLView",
            "description": "",
            "description_tooltip": null,
            "layout": "IPY_MODEL_e6f1425279e449c98e3c9c5485bc7dd6",
            "placeholder": "​",
            "style": "IPY_MODEL_4b9cea257f1f4c529bc70dc0ae12005f",
            "value": ""
          }
        },
        "1f8d825474ff47129b3e9456336f94e4": {
          "model_module": "@jupyter-widgets/controls",
          "model_name": "FloatProgressModel",
          "model_module_version": "1.5.0",
          "state": {
            "_dom_classes": [],
            "_model_module": "@jupyter-widgets/controls",
            "_model_module_version": "1.5.0",
            "_model_name": "FloatProgressModel",
            "_view_count": null,
            "_view_module": "@jupyter-widgets/controls",
            "_view_module_version": "1.5.0",
            "_view_name": "ProgressView",
            "bar_style": "info",
            "description": "",
            "description_tooltip": null,
            "layout": "IPY_MODEL_d75c2a86ec2d4909b0d947828e240cf9",
            "max": 1,
            "min": 0,
            "orientation": "horizontal",
            "style": "IPY_MODEL_1e423cb710e749f393a66bbb0bfc1f6a",
            "value": 1
          }
        },
        "fb8c2bbe25bc450da009de8c506728b3": {
          "model_module": "@jupyter-widgets/controls",
          "model_name": "HTMLModel",
          "model_module_version": "1.5.0",
          "state": {
            "_dom_classes": [],
            "_model_module": "@jupyter-widgets/controls",
            "_model_module_version": "1.5.0",
            "_model_name": "HTMLModel",
            "_view_count": null,
            "_view_module": "@jupyter-widgets/controls",
            "_view_module_version": "1.5.0",
            "_view_name": "HTMLView",
            "description": "",
            "description_tooltip": null,
            "layout": "IPY_MODEL_a40b3bbbf984411980824c62577b068c",
            "placeholder": "​",
            "style": "IPY_MODEL_f7ef7e6ced164d5a851b1eb73c7d83f6",
            "value": " 15081/0 [01:30&lt;00:00,  2.66 examples/s]"
          }
        },
        "12c66b60a82b49f19f15ab16c5115b6a": {
          "model_module": "@jupyter-widgets/base",
          "model_name": "LayoutModel",
          "model_module_version": "1.2.0",
          "state": {
            "_model_module": "@jupyter-widgets/base",
            "_model_module_version": "1.2.0",
            "_model_name": "LayoutModel",
            "_view_count": null,
            "_view_module": "@jupyter-widgets/base",
            "_view_module_version": "1.2.0",
            "_view_name": "LayoutView",
            "align_content": null,
            "align_items": null,
            "align_self": null,
            "border": null,
            "bottom": null,
            "display": null,
            "flex": null,
            "flex_flow": null,
            "grid_area": null,
            "grid_auto_columns": null,
            "grid_auto_flow": null,
            "grid_auto_rows": null,
            "grid_column": null,
            "grid_gap": null,
            "grid_row": null,
            "grid_template_areas": null,
            "grid_template_columns": null,
            "grid_template_rows": null,
            "height": null,
            "justify_content": null,
            "justify_items": null,
            "left": null,
            "margin": null,
            "max_height": null,
            "max_width": null,
            "min_height": null,
            "min_width": null,
            "object_fit": null,
            "object_position": null,
            "order": null,
            "overflow": null,
            "overflow_x": null,
            "overflow_y": null,
            "padding": null,
            "right": null,
            "top": null,
            "visibility": "hidden",
            "width": null
          }
        },
        "e6f1425279e449c98e3c9c5485bc7dd6": {
          "model_module": "@jupyter-widgets/base",
          "model_name": "LayoutModel",
          "model_module_version": "1.2.0",
          "state": {
            "_model_module": "@jupyter-widgets/base",
            "_model_module_version": "1.2.0",
            "_model_name": "LayoutModel",
            "_view_count": null,
            "_view_module": "@jupyter-widgets/base",
            "_view_module_version": "1.2.0",
            "_view_name": "LayoutView",
            "align_content": null,
            "align_items": null,
            "align_self": null,
            "border": null,
            "bottom": null,
            "display": null,
            "flex": null,
            "flex_flow": null,
            "grid_area": null,
            "grid_auto_columns": null,
            "grid_auto_flow": null,
            "grid_auto_rows": null,
            "grid_column": null,
            "grid_gap": null,
            "grid_row": null,
            "grid_template_areas": null,
            "grid_template_columns": null,
            "grid_template_rows": null,
            "height": null,
            "justify_content": null,
            "justify_items": null,
            "left": null,
            "margin": null,
            "max_height": null,
            "max_width": null,
            "min_height": null,
            "min_width": null,
            "object_fit": null,
            "object_position": null,
            "order": null,
            "overflow": null,
            "overflow_x": null,
            "overflow_y": null,
            "padding": null,
            "right": null,
            "top": null,
            "visibility": null,
            "width": null
          }
        },
        "4b9cea257f1f4c529bc70dc0ae12005f": {
          "model_module": "@jupyter-widgets/controls",
          "model_name": "DescriptionStyleModel",
          "model_module_version": "1.5.0",
          "state": {
            "_model_module": "@jupyter-widgets/controls",
            "_model_module_version": "1.5.0",
            "_model_name": "DescriptionStyleModel",
            "_view_count": null,
            "_view_module": "@jupyter-widgets/base",
            "_view_module_version": "1.2.0",
            "_view_name": "StyleView",
            "description_width": ""
          }
        },
        "d75c2a86ec2d4909b0d947828e240cf9": {
          "model_module": "@jupyter-widgets/base",
          "model_name": "LayoutModel",
          "model_module_version": "1.2.0",
          "state": {
            "_model_module": "@jupyter-widgets/base",
            "_model_module_version": "1.2.0",
            "_model_name": "LayoutModel",
            "_view_count": null,
            "_view_module": "@jupyter-widgets/base",
            "_view_module_version": "1.2.0",
            "_view_name": "LayoutView",
            "align_content": null,
            "align_items": null,
            "align_self": null,
            "border": null,
            "bottom": null,
            "display": null,
            "flex": null,
            "flex_flow": null,
            "grid_area": null,
            "grid_auto_columns": null,
            "grid_auto_flow": null,
            "grid_auto_rows": null,
            "grid_column": null,
            "grid_gap": null,
            "grid_row": null,
            "grid_template_areas": null,
            "grid_template_columns": null,
            "grid_template_rows": null,
            "height": null,
            "justify_content": null,
            "justify_items": null,
            "left": null,
            "margin": null,
            "max_height": null,
            "max_width": null,
            "min_height": null,
            "min_width": null,
            "object_fit": null,
            "object_position": null,
            "order": null,
            "overflow": null,
            "overflow_x": null,
            "overflow_y": null,
            "padding": null,
            "right": null,
            "top": null,
            "visibility": null,
            "width": "20px"
          }
        },
        "1e423cb710e749f393a66bbb0bfc1f6a": {
          "model_module": "@jupyter-widgets/controls",
          "model_name": "ProgressStyleModel",
          "model_module_version": "1.5.0",
          "state": {
            "_model_module": "@jupyter-widgets/controls",
            "_model_module_version": "1.5.0",
            "_model_name": "ProgressStyleModel",
            "_view_count": null,
            "_view_module": "@jupyter-widgets/base",
            "_view_module_version": "1.2.0",
            "_view_name": "StyleView",
            "bar_color": null,
            "description_width": ""
          }
        },
        "a40b3bbbf984411980824c62577b068c": {
          "model_module": "@jupyter-widgets/base",
          "model_name": "LayoutModel",
          "model_module_version": "1.2.0",
          "state": {
            "_model_module": "@jupyter-widgets/base",
            "_model_module_version": "1.2.0",
            "_model_name": "LayoutModel",
            "_view_count": null,
            "_view_module": "@jupyter-widgets/base",
            "_view_module_version": "1.2.0",
            "_view_name": "LayoutView",
            "align_content": null,
            "align_items": null,
            "align_self": null,
            "border": null,
            "bottom": null,
            "display": null,
            "flex": null,
            "flex_flow": null,
            "grid_area": null,
            "grid_auto_columns": null,
            "grid_auto_flow": null,
            "grid_auto_rows": null,
            "grid_column": null,
            "grid_gap": null,
            "grid_row": null,
            "grid_template_areas": null,
            "grid_template_columns": null,
            "grid_template_rows": null,
            "height": null,
            "justify_content": null,
            "justify_items": null,
            "left": null,
            "margin": null,
            "max_height": null,
            "max_width": null,
            "min_height": null,
            "min_width": null,
            "object_fit": null,
            "object_position": null,
            "order": null,
            "overflow": null,
            "overflow_x": null,
            "overflow_y": null,
            "padding": null,
            "right": null,
            "top": null,
            "visibility": null,
            "width": null
          }
        },
        "f7ef7e6ced164d5a851b1eb73c7d83f6": {
          "model_module": "@jupyter-widgets/controls",
          "model_name": "DescriptionStyleModel",
          "model_module_version": "1.5.0",
          "state": {
            "_model_module": "@jupyter-widgets/controls",
            "_model_module_version": "1.5.0",
            "_model_name": "DescriptionStyleModel",
            "_view_count": null,
            "_view_module": "@jupyter-widgets/base",
            "_view_module_version": "1.2.0",
            "_view_name": "StyleView",
            "description_width": ""
          }
        },
        "67fb6aeb1b1b48709fe6fc86f7c8ca63": {
          "model_module": "@jupyter-widgets/controls",
          "model_name": "HBoxModel",
          "model_module_version": "1.5.0",
          "state": {
            "_dom_classes": [],
            "_model_module": "@jupyter-widgets/controls",
            "_model_module_version": "1.5.0",
            "_model_name": "HBoxModel",
            "_view_count": null,
            "_view_module": "@jupyter-widgets/controls",
            "_view_module_version": "1.5.0",
            "_view_name": "HBoxView",
            "box_style": "",
            "children": [
              "IPY_MODEL_c820d7a4073742d384ced8d2b92001bb",
              "IPY_MODEL_404b9c7b590d4f1baea1758b0a75029c",
              "IPY_MODEL_68631451e51941bdaba3620bfb9bf9c6"
            ],
            "layout": "IPY_MODEL_eb7077702f494b8d8944674a2d088a12"
          }
        },
        "c820d7a4073742d384ced8d2b92001bb": {
          "model_module": "@jupyter-widgets/controls",
          "model_name": "HTMLModel",
          "model_module_version": "1.5.0",
          "state": {
            "_dom_classes": [],
            "_model_module": "@jupyter-widgets/controls",
            "_model_module_version": "1.5.0",
            "_model_name": "HTMLModel",
            "_view_count": null,
            "_view_module": "@jupyter-widgets/controls",
            "_view_module_version": "1.5.0",
            "_view_name": "HTMLView",
            "description": "",
            "description_tooltip": null,
            "layout": "IPY_MODEL_60fcaae5a95b47c883ef1ac061600a57",
            "placeholder": "​",
            "style": "IPY_MODEL_683025096ba14984a8b97be117cb23fa",
            "value": ""
          }
        },
        "404b9c7b590d4f1baea1758b0a75029c": {
          "model_module": "@jupyter-widgets/controls",
          "model_name": "FloatProgressModel",
          "model_module_version": "1.5.0",
          "state": {
            "_dom_classes": [],
            "_model_module": "@jupyter-widgets/controls",
            "_model_module_version": "1.5.0",
            "_model_name": "FloatProgressModel",
            "_view_count": null,
            "_view_module": "@jupyter-widgets/controls",
            "_view_module_version": "1.5.0",
            "_view_name": "ProgressView",
            "bar_style": "info",
            "description": "",
            "description_tooltip": null,
            "layout": "IPY_MODEL_49f3747f51b047d98c5abed0c03c50f3",
            "max": 1,
            "min": 0,
            "orientation": "horizontal",
            "style": "IPY_MODEL_00f82df02ad4472ea3f24dfdb92a530b",
            "value": 1
          }
        },
        "68631451e51941bdaba3620bfb9bf9c6": {
          "model_module": "@jupyter-widgets/controls",
          "model_name": "HTMLModel",
          "model_module_version": "1.5.0",
          "state": {
            "_dom_classes": [],
            "_model_module": "@jupyter-widgets/controls",
            "_model_module_version": "1.5.0",
            "_model_name": "HTMLModel",
            "_view_count": null,
            "_view_module": "@jupyter-widgets/controls",
            "_view_module_version": "1.5.0",
            "_view_name": "HTMLView",
            "description": "",
            "description_tooltip": null,
            "layout": "IPY_MODEL_a566f37aff8d4ce38b5a7aaedd4e242d",
            "placeholder": "​",
            "style": "IPY_MODEL_f685f3eb36cb49b4841a7a37668f7b9c",
            "value": " 144701/0 [02:21&lt;00:00, 2741.23 examples/s]"
          }
        },
        "eb7077702f494b8d8944674a2d088a12": {
          "model_module": "@jupyter-widgets/base",
          "model_name": "LayoutModel",
          "model_module_version": "1.2.0",
          "state": {
            "_model_module": "@jupyter-widgets/base",
            "_model_module_version": "1.2.0",
            "_model_name": "LayoutModel",
            "_view_count": null,
            "_view_module": "@jupyter-widgets/base",
            "_view_module_version": "1.2.0",
            "_view_name": "LayoutView",
            "align_content": null,
            "align_items": null,
            "align_self": null,
            "border": null,
            "bottom": null,
            "display": null,
            "flex": null,
            "flex_flow": null,
            "grid_area": null,
            "grid_auto_columns": null,
            "grid_auto_flow": null,
            "grid_auto_rows": null,
            "grid_column": null,
            "grid_gap": null,
            "grid_row": null,
            "grid_template_areas": null,
            "grid_template_columns": null,
            "grid_template_rows": null,
            "height": null,
            "justify_content": null,
            "justify_items": null,
            "left": null,
            "margin": null,
            "max_height": null,
            "max_width": null,
            "min_height": null,
            "min_width": null,
            "object_fit": null,
            "object_position": null,
            "order": null,
            "overflow": null,
            "overflow_x": null,
            "overflow_y": null,
            "padding": null,
            "right": null,
            "top": null,
            "visibility": "hidden",
            "width": null
          }
        },
        "60fcaae5a95b47c883ef1ac061600a57": {
          "model_module": "@jupyter-widgets/base",
          "model_name": "LayoutModel",
          "model_module_version": "1.2.0",
          "state": {
            "_model_module": "@jupyter-widgets/base",
            "_model_module_version": "1.2.0",
            "_model_name": "LayoutModel",
            "_view_count": null,
            "_view_module": "@jupyter-widgets/base",
            "_view_module_version": "1.2.0",
            "_view_name": "LayoutView",
            "align_content": null,
            "align_items": null,
            "align_self": null,
            "border": null,
            "bottom": null,
            "display": null,
            "flex": null,
            "flex_flow": null,
            "grid_area": null,
            "grid_auto_columns": null,
            "grid_auto_flow": null,
            "grid_auto_rows": null,
            "grid_column": null,
            "grid_gap": null,
            "grid_row": null,
            "grid_template_areas": null,
            "grid_template_columns": null,
            "grid_template_rows": null,
            "height": null,
            "justify_content": null,
            "justify_items": null,
            "left": null,
            "margin": null,
            "max_height": null,
            "max_width": null,
            "min_height": null,
            "min_width": null,
            "object_fit": null,
            "object_position": null,
            "order": null,
            "overflow": null,
            "overflow_x": null,
            "overflow_y": null,
            "padding": null,
            "right": null,
            "top": null,
            "visibility": null,
            "width": null
          }
        },
        "683025096ba14984a8b97be117cb23fa": {
          "model_module": "@jupyter-widgets/controls",
          "model_name": "DescriptionStyleModel",
          "model_module_version": "1.5.0",
          "state": {
            "_model_module": "@jupyter-widgets/controls",
            "_model_module_version": "1.5.0",
            "_model_name": "DescriptionStyleModel",
            "_view_count": null,
            "_view_module": "@jupyter-widgets/base",
            "_view_module_version": "1.2.0",
            "_view_name": "StyleView",
            "description_width": ""
          }
        },
        "49f3747f51b047d98c5abed0c03c50f3": {
          "model_module": "@jupyter-widgets/base",
          "model_name": "LayoutModel",
          "model_module_version": "1.2.0",
          "state": {
            "_model_module": "@jupyter-widgets/base",
            "_model_module_version": "1.2.0",
            "_model_name": "LayoutModel",
            "_view_count": null,
            "_view_module": "@jupyter-widgets/base",
            "_view_module_version": "1.2.0",
            "_view_name": "LayoutView",
            "align_content": null,
            "align_items": null,
            "align_self": null,
            "border": null,
            "bottom": null,
            "display": null,
            "flex": null,
            "flex_flow": null,
            "grid_area": null,
            "grid_auto_columns": null,
            "grid_auto_flow": null,
            "grid_auto_rows": null,
            "grid_column": null,
            "grid_gap": null,
            "grid_row": null,
            "grid_template_areas": null,
            "grid_template_columns": null,
            "grid_template_rows": null,
            "height": null,
            "justify_content": null,
            "justify_items": null,
            "left": null,
            "margin": null,
            "max_height": null,
            "max_width": null,
            "min_height": null,
            "min_width": null,
            "object_fit": null,
            "object_position": null,
            "order": null,
            "overflow": null,
            "overflow_x": null,
            "overflow_y": null,
            "padding": null,
            "right": null,
            "top": null,
            "visibility": null,
            "width": "20px"
          }
        },
        "00f82df02ad4472ea3f24dfdb92a530b": {
          "model_module": "@jupyter-widgets/controls",
          "model_name": "ProgressStyleModel",
          "model_module_version": "1.5.0",
          "state": {
            "_model_module": "@jupyter-widgets/controls",
            "_model_module_version": "1.5.0",
            "_model_name": "ProgressStyleModel",
            "_view_count": null,
            "_view_module": "@jupyter-widgets/base",
            "_view_module_version": "1.2.0",
            "_view_name": "StyleView",
            "bar_color": null,
            "description_width": ""
          }
        },
        "a566f37aff8d4ce38b5a7aaedd4e242d": {
          "model_module": "@jupyter-widgets/base",
          "model_name": "LayoutModel",
          "model_module_version": "1.2.0",
          "state": {
            "_model_module": "@jupyter-widgets/base",
            "_model_module_version": "1.2.0",
            "_model_name": "LayoutModel",
            "_view_count": null,
            "_view_module": "@jupyter-widgets/base",
            "_view_module_version": "1.2.0",
            "_view_name": "LayoutView",
            "align_content": null,
            "align_items": null,
            "align_self": null,
            "border": null,
            "bottom": null,
            "display": null,
            "flex": null,
            "flex_flow": null,
            "grid_area": null,
            "grid_auto_columns": null,
            "grid_auto_flow": null,
            "grid_auto_rows": null,
            "grid_column": null,
            "grid_gap": null,
            "grid_row": null,
            "grid_template_areas": null,
            "grid_template_columns": null,
            "grid_template_rows": null,
            "height": null,
            "justify_content": null,
            "justify_items": null,
            "left": null,
            "margin": null,
            "max_height": null,
            "max_width": null,
            "min_height": null,
            "min_width": null,
            "object_fit": null,
            "object_position": null,
            "order": null,
            "overflow": null,
            "overflow_x": null,
            "overflow_y": null,
            "padding": null,
            "right": null,
            "top": null,
            "visibility": null,
            "width": null
          }
        },
        "f685f3eb36cb49b4841a7a37668f7b9c": {
          "model_module": "@jupyter-widgets/controls",
          "model_name": "DescriptionStyleModel",
          "model_module_version": "1.5.0",
          "state": {
            "_model_module": "@jupyter-widgets/controls",
            "_model_module_version": "1.5.0",
            "_model_name": "DescriptionStyleModel",
            "_view_count": null,
            "_view_module": "@jupyter-widgets/base",
            "_view_module_version": "1.2.0",
            "_view_name": "StyleView",
            "description_width": ""
          }
        },
        "a28eb1e138f7450aad795225a2e26588": {
          "model_module": "@jupyter-widgets/controls",
          "model_name": "HBoxModel",
          "model_module_version": "1.5.0",
          "state": {
            "_dom_classes": [],
            "_model_module": "@jupyter-widgets/controls",
            "_model_module_version": "1.5.0",
            "_model_name": "HBoxModel",
            "_view_count": null,
            "_view_module": "@jupyter-widgets/controls",
            "_view_module_version": "1.5.0",
            "_view_name": "HBoxView",
            "box_style": "",
            "children": [
              "IPY_MODEL_c2219ed8b54a4adea1bef3c237b8e7cf",
              "IPY_MODEL_75a16e0790b840508aa241f7d2bf6250",
              "IPY_MODEL_173c0db45d3649f990f1349b2865853b"
            ],
            "layout": "IPY_MODEL_b5c758b74bda48c4a2189792913b0e8e"
          }
        },
        "c2219ed8b54a4adea1bef3c237b8e7cf": {
          "model_module": "@jupyter-widgets/controls",
          "model_name": "HTMLModel",
          "model_module_version": "1.5.0",
          "state": {
            "_dom_classes": [],
            "_model_module": "@jupyter-widgets/controls",
            "_model_module_version": "1.5.0",
            "_model_name": "HTMLModel",
            "_view_count": null,
            "_view_module": "@jupyter-widgets/controls",
            "_view_module_version": "1.5.0",
            "_view_name": "HTMLView",
            "description": "",
            "description_tooltip": null,
            "layout": "IPY_MODEL_2768d957b92447d59637f255a7e48897",
            "placeholder": "​",
            "style": "IPY_MODEL_fa057f2977d64524bd593f44ae08e384",
            "value": ""
          }
        },
        "75a16e0790b840508aa241f7d2bf6250": {
          "model_module": "@jupyter-widgets/controls",
          "model_name": "FloatProgressModel",
          "model_module_version": "1.5.0",
          "state": {
            "_dom_classes": [],
            "_model_module": "@jupyter-widgets/controls",
            "_model_module_version": "1.5.0",
            "_model_name": "FloatProgressModel",
            "_view_count": null,
            "_view_module": "@jupyter-widgets/controls",
            "_view_module_version": "1.5.0",
            "_view_name": "ProgressView",
            "bar_style": "info",
            "description": "",
            "description_tooltip": null,
            "layout": "IPY_MODEL_5dddf9f6bc964f6e915b12a713011552",
            "max": 1,
            "min": 0,
            "orientation": "horizontal",
            "style": "IPY_MODEL_b4fe85e63cc542b69f509664fa543691",
            "value": 1
          }
        },
        "173c0db45d3649f990f1349b2865853b": {
          "model_module": "@jupyter-widgets/controls",
          "model_name": "HTMLModel",
          "model_module_version": "1.5.0",
          "state": {
            "_dom_classes": [],
            "_model_module": "@jupyter-widgets/controls",
            "_model_module_version": "1.5.0",
            "_model_name": "HTMLModel",
            "_view_count": null,
            "_view_module": "@jupyter-widgets/controls",
            "_view_module_version": "1.5.0",
            "_view_name": "HTMLView",
            "description": "",
            "description_tooltip": null,
            "layout": "IPY_MODEL_19e0091ed2ca4ce4bd956e070794c640",
            "placeholder": "​",
            "style": "IPY_MODEL_ab4c0552c0ff4e76bbb286a0485eca58",
            "value": " 40640/0 [01:48&lt;00:00,  8.54 examples/s]"
          }
        },
        "b5c758b74bda48c4a2189792913b0e8e": {
          "model_module": "@jupyter-widgets/base",
          "model_name": "LayoutModel",
          "model_module_version": "1.2.0",
          "state": {
            "_model_module": "@jupyter-widgets/base",
            "_model_module_version": "1.2.0",
            "_model_name": "LayoutModel",
            "_view_count": null,
            "_view_module": "@jupyter-widgets/base",
            "_view_module_version": "1.2.0",
            "_view_name": "LayoutView",
            "align_content": null,
            "align_items": null,
            "align_self": null,
            "border": null,
            "bottom": null,
            "display": null,
            "flex": null,
            "flex_flow": null,
            "grid_area": null,
            "grid_auto_columns": null,
            "grid_auto_flow": null,
            "grid_auto_rows": null,
            "grid_column": null,
            "grid_gap": null,
            "grid_row": null,
            "grid_template_areas": null,
            "grid_template_columns": null,
            "grid_template_rows": null,
            "height": null,
            "justify_content": null,
            "justify_items": null,
            "left": null,
            "margin": null,
            "max_height": null,
            "max_width": null,
            "min_height": null,
            "min_width": null,
            "object_fit": null,
            "object_position": null,
            "order": null,
            "overflow": null,
            "overflow_x": null,
            "overflow_y": null,
            "padding": null,
            "right": null,
            "top": null,
            "visibility": "hidden",
            "width": null
          }
        },
        "2768d957b92447d59637f255a7e48897": {
          "model_module": "@jupyter-widgets/base",
          "model_name": "LayoutModel",
          "model_module_version": "1.2.0",
          "state": {
            "_model_module": "@jupyter-widgets/base",
            "_model_module_version": "1.2.0",
            "_model_name": "LayoutModel",
            "_view_count": null,
            "_view_module": "@jupyter-widgets/base",
            "_view_module_version": "1.2.0",
            "_view_name": "LayoutView",
            "align_content": null,
            "align_items": null,
            "align_self": null,
            "border": null,
            "bottom": null,
            "display": null,
            "flex": null,
            "flex_flow": null,
            "grid_area": null,
            "grid_auto_columns": null,
            "grid_auto_flow": null,
            "grid_auto_rows": null,
            "grid_column": null,
            "grid_gap": null,
            "grid_row": null,
            "grid_template_areas": null,
            "grid_template_columns": null,
            "grid_template_rows": null,
            "height": null,
            "justify_content": null,
            "justify_items": null,
            "left": null,
            "margin": null,
            "max_height": null,
            "max_width": null,
            "min_height": null,
            "min_width": null,
            "object_fit": null,
            "object_position": null,
            "order": null,
            "overflow": null,
            "overflow_x": null,
            "overflow_y": null,
            "padding": null,
            "right": null,
            "top": null,
            "visibility": null,
            "width": null
          }
        },
        "fa057f2977d64524bd593f44ae08e384": {
          "model_module": "@jupyter-widgets/controls",
          "model_name": "DescriptionStyleModel",
          "model_module_version": "1.5.0",
          "state": {
            "_model_module": "@jupyter-widgets/controls",
            "_model_module_version": "1.5.0",
            "_model_name": "DescriptionStyleModel",
            "_view_count": null,
            "_view_module": "@jupyter-widgets/base",
            "_view_module_version": "1.2.0",
            "_view_name": "StyleView",
            "description_width": ""
          }
        },
        "5dddf9f6bc964f6e915b12a713011552": {
          "model_module": "@jupyter-widgets/base",
          "model_name": "LayoutModel",
          "model_module_version": "1.2.0",
          "state": {
            "_model_module": "@jupyter-widgets/base",
            "_model_module_version": "1.2.0",
            "_model_name": "LayoutModel",
            "_view_count": null,
            "_view_module": "@jupyter-widgets/base",
            "_view_module_version": "1.2.0",
            "_view_name": "LayoutView",
            "align_content": null,
            "align_items": null,
            "align_self": null,
            "border": null,
            "bottom": null,
            "display": null,
            "flex": null,
            "flex_flow": null,
            "grid_area": null,
            "grid_auto_columns": null,
            "grid_auto_flow": null,
            "grid_auto_rows": null,
            "grid_column": null,
            "grid_gap": null,
            "grid_row": null,
            "grid_template_areas": null,
            "grid_template_columns": null,
            "grid_template_rows": null,
            "height": null,
            "justify_content": null,
            "justify_items": null,
            "left": null,
            "margin": null,
            "max_height": null,
            "max_width": null,
            "min_height": null,
            "min_width": null,
            "object_fit": null,
            "object_position": null,
            "order": null,
            "overflow": null,
            "overflow_x": null,
            "overflow_y": null,
            "padding": null,
            "right": null,
            "top": null,
            "visibility": null,
            "width": "20px"
          }
        },
        "b4fe85e63cc542b69f509664fa543691": {
          "model_module": "@jupyter-widgets/controls",
          "model_name": "ProgressStyleModel",
          "model_module_version": "1.5.0",
          "state": {
            "_model_module": "@jupyter-widgets/controls",
            "_model_module_version": "1.5.0",
            "_model_name": "ProgressStyleModel",
            "_view_count": null,
            "_view_module": "@jupyter-widgets/base",
            "_view_module_version": "1.2.0",
            "_view_name": "StyleView",
            "bar_color": null,
            "description_width": ""
          }
        },
        "19e0091ed2ca4ce4bd956e070794c640": {
          "model_module": "@jupyter-widgets/base",
          "model_name": "LayoutModel",
          "model_module_version": "1.2.0",
          "state": {
            "_model_module": "@jupyter-widgets/base",
            "_model_module_version": "1.2.0",
            "_model_name": "LayoutModel",
            "_view_count": null,
            "_view_module": "@jupyter-widgets/base",
            "_view_module_version": "1.2.0",
            "_view_name": "LayoutView",
            "align_content": null,
            "align_items": null,
            "align_self": null,
            "border": null,
            "bottom": null,
            "display": null,
            "flex": null,
            "flex_flow": null,
            "grid_area": null,
            "grid_auto_columns": null,
            "grid_auto_flow": null,
            "grid_auto_rows": null,
            "grid_column": null,
            "grid_gap": null,
            "grid_row": null,
            "grid_template_areas": null,
            "grid_template_columns": null,
            "grid_template_rows": null,
            "height": null,
            "justify_content": null,
            "justify_items": null,
            "left": null,
            "margin": null,
            "max_height": null,
            "max_width": null,
            "min_height": null,
            "min_width": null,
            "object_fit": null,
            "object_position": null,
            "order": null,
            "overflow": null,
            "overflow_x": null,
            "overflow_y": null,
            "padding": null,
            "right": null,
            "top": null,
            "visibility": null,
            "width": null
          }
        },
        "ab4c0552c0ff4e76bbb286a0485eca58": {
          "model_module": "@jupyter-widgets/controls",
          "model_name": "DescriptionStyleModel",
          "model_module_version": "1.5.0",
          "state": {
            "_model_module": "@jupyter-widgets/controls",
            "_model_module_version": "1.5.0",
            "_model_name": "DescriptionStyleModel",
            "_view_count": null,
            "_view_module": "@jupyter-widgets/base",
            "_view_module_version": "1.2.0",
            "_view_name": "StyleView",
            "description_width": ""
          }
        },
        "17319ec2b46b44978916848b8dd0d8ff": {
          "model_module": "@jupyter-widgets/controls",
          "model_name": "HBoxModel",
          "model_module_version": "1.5.0",
          "state": {
            "_dom_classes": [],
            "_model_module": "@jupyter-widgets/controls",
            "_model_module_version": "1.5.0",
            "_model_name": "HBoxModel",
            "_view_count": null,
            "_view_module": "@jupyter-widgets/controls",
            "_view_module_version": "1.5.0",
            "_view_name": "HBoxView",
            "box_style": "",
            "children": [
              "IPY_MODEL_9d76db9da77b45c2b75c5f3edb6c6be5",
              "IPY_MODEL_d79298efcfee4d30aa8250ab777059e9",
              "IPY_MODEL_fb8dc179106c4b92985b4db5ac255a80"
            ],
            "layout": "IPY_MODEL_2d8088be6c0b4e3390b3966b5345e25e"
          }
        },
        "9d76db9da77b45c2b75c5f3edb6c6be5": {
          "model_module": "@jupyter-widgets/controls",
          "model_name": "HTMLModel",
          "model_module_version": "1.5.0",
          "state": {
            "_dom_classes": [],
            "_model_module": "@jupyter-widgets/controls",
            "_model_module_version": "1.5.0",
            "_model_name": "HTMLModel",
            "_view_count": null,
            "_view_module": "@jupyter-widgets/controls",
            "_view_module_version": "1.5.0",
            "_view_name": "HTMLView",
            "description": "",
            "description_tooltip": null,
            "layout": "IPY_MODEL_504fd52fea0440ad815e595f41aa8f8f",
            "placeholder": "​",
            "style": "IPY_MODEL_56df4912591f4d4b81fb32455907667c",
            "value": ""
          }
        },
        "d79298efcfee4d30aa8250ab777059e9": {
          "model_module": "@jupyter-widgets/controls",
          "model_name": "FloatProgressModel",
          "model_module_version": "1.5.0",
          "state": {
            "_dom_classes": [],
            "_model_module": "@jupyter-widgets/controls",
            "_model_module_version": "1.5.0",
            "_model_name": "FloatProgressModel",
            "_view_count": null,
            "_view_module": "@jupyter-widgets/controls",
            "_view_module_version": "1.5.0",
            "_view_name": "ProgressView",
            "bar_style": "success",
            "description": "",
            "description_tooltip": null,
            "layout": "IPY_MODEL_0ff47e7102cc48c9b33f2f9dd5593cdc",
            "max": 1,
            "min": 0,
            "orientation": "horizontal",
            "style": "IPY_MODEL_96074046125544d2ac6e4b4d8012e2bc",
            "value": 1
          }
        },
        "fb8dc179106c4b92985b4db5ac255a80": {
          "model_module": "@jupyter-widgets/controls",
          "model_name": "HTMLModel",
          "model_module_version": "1.5.0",
          "state": {
            "_dom_classes": [],
            "_model_module": "@jupyter-widgets/controls",
            "_model_module_version": "1.5.0",
            "_model_name": "HTMLModel",
            "_view_count": null,
            "_view_module": "@jupyter-widgets/controls",
            "_view_module_version": "1.5.0",
            "_view_name": "HTMLView",
            "description": "",
            "description_tooltip": null,
            "layout": "IPY_MODEL_982950f9c9f5490cab7c98993fabe727",
            "placeholder": "​",
            "style": "IPY_MODEL_37bc51976e2a47ee8e05a39cab7a182c",
            "value": " 161813/? [00:57&lt;00:00, 2812.04ex/s]"
          }
        },
        "2d8088be6c0b4e3390b3966b5345e25e": {
          "model_module": "@jupyter-widgets/base",
          "model_name": "LayoutModel",
          "model_module_version": "1.2.0",
          "state": {
            "_model_module": "@jupyter-widgets/base",
            "_model_module_version": "1.2.0",
            "_model_name": "LayoutModel",
            "_view_count": null,
            "_view_module": "@jupyter-widgets/base",
            "_view_module_version": "1.2.0",
            "_view_name": "LayoutView",
            "align_content": null,
            "align_items": null,
            "align_self": null,
            "border": null,
            "bottom": null,
            "display": null,
            "flex": null,
            "flex_flow": null,
            "grid_area": null,
            "grid_auto_columns": null,
            "grid_auto_flow": null,
            "grid_auto_rows": null,
            "grid_column": null,
            "grid_gap": null,
            "grid_row": null,
            "grid_template_areas": null,
            "grid_template_columns": null,
            "grid_template_rows": null,
            "height": null,
            "justify_content": null,
            "justify_items": null,
            "left": null,
            "margin": null,
            "max_height": null,
            "max_width": null,
            "min_height": null,
            "min_width": null,
            "object_fit": null,
            "object_position": null,
            "order": null,
            "overflow": null,
            "overflow_x": null,
            "overflow_y": null,
            "padding": null,
            "right": null,
            "top": null,
            "visibility": null,
            "width": null
          }
        },
        "504fd52fea0440ad815e595f41aa8f8f": {
          "model_module": "@jupyter-widgets/base",
          "model_name": "LayoutModel",
          "model_module_version": "1.2.0",
          "state": {
            "_model_module": "@jupyter-widgets/base",
            "_model_module_version": "1.2.0",
            "_model_name": "LayoutModel",
            "_view_count": null,
            "_view_module": "@jupyter-widgets/base",
            "_view_module_version": "1.2.0",
            "_view_name": "LayoutView",
            "align_content": null,
            "align_items": null,
            "align_self": null,
            "border": null,
            "bottom": null,
            "display": null,
            "flex": null,
            "flex_flow": null,
            "grid_area": null,
            "grid_auto_columns": null,
            "grid_auto_flow": null,
            "grid_auto_rows": null,
            "grid_column": null,
            "grid_gap": null,
            "grid_row": null,
            "grid_template_areas": null,
            "grid_template_columns": null,
            "grid_template_rows": null,
            "height": null,
            "justify_content": null,
            "justify_items": null,
            "left": null,
            "margin": null,
            "max_height": null,
            "max_width": null,
            "min_height": null,
            "min_width": null,
            "object_fit": null,
            "object_position": null,
            "order": null,
            "overflow": null,
            "overflow_x": null,
            "overflow_y": null,
            "padding": null,
            "right": null,
            "top": null,
            "visibility": null,
            "width": null
          }
        },
        "56df4912591f4d4b81fb32455907667c": {
          "model_module": "@jupyter-widgets/controls",
          "model_name": "DescriptionStyleModel",
          "model_module_version": "1.5.0",
          "state": {
            "_model_module": "@jupyter-widgets/controls",
            "_model_module_version": "1.5.0",
            "_model_name": "DescriptionStyleModel",
            "_view_count": null,
            "_view_module": "@jupyter-widgets/base",
            "_view_module_version": "1.2.0",
            "_view_name": "StyleView",
            "description_width": ""
          }
        },
        "0ff47e7102cc48c9b33f2f9dd5593cdc": {
          "model_module": "@jupyter-widgets/base",
          "model_name": "LayoutModel",
          "model_module_version": "1.2.0",
          "state": {
            "_model_module": "@jupyter-widgets/base",
            "_model_module_version": "1.2.0",
            "_model_name": "LayoutModel",
            "_view_count": null,
            "_view_module": "@jupyter-widgets/base",
            "_view_module_version": "1.2.0",
            "_view_name": "LayoutView",
            "align_content": null,
            "align_items": null,
            "align_self": null,
            "border": null,
            "bottom": null,
            "display": null,
            "flex": null,
            "flex_flow": null,
            "grid_area": null,
            "grid_auto_columns": null,
            "grid_auto_flow": null,
            "grid_auto_rows": null,
            "grid_column": null,
            "grid_gap": null,
            "grid_row": null,
            "grid_template_areas": null,
            "grid_template_columns": null,
            "grid_template_rows": null,
            "height": null,
            "justify_content": null,
            "justify_items": null,
            "left": null,
            "margin": null,
            "max_height": null,
            "max_width": null,
            "min_height": null,
            "min_width": null,
            "object_fit": null,
            "object_position": null,
            "order": null,
            "overflow": null,
            "overflow_x": null,
            "overflow_y": null,
            "padding": null,
            "right": null,
            "top": null,
            "visibility": null,
            "width": "20px"
          }
        },
        "96074046125544d2ac6e4b4d8012e2bc": {
          "model_module": "@jupyter-widgets/controls",
          "model_name": "ProgressStyleModel",
          "model_module_version": "1.5.0",
          "state": {
            "_model_module": "@jupyter-widgets/controls",
            "_model_module_version": "1.5.0",
            "_model_name": "ProgressStyleModel",
            "_view_count": null,
            "_view_module": "@jupyter-widgets/base",
            "_view_module_version": "1.2.0",
            "_view_name": "StyleView",
            "bar_color": null,
            "description_width": ""
          }
        },
        "982950f9c9f5490cab7c98993fabe727": {
          "model_module": "@jupyter-widgets/base",
          "model_name": "LayoutModel",
          "model_module_version": "1.2.0",
          "state": {
            "_model_module": "@jupyter-widgets/base",
            "_model_module_version": "1.2.0",
            "_model_name": "LayoutModel",
            "_view_count": null,
            "_view_module": "@jupyter-widgets/base",
            "_view_module_version": "1.2.0",
            "_view_name": "LayoutView",
            "align_content": null,
            "align_items": null,
            "align_self": null,
            "border": null,
            "bottom": null,
            "display": null,
            "flex": null,
            "flex_flow": null,
            "grid_area": null,
            "grid_auto_columns": null,
            "grid_auto_flow": null,
            "grid_auto_rows": null,
            "grid_column": null,
            "grid_gap": null,
            "grid_row": null,
            "grid_template_areas": null,
            "grid_template_columns": null,
            "grid_template_rows": null,
            "height": null,
            "justify_content": null,
            "justify_items": null,
            "left": null,
            "margin": null,
            "max_height": null,
            "max_width": null,
            "min_height": null,
            "min_width": null,
            "object_fit": null,
            "object_position": null,
            "order": null,
            "overflow": null,
            "overflow_x": null,
            "overflow_y": null,
            "padding": null,
            "right": null,
            "top": null,
            "visibility": null,
            "width": null
          }
        },
        "37bc51976e2a47ee8e05a39cab7a182c": {
          "model_module": "@jupyter-widgets/controls",
          "model_name": "DescriptionStyleModel",
          "model_module_version": "1.5.0",
          "state": {
            "_model_module": "@jupyter-widgets/controls",
            "_model_module_version": "1.5.0",
            "_model_name": "DescriptionStyleModel",
            "_view_count": null,
            "_view_module": "@jupyter-widgets/base",
            "_view_module_version": "1.2.0",
            "_view_name": "StyleView",
            "description_width": ""
          }
        },
        "b76b7d825f544bdd82d36ba21c3236b7": {
          "model_module": "@jupyter-widgets/controls",
          "model_name": "HBoxModel",
          "model_module_version": "1.5.0",
          "state": {
            "_dom_classes": [],
            "_model_module": "@jupyter-widgets/controls",
            "_model_module_version": "1.5.0",
            "_model_name": "HBoxModel",
            "_view_count": null,
            "_view_module": "@jupyter-widgets/controls",
            "_view_module_version": "1.5.0",
            "_view_name": "HBoxView",
            "box_style": "",
            "children": [
              "IPY_MODEL_53e9e05f37f14fa7ba3b5916dfe57728",
              "IPY_MODEL_ebb4f1ced2514c4ea2d19245fc0a043f",
              "IPY_MODEL_0e886d2d41ad4825ab471dd23ce212ce"
            ],
            "layout": "IPY_MODEL_c6ddc5cda47d4d2ebfaa4a8aa0002e89"
          }
        },
        "53e9e05f37f14fa7ba3b5916dfe57728": {
          "model_module": "@jupyter-widgets/controls",
          "model_name": "HTMLModel",
          "model_module_version": "1.5.0",
          "state": {
            "_dom_classes": [],
            "_model_module": "@jupyter-widgets/controls",
            "_model_module_version": "1.5.0",
            "_model_name": "HTMLModel",
            "_view_count": null,
            "_view_module": "@jupyter-widgets/controls",
            "_view_module_version": "1.5.0",
            "_view_name": "HTMLView",
            "description": "",
            "description_tooltip": null,
            "layout": "IPY_MODEL_e6ed09819cd54774bfc4afc3ca79a9be",
            "placeholder": "​",
            "style": "IPY_MODEL_acb96d2d277e42dd9bf82bd1a77bcfba",
            "value": ""
          }
        },
        "ebb4f1ced2514c4ea2d19245fc0a043f": {
          "model_module": "@jupyter-widgets/controls",
          "model_name": "FloatProgressModel",
          "model_module_version": "1.5.0",
          "state": {
            "_dom_classes": [],
            "_model_module": "@jupyter-widgets/controls",
            "_model_module_version": "1.5.0",
            "_model_name": "FloatProgressModel",
            "_view_count": null,
            "_view_module": "@jupyter-widgets/controls",
            "_view_module_version": "1.5.0",
            "_view_name": "ProgressView",
            "bar_style": "success",
            "description": "",
            "description_tooltip": null,
            "layout": "IPY_MODEL_8d2767e8391e4e6c9ec42c084d34e80d",
            "max": 1,
            "min": 0,
            "orientation": "horizontal",
            "style": "IPY_MODEL_c3551978c3734f949a18c5c916180bd2",
            "value": 1
          }
        },
        "0e886d2d41ad4825ab471dd23ce212ce": {
          "model_module": "@jupyter-widgets/controls",
          "model_name": "HTMLModel",
          "model_module_version": "1.5.0",
          "state": {
            "_dom_classes": [],
            "_model_module": "@jupyter-widgets/controls",
            "_model_module_version": "1.5.0",
            "_model_name": "HTMLModel",
            "_view_count": null,
            "_view_module": "@jupyter-widgets/controls",
            "_view_module_version": "1.5.0",
            "_view_name": "HTMLView",
            "description": "",
            "description_tooltip": null,
            "layout": "IPY_MODEL_1f0d9a1ae23d47acae401c5bb567233d",
            "placeholder": "​",
            "style": "IPY_MODEL_94bd263331f74258a64fd44568aea7b0",
            "value": " 15089/? [00:06&lt;00:00, 2921.14ex/s]"
          }
        },
        "c6ddc5cda47d4d2ebfaa4a8aa0002e89": {
          "model_module": "@jupyter-widgets/base",
          "model_name": "LayoutModel",
          "model_module_version": "1.2.0",
          "state": {
            "_model_module": "@jupyter-widgets/base",
            "_model_module_version": "1.2.0",
            "_model_name": "LayoutModel",
            "_view_count": null,
            "_view_module": "@jupyter-widgets/base",
            "_view_module_version": "1.2.0",
            "_view_name": "LayoutView",
            "align_content": null,
            "align_items": null,
            "align_self": null,
            "border": null,
            "bottom": null,
            "display": null,
            "flex": null,
            "flex_flow": null,
            "grid_area": null,
            "grid_auto_columns": null,
            "grid_auto_flow": null,
            "grid_auto_rows": null,
            "grid_column": null,
            "grid_gap": null,
            "grid_row": null,
            "grid_template_areas": null,
            "grid_template_columns": null,
            "grid_template_rows": null,
            "height": null,
            "justify_content": null,
            "justify_items": null,
            "left": null,
            "margin": null,
            "max_height": null,
            "max_width": null,
            "min_height": null,
            "min_width": null,
            "object_fit": null,
            "object_position": null,
            "order": null,
            "overflow": null,
            "overflow_x": null,
            "overflow_y": null,
            "padding": null,
            "right": null,
            "top": null,
            "visibility": null,
            "width": null
          }
        },
        "e6ed09819cd54774bfc4afc3ca79a9be": {
          "model_module": "@jupyter-widgets/base",
          "model_name": "LayoutModel",
          "model_module_version": "1.2.0",
          "state": {
            "_model_module": "@jupyter-widgets/base",
            "_model_module_version": "1.2.0",
            "_model_name": "LayoutModel",
            "_view_count": null,
            "_view_module": "@jupyter-widgets/base",
            "_view_module_version": "1.2.0",
            "_view_name": "LayoutView",
            "align_content": null,
            "align_items": null,
            "align_self": null,
            "border": null,
            "bottom": null,
            "display": null,
            "flex": null,
            "flex_flow": null,
            "grid_area": null,
            "grid_auto_columns": null,
            "grid_auto_flow": null,
            "grid_auto_rows": null,
            "grid_column": null,
            "grid_gap": null,
            "grid_row": null,
            "grid_template_areas": null,
            "grid_template_columns": null,
            "grid_template_rows": null,
            "height": null,
            "justify_content": null,
            "justify_items": null,
            "left": null,
            "margin": null,
            "max_height": null,
            "max_width": null,
            "min_height": null,
            "min_width": null,
            "object_fit": null,
            "object_position": null,
            "order": null,
            "overflow": null,
            "overflow_x": null,
            "overflow_y": null,
            "padding": null,
            "right": null,
            "top": null,
            "visibility": null,
            "width": null
          }
        },
        "acb96d2d277e42dd9bf82bd1a77bcfba": {
          "model_module": "@jupyter-widgets/controls",
          "model_name": "DescriptionStyleModel",
          "model_module_version": "1.5.0",
          "state": {
            "_model_module": "@jupyter-widgets/controls",
            "_model_module_version": "1.5.0",
            "_model_name": "DescriptionStyleModel",
            "_view_count": null,
            "_view_module": "@jupyter-widgets/base",
            "_view_module_version": "1.2.0",
            "_view_name": "StyleView",
            "description_width": ""
          }
        },
        "8d2767e8391e4e6c9ec42c084d34e80d": {
          "model_module": "@jupyter-widgets/base",
          "model_name": "LayoutModel",
          "model_module_version": "1.2.0",
          "state": {
            "_model_module": "@jupyter-widgets/base",
            "_model_module_version": "1.2.0",
            "_model_name": "LayoutModel",
            "_view_count": null,
            "_view_module": "@jupyter-widgets/base",
            "_view_module_version": "1.2.0",
            "_view_name": "LayoutView",
            "align_content": null,
            "align_items": null,
            "align_self": null,
            "border": null,
            "bottom": null,
            "display": null,
            "flex": null,
            "flex_flow": null,
            "grid_area": null,
            "grid_auto_columns": null,
            "grid_auto_flow": null,
            "grid_auto_rows": null,
            "grid_column": null,
            "grid_gap": null,
            "grid_row": null,
            "grid_template_areas": null,
            "grid_template_columns": null,
            "grid_template_rows": null,
            "height": null,
            "justify_content": null,
            "justify_items": null,
            "left": null,
            "margin": null,
            "max_height": null,
            "max_width": null,
            "min_height": null,
            "min_width": null,
            "object_fit": null,
            "object_position": null,
            "order": null,
            "overflow": null,
            "overflow_x": null,
            "overflow_y": null,
            "padding": null,
            "right": null,
            "top": null,
            "visibility": null,
            "width": "20px"
          }
        },
        "c3551978c3734f949a18c5c916180bd2": {
          "model_module": "@jupyter-widgets/controls",
          "model_name": "ProgressStyleModel",
          "model_module_version": "1.5.0",
          "state": {
            "_model_module": "@jupyter-widgets/controls",
            "_model_module_version": "1.5.0",
            "_model_name": "ProgressStyleModel",
            "_view_count": null,
            "_view_module": "@jupyter-widgets/base",
            "_view_module_version": "1.2.0",
            "_view_name": "StyleView",
            "bar_color": null,
            "description_width": ""
          }
        },
        "1f0d9a1ae23d47acae401c5bb567233d": {
          "model_module": "@jupyter-widgets/base",
          "model_name": "LayoutModel",
          "model_module_version": "1.2.0",
          "state": {
            "_model_module": "@jupyter-widgets/base",
            "_model_module_version": "1.2.0",
            "_model_name": "LayoutModel",
            "_view_count": null,
            "_view_module": "@jupyter-widgets/base",
            "_view_module_version": "1.2.0",
            "_view_name": "LayoutView",
            "align_content": null,
            "align_items": null,
            "align_self": null,
            "border": null,
            "bottom": null,
            "display": null,
            "flex": null,
            "flex_flow": null,
            "grid_area": null,
            "grid_auto_columns": null,
            "grid_auto_flow": null,
            "grid_auto_rows": null,
            "grid_column": null,
            "grid_gap": null,
            "grid_row": null,
            "grid_template_areas": null,
            "grid_template_columns": null,
            "grid_template_rows": null,
            "height": null,
            "justify_content": null,
            "justify_items": null,
            "left": null,
            "margin": null,
            "max_height": null,
            "max_width": null,
            "min_height": null,
            "min_width": null,
            "object_fit": null,
            "object_position": null,
            "order": null,
            "overflow": null,
            "overflow_x": null,
            "overflow_y": null,
            "padding": null,
            "right": null,
            "top": null,
            "visibility": null,
            "width": null
          }
        },
        "94bd263331f74258a64fd44568aea7b0": {
          "model_module": "@jupyter-widgets/controls",
          "model_name": "DescriptionStyleModel",
          "model_module_version": "1.5.0",
          "state": {
            "_model_module": "@jupyter-widgets/controls",
            "_model_module_version": "1.5.0",
            "_model_name": "DescriptionStyleModel",
            "_view_count": null,
            "_view_module": "@jupyter-widgets/base",
            "_view_module_version": "1.2.0",
            "_view_name": "StyleView",
            "description_width": ""
          }
        },
        "2c9079696e50431ba46b980f1418ed32": {
          "model_module": "@jupyter-widgets/controls",
          "model_name": "HBoxModel",
          "model_module_version": "1.5.0",
          "state": {
            "_dom_classes": [],
            "_model_module": "@jupyter-widgets/controls",
            "_model_module_version": "1.5.0",
            "_model_name": "HBoxModel",
            "_view_count": null,
            "_view_module": "@jupyter-widgets/controls",
            "_view_module_version": "1.5.0",
            "_view_name": "HBoxView",
            "box_style": "",
            "children": [
              "IPY_MODEL_3f0e99ec6b804810950c306a70621ba3",
              "IPY_MODEL_2919ec8f4333496d88fb5f9ab472eb3e",
              "IPY_MODEL_b170086704b6491488660d233b509257"
            ],
            "layout": "IPY_MODEL_e4d5848bce5443b1a25941a9f57d1746"
          }
        },
        "3f0e99ec6b804810950c306a70621ba3": {
          "model_module": "@jupyter-widgets/controls",
          "model_name": "HTMLModel",
          "model_module_version": "1.5.0",
          "state": {
            "_dom_classes": [],
            "_model_module": "@jupyter-widgets/controls",
            "_model_module_version": "1.5.0",
            "_model_name": "HTMLModel",
            "_view_count": null,
            "_view_module": "@jupyter-widgets/controls",
            "_view_module_version": "1.5.0",
            "_view_name": "HTMLView",
            "description": "",
            "description_tooltip": null,
            "layout": "IPY_MODEL_694f272de5944de89a8b302105afc3a5",
            "placeholder": "​",
            "style": "IPY_MODEL_868c755f3a234eafaa71876b4ca23f20",
            "value": "100%"
          }
        },
        "2919ec8f4333496d88fb5f9ab472eb3e": {
          "model_module": "@jupyter-widgets/controls",
          "model_name": "FloatProgressModel",
          "model_module_version": "1.5.0",
          "state": {
            "_dom_classes": [],
            "_model_module": "@jupyter-widgets/controls",
            "_model_module_version": "1.5.0",
            "_model_name": "FloatProgressModel",
            "_view_count": null,
            "_view_module": "@jupyter-widgets/controls",
            "_view_module_version": "1.5.0",
            "_view_name": "ProgressView",
            "bar_style": "success",
            "description": "",
            "description_tooltip": null,
            "layout": "IPY_MODEL_7661d122b0414b04a5fe6f17f17633e5",
            "max": 1,
            "min": 0,
            "orientation": "horizontal",
            "style": "IPY_MODEL_b9d326aa6768422a8ede20490ab9fb47",
            "value": 1
          }
        },
        "b170086704b6491488660d233b509257": {
          "model_module": "@jupyter-widgets/controls",
          "model_name": "HTMLModel",
          "model_module_version": "1.5.0",
          "state": {
            "_dom_classes": [],
            "_model_module": "@jupyter-widgets/controls",
            "_model_module_version": "1.5.0",
            "_model_name": "HTMLModel",
            "_view_count": null,
            "_view_module": "@jupyter-widgets/controls",
            "_view_module_version": "1.5.0",
            "_view_name": "HTMLView",
            "description": "",
            "description_tooltip": null,
            "layout": "IPY_MODEL_85f91f8c6e3f4deaa1434c6abd376667",
            "placeholder": "​",
            "style": "IPY_MODEL_4832eec048ab45f8be6d160b7e072087",
            "value": " 1/1 [00:06&lt;00:00,  6.47s/ba]"
          }
        },
        "e4d5848bce5443b1a25941a9f57d1746": {
          "model_module": "@jupyter-widgets/base",
          "model_name": "LayoutModel",
          "model_module_version": "1.2.0",
          "state": {
            "_model_module": "@jupyter-widgets/base",
            "_model_module_version": "1.2.0",
            "_model_name": "LayoutModel",
            "_view_count": null,
            "_view_module": "@jupyter-widgets/base",
            "_view_module_version": "1.2.0",
            "_view_name": "LayoutView",
            "align_content": null,
            "align_items": null,
            "align_self": null,
            "border": null,
            "bottom": null,
            "display": null,
            "flex": null,
            "flex_flow": null,
            "grid_area": null,
            "grid_auto_columns": null,
            "grid_auto_flow": null,
            "grid_auto_rows": null,
            "grid_column": null,
            "grid_gap": null,
            "grid_row": null,
            "grid_template_areas": null,
            "grid_template_columns": null,
            "grid_template_rows": null,
            "height": null,
            "justify_content": null,
            "justify_items": null,
            "left": null,
            "margin": null,
            "max_height": null,
            "max_width": null,
            "min_height": null,
            "min_width": null,
            "object_fit": null,
            "object_position": null,
            "order": null,
            "overflow": null,
            "overflow_x": null,
            "overflow_y": null,
            "padding": null,
            "right": null,
            "top": null,
            "visibility": null,
            "width": null
          }
        },
        "694f272de5944de89a8b302105afc3a5": {
          "model_module": "@jupyter-widgets/base",
          "model_name": "LayoutModel",
          "model_module_version": "1.2.0",
          "state": {
            "_model_module": "@jupyter-widgets/base",
            "_model_module_version": "1.2.0",
            "_model_name": "LayoutModel",
            "_view_count": null,
            "_view_module": "@jupyter-widgets/base",
            "_view_module_version": "1.2.0",
            "_view_name": "LayoutView",
            "align_content": null,
            "align_items": null,
            "align_self": null,
            "border": null,
            "bottom": null,
            "display": null,
            "flex": null,
            "flex_flow": null,
            "grid_area": null,
            "grid_auto_columns": null,
            "grid_auto_flow": null,
            "grid_auto_rows": null,
            "grid_column": null,
            "grid_gap": null,
            "grid_row": null,
            "grid_template_areas": null,
            "grid_template_columns": null,
            "grid_template_rows": null,
            "height": null,
            "justify_content": null,
            "justify_items": null,
            "left": null,
            "margin": null,
            "max_height": null,
            "max_width": null,
            "min_height": null,
            "min_width": null,
            "object_fit": null,
            "object_position": null,
            "order": null,
            "overflow": null,
            "overflow_x": null,
            "overflow_y": null,
            "padding": null,
            "right": null,
            "top": null,
            "visibility": null,
            "width": null
          }
        },
        "868c755f3a234eafaa71876b4ca23f20": {
          "model_module": "@jupyter-widgets/controls",
          "model_name": "DescriptionStyleModel",
          "model_module_version": "1.5.0",
          "state": {
            "_model_module": "@jupyter-widgets/controls",
            "_model_module_version": "1.5.0",
            "_model_name": "DescriptionStyleModel",
            "_view_count": null,
            "_view_module": "@jupyter-widgets/base",
            "_view_module_version": "1.2.0",
            "_view_name": "StyleView",
            "description_width": ""
          }
        },
        "7661d122b0414b04a5fe6f17f17633e5": {
          "model_module": "@jupyter-widgets/base",
          "model_name": "LayoutModel",
          "model_module_version": "1.2.0",
          "state": {
            "_model_module": "@jupyter-widgets/base",
            "_model_module_version": "1.2.0",
            "_model_name": "LayoutModel",
            "_view_count": null,
            "_view_module": "@jupyter-widgets/base",
            "_view_module_version": "1.2.0",
            "_view_name": "LayoutView",
            "align_content": null,
            "align_items": null,
            "align_self": null,
            "border": null,
            "bottom": null,
            "display": null,
            "flex": null,
            "flex_flow": null,
            "grid_area": null,
            "grid_auto_columns": null,
            "grid_auto_flow": null,
            "grid_auto_rows": null,
            "grid_column": null,
            "grid_gap": null,
            "grid_row": null,
            "grid_template_areas": null,
            "grid_template_columns": null,
            "grid_template_rows": null,
            "height": null,
            "justify_content": null,
            "justify_items": null,
            "left": null,
            "margin": null,
            "max_height": null,
            "max_width": null,
            "min_height": null,
            "min_width": null,
            "object_fit": null,
            "object_position": null,
            "order": null,
            "overflow": null,
            "overflow_x": null,
            "overflow_y": null,
            "padding": null,
            "right": null,
            "top": null,
            "visibility": null,
            "width": null
          }
        },
        "b9d326aa6768422a8ede20490ab9fb47": {
          "model_module": "@jupyter-widgets/controls",
          "model_name": "ProgressStyleModel",
          "model_module_version": "1.5.0",
          "state": {
            "_model_module": "@jupyter-widgets/controls",
            "_model_module_version": "1.5.0",
            "_model_name": "ProgressStyleModel",
            "_view_count": null,
            "_view_module": "@jupyter-widgets/base",
            "_view_module_version": "1.2.0",
            "_view_name": "StyleView",
            "bar_color": null,
            "description_width": ""
          }
        },
        "85f91f8c6e3f4deaa1434c6abd376667": {
          "model_module": "@jupyter-widgets/base",
          "model_name": "LayoutModel",
          "model_module_version": "1.2.0",
          "state": {
            "_model_module": "@jupyter-widgets/base",
            "_model_module_version": "1.2.0",
            "_model_name": "LayoutModel",
            "_view_count": null,
            "_view_module": "@jupyter-widgets/base",
            "_view_module_version": "1.2.0",
            "_view_name": "LayoutView",
            "align_content": null,
            "align_items": null,
            "align_self": null,
            "border": null,
            "bottom": null,
            "display": null,
            "flex": null,
            "flex_flow": null,
            "grid_area": null,
            "grid_auto_columns": null,
            "grid_auto_flow": null,
            "grid_auto_rows": null,
            "grid_column": null,
            "grid_gap": null,
            "grid_row": null,
            "grid_template_areas": null,
            "grid_template_columns": null,
            "grid_template_rows": null,
            "height": null,
            "justify_content": null,
            "justify_items": null,
            "left": null,
            "margin": null,
            "max_height": null,
            "max_width": null,
            "min_height": null,
            "min_width": null,
            "object_fit": null,
            "object_position": null,
            "order": null,
            "overflow": null,
            "overflow_x": null,
            "overflow_y": null,
            "padding": null,
            "right": null,
            "top": null,
            "visibility": null,
            "width": null
          }
        },
        "4832eec048ab45f8be6d160b7e072087": {
          "model_module": "@jupyter-widgets/controls",
          "model_name": "DescriptionStyleModel",
          "model_module_version": "1.5.0",
          "state": {
            "_model_module": "@jupyter-widgets/controls",
            "_model_module_version": "1.5.0",
            "_model_name": "DescriptionStyleModel",
            "_view_count": null,
            "_view_module": "@jupyter-widgets/base",
            "_view_module_version": "1.2.0",
            "_view_name": "StyleView",
            "description_width": ""
          }
        },
        "1f54b82179ca416b8bf78d61dcd028f1": {
          "model_module": "@jupyter-widgets/controls",
          "model_name": "HBoxModel",
          "model_module_version": "1.5.0",
          "state": {
            "_dom_classes": [],
            "_model_module": "@jupyter-widgets/controls",
            "_model_module_version": "1.5.0",
            "_model_name": "HBoxModel",
            "_view_count": null,
            "_view_module": "@jupyter-widgets/controls",
            "_view_module_version": "1.5.0",
            "_view_name": "HBoxView",
            "box_style": "",
            "children": [
              "IPY_MODEL_238a3496307b4f5a97e56f87513f192d",
              "IPY_MODEL_6021642eb92b435e82961fde8cfc183c",
              "IPY_MODEL_f689f0fb22434e179fe944fec35ff56a"
            ],
            "layout": "IPY_MODEL_ba471f7e23d84359aee72ae69317c2b2"
          }
        },
        "238a3496307b4f5a97e56f87513f192d": {
          "model_module": "@jupyter-widgets/controls",
          "model_name": "HTMLModel",
          "model_module_version": "1.5.0",
          "state": {
            "_dom_classes": [],
            "_model_module": "@jupyter-widgets/controls",
            "_model_module_version": "1.5.0",
            "_model_name": "HTMLModel",
            "_view_count": null,
            "_view_module": "@jupyter-widgets/controls",
            "_view_module_version": "1.5.0",
            "_view_name": "HTMLView",
            "description": "",
            "description_tooltip": null,
            "layout": "IPY_MODEL_047d19be73f2416b9bff154353bc7c74",
            "placeholder": "​",
            "style": "IPY_MODEL_f3f26238a0fb4d04a1fe2b5417be68e3",
            "value": "100%"
          }
        },
        "6021642eb92b435e82961fde8cfc183c": {
          "model_module": "@jupyter-widgets/controls",
          "model_name": "FloatProgressModel",
          "model_module_version": "1.5.0",
          "state": {
            "_dom_classes": [],
            "_model_module": "@jupyter-widgets/controls",
            "_model_module_version": "1.5.0",
            "_model_name": "FloatProgressModel",
            "_view_count": null,
            "_view_module": "@jupyter-widgets/controls",
            "_view_module_version": "1.5.0",
            "_view_name": "ProgressView",
            "bar_style": "success",
            "description": "",
            "description_tooltip": null,
            "layout": "IPY_MODEL_54cbc2114645426d8cbfb189c56a839d",
            "max": 1,
            "min": 0,
            "orientation": "horizontal",
            "style": "IPY_MODEL_018a3607991743a29b30230f2f506e2f",
            "value": 1
          }
        },
        "f689f0fb22434e179fe944fec35ff56a": {
          "model_module": "@jupyter-widgets/controls",
          "model_name": "HTMLModel",
          "model_module_version": "1.5.0",
          "state": {
            "_dom_classes": [],
            "_model_module": "@jupyter-widgets/controls",
            "_model_module_version": "1.5.0",
            "_model_name": "HTMLModel",
            "_view_count": null,
            "_view_module": "@jupyter-widgets/controls",
            "_view_module_version": "1.5.0",
            "_view_name": "HTMLView",
            "description": "",
            "description_tooltip": null,
            "layout": "IPY_MODEL_410f57bf841343188ad893c89a2f77cd",
            "placeholder": "​",
            "style": "IPY_MODEL_cdcc4087a06a4a299dc2d302d540487e",
            "value": " 1/1 [00:00&lt;00:00,  2.51ba/s]"
          }
        },
        "ba471f7e23d84359aee72ae69317c2b2": {
          "model_module": "@jupyter-widgets/base",
          "model_name": "LayoutModel",
          "model_module_version": "1.2.0",
          "state": {
            "_model_module": "@jupyter-widgets/base",
            "_model_module_version": "1.2.0",
            "_model_name": "LayoutModel",
            "_view_count": null,
            "_view_module": "@jupyter-widgets/base",
            "_view_module_version": "1.2.0",
            "_view_name": "LayoutView",
            "align_content": null,
            "align_items": null,
            "align_self": null,
            "border": null,
            "bottom": null,
            "display": null,
            "flex": null,
            "flex_flow": null,
            "grid_area": null,
            "grid_auto_columns": null,
            "grid_auto_flow": null,
            "grid_auto_rows": null,
            "grid_column": null,
            "grid_gap": null,
            "grid_row": null,
            "grid_template_areas": null,
            "grid_template_columns": null,
            "grid_template_rows": null,
            "height": null,
            "justify_content": null,
            "justify_items": null,
            "left": null,
            "margin": null,
            "max_height": null,
            "max_width": null,
            "min_height": null,
            "min_width": null,
            "object_fit": null,
            "object_position": null,
            "order": null,
            "overflow": null,
            "overflow_x": null,
            "overflow_y": null,
            "padding": null,
            "right": null,
            "top": null,
            "visibility": null,
            "width": null
          }
        },
        "047d19be73f2416b9bff154353bc7c74": {
          "model_module": "@jupyter-widgets/base",
          "model_name": "LayoutModel",
          "model_module_version": "1.2.0",
          "state": {
            "_model_module": "@jupyter-widgets/base",
            "_model_module_version": "1.2.0",
            "_model_name": "LayoutModel",
            "_view_count": null,
            "_view_module": "@jupyter-widgets/base",
            "_view_module_version": "1.2.0",
            "_view_name": "LayoutView",
            "align_content": null,
            "align_items": null,
            "align_self": null,
            "border": null,
            "bottom": null,
            "display": null,
            "flex": null,
            "flex_flow": null,
            "grid_area": null,
            "grid_auto_columns": null,
            "grid_auto_flow": null,
            "grid_auto_rows": null,
            "grid_column": null,
            "grid_gap": null,
            "grid_row": null,
            "grid_template_areas": null,
            "grid_template_columns": null,
            "grid_template_rows": null,
            "height": null,
            "justify_content": null,
            "justify_items": null,
            "left": null,
            "margin": null,
            "max_height": null,
            "max_width": null,
            "min_height": null,
            "min_width": null,
            "object_fit": null,
            "object_position": null,
            "order": null,
            "overflow": null,
            "overflow_x": null,
            "overflow_y": null,
            "padding": null,
            "right": null,
            "top": null,
            "visibility": null,
            "width": null
          }
        },
        "f3f26238a0fb4d04a1fe2b5417be68e3": {
          "model_module": "@jupyter-widgets/controls",
          "model_name": "DescriptionStyleModel",
          "model_module_version": "1.5.0",
          "state": {
            "_model_module": "@jupyter-widgets/controls",
            "_model_module_version": "1.5.0",
            "_model_name": "DescriptionStyleModel",
            "_view_count": null,
            "_view_module": "@jupyter-widgets/base",
            "_view_module_version": "1.2.0",
            "_view_name": "StyleView",
            "description_width": ""
          }
        },
        "54cbc2114645426d8cbfb189c56a839d": {
          "model_module": "@jupyter-widgets/base",
          "model_name": "LayoutModel",
          "model_module_version": "1.2.0",
          "state": {
            "_model_module": "@jupyter-widgets/base",
            "_model_module_version": "1.2.0",
            "_model_name": "LayoutModel",
            "_view_count": null,
            "_view_module": "@jupyter-widgets/base",
            "_view_module_version": "1.2.0",
            "_view_name": "LayoutView",
            "align_content": null,
            "align_items": null,
            "align_self": null,
            "border": null,
            "bottom": null,
            "display": null,
            "flex": null,
            "flex_flow": null,
            "grid_area": null,
            "grid_auto_columns": null,
            "grid_auto_flow": null,
            "grid_auto_rows": null,
            "grid_column": null,
            "grid_gap": null,
            "grid_row": null,
            "grid_template_areas": null,
            "grid_template_columns": null,
            "grid_template_rows": null,
            "height": null,
            "justify_content": null,
            "justify_items": null,
            "left": null,
            "margin": null,
            "max_height": null,
            "max_width": null,
            "min_height": null,
            "min_width": null,
            "object_fit": null,
            "object_position": null,
            "order": null,
            "overflow": null,
            "overflow_x": null,
            "overflow_y": null,
            "padding": null,
            "right": null,
            "top": null,
            "visibility": null,
            "width": null
          }
        },
        "018a3607991743a29b30230f2f506e2f": {
          "model_module": "@jupyter-widgets/controls",
          "model_name": "ProgressStyleModel",
          "model_module_version": "1.5.0",
          "state": {
            "_model_module": "@jupyter-widgets/controls",
            "_model_module_version": "1.5.0",
            "_model_name": "ProgressStyleModel",
            "_view_count": null,
            "_view_module": "@jupyter-widgets/base",
            "_view_module_version": "1.2.0",
            "_view_name": "StyleView",
            "bar_color": null,
            "description_width": ""
          }
        },
        "410f57bf841343188ad893c89a2f77cd": {
          "model_module": "@jupyter-widgets/base",
          "model_name": "LayoutModel",
          "model_module_version": "1.2.0",
          "state": {
            "_model_module": "@jupyter-widgets/base",
            "_model_module_version": "1.2.0",
            "_model_name": "LayoutModel",
            "_view_count": null,
            "_view_module": "@jupyter-widgets/base",
            "_view_module_version": "1.2.0",
            "_view_name": "LayoutView",
            "align_content": null,
            "align_items": null,
            "align_self": null,
            "border": null,
            "bottom": null,
            "display": null,
            "flex": null,
            "flex_flow": null,
            "grid_area": null,
            "grid_auto_columns": null,
            "grid_auto_flow": null,
            "grid_auto_rows": null,
            "grid_column": null,
            "grid_gap": null,
            "grid_row": null,
            "grid_template_areas": null,
            "grid_template_columns": null,
            "grid_template_rows": null,
            "height": null,
            "justify_content": null,
            "justify_items": null,
            "left": null,
            "margin": null,
            "max_height": null,
            "max_width": null,
            "min_height": null,
            "min_width": null,
            "object_fit": null,
            "object_position": null,
            "order": null,
            "overflow": null,
            "overflow_x": null,
            "overflow_y": null,
            "padding": null,
            "right": null,
            "top": null,
            "visibility": null,
            "width": null
          }
        },
        "cdcc4087a06a4a299dc2d302d540487e": {
          "model_module": "@jupyter-widgets/controls",
          "model_name": "DescriptionStyleModel",
          "model_module_version": "1.5.0",
          "state": {
            "_model_module": "@jupyter-widgets/controls",
            "_model_module_version": "1.5.0",
            "_model_name": "DescriptionStyleModel",
            "_view_count": null,
            "_view_module": "@jupyter-widgets/base",
            "_view_module_version": "1.2.0",
            "_view_name": "StyleView",
            "description_width": ""
          }
        },
        "63a74ec55f594705837e860027a5fb1f": {
          "model_module": "@jupyter-widgets/controls",
          "model_name": "HBoxModel",
          "model_module_version": "1.5.0",
          "state": {
            "_dom_classes": [],
            "_model_module": "@jupyter-widgets/controls",
            "_model_module_version": "1.5.0",
            "_model_name": "HBoxModel",
            "_view_count": null,
            "_view_module": "@jupyter-widgets/controls",
            "_view_module_version": "1.5.0",
            "_view_name": "HBoxView",
            "box_style": "",
            "children": [
              "IPY_MODEL_f0b5991133f54675890053a4047f6f74",
              "IPY_MODEL_52aa233650064a6e9842e50b60ec1f64",
              "IPY_MODEL_b0b9565ce7c845b6b8c4bf4f5f1c6852"
            ],
            "layout": "IPY_MODEL_5462a31759e64a678d5720cb31d9b167"
          }
        },
        "f0b5991133f54675890053a4047f6f74": {
          "model_module": "@jupyter-widgets/controls",
          "model_name": "HTMLModel",
          "model_module_version": "1.5.0",
          "state": {
            "_dom_classes": [],
            "_model_module": "@jupyter-widgets/controls",
            "_model_module_version": "1.5.0",
            "_model_name": "HTMLModel",
            "_view_count": null,
            "_view_module": "@jupyter-widgets/controls",
            "_view_module_version": "1.5.0",
            "_view_name": "HTMLView",
            "description": "",
            "description_tooltip": null,
            "layout": "IPY_MODEL_8ce7b753bf28468792eed74f57180a1a",
            "placeholder": "​",
            "style": "IPY_MODEL_309ecf6c595341e6a8ac2fe93a1204d9",
            "value": ""
          }
        },
        "52aa233650064a6e9842e50b60ec1f64": {
          "model_module": "@jupyter-widgets/controls",
          "model_name": "FloatProgressModel",
          "model_module_version": "1.5.0",
          "state": {
            "_dom_classes": [],
            "_model_module": "@jupyter-widgets/controls",
            "_model_module_version": "1.5.0",
            "_model_name": "FloatProgressModel",
            "_view_count": null,
            "_view_module": "@jupyter-widgets/controls",
            "_view_module_version": "1.5.0",
            "_view_name": "ProgressView",
            "bar_style": "success",
            "description": "",
            "description_tooltip": null,
            "layout": "IPY_MODEL_e6dea6feebe94eb4848d6f4345372ff5",
            "max": 1,
            "min": 0,
            "orientation": "horizontal",
            "style": "IPY_MODEL_d222fc142b774f85b2961a47a1b33387",
            "value": 1
          }
        },
        "b0b9565ce7c845b6b8c4bf4f5f1c6852": {
          "model_module": "@jupyter-widgets/controls",
          "model_name": "HTMLModel",
          "model_module_version": "1.5.0",
          "state": {
            "_dom_classes": [],
            "_model_module": "@jupyter-widgets/controls",
            "_model_module_version": "1.5.0",
            "_model_name": "HTMLModel",
            "_view_count": null,
            "_view_module": "@jupyter-widgets/controls",
            "_view_module_version": "1.5.0",
            "_view_name": "HTMLView",
            "description": "",
            "description_tooltip": null,
            "layout": "IPY_MODEL_6e499ecfc05b4fba8801dd4f2370bb19",
            "placeholder": "​",
            "style": "IPY_MODEL_e8a3b9dc2d4a47a980fc8ea27cfce14e",
            "value": " 161813/? [28:13&lt;00:00, 102.76ex/s]"
          }
        },
        "5462a31759e64a678d5720cb31d9b167": {
          "model_module": "@jupyter-widgets/base",
          "model_name": "LayoutModel",
          "model_module_version": "1.2.0",
          "state": {
            "_model_module": "@jupyter-widgets/base",
            "_model_module_version": "1.2.0",
            "_model_name": "LayoutModel",
            "_view_count": null,
            "_view_module": "@jupyter-widgets/base",
            "_view_module_version": "1.2.0",
            "_view_name": "LayoutView",
            "align_content": null,
            "align_items": null,
            "align_self": null,
            "border": null,
            "bottom": null,
            "display": null,
            "flex": null,
            "flex_flow": null,
            "grid_area": null,
            "grid_auto_columns": null,
            "grid_auto_flow": null,
            "grid_auto_rows": null,
            "grid_column": null,
            "grid_gap": null,
            "grid_row": null,
            "grid_template_areas": null,
            "grid_template_columns": null,
            "grid_template_rows": null,
            "height": null,
            "justify_content": null,
            "justify_items": null,
            "left": null,
            "margin": null,
            "max_height": null,
            "max_width": null,
            "min_height": null,
            "min_width": null,
            "object_fit": null,
            "object_position": null,
            "order": null,
            "overflow": null,
            "overflow_x": null,
            "overflow_y": null,
            "padding": null,
            "right": null,
            "top": null,
            "visibility": null,
            "width": null
          }
        },
        "8ce7b753bf28468792eed74f57180a1a": {
          "model_module": "@jupyter-widgets/base",
          "model_name": "LayoutModel",
          "model_module_version": "1.2.0",
          "state": {
            "_model_module": "@jupyter-widgets/base",
            "_model_module_version": "1.2.0",
            "_model_name": "LayoutModel",
            "_view_count": null,
            "_view_module": "@jupyter-widgets/base",
            "_view_module_version": "1.2.0",
            "_view_name": "LayoutView",
            "align_content": null,
            "align_items": null,
            "align_self": null,
            "border": null,
            "bottom": null,
            "display": null,
            "flex": null,
            "flex_flow": null,
            "grid_area": null,
            "grid_auto_columns": null,
            "grid_auto_flow": null,
            "grid_auto_rows": null,
            "grid_column": null,
            "grid_gap": null,
            "grid_row": null,
            "grid_template_areas": null,
            "grid_template_columns": null,
            "grid_template_rows": null,
            "height": null,
            "justify_content": null,
            "justify_items": null,
            "left": null,
            "margin": null,
            "max_height": null,
            "max_width": null,
            "min_height": null,
            "min_width": null,
            "object_fit": null,
            "object_position": null,
            "order": null,
            "overflow": null,
            "overflow_x": null,
            "overflow_y": null,
            "padding": null,
            "right": null,
            "top": null,
            "visibility": null,
            "width": null
          }
        },
        "309ecf6c595341e6a8ac2fe93a1204d9": {
          "model_module": "@jupyter-widgets/controls",
          "model_name": "DescriptionStyleModel",
          "model_module_version": "1.5.0",
          "state": {
            "_model_module": "@jupyter-widgets/controls",
            "_model_module_version": "1.5.0",
            "_model_name": "DescriptionStyleModel",
            "_view_count": null,
            "_view_module": "@jupyter-widgets/base",
            "_view_module_version": "1.2.0",
            "_view_name": "StyleView",
            "description_width": ""
          }
        },
        "e6dea6feebe94eb4848d6f4345372ff5": {
          "model_module": "@jupyter-widgets/base",
          "model_name": "LayoutModel",
          "model_module_version": "1.2.0",
          "state": {
            "_model_module": "@jupyter-widgets/base",
            "_model_module_version": "1.2.0",
            "_model_name": "LayoutModel",
            "_view_count": null,
            "_view_module": "@jupyter-widgets/base",
            "_view_module_version": "1.2.0",
            "_view_name": "LayoutView",
            "align_content": null,
            "align_items": null,
            "align_self": null,
            "border": null,
            "bottom": null,
            "display": null,
            "flex": null,
            "flex_flow": null,
            "grid_area": null,
            "grid_auto_columns": null,
            "grid_auto_flow": null,
            "grid_auto_rows": null,
            "grid_column": null,
            "grid_gap": null,
            "grid_row": null,
            "grid_template_areas": null,
            "grid_template_columns": null,
            "grid_template_rows": null,
            "height": null,
            "justify_content": null,
            "justify_items": null,
            "left": null,
            "margin": null,
            "max_height": null,
            "max_width": null,
            "min_height": null,
            "min_width": null,
            "object_fit": null,
            "object_position": null,
            "order": null,
            "overflow": null,
            "overflow_x": null,
            "overflow_y": null,
            "padding": null,
            "right": null,
            "top": null,
            "visibility": null,
            "width": "20px"
          }
        },
        "d222fc142b774f85b2961a47a1b33387": {
          "model_module": "@jupyter-widgets/controls",
          "model_name": "ProgressStyleModel",
          "model_module_version": "1.5.0",
          "state": {
            "_model_module": "@jupyter-widgets/controls",
            "_model_module_version": "1.5.0",
            "_model_name": "ProgressStyleModel",
            "_view_count": null,
            "_view_module": "@jupyter-widgets/base",
            "_view_module_version": "1.2.0",
            "_view_name": "StyleView",
            "bar_color": null,
            "description_width": ""
          }
        },
        "6e499ecfc05b4fba8801dd4f2370bb19": {
          "model_module": "@jupyter-widgets/base",
          "model_name": "LayoutModel",
          "model_module_version": "1.2.0",
          "state": {
            "_model_module": "@jupyter-widgets/base",
            "_model_module_version": "1.2.0",
            "_model_name": "LayoutModel",
            "_view_count": null,
            "_view_module": "@jupyter-widgets/base",
            "_view_module_version": "1.2.0",
            "_view_name": "LayoutView",
            "align_content": null,
            "align_items": null,
            "align_self": null,
            "border": null,
            "bottom": null,
            "display": null,
            "flex": null,
            "flex_flow": null,
            "grid_area": null,
            "grid_auto_columns": null,
            "grid_auto_flow": null,
            "grid_auto_rows": null,
            "grid_column": null,
            "grid_gap": null,
            "grid_row": null,
            "grid_template_areas": null,
            "grid_template_columns": null,
            "grid_template_rows": null,
            "height": null,
            "justify_content": null,
            "justify_items": null,
            "left": null,
            "margin": null,
            "max_height": null,
            "max_width": null,
            "min_height": null,
            "min_width": null,
            "object_fit": null,
            "object_position": null,
            "order": null,
            "overflow": null,
            "overflow_x": null,
            "overflow_y": null,
            "padding": null,
            "right": null,
            "top": null,
            "visibility": null,
            "width": null
          }
        },
        "e8a3b9dc2d4a47a980fc8ea27cfce14e": {
          "model_module": "@jupyter-widgets/controls",
          "model_name": "DescriptionStyleModel",
          "model_module_version": "1.5.0",
          "state": {
            "_model_module": "@jupyter-widgets/controls",
            "_model_module_version": "1.5.0",
            "_model_name": "DescriptionStyleModel",
            "_view_count": null,
            "_view_module": "@jupyter-widgets/base",
            "_view_module_version": "1.2.0",
            "_view_name": "StyleView",
            "description_width": ""
          }
        },
        "6a67263f93ef4639a296f01e4a2b5bb2": {
          "model_module": "@jupyter-widgets/controls",
          "model_name": "HBoxModel",
          "model_module_version": "1.5.0",
          "state": {
            "_dom_classes": [],
            "_model_module": "@jupyter-widgets/controls",
            "_model_module_version": "1.5.0",
            "_model_name": "HBoxModel",
            "_view_count": null,
            "_view_module": "@jupyter-widgets/controls",
            "_view_module_version": "1.5.0",
            "_view_name": "HBoxView",
            "box_style": "",
            "children": [
              "IPY_MODEL_3549323fd6db4542a4f67dd03535b14a",
              "IPY_MODEL_39d1b3596e45413d859a36d7bef5aa6a",
              "IPY_MODEL_8f8f550dc304400d85460a88c1162ac5"
            ],
            "layout": "IPY_MODEL_b248e0a8388b4217bbf9eb5653041cd2"
          }
        },
        "3549323fd6db4542a4f67dd03535b14a": {
          "model_module": "@jupyter-widgets/controls",
          "model_name": "HTMLModel",
          "model_module_version": "1.5.0",
          "state": {
            "_dom_classes": [],
            "_model_module": "@jupyter-widgets/controls",
            "_model_module_version": "1.5.0",
            "_model_name": "HTMLModel",
            "_view_count": null,
            "_view_module": "@jupyter-widgets/controls",
            "_view_module_version": "1.5.0",
            "_view_name": "HTMLView",
            "description": "",
            "description_tooltip": null,
            "layout": "IPY_MODEL_02de628c58394f3ba7d99a5d55a7a42f",
            "placeholder": "​",
            "style": "IPY_MODEL_ab85f24584174a198d0259a56ee76e04",
            "value": ""
          }
        },
        "39d1b3596e45413d859a36d7bef5aa6a": {
          "model_module": "@jupyter-widgets/controls",
          "model_name": "FloatProgressModel",
          "model_module_version": "1.5.0",
          "state": {
            "_dom_classes": [],
            "_model_module": "@jupyter-widgets/controls",
            "_model_module_version": "1.5.0",
            "_model_name": "FloatProgressModel",
            "_view_count": null,
            "_view_module": "@jupyter-widgets/controls",
            "_view_module_version": "1.5.0",
            "_view_name": "ProgressView",
            "bar_style": "success",
            "description": "",
            "description_tooltip": null,
            "layout": "IPY_MODEL_c430243792164301b8cd07971df51f9f",
            "max": 1,
            "min": 0,
            "orientation": "horizontal",
            "style": "IPY_MODEL_fb65ad6b8cdb4a079bc218f969a10269",
            "value": 1
          }
        },
        "8f8f550dc304400d85460a88c1162ac5": {
          "model_module": "@jupyter-widgets/controls",
          "model_name": "HTMLModel",
          "model_module_version": "1.5.0",
          "state": {
            "_dom_classes": [],
            "_model_module": "@jupyter-widgets/controls",
            "_model_module_version": "1.5.0",
            "_model_name": "HTMLModel",
            "_view_count": null,
            "_view_module": "@jupyter-widgets/controls",
            "_view_module_version": "1.5.0",
            "_view_name": "HTMLView",
            "description": "",
            "description_tooltip": null,
            "layout": "IPY_MODEL_ce5198c09a624dd2aa08ac0fe151b1ed",
            "placeholder": "​",
            "style": "IPY_MODEL_5de7fb327e1d482d9a701fd1cc0171d6",
            "value": " 15089/? [02:58&lt;00:00, 88.02ex/s]"
          }
        },
        "b248e0a8388b4217bbf9eb5653041cd2": {
          "model_module": "@jupyter-widgets/base",
          "model_name": "LayoutModel",
          "model_module_version": "1.2.0",
          "state": {
            "_model_module": "@jupyter-widgets/base",
            "_model_module_version": "1.2.0",
            "_model_name": "LayoutModel",
            "_view_count": null,
            "_view_module": "@jupyter-widgets/base",
            "_view_module_version": "1.2.0",
            "_view_name": "LayoutView",
            "align_content": null,
            "align_items": null,
            "align_self": null,
            "border": null,
            "bottom": null,
            "display": null,
            "flex": null,
            "flex_flow": null,
            "grid_area": null,
            "grid_auto_columns": null,
            "grid_auto_flow": null,
            "grid_auto_rows": null,
            "grid_column": null,
            "grid_gap": null,
            "grid_row": null,
            "grid_template_areas": null,
            "grid_template_columns": null,
            "grid_template_rows": null,
            "height": null,
            "justify_content": null,
            "justify_items": null,
            "left": null,
            "margin": null,
            "max_height": null,
            "max_width": null,
            "min_height": null,
            "min_width": null,
            "object_fit": null,
            "object_position": null,
            "order": null,
            "overflow": null,
            "overflow_x": null,
            "overflow_y": null,
            "padding": null,
            "right": null,
            "top": null,
            "visibility": null,
            "width": null
          }
        },
        "02de628c58394f3ba7d99a5d55a7a42f": {
          "model_module": "@jupyter-widgets/base",
          "model_name": "LayoutModel",
          "model_module_version": "1.2.0",
          "state": {
            "_model_module": "@jupyter-widgets/base",
            "_model_module_version": "1.2.0",
            "_model_name": "LayoutModel",
            "_view_count": null,
            "_view_module": "@jupyter-widgets/base",
            "_view_module_version": "1.2.0",
            "_view_name": "LayoutView",
            "align_content": null,
            "align_items": null,
            "align_self": null,
            "border": null,
            "bottom": null,
            "display": null,
            "flex": null,
            "flex_flow": null,
            "grid_area": null,
            "grid_auto_columns": null,
            "grid_auto_flow": null,
            "grid_auto_rows": null,
            "grid_column": null,
            "grid_gap": null,
            "grid_row": null,
            "grid_template_areas": null,
            "grid_template_columns": null,
            "grid_template_rows": null,
            "height": null,
            "justify_content": null,
            "justify_items": null,
            "left": null,
            "margin": null,
            "max_height": null,
            "max_width": null,
            "min_height": null,
            "min_width": null,
            "object_fit": null,
            "object_position": null,
            "order": null,
            "overflow": null,
            "overflow_x": null,
            "overflow_y": null,
            "padding": null,
            "right": null,
            "top": null,
            "visibility": null,
            "width": null
          }
        },
        "ab85f24584174a198d0259a56ee76e04": {
          "model_module": "@jupyter-widgets/controls",
          "model_name": "DescriptionStyleModel",
          "model_module_version": "1.5.0",
          "state": {
            "_model_module": "@jupyter-widgets/controls",
            "_model_module_version": "1.5.0",
            "_model_name": "DescriptionStyleModel",
            "_view_count": null,
            "_view_module": "@jupyter-widgets/base",
            "_view_module_version": "1.2.0",
            "_view_name": "StyleView",
            "description_width": ""
          }
        },
        "c430243792164301b8cd07971df51f9f": {
          "model_module": "@jupyter-widgets/base",
          "model_name": "LayoutModel",
          "model_module_version": "1.2.0",
          "state": {
            "_model_module": "@jupyter-widgets/base",
            "_model_module_version": "1.2.0",
            "_model_name": "LayoutModel",
            "_view_count": null,
            "_view_module": "@jupyter-widgets/base",
            "_view_module_version": "1.2.0",
            "_view_name": "LayoutView",
            "align_content": null,
            "align_items": null,
            "align_self": null,
            "border": null,
            "bottom": null,
            "display": null,
            "flex": null,
            "flex_flow": null,
            "grid_area": null,
            "grid_auto_columns": null,
            "grid_auto_flow": null,
            "grid_auto_rows": null,
            "grid_column": null,
            "grid_gap": null,
            "grid_row": null,
            "grid_template_areas": null,
            "grid_template_columns": null,
            "grid_template_rows": null,
            "height": null,
            "justify_content": null,
            "justify_items": null,
            "left": null,
            "margin": null,
            "max_height": null,
            "max_width": null,
            "min_height": null,
            "min_width": null,
            "object_fit": null,
            "object_position": null,
            "order": null,
            "overflow": null,
            "overflow_x": null,
            "overflow_y": null,
            "padding": null,
            "right": null,
            "top": null,
            "visibility": null,
            "width": "20px"
          }
        },
        "fb65ad6b8cdb4a079bc218f969a10269": {
          "model_module": "@jupyter-widgets/controls",
          "model_name": "ProgressStyleModel",
          "model_module_version": "1.5.0",
          "state": {
            "_model_module": "@jupyter-widgets/controls",
            "_model_module_version": "1.5.0",
            "_model_name": "ProgressStyleModel",
            "_view_count": null,
            "_view_module": "@jupyter-widgets/base",
            "_view_module_version": "1.2.0",
            "_view_name": "StyleView",
            "bar_color": null,
            "description_width": ""
          }
        },
        "ce5198c09a624dd2aa08ac0fe151b1ed": {
          "model_module": "@jupyter-widgets/base",
          "model_name": "LayoutModel",
          "model_module_version": "1.2.0",
          "state": {
            "_model_module": "@jupyter-widgets/base",
            "_model_module_version": "1.2.0",
            "_model_name": "LayoutModel",
            "_view_count": null,
            "_view_module": "@jupyter-widgets/base",
            "_view_module_version": "1.2.0",
            "_view_name": "LayoutView",
            "align_content": null,
            "align_items": null,
            "align_self": null,
            "border": null,
            "bottom": null,
            "display": null,
            "flex": null,
            "flex_flow": null,
            "grid_area": null,
            "grid_auto_columns": null,
            "grid_auto_flow": null,
            "grid_auto_rows": null,
            "grid_column": null,
            "grid_gap": null,
            "grid_row": null,
            "grid_template_areas": null,
            "grid_template_columns": null,
            "grid_template_rows": null,
            "height": null,
            "justify_content": null,
            "justify_items": null,
            "left": null,
            "margin": null,
            "max_height": null,
            "max_width": null,
            "min_height": null,
            "min_width": null,
            "object_fit": null,
            "object_position": null,
            "order": null,
            "overflow": null,
            "overflow_x": null,
            "overflow_y": null,
            "padding": null,
            "right": null,
            "top": null,
            "visibility": null,
            "width": null
          }
        },
        "5de7fb327e1d482d9a701fd1cc0171d6": {
          "model_module": "@jupyter-widgets/controls",
          "model_name": "DescriptionStyleModel",
          "model_module_version": "1.5.0",
          "state": {
            "_model_module": "@jupyter-widgets/controls",
            "_model_module_version": "1.5.0",
            "_model_name": "DescriptionStyleModel",
            "_view_count": null,
            "_view_module": "@jupyter-widgets/base",
            "_view_module_version": "1.2.0",
            "_view_name": "StyleView",
            "description_width": ""
          }
        },
        "40eb10f028c94d5aaf71edab24ee4152": {
          "model_module": "@jupyter-widgets/controls",
          "model_name": "HBoxModel",
          "model_module_version": "1.5.0",
          "state": {
            "_dom_classes": [],
            "_model_module": "@jupyter-widgets/controls",
            "_model_module_version": "1.5.0",
            "_model_name": "HBoxModel",
            "_view_count": null,
            "_view_module": "@jupyter-widgets/controls",
            "_view_module_version": "1.5.0",
            "_view_name": "HBoxView",
            "box_style": "",
            "children": [
              "IPY_MODEL_ce705f811bcf4711ac0c2fc6d6145e1f",
              "IPY_MODEL_a14ab9ae95b545d49578980ff80760f2",
              "IPY_MODEL_f08dba0c94984613a235b946c1de0a87"
            ],
            "layout": "IPY_MODEL_fedf14879e834146b69de25fb045a814"
          }
        },
        "ce705f811bcf4711ac0c2fc6d6145e1f": {
          "model_module": "@jupyter-widgets/controls",
          "model_name": "HTMLModel",
          "model_module_version": "1.5.0",
          "state": {
            "_dom_classes": [],
            "_model_module": "@jupyter-widgets/controls",
            "_model_module_version": "1.5.0",
            "_model_name": "HTMLModel",
            "_view_count": null,
            "_view_module": "@jupyter-widgets/controls",
            "_view_module_version": "1.5.0",
            "_view_name": "HTMLView",
            "description": "",
            "description_tooltip": null,
            "layout": "IPY_MODEL_7c17cbdf7a1d4eca9e615a3ff38f08bd",
            "placeholder": "​",
            "style": "IPY_MODEL_2b911e09ec9c4b4ab1e369164e6c38c9",
            "value": "Downloading: "
          }
        },
        "a14ab9ae95b545d49578980ff80760f2": {
          "model_module": "@jupyter-widgets/controls",
          "model_name": "FloatProgressModel",
          "model_module_version": "1.5.0",
          "state": {
            "_dom_classes": [],
            "_model_module": "@jupyter-widgets/controls",
            "_model_module_version": "1.5.0",
            "_model_name": "FloatProgressModel",
            "_view_count": null,
            "_view_module": "@jupyter-widgets/controls",
            "_view_module_version": "1.5.0",
            "_view_name": "ProgressView",
            "bar_style": "success",
            "description": "",
            "description_tooltip": null,
            "layout": "IPY_MODEL_91c2da5c10314461a4c7249405c8c4f9",
            "max": 1901,
            "min": 0,
            "orientation": "horizontal",
            "style": "IPY_MODEL_320c4f254c904d0fbd04e4bd3cc4c54c",
            "value": 1901
          }
        },
        "f08dba0c94984613a235b946c1de0a87": {
          "model_module": "@jupyter-widgets/controls",
          "model_name": "HTMLModel",
          "model_module_version": "1.5.0",
          "state": {
            "_dom_classes": [],
            "_model_module": "@jupyter-widgets/controls",
            "_model_module_version": "1.5.0",
            "_model_name": "HTMLModel",
            "_view_count": null,
            "_view_module": "@jupyter-widgets/controls",
            "_view_module_version": "1.5.0",
            "_view_name": "HTMLView",
            "description": "",
            "description_tooltip": null,
            "layout": "IPY_MODEL_c072cc846ffc4b09842ca81e4bfa12a7",
            "placeholder": "​",
            "style": "IPY_MODEL_a82a8bd9e629451e9c6aec961812a46c",
            "value": " 4.48k/? [00:00&lt;00:00, 334kB/s]"
          }
        },
        "fedf14879e834146b69de25fb045a814": {
          "model_module": "@jupyter-widgets/base",
          "model_name": "LayoutModel",
          "model_module_version": "1.2.0",
          "state": {
            "_model_module": "@jupyter-widgets/base",
            "_model_module_version": "1.2.0",
            "_model_name": "LayoutModel",
            "_view_count": null,
            "_view_module": "@jupyter-widgets/base",
            "_view_module_version": "1.2.0",
            "_view_name": "LayoutView",
            "align_content": null,
            "align_items": null,
            "align_self": null,
            "border": null,
            "bottom": null,
            "display": null,
            "flex": null,
            "flex_flow": null,
            "grid_area": null,
            "grid_auto_columns": null,
            "grid_auto_flow": null,
            "grid_auto_rows": null,
            "grid_column": null,
            "grid_gap": null,
            "grid_row": null,
            "grid_template_areas": null,
            "grid_template_columns": null,
            "grid_template_rows": null,
            "height": null,
            "justify_content": null,
            "justify_items": null,
            "left": null,
            "margin": null,
            "max_height": null,
            "max_width": null,
            "min_height": null,
            "min_width": null,
            "object_fit": null,
            "object_position": null,
            "order": null,
            "overflow": null,
            "overflow_x": null,
            "overflow_y": null,
            "padding": null,
            "right": null,
            "top": null,
            "visibility": null,
            "width": null
          }
        },
        "7c17cbdf7a1d4eca9e615a3ff38f08bd": {
          "model_module": "@jupyter-widgets/base",
          "model_name": "LayoutModel",
          "model_module_version": "1.2.0",
          "state": {
            "_model_module": "@jupyter-widgets/base",
            "_model_module_version": "1.2.0",
            "_model_name": "LayoutModel",
            "_view_count": null,
            "_view_module": "@jupyter-widgets/base",
            "_view_module_version": "1.2.0",
            "_view_name": "LayoutView",
            "align_content": null,
            "align_items": null,
            "align_self": null,
            "border": null,
            "bottom": null,
            "display": null,
            "flex": null,
            "flex_flow": null,
            "grid_area": null,
            "grid_auto_columns": null,
            "grid_auto_flow": null,
            "grid_auto_rows": null,
            "grid_column": null,
            "grid_gap": null,
            "grid_row": null,
            "grid_template_areas": null,
            "grid_template_columns": null,
            "grid_template_rows": null,
            "height": null,
            "justify_content": null,
            "justify_items": null,
            "left": null,
            "margin": null,
            "max_height": null,
            "max_width": null,
            "min_height": null,
            "min_width": null,
            "object_fit": null,
            "object_position": null,
            "order": null,
            "overflow": null,
            "overflow_x": null,
            "overflow_y": null,
            "padding": null,
            "right": null,
            "top": null,
            "visibility": null,
            "width": null
          }
        },
        "2b911e09ec9c4b4ab1e369164e6c38c9": {
          "model_module": "@jupyter-widgets/controls",
          "model_name": "DescriptionStyleModel",
          "model_module_version": "1.5.0",
          "state": {
            "_model_module": "@jupyter-widgets/controls",
            "_model_module_version": "1.5.0",
            "_model_name": "DescriptionStyleModel",
            "_view_count": null,
            "_view_module": "@jupyter-widgets/base",
            "_view_module_version": "1.2.0",
            "_view_name": "StyleView",
            "description_width": ""
          }
        },
        "91c2da5c10314461a4c7249405c8c4f9": {
          "model_module": "@jupyter-widgets/base",
          "model_name": "LayoutModel",
          "model_module_version": "1.2.0",
          "state": {
            "_model_module": "@jupyter-widgets/base",
            "_model_module_version": "1.2.0",
            "_model_name": "LayoutModel",
            "_view_count": null,
            "_view_module": "@jupyter-widgets/base",
            "_view_module_version": "1.2.0",
            "_view_name": "LayoutView",
            "align_content": null,
            "align_items": null,
            "align_self": null,
            "border": null,
            "bottom": null,
            "display": null,
            "flex": null,
            "flex_flow": null,
            "grid_area": null,
            "grid_auto_columns": null,
            "grid_auto_flow": null,
            "grid_auto_rows": null,
            "grid_column": null,
            "grid_gap": null,
            "grid_row": null,
            "grid_template_areas": null,
            "grid_template_columns": null,
            "grid_template_rows": null,
            "height": null,
            "justify_content": null,
            "justify_items": null,
            "left": null,
            "margin": null,
            "max_height": null,
            "max_width": null,
            "min_height": null,
            "min_width": null,
            "object_fit": null,
            "object_position": null,
            "order": null,
            "overflow": null,
            "overflow_x": null,
            "overflow_y": null,
            "padding": null,
            "right": null,
            "top": null,
            "visibility": null,
            "width": null
          }
        },
        "320c4f254c904d0fbd04e4bd3cc4c54c": {
          "model_module": "@jupyter-widgets/controls",
          "model_name": "ProgressStyleModel",
          "model_module_version": "1.5.0",
          "state": {
            "_model_module": "@jupyter-widgets/controls",
            "_model_module_version": "1.5.0",
            "_model_name": "ProgressStyleModel",
            "_view_count": null,
            "_view_module": "@jupyter-widgets/base",
            "_view_module_version": "1.2.0",
            "_view_name": "StyleView",
            "bar_color": null,
            "description_width": ""
          }
        },
        "c072cc846ffc4b09842ca81e4bfa12a7": {
          "model_module": "@jupyter-widgets/base",
          "model_name": "LayoutModel",
          "model_module_version": "1.2.0",
          "state": {
            "_model_module": "@jupyter-widgets/base",
            "_model_module_version": "1.2.0",
            "_model_name": "LayoutModel",
            "_view_count": null,
            "_view_module": "@jupyter-widgets/base",
            "_view_module_version": "1.2.0",
            "_view_name": "LayoutView",
            "align_content": null,
            "align_items": null,
            "align_self": null,
            "border": null,
            "bottom": null,
            "display": null,
            "flex": null,
            "flex_flow": null,
            "grid_area": null,
            "grid_auto_columns": null,
            "grid_auto_flow": null,
            "grid_auto_rows": null,
            "grid_column": null,
            "grid_gap": null,
            "grid_row": null,
            "grid_template_areas": null,
            "grid_template_columns": null,
            "grid_template_rows": null,
            "height": null,
            "justify_content": null,
            "justify_items": null,
            "left": null,
            "margin": null,
            "max_height": null,
            "max_width": null,
            "min_height": null,
            "min_width": null,
            "object_fit": null,
            "object_position": null,
            "order": null,
            "overflow": null,
            "overflow_x": null,
            "overflow_y": null,
            "padding": null,
            "right": null,
            "top": null,
            "visibility": null,
            "width": null
          }
        },
        "a82a8bd9e629451e9c6aec961812a46c": {
          "model_module": "@jupyter-widgets/controls",
          "model_name": "DescriptionStyleModel",
          "model_module_version": "1.5.0",
          "state": {
            "_model_module": "@jupyter-widgets/controls",
            "_model_module_version": "1.5.0",
            "_model_name": "DescriptionStyleModel",
            "_view_count": null,
            "_view_module": "@jupyter-widgets/base",
            "_view_module_version": "1.2.0",
            "_view_name": "StyleView",
            "description_width": ""
          }
        },
        "4c0ccfa96cf84928b82dd521848f2370": {
          "model_module": "@jupyter-widgets/controls",
          "model_name": "HBoxModel",
          "model_module_version": "1.5.0",
          "state": {
            "_dom_classes": [],
            "_model_module": "@jupyter-widgets/controls",
            "_model_module_version": "1.5.0",
            "_model_name": "HBoxModel",
            "_view_count": null,
            "_view_module": "@jupyter-widgets/controls",
            "_view_module_version": "1.5.0",
            "_view_name": "HBoxView",
            "box_style": "",
            "children": [
              "IPY_MODEL_68fe166fee134ebaaced7cf23924663e",
              "IPY_MODEL_c9dac835be6c45179a9be9190247dc6e",
              "IPY_MODEL_a1ef98e6418844b191294586e71ad6a8"
            ],
            "layout": "IPY_MODEL_448edf5ea20445a79e6da4a9a211c0d4"
          }
        },
        "68fe166fee134ebaaced7cf23924663e": {
          "model_module": "@jupyter-widgets/controls",
          "model_name": "HTMLModel",
          "model_module_version": "1.5.0",
          "state": {
            "_dom_classes": [],
            "_model_module": "@jupyter-widgets/controls",
            "_model_module_version": "1.5.0",
            "_model_name": "HTMLModel",
            "_view_count": null,
            "_view_module": "@jupyter-widgets/controls",
            "_view_module_version": "1.5.0",
            "_view_name": "HTMLView",
            "description": "",
            "description_tooltip": null,
            "layout": "IPY_MODEL_be2eae39a9c74f6f91bd027504100aef",
            "placeholder": "​",
            "style": "IPY_MODEL_886925c7b6a34cf8a4a92d293f18e788",
            "value": "Downloading (…)lve/main/config.json: 100%"
          }
        },
        "c9dac835be6c45179a9be9190247dc6e": {
          "model_module": "@jupyter-widgets/controls",
          "model_name": "FloatProgressModel",
          "model_module_version": "1.5.0",
          "state": {
            "_dom_classes": [],
            "_model_module": "@jupyter-widgets/controls",
            "_model_module_version": "1.5.0",
            "_model_name": "FloatProgressModel",
            "_view_count": null,
            "_view_module": "@jupyter-widgets/controls",
            "_view_module_version": "1.5.0",
            "_view_name": "ProgressView",
            "bar_style": "success",
            "description": "",
            "description_tooltip": null,
            "layout": "IPY_MODEL_a208b62add9842f29d85be863402b115",
            "max": 1568,
            "min": 0,
            "orientation": "horizontal",
            "style": "IPY_MODEL_ee0d174b161c4cf1b63dadc892723235",
            "value": 1568
          }
        },
        "a1ef98e6418844b191294586e71ad6a8": {
          "model_module": "@jupyter-widgets/controls",
          "model_name": "HTMLModel",
          "model_module_version": "1.5.0",
          "state": {
            "_dom_classes": [],
            "_model_module": "@jupyter-widgets/controls",
            "_model_module_version": "1.5.0",
            "_model_name": "HTMLModel",
            "_view_count": null,
            "_view_module": "@jupyter-widgets/controls",
            "_view_module_version": "1.5.0",
            "_view_name": "HTMLView",
            "description": "",
            "description_tooltip": null,
            "layout": "IPY_MODEL_9e8c89b492b04442a85f9e327a32b14f",
            "placeholder": "​",
            "style": "IPY_MODEL_82bddb9f764e49bb8ec018777f168aa0",
            "value": " 1.57k/1.57k [00:00&lt;00:00, 150kB/s]"
          }
        },
        "448edf5ea20445a79e6da4a9a211c0d4": {
          "model_module": "@jupyter-widgets/base",
          "model_name": "LayoutModel",
          "model_module_version": "1.2.0",
          "state": {
            "_model_module": "@jupyter-widgets/base",
            "_model_module_version": "1.2.0",
            "_model_name": "LayoutModel",
            "_view_count": null,
            "_view_module": "@jupyter-widgets/base",
            "_view_module_version": "1.2.0",
            "_view_name": "LayoutView",
            "align_content": null,
            "align_items": null,
            "align_self": null,
            "border": null,
            "bottom": null,
            "display": null,
            "flex": null,
            "flex_flow": null,
            "grid_area": null,
            "grid_auto_columns": null,
            "grid_auto_flow": null,
            "grid_auto_rows": null,
            "grid_column": null,
            "grid_gap": null,
            "grid_row": null,
            "grid_template_areas": null,
            "grid_template_columns": null,
            "grid_template_rows": null,
            "height": null,
            "justify_content": null,
            "justify_items": null,
            "left": null,
            "margin": null,
            "max_height": null,
            "max_width": null,
            "min_height": null,
            "min_width": null,
            "object_fit": null,
            "object_position": null,
            "order": null,
            "overflow": null,
            "overflow_x": null,
            "overflow_y": null,
            "padding": null,
            "right": null,
            "top": null,
            "visibility": null,
            "width": null
          }
        },
        "be2eae39a9c74f6f91bd027504100aef": {
          "model_module": "@jupyter-widgets/base",
          "model_name": "LayoutModel",
          "model_module_version": "1.2.0",
          "state": {
            "_model_module": "@jupyter-widgets/base",
            "_model_module_version": "1.2.0",
            "_model_name": "LayoutModel",
            "_view_count": null,
            "_view_module": "@jupyter-widgets/base",
            "_view_module_version": "1.2.0",
            "_view_name": "LayoutView",
            "align_content": null,
            "align_items": null,
            "align_self": null,
            "border": null,
            "bottom": null,
            "display": null,
            "flex": null,
            "flex_flow": null,
            "grid_area": null,
            "grid_auto_columns": null,
            "grid_auto_flow": null,
            "grid_auto_rows": null,
            "grid_column": null,
            "grid_gap": null,
            "grid_row": null,
            "grid_template_areas": null,
            "grid_template_columns": null,
            "grid_template_rows": null,
            "height": null,
            "justify_content": null,
            "justify_items": null,
            "left": null,
            "margin": null,
            "max_height": null,
            "max_width": null,
            "min_height": null,
            "min_width": null,
            "object_fit": null,
            "object_position": null,
            "order": null,
            "overflow": null,
            "overflow_x": null,
            "overflow_y": null,
            "padding": null,
            "right": null,
            "top": null,
            "visibility": null,
            "width": null
          }
        },
        "886925c7b6a34cf8a4a92d293f18e788": {
          "model_module": "@jupyter-widgets/controls",
          "model_name": "DescriptionStyleModel",
          "model_module_version": "1.5.0",
          "state": {
            "_model_module": "@jupyter-widgets/controls",
            "_model_module_version": "1.5.0",
            "_model_name": "DescriptionStyleModel",
            "_view_count": null,
            "_view_module": "@jupyter-widgets/base",
            "_view_module_version": "1.2.0",
            "_view_name": "StyleView",
            "description_width": ""
          }
        },
        "a208b62add9842f29d85be863402b115": {
          "model_module": "@jupyter-widgets/base",
          "model_name": "LayoutModel",
          "model_module_version": "1.2.0",
          "state": {
            "_model_module": "@jupyter-widgets/base",
            "_model_module_version": "1.2.0",
            "_model_name": "LayoutModel",
            "_view_count": null,
            "_view_module": "@jupyter-widgets/base",
            "_view_module_version": "1.2.0",
            "_view_name": "LayoutView",
            "align_content": null,
            "align_items": null,
            "align_self": null,
            "border": null,
            "bottom": null,
            "display": null,
            "flex": null,
            "flex_flow": null,
            "grid_area": null,
            "grid_auto_columns": null,
            "grid_auto_flow": null,
            "grid_auto_rows": null,
            "grid_column": null,
            "grid_gap": null,
            "grid_row": null,
            "grid_template_areas": null,
            "grid_template_columns": null,
            "grid_template_rows": null,
            "height": null,
            "justify_content": null,
            "justify_items": null,
            "left": null,
            "margin": null,
            "max_height": null,
            "max_width": null,
            "min_height": null,
            "min_width": null,
            "object_fit": null,
            "object_position": null,
            "order": null,
            "overflow": null,
            "overflow_x": null,
            "overflow_y": null,
            "padding": null,
            "right": null,
            "top": null,
            "visibility": null,
            "width": null
          }
        },
        "ee0d174b161c4cf1b63dadc892723235": {
          "model_module": "@jupyter-widgets/controls",
          "model_name": "ProgressStyleModel",
          "model_module_version": "1.5.0",
          "state": {
            "_model_module": "@jupyter-widgets/controls",
            "_model_module_version": "1.5.0",
            "_model_name": "ProgressStyleModel",
            "_view_count": null,
            "_view_module": "@jupyter-widgets/base",
            "_view_module_version": "1.2.0",
            "_view_name": "StyleView",
            "bar_color": null,
            "description_width": ""
          }
        },
        "9e8c89b492b04442a85f9e327a32b14f": {
          "model_module": "@jupyter-widgets/base",
          "model_name": "LayoutModel",
          "model_module_version": "1.2.0",
          "state": {
            "_model_module": "@jupyter-widgets/base",
            "_model_module_version": "1.2.0",
            "_model_name": "LayoutModel",
            "_view_count": null,
            "_view_module": "@jupyter-widgets/base",
            "_view_module_version": "1.2.0",
            "_view_name": "LayoutView",
            "align_content": null,
            "align_items": null,
            "align_self": null,
            "border": null,
            "bottom": null,
            "display": null,
            "flex": null,
            "flex_flow": null,
            "grid_area": null,
            "grid_auto_columns": null,
            "grid_auto_flow": null,
            "grid_auto_rows": null,
            "grid_column": null,
            "grid_gap": null,
            "grid_row": null,
            "grid_template_areas": null,
            "grid_template_columns": null,
            "grid_template_rows": null,
            "height": null,
            "justify_content": null,
            "justify_items": null,
            "left": null,
            "margin": null,
            "max_height": null,
            "max_width": null,
            "min_height": null,
            "min_width": null,
            "object_fit": null,
            "object_position": null,
            "order": null,
            "overflow": null,
            "overflow_x": null,
            "overflow_y": null,
            "padding": null,
            "right": null,
            "top": null,
            "visibility": null,
            "width": null
          }
        },
        "82bddb9f764e49bb8ec018777f168aa0": {
          "model_module": "@jupyter-widgets/controls",
          "model_name": "DescriptionStyleModel",
          "model_module_version": "1.5.0",
          "state": {
            "_model_module": "@jupyter-widgets/controls",
            "_model_module_version": "1.5.0",
            "_model_name": "DescriptionStyleModel",
            "_view_count": null,
            "_view_module": "@jupyter-widgets/base",
            "_view_module_version": "1.2.0",
            "_view_name": "StyleView",
            "description_width": ""
          }
        },
        "b0b369096424438caa52c6879b773ea8": {
          "model_module": "@jupyter-widgets/controls",
          "model_name": "HBoxModel",
          "model_module_version": "1.5.0",
          "state": {
            "_dom_classes": [],
            "_model_module": "@jupyter-widgets/controls",
            "_model_module_version": "1.5.0",
            "_model_name": "HBoxModel",
            "_view_count": null,
            "_view_module": "@jupyter-widgets/controls",
            "_view_module_version": "1.5.0",
            "_view_name": "HBoxView",
            "box_style": "",
            "children": [
              "IPY_MODEL_bc6b5d8569e24a1f98307d63519be850",
              "IPY_MODEL_98d03b8f00144be18177f4b913a60cc6",
              "IPY_MODEL_bfbd01eb857b4ab08dc9ff1d31bf1b54"
            ],
            "layout": "IPY_MODEL_e724a433d7d64ee793370799946bb6ad"
          }
        },
        "bc6b5d8569e24a1f98307d63519be850": {
          "model_module": "@jupyter-widgets/controls",
          "model_name": "HTMLModel",
          "model_module_version": "1.5.0",
          "state": {
            "_dom_classes": [],
            "_model_module": "@jupyter-widgets/controls",
            "_model_module_version": "1.5.0",
            "_model_name": "HTMLModel",
            "_view_count": null,
            "_view_module": "@jupyter-widgets/controls",
            "_view_module_version": "1.5.0",
            "_view_name": "HTMLView",
            "description": "",
            "description_tooltip": null,
            "layout": "IPY_MODEL_3f0a3ab6c0aa44129dc9db16c811f5b0",
            "placeholder": "​",
            "style": "IPY_MODEL_a5622019cb254478954e960b08dd8efc",
            "value": "Downloading pytorch_model.bin: 100%"
          }
        },
        "98d03b8f00144be18177f4b913a60cc6": {
          "model_module": "@jupyter-widgets/controls",
          "model_name": "FloatProgressModel",
          "model_module_version": "1.5.0",
          "state": {
            "_dom_classes": [],
            "_model_module": "@jupyter-widgets/controls",
            "_model_module_version": "1.5.0",
            "_model_name": "FloatProgressModel",
            "_view_count": null,
            "_view_module": "@jupyter-widgets/controls",
            "_view_module_version": "1.5.0",
            "_view_name": "ProgressView",
            "bar_style": "success",
            "description": "",
            "description_tooltip": null,
            "layout": "IPY_MODEL_42c7990f0d2f4ada81c68c3e39ba85da",
            "max": 1269737156,
            "min": 0,
            "orientation": "horizontal",
            "style": "IPY_MODEL_37e4b7ce67314d5fb9303a9b475d9da9",
            "value": 1269737156
          }
        },
        "bfbd01eb857b4ab08dc9ff1d31bf1b54": {
          "model_module": "@jupyter-widgets/controls",
          "model_name": "HTMLModel",
          "model_module_version": "1.5.0",
          "state": {
            "_dom_classes": [],
            "_model_module": "@jupyter-widgets/controls",
            "_model_module_version": "1.5.0",
            "_model_name": "HTMLModel",
            "_view_count": null,
            "_view_module": "@jupyter-widgets/controls",
            "_view_module_version": "1.5.0",
            "_view_name": "HTMLView",
            "description": "",
            "description_tooltip": null,
            "layout": "IPY_MODEL_81e84410df8b4a0bbc8915aacd9bdc64",
            "placeholder": "​",
            "style": "IPY_MODEL_0c92e1d7b314435ba7f560bcac1b8892",
            "value": " 1.27G/1.27G [00:02&lt;00:00, 551MB/s]"
          }
        },
        "e724a433d7d64ee793370799946bb6ad": {
          "model_module": "@jupyter-widgets/base",
          "model_name": "LayoutModel",
          "model_module_version": "1.2.0",
          "state": {
            "_model_module": "@jupyter-widgets/base",
            "_model_module_version": "1.2.0",
            "_model_name": "LayoutModel",
            "_view_count": null,
            "_view_module": "@jupyter-widgets/base",
            "_view_module_version": "1.2.0",
            "_view_name": "LayoutView",
            "align_content": null,
            "align_items": null,
            "align_self": null,
            "border": null,
            "bottom": null,
            "display": null,
            "flex": null,
            "flex_flow": null,
            "grid_area": null,
            "grid_auto_columns": null,
            "grid_auto_flow": null,
            "grid_auto_rows": null,
            "grid_column": null,
            "grid_gap": null,
            "grid_row": null,
            "grid_template_areas": null,
            "grid_template_columns": null,
            "grid_template_rows": null,
            "height": null,
            "justify_content": null,
            "justify_items": null,
            "left": null,
            "margin": null,
            "max_height": null,
            "max_width": null,
            "min_height": null,
            "min_width": null,
            "object_fit": null,
            "object_position": null,
            "order": null,
            "overflow": null,
            "overflow_x": null,
            "overflow_y": null,
            "padding": null,
            "right": null,
            "top": null,
            "visibility": null,
            "width": null
          }
        },
        "3f0a3ab6c0aa44129dc9db16c811f5b0": {
          "model_module": "@jupyter-widgets/base",
          "model_name": "LayoutModel",
          "model_module_version": "1.2.0",
          "state": {
            "_model_module": "@jupyter-widgets/base",
            "_model_module_version": "1.2.0",
            "_model_name": "LayoutModel",
            "_view_count": null,
            "_view_module": "@jupyter-widgets/base",
            "_view_module_version": "1.2.0",
            "_view_name": "LayoutView",
            "align_content": null,
            "align_items": null,
            "align_self": null,
            "border": null,
            "bottom": null,
            "display": null,
            "flex": null,
            "flex_flow": null,
            "grid_area": null,
            "grid_auto_columns": null,
            "grid_auto_flow": null,
            "grid_auto_rows": null,
            "grid_column": null,
            "grid_gap": null,
            "grid_row": null,
            "grid_template_areas": null,
            "grid_template_columns": null,
            "grid_template_rows": null,
            "height": null,
            "justify_content": null,
            "justify_items": null,
            "left": null,
            "margin": null,
            "max_height": null,
            "max_width": null,
            "min_height": null,
            "min_width": null,
            "object_fit": null,
            "object_position": null,
            "order": null,
            "overflow": null,
            "overflow_x": null,
            "overflow_y": null,
            "padding": null,
            "right": null,
            "top": null,
            "visibility": null,
            "width": null
          }
        },
        "a5622019cb254478954e960b08dd8efc": {
          "model_module": "@jupyter-widgets/controls",
          "model_name": "DescriptionStyleModel",
          "model_module_version": "1.5.0",
          "state": {
            "_model_module": "@jupyter-widgets/controls",
            "_model_module_version": "1.5.0",
            "_model_name": "DescriptionStyleModel",
            "_view_count": null,
            "_view_module": "@jupyter-widgets/base",
            "_view_module_version": "1.2.0",
            "_view_name": "StyleView",
            "description_width": ""
          }
        },
        "42c7990f0d2f4ada81c68c3e39ba85da": {
          "model_module": "@jupyter-widgets/base",
          "model_name": "LayoutModel",
          "model_module_version": "1.2.0",
          "state": {
            "_model_module": "@jupyter-widgets/base",
            "_model_module_version": "1.2.0",
            "_model_name": "LayoutModel",
            "_view_count": null,
            "_view_module": "@jupyter-widgets/base",
            "_view_module_version": "1.2.0",
            "_view_name": "LayoutView",
            "align_content": null,
            "align_items": null,
            "align_self": null,
            "border": null,
            "bottom": null,
            "display": null,
            "flex": null,
            "flex_flow": null,
            "grid_area": null,
            "grid_auto_columns": null,
            "grid_auto_flow": null,
            "grid_auto_rows": null,
            "grid_column": null,
            "grid_gap": null,
            "grid_row": null,
            "grid_template_areas": null,
            "grid_template_columns": null,
            "grid_template_rows": null,
            "height": null,
            "justify_content": null,
            "justify_items": null,
            "left": null,
            "margin": null,
            "max_height": null,
            "max_width": null,
            "min_height": null,
            "min_width": null,
            "object_fit": null,
            "object_position": null,
            "order": null,
            "overflow": null,
            "overflow_x": null,
            "overflow_y": null,
            "padding": null,
            "right": null,
            "top": null,
            "visibility": null,
            "width": null
          }
        },
        "37e4b7ce67314d5fb9303a9b475d9da9": {
          "model_module": "@jupyter-widgets/controls",
          "model_name": "ProgressStyleModel",
          "model_module_version": "1.5.0",
          "state": {
            "_model_module": "@jupyter-widgets/controls",
            "_model_module_version": "1.5.0",
            "_model_name": "ProgressStyleModel",
            "_view_count": null,
            "_view_module": "@jupyter-widgets/base",
            "_view_module_version": "1.2.0",
            "_view_name": "StyleView",
            "bar_color": null,
            "description_width": ""
          }
        },
        "81e84410df8b4a0bbc8915aacd9bdc64": {
          "model_module": "@jupyter-widgets/base",
          "model_name": "LayoutModel",
          "model_module_version": "1.2.0",
          "state": {
            "_model_module": "@jupyter-widgets/base",
            "_model_module_version": "1.2.0",
            "_model_name": "LayoutModel",
            "_view_count": null,
            "_view_module": "@jupyter-widgets/base",
            "_view_module_version": "1.2.0",
            "_view_name": "LayoutView",
            "align_content": null,
            "align_items": null,
            "align_self": null,
            "border": null,
            "bottom": null,
            "display": null,
            "flex": null,
            "flex_flow": null,
            "grid_area": null,
            "grid_auto_columns": null,
            "grid_auto_flow": null,
            "grid_auto_rows": null,
            "grid_column": null,
            "grid_gap": null,
            "grid_row": null,
            "grid_template_areas": null,
            "grid_template_columns": null,
            "grid_template_rows": null,
            "height": null,
            "justify_content": null,
            "justify_items": null,
            "left": null,
            "margin": null,
            "max_height": null,
            "max_width": null,
            "min_height": null,
            "min_width": null,
            "object_fit": null,
            "object_position": null,
            "order": null,
            "overflow": null,
            "overflow_x": null,
            "overflow_y": null,
            "padding": null,
            "right": null,
            "top": null,
            "visibility": null,
            "width": null
          }
        },
        "0c92e1d7b314435ba7f560bcac1b8892": {
          "model_module": "@jupyter-widgets/controls",
          "model_name": "DescriptionStyleModel",
          "model_module_version": "1.5.0",
          "state": {
            "_model_module": "@jupyter-widgets/controls",
            "_model_module_version": "1.5.0",
            "_model_name": "DescriptionStyleModel",
            "_view_count": null,
            "_view_module": "@jupyter-widgets/base",
            "_view_module_version": "1.2.0",
            "_view_name": "StyleView",
            "description_width": ""
          }
        }
      }
    }
  },
  "cells": [
    {
      "cell_type": "markdown",
      "metadata": {
        "id": "view-in-github",
        "colab_type": "text"
      },
      "source": [
        "<a href=\"https://colab.research.google.com/github/Cirediallo/Models/blob/main/Copie_de_Copy_of_Fine_Tune_XLS_R_on_Common_Voice.ipynb\" target=\"_parent\"><img src=\"https://colab.research.google.com/assets/colab-badge.svg\" alt=\"Open In Colab\"/></a>"
      ]
    },
    {
      "cell_type": "markdown",
      "metadata": {
        "id": "LBSYoWbi-45k"
      },
      "source": [
        "# **Fine-tuning XLS-R for Multi-Lingual ASR with 🤗 Transformers**\n",
        "\n",
        "***New (11/2021)***: *This blog post has been updated to feature XLSR's successor, called [XLS-R](https://huggingface.co/models?other=xls_r)*."
      ]
    },
    {
      "cell_type": "markdown",
      "metadata": {
        "id": "V7YOT2mnUiea"
      },
      "source": [
        "**Wav2Vec2** is a pretrained model for Automatic Speech Recognition (ASR) and was released in [September 2020](https://ai.facebook.com/blog/wav2vec-20-learning-the-structure-of-speech-from-raw-audio/) by *Alexei Baevski, Michael Auli, and Alex Conneau*.  Soon after the superior performance of Wav2Vec2 was demonstrated on one of the most popular English datasets for ASR, called [LibriSpeech](https://huggingface.co/datasets/librispeech_asr), *Facebook AI* presented a multi-lingual version of Wav2Vec2, called [XLSR](https://arxiv.org/abs/2006.13979). XLSR stands for *cross-lingual speech representations* and refers to model's ability to learn speech representations that are useful across multiple languages.\n",
        "\n",
        "XLSR's successor, simply called **XLS-R** (refering to the [*''XLM-R*](https://ai.facebook.com/blog/-xlm-r-state-of-the-art-cross-lingual-understanding-through-self-supervision/) *for Speech''*), was released in [November 2021](https://ai.facebook.com/blog/xls-r-self-supervised-speech-processing-for-128-languages) by *Arun Babu, Changhan Wang, Andros Tjandra, et al.* XLS-R used almost **half a million** hours of audio data in 128 languages for self-supervised pre-training and comes in sizes ranging from 300 milion up to **two billion** parameters. You can find the pretrained checkpoints on the 🤗 Hub:\n",
        "\n",
        "- [**Wav2Vec2-XLS-R-300M**](https://huggingface.co/facebook/wav2vec2-xls-r-300m)\n",
        "- [**Wav2Vec2-XLS-R-1B**](https://huggingface.co/facebook/wav2vec2-xls-r-1b)\n",
        "- [**Wav2Vec2-XLS-R-2B**](https://huggingface.co/facebook/wav2vec2-xls-r-2b)\n",
        "\n",
        "Similar to [BERT's masked language modeling objective](http://jalammar.github.io/illustrated-bert/), XLS-R learns contextualized speech representations by randomly masking feature vectors before passing them to a transformer network during self-supervised pre-training (*i.e.* diagram on the left below). \n",
        "\n",
        "For fine-tuning, a single linear layer is added on top of the pre-trained network to train the model on labeled data of audio downstream tasks such as speech recognition, speech translation and audio classification (*i.e.* diagram on the right below).\n",
        "\n",
        "![wav2vec2_structure](https://raw.githubusercontent.com/patrickvonplaten/scientific_images/master/xls_r.png)\n",
        "\n",
        "XLS-R shows impressive improvements over previous state-of-the-art results on both speech recognition, speech translation and speaker/language identification, *cf.* with Table 3-6, Table 7-10, and Table 11-12 respectively of the official [paper](https://ai.facebook.com/blog/xls-r-self-supervised-speech-processing-for-128-languages)."
      ]
    },
    {
      "cell_type": "markdown",
      "metadata": {
        "id": "nT_QrfWtsxIz"
      },
      "source": [
        "## Notebook Setup"
      ]
    },
    {
      "cell_type": "markdown",
      "metadata": {
        "id": "kruqixOYHaIo"
      },
      "source": [
        "\n",
        "In this notebook, we will give an in-detail explanation of how XLS-R - more specifically the pre-trained checkpoint [**Wav2Vec2-XLS-R-300M**](https://huggingface.co/facebook/wav2vec2-xls-r-300m) - can be fine-tuned for ASR.  \n",
        "\n",
        "For demonstration purposes, we fine-tune the model on the low resource ASR dataset of [Common Voice](https://huggingface.co/datasets/common_voice) that contains only *ca.* 4h of validated training data."
      ]
    },
    {
      "cell_type": "markdown",
      "metadata": {
        "id": "Gx9OdDYrCtQ1"
      },
      "source": [
        "XLS-R is fine-tuned using Connectionist Temporal Classification (CTC), which is an algorithm that is used to train neural networks for sequence-to-sequence problems, such as ASR and handwriting recognition. \n",
        "\n",
        "I highly recommend reading the well-written blog post [*Sequence Modeling with CTC (2017)*](https://distill.pub/2017/ctc/) by Awni Hannun."
      ]
    },
    {
      "cell_type": "markdown",
      "metadata": {
        "id": "wcHuXIaWyHZU"
      },
      "source": [
        "First, let's try to get a good GPU in our colab! With Google Colab's free version it's sadly becoming much harder to get access to a good GPU. With Google Colab Pro, however, one should easily get either a V100 or P100 GPU."
      ]
    },
    {
      "cell_type": "code",
      "metadata": {
        "colab": {
          "base_uri": "https://localhost:8080/"
        },
        "id": "YELVqGxMxnbG",
        "outputId": "1ab7eb67-409d-4371-b99e-7eb1171cb5fb"
      },
      "source": [
        "gpu_info = !nvidia-smi\n",
        "gpu_info = '\\n'.join(gpu_info)\n",
        "if gpu_info.find('failed') >= 0:\n",
        "  print('Not connected to a GPU')\n",
        "else:\n",
        "  print(gpu_info)"
      ],
      "execution_count": null,
      "outputs": [
        {
          "name": "stdout",
          "output_type": "stream",
          "text": [
            "Fri Nov 12 14:31:29 2021       \n",
            "+-----------------------------------------------------------------------------+\n",
            "| NVIDIA-SMI 495.44       Driver Version: 460.32.03    CUDA Version: 11.2     |\n",
            "|-------------------------------+----------------------+----------------------+\n",
            "| GPU  Name        Persistence-M| Bus-Id        Disp.A | Volatile Uncorr. ECC |\n",
            "| Fan  Temp  Perf  Pwr:Usage/Cap|         Memory-Usage | GPU-Util  Compute M. |\n",
            "|                               |                      |               MIG M. |\n",
            "|===============================+======================+======================|\n",
            "|   0  Tesla P100-PCIE...  Off  | 00000000:00:04.0 Off |                    0 |\n",
            "| N/A   41C    P0    26W / 250W |      0MiB / 16280MiB |      0%      Default |\n",
            "|                               |                      |                  N/A |\n",
            "+-------------------------------+----------------------+----------------------+\n",
            "                                                                               \n",
            "+-----------------------------------------------------------------------------+\n",
            "| Processes:                                                                  |\n",
            "|  GPU   GI   CI        PID   Type   Process name                  GPU Memory |\n",
            "|        ID   ID                                                   Usage      |\n",
            "|=============================================================================|\n",
            "|  No running processes found                                                 |\n",
            "+-----------------------------------------------------------------------------+\n"
          ]
        }
      ]
    },
    {
      "cell_type": "markdown",
      "metadata": {
        "id": "e335hPmdtASZ"
      },
      "source": [
        "Before we start, let's install `datasets` and `transformers`. Also, we need the `torchaudio` to load audio files and `jiwer` to evaluate our fine-tuned model using the [word error rate (WER)](https://huggingface.co/metrics/wer) metric ${}^1$."
      ]
    },
    {
      "cell_type": "code",
      "metadata": {
        "id": "c8eh87Hoee5d"
      },
      "source": [
        "%%capture\n",
        "!pip install datasets==1.18.3\n",
        "!pip install transformers==4.28.0\n",
        "!pip install torchaudio==0.10.0+cu113 -f https://download.pytorch.org/whl/cu113/torch_stable.html\n",
        "!pip install jiwer"
      ],
      "execution_count": 1,
      "outputs": []
    },
    {
      "cell_type": "markdown",
      "metadata": {
        "id": "0xxt_LwxDQlO"
      },
      "source": [
        "We strongly suggest to upload your training checkpoints directly to the [🤗 Hub](https://huggingface.co/) while training. The [🤗 Hub](https://huggingface.co/) has integrated version control so you can be sure that no model checkpoint is getting lost during training. \n",
        "\n",
        "To do so you have to store your authentication token from the Hugging Face website (sign up [here](https://huggingface.co/join) if you haven't already!)"
      ]
    },
    {
      "cell_type": "code",
      "metadata": {
        "colab": {
          "base_uri": "https://localhost:8080/",
          "height": 160,
          "referenced_widgets": [
            "4bbfd25cb0ea44b7a61ebec32bfd70e1",
            "fe68c9ae29f749bda16cfe1042971980",
            "3bd933b273c44461a39a7c4182ecc51d",
            "c9b1c813ed90451194a96d73379f4641",
            "56540e32f46748e9aed30d788513e283",
            "60af7ea0e56546a49852f3a709de3c29",
            "99516fbcd20447fbbd943c5d209fe1e7",
            "fe63aa7c6c324ed090af5f1b480b277a",
            "5a3a75a5fd614c0e9faa2cfa46066a51",
            "ac5dbe713b2c4559b01964e33318cd06",
            "863d3396454b457195639e56cad46596",
            "f931c23fd90f432595cc8ca683aa7b70",
            "f37a164511db45d19278f9d8b625dcf0",
            "e9410da8c5d845fbb69c8b57e607a524",
            "6092310eaabe4396b7064a3206355dba",
            "e24df839061146ba9698a768346c1b9d",
            "8679345428184b468947b5915ec792e4",
            "95edb3e292cb43668fd6452e76951a20",
            "6bbc8cda57f741109356af50493a6636",
            "6c4bf28f472148e29726fb6df41ec9d6",
            "f592f9ed67d84adbb534895ba7b34e8f",
            "ba7c76adf8244c7693c14904c3f115f9",
            "0271b5c7c1b94ce78a424296a3a5e8e4",
            "280b33234e9346d8a9873dcec102261e",
            "e0ebe0a2fcbc45939ba161622eafbc9a",
            "fffed27026184c4baa390ba2d76d0914",
            "c6370b041c594823aeb1ce57970d141e",
            "de6532717fc34e0bb39623e360976291",
            "d6b1717c4b3f43ea91db98b0f410cf97",
            "8602dea130a34c39ace94d090bfb35ca",
            "9c9ed037938b4f8eb3a147d768f48ad5",
            "7bd7771af46746299cd3a37d366e0913"
          ]
        },
        "id": "mlMSH3T3EazV",
        "outputId": "5c2053b8-766f-4368-fe21-d30d262239a3"
      },
      "source": [
        "from huggingface_hub import notebook_login\n",
        "\n",
        "notebook_login()"
      ],
      "execution_count": 2,
      "outputs": [
        {
          "output_type": "display_data",
          "data": {
            "text/plain": [
              "VBox(children=(HTML(value='<center> <img\\nsrc=https://huggingface.co/front/assets/huggingface_logo-noborder.sv…"
            ],
            "application/vnd.jupyter.widget-view+json": {
              "version_major": 2,
              "version_minor": 0,
              "model_id": "4bbfd25cb0ea44b7a61ebec32bfd70e1"
            }
          },
          "metadata": {}
        }
      ]
    },
    {
      "cell_type": "markdown",
      "metadata": {
        "id": "ujdZ2TxhElk6"
      },
      "source": [
        "\n",
        "Then you need to install Git-LFS to upload your model checkpoints:"
      ]
    },
    {
      "cell_type": "code",
      "metadata": {
        "id": "WcR-d83OEkqb"
      },
      "source": [
        "%%capture\n",
        "!apt install git-lfs"
      ],
      "execution_count": 3,
      "outputs": []
    },
    {
      "cell_type": "markdown",
      "metadata": {
        "id": "Mn9swf6EQ9Vd"
      },
      "source": [
        "\n",
        "\n",
        "\n",
        "---\n",
        "\n",
        "${}^1$ In the [paper](https://arxiv.org/pdf/2006.13979.pdf), the model was evaluated using the phoneme error rate (PER), but by far the most common metric in ASR is the word error rate (WER). To keep this notebook as general as possible we decided to evaluate the model using WER."
      ]
    },
    {
      "cell_type": "markdown",
      "metadata": {
        "id": "0mW-C1Nt-j7k"
      },
      "source": [
        "## Prepare Data, Tokenizer, Feature Extractor"
      ]
    },
    {
      "cell_type": "markdown",
      "metadata": {
        "id": "BeBosnY9BH3e"
      },
      "source": [
        "ASR models transcribe speech to text, which means that we both need a feature extractor that processes the speech signal to the model's input format, *e.g.* a feature vector, and a tokenizer that processes the model's output format to text. \n",
        "\n",
        "In 🤗 Transformers, the XLS-R model is thus accompanied by both a tokenizer, called [Wav2Vec2CTCTokenizer](https://huggingface.co/transformers/master/model_doc/wav2vec2.html#wav2vec2ctctokenizer), and a feature extractor, called [Wav2Vec2FeatureExtractor](https://huggingface.co/transformers/master/model_doc/wav2vec2.html#wav2vec2featureextractor).\n",
        "\n",
        "Let's start by creating the tokenizer to decode the predicted output classes to the output transcription."
      ]
    },
    {
      "cell_type": "markdown",
      "metadata": {
        "id": "sEXEWEJGQPqD"
      },
      "source": [
        "### Create `Wav2Vec2CTCTokenizer`"
      ]
    },
    {
      "cell_type": "markdown",
      "metadata": {
        "id": "tWmMikuNEKl_"
      },
      "source": [
        "A pre-trained XLS-R model maps the speech signal to a sequence of context representations as illustrated in the figure above. However, for speech recognition the model has to to map this sequence of context representations to its corresponding transcription which means that a linear layer has to be added on top of the transformer block (shown in yellow in the diagram above). This linear layer is used to classifies each context representation to a token class analogous how, *e.g.*, after pretraining a linear layer is added on top of BERT's embeddings for further classification - *cf.* with *'BERT'* section of this [blog post](https://huggingface.co/blog/warm-starting-encoder-decoder)."
      ]
    },
    {
      "cell_type": "markdown",
      "metadata": {
        "id": "v5oRE8XjIUH3"
      },
      "source": [
        "The output size of this layer corresponds to the number of tokens in the vocabulary, which does **not** depend onXLS-R's pretraining task, but only on the labeled dataset used for fine-tuning. So in the first step, we will take a look at the chosen dataset of Common Voice and define a vocabulary based on the transcriptions."
      ]
    },
    {
      "cell_type": "markdown",
      "metadata": {
        "id": "idBczw8mWzgt"
      },
      "source": [
        "First, let's go to Common Voice [official website](https://commonvoice.mozilla.org/en/datasets) and pick a language to fine-tune XLS-R on. For this notebook, we will use Turkish. \n",
        "\n",
        "For each language-specific dataset, you can find a language code corresponding to your chosen language. On [Common Voice](https://commonvoice.mozilla.org/en/datasets), look for the field \"Version\". The language code then corresponds to the prefix before the underscore. For Turkish, *e.g.* the language code is `\"tr\"`.\n",
        "\n",
        "Great, now we can use 🤗 Datasets' simple API to download the data. The dataset name is `\"common_voice\"`, the configuration name corresponds to the language code, which is `\"tr\"` in our case."
      ]
    },
    {
      "cell_type": "markdown",
      "metadata": {
        "id": "bee4g9rpLxll"
      },
      "source": [
        "Common Voice has many different splits including `invalidated`, which refers to data that was not rated as \"clean enough\" to be considered useful. In this notebook, we will only make use of the splits `\"train\"`, `\"validation\"` and `\"test\"`. \n",
        "\n",
        "Because the Turkish dataset is so small, we will merge both the validation and training data into a training dataset and only use the test data for validation."
      ]
    },
    {
      "cell_type": "code",
      "metadata": {
        "colab": {
          "base_uri": "https://localhost:8080/",
          "height": 185,
          "referenced_widgets": [
            "75a2627bdd10409e8987367aee79774e",
            "9dbf8e9f36cb4f04a1a5497701e5a558",
            "e8850fa8df8943fb9542d3fc937eee7e",
            "0d67433ee26e4f6499ac03f10f0f7288",
            "d519ffc25c5e4e6e8c6fc17475855493",
            "a3370e8845e34e7f9f6e686a3325b9b9",
            "2d1d11b115cf4aef8205e2f9858b0bfb",
            "571ce6b54cef408d9f1330399d132b96",
            "1672b8966cc445979c65aef60015d931",
            "5d05b284024e40bdb2ddba2e853569c5",
            "9b1b1d0a24a84513a93a135831049b14",
            "ae053164a9fd4d9aaef5f6be8151d773",
            "24cfbad1c12a4fdb92edabea317d97bb",
            "df029cbf94f346a6afc50037d3f88ff6",
            "3794072f023f43ec9c65b820518d9fc0",
            "98a1a0186b1b4684baf83cc2a99bcd45",
            "a2c180229e594385928f60c7832121e1",
            "8d3142f157c348abb9c8f7163580b8c5",
            "a8d05239c77349dfba9738678e07623c",
            "60c57febbed743149102309eec18ead8",
            "6444990d59ea45fcb29960cf240cb5bd",
            "23583990909f458ba72766436c6b9478",
            "cb512abc6ee24edaa8c405581734d934",
            "2ce22a8b2c324e82b56263e25780acea",
            "030abcc86d4f46658f7f66d48085b49a",
            "d93bb540fe3c418d8b07169e5c8ed367",
            "0b57021beb824f2fa4ef3b3f1981c850",
            "ebc57c43d867441c9bb48f3427825fe3",
            "8133669691df4972a740f7aaaf42599f",
            "32f9f1d43a6141eb8a6e8349544f06e0",
            "3f001170bdba49bbb82c5d3935c0fde6",
            "72d73eae224040ac955a634ae1aff26a",
            "5144fa9856a24d03bb771937874e1383",
            "fb5e728447734c2caca5ae57210c8347",
            "a1fb51b338044222b24f14153b3ace83",
            "d30710d9e40e41a099dff0d0fa7d294a",
            "b8514a35086d486486bee65df2bb142c",
            "3d860b00418341a0ad487262478c486e",
            "c1e453f014024a60b05edb0ff41c267b",
            "db7bfdbb65074bd286c947cb589ff41c",
            "a8dd91438faa47298a4d6bed26c59d87",
            "73c2e866051e4f748a8dae00fa052cc7",
            "282ee98819f443e7be3ae4d06741398a",
            "8d125548bba04c1bb3df977f8efa417a",
            "b456deec2e5441b28a50875ed5a1401f",
            "ce9aeac4ce714984a7a2a03fbab723b6",
            "a5359f1827ab4805bc059653f5c55158",
            "df43ad0085aa407f9812e1214ed3d799",
            "feef3cececf64e19a24361cde7822d6a",
            "05d499d86a7f4698b100071c79d936cb",
            "1a0af159166445e588a61b68c677be9c",
            "55fdd91acc2a4cb5b522e6db3373c985",
            "a40489c581954389ae66e00dd39688d7",
            "f9b8bec2040142ccb84e0115ac0335cf",
            "8ee79b163d9a4485b01a9fae429800b0",
            "81120a0682c240a2a630e374f8874585",
            "a1ff6a85f8624a9fa5ce70a43cf82464",
            "1f8d825474ff47129b3e9456336f94e4",
            "fb8c2bbe25bc450da009de8c506728b3",
            "12c66b60a82b49f19f15ab16c5115b6a",
            "e6f1425279e449c98e3c9c5485bc7dd6",
            "4b9cea257f1f4c529bc70dc0ae12005f",
            "d75c2a86ec2d4909b0d947828e240cf9",
            "1e423cb710e749f393a66bbb0bfc1f6a",
            "a40b3bbbf984411980824c62577b068c",
            "f7ef7e6ced164d5a851b1eb73c7d83f6",
            "67fb6aeb1b1b48709fe6fc86f7c8ca63",
            "c820d7a4073742d384ced8d2b92001bb",
            "404b9c7b590d4f1baea1758b0a75029c",
            "68631451e51941bdaba3620bfb9bf9c6",
            "eb7077702f494b8d8944674a2d088a12",
            "60fcaae5a95b47c883ef1ac061600a57",
            "683025096ba14984a8b97be117cb23fa",
            "49f3747f51b047d98c5abed0c03c50f3",
            "00f82df02ad4472ea3f24dfdb92a530b",
            "a566f37aff8d4ce38b5a7aaedd4e242d",
            "f685f3eb36cb49b4841a7a37668f7b9c",
            "a28eb1e138f7450aad795225a2e26588",
            "c2219ed8b54a4adea1bef3c237b8e7cf",
            "75a16e0790b840508aa241f7d2bf6250",
            "173c0db45d3649f990f1349b2865853b",
            "b5c758b74bda48c4a2189792913b0e8e",
            "2768d957b92447d59637f255a7e48897",
            "fa057f2977d64524bd593f44ae08e384",
            "5dddf9f6bc964f6e915b12a713011552",
            "b4fe85e63cc542b69f509664fa543691",
            "19e0091ed2ca4ce4bd956e070794c640",
            "ab4c0552c0ff4e76bbb286a0485eca58"
          ]
        },
        "id": "2MMXcWFFgCXU",
        "outputId": "a309da96-a8c4-4383-9526-75ae032ba227"
      },
      "source": [
        "from datasets import load_dataset, load_metric, Audio\n",
        "\n",
        "common_voice_train = load_dataset(\"common_voice\", \"es\", split=\"train\")\n",
        "#common_voice_validation = load_dataset(\"common_voice\", \"es\", split=\"validation\")\n",
        "common_voice_test = load_dataset(\"common_voice\", \"es\", split=\"test\")\n",
        "\n"
      ],
      "execution_count": 4,
      "outputs": [
        {
          "output_type": "display_data",
          "data": {
            "text/plain": [
              "Downloading:   0%|          | 0.00/4.62k [00:00<?, ?B/s]"
            ],
            "application/vnd.jupyter.widget-view+json": {
              "version_major": 2,
              "version_minor": 0,
              "model_id": "75a2627bdd10409e8987367aee79774e"
            }
          },
          "metadata": {}
        },
        {
          "output_type": "display_data",
          "data": {
            "text/plain": [
              "Downloading:   0%|          | 0.00/10.7k [00:00<?, ?B/s]"
            ],
            "application/vnd.jupyter.widget-view+json": {
              "version_major": 2,
              "version_minor": 0,
              "model_id": "ae053164a9fd4d9aaef5f6be8151d773"
            }
          },
          "metadata": {}
        },
        {
          "output_type": "stream",
          "name": "stdout",
          "text": [
            "Downloading and preparing dataset common_voice/es (download: 15.08 GiB, generated: 14.53 GiB, post-processed: Unknown size, total: 29.61 GiB) to /root/.cache/huggingface/datasets/common_voice/es/6.1.0/5693bfc0feeade582a78c2fb250bc88f52bd86f0a7f1bb22bfee67e715de30fd...\n"
          ]
        },
        {
          "output_type": "display_data",
          "data": {
            "text/plain": [
              "Downloading:   0%|          | 0.00/16.2G [00:00<?, ?B/s]"
            ],
            "application/vnd.jupyter.widget-view+json": {
              "version_major": 2,
              "version_minor": 0,
              "model_id": "cb512abc6ee24edaa8c405581734d934"
            }
          },
          "metadata": {}
        },
        {
          "output_type": "display_data",
          "data": {
            "text/plain": [
              "0 examples [00:00, ? examples/s]"
            ],
            "application/vnd.jupyter.widget-view+json": {
              "version_major": 2,
              "version_minor": 0,
              "model_id": "fb5e728447734c2caca5ae57210c8347"
            }
          },
          "metadata": {}
        },
        {
          "output_type": "display_data",
          "data": {
            "text/plain": [
              "0 examples [00:00, ? examples/s]"
            ],
            "application/vnd.jupyter.widget-view+json": {
              "version_major": 2,
              "version_minor": 0,
              "model_id": "b456deec2e5441b28a50875ed5a1401f"
            }
          },
          "metadata": {}
        },
        {
          "output_type": "display_data",
          "data": {
            "text/plain": [
              "0 examples [00:00, ? examples/s]"
            ],
            "application/vnd.jupyter.widget-view+json": {
              "version_major": 2,
              "version_minor": 0,
              "model_id": "81120a0682c240a2a630e374f8874585"
            }
          },
          "metadata": {}
        },
        {
          "output_type": "display_data",
          "data": {
            "text/plain": [
              "0 examples [00:00, ? examples/s]"
            ],
            "application/vnd.jupyter.widget-view+json": {
              "version_major": 2,
              "version_minor": 0,
              "model_id": "67fb6aeb1b1b48709fe6fc86f7c8ca63"
            }
          },
          "metadata": {}
        },
        {
          "output_type": "display_data",
          "data": {
            "text/plain": [
              "0 examples [00:00, ? examples/s]"
            ],
            "application/vnd.jupyter.widget-view+json": {
              "version_major": 2,
              "version_minor": 0,
              "model_id": "a28eb1e138f7450aad795225a2e26588"
            }
          },
          "metadata": {}
        },
        {
          "output_type": "stream",
          "name": "stdout",
          "text": [
            "Dataset common_voice downloaded and prepared to /root/.cache/huggingface/datasets/common_voice/es/6.1.0/5693bfc0feeade582a78c2fb250bc88f52bd86f0a7f1bb22bfee67e715de30fd. Subsequent calls will reuse this data.\n"
          ]
        },
        {
          "output_type": "stream",
          "name": "stderr",
          "text": [
            "WARNING:datasets.builder:Reusing dataset common_voice (/root/.cache/huggingface/datasets/common_voice/es/6.1.0/5693bfc0feeade582a78c2fb250bc88f52bd86f0a7f1bb22bfee67e715de30fd)\n"
          ]
        }
      ]
    },
    {
      "cell_type": "code",
      "source": [
        "common_voice_train"
      ],
      "metadata": {
        "id": "H5Nr__zDoeQd",
        "colab": {
          "base_uri": "https://localhost:8080/"
        },
        "outputId": "1810a86c-51e0-44c4-968b-f40078b614e0"
      },
      "execution_count": 5,
      "outputs": [
        {
          "output_type": "execute_result",
          "data": {
            "text/plain": [
              "Dataset({\n",
              "    features: ['client_id', 'path', 'audio', 'sentence', 'up_votes', 'down_votes', 'age', 'gender', 'accent', 'locale', 'segment'],\n",
              "    num_rows: 161813\n",
              "})"
            ]
          },
          "metadata": {},
          "execution_count": 5
        }
      ]
    },
    {
      "cell_type": "markdown",
      "metadata": {
        "id": "ri5y5N_HMANq"
      },
      "source": [
        "Many ASR datasets only provide the target text, `'sentence'` for each audio array `'audio'` and file `'path'`. Common Voice actually provides much more information about each audio file, such as the `'accent'`, etc. Keeping the notebook as general as possible, we only consider the transcribed text for fine-tuning.\n",
        "\n"
      ]
    },
    {
      "cell_type": "code",
      "metadata": {
        "id": "kbyq6lDgQc2a"
      },
      "source": [
        "common_voice_train = common_voice_train.remove_columns([\"accent\", \"age\", \"client_id\", \"down_votes\", \"gender\", \"locale\", \"segment\", \"up_votes\"])\n",
        "common_voice_test = common_voice_test.remove_columns([\"accent\", \"age\", \"client_id\", \"down_votes\", \"gender\", \"locale\", \"segment\", \"up_votes\"])"
      ],
      "execution_count": 6,
      "outputs": []
    },
    {
      "cell_type": "markdown",
      "metadata": {
        "id": "Go9Hq4e4NDT9"
      },
      "source": [
        "Let's write a short function to display some random samples of the dataset and run it a couple of times to get a feeling for the transcriptions."
      ]
    },
    {
      "cell_type": "code",
      "metadata": {
        "id": "72737oog2F6U"
      },
      "source": [
        "from datasets import ClassLabel\n",
        "import random\n",
        "import pandas as pd\n",
        "from IPython.display import display, HTML\n",
        "\n",
        "def show_random_elements(dataset, num_examples=10):\n",
        "    assert num_examples <= len(dataset), \"Can't pick more elements than there are in the dataset.\"\n",
        "    picks = []\n",
        "    for _ in range(num_examples):\n",
        "        pick = random.randint(0, len(dataset)-1)\n",
        "        while pick in picks:\n",
        "            pick = random.randint(0, len(dataset)-1)\n",
        "        picks.append(pick)\n",
        "    \n",
        "    df = pd.DataFrame(dataset[picks])\n",
        "    display(HTML(df.to_html()))"
      ],
      "execution_count": 7,
      "outputs": []
    },
    {
      "cell_type": "code",
      "metadata": {
        "colab": {
          "base_uri": "https://localhost:8080/",
          "height": 363
        },
        "id": "K_JUmf3G3b9S",
        "outputId": "98cf9708-54f3-4f88-c0be-5d54883e7bc3"
      },
      "source": [
        "show_random_elements(common_voice_train.remove_columns([\"path\", \"audio\"]), num_examples=10)"
      ],
      "execution_count": 8,
      "outputs": [
        {
          "output_type": "display_data",
          "data": {
            "text/plain": [
              "<IPython.core.display.HTML object>"
            ],
            "text/html": [
              "<table border=\"1\" class=\"dataframe\">\n",
              "  <thead>\n",
              "    <tr style=\"text-align: right;\">\n",
              "      <th></th>\n",
              "      <th>sentence</th>\n",
              "    </tr>\n",
              "  </thead>\n",
              "  <tbody>\n",
              "    <tr>\n",
              "      <th>0</th>\n",
              "      <td>El inmóvil sirvió de vivienda a Renato en su infancia y adolescencia.</td>\n",
              "    </tr>\n",
              "    <tr>\n",
              "      <th>1</th>\n",
              "      <td>Hoy día es la Sede de la Subdelegación del Gobierno.</td>\n",
              "    </tr>\n",
              "    <tr>\n",
              "      <th>2</th>\n",
              "      <td>Felipe fue uno de los pocos caballeros cristianos que pudo escapar a la catástrofe.</td>\n",
              "    </tr>\n",
              "    <tr>\n",
              "      <th>3</th>\n",
              "      <td>Era historia viviente.</td>\n",
              "    </tr>\n",
              "    <tr>\n",
              "      <th>4</th>\n",
              "      <td>Se distribuye por el Mediterráneo.</td>\n",
              "    </tr>\n",
              "    <tr>\n",
              "      <th>5</th>\n",
              "      <td>Si esta estrella fuera nuestro Sol, englobaría todos los planetas hasta cerca de Saturno.</td>\n",
              "    </tr>\n",
              "    <tr>\n",
              "      <th>6</th>\n",
              "      <td>Los sistemas automatizados se colocan en el área de autoservicio.</td>\n",
              "    </tr>\n",
              "    <tr>\n",
              "      <th>7</th>\n",
              "      <td>Los pods de hecho tienen un ciclo de vida.</td>\n",
              "    </tr>\n",
              "    <tr>\n",
              "      <th>8</th>\n",
              "      <td>Tras organizarse, tomó el rol de presidenta.</td>\n",
              "    </tr>\n",
              "    <tr>\n",
              "      <th>9</th>\n",
              "      <td>A su vez, Santa Marta es el lugar de nacimiento del cantante Carlos Vives.</td>\n",
              "    </tr>\n",
              "  </tbody>\n",
              "</table>"
            ]
          },
          "metadata": {}
        }
      ]
    },
    {
      "cell_type": "markdown",
      "metadata": {
        "id": "fowcOllGNNju"
      },
      "source": [
        "Alright! The transcriptions look fairly clean. Having translated the transcribed sentences, it seems that the language corresponds more to written-out text than noisy dialogue. This makes sense considering that [Common Voice](https://huggingface.co/datasets/common_voice) is a crowd-sourced read speech corpus."
      ]
    },
    {
      "cell_type": "markdown",
      "metadata": {
        "id": "vq7OR50LN49m"
      },
      "source": [
        "We can see that the transcriptions contain some special characters, such as `,.?!;:`. Without a language model, it is much harder to classify speech chunks to such special characters because they don't really correspond to a characteristic sound unit. *E.g.*, the letter `\"s\"` has a more or less clear sound, whereas the special character `\".\"` does not.\n",
        "Also in order to understand the meaning of a speech signal, it is usually not necessary to include special characters in the transcription.\n",
        "\n",
        "Let's simply remove all characters that don't contribute to the meaning of a word and cannot really be represented by an acoustic sound and normalize the text."
      ]
    },
    {
      "cell_type": "code",
      "metadata": {
        "id": "svKzVJ_hQGK6"
      },
      "source": [
        "import re\n",
        "chars_to_remove_regex = '[\\,\\?\\.\\!\\;\\¡\\:\\¿\\\"\\“\\%\\‘\\”\\�\\']'\n",
        "\n",
        "def remove_special_characters(batch):\n",
        "    batch[\"sentence\"] = re.sub(chars_to_remove_regex, '', batch[\"sentence\"]).lower()\n",
        "    return batch"
      ],
      "execution_count": 9,
      "outputs": []
    },
    {
      "cell_type": "code",
      "metadata": {
        "colab": {
          "base_uri": "https://localhost:8080/",
          "height": 118,
          "referenced_widgets": [
            "17319ec2b46b44978916848b8dd0d8ff",
            "9d76db9da77b45c2b75c5f3edb6c6be5",
            "d79298efcfee4d30aa8250ab777059e9",
            "fb8dc179106c4b92985b4db5ac255a80",
            "2d8088be6c0b4e3390b3966b5345e25e",
            "504fd52fea0440ad815e595f41aa8f8f",
            "56df4912591f4d4b81fb32455907667c",
            "0ff47e7102cc48c9b33f2f9dd5593cdc",
            "96074046125544d2ac6e4b4d8012e2bc",
            "982950f9c9f5490cab7c98993fabe727",
            "37bc51976e2a47ee8e05a39cab7a182c",
            "b76b7d825f544bdd82d36ba21c3236b7",
            "53e9e05f37f14fa7ba3b5916dfe57728",
            "ebb4f1ced2514c4ea2d19245fc0a043f",
            "0e886d2d41ad4825ab471dd23ce212ce",
            "c6ddc5cda47d4d2ebfaa4a8aa0002e89",
            "e6ed09819cd54774bfc4afc3ca79a9be",
            "acb96d2d277e42dd9bf82bd1a77bcfba",
            "8d2767e8391e4e6c9ec42c084d34e80d",
            "c3551978c3734f949a18c5c916180bd2",
            "1f0d9a1ae23d47acae401c5bb567233d",
            "94bd263331f74258a64fd44568aea7b0"
          ]
        },
        "id": "XIHocAuTQbBR",
        "outputId": "2048beda-4520-476f-b24c-51f4c1fbf874"
      },
      "source": [
        "common_voice_train = common_voice_train.map(remove_special_characters)\n",
        "common_voice_test = common_voice_test.map(remove_special_characters)"
      ],
      "execution_count": 10,
      "outputs": [
        {
          "output_type": "stream",
          "name": "stderr",
          "text": [
            "WARNING:datasets.fingerprint:Parameter 'function'=<function remove_special_characters at 0x7f382647ab90> of the transform datasets.arrow_dataset.Dataset._map_single couldn't be hashed properly, a random hash was used instead. Make sure your transforms and parameters are serializable with pickle or dill for the dataset fingerprinting and caching to work. If you reuse this transform, the caching mechanism will consider it to be different from the previous calls and recompute everything. This warning is only showed once. Subsequent hashing failures won't be showed.\n"
          ]
        },
        {
          "output_type": "display_data",
          "data": {
            "text/plain": [
              "0ex [00:00, ?ex/s]"
            ],
            "application/vnd.jupyter.widget-view+json": {
              "version_major": 2,
              "version_minor": 0,
              "model_id": "17319ec2b46b44978916848b8dd0d8ff"
            }
          },
          "metadata": {}
        },
        {
          "output_type": "display_data",
          "data": {
            "text/plain": [
              "0ex [00:00, ?ex/s]"
            ],
            "application/vnd.jupyter.widget-view+json": {
              "version_major": 2,
              "version_minor": 0,
              "model_id": "b76b7d825f544bdd82d36ba21c3236b7"
            }
          },
          "metadata": {}
        }
      ]
    },
    {
      "cell_type": "markdown",
      "metadata": {
        "id": "TxnVS9gIhIma"
      },
      "source": [
        "Let's look at the processed text labels again."
      ]
    },
    {
      "cell_type": "code",
      "metadata": {
        "colab": {
          "base_uri": "https://localhost:8080/",
          "height": 363
        },
        "id": "RBDRAAYxRE6n",
        "outputId": "d45da7ef-932c-426f-d93b-04f183bb6898"
      },
      "source": [
        "show_random_elements(common_voice_train.remove_columns([\"path\",\"audio\"]))"
      ],
      "execution_count": 11,
      "outputs": [
        {
          "output_type": "display_data",
          "data": {
            "text/plain": [
              "<IPython.core.display.HTML object>"
            ],
            "text/html": [
              "<table border=\"1\" class=\"dataframe\">\n",
              "  <thead>\n",
              "    <tr style=\"text-align: right;\">\n",
              "      <th></th>\n",
              "      <th>sentence</th>\n",
              "    </tr>\n",
              "  </thead>\n",
              "  <tbody>\n",
              "    <tr>\n",
              "      <th>0</th>\n",
              "      <td>aprender mediante el juego</td>\n",
              "    </tr>\n",
              "    <tr>\n",
              "      <th>1</th>\n",
              "      <td>con este equipo ganó una liga y dos copas de irak</td>\n",
              "    </tr>\n",
              "    <tr>\n",
              "      <th>2</th>\n",
              "      <td>la versión j nunca volvió a entrar en producción</td>\n",
              "    </tr>\n",
              "    <tr>\n",
              "      <th>3</th>\n",
              "      <td>los porotos con riendas son una comida nacida en el campo chileno</td>\n",
              "    </tr>\n",
              "    <tr>\n",
              "      <th>4</th>\n",
              "      <td>igualmente es articulista frecuente en distintos diarios de circulación nacional en costa rica</td>\n",
              "    </tr>\n",
              "    <tr>\n",
              "      <th>5</th>\n",
              "      <td>al mismo tiempo se coloca un nacimiento</td>\n",
              "    </tr>\n",
              "    <tr>\n",
              "      <th>6</th>\n",
              "      <td>gonzalo garcía vivanco nació en guadalajara jalisco</td>\n",
              "    </tr>\n",
              "    <tr>\n",
              "      <th>7</th>\n",
              "      <td>actualmente diversas protestas se siguen llevando a cabo no pocas de manera sensacionalista</td>\n",
              "    </tr>\n",
              "    <tr>\n",
              "      <th>8</th>\n",
              "      <td>dicho movimiento instauró la llamada república socialista de chile</td>\n",
              "    </tr>\n",
              "    <tr>\n",
              "      <th>9</th>\n",
              "      <td>en esta universidad se formaron grandes personalidades de las antillas y tierra firme</td>\n",
              "    </tr>\n",
              "  </tbody>\n",
              "</table>"
            ]
          },
          "metadata": {}
        }
      ]
    },
    {
      "cell_type": "markdown",
      "metadata": {
        "id": "jwfaptH5RJwA"
      },
      "source": [
        "Good! This looks better. We have removed most special characters from transcriptions and normalized them to lower-case only.\n",
        "\n",
        "Before finalizing the pre-processing, it is always advantageous to consult a native speaker of the target language to see whether the text can be further simplified. \n",
        "For this blog post, [Merve](https://twitter.com/mervenoyann) was kind enough to take a quick look and noted that \"hatted\" characters - like `â` - aren't really used anymore in Turkish and can be replaced by their \"un-hatted\" equivalent, *e.g.* `a`. \n",
        "\n",
        "This means that we should replace a sentence like `\"yargı sistemi hâlâ sağlıksız\"` to `\"yargı sistemi hala sağlıksız\"`.\n",
        "\n",
        "Let's write another short mapping function to further simplify the text labels. Remember - the simler the text labels, the easier it is for the model to learn to predict those labels.\n",
        "\n"
      ]
    },
    {
      "cell_type": "code",
      "metadata": {
        "id": "aZcrz6z7lgGm"
      },
      "source": [
        "\"\"\"\n",
        "def replace_hatted_characters(batch):\n",
        "    batch[\"sentence\"] = re.sub('[â]', 'a', batch[\"sentence\"])\n",
        "    batch[\"sentence\"] = re.sub('[î]', 'i', batch[\"sentence\"])\n",
        "    batch[\"sentence\"] = re.sub('[ô]', 'o', batch[\"sentence\"])\n",
        "    batch[\"sentence\"] = re.sub('[û]', 'u', batch[\"sentence\"])\n",
        "    return batch\n",
        "\"\"\""
      ],
      "execution_count": null,
      "outputs": []
    },
    {
      "cell_type": "code",
      "metadata": {
        "colab": {
          "base_uri": "https://localhost:8080/"
        },
        "id": "ieGhhND5mSwI",
        "outputId": "2f5cee33-a98a-45ae-a8b4-0f10d97f4d15"
      },
      "source": [
        "#common_voice_train = common_voice_train.map(replace_hatted_characters)\n",
        "#common_voice_test = common_voice_test.map(replace_hatted_characters)"
      ],
      "execution_count": null,
      "outputs": [
        {
          "name": "stderr",
          "output_type": "stream",
          "text": [
            "Loading cached processed dataset at /root/.cache/huggingface/datasets/common_voice/tr/6.1.0/f7a9d973839b7706e9e281c19b7e512f31badf3c0fdbd21c671f3c4bf9acf3b9/cache-42d8bb33221ffcb6.arrow\n",
            "Loading cached processed dataset at /root/.cache/huggingface/datasets/common_voice/tr/6.1.0/f7a9d973839b7706e9e281c19b7e512f31badf3c0fdbd21c671f3c4bf9acf3b9/cache-7feed192f520d0a3.arrow\n"
          ]
        }
      ]
    },
    {
      "cell_type": "markdown",
      "metadata": {
        "id": "3ORHDb2Th2TW"
      },
      "source": [
        "In CTC, it is common to classify speech chunks into letters, so we will do the same here. \n",
        "Let's extract all distinct letters of the training and test data and build our vocabulary from this set of letters.\n",
        "\n",
        "We write a mapping function that concatenates all transcriptions into one long transcription and then transforms the string into a set of chars. \n",
        "It is important to pass the argument `batched=True` to the `map(...)` function so that the mapping function has access to all transcriptions at once."
      ]
    },
    {
      "cell_type": "code",
      "metadata": {
        "id": "LwCshNbbeRZR"
      },
      "source": [
        "def extract_all_chars(batch):\n",
        "  all_text = \" \".join(batch[\"sentence\"])\n",
        "  vocab = list(set(all_text))\n",
        "  return {\"vocab\": [vocab], \"all_text\": [all_text]}"
      ],
      "execution_count": 12,
      "outputs": []
    },
    {
      "cell_type": "code",
      "metadata": {
        "colab": {
          "base_uri": "https://localhost:8080/",
          "height": 81,
          "referenced_widgets": [
            "2c9079696e50431ba46b980f1418ed32",
            "3f0e99ec6b804810950c306a70621ba3",
            "2919ec8f4333496d88fb5f9ab472eb3e",
            "b170086704b6491488660d233b509257",
            "e4d5848bce5443b1a25941a9f57d1746",
            "694f272de5944de89a8b302105afc3a5",
            "868c755f3a234eafaa71876b4ca23f20",
            "7661d122b0414b04a5fe6f17f17633e5",
            "b9d326aa6768422a8ede20490ab9fb47",
            "85f91f8c6e3f4deaa1434c6abd376667",
            "4832eec048ab45f8be6d160b7e072087",
            "1f54b82179ca416b8bf78d61dcd028f1",
            "238a3496307b4f5a97e56f87513f192d",
            "6021642eb92b435e82961fde8cfc183c",
            "f689f0fb22434e179fe944fec35ff56a",
            "ba471f7e23d84359aee72ae69317c2b2",
            "047d19be73f2416b9bff154353bc7c74",
            "f3f26238a0fb4d04a1fe2b5417be68e3",
            "54cbc2114645426d8cbfb189c56a839d",
            "018a3607991743a29b30230f2f506e2f",
            "410f57bf841343188ad893c89a2f77cd",
            "cdcc4087a06a4a299dc2d302d540487e"
          ]
        },
        "id": "_m6uUjjcfbjH",
        "outputId": "7b48c87f-4bc8-45de-912e-d077f9167e2b"
      },
      "source": [
        "vocab_train = common_voice_train.map(extract_all_chars, batched=True, batch_size=-1, keep_in_memory=True, remove_columns=common_voice_train.column_names)\n",
        "vocab_test = common_voice_test.map(extract_all_chars, batched=True, batch_size=-1, keep_in_memory=True, remove_columns=common_voice_test.column_names)"
      ],
      "execution_count": 13,
      "outputs": [
        {
          "output_type": "display_data",
          "data": {
            "text/plain": [
              "  0%|          | 0/1 [00:00<?, ?ba/s]"
            ],
            "application/vnd.jupyter.widget-view+json": {
              "version_major": 2,
              "version_minor": 0,
              "model_id": "2c9079696e50431ba46b980f1418ed32"
            }
          },
          "metadata": {}
        },
        {
          "output_type": "display_data",
          "data": {
            "text/plain": [
              "  0%|          | 0/1 [00:00<?, ?ba/s]"
            ],
            "application/vnd.jupyter.widget-view+json": {
              "version_major": 2,
              "version_minor": 0,
              "model_id": "1f54b82179ca416b8bf78d61dcd028f1"
            }
          },
          "metadata": {}
        }
      ]
    },
    {
      "cell_type": "markdown",
      "metadata": {
        "id": "7oVgE8RZSJNP"
      },
      "source": [
        "Now, we create the union of all distinct letters in the training dataset and test dataset and convert the resulting list into an enumerated dictionary."
      ]
    },
    {
      "cell_type": "code",
      "metadata": {
        "id": "aQfneNsmlJI0"
      },
      "source": [
        "vocab_list = list(set(vocab_train[\"vocab\"][0]) | set(vocab_test[\"vocab\"][0]))"
      ],
      "execution_count": 14,
      "outputs": []
    },
    {
      "cell_type": "code",
      "metadata": {
        "colab": {
          "base_uri": "https://localhost:8080/"
        },
        "id": "_0kRndSvqaKk",
        "outputId": "11598952-2c55-4068-c6bf-167b8269a26f"
      },
      "source": [
        "vocab_dict = {v: k for k, v in enumerate(sorted(vocab_list))}\n",
        "vocab_dict"
      ],
      "execution_count": 15,
      "outputs": [
        {
          "output_type": "execute_result",
          "data": {
            "text/plain": [
              "{' ': 0,\n",
              " '$': 1,\n",
              " '&': 2,\n",
              " '-': 3,\n",
              " '=': 4,\n",
              " '_': 5,\n",
              " '`': 6,\n",
              " 'a': 7,\n",
              " 'b': 8,\n",
              " 'c': 9,\n",
              " 'd': 10,\n",
              " 'e': 11,\n",
              " 'f': 12,\n",
              " 'g': 13,\n",
              " 'h': 14,\n",
              " 'i': 15,\n",
              " 'j': 16,\n",
              " 'k': 17,\n",
              " 'l': 18,\n",
              " 'm': 19,\n",
              " 'n': 20,\n",
              " 'o': 21,\n",
              " 'p': 22,\n",
              " 'q': 23,\n",
              " 'r': 24,\n",
              " 's': 25,\n",
              " 't': 26,\n",
              " 'u': 27,\n",
              " 'v': 28,\n",
              " 'w': 29,\n",
              " 'x': 30,\n",
              " 'y': 31,\n",
              " 'z': 32,\n",
              " '{': 33,\n",
              " '|': 34,\n",
              " '}': 35,\n",
              " '~': 36,\n",
              " '¨': 37,\n",
              " 'ª': 38,\n",
              " '«': 39,\n",
              " '®': 40,\n",
              " '°': 41,\n",
              " '´': 42,\n",
              " '·': 43,\n",
              " '»': 44,\n",
              " 'ß': 45,\n",
              " 'à': 46,\n",
              " 'á': 47,\n",
              " 'â': 48,\n",
              " 'ã': 49,\n",
              " 'ä': 50,\n",
              " 'å': 51,\n",
              " 'æ': 52,\n",
              " 'é': 53,\n",
              " 'ê': 54,\n",
              " 'ë': 55,\n",
              " 'ì': 56,\n",
              " 'í': 57,\n",
              " 'î': 58,\n",
              " 'ï': 59,\n",
              " 'ð': 60,\n",
              " 'ñ': 61,\n",
              " 'ò': 62,\n",
              " 'ó': 63,\n",
              " 'ô': 64,\n",
              " 'õ': 65,\n",
              " 'ö': 66,\n",
              " 'ø': 67,\n",
              " 'ù': 68,\n",
              " 'ú': 69,\n",
              " 'û': 70,\n",
              " 'ü': 71,\n",
              " 'ý': 72,\n",
              " 'þ': 73,\n",
              " 'ā': 74,\n",
              " 'ă': 75,\n",
              " 'ć': 76,\n",
              " 'č': 77,\n",
              " 'đ': 78,\n",
              " 'ė': 79,\n",
              " 'ę': 80,\n",
              " 'ě': 81,\n",
              " 'ğ': 82,\n",
              " 'ī': 83,\n",
              " 'ı': 84,\n",
              " 'ł': 85,\n",
              " 'ń': 86,\n",
              " 'ō': 87,\n",
              " 'ő': 88,\n",
              " 'œ': 89,\n",
              " 'ř': 90,\n",
              " 'ś': 91,\n",
              " 'ş': 92,\n",
              " 'š': 93,\n",
              " 'ū': 94,\n",
              " 'ź': 95,\n",
              " 'ž': 96,\n",
              " 'ș': 97,\n",
              " 'ț': 98,\n",
              " 'ə': 99,\n",
              " 'ʷ': 100,\n",
              " 'ʻ': 101,\n",
              " 'ʽ': 102,\n",
              " 'ʿ': 103,\n",
              " 'ː': 104,\n",
              " '́': 105,\n",
              " '̇': 106,\n",
              " 'ϙ': 107,\n",
              " 'а': 108,\n",
              " 'б': 109,\n",
              " 'в': 110,\n",
              " 'г': 111,\n",
              " 'д': 112,\n",
              " 'е': 113,\n",
              " 'и': 114,\n",
              " 'й': 115,\n",
              " 'к': 116,\n",
              " 'л': 117,\n",
              " 'н': 118,\n",
              " 'о': 119,\n",
              " 'п': 120,\n",
              " 'р': 121,\n",
              " 'с': 122,\n",
              " 'т': 123,\n",
              " 'ч': 124,\n",
              " 'ш': 125,\n",
              " 'ы': 126,\n",
              " 'ь': 127,\n",
              " 'ю': 128,\n",
              " 'я': 129,\n",
              " 'ё': 130,\n",
              " 'ү': 131,\n",
              " 'ө': 132,\n",
              " 'ְ': 133,\n",
              " 'ִ': 134,\n",
              " 'ֵ': 135,\n",
              " 'ָ': 136,\n",
              " 'ֹ': 137,\n",
              " 'ּ': 138,\n",
              " 'ב': 139,\n",
              " 'ה': 140,\n",
              " 'ו': 141,\n",
              " 'י': 142,\n",
              " 'כ': 143,\n",
              " 'ל': 144,\n",
              " 'ם': 145,\n",
              " 'מ': 146,\n",
              " 'נ': 147,\n",
              " 'ס': 148,\n",
              " 'ק': 149,\n",
              " 'ר': 150,\n",
              " 'ש': 151,\n",
              " 'ת': 152,\n",
              " 'ب': 153,\n",
              " 'ة': 154,\n",
              " 'ذ': 155,\n",
              " 'ه': 156,\n",
              " 'ي': 157,\n",
              " 'ਆ': 158,\n",
              " 'ਘ': 159,\n",
              " 'ਤ': 160,\n",
              " 'ਨ': 161,\n",
              " 'ਮ': 162,\n",
              " 'ਸ': 163,\n",
              " 'ਾ': 164,\n",
              " 'ਿ': 165,\n",
              " 'ੰ': 166,\n",
              " 'ṁ': 167,\n",
              " 'ṃ': 168,\n",
              " 'ṇ': 169,\n",
              " 'ồ': 170,\n",
              " '‐': 171,\n",
              " '‑': 172,\n",
              " '–': 173,\n",
              " '—': 174,\n",
              " '―': 175,\n",
              " '’': 176,\n",
              " '„': 177,\n",
              " '…': 178,\n",
              " '‧': 179,\n",
              " '‹': 180,\n",
              " '›': 181,\n",
              " '→': 182,\n",
              " '≪': 183,\n",
              " '≫': 184,\n",
              " 'し': 185,\n",
              " 'の': 186,\n",
              " 'ひ': 187,\n",
              " 'ら': 188,\n",
              " 'ゴ': 189,\n",
              " 'ヒ': 190,\n",
              " 'ミ': 191,\n",
              " 'ム': 192,\n",
              " 'ラ': 193,\n",
              " '㓁': 194,\n",
              " '口': 195,\n",
              " '周': 196,\n",
              " '山': 197,\n",
              " '戌': 198,\n",
              " '日': 199,\n",
              " '本': 200,\n",
              " '比': 201,\n",
              " '毵': 202,\n",
              " '消': 203,\n",
              " '生': 204,\n",
              " '申': 205,\n",
              " '真': 206,\n",
              " '箱': 207,\n",
              " '网': 208,\n",
              " '罒': 209,\n",
              " '罓': 210,\n",
              " '肋': 211,\n",
              " '肌': 212,\n",
              " '背': 213,\n",
              " '良': 214,\n",
              " '鮓': 215,\n",
              " '鮨': 216,\n",
              " 'ﬁ': 217,\n",
              " '￼': 218}"
            ]
          },
          "metadata": {},
          "execution_count": 15
        }
      ]
    },
    {
      "cell_type": "markdown",
      "metadata": {
        "id": "JOSzbvs9SXT1"
      },
      "source": [
        "Cool, we see that all letters of the alphabet occur in the dataset (which is not really surprising) and we also extracted the special characters `\"\"` and `'`. Note that we did not exclude those special characters because: \n",
        "\n",
        "The model has to learn to predict when a word is finished or else the model prediction would always be a sequence of chars which would make it impossible to separate words from each other.\n",
        "\n",
        "One should always keep in mind that pre-processing is a very important step before training your model. E.g., we don't want our model to differentiate between `a` and `A` just because we forgot to normalize the data. The difference between `a` and `A` does not depend on the \"sound\" of the letter at all, but more on grammatical rules - *e.g.* use a capitalized letter at the beginning of the sentence. So it is sensible to remove the difference between capitalized and non-capitalized letters so that the model has an easier time learning to transcribe speech. "
      ]
    },
    {
      "cell_type": "markdown",
      "metadata": {
        "id": "b1fBRCn-TRaO"
      },
      "source": [
        "To make it clearer that `\" \"` has its own token class, we give it a more visible character `|`. In addition, we also add an \"unknown\" token so that the model can later deal with characters not encountered in Common Voice's training set. "
      ]
    },
    {
      "cell_type": "code",
      "metadata": {
        "id": "npbIbBoLgaFX"
      },
      "source": [
        "vocab_dict[\"|\"] = vocab_dict[\" \"]\n",
        "del vocab_dict[\" \"]"
      ],
      "execution_count": 16,
      "outputs": []
    },
    {
      "cell_type": "markdown",
      "metadata": {
        "id": "_9yCWg4Sd0cb"
      },
      "source": [
        "Finally, we also add a padding token that corresponds to CTC's \"*blank token*\". The \"blank token\" is a core component of the CTC algorithm. For more information, please take a look at the \"Alignment\" section [here](https://distill.pub/2017/ctc/)."
      ]
    },
    {
      "cell_type": "code",
      "metadata": {
        "colab": {
          "base_uri": "https://localhost:8080/"
        },
        "id": "znF0bNunsjbl",
        "outputId": "b3db5372-c7f7-4a16-f6ca-358bb4569975"
      },
      "source": [
        "vocab_dict[\"[UNK]\"] = len(vocab_dict)\n",
        "vocab_dict[\"[PAD]\"] = len(vocab_dict)\n",
        "len(vocab_dict)"
      ],
      "execution_count": 17,
      "outputs": [
        {
          "output_type": "execute_result",
          "data": {
            "text/plain": [
              "220"
            ]
          },
          "metadata": {},
          "execution_count": 17
        }
      ]
    },
    {
      "cell_type": "markdown",
      "metadata": {
        "id": "SFPGfet8U5sL"
      },
      "source": [
        "Cool, now our vocabulary is complete and consists of 39 tokens, which means that the linear layer that we will add on top of the pretrained XLS-R checkpoint will have an output dimension of 39."
      ]
    },
    {
      "cell_type": "markdown",
      "metadata": {
        "id": "1CujRgBNVRaD"
      },
      "source": [
        "Let's now save the vocabulary as a json file."
      ]
    },
    {
      "cell_type": "code",
      "metadata": {
        "id": "ehyUoh9vk191"
      },
      "source": [
        "import json\n",
        "with open('vocab.json', 'w') as vocab_file:\n",
        "    json.dump(vocab_dict, vocab_file)"
      ],
      "execution_count": 18,
      "outputs": []
    },
    {
      "cell_type": "markdown",
      "metadata": {
        "id": "SHJDaKlIVVim"
      },
      "source": [
        "In a final step, we use the json file to load the vocabulary into an instance of the `Wav2Vec2CTCTokenizer` class."
      ]
    },
    {
      "cell_type": "code",
      "metadata": {
        "colab": {
          "base_uri": "https://localhost:8080/"
        },
        "id": "xriFGEWQkO4M",
        "outputId": "d56c96d4-91e7-4ca4-c092-933c1ded1f4c"
      },
      "source": [
        "from transformers import Wav2Vec2CTCTokenizer\n",
        "\n",
        "tokenizer = Wav2Vec2CTCTokenizer.from_pretrained(\"./\", unk_token=\"[UNK]\", pad_token=\"[PAD]\", word_delimiter_token=\"|\")"
      ],
      "execution_count": 19,
      "outputs": [
        {
          "output_type": "stream",
          "name": "stderr",
          "text": [
            "Special tokens have been added in the vocabulary, make sure the associated word embeddings are fine-tuned or trained.\n"
          ]
        }
      ]
    },
    {
      "cell_type": "markdown",
      "metadata": {
        "id": "KvL12DrNV4cx"
      },
      "source": [
        "If one wants to re-use the just created tokenizer with the fine-tuned model of this notebook, it is strongly advised to upload the `tokenizer` to the [🤗 Hub](https://huggingface.co/). Let's call the repo to which we will upload the files\n",
        "`\"wav2vec2-large-xlsr-turkish-demo-colab\"`:"
      ]
    },
    {
      "cell_type": "code",
      "metadata": {
        "id": "A1XApZBAF2zr"
      },
      "source": [
        "repo_name = \"wav2vec2_xlsr\""
      ],
      "execution_count": 20,
      "outputs": []
    },
    {
      "cell_type": "markdown",
      "metadata": {
        "id": "B1BiezWZF16d"
      },
      "source": [
        "and upload the tokenizer to the [🤗 Hub](https://huggingface.co/)."
      ]
    },
    {
      "cell_type": "code",
      "metadata": {
        "colab": {
          "base_uri": "https://localhost:8080/"
        },
        "id": "zytE1175GAKM",
        "outputId": "e4f4ce50-28b9-4cf7-e7a2-5b7f687bc91c"
      },
      "source": [
        "tokenizer.push_to_hub(repo_name)"
      ],
      "execution_count": 21,
      "outputs": [
        {
          "output_type": "execute_result",
          "data": {
            "text/plain": [
              "CommitInfo(commit_url='https://huggingface.co/diallomama/wav2vec2_xlsr/commit/5891ad32719c4bc2d25cb5d9457d9aa8cb32117e', commit_message='Upload tokenizer', commit_description='', oid='5891ad32719c4bc2d25cb5d9457d9aa8cb32117e', pr_url=None, pr_revision=None, pr_num=None)"
            ]
          },
          "metadata": {},
          "execution_count": 21
        }
      ]
    },
    {
      "cell_type": "markdown",
      "metadata": {
        "id": "SwQM8lH_GGuP"
      },
      "source": [
        "Great, you can see the just created repository under `https://huggingface.co/<your-username>/wav2vec2-large-xls-r-300m-tr-colab`"
      ]
    },
    {
      "cell_type": "markdown",
      "metadata": {
        "id": "mYcIiR2FQ96i"
      },
      "source": [
        "### Create `Wav2Vec2FeatureExtractor`"
      ]
    },
    {
      "cell_type": "markdown",
      "metadata": {
        "id": "Y6mDEyW719rx"
      },
      "source": [
        "Speech is a continuous signal and to be treated by computers, it first has to be discretized, which is usually called **sampling**. The sampling rate hereby plays an important role in that it defines how many data points of the speech signal are measured per second. Therefore, sampling with a higher sampling rate results in a better approximation of the *real* speech signal but also necessitates more values per second.\n",
        "\n",
        "A pretrained checkpoint expects its input data to have been sampled more or less from the same distribution as the data it was trained on. The same speech signals sampled at two different rates have a very different distribution, *e.g.*, doubling the sampling rate results in data points being twice as long. Thus, \n",
        "before fine-tuning a pretrained checkpoint of an ASR model, it is crucial to verify that the sampling rate of the data that was used to pretrain the model matches the sampling rate of the dataset used to fine-tune the model.\n",
        "\n",
        "XLS-R was pretrained on audio data of [Babel](http://www.reading.ac.uk/AcaDepts/ll/speechlab/babel/r), \n",
        "[Multilingual LibriSpeech (MLS)](https://huggingface.co/datasets/multilingual_librispeech), [Common Voice](https://huggingface.co/datasets/common_voice), [VoxPopuli](https://arxiv.org/abs/2101.00390), and [VoxLingua107](https://arxiv.org/abs/2011.12998) at a sampling rate of 16kHz. Common Voice, in its original form, has a sampling rate of 48kHz, thus we will have to downsample the fine-tuning data to 16kHz in the following.\n",
        "\n"
      ]
    },
    {
      "cell_type": "markdown",
      "metadata": {
        "id": "KuUbPW7oV-B5"
      },
      "source": [
        "A `Wav2Vec2FeatureExtractor` object requires the following parameters to be instantiated:\n",
        "\n",
        "- `feature_size`: Speech models take a sequence of feature vectors as an input. While the length of this sequence obviously varies, the feature size should not. In the case of Wav2Vec2, the feature size is 1 because the model was trained on the raw speech signal ${}^2$.\n",
        "- `sampling_rate`: The sampling rate at which the model is trained on.\n",
        "- `padding_value`: For batched inference, shorter inputs need to be padded with a specific value\n",
        "- `do_normalize`: Whether the input should be *zero-mean-unit-variance* normalized or not. Usually, speech models perform better when normalizing the input\n",
        "- `return_attention_mask`: Whether the model should make use of an `attention_mask` for batched inference. In general, XLS-R models checkpoints should **always** use the `attention_mask`."
      ]
    },
    {
      "cell_type": "code",
      "metadata": {
        "id": "kAR0-2KLkopp"
      },
      "source": [
        "from transformers import Wav2Vec2FeatureExtractor\n",
        "\n",
        "feature_extractor = Wav2Vec2FeatureExtractor(feature_size=1, sampling_rate=16000, padding_value=0.0, do_normalize=True, return_attention_mask=True)"
      ],
      "execution_count": 22,
      "outputs": []
    },
    {
      "cell_type": "markdown",
      "metadata": {
        "id": "qUETetgqYC3W"
      },
      "source": [
        "Great, XLS-R's feature extraction pipeline is thereby fully defined!\n",
        "\n",
        "For improved user-friendliness, the feature extractor and tokenizer are *wrapped* into a single `Wav2Vec2Processor` class so that one only needs a `model` and `processor` object."
      ]
    },
    {
      "cell_type": "code",
      "metadata": {
        "id": "KYZtoW-tlZgl"
      },
      "source": [
        "from transformers import Wav2Vec2Processor\n",
        "\n",
        "processor = Wav2Vec2Processor(feature_extractor=feature_extractor, tokenizer=tokenizer)"
      ],
      "execution_count": 23,
      "outputs": []
    },
    {
      "cell_type": "markdown",
      "metadata": {
        "id": "DrKnYuvDIoOO"
      },
      "source": [
        "Next, we can prepare the dataset."
      ]
    },
    {
      "cell_type": "markdown",
      "metadata": {
        "id": "YFmShnl7RE35"
      },
      "source": [
        "### Preprocess Data\n",
        "\n",
        "So far, we have not looked at the actual values of the speech signal but just the transcription. In addition to `sentence`, our datasets include two more column names `path` and `audio`. `path` states the absolute path of the audio file. Let's take a look.\n"
      ]
    },
    {
      "cell_type": "code",
      "metadata": {
        "colab": {
          "base_uri": "https://localhost:8080/",
          "height": 35
        },
        "id": "TTCS7W6XJ9BG",
        "outputId": "810b1a5a-a7b4-46cd-be7b-314780805f35"
      },
      "source": [
        "common_voice_train[0][\"path\"]"
      ],
      "execution_count": 24,
      "outputs": [
        {
          "output_type": "execute_result",
          "data": {
            "text/plain": [
              "'common_voice_es_18306544.mp3'"
            ],
            "application/vnd.google.colaboratory.intrinsic+json": {
              "type": "string"
            }
          },
          "metadata": {},
          "execution_count": 24
        }
      ]
    },
    {
      "cell_type": "markdown",
      "metadata": {
        "id": "T6ndIjHGFp0W"
      },
      "source": [
        "XLS-R expects the input in the format of a 1-dimensional array of 16 kHz. This means that the audio file has to be loaded and resampled.\n",
        "\n",
        " Thankfully, `datasets` does this automatically by calling the other column `audio`. Let try it out. "
      ]
    },
    {
      "cell_type": "code",
      "metadata": {
        "colab": {
          "base_uri": "https://localhost:8080/"
        },
        "id": "qj_z5Zc3GAs9",
        "outputId": "fc48de44-e5f1-4f75-eeef-831990d6158d"
      },
      "source": [
        "common_voice_train[0][\"audio\"]"
      ],
      "execution_count": 25,
      "outputs": [
        {
          "output_type": "execute_result",
          "data": {
            "text/plain": [
              "{'path': 'cv-corpus-6.1-2020-12-11/es/clips/common_voice_es_18306544.mp3',\n",
              " 'array': array([ 0.0000000e+00,  0.0000000e+00,  0.0000000e+00, ...,\n",
              "        -6.2212137e-05, -3.7340928e-05, -1.0736112e-06], dtype=float32),\n",
              " 'sampling_rate': 48000}"
            ]
          },
          "metadata": {},
          "execution_count": 25
        }
      ]
    },
    {
      "cell_type": "markdown",
      "metadata": {
        "id": "WUUTgI1bGHW-"
      },
      "source": [
        "Great, we can see that the audio file has automatically been loaded. This is thanks to the new [`\"Audio\"` feature](https://huggingface.co/docs/datasets/package_reference/main_classes.html?highlight=audio#datasets.Audio) introduced in `datasets == 4.13.3`, which loads and resamples audio files on-the-fly upon calling.\n",
        "\n",
        "In the example above we can see that the audio data is loaded with a sampling rate of 48kHz whereas 16kHz are expected by the model. We can set the audio feature to the correct sampling rate by making use of [`cast_column`](https://huggingface.co/docs/datasets/package_reference/main_classes.html?highlight=cast_column#datasets.DatasetDict.cast_column):"
      ]
    },
    {
      "cell_type": "code",
      "metadata": {
        "id": "rrv65aj7G95i"
      },
      "source": [
        "common_voice_train = common_voice_train.cast_column(\"audio\", Audio(sampling_rate=16_000))\n",
        "common_voice_test = common_voice_test.cast_column(\"audio\", Audio(sampling_rate=16_000))"
      ],
      "execution_count": 26,
      "outputs": []
    },
    {
      "cell_type": "markdown",
      "metadata": {
        "id": "PcnO4x-NGBEi"
      },
      "source": [
        "Let's take a look at `\"audio\"` again."
      ]
    },
    {
      "cell_type": "code",
      "metadata": {
        "colab": {
          "base_uri": "https://localhost:8080/"
        },
        "id": "aKtkc1o_HWHC",
        "outputId": "9fcd46d9-b8d0-4e30-9936-677dcda1e5f2"
      },
      "source": [
        "common_voice_train[0][\"audio\"]"
      ],
      "execution_count": 27,
      "outputs": [
        {
          "output_type": "execute_result",
          "data": {
            "text/plain": [
              "{'path': 'cv-corpus-6.1-2020-12-11/es/clips/common_voice_es_18306544.mp3',\n",
              " 'array': array([ 0.0000000e+00,  0.0000000e+00,  0.0000000e+00, ...,\n",
              "        -8.5134916e-06, -4.9502905e-05, -4.9611117e-05], dtype=float32),\n",
              " 'sampling_rate': 16000}"
            ]
          },
          "metadata": {},
          "execution_count": 27
        }
      ]
    },
    {
      "cell_type": "markdown",
      "metadata": {
        "id": "SOckzFd4Mbzq"
      },
      "source": [
        "This seemed to have worked! Let's listen to a couple of audio files to better understand the dataset and verify that the audio was correctly loaded. \n",
        "\n",
        "**Note**: *You can click the following cell a couple of times to listen to different speech samples.*"
      ]
    },
    {
      "cell_type": "code",
      "metadata": {
        "colab": {
          "base_uri": "https://localhost:8080/",
          "height": 93
        },
        "id": "dueM6U7Ev0OA",
        "outputId": "a02305e8-6a87-4396-8300-dbbe4923e655"
      },
      "source": [
        "import IPython.display as ipd\n",
        "import numpy as np\n",
        "import random\n",
        "\n",
        "rand_int = random.randint(0, len(common_voice_train)-1)\n",
        "\n",
        "print(common_voice_train[rand_int][\"sentence\"])\n",
        "ipd.Audio(data=common_voice_train[rand_int][\"audio\"][\"array\"], autoplay=True, rate=16000)"
      ],
      "execution_count": 28,
      "outputs": [
        {
          "output_type": "stream",
          "name": "stdout",
          "text": [
            "la ciudad de pskov fue convertida en la capital\n"
          ]
        },
        {
          "output_type": "execute_result",
          "data": {
            "text/plain": [
              "<IPython.lib.display.Audio object>"
            ],
            "text/html": [
              "\n",
              "                <audio  controls=\"controls\" autoplay=\"autoplay\">\n",
              "                    <source src=\"data:audio/wav;base64,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\" type=\"audio/wav\" />\n",
              "                    Your browser does not support the audio element.\n",
              "                </audio>\n",
              "              "
            ]
          },
          "metadata": {},
          "execution_count": 28
        }
      ]
    },
    {
      "cell_type": "markdown",
      "metadata": {
        "id": "gY8m3vARHYTa"
      },
      "source": [
        "It seems like the data is now correctly loaded and resampled. "
      ]
    },
    {
      "cell_type": "markdown",
      "metadata": {
        "id": "1MaL9J2dNVtG"
      },
      "source": [
        "It can be heard, that the speakers change along with their speaking rate, accent, and background environment, etc. Overall, the recordings sound acceptably clear though, which is to be expected from a crowd-sourced read speech corpus.\n",
        "\n",
        "Let's do a final check that the data is correctly prepared, by printing the shape of the speech input, its transcription, and the corresponding sampling rate.\n",
        "\n",
        "**Note**: *You can click the following cell a couple of times to verify multiple samples.*"
      ]
    },
    {
      "cell_type": "code",
      "metadata": {
        "colab": {
          "base_uri": "https://localhost:8080/"
        },
        "id": "1Po2g7YPuRTx",
        "outputId": "f5e3ebe8-c1e0-49bb-fd2f-1fdcea8fc5aa"
      },
      "source": [
        "rand_int = random.randint(0, len(common_voice_train)-1)\n",
        "\n",
        "print(\"Target text:\", common_voice_train[rand_int][\"sentence\"])\n",
        "print(\"Input array shape:\", common_voice_train[rand_int][\"audio\"][\"array\"].shape)\n",
        "print(\"Sampling rate:\", common_voice_train[rand_int][\"audio\"][\"sampling_rate\"])"
      ],
      "execution_count": 29,
      "outputs": [
        {
          "output_type": "stream",
          "name": "stdout",
          "text": [
            "Target text: el título de cortesía del hijo mayor y heredero del duque es conde grosvenor\n",
            "Input array shape: (108288,)\n",
            "Sampling rate: 16000\n"
          ]
        }
      ]
    },
    {
      "cell_type": "markdown",
      "metadata": {
        "id": "M9teZcSwOBJ4"
      },
      "source": [
        "Good! Everything looks fine - the data is a 1-dimensional array, the sampling rate always corresponds to 16kHz, and the target text is normalized."
      ]
    },
    {
      "cell_type": "markdown",
      "metadata": {
        "id": "k3Pbn5WvOYZF"
      },
      "source": [
        "Finally, we can leverage `Wav2Vec2Processor` to process the data to the format expected by `Wav2Vec2ForCTC` for training. To do so let's make use of Dataset's [`map(...)`](https://huggingface.co/docs/datasets/package_reference/main_classes.html?highlight=map#datasets.DatasetDict.map) function.\n",
        "\n",
        "First, we load and resample the audio data, simply by calling `batch[\"audio\"]`.\n",
        "Second, we extract the `input_values` from the loaded audio file. In our case, the `Wav2Vec2Processor` only normalizes the data. For other speech models, however, this step can include more complex feature extraction, such as [Log-Mel feature extraction](https://en.wikipedia.org/wiki/Mel-frequency_cepstrum). \n",
        "Third, we encode the transcriptions to label ids.\n",
        "\n",
        "**Note**: This mapping function is a good example of how the `Wav2Vec2Processor` class should be used. In \"normal\" context, calling `processor(...)` is redirected to `Wav2Vec2FeatureExtractor`'s call method. When wrapping the processor into the `as_target_processor` context, however, the same method is redirected to `Wav2Vec2CTCTokenizer`'s call method.\n",
        "For more information please check the [docs](https://huggingface.co/transformers/master/model_doc/wav2vec2.html#transformers.Wav2Vec2Processor.__call__)."
      ]
    },
    {
      "cell_type": "code",
      "metadata": {
        "id": "eJY7I0XAwe9p"
      },
      "source": [
        "def prepare_dataset(batch):\n",
        "    audio = batch[\"audio\"]\n",
        "\n",
        "    # batched output is \"un-batched\"\n",
        "    batch[\"input_values\"] = processor(audio[\"array\"], sampling_rate=audio[\"sampling_rate\"]).input_values[0]\n",
        "    batch[\"input_length\"] = len(batch[\"input_values\"])\n",
        "    \n",
        "    with processor.as_target_processor():\n",
        "        batch[\"labels\"] = processor(batch[\"sentence\"]).input_ids\n",
        "    return batch"
      ],
      "execution_count": 30,
      "outputs": []
    },
    {
      "cell_type": "markdown",
      "metadata": {
        "id": "q6Pg_WR3OGAP"
      },
      "source": [
        "Let's apply the data preparation function to all examples."
      ]
    },
    {
      "cell_type": "code",
      "metadata": {
        "colab": {
          "base_uri": "https://localhost:8080/",
          "height": 136,
          "referenced_widgets": [
            "63a74ec55f594705837e860027a5fb1f",
            "f0b5991133f54675890053a4047f6f74",
            "52aa233650064a6e9842e50b60ec1f64",
            "b0b9565ce7c845b6b8c4bf4f5f1c6852",
            "5462a31759e64a678d5720cb31d9b167",
            "8ce7b753bf28468792eed74f57180a1a",
            "309ecf6c595341e6a8ac2fe93a1204d9",
            "e6dea6feebe94eb4848d6f4345372ff5",
            "d222fc142b774f85b2961a47a1b33387",
            "6e499ecfc05b4fba8801dd4f2370bb19",
            "e8a3b9dc2d4a47a980fc8ea27cfce14e",
            "6a67263f93ef4639a296f01e4a2b5bb2",
            "3549323fd6db4542a4f67dd03535b14a",
            "39d1b3596e45413d859a36d7bef5aa6a",
            "8f8f550dc304400d85460a88c1162ac5",
            "b248e0a8388b4217bbf9eb5653041cd2",
            "02de628c58394f3ba7d99a5d55a7a42f",
            "ab85f24584174a198d0259a56ee76e04",
            "c430243792164301b8cd07971df51f9f",
            "fb65ad6b8cdb4a079bc218f969a10269",
            "ce5198c09a624dd2aa08ac0fe151b1ed",
            "5de7fb327e1d482d9a701fd1cc0171d6"
          ]
        },
        "id": "-np9xYK-wl8q",
        "outputId": "725e40e8-55e2-4132-8f92-7545cf230c7e"
      },
      "source": [
        "common_voice_train = common_voice_train.map(prepare_dataset, remove_columns=common_voice_train.column_names)\n",
        "common_voice_test = common_voice_test.map(prepare_dataset, remove_columns=common_voice_test.column_names)"
      ],
      "execution_count": 31,
      "outputs": [
        {
          "output_type": "display_data",
          "data": {
            "text/plain": [
              "0ex [00:00, ?ex/s]"
            ],
            "application/vnd.jupyter.widget-view+json": {
              "version_major": 2,
              "version_minor": 0,
              "model_id": "63a74ec55f594705837e860027a5fb1f"
            }
          },
          "metadata": {}
        },
        {
          "output_type": "stream",
          "name": "stderr",
          "text": [
            "/usr/local/lib/python3.10/dist-packages/transformers/models/wav2vec2/processing_wav2vec2.py:155: UserWarning: `as_target_processor` is deprecated and will be removed in v5 of Transformers. You can process your labels by using the argument `text` of the regular `__call__` method (either in the same call as your audio inputs, or in a separate call.\n",
            "  warnings.warn(\n"
          ]
        },
        {
          "output_type": "display_data",
          "data": {
            "text/plain": [
              "0ex [00:00, ?ex/s]"
            ],
            "application/vnd.jupyter.widget-view+json": {
              "version_major": 2,
              "version_minor": 0,
              "model_id": "6a67263f93ef4639a296f01e4a2b5bb2"
            }
          },
          "metadata": {}
        }
      ]
    },
    {
      "cell_type": "markdown",
      "metadata": {
        "id": "nKcEWHvKI1by"
      },
      "source": [
        "**Note**: Currently `datasets` make use of [`torchaudio`](https://pytorch.org/audio/stable/index.html) and [`librosa`](https://librosa.org/doc/latest/index.html) for audio loading and resampling. If you wish to implement your own costumized data loading/sampling, feel free to just make use of the `\"path\"` column instead and disregard the `\"audio\"` column."
      ]
    },
    {
      "cell_type": "markdown",
      "metadata": {
        "id": "24CxHd5ewI4T"
      },
      "source": [
        "Long input sequences require a lot of memory. XLS-R is based on `self-attention` the memory requirement scales quadratically with the input length for long input sequences (*cf.* with [this](https://www.reddit.com/r/MachineLearning/comments/genjvb/d_why_is_the_maximum_input_sequence_length_of/) reddit post). In case this demo crashes with an \"Out-of-memory\" error for you, you might want to uncomment the following lines to filter all sequences that are longer than 5 seconds for training."
      ]
    },
    {
      "cell_type": "code",
      "metadata": {
        "id": "tdHfbUJ_09iA"
      },
      "source": [
        "#max_input_length_in_sec = 5.0\n",
        "#common_voice_train = common_voice_train.filter(lambda x: x < max_input_length_in_sec * processor.feature_extractor.sampling_rate, input_columns=[\"input_length\"])"
      ],
      "execution_count": null,
      "outputs": []
    },
    {
      "cell_type": "markdown",
      "metadata": {
        "id": "1ZWDCCKqwcfS"
      },
      "source": [
        "Awesome, now we are ready to start training!"
      ]
    },
    {
      "cell_type": "markdown",
      "metadata": {
        "id": "gYlQkKVoRUos"
      },
      "source": [
        "## Training\n",
        "\n",
        "The data is processed so that we are ready to start setting up the training pipeline. We will make use of 🤗's [Trainer](https://huggingface.co/transformers/master/main_classes/trainer.html?highlight=trainer) for which we essentially need to do the following:\n",
        "\n",
        "- Define a data collator. In contrast to most NLP models, XLS-R has a much larger input length than output length. *E.g.*, a sample of input length 50000 has an output length of no more than 100. Given the large input sizes, it is much more efficient to pad the training batches dynamically meaning that all training samples should only be padded to the longest sample in their batch and not the overall longest sample. Therefore, fine-tuning XLS-R requires a special padding data collator, which we will define below\n",
        "\n",
        "- Evaluation metric. During training, the model should be evaluated on the word error rate. We should define a `compute_metrics` function accordingly\n",
        "\n",
        "- Load a pretrained checkpoint. We need to load a pretrained checkpoint and configure it correctly for training.\n",
        "\n",
        "- Define the training configuration.\n",
        "\n",
        "After having fine-tuned the model, we will correctly evaluate it on the test data and verify that it has indeed learned to correctly transcribe speech."
      ]
    },
    {
      "cell_type": "markdown",
      "metadata": {
        "id": "Slk403unUS91"
      },
      "source": [
        "### Set-up Trainer\n",
        "\n",
        "Let's start by defining the data collator. The code for the data collator was copied from [this example](https://github.com/huggingface/transformers/blob/7e61d56a45c19284cfda0cee8995fb552f6b1f4e/examples/pytorch/speech-recognition/run_speech_recognition_ctc.py#L219).\n",
        "\n",
        "Without going into too many details, in contrast to the common data collators, this data collator treats the `input_values` and `labels` differently and thus applies to separate padding functions on them (again making use of XLS-R processor's context manager). This is necessary because in speech input and output are of different modalities meaning that they should not be treated by the same padding function.\n",
        "Analogous to the common data collators, the padding tokens in the labels with `-100` so that those tokens are **not** taken into account when computing the loss."
      ]
    },
    {
      "cell_type": "code",
      "metadata": {
        "id": "tborvC9hx88e"
      },
      "source": [
        "import torch\n",
        "\n",
        "from dataclasses import dataclass, field\n",
        "from typing import Any, Dict, List, Optional, Union\n",
        "\n",
        "@dataclass\n",
        "class DataCollatorCTCWithPadding:\n",
        "    \"\"\"\n",
        "    Data collator that will dynamically pad the inputs received.\n",
        "    Args:\n",
        "        processor (:class:`~transformers.Wav2Vec2Processor`)\n",
        "            The processor used for proccessing the data.\n",
        "        padding (:obj:`bool`, :obj:`str` or :class:`~transformers.tokenization_utils_base.PaddingStrategy`, `optional`, defaults to :obj:`True`):\n",
        "            Select a strategy to pad the returned sequences (according to the model's padding side and padding index)\n",
        "            among:\n",
        "            * :obj:`True` or :obj:`'longest'`: Pad to the longest sequence in the batch (or no padding if only a single\n",
        "              sequence if provided).\n",
        "            * :obj:`'max_length'`: Pad to a maximum length specified with the argument :obj:`max_length` or to the\n",
        "              maximum acceptable input length for the model if that argument is not provided.\n",
        "            * :obj:`False` or :obj:`'do_not_pad'` (default): No padding (i.e., can output a batch with sequences of\n",
        "              different lengths).\n",
        "    \"\"\"\n",
        "\n",
        "    processor: Wav2Vec2Processor\n",
        "    padding: Union[bool, str] = True\n",
        "\n",
        "    def __call__(self, features: List[Dict[str, Union[List[int], torch.Tensor]]]) -> Dict[str, torch.Tensor]:\n",
        "        # split inputs and labels since they have to be of different lenghts and need\n",
        "        # different padding methods\n",
        "        input_features = [{\"input_values\": feature[\"input_values\"]} for feature in features]\n",
        "        label_features = [{\"input_ids\": feature[\"labels\"]} for feature in features]\n",
        "\n",
        "        batch = self.processor.pad(\n",
        "            input_features,\n",
        "            padding=self.padding,\n",
        "            return_tensors=\"pt\",\n",
        "        )\n",
        "        with self.processor.as_target_processor():\n",
        "            labels_batch = self.processor.pad(\n",
        "                label_features,\n",
        "                padding=self.padding,\n",
        "                return_tensors=\"pt\",\n",
        "            )\n",
        "\n",
        "        # replace padding with -100 to ignore loss correctly\n",
        "        labels = labels_batch[\"input_ids\"].masked_fill(labels_batch.attention_mask.ne(1), -100)\n",
        "\n",
        "        batch[\"labels\"] = labels\n",
        "\n",
        "        return batch"
      ],
      "execution_count": 32,
      "outputs": []
    },
    {
      "cell_type": "code",
      "metadata": {
        "id": "lbQf5GuZyQ4_"
      },
      "source": [
        "data_collator = DataCollatorCTCWithPadding(processor=processor, padding=True)"
      ],
      "execution_count": 33,
      "outputs": []
    },
    {
      "cell_type": "markdown",
      "metadata": {
        "id": "xO-Zdj-5cxXp"
      },
      "source": [
        "Next, the evaluation metric is defined. As mentioned earlier, the \n",
        "predominant metric in ASR is the word error rate (WER), hence we will use it in this notebook as well."
      ]
    },
    {
      "cell_type": "code",
      "metadata": {
        "colab": {
          "base_uri": "https://localhost:8080/",
          "height": 49,
          "referenced_widgets": [
            "40eb10f028c94d5aaf71edab24ee4152",
            "ce705f811bcf4711ac0c2fc6d6145e1f",
            "a14ab9ae95b545d49578980ff80760f2",
            "f08dba0c94984613a235b946c1de0a87",
            "fedf14879e834146b69de25fb045a814",
            "7c17cbdf7a1d4eca9e615a3ff38f08bd",
            "2b911e09ec9c4b4ab1e369164e6c38c9",
            "91c2da5c10314461a4c7249405c8c4f9",
            "320c4f254c904d0fbd04e4bd3cc4c54c",
            "c072cc846ffc4b09842ca81e4bfa12a7",
            "a82a8bd9e629451e9c6aec961812a46c"
          ]
        },
        "id": "9Xsux2gmyXso",
        "outputId": "2c84b4b5-c9a7-40a4-c59e-8d10c4a7303f"
      },
      "source": [
        "wer_metric = load_metric(\"wer\")"
      ],
      "execution_count": 34,
      "outputs": [
        {
          "output_type": "display_data",
          "data": {
            "text/plain": [
              "Downloading:   0%|          | 0.00/1.90k [00:00<?, ?B/s]"
            ],
            "application/vnd.jupyter.widget-view+json": {
              "version_major": 2,
              "version_minor": 0,
              "model_id": "40eb10f028c94d5aaf71edab24ee4152"
            }
          },
          "metadata": {}
        }
      ]
    },
    {
      "cell_type": "markdown",
      "metadata": {
        "id": "E1qZU5p-deqB"
      },
      "source": [
        "The model will return a sequence of logit vectors:\n",
        "$\\mathbf{y}_1, \\ldots, \\mathbf{y}_m$ with $\\mathbf{y}_1 = f_{\\theta}(x_1, \\ldots, x_n)[0]$ and $n >> m$.\n",
        "\n",
        "A logit vector $\\mathbf{y}_1$ contains the log-odds for each word in the vocabulary we defined earlier, thus $\\text{len}(\\mathbf{y}_i) =$ `config.vocab_size`. We are interested in the most likely prediction of the model and thus take the `argmax(...)` of the logits. Also, we transform the encoded labels back to the original string by replacing `-100` with the `pad_token_id` and decoding the ids while making sure that consecutive tokens are **not** grouped to the same token in CTC style ${}^1$."
      ]
    },
    {
      "cell_type": "code",
      "metadata": {
        "id": "1XZ-kjweyTy_"
      },
      "source": [
        "def compute_metrics(pred):\n",
        "    pred_logits = pred.predictions\n",
        "    pred_ids = np.argmax(pred_logits, axis=-1)\n",
        "\n",
        "    pred.label_ids[pred.label_ids == -100] = processor.tokenizer.pad_token_id\n",
        "\n",
        "    pred_str = processor.batch_decode(pred_ids)\n",
        "    # we do not want to group tokens when computing the metrics\n",
        "    label_str = processor.batch_decode(pred.label_ids, group_tokens=False)\n",
        "\n",
        "    wer = wer_metric.compute(predictions=pred_str, references=label_str)\n",
        "\n",
        "    return {\"wer\": wer}"
      ],
      "execution_count": 35,
      "outputs": []
    },
    {
      "cell_type": "markdown",
      "metadata": {
        "id": "Xmgrx4bRwLIH"
      },
      "source": [
        "Now, we can load the pretrained checkpoint of [Wav2Vec2-XLS-R-300M](https://huggingface.co/facebook/wav2vec2-xls-r-300m). The tokenizer's `pad_token_id` must be to define the model's `pad_token_id` or in the case of `Wav2Vec2ForCTC` also CTC's *blank token* ${}^2$. To save GPU memory, we enable PyTorch's [gradient checkpointing](https://pytorch.org/docs/stable/checkpoint.html) and also set the loss reduction to \"*mean*\".\n",
        "\n",
        "Because the dataset is quite small (~6h of training data) and because Common Voice is quite noisy, fine-tuning Facebook's [wav2vec2-xls-r-300m checkpoint](https://huggingface.co/facebook/wav2vec2-xls-r-300m) seems to require some hyper-parameter tuning. Therefore, I had to play around a bit with different values for dropout, [SpecAugment](https://arxiv.org/abs/1904.08779)'s masking dropout rate, layer dropout, and the learning rate until training seemed to be stable enough. \n",
        "\n",
        "**Note**: When using this notebook to train XLS-R on another language of Common Voice those hyper-parameter settings might not work very well. Feel free to adapt those depending on your use case. "
      ]
    },
    {
      "cell_type": "code",
      "metadata": {
        "colab": {
          "base_uri": "https://localhost:8080/",
          "height": 188,
          "referenced_widgets": [
            "4c0ccfa96cf84928b82dd521848f2370",
            "68fe166fee134ebaaced7cf23924663e",
            "c9dac835be6c45179a9be9190247dc6e",
            "a1ef98e6418844b191294586e71ad6a8",
            "448edf5ea20445a79e6da4a9a211c0d4",
            "be2eae39a9c74f6f91bd027504100aef",
            "886925c7b6a34cf8a4a92d293f18e788",
            "a208b62add9842f29d85be863402b115",
            "ee0d174b161c4cf1b63dadc892723235",
            "9e8c89b492b04442a85f9e327a32b14f",
            "82bddb9f764e49bb8ec018777f168aa0",
            "b0b369096424438caa52c6879b773ea8",
            "bc6b5d8569e24a1f98307d63519be850",
            "98d03b8f00144be18177f4b913a60cc6",
            "bfbd01eb857b4ab08dc9ff1d31bf1b54",
            "e724a433d7d64ee793370799946bb6ad",
            "3f0a3ab6c0aa44129dc9db16c811f5b0",
            "a5622019cb254478954e960b08dd8efc",
            "42c7990f0d2f4ada81c68c3e39ba85da",
            "37e4b7ce67314d5fb9303a9b475d9da9",
            "81e84410df8b4a0bbc8915aacd9bdc64",
            "0c92e1d7b314435ba7f560bcac1b8892"
          ]
        },
        "id": "e7cqAWIayn6w",
        "outputId": "869fcf2e-1cea-4376-d7bd-bf92841fab61"
      },
      "source": [
        "from transformers import Wav2Vec2ForCTC\n",
        "\n",
        "model = Wav2Vec2ForCTC.from_pretrained(\n",
        "    \"facebook/wav2vec2-xls-r-300m\", \n",
        "    attention_dropout=0.0,\n",
        "    hidden_dropout=0.0,\n",
        "    feat_proj_dropout=0.0,\n",
        "    mask_time_prob=0.05,\n",
        "    layerdrop=0.0,\n",
        "    ctc_loss_reduction=\"mean\", \n",
        "    pad_token_id=processor.tokenizer.pad_token_id,\n",
        "    vocab_size=len(processor.tokenizer),\n",
        ")"
      ],
      "execution_count": 36,
      "outputs": [
        {
          "output_type": "display_data",
          "data": {
            "text/plain": [
              "Downloading (…)lve/main/config.json:   0%|          | 0.00/1.57k [00:00<?, ?B/s]"
            ],
            "application/vnd.jupyter.widget-view+json": {
              "version_major": 2,
              "version_minor": 0,
              "model_id": "4c0ccfa96cf84928b82dd521848f2370"
            }
          },
          "metadata": {}
        },
        {
          "output_type": "display_data",
          "data": {
            "text/plain": [
              "Downloading pytorch_model.bin:   0%|          | 0.00/1.27G [00:00<?, ?B/s]"
            ],
            "application/vnd.jupyter.widget-view+json": {
              "version_major": 2,
              "version_minor": 0,
              "model_id": "b0b369096424438caa52c6879b773ea8"
            }
          },
          "metadata": {}
        },
        {
          "output_type": "stream",
          "name": "stderr",
          "text": [
            "Some weights of the model checkpoint at facebook/wav2vec2-xls-r-300m were not used when initializing Wav2Vec2ForCTC: ['project_hid.bias', 'project_q.weight', 'quantizer.codevectors', 'project_q.bias', 'project_hid.weight', 'quantizer.weight_proj.weight', 'quantizer.weight_proj.bias']\n",
            "- This IS expected if you are initializing Wav2Vec2ForCTC from the checkpoint of a model trained on another task or with another architecture (e.g. initializing a BertForSequenceClassification model from a BertForPreTraining model).\n",
            "- This IS NOT expected if you are initializing Wav2Vec2ForCTC from the checkpoint of a model that you expect to be exactly identical (initializing a BertForSequenceClassification model from a BertForSequenceClassification model).\n",
            "Some weights of Wav2Vec2ForCTC were not initialized from the model checkpoint at facebook/wav2vec2-xls-r-300m and are newly initialized: ['lm_head.bias', 'lm_head.weight']\n",
            "You should probably TRAIN this model on a down-stream task to be able to use it for predictions and inference.\n"
          ]
        }
      ]
    },
    {
      "cell_type": "markdown",
      "metadata": {
        "id": "1DwR3XLSzGDD"
      },
      "source": [
        "The first component of XLS-R consists of a stack of CNN layers that are used to extract acoustically meaningful - but contextually independent - features from the raw speech signal. This part of the model has already been sufficiently trained during pretraining and as stated in the [paper](https://arxiv.org/pdf/2006.13979.pdf) does not need to be fine-tuned anymore. \n",
        "Thus, we can set the `requires_grad` to `False` for all parameters of the *feature extraction* part."
      ]
    },
    {
      "cell_type": "code",
      "metadata": {
        "id": "oGI8zObtZ3V0",
        "colab": {
          "base_uri": "https://localhost:8080/"
        },
        "outputId": "8625f9b2-19f7-44eb-ea07-a31e06da7dc6"
      },
      "source": [
        "model.freeze_feature_extractor()"
      ],
      "execution_count": 37,
      "outputs": [
        {
          "output_type": "stream",
          "name": "stderr",
          "text": [
            "/usr/local/lib/python3.10/dist-packages/transformers/models/wav2vec2/modeling_wav2vec2.py:1643: FutureWarning: The method `freeze_feature_extractor` is deprecated and will be removed in Transformers v5.Please use the equivalent `freeze_feature_encoder` method instead.\n",
            "  warnings.warn(\n"
          ]
        }
      ]
    },
    {
      "cell_type": "markdown",
      "metadata": {
        "id": "lD4aGhQM0K-D"
      },
      "source": [
        "In a final step, we define all parameters related to training. \n",
        "To give more explanation on some of the parameters:\n",
        "- `group_by_length` makes training more efficient by grouping training samples of similar input length into one batch. This can significantly speed up training time by heavily reducing the overall number of useless padding tokens that are passed through the model\n",
        "- `learning_rate` and `weight_decay` were heuristically tuned until fine-tuning has become stable. Note that those parameters strongly depend on the Common Voice dataset and might be suboptimal for other speech datasets.\n",
        "\n",
        "For more explanations on other parameters, one can take a look at the [docs](https://huggingface.co/transformers/master/main_classes/trainer.html?highlight=trainer#trainingarguments).\n",
        "\n",
        "During training, a checkpoint will be uploaded asynchronously to the hub every 400 training steps. It allows you to also play around with the demo widget even while your model is still training.\n",
        "\n",
        "**Note**: If one does not want to upload the model checkpoints to the hub, simply set `push_to_hub=False`."
      ]
    },
    {
      "cell_type": "code",
      "source": [
        "#! pip install --upgrade accelerate"
      ],
      "metadata": {
        "colab": {
          "base_uri": "https://localhost:8080/"
        },
        "id": "DbaUhWlDr-k_",
        "outputId": "d6c50602-e32c-480c-d7c7-4c5b64ae1aaf"
      },
      "execution_count": 46,
      "outputs": [
        {
          "output_type": "stream",
          "name": "stdout",
          "text": [
            "Looking in indexes: https://pypi.org/simple, https://us-python.pkg.dev/colab-wheels/public/simple/\n",
            "Requirement already satisfied: accelerate in /usr/local/lib/python3.10/dist-packages (0.19.0)\n",
            "Requirement already satisfied: numpy>=1.17 in /usr/local/lib/python3.10/dist-packages (from accelerate) (1.22.4)\n",
            "Requirement already satisfied: packaging>=20.0 in /usr/local/lib/python3.10/dist-packages (from accelerate) (23.1)\n",
            "Requirement already satisfied: psutil in /usr/local/lib/python3.10/dist-packages (from accelerate) (5.9.5)\n",
            "Requirement already satisfied: pyyaml in /usr/local/lib/python3.10/dist-packages (from accelerate) (6.0)\n",
            "Requirement already satisfied: torch>=1.6.0 in /usr/local/lib/python3.10/dist-packages (from accelerate) (2.0.1+cu118)\n",
            "Requirement already satisfied: filelock in /usr/local/lib/python3.10/dist-packages (from torch>=1.6.0->accelerate) (3.12.0)\n",
            "Requirement already satisfied: typing-extensions in /usr/local/lib/python3.10/dist-packages (from torch>=1.6.0->accelerate) (4.5.0)\n",
            "Requirement already satisfied: sympy in /usr/local/lib/python3.10/dist-packages (from torch>=1.6.0->accelerate) (1.11.1)\n",
            "Requirement already satisfied: networkx in /usr/local/lib/python3.10/dist-packages (from torch>=1.6.0->accelerate) (3.1)\n",
            "Requirement already satisfied: jinja2 in /usr/local/lib/python3.10/dist-packages (from torch>=1.6.0->accelerate) (3.1.2)\n",
            "Requirement already satisfied: triton==2.0.0 in /usr/local/lib/python3.10/dist-packages (from torch>=1.6.0->accelerate) (2.0.0)\n",
            "Requirement already satisfied: cmake in /usr/local/lib/python3.10/dist-packages (from triton==2.0.0->torch>=1.6.0->accelerate) (3.25.2)\n",
            "Requirement already satisfied: lit in /usr/local/lib/python3.10/dist-packages (from triton==2.0.0->torch>=1.6.0->accelerate) (16.0.5)\n",
            "Requirement already satisfied: MarkupSafe>=2.0 in /usr/local/lib/python3.10/dist-packages (from jinja2->torch>=1.6.0->accelerate) (2.1.2)\n",
            "Requirement already satisfied: mpmath>=0.19 in /usr/local/lib/python3.10/dist-packages (from sympy->torch>=1.6.0->accelerate) (1.3.0)\n"
          ]
        }
      ]
    },
    {
      "cell_type": "code",
      "metadata": {
        "id": "KbeKSV7uzGPP"
      },
      "source": [
        "from transformers import TrainingArguments\n",
        "\n",
        "training_args = TrainingArguments(\n",
        "  output_dir=repo_name,\n",
        "  group_by_length=True,\n",
        "  per_device_train_batch_size=16,\n",
        "  gradient_accumulation_steps=2,\n",
        "  evaluation_strategy=\"steps\",\n",
        "  num_train_epochs=30,\n",
        "  gradient_checkpointing=True,\n",
        "  fp16=True,\n",
        "  save_steps=400,\n",
        "  eval_steps=400,\n",
        "  logging_steps=400,\n",
        "  learning_rate=3e-4,\n",
        "  warmup_steps=500,\n",
        "  save_total_limit=2,\n",
        "  push_to_hub=True,\n",
        ")"
      ],
      "execution_count": 38,
      "outputs": []
    },
    {
      "cell_type": "markdown",
      "metadata": {
        "id": "OsW-WZcL1ZtN"
      },
      "source": [
        "Now, all instances can be passed to Trainer and we are ready to start training!"
      ]
    },
    {
      "cell_type": "code",
      "metadata": {
        "colab": {
          "base_uri": "https://localhost:8080/"
        },
        "id": "rY7vBmFCPFgC",
        "outputId": "7ae22d99-8fcc-426f-c398-0754c53fb9ab"
      },
      "source": [
        "from transformers import Trainer\n",
        "\n",
        "trainer = Trainer(\n",
        "    model=model,\n",
        "    data_collator=data_collator,\n",
        "    args=training_args,\n",
        "    compute_metrics=compute_metrics,\n",
        "    train_dataset=common_voice_train,\n",
        "    eval_dataset=common_voice_test,\n",
        "    tokenizer=processor.feature_extractor,\n",
        ")"
      ],
      "execution_count": 39,
      "outputs": [
        {
          "output_type": "stream",
          "name": "stderr",
          "text": [
            "Cloning https://huggingface.co/diallomama/wav2vec2_xlsr into local empty directory.\n",
            "WARNING:huggingface_hub.repository:Cloning https://huggingface.co/diallomama/wav2vec2_xlsr into local empty directory.\n"
          ]
        }
      ]
    },
    {
      "cell_type": "markdown",
      "metadata": {
        "id": "UoXBx1JAA0DX"
      },
      "source": [
        "\n",
        "\n",
        "---\n",
        "\n",
        "${}^1$ To allow models to become independent of the speaker rate, in CTC, consecutive tokens that are identical are simply grouped as a single token. However, the encoded labels should not be grouped when decoding since they don't correspond to the predicted tokens of the model, which is why the `group_tokens=False` parameter has to be passed. If we wouldn't pass this parameter a word like `\"hello\"` would incorrectly be encoded, and decoded as `\"helo\"`.\n",
        "\n",
        "${}^2$ The blank token allows the model to predict a word, such as `\"hello\"` by forcing it to insert the blank token between the two l's. A CTC-conform prediction of `\"hello\"` of our model would be `[PAD] [PAD] \"h\" \"e\" \"e\" \"l\" \"l\" [PAD] \"l\" \"o\" \"o\" [PAD]`."
      ]
    },
    {
      "cell_type": "markdown",
      "metadata": {
        "id": "rpvZHM1xReIW"
      },
      "source": [
        "### Training"
      ]
    },
    {
      "cell_type": "markdown",
      "metadata": {
        "id": "j-3oKSzZ1hGq"
      },
      "source": [
        "Training will take multiple hours depending on the GPU allocated to this notebook. While the trained model yields somewhat satisfying results on *Common Voice*'s test data of Turkish, it is by no means an optimally fine-tuned model. The purpose of this notebook is just to demonstrate how to fine-tune XLS-R on an ASR dataset.\n",
        "\n",
        "In case you want to use this google colab to fine-tune your model, you should make sure that your training doesn't stop due to inactivity. A simple hack to prevent this is to paste the following code into the console of this tab (*right mouse click -> inspect -> Console tab and insert code*)."
      ]
    },
    {
      "cell_type": "markdown",
      "metadata": {
        "id": "VYYAvgkW4P0m"
      },
      "source": [
        "```javascript\n",
        "function ConnectButton(){\n",
        "    console.log(\"Connect pushed\"); \n",
        "    document.querySelector(\"#top-toolbar > colab-connect-button\").shadowRoot.querySelector(\"#connect\").click() \n",
        "}\n",
        "setInterval(ConnectButton,60000);\n",
        "```"
      ]
    },
    {
      "cell_type": "markdown",
      "metadata": {
        "id": "7bGgLV2r0yvZ"
      },
      "source": [
        "Depending on what GPU was allocated to your google colab it might be possible that you are seeing an `\"out-of-memory\"` error here. In this case, it's probably best to reduce `per_device_train_batch_size` to 8 or even less and increase [`gradient_accumulation`](https://huggingface.co/transformers/master/main_classes/trainer.html#trainingarguments)."
      ]
    },
    {
      "cell_type": "code",
      "metadata": {
        "colab": {
          "base_uri": "https://localhost:8080/",
          "height": 549
        },
        "id": "9fRr9TG5pGBl",
        "outputId": "19681456-6ede-4f0d-835c-b0b5b968ae4a"
      },
      "source": [
        "trainer.train()"
      ],
      "execution_count": 40,
      "outputs": [
        {
          "output_type": "stream",
          "name": "stderr",
          "text": [
            "/usr/local/lib/python3.10/dist-packages/transformers/optimization.py:391: FutureWarning: This implementation of AdamW is deprecated and will be removed in a future version. Use the PyTorch implementation torch.optim.AdamW instead, or set `no_deprecation_warning=True` to disable this warning\n",
            "  warnings.warn(\n",
            "/usr/local/lib/python3.10/dist-packages/transformers/models/wav2vec2/processing_wav2vec2.py:155: UserWarning: `as_target_processor` is deprecated and will be removed in v5 of Transformers. You can process your labels by using the argument `text` of the regular `__call__` method (either in the same call as your audio inputs, or in a separate call.\n",
            "  warnings.warn(\n"
          ]
        },
        {
          "output_type": "display_data",
          "data": {
            "text/plain": [
              "<IPython.core.display.HTML object>"
            ],
            "text/html": [
              "\n",
              "    <div>\n",
              "      \n",
              "      <progress value='401' max='151710' style='width:300px; height:20px; vertical-align: middle;'></progress>\n",
              "      [   401/151710 23:17 < 147:14:00, 0.29 it/s, Epoch 0.08/30]\n",
              "    </div>\n",
              "    <table border=\"1\" class=\"dataframe\">\n",
              "  <thead>\n",
              " <tr style=\"text-align: left;\">\n",
              "      <th>Step</th>\n",
              "      <th>Training Loss</th>\n",
              "      <th>Validation Loss</th>\n",
              "    </tr>\n",
              "  </thead>\n",
              "  <tbody>\n",
              "  </tbody>\n",
              "</table><p>\n",
              "    <div>\n",
              "      \n",
              "      <progress value='1612' max='1887' style='width:300px; height:20px; vertical-align: middle;'></progress>\n",
              "      [1612/1887 19:39 < 03:21, 1.37 it/s]\n",
              "    </div>\n",
              "    "
            ]
          },
          "metadata": {}
        },
        {
          "output_type": "error",
          "ename": "OutOfMemoryError",
          "evalue": "ignored",
          "traceback": [
            "\u001b[0;31m---------------------------------------------------------------------------\u001b[0m",
            "\u001b[0;31mOutOfMemoryError\u001b[0m                          Traceback (most recent call last)",
            "\u001b[0;32m<ipython-input-40-3435b262f1ae>\u001b[0m in \u001b[0;36m<cell line: 1>\u001b[0;34m()\u001b[0m\n\u001b[0;32m----> 1\u001b[0;31m \u001b[0mtrainer\u001b[0m\u001b[0;34m.\u001b[0m\u001b[0mtrain\u001b[0m\u001b[0;34m(\u001b[0m\u001b[0;34m)\u001b[0m\u001b[0;34m\u001b[0m\u001b[0;34m\u001b[0m\u001b[0m\n\u001b[0m",
            "\u001b[0;32m/usr/local/lib/python3.10/dist-packages/transformers/trainer.py\u001b[0m in \u001b[0;36mtrain\u001b[0;34m(self, resume_from_checkpoint, trial, ignore_keys_for_eval, **kwargs)\u001b[0m\n\u001b[1;32m   1660\u001b[0m             \u001b[0mself\u001b[0m\u001b[0;34m.\u001b[0m\u001b[0m_inner_training_loop\u001b[0m\u001b[0;34m,\u001b[0m \u001b[0mself\u001b[0m\u001b[0;34m.\u001b[0m\u001b[0m_train_batch_size\u001b[0m\u001b[0;34m,\u001b[0m \u001b[0margs\u001b[0m\u001b[0;34m.\u001b[0m\u001b[0mauto_find_batch_size\u001b[0m\u001b[0;34m\u001b[0m\u001b[0;34m\u001b[0m\u001b[0m\n\u001b[1;32m   1661\u001b[0m         )\n\u001b[0;32m-> 1662\u001b[0;31m         return inner_training_loop(\n\u001b[0m\u001b[1;32m   1663\u001b[0m             \u001b[0margs\u001b[0m\u001b[0;34m=\u001b[0m\u001b[0margs\u001b[0m\u001b[0;34m,\u001b[0m\u001b[0;34m\u001b[0m\u001b[0;34m\u001b[0m\u001b[0m\n\u001b[1;32m   1664\u001b[0m             \u001b[0mresume_from_checkpoint\u001b[0m\u001b[0;34m=\u001b[0m\u001b[0mresume_from_checkpoint\u001b[0m\u001b[0;34m,\u001b[0m\u001b[0;34m\u001b[0m\u001b[0;34m\u001b[0m\u001b[0m\n",
            "\u001b[0;32m/usr/local/lib/python3.10/dist-packages/transformers/trainer.py\u001b[0m in \u001b[0;36m_inner_training_loop\u001b[0;34m(self, batch_size, args, resume_from_checkpoint, trial, ignore_keys_for_eval)\u001b[0m\n\u001b[1;32m   2004\u001b[0m                     \u001b[0mself\u001b[0m\u001b[0;34m.\u001b[0m\u001b[0mcontrol\u001b[0m \u001b[0;34m=\u001b[0m \u001b[0mself\u001b[0m\u001b[0;34m.\u001b[0m\u001b[0mcallback_handler\u001b[0m\u001b[0;34m.\u001b[0m\u001b[0mon_step_end\u001b[0m\u001b[0;34m(\u001b[0m\u001b[0margs\u001b[0m\u001b[0;34m,\u001b[0m \u001b[0mself\u001b[0m\u001b[0;34m.\u001b[0m\u001b[0mstate\u001b[0m\u001b[0;34m,\u001b[0m \u001b[0mself\u001b[0m\u001b[0;34m.\u001b[0m\u001b[0mcontrol\u001b[0m\u001b[0;34m)\u001b[0m\u001b[0;34m\u001b[0m\u001b[0;34m\u001b[0m\u001b[0m\n\u001b[1;32m   2005\u001b[0m \u001b[0;34m\u001b[0m\u001b[0m\n\u001b[0;32m-> 2006\u001b[0;31m                     \u001b[0mself\u001b[0m\u001b[0;34m.\u001b[0m\u001b[0m_maybe_log_save_evaluate\u001b[0m\u001b[0;34m(\u001b[0m\u001b[0mtr_loss\u001b[0m\u001b[0;34m,\u001b[0m \u001b[0mmodel\u001b[0m\u001b[0;34m,\u001b[0m \u001b[0mtrial\u001b[0m\u001b[0;34m,\u001b[0m \u001b[0mepoch\u001b[0m\u001b[0;34m,\u001b[0m \u001b[0mignore_keys_for_eval\u001b[0m\u001b[0;34m)\u001b[0m\u001b[0;34m\u001b[0m\u001b[0;34m\u001b[0m\u001b[0m\n\u001b[0m\u001b[1;32m   2007\u001b[0m                 \u001b[0;32melse\u001b[0m\u001b[0;34m:\u001b[0m\u001b[0;34m\u001b[0m\u001b[0;34m\u001b[0m\u001b[0m\n\u001b[1;32m   2008\u001b[0m                     \u001b[0mself\u001b[0m\u001b[0;34m.\u001b[0m\u001b[0mcontrol\u001b[0m \u001b[0;34m=\u001b[0m \u001b[0mself\u001b[0m\u001b[0;34m.\u001b[0m\u001b[0mcallback_handler\u001b[0m\u001b[0;34m.\u001b[0m\u001b[0mon_substep_end\u001b[0m\u001b[0;34m(\u001b[0m\u001b[0margs\u001b[0m\u001b[0;34m,\u001b[0m \u001b[0mself\u001b[0m\u001b[0;34m.\u001b[0m\u001b[0mstate\u001b[0m\u001b[0;34m,\u001b[0m \u001b[0mself\u001b[0m\u001b[0;34m.\u001b[0m\u001b[0mcontrol\u001b[0m\u001b[0;34m)\u001b[0m\u001b[0;34m\u001b[0m\u001b[0;34m\u001b[0m\u001b[0m\n",
            "\u001b[0;32m/usr/local/lib/python3.10/dist-packages/transformers/trainer.py\u001b[0m in \u001b[0;36m_maybe_log_save_evaluate\u001b[0;34m(self, tr_loss, model, trial, epoch, ignore_keys_for_eval)\u001b[0m\n\u001b[1;32m   2285\u001b[0m                     \u001b[0mmetrics\u001b[0m\u001b[0;34m.\u001b[0m\u001b[0mupdate\u001b[0m\u001b[0;34m(\u001b[0m\u001b[0mdataset_metrics\u001b[0m\u001b[0;34m)\u001b[0m\u001b[0;34m\u001b[0m\u001b[0;34m\u001b[0m\u001b[0m\n\u001b[1;32m   2286\u001b[0m             \u001b[0;32melse\u001b[0m\u001b[0;34m:\u001b[0m\u001b[0;34m\u001b[0m\u001b[0;34m\u001b[0m\u001b[0m\n\u001b[0;32m-> 2287\u001b[0;31m                 \u001b[0mmetrics\u001b[0m \u001b[0;34m=\u001b[0m \u001b[0mself\u001b[0m\u001b[0;34m.\u001b[0m\u001b[0mevaluate\u001b[0m\u001b[0;34m(\u001b[0m\u001b[0mignore_keys\u001b[0m\u001b[0;34m=\u001b[0m\u001b[0mignore_keys_for_eval\u001b[0m\u001b[0;34m)\u001b[0m\u001b[0;34m\u001b[0m\u001b[0;34m\u001b[0m\u001b[0m\n\u001b[0m\u001b[1;32m   2288\u001b[0m             \u001b[0mself\u001b[0m\u001b[0;34m.\u001b[0m\u001b[0m_report_to_hp_search\u001b[0m\u001b[0;34m(\u001b[0m\u001b[0mtrial\u001b[0m\u001b[0;34m,\u001b[0m \u001b[0mself\u001b[0m\u001b[0;34m.\u001b[0m\u001b[0mstate\u001b[0m\u001b[0;34m.\u001b[0m\u001b[0mglobal_step\u001b[0m\u001b[0;34m,\u001b[0m \u001b[0mmetrics\u001b[0m\u001b[0;34m)\u001b[0m\u001b[0;34m\u001b[0m\u001b[0;34m\u001b[0m\u001b[0m\n\u001b[1;32m   2289\u001b[0m \u001b[0;34m\u001b[0m\u001b[0m\n",
            "\u001b[0;32m/usr/local/lib/python3.10/dist-packages/transformers/trainer.py\u001b[0m in \u001b[0;36mevaluate\u001b[0;34m(self, eval_dataset, ignore_keys, metric_key_prefix)\u001b[0m\n\u001b[1;32m   2991\u001b[0m \u001b[0;34m\u001b[0m\u001b[0m\n\u001b[1;32m   2992\u001b[0m         \u001b[0meval_loop\u001b[0m \u001b[0;34m=\u001b[0m \u001b[0mself\u001b[0m\u001b[0;34m.\u001b[0m\u001b[0mprediction_loop\u001b[0m \u001b[0;32mif\u001b[0m \u001b[0mself\u001b[0m\u001b[0;34m.\u001b[0m\u001b[0margs\u001b[0m\u001b[0;34m.\u001b[0m\u001b[0muse_legacy_prediction_loop\u001b[0m \u001b[0;32melse\u001b[0m \u001b[0mself\u001b[0m\u001b[0;34m.\u001b[0m\u001b[0mevaluation_loop\u001b[0m\u001b[0;34m\u001b[0m\u001b[0;34m\u001b[0m\u001b[0m\n\u001b[0;32m-> 2993\u001b[0;31m         output = eval_loop(\n\u001b[0m\u001b[1;32m   2994\u001b[0m             \u001b[0meval_dataloader\u001b[0m\u001b[0;34m,\u001b[0m\u001b[0;34m\u001b[0m\u001b[0;34m\u001b[0m\u001b[0m\n\u001b[1;32m   2995\u001b[0m             \u001b[0mdescription\u001b[0m\u001b[0;34m=\u001b[0m\u001b[0;34m\"Evaluation\"\u001b[0m\u001b[0;34m,\u001b[0m\u001b[0;34m\u001b[0m\u001b[0;34m\u001b[0m\u001b[0m\n",
            "\u001b[0;32m/usr/local/lib/python3.10/dist-packages/transformers/trainer.py\u001b[0m in \u001b[0;36mevaluation_loop\u001b[0;34m(self, dataloader, description, prediction_loss_only, ignore_keys, metric_key_prefix)\u001b[0m\n\u001b[1;32m   3199\u001b[0m                 \u001b[0;32mif\u001b[0m \u001b[0mself\u001b[0m\u001b[0;34m.\u001b[0m\u001b[0mpreprocess_logits_for_metrics\u001b[0m \u001b[0;32mis\u001b[0m \u001b[0;32mnot\u001b[0m \u001b[0;32mNone\u001b[0m\u001b[0;34m:\u001b[0m\u001b[0;34m\u001b[0m\u001b[0;34m\u001b[0m\u001b[0m\n\u001b[1;32m   3200\u001b[0m                     \u001b[0mlogits\u001b[0m \u001b[0;34m=\u001b[0m \u001b[0mself\u001b[0m\u001b[0;34m.\u001b[0m\u001b[0mpreprocess_logits_for_metrics\u001b[0m\u001b[0;34m(\u001b[0m\u001b[0mlogits\u001b[0m\u001b[0;34m,\u001b[0m \u001b[0mlabels\u001b[0m\u001b[0;34m)\u001b[0m\u001b[0;34m\u001b[0m\u001b[0;34m\u001b[0m\u001b[0m\n\u001b[0;32m-> 3201\u001b[0;31m                 \u001b[0mpreds_host\u001b[0m \u001b[0;34m=\u001b[0m \u001b[0mlogits\u001b[0m \u001b[0;32mif\u001b[0m \u001b[0mpreds_host\u001b[0m \u001b[0;32mis\u001b[0m \u001b[0;32mNone\u001b[0m \u001b[0;32melse\u001b[0m \u001b[0mnested_concat\u001b[0m\u001b[0;34m(\u001b[0m\u001b[0mpreds_host\u001b[0m\u001b[0;34m,\u001b[0m \u001b[0mlogits\u001b[0m\u001b[0;34m,\u001b[0m \u001b[0mpadding_index\u001b[0m\u001b[0;34m=\u001b[0m\u001b[0;34m-\u001b[0m\u001b[0;36m100\u001b[0m\u001b[0;34m)\u001b[0m\u001b[0;34m\u001b[0m\u001b[0;34m\u001b[0m\u001b[0m\n\u001b[0m\u001b[1;32m   3202\u001b[0m             \u001b[0mself\u001b[0m\u001b[0;34m.\u001b[0m\u001b[0mcontrol\u001b[0m \u001b[0;34m=\u001b[0m \u001b[0mself\u001b[0m\u001b[0;34m.\u001b[0m\u001b[0mcallback_handler\u001b[0m\u001b[0;34m.\u001b[0m\u001b[0mon_prediction_step\u001b[0m\u001b[0;34m(\u001b[0m\u001b[0margs\u001b[0m\u001b[0;34m,\u001b[0m \u001b[0mself\u001b[0m\u001b[0;34m.\u001b[0m\u001b[0mstate\u001b[0m\u001b[0;34m,\u001b[0m \u001b[0mself\u001b[0m\u001b[0;34m.\u001b[0m\u001b[0mcontrol\u001b[0m\u001b[0;34m)\u001b[0m\u001b[0;34m\u001b[0m\u001b[0;34m\u001b[0m\u001b[0m\n\u001b[1;32m   3203\u001b[0m \u001b[0;34m\u001b[0m\u001b[0m\n",
            "\u001b[0;32m/usr/local/lib/python3.10/dist-packages/transformers/trainer_pt_utils.py\u001b[0m in \u001b[0;36mnested_concat\u001b[0;34m(tensors, new_tensors, padding_index)\u001b[0m\n\u001b[1;32m    114\u001b[0m         \u001b[0;32mreturn\u001b[0m \u001b[0mtype\u001b[0m\u001b[0;34m(\u001b[0m\u001b[0mtensors\u001b[0m\u001b[0;34m)\u001b[0m\u001b[0;34m(\u001b[0m\u001b[0mnested_concat\u001b[0m\u001b[0;34m(\u001b[0m\u001b[0mt\u001b[0m\u001b[0;34m,\u001b[0m \u001b[0mn\u001b[0m\u001b[0;34m,\u001b[0m \u001b[0mpadding_index\u001b[0m\u001b[0;34m=\u001b[0m\u001b[0mpadding_index\u001b[0m\u001b[0;34m)\u001b[0m \u001b[0;32mfor\u001b[0m \u001b[0mt\u001b[0m\u001b[0;34m,\u001b[0m \u001b[0mn\u001b[0m \u001b[0;32min\u001b[0m \u001b[0mzip\u001b[0m\u001b[0;34m(\u001b[0m\u001b[0mtensors\u001b[0m\u001b[0;34m,\u001b[0m \u001b[0mnew_tensors\u001b[0m\u001b[0;34m)\u001b[0m\u001b[0;34m)\u001b[0m\u001b[0;34m\u001b[0m\u001b[0;34m\u001b[0m\u001b[0m\n\u001b[1;32m    115\u001b[0m     \u001b[0;32melif\u001b[0m \u001b[0misinstance\u001b[0m\u001b[0;34m(\u001b[0m\u001b[0mtensors\u001b[0m\u001b[0;34m,\u001b[0m \u001b[0mtorch\u001b[0m\u001b[0;34m.\u001b[0m\u001b[0mTensor\u001b[0m\u001b[0;34m)\u001b[0m\u001b[0;34m:\u001b[0m\u001b[0;34m\u001b[0m\u001b[0;34m\u001b[0m\u001b[0m\n\u001b[0;32m--> 116\u001b[0;31m         \u001b[0;32mreturn\u001b[0m \u001b[0mtorch_pad_and_concatenate\u001b[0m\u001b[0;34m(\u001b[0m\u001b[0mtensors\u001b[0m\u001b[0;34m,\u001b[0m \u001b[0mnew_tensors\u001b[0m\u001b[0;34m,\u001b[0m \u001b[0mpadding_index\u001b[0m\u001b[0;34m=\u001b[0m\u001b[0mpadding_index\u001b[0m\u001b[0;34m)\u001b[0m\u001b[0;34m\u001b[0m\u001b[0;34m\u001b[0m\u001b[0m\n\u001b[0m\u001b[1;32m    117\u001b[0m     \u001b[0;32melif\u001b[0m \u001b[0misinstance\u001b[0m\u001b[0;34m(\u001b[0m\u001b[0mtensors\u001b[0m\u001b[0;34m,\u001b[0m \u001b[0mMapping\u001b[0m\u001b[0;34m)\u001b[0m\u001b[0;34m:\u001b[0m\u001b[0;34m\u001b[0m\u001b[0;34m\u001b[0m\u001b[0m\n\u001b[1;32m    118\u001b[0m         return type(tensors)(\n",
            "\u001b[0;32m/usr/local/lib/python3.10/dist-packages/transformers/trainer_pt_utils.py\u001b[0m in \u001b[0;36mtorch_pad_and_concatenate\u001b[0;34m(tensor1, tensor2, padding_index)\u001b[0m\n\u001b[1;32m     79\u001b[0m \u001b[0;34m\u001b[0m\u001b[0m\n\u001b[1;32m     80\u001b[0m     \u001b[0;31m# Now let's fill the result tensor\u001b[0m\u001b[0;34m\u001b[0m\u001b[0;34m\u001b[0m\u001b[0m\n\u001b[0;32m---> 81\u001b[0;31m     \u001b[0mresult\u001b[0m \u001b[0;34m=\u001b[0m \u001b[0mtensor1\u001b[0m\u001b[0;34m.\u001b[0m\u001b[0mnew_full\u001b[0m\u001b[0;34m(\u001b[0m\u001b[0mnew_shape\u001b[0m\u001b[0;34m,\u001b[0m \u001b[0mpadding_index\u001b[0m\u001b[0;34m)\u001b[0m\u001b[0;34m\u001b[0m\u001b[0;34m\u001b[0m\u001b[0m\n\u001b[0m\u001b[1;32m     82\u001b[0m     \u001b[0mresult\u001b[0m\u001b[0;34m[\u001b[0m\u001b[0;34m:\u001b[0m \u001b[0mtensor1\u001b[0m\u001b[0;34m.\u001b[0m\u001b[0mshape\u001b[0m\u001b[0;34m[\u001b[0m\u001b[0;36m0\u001b[0m\u001b[0;34m]\u001b[0m\u001b[0;34m,\u001b[0m \u001b[0;34m:\u001b[0m \u001b[0mtensor1\u001b[0m\u001b[0;34m.\u001b[0m\u001b[0mshape\u001b[0m\u001b[0;34m[\u001b[0m\u001b[0;36m1\u001b[0m\u001b[0;34m]\u001b[0m\u001b[0;34m]\u001b[0m \u001b[0;34m=\u001b[0m \u001b[0mtensor1\u001b[0m\u001b[0;34m\u001b[0m\u001b[0;34m\u001b[0m\u001b[0m\n\u001b[1;32m     83\u001b[0m     \u001b[0mresult\u001b[0m\u001b[0;34m[\u001b[0m\u001b[0mtensor1\u001b[0m\u001b[0;34m.\u001b[0m\u001b[0mshape\u001b[0m\u001b[0;34m[\u001b[0m\u001b[0;36m0\u001b[0m\u001b[0;34m]\u001b[0m \u001b[0;34m:\u001b[0m\u001b[0;34m,\u001b[0m \u001b[0;34m:\u001b[0m \u001b[0mtensor2\u001b[0m\u001b[0;34m.\u001b[0m\u001b[0mshape\u001b[0m\u001b[0;34m[\u001b[0m\u001b[0;36m1\u001b[0m\u001b[0;34m]\u001b[0m\u001b[0;34m]\u001b[0m \u001b[0;34m=\u001b[0m \u001b[0mtensor2\u001b[0m\u001b[0;34m\u001b[0m\u001b[0;34m\u001b[0m\u001b[0m\n",
            "\u001b[0;31mOutOfMemoryError\u001b[0m: CUDA out of memory. Tried to allocate 3.78 GiB (GPU 0; 14.75 GiB total capacity; 7.34 GiB already allocated; 3.78 GiB free; 9.91 GiB reserved in total by PyTorch) If reserved memory is >> allocated memory try setting max_split_size_mb to avoid fragmentation.  See documentation for Memory Management and PYTORCH_CUDA_ALLOC_CONF"
          ]
        }
      ]
    },
    {
      "cell_type": "markdown",
      "metadata": {
        "id": "a9q4mgMZplr_"
      },
      "source": [
        "The training loss and validation WER go down nicely."
      ]
    },
    {
      "cell_type": "markdown",
      "metadata": {
        "id": "4Ya7WEy0pd13"
      },
      "source": [
        "You can now upload the result of the training to the 🤗 Hub, just execute this instruction:"
      ]
    },
    {
      "cell_type": "code",
      "metadata": {
        "colab": {
          "background_save": true,
          "referenced_widgets": [
            "2d2f71d2c70d466cb9a0d3317fb3095e",
            "2e894a5b95cb489db8b27c6617fd9533"
          ]
        },
        "id": "ArG1Thf6NBWm",
        "outputId": "62ef1c3d-786c-4e25-f9c5-4020e71aa298"
      },
      "source": [
        "trainer.push_to_hub()"
      ],
      "execution_count": null,
      "outputs": [
        {
          "name": "stderr",
          "output_type": "stream",
          "text": [
            "Saving model checkpoint to wav2vec2-large-xls-r-300m-turkish-colab\n",
            "Configuration saved in wav2vec2-large-xls-r-300m-turkish-colab/config.json\n",
            "Model weights saved in wav2vec2-large-xls-r-300m-turkish-colab/pytorch_model.bin\n",
            "Configuration saved in wav2vec2-large-xls-r-300m-turkish-colab/preprocessor_config.json\n",
            "Several commits (2) will be pushed upstream.\n",
            "The progress bars may be unreliable.\n"
          ]
        },
        {
          "data": {
            "application/vnd.jupyter.widget-view+json": {
              "model_id": "2d2f71d2c70d466cb9a0d3317fb3095e",
              "version_major": 2,
              "version_minor": 0
            },
            "text/plain": [
              "Upload file pytorch_model.bin:   0%|          | 3.35k/1.18G [00:00<?, ?B/s]"
            ]
          },
          "metadata": {},
          "output_type": "display_data"
        },
        {
          "data": {
            "application/vnd.jupyter.widget-view+json": {
              "model_id": "2e894a5b95cb489db8b27c6617fd9533",
              "version_major": 2,
              "version_minor": 0
            },
            "text/plain": [
              "Upload file runs/Nov12_14-33-48_c2d4142f9305/events.out.tfevents.1636727730.c2d4142f9305.1468.0:  41%|####1   …"
            ]
          },
          "metadata": {},
          "output_type": "display_data"
        },
        {
          "name": "stderr",
          "output_type": "stream",
          "text": [
            "To https://huggingface.co/patrickvonplaten/wav2vec2-large-xls-r-300m-turkish-colab\n",
            "   56ebe74..fe76946  main -> main\n",
            "\n",
            "Dropping the following result as it does not have all the necessary field:\n",
            "{'dataset': {'name': 'common_voice', 'type': 'common_voice', 'args': 'tr'}}\n",
            "To https://huggingface.co/patrickvonplaten/wav2vec2-large-xls-r-300m-turkish-colab\n",
            "   fe76946..5f0d67b  main -> main\n",
            "\n"
          ]
        },
        {
          "data": {
            "application/vnd.google.colaboratory.intrinsic+json": {
              "type": "string"
            },
            "text/plain": [
              "'https://huggingface.co/patrickvonplaten/wav2vec2-large-xls-r-300m-turkish-colab/commit/fe769461e4e2fb9534740e6c278a0cfabf268474'"
            ]
          },
          "execution_count": null,
          "metadata": {},
          "output_type": "execute_result"
        }
      ]
    },
    {
      "cell_type": "markdown",
      "metadata": {
        "id": "RHIVc44_fY2N"
      },
      "source": [
        "You can now share this model with all your friends, family, favorite pets: they can all load it with the identifier \"your-username/the-name-you-picked\" so for instance:"
      ]
    },
    {
      "cell_type": "markdown",
      "metadata": {
        "id": "5lWWIKyBpx1h"
      },
      "source": [
        "```python\n",
        "from transformers import AutoModelForCTC, Wav2Vec2Processor\n",
        "\n",
        "model = AutoModelForCTC.from_pretrained(\"patrickvonplaten/wav2vec2-large-xls-r-300m-tr-colab\")\n",
        "processor = Wav2Vec2Processor.from_pretrained(\"patrickvonplaten/wav2vec2-large-xls-r-300m-tr-colab\")\n",
        "```"
      ]
    },
    {
      "cell_type": "markdown",
      "metadata": {
        "id": "pmi1cX0fRBit"
      },
      "source": [
        "For more examples of how XLS-R can be fine-tuned, please take a look at the [official speech recognition examples](https://github.com/huggingface/transformers/tree/master/examples/pytorch/speech-recognition#examples)."
      ]
    },
    {
      "cell_type": "markdown",
      "metadata": {
        "id": "L8b8Qkoy3KyS"
      },
      "source": [
        "### Evaluation\n",
        "\n",
        "As a final check, let's load the model and verify that it indeed has learned to transcribe Turkish speech.\n",
        "\n",
        "Let's first load the pretrained checkpoint."
      ]
    },
    {
      "cell_type": "code",
      "metadata": {
        "colab": {
          "background_save": true
        },
        "id": "R351I9IQp_9D",
        "outputId": "f2a2ee99-7db6-4962-e140-0107054102d3"
      },
      "source": [
        "model = Wav2Vec2ForCTC.from_pretrained(repo_name).to(\"cuda\")\n",
        "processor = Wav2Vec2Processor.from_pretrained(repo_name)"
      ],
      "execution_count": null,
      "outputs": [
        {
          "name": "stderr",
          "output_type": "stream",
          "text": [
            "loading configuration file wav2vec2-large-xls-r-300m-turkish-colab/config.json\n",
            "Model config Wav2Vec2Config {\n",
            "  \"_name_or_path\": \"facebook/wav2vec2-xls-r-300m\",\n",
            "  \"activation_dropout\": 0.0,\n",
            "  \"apply_spec_augment\": true,\n",
            "  \"architectures\": [\n",
            "    \"Wav2Vec2ForCTC\"\n",
            "  ],\n",
            "  \"attention_dropout\": 0.0,\n",
            "  \"bos_token_id\": 1,\n",
            "  \"classifier_proj_size\": 256,\n",
            "  \"codevector_dim\": 768,\n",
            "  \"contrastive_logits_temperature\": 0.1,\n",
            "  \"conv_bias\": true,\n",
            "  \"conv_dim\": [\n",
            "    512,\n",
            "    512,\n",
            "    512,\n",
            "    512,\n",
            "    512,\n",
            "    512,\n",
            "    512\n",
            "  ],\n",
            "  \"conv_kernel\": [\n",
            "    10,\n",
            "    3,\n",
            "    3,\n",
            "    3,\n",
            "    3,\n",
            "    2,\n",
            "    2\n",
            "  ],\n",
            "  \"conv_stride\": [\n",
            "    5,\n",
            "    2,\n",
            "    2,\n",
            "    2,\n",
            "    2,\n",
            "    2,\n",
            "    2\n",
            "  ],\n",
            "  \"ctc_loss_reduction\": \"mean\",\n",
            "  \"ctc_zero_infinity\": false,\n",
            "  \"diversity_loss_weight\": 0.1,\n",
            "  \"do_stable_layer_norm\": true,\n",
            "  \"eos_token_id\": 2,\n",
            "  \"feat_extract_activation\": \"gelu\",\n",
            "  \"feat_extract_dropout\": 0.0,\n",
            "  \"feat_extract_norm\": \"layer\",\n",
            "  \"feat_proj_dropout\": 0.0,\n",
            "  \"feat_quantizer_dropout\": 0.0,\n",
            "  \"final_dropout\": 0.0,\n",
            "  \"gradient_checkpointing\": false,\n",
            "  \"hidden_act\": \"gelu\",\n",
            "  \"hidden_dropout\": 0.0,\n",
            "  \"hidden_size\": 1024,\n",
            "  \"initializer_range\": 0.02,\n",
            "  \"intermediate_size\": 4096,\n",
            "  \"layer_norm_eps\": 1e-05,\n",
            "  \"layerdrop\": 0.0,\n",
            "  \"mask_feature_length\": 10,\n",
            "  \"mask_feature_prob\": 0.0,\n",
            "  \"mask_time_length\": 10,\n",
            "  \"mask_time_prob\": 0.05,\n",
            "  \"model_type\": \"wav2vec2\",\n",
            "  \"num_attention_heads\": 16,\n",
            "  \"num_codevector_groups\": 2,\n",
            "  \"num_codevectors_per_group\": 320,\n",
            "  \"num_conv_pos_embedding_groups\": 16,\n",
            "  \"num_conv_pos_embeddings\": 128,\n",
            "  \"num_feat_extract_layers\": 7,\n",
            "  \"num_hidden_layers\": 24,\n",
            "  \"num_negatives\": 100,\n",
            "  \"pad_token_id\": 36,\n",
            "  \"proj_codevector_dim\": 768,\n",
            "  \"torch_dtype\": \"float32\",\n",
            "  \"transformers_version\": \"4.11.3\",\n",
            "  \"use_weighted_layer_sum\": false,\n",
            "  \"vocab_size\": 39\n",
            "}\n",
            "\n",
            "loading weights file wav2vec2-large-xls-r-300m-turkish-colab/pytorch_model.bin\n",
            "All model checkpoint weights were used when initializing Wav2Vec2ForCTC.\n",
            "\n",
            "All the weights of Wav2Vec2ForCTC were initialized from the model checkpoint at wav2vec2-large-xls-r-300m-turkish-colab.\n",
            "If your task is similar to the task the model of the checkpoint was trained on, you can already use Wav2Vec2ForCTC for predictions without further training.\n",
            "loading feature extractor configuration file wav2vec2-large-xls-r-300m-turkish-colab/preprocessor_config.json\n",
            "Feature extractor Wav2Vec2FeatureExtractor {\n",
            "  \"do_normalize\": true,\n",
            "  \"feature_extractor_type\": \"Wav2Vec2FeatureExtractor\",\n",
            "  \"feature_size\": 1,\n",
            "  \"padding_side\": \"right\",\n",
            "  \"padding_value\": 0.0,\n",
            "  \"return_attention_mask\": true,\n",
            "  \"sampling_rate\": 16000\n",
            "}\n",
            "\n",
            "Didn't find file wav2vec2-large-xls-r-300m-turkish-colab/tokenizer.json. We won't load it.\n",
            "loading file wav2vec2-large-xls-r-300m-turkish-colab/vocab.json\n",
            "loading file wav2vec2-large-xls-r-300m-turkish-colab/tokenizer_config.json\n",
            "loading file wav2vec2-large-xls-r-300m-turkish-colab/added_tokens.json\n",
            "loading file wav2vec2-large-xls-r-300m-turkish-colab/special_tokens_map.json\n",
            "loading file None\n",
            "Adding <s> to the vocabulary\n",
            "Adding </s> to the vocabulary\n"
          ]
        }
      ]
    },
    {
      "cell_type": "markdown",
      "metadata": {
        "id": "jD7TZ1YS3S_K"
      },
      "source": [
        "\n",
        "Now, we will just take the first example of the test set, run it through the model and take the `argmax(...)` of the logits to retrieve the predicted token ids."
      ]
    },
    {
      "cell_type": "code",
      "metadata": {
        "colab": {
          "background_save": true
        },
        "id": "pax07TnL3WZn",
        "outputId": "867787ff-0cb7-41e9-f926-96f7b53e7134"
      },
      "source": [
        "input_dict = processor(common_voice_test[0][\"input_values\"], return_tensors=\"pt\", padding=True)\n",
        "\n",
        "logits = model(input_dict.input_values.to(\"cuda\")).logits\n",
        "\n",
        "pred_ids = torch.argmax(logits, dim=-1)[0]"
      ],
      "execution_count": null,
      "outputs": [
        {
          "name": "stderr",
          "output_type": "stream",
          "text": [
            "It is strongly recommended to pass the ``sampling_rate`` argument to this function.Failing to do so can result in silent errors that might be hard to debug.\n"
          ]
        }
      ]
    },
    {
      "cell_type": "markdown",
      "metadata": {
        "id": "7nkzSQu53Zs2"
      },
      "source": [
        "We adapted `common_voice_test` quite a bit so that the dataset instance does not contain the original sentence label anymore. Thus, we re-use the original dataset to get the label of the first example."
      ]
    },
    {
      "cell_type": "code",
      "metadata": {
        "colab": {
          "background_save": true,
          "referenced_widgets": [
            "54097a6c744849128d7cc3da8aad6609",
            "b8827ecbec9e44f09216f62c1ee12840",
            "8728bb32478240b7abe576375b01e640",
            "19b8a530352a423794395979e6415bea",
            "5fc8ec04870e4bb7b63b20844c355ab6"
          ]
        },
        "id": "fe2AE-2xqKHx",
        "outputId": "1d8321b3-4f41-4d71-e74e-f33f32a7b261"
      },
      "source": [
        "common_voice_test_transcription = load_dataset(\"common_voice\", \"tr\", data_dir=\"./cv-corpus-6.1-2020-12-11\", split=\"test\")"
      ],
      "execution_count": null,
      "outputs": [
        {
          "name": "stderr",
          "output_type": "stream",
          "text": [
            "Using custom data configuration tr-ad9f7b76efa9f3a0\n"
          ]
        },
        {
          "name": "stdout",
          "output_type": "stream",
          "text": [
            "Downloading and preparing dataset common_voice/tr (download: 592.09 MiB, generated: 2.89 MiB, post-processed: Unknown size, total: 594.98 MiB) to /root/.cache/huggingface/datasets/common_voice/tr-ad9f7b76efa9f3a0/6.1.0/f7a9d973839b7706e9e281c19b7e512f31badf3c0fdbd21c671f3c4bf9acf3b9...\n"
          ]
        },
        {
          "data": {
            "application/vnd.jupyter.widget-view+json": {
              "model_id": "54097a6c744849128d7cc3da8aad6609",
              "version_major": 2,
              "version_minor": 0
            },
            "text/plain": [
              "0 examples [00:00, ? examples/s]"
            ]
          },
          "metadata": {},
          "output_type": "display_data"
        },
        {
          "data": {
            "application/vnd.jupyter.widget-view+json": {
              "model_id": "b8827ecbec9e44f09216f62c1ee12840",
              "version_major": 2,
              "version_minor": 0
            },
            "text/plain": [
              "0 examples [00:00, ? examples/s]"
            ]
          },
          "metadata": {},
          "output_type": "display_data"
        },
        {
          "data": {
            "application/vnd.jupyter.widget-view+json": {
              "model_id": "8728bb32478240b7abe576375b01e640",
              "version_major": 2,
              "version_minor": 0
            },
            "text/plain": [
              "0 examples [00:00, ? examples/s]"
            ]
          },
          "metadata": {},
          "output_type": "display_data"
        },
        {
          "data": {
            "application/vnd.jupyter.widget-view+json": {
              "model_id": "19b8a530352a423794395979e6415bea",
              "version_major": 2,
              "version_minor": 0
            },
            "text/plain": [
              "0 examples [00:00, ? examples/s]"
            ]
          },
          "metadata": {},
          "output_type": "display_data"
        },
        {
          "data": {
            "application/vnd.jupyter.widget-view+json": {
              "model_id": "5fc8ec04870e4bb7b63b20844c355ab6",
              "version_major": 2,
              "version_minor": 0
            },
            "text/plain": [
              "0 examples [00:00, ? examples/s]"
            ]
          },
          "metadata": {},
          "output_type": "display_data"
        },
        {
          "name": "stdout",
          "output_type": "stream",
          "text": [
            "Dataset common_voice downloaded and prepared to /root/.cache/huggingface/datasets/common_voice/tr-ad9f7b76efa9f3a0/6.1.0/f7a9d973839b7706e9e281c19b7e512f31badf3c0fdbd21c671f3c4bf9acf3b9. Subsequent calls will reuse this data.\n"
          ]
        }
      ]
    },
    {
      "cell_type": "markdown",
      "metadata": {
        "id": "epu8kCQZ3h70"
      },
      "source": [
        "\n",
        "Finally, we can decode the example."
      ]
    },
    {
      "cell_type": "code",
      "metadata": {
        "colab": {
          "background_save": true
        },
        "id": "K4xWqmk_qMn0",
        "outputId": "d9e40b3c-f02a-48a1-d081-6d7e8b37dcaf"
      },
      "source": [
        "print(\"Prediction:\")\n",
        "print(processor.decode(pred_ids))\n",
        "\n",
        "print(\"\\nReference:\")\n",
        "print(common_voice_test_transcription[0][\"sentence\"].lower())"
      ],
      "execution_count": null,
      "outputs": [
        {
          "name": "stdout",
          "output_type": "stream",
          "text": [
            "Prediction:\n",
            "ha ta küçük şeyleri için bir büyük biş şeylir koğoluyor ve yeneküçük şeyler için bir birmizi incilkiyoruz\n",
            "\n",
            "Reference:\n",
            "hayatta küçük şeyleri kovalıyor ve yine küçük şeyler için birbirimizi incitiyoruz.\n"
          ]
        }
      ]
    },
    {
      "cell_type": "markdown",
      "metadata": {
        "id": "HwhyoMml3oOT"
      },
      "source": [
        "Alright! The transcription can definitely be recognized from our prediction, but it is not perfect yet. Training the model a bit longer, spending more time on the data preprocessing, and especially using a language model for decoding would certainly improve the model's overall performance.\n",
        "\n",
        "For a demonstration model on a low-resource language, the results are quite acceptable however 🤗."
      ]
    }
  ]
}