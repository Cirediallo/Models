{
  "nbformat": 4,
  "nbformat_minor": 0,
  "metadata": {
    "accelerator": "GPU",
    "colab": {
      "provenance": [],
      "toc_visible": true,
      "machine_shape": "hm",
      "include_colab_link": true
    },
    "kernelspec": {
      "display_name": "Python 3",
      "name": "python3"
    },
    "widgets": {
      "application/vnd.jupyter.widget-state+json": {
        "8ae444fbe18a4819bf9629dfa643d673": {
          "model_module": "@jupyter-widgets/controls",
          "model_name": "VBoxModel",
          "model_module_version": "1.5.0",
          "state": {
            "_dom_classes": [],
            "_model_module": "@jupyter-widgets/controls",
            "_model_module_version": "1.5.0",
            "_model_name": "VBoxModel",
            "_view_count": null,
            "_view_module": "@jupyter-widgets/controls",
            "_view_module_version": "1.5.0",
            "_view_name": "VBoxView",
            "box_style": "",
            "children": [
              "IPY_MODEL_ac1fc7ea93bb4dc0adb2efe89bd3b327",
              "IPY_MODEL_8666b743f3324eb38656649f5c5384ff",
              "IPY_MODEL_75768eb1c3784bdf9df624df57fd1b0f",
              "IPY_MODEL_b74943d786bd467f9345c8b36ea7318e"
            ],
            "layout": "IPY_MODEL_2c0a50015a8c4d3d96a57d098ae993d1"
          }
        },
        "09e88906af634965a3289a0fb05c2db7": {
          "model_module": "@jupyter-widgets/controls",
          "model_name": "HTMLModel",
          "model_module_version": "1.5.0",
          "state": {
            "_dom_classes": [],
            "_model_module": "@jupyter-widgets/controls",
            "_model_module_version": "1.5.0",
            "_model_name": "HTMLModel",
            "_view_count": null,
            "_view_module": "@jupyter-widgets/controls",
            "_view_module_version": "1.5.0",
            "_view_name": "HTMLView",
            "description": "",
            "description_tooltip": null,
            "layout": "IPY_MODEL_5a55f6aa1c134e20b929bb6a0e5281d6",
            "placeholder": "​",
            "style": "IPY_MODEL_a9d684fe92c043b19a86b7204a61d751",
            "value": "<center> <img\nsrc=https://huggingface.co/front/assets/huggingface_logo-noborder.svg\nalt='Hugging Face'> <br> Copy a token from <a\nhref=\"https://huggingface.co/settings/tokens\" target=\"_blank\">your Hugging Face\ntokens page</a> and paste it below. <br> Immediately click login after copying\nyour token or it might be stored in plain text in this notebook file. </center>"
          }
        },
        "1fa914f72dbe4d2b81decf273232d6fe": {
          "model_module": "@jupyter-widgets/controls",
          "model_name": "PasswordModel",
          "model_module_version": "1.5.0",
          "state": {
            "_dom_classes": [],
            "_model_module": "@jupyter-widgets/controls",
            "_model_module_version": "1.5.0",
            "_model_name": "PasswordModel",
            "_view_count": null,
            "_view_module": "@jupyter-widgets/controls",
            "_view_module_version": "1.5.0",
            "_view_name": "PasswordView",
            "continuous_update": true,
            "description": "Token:",
            "description_tooltip": null,
            "disabled": false,
            "layout": "IPY_MODEL_55be0631cf4a4d19a9a6240bbd32fe2d",
            "placeholder": "​",
            "style": "IPY_MODEL_6cd763a6278c41eb8411f438aaeb4fc9",
            "value": ""
          }
        },
        "084f63ce4798493f83576f20d4d3c66d": {
          "model_module": "@jupyter-widgets/controls",
          "model_name": "CheckboxModel",
          "model_module_version": "1.5.0",
          "state": {
            "_dom_classes": [],
            "_model_module": "@jupyter-widgets/controls",
            "_model_module_version": "1.5.0",
            "_model_name": "CheckboxModel",
            "_view_count": null,
            "_view_module": "@jupyter-widgets/controls",
            "_view_module_version": "1.5.0",
            "_view_name": "CheckboxView",
            "description": "Add token as git credential?",
            "description_tooltip": null,
            "disabled": false,
            "indent": true,
            "layout": "IPY_MODEL_0f5f19eeca0c4d7393106eee31c89bf6",
            "style": "IPY_MODEL_4504a9b6c7454d93bfa8ed8b227192ed",
            "value": true
          }
        },
        "46bb2444eb954ca6a9e7ccbff834d480": {
          "model_module": "@jupyter-widgets/controls",
          "model_name": "ButtonModel",
          "model_module_version": "1.5.0",
          "state": {
            "_dom_classes": [],
            "_model_module": "@jupyter-widgets/controls",
            "_model_module_version": "1.5.0",
            "_model_name": "ButtonModel",
            "_view_count": null,
            "_view_module": "@jupyter-widgets/controls",
            "_view_module_version": "1.5.0",
            "_view_name": "ButtonView",
            "button_style": "",
            "description": "Login",
            "disabled": false,
            "icon": "",
            "layout": "IPY_MODEL_9a2c6e5ee26f44ab81aa975edf92139e",
            "style": "IPY_MODEL_0d468feb435b4e1b83e2a5f82c38e0db",
            "tooltip": ""
          }
        },
        "2a0da2e6e51b433286a130a75f05dc2e": {
          "model_module": "@jupyter-widgets/controls",
          "model_name": "HTMLModel",
          "model_module_version": "1.5.0",
          "state": {
            "_dom_classes": [],
            "_model_module": "@jupyter-widgets/controls",
            "_model_module_version": "1.5.0",
            "_model_name": "HTMLModel",
            "_view_count": null,
            "_view_module": "@jupyter-widgets/controls",
            "_view_module_version": "1.5.0",
            "_view_name": "HTMLView",
            "description": "",
            "description_tooltip": null,
            "layout": "IPY_MODEL_a4ae9479bc81485ba200fdf6300602d4",
            "placeholder": "​",
            "style": "IPY_MODEL_39386518f9ce412eaef26b9d0bde2a3f",
            "value": "\n<b>Pro Tip:</b> If you don't already have one, you can create a dedicated\n'notebooks' token with 'write' access, that you can then easily reuse for all\nnotebooks. </center>"
          }
        },
        "2c0a50015a8c4d3d96a57d098ae993d1": {
          "model_module": "@jupyter-widgets/base",
          "model_name": "LayoutModel",
          "model_module_version": "1.2.0",
          "state": {
            "_model_module": "@jupyter-widgets/base",
            "_model_module_version": "1.2.0",
            "_model_name": "LayoutModel",
            "_view_count": null,
            "_view_module": "@jupyter-widgets/base",
            "_view_module_version": "1.2.0",
            "_view_name": "LayoutView",
            "align_content": null,
            "align_items": "center",
            "align_self": null,
            "border": null,
            "bottom": null,
            "display": "flex",
            "flex": null,
            "flex_flow": "column",
            "grid_area": null,
            "grid_auto_columns": null,
            "grid_auto_flow": null,
            "grid_auto_rows": null,
            "grid_column": null,
            "grid_gap": null,
            "grid_row": null,
            "grid_template_areas": null,
            "grid_template_columns": null,
            "grid_template_rows": null,
            "height": null,
            "justify_content": null,
            "justify_items": null,
            "left": null,
            "margin": null,
            "max_height": null,
            "max_width": null,
            "min_height": null,
            "min_width": null,
            "object_fit": null,
            "object_position": null,
            "order": null,
            "overflow": null,
            "overflow_x": null,
            "overflow_y": null,
            "padding": null,
            "right": null,
            "top": null,
            "visibility": null,
            "width": "50%"
          }
        },
        "5a55f6aa1c134e20b929bb6a0e5281d6": {
          "model_module": "@jupyter-widgets/base",
          "model_name": "LayoutModel",
          "model_module_version": "1.2.0",
          "state": {
            "_model_module": "@jupyter-widgets/base",
            "_model_module_version": "1.2.0",
            "_model_name": "LayoutModel",
            "_view_count": null,
            "_view_module": "@jupyter-widgets/base",
            "_view_module_version": "1.2.0",
            "_view_name": "LayoutView",
            "align_content": null,
            "align_items": null,
            "align_self": null,
            "border": null,
            "bottom": null,
            "display": null,
            "flex": null,
            "flex_flow": null,
            "grid_area": null,
            "grid_auto_columns": null,
            "grid_auto_flow": null,
            "grid_auto_rows": null,
            "grid_column": null,
            "grid_gap": null,
            "grid_row": null,
            "grid_template_areas": null,
            "grid_template_columns": null,
            "grid_template_rows": null,
            "height": null,
            "justify_content": null,
            "justify_items": null,
            "left": null,
            "margin": null,
            "max_height": null,
            "max_width": null,
            "min_height": null,
            "min_width": null,
            "object_fit": null,
            "object_position": null,
            "order": null,
            "overflow": null,
            "overflow_x": null,
            "overflow_y": null,
            "padding": null,
            "right": null,
            "top": null,
            "visibility": null,
            "width": null
          }
        },
        "a9d684fe92c043b19a86b7204a61d751": {
          "model_module": "@jupyter-widgets/controls",
          "model_name": "DescriptionStyleModel",
          "model_module_version": "1.5.0",
          "state": {
            "_model_module": "@jupyter-widgets/controls",
            "_model_module_version": "1.5.0",
            "_model_name": "DescriptionStyleModel",
            "_view_count": null,
            "_view_module": "@jupyter-widgets/base",
            "_view_module_version": "1.2.0",
            "_view_name": "StyleView",
            "description_width": ""
          }
        },
        "55be0631cf4a4d19a9a6240bbd32fe2d": {
          "model_module": "@jupyter-widgets/base",
          "model_name": "LayoutModel",
          "model_module_version": "1.2.0",
          "state": {
            "_model_module": "@jupyter-widgets/base",
            "_model_module_version": "1.2.0",
            "_model_name": "LayoutModel",
            "_view_count": null,
            "_view_module": "@jupyter-widgets/base",
            "_view_module_version": "1.2.0",
            "_view_name": "LayoutView",
            "align_content": null,
            "align_items": null,
            "align_self": null,
            "border": null,
            "bottom": null,
            "display": null,
            "flex": null,
            "flex_flow": null,
            "grid_area": null,
            "grid_auto_columns": null,
            "grid_auto_flow": null,
            "grid_auto_rows": null,
            "grid_column": null,
            "grid_gap": null,
            "grid_row": null,
            "grid_template_areas": null,
            "grid_template_columns": null,
            "grid_template_rows": null,
            "height": null,
            "justify_content": null,
            "justify_items": null,
            "left": null,
            "margin": null,
            "max_height": null,
            "max_width": null,
            "min_height": null,
            "min_width": null,
            "object_fit": null,
            "object_position": null,
            "order": null,
            "overflow": null,
            "overflow_x": null,
            "overflow_y": null,
            "padding": null,
            "right": null,
            "top": null,
            "visibility": null,
            "width": null
          }
        },
        "6cd763a6278c41eb8411f438aaeb4fc9": {
          "model_module": "@jupyter-widgets/controls",
          "model_name": "DescriptionStyleModel",
          "model_module_version": "1.5.0",
          "state": {
            "_model_module": "@jupyter-widgets/controls",
            "_model_module_version": "1.5.0",
            "_model_name": "DescriptionStyleModel",
            "_view_count": null,
            "_view_module": "@jupyter-widgets/base",
            "_view_module_version": "1.2.0",
            "_view_name": "StyleView",
            "description_width": ""
          }
        },
        "0f5f19eeca0c4d7393106eee31c89bf6": {
          "model_module": "@jupyter-widgets/base",
          "model_name": "LayoutModel",
          "model_module_version": "1.2.0",
          "state": {
            "_model_module": "@jupyter-widgets/base",
            "_model_module_version": "1.2.0",
            "_model_name": "LayoutModel",
            "_view_count": null,
            "_view_module": "@jupyter-widgets/base",
            "_view_module_version": "1.2.0",
            "_view_name": "LayoutView",
            "align_content": null,
            "align_items": null,
            "align_self": null,
            "border": null,
            "bottom": null,
            "display": null,
            "flex": null,
            "flex_flow": null,
            "grid_area": null,
            "grid_auto_columns": null,
            "grid_auto_flow": null,
            "grid_auto_rows": null,
            "grid_column": null,
            "grid_gap": null,
            "grid_row": null,
            "grid_template_areas": null,
            "grid_template_columns": null,
            "grid_template_rows": null,
            "height": null,
            "justify_content": null,
            "justify_items": null,
            "left": null,
            "margin": null,
            "max_height": null,
            "max_width": null,
            "min_height": null,
            "min_width": null,
            "object_fit": null,
            "object_position": null,
            "order": null,
            "overflow": null,
            "overflow_x": null,
            "overflow_y": null,
            "padding": null,
            "right": null,
            "top": null,
            "visibility": null,
            "width": null
          }
        },
        "4504a9b6c7454d93bfa8ed8b227192ed": {
          "model_module": "@jupyter-widgets/controls",
          "model_name": "DescriptionStyleModel",
          "model_module_version": "1.5.0",
          "state": {
            "_model_module": "@jupyter-widgets/controls",
            "_model_module_version": "1.5.0",
            "_model_name": "DescriptionStyleModel",
            "_view_count": null,
            "_view_module": "@jupyter-widgets/base",
            "_view_module_version": "1.2.0",
            "_view_name": "StyleView",
            "description_width": ""
          }
        },
        "9a2c6e5ee26f44ab81aa975edf92139e": {
          "model_module": "@jupyter-widgets/base",
          "model_name": "LayoutModel",
          "model_module_version": "1.2.0",
          "state": {
            "_model_module": "@jupyter-widgets/base",
            "_model_module_version": "1.2.0",
            "_model_name": "LayoutModel",
            "_view_count": null,
            "_view_module": "@jupyter-widgets/base",
            "_view_module_version": "1.2.0",
            "_view_name": "LayoutView",
            "align_content": null,
            "align_items": null,
            "align_self": null,
            "border": null,
            "bottom": null,
            "display": null,
            "flex": null,
            "flex_flow": null,
            "grid_area": null,
            "grid_auto_columns": null,
            "grid_auto_flow": null,
            "grid_auto_rows": null,
            "grid_column": null,
            "grid_gap": null,
            "grid_row": null,
            "grid_template_areas": null,
            "grid_template_columns": null,
            "grid_template_rows": null,
            "height": null,
            "justify_content": null,
            "justify_items": null,
            "left": null,
            "margin": null,
            "max_height": null,
            "max_width": null,
            "min_height": null,
            "min_width": null,
            "object_fit": null,
            "object_position": null,
            "order": null,
            "overflow": null,
            "overflow_x": null,
            "overflow_y": null,
            "padding": null,
            "right": null,
            "top": null,
            "visibility": null,
            "width": null
          }
        },
        "0d468feb435b4e1b83e2a5f82c38e0db": {
          "model_module": "@jupyter-widgets/controls",
          "model_name": "ButtonStyleModel",
          "model_module_version": "1.5.0",
          "state": {
            "_model_module": "@jupyter-widgets/controls",
            "_model_module_version": "1.5.0",
            "_model_name": "ButtonStyleModel",
            "_view_count": null,
            "_view_module": "@jupyter-widgets/base",
            "_view_module_version": "1.2.0",
            "_view_name": "StyleView",
            "button_color": null,
            "font_weight": ""
          }
        },
        "a4ae9479bc81485ba200fdf6300602d4": {
          "model_module": "@jupyter-widgets/base",
          "model_name": "LayoutModel",
          "model_module_version": "1.2.0",
          "state": {
            "_model_module": "@jupyter-widgets/base",
            "_model_module_version": "1.2.0",
            "_model_name": "LayoutModel",
            "_view_count": null,
            "_view_module": "@jupyter-widgets/base",
            "_view_module_version": "1.2.0",
            "_view_name": "LayoutView",
            "align_content": null,
            "align_items": null,
            "align_self": null,
            "border": null,
            "bottom": null,
            "display": null,
            "flex": null,
            "flex_flow": null,
            "grid_area": null,
            "grid_auto_columns": null,
            "grid_auto_flow": null,
            "grid_auto_rows": null,
            "grid_column": null,
            "grid_gap": null,
            "grid_row": null,
            "grid_template_areas": null,
            "grid_template_columns": null,
            "grid_template_rows": null,
            "height": null,
            "justify_content": null,
            "justify_items": null,
            "left": null,
            "margin": null,
            "max_height": null,
            "max_width": null,
            "min_height": null,
            "min_width": null,
            "object_fit": null,
            "object_position": null,
            "order": null,
            "overflow": null,
            "overflow_x": null,
            "overflow_y": null,
            "padding": null,
            "right": null,
            "top": null,
            "visibility": null,
            "width": null
          }
        },
        "39386518f9ce412eaef26b9d0bde2a3f": {
          "model_module": "@jupyter-widgets/controls",
          "model_name": "DescriptionStyleModel",
          "model_module_version": "1.5.0",
          "state": {
            "_model_module": "@jupyter-widgets/controls",
            "_model_module_version": "1.5.0",
            "_model_name": "DescriptionStyleModel",
            "_view_count": null,
            "_view_module": "@jupyter-widgets/base",
            "_view_module_version": "1.2.0",
            "_view_name": "StyleView",
            "description_width": ""
          }
        },
        "41b9aedfaaf24cb88949109e224c4f72": {
          "model_module": "@jupyter-widgets/controls",
          "model_name": "LabelModel",
          "model_module_version": "1.5.0",
          "state": {
            "_dom_classes": [],
            "_model_module": "@jupyter-widgets/controls",
            "_model_module_version": "1.5.0",
            "_model_name": "LabelModel",
            "_view_count": null,
            "_view_module": "@jupyter-widgets/controls",
            "_view_module_version": "1.5.0",
            "_view_name": "LabelView",
            "description": "",
            "description_tooltip": null,
            "layout": "IPY_MODEL_ecdcb0a61fb8431898e667101831f52c",
            "placeholder": "​",
            "style": "IPY_MODEL_39a2c4941805417f8151c8108868bd2b",
            "value": "Connecting..."
          }
        },
        "ecdcb0a61fb8431898e667101831f52c": {
          "model_module": "@jupyter-widgets/base",
          "model_name": "LayoutModel",
          "model_module_version": "1.2.0",
          "state": {
            "_model_module": "@jupyter-widgets/base",
            "_model_module_version": "1.2.0",
            "_model_name": "LayoutModel",
            "_view_count": null,
            "_view_module": "@jupyter-widgets/base",
            "_view_module_version": "1.2.0",
            "_view_name": "LayoutView",
            "align_content": null,
            "align_items": null,
            "align_self": null,
            "border": null,
            "bottom": null,
            "display": null,
            "flex": null,
            "flex_flow": null,
            "grid_area": null,
            "grid_auto_columns": null,
            "grid_auto_flow": null,
            "grid_auto_rows": null,
            "grid_column": null,
            "grid_gap": null,
            "grid_row": null,
            "grid_template_areas": null,
            "grid_template_columns": null,
            "grid_template_rows": null,
            "height": null,
            "justify_content": null,
            "justify_items": null,
            "left": null,
            "margin": null,
            "max_height": null,
            "max_width": null,
            "min_height": null,
            "min_width": null,
            "object_fit": null,
            "object_position": null,
            "order": null,
            "overflow": null,
            "overflow_x": null,
            "overflow_y": null,
            "padding": null,
            "right": null,
            "top": null,
            "visibility": null,
            "width": null
          }
        },
        "39a2c4941805417f8151c8108868bd2b": {
          "model_module": "@jupyter-widgets/controls",
          "model_name": "DescriptionStyleModel",
          "model_module_version": "1.5.0",
          "state": {
            "_model_module": "@jupyter-widgets/controls",
            "_model_module_version": "1.5.0",
            "_model_name": "DescriptionStyleModel",
            "_view_count": null,
            "_view_module": "@jupyter-widgets/base",
            "_view_module_version": "1.2.0",
            "_view_name": "StyleView",
            "description_width": ""
          }
        },
        "ac1fc7ea93bb4dc0adb2efe89bd3b327": {
          "model_module": "@jupyter-widgets/controls",
          "model_name": "LabelModel",
          "model_module_version": "1.5.0",
          "state": {
            "_dom_classes": [],
            "_model_module": "@jupyter-widgets/controls",
            "_model_module_version": "1.5.0",
            "_model_name": "LabelModel",
            "_view_count": null,
            "_view_module": "@jupyter-widgets/controls",
            "_view_module_version": "1.5.0",
            "_view_name": "LabelView",
            "description": "",
            "description_tooltip": null,
            "layout": "IPY_MODEL_3b828e956c724096893cbc3c2cd76ab6",
            "placeholder": "​",
            "style": "IPY_MODEL_2f1890296b9b438d9f4515d986f1d0ef",
            "value": "Token is valid (permission: write)."
          }
        },
        "8666b743f3324eb38656649f5c5384ff": {
          "model_module": "@jupyter-widgets/controls",
          "model_name": "LabelModel",
          "model_module_version": "1.5.0",
          "state": {
            "_dom_classes": [],
            "_model_module": "@jupyter-widgets/controls",
            "_model_module_version": "1.5.0",
            "_model_name": "LabelModel",
            "_view_count": null,
            "_view_module": "@jupyter-widgets/controls",
            "_view_module_version": "1.5.0",
            "_view_name": "LabelView",
            "description": "",
            "description_tooltip": null,
            "layout": "IPY_MODEL_a2861decac1a4768b64859ef2dd0ffd7",
            "placeholder": "​",
            "style": "IPY_MODEL_4007bbfbb11c4f84bbfda985aa2a5c06",
            "value": "Your token has been saved in your configured git credential helpers (store)."
          }
        },
        "75768eb1c3784bdf9df624df57fd1b0f": {
          "model_module": "@jupyter-widgets/controls",
          "model_name": "LabelModel",
          "model_module_version": "1.5.0",
          "state": {
            "_dom_classes": [],
            "_model_module": "@jupyter-widgets/controls",
            "_model_module_version": "1.5.0",
            "_model_name": "LabelModel",
            "_view_count": null,
            "_view_module": "@jupyter-widgets/controls",
            "_view_module_version": "1.5.0",
            "_view_name": "LabelView",
            "description": "",
            "description_tooltip": null,
            "layout": "IPY_MODEL_2341e46d4c3e4f48a6a5f2c554bfd21f",
            "placeholder": "​",
            "style": "IPY_MODEL_c27c16bcda1b46c394ee70b14f056834",
            "value": "Your token has been saved to /root/.cache/huggingface/token"
          }
        },
        "b74943d786bd467f9345c8b36ea7318e": {
          "model_module": "@jupyter-widgets/controls",
          "model_name": "LabelModel",
          "model_module_version": "1.5.0",
          "state": {
            "_dom_classes": [],
            "_model_module": "@jupyter-widgets/controls",
            "_model_module_version": "1.5.0",
            "_model_name": "LabelModel",
            "_view_count": null,
            "_view_module": "@jupyter-widgets/controls",
            "_view_module_version": "1.5.0",
            "_view_name": "LabelView",
            "description": "",
            "description_tooltip": null,
            "layout": "IPY_MODEL_89cdf524193447dfb9f762a18f52c60f",
            "placeholder": "​",
            "style": "IPY_MODEL_d42dbd69d4d34e5bbd017ff42fbd0d09",
            "value": "Login successful"
          }
        },
        "3b828e956c724096893cbc3c2cd76ab6": {
          "model_module": "@jupyter-widgets/base",
          "model_name": "LayoutModel",
          "model_module_version": "1.2.0",
          "state": {
            "_model_module": "@jupyter-widgets/base",
            "_model_module_version": "1.2.0",
            "_model_name": "LayoutModel",
            "_view_count": null,
            "_view_module": "@jupyter-widgets/base",
            "_view_module_version": "1.2.0",
            "_view_name": "LayoutView",
            "align_content": null,
            "align_items": null,
            "align_self": null,
            "border": null,
            "bottom": null,
            "display": null,
            "flex": null,
            "flex_flow": null,
            "grid_area": null,
            "grid_auto_columns": null,
            "grid_auto_flow": null,
            "grid_auto_rows": null,
            "grid_column": null,
            "grid_gap": null,
            "grid_row": null,
            "grid_template_areas": null,
            "grid_template_columns": null,
            "grid_template_rows": null,
            "height": null,
            "justify_content": null,
            "justify_items": null,
            "left": null,
            "margin": null,
            "max_height": null,
            "max_width": null,
            "min_height": null,
            "min_width": null,
            "object_fit": null,
            "object_position": null,
            "order": null,
            "overflow": null,
            "overflow_x": null,
            "overflow_y": null,
            "padding": null,
            "right": null,
            "top": null,
            "visibility": null,
            "width": null
          }
        },
        "2f1890296b9b438d9f4515d986f1d0ef": {
          "model_module": "@jupyter-widgets/controls",
          "model_name": "DescriptionStyleModel",
          "model_module_version": "1.5.0",
          "state": {
            "_model_module": "@jupyter-widgets/controls",
            "_model_module_version": "1.5.0",
            "_model_name": "DescriptionStyleModel",
            "_view_count": null,
            "_view_module": "@jupyter-widgets/base",
            "_view_module_version": "1.2.0",
            "_view_name": "StyleView",
            "description_width": ""
          }
        },
        "a2861decac1a4768b64859ef2dd0ffd7": {
          "model_module": "@jupyter-widgets/base",
          "model_name": "LayoutModel",
          "model_module_version": "1.2.0",
          "state": {
            "_model_module": "@jupyter-widgets/base",
            "_model_module_version": "1.2.0",
            "_model_name": "LayoutModel",
            "_view_count": null,
            "_view_module": "@jupyter-widgets/base",
            "_view_module_version": "1.2.0",
            "_view_name": "LayoutView",
            "align_content": null,
            "align_items": null,
            "align_self": null,
            "border": null,
            "bottom": null,
            "display": null,
            "flex": null,
            "flex_flow": null,
            "grid_area": null,
            "grid_auto_columns": null,
            "grid_auto_flow": null,
            "grid_auto_rows": null,
            "grid_column": null,
            "grid_gap": null,
            "grid_row": null,
            "grid_template_areas": null,
            "grid_template_columns": null,
            "grid_template_rows": null,
            "height": null,
            "justify_content": null,
            "justify_items": null,
            "left": null,
            "margin": null,
            "max_height": null,
            "max_width": null,
            "min_height": null,
            "min_width": null,
            "object_fit": null,
            "object_position": null,
            "order": null,
            "overflow": null,
            "overflow_x": null,
            "overflow_y": null,
            "padding": null,
            "right": null,
            "top": null,
            "visibility": null,
            "width": null
          }
        },
        "4007bbfbb11c4f84bbfda985aa2a5c06": {
          "model_module": "@jupyter-widgets/controls",
          "model_name": "DescriptionStyleModel",
          "model_module_version": "1.5.0",
          "state": {
            "_model_module": "@jupyter-widgets/controls",
            "_model_module_version": "1.5.0",
            "_model_name": "DescriptionStyleModel",
            "_view_count": null,
            "_view_module": "@jupyter-widgets/base",
            "_view_module_version": "1.2.0",
            "_view_name": "StyleView",
            "description_width": ""
          }
        },
        "2341e46d4c3e4f48a6a5f2c554bfd21f": {
          "model_module": "@jupyter-widgets/base",
          "model_name": "LayoutModel",
          "model_module_version": "1.2.0",
          "state": {
            "_model_module": "@jupyter-widgets/base",
            "_model_module_version": "1.2.0",
            "_model_name": "LayoutModel",
            "_view_count": null,
            "_view_module": "@jupyter-widgets/base",
            "_view_module_version": "1.2.0",
            "_view_name": "LayoutView",
            "align_content": null,
            "align_items": null,
            "align_self": null,
            "border": null,
            "bottom": null,
            "display": null,
            "flex": null,
            "flex_flow": null,
            "grid_area": null,
            "grid_auto_columns": null,
            "grid_auto_flow": null,
            "grid_auto_rows": null,
            "grid_column": null,
            "grid_gap": null,
            "grid_row": null,
            "grid_template_areas": null,
            "grid_template_columns": null,
            "grid_template_rows": null,
            "height": null,
            "justify_content": null,
            "justify_items": null,
            "left": null,
            "margin": null,
            "max_height": null,
            "max_width": null,
            "min_height": null,
            "min_width": null,
            "object_fit": null,
            "object_position": null,
            "order": null,
            "overflow": null,
            "overflow_x": null,
            "overflow_y": null,
            "padding": null,
            "right": null,
            "top": null,
            "visibility": null,
            "width": null
          }
        },
        "c27c16bcda1b46c394ee70b14f056834": {
          "model_module": "@jupyter-widgets/controls",
          "model_name": "DescriptionStyleModel",
          "model_module_version": "1.5.0",
          "state": {
            "_model_module": "@jupyter-widgets/controls",
            "_model_module_version": "1.5.0",
            "_model_name": "DescriptionStyleModel",
            "_view_count": null,
            "_view_module": "@jupyter-widgets/base",
            "_view_module_version": "1.2.0",
            "_view_name": "StyleView",
            "description_width": ""
          }
        },
        "89cdf524193447dfb9f762a18f52c60f": {
          "model_module": "@jupyter-widgets/base",
          "model_name": "LayoutModel",
          "model_module_version": "1.2.0",
          "state": {
            "_model_module": "@jupyter-widgets/base",
            "_model_module_version": "1.2.0",
            "_model_name": "LayoutModel",
            "_view_count": null,
            "_view_module": "@jupyter-widgets/base",
            "_view_module_version": "1.2.0",
            "_view_name": "LayoutView",
            "align_content": null,
            "align_items": null,
            "align_self": null,
            "border": null,
            "bottom": null,
            "display": null,
            "flex": null,
            "flex_flow": null,
            "grid_area": null,
            "grid_auto_columns": null,
            "grid_auto_flow": null,
            "grid_auto_rows": null,
            "grid_column": null,
            "grid_gap": null,
            "grid_row": null,
            "grid_template_areas": null,
            "grid_template_columns": null,
            "grid_template_rows": null,
            "height": null,
            "justify_content": null,
            "justify_items": null,
            "left": null,
            "margin": null,
            "max_height": null,
            "max_width": null,
            "min_height": null,
            "min_width": null,
            "object_fit": null,
            "object_position": null,
            "order": null,
            "overflow": null,
            "overflow_x": null,
            "overflow_y": null,
            "padding": null,
            "right": null,
            "top": null,
            "visibility": null,
            "width": null
          }
        },
        "d42dbd69d4d34e5bbd017ff42fbd0d09": {
          "model_module": "@jupyter-widgets/controls",
          "model_name": "DescriptionStyleModel",
          "model_module_version": "1.5.0",
          "state": {
            "_model_module": "@jupyter-widgets/controls",
            "_model_module_version": "1.5.0",
            "_model_name": "DescriptionStyleModel",
            "_view_count": null,
            "_view_module": "@jupyter-widgets/base",
            "_view_module_version": "1.2.0",
            "_view_name": "StyleView",
            "description_width": ""
          }
        },
        "9852b167c2d54013bfc873513c72864a": {
          "model_module": "@jupyter-widgets/controls",
          "model_name": "HBoxModel",
          "model_module_version": "1.5.0",
          "state": {
            "_dom_classes": [],
            "_model_module": "@jupyter-widgets/controls",
            "_model_module_version": "1.5.0",
            "_model_name": "HBoxModel",
            "_view_count": null,
            "_view_module": "@jupyter-widgets/controls",
            "_view_module_version": "1.5.0",
            "_view_name": "HBoxView",
            "box_style": "",
            "children": [
              "IPY_MODEL_0d4d5b7a7ba2471db46d34b2b005b332",
              "IPY_MODEL_1053a7139b8646df8315b2db8bf3c193",
              "IPY_MODEL_f2f045529f8c4783a574410f7d58ebfe"
            ],
            "layout": "IPY_MODEL_bce5d1c445504e4892befa8b2448cedd"
          }
        },
        "0d4d5b7a7ba2471db46d34b2b005b332": {
          "model_module": "@jupyter-widgets/controls",
          "model_name": "HTMLModel",
          "model_module_version": "1.5.0",
          "state": {
            "_dom_classes": [],
            "_model_module": "@jupyter-widgets/controls",
            "_model_module_version": "1.5.0",
            "_model_name": "HTMLModel",
            "_view_count": null,
            "_view_module": "@jupyter-widgets/controls",
            "_view_module_version": "1.5.0",
            "_view_name": "HTMLView",
            "description": "",
            "description_tooltip": null,
            "layout": "IPY_MODEL_5d625fccbe4c48ce86abed7da84ec183",
            "placeholder": "​",
            "style": "IPY_MODEL_69449d7cf2fd4c06845c4931140abe33",
            "value": ""
          }
        },
        "1053a7139b8646df8315b2db8bf3c193": {
          "model_module": "@jupyter-widgets/controls",
          "model_name": "FloatProgressModel",
          "model_module_version": "1.5.0",
          "state": {
            "_dom_classes": [],
            "_model_module": "@jupyter-widgets/controls",
            "_model_module_version": "1.5.0",
            "_model_name": "FloatProgressModel",
            "_view_count": null,
            "_view_module": "@jupyter-widgets/controls",
            "_view_module_version": "1.5.0",
            "_view_name": "ProgressView",
            "bar_style": "success",
            "description": "",
            "description_tooltip": null,
            "layout": "IPY_MODEL_e6fa3629517a4ec888526287d2a0ed2c",
            "max": 1,
            "min": 0,
            "orientation": "horizontal",
            "style": "IPY_MODEL_81c9fd1c65594b24bbccf788cfb42782",
            "value": 1
          }
        },
        "f2f045529f8c4783a574410f7d58ebfe": {
          "model_module": "@jupyter-widgets/controls",
          "model_name": "HTMLModel",
          "model_module_version": "1.5.0",
          "state": {
            "_dom_classes": [],
            "_model_module": "@jupyter-widgets/controls",
            "_model_module_version": "1.5.0",
            "_model_name": "HTMLModel",
            "_view_count": null,
            "_view_module": "@jupyter-widgets/controls",
            "_view_module_version": "1.5.0",
            "_view_name": "HTMLView",
            "description": "",
            "description_tooltip": null,
            "layout": "IPY_MODEL_846dbaaa04654233838100997d8962e1",
            "placeholder": "​",
            "style": "IPY_MODEL_e3616bf80d0946d0a3175b0a59f6d1ed",
            "value": " 161813/? [01:00&lt;00:00, 3143.65ex/s]"
          }
        },
        "bce5d1c445504e4892befa8b2448cedd": {
          "model_module": "@jupyter-widgets/base",
          "model_name": "LayoutModel",
          "model_module_version": "1.2.0",
          "state": {
            "_model_module": "@jupyter-widgets/base",
            "_model_module_version": "1.2.0",
            "_model_name": "LayoutModel",
            "_view_count": null,
            "_view_module": "@jupyter-widgets/base",
            "_view_module_version": "1.2.0",
            "_view_name": "LayoutView",
            "align_content": null,
            "align_items": null,
            "align_self": null,
            "border": null,
            "bottom": null,
            "display": null,
            "flex": null,
            "flex_flow": null,
            "grid_area": null,
            "grid_auto_columns": null,
            "grid_auto_flow": null,
            "grid_auto_rows": null,
            "grid_column": null,
            "grid_gap": null,
            "grid_row": null,
            "grid_template_areas": null,
            "grid_template_columns": null,
            "grid_template_rows": null,
            "height": null,
            "justify_content": null,
            "justify_items": null,
            "left": null,
            "margin": null,
            "max_height": null,
            "max_width": null,
            "min_height": null,
            "min_width": null,
            "object_fit": null,
            "object_position": null,
            "order": null,
            "overflow": null,
            "overflow_x": null,
            "overflow_y": null,
            "padding": null,
            "right": null,
            "top": null,
            "visibility": null,
            "width": null
          }
        },
        "5d625fccbe4c48ce86abed7da84ec183": {
          "model_module": "@jupyter-widgets/base",
          "model_name": "LayoutModel",
          "model_module_version": "1.2.0",
          "state": {
            "_model_module": "@jupyter-widgets/base",
            "_model_module_version": "1.2.0",
            "_model_name": "LayoutModel",
            "_view_count": null,
            "_view_module": "@jupyter-widgets/base",
            "_view_module_version": "1.2.0",
            "_view_name": "LayoutView",
            "align_content": null,
            "align_items": null,
            "align_self": null,
            "border": null,
            "bottom": null,
            "display": null,
            "flex": null,
            "flex_flow": null,
            "grid_area": null,
            "grid_auto_columns": null,
            "grid_auto_flow": null,
            "grid_auto_rows": null,
            "grid_column": null,
            "grid_gap": null,
            "grid_row": null,
            "grid_template_areas": null,
            "grid_template_columns": null,
            "grid_template_rows": null,
            "height": null,
            "justify_content": null,
            "justify_items": null,
            "left": null,
            "margin": null,
            "max_height": null,
            "max_width": null,
            "min_height": null,
            "min_width": null,
            "object_fit": null,
            "object_position": null,
            "order": null,
            "overflow": null,
            "overflow_x": null,
            "overflow_y": null,
            "padding": null,
            "right": null,
            "top": null,
            "visibility": null,
            "width": null
          }
        },
        "69449d7cf2fd4c06845c4931140abe33": {
          "model_module": "@jupyter-widgets/controls",
          "model_name": "DescriptionStyleModel",
          "model_module_version": "1.5.0",
          "state": {
            "_model_module": "@jupyter-widgets/controls",
            "_model_module_version": "1.5.0",
            "_model_name": "DescriptionStyleModel",
            "_view_count": null,
            "_view_module": "@jupyter-widgets/base",
            "_view_module_version": "1.2.0",
            "_view_name": "StyleView",
            "description_width": ""
          }
        },
        "e6fa3629517a4ec888526287d2a0ed2c": {
          "model_module": "@jupyter-widgets/base",
          "model_name": "LayoutModel",
          "model_module_version": "1.2.0",
          "state": {
            "_model_module": "@jupyter-widgets/base",
            "_model_module_version": "1.2.0",
            "_model_name": "LayoutModel",
            "_view_count": null,
            "_view_module": "@jupyter-widgets/base",
            "_view_module_version": "1.2.0",
            "_view_name": "LayoutView",
            "align_content": null,
            "align_items": null,
            "align_self": null,
            "border": null,
            "bottom": null,
            "display": null,
            "flex": null,
            "flex_flow": null,
            "grid_area": null,
            "grid_auto_columns": null,
            "grid_auto_flow": null,
            "grid_auto_rows": null,
            "grid_column": null,
            "grid_gap": null,
            "grid_row": null,
            "grid_template_areas": null,
            "grid_template_columns": null,
            "grid_template_rows": null,
            "height": null,
            "justify_content": null,
            "justify_items": null,
            "left": null,
            "margin": null,
            "max_height": null,
            "max_width": null,
            "min_height": null,
            "min_width": null,
            "object_fit": null,
            "object_position": null,
            "order": null,
            "overflow": null,
            "overflow_x": null,
            "overflow_y": null,
            "padding": null,
            "right": null,
            "top": null,
            "visibility": null,
            "width": "20px"
          }
        },
        "81c9fd1c65594b24bbccf788cfb42782": {
          "model_module": "@jupyter-widgets/controls",
          "model_name": "ProgressStyleModel",
          "model_module_version": "1.5.0",
          "state": {
            "_model_module": "@jupyter-widgets/controls",
            "_model_module_version": "1.5.0",
            "_model_name": "ProgressStyleModel",
            "_view_count": null,
            "_view_module": "@jupyter-widgets/base",
            "_view_module_version": "1.2.0",
            "_view_name": "StyleView",
            "bar_color": null,
            "description_width": ""
          }
        },
        "846dbaaa04654233838100997d8962e1": {
          "model_module": "@jupyter-widgets/base",
          "model_name": "LayoutModel",
          "model_module_version": "1.2.0",
          "state": {
            "_model_module": "@jupyter-widgets/base",
            "_model_module_version": "1.2.0",
            "_model_name": "LayoutModel",
            "_view_count": null,
            "_view_module": "@jupyter-widgets/base",
            "_view_module_version": "1.2.0",
            "_view_name": "LayoutView",
            "align_content": null,
            "align_items": null,
            "align_self": null,
            "border": null,
            "bottom": null,
            "display": null,
            "flex": null,
            "flex_flow": null,
            "grid_area": null,
            "grid_auto_columns": null,
            "grid_auto_flow": null,
            "grid_auto_rows": null,
            "grid_column": null,
            "grid_gap": null,
            "grid_row": null,
            "grid_template_areas": null,
            "grid_template_columns": null,
            "grid_template_rows": null,
            "height": null,
            "justify_content": null,
            "justify_items": null,
            "left": null,
            "margin": null,
            "max_height": null,
            "max_width": null,
            "min_height": null,
            "min_width": null,
            "object_fit": null,
            "object_position": null,
            "order": null,
            "overflow": null,
            "overflow_x": null,
            "overflow_y": null,
            "padding": null,
            "right": null,
            "top": null,
            "visibility": null,
            "width": null
          }
        },
        "e3616bf80d0946d0a3175b0a59f6d1ed": {
          "model_module": "@jupyter-widgets/controls",
          "model_name": "DescriptionStyleModel",
          "model_module_version": "1.5.0",
          "state": {
            "_model_module": "@jupyter-widgets/controls",
            "_model_module_version": "1.5.0",
            "_model_name": "DescriptionStyleModel",
            "_view_count": null,
            "_view_module": "@jupyter-widgets/base",
            "_view_module_version": "1.2.0",
            "_view_name": "StyleView",
            "description_width": ""
          }
        },
        "841df2c4b7734020ae8eea3710bcfa9f": {
          "model_module": "@jupyter-widgets/controls",
          "model_name": "HBoxModel",
          "model_module_version": "1.5.0",
          "state": {
            "_dom_classes": [],
            "_model_module": "@jupyter-widgets/controls",
            "_model_module_version": "1.5.0",
            "_model_name": "HBoxModel",
            "_view_count": null,
            "_view_module": "@jupyter-widgets/controls",
            "_view_module_version": "1.5.0",
            "_view_name": "HBoxView",
            "box_style": "",
            "children": [
              "IPY_MODEL_d5064d2f28134d70b0d52f415499e485",
              "IPY_MODEL_4a9fd7041589402fada0b7c6f25e8096",
              "IPY_MODEL_69a33bf183a14e16ab073aaef1d7ced6"
            ],
            "layout": "IPY_MODEL_50506135491544af8c2302cacc4e7aab"
          }
        },
        "d5064d2f28134d70b0d52f415499e485": {
          "model_module": "@jupyter-widgets/controls",
          "model_name": "HTMLModel",
          "model_module_version": "1.5.0",
          "state": {
            "_dom_classes": [],
            "_model_module": "@jupyter-widgets/controls",
            "_model_module_version": "1.5.0",
            "_model_name": "HTMLModel",
            "_view_count": null,
            "_view_module": "@jupyter-widgets/controls",
            "_view_module_version": "1.5.0",
            "_view_name": "HTMLView",
            "description": "",
            "description_tooltip": null,
            "layout": "IPY_MODEL_f15929544042469db0ac3f4dae0a43c9",
            "placeholder": "​",
            "style": "IPY_MODEL_495c057e82784449bc465594506be587",
            "value": ""
          }
        },
        "4a9fd7041589402fada0b7c6f25e8096": {
          "model_module": "@jupyter-widgets/controls",
          "model_name": "FloatProgressModel",
          "model_module_version": "1.5.0",
          "state": {
            "_dom_classes": [],
            "_model_module": "@jupyter-widgets/controls",
            "_model_module_version": "1.5.0",
            "_model_name": "FloatProgressModel",
            "_view_count": null,
            "_view_module": "@jupyter-widgets/controls",
            "_view_module_version": "1.5.0",
            "_view_name": "ProgressView",
            "bar_style": "success",
            "description": "",
            "description_tooltip": null,
            "layout": "IPY_MODEL_c3cd89fa2e0b4dcb8d4889ae7f3ca6e9",
            "max": 1,
            "min": 0,
            "orientation": "horizontal",
            "style": "IPY_MODEL_8e802abdcbff456fa83c6ec527c925ac",
            "value": 1
          }
        },
        "69a33bf183a14e16ab073aaef1d7ced6": {
          "model_module": "@jupyter-widgets/controls",
          "model_name": "HTMLModel",
          "model_module_version": "1.5.0",
          "state": {
            "_dom_classes": [],
            "_model_module": "@jupyter-widgets/controls",
            "_model_module_version": "1.5.0",
            "_model_name": "HTMLModel",
            "_view_count": null,
            "_view_module": "@jupyter-widgets/controls",
            "_view_module_version": "1.5.0",
            "_view_name": "HTMLView",
            "description": "",
            "description_tooltip": null,
            "layout": "IPY_MODEL_91c7184c5e4842b29ec0e0679ba5a49d",
            "placeholder": "​",
            "style": "IPY_MODEL_9f10bf178b8f4b98883e8ec601c3f30b",
            "value": " 15089/? [00:06&lt;00:00, 2902.87ex/s]"
          }
        },
        "50506135491544af8c2302cacc4e7aab": {
          "model_module": "@jupyter-widgets/base",
          "model_name": "LayoutModel",
          "model_module_version": "1.2.0",
          "state": {
            "_model_module": "@jupyter-widgets/base",
            "_model_module_version": "1.2.0",
            "_model_name": "LayoutModel",
            "_view_count": null,
            "_view_module": "@jupyter-widgets/base",
            "_view_module_version": "1.2.0",
            "_view_name": "LayoutView",
            "align_content": null,
            "align_items": null,
            "align_self": null,
            "border": null,
            "bottom": null,
            "display": null,
            "flex": null,
            "flex_flow": null,
            "grid_area": null,
            "grid_auto_columns": null,
            "grid_auto_flow": null,
            "grid_auto_rows": null,
            "grid_column": null,
            "grid_gap": null,
            "grid_row": null,
            "grid_template_areas": null,
            "grid_template_columns": null,
            "grid_template_rows": null,
            "height": null,
            "justify_content": null,
            "justify_items": null,
            "left": null,
            "margin": null,
            "max_height": null,
            "max_width": null,
            "min_height": null,
            "min_width": null,
            "object_fit": null,
            "object_position": null,
            "order": null,
            "overflow": null,
            "overflow_x": null,
            "overflow_y": null,
            "padding": null,
            "right": null,
            "top": null,
            "visibility": null,
            "width": null
          }
        },
        "f15929544042469db0ac3f4dae0a43c9": {
          "model_module": "@jupyter-widgets/base",
          "model_name": "LayoutModel",
          "model_module_version": "1.2.0",
          "state": {
            "_model_module": "@jupyter-widgets/base",
            "_model_module_version": "1.2.0",
            "_model_name": "LayoutModel",
            "_view_count": null,
            "_view_module": "@jupyter-widgets/base",
            "_view_module_version": "1.2.0",
            "_view_name": "LayoutView",
            "align_content": null,
            "align_items": null,
            "align_self": null,
            "border": null,
            "bottom": null,
            "display": null,
            "flex": null,
            "flex_flow": null,
            "grid_area": null,
            "grid_auto_columns": null,
            "grid_auto_flow": null,
            "grid_auto_rows": null,
            "grid_column": null,
            "grid_gap": null,
            "grid_row": null,
            "grid_template_areas": null,
            "grid_template_columns": null,
            "grid_template_rows": null,
            "height": null,
            "justify_content": null,
            "justify_items": null,
            "left": null,
            "margin": null,
            "max_height": null,
            "max_width": null,
            "min_height": null,
            "min_width": null,
            "object_fit": null,
            "object_position": null,
            "order": null,
            "overflow": null,
            "overflow_x": null,
            "overflow_y": null,
            "padding": null,
            "right": null,
            "top": null,
            "visibility": null,
            "width": null
          }
        },
        "495c057e82784449bc465594506be587": {
          "model_module": "@jupyter-widgets/controls",
          "model_name": "DescriptionStyleModel",
          "model_module_version": "1.5.0",
          "state": {
            "_model_module": "@jupyter-widgets/controls",
            "_model_module_version": "1.5.0",
            "_model_name": "DescriptionStyleModel",
            "_view_count": null,
            "_view_module": "@jupyter-widgets/base",
            "_view_module_version": "1.2.0",
            "_view_name": "StyleView",
            "description_width": ""
          }
        },
        "c3cd89fa2e0b4dcb8d4889ae7f3ca6e9": {
          "model_module": "@jupyter-widgets/base",
          "model_name": "LayoutModel",
          "model_module_version": "1.2.0",
          "state": {
            "_model_module": "@jupyter-widgets/base",
            "_model_module_version": "1.2.0",
            "_model_name": "LayoutModel",
            "_view_count": null,
            "_view_module": "@jupyter-widgets/base",
            "_view_module_version": "1.2.0",
            "_view_name": "LayoutView",
            "align_content": null,
            "align_items": null,
            "align_self": null,
            "border": null,
            "bottom": null,
            "display": null,
            "flex": null,
            "flex_flow": null,
            "grid_area": null,
            "grid_auto_columns": null,
            "grid_auto_flow": null,
            "grid_auto_rows": null,
            "grid_column": null,
            "grid_gap": null,
            "grid_row": null,
            "grid_template_areas": null,
            "grid_template_columns": null,
            "grid_template_rows": null,
            "height": null,
            "justify_content": null,
            "justify_items": null,
            "left": null,
            "margin": null,
            "max_height": null,
            "max_width": null,
            "min_height": null,
            "min_width": null,
            "object_fit": null,
            "object_position": null,
            "order": null,
            "overflow": null,
            "overflow_x": null,
            "overflow_y": null,
            "padding": null,
            "right": null,
            "top": null,
            "visibility": null,
            "width": "20px"
          }
        },
        "8e802abdcbff456fa83c6ec527c925ac": {
          "model_module": "@jupyter-widgets/controls",
          "model_name": "ProgressStyleModel",
          "model_module_version": "1.5.0",
          "state": {
            "_model_module": "@jupyter-widgets/controls",
            "_model_module_version": "1.5.0",
            "_model_name": "ProgressStyleModel",
            "_view_count": null,
            "_view_module": "@jupyter-widgets/base",
            "_view_module_version": "1.2.0",
            "_view_name": "StyleView",
            "bar_color": null,
            "description_width": ""
          }
        },
        "91c7184c5e4842b29ec0e0679ba5a49d": {
          "model_module": "@jupyter-widgets/base",
          "model_name": "LayoutModel",
          "model_module_version": "1.2.0",
          "state": {
            "_model_module": "@jupyter-widgets/base",
            "_model_module_version": "1.2.0",
            "_model_name": "LayoutModel",
            "_view_count": null,
            "_view_module": "@jupyter-widgets/base",
            "_view_module_version": "1.2.0",
            "_view_name": "LayoutView",
            "align_content": null,
            "align_items": null,
            "align_self": null,
            "border": null,
            "bottom": null,
            "display": null,
            "flex": null,
            "flex_flow": null,
            "grid_area": null,
            "grid_auto_columns": null,
            "grid_auto_flow": null,
            "grid_auto_rows": null,
            "grid_column": null,
            "grid_gap": null,
            "grid_row": null,
            "grid_template_areas": null,
            "grid_template_columns": null,
            "grid_template_rows": null,
            "height": null,
            "justify_content": null,
            "justify_items": null,
            "left": null,
            "margin": null,
            "max_height": null,
            "max_width": null,
            "min_height": null,
            "min_width": null,
            "object_fit": null,
            "object_position": null,
            "order": null,
            "overflow": null,
            "overflow_x": null,
            "overflow_y": null,
            "padding": null,
            "right": null,
            "top": null,
            "visibility": null,
            "width": null
          }
        },
        "9f10bf178b8f4b98883e8ec601c3f30b": {
          "model_module": "@jupyter-widgets/controls",
          "model_name": "DescriptionStyleModel",
          "model_module_version": "1.5.0",
          "state": {
            "_model_module": "@jupyter-widgets/controls",
            "_model_module_version": "1.5.0",
            "_model_name": "DescriptionStyleModel",
            "_view_count": null,
            "_view_module": "@jupyter-widgets/base",
            "_view_module_version": "1.2.0",
            "_view_name": "StyleView",
            "description_width": ""
          }
        },
        "75b47f4c880848e6b10bafc0cc1c724d": {
          "model_module": "@jupyter-widgets/controls",
          "model_name": "HBoxModel",
          "model_module_version": "1.5.0",
          "state": {
            "_dom_classes": [],
            "_model_module": "@jupyter-widgets/controls",
            "_model_module_version": "1.5.0",
            "_model_name": "HBoxModel",
            "_view_count": null,
            "_view_module": "@jupyter-widgets/controls",
            "_view_module_version": "1.5.0",
            "_view_name": "HBoxView",
            "box_style": "",
            "children": [
              "IPY_MODEL_1ba777f49dd5415687a9dc242045826f",
              "IPY_MODEL_7a71c08fb22742be85dac65f13ab3fbd",
              "IPY_MODEL_cddbf17348c7430d872a831f578ce18e"
            ],
            "layout": "IPY_MODEL_2c53fbcdb87e467caea24367c7d9d31e"
          }
        },
        "1ba777f49dd5415687a9dc242045826f": {
          "model_module": "@jupyter-widgets/controls",
          "model_name": "HTMLModel",
          "model_module_version": "1.5.0",
          "state": {
            "_dom_classes": [],
            "_model_module": "@jupyter-widgets/controls",
            "_model_module_version": "1.5.0",
            "_model_name": "HTMLModel",
            "_view_count": null,
            "_view_module": "@jupyter-widgets/controls",
            "_view_module_version": "1.5.0",
            "_view_name": "HTMLView",
            "description": "",
            "description_tooltip": null,
            "layout": "IPY_MODEL_9d5fa9840b7347a290a0fc3b892813c7",
            "placeholder": "​",
            "style": "IPY_MODEL_1e125f3d5259419298c7e6d621ea4ea3",
            "value": "100%"
          }
        },
        "7a71c08fb22742be85dac65f13ab3fbd": {
          "model_module": "@jupyter-widgets/controls",
          "model_name": "FloatProgressModel",
          "model_module_version": "1.5.0",
          "state": {
            "_dom_classes": [],
            "_model_module": "@jupyter-widgets/controls",
            "_model_module_version": "1.5.0",
            "_model_name": "FloatProgressModel",
            "_view_count": null,
            "_view_module": "@jupyter-widgets/controls",
            "_view_module_version": "1.5.0",
            "_view_name": "ProgressView",
            "bar_style": "success",
            "description": "",
            "description_tooltip": null,
            "layout": "IPY_MODEL_3d68bdf17ae042778b262cd05d46acea",
            "max": 1,
            "min": 0,
            "orientation": "horizontal",
            "style": "IPY_MODEL_3ee46c63c1ba46a0bf0947569c7c8cfd",
            "value": 1
          }
        },
        "cddbf17348c7430d872a831f578ce18e": {
          "model_module": "@jupyter-widgets/controls",
          "model_name": "HTMLModel",
          "model_module_version": "1.5.0",
          "state": {
            "_dom_classes": [],
            "_model_module": "@jupyter-widgets/controls",
            "_model_module_version": "1.5.0",
            "_model_name": "HTMLModel",
            "_view_count": null,
            "_view_module": "@jupyter-widgets/controls",
            "_view_module_version": "1.5.0",
            "_view_name": "HTMLView",
            "description": "",
            "description_tooltip": null,
            "layout": "IPY_MODEL_9f0a63c2b93b4f93a9d051c22bb55ce2",
            "placeholder": "​",
            "style": "IPY_MODEL_65a7f3818dd44383b0d0729156510bce",
            "value": " 1/1 [00:07&lt;00:00,  7.00s/ba]"
          }
        },
        "2c53fbcdb87e467caea24367c7d9d31e": {
          "model_module": "@jupyter-widgets/base",
          "model_name": "LayoutModel",
          "model_module_version": "1.2.0",
          "state": {
            "_model_module": "@jupyter-widgets/base",
            "_model_module_version": "1.2.0",
            "_model_name": "LayoutModel",
            "_view_count": null,
            "_view_module": "@jupyter-widgets/base",
            "_view_module_version": "1.2.0",
            "_view_name": "LayoutView",
            "align_content": null,
            "align_items": null,
            "align_self": null,
            "border": null,
            "bottom": null,
            "display": null,
            "flex": null,
            "flex_flow": null,
            "grid_area": null,
            "grid_auto_columns": null,
            "grid_auto_flow": null,
            "grid_auto_rows": null,
            "grid_column": null,
            "grid_gap": null,
            "grid_row": null,
            "grid_template_areas": null,
            "grid_template_columns": null,
            "grid_template_rows": null,
            "height": null,
            "justify_content": null,
            "justify_items": null,
            "left": null,
            "margin": null,
            "max_height": null,
            "max_width": null,
            "min_height": null,
            "min_width": null,
            "object_fit": null,
            "object_position": null,
            "order": null,
            "overflow": null,
            "overflow_x": null,
            "overflow_y": null,
            "padding": null,
            "right": null,
            "top": null,
            "visibility": null,
            "width": null
          }
        },
        "9d5fa9840b7347a290a0fc3b892813c7": {
          "model_module": "@jupyter-widgets/base",
          "model_name": "LayoutModel",
          "model_module_version": "1.2.0",
          "state": {
            "_model_module": "@jupyter-widgets/base",
            "_model_module_version": "1.2.0",
            "_model_name": "LayoutModel",
            "_view_count": null,
            "_view_module": "@jupyter-widgets/base",
            "_view_module_version": "1.2.0",
            "_view_name": "LayoutView",
            "align_content": null,
            "align_items": null,
            "align_self": null,
            "border": null,
            "bottom": null,
            "display": null,
            "flex": null,
            "flex_flow": null,
            "grid_area": null,
            "grid_auto_columns": null,
            "grid_auto_flow": null,
            "grid_auto_rows": null,
            "grid_column": null,
            "grid_gap": null,
            "grid_row": null,
            "grid_template_areas": null,
            "grid_template_columns": null,
            "grid_template_rows": null,
            "height": null,
            "justify_content": null,
            "justify_items": null,
            "left": null,
            "margin": null,
            "max_height": null,
            "max_width": null,
            "min_height": null,
            "min_width": null,
            "object_fit": null,
            "object_position": null,
            "order": null,
            "overflow": null,
            "overflow_x": null,
            "overflow_y": null,
            "padding": null,
            "right": null,
            "top": null,
            "visibility": null,
            "width": null
          }
        },
        "1e125f3d5259419298c7e6d621ea4ea3": {
          "model_module": "@jupyter-widgets/controls",
          "model_name": "DescriptionStyleModel",
          "model_module_version": "1.5.0",
          "state": {
            "_model_module": "@jupyter-widgets/controls",
            "_model_module_version": "1.5.0",
            "_model_name": "DescriptionStyleModel",
            "_view_count": null,
            "_view_module": "@jupyter-widgets/base",
            "_view_module_version": "1.2.0",
            "_view_name": "StyleView",
            "description_width": ""
          }
        },
        "3d68bdf17ae042778b262cd05d46acea": {
          "model_module": "@jupyter-widgets/base",
          "model_name": "LayoutModel",
          "model_module_version": "1.2.0",
          "state": {
            "_model_module": "@jupyter-widgets/base",
            "_model_module_version": "1.2.0",
            "_model_name": "LayoutModel",
            "_view_count": null,
            "_view_module": "@jupyter-widgets/base",
            "_view_module_version": "1.2.0",
            "_view_name": "LayoutView",
            "align_content": null,
            "align_items": null,
            "align_self": null,
            "border": null,
            "bottom": null,
            "display": null,
            "flex": null,
            "flex_flow": null,
            "grid_area": null,
            "grid_auto_columns": null,
            "grid_auto_flow": null,
            "grid_auto_rows": null,
            "grid_column": null,
            "grid_gap": null,
            "grid_row": null,
            "grid_template_areas": null,
            "grid_template_columns": null,
            "grid_template_rows": null,
            "height": null,
            "justify_content": null,
            "justify_items": null,
            "left": null,
            "margin": null,
            "max_height": null,
            "max_width": null,
            "min_height": null,
            "min_width": null,
            "object_fit": null,
            "object_position": null,
            "order": null,
            "overflow": null,
            "overflow_x": null,
            "overflow_y": null,
            "padding": null,
            "right": null,
            "top": null,
            "visibility": null,
            "width": null
          }
        },
        "3ee46c63c1ba46a0bf0947569c7c8cfd": {
          "model_module": "@jupyter-widgets/controls",
          "model_name": "ProgressStyleModel",
          "model_module_version": "1.5.0",
          "state": {
            "_model_module": "@jupyter-widgets/controls",
            "_model_module_version": "1.5.0",
            "_model_name": "ProgressStyleModel",
            "_view_count": null,
            "_view_module": "@jupyter-widgets/base",
            "_view_module_version": "1.2.0",
            "_view_name": "StyleView",
            "bar_color": null,
            "description_width": ""
          }
        },
        "9f0a63c2b93b4f93a9d051c22bb55ce2": {
          "model_module": "@jupyter-widgets/base",
          "model_name": "LayoutModel",
          "model_module_version": "1.2.0",
          "state": {
            "_model_module": "@jupyter-widgets/base",
            "_model_module_version": "1.2.0",
            "_model_name": "LayoutModel",
            "_view_count": null,
            "_view_module": "@jupyter-widgets/base",
            "_view_module_version": "1.2.0",
            "_view_name": "LayoutView",
            "align_content": null,
            "align_items": null,
            "align_self": null,
            "border": null,
            "bottom": null,
            "display": null,
            "flex": null,
            "flex_flow": null,
            "grid_area": null,
            "grid_auto_columns": null,
            "grid_auto_flow": null,
            "grid_auto_rows": null,
            "grid_column": null,
            "grid_gap": null,
            "grid_row": null,
            "grid_template_areas": null,
            "grid_template_columns": null,
            "grid_template_rows": null,
            "height": null,
            "justify_content": null,
            "justify_items": null,
            "left": null,
            "margin": null,
            "max_height": null,
            "max_width": null,
            "min_height": null,
            "min_width": null,
            "object_fit": null,
            "object_position": null,
            "order": null,
            "overflow": null,
            "overflow_x": null,
            "overflow_y": null,
            "padding": null,
            "right": null,
            "top": null,
            "visibility": null,
            "width": null
          }
        },
        "65a7f3818dd44383b0d0729156510bce": {
          "model_module": "@jupyter-widgets/controls",
          "model_name": "DescriptionStyleModel",
          "model_module_version": "1.5.0",
          "state": {
            "_model_module": "@jupyter-widgets/controls",
            "_model_module_version": "1.5.0",
            "_model_name": "DescriptionStyleModel",
            "_view_count": null,
            "_view_module": "@jupyter-widgets/base",
            "_view_module_version": "1.2.0",
            "_view_name": "StyleView",
            "description_width": ""
          }
        },
        "13d72337dc0e417ab1b4b2b9e309c58f": {
          "model_module": "@jupyter-widgets/controls",
          "model_name": "HBoxModel",
          "model_module_version": "1.5.0",
          "state": {
            "_dom_classes": [],
            "_model_module": "@jupyter-widgets/controls",
            "_model_module_version": "1.5.0",
            "_model_name": "HBoxModel",
            "_view_count": null,
            "_view_module": "@jupyter-widgets/controls",
            "_view_module_version": "1.5.0",
            "_view_name": "HBoxView",
            "box_style": "",
            "children": [
              "IPY_MODEL_471f51e3cc114725969f028b6fb14840",
              "IPY_MODEL_0d52edd4d6cc429f91e7dcdd3a78df67",
              "IPY_MODEL_6e7290f092ad41e3a02cc3140fc96045"
            ],
            "layout": "IPY_MODEL_6a3cdbdc81c74644b4fda89df8e9734e"
          }
        },
        "471f51e3cc114725969f028b6fb14840": {
          "model_module": "@jupyter-widgets/controls",
          "model_name": "HTMLModel",
          "model_module_version": "1.5.0",
          "state": {
            "_dom_classes": [],
            "_model_module": "@jupyter-widgets/controls",
            "_model_module_version": "1.5.0",
            "_model_name": "HTMLModel",
            "_view_count": null,
            "_view_module": "@jupyter-widgets/controls",
            "_view_module_version": "1.5.0",
            "_view_name": "HTMLView",
            "description": "",
            "description_tooltip": null,
            "layout": "IPY_MODEL_fdc6d0ccec99404ea518061c996ffe13",
            "placeholder": "​",
            "style": "IPY_MODEL_5e5a2dc543224b69b979e315c59a788f",
            "value": "100%"
          }
        },
        "0d52edd4d6cc429f91e7dcdd3a78df67": {
          "model_module": "@jupyter-widgets/controls",
          "model_name": "FloatProgressModel",
          "model_module_version": "1.5.0",
          "state": {
            "_dom_classes": [],
            "_model_module": "@jupyter-widgets/controls",
            "_model_module_version": "1.5.0",
            "_model_name": "FloatProgressModel",
            "_view_count": null,
            "_view_module": "@jupyter-widgets/controls",
            "_view_module_version": "1.5.0",
            "_view_name": "ProgressView",
            "bar_style": "success",
            "description": "",
            "description_tooltip": null,
            "layout": "IPY_MODEL_99422e03f80e411988cb4ab7b386dcfe",
            "max": 1,
            "min": 0,
            "orientation": "horizontal",
            "style": "IPY_MODEL_79462c3461534ea3b3d925c929c62755",
            "value": 1
          }
        },
        "6e7290f092ad41e3a02cc3140fc96045": {
          "model_module": "@jupyter-widgets/controls",
          "model_name": "HTMLModel",
          "model_module_version": "1.5.0",
          "state": {
            "_dom_classes": [],
            "_model_module": "@jupyter-widgets/controls",
            "_model_module_version": "1.5.0",
            "_model_name": "HTMLModel",
            "_view_count": null,
            "_view_module": "@jupyter-widgets/controls",
            "_view_module_version": "1.5.0",
            "_view_name": "HTMLView",
            "description": "",
            "description_tooltip": null,
            "layout": "IPY_MODEL_47ac63819fcf487682aed4ef04d5fb49",
            "placeholder": "​",
            "style": "IPY_MODEL_e48e35ba22dc4e5f95dc797a1577fefd",
            "value": " 1/1 [00:00&lt;00:00,  2.14ba/s]"
          }
        },
        "6a3cdbdc81c74644b4fda89df8e9734e": {
          "model_module": "@jupyter-widgets/base",
          "model_name": "LayoutModel",
          "model_module_version": "1.2.0",
          "state": {
            "_model_module": "@jupyter-widgets/base",
            "_model_module_version": "1.2.0",
            "_model_name": "LayoutModel",
            "_view_count": null,
            "_view_module": "@jupyter-widgets/base",
            "_view_module_version": "1.2.0",
            "_view_name": "LayoutView",
            "align_content": null,
            "align_items": null,
            "align_self": null,
            "border": null,
            "bottom": null,
            "display": null,
            "flex": null,
            "flex_flow": null,
            "grid_area": null,
            "grid_auto_columns": null,
            "grid_auto_flow": null,
            "grid_auto_rows": null,
            "grid_column": null,
            "grid_gap": null,
            "grid_row": null,
            "grid_template_areas": null,
            "grid_template_columns": null,
            "grid_template_rows": null,
            "height": null,
            "justify_content": null,
            "justify_items": null,
            "left": null,
            "margin": null,
            "max_height": null,
            "max_width": null,
            "min_height": null,
            "min_width": null,
            "object_fit": null,
            "object_position": null,
            "order": null,
            "overflow": null,
            "overflow_x": null,
            "overflow_y": null,
            "padding": null,
            "right": null,
            "top": null,
            "visibility": null,
            "width": null
          }
        },
        "fdc6d0ccec99404ea518061c996ffe13": {
          "model_module": "@jupyter-widgets/base",
          "model_name": "LayoutModel",
          "model_module_version": "1.2.0",
          "state": {
            "_model_module": "@jupyter-widgets/base",
            "_model_module_version": "1.2.0",
            "_model_name": "LayoutModel",
            "_view_count": null,
            "_view_module": "@jupyter-widgets/base",
            "_view_module_version": "1.2.0",
            "_view_name": "LayoutView",
            "align_content": null,
            "align_items": null,
            "align_self": null,
            "border": null,
            "bottom": null,
            "display": null,
            "flex": null,
            "flex_flow": null,
            "grid_area": null,
            "grid_auto_columns": null,
            "grid_auto_flow": null,
            "grid_auto_rows": null,
            "grid_column": null,
            "grid_gap": null,
            "grid_row": null,
            "grid_template_areas": null,
            "grid_template_columns": null,
            "grid_template_rows": null,
            "height": null,
            "justify_content": null,
            "justify_items": null,
            "left": null,
            "margin": null,
            "max_height": null,
            "max_width": null,
            "min_height": null,
            "min_width": null,
            "object_fit": null,
            "object_position": null,
            "order": null,
            "overflow": null,
            "overflow_x": null,
            "overflow_y": null,
            "padding": null,
            "right": null,
            "top": null,
            "visibility": null,
            "width": null
          }
        },
        "5e5a2dc543224b69b979e315c59a788f": {
          "model_module": "@jupyter-widgets/controls",
          "model_name": "DescriptionStyleModel",
          "model_module_version": "1.5.0",
          "state": {
            "_model_module": "@jupyter-widgets/controls",
            "_model_module_version": "1.5.0",
            "_model_name": "DescriptionStyleModel",
            "_view_count": null,
            "_view_module": "@jupyter-widgets/base",
            "_view_module_version": "1.2.0",
            "_view_name": "StyleView",
            "description_width": ""
          }
        },
        "99422e03f80e411988cb4ab7b386dcfe": {
          "model_module": "@jupyter-widgets/base",
          "model_name": "LayoutModel",
          "model_module_version": "1.2.0",
          "state": {
            "_model_module": "@jupyter-widgets/base",
            "_model_module_version": "1.2.0",
            "_model_name": "LayoutModel",
            "_view_count": null,
            "_view_module": "@jupyter-widgets/base",
            "_view_module_version": "1.2.0",
            "_view_name": "LayoutView",
            "align_content": null,
            "align_items": null,
            "align_self": null,
            "border": null,
            "bottom": null,
            "display": null,
            "flex": null,
            "flex_flow": null,
            "grid_area": null,
            "grid_auto_columns": null,
            "grid_auto_flow": null,
            "grid_auto_rows": null,
            "grid_column": null,
            "grid_gap": null,
            "grid_row": null,
            "grid_template_areas": null,
            "grid_template_columns": null,
            "grid_template_rows": null,
            "height": null,
            "justify_content": null,
            "justify_items": null,
            "left": null,
            "margin": null,
            "max_height": null,
            "max_width": null,
            "min_height": null,
            "min_width": null,
            "object_fit": null,
            "object_position": null,
            "order": null,
            "overflow": null,
            "overflow_x": null,
            "overflow_y": null,
            "padding": null,
            "right": null,
            "top": null,
            "visibility": null,
            "width": null
          }
        },
        "79462c3461534ea3b3d925c929c62755": {
          "model_module": "@jupyter-widgets/controls",
          "model_name": "ProgressStyleModel",
          "model_module_version": "1.5.0",
          "state": {
            "_model_module": "@jupyter-widgets/controls",
            "_model_module_version": "1.5.0",
            "_model_name": "ProgressStyleModel",
            "_view_count": null,
            "_view_module": "@jupyter-widgets/base",
            "_view_module_version": "1.2.0",
            "_view_name": "StyleView",
            "bar_color": null,
            "description_width": ""
          }
        },
        "47ac63819fcf487682aed4ef04d5fb49": {
          "model_module": "@jupyter-widgets/base",
          "model_name": "LayoutModel",
          "model_module_version": "1.2.0",
          "state": {
            "_model_module": "@jupyter-widgets/base",
            "_model_module_version": "1.2.0",
            "_model_name": "LayoutModel",
            "_view_count": null,
            "_view_module": "@jupyter-widgets/base",
            "_view_module_version": "1.2.0",
            "_view_name": "LayoutView",
            "align_content": null,
            "align_items": null,
            "align_self": null,
            "border": null,
            "bottom": null,
            "display": null,
            "flex": null,
            "flex_flow": null,
            "grid_area": null,
            "grid_auto_columns": null,
            "grid_auto_flow": null,
            "grid_auto_rows": null,
            "grid_column": null,
            "grid_gap": null,
            "grid_row": null,
            "grid_template_areas": null,
            "grid_template_columns": null,
            "grid_template_rows": null,
            "height": null,
            "justify_content": null,
            "justify_items": null,
            "left": null,
            "margin": null,
            "max_height": null,
            "max_width": null,
            "min_height": null,
            "min_width": null,
            "object_fit": null,
            "object_position": null,
            "order": null,
            "overflow": null,
            "overflow_x": null,
            "overflow_y": null,
            "padding": null,
            "right": null,
            "top": null,
            "visibility": null,
            "width": null
          }
        },
        "e48e35ba22dc4e5f95dc797a1577fefd": {
          "model_module": "@jupyter-widgets/controls",
          "model_name": "DescriptionStyleModel",
          "model_module_version": "1.5.0",
          "state": {
            "_model_module": "@jupyter-widgets/controls",
            "_model_module_version": "1.5.0",
            "_model_name": "DescriptionStyleModel",
            "_view_count": null,
            "_view_module": "@jupyter-widgets/base",
            "_view_module_version": "1.2.0",
            "_view_name": "StyleView",
            "description_width": ""
          }
        },
        "44bd186973154de89df26a909817d28a": {
          "model_module": "@jupyter-widgets/controls",
          "model_name": "HBoxModel",
          "model_module_version": "1.5.0",
          "state": {
            "_dom_classes": [],
            "_model_module": "@jupyter-widgets/controls",
            "_model_module_version": "1.5.0",
            "_model_name": "HBoxModel",
            "_view_count": null,
            "_view_module": "@jupyter-widgets/controls",
            "_view_module_version": "1.5.0",
            "_view_name": "HBoxView",
            "box_style": "",
            "children": [
              "IPY_MODEL_d7a4c5fda6b34c6aa4deb8b5edff52b9",
              "IPY_MODEL_ccbd3533f7804be98f22ac8acee69d72",
              "IPY_MODEL_06c3df4acec7443b97a42a7f64745c30"
            ],
            "layout": "IPY_MODEL_090795125079477eaa60ce0432c696a2"
          }
        },
        "d7a4c5fda6b34c6aa4deb8b5edff52b9": {
          "model_module": "@jupyter-widgets/controls",
          "model_name": "HTMLModel",
          "model_module_version": "1.5.0",
          "state": {
            "_dom_classes": [],
            "_model_module": "@jupyter-widgets/controls",
            "_model_module_version": "1.5.0",
            "_model_name": "HTMLModel",
            "_view_count": null,
            "_view_module": "@jupyter-widgets/controls",
            "_view_module_version": "1.5.0",
            "_view_name": "HTMLView",
            "description": "",
            "description_tooltip": null,
            "layout": "IPY_MODEL_51deddaccd5f4a90b15635a894db3832",
            "placeholder": "​",
            "style": "IPY_MODEL_dda5c64a14b24667a602a8f7b551328c",
            "value": ""
          }
        },
        "ccbd3533f7804be98f22ac8acee69d72": {
          "model_module": "@jupyter-widgets/controls",
          "model_name": "FloatProgressModel",
          "model_module_version": "1.5.0",
          "state": {
            "_dom_classes": [],
            "_model_module": "@jupyter-widgets/controls",
            "_model_module_version": "1.5.0",
            "_model_name": "FloatProgressModel",
            "_view_count": null,
            "_view_module": "@jupyter-widgets/controls",
            "_view_module_version": "1.5.0",
            "_view_name": "ProgressView",
            "bar_style": "info",
            "description": "",
            "description_tooltip": null,
            "layout": "IPY_MODEL_0f3eb45783c34ac0b2bfb249d04b1818",
            "max": 1,
            "min": 0,
            "orientation": "horizontal",
            "style": "IPY_MODEL_7a4df19c6ec642d7b85a04afa2590fe8",
            "value": 1
          }
        },
        "06c3df4acec7443b97a42a7f64745c30": {
          "model_module": "@jupyter-widgets/controls",
          "model_name": "HTMLModel",
          "model_module_version": "1.5.0",
          "state": {
            "_dom_classes": [],
            "_model_module": "@jupyter-widgets/controls",
            "_model_module_version": "1.5.0",
            "_model_name": "HTMLModel",
            "_view_count": null,
            "_view_module": "@jupyter-widgets/controls",
            "_view_module_version": "1.5.0",
            "_view_name": "HTMLView",
            "description": "",
            "description_tooltip": null,
            "layout": "IPY_MODEL_e837a260eda14087a9c6331bd3fb0d4a",
            "placeholder": "​",
            "style": "IPY_MODEL_833299841bed4451964744074278b0f5",
            "value": " 76794/? [14:31&lt;00:00, 82.48ex/s]"
          }
        },
        "090795125079477eaa60ce0432c696a2": {
          "model_module": "@jupyter-widgets/base",
          "model_name": "LayoutModel",
          "model_module_version": "1.2.0",
          "state": {
            "_model_module": "@jupyter-widgets/base",
            "_model_module_version": "1.2.0",
            "_model_name": "LayoutModel",
            "_view_count": null,
            "_view_module": "@jupyter-widgets/base",
            "_view_module_version": "1.2.0",
            "_view_name": "LayoutView",
            "align_content": null,
            "align_items": null,
            "align_self": null,
            "border": null,
            "bottom": null,
            "display": null,
            "flex": null,
            "flex_flow": null,
            "grid_area": null,
            "grid_auto_columns": null,
            "grid_auto_flow": null,
            "grid_auto_rows": null,
            "grid_column": null,
            "grid_gap": null,
            "grid_row": null,
            "grid_template_areas": null,
            "grid_template_columns": null,
            "grid_template_rows": null,
            "height": null,
            "justify_content": null,
            "justify_items": null,
            "left": null,
            "margin": null,
            "max_height": null,
            "max_width": null,
            "min_height": null,
            "min_width": null,
            "object_fit": null,
            "object_position": null,
            "order": null,
            "overflow": null,
            "overflow_x": null,
            "overflow_y": null,
            "padding": null,
            "right": null,
            "top": null,
            "visibility": null,
            "width": null
          }
        },
        "51deddaccd5f4a90b15635a894db3832": {
          "model_module": "@jupyter-widgets/base",
          "model_name": "LayoutModel",
          "model_module_version": "1.2.0",
          "state": {
            "_model_module": "@jupyter-widgets/base",
            "_model_module_version": "1.2.0",
            "_model_name": "LayoutModel",
            "_view_count": null,
            "_view_module": "@jupyter-widgets/base",
            "_view_module_version": "1.2.0",
            "_view_name": "LayoutView",
            "align_content": null,
            "align_items": null,
            "align_self": null,
            "border": null,
            "bottom": null,
            "display": null,
            "flex": null,
            "flex_flow": null,
            "grid_area": null,
            "grid_auto_columns": null,
            "grid_auto_flow": null,
            "grid_auto_rows": null,
            "grid_column": null,
            "grid_gap": null,
            "grid_row": null,
            "grid_template_areas": null,
            "grid_template_columns": null,
            "grid_template_rows": null,
            "height": null,
            "justify_content": null,
            "justify_items": null,
            "left": null,
            "margin": null,
            "max_height": null,
            "max_width": null,
            "min_height": null,
            "min_width": null,
            "object_fit": null,
            "object_position": null,
            "order": null,
            "overflow": null,
            "overflow_x": null,
            "overflow_y": null,
            "padding": null,
            "right": null,
            "top": null,
            "visibility": null,
            "width": null
          }
        },
        "dda5c64a14b24667a602a8f7b551328c": {
          "model_module": "@jupyter-widgets/controls",
          "model_name": "DescriptionStyleModel",
          "model_module_version": "1.5.0",
          "state": {
            "_model_module": "@jupyter-widgets/controls",
            "_model_module_version": "1.5.0",
            "_model_name": "DescriptionStyleModel",
            "_view_count": null,
            "_view_module": "@jupyter-widgets/base",
            "_view_module_version": "1.2.0",
            "_view_name": "StyleView",
            "description_width": ""
          }
        },
        "0f3eb45783c34ac0b2bfb249d04b1818": {
          "model_module": "@jupyter-widgets/base",
          "model_name": "LayoutModel",
          "model_module_version": "1.2.0",
          "state": {
            "_model_module": "@jupyter-widgets/base",
            "_model_module_version": "1.2.0",
            "_model_name": "LayoutModel",
            "_view_count": null,
            "_view_module": "@jupyter-widgets/base",
            "_view_module_version": "1.2.0",
            "_view_name": "LayoutView",
            "align_content": null,
            "align_items": null,
            "align_self": null,
            "border": null,
            "bottom": null,
            "display": null,
            "flex": null,
            "flex_flow": null,
            "grid_area": null,
            "grid_auto_columns": null,
            "grid_auto_flow": null,
            "grid_auto_rows": null,
            "grid_column": null,
            "grid_gap": null,
            "grid_row": null,
            "grid_template_areas": null,
            "grid_template_columns": null,
            "grid_template_rows": null,
            "height": null,
            "justify_content": null,
            "justify_items": null,
            "left": null,
            "margin": null,
            "max_height": null,
            "max_width": null,
            "min_height": null,
            "min_width": null,
            "object_fit": null,
            "object_position": null,
            "order": null,
            "overflow": null,
            "overflow_x": null,
            "overflow_y": null,
            "padding": null,
            "right": null,
            "top": null,
            "visibility": null,
            "width": "20px"
          }
        },
        "7a4df19c6ec642d7b85a04afa2590fe8": {
          "model_module": "@jupyter-widgets/controls",
          "model_name": "ProgressStyleModel",
          "model_module_version": "1.5.0",
          "state": {
            "_model_module": "@jupyter-widgets/controls",
            "_model_module_version": "1.5.0",
            "_model_name": "ProgressStyleModel",
            "_view_count": null,
            "_view_module": "@jupyter-widgets/base",
            "_view_module_version": "1.2.0",
            "_view_name": "StyleView",
            "bar_color": null,
            "description_width": ""
          }
        },
        "e837a260eda14087a9c6331bd3fb0d4a": {
          "model_module": "@jupyter-widgets/base",
          "model_name": "LayoutModel",
          "model_module_version": "1.2.0",
          "state": {
            "_model_module": "@jupyter-widgets/base",
            "_model_module_version": "1.2.0",
            "_model_name": "LayoutModel",
            "_view_count": null,
            "_view_module": "@jupyter-widgets/base",
            "_view_module_version": "1.2.0",
            "_view_name": "LayoutView",
            "align_content": null,
            "align_items": null,
            "align_self": null,
            "border": null,
            "bottom": null,
            "display": null,
            "flex": null,
            "flex_flow": null,
            "grid_area": null,
            "grid_auto_columns": null,
            "grid_auto_flow": null,
            "grid_auto_rows": null,
            "grid_column": null,
            "grid_gap": null,
            "grid_row": null,
            "grid_template_areas": null,
            "grid_template_columns": null,
            "grid_template_rows": null,
            "height": null,
            "justify_content": null,
            "justify_items": null,
            "left": null,
            "margin": null,
            "max_height": null,
            "max_width": null,
            "min_height": null,
            "min_width": null,
            "object_fit": null,
            "object_position": null,
            "order": null,
            "overflow": null,
            "overflow_x": null,
            "overflow_y": null,
            "padding": null,
            "right": null,
            "top": null,
            "visibility": null,
            "width": null
          }
        },
        "833299841bed4451964744074278b0f5": {
          "model_module": "@jupyter-widgets/controls",
          "model_name": "DescriptionStyleModel",
          "model_module_version": "1.5.0",
          "state": {
            "_model_module": "@jupyter-widgets/controls",
            "_model_module_version": "1.5.0",
            "_model_name": "DescriptionStyleModel",
            "_view_count": null,
            "_view_module": "@jupyter-widgets/base",
            "_view_module_version": "1.2.0",
            "_view_name": "StyleView",
            "description_width": ""
          }
        },
        "7a41fd58d48f4f8b848f39fa6b4ec189": {
          "model_module": "@jupyter-widgets/controls",
          "model_name": "HBoxModel",
          "model_module_version": "1.5.0",
          "state": {
            "_dom_classes": [],
            "_model_module": "@jupyter-widgets/controls",
            "_model_module_version": "1.5.0",
            "_model_name": "HBoxModel",
            "_view_count": null,
            "_view_module": "@jupyter-widgets/controls",
            "_view_module_version": "1.5.0",
            "_view_name": "HBoxView",
            "box_style": "",
            "children": [
              "IPY_MODEL_bfa19f2401da40a7b9fb0eb1b42c68e5",
              "IPY_MODEL_411cd5a5026a4f80a26f683df1376c59",
              "IPY_MODEL_6730169b8f83452e8d2099d3fc682cbc"
            ],
            "layout": "IPY_MODEL_f51cbe9f8d9d4bf598374a25a2a8cc7a"
          }
        },
        "bfa19f2401da40a7b9fb0eb1b42c68e5": {
          "model_module": "@jupyter-widgets/controls",
          "model_name": "HTMLModel",
          "model_module_version": "1.5.0",
          "state": {
            "_dom_classes": [],
            "_model_module": "@jupyter-widgets/controls",
            "_model_module_version": "1.5.0",
            "_model_name": "HTMLModel",
            "_view_count": null,
            "_view_module": "@jupyter-widgets/controls",
            "_view_module_version": "1.5.0",
            "_view_name": "HTMLView",
            "description": "",
            "description_tooltip": null,
            "layout": "IPY_MODEL_27fc6e2834af4d349da685f3bde9d278",
            "placeholder": "​",
            "style": "IPY_MODEL_4092bfd8f43c4df3891da278c1422bd4",
            "value": "Downloading: "
          }
        },
        "411cd5a5026a4f80a26f683df1376c59": {
          "model_module": "@jupyter-widgets/controls",
          "model_name": "FloatProgressModel",
          "model_module_version": "1.5.0",
          "state": {
            "_dom_classes": [],
            "_model_module": "@jupyter-widgets/controls",
            "_model_module_version": "1.5.0",
            "_model_name": "FloatProgressModel",
            "_view_count": null,
            "_view_module": "@jupyter-widgets/controls",
            "_view_module_version": "1.5.0",
            "_view_name": "ProgressView",
            "bar_style": "success",
            "description": "",
            "description_tooltip": null,
            "layout": "IPY_MODEL_aa51e3136b8543978213eb77224c25e2",
            "max": 1901,
            "min": 0,
            "orientation": "horizontal",
            "style": "IPY_MODEL_3d6fa872024046f1bfefec77c4f567a0",
            "value": 1901
          }
        },
        "6730169b8f83452e8d2099d3fc682cbc": {
          "model_module": "@jupyter-widgets/controls",
          "model_name": "HTMLModel",
          "model_module_version": "1.5.0",
          "state": {
            "_dom_classes": [],
            "_model_module": "@jupyter-widgets/controls",
            "_model_module_version": "1.5.0",
            "_model_name": "HTMLModel",
            "_view_count": null,
            "_view_module": "@jupyter-widgets/controls",
            "_view_module_version": "1.5.0",
            "_view_name": "HTMLView",
            "description": "",
            "description_tooltip": null,
            "layout": "IPY_MODEL_8e8827b8115c4066a8a2f1088ffc9c19",
            "placeholder": "​",
            "style": "IPY_MODEL_c8a1d42e79794e898d6b81ca1bd4f24f",
            "value": " 4.48k/? [00:00&lt;00:00, 281kB/s]"
          }
        },
        "f51cbe9f8d9d4bf598374a25a2a8cc7a": {
          "model_module": "@jupyter-widgets/base",
          "model_name": "LayoutModel",
          "model_module_version": "1.2.0",
          "state": {
            "_model_module": "@jupyter-widgets/base",
            "_model_module_version": "1.2.0",
            "_model_name": "LayoutModel",
            "_view_count": null,
            "_view_module": "@jupyter-widgets/base",
            "_view_module_version": "1.2.0",
            "_view_name": "LayoutView",
            "align_content": null,
            "align_items": null,
            "align_self": null,
            "border": null,
            "bottom": null,
            "display": null,
            "flex": null,
            "flex_flow": null,
            "grid_area": null,
            "grid_auto_columns": null,
            "grid_auto_flow": null,
            "grid_auto_rows": null,
            "grid_column": null,
            "grid_gap": null,
            "grid_row": null,
            "grid_template_areas": null,
            "grid_template_columns": null,
            "grid_template_rows": null,
            "height": null,
            "justify_content": null,
            "justify_items": null,
            "left": null,
            "margin": null,
            "max_height": null,
            "max_width": null,
            "min_height": null,
            "min_width": null,
            "object_fit": null,
            "object_position": null,
            "order": null,
            "overflow": null,
            "overflow_x": null,
            "overflow_y": null,
            "padding": null,
            "right": null,
            "top": null,
            "visibility": null,
            "width": null
          }
        },
        "27fc6e2834af4d349da685f3bde9d278": {
          "model_module": "@jupyter-widgets/base",
          "model_name": "LayoutModel",
          "model_module_version": "1.2.0",
          "state": {
            "_model_module": "@jupyter-widgets/base",
            "_model_module_version": "1.2.0",
            "_model_name": "LayoutModel",
            "_view_count": null,
            "_view_module": "@jupyter-widgets/base",
            "_view_module_version": "1.2.0",
            "_view_name": "LayoutView",
            "align_content": null,
            "align_items": null,
            "align_self": null,
            "border": null,
            "bottom": null,
            "display": null,
            "flex": null,
            "flex_flow": null,
            "grid_area": null,
            "grid_auto_columns": null,
            "grid_auto_flow": null,
            "grid_auto_rows": null,
            "grid_column": null,
            "grid_gap": null,
            "grid_row": null,
            "grid_template_areas": null,
            "grid_template_columns": null,
            "grid_template_rows": null,
            "height": null,
            "justify_content": null,
            "justify_items": null,
            "left": null,
            "margin": null,
            "max_height": null,
            "max_width": null,
            "min_height": null,
            "min_width": null,
            "object_fit": null,
            "object_position": null,
            "order": null,
            "overflow": null,
            "overflow_x": null,
            "overflow_y": null,
            "padding": null,
            "right": null,
            "top": null,
            "visibility": null,
            "width": null
          }
        },
        "4092bfd8f43c4df3891da278c1422bd4": {
          "model_module": "@jupyter-widgets/controls",
          "model_name": "DescriptionStyleModel",
          "model_module_version": "1.5.0",
          "state": {
            "_model_module": "@jupyter-widgets/controls",
            "_model_module_version": "1.5.0",
            "_model_name": "DescriptionStyleModel",
            "_view_count": null,
            "_view_module": "@jupyter-widgets/base",
            "_view_module_version": "1.2.0",
            "_view_name": "StyleView",
            "description_width": ""
          }
        },
        "aa51e3136b8543978213eb77224c25e2": {
          "model_module": "@jupyter-widgets/base",
          "model_name": "LayoutModel",
          "model_module_version": "1.2.0",
          "state": {
            "_model_module": "@jupyter-widgets/base",
            "_model_module_version": "1.2.0",
            "_model_name": "LayoutModel",
            "_view_count": null,
            "_view_module": "@jupyter-widgets/base",
            "_view_module_version": "1.2.0",
            "_view_name": "LayoutView",
            "align_content": null,
            "align_items": null,
            "align_self": null,
            "border": null,
            "bottom": null,
            "display": null,
            "flex": null,
            "flex_flow": null,
            "grid_area": null,
            "grid_auto_columns": null,
            "grid_auto_flow": null,
            "grid_auto_rows": null,
            "grid_column": null,
            "grid_gap": null,
            "grid_row": null,
            "grid_template_areas": null,
            "grid_template_columns": null,
            "grid_template_rows": null,
            "height": null,
            "justify_content": null,
            "justify_items": null,
            "left": null,
            "margin": null,
            "max_height": null,
            "max_width": null,
            "min_height": null,
            "min_width": null,
            "object_fit": null,
            "object_position": null,
            "order": null,
            "overflow": null,
            "overflow_x": null,
            "overflow_y": null,
            "padding": null,
            "right": null,
            "top": null,
            "visibility": null,
            "width": null
          }
        },
        "3d6fa872024046f1bfefec77c4f567a0": {
          "model_module": "@jupyter-widgets/controls",
          "model_name": "ProgressStyleModel",
          "model_module_version": "1.5.0",
          "state": {
            "_model_module": "@jupyter-widgets/controls",
            "_model_module_version": "1.5.0",
            "_model_name": "ProgressStyleModel",
            "_view_count": null,
            "_view_module": "@jupyter-widgets/base",
            "_view_module_version": "1.2.0",
            "_view_name": "StyleView",
            "bar_color": null,
            "description_width": ""
          }
        },
        "8e8827b8115c4066a8a2f1088ffc9c19": {
          "model_module": "@jupyter-widgets/base",
          "model_name": "LayoutModel",
          "model_module_version": "1.2.0",
          "state": {
            "_model_module": "@jupyter-widgets/base",
            "_model_module_version": "1.2.0",
            "_model_name": "LayoutModel",
            "_view_count": null,
            "_view_module": "@jupyter-widgets/base",
            "_view_module_version": "1.2.0",
            "_view_name": "LayoutView",
            "align_content": null,
            "align_items": null,
            "align_self": null,
            "border": null,
            "bottom": null,
            "display": null,
            "flex": null,
            "flex_flow": null,
            "grid_area": null,
            "grid_auto_columns": null,
            "grid_auto_flow": null,
            "grid_auto_rows": null,
            "grid_column": null,
            "grid_gap": null,
            "grid_row": null,
            "grid_template_areas": null,
            "grid_template_columns": null,
            "grid_template_rows": null,
            "height": null,
            "justify_content": null,
            "justify_items": null,
            "left": null,
            "margin": null,
            "max_height": null,
            "max_width": null,
            "min_height": null,
            "min_width": null,
            "object_fit": null,
            "object_position": null,
            "order": null,
            "overflow": null,
            "overflow_x": null,
            "overflow_y": null,
            "padding": null,
            "right": null,
            "top": null,
            "visibility": null,
            "width": null
          }
        },
        "c8a1d42e79794e898d6b81ca1bd4f24f": {
          "model_module": "@jupyter-widgets/controls",
          "model_name": "DescriptionStyleModel",
          "model_module_version": "1.5.0",
          "state": {
            "_model_module": "@jupyter-widgets/controls",
            "_model_module_version": "1.5.0",
            "_model_name": "DescriptionStyleModel",
            "_view_count": null,
            "_view_module": "@jupyter-widgets/base",
            "_view_module_version": "1.2.0",
            "_view_name": "StyleView",
            "description_width": ""
          }
        },
        "809fc410121a4c018549950056ae6fee": {
          "model_module": "@jupyter-widgets/controls",
          "model_name": "HBoxModel",
          "model_module_version": "1.5.0",
          "state": {
            "_dom_classes": [],
            "_model_module": "@jupyter-widgets/controls",
            "_model_module_version": "1.5.0",
            "_model_name": "HBoxModel",
            "_view_count": null,
            "_view_module": "@jupyter-widgets/controls",
            "_view_module_version": "1.5.0",
            "_view_name": "HBoxView",
            "box_style": "",
            "children": [
              "IPY_MODEL_4603b6b1f0204970b59d9126c2bb59f1",
              "IPY_MODEL_cef34391e28b49129d7404960082da06",
              "IPY_MODEL_51356c216a8347c3ad7ae66fbae73759"
            ],
            "layout": "IPY_MODEL_2f933159cf6343a69e84aa3e6ac4154f"
          }
        },
        "4603b6b1f0204970b59d9126c2bb59f1": {
          "model_module": "@jupyter-widgets/controls",
          "model_name": "HTMLModel",
          "model_module_version": "1.5.0",
          "state": {
            "_dom_classes": [],
            "_model_module": "@jupyter-widgets/controls",
            "_model_module_version": "1.5.0",
            "_model_name": "HTMLModel",
            "_view_count": null,
            "_view_module": "@jupyter-widgets/controls",
            "_view_module_version": "1.5.0",
            "_view_name": "HTMLView",
            "description": "",
            "description_tooltip": null,
            "layout": "IPY_MODEL_e2ad08a151c740138a9e3383ca6debee",
            "placeholder": "​",
            "style": "IPY_MODEL_db9cff23bbaf45e89cef1d0f06a2e1b1",
            "value": "Downloading (…)lve/main/config.json: 100%"
          }
        },
        "cef34391e28b49129d7404960082da06": {
          "model_module": "@jupyter-widgets/controls",
          "model_name": "FloatProgressModel",
          "model_module_version": "1.5.0",
          "state": {
            "_dom_classes": [],
            "_model_module": "@jupyter-widgets/controls",
            "_model_module_version": "1.5.0",
            "_model_name": "FloatProgressModel",
            "_view_count": null,
            "_view_module": "@jupyter-widgets/controls",
            "_view_module_version": "1.5.0",
            "_view_name": "ProgressView",
            "bar_style": "success",
            "description": "",
            "description_tooltip": null,
            "layout": "IPY_MODEL_816b246e1392437daca778306b008040",
            "max": 1568,
            "min": 0,
            "orientation": "horizontal",
            "style": "IPY_MODEL_676ee205ecda480db8aafd2c59fb474a",
            "value": 1568
          }
        },
        "51356c216a8347c3ad7ae66fbae73759": {
          "model_module": "@jupyter-widgets/controls",
          "model_name": "HTMLModel",
          "model_module_version": "1.5.0",
          "state": {
            "_dom_classes": [],
            "_model_module": "@jupyter-widgets/controls",
            "_model_module_version": "1.5.0",
            "_model_name": "HTMLModel",
            "_view_count": null,
            "_view_module": "@jupyter-widgets/controls",
            "_view_module_version": "1.5.0",
            "_view_name": "HTMLView",
            "description": "",
            "description_tooltip": null,
            "layout": "IPY_MODEL_578152fa31fd442fa30f477bef159639",
            "placeholder": "​",
            "style": "IPY_MODEL_26b6064427564f69a5ef40ac33353348",
            "value": " 1.57k/1.57k [00:00&lt;00:00, 139kB/s]"
          }
        },
        "2f933159cf6343a69e84aa3e6ac4154f": {
          "model_module": "@jupyter-widgets/base",
          "model_name": "LayoutModel",
          "model_module_version": "1.2.0",
          "state": {
            "_model_module": "@jupyter-widgets/base",
            "_model_module_version": "1.2.0",
            "_model_name": "LayoutModel",
            "_view_count": null,
            "_view_module": "@jupyter-widgets/base",
            "_view_module_version": "1.2.0",
            "_view_name": "LayoutView",
            "align_content": null,
            "align_items": null,
            "align_self": null,
            "border": null,
            "bottom": null,
            "display": null,
            "flex": null,
            "flex_flow": null,
            "grid_area": null,
            "grid_auto_columns": null,
            "grid_auto_flow": null,
            "grid_auto_rows": null,
            "grid_column": null,
            "grid_gap": null,
            "grid_row": null,
            "grid_template_areas": null,
            "grid_template_columns": null,
            "grid_template_rows": null,
            "height": null,
            "justify_content": null,
            "justify_items": null,
            "left": null,
            "margin": null,
            "max_height": null,
            "max_width": null,
            "min_height": null,
            "min_width": null,
            "object_fit": null,
            "object_position": null,
            "order": null,
            "overflow": null,
            "overflow_x": null,
            "overflow_y": null,
            "padding": null,
            "right": null,
            "top": null,
            "visibility": null,
            "width": null
          }
        },
        "e2ad08a151c740138a9e3383ca6debee": {
          "model_module": "@jupyter-widgets/base",
          "model_name": "LayoutModel",
          "model_module_version": "1.2.0",
          "state": {
            "_model_module": "@jupyter-widgets/base",
            "_model_module_version": "1.2.0",
            "_model_name": "LayoutModel",
            "_view_count": null,
            "_view_module": "@jupyter-widgets/base",
            "_view_module_version": "1.2.0",
            "_view_name": "LayoutView",
            "align_content": null,
            "align_items": null,
            "align_self": null,
            "border": null,
            "bottom": null,
            "display": null,
            "flex": null,
            "flex_flow": null,
            "grid_area": null,
            "grid_auto_columns": null,
            "grid_auto_flow": null,
            "grid_auto_rows": null,
            "grid_column": null,
            "grid_gap": null,
            "grid_row": null,
            "grid_template_areas": null,
            "grid_template_columns": null,
            "grid_template_rows": null,
            "height": null,
            "justify_content": null,
            "justify_items": null,
            "left": null,
            "margin": null,
            "max_height": null,
            "max_width": null,
            "min_height": null,
            "min_width": null,
            "object_fit": null,
            "object_position": null,
            "order": null,
            "overflow": null,
            "overflow_x": null,
            "overflow_y": null,
            "padding": null,
            "right": null,
            "top": null,
            "visibility": null,
            "width": null
          }
        },
        "db9cff23bbaf45e89cef1d0f06a2e1b1": {
          "model_module": "@jupyter-widgets/controls",
          "model_name": "DescriptionStyleModel",
          "model_module_version": "1.5.0",
          "state": {
            "_model_module": "@jupyter-widgets/controls",
            "_model_module_version": "1.5.0",
            "_model_name": "DescriptionStyleModel",
            "_view_count": null,
            "_view_module": "@jupyter-widgets/base",
            "_view_module_version": "1.2.0",
            "_view_name": "StyleView",
            "description_width": ""
          }
        },
        "816b246e1392437daca778306b008040": {
          "model_module": "@jupyter-widgets/base",
          "model_name": "LayoutModel",
          "model_module_version": "1.2.0",
          "state": {
            "_model_module": "@jupyter-widgets/base",
            "_model_module_version": "1.2.0",
            "_model_name": "LayoutModel",
            "_view_count": null,
            "_view_module": "@jupyter-widgets/base",
            "_view_module_version": "1.2.0",
            "_view_name": "LayoutView",
            "align_content": null,
            "align_items": null,
            "align_self": null,
            "border": null,
            "bottom": null,
            "display": null,
            "flex": null,
            "flex_flow": null,
            "grid_area": null,
            "grid_auto_columns": null,
            "grid_auto_flow": null,
            "grid_auto_rows": null,
            "grid_column": null,
            "grid_gap": null,
            "grid_row": null,
            "grid_template_areas": null,
            "grid_template_columns": null,
            "grid_template_rows": null,
            "height": null,
            "justify_content": null,
            "justify_items": null,
            "left": null,
            "margin": null,
            "max_height": null,
            "max_width": null,
            "min_height": null,
            "min_width": null,
            "object_fit": null,
            "object_position": null,
            "order": null,
            "overflow": null,
            "overflow_x": null,
            "overflow_y": null,
            "padding": null,
            "right": null,
            "top": null,
            "visibility": null,
            "width": null
          }
        },
        "676ee205ecda480db8aafd2c59fb474a": {
          "model_module": "@jupyter-widgets/controls",
          "model_name": "ProgressStyleModel",
          "model_module_version": "1.5.0",
          "state": {
            "_model_module": "@jupyter-widgets/controls",
            "_model_module_version": "1.5.0",
            "_model_name": "ProgressStyleModel",
            "_view_count": null,
            "_view_module": "@jupyter-widgets/base",
            "_view_module_version": "1.2.0",
            "_view_name": "StyleView",
            "bar_color": null,
            "description_width": ""
          }
        },
        "578152fa31fd442fa30f477bef159639": {
          "model_module": "@jupyter-widgets/base",
          "model_name": "LayoutModel",
          "model_module_version": "1.2.0",
          "state": {
            "_model_module": "@jupyter-widgets/base",
            "_model_module_version": "1.2.0",
            "_model_name": "LayoutModel",
            "_view_count": null,
            "_view_module": "@jupyter-widgets/base",
            "_view_module_version": "1.2.0",
            "_view_name": "LayoutView",
            "align_content": null,
            "align_items": null,
            "align_self": null,
            "border": null,
            "bottom": null,
            "display": null,
            "flex": null,
            "flex_flow": null,
            "grid_area": null,
            "grid_auto_columns": null,
            "grid_auto_flow": null,
            "grid_auto_rows": null,
            "grid_column": null,
            "grid_gap": null,
            "grid_row": null,
            "grid_template_areas": null,
            "grid_template_columns": null,
            "grid_template_rows": null,
            "height": null,
            "justify_content": null,
            "justify_items": null,
            "left": null,
            "margin": null,
            "max_height": null,
            "max_width": null,
            "min_height": null,
            "min_width": null,
            "object_fit": null,
            "object_position": null,
            "order": null,
            "overflow": null,
            "overflow_x": null,
            "overflow_y": null,
            "padding": null,
            "right": null,
            "top": null,
            "visibility": null,
            "width": null
          }
        },
        "26b6064427564f69a5ef40ac33353348": {
          "model_module": "@jupyter-widgets/controls",
          "model_name": "DescriptionStyleModel",
          "model_module_version": "1.5.0",
          "state": {
            "_model_module": "@jupyter-widgets/controls",
            "_model_module_version": "1.5.0",
            "_model_name": "DescriptionStyleModel",
            "_view_count": null,
            "_view_module": "@jupyter-widgets/base",
            "_view_module_version": "1.2.0",
            "_view_name": "StyleView",
            "description_width": ""
          }
        },
        "0c07125a619b4c67ab4098e4bf8a6e3d": {
          "model_module": "@jupyter-widgets/controls",
          "model_name": "HBoxModel",
          "model_module_version": "1.5.0",
          "state": {
            "_dom_classes": [],
            "_model_module": "@jupyter-widgets/controls",
            "_model_module_version": "1.5.0",
            "_model_name": "HBoxModel",
            "_view_count": null,
            "_view_module": "@jupyter-widgets/controls",
            "_view_module_version": "1.5.0",
            "_view_name": "HBoxView",
            "box_style": "",
            "children": [
              "IPY_MODEL_c16450875f4a48d78ebe1827a2763c11",
              "IPY_MODEL_7d216c6077314cc780eb27f41aa24d72",
              "IPY_MODEL_2f5fed46713644019b6d32194d7ad599"
            ],
            "layout": "IPY_MODEL_a5c8cda06ff841ecabd0d512bfdae679"
          }
        },
        "c16450875f4a48d78ebe1827a2763c11": {
          "model_module": "@jupyter-widgets/controls",
          "model_name": "HTMLModel",
          "model_module_version": "1.5.0",
          "state": {
            "_dom_classes": [],
            "_model_module": "@jupyter-widgets/controls",
            "_model_module_version": "1.5.0",
            "_model_name": "HTMLModel",
            "_view_count": null,
            "_view_module": "@jupyter-widgets/controls",
            "_view_module_version": "1.5.0",
            "_view_name": "HTMLView",
            "description": "",
            "description_tooltip": null,
            "layout": "IPY_MODEL_24b6863708274e7892447408c50c6ccb",
            "placeholder": "​",
            "style": "IPY_MODEL_4c5a32a3146e4a899ca2c18224f84474",
            "value": "Downloading pytorch_model.bin: 100%"
          }
        },
        "7d216c6077314cc780eb27f41aa24d72": {
          "model_module": "@jupyter-widgets/controls",
          "model_name": "FloatProgressModel",
          "model_module_version": "1.5.0",
          "state": {
            "_dom_classes": [],
            "_model_module": "@jupyter-widgets/controls",
            "_model_module_version": "1.5.0",
            "_model_name": "FloatProgressModel",
            "_view_count": null,
            "_view_module": "@jupyter-widgets/controls",
            "_view_module_version": "1.5.0",
            "_view_name": "ProgressView",
            "bar_style": "success",
            "description": "",
            "description_tooltip": null,
            "layout": "IPY_MODEL_97e25b96b56145fc8692fe70ea724190",
            "max": 1269737156,
            "min": 0,
            "orientation": "horizontal",
            "style": "IPY_MODEL_3139c2736c8b4b859dc3586218adf3b1",
            "value": 1269737156
          }
        },
        "2f5fed46713644019b6d32194d7ad599": {
          "model_module": "@jupyter-widgets/controls",
          "model_name": "HTMLModel",
          "model_module_version": "1.5.0",
          "state": {
            "_dom_classes": [],
            "_model_module": "@jupyter-widgets/controls",
            "_model_module_version": "1.5.0",
            "_model_name": "HTMLModel",
            "_view_count": null,
            "_view_module": "@jupyter-widgets/controls",
            "_view_module_version": "1.5.0",
            "_view_name": "HTMLView",
            "description": "",
            "description_tooltip": null,
            "layout": "IPY_MODEL_12e253e613d649faa325a83f9d737422",
            "placeholder": "​",
            "style": "IPY_MODEL_99ac5bc0115f4c3bbfa3b3da1c82b82c",
            "value": " 1.27G/1.27G [00:02&lt;00:00, 441MB/s]"
          }
        },
        "a5c8cda06ff841ecabd0d512bfdae679": {
          "model_module": "@jupyter-widgets/base",
          "model_name": "LayoutModel",
          "model_module_version": "1.2.0",
          "state": {
            "_model_module": "@jupyter-widgets/base",
            "_model_module_version": "1.2.0",
            "_model_name": "LayoutModel",
            "_view_count": null,
            "_view_module": "@jupyter-widgets/base",
            "_view_module_version": "1.2.0",
            "_view_name": "LayoutView",
            "align_content": null,
            "align_items": null,
            "align_self": null,
            "border": null,
            "bottom": null,
            "display": null,
            "flex": null,
            "flex_flow": null,
            "grid_area": null,
            "grid_auto_columns": null,
            "grid_auto_flow": null,
            "grid_auto_rows": null,
            "grid_column": null,
            "grid_gap": null,
            "grid_row": null,
            "grid_template_areas": null,
            "grid_template_columns": null,
            "grid_template_rows": null,
            "height": null,
            "justify_content": null,
            "justify_items": null,
            "left": null,
            "margin": null,
            "max_height": null,
            "max_width": null,
            "min_height": null,
            "min_width": null,
            "object_fit": null,
            "object_position": null,
            "order": null,
            "overflow": null,
            "overflow_x": null,
            "overflow_y": null,
            "padding": null,
            "right": null,
            "top": null,
            "visibility": null,
            "width": null
          }
        },
        "24b6863708274e7892447408c50c6ccb": {
          "model_module": "@jupyter-widgets/base",
          "model_name": "LayoutModel",
          "model_module_version": "1.2.0",
          "state": {
            "_model_module": "@jupyter-widgets/base",
            "_model_module_version": "1.2.0",
            "_model_name": "LayoutModel",
            "_view_count": null,
            "_view_module": "@jupyter-widgets/base",
            "_view_module_version": "1.2.0",
            "_view_name": "LayoutView",
            "align_content": null,
            "align_items": null,
            "align_self": null,
            "border": null,
            "bottom": null,
            "display": null,
            "flex": null,
            "flex_flow": null,
            "grid_area": null,
            "grid_auto_columns": null,
            "grid_auto_flow": null,
            "grid_auto_rows": null,
            "grid_column": null,
            "grid_gap": null,
            "grid_row": null,
            "grid_template_areas": null,
            "grid_template_columns": null,
            "grid_template_rows": null,
            "height": null,
            "justify_content": null,
            "justify_items": null,
            "left": null,
            "margin": null,
            "max_height": null,
            "max_width": null,
            "min_height": null,
            "min_width": null,
            "object_fit": null,
            "object_position": null,
            "order": null,
            "overflow": null,
            "overflow_x": null,
            "overflow_y": null,
            "padding": null,
            "right": null,
            "top": null,
            "visibility": null,
            "width": null
          }
        },
        "4c5a32a3146e4a899ca2c18224f84474": {
          "model_module": "@jupyter-widgets/controls",
          "model_name": "DescriptionStyleModel",
          "model_module_version": "1.5.0",
          "state": {
            "_model_module": "@jupyter-widgets/controls",
            "_model_module_version": "1.5.0",
            "_model_name": "DescriptionStyleModel",
            "_view_count": null,
            "_view_module": "@jupyter-widgets/base",
            "_view_module_version": "1.2.0",
            "_view_name": "StyleView",
            "description_width": ""
          }
        },
        "97e25b96b56145fc8692fe70ea724190": {
          "model_module": "@jupyter-widgets/base",
          "model_name": "LayoutModel",
          "model_module_version": "1.2.0",
          "state": {
            "_model_module": "@jupyter-widgets/base",
            "_model_module_version": "1.2.0",
            "_model_name": "LayoutModel",
            "_view_count": null,
            "_view_module": "@jupyter-widgets/base",
            "_view_module_version": "1.2.0",
            "_view_name": "LayoutView",
            "align_content": null,
            "align_items": null,
            "align_self": null,
            "border": null,
            "bottom": null,
            "display": null,
            "flex": null,
            "flex_flow": null,
            "grid_area": null,
            "grid_auto_columns": null,
            "grid_auto_flow": null,
            "grid_auto_rows": null,
            "grid_column": null,
            "grid_gap": null,
            "grid_row": null,
            "grid_template_areas": null,
            "grid_template_columns": null,
            "grid_template_rows": null,
            "height": null,
            "justify_content": null,
            "justify_items": null,
            "left": null,
            "margin": null,
            "max_height": null,
            "max_width": null,
            "min_height": null,
            "min_width": null,
            "object_fit": null,
            "object_position": null,
            "order": null,
            "overflow": null,
            "overflow_x": null,
            "overflow_y": null,
            "padding": null,
            "right": null,
            "top": null,
            "visibility": null,
            "width": null
          }
        },
        "3139c2736c8b4b859dc3586218adf3b1": {
          "model_module": "@jupyter-widgets/controls",
          "model_name": "ProgressStyleModel",
          "model_module_version": "1.5.0",
          "state": {
            "_model_module": "@jupyter-widgets/controls",
            "_model_module_version": "1.5.0",
            "_model_name": "ProgressStyleModel",
            "_view_count": null,
            "_view_module": "@jupyter-widgets/base",
            "_view_module_version": "1.2.0",
            "_view_name": "StyleView",
            "bar_color": null,
            "description_width": ""
          }
        },
        "12e253e613d649faa325a83f9d737422": {
          "model_module": "@jupyter-widgets/base",
          "model_name": "LayoutModel",
          "model_module_version": "1.2.0",
          "state": {
            "_model_module": "@jupyter-widgets/base",
            "_model_module_version": "1.2.0",
            "_model_name": "LayoutModel",
            "_view_count": null,
            "_view_module": "@jupyter-widgets/base",
            "_view_module_version": "1.2.0",
            "_view_name": "LayoutView",
            "align_content": null,
            "align_items": null,
            "align_self": null,
            "border": null,
            "bottom": null,
            "display": null,
            "flex": null,
            "flex_flow": null,
            "grid_area": null,
            "grid_auto_columns": null,
            "grid_auto_flow": null,
            "grid_auto_rows": null,
            "grid_column": null,
            "grid_gap": null,
            "grid_row": null,
            "grid_template_areas": null,
            "grid_template_columns": null,
            "grid_template_rows": null,
            "height": null,
            "justify_content": null,
            "justify_items": null,
            "left": null,
            "margin": null,
            "max_height": null,
            "max_width": null,
            "min_height": null,
            "min_width": null,
            "object_fit": null,
            "object_position": null,
            "order": null,
            "overflow": null,
            "overflow_x": null,
            "overflow_y": null,
            "padding": null,
            "right": null,
            "top": null,
            "visibility": null,
            "width": null
          }
        },
        "99ac5bc0115f4c3bbfa3b3da1c82b82c": {
          "model_module": "@jupyter-widgets/controls",
          "model_name": "DescriptionStyleModel",
          "model_module_version": "1.5.0",
          "state": {
            "_model_module": "@jupyter-widgets/controls",
            "_model_module_version": "1.5.0",
            "_model_name": "DescriptionStyleModel",
            "_view_count": null,
            "_view_module": "@jupyter-widgets/base",
            "_view_module_version": "1.2.0",
            "_view_name": "StyleView",
            "description_width": ""
          }
        }
      }
    }
  },
  "cells": [
    {
      "cell_type": "markdown",
      "metadata": {
        "id": "view-in-github",
        "colab_type": "text"
      },
      "source": [
        "<a href=\"https://colab.research.google.com/github/Cirediallo/Models/blob/main/Copie_de_Copy_of_Fine_Tune_XLS_R_on_Common_Voice.ipynb\" target=\"_parent\"><img src=\"https://colab.research.google.com/assets/colab-badge.svg\" alt=\"Open In Colab\"/></a>"
      ]
    },
    {
      "cell_type": "markdown",
      "metadata": {
        "id": "LBSYoWbi-45k"
      },
      "source": [
        "# **Fine-tuning XLS-R for Multi-Lingual ASR with 🤗 Transformers**\n",
        "\n",
        "***New (11/2021)***: *This blog post has been updated to feature XLSR's successor, called [XLS-R](https://huggingface.co/models?other=xls_r)*."
      ]
    },
    {
      "cell_type": "markdown",
      "metadata": {
        "id": "V7YOT2mnUiea"
      },
      "source": [
        "**Wav2Vec2** is a pretrained model for Automatic Speech Recognition (ASR) and was released in [September 2020](https://ai.facebook.com/blog/wav2vec-20-learning-the-structure-of-speech-from-raw-audio/) by *Alexei Baevski, Michael Auli, and Alex Conneau*.  Soon after the superior performance of Wav2Vec2 was demonstrated on one of the most popular English datasets for ASR, called [LibriSpeech](https://huggingface.co/datasets/librispeech_asr), *Facebook AI* presented a multi-lingual version of Wav2Vec2, called [XLSR](https://arxiv.org/abs/2006.13979). XLSR stands for *cross-lingual speech representations* and refers to model's ability to learn speech representations that are useful across multiple languages.\n",
        "\n",
        "XLSR's successor, simply called **XLS-R** (refering to the [*''XLM-R*](https://ai.facebook.com/blog/-xlm-r-state-of-the-art-cross-lingual-understanding-through-self-supervision/) *for Speech''*), was released in [November 2021](https://ai.facebook.com/blog/xls-r-self-supervised-speech-processing-for-128-languages) by *Arun Babu, Changhan Wang, Andros Tjandra, et al.* XLS-R used almost **half a million** hours of audio data in 128 languages for self-supervised pre-training and comes in sizes ranging from 300 milion up to **two billion** parameters. You can find the pretrained checkpoints on the 🤗 Hub:\n",
        "\n",
        "- [**Wav2Vec2-XLS-R-300M**](https://huggingface.co/facebook/wav2vec2-xls-r-300m)\n",
        "- [**Wav2Vec2-XLS-R-1B**](https://huggingface.co/facebook/wav2vec2-xls-r-1b)\n",
        "- [**Wav2Vec2-XLS-R-2B**](https://huggingface.co/facebook/wav2vec2-xls-r-2b)\n",
        "\n",
        "Similar to [BERT's masked language modeling objective](http://jalammar.github.io/illustrated-bert/), XLS-R learns contextualized speech representations by randomly masking feature vectors before passing them to a transformer network during self-supervised pre-training (*i.e.* diagram on the left below). \n",
        "\n",
        "For fine-tuning, a single linear layer is added on top of the pre-trained network to train the model on labeled data of audio downstream tasks such as speech recognition, speech translation and audio classification (*i.e.* diagram on the right below).\n",
        "\n",
        "![wav2vec2_structure](https://raw.githubusercontent.com/patrickvonplaten/scientific_images/master/xls_r.png)\n",
        "\n",
        "XLS-R shows impressive improvements over previous state-of-the-art results on both speech recognition, speech translation and speaker/language identification, *cf.* with Table 3-6, Table 7-10, and Table 11-12 respectively of the official [paper](https://ai.facebook.com/blog/xls-r-self-supervised-speech-processing-for-128-languages)."
      ]
    },
    {
      "cell_type": "markdown",
      "metadata": {
        "id": "nT_QrfWtsxIz"
      },
      "source": [
        "## Notebook Setup"
      ]
    },
    {
      "cell_type": "markdown",
      "metadata": {
        "id": "kruqixOYHaIo"
      },
      "source": [
        "\n",
        "In this notebook, we will give an in-detail explanation of how XLS-R - more specifically the pre-trained checkpoint [**Wav2Vec2-XLS-R-300M**](https://huggingface.co/facebook/wav2vec2-xls-r-300m) - can be fine-tuned for ASR.  \n",
        "\n",
        "For demonstration purposes, we fine-tune the model on the low resource ASR dataset of [Common Voice](https://huggingface.co/datasets/common_voice) that contains only *ca.* 4h of validated training data."
      ]
    },
    {
      "cell_type": "markdown",
      "metadata": {
        "id": "Gx9OdDYrCtQ1"
      },
      "source": [
        "XLS-R is fine-tuned using Connectionist Temporal Classification (CTC), which is an algorithm that is used to train neural networks for sequence-to-sequence problems, such as ASR and handwriting recognition. \n",
        "\n",
        "I highly recommend reading the well-written blog post [*Sequence Modeling with CTC (2017)*](https://distill.pub/2017/ctc/) by Awni Hannun."
      ]
    },
    {
      "cell_type": "markdown",
      "metadata": {
        "id": "wcHuXIaWyHZU"
      },
      "source": [
        "First, let's try to get a good GPU in our colab! With Google Colab's free version it's sadly becoming much harder to get access to a good GPU. With Google Colab Pro, however, one should easily get either a V100 or P100 GPU."
      ]
    },
    {
      "cell_type": "code",
      "metadata": {
        "colab": {
          "base_uri": "https://localhost:8080/"
        },
        "id": "YELVqGxMxnbG",
        "outputId": "1ab7eb67-409d-4371-b99e-7eb1171cb5fb"
      },
      "source": [
        "gpu_info = !nvidia-smi\n",
        "gpu_info = '\\n'.join(gpu_info)\n",
        "if gpu_info.find('failed') >= 0:\n",
        "  print('Not connected to a GPU')\n",
        "else:\n",
        "  print(gpu_info)"
      ],
      "execution_count": null,
      "outputs": [
        {
          "name": "stdout",
          "output_type": "stream",
          "text": [
            "Fri Nov 12 14:31:29 2021       \n",
            "+-----------------------------------------------------------------------------+\n",
            "| NVIDIA-SMI 495.44       Driver Version: 460.32.03    CUDA Version: 11.2     |\n",
            "|-------------------------------+----------------------+----------------------+\n",
            "| GPU  Name        Persistence-M| Bus-Id        Disp.A | Volatile Uncorr. ECC |\n",
            "| Fan  Temp  Perf  Pwr:Usage/Cap|         Memory-Usage | GPU-Util  Compute M. |\n",
            "|                               |                      |               MIG M. |\n",
            "|===============================+======================+======================|\n",
            "|   0  Tesla P100-PCIE...  Off  | 00000000:00:04.0 Off |                    0 |\n",
            "| N/A   41C    P0    26W / 250W |      0MiB / 16280MiB |      0%      Default |\n",
            "|                               |                      |                  N/A |\n",
            "+-------------------------------+----------------------+----------------------+\n",
            "                                                                               \n",
            "+-----------------------------------------------------------------------------+\n",
            "| Processes:                                                                  |\n",
            "|  GPU   GI   CI        PID   Type   Process name                  GPU Memory |\n",
            "|        ID   ID                                                   Usage      |\n",
            "|=============================================================================|\n",
            "|  No running processes found                                                 |\n",
            "+-----------------------------------------------------------------------------+\n"
          ]
        }
      ]
    },
    {
      "cell_type": "markdown",
      "metadata": {
        "id": "e335hPmdtASZ"
      },
      "source": [
        "Before we start, let's install `datasets` and `transformers`. Also, we need the `torchaudio` to load audio files and `jiwer` to evaluate our fine-tuned model using the [word error rate (WER)](https://huggingface.co/metrics/wer) metric ${}^1$."
      ]
    },
    {
      "cell_type": "code",
      "metadata": {
        "id": "c8eh87Hoee5d"
      },
      "source": [
        "%%capture\n",
        "!pip install datasets==1.18.3\n",
        "!pip install transformers==4.11.3\n",
        "!pip install torchaudio==0.10.0+cu113 -f https://download.pytorch.org/whl/cu113/torch_stable.html\n",
        "!pip install jiwer"
      ],
      "execution_count": 1,
      "outputs": []
    },
    {
      "cell_type": "markdown",
      "metadata": {
        "id": "0xxt_LwxDQlO"
      },
      "source": [
        "We strongly suggest to upload your training checkpoints directly to the [🤗 Hub](https://huggingface.co/) while training. The [🤗 Hub](https://huggingface.co/) has integrated version control so you can be sure that no model checkpoint is getting lost during training. \n",
        "\n",
        "To do so you have to store your authentication token from the Hugging Face website (sign up [here](https://huggingface.co/join) if you haven't already!)"
      ]
    },
    {
      "cell_type": "code",
      "metadata": {
        "colab": {
          "base_uri": "https://localhost:8080/",
          "height": 160,
          "referenced_widgets": [
            "8ae444fbe18a4819bf9629dfa643d673",
            "09e88906af634965a3289a0fb05c2db7",
            "1fa914f72dbe4d2b81decf273232d6fe",
            "084f63ce4798493f83576f20d4d3c66d",
            "46bb2444eb954ca6a9e7ccbff834d480",
            "2a0da2e6e51b433286a130a75f05dc2e",
            "2c0a50015a8c4d3d96a57d098ae993d1",
            "5a55f6aa1c134e20b929bb6a0e5281d6",
            "a9d684fe92c043b19a86b7204a61d751",
            "55be0631cf4a4d19a9a6240bbd32fe2d",
            "6cd763a6278c41eb8411f438aaeb4fc9",
            "0f5f19eeca0c4d7393106eee31c89bf6",
            "4504a9b6c7454d93bfa8ed8b227192ed",
            "9a2c6e5ee26f44ab81aa975edf92139e",
            "0d468feb435b4e1b83e2a5f82c38e0db",
            "a4ae9479bc81485ba200fdf6300602d4",
            "39386518f9ce412eaef26b9d0bde2a3f",
            "41b9aedfaaf24cb88949109e224c4f72",
            "ecdcb0a61fb8431898e667101831f52c",
            "39a2c4941805417f8151c8108868bd2b",
            "ac1fc7ea93bb4dc0adb2efe89bd3b327",
            "8666b743f3324eb38656649f5c5384ff",
            "75768eb1c3784bdf9df624df57fd1b0f",
            "b74943d786bd467f9345c8b36ea7318e",
            "3b828e956c724096893cbc3c2cd76ab6",
            "2f1890296b9b438d9f4515d986f1d0ef",
            "a2861decac1a4768b64859ef2dd0ffd7",
            "4007bbfbb11c4f84bbfda985aa2a5c06",
            "2341e46d4c3e4f48a6a5f2c554bfd21f",
            "c27c16bcda1b46c394ee70b14f056834",
            "89cdf524193447dfb9f762a18f52c60f",
            "d42dbd69d4d34e5bbd017ff42fbd0d09"
          ]
        },
        "id": "mlMSH3T3EazV",
        "outputId": "73b52db9-4e39-4452-ec01-accc73bebf97"
      },
      "source": [
        "from huggingface_hub import notebook_login\n",
        "\n",
        "notebook_login()"
      ],
      "execution_count": 2,
      "outputs": [
        {
          "output_type": "display_data",
          "data": {
            "text/plain": [
              "VBox(children=(HTML(value='<center> <img\\nsrc=https://huggingface.co/front/assets/huggingface_logo-noborder.sv…"
            ],
            "application/vnd.jupyter.widget-view+json": {
              "version_major": 2,
              "version_minor": 0,
              "model_id": "8ae444fbe18a4819bf9629dfa643d673"
            }
          },
          "metadata": {}
        }
      ]
    },
    {
      "cell_type": "markdown",
      "metadata": {
        "id": "ujdZ2TxhElk6"
      },
      "source": [
        "\n",
        "Then you need to install Git-LFS to upload your model checkpoints:"
      ]
    },
    {
      "cell_type": "code",
      "metadata": {
        "id": "WcR-d83OEkqb"
      },
      "source": [
        "%%capture\n",
        "!apt install git-lfs"
      ],
      "execution_count": 3,
      "outputs": []
    },
    {
      "cell_type": "markdown",
      "metadata": {
        "id": "Mn9swf6EQ9Vd"
      },
      "source": [
        "\n",
        "\n",
        "\n",
        "---\n",
        "\n",
        "${}^1$ In the [paper](https://arxiv.org/pdf/2006.13979.pdf), the model was evaluated using the phoneme error rate (PER), but by far the most common metric in ASR is the word error rate (WER). To keep this notebook as general as possible we decided to evaluate the model using WER."
      ]
    },
    {
      "cell_type": "markdown",
      "metadata": {
        "id": "0mW-C1Nt-j7k"
      },
      "source": [
        "## Prepare Data, Tokenizer, Feature Extractor"
      ]
    },
    {
      "cell_type": "markdown",
      "metadata": {
        "id": "BeBosnY9BH3e"
      },
      "source": [
        "ASR models transcribe speech to text, which means that we both need a feature extractor that processes the speech signal to the model's input format, *e.g.* a feature vector, and a tokenizer that processes the model's output format to text. \n",
        "\n",
        "In 🤗 Transformers, the XLS-R model is thus accompanied by both a tokenizer, called [Wav2Vec2CTCTokenizer](https://huggingface.co/transformers/master/model_doc/wav2vec2.html#wav2vec2ctctokenizer), and a feature extractor, called [Wav2Vec2FeatureExtractor](https://huggingface.co/transformers/master/model_doc/wav2vec2.html#wav2vec2featureextractor).\n",
        "\n",
        "Let's start by creating the tokenizer to decode the predicted output classes to the output transcription."
      ]
    },
    {
      "cell_type": "markdown",
      "metadata": {
        "id": "sEXEWEJGQPqD"
      },
      "source": [
        "### Create `Wav2Vec2CTCTokenizer`"
      ]
    },
    {
      "cell_type": "markdown",
      "metadata": {
        "id": "tWmMikuNEKl_"
      },
      "source": [
        "A pre-trained XLS-R model maps the speech signal to a sequence of context representations as illustrated in the figure above. However, for speech recognition the model has to to map this sequence of context representations to its corresponding transcription which means that a linear layer has to be added on top of the transformer block (shown in yellow in the diagram above). This linear layer is used to classifies each context representation to a token class analogous how, *e.g.*, after pretraining a linear layer is added on top of BERT's embeddings for further classification - *cf.* with *'BERT'* section of this [blog post](https://huggingface.co/blog/warm-starting-encoder-decoder)."
      ]
    },
    {
      "cell_type": "markdown",
      "metadata": {
        "id": "v5oRE8XjIUH3"
      },
      "source": [
        "The output size of this layer corresponds to the number of tokens in the vocabulary, which does **not** depend onXLS-R's pretraining task, but only on the labeled dataset used for fine-tuning. So in the first step, we will take a look at the chosen dataset of Common Voice and define a vocabulary based on the transcriptions."
      ]
    },
    {
      "cell_type": "markdown",
      "metadata": {
        "id": "idBczw8mWzgt"
      },
      "source": [
        "First, let's go to Common Voice [official website](https://commonvoice.mozilla.org/en/datasets) and pick a language to fine-tune XLS-R on. For this notebook, we will use Turkish. \n",
        "\n",
        "For each language-specific dataset, you can find a language code corresponding to your chosen language. On [Common Voice](https://commonvoice.mozilla.org/en/datasets), look for the field \"Version\". The language code then corresponds to the prefix before the underscore. For Turkish, *e.g.* the language code is `\"tr\"`.\n",
        "\n",
        "Great, now we can use 🤗 Datasets' simple API to download the data. The dataset name is `\"common_voice\"`, the configuration name corresponds to the language code, which is `\"tr\"` in our case."
      ]
    },
    {
      "cell_type": "markdown",
      "metadata": {
        "id": "bee4g9rpLxll"
      },
      "source": [
        "Common Voice has many different splits including `invalidated`, which refers to data that was not rated as \"clean enough\" to be considered useful. In this notebook, we will only make use of the splits `\"train\"`, `\"validation\"` and `\"test\"`. \n",
        "\n",
        "Because the Turkish dataset is so small, we will merge both the validation and training data into a training dataset and only use the test data for validation."
      ]
    },
    {
      "cell_type": "code",
      "metadata": {
        "colab": {
          "base_uri": "https://localhost:8080/"
        },
        "id": "2MMXcWFFgCXU",
        "outputId": "420f16e5-6a74-4c74-d044-24e0656f7b28"
      },
      "source": [
        "from datasets import load_dataset, load_metric, Audio\n",
        "\n",
        "common_voice_train = load_dataset(\"common_voice\", \"es\", split=\"train\")\n",
        "#common_voice_validation = load_dataset(\"common_voice\", \"es\", split=\"validation\")\n",
        "common_voice_test = load_dataset(\"common_voice\", \"es\", split=\"test\")\n",
        "\n"
      ],
      "execution_count": 1,
      "outputs": [
        {
          "output_type": "stream",
          "name": "stderr",
          "text": [
            "WARNING:datasets.builder:Reusing dataset common_voice (/root/.cache/huggingface/datasets/common_voice/es/6.1.0/5693bfc0feeade582a78c2fb250bc88f52bd86f0a7f1bb22bfee67e715de30fd)\n",
            "WARNING:datasets.builder:Reusing dataset common_voice (/root/.cache/huggingface/datasets/common_voice/es/6.1.0/5693bfc0feeade582a78c2fb250bc88f52bd86f0a7f1bb22bfee67e715de30fd)\n"
          ]
        }
      ]
    },
    {
      "cell_type": "code",
      "source": [
        "common_voice_train"
      ],
      "metadata": {
        "id": "H5Nr__zDoeQd",
        "outputId": "e8f2487b-cd5e-4559-8c5a-8edc862f518b",
        "colab": {
          "base_uri": "https://localhost:8080/"
        }
      },
      "execution_count": 6,
      "outputs": [
        {
          "output_type": "execute_result",
          "data": {
            "text/plain": [
              "Dataset({\n",
              "    features: ['client_id', 'path', 'audio', 'sentence', 'up_votes', 'down_votes', 'age', 'gender', 'accent', 'locale', 'segment'],\n",
              "    num_rows: 161813\n",
              "})"
            ]
          },
          "metadata": {},
          "execution_count": 6
        }
      ]
    },
    {
      "cell_type": "markdown",
      "metadata": {
        "id": "ri5y5N_HMANq"
      },
      "source": [
        "Many ASR datasets only provide the target text, `'sentence'` for each audio array `'audio'` and file `'path'`. Common Voice actually provides much more information about each audio file, such as the `'accent'`, etc. Keeping the notebook as general as possible, we only consider the transcribed text for fine-tuning.\n",
        "\n"
      ]
    },
    {
      "cell_type": "code",
      "metadata": {
        "id": "kbyq6lDgQc2a"
      },
      "source": [
        "common_voice_train = common_voice_train.remove_columns([\"accent\", \"age\", \"client_id\", \"down_votes\", \"gender\", \"locale\", \"segment\", \"up_votes\"])\n",
        "common_voice_test = common_voice_test.remove_columns([\"accent\", \"age\", \"client_id\", \"down_votes\", \"gender\", \"locale\", \"segment\", \"up_votes\"])"
      ],
      "execution_count": 2,
      "outputs": []
    },
    {
      "cell_type": "markdown",
      "metadata": {
        "id": "Go9Hq4e4NDT9"
      },
      "source": [
        "Let's write a short function to display some random samples of the dataset and run it a couple of times to get a feeling for the transcriptions."
      ]
    },
    {
      "cell_type": "code",
      "metadata": {
        "id": "72737oog2F6U"
      },
      "source": [
        "from datasets import ClassLabel\n",
        "import random\n",
        "import pandas as pd\n",
        "from IPython.display import display, HTML\n",
        "\n",
        "def show_random_elements(dataset, num_examples=10):\n",
        "    assert num_examples <= len(dataset), \"Can't pick more elements than there are in the dataset.\"\n",
        "    picks = []\n",
        "    for _ in range(num_examples):\n",
        "        pick = random.randint(0, len(dataset)-1)\n",
        "        while pick in picks:\n",
        "            pick = random.randint(0, len(dataset)-1)\n",
        "        picks.append(pick)\n",
        "    \n",
        "    df = pd.DataFrame(dataset[picks])\n",
        "    display(HTML(df.to_html()))"
      ],
      "execution_count": 3,
      "outputs": []
    },
    {
      "cell_type": "code",
      "metadata": {
        "colab": {
          "base_uri": "https://localhost:8080/",
          "height": 363
        },
        "id": "K_JUmf3G3b9S",
        "outputId": "16557afb-700c-4ea7-c304-d9d736f3aa99"
      },
      "source": [
        "show_random_elements(common_voice_train.remove_columns([\"path\", \"audio\"]), num_examples=10)"
      ],
      "execution_count": 4,
      "outputs": [
        {
          "output_type": "display_data",
          "data": {
            "text/plain": [
              "<IPython.core.display.HTML object>"
            ],
            "text/html": [
              "<table border=\"1\" class=\"dataframe\">\n",
              "  <thead>\n",
              "    <tr style=\"text-align: right;\">\n",
              "      <th></th>\n",
              "      <th>sentence</th>\n",
              "    </tr>\n",
              "  </thead>\n",
              "  <tbody>\n",
              "    <tr>\n",
              "      <th>0</th>\n",
              "      <td>En su lugar, aboga por una red de comunicaciones de dos vías.</td>\n",
              "    </tr>\n",
              "    <tr>\n",
              "      <th>1</th>\n",
              "      <td>Solo para contribuir con la sociedad y su educación.</td>\n",
              "    </tr>\n",
              "    <tr>\n",
              "      <th>2</th>\n",
              "      <td>El pelaje puede parecer verde por la presencia de algas.</td>\n",
              "    </tr>\n",
              "    <tr>\n",
              "      <th>3</th>\n",
              "      <td>El primer día de clase en Costa Rica es a principios de febrero.</td>\n",
              "    </tr>\n",
              "    <tr>\n",
              "      <th>4</th>\n",
              "      <td>Posteriormente, fue cedida al Colegio de Monserrat.</td>\n",
              "    </tr>\n",
              "    <tr>\n",
              "      <th>5</th>\n",
              "      <td>Los morteros modernos en general son derivados directos del Stokes.</td>\n",
              "    </tr>\n",
              "    <tr>\n",
              "      <th>6</th>\n",
              "      <td>Cada diseño individual de cada fabricante individual se cuenta como un tipo individual.</td>\n",
              "    </tr>\n",
              "    <tr>\n",
              "      <th>7</th>\n",
              "      <td>Es originaria de Argentina, islas Malvinas, Bolivia y Chile.</td>\n",
              "    </tr>\n",
              "    <tr>\n",
              "      <th>8</th>\n",
              "      <td>Su sueño era regentar una taberna.</td>\n",
              "    </tr>\n",
              "    <tr>\n",
              "      <th>9</th>\n",
              "      <td>\"Forma parte de la historia \"\"The Key to Time\"\" que abarcaba toda aquella temporada.\"</td>\n",
              "    </tr>\n",
              "  </tbody>\n",
              "</table>"
            ]
          },
          "metadata": {}
        }
      ]
    },
    {
      "cell_type": "markdown",
      "metadata": {
        "id": "fowcOllGNNju"
      },
      "source": [
        "Alright! The transcriptions look fairly clean. Having translated the transcribed sentences, it seems that the language corresponds more to written-out text than noisy dialogue. This makes sense considering that [Common Voice](https://huggingface.co/datasets/common_voice) is a crowd-sourced read speech corpus."
      ]
    },
    {
      "cell_type": "markdown",
      "metadata": {
        "id": "vq7OR50LN49m"
      },
      "source": [
        "We can see that the transcriptions contain some special characters, such as `,.?!;:`. Without a language model, it is much harder to classify speech chunks to such special characters because they don't really correspond to a characteristic sound unit. *E.g.*, the letter `\"s\"` has a more or less clear sound, whereas the special character `\".\"` does not.\n",
        "Also in order to understand the meaning of a speech signal, it is usually not necessary to include special characters in the transcription.\n",
        "\n",
        "Let's simply remove all characters that don't contribute to the meaning of a word and cannot really be represented by an acoustic sound and normalize the text."
      ]
    },
    {
      "cell_type": "code",
      "metadata": {
        "id": "svKzVJ_hQGK6"
      },
      "source": [
        "import re\n",
        "chars_to_remove_regex = '[\\,\\?\\.\\!\\;\\¡\\:\\¿\\\"\\“\\%\\‘\\”\\�\\']'\n",
        "\n",
        "def remove_special_characters(batch):\n",
        "    batch[\"sentence\"] = re.sub(chars_to_remove_regex, '', batch[\"sentence\"]).lower()\n",
        "    return batch"
      ],
      "execution_count": 5,
      "outputs": []
    },
    {
      "cell_type": "code",
      "metadata": {
        "colab": {
          "base_uri": "https://localhost:8080/",
          "height": 118,
          "referenced_widgets": [
            "9852b167c2d54013bfc873513c72864a",
            "0d4d5b7a7ba2471db46d34b2b005b332",
            "1053a7139b8646df8315b2db8bf3c193",
            "f2f045529f8c4783a574410f7d58ebfe",
            "bce5d1c445504e4892befa8b2448cedd",
            "5d625fccbe4c48ce86abed7da84ec183",
            "69449d7cf2fd4c06845c4931140abe33",
            "e6fa3629517a4ec888526287d2a0ed2c",
            "81c9fd1c65594b24bbccf788cfb42782",
            "846dbaaa04654233838100997d8962e1",
            "e3616bf80d0946d0a3175b0a59f6d1ed",
            "841df2c4b7734020ae8eea3710bcfa9f",
            "d5064d2f28134d70b0d52f415499e485",
            "4a9fd7041589402fada0b7c6f25e8096",
            "69a33bf183a14e16ab073aaef1d7ced6",
            "50506135491544af8c2302cacc4e7aab",
            "f15929544042469db0ac3f4dae0a43c9",
            "495c057e82784449bc465594506be587",
            "c3cd89fa2e0b4dcb8d4889ae7f3ca6e9",
            "8e802abdcbff456fa83c6ec527c925ac",
            "91c7184c5e4842b29ec0e0679ba5a49d",
            "9f10bf178b8f4b98883e8ec601c3f30b"
          ]
        },
        "id": "XIHocAuTQbBR",
        "outputId": "024e3328-88ae-4ec8-bb79-52339d07270a"
      },
      "source": [
        "common_voice_train = common_voice_train.map(remove_special_characters)\n",
        "common_voice_test = common_voice_test.map(remove_special_characters)"
      ],
      "execution_count": 6,
      "outputs": [
        {
          "output_type": "stream",
          "name": "stderr",
          "text": [
            "WARNING:datasets.fingerprint:Parameter 'function'=<function remove_special_characters at 0x7f93dc401630> of the transform datasets.arrow_dataset.Dataset._map_single couldn't be hashed properly, a random hash was used instead. Make sure your transforms and parameters are serializable with pickle or dill for the dataset fingerprinting and caching to work. If you reuse this transform, the caching mechanism will consider it to be different from the previous calls and recompute everything. This warning is only showed once. Subsequent hashing failures won't be showed.\n"
          ]
        },
        {
          "output_type": "display_data",
          "data": {
            "text/plain": [
              "0ex [00:00, ?ex/s]"
            ],
            "application/vnd.jupyter.widget-view+json": {
              "version_major": 2,
              "version_minor": 0,
              "model_id": "9852b167c2d54013bfc873513c72864a"
            }
          },
          "metadata": {}
        },
        {
          "output_type": "display_data",
          "data": {
            "text/plain": [
              "0ex [00:00, ?ex/s]"
            ],
            "application/vnd.jupyter.widget-view+json": {
              "version_major": 2,
              "version_minor": 0,
              "model_id": "841df2c4b7734020ae8eea3710bcfa9f"
            }
          },
          "metadata": {}
        }
      ]
    },
    {
      "cell_type": "markdown",
      "metadata": {
        "id": "TxnVS9gIhIma"
      },
      "source": [
        "Let's look at the processed text labels again."
      ]
    },
    {
      "cell_type": "code",
      "metadata": {
        "colab": {
          "base_uri": "https://localhost:8080/",
          "height": 363
        },
        "id": "RBDRAAYxRE6n",
        "outputId": "13e7f1da-e99e-4d62-d53d-220de15d5c76"
      },
      "source": [
        "show_random_elements(common_voice_train.remove_columns([\"path\",\"audio\"]))"
      ],
      "execution_count": 7,
      "outputs": [
        {
          "output_type": "display_data",
          "data": {
            "text/plain": [
              "<IPython.core.display.HTML object>"
            ],
            "text/html": [
              "<table border=\"1\" class=\"dataframe\">\n",
              "  <thead>\n",
              "    <tr style=\"text-align: right;\">\n",
              "      <th></th>\n",
              "      <th>sentence</th>\n",
              "    </tr>\n",
              "  </thead>\n",
              "  <tbody>\n",
              "    <tr>\n",
              "      <th>0</th>\n",
              "      <td>fue filmado en almería españa</td>\n",
              "    </tr>\n",
              "    <tr>\n",
              "      <th>1</th>\n",
              "      <td>según la política de cada país ambas protecciones pueden acumularse o no</td>\n",
              "    </tr>\n",
              "    <tr>\n",
              "      <th>2</th>\n",
              "      <td>casterman era originalmente una compañía de impresión y casa editorial</td>\n",
              "    </tr>\n",
              "    <tr>\n",
              "      <th>3</th>\n",
              "      <td>ese mismo día fue elegido por la iglesia católica para fijar su festividad</td>\n",
              "    </tr>\n",
              "    <tr>\n",
              "      <th>4</th>\n",
              "      <td>durante estas reuniones se aceptó la modificación propuesta por briggs</td>\n",
              "    </tr>\n",
              "    <tr>\n",
              "      <th>5</th>\n",
              "      <td>sa bassa blanca no tiene acceso por la costa</td>\n",
              "    </tr>\n",
              "    <tr>\n",
              "      <th>6</th>\n",
              "      <td>se distribuyen hacia el paladar blando y las amígdalas</td>\n",
              "    </tr>\n",
              "    <tr>\n",
              "      <th>7</th>\n",
              "      <td>más adelante mostró una faceta siniestra interpretando a mr</td>\n",
              "    </tr>\n",
              "    <tr>\n",
              "      <th>8</th>\n",
              "      <td>fue miembro de la academia boliviana de la historia</td>\n",
              "    </tr>\n",
              "    <tr>\n",
              "      <th>9</th>\n",
              "      <td>esto permite la colaboración y compartir horarios entre grupos o familias</td>\n",
              "    </tr>\n",
              "  </tbody>\n",
              "</table>"
            ]
          },
          "metadata": {}
        }
      ]
    },
    {
      "cell_type": "markdown",
      "metadata": {
        "id": "jwfaptH5RJwA"
      },
      "source": [
        "Good! This looks better. We have removed most special characters from transcriptions and normalized them to lower-case only.\n",
        "\n",
        "Before finalizing the pre-processing, it is always advantageous to consult a native speaker of the target language to see whether the text can be further simplified. \n",
        "For this blog post, [Merve](https://twitter.com/mervenoyann) was kind enough to take a quick look and noted that \"hatted\" characters - like `â` - aren't really used anymore in Turkish and can be replaced by their \"un-hatted\" equivalent, *e.g.* `a`. \n",
        "\n",
        "This means that we should replace a sentence like `\"yargı sistemi hâlâ sağlıksız\"` to `\"yargı sistemi hala sağlıksız\"`.\n",
        "\n",
        "Let's write another short mapping function to further simplify the text labels. Remember - the simler the text labels, the easier it is for the model to learn to predict those labels.\n",
        "\n"
      ]
    },
    {
      "cell_type": "code",
      "metadata": {
        "id": "aZcrz6z7lgGm"
      },
      "source": [
        "\"\"\"\n",
        "def replace_hatted_characters(batch):\n",
        "    batch[\"sentence\"] = re.sub('[â]', 'a', batch[\"sentence\"])\n",
        "    batch[\"sentence\"] = re.sub('[î]', 'i', batch[\"sentence\"])\n",
        "    batch[\"sentence\"] = re.sub('[ô]', 'o', batch[\"sentence\"])\n",
        "    batch[\"sentence\"] = re.sub('[û]', 'u', batch[\"sentence\"])\n",
        "    return batch\n",
        "\"\"\""
      ],
      "execution_count": null,
      "outputs": []
    },
    {
      "cell_type": "code",
      "metadata": {
        "colab": {
          "base_uri": "https://localhost:8080/"
        },
        "id": "ieGhhND5mSwI",
        "outputId": "2f5cee33-a98a-45ae-a8b4-0f10d97f4d15"
      },
      "source": [
        "#common_voice_train = common_voice_train.map(replace_hatted_characters)\n",
        "#common_voice_test = common_voice_test.map(replace_hatted_characters)"
      ],
      "execution_count": null,
      "outputs": [
        {
          "name": "stderr",
          "output_type": "stream",
          "text": [
            "Loading cached processed dataset at /root/.cache/huggingface/datasets/common_voice/tr/6.1.0/f7a9d973839b7706e9e281c19b7e512f31badf3c0fdbd21c671f3c4bf9acf3b9/cache-42d8bb33221ffcb6.arrow\n",
            "Loading cached processed dataset at /root/.cache/huggingface/datasets/common_voice/tr/6.1.0/f7a9d973839b7706e9e281c19b7e512f31badf3c0fdbd21c671f3c4bf9acf3b9/cache-7feed192f520d0a3.arrow\n"
          ]
        }
      ]
    },
    {
      "cell_type": "markdown",
      "metadata": {
        "id": "3ORHDb2Th2TW"
      },
      "source": [
        "In CTC, it is common to classify speech chunks into letters, so we will do the same here. \n",
        "Let's extract all distinct letters of the training and test data and build our vocabulary from this set of letters.\n",
        "\n",
        "We write a mapping function that concatenates all transcriptions into one long transcription and then transforms the string into a set of chars. \n",
        "It is important to pass the argument `batched=True` to the `map(...)` function so that the mapping function has access to all transcriptions at once."
      ]
    },
    {
      "cell_type": "code",
      "metadata": {
        "id": "LwCshNbbeRZR"
      },
      "source": [
        "def extract_all_chars(batch):\n",
        "  all_text = \" \".join(batch[\"sentence\"])\n",
        "  vocab = list(set(all_text))\n",
        "  return {\"vocab\": [vocab], \"all_text\": [all_text]}"
      ],
      "execution_count": 8,
      "outputs": []
    },
    {
      "cell_type": "code",
      "metadata": {
        "colab": {
          "base_uri": "https://localhost:8080/",
          "height": 81,
          "referenced_widgets": [
            "75b47f4c880848e6b10bafc0cc1c724d",
            "1ba777f49dd5415687a9dc242045826f",
            "7a71c08fb22742be85dac65f13ab3fbd",
            "cddbf17348c7430d872a831f578ce18e",
            "2c53fbcdb87e467caea24367c7d9d31e",
            "9d5fa9840b7347a290a0fc3b892813c7",
            "1e125f3d5259419298c7e6d621ea4ea3",
            "3d68bdf17ae042778b262cd05d46acea",
            "3ee46c63c1ba46a0bf0947569c7c8cfd",
            "9f0a63c2b93b4f93a9d051c22bb55ce2",
            "65a7f3818dd44383b0d0729156510bce",
            "13d72337dc0e417ab1b4b2b9e309c58f",
            "471f51e3cc114725969f028b6fb14840",
            "0d52edd4d6cc429f91e7dcdd3a78df67",
            "6e7290f092ad41e3a02cc3140fc96045",
            "6a3cdbdc81c74644b4fda89df8e9734e",
            "fdc6d0ccec99404ea518061c996ffe13",
            "5e5a2dc543224b69b979e315c59a788f",
            "99422e03f80e411988cb4ab7b386dcfe",
            "79462c3461534ea3b3d925c929c62755",
            "47ac63819fcf487682aed4ef04d5fb49",
            "e48e35ba22dc4e5f95dc797a1577fefd"
          ]
        },
        "id": "_m6uUjjcfbjH",
        "outputId": "bb74c396-7b42-416e-d678-b92ae007aaca"
      },
      "source": [
        "vocab_train = common_voice_train.map(extract_all_chars, batched=True, batch_size=-1, keep_in_memory=True, remove_columns=common_voice_train.column_names)\n",
        "vocab_test = common_voice_test.map(extract_all_chars, batched=True, batch_size=-1, keep_in_memory=True, remove_columns=common_voice_test.column_names)"
      ],
      "execution_count": 9,
      "outputs": [
        {
          "output_type": "display_data",
          "data": {
            "text/plain": [
              "  0%|          | 0/1 [00:00<?, ?ba/s]"
            ],
            "application/vnd.jupyter.widget-view+json": {
              "version_major": 2,
              "version_minor": 0,
              "model_id": "75b47f4c880848e6b10bafc0cc1c724d"
            }
          },
          "metadata": {}
        },
        {
          "output_type": "display_data",
          "data": {
            "text/plain": [
              "  0%|          | 0/1 [00:00<?, ?ba/s]"
            ],
            "application/vnd.jupyter.widget-view+json": {
              "version_major": 2,
              "version_minor": 0,
              "model_id": "13d72337dc0e417ab1b4b2b9e309c58f"
            }
          },
          "metadata": {}
        }
      ]
    },
    {
      "cell_type": "markdown",
      "metadata": {
        "id": "7oVgE8RZSJNP"
      },
      "source": [
        "Now, we create the union of all distinct letters in the training dataset and test dataset and convert the resulting list into an enumerated dictionary."
      ]
    },
    {
      "cell_type": "code",
      "metadata": {
        "id": "aQfneNsmlJI0"
      },
      "source": [
        "vocab_list = list(set(vocab_train[\"vocab\"][0]) | set(vocab_test[\"vocab\"][0]))"
      ],
      "execution_count": 10,
      "outputs": []
    },
    {
      "cell_type": "code",
      "metadata": {
        "colab": {
          "base_uri": "https://localhost:8080/"
        },
        "id": "_0kRndSvqaKk",
        "outputId": "c53f28be-9c7a-43fe-975e-57f7033896ec"
      },
      "source": [
        "vocab_dict = {v: k for k, v in enumerate(sorted(vocab_list))}\n",
        "vocab_dict"
      ],
      "execution_count": 11,
      "outputs": [
        {
          "output_type": "execute_result",
          "data": {
            "text/plain": [
              "{' ': 0,\n",
              " '$': 1,\n",
              " '&': 2,\n",
              " '-': 3,\n",
              " '=': 4,\n",
              " '_': 5,\n",
              " '`': 6,\n",
              " 'a': 7,\n",
              " 'b': 8,\n",
              " 'c': 9,\n",
              " 'd': 10,\n",
              " 'e': 11,\n",
              " 'f': 12,\n",
              " 'g': 13,\n",
              " 'h': 14,\n",
              " 'i': 15,\n",
              " 'j': 16,\n",
              " 'k': 17,\n",
              " 'l': 18,\n",
              " 'm': 19,\n",
              " 'n': 20,\n",
              " 'o': 21,\n",
              " 'p': 22,\n",
              " 'q': 23,\n",
              " 'r': 24,\n",
              " 's': 25,\n",
              " 't': 26,\n",
              " 'u': 27,\n",
              " 'v': 28,\n",
              " 'w': 29,\n",
              " 'x': 30,\n",
              " 'y': 31,\n",
              " 'z': 32,\n",
              " '{': 33,\n",
              " '|': 34,\n",
              " '}': 35,\n",
              " '~': 36,\n",
              " '¨': 37,\n",
              " 'ª': 38,\n",
              " '«': 39,\n",
              " '®': 40,\n",
              " '°': 41,\n",
              " '´': 42,\n",
              " '·': 43,\n",
              " '»': 44,\n",
              " 'ß': 45,\n",
              " 'à': 46,\n",
              " 'á': 47,\n",
              " 'â': 48,\n",
              " 'ã': 49,\n",
              " 'ä': 50,\n",
              " 'å': 51,\n",
              " 'æ': 52,\n",
              " 'é': 53,\n",
              " 'ê': 54,\n",
              " 'ë': 55,\n",
              " 'ì': 56,\n",
              " 'í': 57,\n",
              " 'î': 58,\n",
              " 'ï': 59,\n",
              " 'ð': 60,\n",
              " 'ñ': 61,\n",
              " 'ò': 62,\n",
              " 'ó': 63,\n",
              " 'ô': 64,\n",
              " 'õ': 65,\n",
              " 'ö': 66,\n",
              " 'ø': 67,\n",
              " 'ù': 68,\n",
              " 'ú': 69,\n",
              " 'û': 70,\n",
              " 'ü': 71,\n",
              " 'ý': 72,\n",
              " 'þ': 73,\n",
              " 'ā': 74,\n",
              " 'ă': 75,\n",
              " 'ć': 76,\n",
              " 'č': 77,\n",
              " 'đ': 78,\n",
              " 'ė': 79,\n",
              " 'ę': 80,\n",
              " 'ě': 81,\n",
              " 'ğ': 82,\n",
              " 'ī': 83,\n",
              " 'ı': 84,\n",
              " 'ł': 85,\n",
              " 'ń': 86,\n",
              " 'ō': 87,\n",
              " 'ő': 88,\n",
              " 'œ': 89,\n",
              " 'ř': 90,\n",
              " 'ś': 91,\n",
              " 'ş': 92,\n",
              " 'š': 93,\n",
              " 'ū': 94,\n",
              " 'ź': 95,\n",
              " 'ž': 96,\n",
              " 'ș': 97,\n",
              " 'ț': 98,\n",
              " 'ə': 99,\n",
              " 'ʷ': 100,\n",
              " 'ʻ': 101,\n",
              " 'ʽ': 102,\n",
              " 'ʿ': 103,\n",
              " 'ː': 104,\n",
              " '́': 105,\n",
              " '̇': 106,\n",
              " 'ϙ': 107,\n",
              " 'а': 108,\n",
              " 'б': 109,\n",
              " 'в': 110,\n",
              " 'г': 111,\n",
              " 'д': 112,\n",
              " 'е': 113,\n",
              " 'и': 114,\n",
              " 'й': 115,\n",
              " 'к': 116,\n",
              " 'л': 117,\n",
              " 'н': 118,\n",
              " 'о': 119,\n",
              " 'п': 120,\n",
              " 'р': 121,\n",
              " 'с': 122,\n",
              " 'т': 123,\n",
              " 'ч': 124,\n",
              " 'ш': 125,\n",
              " 'ы': 126,\n",
              " 'ь': 127,\n",
              " 'ю': 128,\n",
              " 'я': 129,\n",
              " 'ё': 130,\n",
              " 'ү': 131,\n",
              " 'ө': 132,\n",
              " 'ְ': 133,\n",
              " 'ִ': 134,\n",
              " 'ֵ': 135,\n",
              " 'ָ': 136,\n",
              " 'ֹ': 137,\n",
              " 'ּ': 138,\n",
              " 'ב': 139,\n",
              " 'ה': 140,\n",
              " 'ו': 141,\n",
              " 'י': 142,\n",
              " 'כ': 143,\n",
              " 'ל': 144,\n",
              " 'ם': 145,\n",
              " 'מ': 146,\n",
              " 'נ': 147,\n",
              " 'ס': 148,\n",
              " 'ק': 149,\n",
              " 'ר': 150,\n",
              " 'ש': 151,\n",
              " 'ת': 152,\n",
              " 'ب': 153,\n",
              " 'ة': 154,\n",
              " 'ذ': 155,\n",
              " 'ه': 156,\n",
              " 'ي': 157,\n",
              " 'ਆ': 158,\n",
              " 'ਘ': 159,\n",
              " 'ਤ': 160,\n",
              " 'ਨ': 161,\n",
              " 'ਮ': 162,\n",
              " 'ਸ': 163,\n",
              " 'ਾ': 164,\n",
              " 'ਿ': 165,\n",
              " 'ੰ': 166,\n",
              " 'ṁ': 167,\n",
              " 'ṃ': 168,\n",
              " 'ṇ': 169,\n",
              " 'ồ': 170,\n",
              " '‐': 171,\n",
              " '‑': 172,\n",
              " '–': 173,\n",
              " '—': 174,\n",
              " '―': 175,\n",
              " '’': 176,\n",
              " '„': 177,\n",
              " '…': 178,\n",
              " '‧': 179,\n",
              " '‹': 180,\n",
              " '›': 181,\n",
              " '→': 182,\n",
              " '≪': 183,\n",
              " '≫': 184,\n",
              " 'し': 185,\n",
              " 'の': 186,\n",
              " 'ひ': 187,\n",
              " 'ら': 188,\n",
              " 'ゴ': 189,\n",
              " 'ヒ': 190,\n",
              " 'ミ': 191,\n",
              " 'ム': 192,\n",
              " 'ラ': 193,\n",
              " '㓁': 194,\n",
              " '口': 195,\n",
              " '周': 196,\n",
              " '山': 197,\n",
              " '戌': 198,\n",
              " '日': 199,\n",
              " '本': 200,\n",
              " '比': 201,\n",
              " '毵': 202,\n",
              " '消': 203,\n",
              " '生': 204,\n",
              " '申': 205,\n",
              " '真': 206,\n",
              " '箱': 207,\n",
              " '网': 208,\n",
              " '罒': 209,\n",
              " '罓': 210,\n",
              " '肋': 211,\n",
              " '肌': 212,\n",
              " '背': 213,\n",
              " '良': 214,\n",
              " '鮓': 215,\n",
              " '鮨': 216,\n",
              " 'ﬁ': 217,\n",
              " '￼': 218}"
            ]
          },
          "metadata": {},
          "execution_count": 11
        }
      ]
    },
    {
      "cell_type": "markdown",
      "metadata": {
        "id": "JOSzbvs9SXT1"
      },
      "source": [
        "Cool, we see that all letters of the alphabet occur in the dataset (which is not really surprising) and we also extracted the special characters `\"\"` and `'`. Note that we did not exclude those special characters because: \n",
        "\n",
        "The model has to learn to predict when a word is finished or else the model prediction would always be a sequence of chars which would make it impossible to separate words from each other.\n",
        "\n",
        "One should always keep in mind that pre-processing is a very important step before training your model. E.g., we don't want our model to differentiate between `a` and `A` just because we forgot to normalize the data. The difference between `a` and `A` does not depend on the \"sound\" of the letter at all, but more on grammatical rules - *e.g.* use a capitalized letter at the beginning of the sentence. So it is sensible to remove the difference between capitalized and non-capitalized letters so that the model has an easier time learning to transcribe speech. "
      ]
    },
    {
      "cell_type": "markdown",
      "metadata": {
        "id": "b1fBRCn-TRaO"
      },
      "source": [
        "To make it clearer that `\" \"` has its own token class, we give it a more visible character `|`. In addition, we also add an \"unknown\" token so that the model can later deal with characters not encountered in Common Voice's training set. "
      ]
    },
    {
      "cell_type": "code",
      "metadata": {
        "id": "npbIbBoLgaFX"
      },
      "source": [
        "vocab_dict[\"|\"] = vocab_dict[\" \"]\n",
        "del vocab_dict[\" \"]"
      ],
      "execution_count": 12,
      "outputs": []
    },
    {
      "cell_type": "markdown",
      "metadata": {
        "id": "_9yCWg4Sd0cb"
      },
      "source": [
        "Finally, we also add a padding token that corresponds to CTC's \"*blank token*\". The \"blank token\" is a core component of the CTC algorithm. For more information, please take a look at the \"Alignment\" section [here](https://distill.pub/2017/ctc/)."
      ]
    },
    {
      "cell_type": "code",
      "metadata": {
        "colab": {
          "base_uri": "https://localhost:8080/"
        },
        "id": "znF0bNunsjbl",
        "outputId": "47fc2b4e-9ea7-4935-97c7-0c8f7e7912dc"
      },
      "source": [
        "vocab_dict[\"[UNK]\"] = len(vocab_dict)\n",
        "vocab_dict[\"[PAD]\"] = len(vocab_dict)\n",
        "len(vocab_dict)"
      ],
      "execution_count": 13,
      "outputs": [
        {
          "output_type": "execute_result",
          "data": {
            "text/plain": [
              "220"
            ]
          },
          "metadata": {},
          "execution_count": 13
        }
      ]
    },
    {
      "cell_type": "markdown",
      "metadata": {
        "id": "SFPGfet8U5sL"
      },
      "source": [
        "Cool, now our vocabulary is complete and consists of 39 tokens, which means that the linear layer that we will add on top of the pretrained XLS-R checkpoint will have an output dimension of 39."
      ]
    },
    {
      "cell_type": "markdown",
      "metadata": {
        "id": "1CujRgBNVRaD"
      },
      "source": [
        "Let's now save the vocabulary as a json file."
      ]
    },
    {
      "cell_type": "code",
      "metadata": {
        "id": "ehyUoh9vk191"
      },
      "source": [
        "import json\n",
        "with open('vocab.json', 'w') as vocab_file:\n",
        "    json.dump(vocab_dict, vocab_file)"
      ],
      "execution_count": 14,
      "outputs": []
    },
    {
      "cell_type": "markdown",
      "metadata": {
        "id": "SHJDaKlIVVim"
      },
      "source": [
        "In a final step, we use the json file to load the vocabulary into an instance of the `Wav2Vec2CTCTokenizer` class."
      ]
    },
    {
      "cell_type": "code",
      "source": [
        "!pip install transformers==4.28.0"
      ],
      "metadata": {
        "id": "Aprgcshqi8EH",
        "outputId": "d045a273-1fa8-4f3c-927b-e2b3f5d4c47b",
        "colab": {
          "base_uri": "https://localhost:8080/",
          "height": 558
        }
      },
      "execution_count": 48,
      "outputs": [
        {
          "output_type": "stream",
          "name": "stdout",
          "text": [
            "Looking in indexes: https://pypi.org/simple, https://us-python.pkg.dev/colab-wheels/public/simple/\n",
            "Collecting transformers==4.28.0\n",
            "  Downloading transformers-4.28.0-py3-none-any.whl (7.0 MB)\n",
            "\u001b[2K     \u001b[90m━━━━━━━━━━━━━━━━━━━━━━━━━━━━━━━━━━━━━━━━\u001b[0m \u001b[32m7.0/7.0 MB\u001b[0m \u001b[31m93.3 MB/s\u001b[0m eta \u001b[36m0:00:00\u001b[0m\n",
            "\u001b[?25hRequirement already satisfied: filelock in /usr/local/lib/python3.10/dist-packages (from transformers==4.28.0) (3.12.0)\n",
            "Requirement already satisfied: huggingface-hub<1.0,>=0.11.0 in /usr/local/lib/python3.10/dist-packages (from transformers==4.28.0) (0.15.1)\n",
            "Requirement already satisfied: numpy>=1.17 in /usr/local/lib/python3.10/dist-packages (from transformers==4.28.0) (1.22.4)\n",
            "Requirement already satisfied: packaging>=20.0 in /usr/local/lib/python3.10/dist-packages (from transformers==4.28.0) (23.1)\n",
            "Requirement already satisfied: pyyaml>=5.1 in /usr/local/lib/python3.10/dist-packages (from transformers==4.28.0) (6.0)\n",
            "Requirement already satisfied: regex!=2019.12.17 in /usr/local/lib/python3.10/dist-packages (from transformers==4.28.0) (2022.10.31)\n",
            "Requirement already satisfied: requests in /usr/local/lib/python3.10/dist-packages (from transformers==4.28.0) (2.27.1)\n",
            "Requirement already satisfied: tokenizers!=0.11.3,<0.14,>=0.11.1 in /usr/local/lib/python3.10/dist-packages (from transformers==4.28.0) (0.13.3)\n",
            "Requirement already satisfied: tqdm>=4.27 in /usr/local/lib/python3.10/dist-packages (from transformers==4.28.0) (4.65.0)\n",
            "Requirement already satisfied: fsspec in /usr/local/lib/python3.10/dist-packages (from huggingface-hub<1.0,>=0.11.0->transformers==4.28.0) (2023.4.0)\n",
            "Requirement already satisfied: typing-extensions>=3.7.4.3 in /usr/local/lib/python3.10/dist-packages (from huggingface-hub<1.0,>=0.11.0->transformers==4.28.0) (4.5.0)\n",
            "Requirement already satisfied: urllib3<1.27,>=1.21.1 in /usr/local/lib/python3.10/dist-packages (from requests->transformers==4.28.0) (1.26.15)\n",
            "Requirement already satisfied: certifi>=2017.4.17 in /usr/local/lib/python3.10/dist-packages (from requests->transformers==4.28.0) (2022.12.7)\n",
            "Requirement already satisfied: charset-normalizer~=2.0.0 in /usr/local/lib/python3.10/dist-packages (from requests->transformers==4.28.0) (2.0.12)\n",
            "Requirement already satisfied: idna<4,>=2.5 in /usr/local/lib/python3.10/dist-packages (from requests->transformers==4.28.0) (3.4)\n",
            "Installing collected packages: transformers\n",
            "  Attempting uninstall: transformers\n",
            "    Found existing installation: transformers 4.29.2\n",
            "    Uninstalling transformers-4.29.2:\n",
            "      Successfully uninstalled transformers-4.29.2\n",
            "Successfully installed transformers-4.28.0\n"
          ]
        },
        {
          "output_type": "display_data",
          "data": {
            "application/vnd.colab-display-data+json": {
              "pip_warning": {
                "packages": [
                  "transformers"
                ]
              }
            }
          },
          "metadata": {}
        }
      ]
    },
    {
      "cell_type": "code",
      "metadata": {
        "colab": {
          "base_uri": "https://localhost:8080/"
        },
        "id": "xriFGEWQkO4M",
        "outputId": "9c5031a4-4e67-4975-8628-933de49b6081"
      },
      "source": [
        "from transformers import Wav2Vec2CTCTokenizer\n",
        "\n",
        "tokenizer = Wav2Vec2CTCTokenizer.from_pretrained(\"./\", unk_token=\"[UNK]\", pad_token=\"[PAD]\", word_delimiter_token=\"|\")"
      ],
      "execution_count": 15,
      "outputs": [
        {
          "output_type": "stream",
          "name": "stderr",
          "text": [
            "Special tokens have been added in the vocabulary, make sure the associated word embeddings are fine-tuned or trained.\n"
          ]
        }
      ]
    },
    {
      "cell_type": "markdown",
      "metadata": {
        "id": "KvL12DrNV4cx"
      },
      "source": [
        "If one wants to re-use the just created tokenizer with the fine-tuned model of this notebook, it is strongly advised to upload the `tokenizer` to the [🤗 Hub](https://huggingface.co/). Let's call the repo to which we will upload the files\n",
        "`\"wav2vec2-large-xlsr-turkish-demo-colab\"`:"
      ]
    },
    {
      "cell_type": "code",
      "metadata": {
        "id": "A1XApZBAF2zr"
      },
      "source": [
        "repo_name = \"wav2vec2_xlsr\""
      ],
      "execution_count": 16,
      "outputs": []
    },
    {
      "cell_type": "markdown",
      "metadata": {
        "id": "B1BiezWZF16d"
      },
      "source": [
        "and upload the tokenizer to the [🤗 Hub](https://huggingface.co/)."
      ]
    },
    {
      "cell_type": "code",
      "metadata": {
        "colab": {
          "base_uri": "https://localhost:8080/"
        },
        "id": "zytE1175GAKM",
        "outputId": "f695d5fa-9168-450c-d2bd-c642ec318e33"
      },
      "source": [
        "tokenizer.push_to_hub(repo_name)"
      ],
      "execution_count": 25,
      "outputs": [
        {
          "output_type": "execute_result",
          "data": {
            "text/plain": [
              "CommitInfo(commit_url='https://huggingface.co/diallomama/wav2vec2_xlsr/commit/3d5c3cce8d4519c399ea8c76ebab938e2d8bd9ca', commit_message='Upload tokenizer', commit_description='', oid='3d5c3cce8d4519c399ea8c76ebab938e2d8bd9ca', pr_url=None, pr_revision=None, pr_num=None)"
            ]
          },
          "metadata": {},
          "execution_count": 25
        }
      ]
    },
    {
      "cell_type": "markdown",
      "metadata": {
        "id": "SwQM8lH_GGuP"
      },
      "source": [
        "Great, you can see the just created repository under `https://huggingface.co/<your-username>/wav2vec2-large-xls-r-300m-tr-colab`"
      ]
    },
    {
      "cell_type": "markdown",
      "metadata": {
        "id": "mYcIiR2FQ96i"
      },
      "source": [
        "### Create `Wav2Vec2FeatureExtractor`"
      ]
    },
    {
      "cell_type": "markdown",
      "metadata": {
        "id": "Y6mDEyW719rx"
      },
      "source": [
        "Speech is a continuous signal and to be treated by computers, it first has to be discretized, which is usually called **sampling**. The sampling rate hereby plays an important role in that it defines how many data points of the speech signal are measured per second. Therefore, sampling with a higher sampling rate results in a better approximation of the *real* speech signal but also necessitates more values per second.\n",
        "\n",
        "A pretrained checkpoint expects its input data to have been sampled more or less from the same distribution as the data it was trained on. The same speech signals sampled at two different rates have a very different distribution, *e.g.*, doubling the sampling rate results in data points being twice as long. Thus, \n",
        "before fine-tuning a pretrained checkpoint of an ASR model, it is crucial to verify that the sampling rate of the data that was used to pretrain the model matches the sampling rate of the dataset used to fine-tune the model.\n",
        "\n",
        "XLS-R was pretrained on audio data of [Babel](http://www.reading.ac.uk/AcaDepts/ll/speechlab/babel/r), \n",
        "[Multilingual LibriSpeech (MLS)](https://huggingface.co/datasets/multilingual_librispeech), [Common Voice](https://huggingface.co/datasets/common_voice), [VoxPopuli](https://arxiv.org/abs/2101.00390), and [VoxLingua107](https://arxiv.org/abs/2011.12998) at a sampling rate of 16kHz. Common Voice, in its original form, has a sampling rate of 48kHz, thus we will have to downsample the fine-tuning data to 16kHz in the following.\n",
        "\n"
      ]
    },
    {
      "cell_type": "markdown",
      "metadata": {
        "id": "KuUbPW7oV-B5"
      },
      "source": [
        "A `Wav2Vec2FeatureExtractor` object requires the following parameters to be instantiated:\n",
        "\n",
        "- `feature_size`: Speech models take a sequence of feature vectors as an input. While the length of this sequence obviously varies, the feature size should not. In the case of Wav2Vec2, the feature size is 1 because the model was trained on the raw speech signal ${}^2$.\n",
        "- `sampling_rate`: The sampling rate at which the model is trained on.\n",
        "- `padding_value`: For batched inference, shorter inputs need to be padded with a specific value\n",
        "- `do_normalize`: Whether the input should be *zero-mean-unit-variance* normalized or not. Usually, speech models perform better when normalizing the input\n",
        "- `return_attention_mask`: Whether the model should make use of an `attention_mask` for batched inference. In general, XLS-R models checkpoints should **always** use the `attention_mask`."
      ]
    },
    {
      "cell_type": "code",
      "metadata": {
        "id": "kAR0-2KLkopp"
      },
      "source": [
        "from transformers import Wav2Vec2FeatureExtractor\n",
        "\n",
        "feature_extractor = Wav2Vec2FeatureExtractor(feature_size=1, sampling_rate=16000, padding_value=0.0, do_normalize=True, return_attention_mask=True)"
      ],
      "execution_count": 17,
      "outputs": []
    },
    {
      "cell_type": "markdown",
      "metadata": {
        "id": "qUETetgqYC3W"
      },
      "source": [
        "Great, XLS-R's feature extraction pipeline is thereby fully defined!\n",
        "\n",
        "For improved user-friendliness, the feature extractor and tokenizer are *wrapped* into a single `Wav2Vec2Processor` class so that one only needs a `model` and `processor` object."
      ]
    },
    {
      "cell_type": "code",
      "metadata": {
        "id": "KYZtoW-tlZgl"
      },
      "source": [
        "from transformers import Wav2Vec2Processor\n",
        "\n",
        "processor = Wav2Vec2Processor(feature_extractor=feature_extractor, tokenizer=tokenizer)"
      ],
      "execution_count": 18,
      "outputs": []
    },
    {
      "cell_type": "markdown",
      "metadata": {
        "id": "DrKnYuvDIoOO"
      },
      "source": [
        "Next, we can prepare the dataset."
      ]
    },
    {
      "cell_type": "markdown",
      "metadata": {
        "id": "YFmShnl7RE35"
      },
      "source": [
        "### Preprocess Data\n",
        "\n",
        "So far, we have not looked at the actual values of the speech signal but just the transcription. In addition to `sentence`, our datasets include two more column names `path` and `audio`. `path` states the absolute path of the audio file. Let's take a look.\n"
      ]
    },
    {
      "cell_type": "code",
      "metadata": {
        "colab": {
          "base_uri": "https://localhost:8080/",
          "height": 35
        },
        "id": "TTCS7W6XJ9BG",
        "outputId": "c89630ce-f5dd-40b3-ca1d-695f9e15f3bd"
      },
      "source": [
        "common_voice_train[0][\"path\"]"
      ],
      "execution_count": 28,
      "outputs": [
        {
          "output_type": "execute_result",
          "data": {
            "text/plain": [
              "'common_voice_es_18306544.mp3'"
            ],
            "application/vnd.google.colaboratory.intrinsic+json": {
              "type": "string"
            }
          },
          "metadata": {},
          "execution_count": 28
        }
      ]
    },
    {
      "cell_type": "markdown",
      "metadata": {
        "id": "T6ndIjHGFp0W"
      },
      "source": [
        "XLS-R expects the input in the format of a 1-dimensional array of 16 kHz. This means that the audio file has to be loaded and resampled.\n",
        "\n",
        " Thankfully, `datasets` does this automatically by calling the other column `audio`. Let try it out. "
      ]
    },
    {
      "cell_type": "code",
      "metadata": {
        "colab": {
          "base_uri": "https://localhost:8080/"
        },
        "id": "qj_z5Zc3GAs9",
        "outputId": "47cf0c57-2f6c-4474-941a-c50e1fa04dcb"
      },
      "source": [
        "common_voice_train[0][\"audio\"]"
      ],
      "execution_count": 29,
      "outputs": [
        {
          "output_type": "execute_result",
          "data": {
            "text/plain": [
              "{'path': 'cv-corpus-6.1-2020-12-11/es/clips/common_voice_es_18306544.mp3',\n",
              " 'array': array([ 0.0000000e+00,  0.0000000e+00,  0.0000000e+00, ...,\n",
              "        -6.2212137e-05, -3.7340928e-05, -1.0736112e-06], dtype=float32),\n",
              " 'sampling_rate': 48000}"
            ]
          },
          "metadata": {},
          "execution_count": 29
        }
      ]
    },
    {
      "cell_type": "markdown",
      "metadata": {
        "id": "WUUTgI1bGHW-"
      },
      "source": [
        "Great, we can see that the audio file has automatically been loaded. This is thanks to the new [`\"Audio\"` feature](https://huggingface.co/docs/datasets/package_reference/main_classes.html?highlight=audio#datasets.Audio) introduced in `datasets == 4.13.3`, which loads and resamples audio files on-the-fly upon calling.\n",
        "\n",
        "In the example above we can see that the audio data is loaded with a sampling rate of 48kHz whereas 16kHz are expected by the model. We can set the audio feature to the correct sampling rate by making use of [`cast_column`](https://huggingface.co/docs/datasets/package_reference/main_classes.html?highlight=cast_column#datasets.DatasetDict.cast_column):"
      ]
    },
    {
      "cell_type": "code",
      "metadata": {
        "id": "rrv65aj7G95i"
      },
      "source": [
        "common_voice_train = common_voice_train.cast_column(\"audio\", Audio(sampling_rate=16_000))\n",
        "common_voice_test = common_voice_test.cast_column(\"audio\", Audio(sampling_rate=16_000))"
      ],
      "execution_count": 19,
      "outputs": []
    },
    {
      "cell_type": "markdown",
      "metadata": {
        "id": "PcnO4x-NGBEi"
      },
      "source": [
        "Let's take a look at `\"audio\"` again."
      ]
    },
    {
      "cell_type": "code",
      "metadata": {
        "colab": {
          "base_uri": "https://localhost:8080/"
        },
        "id": "aKtkc1o_HWHC",
        "outputId": "a551e7d2-5c0f-4c81-883e-c922d1b00284"
      },
      "source": [
        "common_voice_train[0][\"audio\"]"
      ],
      "execution_count": 31,
      "outputs": [
        {
          "output_type": "execute_result",
          "data": {
            "text/plain": [
              "{'path': 'cv-corpus-6.1-2020-12-11/es/clips/common_voice_es_18306544.mp3',\n",
              " 'array': array([ 0.0000000e+00,  0.0000000e+00,  0.0000000e+00, ...,\n",
              "        -8.5134916e-06, -4.9502905e-05, -4.9611117e-05], dtype=float32),\n",
              " 'sampling_rate': 16000}"
            ]
          },
          "metadata": {},
          "execution_count": 31
        }
      ]
    },
    {
      "cell_type": "markdown",
      "metadata": {
        "id": "SOckzFd4Mbzq"
      },
      "source": [
        "This seemed to have worked! Let's listen to a couple of audio files to better understand the dataset and verify that the audio was correctly loaded. \n",
        "\n",
        "**Note**: *You can click the following cell a couple of times to listen to different speech samples.*"
      ]
    },
    {
      "cell_type": "code",
      "metadata": {
        "colab": {
          "base_uri": "https://localhost:8080/",
          "height": 93
        },
        "id": "dueM6U7Ev0OA",
        "outputId": "167b484d-6e9c-4909-ef09-dcd13a0fbdc7"
      },
      "source": [
        "import IPython.display as ipd\n",
        "import numpy as np\n",
        "import random\n",
        "\n",
        "rand_int = random.randint(0, len(common_voice_train)-1)\n",
        "\n",
        "print(common_voice_train[rand_int][\"sentence\"])\n",
        "ipd.Audio(data=common_voice_train[rand_int][\"audio\"][\"array\"], autoplay=True, rate=16000)"
      ],
      "execution_count": 20,
      "outputs": [
        {
          "output_type": "stream",
          "name": "stdout",
          "text": [
            "la masacre no fue un incidente inusual en bielorrusia durante la segunda guerra mundial\n"
          ]
        },
        {
          "output_type": "execute_result",
          "data": {
            "text/plain": [
              "<IPython.lib.display.Audio object>"
            ],
            "text/html": [
              "\n",
              "                <audio  controls=\"controls\" autoplay=\"autoplay\">\n",
              "                    <source src=\"data:audio/wav;base64,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\" type=\"audio/wav\" />\n",
              "                    Your browser does not support the audio element.\n",
              "                </audio>\n",
              "              "
            ]
          },
          "metadata": {},
          "execution_count": 20
        }
      ]
    },
    {
      "cell_type": "markdown",
      "metadata": {
        "id": "gY8m3vARHYTa"
      },
      "source": [
        "It seems like the data is now correctly loaded and resampled. "
      ]
    },
    {
      "cell_type": "markdown",
      "metadata": {
        "id": "1MaL9J2dNVtG"
      },
      "source": [
        "It can be heard, that the speakers change along with their speaking rate, accent, and background environment, etc. Overall, the recordings sound acceptably clear though, which is to be expected from a crowd-sourced read speech corpus.\n",
        "\n",
        "Let's do a final check that the data is correctly prepared, by printing the shape of the speech input, its transcription, and the corresponding sampling rate.\n",
        "\n",
        "**Note**: *You can click the following cell a couple of times to verify multiple samples.*"
      ]
    },
    {
      "cell_type": "code",
      "metadata": {
        "colab": {
          "base_uri": "https://localhost:8080/"
        },
        "id": "1Po2g7YPuRTx",
        "outputId": "ecb039e9-1ce4-4acf-caf9-ce968c0e804f"
      },
      "source": [
        "rand_int = random.randint(0, len(common_voice_train)-1)\n",
        "\n",
        "print(\"Target text:\", common_voice_train[rand_int][\"sentence\"])\n",
        "print(\"Input array shape:\", common_voice_train[rand_int][\"audio\"][\"array\"].shape)\n",
        "print(\"Sampling rate:\", common_voice_train[rand_int][\"audio\"][\"sampling_rate\"])"
      ],
      "execution_count": 21,
      "outputs": [
        {
          "output_type": "stream",
          "name": "stdout",
          "text": [
            "Target text: su contribución ha sido mencionada en la revista proceso jump cut\n",
            "Input array shape: (93696,)\n",
            "Sampling rate: 16000\n"
          ]
        }
      ]
    },
    {
      "cell_type": "markdown",
      "metadata": {
        "id": "M9teZcSwOBJ4"
      },
      "source": [
        "Good! Everything looks fine - the data is a 1-dimensional array, the sampling rate always corresponds to 16kHz, and the target text is normalized."
      ]
    },
    {
      "cell_type": "markdown",
      "metadata": {
        "id": "k3Pbn5WvOYZF"
      },
      "source": [
        "Finally, we can leverage `Wav2Vec2Processor` to process the data to the format expected by `Wav2Vec2ForCTC` for training. To do so let's make use of Dataset's [`map(...)`](https://huggingface.co/docs/datasets/package_reference/main_classes.html?highlight=map#datasets.DatasetDict.map) function.\n",
        "\n",
        "First, we load and resample the audio data, simply by calling `batch[\"audio\"]`.\n",
        "Second, we extract the `input_values` from the loaded audio file. In our case, the `Wav2Vec2Processor` only normalizes the data. For other speech models, however, this step can include more complex feature extraction, such as [Log-Mel feature extraction](https://en.wikipedia.org/wiki/Mel-frequency_cepstrum). \n",
        "Third, we encode the transcriptions to label ids.\n",
        "\n",
        "**Note**: This mapping function is a good example of how the `Wav2Vec2Processor` class should be used. In \"normal\" context, calling `processor(...)` is redirected to `Wav2Vec2FeatureExtractor`'s call method. When wrapping the processor into the `as_target_processor` context, however, the same method is redirected to `Wav2Vec2CTCTokenizer`'s call method.\n",
        "For more information please check the [docs](https://huggingface.co/transformers/master/model_doc/wav2vec2.html#transformers.Wav2Vec2Processor.__call__)."
      ]
    },
    {
      "cell_type": "code",
      "metadata": {
        "id": "eJY7I0XAwe9p"
      },
      "source": [
        "def prepare_dataset(batch):\n",
        "    audio = batch[\"audio\"]\n",
        "\n",
        "    # batched output is \"un-batched\"\n",
        "    batch[\"input_values\"] = processor(audio[\"array\"], sampling_rate=audio[\"sampling_rate\"]).input_values[0]\n",
        "    batch[\"input_length\"] = len(batch[\"input_values\"])\n",
        "    \n",
        "    with processor.as_target_processor():\n",
        "        batch[\"labels\"] = processor(batch[\"sentence\"]).input_ids\n",
        "    return batch"
      ],
      "execution_count": 22,
      "outputs": []
    },
    {
      "cell_type": "markdown",
      "metadata": {
        "id": "q6Pg_WR3OGAP"
      },
      "source": [
        "Let's apply the data preparation function to all examples."
      ]
    },
    {
      "cell_type": "code",
      "metadata": {
        "colab": {
          "base_uri": "https://localhost:8080/",
          "height": 104,
          "referenced_widgets": [
            "44bd186973154de89df26a909817d28a",
            "d7a4c5fda6b34c6aa4deb8b5edff52b9",
            "ccbd3533f7804be98f22ac8acee69d72",
            "06c3df4acec7443b97a42a7f64745c30",
            "090795125079477eaa60ce0432c696a2",
            "51deddaccd5f4a90b15635a894db3832",
            "dda5c64a14b24667a602a8f7b551328c",
            "0f3eb45783c34ac0b2bfb249d04b1818",
            "7a4df19c6ec642d7b85a04afa2590fe8",
            "e837a260eda14087a9c6331bd3fb0d4a",
            "833299841bed4451964744074278b0f5"
          ]
        },
        "id": "-np9xYK-wl8q",
        "outputId": "da7bea39-286d-4605-f687-01a5991fa56b"
      },
      "source": [
        "common_voice_train = common_voice_train.map(prepare_dataset, remove_columns=common_voice_train.column_names)\n",
        "common_voice_test = common_voice_test.map(prepare_dataset, remove_columns=common_voice_test.column_names)"
      ],
      "execution_count": null,
      "outputs": [
        {
          "output_type": "display_data",
          "data": {
            "text/plain": [
              "0ex [00:00, ?ex/s]"
            ],
            "application/vnd.jupyter.widget-view+json": {
              "version_major": 2,
              "version_minor": 0,
              "model_id": "44bd186973154de89df26a909817d28a"
            }
          },
          "metadata": {}
        },
        {
          "output_type": "stream",
          "name": "stderr",
          "text": [
            "/usr/local/lib/python3.10/dist-packages/transformers/models/wav2vec2/processing_wav2vec2.py:155: UserWarning: `as_target_processor` is deprecated and will be removed in v5 of Transformers. You can process your labels by using the argument `text` of the regular `__call__` method (either in the same call as your audio inputs, or in a separate call.\n",
            "  warnings.warn(\n"
          ]
        }
      ]
    },
    {
      "cell_type": "markdown",
      "metadata": {
        "id": "nKcEWHvKI1by"
      },
      "source": [
        "**Note**: Currently `datasets` make use of [`torchaudio`](https://pytorch.org/audio/stable/index.html) and [`librosa`](https://librosa.org/doc/latest/index.html) for audio loading and resampling. If you wish to implement your own costumized data loading/sampling, feel free to just make use of the `\"path\"` column instead and disregard the `\"audio\"` column."
      ]
    },
    {
      "cell_type": "markdown",
      "metadata": {
        "id": "24CxHd5ewI4T"
      },
      "source": [
        "Long input sequences require a lot of memory. XLS-R is based on `self-attention` the memory requirement scales quadratically with the input length for long input sequences (*cf.* with [this](https://www.reddit.com/r/MachineLearning/comments/genjvb/d_why_is_the_maximum_input_sequence_length_of/) reddit post). In case this demo crashes with an \"Out-of-memory\" error for you, you might want to uncomment the following lines to filter all sequences that are longer than 5 seconds for training."
      ]
    },
    {
      "cell_type": "code",
      "metadata": {
        "id": "tdHfbUJ_09iA"
      },
      "source": [
        "#max_input_length_in_sec = 5.0\n",
        "#common_voice_train = common_voice_train.filter(lambda x: x < max_input_length_in_sec * processor.feature_extractor.sampling_rate, input_columns=[\"input_length\"])"
      ],
      "execution_count": null,
      "outputs": []
    },
    {
      "cell_type": "markdown",
      "metadata": {
        "id": "1ZWDCCKqwcfS"
      },
      "source": [
        "Awesome, now we are ready to start training!"
      ]
    },
    {
      "cell_type": "markdown",
      "metadata": {
        "id": "gYlQkKVoRUos"
      },
      "source": [
        "## Training\n",
        "\n",
        "The data is processed so that we are ready to start setting up the training pipeline. We will make use of 🤗's [Trainer](https://huggingface.co/transformers/master/main_classes/trainer.html?highlight=trainer) for which we essentially need to do the following:\n",
        "\n",
        "- Define a data collator. In contrast to most NLP models, XLS-R has a much larger input length than output length. *E.g.*, a sample of input length 50000 has an output length of no more than 100. Given the large input sizes, it is much more efficient to pad the training batches dynamically meaning that all training samples should only be padded to the longest sample in their batch and not the overall longest sample. Therefore, fine-tuning XLS-R requires a special padding data collator, which we will define below\n",
        "\n",
        "- Evaluation metric. During training, the model should be evaluated on the word error rate. We should define a `compute_metrics` function accordingly\n",
        "\n",
        "- Load a pretrained checkpoint. We need to load a pretrained checkpoint and configure it correctly for training.\n",
        "\n",
        "- Define the training configuration.\n",
        "\n",
        "After having fine-tuned the model, we will correctly evaluate it on the test data and verify that it has indeed learned to correctly transcribe speech."
      ]
    },
    {
      "cell_type": "markdown",
      "metadata": {
        "id": "Slk403unUS91"
      },
      "source": [
        "### Set-up Trainer\n",
        "\n",
        "Let's start by defining the data collator. The code for the data collator was copied from [this example](https://github.com/huggingface/transformers/blob/7e61d56a45c19284cfda0cee8995fb552f6b1f4e/examples/pytorch/speech-recognition/run_speech_recognition_ctc.py#L219).\n",
        "\n",
        "Without going into too many details, in contrast to the common data collators, this data collator treats the `input_values` and `labels` differently and thus applies to separate padding functions on them (again making use of XLS-R processor's context manager). This is necessary because in speech input and output are of different modalities meaning that they should not be treated by the same padding function.\n",
        "Analogous to the common data collators, the padding tokens in the labels with `-100` so that those tokens are **not** taken into account when computing the loss."
      ]
    },
    {
      "cell_type": "code",
      "metadata": {
        "id": "tborvC9hx88e"
      },
      "source": [
        "import torch\n",
        "\n",
        "from dataclasses import dataclass, field\n",
        "from typing import Any, Dict, List, Optional, Union\n",
        "\n",
        "@dataclass\n",
        "class DataCollatorCTCWithPadding:\n",
        "    \"\"\"\n",
        "    Data collator that will dynamically pad the inputs received.\n",
        "    Args:\n",
        "        processor (:class:`~transformers.Wav2Vec2Processor`)\n",
        "            The processor used for proccessing the data.\n",
        "        padding (:obj:`bool`, :obj:`str` or :class:`~transformers.tokenization_utils_base.PaddingStrategy`, `optional`, defaults to :obj:`True`):\n",
        "            Select a strategy to pad the returned sequences (according to the model's padding side and padding index)\n",
        "            among:\n",
        "            * :obj:`True` or :obj:`'longest'`: Pad to the longest sequence in the batch (or no padding if only a single\n",
        "              sequence if provided).\n",
        "            * :obj:`'max_length'`: Pad to a maximum length specified with the argument :obj:`max_length` or to the\n",
        "              maximum acceptable input length for the model if that argument is not provided.\n",
        "            * :obj:`False` or :obj:`'do_not_pad'` (default): No padding (i.e., can output a batch with sequences of\n",
        "              different lengths).\n",
        "    \"\"\"\n",
        "\n",
        "    processor: Wav2Vec2Processor\n",
        "    padding: Union[bool, str] = True\n",
        "\n",
        "    def __call__(self, features: List[Dict[str, Union[List[int], torch.Tensor]]]) -> Dict[str, torch.Tensor]:\n",
        "        # split inputs and labels since they have to be of different lenghts and need\n",
        "        # different padding methods\n",
        "        input_features = [{\"input_values\": feature[\"input_values\"]} for feature in features]\n",
        "        label_features = [{\"input_ids\": feature[\"labels\"]} for feature in features]\n",
        "\n",
        "        batch = self.processor.pad(\n",
        "            input_features,\n",
        "            padding=self.padding,\n",
        "            return_tensors=\"pt\",\n",
        "        )\n",
        "        with self.processor.as_target_processor():\n",
        "            labels_batch = self.processor.pad(\n",
        "                label_features,\n",
        "                padding=self.padding,\n",
        "                return_tensors=\"pt\",\n",
        "            )\n",
        "\n",
        "        # replace padding with -100 to ignore loss correctly\n",
        "        labels = labels_batch[\"input_ids\"].masked_fill(labels_batch.attention_mask.ne(1), -100)\n",
        "\n",
        "        batch[\"labels\"] = labels\n",
        "\n",
        "        return batch"
      ],
      "execution_count": 36,
      "outputs": []
    },
    {
      "cell_type": "code",
      "metadata": {
        "id": "lbQf5GuZyQ4_"
      },
      "source": [
        "data_collator = DataCollatorCTCWithPadding(processor=processor, padding=True)"
      ],
      "execution_count": 37,
      "outputs": []
    },
    {
      "cell_type": "markdown",
      "metadata": {
        "id": "xO-Zdj-5cxXp"
      },
      "source": [
        "Next, the evaluation metric is defined. As mentioned earlier, the \n",
        "predominant metric in ASR is the word error rate (WER), hence we will use it in this notebook as well."
      ]
    },
    {
      "cell_type": "code",
      "metadata": {
        "colab": {
          "base_uri": "https://localhost:8080/",
          "height": 49,
          "referenced_widgets": [
            "7a41fd58d48f4f8b848f39fa6b4ec189",
            "bfa19f2401da40a7b9fb0eb1b42c68e5",
            "411cd5a5026a4f80a26f683df1376c59",
            "6730169b8f83452e8d2099d3fc682cbc",
            "f51cbe9f8d9d4bf598374a25a2a8cc7a",
            "27fc6e2834af4d349da685f3bde9d278",
            "4092bfd8f43c4df3891da278c1422bd4",
            "aa51e3136b8543978213eb77224c25e2",
            "3d6fa872024046f1bfefec77c4f567a0",
            "8e8827b8115c4066a8a2f1088ffc9c19",
            "c8a1d42e79794e898d6b81ca1bd4f24f"
          ]
        },
        "id": "9Xsux2gmyXso",
        "outputId": "9c5e577c-9a7c-45b4-821a-78ccc5642587"
      },
      "source": [
        "wer_metric = load_metric(\"wer\")"
      ],
      "execution_count": 38,
      "outputs": [
        {
          "output_type": "display_data",
          "data": {
            "text/plain": [
              "Downloading:   0%|          | 0.00/1.90k [00:00<?, ?B/s]"
            ],
            "application/vnd.jupyter.widget-view+json": {
              "version_major": 2,
              "version_minor": 0,
              "model_id": "7a41fd58d48f4f8b848f39fa6b4ec189"
            }
          },
          "metadata": {}
        }
      ]
    },
    {
      "cell_type": "markdown",
      "metadata": {
        "id": "E1qZU5p-deqB"
      },
      "source": [
        "The model will return a sequence of logit vectors:\n",
        "$\\mathbf{y}_1, \\ldots, \\mathbf{y}_m$ with $\\mathbf{y}_1 = f_{\\theta}(x_1, \\ldots, x_n)[0]$ and $n >> m$.\n",
        "\n",
        "A logit vector $\\mathbf{y}_1$ contains the log-odds for each word in the vocabulary we defined earlier, thus $\\text{len}(\\mathbf{y}_i) =$ `config.vocab_size`. We are interested in the most likely prediction of the model and thus take the `argmax(...)` of the logits. Also, we transform the encoded labels back to the original string by replacing `-100` with the `pad_token_id` and decoding the ids while making sure that consecutive tokens are **not** grouped to the same token in CTC style ${}^1$."
      ]
    },
    {
      "cell_type": "code",
      "metadata": {
        "id": "1XZ-kjweyTy_"
      },
      "source": [
        "def compute_metrics(pred):\n",
        "    pred_logits = pred.predictions\n",
        "    pred_ids = np.argmax(pred_logits, axis=-1)\n",
        "\n",
        "    pred.label_ids[pred.label_ids == -100] = processor.tokenizer.pad_token_id\n",
        "\n",
        "    pred_str = processor.batch_decode(pred_ids)\n",
        "    # we do not want to group tokens when computing the metrics\n",
        "    label_str = processor.batch_decode(pred.label_ids, group_tokens=False)\n",
        "\n",
        "    wer = wer_metric.compute(predictions=pred_str, references=label_str)\n",
        "\n",
        "    return {\"wer\": wer}"
      ],
      "execution_count": 39,
      "outputs": []
    },
    {
      "cell_type": "markdown",
      "metadata": {
        "id": "Xmgrx4bRwLIH"
      },
      "source": [
        "Now, we can load the pretrained checkpoint of [Wav2Vec2-XLS-R-300M](https://huggingface.co/facebook/wav2vec2-xls-r-300m). The tokenizer's `pad_token_id` must be to define the model's `pad_token_id` or in the case of `Wav2Vec2ForCTC` also CTC's *blank token* ${}^2$. To save GPU memory, we enable PyTorch's [gradient checkpointing](https://pytorch.org/docs/stable/checkpoint.html) and also set the loss reduction to \"*mean*\".\n",
        "\n",
        "Because the dataset is quite small (~6h of training data) and because Common Voice is quite noisy, fine-tuning Facebook's [wav2vec2-xls-r-300m checkpoint](https://huggingface.co/facebook/wav2vec2-xls-r-300m) seems to require some hyper-parameter tuning. Therefore, I had to play around a bit with different values for dropout, [SpecAugment](https://arxiv.org/abs/1904.08779)'s masking dropout rate, layer dropout, and the learning rate until training seemed to be stable enough. \n",
        "\n",
        "**Note**: When using this notebook to train XLS-R on another language of Common Voice those hyper-parameter settings might not work very well. Feel free to adapt those depending on your use case. "
      ]
    },
    {
      "cell_type": "code",
      "metadata": {
        "colab": {
          "base_uri": "https://localhost:8080/",
          "height": 244,
          "referenced_widgets": [
            "809fc410121a4c018549950056ae6fee",
            "4603b6b1f0204970b59d9126c2bb59f1",
            "cef34391e28b49129d7404960082da06",
            "51356c216a8347c3ad7ae66fbae73759",
            "2f933159cf6343a69e84aa3e6ac4154f",
            "e2ad08a151c740138a9e3383ca6debee",
            "db9cff23bbaf45e89cef1d0f06a2e1b1",
            "816b246e1392437daca778306b008040",
            "676ee205ecda480db8aafd2c59fb474a",
            "578152fa31fd442fa30f477bef159639",
            "26b6064427564f69a5ef40ac33353348",
            "0c07125a619b4c67ab4098e4bf8a6e3d",
            "c16450875f4a48d78ebe1827a2763c11",
            "7d216c6077314cc780eb27f41aa24d72",
            "2f5fed46713644019b6d32194d7ad599",
            "a5c8cda06ff841ecabd0d512bfdae679",
            "24b6863708274e7892447408c50c6ccb",
            "4c5a32a3146e4a899ca2c18224f84474",
            "97e25b96b56145fc8692fe70ea724190",
            "3139c2736c8b4b859dc3586218adf3b1",
            "12e253e613d649faa325a83f9d737422",
            "99ac5bc0115f4c3bbfa3b3da1c82b82c"
          ]
        },
        "id": "e7cqAWIayn6w",
        "outputId": "ed72160f-9be5-49a7-fb3c-6ca653d2c812"
      },
      "source": [
        "from transformers import Wav2Vec2ForCTC\n",
        "\n",
        "model = Wav2Vec2ForCTC.from_pretrained(\n",
        "    \"facebook/wav2vec2-xls-r-300m\", \n",
        "    attention_dropout=0.0,\n",
        "    hidden_dropout=0.0,\n",
        "    feat_proj_dropout=0.0,\n",
        "    mask_time_prob=0.05,\n",
        "    layerdrop=0.0,\n",
        "    ctc_loss_reduction=\"mean\", \n",
        "    pad_token_id=processor.tokenizer.pad_token_id,\n",
        "    vocab_size=len(processor.tokenizer),\n",
        ")"
      ],
      "execution_count": 40,
      "outputs": [
        {
          "output_type": "display_data",
          "data": {
            "text/plain": [
              "Downloading (…)lve/main/config.json:   0%|          | 0.00/1.57k [00:00<?, ?B/s]"
            ],
            "application/vnd.jupyter.widget-view+json": {
              "version_major": 2,
              "version_minor": 0,
              "model_id": "809fc410121a4c018549950056ae6fee"
            }
          },
          "metadata": {}
        },
        {
          "output_type": "display_data",
          "data": {
            "text/plain": [
              "Downloading pytorch_model.bin:   0%|          | 0.00/1.27G [00:00<?, ?B/s]"
            ],
            "application/vnd.jupyter.widget-view+json": {
              "version_major": 2,
              "version_minor": 0,
              "model_id": "0c07125a619b4c67ab4098e4bf8a6e3d"
            }
          },
          "metadata": {}
        },
        {
          "output_type": "stream",
          "name": "stderr",
          "text": [
            "Some weights of the model checkpoint at facebook/wav2vec2-xls-r-300m were not used when initializing Wav2Vec2ForCTC: ['project_hid.weight', 'quantizer.weight_proj.bias', 'project_q.bias', 'quantizer.codevectors', 'project_hid.bias', 'project_q.weight', 'quantizer.weight_proj.weight']\n",
            "- This IS expected if you are initializing Wav2Vec2ForCTC from the checkpoint of a model trained on another task or with another architecture (e.g. initializing a BertForSequenceClassification model from a BertForPreTraining model).\n",
            "- This IS NOT expected if you are initializing Wav2Vec2ForCTC from the checkpoint of a model that you expect to be exactly identical (initializing a BertForSequenceClassification model from a BertForSequenceClassification model).\n",
            "Some weights of Wav2Vec2ForCTC were not initialized from the model checkpoint at facebook/wav2vec2-xls-r-300m and are newly initialized: ['lm_head.bias', 'lm_head.weight']\n",
            "You should probably TRAIN this model on a down-stream task to be able to use it for predictions and inference.\n"
          ]
        }
      ]
    },
    {
      "cell_type": "markdown",
      "metadata": {
        "id": "1DwR3XLSzGDD"
      },
      "source": [
        "The first component of XLS-R consists of a stack of CNN layers that are used to extract acoustically meaningful - but contextually independent - features from the raw speech signal. This part of the model has already been sufficiently trained during pretraining and as stated in the [paper](https://arxiv.org/pdf/2006.13979.pdf) does not need to be fine-tuned anymore. \n",
        "Thus, we can set the `requires_grad` to `False` for all parameters of the *feature extraction* part."
      ]
    },
    {
      "cell_type": "code",
      "metadata": {
        "id": "oGI8zObtZ3V0",
        "outputId": "39de0ff5-9096-43d3-9006-41807a16d26b",
        "colab": {
          "base_uri": "https://localhost:8080/"
        }
      },
      "source": [
        "model.freeze_feature_extractor()"
      ],
      "execution_count": 41,
      "outputs": [
        {
          "output_type": "stream",
          "name": "stderr",
          "text": [
            "/usr/local/lib/python3.10/dist-packages/transformers/models/wav2vec2/modeling_wav2vec2.py:1643: FutureWarning: The method `freeze_feature_extractor` is deprecated and will be removed in Transformers v5.Please use the equivalent `freeze_feature_encoder` method instead.\n",
            "  warnings.warn(\n"
          ]
        }
      ]
    },
    {
      "cell_type": "markdown",
      "metadata": {
        "id": "lD4aGhQM0K-D"
      },
      "source": [
        "In a final step, we define all parameters related to training. \n",
        "To give more explanation on some of the parameters:\n",
        "- `group_by_length` makes training more efficient by grouping training samples of similar input length into one batch. This can significantly speed up training time by heavily reducing the overall number of useless padding tokens that are passed through the model\n",
        "- `learning_rate` and `weight_decay` were heuristically tuned until fine-tuning has become stable. Note that those parameters strongly depend on the Common Voice dataset and might be suboptimal for other speech datasets.\n",
        "\n",
        "For more explanations on other parameters, one can take a look at the [docs](https://huggingface.co/transformers/master/main_classes/trainer.html?highlight=trainer#trainingarguments).\n",
        "\n",
        "During training, a checkpoint will be uploaded asynchronously to the hub every 400 training steps. It allows you to also play around with the demo widget even while your model is still training.\n",
        "\n",
        "**Note**: If one does not want to upload the model checkpoints to the hub, simply set `push_to_hub=False`."
      ]
    },
    {
      "cell_type": "code",
      "source": [
        "! pip install --upgrade accelerate"
      ],
      "metadata": {
        "id": "DbaUhWlDr-k_",
        "outputId": "d6c50602-e32c-480c-d7c7-4c5b64ae1aaf",
        "colab": {
          "base_uri": "https://localhost:8080/"
        }
      },
      "execution_count": 46,
      "outputs": [
        {
          "output_type": "stream",
          "name": "stdout",
          "text": [
            "Looking in indexes: https://pypi.org/simple, https://us-python.pkg.dev/colab-wheels/public/simple/\n",
            "Requirement already satisfied: accelerate in /usr/local/lib/python3.10/dist-packages (0.19.0)\n",
            "Requirement already satisfied: numpy>=1.17 in /usr/local/lib/python3.10/dist-packages (from accelerate) (1.22.4)\n",
            "Requirement already satisfied: packaging>=20.0 in /usr/local/lib/python3.10/dist-packages (from accelerate) (23.1)\n",
            "Requirement already satisfied: psutil in /usr/local/lib/python3.10/dist-packages (from accelerate) (5.9.5)\n",
            "Requirement already satisfied: pyyaml in /usr/local/lib/python3.10/dist-packages (from accelerate) (6.0)\n",
            "Requirement already satisfied: torch>=1.6.0 in /usr/local/lib/python3.10/dist-packages (from accelerate) (2.0.1+cu118)\n",
            "Requirement already satisfied: filelock in /usr/local/lib/python3.10/dist-packages (from torch>=1.6.0->accelerate) (3.12.0)\n",
            "Requirement already satisfied: typing-extensions in /usr/local/lib/python3.10/dist-packages (from torch>=1.6.0->accelerate) (4.5.0)\n",
            "Requirement already satisfied: sympy in /usr/local/lib/python3.10/dist-packages (from torch>=1.6.0->accelerate) (1.11.1)\n",
            "Requirement already satisfied: networkx in /usr/local/lib/python3.10/dist-packages (from torch>=1.6.0->accelerate) (3.1)\n",
            "Requirement already satisfied: jinja2 in /usr/local/lib/python3.10/dist-packages (from torch>=1.6.0->accelerate) (3.1.2)\n",
            "Requirement already satisfied: triton==2.0.0 in /usr/local/lib/python3.10/dist-packages (from torch>=1.6.0->accelerate) (2.0.0)\n",
            "Requirement already satisfied: cmake in /usr/local/lib/python3.10/dist-packages (from triton==2.0.0->torch>=1.6.0->accelerate) (3.25.2)\n",
            "Requirement already satisfied: lit in /usr/local/lib/python3.10/dist-packages (from triton==2.0.0->torch>=1.6.0->accelerate) (16.0.5)\n",
            "Requirement already satisfied: MarkupSafe>=2.0 in /usr/local/lib/python3.10/dist-packages (from jinja2->torch>=1.6.0->accelerate) (2.1.2)\n",
            "Requirement already satisfied: mpmath>=0.19 in /usr/local/lib/python3.10/dist-packages (from sympy->torch>=1.6.0->accelerate) (1.3.0)\n"
          ]
        }
      ]
    },
    {
      "cell_type": "code",
      "metadata": {
        "id": "KbeKSV7uzGPP",
        "outputId": "55a08ef8-cb96-43c3-ee51-b35192470fe6",
        "colab": {
          "base_uri": "https://localhost:8080/",
          "height": 416
        }
      },
      "source": [
        "from transformers import TrainingArguments\n",
        "\n",
        "training_args = TrainingArguments(\n",
        "  output_dir=repo_name,\n",
        "  group_by_length=True,\n",
        "  per_device_train_batch_size=16,\n",
        "  gradient_accumulation_steps=2,\n",
        "  evaluation_strategy=\"steps\",\n",
        "  num_train_epochs=30,\n",
        "  gradient_checkpointing=True,\n",
        "  fp16=True,\n",
        "  save_steps=400,\n",
        "  eval_steps=400,\n",
        "  logging_steps=400,\n",
        "  learning_rate=3e-4,\n",
        "  warmup_steps=500,\n",
        "  save_total_limit=2,\n",
        "  push_to_hub=True,\n",
        ")"
      ],
      "execution_count": 49,
      "outputs": [
        {
          "output_type": "error",
          "ename": "NameError",
          "evalue": "ignored",
          "traceback": [
            "\u001b[0;31m---------------------------------------------------------------------------\u001b[0m",
            "\u001b[0;31mNameError\u001b[0m                                 Traceback (most recent call last)",
            "\u001b[0;32m<ipython-input-49-624d0ff0d506>\u001b[0m in \u001b[0;36m<cell line: 3>\u001b[0;34m()\u001b[0m\n\u001b[1;32m      1\u001b[0m \u001b[0;32mfrom\u001b[0m \u001b[0mtransformers\u001b[0m \u001b[0;32mimport\u001b[0m \u001b[0mTrainingArguments\u001b[0m\u001b[0;34m\u001b[0m\u001b[0;34m\u001b[0m\u001b[0m\n\u001b[1;32m      2\u001b[0m \u001b[0;34m\u001b[0m\u001b[0m\n\u001b[0;32m----> 3\u001b[0;31m training_args = TrainingArguments(\n\u001b[0m\u001b[1;32m      4\u001b[0m   \u001b[0moutput_dir\u001b[0m\u001b[0;34m=\u001b[0m\u001b[0mrepo_name\u001b[0m\u001b[0;34m,\u001b[0m\u001b[0;34m\u001b[0m\u001b[0;34m\u001b[0m\u001b[0m\n\u001b[1;32m      5\u001b[0m   \u001b[0mgroup_by_length\u001b[0m\u001b[0;34m=\u001b[0m\u001b[0;32mTrue\u001b[0m\u001b[0;34m,\u001b[0m\u001b[0;34m\u001b[0m\u001b[0;34m\u001b[0m\u001b[0m\n",
            "\u001b[0;32m/usr/local/lib/python3.10/dist-packages/transformers/training_args.py\u001b[0m in \u001b[0;36m__init__\u001b[0;34m(self, output_dir, overwrite_output_dir, do_train, do_eval, do_predict, evaluation_strategy, prediction_loss_only, per_device_train_batch_size, per_device_eval_batch_size, per_gpu_train_batch_size, per_gpu_eval_batch_size, gradient_accumulation_steps, eval_accumulation_steps, eval_delay, learning_rate, weight_decay, adam_beta1, adam_beta2, adam_epsilon, max_grad_norm, num_train_epochs, max_steps, lr_scheduler_type, warmup_ratio, warmup_steps, log_level, log_level_replica, log_on_each_node, logging_dir, logging_strategy, logging_first_step, logging_steps, logging_nan_inf_filter, save_strategy, save_steps, save_total_limit, save_safetensors, save_on_each_node, no_cuda, use_mps_device, seed, data_seed, jit_mode_eval, use_ipex, bf16, fp16, fp16_opt_level, half_precision_backend, bf16_full_eval, fp16_full_eval, tf32, local_rank, ddp_backend, tpu_num_cores, tpu_metrics_debug, debug, dataloader_drop_last, eval_steps, dataloader_num_workers, past_index, run_name, disable_tqdm, remove_unused_columns, label_names, load_best_model_at_end, metric_for_best_model, greater_is_better, ignore_data_skip, sharded_ddp, fsdp, fsdp_min_num_params, fsdp_config, fsdp_transformer_layer_cls_to_wrap, deepspeed, label_smoothing_factor, optim, optim_args, adafactor, group_by_length, length_column_name, report_to, ddp_find_unused_parameters, ddp_bucket_cap_mb, dataloader_pin_memory, skip_memory_met...\n",
            "\u001b[0;32m/usr/local/lib/python3.10/dist-packages/transformers/training_args.py\u001b[0m in \u001b[0;36m__post_init__\u001b[0;34m(self)\u001b[0m\n\u001b[1;32m   1331\u001b[0m             \u001b[0mself\u001b[0m\u001b[0;34m.\u001b[0m\u001b[0mreport_to\u001b[0m \u001b[0;34m=\u001b[0m \u001b[0;34m[\u001b[0m\u001b[0mself\u001b[0m\u001b[0;34m.\u001b[0m\u001b[0mreport_to\u001b[0m\u001b[0;34m]\u001b[0m\u001b[0;34m\u001b[0m\u001b[0;34m\u001b[0m\u001b[0m\n\u001b[1;32m   1332\u001b[0m \u001b[0;34m\u001b[0m\u001b[0m\n\u001b[0;32m-> 1333\u001b[0;31m         \u001b[0;32mif\u001b[0m \u001b[0mself\u001b[0m\u001b[0;34m.\u001b[0m\u001b[0mwarmup_ratio\u001b[0m \u001b[0;34m<\u001b[0m \u001b[0;36m0\u001b[0m \u001b[0;32mor\u001b[0m \u001b[0mself\u001b[0m\u001b[0;34m.\u001b[0m\u001b[0mwarmup_ratio\u001b[0m \u001b[0;34m>\u001b[0m \u001b[0;36m1\u001b[0m\u001b[0;34m:\u001b[0m\u001b[0;34m\u001b[0m\u001b[0;34m\u001b[0m\u001b[0m\n\u001b[0m\u001b[1;32m   1334\u001b[0m             \u001b[0;32mraise\u001b[0m \u001b[0mValueError\u001b[0m\u001b[0;34m(\u001b[0m\u001b[0;34m\"warmup_ratio must lie in range [0,1]\"\u001b[0m\u001b[0;34m)\u001b[0m\u001b[0;34m\u001b[0m\u001b[0;34m\u001b[0m\u001b[0m\n\u001b[1;32m   1335\u001b[0m         \u001b[0;32melif\u001b[0m \u001b[0mself\u001b[0m\u001b[0;34m.\u001b[0m\u001b[0mwarmup_ratio\u001b[0m \u001b[0;34m>\u001b[0m \u001b[0;36m0\u001b[0m \u001b[0;32mand\u001b[0m \u001b[0mself\u001b[0m\u001b[0;34m.\u001b[0m\u001b[0mwarmup_steps\u001b[0m \u001b[0;34m>\u001b[0m \u001b[0;36m0\u001b[0m\u001b[0;34m:\u001b[0m\u001b[0;34m\u001b[0m\u001b[0;34m\u001b[0m\u001b[0m\n",
            "\u001b[0;32m/usr/local/lib/python3.10/dist-packages/transformers/training_args.py\u001b[0m in \u001b[0;36mdevice\u001b[0;34m(self)\u001b[0m\n\u001b[1;32m   1695\u001b[0m \u001b[0;34m\u001b[0m\u001b[0m\n\u001b[1;32m   1696\u001b[0m     \u001b[0;34m@\u001b[0m\u001b[0mproperty\u001b[0m\u001b[0;34m\u001b[0m\u001b[0;34m\u001b[0m\u001b[0m\n\u001b[0;32m-> 1697\u001b[0;31m     \u001b[0;32mdef\u001b[0m \u001b[0mn_gpu\u001b[0m\u001b[0;34m(\u001b[0m\u001b[0mself\u001b[0m\u001b[0;34m)\u001b[0m\u001b[0;34m:\u001b[0m\u001b[0;34m\u001b[0m\u001b[0;34m\u001b[0m\u001b[0m\n\u001b[0m\u001b[1;32m   1698\u001b[0m         \"\"\"\n\u001b[1;32m   1699\u001b[0m         \u001b[0mThe\u001b[0m \u001b[0mnumber\u001b[0m \u001b[0mof\u001b[0m \u001b[0mGPUs\u001b[0m \u001b[0mused\u001b[0m \u001b[0mby\u001b[0m \u001b[0mthis\u001b[0m \u001b[0mprocess\u001b[0m\u001b[0;34m.\u001b[0m\u001b[0;34m\u001b[0m\u001b[0;34m\u001b[0m\u001b[0m\n",
            "\u001b[0;32m/usr/local/lib/python3.10/dist-packages/transformers/utils/generic.py\u001b[0m in \u001b[0;36m__get__\u001b[0;34m(self, obj, objtype)\u001b[0m\n\u001b[1;32m     52\u001b[0m         \u001b[0mcached\u001b[0m \u001b[0;34m=\u001b[0m \u001b[0mgetattr\u001b[0m\u001b[0;34m(\u001b[0m\u001b[0mobj\u001b[0m\u001b[0;34m,\u001b[0m \u001b[0mattr\u001b[0m\u001b[0;34m,\u001b[0m \u001b[0;32mNone\u001b[0m\u001b[0;34m)\u001b[0m\u001b[0;34m\u001b[0m\u001b[0;34m\u001b[0m\u001b[0m\n\u001b[1;32m     53\u001b[0m         \u001b[0;32mif\u001b[0m \u001b[0mcached\u001b[0m \u001b[0;32mis\u001b[0m \u001b[0;32mNone\u001b[0m\u001b[0;34m:\u001b[0m\u001b[0;34m\u001b[0m\u001b[0;34m\u001b[0m\u001b[0m\n\u001b[0;32m---> 54\u001b[0;31m             \u001b[0mcached\u001b[0m \u001b[0;34m=\u001b[0m \u001b[0mself\u001b[0m\u001b[0;34m.\u001b[0m\u001b[0mfget\u001b[0m\u001b[0;34m(\u001b[0m\u001b[0mobj\u001b[0m\u001b[0;34m)\u001b[0m\u001b[0;34m\u001b[0m\u001b[0;34m\u001b[0m\u001b[0m\n\u001b[0m\u001b[1;32m     55\u001b[0m             \u001b[0msetattr\u001b[0m\u001b[0;34m(\u001b[0m\u001b[0mobj\u001b[0m\u001b[0;34m,\u001b[0m \u001b[0mattr\u001b[0m\u001b[0;34m,\u001b[0m \u001b[0mcached\u001b[0m\u001b[0;34m)\u001b[0m\u001b[0;34m\u001b[0m\u001b[0;34m\u001b[0m\u001b[0m\n\u001b[1;32m     56\u001b[0m         \u001b[0;32mreturn\u001b[0m \u001b[0mcached\u001b[0m\u001b[0;34m\u001b[0m\u001b[0;34m\u001b[0m\u001b[0m\n",
            "\u001b[0;32m/usr/local/lib/python3.10/dist-packages/transformers/training_args.py\u001b[0m in \u001b[0;36m_setup_devices\u001b[0;34m(self)\u001b[0m\n\u001b[1;32m   1629\u001b[0m             \u001b[0;31m# but deepspeed requires a dist env.\u001b[0m\u001b[0;34m\u001b[0m\u001b[0;34m\u001b[0m\u001b[0m\n\u001b[1;32m   1630\u001b[0m             \u001b[0;31m# env LOCAL_RANK could be set manually by the user, or via init_distributed if mpi4py is installed\u001b[0m\u001b[0;34m\u001b[0m\u001b[0;34m\u001b[0m\u001b[0m\n\u001b[0;32m-> 1631\u001b[0;31m             \u001b[0mself\u001b[0m\u001b[0;34m.\u001b[0m\u001b[0mlocal_rank\u001b[0m \u001b[0;34m=\u001b[0m \u001b[0mint\u001b[0m\u001b[0;34m(\u001b[0m\u001b[0mos\u001b[0m\u001b[0;34m.\u001b[0m\u001b[0menviron\u001b[0m\u001b[0;34m.\u001b[0m\u001b[0mget\u001b[0m\u001b[0;34m(\u001b[0m\u001b[0;34m\"LOCAL_RANK\"\u001b[0m\u001b[0;34m,\u001b[0m \u001b[0;34m\"-1\"\u001b[0m\u001b[0;34m)\u001b[0m\u001b[0;34m)\u001b[0m\u001b[0;34m\u001b[0m\u001b[0;34m\u001b[0m\u001b[0m\n\u001b[0m\u001b[1;32m   1632\u001b[0m \u001b[0;34m\u001b[0m\u001b[0m\n\u001b[1;32m   1633\u001b[0m             \u001b[0mdevice\u001b[0m \u001b[0;34m=\u001b[0m \u001b[0mtorch\u001b[0m\u001b[0;34m.\u001b[0m\u001b[0mdevice\u001b[0m\u001b[0;34m(\u001b[0m\u001b[0;34m\"cuda\"\u001b[0m\u001b[0;34m,\u001b[0m \u001b[0mself\u001b[0m\u001b[0;34m.\u001b[0m\u001b[0mlocal_rank\u001b[0m\u001b[0;34m)\u001b[0m\u001b[0;34m\u001b[0m\u001b[0;34m\u001b[0m\u001b[0m\n",
            "\u001b[0;31mNameError\u001b[0m: name 'PartialState' is not defined"
          ]
        }
      ]
    },
    {
      "cell_type": "markdown",
      "metadata": {
        "id": "OsW-WZcL1ZtN"
      },
      "source": [
        "Now, all instances can be passed to Trainer and we are ready to start training!"
      ]
    },
    {
      "cell_type": "code",
      "metadata": {
        "colab": {
          "base_uri": "https://localhost:8080/"
        },
        "id": "rY7vBmFCPFgC",
        "outputId": "c47ecc78-5259-44db-c121-5bd7945defb8"
      },
      "source": [
        "from transformers import Trainer\n",
        "\n",
        "trainer = Trainer(\n",
        "    model=model,\n",
        "    data_collator=data_collator,\n",
        "    args=training_args,\n",
        "    compute_metrics=compute_metrics,\n",
        "    train_dataset=common_voice_train,\n",
        "    eval_dataset=common_voice_test,\n",
        "    tokenizer=processor.feature_extractor,\n",
        ")"
      ],
      "execution_count": null,
      "outputs": [
        {
          "name": "stderr",
          "output_type": "stream",
          "text": [
            "/usr/local/lib/python3.7/dist-packages/huggingface_hub/hf_api.py:718: FutureWarning: `create_repo` now takes `token` as an optional positional argument. Be sure to adapt your code!\n",
            "  FutureWarning,\n",
            "/content/wav2vec2-large-xls-r-300m-turkish-colab is already a clone of https://huggingface.co/patrickvonplaten/wav2vec2-large-xls-r-300m-turkish-colab. Make sure you pull the latest changes with `repo.git_pull()`.\n",
            "Using amp fp16 backend\n"
          ]
        }
      ]
    },
    {
      "cell_type": "markdown",
      "metadata": {
        "id": "UoXBx1JAA0DX"
      },
      "source": [
        "\n",
        "\n",
        "---\n",
        "\n",
        "${}^1$ To allow models to become independent of the speaker rate, in CTC, consecutive tokens that are identical are simply grouped as a single token. However, the encoded labels should not be grouped when decoding since they don't correspond to the predicted tokens of the model, which is why the `group_tokens=False` parameter has to be passed. If we wouldn't pass this parameter a word like `\"hello\"` would incorrectly be encoded, and decoded as `\"helo\"`.\n",
        "\n",
        "${}^2$ The blank token allows the model to predict a word, such as `\"hello\"` by forcing it to insert the blank token between the two l's. A CTC-conform prediction of `\"hello\"` of our model would be `[PAD] [PAD] \"h\" \"e\" \"e\" \"l\" \"l\" [PAD] \"l\" \"o\" \"o\" [PAD]`."
      ]
    },
    {
      "cell_type": "markdown",
      "metadata": {
        "id": "rpvZHM1xReIW"
      },
      "source": [
        "### Training"
      ]
    },
    {
      "cell_type": "markdown",
      "metadata": {
        "id": "j-3oKSzZ1hGq"
      },
      "source": [
        "Training will take multiple hours depending on the GPU allocated to this notebook. While the trained model yields somewhat satisfying results on *Common Voice*'s test data of Turkish, it is by no means an optimally fine-tuned model. The purpose of this notebook is just to demonstrate how to fine-tune XLS-R on an ASR dataset.\n",
        "\n",
        "In case you want to use this google colab to fine-tune your model, you should make sure that your training doesn't stop due to inactivity. A simple hack to prevent this is to paste the following code into the console of this tab (*right mouse click -> inspect -> Console tab and insert code*)."
      ]
    },
    {
      "cell_type": "markdown",
      "metadata": {
        "id": "VYYAvgkW4P0m"
      },
      "source": [
        "```javascript\n",
        "function ConnectButton(){\n",
        "    console.log(\"Connect pushed\"); \n",
        "    document.querySelector(\"#top-toolbar > colab-connect-button\").shadowRoot.querySelector(\"#connect\").click() \n",
        "}\n",
        "setInterval(ConnectButton,60000);\n",
        "```"
      ]
    },
    {
      "cell_type": "markdown",
      "metadata": {
        "id": "7bGgLV2r0yvZ"
      },
      "source": [
        "Depending on what GPU was allocated to your google colab it might be possible that you are seeing an `\"out-of-memory\"` error here. In this case, it's probably best to reduce `per_device_train_batch_size` to 8 or even less and increase [`gradient_accumulation`](https://huggingface.co/transformers/master/main_classes/trainer.html#trainingarguments)."
      ]
    },
    {
      "cell_type": "code",
      "metadata": {
        "colab": {
          "background_save": true,
          "base_uri": "https://localhost:8080/",
          "height": 311
        },
        "id": "9fRr9TG5pGBl",
        "outputId": "122ea040-7b24-452a-c7d4-7e72e1c46973"
      },
      "source": [
        "trainer.train()"
      ],
      "execution_count": null,
      "outputs": [
        {
          "name": "stderr",
          "output_type": "stream",
          "text": [
            "The following columns in the training set  don't have a corresponding argument in `Wav2Vec2ForCTC.forward` and have been ignored: input_length.\n",
            "***** Running training *****\n",
            "  Num examples = 3478\n",
            "  Num Epochs = 30\n",
            "  Instantaneous batch size per device = 16\n",
            "  Total train batch size (w. parallel, distributed & accumulation) = 32\n",
            "  Gradient Accumulation steps = 2\n",
            "  Total optimization steps = 3270\n",
            "/usr/local/lib/python3.7/dist-packages/transformers/feature_extraction_utils.py:158: UserWarning: Creating a tensor from a list of numpy.ndarrays is extremely slow. Please consider converting the list to a single numpy.ndarray with numpy.array() before converting to a tensor. (Triggered internally at  ../torch/csrc/utils/tensor_new.cpp:201.)\n",
            "  tensor = as_tensor(value)\n",
            "/usr/local/lib/python3.7/dist-packages/transformers/models/wav2vec2/modeling_wav2vec2.py:882: UserWarning: __floordiv__ is deprecated, and its behavior will change in a future version of pytorch. It currently rounds toward 0 (like the 'trunc' function NOT 'floor'). This results in incorrect rounding for negative values. To keep the current behavior, use torch.div(a, b, rounding_mode='trunc'), or for actual floor division, use torch.div(a, b, rounding_mode='floor').\n",
            "  return (input_length - kernel_size) // stride + 1\n"
          ]
        },
        {
          "data": {
            "text/html": [
              "\n",
              "    <div>\n",
              "      \n",
              "      <progress value='3270' max='3270' style='width:300px; height:20px; vertical-align: middle;'></progress>\n",
              "      [3270/3270 4:41:48, Epoch 30/30]\n",
              "    </div>\n",
              "    <table border=\"1\" class=\"dataframe\">\n",
              "  <thead>\n",
              "    <tr style=\"text-align: left;\">\n",
              "      <th>Step</th>\n",
              "      <th>Training Loss</th>\n",
              "      <th>Validation Loss</th>\n",
              "      <th>Wer</th>\n",
              "    </tr>\n",
              "  </thead>\n",
              "  <tbody>\n",
              "    <tr>\n",
              "      <td>400</td>\n",
              "      <td>3.765200</td>\n",
              "      <td>0.625533</td>\n",
              "      <td>0.693290</td>\n",
              "    </tr>\n",
              "    <tr>\n",
              "      <td>800</td>\n",
              "      <td>0.371600</td>\n",
              "      <td>0.405785</td>\n",
              "      <td>0.456337</td>\n",
              "    </tr>\n",
              "    <tr>\n",
              "      <td>1200</td>\n",
              "      <td>0.177900</td>\n",
              "      <td>0.412796</td>\n",
              "      <td>0.408028</td>\n",
              "    </tr>\n",
              "    <tr>\n",
              "      <td>1600</td>\n",
              "      <td>0.122600</td>\n",
              "      <td>0.399832</td>\n",
              "      <td>0.394137</td>\n",
              "    </tr>\n",
              "    <tr>\n",
              "      <td>2000</td>\n",
              "      <td>0.092700</td>\n",
              "      <td>0.408412</td>\n",
              "      <td>0.371259</td>\n",
              "    </tr>\n",
              "    <tr>\n",
              "      <td>2400</td>\n",
              "      <td>0.073700</td>\n",
              "      <td>0.394867</td>\n",
              "      <td>0.351956</td>\n",
              "    </tr>\n",
              "    <tr>\n",
              "      <td>2800</td>\n",
              "      <td>0.058100</td>\n",
              "      <td>0.369830</td>\n",
              "      <td>0.331120</td>\n",
              "    </tr>\n",
              "    <tr>\n",
              "      <td>3200</td>\n",
              "      <td>0.045300</td>\n",
              "      <td>0.359626</td>\n",
              "      <td>0.324175</td>\n",
              "    </tr>\n",
              "  </tbody>\n",
              "</table><p>"
            ],
            "text/plain": [
              "<IPython.core.display.HTML object>"
            ]
          },
          "metadata": {},
          "output_type": "display_data"
        },
        {
          "name": "stderr",
          "output_type": "stream",
          "text": [
            "The following columns in the evaluation set  don't have a corresponding argument in `Wav2Vec2ForCTC.forward` and have been ignored: input_length.\n",
            "***** Running Evaluation *****\n",
            "  Num examples = 1647\n",
            "  Batch size = 8\n",
            "Saving model checkpoint to wav2vec2-large-xls-r-300m-turkish-colab/checkpoint-400\n",
            "Configuration saved in wav2vec2-large-xls-r-300m-turkish-colab/checkpoint-400/config.json\n",
            "Model weights saved in wav2vec2-large-xls-r-300m-turkish-colab/checkpoint-400/pytorch_model.bin\n",
            "Configuration saved in wav2vec2-large-xls-r-300m-turkish-colab/checkpoint-400/preprocessor_config.json\n",
            "Configuration saved in wav2vec2-large-xls-r-300m-turkish-colab/preprocessor_config.json\n",
            "/usr/local/lib/python3.7/dist-packages/transformers/models/wav2vec2/modeling_wav2vec2.py:882: UserWarning: __floordiv__ is deprecated, and its behavior will change in a future version of pytorch. It currently rounds toward 0 (like the 'trunc' function NOT 'floor'). This results in incorrect rounding for negative values. To keep the current behavior, use torch.div(a, b, rounding_mode='trunc'), or for actual floor division, use torch.div(a, b, rounding_mode='floor').\n",
            "  return (input_length - kernel_size) // stride + 1\n",
            "The following columns in the evaluation set  don't have a corresponding argument in `Wav2Vec2ForCTC.forward` and have been ignored: input_length.\n",
            "***** Running Evaluation *****\n",
            "  Num examples = 1647\n",
            "  Batch size = 8\n",
            "Saving model checkpoint to wav2vec2-large-xls-r-300m-turkish-colab/checkpoint-800\n",
            "Configuration saved in wav2vec2-large-xls-r-300m-turkish-colab/checkpoint-800/config.json\n",
            "Model weights saved in wav2vec2-large-xls-r-300m-turkish-colab/checkpoint-800/pytorch_model.bin\n",
            "Configuration saved in wav2vec2-large-xls-r-300m-turkish-colab/checkpoint-800/preprocessor_config.json\n",
            "/usr/local/lib/python3.7/dist-packages/transformers/models/wav2vec2/modeling_wav2vec2.py:882: UserWarning: __floordiv__ is deprecated, and its behavior will change in a future version of pytorch. It currently rounds toward 0 (like the 'trunc' function NOT 'floor'). This results in incorrect rounding for negative values. To keep the current behavior, use torch.div(a, b, rounding_mode='trunc'), or for actual floor division, use torch.div(a, b, rounding_mode='floor').\n",
            "  return (input_length - kernel_size) // stride + 1\n",
            "The following columns in the evaluation set  don't have a corresponding argument in `Wav2Vec2ForCTC.forward` and have been ignored: input_length.\n",
            "***** Running Evaluation *****\n",
            "  Num examples = 1647\n",
            "  Batch size = 8\n",
            "Saving model checkpoint to wav2vec2-large-xls-r-300m-turkish-colab/checkpoint-1200\n",
            "Configuration saved in wav2vec2-large-xls-r-300m-turkish-colab/checkpoint-1200/config.json\n",
            "Model weights saved in wav2vec2-large-xls-r-300m-turkish-colab/checkpoint-1200/pytorch_model.bin\n",
            "Configuration saved in wav2vec2-large-xls-r-300m-turkish-colab/checkpoint-1200/preprocessor_config.json\n",
            "Deleting older checkpoint [wav2vec2-large-xls-r-300m-turkish-colab/checkpoint-400] due to args.save_total_limit\n",
            "/usr/local/lib/python3.7/dist-packages/transformers/models/wav2vec2/modeling_wav2vec2.py:882: UserWarning: __floordiv__ is deprecated, and its behavior will change in a future version of pytorch. It currently rounds toward 0 (like the 'trunc' function NOT 'floor'). This results in incorrect rounding for negative values. To keep the current behavior, use torch.div(a, b, rounding_mode='trunc'), or for actual floor division, use torch.div(a, b, rounding_mode='floor').\n",
            "  return (input_length - kernel_size) // stride + 1\n",
            "The following columns in the evaluation set  don't have a corresponding argument in `Wav2Vec2ForCTC.forward` and have been ignored: input_length.\n",
            "***** Running Evaluation *****\n",
            "  Num examples = 1647\n",
            "  Batch size = 8\n",
            "Saving model checkpoint to wav2vec2-large-xls-r-300m-turkish-colab/checkpoint-1600\n",
            "Configuration saved in wav2vec2-large-xls-r-300m-turkish-colab/checkpoint-1600/config.json\n",
            "Model weights saved in wav2vec2-large-xls-r-300m-turkish-colab/checkpoint-1600/pytorch_model.bin\n",
            "Configuration saved in wav2vec2-large-xls-r-300m-turkish-colab/checkpoint-1600/preprocessor_config.json\n",
            "Deleting older checkpoint [wav2vec2-large-xls-r-300m-turkish-colab/checkpoint-800] due to args.save_total_limit\n",
            "/usr/local/lib/python3.7/dist-packages/transformers/models/wav2vec2/modeling_wav2vec2.py:882: UserWarning: __floordiv__ is deprecated, and its behavior will change in a future version of pytorch. It currently rounds toward 0 (like the 'trunc' function NOT 'floor'). This results in incorrect rounding for negative values. To keep the current behavior, use torch.div(a, b, rounding_mode='trunc'), or for actual floor division, use torch.div(a, b, rounding_mode='floor').\n",
            "  return (input_length - kernel_size) // stride + 1\n",
            "The following columns in the evaluation set  don't have a corresponding argument in `Wav2Vec2ForCTC.forward` and have been ignored: input_length.\n",
            "***** Running Evaluation *****\n",
            "  Num examples = 1647\n",
            "  Batch size = 8\n",
            "Saving model checkpoint to wav2vec2-large-xls-r-300m-turkish-colab/checkpoint-2000\n",
            "Configuration saved in wav2vec2-large-xls-r-300m-turkish-colab/checkpoint-2000/config.json\n",
            "Model weights saved in wav2vec2-large-xls-r-300m-turkish-colab/checkpoint-2000/pytorch_model.bin\n",
            "Configuration saved in wav2vec2-large-xls-r-300m-turkish-colab/checkpoint-2000/preprocessor_config.json\n",
            "Deleting older checkpoint [wav2vec2-large-xls-r-300m-turkish-colab/checkpoint-1200] due to args.save_total_limit\n",
            "/usr/local/lib/python3.7/dist-packages/transformers/models/wav2vec2/modeling_wav2vec2.py:882: UserWarning: __floordiv__ is deprecated, and its behavior will change in a future version of pytorch. It currently rounds toward 0 (like the 'trunc' function NOT 'floor'). This results in incorrect rounding for negative values. To keep the current behavior, use torch.div(a, b, rounding_mode='trunc'), or for actual floor division, use torch.div(a, b, rounding_mode='floor').\n",
            "  return (input_length - kernel_size) // stride + 1\n",
            "The following columns in the evaluation set  don't have a corresponding argument in `Wav2Vec2ForCTC.forward` and have been ignored: input_length.\n",
            "***** Running Evaluation *****\n",
            "  Num examples = 1647\n",
            "  Batch size = 8\n",
            "Saving model checkpoint to wav2vec2-large-xls-r-300m-turkish-colab/checkpoint-2400\n",
            "Configuration saved in wav2vec2-large-xls-r-300m-turkish-colab/checkpoint-2400/config.json\n",
            "Model weights saved in wav2vec2-large-xls-r-300m-turkish-colab/checkpoint-2400/pytorch_model.bin\n",
            "Configuration saved in wav2vec2-large-xls-r-300m-turkish-colab/checkpoint-2400/preprocessor_config.json\n",
            "Deleting older checkpoint [wav2vec2-large-xls-r-300m-turkish-colab/checkpoint-1600] due to args.save_total_limit\n",
            "/usr/local/lib/python3.7/dist-packages/transformers/models/wav2vec2/modeling_wav2vec2.py:882: UserWarning: __floordiv__ is deprecated, and its behavior will change in a future version of pytorch. It currently rounds toward 0 (like the 'trunc' function NOT 'floor'). This results in incorrect rounding for negative values. To keep the current behavior, use torch.div(a, b, rounding_mode='trunc'), or for actual floor division, use torch.div(a, b, rounding_mode='floor').\n",
            "  return (input_length - kernel_size) // stride + 1\n",
            "The following columns in the evaluation set  don't have a corresponding argument in `Wav2Vec2ForCTC.forward` and have been ignored: input_length.\n",
            "***** Running Evaluation *****\n",
            "  Num examples = 1647\n",
            "  Batch size = 8\n",
            "Saving model checkpoint to wav2vec2-large-xls-r-300m-turkish-colab/checkpoint-2800\n",
            "Configuration saved in wav2vec2-large-xls-r-300m-turkish-colab/checkpoint-2800/config.json\n",
            "Model weights saved in wav2vec2-large-xls-r-300m-turkish-colab/checkpoint-2800/pytorch_model.bin\n",
            "Configuration saved in wav2vec2-large-xls-r-300m-turkish-colab/checkpoint-2800/preprocessor_config.json\n",
            "Deleting older checkpoint [wav2vec2-large-xls-r-300m-turkish-colab/checkpoint-2000] due to args.save_total_limit\n",
            "/usr/local/lib/python3.7/dist-packages/transformers/models/wav2vec2/modeling_wav2vec2.py:882: UserWarning: __floordiv__ is deprecated, and its behavior will change in a future version of pytorch. It currently rounds toward 0 (like the 'trunc' function NOT 'floor'). This results in incorrect rounding for negative values. To keep the current behavior, use torch.div(a, b, rounding_mode='trunc'), or for actual floor division, use torch.div(a, b, rounding_mode='floor').\n",
            "  return (input_length - kernel_size) // stride + 1\n",
            "The following columns in the evaluation set  don't have a corresponding argument in `Wav2Vec2ForCTC.forward` and have been ignored: input_length.\n",
            "***** Running Evaluation *****\n",
            "  Num examples = 1647\n",
            "  Batch size = 8\n",
            "Saving model checkpoint to wav2vec2-large-xls-r-300m-turkish-colab/checkpoint-3200\n",
            "Configuration saved in wav2vec2-large-xls-r-300m-turkish-colab/checkpoint-3200/config.json\n",
            "Model weights saved in wav2vec2-large-xls-r-300m-turkish-colab/checkpoint-3200/pytorch_model.bin\n",
            "Configuration saved in wav2vec2-large-xls-r-300m-turkish-colab/checkpoint-3200/preprocessor_config.json\n",
            "Deleting older checkpoint [wav2vec2-large-xls-r-300m-turkish-colab/checkpoint-2400] due to args.save_total_limit\n",
            "/usr/local/lib/python3.7/dist-packages/transformers/models/wav2vec2/modeling_wav2vec2.py:882: UserWarning: __floordiv__ is deprecated, and its behavior will change in a future version of pytorch. It currently rounds toward 0 (like the 'trunc' function NOT 'floor'). This results in incorrect rounding for negative values. To keep the current behavior, use torch.div(a, b, rounding_mode='trunc'), or for actual floor division, use torch.div(a, b, rounding_mode='floor').\n",
            "  return (input_length - kernel_size) // stride + 1\n",
            "\n",
            "\n",
            "Training completed. Do not forget to share your model on huggingface.co/models =)\n",
            "\n",
            "\n"
          ]
        },
        {
          "data": {
            "text/plain": [
              "TrainOutput(global_step=3270, training_loss=0.5767540113641582, metrics={'train_runtime': 16918.4457, 'train_samples_per_second': 6.167, 'train_steps_per_second': 0.193, 'total_flos': 1.2873093995838829e+19, 'train_loss': 0.5767540113641582, 'epoch': 30.0})"
            ]
          },
          "execution_count": null,
          "metadata": {},
          "output_type": "execute_result"
        }
      ]
    },
    {
      "cell_type": "markdown",
      "metadata": {
        "id": "a9q4mgMZplr_"
      },
      "source": [
        "The training loss and validation WER go down nicely."
      ]
    },
    {
      "cell_type": "markdown",
      "metadata": {
        "id": "4Ya7WEy0pd13"
      },
      "source": [
        "You can now upload the result of the training to the 🤗 Hub, just execute this instruction:"
      ]
    },
    {
      "cell_type": "code",
      "metadata": {
        "colab": {
          "background_save": true,
          "referenced_widgets": [
            "2d2f71d2c70d466cb9a0d3317fb3095e",
            "2e894a5b95cb489db8b27c6617fd9533"
          ]
        },
        "id": "ArG1Thf6NBWm",
        "outputId": "62ef1c3d-786c-4e25-f9c5-4020e71aa298"
      },
      "source": [
        "trainer.push_to_hub()"
      ],
      "execution_count": null,
      "outputs": [
        {
          "name": "stderr",
          "output_type": "stream",
          "text": [
            "Saving model checkpoint to wav2vec2-large-xls-r-300m-turkish-colab\n",
            "Configuration saved in wav2vec2-large-xls-r-300m-turkish-colab/config.json\n",
            "Model weights saved in wav2vec2-large-xls-r-300m-turkish-colab/pytorch_model.bin\n",
            "Configuration saved in wav2vec2-large-xls-r-300m-turkish-colab/preprocessor_config.json\n",
            "Several commits (2) will be pushed upstream.\n",
            "The progress bars may be unreliable.\n"
          ]
        },
        {
          "data": {
            "application/vnd.jupyter.widget-view+json": {
              "model_id": "2d2f71d2c70d466cb9a0d3317fb3095e",
              "version_major": 2,
              "version_minor": 0
            },
            "text/plain": [
              "Upload file pytorch_model.bin:   0%|          | 3.35k/1.18G [00:00<?, ?B/s]"
            ]
          },
          "metadata": {},
          "output_type": "display_data"
        },
        {
          "data": {
            "application/vnd.jupyter.widget-view+json": {
              "model_id": "2e894a5b95cb489db8b27c6617fd9533",
              "version_major": 2,
              "version_minor": 0
            },
            "text/plain": [
              "Upload file runs/Nov12_14-33-48_c2d4142f9305/events.out.tfevents.1636727730.c2d4142f9305.1468.0:  41%|####1   …"
            ]
          },
          "metadata": {},
          "output_type": "display_data"
        },
        {
          "name": "stderr",
          "output_type": "stream",
          "text": [
            "To https://huggingface.co/patrickvonplaten/wav2vec2-large-xls-r-300m-turkish-colab\n",
            "   56ebe74..fe76946  main -> main\n",
            "\n",
            "Dropping the following result as it does not have all the necessary field:\n",
            "{'dataset': {'name': 'common_voice', 'type': 'common_voice', 'args': 'tr'}}\n",
            "To https://huggingface.co/patrickvonplaten/wav2vec2-large-xls-r-300m-turkish-colab\n",
            "   fe76946..5f0d67b  main -> main\n",
            "\n"
          ]
        },
        {
          "data": {
            "application/vnd.google.colaboratory.intrinsic+json": {
              "type": "string"
            },
            "text/plain": [
              "'https://huggingface.co/patrickvonplaten/wav2vec2-large-xls-r-300m-turkish-colab/commit/fe769461e4e2fb9534740e6c278a0cfabf268474'"
            ]
          },
          "execution_count": null,
          "metadata": {},
          "output_type": "execute_result"
        }
      ]
    },
    {
      "cell_type": "markdown",
      "metadata": {
        "id": "RHIVc44_fY2N"
      },
      "source": [
        "You can now share this model with all your friends, family, favorite pets: they can all load it with the identifier \"your-username/the-name-you-picked\" so for instance:"
      ]
    },
    {
      "cell_type": "markdown",
      "metadata": {
        "id": "5lWWIKyBpx1h"
      },
      "source": [
        "```python\n",
        "from transformers import AutoModelForCTC, Wav2Vec2Processor\n",
        "\n",
        "model = AutoModelForCTC.from_pretrained(\"patrickvonplaten/wav2vec2-large-xls-r-300m-tr-colab\")\n",
        "processor = Wav2Vec2Processor.from_pretrained(\"patrickvonplaten/wav2vec2-large-xls-r-300m-tr-colab\")\n",
        "```"
      ]
    },
    {
      "cell_type": "markdown",
      "metadata": {
        "id": "pmi1cX0fRBit"
      },
      "source": [
        "For more examples of how XLS-R can be fine-tuned, please take a look at the [official speech recognition examples](https://github.com/huggingface/transformers/tree/master/examples/pytorch/speech-recognition#examples)."
      ]
    },
    {
      "cell_type": "markdown",
      "metadata": {
        "id": "L8b8Qkoy3KyS"
      },
      "source": [
        "### Evaluation\n",
        "\n",
        "As a final check, let's load the model and verify that it indeed has learned to transcribe Turkish speech.\n",
        "\n",
        "Let's first load the pretrained checkpoint."
      ]
    },
    {
      "cell_type": "code",
      "metadata": {
        "colab": {
          "background_save": true
        },
        "id": "R351I9IQp_9D",
        "outputId": "f2a2ee99-7db6-4962-e140-0107054102d3"
      },
      "source": [
        "model = Wav2Vec2ForCTC.from_pretrained(repo_name).to(\"cuda\")\n",
        "processor = Wav2Vec2Processor.from_pretrained(repo_name)"
      ],
      "execution_count": null,
      "outputs": [
        {
          "name": "stderr",
          "output_type": "stream",
          "text": [
            "loading configuration file wav2vec2-large-xls-r-300m-turkish-colab/config.json\n",
            "Model config Wav2Vec2Config {\n",
            "  \"_name_or_path\": \"facebook/wav2vec2-xls-r-300m\",\n",
            "  \"activation_dropout\": 0.0,\n",
            "  \"apply_spec_augment\": true,\n",
            "  \"architectures\": [\n",
            "    \"Wav2Vec2ForCTC\"\n",
            "  ],\n",
            "  \"attention_dropout\": 0.0,\n",
            "  \"bos_token_id\": 1,\n",
            "  \"classifier_proj_size\": 256,\n",
            "  \"codevector_dim\": 768,\n",
            "  \"contrastive_logits_temperature\": 0.1,\n",
            "  \"conv_bias\": true,\n",
            "  \"conv_dim\": [\n",
            "    512,\n",
            "    512,\n",
            "    512,\n",
            "    512,\n",
            "    512,\n",
            "    512,\n",
            "    512\n",
            "  ],\n",
            "  \"conv_kernel\": [\n",
            "    10,\n",
            "    3,\n",
            "    3,\n",
            "    3,\n",
            "    3,\n",
            "    2,\n",
            "    2\n",
            "  ],\n",
            "  \"conv_stride\": [\n",
            "    5,\n",
            "    2,\n",
            "    2,\n",
            "    2,\n",
            "    2,\n",
            "    2,\n",
            "    2\n",
            "  ],\n",
            "  \"ctc_loss_reduction\": \"mean\",\n",
            "  \"ctc_zero_infinity\": false,\n",
            "  \"diversity_loss_weight\": 0.1,\n",
            "  \"do_stable_layer_norm\": true,\n",
            "  \"eos_token_id\": 2,\n",
            "  \"feat_extract_activation\": \"gelu\",\n",
            "  \"feat_extract_dropout\": 0.0,\n",
            "  \"feat_extract_norm\": \"layer\",\n",
            "  \"feat_proj_dropout\": 0.0,\n",
            "  \"feat_quantizer_dropout\": 0.0,\n",
            "  \"final_dropout\": 0.0,\n",
            "  \"gradient_checkpointing\": false,\n",
            "  \"hidden_act\": \"gelu\",\n",
            "  \"hidden_dropout\": 0.0,\n",
            "  \"hidden_size\": 1024,\n",
            "  \"initializer_range\": 0.02,\n",
            "  \"intermediate_size\": 4096,\n",
            "  \"layer_norm_eps\": 1e-05,\n",
            "  \"layerdrop\": 0.0,\n",
            "  \"mask_feature_length\": 10,\n",
            "  \"mask_feature_prob\": 0.0,\n",
            "  \"mask_time_length\": 10,\n",
            "  \"mask_time_prob\": 0.05,\n",
            "  \"model_type\": \"wav2vec2\",\n",
            "  \"num_attention_heads\": 16,\n",
            "  \"num_codevector_groups\": 2,\n",
            "  \"num_codevectors_per_group\": 320,\n",
            "  \"num_conv_pos_embedding_groups\": 16,\n",
            "  \"num_conv_pos_embeddings\": 128,\n",
            "  \"num_feat_extract_layers\": 7,\n",
            "  \"num_hidden_layers\": 24,\n",
            "  \"num_negatives\": 100,\n",
            "  \"pad_token_id\": 36,\n",
            "  \"proj_codevector_dim\": 768,\n",
            "  \"torch_dtype\": \"float32\",\n",
            "  \"transformers_version\": \"4.11.3\",\n",
            "  \"use_weighted_layer_sum\": false,\n",
            "  \"vocab_size\": 39\n",
            "}\n",
            "\n",
            "loading weights file wav2vec2-large-xls-r-300m-turkish-colab/pytorch_model.bin\n",
            "All model checkpoint weights were used when initializing Wav2Vec2ForCTC.\n",
            "\n",
            "All the weights of Wav2Vec2ForCTC were initialized from the model checkpoint at wav2vec2-large-xls-r-300m-turkish-colab.\n",
            "If your task is similar to the task the model of the checkpoint was trained on, you can already use Wav2Vec2ForCTC for predictions without further training.\n",
            "loading feature extractor configuration file wav2vec2-large-xls-r-300m-turkish-colab/preprocessor_config.json\n",
            "Feature extractor Wav2Vec2FeatureExtractor {\n",
            "  \"do_normalize\": true,\n",
            "  \"feature_extractor_type\": \"Wav2Vec2FeatureExtractor\",\n",
            "  \"feature_size\": 1,\n",
            "  \"padding_side\": \"right\",\n",
            "  \"padding_value\": 0.0,\n",
            "  \"return_attention_mask\": true,\n",
            "  \"sampling_rate\": 16000\n",
            "}\n",
            "\n",
            "Didn't find file wav2vec2-large-xls-r-300m-turkish-colab/tokenizer.json. We won't load it.\n",
            "loading file wav2vec2-large-xls-r-300m-turkish-colab/vocab.json\n",
            "loading file wav2vec2-large-xls-r-300m-turkish-colab/tokenizer_config.json\n",
            "loading file wav2vec2-large-xls-r-300m-turkish-colab/added_tokens.json\n",
            "loading file wav2vec2-large-xls-r-300m-turkish-colab/special_tokens_map.json\n",
            "loading file None\n",
            "Adding <s> to the vocabulary\n",
            "Adding </s> to the vocabulary\n"
          ]
        }
      ]
    },
    {
      "cell_type": "markdown",
      "metadata": {
        "id": "jD7TZ1YS3S_K"
      },
      "source": [
        "\n",
        "Now, we will just take the first example of the test set, run it through the model and take the `argmax(...)` of the logits to retrieve the predicted token ids."
      ]
    },
    {
      "cell_type": "code",
      "metadata": {
        "colab": {
          "background_save": true
        },
        "id": "pax07TnL3WZn",
        "outputId": "867787ff-0cb7-41e9-f926-96f7b53e7134"
      },
      "source": [
        "input_dict = processor(common_voice_test[0][\"input_values\"], return_tensors=\"pt\", padding=True)\n",
        "\n",
        "logits = model(input_dict.input_values.to(\"cuda\")).logits\n",
        "\n",
        "pred_ids = torch.argmax(logits, dim=-1)[0]"
      ],
      "execution_count": null,
      "outputs": [
        {
          "name": "stderr",
          "output_type": "stream",
          "text": [
            "It is strongly recommended to pass the ``sampling_rate`` argument to this function.Failing to do so can result in silent errors that might be hard to debug.\n"
          ]
        }
      ]
    },
    {
      "cell_type": "markdown",
      "metadata": {
        "id": "7nkzSQu53Zs2"
      },
      "source": [
        "We adapted `common_voice_test` quite a bit so that the dataset instance does not contain the original sentence label anymore. Thus, we re-use the original dataset to get the label of the first example."
      ]
    },
    {
      "cell_type": "code",
      "metadata": {
        "colab": {
          "background_save": true,
          "referenced_widgets": [
            "54097a6c744849128d7cc3da8aad6609",
            "b8827ecbec9e44f09216f62c1ee12840",
            "8728bb32478240b7abe576375b01e640",
            "19b8a530352a423794395979e6415bea",
            "5fc8ec04870e4bb7b63b20844c355ab6"
          ]
        },
        "id": "fe2AE-2xqKHx",
        "outputId": "1d8321b3-4f41-4d71-e74e-f33f32a7b261"
      },
      "source": [
        "common_voice_test_transcription = load_dataset(\"common_voice\", \"tr\", data_dir=\"./cv-corpus-6.1-2020-12-11\", split=\"test\")"
      ],
      "execution_count": null,
      "outputs": [
        {
          "name": "stderr",
          "output_type": "stream",
          "text": [
            "Using custom data configuration tr-ad9f7b76efa9f3a0\n"
          ]
        },
        {
          "name": "stdout",
          "output_type": "stream",
          "text": [
            "Downloading and preparing dataset common_voice/tr (download: 592.09 MiB, generated: 2.89 MiB, post-processed: Unknown size, total: 594.98 MiB) to /root/.cache/huggingface/datasets/common_voice/tr-ad9f7b76efa9f3a0/6.1.0/f7a9d973839b7706e9e281c19b7e512f31badf3c0fdbd21c671f3c4bf9acf3b9...\n"
          ]
        },
        {
          "data": {
            "application/vnd.jupyter.widget-view+json": {
              "model_id": "54097a6c744849128d7cc3da8aad6609",
              "version_major": 2,
              "version_minor": 0
            },
            "text/plain": [
              "0 examples [00:00, ? examples/s]"
            ]
          },
          "metadata": {},
          "output_type": "display_data"
        },
        {
          "data": {
            "application/vnd.jupyter.widget-view+json": {
              "model_id": "b8827ecbec9e44f09216f62c1ee12840",
              "version_major": 2,
              "version_minor": 0
            },
            "text/plain": [
              "0 examples [00:00, ? examples/s]"
            ]
          },
          "metadata": {},
          "output_type": "display_data"
        },
        {
          "data": {
            "application/vnd.jupyter.widget-view+json": {
              "model_id": "8728bb32478240b7abe576375b01e640",
              "version_major": 2,
              "version_minor": 0
            },
            "text/plain": [
              "0 examples [00:00, ? examples/s]"
            ]
          },
          "metadata": {},
          "output_type": "display_data"
        },
        {
          "data": {
            "application/vnd.jupyter.widget-view+json": {
              "model_id": "19b8a530352a423794395979e6415bea",
              "version_major": 2,
              "version_minor": 0
            },
            "text/plain": [
              "0 examples [00:00, ? examples/s]"
            ]
          },
          "metadata": {},
          "output_type": "display_data"
        },
        {
          "data": {
            "application/vnd.jupyter.widget-view+json": {
              "model_id": "5fc8ec04870e4bb7b63b20844c355ab6",
              "version_major": 2,
              "version_minor": 0
            },
            "text/plain": [
              "0 examples [00:00, ? examples/s]"
            ]
          },
          "metadata": {},
          "output_type": "display_data"
        },
        {
          "name": "stdout",
          "output_type": "stream",
          "text": [
            "Dataset common_voice downloaded and prepared to /root/.cache/huggingface/datasets/common_voice/tr-ad9f7b76efa9f3a0/6.1.0/f7a9d973839b7706e9e281c19b7e512f31badf3c0fdbd21c671f3c4bf9acf3b9. Subsequent calls will reuse this data.\n"
          ]
        }
      ]
    },
    {
      "cell_type": "markdown",
      "metadata": {
        "id": "epu8kCQZ3h70"
      },
      "source": [
        "\n",
        "Finally, we can decode the example."
      ]
    },
    {
      "cell_type": "code",
      "metadata": {
        "colab": {
          "background_save": true
        },
        "id": "K4xWqmk_qMn0",
        "outputId": "d9e40b3c-f02a-48a1-d081-6d7e8b37dcaf"
      },
      "source": [
        "print(\"Prediction:\")\n",
        "print(processor.decode(pred_ids))\n",
        "\n",
        "print(\"\\nReference:\")\n",
        "print(common_voice_test_transcription[0][\"sentence\"].lower())"
      ],
      "execution_count": null,
      "outputs": [
        {
          "name": "stdout",
          "output_type": "stream",
          "text": [
            "Prediction:\n",
            "ha ta küçük şeyleri için bir büyük biş şeylir koğoluyor ve yeneküçük şeyler için bir birmizi incilkiyoruz\n",
            "\n",
            "Reference:\n",
            "hayatta küçük şeyleri kovalıyor ve yine küçük şeyler için birbirimizi incitiyoruz.\n"
          ]
        }
      ]
    },
    {
      "cell_type": "markdown",
      "metadata": {
        "id": "HwhyoMml3oOT"
      },
      "source": [
        "Alright! The transcription can definitely be recognized from our prediction, but it is not perfect yet. Training the model a bit longer, spending more time on the data preprocessing, and especially using a language model for decoding would certainly improve the model's overall performance.\n",
        "\n",
        "For a demonstration model on a low-resource language, the results are quite acceptable however 🤗."
      ]
    }
  ]
}