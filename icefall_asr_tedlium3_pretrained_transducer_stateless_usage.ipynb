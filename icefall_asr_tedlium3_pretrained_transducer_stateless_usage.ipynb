{
  "nbformat": 4,
  "nbformat_minor": 0,
  "metadata": {
    "colab": {
      "provenance": [],
      "include_colab_link": true
    },
    "kernelspec": {
      "name": "python3",
      "display_name": "Python 3"
    },
    "language_info": {
      "name": "python"
    },
    "accelerator": "GPU",
    "gpuClass": "standard"
  },
  "cells": [
    {
      "cell_type": "markdown",
      "metadata": {
        "id": "view-in-github",
        "colab_type": "text"
      },
      "source": [
        "<a href=\"https://colab.research.google.com/github/Cirediallo/Models/blob/main/icefall_asr_tedlium3_pretrained_transducer_stateless_usage.ipynb\" target=\"_parent\"><img src=\"https://colab.research.google.com/assets/colab-badge.svg\" alt=\"Open In Colab\"/></a>"
      ]
    },
    {
      "cell_type": "markdown",
      "source": [
        "## Description\n",
        "This notebook shows how to use a pre-trained Transducer Stateless model with [icefall](https://github.com/k2-fsa/icefall/)."
      ],
      "metadata": {
        "id": "J3pHMbzMOK0v"
      }
    },
    {
      "cell_type": "markdown",
      "source": [
        "## Environment setup\n",
        "\n",
        "To use a pre-trained model with icefall, we have to install the following dependencies:\n",
        "\n",
        "- [k2][k2], for FSA operations\n",
        "- [torchaudio][audio], for reading sound files\n",
        "- [kaldifeat][kaldifeat], for extracting features from a single sound\n",
        "  file or multiple sound files\n",
        "\n",
        "**NOTE**: [lhotse][lhotse] is used only in training time, for data preparation.\n",
        "\n",
        "\n",
        "[k2]: https://github.com/k2-fsa/k2\n",
        "[audio]: https://github.com/pytorch/audio\n",
        "[kaldifeat]: https://github.com/csukuangfj/kaldifeat\n",
        "[lhotse]: https://github.com/lhotse-speech/lhotse"
      ],
      "metadata": {
        "id": "id65zgvnOTzA"
      }
    },
    {
      "cell_type": "markdown",
      "source": [
        "### Install PyTorch and torchaudio\n",
        "\n"
      ],
      "metadata": {
        "id": "YjQKWEtAOTca"
      }
    },
    {
      "cell_type": "code",
      "source": [
        "! nvcc --version"
      ],
      "metadata": {
        "id": "5WnDeVDkdGzu",
        "outputId": "c60e3a81-1af3-4b22-cfbb-9e0e9fad5a00",
        "colab": {
          "base_uri": "https://localhost:8080/"
        }
      },
      "execution_count": 4,
      "outputs": [
        {
          "output_type": "stream",
          "name": "stdout",
          "text": [
            "nvcc: NVIDIA (R) Cuda compiler driver\n",
            "Copyright (c) 2005-2022 NVIDIA Corporation\n",
            "Built on Wed_Sep_21_10:33:58_PDT_2022\n",
            "Cuda compilation tools, release 11.8, V11.8.89\n",
            "Build cuda_11.8.r11.8/compiler.31833905_0\n"
          ]
        }
      ]
    },
    {
      "cell_type": "code",
      "source": [
        "pip install torch "
      ],
      "metadata": {
        "id": "pfu-HbfbhbTh",
        "outputId": "6bdd6ff1-76b6-4354-f7df-7dec53608971",
        "colab": {
          "base_uri": "https://localhost:8080/"
        }
      },
      "execution_count": 13,
      "outputs": [
        {
          "output_type": "stream",
          "name": "stdout",
          "text": [
            "Looking in indexes: https://pypi.org/simple, https://us-python.pkg.dev/colab-wheels/public/simple/\n",
            "Collecting torch\n",
            "  Downloading torch-2.0.0-cp39-cp39-manylinux1_x86_64.whl (619.9 MB)\n",
            "\u001b[2K     \u001b[90m━━━━━━━━━━━━━━━━━━━━━━━━━━━━━━━━━━━━━━━\u001b[0m \u001b[32m619.9/619.9 MB\u001b[0m \u001b[31m2.6 MB/s\u001b[0m eta \u001b[36m0:00:00\u001b[0m\n",
            "\u001b[?25hCollecting nvidia-cuda-cupti-cu11==11.7.101\n",
            "  Downloading nvidia_cuda_cupti_cu11-11.7.101-py3-none-manylinux1_x86_64.whl (11.8 MB)\n",
            "\u001b[2K     \u001b[90m━━━━━━━━━━━━━━━━━━━━━━━━━━━━━━━━━━━━━━━━\u001b[0m \u001b[32m11.8/11.8 MB\u001b[0m \u001b[31m96.1 MB/s\u001b[0m eta \u001b[36m0:00:00\u001b[0m\n",
            "\u001b[?25hCollecting nvidia-cufft-cu11==10.9.0.58\n",
            "  Downloading nvidia_cufft_cu11-10.9.0.58-py3-none-manylinux1_x86_64.whl (168.4 MB)\n",
            "\u001b[2K     \u001b[90m━━━━━━━━━━━━━━━━━━━━━━━━━━━━━━━━━━━━━━━\u001b[0m \u001b[32m168.4/168.4 MB\u001b[0m \u001b[31m7.3 MB/s\u001b[0m eta \u001b[36m0:00:00\u001b[0m\n",
            "\u001b[?25hRequirement already satisfied: jinja2 in /usr/local/lib/python3.9/dist-packages (from torch) (3.1.2)\n",
            "Collecting nvidia-cusolver-cu11==11.4.0.1\n",
            "  Downloading nvidia_cusolver_cu11-11.4.0.1-2-py3-none-manylinux1_x86_64.whl (102.6 MB)\n",
            "\u001b[2K     \u001b[90m━━━━━━━━━━━━━━━━━━━━━━━━━━━━━━━━━━━━━━━\u001b[0m \u001b[32m102.6/102.6 MB\u001b[0m \u001b[31m8.7 MB/s\u001b[0m eta \u001b[36m0:00:00\u001b[0m\n",
            "\u001b[?25hRequirement already satisfied: sympy in /usr/local/lib/python3.9/dist-packages (from torch) (1.11.1)\n",
            "Requirement already satisfied: networkx in /usr/local/lib/python3.9/dist-packages (from torch) (3.1)\n",
            "Collecting nvidia-cudnn-cu11==8.5.0.96\n",
            "  Downloading nvidia_cudnn_cu11-8.5.0.96-2-py3-none-manylinux1_x86_64.whl (557.1 MB)\n",
            "\u001b[2K     \u001b[90m━━━━━━━━━━━━━━━━━━━━━━━━━━━━━━━━━━━━━━━\u001b[0m \u001b[32m557.1/557.1 MB\u001b[0m \u001b[31m3.1 MB/s\u001b[0m eta \u001b[36m0:00:00\u001b[0m\n",
            "\u001b[?25hCollecting nvidia-cusparse-cu11==11.7.4.91\n",
            "  Downloading nvidia_cusparse_cu11-11.7.4.91-py3-none-manylinux1_x86_64.whl (173.2 MB)\n",
            "\u001b[2K     \u001b[90m━━━━━━━━━━━━━━━━━━━━━━━━━━━━━━━━━━━━━━━\u001b[0m \u001b[32m173.2/173.2 MB\u001b[0m \u001b[31m8.0 MB/s\u001b[0m eta \u001b[36m0:00:00\u001b[0m\n",
            "\u001b[?25hRequirement already satisfied: triton==2.0.0 in /usr/local/lib/python3.9/dist-packages (from torch) (2.0.0)\n",
            "Collecting nvidia-curand-cu11==10.2.10.91\n",
            "  Downloading nvidia_curand_cu11-10.2.10.91-py3-none-manylinux1_x86_64.whl (54.6 MB)\n",
            "\u001b[2K     \u001b[90m━━━━━━━━━━━━━━━━━━━━━━━━━━━━━━━━━━━━━━━━\u001b[0m \u001b[32m54.6/54.6 MB\u001b[0m \u001b[31m18.2 MB/s\u001b[0m eta \u001b[36m0:00:00\u001b[0m\n",
            "\u001b[?25hCollecting nvidia-cublas-cu11==11.10.3.66\n",
            "  Downloading nvidia_cublas_cu11-11.10.3.66-py3-none-manylinux1_x86_64.whl (317.1 MB)\n",
            "\u001b[2K     \u001b[90m━━━━━━━━━━━━━━━━━━━━━━━━━━━━━━━━━━━━━━━\u001b[0m \u001b[32m317.1/317.1 MB\u001b[0m \u001b[31m4.8 MB/s\u001b[0m eta \u001b[36m0:00:00\u001b[0m\n",
            "\u001b[?25hRequirement already satisfied: typing-extensions in /usr/local/lib/python3.9/dist-packages (from torch) (4.5.0)\n",
            "Collecting nvidia-nccl-cu11==2.14.3\n",
            "  Downloading nvidia_nccl_cu11-2.14.3-py3-none-manylinux1_x86_64.whl (177.1 MB)\n",
            "\u001b[2K     \u001b[90m━━━━━━━━━━━━━━━━━━━━━━━━━━━━━━━━━━━━━━━\u001b[0m \u001b[32m177.1/177.1 MB\u001b[0m \u001b[31m7.2 MB/s\u001b[0m eta \u001b[36m0:00:00\u001b[0m\n",
            "\u001b[?25hCollecting nvidia-nvtx-cu11==11.7.91\n",
            "  Downloading nvidia_nvtx_cu11-11.7.91-py3-none-manylinux1_x86_64.whl (98 kB)\n",
            "\u001b[2K     \u001b[90m━━━━━━━━━━━━━━━━━━━━━━━━━━━━━━━━━━━━━━━━\u001b[0m \u001b[32m98.6/98.6 kB\u001b[0m \u001b[31m14.1 MB/s\u001b[0m eta \u001b[36m0:00:00\u001b[0m\n",
            "\u001b[?25hCollecting nvidia-cuda-runtime-cu11==11.7.99\n",
            "  Downloading nvidia_cuda_runtime_cu11-11.7.99-py3-none-manylinux1_x86_64.whl (849 kB)\n",
            "\u001b[2K     \u001b[90m━━━━━━━━━━━━━━━━━━━━━━━━━━━━━━━━━━━━━━\u001b[0m \u001b[32m849.3/849.3 kB\u001b[0m \u001b[31m55.2 MB/s\u001b[0m eta \u001b[36m0:00:00\u001b[0m\n",
            "\u001b[?25hCollecting nvidia-cuda-nvrtc-cu11==11.7.99\n",
            "  Downloading nvidia_cuda_nvrtc_cu11-11.7.99-2-py3-none-manylinux1_x86_64.whl (21.0 MB)\n",
            "\u001b[2K     \u001b[90m━━━━━━━━━━━━━━━━━━━━━━━━━━━━━━━━━━━━━━━━\u001b[0m \u001b[32m21.0/21.0 MB\u001b[0m \u001b[31m54.9 MB/s\u001b[0m eta \u001b[36m0:00:00\u001b[0m\n",
            "\u001b[?25hRequirement already satisfied: filelock in /usr/local/lib/python3.9/dist-packages (from torch) (3.11.0)\n",
            "Requirement already satisfied: wheel in /usr/local/lib/python3.9/dist-packages (from nvidia-cublas-cu11==11.10.3.66->torch) (0.40.0)\n",
            "Requirement already satisfied: setuptools in /usr/local/lib/python3.9/dist-packages (from nvidia-cublas-cu11==11.10.3.66->torch) (67.6.1)\n",
            "Requirement already satisfied: cmake in /usr/local/lib/python3.9/dist-packages (from triton==2.0.0->torch) (3.25.2)\n",
            "Requirement already satisfied: lit in /usr/local/lib/python3.9/dist-packages (from triton==2.0.0->torch) (16.0.1)\n",
            "Requirement already satisfied: MarkupSafe>=2.0 in /usr/local/lib/python3.9/dist-packages (from jinja2->torch) (2.1.2)\n",
            "Requirement already satisfied: mpmath>=0.19 in /usr/local/lib/python3.9/dist-packages (from sympy->torch) (1.3.0)\n",
            "Installing collected packages: nvidia-nvtx-cu11, nvidia-nccl-cu11, nvidia-cusparse-cu11, nvidia-curand-cu11, nvidia-cufft-cu11, nvidia-cuda-runtime-cu11, nvidia-cuda-nvrtc-cu11, nvidia-cuda-cupti-cu11, nvidia-cublas-cu11, nvidia-cusolver-cu11, nvidia-cudnn-cu11, torch\n",
            "\u001b[31mERROR: pip's dependency resolver does not currently take into account all the packages that are installed. This behaviour is the source of the following dependency conflicts.\n",
            "fastai 2.7.12 requires torchvision>=0.8.2, which is not installed.\u001b[0m\u001b[31m\n",
            "\u001b[0mSuccessfully installed nvidia-cublas-cu11-11.10.3.66 nvidia-cuda-cupti-cu11-11.7.101 nvidia-cuda-nvrtc-cu11-11.7.99 nvidia-cuda-runtime-cu11-11.7.99 nvidia-cudnn-cu11-8.5.0.96 nvidia-cufft-cu11-10.9.0.58 nvidia-curand-cu11-10.2.10.91 nvidia-cusolver-cu11-11.4.0.1 nvidia-cusparse-cu11-11.7.4.91 nvidia-nccl-cu11-2.14.3 nvidia-nvtx-cu11-11.7.91 torch-2.0.0\n"
          ]
        }
      ]
    },
    {
      "cell_type": "code",
      "source": [
        "!pip install torchaudio "
      ],
      "metadata": {
        "id": "R0HNi6LLhpfW",
        "outputId": "abaee8a4-0203-4a5a-aeac-2b488138f68c",
        "colab": {
          "base_uri": "https://localhost:8080/"
        }
      },
      "execution_count": 28,
      "outputs": [
        {
          "output_type": "stream",
          "name": "stdout",
          "text": [
            "Looking in indexes: https://pypi.org/simple, https://us-python.pkg.dev/colab-wheels/public/simple/\n",
            "Requirement already satisfied: torchaudio in /usr/local/lib/python3.9/dist-packages (2.0.1)\n",
            "Collecting torch==2.0.0\n",
            "  Using cached torch-2.0.0-cp39-cp39-manylinux1_x86_64.whl (619.9 MB)\n",
            "Requirement already satisfied: nvidia-cusolver-cu11==11.4.0.1 in /usr/local/lib/python3.9/dist-packages (from torch==2.0.0->torchaudio) (11.4.0.1)\n",
            "Requirement already satisfied: nvidia-cusparse-cu11==11.7.4.91 in /usr/local/lib/python3.9/dist-packages (from torch==2.0.0->torchaudio) (11.7.4.91)\n",
            "Requirement already satisfied: typing-extensions in /usr/local/lib/python3.9/dist-packages (from torch==2.0.0->torchaudio) (4.5.0)\n",
            "Requirement already satisfied: nvidia-cuda-nvrtc-cu11==11.7.99 in /usr/local/lib/python3.9/dist-packages (from torch==2.0.0->torchaudio) (11.7.99)\n",
            "Requirement already satisfied: nvidia-curand-cu11==10.2.10.91 in /usr/local/lib/python3.9/dist-packages (from torch==2.0.0->torchaudio) (10.2.10.91)\n",
            "Requirement already satisfied: nvidia-nvtx-cu11==11.7.91 in /usr/local/lib/python3.9/dist-packages (from torch==2.0.0->torchaudio) (11.7.91)\n",
            "Requirement already satisfied: nvidia-cuda-cupti-cu11==11.7.101 in /usr/local/lib/python3.9/dist-packages (from torch==2.0.0->torchaudio) (11.7.101)\n",
            "Requirement already satisfied: nvidia-cuda-runtime-cu11==11.7.99 in /usr/local/lib/python3.9/dist-packages (from torch==2.0.0->torchaudio) (11.7.99)\n",
            "Requirement already satisfied: sympy in /usr/local/lib/python3.9/dist-packages (from torch==2.0.0->torchaudio) (1.11.1)\n",
            "Requirement already satisfied: nvidia-cudnn-cu11==8.5.0.96 in /usr/local/lib/python3.9/dist-packages (from torch==2.0.0->torchaudio) (8.5.0.96)\n",
            "Requirement already satisfied: nvidia-cublas-cu11==11.10.3.66 in /usr/local/lib/python3.9/dist-packages (from torch==2.0.0->torchaudio) (11.10.3.66)\n",
            "Requirement already satisfied: networkx in /usr/local/lib/python3.9/dist-packages (from torch==2.0.0->torchaudio) (3.1)\n",
            "Requirement already satisfied: triton==2.0.0 in /usr/local/lib/python3.9/dist-packages (from torch==2.0.0->torchaudio) (2.0.0)\n",
            "Requirement already satisfied: nvidia-nccl-cu11==2.14.3 in /usr/local/lib/python3.9/dist-packages (from torch==2.0.0->torchaudio) (2.14.3)\n",
            "Requirement already satisfied: filelock in /usr/local/lib/python3.9/dist-packages (from torch==2.0.0->torchaudio) (3.11.0)\n",
            "Requirement already satisfied: nvidia-cufft-cu11==10.9.0.58 in /usr/local/lib/python3.9/dist-packages (from torch==2.0.0->torchaudio) (10.9.0.58)\n",
            "Requirement already satisfied: jinja2 in /usr/local/lib/python3.9/dist-packages (from torch==2.0.0->torchaudio) (3.1.2)\n",
            "Requirement already satisfied: wheel in /usr/local/lib/python3.9/dist-packages (from nvidia-cublas-cu11==11.10.3.66->torch==2.0.0->torchaudio) (0.40.0)\n",
            "Requirement already satisfied: setuptools in /usr/local/lib/python3.9/dist-packages (from nvidia-cublas-cu11==11.10.3.66->torch==2.0.0->torchaudio) (67.6.1)\n",
            "Requirement already satisfied: lit in /usr/local/lib/python3.9/dist-packages (from triton==2.0.0->torch==2.0.0->torchaudio) (16.0.1)\n",
            "Requirement already satisfied: cmake in /usr/local/lib/python3.9/dist-packages (from triton==2.0.0->torch==2.0.0->torchaudio) (3.25.2)\n",
            "Requirement already satisfied: MarkupSafe>=2.0 in /usr/local/lib/python3.9/dist-packages (from jinja2->torch==2.0.0->torchaudio) (2.1.2)\n",
            "Requirement already satisfied: mpmath>=0.19 in /usr/local/lib/python3.9/dist-packages (from sympy->torch==2.0.0->torchaudio) (1.3.0)\n",
            "Installing collected packages: torch\n",
            "  Attempting uninstall: torch\n",
            "    Found existing installation: torch 1.13.1\n",
            "    Uninstalling torch-1.13.1:\n",
            "      Successfully uninstalled torch-1.13.1\n",
            "\u001b[31mERROR: pip's dependency resolver does not currently take into account all the packages that are installed. This behaviour is the source of the following dependency conflicts.\n",
            "fastai 2.7.12 requires torchvision>=0.8.2, which is not installed.\n",
            "k2 1.23.4 requires torch==1.13.1, but you have torch 2.0.0 which is incompatible.\u001b[0m\u001b[31m\n",
            "\u001b[0mSuccessfully installed torch-2.0.0\n"
          ]
        }
      ]
    },
    {
      "cell_type": "code",
      "source": [
        "!pip install torch==1.13.1"
      ],
      "metadata": {
        "id": "KyYYN8dDpWNw",
        "outputId": "a228d3c2-ae88-487a-8f13-74456ee0b8ca",
        "colab": {
          "base_uri": "https://localhost:8080/"
        }
      },
      "execution_count": 29,
      "outputs": [
        {
          "output_type": "stream",
          "name": "stdout",
          "text": [
            "Looking in indexes: https://pypi.org/simple, https://us-python.pkg.dev/colab-wheels/public/simple/\n",
            "Collecting torch==1.13.1\n",
            "  Using cached torch-1.13.1-cp39-cp39-manylinux1_x86_64.whl (887.4 MB)\n",
            "Requirement already satisfied: nvidia-cudnn-cu11==8.5.0.96 in /usr/local/lib/python3.9/dist-packages (from torch==1.13.1) (8.5.0.96)\n",
            "Requirement already satisfied: nvidia-cuda-runtime-cu11==11.7.99 in /usr/local/lib/python3.9/dist-packages (from torch==1.13.1) (11.7.99)\n",
            "Requirement already satisfied: nvidia-cuda-nvrtc-cu11==11.7.99 in /usr/local/lib/python3.9/dist-packages (from torch==1.13.1) (11.7.99)\n",
            "Requirement already satisfied: nvidia-cublas-cu11==11.10.3.66 in /usr/local/lib/python3.9/dist-packages (from torch==1.13.1) (11.10.3.66)\n",
            "Requirement already satisfied: typing-extensions in /usr/local/lib/python3.9/dist-packages (from torch==1.13.1) (4.5.0)\n",
            "Requirement already satisfied: wheel in /usr/local/lib/python3.9/dist-packages (from nvidia-cublas-cu11==11.10.3.66->torch==1.13.1) (0.40.0)\n",
            "Requirement already satisfied: setuptools in /usr/local/lib/python3.9/dist-packages (from nvidia-cublas-cu11==11.10.3.66->torch==1.13.1) (67.6.1)\n",
            "Installing collected packages: torch\n",
            "  Attempting uninstall: torch\n",
            "    Found existing installation: torch 2.0.0\n",
            "    Uninstalling torch-2.0.0:\n",
            "      Successfully uninstalled torch-2.0.0\n",
            "\u001b[31mERROR: pip's dependency resolver does not currently take into account all the packages that are installed. This behaviour is the source of the following dependency conflicts.\n",
            "fastai 2.7.12 requires torchvision>=0.8.2, which is not installed.\n",
            "torchdata 0.6.0 requires torch==2.0.0, but you have torch 1.13.1 which is incompatible.\n",
            "torchaudio 2.0.1 requires torch==2.0.0, but you have torch 1.13.1 which is incompatible.\u001b[0m\u001b[31m\n",
            "\u001b[0mSuccessfully installed torch-1.13.1\n"
          ]
        }
      ]
    },
    {
      "cell_type": "code",
      "source": [
        "!pip install torchaudio==0.13.1"
      ],
      "metadata": {
        "id": "xBTe7Acrq3Oi",
        "outputId": "d2a1086b-c2da-436d-cf81-26499b81d3f1",
        "colab": {
          "base_uri": "https://localhost:8080/"
        }
      },
      "execution_count": 31,
      "outputs": [
        {
          "output_type": "stream",
          "name": "stdout",
          "text": [
            "Looking in indexes: https://pypi.org/simple, https://us-python.pkg.dev/colab-wheels/public/simple/\n",
            "Collecting torchaudio==0.13.1\n",
            "  Downloading torchaudio-0.13.1-cp39-cp39-manylinux1_x86_64.whl (4.2 MB)\n",
            "\u001b[2K     \u001b[90m━━━━━━━━━━━━━━━━━━━━━━━━━━━━━━━━━━━━━━━━\u001b[0m \u001b[32m4.2/4.2 MB\u001b[0m \u001b[31m61.5 MB/s\u001b[0m eta \u001b[36m0:00:00\u001b[0m\n",
            "\u001b[?25hRequirement already satisfied: torch==1.13.1 in /usr/local/lib/python3.9/dist-packages (from torchaudio==0.13.1) (1.13.1)\n",
            "Requirement already satisfied: nvidia-cuda-runtime-cu11==11.7.99 in /usr/local/lib/python3.9/dist-packages (from torch==1.13.1->torchaudio==0.13.1) (11.7.99)\n",
            "Requirement already satisfied: nvidia-cublas-cu11==11.10.3.66 in /usr/local/lib/python3.9/dist-packages (from torch==1.13.1->torchaudio==0.13.1) (11.10.3.66)\n",
            "Requirement already satisfied: nvidia-cudnn-cu11==8.5.0.96 in /usr/local/lib/python3.9/dist-packages (from torch==1.13.1->torchaudio==0.13.1) (8.5.0.96)\n",
            "Requirement already satisfied: typing-extensions in /usr/local/lib/python3.9/dist-packages (from torch==1.13.1->torchaudio==0.13.1) (4.5.0)\n",
            "Requirement already satisfied: nvidia-cuda-nvrtc-cu11==11.7.99 in /usr/local/lib/python3.9/dist-packages (from torch==1.13.1->torchaudio==0.13.1) (11.7.99)\n",
            "Requirement already satisfied: wheel in /usr/local/lib/python3.9/dist-packages (from nvidia-cublas-cu11==11.10.3.66->torch==1.13.1->torchaudio==0.13.1) (0.40.0)\n",
            "Requirement already satisfied: setuptools in /usr/local/lib/python3.9/dist-packages (from nvidia-cublas-cu11==11.10.3.66->torch==1.13.1->torchaudio==0.13.1) (67.6.1)\n",
            "Installing collected packages: torchaudio\n",
            "Successfully installed torchaudio-0.13.1\n"
          ]
        }
      ]
    },
    {
      "cell_type": "code",
      "execution_count": 16,
      "metadata": {
        "id": "xA2JlPjSOEtj"
      },
      "outputs": [],
      "source": [
        "#! pip uninstall -y torch torchaudio torchvision torchtext\n",
        "\n",
        "#! pip install torch==1.7.1+cu101 torchaudio==0.7.2 -f https://download.pytorch.org/whl/torch_stable.html"
      ]
    },
    {
      "cell_type": "markdown",
      "source": [
        "### Install k2"
      ],
      "metadata": {
        "id": "2cWsdyNqP0bi"
      }
    },
    {
      "cell_type": "code",
      "source": [
        "pip install k2 "
      ],
      "metadata": {
        "id": "DYOVC5DViBvg",
        "outputId": "f5a7a370-0a6e-4622-921b-6d8095d68712",
        "colab": {
          "base_uri": "https://localhost:8080/"
        }
      },
      "execution_count": 40,
      "outputs": [
        {
          "output_type": "stream",
          "name": "stdout",
          "text": [
            "Looking in indexes: https://pypi.org/simple, https://us-python.pkg.dev/colab-wheels/public/simple/\n",
            "Requirement already satisfied: k2 in /usr/local/lib/python3.9/dist-packages (1.23.4)\n",
            "Requirement already satisfied: graphviz in /usr/local/lib/python3.9/dist-packages (from k2) (0.20.1)\n",
            "Requirement already satisfied: torch==1.13.1 in /usr/local/lib/python3.9/dist-packages (from k2) (1.13.1)\n",
            "Requirement already satisfied: nvidia-cublas-cu11==11.10.3.66 in /usr/local/lib/python3.9/dist-packages (from torch==1.13.1->k2) (11.10.3.66)\n",
            "Requirement already satisfied: typing-extensions in /usr/local/lib/python3.9/dist-packages (from torch==1.13.1->k2) (4.5.0)\n",
            "Requirement already satisfied: nvidia-cudnn-cu11==8.5.0.96 in /usr/local/lib/python3.9/dist-packages (from torch==1.13.1->k2) (8.5.0.96)\n",
            "Requirement already satisfied: nvidia-cuda-runtime-cu11==11.7.99 in /usr/local/lib/python3.9/dist-packages (from torch==1.13.1->k2) (11.7.99)\n",
            "Requirement already satisfied: nvidia-cuda-nvrtc-cu11==11.7.99 in /usr/local/lib/python3.9/dist-packages (from torch==1.13.1->k2) (11.7.99)\n",
            "Requirement already satisfied: setuptools in /usr/local/lib/python3.9/dist-packages (from nvidia-cublas-cu11==11.10.3.66->torch==1.13.1->k2) (67.6.1)\n",
            "Requirement already satisfied: wheel in /usr/local/lib/python3.9/dist-packages (from nvidia-cublas-cu11==11.10.3.66->torch==1.13.1->k2) (0.40.0)\n"
          ]
        }
      ]
    },
    {
      "cell_type": "code",
      "source": [
        "! pip install k2==1.17.dev20220725+cuda11.0.torch1.7.1 -f https://k2-fsa.org/nightly/index.html"
      ],
      "metadata": {
        "id": "pOql5aBFdXmK",
        "outputId": "272f3d2b-1547-4e39-d118-4fee79e2f277",
        "colab": {
          "base_uri": "https://localhost:8080/"
        }
      },
      "execution_count": 11,
      "outputs": [
        {
          "output_type": "stream",
          "name": "stdout",
          "text": [
            "Looking in indexes: https://pypi.org/simple, https://us-python.pkg.dev/colab-wheels/public/simple/\n",
            "Looking in links: https://k2-fsa.org/nightly/index.html\n",
            "\u001b[31mERROR: Could not find a version that satisfies the requirement k2==1.17.dev20220725+cuda11.0.torch1.7.1 (from versions: 0.0.1.dev0, 0.0.2.dev0, 0.0.3.dev20201019, 0.0.3.dev20201020, 0.0.3.dev20201025, 0.0.3.dev20201027, 0.0.4.dev20201027, 0.0.5.dev20201027, 0.0.5.dev20201028, 0.0.6.dev20201028, 0.0.7.dev20201028, 0.0.9.dev20201109, 0.0.10.dev20201110, 0.1, 0.1.1.dev20201116, 0.1.1.dev20201118, 0.1.1.dev20201130, 0.1.1.dev20201208, 0.1.1.dev20201210, 0.1.1.dev20201212, 0.1.1.dev20201216, 0.1.2.dev20210111, 0.1.2, 0.1.3.dev20210111, 0.3.0, 0.3.1.dev20210121, 0.3.1.dev20210127, 0.3.1.dev20210204, 0.3.2.dev20210204, 0.3.3.dev20210205, 0.3.3.dev20210206, 0.3.3.dev20210209, 0.3.3.dev20210218, 0.3.3.dev20210222, 0.3.3.dev20210224, 0.3.3.dev20210302, 0.3.3.dev20210305, 0.3.3.dev20210309, 0.3.3.dev20210321, 0.3.3.dev20210328, 0.3.3.dev20210331, 0.3.3.dev20210409, 0.3.3.dev20210411, 0.3.3.dev20210415, 0.3.3.dev20210421, 0.3.3.dev20210425, 0.3.3.dev20210426, 0.3.3.dev20210501, 0.3.4.dev20210511, 0.3.4.dev20210512, 0.3.4.dev20210515, 0.3.5.dev20210605, 0.3.5.dev20210606, 0.3.5.dev20210608, 0.3.5, 1.0.dev20210617, 1.0.dev20210619, 1.0, 1.1.dev20210706, 1.1, 1.2, 1.3, 1.4, 1.5, 1.6, 1.7, 1.8, 1.9.dev20211024, 1.9, 1.10.dev20211103+cpu.torch1.7.1, 1.10.dev20211103+cpu.torch1.8.0, 1.10.dev20211103+cpu.torch1.8.1, 1.10.dev20211103+cpu.torch1.9.0, 1.10.dev20211103+cpu.torch1.9.1, 1.10.dev20211103+cpu.torch1.10.0, 1.10.dev20211105+cpu.torch1.7.1, 1.10.dev20211105+cpu.torch1.8.0, 1.10.dev20211105+cpu.torch1.8.1, 1.10.dev20211105+cpu.torch1.9.0, 1.10.dev20211105+cpu.torch1.9.1, 1.10.dev20211105+cpu.torch1.10.0, 1.10.dev20211106+cpu.torch1.7.1, 1.10.dev20211106+cpu.torch1.8.0, 1.10.dev20211106+cpu.torch1.8.1, 1.10.dev20211106+cpu.torch1.9.0, 1.10.dev20211106+cpu.torch1.9.1, 1.10.dev20211106+cpu.torch1.10.0, 1.10.dev20211107+cpu.torch1.7.1, 1.10.dev20211107+cpu.torch1.8.0, 1.10.dev20211107+cpu.torch1.8.1, 1.10.dev20211107+cpu.torch1.9.0, 1.10.dev20211107+cpu.torch1.9.1, 1.10.dev20211107+cpu.torch1.10.0, 1.10.dev20211109+cpu.torch1.7.1, 1.10.dev20211109+cpu.torch1.8.0, 1.10.dev20211109+cpu.torch1.8.1, 1.10.dev20211109+cpu.torch1.9.0, 1.10.dev20211109+cpu.torch1.9.1, 1.10.dev20211109+cpu.torch1.10.0, 1.10.dev20211111+cpu.torch1.7.1, 1.10.dev20211111+cpu.torch1.8.0, 1.10.dev20211111+cpu.torch1.8.1, 1.10.dev20211111+cpu.torch1.9.0, 1.10.dev20211111+cpu.torch1.9.1, 1.10.dev20211111+cpu.torch1.10.0, 1.10.dev20211112+cpu.torch1.7.1, 1.10.dev20211112+cpu.torch1.8.0, 1.10.dev20211112+cpu.torch1.8.1, 1.10.dev20211112+cpu.torch1.9.0, 1.10.dev20211112+cpu.torch1.9.1, 1.10.dev20211112+cpu.torch1.10.0, 1.10.dev20211113+cpu.torch1.7.1, 1.10.dev20211113+cpu.torch1.8.0, 1.10.dev20211113+cpu.torch1.8.1, 1.10.dev20211113+cpu.torch1.9.0, 1.10.dev20211113+cpu.torch1.9.1, 1.10.dev20211113+cpu.torch1.10.0, 1.10.dev20211114+cpu.torch1.7.1, 1.10.dev20211114+cpu.torch1.8.0, 1.10.dev20211114+cpu.torch1.8.1, 1.10.dev20211114+cpu.torch1.9.0, 1.10.dev20211114+cpu.torch1.9.1, 1.10.dev20211114+cpu.torch1.10.0, 1.10.dev20211115+cpu.torch1.7.1, 1.10.dev20211115+cpu.torch1.8.0, 1.10.dev20211115+cpu.torch1.8.1, 1.10.dev20211115+cpu.torch1.9.0, 1.10.dev20211115+cpu.torch1.9.1, 1.10.dev20211115+cpu.torch1.10.0, 1.10.dev20211116+cpu.torch1.7.1, 1.10.dev20211116+cpu.torch1.8.0, 1.10.dev20211116+cpu.torch1.8.1, 1.10.dev20211116+cpu.torch1.9.0, 1.10.dev20211116+cpu.torch1.9.1, 1.10.dev20211116+cpu.torch1.10.0, 1.10.dev20211117+cpu.torch1.7.1, 1.10.dev20211117+cpu.torch1.8.0, 1.10.dev20211117+cpu.torch1.8.1, 1.10.dev20211117+cpu.torch1.9.0, 1.10.dev20211117+cpu.torch1.9.1, 1.10.dev20211117+cpu.torch1.10.0, 1.10.dev20211118+cpu.torch1.7.1, 1.10.dev20211118+cpu.torch1.8.0, 1.10.dev20211118+cpu.torch1.8.1, 1.10.dev20211118+cpu.torch1.9.0, 1.10.dev20211118+cpu.torch1.9.1, 1.10.dev20211118+cpu.torch1.10.0, 1.10.dev20211119+cpu.torch1.7.1, 1.10.dev20211119+cpu.torch1.8.0, 1.10.dev20211119+cpu.torch1.8.1, 1.10.dev20211119+cpu.torch1.9.0, 1.10.dev20211119+cpu.torch1.9.1, 1.10.dev20211119+cpu.torch1.10.0, 1.10.dev20211120+cpu.torch1.7.1, 1.10.dev20211120+cpu.torch1.8.0, 1.10.dev20211120+cpu.torch1.8.1, 1.10.dev20211120+cpu.torch1.9.0, 1.10.dev20211120+cpu.torch1.9.1, 1.10.dev20211120+cpu.torch1.10.0, 1.10.dev20211121+cpu.torch1.7.1, 1.10.dev20211121+cpu.torch1.8.0, 1.10.dev20211121+cpu.torch1.8.1, 1.10.dev20211121+cpu.torch1.9.0, 1.10.dev20211121+cpu.torch1.9.1, 1.10.dev20211121+cpu.torch1.10.0, 1.10.dev20211122+cpu.torch1.7.1, 1.10.dev20211122+cpu.torch1.8.0, 1.10.dev20211122+cpu.torch1.8.1, 1.10.dev20211122+cpu.torch1.9.0, 1.10.dev20211122+cpu.torch1.9.1, 1.10.dev20211122+cpu.torch1.10.0, 1.10.dev20211123+cpu.torch1.7.1, 1.10.dev20211123+cpu.torch1.8.0, 1.10.dev20211123+cpu.torch1.8.1, 1.10.dev20211123+cpu.torch1.9.0, 1.10.dev20211123+cpu.torch1.9.1, 1.10.dev20211123+cpu.torch1.10.0, 1.10.dev20211124+cpu.torch1.7.1, 1.10.dev20211124+cpu.torch1.8.0, 1.10.dev20211124+cpu.torch1.8.1, 1.10.dev20211124+cpu.torch1.9.0, 1.10.dev20211124+cpu.torch1.9.1, 1.10.dev20211124+cpu.torch1.10.0, 1.10.dev20211125+cpu.torch1.7.1, 1.10.dev20211125+cpu.torch1.8.0, 1.10.dev20211125+cpu.torch1.8.1, 1.10.dev20211125+cpu.torch1.9.0, 1.10.dev20211125+cpu.torch1.9.1, 1.10.dev20211125+cpu.torch1.10.0, 1.10.dev20211126+cpu.torch1.7.1, 1.10.dev20211126+cpu.torch1.8.0, 1.10.dev20211126+cpu.torch1.8.1, 1.10.dev20211126+cpu.torch1.9.0, 1.10.dev20211126+cpu.torch1.9.1, 1.10.dev20211126+cpu.torch1.10.0, 1.10.dev20211127+cpu.torch1.7.1, 1.10.dev20211127+cpu.torch1.8.0, 1.10.dev20211127+cpu.torch1.8.1, 1.10.dev20211127+cpu.torch1.9.0, 1.10.dev20211127+cpu.torch1.9.1, 1.10.dev20211127+cpu.torch1.10.0, 1.10.dev20211128+cpu.torch1.7.1, 1.10.dev20211128+cpu.torch1.8.0, 1.10.dev20211128+cpu.torch1.8.1, 1.10.dev20211128+cpu.torch1.9.0, 1.10.dev20211128+cpu.torch1.9.1, 1.10.dev20211128+cpu.torch1.10.0, 1.10, 1.11.dev20211129+cpu.torch1.7.1, 1.11.dev20211129+cpu.torch1.8.0, 1.11.dev20211129+cpu.torch1.8.1, 1.11.dev20211129+cpu.torch1.9.0, 1.11.dev20211129+cpu.torch1.9.1, 1.11.dev20211129+cpu.torch1.10.0, 1.11.dev20211130+cpu.torch1.7.1, 1.11.dev20211130+cpu.torch1.8.0, 1.11.dev20211130+cpu.torch1.8.1, 1.11.dev20211130+cpu.torch1.9.0, 1.11.dev20211130+cpu.torch1.9.1, 1.11.dev20211130+cpu.torch1.10.0, 1.11.dev20211201+cpu.torch1.7.1, 1.11.dev20211201+cpu.torch1.8.0, 1.11.dev20211201+cpu.torch1.8.1, 1.11.dev20211201+cpu.torch1.9.0, 1.11.dev20211201+cpu.torch1.9.1, 1.11.dev20211201+cpu.torch1.10.0, 1.11.dev20211202+cpu.torch1.7.1, 1.11.dev20211202+cpu.torch1.8.0, 1.11.dev20211202+cpu.torch1.8.1, 1.11.dev20211202+cpu.torch1.9.0, 1.11.dev20211202+cpu.torch1.9.1, 1.11.dev20211202+cpu.torch1.10.0, 1.11.dev20211203+cpu.torch1.7.1, 1.11.dev20211203+cpu.torch1.8.0, 1.11.dev20211203+cpu.torch1.8.1, 1.11.dev20211203+cpu.torch1.9.0, 1.11.dev20211203+cpu.torch1.9.1, 1.11.dev20211203+cpu.torch1.10.0, 1.11.dev20211204+cpu.torch1.7.1, 1.11.dev20211204+cpu.torch1.8.0, 1.11.dev20211204+cpu.torch1.8.1, 1.11.dev20211204+cpu.torch1.9.0, 1.11.dev20211204+cpu.torch1.9.1, 1.11.dev20211204+cpu.torch1.10.0, 1.11.dev20211205+cpu.torch1.7.1, 1.11.dev20211205+cpu.torch1.8.0, 1.11.dev20211205+cpu.torch1.8.1, 1.11.dev20211205+cpu.torch1.9.0, 1.11.dev20211205+cpu.torch1.9.1, 1.11.dev20211205+cpu.torch1.10.0, 1.11.dev20211206+cpu.torch1.7.1, 1.11.dev20211206+cpu.torch1.8.0, 1.11.dev20211206+cpu.torch1.8.1, 1.11.dev20211206+cpu.torch1.9.0, 1.11.dev20211206+cpu.torch1.9.1, 1.11.dev20211206+cpu.torch1.10.0, 1.11.dev20211207+cpu.torch1.7.1, 1.11.dev20211207+cpu.torch1.8.0, 1.11.dev20211207+cpu.torch1.8.1, 1.11.dev20211207+cpu.torch1.9.0, 1.11.dev20211207+cpu.torch1.9.1, 1.11.dev20211207+cpu.torch1.10.0, 1.11.dev20211208+cpu.torch1.7.1, 1.11.dev20211208+cpu.torch1.8.0, 1.11.dev20211208+cpu.torch1.8.1, 1.11.dev20211208+cpu.torch1.9.0, 1.11.dev20211208+cpu.torch1.9.1, 1.11.dev20211208+cpu.torch1.10.0, 1.11.dev20211209+cpu.torch1.7.1, 1.11.dev20211209+cpu.torch1.8.0, 1.11.dev20211209+cpu.torch1.8.1, 1.11.dev20211209+cpu.torch1.9.0, 1.11.dev20211209+cpu.torch1.9.1, 1.11.dev20211209+cpu.torch1.10.0, 1.11.dev20211210+cpu.torch1.7.1, 1.11.dev20211210+cpu.torch1.8.0, 1.11.dev20211210+cpu.torch1.8.1, 1.11.dev20211210+cpu.torch1.9.0, 1.11.dev20211210+cpu.torch1.9.1, 1.11.dev20211210+cpu.torch1.10.0, 1.11.dev20211211+cpu.torch1.7.1, 1.11.dev20211211+cpu.torch1.8.0, 1.11.dev20211211+cpu.torch1.8.1, 1.11.dev20211211+cpu.torch1.9.0, 1.11.dev20211211+cpu.torch1.9.1, 1.11.dev20211211+cpu.torch1.10.0, 1.11.dev20211212+cpu.torch1.7.1, 1.11.dev20211212+cpu.torch1.8.0, 1.11.dev20211212+cpu.torch1.8.1, 1.11.dev20211212+cpu.torch1.9.0, 1.11.dev20211212+cpu.torch1.9.1, 1.11.dev20211212+cpu.torch1.10.0, 1.11.dev20211213+cpu.torch1.7.1, 1.11.dev20211213+cpu.torch1.8.0, 1.11.dev20211213+cpu.torch1.8.1, 1.11.dev20211213+cpu.torch1.9.0, 1.11.dev20211213+cpu.torch1.9.1, 1.11.dev20211213+cpu.torch1.10.0, 1.11.dev20211214+cpu.torch1.7.1, 1.11.dev20211214+cpu.torch1.8.0, 1.11.dev20211214+cpu.torch1.8.1, 1.11.dev20211214+cpu.torch1.9.0, 1.11.dev20211214+cpu.torch1.9.1, 1.11.dev20211214+cpu.torch1.10.0, 1.11.dev20211215+cpu.torch1.7.1, 1.11.dev20211215+cpu.torch1.8.0, 1.11.dev20211215+cpu.torch1.8.1, 1.11.dev20211215+cpu.torch1.9.0, 1.11.dev20211215+cpu.torch1.9.1, 1.11.dev20211215+cpu.torch1.10.0, 1.11.dev20211216+cpu.torch1.7.1, 1.11.dev20211216+cpu.torch1.8.0, 1.11.dev20211216+cpu.torch1.8.1, 1.11.dev20211216+cpu.torch1.9.0, 1.11.dev20211216+cpu.torch1.9.1, 1.11.dev20211216+cpu.torch1.10.0, 1.11.dev20211217+cpu.torch1.7.1, 1.11.dev20211217+cpu.torch1.8.0, 1.11.dev20211217+cpu.torch1.8.1, 1.11.dev20211217+cpu.torch1.9.0, 1.11.dev20211217+cpu.torch1.9.1, 1.11.dev20211217+cpu.torch1.10.0, 1.11.dev20211218+cpu.torch1.7.1, 1.11.dev20211218+cpu.torch1.8.0, 1.11.dev20211218+cpu.torch1.8.1, 1.11.dev20211218+cpu.torch1.9.0, 1.11.dev20211218+cpu.torch1.9.1, 1.11.dev20211218+cpu.torch1.10.0, 1.11.dev20211219+cpu.torch1.7.1, 1.11.dev20211219+cpu.torch1.8.0, 1.11.dev20211219+cpu.torch1.8.1, 1.11.dev20211219+cpu.torch1.9.0, 1.11.dev20211219+cpu.torch1.9.1, 1.11.dev20211219+cpu.torch1.10.0, 1.11.dev20211220+cpu.torch1.7.1, 1.11.dev20211220+cpu.torch1.8.0, 1.11.dev20211220+cpu.torch1.8.1, 1.11.dev20211220+cpu.torch1.9.0, 1.11.dev20211220+cpu.torch1.9.1, 1.11.dev20211220+cpu.torch1.10.0, 1.11.dev20211221+cpu.torch1.7.1, 1.11.dev20211221+cpu.torch1.8.0, 1.11.dev20211221+cpu.torch1.8.1, 1.11.dev20211221+cpu.torch1.9.0, 1.11.dev20211221+cpu.torch1.9.1, 1.11.dev20211221+cpu.torch1.10.0, 1.11.dev20211222+cpu.torch1.7.1, 1.11.dev20211222+cpu.torch1.8.0, 1.11.dev20211222+cpu.torch1.8.1, 1.11.dev20211222+cpu.torch1.9.0, 1.11.dev20211222+cpu.torch1.9.1, 1.11.dev20211222+cpu.torch1.10.0, 1.11.dev20211223+cpu.torch1.7.1, 1.11.dev20211223+cpu.torch1.8.0, 1.11.dev20211223+cpu.torch1.8.1, 1.11.dev20211223+cpu.torch1.9.0, 1.11.dev20211223+cpu.torch1.9.1, 1.11.dev20211223+cpu.torch1.10.0, 1.11.dev20211224+cpu.torch1.7.1, 1.11.dev20211224+cpu.torch1.8.0, 1.11.dev20211224+cpu.torch1.8.1, 1.11.dev20211224+cpu.torch1.9.0, 1.11.dev20211224+cpu.torch1.9.1, 1.11.dev20211224+cpu.torch1.10.0, 1.11.dev20211225+cpu.torch1.7.1, 1.11.dev20211225+cpu.torch1.8.0, 1.11.dev20211225+cpu.torch1.8.1, 1.11.dev20211225+cpu.torch1.9.0, 1.11.dev20211225+cpu.torch1.9.1, 1.11.dev20211225+cpu.torch1.10.0, 1.11.dev20211226+cpu.torch1.7.1, 1.11.dev20211226+cpu.torch1.8.0, 1.11.dev20211226+cpu.torch1.8.1, 1.11.dev20211226+cpu.torch1.9.0, 1.11.dev20211226+cpu.torch1.9.1, 1.11.dev20211226+cpu.torch1.10.0, 1.11.dev20211227+cpu.torch1.7.1, 1.11.dev20211227+cpu.torch1.8.0, 1.11.dev20211227+cpu.torch1.9.0, 1.11.dev20211227+cpu.torch1.9.1, 1.11.dev20211227+cpu.torch1.10.0, 1.11.dev20211228+cpu.torch1.7.1, 1.11.dev20211228+cpu.torch1.8.0, 1.11.dev20211228+cpu.torch1.8.1, 1.11.dev20211228+cpu.torch1.9.0, 1.11.dev20211228+cpu.torch1.9.1, 1.11.dev20211228+cpu.torch1.10.0, 1.11.dev20211229+cpu.torch1.7.1, 1.11.dev20211229+cpu.torch1.8.0, 1.11.dev20211229+cpu.torch1.8.1, 1.11.dev20211229+cpu.torch1.9.0, 1.11.dev20211229+cpu.torch1.9.1, 1.11.dev20211229+cpu.torch1.10.0, 1.11.dev20211230+cpu.torch1.7.1, 1.11.dev20211230+cpu.torch1.8.0, 1.11.dev20211230+cpu.torch1.8.1, 1.11.dev20211230+cpu.torch1.9.0, 1.11.dev20211230+cpu.torch1.9.1, 1.11.dev20211230+cpu.torch1.10.0, 1.11.dev20211231+cpu.torch1.7.1, 1.11.dev20211231+cpu.torch1.8.0, 1.11.dev20211231+cpu.torch1.8.1, 1.11.dev20211231+cpu.torch1.9.0, 1.11.dev20211231+cpu.torch1.9.1, 1.11.dev20211231+cpu.torch1.10.0, 1.11.dev20220101+cpu.torch1.7.1, 1.11.dev20220101+cpu.torch1.8.0, 1.11.dev20220101+cpu.torch1.8.1, 1.11.dev20220101+cpu.torch1.9.0, 1.11.dev20220101+cpu.torch1.9.1, 1.11.dev20220101+cpu.torch1.10.0, 1.11.dev20220102+cpu.torch1.7.1, 1.11.dev20220102+cpu.torch1.8.0, 1.11.dev20220102+cpu.torch1.8.1, 1.11.dev20220102+cpu.torch1.9.0, 1.11.dev20220102+cpu.torch1.9.1, 1.11.dev20220102+cpu.torch1.10.0, 1.11.dev20220103+cpu.torch1.7.1, 1.11.dev20220103+cpu.torch1.8.0, 1.11.dev20220103+cpu.torch1.8.1, 1.11.dev20220103+cpu.torch1.9.0, 1.11.dev20220103+cpu.torch1.9.1, 1.11.dev20220103+cpu.torch1.10.0, 1.11.dev20220104+cpu.torch1.7.1, 1.11.dev20220104+cpu.torch1.8.0, 1.11.dev20220104+cpu.torch1.8.1, 1.11.dev20220104+cpu.torch1.9.0, 1.11.dev20220104+cpu.torch1.9.1, 1.11.dev20220104+cpu.torch1.10.0, 1.11.dev20220105+cpu.torch1.7.1, 1.11.dev20220105+cpu.torch1.8.0, 1.11.dev20220105+cpu.torch1.9.0, 1.11.dev20220105+cpu.torch1.9.1, 1.11.dev20220105+cpu.torch1.10.0, 1.11.dev20220106+cpu.torch1.7.1, 1.11.dev20220106+cpu.torch1.8.0, 1.11.dev20220106+cpu.torch1.8.1, 1.11.dev20220106+cpu.torch1.9.0, 1.11.dev20220106+cpu.torch1.9.1, 1.11.dev20220106+cpu.torch1.10.0, 1.11.dev20220107+cpu.torch1.7.1, 1.11.dev20220107+cpu.torch1.8.0, 1.11.dev20220107+cpu.torch1.8.1, 1.11.dev20220107+cpu.torch1.9.0, 1.11.dev20220107+cpu.torch1.9.1, 1.11.dev20220107+cpu.torch1.10.0, 1.11.dev20220108+cpu.torch1.7.1, 1.11.dev20220108+cpu.torch1.8.0, 1.11.dev20220108+cpu.torch1.8.1, 1.11.dev20220108+cpu.torch1.9.0, 1.11.dev20220108+cpu.torch1.9.1, 1.11.dev20220108+cpu.torch1.10.0, 1.11.dev20220109+cpu.torch1.7.1, 1.11.dev20220109+cpu.torch1.8.0, 1.11.dev20220109+cpu.torch1.8.1, 1.11.dev20220109+cpu.torch1.9.0, 1.11.dev20220109+cpu.torch1.9.1, 1.11.dev20220109+cpu.torch1.10.0, 1.11.dev20220110+cpu.torch1.7.1, 1.11.dev20220110+cpu.torch1.8.0, 1.11.dev20220110+cpu.torch1.8.1, 1.11.dev20220110+cpu.torch1.9.0, 1.11.dev20220110+cpu.torch1.9.1, 1.11.dev20220110+cpu.torch1.10.0, 1.11.dev20220111+cpu.torch1.7.1, 1.11.dev20220111+cpu.torch1.8.0, 1.11.dev20220111+cpu.torch1.8.1, 1.11.dev20220111+cpu.torch1.9.0, 1.11.dev20220111+cpu.torch1.9.1, 1.11.dev20220111+cpu.torch1.10.0, 1.11.dev20220112+cpu.torch1.7.1, 1.11.dev20220112+cpu.torch1.8.0, 1.11.dev20220112+cpu.torch1.8.1, 1.11.dev20220112+cpu.torch1.9.0, 1.11.dev20220112+cpu.torch1.9.1, 1.11.dev20220112+cpu.torch1.10.0, 1.11.dev20220113+cpu.torch1.7.1, 1.11.dev20220113+cpu.torch1.8.0, 1.11.dev20220113+cpu.torch1.8.1, 1.11.dev20220113+cpu.torch1.9.0, 1.11.dev20220113+cpu.torch1.9.1, 1.11.dev20220113+cpu.torch1.10.0, 1.11.dev20220114+cpu.torch1.7.1, 1.11.dev20220114+cpu.torch1.8.0, 1.11.dev20220114+cpu.torch1.8.1, 1.11.dev20220114+cpu.torch1.9.0, 1.11.dev20220114+cpu.torch1.9.1, 1.11.dev20220114+cpu.torch1.10.0, 1.11.dev20220115+cpu.torch1.7.1, 1.11.dev20220115+cpu.torch1.8.0, 1.11.dev20220115+cpu.torch1.8.1, 1.11.dev20220115+cpu.torch1.9.0, 1.11.dev20220115+cpu.torch1.9.1, 1.11.dev20220115+cpu.torch1.10.0, 1.11.dev20220116+cpu.torch1.7.1, 1.11.dev20220116+cpu.torch1.8.0, 1.11.dev20220116+cpu.torch1.8.1, 1.11.dev20220116+cpu.torch1.9.0, 1.11.dev20220116+cpu.torch1.9.1, 1.11.dev20220116+cpu.torch1.10.0, 1.11.dev20220117+cpu.torch1.7.1, 1.11.dev20220117+cpu.torch1.8.0, 1.11.dev20220117+cpu.torch1.8.1, 1.11.dev20220117+cpu.torch1.9.0, 1.11.dev20220117+cpu.torch1.9.1, 1.11.dev20220117+cpu.torch1.10.0, 1.11.dev20220118+cpu.torch1.7.1, 1.11.dev20220118+cpu.torch1.8.0, 1.11.dev20220118+cpu.torch1.8.1, 1.11.dev20220118+cpu.torch1.9.0, 1.11.dev20220118+cpu.torch1.9.1, 1.11.dev20220118+cpu.torch1.10.0, 1.11.dev20220119+cpu.torch1.7.1, 1.11.dev20220119+cpu.torch1.8.0, 1.11.dev20220119+cpu.torch1.8.1, 1.11.dev20220119+cpu.torch1.9.0, 1.11.dev20220119+cpu.torch1.9.1, 1.11.dev20220119+cpu.torch1.10.0, 1.11.dev20220120+cpu.torch1.7.1, 1.11.dev20220120+cpu.torch1.8.0, 1.11.dev20220120+cpu.torch1.8.1, 1.11.dev20220120+cpu.torch1.9.0, 1.11.dev20220120+cpu.torch1.9.1, 1.11.dev20220120+cpu.torch1.10.0, 1.11.dev20220121+cpu.torch1.7.1, 1.11.dev20220121+cpu.torch1.8.0, 1.11.dev20220121+cpu.torch1.8.1, 1.11.dev20220121+cpu.torch1.9.0, 1.11.dev20220121+cpu.torch1.9.1, 1.11.dev20220121+cpu.torch1.10.0, 1.11.dev20220122+cpu.torch1.7.1, 1.11.dev20220122+cpu.torch1.8.0, 1.11.dev20220122+cpu.torch1.8.1, 1.11.dev20220122+cpu.torch1.9.0, 1.11.dev20220122+cpu.torch1.9.1, 1.11.dev20220122+cpu.torch1.10.0, 1.11.dev20220123+cpu.torch1.7.1, 1.11.dev20220123+cpu.torch1.8.0, 1.11.dev20220123+cpu.torch1.8.1, 1.11.dev20220123+cpu.torch1.9.0, 1.11.dev20220123+cpu.torch1.9.1, 1.11.dev20220123+cpu.torch1.10.0, 1.11.dev20220124+cpu.torch1.7.1, 1.11.dev20220124+cpu.torch1.8.0, 1.11.dev20220124+cpu.torch1.8.1, 1.11.dev20220124+cpu.torch1.9.0, 1.11.dev20220124+cpu.torch1.9.1, 1.11.dev20220124+cpu.torch1.10.0, 1.11, 1.12.dev20220125+cpu.torch1.7.1, 1.12.dev20220125+cpu.torch1.8.0, 1.12.dev20220125+cpu.torch1.8.1, 1.12.dev20220125+cpu.torch1.9.0, 1.12.dev20220125+cpu.torch1.9.1, 1.12.dev20220125+cpu.torch1.10.0, 1.12.dev20220126+cpu.torch1.7.1, 1.12.dev20220126+cpu.torch1.8.0, 1.12.dev20220126+cpu.torch1.8.1, 1.12.dev20220126+cpu.torch1.9.0, 1.12.dev20220126+cpu.torch1.9.1, 1.12.dev20220126+cpu.torch1.10.0, 1.12.dev20220127+cpu.torch1.7.1, 1.12.dev20220127+cpu.torch1.8.0, 1.12.dev20220127+cpu.torch1.8.1, 1.12.dev20220127+cpu.torch1.9.0, 1.12.dev20220127+cpu.torch1.9.1, 1.12.dev20220127+cpu.torch1.10.0, 1.12.dev20220128+cpu.torch1.7.1, 1.12.dev20220128+cpu.torch1.8.0, 1.12.dev20220128+cpu.torch1.8.1, 1.12.dev20220128+cpu.torch1.9.0, 1.12.dev20220128+cpu.torch1.9.1, 1.12.dev20220128+cpu.torch1.10.0, 1.12, 1.13.dev20220129+cpu.torch1.7.1, 1.13.dev20220129+cpu.torch1.8.0, 1.13.dev20220129+cpu.torch1.8.1, 1.13.dev20220129+cpu.torch1.9.0, 1.13.dev20220129+cpu.torch1.9.1, 1.13.dev20220129+cpu.torch1.10.0, 1.13.dev20220131+cpu.torch1.7.1, 1.13.dev20220131+cpu.torch1.8.0, 1.13.dev20220131+cpu.torch1.8.1, 1.13.dev20220131+cpu.torch1.9.0, 1.13.dev20220131+cpu.torch1.9.1, 1.13.dev20220131+cpu.torch1.10.0, 1.13.dev20220201+cpu.torch1.7.1, 1.13.dev20220201+cpu.torch1.8.0, 1.13.dev20220201+cpu.torch1.8.1, 1.13.dev20220201+cpu.torch1.9.0, 1.13.dev20220201+cpu.torch1.9.1, 1.13.dev20220201+cpu.torch1.10.0, 1.13.dev20220202+cpu.torch1.7.1, 1.13.dev20220202+cpu.torch1.8.0, 1.13.dev20220202+cpu.torch1.8.1, 1.13.dev20220202+cpu.torch1.9.0, 1.13.dev20220202+cpu.torch1.9.1, 1.13.dev20220202+cpu.torch1.10.0, 1.13.dev20220203+cpu.torch1.7.1, 1.13.dev20220203+cpu.torch1.8.0, 1.13.dev20220203+cpu.torch1.8.1, 1.13.dev20220203+cpu.torch1.9.0, 1.13.dev20220203+cpu.torch1.9.1, 1.13.dev20220203+cpu.torch1.10.0, 1.13.dev20220204+cpu.torch1.7.1, 1.13.dev20220204+cpu.torch1.8.0, 1.13.dev20220204+cpu.torch1.8.1, 1.13.dev20220204+cpu.torch1.9.0, 1.13.dev20220204+cpu.torch1.9.1, 1.13.dev20220204+cpu.torch1.10.0, 1.13.dev20220205+cpu.torch1.7.1, 1.13.dev20220205+cpu.torch1.8.0, 1.13.dev20220205+cpu.torch1.8.1, 1.13.dev20220205+cpu.torch1.9.0, 1.13.dev20220205+cpu.torch1.9.1, 1.13.dev20220205+cpu.torch1.10.0, 1.13.dev20220206+cpu.torch1.7.1, 1.13.dev20220206+cpu.torch1.8.0, 1.13.dev20220206+cpu.torch1.8.1, 1.13.dev20220206+cpu.torch1.9.0, 1.13.dev20220206+cpu.torch1.9.1, 1.13.dev20220206+cpu.torch1.10.0, 1.13.dev20220207+cpu.torch1.7.1, 1.13.dev20220207+cpu.torch1.8.0, 1.13.dev20220207+cpu.torch1.8.1, 1.13.dev20220207+cpu.torch1.9.0, 1.13.dev20220207+cpu.torch1.9.1, 1.13.dev20220207+cpu.torch1.10.0, 1.13.dev20220208+cpu.torch1.7.1, 1.13.dev20220208+cpu.torch1.8.0, 1.13.dev20220208+cpu.torch1.8.1, 1.13.dev20220208+cpu.torch1.9.0, 1.13.dev20220208+cpu.torch1.9.1, 1.13.dev20220208+cpu.torch1.10.0, 1.13.dev20220208+cpu.torch1.10.1, 1.13.dev20220208+cpu.torch1.10.2, 1.13.dev20220209+cpu.torch1.7.1, 1.13.dev20220209+cpu.torch1.8.0, 1.13.dev20220209+cpu.torch1.8.1, 1.13.dev20220209+cpu.torch1.9.0, 1.13.dev20220209+cpu.torch1.9.1, 1.13.dev20220209+cpu.torch1.10.0, 1.13.dev20220209+cpu.torch1.10.1, 1.13.dev20220209+cpu.torch1.10.2, 1.13.dev20220211+cpu.torch1.7.1, 1.13.dev20220211+cpu.torch1.8.0, 1.13.dev20220211+cpu.torch1.8.1, 1.13.dev20220211+cpu.torch1.9.0, 1.13.dev20220211+cpu.torch1.9.1, 1.13.dev20220211+cpu.torch1.10.0, 1.13.dev20220211+cpu.torch1.10.1, 1.13.dev20220211+cpu.torch1.10.2, 1.13.dev20220212+cpu.torch1.7.1, 1.13.dev20220212+cpu.torch1.8.0, 1.13.dev20220212+cpu.torch1.8.1, 1.13.dev20220212+cpu.torch1.9.0, 1.13.dev20220212+cpu.torch1.9.1, 1.13.dev20220212+cpu.torch1.10.0, 1.13.dev20220212+cpu.torch1.10.1, 1.13.dev20220212+cpu.torch1.10.2, 1.13.dev20220213+cpu.torch1.7.1, 1.13.dev20220213+cpu.torch1.8.0, 1.13.dev20220213+cpu.torch1.8.1, 1.13.dev20220213+cpu.torch1.9.0, 1.13.dev20220213+cpu.torch1.9.1, 1.13.dev20220213+cpu.torch1.10.0, 1.13.dev20220213+cpu.torch1.10.1, 1.13.dev20220213+cpu.torch1.10.2, 1.13.dev20220214+cpu.torch1.7.1, 1.13.dev20220214+cpu.torch1.8.0, 1.13.dev20220214+cpu.torch1.8.1, 1.13.dev20220214+cpu.torch1.9.0, 1.13.dev20220214+cpu.torch1.9.1, 1.13.dev20220214+cpu.torch1.10.0, 1.13.dev20220214+cpu.torch1.10.1, 1.13.dev20220214+cpu.torch1.10.2, 1.13.dev20220215+cpu.torch1.7.1, 1.13.dev20220215+cpu.torch1.8.0, 1.13.dev20220215+cpu.torch1.8.1, 1.13.dev20220215+cpu.torch1.9.0, 1.13.dev20220215+cpu.torch1.9.1, 1.13.dev20220215+cpu.torch1.10.0, 1.13.dev20220215+cpu.torch1.10.1, 1.13.dev20220215+cpu.torch1.10.2, 1.13.dev20220216+cpu.torch1.7.1, 1.13.dev20220216+cpu.torch1.8.0, 1.13.dev20220216+cpu.torch1.8.1, 1.13.dev20220216+cpu.torch1.9.0, 1.13.dev20220216+cpu.torch1.9.1, 1.13.dev20220216+cpu.torch1.10.0, 1.13.dev20220216+cpu.torch1.10.1, 1.13.dev20220216+cpu.torch1.10.2, 1.13.dev20220217+cpu.torch1.7.1, 1.13.dev20220217+cpu.torch1.8.0, 1.13.dev20220217+cpu.torch1.8.1, 1.13.dev20220217+cpu.torch1.9.0, 1.13.dev20220217+cpu.torch1.9.1, 1.13.dev20220217+cpu.torch1.10.0, 1.13.dev20220217+cpu.torch1.10.1, 1.13.dev20220217+cpu.torch1.10.2, 1.13.dev20220218+cpu.torch1.7.1, 1.13.dev20220218+cpu.torch1.8.0, 1.13.dev20220218+cpu.torch1.8.1, 1.13.dev20220218+cpu.torch1.9.0, 1.13.dev20220218+cpu.torch1.9.1, 1.13.dev20220218+cpu.torch1.10.0, 1.13.dev20220218+cpu.torch1.10.1, 1.13.dev20220218+cpu.torch1.10.2, 1.13.dev20220219+cpu.torch1.7.1, 1.13.dev20220219+cpu.torch1.8.0, 1.13.dev20220219+cpu.torch1.8.1, 1.13.dev20220219+cpu.torch1.9.0, 1.13.dev20220219+cpu.torch1.9.1, 1.13.dev20220219+cpu.torch1.10.0, 1.13.dev20220219+cpu.torch1.10.1, 1.13.dev20220219+cpu.torch1.10.2, 1.13.dev20220220+cpu.torch1.7.1, 1.13.dev20220220+cpu.torch1.8.0, 1.13.dev20220220+cpu.torch1.8.1, 1.13.dev20220220+cpu.torch1.9.0, 1.13.dev20220220+cpu.torch1.9.1, 1.13.dev20220220+cpu.torch1.10.0, 1.13.dev20220220+cpu.torch1.10.1, 1.13.dev20220220+cpu.torch1.10.2, 1.13.dev20220221+cpu.torch1.7.1, 1.13.dev20220221+cpu.torch1.8.0, 1.13.dev20220221+cpu.torch1.8.1, 1.13.dev20220221+cpu.torch1.9.0, 1.13.dev20220221+cpu.torch1.9.1, 1.13.dev20220221+cpu.torch1.10.0, 1.13.dev20220221+cpu.torch1.10.1, 1.13.dev20220221+cpu.torch1.10.2, 1.13.dev20220222+cpu.torch1.7.1, 1.13.dev20220222+cpu.torch1.8.0, 1.13.dev20220222+cpu.torch1.8.1, 1.13.dev20220222+cpu.torch1.9.0, 1.13.dev20220222+cpu.torch1.9.1, 1.13.dev20220222+cpu.torch1.10.0, 1.13.dev20220222+cpu.torch1.10.1, 1.13.dev20220222+cpu.torch1.10.2, 1.13.dev20220223+cpu.torch1.7.1, 1.13.dev20220223+cpu.torch1.8.0, 1.13.dev20220223+cpu.torch1.8.1, 1.13.dev20220223+cpu.torch1.9.0, 1.13.dev20220223+cpu.torch1.9.1, 1.13.dev20220223+cpu.torch1.10.0, 1.13.dev20220223+cpu.torch1.10.1, 1.13.dev20220223+cpu.torch1.10.2, 1.13.dev20220224+cpu.torch1.7.1, 1.13.dev20220224+cpu.torch1.8.0, 1.13.dev20220224+cpu.torch1.8.1, 1.13.dev20220224+cpu.torch1.9.0, 1.13.dev20220224+cpu.torch1.9.1, 1.13.dev20220224+cpu.torch1.10.0, 1.13.dev20220224+cpu.torch1.10.1, 1.13.dev20220224+cpu.torch1.10.2, 1.13.dev20220226+cpu.torch1.7.1, 1.13.dev20220226+cpu.torch1.8.0, 1.13.dev20220226+cpu.torch1.8.1, 1.13.dev20220226+cpu.torch1.9.0, 1.13.dev20220226+cpu.torch1.9.1, 1.13.dev20220226+cpu.torch1.10.0, 1.13.dev20220226+cpu.torch1.10.1, 1.13.dev20220226+cpu.torch1.10.2, 1.13.dev20220227+cpu.torch1.7.1, 1.13.dev20220227+cpu.torch1.8.0, 1.13.dev20220227+cpu.torch1.8.1, 1.13.dev20220227+cpu.torch1.9.0, 1.13.dev20220227+cpu.torch1.9.1, 1.13.dev20220227+cpu.torch1.10.0, 1.13.dev20220227+cpu.torch1.10.1, 1.13.dev20220227+cpu.torch1.10.2, 1.13.dev20220228+cpu.torch1.7.1, 1.13.dev20220228+cpu.torch1.8.0, 1.13.dev20220228+cpu.torch1.8.1, 1.13.dev20220228+cpu.torch1.9.0, 1.13.dev20220228+cpu.torch1.9.1, 1.13.dev20220228+cpu.torch1.10.0, 1.13.dev20220228+cpu.torch1.10.1, 1.13.dev20220228+cpu.torch1.10.2, 1.13.dev20220301+cpu.torch1.7.1, 1.13.dev20220301+cpu.torch1.8.0, 1.13.dev20220301+cpu.torch1.8.1, 1.13.dev20220301+cpu.torch1.9.0, 1.13.dev20220301+cpu.torch1.9.1, 1.13.dev20220301+cpu.torch1.10.0, 1.13.dev20220301+cpu.torch1.10.1, 1.13.dev20220301+cpu.torch1.10.2, 1.13.dev20220302+cpu.torch1.7.1, 1.13.dev20220302+cpu.torch1.8.0, 1.13.dev20220302+cpu.torch1.8.1, 1.13.dev20220302+cpu.torch1.9.0, 1.13.dev20220302+cpu.torch1.9.1, 1.13.dev20220302+cpu.torch1.10.0, 1.13.dev20220302+cpu.torch1.10.1, 1.13.dev20220302+cpu.torch1.10.2, 1.13.dev20220303+cpu.torch1.7.1, 1.13.dev20220303+cpu.torch1.8.0, 1.13.dev20220303+cpu.torch1.8.1, 1.13.dev20220303+cpu.torch1.9.0, 1.13.dev20220303+cpu.torch1.9.1, 1.13.dev20220303+cpu.torch1.10.0, 1.13.dev20220303+cpu.torch1.10.1, 1.13.dev20220303+cpu.torch1.10.2, 1.13.dev20220304+cpu.torch1.7.1, 1.13.dev20220304+cpu.torch1.8.0, 1.13.dev20220304+cpu.torch1.8.1, 1.13.dev20220304+cpu.torch1.9.0, 1.13.dev20220304+cpu.torch1.9.1, 1.13.dev20220304+cpu.torch1.10.0, 1.13.dev20220304+cpu.torch1.10.1, 1.13.dev20220304+cpu.torch1.10.2, 1.13.dev20220305+cpu.torch1.7.1, 1.13.dev20220305+cpu.torch1.8.0, 1.13.dev20220305+cpu.torch1.8.1, 1.13.dev20220305+cpu.torch1.9.0, 1.13.dev20220305+cpu.torch1.9.1, 1.13.dev20220305+cpu.torch1.10.0, 1.13.dev20220305+cpu.torch1.10.1, 1.13.dev20220305+cpu.torch1.10.2, 1.13.dev20220306+cpu.torch1.7.1, 1.13.dev20220306+cpu.torch1.8.0, 1.13.dev20220306+cpu.torch1.8.1, 1.13.dev20220306+cpu.torch1.9.0, 1.13.dev20220306+cpu.torch1.9.1, 1.13.dev20220306+cpu.torch1.10.0, 1.13.dev20220306+cpu.torch1.10.1, 1.13.dev20220306+cpu.torch1.10.2, 1.13.dev20220307+cpu.torch1.7.1, 1.13.dev20220307+cpu.torch1.8.0, 1.13.dev20220307+cpu.torch1.8.1, 1.13.dev20220307+cpu.torch1.9.0, 1.13.dev20220307+cpu.torch1.9.1, 1.13.dev20220307+cpu.torch1.10.0, 1.13.dev20220307+cpu.torch1.10.1, 1.13.dev20220307+cpu.torch1.10.2, 1.13.dev20220309+cpu.torch1.7.1, 1.13.dev20220309+cpu.torch1.8.0, 1.13.dev20220309+cpu.torch1.8.1, 1.13.dev20220309+cpu.torch1.9.0, 1.13.dev20220309+cpu.torch1.9.1, 1.13.dev20220309+cpu.torch1.10.0, 1.13.dev20220309+cpu.torch1.10.1, 1.13.dev20220309+cpu.torch1.10.2, 1.13.dev20220310+cpu.torch1.7.1, 1.13.dev20220310+cpu.torch1.8.0, 1.13.dev20220310+cpu.torch1.8.1, 1.13.dev20220310+cpu.torch1.9.0, 1.13.dev20220310+cpu.torch1.9.1, 1.13.dev20220310+cpu.torch1.10.0, 1.13.dev20220310+cpu.torch1.10.1, 1.13.dev20220310+cpu.torch1.10.2, 1.13.dev20220311+cpu.torch1.7.1, 1.13.dev20220311+cpu.torch1.8.0, 1.13.dev20220311+cpu.torch1.8.1, 1.13.dev20220311+cpu.torch1.9.0, 1.13.dev20220311+cpu.torch1.9.1, 1.13.dev20220311+cpu.torch1.10.0, 1.13.dev20220311+cpu.torch1.10.1, 1.13.dev20220311+cpu.torch1.10.2, 1.13.dev20220312+cpu.torch1.7.1, 1.13.dev20220312+cpu.torch1.8.0, 1.13.dev20220312+cpu.torch1.8.1, 1.13.dev20220312+cpu.torch1.9.0, 1.13.dev20220312+cpu.torch1.9.1, 1.13.dev20220312+cpu.torch1.10.0, 1.13.dev20220312+cpu.torch1.10.1, 1.13.dev20220312+cpu.torch1.10.2, 1.13.dev20220313+cpu.torch1.7.1, 1.13.dev20220313+cpu.torch1.8.0, 1.13.dev20220313+cpu.torch1.8.1, 1.13.dev20220313+cpu.torch1.9.0, 1.13.dev20220313+cpu.torch1.9.1, 1.13.dev20220313+cpu.torch1.10.0, 1.13.dev20220313+cpu.torch1.10.1, 1.13.dev20220313+cpu.torch1.10.2, 1.13.dev20220315+cpu.torch1.7.1, 1.13.dev20220315+cpu.torch1.8.0, 1.13.dev20220315+cpu.torch1.8.1, 1.13.dev20220315+cpu.torch1.9.0, 1.13.dev20220315+cpu.torch1.9.1, 1.13.dev20220315+cpu.torch1.10.0, 1.13.dev20220315+cpu.torch1.10.1, 1.13.dev20220315+cpu.torch1.10.2, 1.13.dev20220315+cpu.torch1.11.0, 1.13, 1.14.dev20220316+cpu.torch1.10.0, 1.14.dev20220317+cpu.torch1.7.1, 1.14.dev20220317+cpu.torch1.8.0, 1.14.dev20220317+cpu.torch1.8.1, 1.14.dev20220317+cpu.torch1.9.0, 1.14.dev20220317+cpu.torch1.9.1, 1.14.dev20220317+cpu.torch1.10.1, 1.14.dev20220317+cpu.torch1.10.2, 1.14.dev20220317+cpu.torch1.11.0, 1.14.dev20220318+cpu.torch1.7.1, 1.14.dev20220318+cpu.torch1.8.0, 1.14.dev20220318+cpu.torch1.8.1, 1.14.dev20220318+cpu.torch1.9.0, 1.14.dev20220318+cpu.torch1.9.1, 1.14.dev20220318+cpu.torch1.10.0, 1.14.dev20220318+cpu.torch1.10.1, 1.14.dev20220318+cpu.torch1.10.2, 1.14.dev20220318+cpu.torch1.11.0, 1.14.dev20220319+cpu.torch1.7.1, 1.14.dev20220319+cpu.torch1.8.0, 1.14.dev20220319+cpu.torch1.8.1, 1.14.dev20220319+cpu.torch1.9.0, 1.14.dev20220319+cpu.torch1.9.1, 1.14.dev20220319+cpu.torch1.10.0, 1.14.dev20220319+cpu.torch1.10.1, 1.14.dev20220319+cpu.torch1.10.2, 1.14.dev20220319+cpu.torch1.11.0, 1.14.dev20220320+cpu.torch1.7.1, 1.14.dev20220320+cpu.torch1.8.0, 1.14.dev20220320+cpu.torch1.8.1, 1.14.dev20220320+cpu.torch1.9.0, 1.14.dev20220320+cpu.torch1.9.1, 1.14.dev20220320+cpu.torch1.10.0, 1.14.dev20220320+cpu.torch1.10.1, 1.14.dev20220320+cpu.torch1.10.2, 1.14.dev20220320+cpu.torch1.11.0, 1.14.dev20220321+cpu.torch1.7.1, 1.14.dev20220321+cpu.torch1.8.0, 1.14.dev20220321+cpu.torch1.8.1, 1.14.dev20220321+cpu.torch1.9.0, 1.14.dev20220321+cpu.torch1.9.1, 1.14.dev20220321+cpu.torch1.10.0, 1.14.dev20220321+cpu.torch1.10.1, 1.14.dev20220321+cpu.torch1.10.2, 1.14.dev20220321+cpu.torch1.11.0, 1.14.dev20220322+cpu.torch1.7.1, 1.14.dev20220322+cpu.torch1.8.0, 1.14.dev20220322+cpu.torch1.8.1, 1.14.dev20220322+cpu.torch1.9.0, 1.14.dev20220322+cpu.torch1.9.1, 1.14.dev20220322+cpu.torch1.10.0, 1.14.dev20220322+cpu.torch1.10.1, 1.14.dev20220322+cpu.torch1.10.2, 1.14.dev20220322+cpu.torch1.11.0, 1.14.dev20220323+cpu.torch1.7.1, 1.14.dev20220323+cpu.torch1.8.0, 1.14.dev20220323+cpu.torch1.8.1, 1.14.dev20220323+cpu.torch1.9.0, 1.14.dev20220323+cpu.torch1.9.1, 1.14.dev20220323+cpu.torch1.10.0, 1.14.dev20220323+cpu.torch1.10.1, 1.14.dev20220323+cpu.torch1.10.2, 1.14.dev20220323+cpu.torch1.11.0, 1.14.dev20220324+cpu.torch1.7.1, 1.14.dev20220324+cpu.torch1.8.0, 1.14.dev20220324+cpu.torch1.8.1, 1.14.dev20220324+cpu.torch1.9.0, 1.14.dev20220324+cpu.torch1.9.1, 1.14.dev20220324+cpu.torch1.10.0, 1.14.dev20220324+cpu.torch1.10.1, 1.14.dev20220324+cpu.torch1.10.2, 1.14.dev20220324+cpu.torch1.11.0, 1.14.dev20220325+cpu.torch1.7.1, 1.14.dev20220325+cpu.torch1.8.0, 1.14.dev20220325+cpu.torch1.8.1, 1.14.dev20220325+cpu.torch1.9.0, 1.14.dev20220325+cpu.torch1.9.1, 1.14.dev20220325+cpu.torch1.10.0, 1.14.dev20220325+cpu.torch1.10.1, 1.14.dev20220325+cpu.torch1.10.2, 1.14.dev20220325+cpu.torch1.11.0, 1.14.dev20220326+cpu.torch1.7.1, 1.14.dev20220326+cpu.torch1.8.0, 1.14.dev20220326+cpu.torch1.8.1, 1.14.dev20220326+cpu.torch1.9.0, 1.14.dev20220326+cpu.torch1.9.1, 1.14.dev20220326+cpu.torch1.10.0, 1.14.dev20220326+cpu.torch1.10.1, 1.14.dev20220326+cpu.torch1.10.2, 1.14.dev20220326+cpu.torch1.11.0, 1.14.dev20220327+cpu.torch1.7.1, 1.14.dev20220327+cpu.torch1.8.0, 1.14.dev20220327+cpu.torch1.8.1, 1.14.dev20220327+cpu.torch1.9.0, 1.14.dev20220327+cpu.torch1.9.1, 1.14.dev20220327+cpu.torch1.10.0, 1.14.dev20220327+cpu.torch1.10.1, 1.14.dev20220327+cpu.torch1.10.2, 1.14.dev20220327+cpu.torch1.11.0, 1.14.dev20220329+cpu.torch1.7.1, 1.14.dev20220329+cpu.torch1.8.0, 1.14.dev20220329+cpu.torch1.8.1, 1.14.dev20220329+cpu.torch1.9.0, 1.14.dev20220329+cpu.torch1.9.1, 1.14.dev20220329+cpu.torch1.10.0, 1.14.dev20220329+cpu.torch1.10.1, 1.14.dev20220329+cpu.torch1.10.2, 1.14.dev20220329+cpu.torch1.11.0, 1.14.dev20220330+cpu.torch1.7.1, 1.14.dev20220330+cpu.torch1.8.0, 1.14.dev20220330+cpu.torch1.8.1, 1.14.dev20220330+cpu.torch1.9.0, 1.14.dev20220330+cpu.torch1.9.1, 1.14.dev20220330+cpu.torch1.10.0, 1.14.dev20220330+cpu.torch1.10.1, 1.14.dev20220330+cpu.torch1.10.2, 1.14.dev20220330+cpu.torch1.11.0, 1.14.dev20220331+cpu.torch1.7.1, 1.14.dev20220331+cpu.torch1.8.0, 1.14.dev20220331+cpu.torch1.8.1, 1.14.dev20220331+cpu.torch1.9.0, 1.14.dev20220331+cpu.torch1.9.1, 1.14.dev20220331+cpu.torch1.10.0, 1.14.dev20220331+cpu.torch1.10.1, 1.14.dev20220331+cpu.torch1.10.2, 1.14.dev20220331+cpu.torch1.11.0, 1.14.dev20220401+cpu.torch1.7.1, 1.14.dev20220401+cpu.torch1.8.0, 1.14.dev20220401+cpu.torch1.8.1, 1.14.dev20220401+cpu.torch1.9.0, 1.14.dev20220401+cpu.torch1.9.1, 1.14.dev20220401+cpu.torch1.10.0, 1.14.dev20220401+cpu.torch1.10.1, 1.14.dev20220401+cpu.torch1.10.2, 1.14.dev20220401+cpu.torch1.11.0, 1.14.dev20220402+cpu.torch1.7.1, 1.14.dev20220402+cpu.torch1.8.0, 1.14.dev20220402+cpu.torch1.8.1, 1.14.dev20220402+cpu.torch1.9.0, 1.14.dev20220402+cpu.torch1.9.1, 1.14.dev20220402+cpu.torch1.10.0, 1.14.dev20220402+cpu.torch1.10.1, 1.14.dev20220402+cpu.torch1.10.2, 1.14.dev20220402+cpu.torch1.11.0, 1.14.dev20220403+cpu.torch1.7.1, 1.14.dev20220403+cpu.torch1.8.0, 1.14.dev20220403+cpu.torch1.8.1, 1.14.dev20220403+cpu.torch1.9.0, 1.14.dev20220403+cpu.torch1.9.1, 1.14.dev20220403+cpu.torch1.10.0, 1.14.dev20220403+cpu.torch1.10.1, 1.14.dev20220403+cpu.torch1.10.2, 1.14.dev20220404+cpu.torch1.7.1, 1.14.dev20220404+cpu.torch1.8.0, 1.14.dev20220404+cpu.torch1.8.1, 1.14.dev20220404+cpu.torch1.9.0, 1.14.dev20220404+cpu.torch1.9.1, 1.14.dev20220404+cpu.torch1.10.0, 1.14.dev20220404+cpu.torch1.10.1, 1.14.dev20220404+cpu.torch1.10.2, 1.14.dev20220404+cpu.torch1.11.0, 1.14.dev20220405+cpu.torch1.7.1, 1.14.dev20220405+cpu.torch1.8.0, 1.14.dev20220405+cpu.torch1.8.1, 1.14.dev20220405+cpu.torch1.9.0, 1.14.dev20220405+cpu.torch1.9.1, 1.14.dev20220405+cpu.torch1.10.0, 1.14.dev20220405+cpu.torch1.10.1, 1.14.dev20220405+cpu.torch1.10.2, 1.14.dev20220405+cpu.torch1.11.0, 1.14.dev20220406+cpu.torch1.7.1, 1.14.dev20220406+cpu.torch1.8.0, 1.14.dev20220406+cpu.torch1.8.1, 1.14.dev20220406+cpu.torch1.9.0, 1.14.dev20220406+cpu.torch1.9.1, 1.14.dev20220406+cpu.torch1.10.0, 1.14.dev20220406+cpu.torch1.10.1, 1.14.dev20220406+cpu.torch1.10.2, 1.14.dev20220406+cpu.torch1.11.0, 1.14.dev20220407+cpu.torch1.10.0, 1.14.dev20220407+cpu.torch1.10.1, 1.14.dev20220408+cpu.torch1.7.1, 1.14.dev20220408+cpu.torch1.8.0, 1.14.dev20220408+cpu.torch1.8.1, 1.14.dev20220408+cpu.torch1.9.0, 1.14.dev20220408+cpu.torch1.9.1, 1.14.dev20220408+cpu.torch1.10.0, 1.14.dev20220408+cpu.torch1.10.1, 1.14.dev20220408+cpu.torch1.10.2, 1.14.dev20220408+cpu.torch1.11.0, 1.14.dev20220409+cpu.torch1.7.1, 1.14.dev20220409+cpu.torch1.8.0, 1.14.dev20220409+cpu.torch1.8.1, 1.14.dev20220409+cpu.torch1.9.0, 1.14.dev20220409+cpu.torch1.9.1, 1.14.dev20220409+cpu.torch1.10.2, 1.14.dev20220409+cpu.torch1.11.0, 1.14.dev20220412+cpu.torch1.7.1, 1.14.dev20220412+cpu.torch1.8.0, 1.14.dev20220412+cpu.torch1.8.1, 1.14.dev20220412+cpu.torch1.9.0, 1.14.dev20220412+cpu.torch1.9.1, 1.14.dev20220412+cpu.torch1.10.0, 1.14.dev20220412+cpu.torch1.10.1, 1.14.dev20220412+cpu.torch1.10.2, 1.14.dev20220412+cpu.torch1.11.0, 1.14.dev20220413+cpu.torch1.7.1, 1.14.dev20220413+cpu.torch1.8.0, 1.14.dev20220413+cpu.torch1.8.1, 1.14.dev20220413+cpu.torch1.9.0, 1.14.dev20220413+cpu.torch1.9.1, 1.14.dev20220413+cpu.torch1.10.0, 1.14.dev20220413+cpu.torch1.10.1, 1.14.dev20220413+cpu.torch1.10.2, 1.14.dev20220413+cpu.torch1.11.0, 1.14.dev20220414+cpu.torch1.7.1, 1.14.dev20220414+cpu.torch1.8.0, 1.14.dev20220414+cpu.torch1.8.1, 1.14.dev20220414+cpu.torch1.9.0, 1.14.dev20220414+cpu.torch1.9.1, 1.14.dev20220414+cpu.torch1.10.2, 1.14.dev20220414+cpu.torch1.11.0, 1.14, 1.15, 1.15.1.dev20220419+cpu.torch1.7.1, 1.15.1.dev20220419+cpu.torch1.8.0, 1.15.1.dev20220419+cpu.torch1.8.1, 1.15.1.dev20220419+cpu.torch1.9.0, 1.15.1.dev20220419+cpu.torch1.9.1, 1.15.1.dev20220419+cpu.torch1.10.0, 1.15.1.dev20220419+cpu.torch1.10.1, 1.15.1.dev20220419+cpu.torch1.10.2, 1.15.1.dev20220419+cpu.torch1.11.0, 1.15.1.dev20220421+cpu.torch1.10.0, 1.15.1.dev20220421+cpu.torch1.10.1, 1.15.1.dev20220422+cpu.torch1.7.1, 1.15.1.dev20220422+cpu.torch1.8.0, 1.15.1.dev20220422+cpu.torch1.8.1, 1.15.1.dev20220422+cpu.torch1.9.0, 1.15.1.dev20220422+cpu.torch1.9.1, 1.15.1.dev20220422+cpu.torch1.10.2, 1.15.1.dev20220422+cpu.torch1.11.0, 1.15.1.dev20220426+cpu.torch1.10.0, 1.15.1.dev20220426+cpu.torch1.10.1, 1.15.1.dev20220427+cpu.torch1.7.1, 1.15.1.dev20220427+cpu.torch1.8.0, 1.15.1.dev20220427+cpu.torch1.8.1, 1.15.1.dev20220427+cpu.torch1.9.0, 1.15.1.dev20220427+cpu.torch1.9.1, 1.15.1.dev20220427+cpu.torch1.10.2, 1.15.1.dev20220427+cpu.torch1.11.0, 1.15.1.dev20220510+cpu.torch1.10.0, 1.15.1.dev20220510+cpu.torch1.10.1, 1.15.1.dev20220511+cpu.torch1.7.1, 1.15.1.dev20220511+cpu.torch1.8.0, 1.15.1.dev20220511+cpu.torch1.8.1, 1.15.1.dev20220511+cpu.torch1.9.0, 1.15.1.dev20220511+cpu.torch1.9.1, 1.15.1.dev20220511+cpu.torch1.10.2, 1.15.1.dev20220511+cpu.torch1.11.0, 1.15.1.dev20220526+cpu.torch1.10.0, 1.15.1.dev20220526+cpu.torch1.10.1, 1.15.1.dev20220526+cpu.torch1.10.2, 1.15.1.dev20220527+cpu.torch1.7.1, 1.15.1.dev20220527+cpu.torch1.8.0, 1.15.1.dev20220527+cpu.torch1.8.1, 1.15.1.dev20220527+cpu.torch1.9.0, 1.15.1.dev20220527+cpu.torch1.9.1, 1.15.1.dev20220527+cpu.torch1.11.0, 1.15.1.dev20220604+cpu.torch1.10.0, 1.15.1.dev20220604+cpu.torch1.10.1, 1.15.1.dev20220605+cpu.torch1.7.1, 1.15.1.dev20220605+cpu.torch1.8.0, 1.15.1.dev20220605+cpu.torch1.8.1, 1.15.1.dev20220605+cpu.torch1.9.0, 1.15.1.dev20220605+cpu.torch1.9.1, 1.15.1.dev20220605+cpu.torch1.10.2, 1.15.1.dev20220605+cpu.torch1.11.0, 1.15.1.dev20220616+cpu.torch1.10.0, 1.15.1.dev20220616+cpu.torch1.10.1, 1.15.1.dev20220617+cpu.torch1.7.1, 1.15.1.dev20220617+cpu.torch1.8.0, 1.15.1.dev20220617+cpu.torch1.8.1, 1.15.1.dev20220617+cpu.torch1.9.0, 1.15.1.dev20220617+cpu.torch1.9.1, 1.15.1.dev20220617+cpu.torch1.10.2, 1.15.1.dev20220617+cpu.torch1.11.0, 1.15.1, 1.16.dev20220621+cpu.torch1.7.1, 1.16.dev20220621+cpu.torch1.8.0, 1.16.dev20220621+cpu.torch1.8.1, 1.16.dev20220621+cpu.torch1.9.0, 1.16.dev20220621+cpu.torch1.9.1, 1.16.dev20220621+cpu.torch1.10.0, 1.16.dev20220621+cpu.torch1.10.1, 1.16.dev20220621+cpu.torch1.10.2, 1.16.dev20220621+cpu.torch1.11.0, 1.16.dev20220622+cpu.torch1.7.1, 1.16.dev20220622+cpu.torch1.8.0, 1.16.dev20220622+cpu.torch1.8.1, 1.16.dev20220622+cpu.torch1.9.0, 1.16.dev20220622+cpu.torch1.9.1, 1.16.dev20220622+cpu.torch1.10.2, 1.16.dev20220622+cpu.torch1.11.0, 1.16, 1.17.dev20220707+cpu.torch1.8.0, 1.17.dev20220707+cpu.torch1.8.1, 1.17.dev20220707+cpu.torch1.9.0, 1.17.dev20220707+cpu.torch1.9.1, 1.17.dev20220707+cpu.torch1.10.0, 1.17.dev20220707+cpu.torch1.10.1, 1.17.dev20220707+cpu.torch1.10.2, 1.17.dev20220707+cpu.torch1.11.0, 1.17.dev20220707+cpu.torch1.12.0, 1.17.dev20220708+cpu.torch1.7.1, 1.17.dev20220708+cpu.torch1.8.0, 1.17.dev20220708+cpu.torch1.8.1, 1.17.dev20220708+cpu.torch1.9.0, 1.17.dev20220708+cpu.torch1.9.1, 1.17.dev20220708+cpu.torch1.10.0, 1.17.dev20220708+cpu.torch1.10.1, 1.17.dev20220708+cpu.torch1.10.2, 1.17.dev20220708+cpu.torch1.11.0, 1.17.dev20220708+cpu.torch1.12.0, 1.17.dev20220709+cpu.torch1.7.1, 1.17.dev20220709+cpu.torch1.8.0, 1.17.dev20220709+cpu.torch1.8.1, 1.17.dev20220709+cpu.torch1.9.0, 1.17.dev20220709+cpu.torch1.9.1, 1.17.dev20220709+cpu.torch1.10.0, 1.17.dev20220709+cpu.torch1.10.1, 1.17.dev20220709+cpu.torch1.10.2, 1.17.dev20220709+cpu.torch1.11.0, 1.17.dev20220709+cpu.torch1.12.0, 1.17.dev20220710+cpu.torch1.7.1, 1.17.dev20220710+cpu.torch1.8.0, 1.17.dev20220710+cpu.torch1.8.1, 1.17.dev20220710+cpu.torch1.9.0, 1.17.dev20220710+cpu.torch1.9.1, 1.17.dev20220710+cpu.torch1.10.0, 1.17.dev20220710+cpu.torch1.10.1, 1.17.dev20220710+cpu.torch1.10.2, 1.17.dev20220710+cpu.torch1.11.0, 1.17.dev20220710+cpu.torch1.12.0, 1.17.dev20220714+cpu.torch1.7.1, 1.17.dev20220714+cpu.torch1.8.0, 1.17.dev20220714+cpu.torch1.8.1, 1.17.dev20220714+cpu.torch1.9.0, 1.17.dev20220714+cpu.torch1.9.1, 1.17.dev20220714+cpu.torch1.10.0, 1.17.dev20220714+cpu.torch1.10.1, 1.17.dev20220714+cpu.torch1.10.2, 1.17.dev20220714+cpu.torch1.11.0, 1.17.dev20220714+cpu.torch1.12.0, 1.17.dev20220716+cpu.torch1.7.1, 1.17.dev20220716+cpu.torch1.8.0, 1.17.dev20220716+cpu.torch1.8.1, 1.17.dev20220716+cpu.torch1.9.0, 1.17.dev20220716+cpu.torch1.9.1, 1.17.dev20220716+cpu.torch1.10.0, 1.17.dev20220716+cpu.torch1.10.1, 1.17.dev20220716+cpu.torch1.10.2, 1.17.dev20220716+cpu.torch1.11.0, 1.17.dev20220716+cpu.torch1.12.0, 1.17.dev20220719+cpu.torch1.7.1, 1.17.dev20220719+cpu.torch1.8.0, 1.17.dev20220719+cpu.torch1.8.1, 1.17.dev20220719+cpu.torch1.9.0, 1.17.dev20220719+cpu.torch1.9.1, 1.17.dev20220719+cpu.torch1.10.0, 1.17.dev20220719+cpu.torch1.10.1, 1.17.dev20220719+cpu.torch1.10.2, 1.17.dev20220719+cpu.torch1.11.0, 1.17.dev20220719+cpu.torch1.12.0, 1.17.dev20220725+cpu.torch1.10.0, 1.17.dev20220725+cpu.torch1.10.1, 1.17.dev20220726+cpu.torch1.7.1, 1.17.dev20220726+cpu.torch1.8.0, 1.17.dev20220726+cpu.torch1.8.1, 1.17.dev20220726+cpu.torch1.9.0, 1.17.dev20220726+cpu.torch1.9.1, 1.17.dev20220726+cpu.torch1.10.2, 1.17.dev20220726+cpu.torch1.11.0, 1.17.dev20220726+cpu.torch1.12.0, 1.17.dev20220726+cuda10.1.torch1.8.2, 1.17.dev20220726+cuda10.2.torch1.8.2, 1.17.dev20220726+cuda11.1.torch1.8.2, 1.17.dev20220803+cpu.torch1.7.1, 1.17.dev20220803+cpu.torch1.8.0, 1.17.dev20220803+cpu.torch1.8.1, 1.17.dev20220803+cpu.torch1.9.0, 1.17.dev20220803+cpu.torch1.9.1, 1.17.dev20220803+cpu.torch1.10.0, 1.17.dev20220803+cpu.torch1.10.1, 1.17.dev20220803+cpu.torch1.10.2, 1.17.dev20220803+cpu.torch1.11.0, 1.17.dev20220803+cpu.torch1.12.0, 1.17.dev20220807+cpu.torch1.10.0, 1.17.dev20220807+cpu.torch1.10.1, 1.17.dev20220808+cpu.torch1.7.1, 1.17.dev20220808+cpu.torch1.8.0, 1.17.dev20220808+cpu.torch1.8.1, 1.17.dev20220808+cpu.torch1.9.0, 1.17.dev20220808+cpu.torch1.9.1, 1.17.dev20220808+cpu.torch1.10.2, 1.17.dev20220808+cpu.torch1.11.0, 1.17.dev20220808+cpu.torch1.12.0, 1.17.dev20220813+cpu.torch1.7.1, 1.17.dev20220813+cpu.torch1.8.0, 1.17.dev20220813+cpu.torch1.8.1, 1.17.dev20220813+cpu.torch1.9.0, 1.17.dev20220813+cpu.torch1.9.1, 1.17.dev20220813+cpu.torch1.10.0, 1.17.dev20220813+cpu.torch1.10.1, 1.17.dev20220813+cpu.torch1.10.2, 1.17.dev20220813+cpu.torch1.11.0, 1.17.dev20220813+cpu.torch1.12.0, 1.17, 1.18.dev20220816+cpu.torch1.7.1, 1.18.dev20220816+cpu.torch1.8.0, 1.18.dev20220816+cpu.torch1.8.1, 1.18.dev20220816+cpu.torch1.9.0, 1.18.dev20220816+cpu.torch1.9.1, 1.18.dev20220816+cpu.torch1.10.0, 1.18.dev20220816+cpu.torch1.10.1, 1.18.dev20220816+cpu.torch1.10.2, 1.18.dev20220816+cpu.torch1.11.0, 1.18.dev20220816+cpu.torch1.12.0, 1.18.dev20220817+cpu.torch1.7.1, 1.18.dev20220817+cpu.torch1.8.0, 1.18.dev20220817+cpu.torch1.8.1, 1.18.dev20220817+cpu.torch1.9.0, 1.18.dev20220817+cpu.torch1.9.1, 1.18.dev20220817+cpu.torch1.10.0, 1.18.dev20220817+cpu.torch1.10.1, 1.18.dev20220817+cpu.torch1.10.2, 1.18.dev20220817+cpu.torch1.11.0, 1.18.dev20220817+cpu.torch1.12.0, 1.18.dev20220817+cpu.torch1.12.1, 1.18.dev20220818+cpu.torch1.8.0, 1.18.dev20220818+cpu.torch1.8.1, 1.18.dev20220818+cpu.torch1.9.0, 1.18.dev20220818+cpu.torch1.9.1, 1.18.dev20220818+cpu.torch1.10.2, 1.18.dev20220818+cpu.torch1.11.0, 1.18.dev20220818+cpu.torch1.12.0, 1.18.dev20220818+cpu.torch1.12.1, 1.18.dev20220820+cpu.torch1.10.0, 1.18.dev20220821+cpu.torch1.7.1, 1.18.dev20220821+cpu.torch1.8.0, 1.18.dev20220821+cpu.torch1.8.1, 1.18.dev20220821+cpu.torch1.9.0, 1.18.dev20220821+cpu.torch1.9.1, 1.18.dev20220821+cpu.torch1.10.1, 1.18.dev20220821+cpu.torch1.10.2, 1.18.dev20220821+cpu.torch1.11.0, 1.18.dev20220821+cpu.torch1.12.0, 1.18.dev20220821+cpu.torch1.12.1, 1.18.dev20220823+cpu.torch1.7.1, 1.18.dev20220823+cpu.torch1.8.0, 1.18.dev20220823+cpu.torch1.8.1, 1.18.dev20220823+cpu.torch1.9.0, 1.18.dev20220823+cpu.torch1.9.1, 1.18.dev20220823+cpu.torch1.10.0, 1.18.dev20220823+cpu.torch1.10.1, 1.18.dev20220823+cpu.torch1.10.2, 1.18.dev20220823+cpu.torch1.11.0, 1.18.dev20220823+cpu.torch1.12.0, 1.18.dev20220823+cpu.torch1.12.1, 1.18, 1.19.dev20220824+cpu.torch1.7.1, 1.19.dev20220824+cpu.torch1.8.0, 1.19.dev20220824+cpu.torch1.8.1, 1.19.dev20220824+cpu.torch1.9.0, 1.19.dev20220824+cpu.torch1.9.1, 1.19.dev20220824+cpu.torch1.10.0, 1.19.dev20220824+cpu.torch1.10.1, 1.19.dev20220824+cpu.torch1.10.2, 1.19.dev20220824+cpu.torch1.11.0, 1.19.dev20220824+cpu.torch1.12.0, 1.19.dev20220824+cpu.torch1.12.1, 1.19.dev20220828+cpu.torch1.10.0, 1.19.dev20220828+cpu.torch1.10.1, 1.19.dev20220829+cpu.torch1.7.1, 1.19.dev20220829+cpu.torch1.8.0, 1.19.dev20220829+cpu.torch1.8.1, 1.19.dev20220829+cpu.torch1.9.0, 1.19.dev20220829+cpu.torch1.9.1, 1.19.dev20220829+cpu.torch1.10.2, 1.19.dev20220829+cpu.torch1.11.0, 1.19.dev20220829+cpu.torch1.12.0, 1.19.dev20220829+cpu.torch1.12.1, 1.19.dev20220831+cpu.torch1.10.0, 1.19.dev20220901+cpu.torch1.7.1, 1.19.dev20220901+cpu.torch1.8.0, 1.19.dev20220901+cpu.torch1.8.1, 1.19.dev20220901+cpu.torch1.9.0, 1.19.dev20220901+cpu.torch1.9.1, 1.19.dev20220901+cpu.torch1.10.1, 1.19.dev20220901+cpu.torch1.10.2, 1.19.dev20220901+cpu.torch1.11.0, 1.19.dev20220901+cpu.torch1.12.0, 1.19.dev20220901+cpu.torch1.12.1, 1.19.dev20220917+cpu.torch1.7.1, 1.19.dev20220917+cpu.torch1.8.0, 1.19.dev20220917+cpu.torch1.8.1, 1.19.dev20220917+cpu.torch1.9.0, 1.19.dev20220917+cpu.torch1.9.1, 1.19.dev20220917+cpu.torch1.10.0, 1.19.dev20220917+cpu.torch1.10.1, 1.19.dev20220917+cpu.torch1.10.2, 1.19.dev20220917+cpu.torch1.11.0, 1.19.dev20220917+cpu.torch1.12.0, 1.19.dev20220917+cpu.torch1.12.1, 1.19.dev20220918+cpu.torch1.7.1, 1.19.dev20220918+cpu.torch1.8.0, 1.19.dev20220918+cpu.torch1.8.1, 1.19.dev20220918+cpu.torch1.9.0, 1.19.dev20220918+cpu.torch1.9.1, 1.19.dev20220918+cpu.torch1.10.2, 1.19.dev20220918+cpu.torch1.11.0, 1.19.dev20220918+cpu.torch1.12.0, 1.19.dev20220918+cpu.torch1.12.1, 1.19.dev20220921+cpu.torch1.7.1, 1.19.dev20220921+cpu.torch1.8.0, 1.19.dev20220921+cpu.torch1.8.1, 1.19.dev20220921+cpu.torch1.9.0, 1.19.dev20220921+cpu.torch1.9.1, 1.19.dev20220921+cpu.torch1.10.0, 1.19.dev20220921+cpu.torch1.10.1, 1.19.dev20220921+cpu.torch1.10.2, 1.19.dev20220921+cpu.torch1.11.0, 1.19.dev20220921+cpu.torch1.12.0, 1.19.dev20220921+cpu.torch1.12.1, 1.19.dev20220922+cpu.torch1.7.1, 1.19.dev20220922+cpu.torch1.8.0, 1.19.dev20220922+cpu.torch1.8.1, 1.19.dev20220922+cpu.torch1.9.0, 1.19.dev20220922+cpu.torch1.9.1, 1.19.dev20220922+cpu.torch1.10.0, 1.19.dev20220922+cpu.torch1.10.1, 1.19.dev20220922+cpu.torch1.10.2, 1.19.dev20220922+cpu.torch1.11.0, 1.19.dev20220922+cpu.torch1.12.0, 1.19.dev20220922+cpu.torch1.12.1, 1.19, 1.21.dev20221008+cpu.torch1.7.1, 1.21.dev20221008+cpu.torch1.8.0, 1.21.dev20221008+cpu.torch1.8.1, 1.21.dev20221008+cpu.torch1.9.0, 1.21.dev20221008+cpu.torch1.9.1, 1.21.dev20221008+cpu.torch1.10.0, 1.21.dev20221008+cpu.torch1.10.1, 1.21.dev20221008+cpu.torch1.10.2, 1.21.dev20221008+cpu.torch1.11.0, 1.21.dev20221008+cpu.torch1.12.0, 1.21.dev20221008+cpu.torch1.12.1, 1.21.dev20221008+cuda10.2.torch1.12.1, 1.21.dev20221008+cuda11.3.torch1.12.1, 1.21.dev20221008+cuda11.6.torch1.12.1, 1.21.dev20221010+cpu.torch1.7.1, 1.21.dev20221010+cpu.torch1.8.0, 1.21.dev20221010+cpu.torch1.8.1, 1.21.dev20221010+cpu.torch1.9.0, 1.21.dev20221010+cpu.torch1.9.1, 1.21.dev20221010+cpu.torch1.10.0, 1.21.dev20221010+cpu.torch1.10.1, 1.21.dev20221010+cpu.torch1.10.2, 1.21.dev20221010+cpu.torch1.11.0, 1.21.dev20221010+cpu.torch1.12.0, 1.21.dev20221010+cpu.torch1.12.1, 1.21.dev20221010+cuda10.2.torch1.12.1, 1.21.dev20221010+cuda11.3.torch1.12.1, 1.21.dev20221010+cuda11.6.torch1.12.1, 1.21.dev20221015+cpu.torch1.7.1, 1.21.dev20221015+cpu.torch1.8.0, 1.21.dev20221015+cpu.torch1.8.1, 1.21.dev20221015+cpu.torch1.9.0, 1.21.dev20221015+cpu.torch1.9.1, 1.21.dev20221015+cpu.torch1.10.0, 1.21.dev20221015+cpu.torch1.10.1, 1.21.dev20221015+cpu.torch1.10.2, 1.21.dev20221015+cpu.torch1.11.0, 1.21.dev20221015+cpu.torch1.12.0, 1.21.dev20221015+cpu.torch1.12.1, 1.21.dev20221015+cuda10.2.torch1.12.1, 1.21.dev20221015+cuda11.3.torch1.12.1, 1.21.dev20221015+cuda11.6.torch1.12.1, 1.21.dev20221018+cpu.torch1.7.1, 1.21.dev20221018+cpu.torch1.8.0, 1.21.dev20221018+cpu.torch1.8.1, 1.21.dev20221018+cpu.torch1.9.0, 1.21.dev20221018+cpu.torch1.9.1, 1.21.dev20221018+cpu.torch1.10.0, 1.21.dev20221018+cpu.torch1.10.1, 1.21.dev20221018+cpu.torch1.10.2, 1.21.dev20221018+cpu.torch1.11.0, 1.21.dev20221018+cpu.torch1.12.0, 1.21.dev20221018+cpu.torch1.12.1, 1.21.dev20221018+cuda10.2.torch1.12.1, 1.21.dev20221018+cuda11.3.torch1.12.1, 1.21.dev20221018+cuda11.6.torch1.12.1, 1.21.dev20221027+cuda10.2.torch1.12.1, 1.21.dev20221028+cpu.torch1.7.1, 1.21.dev20221028+cpu.torch1.8.0, 1.21.dev20221028+cpu.torch1.8.1, 1.21.dev20221028+cpu.torch1.9.0, 1.21.dev20221028+cpu.torch1.9.1, 1.21.dev20221028+cpu.torch1.10.0, 1.21.dev20221028+cpu.torch1.10.1, 1.21.dev20221028+cpu.torch1.10.2, 1.21.dev20221028+cpu.torch1.11.0, 1.21.dev20221028+cpu.torch1.12.0, 1.21.dev20221028+cpu.torch1.12.1, 1.21.dev20221028+cuda10.2.torch1.12.1, 1.21.dev20221028+cuda11.3.torch1.12.1, 1.21.dev20221028+cuda11.6.torch1.12.1, 1.21.dev20221029+cpu.torch1.7.1, 1.21.dev20221029+cpu.torch1.8.0, 1.21.dev20221029+cpu.torch1.8.1, 1.21.dev20221029+cpu.torch1.9.0, 1.21.dev20221029+cpu.torch1.9.1, 1.21.dev20221029+cpu.torch1.10.0, 1.21.dev20221029+cpu.torch1.10.1, 1.21.dev20221029+cpu.torch1.10.2, 1.21.dev20221029+cpu.torch1.11.0, 1.21.dev20221029+cpu.torch1.12.0, 1.21.dev20221029+cpu.torch1.12.1, 1.21.dev20221029+cuda11.3.torch1.12.1, 1.21.dev20221029+cuda11.6.torch1.12.1, 1.21.dev20221030+cuda10.2.torch1.12.1, 1.21.dev20221030+cuda11.3.torch1.12.1, 1.21.dev20221030+cuda11.6.torch1.12.1, 1.21.dev20221031+cpu.torch1.7.1, 1.21.dev20221031+cpu.torch1.8.0, 1.21.dev20221031+cpu.torch1.8.1, 1.21.dev20221031+cpu.torch1.9.0, 1.21.dev20221031+cpu.torch1.9.1, 1.21.dev20221031+cpu.torch1.10.0, 1.21.dev20221031+cpu.torch1.10.1, 1.21.dev20221031+cpu.torch1.10.2, 1.21.dev20221031+cpu.torch1.11.0, 1.21.dev20221031+cpu.torch1.12.0, 1.21.dev20221031+cpu.torch1.12.1, 1.21.dev20221101+cpu.torch1.7.1, 1.21.dev20221101+cpu.torch1.8.0, 1.21.dev20221101+cpu.torch1.8.1, 1.21.dev20221101+cpu.torch1.9.0, 1.21.dev20221101+cpu.torch1.9.1, 1.21.dev20221101+cpu.torch1.10.0, 1.21.dev20221101+cpu.torch1.10.1, 1.21.dev20221101+cpu.torch1.10.2, 1.21.dev20221101+cpu.torch1.11.0, 1.21.dev20221101+cpu.torch1.12.0, 1.21.dev20221101+cpu.torch1.12.1, 1.21.dev20221101+cpu.torch1.13.0, 1.21.dev20221101+cuda11.6.torch1.13.0, 1.21.dev20221101+cuda11.7.torch1.13.0, 1.21.dev20221104+cpu.torch1.7.1, 1.21.dev20221104+cpu.torch1.8.0, 1.21.dev20221104+cpu.torch1.8.1, 1.21.dev20221104+cpu.torch1.9.0, 1.21.dev20221104+cpu.torch1.9.1, 1.21.dev20221104+cpu.torch1.10.0, 1.21.dev20221104+cpu.torch1.10.1, 1.21.dev20221104+cpu.torch1.10.2, 1.21.dev20221104+cpu.torch1.11.0, 1.21.dev20221104+cpu.torch1.12.0, 1.21.dev20221104+cpu.torch1.12.1, 1.21.dev20221104+cpu.torch1.13.0, 1.21.dev20221104+cuda11.6.torch1.13.0, 1.21.dev20221104+cuda11.7.torch1.13.0, 1.21.dev20221105+cpu.torch1.7.1, 1.21.dev20221105+cpu.torch1.8.0, 1.21.dev20221105+cpu.torch1.8.1, 1.21.dev20221105+cpu.torch1.9.0, 1.21.dev20221105+cpu.torch1.9.1, 1.21.dev20221105+cpu.torch1.10.0, 1.21.dev20221105+cpu.torch1.10.1, 1.21.dev20221105+cpu.torch1.10.2, 1.21.dev20221105+cpu.torch1.11.0, 1.21.dev20221105+cpu.torch1.12.0, 1.21.dev20221105+cpu.torch1.12.1, 1.21.dev20221105+cpu.torch1.13.0, 1.21.dev20221105+cuda11.6.torch1.13.0, 1.21.dev20221105+cuda11.7.torch1.13.0, 1.21.dev20221107+cuda11.6.torch1.13.0, 1.21.dev20221107+cuda11.7.torch1.13.0, 1.21.dev20221108+cpu.torch1.7.1, 1.21.dev20221108+cpu.torch1.8.0, 1.21.dev20221108+cpu.torch1.8.1, 1.21.dev20221108+cpu.torch1.9.0, 1.21.dev20221108+cpu.torch1.9.1, 1.21.dev20221108+cpu.torch1.10.0, 1.21.dev20221108+cpu.torch1.10.1, 1.21.dev20221108+cpu.torch1.10.2, 1.21.dev20221108+cpu.torch1.11.0, 1.21.dev20221108+cpu.torch1.12.0, 1.21.dev20221108+cpu.torch1.12.1, 1.21.dev20221108+cpu.torch1.13.0, 1.21.dev20221109+cuda11.6.torch1.13.0, 1.21.dev20221109+cuda11.7.torch1.13.0, 1.21.dev20221110+cpu.torch1.7.1, 1.21.dev20221110+cpu.torch1.8.0, 1.21.dev20221110+cpu.torch1.8.1, 1.21.dev20221110+cpu.torch1.9.0, 1.21.dev20221110+cpu.torch1.9.1, 1.21.dev20221110+cpu.torch1.10.0, 1.21.dev20221110+cpu.torch1.10.1, 1.21.dev20221110+cpu.torch1.10.2, 1.21.dev20221110+cpu.torch1.11.0, 1.21.dev20221110+cpu.torch1.12.0, 1.21.dev20221110+cpu.torch1.12.1, 1.21.dev20221110+cpu.torch1.13.0, 1.22.dev20221111+cuda11.6.torch1.13.0, 1.22.dev20221111+cuda11.7.torch1.13.0, 1.22.dev20221112+cpu.torch1.7.1, 1.22.dev20221112+cpu.torch1.8.0, 1.22.dev20221112+cpu.torch1.8.1, 1.22.dev20221112+cpu.torch1.9.0, 1.22.dev20221112+cpu.torch1.9.1, 1.22.dev20221112+cpu.torch1.10.0, 1.22.dev20221112+cpu.torch1.10.1, 1.22.dev20221112+cpu.torch1.10.2, 1.22.dev20221112+cpu.torch1.11.0, 1.22.dev20221112+cpu.torch1.12.0, 1.22.dev20221112+cpu.torch1.12.1, 1.22.dev20221112+cpu.torch1.13.0, 1.22.dev20221115+cuda11.6.torch1.13.0, 1.22.dev20221115+cuda11.7.torch1.13.0, 1.22.dev20221116+cpu.torch1.7.1, 1.22.dev20221116+cpu.torch1.8.0, 1.22.dev20221116+cpu.torch1.8.1, 1.22.dev20221116+cpu.torch1.9.0, 1.22.dev20221116+cpu.torch1.9.1, 1.22.dev20221116+cpu.torch1.10.0, 1.22.dev20221116+cpu.torch1.10.1, 1.22.dev20221116+cpu.torch1.10.2, 1.22.dev20221116+cpu.torch1.11.0, 1.22.dev20221116+cpu.torch1.12.0, 1.22.dev20221116+cpu.torch1.12.1, 1.22.dev20221116+cpu.torch1.13.0, 1.22.dev20221116+cuda11.6.torch1.13.0, 1.22.dev20221117+cpu.torch1.7.1, 1.22.dev20221117+cpu.torch1.8.0, 1.22.dev20221117+cpu.torch1.8.1, 1.22.dev20221117+cpu.torch1.9.0, 1.22.dev20221117+cpu.torch1.9.1, 1.22.dev20221117+cpu.torch1.10.0, 1.22.dev20221117+cpu.torch1.10.1, 1.22.dev20221117+cpu.torch1.10.2, 1.22.dev20221117+cpu.torch1.11.0, 1.22.dev20221117+cpu.torch1.12.0, 1.22.dev20221117+cpu.torch1.12.1, 1.22.dev20221117+cpu.torch1.13.0, 1.22.dev20221117+cuda11.6.torch1.13.0, 1.22.dev20221117+cuda11.7.torch1.13.0, 1.22.dev20221118+cpu.torch1.7.1, 1.22.dev20221118+cpu.torch1.8.0, 1.22.dev20221118+cpu.torch1.8.1, 1.22.dev20221118+cpu.torch1.9.0, 1.22.dev20221118+cpu.torch1.9.1, 1.22.dev20221118+cpu.torch1.10.0, 1.22.dev20221118+cpu.torch1.10.1, 1.22.dev20221118+cpu.torch1.10.2, 1.22.dev20221118+cpu.torch1.11.0, 1.22.dev20221118+cpu.torch1.12.0, 1.22.dev20221118+cpu.torch1.12.1, 1.22.dev20221118+cpu.torch1.13.0, 1.22, 1.23.dev20221124+cuda11.6.torch1.13.0, 1.23.dev20221124+cuda11.7.torch1.13.0, 1.23.1, 1.23.2.dev20221127+cpu.torch1.7.1, 1.23.2.dev20221127+cpu.torch1.8.0, 1.23.2.dev20221127+cpu.torch1.8.1, 1.23.2.dev20221127+cpu.torch1.9.0, 1.23.2.dev20221127+cpu.torch1.9.1, 1.23.2.dev20221127+cpu.torch1.10.0, 1.23.2.dev20221127+cpu.torch1.10.1, 1.23.2.dev20221127+cpu.torch1.10.2, 1.23.2.dev20221127+cpu.torch1.11.0, 1.23.2.dev20221127+cpu.torch1.12.0, 1.23.2.dev20221127+cpu.torch1.12.1, 1.23.2.dev20221127+cpu.torch1.13.0, 1.23.2.dev20221127+cuda11.6.torch1.13.0, 1.23.2.dev20221127+cuda11.7.torch1.13.0, 1.23.2.dev20221128+cpu.torch1.7.1, 1.23.2.dev20221128+cpu.torch1.8.0, 1.23.2.dev20221128+cpu.torch1.8.1, 1.23.2.dev20221128+cpu.torch1.9.0, 1.23.2.dev20221128+cpu.torch1.9.1, 1.23.2.dev20221128+cpu.torch1.10.0, 1.23.2.dev20221128+cpu.torch1.10.1, 1.23.2.dev20221128+cpu.torch1.10.2, 1.23.2.dev20221128+cpu.torch1.11.0, 1.23.2.dev20221128+cpu.torch1.12.0, 1.23.2.dev20221128+cpu.torch1.12.1, 1.23.2.dev20221128+cpu.torch1.13.0, 1.23.2.dev20221129+cpu.torch1.7.1, 1.23.2.dev20221129+cpu.torch1.8.0, 1.23.2.dev20221129+cpu.torch1.8.1, 1.23.2.dev20221129+cpu.torch1.9.0, 1.23.2.dev20221129+cpu.torch1.9.1, 1.23.2.dev20221129+cpu.torch1.10.0, 1.23.2.dev20221129+cpu.torch1.10.1, 1.23.2.dev20221129+cpu.torch1.10.2, 1.23.2.dev20221129+cpu.torch1.11.0, 1.23.2.dev20221129+cpu.torch1.12.0, 1.23.2.dev20221129+cpu.torch1.12.1, 1.23.2.dev20221129+cpu.torch1.13.0, 1.23.2.dev20221129+cuda11.6.torch1.13.0, 1.23.2.dev20221129+cuda11.7.torch1.13.0, 1.23.2.dev20221130+cuda11.6.torch1.13.0, 1.23.2.dev20221130+cuda11.7.torch1.13.0, 1.23.2.dev20221201+cpu.torch1.7.1, 1.23.2.dev20221201+cpu.torch1.8.0, 1.23.2.dev20221201+cpu.torch1.8.1, 1.23.2.dev20221201+cpu.torch1.9.0, 1.23.2.dev20221201+cpu.torch1.9.1, 1.23.2.dev20221201+cpu.torch1.10.0, 1.23.2.dev20221201+cpu.torch1.10.1, 1.23.2.dev20221201+cpu.torch1.10.2, 1.23.2.dev20221201+cpu.torch1.11.0, 1.23.2.dev20221201+cpu.torch1.12.0, 1.23.2.dev20221201+cpu.torch1.12.1, 1.23.2.dev20221201+cpu.torch1.13.0, 1.23.2.dev20221202+cuda11.6.torch1.13.0, 1.23.2.dev20221202+cuda11.7.torch1.13.0, 1.23.2.dev20221203+cpu.torch1.7.1, 1.23.2.dev20221203+cpu.torch1.8.0, 1.23.2.dev20221203+cpu.torch1.8.1, 1.23.2.dev20221203+cpu.torch1.9.0, 1.23.2.dev20221203+cpu.torch1.9.1, 1.23.2.dev20221203+cpu.torch1.10.0, 1.23.2.dev20221203+cpu.torch1.10.1, 1.23.2.dev20221203+cpu.torch1.10.2, 1.23.2.dev20221203+cpu.torch1.11.0, 1.23.2.dev20221203+cpu.torch1.12.0, 1.23.2.dev20221203+cpu.torch1.12.1, 1.23.2.dev20221203+cpu.torch1.13.0, 1.23.2.dev20221205+cuda11.6.torch1.13.0, 1.23.2.dev20221206+cpu.torch1.7.1, 1.23.2.dev20221206+cpu.torch1.8.0, 1.23.2.dev20221206+cpu.torch1.8.1, 1.23.2.dev20221206+cpu.torch1.9.0, 1.23.2.dev20221206+cpu.torch1.9.1, 1.23.2.dev20221206+cpu.torch1.10.0, 1.23.2.dev20221206+cpu.torch1.10.1, 1.23.2.dev20221206+cpu.torch1.10.2, 1.23.2.dev20221206+cpu.torch1.11.0, 1.23.2.dev20221206+cpu.torch1.12.0, 1.23.2.dev20221206+cpu.torch1.12.1, 1.23.2.dev20221206+cpu.torch1.13.0, 1.23.2.dev20221206+cuda11.7.torch1.13.0, 1.23.2.dev20221214+cpu.torch1.7.1, 1.23.2.dev20221214+cpu.torch1.8.0, 1.23.2.dev20221214+cpu.torch1.8.1, 1.23.2.dev20221214+cpu.torch1.9.0, 1.23.2.dev20221214+cpu.torch1.9.1, 1.23.2.dev20221214+cpu.torch1.10.0, 1.23.2.dev20221214+cpu.torch1.10.1, 1.23.2.dev20221214+cpu.torch1.10.2, 1.23.2.dev20221214+cpu.torch1.11.0, 1.23.2.dev20221214+cpu.torch1.12.0, 1.23.2.dev20221214+cpu.torch1.12.1, 1.23.2.dev20221214+cpu.torch1.13.0, 1.23.2.dev20221214+cuda11.6.torch1.13.0, 1.23.2.dev20221214+cuda11.7.torch1.13.0, 1.23.2.dev20221229+cuda11.6.torch1.13.0, 1.23.2.dev20221230+cpu.torch1.7.1, 1.23.2.dev20221230+cpu.torch1.8.0, 1.23.2.dev20221230+cpu.torch1.8.1, 1.23.2.dev20221230+cpu.torch1.9.0, 1.23.2.dev20221230+cpu.torch1.9.1, 1.23.2.dev20221230+cpu.torch1.10.0, 1.23.2.dev20221230+cpu.torch1.10.1, 1.23.2.dev20221230+cpu.torch1.10.2, 1.23.2.dev20221230+cpu.torch1.11.0, 1.23.2.dev20221230+cpu.torch1.12.0, 1.23.2.dev20221230+cpu.torch1.12.1, 1.23.2.dev20221230+cpu.torch1.13.0, 1.23.2.dev20221230+cuda11.7.torch1.13.0, 1.23.2.dev20230104+cuda11.6.torch1.13.0, 1.23.2.dev20230104+cuda11.7.torch1.13.0, 1.23.2.dev20230105+cpu.torch1.7.1, 1.23.2.dev20230105+cpu.torch1.8.0, 1.23.2.dev20230105+cpu.torch1.8.1, 1.23.2.dev20230105+cpu.torch1.9.0, 1.23.2.dev20230105+cpu.torch1.9.1, 1.23.2.dev20230105+cpu.torch1.10.0, 1.23.2.dev20230105+cpu.torch1.10.1, 1.23.2.dev20230105+cpu.torch1.10.2, 1.23.2.dev20230105+cpu.torch1.11.0, 1.23.2.dev20230105+cpu.torch1.12.0, 1.23.2.dev20230105+cpu.torch1.12.1, 1.23.2.dev20230105+cpu.torch1.13.0, 1.23.2, 1.23.3.dev20230105+cuda11.6.torch1.13.1, 1.23.3.dev20230105+cuda11.7.torch1.13.1, 1.23.3.dev20230106+cpu.torch1.7.1, 1.23.3.dev20230106+cpu.torch1.8.0, 1.23.3.dev20230106+cpu.torch1.8.1, 1.23.3.dev20230106+cpu.torch1.9.0, 1.23.3.dev20230106+cpu.torch1.9.1, 1.23.3.dev20230106+cpu.torch1.10.0, 1.23.3.dev20230106+cpu.torch1.10.1, 1.23.3.dev20230106+cpu.torch1.10.2, 1.23.3.dev20230106+cpu.torch1.11.0, 1.23.3.dev20230106+cpu.torch1.12.0, 1.23.3.dev20230106+cpu.torch1.12.1, 1.23.3.dev20230106+cpu.torch1.13.0, 1.23.3.dev20230106+cpu.torch1.13.1, 1.23.3.dev20230110+cpu.torch1.10.0, 1.23.3.dev20230110+cpu.torch1.10.1, 1.23.3.dev20230110+cuda11.6.torch1.13.1, 1.23.3.dev20230110+cuda11.7.torch1.13.1, 1.23.3.dev20230111+cpu.torch1.7.1, 1.23.3.dev20230111+cpu.torch1.8.0, 1.23.3.dev20230111+cpu.torch1.8.1, 1.23.3.dev20230111+cpu.torch1.9.0, 1.23.3.dev20230111+cpu.torch1.9.1, 1.23.3.dev20230111+cpu.torch1.10.2, 1.23.3.dev20230111+cpu.torch1.11.0, 1.23.3.dev20230111+cpu.torch1.12.0, 1.23.3.dev20230111+cpu.torch1.12.1, 1.23.3.dev20230111+cpu.torch1.13.0, 1.23.3.dev20230111+cpu.torch1.13.1, 1.23.3.dev20230111+cuda11.6.torch1.13.1, 1.23.3.dev20230111+cuda11.7.torch1.13.1, 1.23.3.dev20230112+cpu.torch1.7.1, 1.23.3.dev20230112+cpu.torch1.8.0, 1.23.3.dev20230112+cpu.torch1.8.1, 1.23.3.dev20230112+cpu.torch1.9.0, 1.23.3.dev20230112+cpu.torch1.9.1, 1.23.3.dev20230112+cpu.torch1.10.0, 1.23.3.dev20230112+cpu.torch1.10.1, 1.23.3.dev20230112+cpu.torch1.10.2, 1.23.3.dev20230112+cpu.torch1.11.0, 1.23.3.dev20230112+cpu.torch1.12.0, 1.23.3.dev20230112+cpu.torch1.12.1, 1.23.3.dev20230112+cpu.torch1.13.0, 1.23.3.dev20230112+cpu.torch1.13.1, 1.23.3.dev20230115+cuda11.6.torch1.13.1, 1.23.3.dev20230115+cuda11.7.torch1.13.1, 1.23.3.dev20230116+cpu.torch1.7.1, 1.23.3.dev20230116+cpu.torch1.8.0, 1.23.3.dev20230116+cpu.torch1.8.1, 1.23.3.dev20230116+cpu.torch1.9.0, 1.23.3.dev20230116+cpu.torch1.9.1, 1.23.3.dev20230116+cpu.torch1.10.0, 1.23.3.dev20230116+cpu.torch1.10.1, 1.23.3.dev20230116+cpu.torch1.10.2, 1.23.3.dev20230116+cpu.torch1.11.0, 1.23.3.dev20230116+cpu.torch1.12.0, 1.23.3.dev20230116+cpu.torch1.12.1, 1.23.3.dev20230116+cpu.torch1.13.0, 1.23.3.dev20230116+cpu.torch1.13.1, 1.23.3.dev20230117+cpu.torch1.10.0, 1.23.3.dev20230117+cuda11.6.torch1.13.1, 1.23.3.dev20230117+cuda11.7.torch1.13.1, 1.23.3.dev20230118+cpu.torch1.7.1, 1.23.3.dev20230118+cpu.torch1.8.0, 1.23.3.dev20230118+cpu.torch1.8.1, 1.23.3.dev20230118+cpu.torch1.9.0, 1.23.3.dev20230118+cpu.torch1.9.1, 1.23.3.dev20230118+cpu.torch1.10.1, 1.23.3.dev20230118+cpu.torch1.10.2, 1.23.3.dev20230118+cpu.torch1.11.0, 1.23.3.dev20230118+cpu.torch1.12.0, 1.23.3.dev20230118+cpu.torch1.12.1, 1.23.3.dev20230118+cpu.torch1.13.0, 1.23.3.dev20230118+cpu.torch1.13.1, 1.23.3.dev20230127+cpu.torch1.7.1, 1.23.3.dev20230127+cpu.torch1.8.0, 1.23.3.dev20230127+cpu.torch1.8.1, 1.23.3.dev20230127+cpu.torch1.9.0, 1.23.3.dev20230127+cpu.torch1.9.1, 1.23.3.dev20230127+cpu.torch1.10.0, 1.23.3.dev20230127+cpu.torch1.10.1, 1.23.3.dev20230127+cpu.torch1.10.2, 1.23.3.dev20230127+cpu.torch1.11.0, 1.23.3.dev20230127+cpu.torch1.12.0, 1.23.3.dev20230127+cpu.torch1.12.1, 1.23.3.dev20230127+cpu.torch1.13.0, 1.23.3.dev20230127+cpu.torch1.13.1, 1.23.3.dev20230127+cuda11.6.torch1.13.1, 1.23.3.dev20230127+cuda11.7.torch1.13.1, 1.23.3.dev20230129+cpu.torch1.10.0, 1.23.3.dev20230129+cuda11.6.torch1.13.1, 1.23.3.dev20230129+cuda11.7.torch1.13.1, 1.23.3.dev20230130+cpu.torch1.7.1, 1.23.3.dev20230130+cpu.torch1.8.0, 1.23.3.dev20230130+cpu.torch1.8.1, 1.23.3.dev20230130+cpu.torch1.9.0, 1.23.3.dev20230130+cpu.torch1.9.1, 1.23.3.dev20230130+cpu.torch1.10.1, 1.23.3.dev20230130+cpu.torch1.10.2, 1.23.3.dev20230130+cpu.torch1.11.0, 1.23.3.dev20230130+cpu.torch1.12.0, 1.23.3.dev20230130+cpu.torch1.12.1, 1.23.3.dev20230130+cpu.torch1.13.0, 1.23.3.dev20230130+cpu.torch1.13.1, 1.23.3, 1.23.4.dev20230201+cuda11.6.torch1.13.1, 1.23.4.dev20230201+cuda11.7.torch1.13.1, 1.23.4.dev20230202+cpu.torch1.7.1, 1.23.4.dev20230202+cpu.torch1.8.0, 1.23.4.dev20230202+cpu.torch1.8.1, 1.23.4.dev20230202+cpu.torch1.9.0, 1.23.4.dev20230202+cpu.torch1.9.1, 1.23.4.dev20230202+cpu.torch1.10.0, 1.23.4.dev20230202+cpu.torch1.10.1, 1.23.4.dev20230202+cpu.torch1.10.2, 1.23.4.dev20230202+cpu.torch1.11.0, 1.23.4.dev20230202+cpu.torch1.12.0, 1.23.4.dev20230202+cpu.torch1.12.1, 1.23.4.dev20230202+cpu.torch1.13.0, 1.23.4.dev20230202+cpu.torch1.13.1, 1.23.4.dev20230205+cpu.torch1.10.0, 1.23.4.dev20230205+cuda11.6.torch1.13.1, 1.23.4.dev20230205+cuda11.7.torch1.13.1, 1.23.4.dev20230206+cpu.torch1.7.1, 1.23.4.dev20230206+cpu.torch1.8.0, 1.23.4.dev20230206+cpu.torch1.8.1, 1.23.4.dev20230206+cpu.torch1.9.0, 1.23.4.dev20230206+cpu.torch1.9.1, 1.23.4.dev20230206+cpu.torch1.10.1, 1.23.4.dev20230206+cpu.torch1.10.2, 1.23.4.dev20230206+cpu.torch1.11.0, 1.23.4.dev20230206+cpu.torch1.12.0, 1.23.4.dev20230206+cpu.torch1.12.1, 1.23.4.dev20230206+cpu.torch1.13.0, 1.23.4.dev20230206+cpu.torch1.13.1, 1.23.4.dev20230217+cpu.torch1.10.0, 1.23.4.dev20230217+cpu.torch1.10.1, 1.23.4.dev20230217+cuda11.6.torch1.13.1, 1.23.4.dev20230217+cuda11.7.torch1.13.1, 1.23.4.dev20230218+cpu.torch1.7.1, 1.23.4.dev20230218+cpu.torch1.8.0, 1.23.4.dev20230218+cpu.torch1.8.1, 1.23.4.dev20230218+cpu.torch1.9.0, 1.23.4.dev20230218+cpu.torch1.9.1, 1.23.4.dev20230218+cpu.torch1.10.2, 1.23.4.dev20230218+cpu.torch1.11.0, 1.23.4.dev20230218+cpu.torch1.12.0, 1.23.4.dev20230218+cpu.torch1.12.1, 1.23.4.dev20230218+cpu.torch1.13.0, 1.23.4.dev20230218+cpu.torch1.13.1, 1.23.4.dev20230222+cpu.torch1.10.0, 1.23.4.dev20230222+cpu.torch1.10.1, 1.23.4.dev20230222+cuda11.6.torch1.13.1, 1.23.4.dev20230222+cuda11.7.torch1.13.1, 1.23.4.dev20230223+cpu.torch1.7.1, 1.23.4.dev20230223+cpu.torch1.8.0, 1.23.4.dev20230223+cpu.torch1.8.1, 1.23.4.dev20230223+cpu.torch1.9.0, 1.23.4.dev20230223+cpu.torch1.9.1, 1.23.4.dev20230223+cpu.torch1.10.2, 1.23.4.dev20230223+cpu.torch1.11.0, 1.23.4.dev20230223+cpu.torch1.12.0, 1.23.4.dev20230223+cpu.torch1.12.1, 1.23.4.dev20230223+cpu.torch1.13.0, 1.23.4.dev20230223+cpu.torch1.13.1, 1.23.4.dev20230228+cpu.torch1.10.0, 1.23.4.dev20230228+cpu.torch1.10.1, 1.23.4.dev20230228+cuda11.6.torch1.13.1, 1.23.4.dev20230228+cuda11.7.torch1.13.1, 1.23.4.dev20230301+cpu.torch1.7.1, 1.23.4.dev20230301+cpu.torch1.8.0, 1.23.4.dev20230301+cpu.torch1.8.1, 1.23.4.dev20230301+cpu.torch1.9.0, 1.23.4.dev20230301+cpu.torch1.9.1, 1.23.4.dev20230301+cpu.torch1.10.2, 1.23.4.dev20230301+cpu.torch1.11.0, 1.23.4.dev20230301+cpu.torch1.12.0, 1.23.4.dev20230301+cpu.torch1.12.1, 1.23.4.dev20230301+cpu.torch1.13.0, 1.23.4.dev20230301+cpu.torch1.13.1, 1.23.4.dev20230316+cpu.torch1.10.0, 1.23.4.dev20230316+cpu.torch1.10.1, 1.23.4.dev20230316+cuda11.6.torch1.13.1, 1.23.4.dev20230316+cuda11.7.torch1.13.1, 1.23.4.dev20230317+cpu.torch1.7.1, 1.23.4.dev20230317+cpu.torch1.8.0, 1.23.4.dev20230317+cpu.torch1.8.1, 1.23.4.dev20230317+cpu.torch1.9.0, 1.23.4.dev20230317+cpu.torch1.9.1, 1.23.4.dev20230317+cpu.torch1.10.2, 1.23.4.dev20230317+cpu.torch1.11.0, 1.23.4.dev20230317+cpu.torch1.12.0, 1.23.4.dev20230317+cpu.torch1.12.1, 1.23.4.dev20230317+cpu.torch1.13.0, 1.23.4.dev20230317+cpu.torch1.13.1, 1.23.4.dev20230318+cuda11.6.torch1.13.1, 1.23.4.dev20230318+cuda11.7.torch1.13.1, 1.23.4.dev20230319+cpu.torch1.7.1, 1.23.4.dev20230319+cpu.torch1.8.0, 1.23.4.dev20230319+cpu.torch1.8.1, 1.23.4.dev20230319+cpu.torch1.9.0, 1.23.4.dev20230319+cpu.torch1.9.1, 1.23.4.dev20230319+cpu.torch1.10.0, 1.23.4.dev20230319+cpu.torch1.10.1, 1.23.4.dev20230319+cpu.torch1.10.2, 1.23.4.dev20230319+cpu.torch1.11.0, 1.23.4.dev20230319+cpu.torch1.12.0, 1.23.4.dev20230319+cpu.torch1.12.1, 1.23.4.dev20230319+cpu.torch1.13.0, 1.23.4.dev20230319+cpu.torch1.13.1, 1.23.4)\u001b[0m\u001b[31m\n",
            "\u001b[0m\u001b[31mERROR: No matching distribution found for k2==1.17.dev20220725+cuda11.0.torch1.7.1\u001b[0m\u001b[31m\n",
            "\u001b[0m"
          ]
        }
      ]
    },
    {
      "cell_type": "code",
      "source": [
        "! pip install k2==1.10.dev20211102+cuda10.1.torch1.7.1 -f https://k2-fsa.org/nightly"
      ],
      "metadata": {
        "colab": {
          "base_uri": "https://localhost:8080/"
        },
        "id": "FLw2IDOUO_Ce",
        "outputId": "04dd11f4-f4a3-482c-8998-0eb8d09072de"
      },
      "execution_count": 8,
      "outputs": [
        {
          "output_type": "stream",
          "name": "stdout",
          "text": [
            "Looking in indexes: https://pypi.org/simple, https://us-python.pkg.dev/colab-wheels/public/simple/\n",
            "Looking in links: https://k2-fsa.org/nightly\n",
            "\u001b[31mERROR: Could not find a version that satisfies the requirement k2==1.10.dev20211102+cuda10.1.torch1.7.1 (from versions: 0.0.1.dev0, 0.0.2.dev0, 0.0.3.dev20201019, 0.0.3.dev20201020, 0.0.3.dev20201025, 0.0.3.dev20201027, 0.0.4.dev20201027, 0.0.5.dev20201027, 0.0.5.dev20201028, 0.0.6.dev20201028, 0.0.7.dev20201028, 0.0.9.dev20201109, 0.0.10.dev20201110, 0.1, 0.1.1.dev20201116, 0.1.1.dev20201118, 0.1.1.dev20201130, 0.1.1.dev20201208, 0.1.1.dev20201210, 0.1.1.dev20201212, 0.1.1.dev20201216, 0.1.2.dev20210111, 0.1.2, 0.1.3.dev20210111, 0.3.0, 0.3.1.dev20210121, 0.3.1.dev20210127, 0.3.1.dev20210204, 0.3.2.dev20210204, 0.3.3.dev20210205, 0.3.3.dev20210206, 0.3.3.dev20210209, 0.3.3.dev20210218, 0.3.3.dev20210222, 0.3.3.dev20210224, 0.3.3.dev20210302, 0.3.3.dev20210305, 0.3.3.dev20210309, 0.3.3.dev20210321, 0.3.3.dev20210328, 0.3.3.dev20210331, 0.3.3.dev20210409, 0.3.3.dev20210411, 0.3.3.dev20210415, 0.3.3.dev20210421, 0.3.3.dev20210425, 0.3.3.dev20210426, 0.3.3.dev20210501, 0.3.4.dev20210511, 0.3.4.dev20210512, 0.3.4.dev20210515, 0.3.5.dev20210605, 0.3.5.dev20210606, 0.3.5.dev20210608, 0.3.5, 1.0.dev20210617, 1.0.dev20210619, 1.0, 1.1.dev20210706, 1.1, 1.2, 1.3, 1.4, 1.5, 1.6, 1.7, 1.8, 1.9.dev20211024, 1.9, 1.10.dev20211103+cpu.torch1.7.1, 1.10.dev20211103+cpu.torch1.8.0, 1.10.dev20211103+cpu.torch1.8.1, 1.10.dev20211103+cpu.torch1.9.0, 1.10.dev20211103+cpu.torch1.9.1, 1.10.dev20211103+cpu.torch1.10.0, 1.10.dev20211105+cpu.torch1.7.1, 1.10.dev20211105+cpu.torch1.8.0, 1.10.dev20211105+cpu.torch1.8.1, 1.10.dev20211105+cpu.torch1.9.0, 1.10.dev20211105+cpu.torch1.9.1, 1.10.dev20211105+cpu.torch1.10.0, 1.10.dev20211106+cpu.torch1.7.1, 1.10.dev20211106+cpu.torch1.8.0, 1.10.dev20211106+cpu.torch1.8.1, 1.10.dev20211106+cpu.torch1.9.0, 1.10.dev20211106+cpu.torch1.9.1, 1.10.dev20211106+cpu.torch1.10.0, 1.10.dev20211107+cpu.torch1.7.1, 1.10.dev20211107+cpu.torch1.8.0, 1.10.dev20211107+cpu.torch1.8.1, 1.10.dev20211107+cpu.torch1.9.0, 1.10.dev20211107+cpu.torch1.9.1, 1.10.dev20211107+cpu.torch1.10.0, 1.10.dev20211109+cpu.torch1.7.1, 1.10.dev20211109+cpu.torch1.8.0, 1.10.dev20211109+cpu.torch1.8.1, 1.10.dev20211109+cpu.torch1.9.0, 1.10.dev20211109+cpu.torch1.9.1, 1.10.dev20211109+cpu.torch1.10.0, 1.10.dev20211111+cpu.torch1.7.1, 1.10.dev20211111+cpu.torch1.8.0, 1.10.dev20211111+cpu.torch1.8.1, 1.10.dev20211111+cpu.torch1.9.0, 1.10.dev20211111+cpu.torch1.9.1, 1.10.dev20211111+cpu.torch1.10.0, 1.10.dev20211112+cpu.torch1.7.1, 1.10.dev20211112+cpu.torch1.8.0, 1.10.dev20211112+cpu.torch1.8.1, 1.10.dev20211112+cpu.torch1.9.0, 1.10.dev20211112+cpu.torch1.9.1, 1.10.dev20211112+cpu.torch1.10.0, 1.10.dev20211113+cpu.torch1.7.1, 1.10.dev20211113+cpu.torch1.8.0, 1.10.dev20211113+cpu.torch1.8.1, 1.10.dev20211113+cpu.torch1.9.0, 1.10.dev20211113+cpu.torch1.9.1, 1.10.dev20211113+cpu.torch1.10.0, 1.10.dev20211114+cpu.torch1.7.1, 1.10.dev20211114+cpu.torch1.8.0, 1.10.dev20211114+cpu.torch1.8.1, 1.10.dev20211114+cpu.torch1.9.0, 1.10.dev20211114+cpu.torch1.9.1, 1.10.dev20211114+cpu.torch1.10.0, 1.10.dev20211115+cpu.torch1.7.1, 1.10.dev20211115+cpu.torch1.8.0, 1.10.dev20211115+cpu.torch1.8.1, 1.10.dev20211115+cpu.torch1.9.0, 1.10.dev20211115+cpu.torch1.9.1, 1.10.dev20211115+cpu.torch1.10.0, 1.10.dev20211116+cpu.torch1.7.1, 1.10.dev20211116+cpu.torch1.8.0, 1.10.dev20211116+cpu.torch1.8.1, 1.10.dev20211116+cpu.torch1.9.0, 1.10.dev20211116+cpu.torch1.9.1, 1.10.dev20211116+cpu.torch1.10.0, 1.10.dev20211117+cpu.torch1.7.1, 1.10.dev20211117+cpu.torch1.8.0, 1.10.dev20211117+cpu.torch1.8.1, 1.10.dev20211117+cpu.torch1.9.0, 1.10.dev20211117+cpu.torch1.9.1, 1.10.dev20211117+cpu.torch1.10.0, 1.10.dev20211118+cpu.torch1.7.1, 1.10.dev20211118+cpu.torch1.8.0, 1.10.dev20211118+cpu.torch1.8.1, 1.10.dev20211118+cpu.torch1.9.0, 1.10.dev20211118+cpu.torch1.9.1, 1.10.dev20211118+cpu.torch1.10.0, 1.10.dev20211119+cpu.torch1.7.1, 1.10.dev20211119+cpu.torch1.8.0, 1.10.dev20211119+cpu.torch1.8.1, 1.10.dev20211119+cpu.torch1.9.0, 1.10.dev20211119+cpu.torch1.9.1, 1.10.dev20211119+cpu.torch1.10.0, 1.10.dev20211120+cpu.torch1.7.1, 1.10.dev20211120+cpu.torch1.8.0, 1.10.dev20211120+cpu.torch1.8.1, 1.10.dev20211120+cpu.torch1.9.0, 1.10.dev20211120+cpu.torch1.9.1, 1.10.dev20211120+cpu.torch1.10.0, 1.10.dev20211121+cpu.torch1.7.1, 1.10.dev20211121+cpu.torch1.8.0, 1.10.dev20211121+cpu.torch1.8.1, 1.10.dev20211121+cpu.torch1.9.0, 1.10.dev20211121+cpu.torch1.9.1, 1.10.dev20211121+cpu.torch1.10.0, 1.10.dev20211122+cpu.torch1.7.1, 1.10.dev20211122+cpu.torch1.8.0, 1.10.dev20211122+cpu.torch1.8.1, 1.10.dev20211122+cpu.torch1.9.0, 1.10.dev20211122+cpu.torch1.9.1, 1.10.dev20211122+cpu.torch1.10.0, 1.10.dev20211123+cpu.torch1.7.1, 1.10.dev20211123+cpu.torch1.8.0, 1.10.dev20211123+cpu.torch1.8.1, 1.10.dev20211123+cpu.torch1.9.0, 1.10.dev20211123+cpu.torch1.9.1, 1.10.dev20211123+cpu.torch1.10.0, 1.10.dev20211124+cpu.torch1.7.1, 1.10.dev20211124+cpu.torch1.8.0, 1.10.dev20211124+cpu.torch1.8.1, 1.10.dev20211124+cpu.torch1.9.0, 1.10.dev20211124+cpu.torch1.9.1, 1.10.dev20211124+cpu.torch1.10.0, 1.10.dev20211125+cpu.torch1.7.1, 1.10.dev20211125+cpu.torch1.8.0, 1.10.dev20211125+cpu.torch1.8.1, 1.10.dev20211125+cpu.torch1.9.0, 1.10.dev20211125+cpu.torch1.9.1, 1.10.dev20211125+cpu.torch1.10.0, 1.10.dev20211126+cpu.torch1.7.1, 1.10.dev20211126+cpu.torch1.8.0, 1.10.dev20211126+cpu.torch1.8.1, 1.10.dev20211126+cpu.torch1.9.0, 1.10.dev20211126+cpu.torch1.9.1, 1.10.dev20211126+cpu.torch1.10.0, 1.10.dev20211127+cpu.torch1.7.1, 1.10.dev20211127+cpu.torch1.8.0, 1.10.dev20211127+cpu.torch1.8.1, 1.10.dev20211127+cpu.torch1.9.0, 1.10.dev20211127+cpu.torch1.9.1, 1.10.dev20211127+cpu.torch1.10.0, 1.10.dev20211128+cpu.torch1.7.1, 1.10.dev20211128+cpu.torch1.8.0, 1.10.dev20211128+cpu.torch1.8.1, 1.10.dev20211128+cpu.torch1.9.0, 1.10.dev20211128+cpu.torch1.9.1, 1.10.dev20211128+cpu.torch1.10.0, 1.10, 1.11.dev20211129+cpu.torch1.7.1, 1.11.dev20211129+cpu.torch1.8.0, 1.11.dev20211129+cpu.torch1.8.1, 1.11.dev20211129+cpu.torch1.9.0, 1.11.dev20211129+cpu.torch1.9.1, 1.11.dev20211129+cpu.torch1.10.0, 1.11.dev20211130+cpu.torch1.7.1, 1.11.dev20211130+cpu.torch1.8.0, 1.11.dev20211130+cpu.torch1.8.1, 1.11.dev20211130+cpu.torch1.9.0, 1.11.dev20211130+cpu.torch1.9.1, 1.11.dev20211130+cpu.torch1.10.0, 1.11.dev20211201+cpu.torch1.7.1, 1.11.dev20211201+cpu.torch1.8.0, 1.11.dev20211201+cpu.torch1.8.1, 1.11.dev20211201+cpu.torch1.9.0, 1.11.dev20211201+cpu.torch1.9.1, 1.11.dev20211201+cpu.torch1.10.0, 1.11.dev20211202+cpu.torch1.7.1, 1.11.dev20211202+cpu.torch1.8.0, 1.11.dev20211202+cpu.torch1.8.1, 1.11.dev20211202+cpu.torch1.9.0, 1.11.dev20211202+cpu.torch1.9.1, 1.11.dev20211202+cpu.torch1.10.0, 1.11.dev20211203+cpu.torch1.7.1, 1.11.dev20211203+cpu.torch1.8.0, 1.11.dev20211203+cpu.torch1.8.1, 1.11.dev20211203+cpu.torch1.9.0, 1.11.dev20211203+cpu.torch1.9.1, 1.11.dev20211203+cpu.torch1.10.0, 1.11.dev20211204+cpu.torch1.7.1, 1.11.dev20211204+cpu.torch1.8.0, 1.11.dev20211204+cpu.torch1.8.1, 1.11.dev20211204+cpu.torch1.9.0, 1.11.dev20211204+cpu.torch1.9.1, 1.11.dev20211204+cpu.torch1.10.0, 1.11.dev20211205+cpu.torch1.7.1, 1.11.dev20211205+cpu.torch1.8.0, 1.11.dev20211205+cpu.torch1.8.1, 1.11.dev20211205+cpu.torch1.9.0, 1.11.dev20211205+cpu.torch1.9.1, 1.11.dev20211205+cpu.torch1.10.0, 1.11.dev20211206+cpu.torch1.7.1, 1.11.dev20211206+cpu.torch1.8.0, 1.11.dev20211206+cpu.torch1.8.1, 1.11.dev20211206+cpu.torch1.9.0, 1.11.dev20211206+cpu.torch1.9.1, 1.11.dev20211206+cpu.torch1.10.0, 1.11.dev20211207+cpu.torch1.7.1, 1.11.dev20211207+cpu.torch1.8.0, 1.11.dev20211207+cpu.torch1.8.1, 1.11.dev20211207+cpu.torch1.9.0, 1.11.dev20211207+cpu.torch1.9.1, 1.11.dev20211207+cpu.torch1.10.0, 1.11.dev20211208+cpu.torch1.7.1, 1.11.dev20211208+cpu.torch1.8.0, 1.11.dev20211208+cpu.torch1.8.1, 1.11.dev20211208+cpu.torch1.9.0, 1.11.dev20211208+cpu.torch1.9.1, 1.11.dev20211208+cpu.torch1.10.0, 1.11.dev20211209+cpu.torch1.7.1, 1.11.dev20211209+cpu.torch1.8.0, 1.11.dev20211209+cpu.torch1.8.1, 1.11.dev20211209+cpu.torch1.9.0, 1.11.dev20211209+cpu.torch1.9.1, 1.11.dev20211209+cpu.torch1.10.0, 1.11.dev20211210+cpu.torch1.7.1, 1.11.dev20211210+cpu.torch1.8.0, 1.11.dev20211210+cpu.torch1.8.1, 1.11.dev20211210+cpu.torch1.9.0, 1.11.dev20211210+cpu.torch1.9.1, 1.11.dev20211210+cpu.torch1.10.0, 1.11.dev20211211+cpu.torch1.7.1, 1.11.dev20211211+cpu.torch1.8.0, 1.11.dev20211211+cpu.torch1.8.1, 1.11.dev20211211+cpu.torch1.9.0, 1.11.dev20211211+cpu.torch1.9.1, 1.11.dev20211211+cpu.torch1.10.0, 1.11.dev20211212+cpu.torch1.7.1, 1.11.dev20211212+cpu.torch1.8.0, 1.11.dev20211212+cpu.torch1.8.1, 1.11.dev20211212+cpu.torch1.9.0, 1.11.dev20211212+cpu.torch1.9.1, 1.11.dev20211212+cpu.torch1.10.0, 1.11.dev20211213+cpu.torch1.7.1, 1.11.dev20211213+cpu.torch1.8.0, 1.11.dev20211213+cpu.torch1.8.1, 1.11.dev20211213+cpu.torch1.9.0, 1.11.dev20211213+cpu.torch1.9.1, 1.11.dev20211213+cpu.torch1.10.0, 1.11.dev20211214+cpu.torch1.7.1, 1.11.dev20211214+cpu.torch1.8.0, 1.11.dev20211214+cpu.torch1.8.1, 1.11.dev20211214+cpu.torch1.9.0, 1.11.dev20211214+cpu.torch1.9.1, 1.11.dev20211214+cpu.torch1.10.0, 1.11.dev20211215+cpu.torch1.7.1, 1.11.dev20211215+cpu.torch1.8.0, 1.11.dev20211215+cpu.torch1.8.1, 1.11.dev20211215+cpu.torch1.9.0, 1.11.dev20211215+cpu.torch1.9.1, 1.11.dev20211215+cpu.torch1.10.0, 1.11.dev20211216+cpu.torch1.7.1, 1.11.dev20211216+cpu.torch1.8.0, 1.11.dev20211216+cpu.torch1.8.1, 1.11.dev20211216+cpu.torch1.9.0, 1.11.dev20211216+cpu.torch1.9.1, 1.11.dev20211216+cpu.torch1.10.0, 1.11.dev20211217+cpu.torch1.7.1, 1.11.dev20211217+cpu.torch1.8.0, 1.11.dev20211217+cpu.torch1.8.1, 1.11.dev20211217+cpu.torch1.9.0, 1.11.dev20211217+cpu.torch1.9.1, 1.11.dev20211217+cpu.torch1.10.0, 1.11.dev20211218+cpu.torch1.7.1, 1.11.dev20211218+cpu.torch1.8.0, 1.11.dev20211218+cpu.torch1.8.1, 1.11.dev20211218+cpu.torch1.9.0, 1.11.dev20211218+cpu.torch1.9.1, 1.11.dev20211218+cpu.torch1.10.0, 1.11.dev20211219+cpu.torch1.7.1, 1.11.dev20211219+cpu.torch1.8.0, 1.11.dev20211219+cpu.torch1.8.1, 1.11.dev20211219+cpu.torch1.9.0, 1.11.dev20211219+cpu.torch1.9.1, 1.11.dev20211219+cpu.torch1.10.0, 1.11.dev20211220+cpu.torch1.7.1, 1.11.dev20211220+cpu.torch1.8.0, 1.11.dev20211220+cpu.torch1.8.1, 1.11.dev20211220+cpu.torch1.9.0, 1.11.dev20211220+cpu.torch1.9.1, 1.11.dev20211220+cpu.torch1.10.0, 1.11.dev20211221+cpu.torch1.7.1, 1.11.dev20211221+cpu.torch1.8.0, 1.11.dev20211221+cpu.torch1.8.1, 1.11.dev20211221+cpu.torch1.9.0, 1.11.dev20211221+cpu.torch1.9.1, 1.11.dev20211221+cpu.torch1.10.0, 1.11.dev20211222+cpu.torch1.7.1, 1.11.dev20211222+cpu.torch1.8.0, 1.11.dev20211222+cpu.torch1.8.1, 1.11.dev20211222+cpu.torch1.9.0, 1.11.dev20211222+cpu.torch1.9.1, 1.11.dev20211222+cpu.torch1.10.0, 1.11.dev20211223+cpu.torch1.7.1, 1.11.dev20211223+cpu.torch1.8.0, 1.11.dev20211223+cpu.torch1.8.1, 1.11.dev20211223+cpu.torch1.9.0, 1.11.dev20211223+cpu.torch1.9.1, 1.11.dev20211223+cpu.torch1.10.0, 1.11.dev20211224+cpu.torch1.7.1, 1.11.dev20211224+cpu.torch1.8.0, 1.11.dev20211224+cpu.torch1.8.1, 1.11.dev20211224+cpu.torch1.9.0, 1.11.dev20211224+cpu.torch1.9.1, 1.11.dev20211224+cpu.torch1.10.0, 1.11.dev20211225+cpu.torch1.7.1, 1.11.dev20211225+cpu.torch1.8.0, 1.11.dev20211225+cpu.torch1.8.1, 1.11.dev20211225+cpu.torch1.9.0, 1.11.dev20211225+cpu.torch1.9.1, 1.11.dev20211225+cpu.torch1.10.0, 1.11.dev20211226+cpu.torch1.7.1, 1.11.dev20211226+cpu.torch1.8.0, 1.11.dev20211226+cpu.torch1.8.1, 1.11.dev20211226+cpu.torch1.9.0, 1.11.dev20211226+cpu.torch1.9.1, 1.11.dev20211226+cpu.torch1.10.0, 1.11.dev20211227+cpu.torch1.7.1, 1.11.dev20211227+cpu.torch1.8.0, 1.11.dev20211227+cpu.torch1.9.0, 1.11.dev20211227+cpu.torch1.9.1, 1.11.dev20211227+cpu.torch1.10.0, 1.11.dev20211228+cpu.torch1.7.1, 1.11.dev20211228+cpu.torch1.8.0, 1.11.dev20211228+cpu.torch1.8.1, 1.11.dev20211228+cpu.torch1.9.0, 1.11.dev20211228+cpu.torch1.9.1, 1.11.dev20211228+cpu.torch1.10.0, 1.11.dev20211229+cpu.torch1.7.1, 1.11.dev20211229+cpu.torch1.8.0, 1.11.dev20211229+cpu.torch1.8.1, 1.11.dev20211229+cpu.torch1.9.0, 1.11.dev20211229+cpu.torch1.9.1, 1.11.dev20211229+cpu.torch1.10.0, 1.11.dev20211230+cpu.torch1.7.1, 1.11.dev20211230+cpu.torch1.8.0, 1.11.dev20211230+cpu.torch1.8.1, 1.11.dev20211230+cpu.torch1.9.0, 1.11.dev20211230+cpu.torch1.9.1, 1.11.dev20211230+cpu.torch1.10.0, 1.11.dev20211231+cpu.torch1.7.1, 1.11.dev20211231+cpu.torch1.8.0, 1.11.dev20211231+cpu.torch1.8.1, 1.11.dev20211231+cpu.torch1.9.0, 1.11.dev20211231+cpu.torch1.9.1, 1.11.dev20211231+cpu.torch1.10.0, 1.11.dev20220101+cpu.torch1.7.1, 1.11.dev20220101+cpu.torch1.8.0, 1.11.dev20220101+cpu.torch1.8.1, 1.11.dev20220101+cpu.torch1.9.0, 1.11.dev20220101+cpu.torch1.9.1, 1.11.dev20220101+cpu.torch1.10.0, 1.11.dev20220102+cpu.torch1.7.1, 1.11.dev20220102+cpu.torch1.8.0, 1.11.dev20220102+cpu.torch1.8.1, 1.11.dev20220102+cpu.torch1.9.0, 1.11.dev20220102+cpu.torch1.9.1, 1.11.dev20220102+cpu.torch1.10.0, 1.11.dev20220103+cpu.torch1.7.1, 1.11.dev20220103+cpu.torch1.8.0, 1.11.dev20220103+cpu.torch1.8.1, 1.11.dev20220103+cpu.torch1.9.0, 1.11.dev20220103+cpu.torch1.9.1, 1.11.dev20220103+cpu.torch1.10.0, 1.11.dev20220104+cpu.torch1.7.1, 1.11.dev20220104+cpu.torch1.8.0, 1.11.dev20220104+cpu.torch1.8.1, 1.11.dev20220104+cpu.torch1.9.0, 1.11.dev20220104+cpu.torch1.9.1, 1.11.dev20220104+cpu.torch1.10.0, 1.11.dev20220105+cpu.torch1.7.1, 1.11.dev20220105+cpu.torch1.8.0, 1.11.dev20220105+cpu.torch1.9.0, 1.11.dev20220105+cpu.torch1.9.1, 1.11.dev20220105+cpu.torch1.10.0, 1.11.dev20220106+cpu.torch1.7.1, 1.11.dev20220106+cpu.torch1.8.0, 1.11.dev20220106+cpu.torch1.8.1, 1.11.dev20220106+cpu.torch1.9.0, 1.11.dev20220106+cpu.torch1.9.1, 1.11.dev20220106+cpu.torch1.10.0, 1.11.dev20220107+cpu.torch1.7.1, 1.11.dev20220107+cpu.torch1.8.0, 1.11.dev20220107+cpu.torch1.8.1, 1.11.dev20220107+cpu.torch1.9.0, 1.11.dev20220107+cpu.torch1.9.1, 1.11.dev20220107+cpu.torch1.10.0, 1.11.dev20220108+cpu.torch1.7.1, 1.11.dev20220108+cpu.torch1.8.0, 1.11.dev20220108+cpu.torch1.8.1, 1.11.dev20220108+cpu.torch1.9.0, 1.11.dev20220108+cpu.torch1.9.1, 1.11.dev20220108+cpu.torch1.10.0, 1.11.dev20220109+cpu.torch1.7.1, 1.11.dev20220109+cpu.torch1.8.0, 1.11.dev20220109+cpu.torch1.8.1, 1.11.dev20220109+cpu.torch1.9.0, 1.11.dev20220109+cpu.torch1.9.1, 1.11.dev20220109+cpu.torch1.10.0, 1.11.dev20220110+cpu.torch1.7.1, 1.11.dev20220110+cpu.torch1.8.0, 1.11.dev20220110+cpu.torch1.8.1, 1.11.dev20220110+cpu.torch1.9.0, 1.11.dev20220110+cpu.torch1.9.1, 1.11.dev20220110+cpu.torch1.10.0, 1.11.dev20220111+cpu.torch1.7.1, 1.11.dev20220111+cpu.torch1.8.0, 1.11.dev20220111+cpu.torch1.8.1, 1.11.dev20220111+cpu.torch1.9.0, 1.11.dev20220111+cpu.torch1.9.1, 1.11.dev20220111+cpu.torch1.10.0, 1.11.dev20220112+cpu.torch1.7.1, 1.11.dev20220112+cpu.torch1.8.0, 1.11.dev20220112+cpu.torch1.8.1, 1.11.dev20220112+cpu.torch1.9.0, 1.11.dev20220112+cpu.torch1.9.1, 1.11.dev20220112+cpu.torch1.10.0, 1.11.dev20220113+cpu.torch1.7.1, 1.11.dev20220113+cpu.torch1.8.0, 1.11.dev20220113+cpu.torch1.8.1, 1.11.dev20220113+cpu.torch1.9.0, 1.11.dev20220113+cpu.torch1.9.1, 1.11.dev20220113+cpu.torch1.10.0, 1.11.dev20220114+cpu.torch1.7.1, 1.11.dev20220114+cpu.torch1.8.0, 1.11.dev20220114+cpu.torch1.8.1, 1.11.dev20220114+cpu.torch1.9.0, 1.11.dev20220114+cpu.torch1.9.1, 1.11.dev20220114+cpu.torch1.10.0, 1.11.dev20220115+cpu.torch1.7.1, 1.11.dev20220115+cpu.torch1.8.0, 1.11.dev20220115+cpu.torch1.8.1, 1.11.dev20220115+cpu.torch1.9.0, 1.11.dev20220115+cpu.torch1.9.1, 1.11.dev20220115+cpu.torch1.10.0, 1.11.dev20220116+cpu.torch1.7.1, 1.11.dev20220116+cpu.torch1.8.0, 1.11.dev20220116+cpu.torch1.8.1, 1.11.dev20220116+cpu.torch1.9.0, 1.11.dev20220116+cpu.torch1.9.1, 1.11.dev20220116+cpu.torch1.10.0, 1.11.dev20220117+cpu.torch1.7.1, 1.11.dev20220117+cpu.torch1.8.0, 1.11.dev20220117+cpu.torch1.8.1, 1.11.dev20220117+cpu.torch1.9.0, 1.11.dev20220117+cpu.torch1.9.1, 1.11.dev20220117+cpu.torch1.10.0, 1.11.dev20220118+cpu.torch1.7.1, 1.11.dev20220118+cpu.torch1.8.0, 1.11.dev20220118+cpu.torch1.8.1, 1.11.dev20220118+cpu.torch1.9.0, 1.11.dev20220118+cpu.torch1.9.1, 1.11.dev20220118+cpu.torch1.10.0, 1.11.dev20220119+cpu.torch1.7.1, 1.11.dev20220119+cpu.torch1.8.0, 1.11.dev20220119+cpu.torch1.8.1, 1.11.dev20220119+cpu.torch1.9.0, 1.11.dev20220119+cpu.torch1.9.1, 1.11.dev20220119+cpu.torch1.10.0, 1.11.dev20220120+cpu.torch1.7.1, 1.11.dev20220120+cpu.torch1.8.0, 1.11.dev20220120+cpu.torch1.8.1, 1.11.dev20220120+cpu.torch1.9.0, 1.11.dev20220120+cpu.torch1.9.1, 1.11.dev20220120+cpu.torch1.10.0, 1.11.dev20220121+cpu.torch1.7.1, 1.11.dev20220121+cpu.torch1.8.0, 1.11.dev20220121+cpu.torch1.8.1, 1.11.dev20220121+cpu.torch1.9.0, 1.11.dev20220121+cpu.torch1.9.1, 1.11.dev20220121+cpu.torch1.10.0, 1.11.dev20220122+cpu.torch1.7.1, 1.11.dev20220122+cpu.torch1.8.0, 1.11.dev20220122+cpu.torch1.8.1, 1.11.dev20220122+cpu.torch1.9.0, 1.11.dev20220122+cpu.torch1.9.1, 1.11.dev20220122+cpu.torch1.10.0, 1.11.dev20220123+cpu.torch1.7.1, 1.11.dev20220123+cpu.torch1.8.0, 1.11.dev20220123+cpu.torch1.8.1, 1.11.dev20220123+cpu.torch1.9.0, 1.11.dev20220123+cpu.torch1.9.1, 1.11.dev20220123+cpu.torch1.10.0, 1.11.dev20220124+cpu.torch1.7.1, 1.11.dev20220124+cpu.torch1.8.0, 1.11.dev20220124+cpu.torch1.8.1, 1.11.dev20220124+cpu.torch1.9.0, 1.11.dev20220124+cpu.torch1.9.1, 1.11.dev20220124+cpu.torch1.10.0, 1.11, 1.12.dev20220125+cpu.torch1.7.1, 1.12.dev20220125+cpu.torch1.8.0, 1.12.dev20220125+cpu.torch1.8.1, 1.12.dev20220125+cpu.torch1.9.0, 1.12.dev20220125+cpu.torch1.9.1, 1.12.dev20220125+cpu.torch1.10.0, 1.12.dev20220126+cpu.torch1.7.1, 1.12.dev20220126+cpu.torch1.8.0, 1.12.dev20220126+cpu.torch1.8.1, 1.12.dev20220126+cpu.torch1.9.0, 1.12.dev20220126+cpu.torch1.9.1, 1.12.dev20220126+cpu.torch1.10.0, 1.12.dev20220127+cpu.torch1.7.1, 1.12.dev20220127+cpu.torch1.8.0, 1.12.dev20220127+cpu.torch1.8.1, 1.12.dev20220127+cpu.torch1.9.0, 1.12.dev20220127+cpu.torch1.9.1, 1.12.dev20220127+cpu.torch1.10.0, 1.12.dev20220128+cpu.torch1.7.1, 1.12.dev20220128+cpu.torch1.8.0, 1.12.dev20220128+cpu.torch1.8.1, 1.12.dev20220128+cpu.torch1.9.0, 1.12.dev20220128+cpu.torch1.9.1, 1.12.dev20220128+cpu.torch1.10.0, 1.12, 1.13.dev20220129+cpu.torch1.7.1, 1.13.dev20220129+cpu.torch1.8.0, 1.13.dev20220129+cpu.torch1.8.1, 1.13.dev20220129+cpu.torch1.9.0, 1.13.dev20220129+cpu.torch1.9.1, 1.13.dev20220129+cpu.torch1.10.0, 1.13.dev20220131+cpu.torch1.7.1, 1.13.dev20220131+cpu.torch1.8.0, 1.13.dev20220131+cpu.torch1.8.1, 1.13.dev20220131+cpu.torch1.9.0, 1.13.dev20220131+cpu.torch1.9.1, 1.13.dev20220131+cpu.torch1.10.0, 1.13.dev20220201+cpu.torch1.7.1, 1.13.dev20220201+cpu.torch1.8.0, 1.13.dev20220201+cpu.torch1.8.1, 1.13.dev20220201+cpu.torch1.9.0, 1.13.dev20220201+cpu.torch1.9.1, 1.13.dev20220201+cpu.torch1.10.0, 1.13.dev20220202+cpu.torch1.7.1, 1.13.dev20220202+cpu.torch1.8.0, 1.13.dev20220202+cpu.torch1.8.1, 1.13.dev20220202+cpu.torch1.9.0, 1.13.dev20220202+cpu.torch1.9.1, 1.13.dev20220202+cpu.torch1.10.0, 1.13.dev20220203+cpu.torch1.7.1, 1.13.dev20220203+cpu.torch1.8.0, 1.13.dev20220203+cpu.torch1.8.1, 1.13.dev20220203+cpu.torch1.9.0, 1.13.dev20220203+cpu.torch1.9.1, 1.13.dev20220203+cpu.torch1.10.0, 1.13.dev20220204+cpu.torch1.7.1, 1.13.dev20220204+cpu.torch1.8.0, 1.13.dev20220204+cpu.torch1.8.1, 1.13.dev20220204+cpu.torch1.9.0, 1.13.dev20220204+cpu.torch1.9.1, 1.13.dev20220204+cpu.torch1.10.0, 1.13.dev20220205+cpu.torch1.7.1, 1.13.dev20220205+cpu.torch1.8.0, 1.13.dev20220205+cpu.torch1.8.1, 1.13.dev20220205+cpu.torch1.9.0, 1.13.dev20220205+cpu.torch1.9.1, 1.13.dev20220205+cpu.torch1.10.0, 1.13.dev20220206+cpu.torch1.7.1, 1.13.dev20220206+cpu.torch1.8.0, 1.13.dev20220206+cpu.torch1.8.1, 1.13.dev20220206+cpu.torch1.9.0, 1.13.dev20220206+cpu.torch1.9.1, 1.13.dev20220206+cpu.torch1.10.0, 1.13.dev20220207+cpu.torch1.7.1, 1.13.dev20220207+cpu.torch1.8.0, 1.13.dev20220207+cpu.torch1.8.1, 1.13.dev20220207+cpu.torch1.9.0, 1.13.dev20220207+cpu.torch1.9.1, 1.13.dev20220207+cpu.torch1.10.0, 1.13.dev20220208+cpu.torch1.7.1, 1.13.dev20220208+cpu.torch1.8.0, 1.13.dev20220208+cpu.torch1.8.1, 1.13.dev20220208+cpu.torch1.9.0, 1.13.dev20220208+cpu.torch1.9.1, 1.13.dev20220208+cpu.torch1.10.0, 1.13.dev20220208+cpu.torch1.10.1, 1.13.dev20220208+cpu.torch1.10.2, 1.13.dev20220209+cpu.torch1.7.1, 1.13.dev20220209+cpu.torch1.8.0, 1.13.dev20220209+cpu.torch1.8.1, 1.13.dev20220209+cpu.torch1.9.0, 1.13.dev20220209+cpu.torch1.9.1, 1.13.dev20220209+cpu.torch1.10.0, 1.13.dev20220209+cpu.torch1.10.1, 1.13.dev20220209+cpu.torch1.10.2, 1.13.dev20220211+cpu.torch1.7.1, 1.13.dev20220211+cpu.torch1.8.0, 1.13.dev20220211+cpu.torch1.8.1, 1.13.dev20220211+cpu.torch1.9.0, 1.13.dev20220211+cpu.torch1.9.1, 1.13.dev20220211+cpu.torch1.10.0, 1.13.dev20220211+cpu.torch1.10.1, 1.13.dev20220211+cpu.torch1.10.2, 1.13.dev20220212+cpu.torch1.7.1, 1.13.dev20220212+cpu.torch1.8.0, 1.13.dev20220212+cpu.torch1.8.1, 1.13.dev20220212+cpu.torch1.9.0, 1.13.dev20220212+cpu.torch1.9.1, 1.13.dev20220212+cpu.torch1.10.0, 1.13.dev20220212+cpu.torch1.10.1, 1.13.dev20220212+cpu.torch1.10.2, 1.13.dev20220213+cpu.torch1.7.1, 1.13.dev20220213+cpu.torch1.8.0, 1.13.dev20220213+cpu.torch1.8.1, 1.13.dev20220213+cpu.torch1.9.0, 1.13.dev20220213+cpu.torch1.9.1, 1.13.dev20220213+cpu.torch1.10.0, 1.13.dev20220213+cpu.torch1.10.1, 1.13.dev20220213+cpu.torch1.10.2, 1.13.dev20220214+cpu.torch1.7.1, 1.13.dev20220214+cpu.torch1.8.0, 1.13.dev20220214+cpu.torch1.8.1, 1.13.dev20220214+cpu.torch1.9.0, 1.13.dev20220214+cpu.torch1.9.1, 1.13.dev20220214+cpu.torch1.10.0, 1.13.dev20220214+cpu.torch1.10.1, 1.13.dev20220214+cpu.torch1.10.2, 1.13.dev20220215+cpu.torch1.7.1, 1.13.dev20220215+cpu.torch1.8.0, 1.13.dev20220215+cpu.torch1.8.1, 1.13.dev20220215+cpu.torch1.9.0, 1.13.dev20220215+cpu.torch1.9.1, 1.13.dev20220215+cpu.torch1.10.0, 1.13.dev20220215+cpu.torch1.10.1, 1.13.dev20220215+cpu.torch1.10.2, 1.13.dev20220216+cpu.torch1.7.1, 1.13.dev20220216+cpu.torch1.8.0, 1.13.dev20220216+cpu.torch1.8.1, 1.13.dev20220216+cpu.torch1.9.0, 1.13.dev20220216+cpu.torch1.9.1, 1.13.dev20220216+cpu.torch1.10.0, 1.13.dev20220216+cpu.torch1.10.1, 1.13.dev20220216+cpu.torch1.10.2, 1.13.dev20220217+cpu.torch1.7.1, 1.13.dev20220217+cpu.torch1.8.0, 1.13.dev20220217+cpu.torch1.8.1, 1.13.dev20220217+cpu.torch1.9.0, 1.13.dev20220217+cpu.torch1.9.1, 1.13.dev20220217+cpu.torch1.10.0, 1.13.dev20220217+cpu.torch1.10.1, 1.13.dev20220217+cpu.torch1.10.2, 1.13.dev20220218+cpu.torch1.7.1, 1.13.dev20220218+cpu.torch1.8.0, 1.13.dev20220218+cpu.torch1.8.1, 1.13.dev20220218+cpu.torch1.9.0, 1.13.dev20220218+cpu.torch1.9.1, 1.13.dev20220218+cpu.torch1.10.0, 1.13.dev20220218+cpu.torch1.10.1, 1.13.dev20220218+cpu.torch1.10.2, 1.13.dev20220219+cpu.torch1.7.1, 1.13.dev20220219+cpu.torch1.8.0, 1.13.dev20220219+cpu.torch1.8.1, 1.13.dev20220219+cpu.torch1.9.0, 1.13.dev20220219+cpu.torch1.9.1, 1.13.dev20220219+cpu.torch1.10.0, 1.13.dev20220219+cpu.torch1.10.1, 1.13.dev20220219+cpu.torch1.10.2, 1.13.dev20220220+cpu.torch1.7.1, 1.13.dev20220220+cpu.torch1.8.0, 1.13.dev20220220+cpu.torch1.8.1, 1.13.dev20220220+cpu.torch1.9.0, 1.13.dev20220220+cpu.torch1.9.1, 1.13.dev20220220+cpu.torch1.10.0, 1.13.dev20220220+cpu.torch1.10.1, 1.13.dev20220220+cpu.torch1.10.2, 1.13.dev20220221+cpu.torch1.7.1, 1.13.dev20220221+cpu.torch1.8.0, 1.13.dev20220221+cpu.torch1.8.1, 1.13.dev20220221+cpu.torch1.9.0, 1.13.dev20220221+cpu.torch1.9.1, 1.13.dev20220221+cpu.torch1.10.0, 1.13.dev20220221+cpu.torch1.10.1, 1.13.dev20220221+cpu.torch1.10.2, 1.13.dev20220222+cpu.torch1.7.1, 1.13.dev20220222+cpu.torch1.8.0, 1.13.dev20220222+cpu.torch1.8.1, 1.13.dev20220222+cpu.torch1.9.0, 1.13.dev20220222+cpu.torch1.9.1, 1.13.dev20220222+cpu.torch1.10.0, 1.13.dev20220222+cpu.torch1.10.1, 1.13.dev20220222+cpu.torch1.10.2, 1.13.dev20220223+cpu.torch1.7.1, 1.13.dev20220223+cpu.torch1.8.0, 1.13.dev20220223+cpu.torch1.8.1, 1.13.dev20220223+cpu.torch1.9.0, 1.13.dev20220223+cpu.torch1.9.1, 1.13.dev20220223+cpu.torch1.10.0, 1.13.dev20220223+cpu.torch1.10.1, 1.13.dev20220223+cpu.torch1.10.2, 1.13.dev20220224+cpu.torch1.7.1, 1.13.dev20220224+cpu.torch1.8.0, 1.13.dev20220224+cpu.torch1.8.1, 1.13.dev20220224+cpu.torch1.9.0, 1.13.dev20220224+cpu.torch1.9.1, 1.13.dev20220224+cpu.torch1.10.0, 1.13.dev20220224+cpu.torch1.10.1, 1.13.dev20220224+cpu.torch1.10.2, 1.13.dev20220226+cpu.torch1.7.1, 1.13.dev20220226+cpu.torch1.8.0, 1.13.dev20220226+cpu.torch1.8.1, 1.13.dev20220226+cpu.torch1.9.0, 1.13.dev20220226+cpu.torch1.9.1, 1.13.dev20220226+cpu.torch1.10.0, 1.13.dev20220226+cpu.torch1.10.1, 1.13.dev20220226+cpu.torch1.10.2, 1.13.dev20220227+cpu.torch1.7.1, 1.13.dev20220227+cpu.torch1.8.0, 1.13.dev20220227+cpu.torch1.8.1, 1.13.dev20220227+cpu.torch1.9.0, 1.13.dev20220227+cpu.torch1.9.1, 1.13.dev20220227+cpu.torch1.10.0, 1.13.dev20220227+cpu.torch1.10.1, 1.13.dev20220227+cpu.torch1.10.2, 1.13.dev20220228+cpu.torch1.7.1, 1.13.dev20220228+cpu.torch1.8.0, 1.13.dev20220228+cpu.torch1.8.1, 1.13.dev20220228+cpu.torch1.9.0, 1.13.dev20220228+cpu.torch1.9.1, 1.13.dev20220228+cpu.torch1.10.0, 1.13.dev20220228+cpu.torch1.10.1, 1.13.dev20220228+cpu.torch1.10.2, 1.13.dev20220301+cpu.torch1.7.1, 1.13.dev20220301+cpu.torch1.8.0, 1.13.dev20220301+cpu.torch1.8.1, 1.13.dev20220301+cpu.torch1.9.0, 1.13.dev20220301+cpu.torch1.9.1, 1.13.dev20220301+cpu.torch1.10.0, 1.13.dev20220301+cpu.torch1.10.1, 1.13.dev20220301+cpu.torch1.10.2, 1.13.dev20220302+cpu.torch1.7.1, 1.13.dev20220302+cpu.torch1.8.0, 1.13.dev20220302+cpu.torch1.8.1, 1.13.dev20220302+cpu.torch1.9.0, 1.13.dev20220302+cpu.torch1.9.1, 1.13.dev20220302+cpu.torch1.10.0, 1.13.dev20220302+cpu.torch1.10.1, 1.13.dev20220302+cpu.torch1.10.2, 1.13.dev20220303+cpu.torch1.7.1, 1.13.dev20220303+cpu.torch1.8.0, 1.13.dev20220303+cpu.torch1.8.1, 1.13.dev20220303+cpu.torch1.9.0, 1.13.dev20220303+cpu.torch1.9.1, 1.13.dev20220303+cpu.torch1.10.0, 1.13.dev20220303+cpu.torch1.10.1, 1.13.dev20220303+cpu.torch1.10.2, 1.13.dev20220304+cpu.torch1.7.1, 1.13.dev20220304+cpu.torch1.8.0, 1.13.dev20220304+cpu.torch1.8.1, 1.13.dev20220304+cpu.torch1.9.0, 1.13.dev20220304+cpu.torch1.9.1, 1.13.dev20220304+cpu.torch1.10.0, 1.13.dev20220304+cpu.torch1.10.1, 1.13.dev20220304+cpu.torch1.10.2, 1.13.dev20220305+cpu.torch1.7.1, 1.13.dev20220305+cpu.torch1.8.0, 1.13.dev20220305+cpu.torch1.8.1, 1.13.dev20220305+cpu.torch1.9.0, 1.13.dev20220305+cpu.torch1.9.1, 1.13.dev20220305+cpu.torch1.10.0, 1.13.dev20220305+cpu.torch1.10.1, 1.13.dev20220305+cpu.torch1.10.2, 1.13.dev20220306+cpu.torch1.7.1, 1.13.dev20220306+cpu.torch1.8.0, 1.13.dev20220306+cpu.torch1.8.1, 1.13.dev20220306+cpu.torch1.9.0, 1.13.dev20220306+cpu.torch1.9.1, 1.13.dev20220306+cpu.torch1.10.0, 1.13.dev20220306+cpu.torch1.10.1, 1.13.dev20220306+cpu.torch1.10.2, 1.13.dev20220307+cpu.torch1.7.1, 1.13.dev20220307+cpu.torch1.8.0, 1.13.dev20220307+cpu.torch1.8.1, 1.13.dev20220307+cpu.torch1.9.0, 1.13.dev20220307+cpu.torch1.9.1, 1.13.dev20220307+cpu.torch1.10.0, 1.13.dev20220307+cpu.torch1.10.1, 1.13.dev20220307+cpu.torch1.10.2, 1.13.dev20220309+cpu.torch1.7.1, 1.13.dev20220309+cpu.torch1.8.0, 1.13.dev20220309+cpu.torch1.8.1, 1.13.dev20220309+cpu.torch1.9.0, 1.13.dev20220309+cpu.torch1.9.1, 1.13.dev20220309+cpu.torch1.10.0, 1.13.dev20220309+cpu.torch1.10.1, 1.13.dev20220309+cpu.torch1.10.2, 1.13.dev20220310+cpu.torch1.7.1, 1.13.dev20220310+cpu.torch1.8.0, 1.13.dev20220310+cpu.torch1.8.1, 1.13.dev20220310+cpu.torch1.9.0, 1.13.dev20220310+cpu.torch1.9.1, 1.13.dev20220310+cpu.torch1.10.0, 1.13.dev20220310+cpu.torch1.10.1, 1.13.dev20220310+cpu.torch1.10.2, 1.13.dev20220311+cpu.torch1.7.1, 1.13.dev20220311+cpu.torch1.8.0, 1.13.dev20220311+cpu.torch1.8.1, 1.13.dev20220311+cpu.torch1.9.0, 1.13.dev20220311+cpu.torch1.9.1, 1.13.dev20220311+cpu.torch1.10.0, 1.13.dev20220311+cpu.torch1.10.1, 1.13.dev20220311+cpu.torch1.10.2, 1.13.dev20220312+cpu.torch1.7.1, 1.13.dev20220312+cpu.torch1.8.0, 1.13.dev20220312+cpu.torch1.8.1, 1.13.dev20220312+cpu.torch1.9.0, 1.13.dev20220312+cpu.torch1.9.1, 1.13.dev20220312+cpu.torch1.10.0, 1.13.dev20220312+cpu.torch1.10.1, 1.13.dev20220312+cpu.torch1.10.2, 1.13.dev20220313+cpu.torch1.7.1, 1.13.dev20220313+cpu.torch1.8.0, 1.13.dev20220313+cpu.torch1.8.1, 1.13.dev20220313+cpu.torch1.9.0, 1.13.dev20220313+cpu.torch1.9.1, 1.13.dev20220313+cpu.torch1.10.0, 1.13.dev20220313+cpu.torch1.10.1, 1.13.dev20220313+cpu.torch1.10.2, 1.13.dev20220315+cpu.torch1.7.1, 1.13.dev20220315+cpu.torch1.8.0, 1.13.dev20220315+cpu.torch1.8.1, 1.13.dev20220315+cpu.torch1.9.0, 1.13.dev20220315+cpu.torch1.9.1, 1.13.dev20220315+cpu.torch1.10.0, 1.13.dev20220315+cpu.torch1.10.1, 1.13.dev20220315+cpu.torch1.10.2, 1.13.dev20220315+cpu.torch1.11.0, 1.13, 1.14.dev20220316+cpu.torch1.10.0, 1.14.dev20220317+cpu.torch1.7.1, 1.14.dev20220317+cpu.torch1.8.0, 1.14.dev20220317+cpu.torch1.8.1, 1.14.dev20220317+cpu.torch1.9.0, 1.14.dev20220317+cpu.torch1.9.1, 1.14.dev20220317+cpu.torch1.10.1, 1.14.dev20220317+cpu.torch1.10.2, 1.14.dev20220317+cpu.torch1.11.0, 1.14.dev20220318+cpu.torch1.7.1, 1.14.dev20220318+cpu.torch1.8.0, 1.14.dev20220318+cpu.torch1.8.1, 1.14.dev20220318+cpu.torch1.9.0, 1.14.dev20220318+cpu.torch1.9.1, 1.14.dev20220318+cpu.torch1.10.0, 1.14.dev20220318+cpu.torch1.10.1, 1.14.dev20220318+cpu.torch1.10.2, 1.14.dev20220318+cpu.torch1.11.0, 1.14.dev20220319+cpu.torch1.7.1, 1.14.dev20220319+cpu.torch1.8.0, 1.14.dev20220319+cpu.torch1.8.1, 1.14.dev20220319+cpu.torch1.9.0, 1.14.dev20220319+cpu.torch1.9.1, 1.14.dev20220319+cpu.torch1.10.0, 1.14.dev20220319+cpu.torch1.10.1, 1.14.dev20220319+cpu.torch1.10.2, 1.14.dev20220319+cpu.torch1.11.0, 1.14.dev20220320+cpu.torch1.7.1, 1.14.dev20220320+cpu.torch1.8.0, 1.14.dev20220320+cpu.torch1.8.1, 1.14.dev20220320+cpu.torch1.9.0, 1.14.dev20220320+cpu.torch1.9.1, 1.14.dev20220320+cpu.torch1.10.0, 1.14.dev20220320+cpu.torch1.10.1, 1.14.dev20220320+cpu.torch1.10.2, 1.14.dev20220320+cpu.torch1.11.0, 1.14.dev20220321+cpu.torch1.7.1, 1.14.dev20220321+cpu.torch1.8.0, 1.14.dev20220321+cpu.torch1.8.1, 1.14.dev20220321+cpu.torch1.9.0, 1.14.dev20220321+cpu.torch1.9.1, 1.14.dev20220321+cpu.torch1.10.0, 1.14.dev20220321+cpu.torch1.10.1, 1.14.dev20220321+cpu.torch1.10.2, 1.14.dev20220321+cpu.torch1.11.0, 1.14.dev20220322+cpu.torch1.7.1, 1.14.dev20220322+cpu.torch1.8.0, 1.14.dev20220322+cpu.torch1.8.1, 1.14.dev20220322+cpu.torch1.9.0, 1.14.dev20220322+cpu.torch1.9.1, 1.14.dev20220322+cpu.torch1.10.0, 1.14.dev20220322+cpu.torch1.10.1, 1.14.dev20220322+cpu.torch1.10.2, 1.14.dev20220322+cpu.torch1.11.0, 1.14.dev20220323+cpu.torch1.7.1, 1.14.dev20220323+cpu.torch1.8.0, 1.14.dev20220323+cpu.torch1.8.1, 1.14.dev20220323+cpu.torch1.9.0, 1.14.dev20220323+cpu.torch1.9.1, 1.14.dev20220323+cpu.torch1.10.0, 1.14.dev20220323+cpu.torch1.10.1, 1.14.dev20220323+cpu.torch1.10.2, 1.14.dev20220323+cpu.torch1.11.0, 1.14.dev20220324+cpu.torch1.7.1, 1.14.dev20220324+cpu.torch1.8.0, 1.14.dev20220324+cpu.torch1.8.1, 1.14.dev20220324+cpu.torch1.9.0, 1.14.dev20220324+cpu.torch1.9.1, 1.14.dev20220324+cpu.torch1.10.0, 1.14.dev20220324+cpu.torch1.10.1, 1.14.dev20220324+cpu.torch1.10.2, 1.14.dev20220324+cpu.torch1.11.0, 1.14.dev20220325+cpu.torch1.7.1, 1.14.dev20220325+cpu.torch1.8.0, 1.14.dev20220325+cpu.torch1.8.1, 1.14.dev20220325+cpu.torch1.9.0, 1.14.dev20220325+cpu.torch1.9.1, 1.14.dev20220325+cpu.torch1.10.0, 1.14.dev20220325+cpu.torch1.10.1, 1.14.dev20220325+cpu.torch1.10.2, 1.14.dev20220325+cpu.torch1.11.0, 1.14.dev20220326+cpu.torch1.7.1, 1.14.dev20220326+cpu.torch1.8.0, 1.14.dev20220326+cpu.torch1.8.1, 1.14.dev20220326+cpu.torch1.9.0, 1.14.dev20220326+cpu.torch1.9.1, 1.14.dev20220326+cpu.torch1.10.0, 1.14.dev20220326+cpu.torch1.10.1, 1.14.dev20220326+cpu.torch1.10.2, 1.14.dev20220326+cpu.torch1.11.0, 1.14.dev20220327+cpu.torch1.7.1, 1.14.dev20220327+cpu.torch1.8.0, 1.14.dev20220327+cpu.torch1.8.1, 1.14.dev20220327+cpu.torch1.9.0, 1.14.dev20220327+cpu.torch1.9.1, 1.14.dev20220327+cpu.torch1.10.0, 1.14.dev20220327+cpu.torch1.10.1, 1.14.dev20220327+cpu.torch1.10.2, 1.14.dev20220327+cpu.torch1.11.0, 1.14.dev20220329+cpu.torch1.7.1, 1.14.dev20220329+cpu.torch1.8.0, 1.14.dev20220329+cpu.torch1.8.1, 1.14.dev20220329+cpu.torch1.9.0, 1.14.dev20220329+cpu.torch1.9.1, 1.14.dev20220329+cpu.torch1.10.0, 1.14.dev20220329+cpu.torch1.10.1, 1.14.dev20220329+cpu.torch1.10.2, 1.14.dev20220329+cpu.torch1.11.0, 1.14.dev20220330+cpu.torch1.7.1, 1.14.dev20220330+cpu.torch1.8.0, 1.14.dev20220330+cpu.torch1.8.1, 1.14.dev20220330+cpu.torch1.9.0, 1.14.dev20220330+cpu.torch1.9.1, 1.14.dev20220330+cpu.torch1.10.0, 1.14.dev20220330+cpu.torch1.10.1, 1.14.dev20220330+cpu.torch1.10.2, 1.14.dev20220330+cpu.torch1.11.0, 1.14.dev20220331+cpu.torch1.7.1, 1.14.dev20220331+cpu.torch1.8.0, 1.14.dev20220331+cpu.torch1.8.1, 1.14.dev20220331+cpu.torch1.9.0, 1.14.dev20220331+cpu.torch1.9.1, 1.14.dev20220331+cpu.torch1.10.0, 1.14.dev20220331+cpu.torch1.10.1, 1.14.dev20220331+cpu.torch1.10.2, 1.14.dev20220331+cpu.torch1.11.0, 1.14.dev20220401+cpu.torch1.7.1, 1.14.dev20220401+cpu.torch1.8.0, 1.14.dev20220401+cpu.torch1.8.1, 1.14.dev20220401+cpu.torch1.9.0, 1.14.dev20220401+cpu.torch1.9.1, 1.14.dev20220401+cpu.torch1.10.0, 1.14.dev20220401+cpu.torch1.10.1, 1.14.dev20220401+cpu.torch1.10.2, 1.14.dev20220401+cpu.torch1.11.0, 1.14.dev20220402+cpu.torch1.7.1, 1.14.dev20220402+cpu.torch1.8.0, 1.14.dev20220402+cpu.torch1.8.1, 1.14.dev20220402+cpu.torch1.9.0, 1.14.dev20220402+cpu.torch1.9.1, 1.14.dev20220402+cpu.torch1.10.0, 1.14.dev20220402+cpu.torch1.10.1, 1.14.dev20220402+cpu.torch1.10.2, 1.14.dev20220402+cpu.torch1.11.0, 1.14.dev20220403+cpu.torch1.7.1, 1.14.dev20220403+cpu.torch1.8.0, 1.14.dev20220403+cpu.torch1.8.1, 1.14.dev20220403+cpu.torch1.9.0, 1.14.dev20220403+cpu.torch1.9.1, 1.14.dev20220403+cpu.torch1.10.0, 1.14.dev20220403+cpu.torch1.10.1, 1.14.dev20220403+cpu.torch1.10.2, 1.14.dev20220404+cpu.torch1.7.1, 1.14.dev20220404+cpu.torch1.8.0, 1.14.dev20220404+cpu.torch1.8.1, 1.14.dev20220404+cpu.torch1.9.0, 1.14.dev20220404+cpu.torch1.9.1, 1.14.dev20220404+cpu.torch1.10.0, 1.14.dev20220404+cpu.torch1.10.1, 1.14.dev20220404+cpu.torch1.10.2, 1.14.dev20220404+cpu.torch1.11.0, 1.14.dev20220405+cpu.torch1.7.1, 1.14.dev20220405+cpu.torch1.8.0, 1.14.dev20220405+cpu.torch1.8.1, 1.14.dev20220405+cpu.torch1.9.0, 1.14.dev20220405+cpu.torch1.9.1, 1.14.dev20220405+cpu.torch1.10.0, 1.14.dev20220405+cpu.torch1.10.1, 1.14.dev20220405+cpu.torch1.10.2, 1.14.dev20220405+cpu.torch1.11.0, 1.14.dev20220406+cpu.torch1.7.1, 1.14.dev20220406+cpu.torch1.8.0, 1.14.dev20220406+cpu.torch1.8.1, 1.14.dev20220406+cpu.torch1.9.0, 1.14.dev20220406+cpu.torch1.9.1, 1.14.dev20220406+cpu.torch1.10.0, 1.14.dev20220406+cpu.torch1.10.1, 1.14.dev20220406+cpu.torch1.10.2, 1.14.dev20220406+cpu.torch1.11.0, 1.14.dev20220407+cpu.torch1.10.0, 1.14.dev20220407+cpu.torch1.10.1, 1.14.dev20220408+cpu.torch1.7.1, 1.14.dev20220408+cpu.torch1.8.0, 1.14.dev20220408+cpu.torch1.8.1, 1.14.dev20220408+cpu.torch1.9.0, 1.14.dev20220408+cpu.torch1.9.1, 1.14.dev20220408+cpu.torch1.10.0, 1.14.dev20220408+cpu.torch1.10.1, 1.14.dev20220408+cpu.torch1.10.2, 1.14.dev20220408+cpu.torch1.11.0, 1.14.dev20220409+cpu.torch1.7.1, 1.14.dev20220409+cpu.torch1.8.0, 1.14.dev20220409+cpu.torch1.8.1, 1.14.dev20220409+cpu.torch1.9.0, 1.14.dev20220409+cpu.torch1.9.1, 1.14.dev20220409+cpu.torch1.10.2, 1.14.dev20220409+cpu.torch1.11.0, 1.14.dev20220412+cpu.torch1.7.1, 1.14.dev20220412+cpu.torch1.8.0, 1.14.dev20220412+cpu.torch1.8.1, 1.14.dev20220412+cpu.torch1.9.0, 1.14.dev20220412+cpu.torch1.9.1, 1.14.dev20220412+cpu.torch1.10.0, 1.14.dev20220412+cpu.torch1.10.1, 1.14.dev20220412+cpu.torch1.10.2, 1.14.dev20220412+cpu.torch1.11.0, 1.14.dev20220413+cpu.torch1.7.1, 1.14.dev20220413+cpu.torch1.8.0, 1.14.dev20220413+cpu.torch1.8.1, 1.14.dev20220413+cpu.torch1.9.0, 1.14.dev20220413+cpu.torch1.9.1, 1.14.dev20220413+cpu.torch1.10.0, 1.14.dev20220413+cpu.torch1.10.1, 1.14.dev20220413+cpu.torch1.10.2, 1.14.dev20220413+cpu.torch1.11.0, 1.14.dev20220414+cpu.torch1.7.1, 1.14.dev20220414+cpu.torch1.8.0, 1.14.dev20220414+cpu.torch1.8.1, 1.14.dev20220414+cpu.torch1.9.0, 1.14.dev20220414+cpu.torch1.9.1, 1.14.dev20220414+cpu.torch1.10.2, 1.14.dev20220414+cpu.torch1.11.0, 1.14, 1.15, 1.15.1.dev20220419+cpu.torch1.7.1, 1.15.1.dev20220419+cpu.torch1.8.0, 1.15.1.dev20220419+cpu.torch1.8.1, 1.15.1.dev20220419+cpu.torch1.9.0, 1.15.1.dev20220419+cpu.torch1.9.1, 1.15.1.dev20220419+cpu.torch1.10.0, 1.15.1.dev20220419+cpu.torch1.10.1, 1.15.1.dev20220419+cpu.torch1.10.2, 1.15.1.dev20220419+cpu.torch1.11.0, 1.15.1.dev20220421+cpu.torch1.10.0, 1.15.1.dev20220421+cpu.torch1.10.1, 1.15.1.dev20220422+cpu.torch1.7.1, 1.15.1.dev20220422+cpu.torch1.8.0, 1.15.1.dev20220422+cpu.torch1.8.1, 1.15.1.dev20220422+cpu.torch1.9.0, 1.15.1.dev20220422+cpu.torch1.9.1, 1.15.1.dev20220422+cpu.torch1.10.2, 1.15.1.dev20220422+cpu.torch1.11.0, 1.15.1.dev20220426+cpu.torch1.10.0, 1.15.1.dev20220426+cpu.torch1.10.1, 1.15.1.dev20220427+cpu.torch1.7.1, 1.15.1.dev20220427+cpu.torch1.8.0, 1.15.1.dev20220427+cpu.torch1.8.1, 1.15.1.dev20220427+cpu.torch1.9.0, 1.15.1.dev20220427+cpu.torch1.9.1, 1.15.1.dev20220427+cpu.torch1.10.2, 1.15.1.dev20220427+cpu.torch1.11.0, 1.15.1.dev20220510+cpu.torch1.10.0, 1.15.1.dev20220510+cpu.torch1.10.1, 1.15.1.dev20220511+cpu.torch1.7.1, 1.15.1.dev20220511+cpu.torch1.8.0, 1.15.1.dev20220511+cpu.torch1.8.1, 1.15.1.dev20220511+cpu.torch1.9.0, 1.15.1.dev20220511+cpu.torch1.9.1, 1.15.1.dev20220511+cpu.torch1.10.2, 1.15.1.dev20220511+cpu.torch1.11.0, 1.15.1.dev20220526+cpu.torch1.10.0, 1.15.1.dev20220526+cpu.torch1.10.1, 1.15.1.dev20220526+cpu.torch1.10.2, 1.15.1.dev20220527+cpu.torch1.7.1, 1.15.1.dev20220527+cpu.torch1.8.0, 1.15.1.dev20220527+cpu.torch1.8.1, 1.15.1.dev20220527+cpu.torch1.9.0, 1.15.1.dev20220527+cpu.torch1.9.1, 1.15.1.dev20220527+cpu.torch1.11.0, 1.15.1.dev20220604+cpu.torch1.10.0, 1.15.1.dev20220604+cpu.torch1.10.1, 1.15.1.dev20220605+cpu.torch1.7.1, 1.15.1.dev20220605+cpu.torch1.8.0, 1.15.1.dev20220605+cpu.torch1.8.1, 1.15.1.dev20220605+cpu.torch1.9.0, 1.15.1.dev20220605+cpu.torch1.9.1, 1.15.1.dev20220605+cpu.torch1.10.2, 1.15.1.dev20220605+cpu.torch1.11.0, 1.15.1.dev20220616+cpu.torch1.10.0, 1.15.1.dev20220616+cpu.torch1.10.1, 1.15.1.dev20220617+cpu.torch1.7.1, 1.15.1.dev20220617+cpu.torch1.8.0, 1.15.1.dev20220617+cpu.torch1.8.1, 1.15.1.dev20220617+cpu.torch1.9.0, 1.15.1.dev20220617+cpu.torch1.9.1, 1.15.1.dev20220617+cpu.torch1.10.2, 1.15.1.dev20220617+cpu.torch1.11.0, 1.15.1, 1.16.dev20220621+cpu.torch1.7.1, 1.16.dev20220621+cpu.torch1.8.0, 1.16.dev20220621+cpu.torch1.8.1, 1.16.dev20220621+cpu.torch1.9.0, 1.16.dev20220621+cpu.torch1.9.1, 1.16.dev20220621+cpu.torch1.10.0, 1.16.dev20220621+cpu.torch1.10.1, 1.16.dev20220621+cpu.torch1.10.2, 1.16.dev20220621+cpu.torch1.11.0, 1.16.dev20220622+cpu.torch1.7.1, 1.16.dev20220622+cpu.torch1.8.0, 1.16.dev20220622+cpu.torch1.8.1, 1.16.dev20220622+cpu.torch1.9.0, 1.16.dev20220622+cpu.torch1.9.1, 1.16.dev20220622+cpu.torch1.10.2, 1.16.dev20220622+cpu.torch1.11.0, 1.16, 1.17.dev20220707+cpu.torch1.8.0, 1.17.dev20220707+cpu.torch1.8.1, 1.17.dev20220707+cpu.torch1.9.0, 1.17.dev20220707+cpu.torch1.9.1, 1.17.dev20220707+cpu.torch1.10.0, 1.17.dev20220707+cpu.torch1.10.1, 1.17.dev20220707+cpu.torch1.10.2, 1.17.dev20220707+cpu.torch1.11.0, 1.17.dev20220707+cpu.torch1.12.0, 1.17.dev20220708+cpu.torch1.7.1, 1.17.dev20220708+cpu.torch1.8.0, 1.17.dev20220708+cpu.torch1.8.1, 1.17.dev20220708+cpu.torch1.9.0, 1.17.dev20220708+cpu.torch1.9.1, 1.17.dev20220708+cpu.torch1.10.0, 1.17.dev20220708+cpu.torch1.10.1, 1.17.dev20220708+cpu.torch1.10.2, 1.17.dev20220708+cpu.torch1.11.0, 1.17.dev20220708+cpu.torch1.12.0, 1.17.dev20220709+cpu.torch1.7.1, 1.17.dev20220709+cpu.torch1.8.0, 1.17.dev20220709+cpu.torch1.8.1, 1.17.dev20220709+cpu.torch1.9.0, 1.17.dev20220709+cpu.torch1.9.1, 1.17.dev20220709+cpu.torch1.10.0, 1.17.dev20220709+cpu.torch1.10.1, 1.17.dev20220709+cpu.torch1.10.2, 1.17.dev20220709+cpu.torch1.11.0, 1.17.dev20220709+cpu.torch1.12.0, 1.17.dev20220710+cpu.torch1.7.1, 1.17.dev20220710+cpu.torch1.8.0, 1.17.dev20220710+cpu.torch1.8.1, 1.17.dev20220710+cpu.torch1.9.0, 1.17.dev20220710+cpu.torch1.9.1, 1.17.dev20220710+cpu.torch1.10.0, 1.17.dev20220710+cpu.torch1.10.1, 1.17.dev20220710+cpu.torch1.10.2, 1.17.dev20220710+cpu.torch1.11.0, 1.17.dev20220710+cpu.torch1.12.0, 1.17.dev20220714+cpu.torch1.7.1, 1.17.dev20220714+cpu.torch1.8.0, 1.17.dev20220714+cpu.torch1.8.1, 1.17.dev20220714+cpu.torch1.9.0, 1.17.dev20220714+cpu.torch1.9.1, 1.17.dev20220714+cpu.torch1.10.0, 1.17.dev20220714+cpu.torch1.10.1, 1.17.dev20220714+cpu.torch1.10.2, 1.17.dev20220714+cpu.torch1.11.0, 1.17.dev20220714+cpu.torch1.12.0, 1.17.dev20220716+cpu.torch1.7.1, 1.17.dev20220716+cpu.torch1.8.0, 1.17.dev20220716+cpu.torch1.8.1, 1.17.dev20220716+cpu.torch1.9.0, 1.17.dev20220716+cpu.torch1.9.1, 1.17.dev20220716+cpu.torch1.10.0, 1.17.dev20220716+cpu.torch1.10.1, 1.17.dev20220716+cpu.torch1.10.2, 1.17.dev20220716+cpu.torch1.11.0, 1.17.dev20220716+cpu.torch1.12.0, 1.17.dev20220719+cpu.torch1.7.1, 1.17.dev20220719+cpu.torch1.8.0, 1.17.dev20220719+cpu.torch1.8.1, 1.17.dev20220719+cpu.torch1.9.0, 1.17.dev20220719+cpu.torch1.9.1, 1.17.dev20220719+cpu.torch1.10.0, 1.17.dev20220719+cpu.torch1.10.1, 1.17.dev20220719+cpu.torch1.10.2, 1.17.dev20220719+cpu.torch1.11.0, 1.17.dev20220719+cpu.torch1.12.0, 1.17.dev20220725+cpu.torch1.10.0, 1.17.dev20220725+cpu.torch1.10.1, 1.17.dev20220726+cpu.torch1.7.1, 1.17.dev20220726+cpu.torch1.8.0, 1.17.dev20220726+cpu.torch1.8.1, 1.17.dev20220726+cpu.torch1.9.0, 1.17.dev20220726+cpu.torch1.9.1, 1.17.dev20220726+cpu.torch1.10.2, 1.17.dev20220726+cpu.torch1.11.0, 1.17.dev20220726+cpu.torch1.12.0, 1.17.dev20220726+cuda10.1.torch1.8.2, 1.17.dev20220726+cuda10.2.torch1.8.2, 1.17.dev20220726+cuda11.1.torch1.8.2, 1.17.dev20220803+cpu.torch1.7.1, 1.17.dev20220803+cpu.torch1.8.0, 1.17.dev20220803+cpu.torch1.8.1, 1.17.dev20220803+cpu.torch1.9.0, 1.17.dev20220803+cpu.torch1.9.1, 1.17.dev20220803+cpu.torch1.10.0, 1.17.dev20220803+cpu.torch1.10.1, 1.17.dev20220803+cpu.torch1.10.2, 1.17.dev20220803+cpu.torch1.11.0, 1.17.dev20220803+cpu.torch1.12.0, 1.17.dev20220807+cpu.torch1.10.0, 1.17.dev20220807+cpu.torch1.10.1, 1.17.dev20220808+cpu.torch1.7.1, 1.17.dev20220808+cpu.torch1.8.0, 1.17.dev20220808+cpu.torch1.8.1, 1.17.dev20220808+cpu.torch1.9.0, 1.17.dev20220808+cpu.torch1.9.1, 1.17.dev20220808+cpu.torch1.10.2, 1.17.dev20220808+cpu.torch1.11.0, 1.17.dev20220808+cpu.torch1.12.0, 1.17.dev20220813+cpu.torch1.7.1, 1.17.dev20220813+cpu.torch1.8.0, 1.17.dev20220813+cpu.torch1.8.1, 1.17.dev20220813+cpu.torch1.9.0, 1.17.dev20220813+cpu.torch1.9.1, 1.17.dev20220813+cpu.torch1.10.0, 1.17.dev20220813+cpu.torch1.10.1, 1.17.dev20220813+cpu.torch1.10.2, 1.17.dev20220813+cpu.torch1.11.0, 1.17.dev20220813+cpu.torch1.12.0, 1.17, 1.18.dev20220816+cpu.torch1.7.1, 1.18.dev20220816+cpu.torch1.8.0, 1.18.dev20220816+cpu.torch1.8.1, 1.18.dev20220816+cpu.torch1.9.0, 1.18.dev20220816+cpu.torch1.9.1, 1.18.dev20220816+cpu.torch1.10.0, 1.18.dev20220816+cpu.torch1.10.1, 1.18.dev20220816+cpu.torch1.10.2, 1.18.dev20220816+cpu.torch1.11.0, 1.18.dev20220816+cpu.torch1.12.0, 1.18.dev20220817+cpu.torch1.7.1, 1.18.dev20220817+cpu.torch1.8.0, 1.18.dev20220817+cpu.torch1.8.1, 1.18.dev20220817+cpu.torch1.9.0, 1.18.dev20220817+cpu.torch1.9.1, 1.18.dev20220817+cpu.torch1.10.0, 1.18.dev20220817+cpu.torch1.10.1, 1.18.dev20220817+cpu.torch1.10.2, 1.18.dev20220817+cpu.torch1.11.0, 1.18.dev20220817+cpu.torch1.12.0, 1.18.dev20220817+cpu.torch1.12.1, 1.18.dev20220818+cpu.torch1.8.0, 1.18.dev20220818+cpu.torch1.8.1, 1.18.dev20220818+cpu.torch1.9.0, 1.18.dev20220818+cpu.torch1.9.1, 1.18.dev20220818+cpu.torch1.10.2, 1.18.dev20220818+cpu.torch1.11.0, 1.18.dev20220818+cpu.torch1.12.0, 1.18.dev20220818+cpu.torch1.12.1, 1.18.dev20220820+cpu.torch1.10.0, 1.18.dev20220821+cpu.torch1.7.1, 1.18.dev20220821+cpu.torch1.8.0, 1.18.dev20220821+cpu.torch1.8.1, 1.18.dev20220821+cpu.torch1.9.0, 1.18.dev20220821+cpu.torch1.9.1, 1.18.dev20220821+cpu.torch1.10.1, 1.18.dev20220821+cpu.torch1.10.2, 1.18.dev20220821+cpu.torch1.11.0, 1.18.dev20220821+cpu.torch1.12.0, 1.18.dev20220821+cpu.torch1.12.1, 1.18.dev20220823+cpu.torch1.7.1, 1.18.dev20220823+cpu.torch1.8.0, 1.18.dev20220823+cpu.torch1.8.1, 1.18.dev20220823+cpu.torch1.9.0, 1.18.dev20220823+cpu.torch1.9.1, 1.18.dev20220823+cpu.torch1.10.0, 1.18.dev20220823+cpu.torch1.10.1, 1.18.dev20220823+cpu.torch1.10.2, 1.18.dev20220823+cpu.torch1.11.0, 1.18.dev20220823+cpu.torch1.12.0, 1.18.dev20220823+cpu.torch1.12.1, 1.18, 1.19.dev20220824+cpu.torch1.7.1, 1.19.dev20220824+cpu.torch1.8.0, 1.19.dev20220824+cpu.torch1.8.1, 1.19.dev20220824+cpu.torch1.9.0, 1.19.dev20220824+cpu.torch1.9.1, 1.19.dev20220824+cpu.torch1.10.0, 1.19.dev20220824+cpu.torch1.10.1, 1.19.dev20220824+cpu.torch1.10.2, 1.19.dev20220824+cpu.torch1.11.0, 1.19.dev20220824+cpu.torch1.12.0, 1.19.dev20220824+cpu.torch1.12.1, 1.19.dev20220828+cpu.torch1.10.0, 1.19.dev20220828+cpu.torch1.10.1, 1.19.dev20220829+cpu.torch1.7.1, 1.19.dev20220829+cpu.torch1.8.0, 1.19.dev20220829+cpu.torch1.8.1, 1.19.dev20220829+cpu.torch1.9.0, 1.19.dev20220829+cpu.torch1.9.1, 1.19.dev20220829+cpu.torch1.10.2, 1.19.dev20220829+cpu.torch1.11.0, 1.19.dev20220829+cpu.torch1.12.0, 1.19.dev20220829+cpu.torch1.12.1, 1.19.dev20220831+cpu.torch1.10.0, 1.19.dev20220901+cpu.torch1.7.1, 1.19.dev20220901+cpu.torch1.8.0, 1.19.dev20220901+cpu.torch1.8.1, 1.19.dev20220901+cpu.torch1.9.0, 1.19.dev20220901+cpu.torch1.9.1, 1.19.dev20220901+cpu.torch1.10.1, 1.19.dev20220901+cpu.torch1.10.2, 1.19.dev20220901+cpu.torch1.11.0, 1.19.dev20220901+cpu.torch1.12.0, 1.19.dev20220901+cpu.torch1.12.1, 1.19.dev20220917+cpu.torch1.7.1, 1.19.dev20220917+cpu.torch1.8.0, 1.19.dev20220917+cpu.torch1.8.1, 1.19.dev20220917+cpu.torch1.9.0, 1.19.dev20220917+cpu.torch1.9.1, 1.19.dev20220917+cpu.torch1.10.0, 1.19.dev20220917+cpu.torch1.10.1, 1.19.dev20220917+cpu.torch1.10.2, 1.19.dev20220917+cpu.torch1.11.0, 1.19.dev20220917+cpu.torch1.12.0, 1.19.dev20220917+cpu.torch1.12.1, 1.19.dev20220918+cpu.torch1.7.1, 1.19.dev20220918+cpu.torch1.8.0, 1.19.dev20220918+cpu.torch1.8.1, 1.19.dev20220918+cpu.torch1.9.0, 1.19.dev20220918+cpu.torch1.9.1, 1.19.dev20220918+cpu.torch1.10.2, 1.19.dev20220918+cpu.torch1.11.0, 1.19.dev20220918+cpu.torch1.12.0, 1.19.dev20220918+cpu.torch1.12.1, 1.19.dev20220921+cpu.torch1.7.1, 1.19.dev20220921+cpu.torch1.8.0, 1.19.dev20220921+cpu.torch1.8.1, 1.19.dev20220921+cpu.torch1.9.0, 1.19.dev20220921+cpu.torch1.9.1, 1.19.dev20220921+cpu.torch1.10.0, 1.19.dev20220921+cpu.torch1.10.1, 1.19.dev20220921+cpu.torch1.10.2, 1.19.dev20220921+cpu.torch1.11.0, 1.19.dev20220921+cpu.torch1.12.0, 1.19.dev20220921+cpu.torch1.12.1, 1.19.dev20220922+cpu.torch1.7.1, 1.19.dev20220922+cpu.torch1.8.0, 1.19.dev20220922+cpu.torch1.8.1, 1.19.dev20220922+cpu.torch1.9.0, 1.19.dev20220922+cpu.torch1.9.1, 1.19.dev20220922+cpu.torch1.10.0, 1.19.dev20220922+cpu.torch1.10.1, 1.19.dev20220922+cpu.torch1.10.2, 1.19.dev20220922+cpu.torch1.11.0, 1.19.dev20220922+cpu.torch1.12.0, 1.19.dev20220922+cpu.torch1.12.1, 1.19, 1.21.dev20221008+cpu.torch1.7.1, 1.21.dev20221008+cpu.torch1.8.0, 1.21.dev20221008+cpu.torch1.8.1, 1.21.dev20221008+cpu.torch1.9.0, 1.21.dev20221008+cpu.torch1.9.1, 1.21.dev20221008+cpu.torch1.10.0, 1.21.dev20221008+cpu.torch1.10.1, 1.21.dev20221008+cpu.torch1.10.2, 1.21.dev20221008+cpu.torch1.11.0, 1.21.dev20221008+cpu.torch1.12.0, 1.21.dev20221008+cpu.torch1.12.1, 1.21.dev20221008+cuda10.2.torch1.12.1, 1.21.dev20221008+cuda11.3.torch1.12.1, 1.21.dev20221008+cuda11.6.torch1.12.1, 1.21.dev20221010+cpu.torch1.7.1, 1.21.dev20221010+cpu.torch1.8.0, 1.21.dev20221010+cpu.torch1.8.1, 1.21.dev20221010+cpu.torch1.9.0, 1.21.dev20221010+cpu.torch1.9.1, 1.21.dev20221010+cpu.torch1.10.0, 1.21.dev20221010+cpu.torch1.10.1, 1.21.dev20221010+cpu.torch1.10.2, 1.21.dev20221010+cpu.torch1.11.0, 1.21.dev20221010+cpu.torch1.12.0, 1.21.dev20221010+cpu.torch1.12.1, 1.21.dev20221010+cuda10.2.torch1.12.1, 1.21.dev20221010+cuda11.3.torch1.12.1, 1.21.dev20221010+cuda11.6.torch1.12.1, 1.21.dev20221015+cpu.torch1.7.1, 1.21.dev20221015+cpu.torch1.8.0, 1.21.dev20221015+cpu.torch1.8.1, 1.21.dev20221015+cpu.torch1.9.0, 1.21.dev20221015+cpu.torch1.9.1, 1.21.dev20221015+cpu.torch1.10.0, 1.21.dev20221015+cpu.torch1.10.1, 1.21.dev20221015+cpu.torch1.10.2, 1.21.dev20221015+cpu.torch1.11.0, 1.21.dev20221015+cpu.torch1.12.0, 1.21.dev20221015+cpu.torch1.12.1, 1.21.dev20221015+cuda10.2.torch1.12.1, 1.21.dev20221015+cuda11.3.torch1.12.1, 1.21.dev20221015+cuda11.6.torch1.12.1, 1.21.dev20221018+cpu.torch1.7.1, 1.21.dev20221018+cpu.torch1.8.0, 1.21.dev20221018+cpu.torch1.8.1, 1.21.dev20221018+cpu.torch1.9.0, 1.21.dev20221018+cpu.torch1.9.1, 1.21.dev20221018+cpu.torch1.10.0, 1.21.dev20221018+cpu.torch1.10.1, 1.21.dev20221018+cpu.torch1.10.2, 1.21.dev20221018+cpu.torch1.11.0, 1.21.dev20221018+cpu.torch1.12.0, 1.21.dev20221018+cpu.torch1.12.1, 1.21.dev20221018+cuda10.2.torch1.12.1, 1.21.dev20221018+cuda11.3.torch1.12.1, 1.21.dev20221018+cuda11.6.torch1.12.1, 1.21.dev20221027+cuda10.2.torch1.12.1, 1.21.dev20221028+cpu.torch1.7.1, 1.21.dev20221028+cpu.torch1.8.0, 1.21.dev20221028+cpu.torch1.8.1, 1.21.dev20221028+cpu.torch1.9.0, 1.21.dev20221028+cpu.torch1.9.1, 1.21.dev20221028+cpu.torch1.10.0, 1.21.dev20221028+cpu.torch1.10.1, 1.21.dev20221028+cpu.torch1.10.2, 1.21.dev20221028+cpu.torch1.11.0, 1.21.dev20221028+cpu.torch1.12.0, 1.21.dev20221028+cpu.torch1.12.1, 1.21.dev20221028+cuda10.2.torch1.12.1, 1.21.dev20221028+cuda11.3.torch1.12.1, 1.21.dev20221028+cuda11.6.torch1.12.1, 1.21.dev20221029+cpu.torch1.7.1, 1.21.dev20221029+cpu.torch1.8.0, 1.21.dev20221029+cpu.torch1.8.1, 1.21.dev20221029+cpu.torch1.9.0, 1.21.dev20221029+cpu.torch1.9.1, 1.21.dev20221029+cpu.torch1.10.0, 1.21.dev20221029+cpu.torch1.10.1, 1.21.dev20221029+cpu.torch1.10.2, 1.21.dev20221029+cpu.torch1.11.0, 1.21.dev20221029+cpu.torch1.12.0, 1.21.dev20221029+cpu.torch1.12.1, 1.21.dev20221029+cuda11.3.torch1.12.1, 1.21.dev20221029+cuda11.6.torch1.12.1, 1.21.dev20221030+cuda10.2.torch1.12.1, 1.21.dev20221030+cuda11.3.torch1.12.1, 1.21.dev20221030+cuda11.6.torch1.12.1, 1.21.dev20221031+cpu.torch1.7.1, 1.21.dev20221031+cpu.torch1.8.0, 1.21.dev20221031+cpu.torch1.8.1, 1.21.dev20221031+cpu.torch1.9.0, 1.21.dev20221031+cpu.torch1.9.1, 1.21.dev20221031+cpu.torch1.10.0, 1.21.dev20221031+cpu.torch1.10.1, 1.21.dev20221031+cpu.torch1.10.2, 1.21.dev20221031+cpu.torch1.11.0, 1.21.dev20221031+cpu.torch1.12.0, 1.21.dev20221031+cpu.torch1.12.1, 1.21.dev20221101+cpu.torch1.7.1, 1.21.dev20221101+cpu.torch1.8.0, 1.21.dev20221101+cpu.torch1.8.1, 1.21.dev20221101+cpu.torch1.9.0, 1.21.dev20221101+cpu.torch1.9.1, 1.21.dev20221101+cpu.torch1.10.0, 1.21.dev20221101+cpu.torch1.10.1, 1.21.dev20221101+cpu.torch1.10.2, 1.21.dev20221101+cpu.torch1.11.0, 1.21.dev20221101+cpu.torch1.12.0, 1.21.dev20221101+cpu.torch1.12.1, 1.21.dev20221101+cpu.torch1.13.0, 1.21.dev20221101+cuda11.6.torch1.13.0, 1.21.dev20221101+cuda11.7.torch1.13.0, 1.21.dev20221104+cpu.torch1.7.1, 1.21.dev20221104+cpu.torch1.8.0, 1.21.dev20221104+cpu.torch1.8.1, 1.21.dev20221104+cpu.torch1.9.0, 1.21.dev20221104+cpu.torch1.9.1, 1.21.dev20221104+cpu.torch1.10.0, 1.21.dev20221104+cpu.torch1.10.1, 1.21.dev20221104+cpu.torch1.10.2, 1.21.dev20221104+cpu.torch1.11.0, 1.21.dev20221104+cpu.torch1.12.0, 1.21.dev20221104+cpu.torch1.12.1, 1.21.dev20221104+cpu.torch1.13.0, 1.21.dev20221104+cuda11.6.torch1.13.0, 1.21.dev20221104+cuda11.7.torch1.13.0, 1.21.dev20221105+cpu.torch1.7.1, 1.21.dev20221105+cpu.torch1.8.0, 1.21.dev20221105+cpu.torch1.8.1, 1.21.dev20221105+cpu.torch1.9.0, 1.21.dev20221105+cpu.torch1.9.1, 1.21.dev20221105+cpu.torch1.10.0, 1.21.dev20221105+cpu.torch1.10.1, 1.21.dev20221105+cpu.torch1.10.2, 1.21.dev20221105+cpu.torch1.11.0, 1.21.dev20221105+cpu.torch1.12.0, 1.21.dev20221105+cpu.torch1.12.1, 1.21.dev20221105+cpu.torch1.13.0, 1.21.dev20221105+cuda11.6.torch1.13.0, 1.21.dev20221105+cuda11.7.torch1.13.0, 1.21.dev20221107+cuda11.6.torch1.13.0, 1.21.dev20221107+cuda11.7.torch1.13.0, 1.21.dev20221108+cpu.torch1.7.1, 1.21.dev20221108+cpu.torch1.8.0, 1.21.dev20221108+cpu.torch1.8.1, 1.21.dev20221108+cpu.torch1.9.0, 1.21.dev20221108+cpu.torch1.9.1, 1.21.dev20221108+cpu.torch1.10.0, 1.21.dev20221108+cpu.torch1.10.1, 1.21.dev20221108+cpu.torch1.10.2, 1.21.dev20221108+cpu.torch1.11.0, 1.21.dev20221108+cpu.torch1.12.0, 1.21.dev20221108+cpu.torch1.12.1, 1.21.dev20221108+cpu.torch1.13.0, 1.21.dev20221109+cuda11.6.torch1.13.0, 1.21.dev20221109+cuda11.7.torch1.13.0, 1.21.dev20221110+cpu.torch1.7.1, 1.21.dev20221110+cpu.torch1.8.0, 1.21.dev20221110+cpu.torch1.8.1, 1.21.dev20221110+cpu.torch1.9.0, 1.21.dev20221110+cpu.torch1.9.1, 1.21.dev20221110+cpu.torch1.10.0, 1.21.dev20221110+cpu.torch1.10.1, 1.21.dev20221110+cpu.torch1.10.2, 1.21.dev20221110+cpu.torch1.11.0, 1.21.dev20221110+cpu.torch1.12.0, 1.21.dev20221110+cpu.torch1.12.1, 1.21.dev20221110+cpu.torch1.13.0, 1.22.dev20221111+cuda11.6.torch1.13.0, 1.22.dev20221111+cuda11.7.torch1.13.0, 1.22.dev20221112+cpu.torch1.7.1, 1.22.dev20221112+cpu.torch1.8.0, 1.22.dev20221112+cpu.torch1.8.1, 1.22.dev20221112+cpu.torch1.9.0, 1.22.dev20221112+cpu.torch1.9.1, 1.22.dev20221112+cpu.torch1.10.0, 1.22.dev20221112+cpu.torch1.10.1, 1.22.dev20221112+cpu.torch1.10.2, 1.22.dev20221112+cpu.torch1.11.0, 1.22.dev20221112+cpu.torch1.12.0, 1.22.dev20221112+cpu.torch1.12.1, 1.22.dev20221112+cpu.torch1.13.0, 1.22.dev20221115+cuda11.6.torch1.13.0, 1.22.dev20221115+cuda11.7.torch1.13.0, 1.22.dev20221116+cpu.torch1.7.1, 1.22.dev20221116+cpu.torch1.8.0, 1.22.dev20221116+cpu.torch1.8.1, 1.22.dev20221116+cpu.torch1.9.0, 1.22.dev20221116+cpu.torch1.9.1, 1.22.dev20221116+cpu.torch1.10.0, 1.22.dev20221116+cpu.torch1.10.1, 1.22.dev20221116+cpu.torch1.10.2, 1.22.dev20221116+cpu.torch1.11.0, 1.22.dev20221116+cpu.torch1.12.0, 1.22.dev20221116+cpu.torch1.12.1, 1.22.dev20221116+cpu.torch1.13.0, 1.22.dev20221116+cuda11.6.torch1.13.0, 1.22.dev20221117+cpu.torch1.7.1, 1.22.dev20221117+cpu.torch1.8.0, 1.22.dev20221117+cpu.torch1.8.1, 1.22.dev20221117+cpu.torch1.9.0, 1.22.dev20221117+cpu.torch1.9.1, 1.22.dev20221117+cpu.torch1.10.0, 1.22.dev20221117+cpu.torch1.10.1, 1.22.dev20221117+cpu.torch1.10.2, 1.22.dev20221117+cpu.torch1.11.0, 1.22.dev20221117+cpu.torch1.12.0, 1.22.dev20221117+cpu.torch1.12.1, 1.22.dev20221117+cpu.torch1.13.0, 1.22.dev20221117+cuda11.6.torch1.13.0, 1.22.dev20221117+cuda11.7.torch1.13.0, 1.22.dev20221118+cpu.torch1.7.1, 1.22.dev20221118+cpu.torch1.8.0, 1.22.dev20221118+cpu.torch1.8.1, 1.22.dev20221118+cpu.torch1.9.0, 1.22.dev20221118+cpu.torch1.9.1, 1.22.dev20221118+cpu.torch1.10.0, 1.22.dev20221118+cpu.torch1.10.1, 1.22.dev20221118+cpu.torch1.10.2, 1.22.dev20221118+cpu.torch1.11.0, 1.22.dev20221118+cpu.torch1.12.0, 1.22.dev20221118+cpu.torch1.12.1, 1.22.dev20221118+cpu.torch1.13.0, 1.22, 1.23.dev20221124+cuda11.6.torch1.13.0, 1.23.dev20221124+cuda11.7.torch1.13.0, 1.23.1, 1.23.2.dev20221127+cpu.torch1.7.1, 1.23.2.dev20221127+cpu.torch1.8.0, 1.23.2.dev20221127+cpu.torch1.8.1, 1.23.2.dev20221127+cpu.torch1.9.0, 1.23.2.dev20221127+cpu.torch1.9.1, 1.23.2.dev20221127+cpu.torch1.10.0, 1.23.2.dev20221127+cpu.torch1.10.1, 1.23.2.dev20221127+cpu.torch1.10.2, 1.23.2.dev20221127+cpu.torch1.11.0, 1.23.2.dev20221127+cpu.torch1.12.0, 1.23.2.dev20221127+cpu.torch1.12.1, 1.23.2.dev20221127+cpu.torch1.13.0, 1.23.2.dev20221127+cuda11.6.torch1.13.0, 1.23.2.dev20221127+cuda11.7.torch1.13.0, 1.23.2.dev20221128+cpu.torch1.7.1, 1.23.2.dev20221128+cpu.torch1.8.0, 1.23.2.dev20221128+cpu.torch1.8.1, 1.23.2.dev20221128+cpu.torch1.9.0, 1.23.2.dev20221128+cpu.torch1.9.1, 1.23.2.dev20221128+cpu.torch1.10.0, 1.23.2.dev20221128+cpu.torch1.10.1, 1.23.2.dev20221128+cpu.torch1.10.2, 1.23.2.dev20221128+cpu.torch1.11.0, 1.23.2.dev20221128+cpu.torch1.12.0, 1.23.2.dev20221128+cpu.torch1.12.1, 1.23.2.dev20221128+cpu.torch1.13.0, 1.23.2.dev20221129+cpu.torch1.7.1, 1.23.2.dev20221129+cpu.torch1.8.0, 1.23.2.dev20221129+cpu.torch1.8.1, 1.23.2.dev20221129+cpu.torch1.9.0, 1.23.2.dev20221129+cpu.torch1.9.1, 1.23.2.dev20221129+cpu.torch1.10.0, 1.23.2.dev20221129+cpu.torch1.10.1, 1.23.2.dev20221129+cpu.torch1.10.2, 1.23.2.dev20221129+cpu.torch1.11.0, 1.23.2.dev20221129+cpu.torch1.12.0, 1.23.2.dev20221129+cpu.torch1.12.1, 1.23.2.dev20221129+cpu.torch1.13.0, 1.23.2.dev20221129+cuda11.6.torch1.13.0, 1.23.2.dev20221129+cuda11.7.torch1.13.0, 1.23.2.dev20221130+cuda11.6.torch1.13.0, 1.23.2.dev20221130+cuda11.7.torch1.13.0, 1.23.2.dev20221201+cpu.torch1.7.1, 1.23.2.dev20221201+cpu.torch1.8.0, 1.23.2.dev20221201+cpu.torch1.8.1, 1.23.2.dev20221201+cpu.torch1.9.0, 1.23.2.dev20221201+cpu.torch1.9.1, 1.23.2.dev20221201+cpu.torch1.10.0, 1.23.2.dev20221201+cpu.torch1.10.1, 1.23.2.dev20221201+cpu.torch1.10.2, 1.23.2.dev20221201+cpu.torch1.11.0, 1.23.2.dev20221201+cpu.torch1.12.0, 1.23.2.dev20221201+cpu.torch1.12.1, 1.23.2.dev20221201+cpu.torch1.13.0, 1.23.2.dev20221202+cuda11.6.torch1.13.0, 1.23.2.dev20221202+cuda11.7.torch1.13.0, 1.23.2.dev20221203+cpu.torch1.7.1, 1.23.2.dev20221203+cpu.torch1.8.0, 1.23.2.dev20221203+cpu.torch1.8.1, 1.23.2.dev20221203+cpu.torch1.9.0, 1.23.2.dev20221203+cpu.torch1.9.1, 1.23.2.dev20221203+cpu.torch1.10.0, 1.23.2.dev20221203+cpu.torch1.10.1, 1.23.2.dev20221203+cpu.torch1.10.2, 1.23.2.dev20221203+cpu.torch1.11.0, 1.23.2.dev20221203+cpu.torch1.12.0, 1.23.2.dev20221203+cpu.torch1.12.1, 1.23.2.dev20221203+cpu.torch1.13.0, 1.23.2.dev20221205+cuda11.6.torch1.13.0, 1.23.2.dev20221206+cpu.torch1.7.1, 1.23.2.dev20221206+cpu.torch1.8.0, 1.23.2.dev20221206+cpu.torch1.8.1, 1.23.2.dev20221206+cpu.torch1.9.0, 1.23.2.dev20221206+cpu.torch1.9.1, 1.23.2.dev20221206+cpu.torch1.10.0, 1.23.2.dev20221206+cpu.torch1.10.1, 1.23.2.dev20221206+cpu.torch1.10.2, 1.23.2.dev20221206+cpu.torch1.11.0, 1.23.2.dev20221206+cpu.torch1.12.0, 1.23.2.dev20221206+cpu.torch1.12.1, 1.23.2.dev20221206+cpu.torch1.13.0, 1.23.2.dev20221206+cuda11.7.torch1.13.0, 1.23.2.dev20221214+cpu.torch1.7.1, 1.23.2.dev20221214+cpu.torch1.8.0, 1.23.2.dev20221214+cpu.torch1.8.1, 1.23.2.dev20221214+cpu.torch1.9.0, 1.23.2.dev20221214+cpu.torch1.9.1, 1.23.2.dev20221214+cpu.torch1.10.0, 1.23.2.dev20221214+cpu.torch1.10.1, 1.23.2.dev20221214+cpu.torch1.10.2, 1.23.2.dev20221214+cpu.torch1.11.0, 1.23.2.dev20221214+cpu.torch1.12.0, 1.23.2.dev20221214+cpu.torch1.12.1, 1.23.2.dev20221214+cpu.torch1.13.0, 1.23.2.dev20221214+cuda11.6.torch1.13.0, 1.23.2.dev20221214+cuda11.7.torch1.13.0, 1.23.2.dev20221229+cuda11.6.torch1.13.0, 1.23.2.dev20221230+cpu.torch1.7.1, 1.23.2.dev20221230+cpu.torch1.8.0, 1.23.2.dev20221230+cpu.torch1.8.1, 1.23.2.dev20221230+cpu.torch1.9.0, 1.23.2.dev20221230+cpu.torch1.9.1, 1.23.2.dev20221230+cpu.torch1.10.0, 1.23.2.dev20221230+cpu.torch1.10.1, 1.23.2.dev20221230+cpu.torch1.10.2, 1.23.2.dev20221230+cpu.torch1.11.0, 1.23.2.dev20221230+cpu.torch1.12.0, 1.23.2.dev20221230+cpu.torch1.12.1, 1.23.2.dev20221230+cpu.torch1.13.0, 1.23.2.dev20221230+cuda11.7.torch1.13.0, 1.23.2.dev20230104+cuda11.6.torch1.13.0, 1.23.2.dev20230104+cuda11.7.torch1.13.0, 1.23.2.dev20230105+cpu.torch1.7.1, 1.23.2.dev20230105+cpu.torch1.8.0, 1.23.2.dev20230105+cpu.torch1.8.1, 1.23.2.dev20230105+cpu.torch1.9.0, 1.23.2.dev20230105+cpu.torch1.9.1, 1.23.2.dev20230105+cpu.torch1.10.0, 1.23.2.dev20230105+cpu.torch1.10.1, 1.23.2.dev20230105+cpu.torch1.10.2, 1.23.2.dev20230105+cpu.torch1.11.0, 1.23.2.dev20230105+cpu.torch1.12.0, 1.23.2.dev20230105+cpu.torch1.12.1, 1.23.2.dev20230105+cpu.torch1.13.0, 1.23.2, 1.23.3.dev20230105+cuda11.6.torch1.13.1, 1.23.3.dev20230105+cuda11.7.torch1.13.1, 1.23.3.dev20230106+cpu.torch1.7.1, 1.23.3.dev20230106+cpu.torch1.8.0, 1.23.3.dev20230106+cpu.torch1.8.1, 1.23.3.dev20230106+cpu.torch1.9.0, 1.23.3.dev20230106+cpu.torch1.9.1, 1.23.3.dev20230106+cpu.torch1.10.0, 1.23.3.dev20230106+cpu.torch1.10.1, 1.23.3.dev20230106+cpu.torch1.10.2, 1.23.3.dev20230106+cpu.torch1.11.0, 1.23.3.dev20230106+cpu.torch1.12.0, 1.23.3.dev20230106+cpu.torch1.12.1, 1.23.3.dev20230106+cpu.torch1.13.0, 1.23.3.dev20230106+cpu.torch1.13.1, 1.23.3.dev20230110+cpu.torch1.10.0, 1.23.3.dev20230110+cpu.torch1.10.1, 1.23.3.dev20230110+cuda11.6.torch1.13.1, 1.23.3.dev20230110+cuda11.7.torch1.13.1, 1.23.3.dev20230111+cpu.torch1.7.1, 1.23.3.dev20230111+cpu.torch1.8.0, 1.23.3.dev20230111+cpu.torch1.8.1, 1.23.3.dev20230111+cpu.torch1.9.0, 1.23.3.dev20230111+cpu.torch1.9.1, 1.23.3.dev20230111+cpu.torch1.10.2, 1.23.3.dev20230111+cpu.torch1.11.0, 1.23.3.dev20230111+cpu.torch1.12.0, 1.23.3.dev20230111+cpu.torch1.12.1, 1.23.3.dev20230111+cpu.torch1.13.0, 1.23.3.dev20230111+cpu.torch1.13.1, 1.23.3.dev20230111+cuda11.6.torch1.13.1, 1.23.3.dev20230111+cuda11.7.torch1.13.1, 1.23.3.dev20230112+cpu.torch1.7.1, 1.23.3.dev20230112+cpu.torch1.8.0, 1.23.3.dev20230112+cpu.torch1.8.1, 1.23.3.dev20230112+cpu.torch1.9.0, 1.23.3.dev20230112+cpu.torch1.9.1, 1.23.3.dev20230112+cpu.torch1.10.0, 1.23.3.dev20230112+cpu.torch1.10.1, 1.23.3.dev20230112+cpu.torch1.10.2, 1.23.3.dev20230112+cpu.torch1.11.0, 1.23.3.dev20230112+cpu.torch1.12.0, 1.23.3.dev20230112+cpu.torch1.12.1, 1.23.3.dev20230112+cpu.torch1.13.0, 1.23.3.dev20230112+cpu.torch1.13.1, 1.23.3.dev20230115+cuda11.6.torch1.13.1, 1.23.3.dev20230115+cuda11.7.torch1.13.1, 1.23.3.dev20230116+cpu.torch1.7.1, 1.23.3.dev20230116+cpu.torch1.8.0, 1.23.3.dev20230116+cpu.torch1.8.1, 1.23.3.dev20230116+cpu.torch1.9.0, 1.23.3.dev20230116+cpu.torch1.9.1, 1.23.3.dev20230116+cpu.torch1.10.0, 1.23.3.dev20230116+cpu.torch1.10.1, 1.23.3.dev20230116+cpu.torch1.10.2, 1.23.3.dev20230116+cpu.torch1.11.0, 1.23.3.dev20230116+cpu.torch1.12.0, 1.23.3.dev20230116+cpu.torch1.12.1, 1.23.3.dev20230116+cpu.torch1.13.0, 1.23.3.dev20230116+cpu.torch1.13.1, 1.23.3.dev20230117+cpu.torch1.10.0, 1.23.3.dev20230117+cuda11.6.torch1.13.1, 1.23.3.dev20230117+cuda11.7.torch1.13.1, 1.23.3.dev20230118+cpu.torch1.7.1, 1.23.3.dev20230118+cpu.torch1.8.0, 1.23.3.dev20230118+cpu.torch1.8.1, 1.23.3.dev20230118+cpu.torch1.9.0, 1.23.3.dev20230118+cpu.torch1.9.1, 1.23.3.dev20230118+cpu.torch1.10.1, 1.23.3.dev20230118+cpu.torch1.10.2, 1.23.3.dev20230118+cpu.torch1.11.0, 1.23.3.dev20230118+cpu.torch1.12.0, 1.23.3.dev20230118+cpu.torch1.12.1, 1.23.3.dev20230118+cpu.torch1.13.0, 1.23.3.dev20230118+cpu.torch1.13.1, 1.23.3.dev20230127+cpu.torch1.7.1, 1.23.3.dev20230127+cpu.torch1.8.0, 1.23.3.dev20230127+cpu.torch1.8.1, 1.23.3.dev20230127+cpu.torch1.9.0, 1.23.3.dev20230127+cpu.torch1.9.1, 1.23.3.dev20230127+cpu.torch1.10.0, 1.23.3.dev20230127+cpu.torch1.10.1, 1.23.3.dev20230127+cpu.torch1.10.2, 1.23.3.dev20230127+cpu.torch1.11.0, 1.23.3.dev20230127+cpu.torch1.12.0, 1.23.3.dev20230127+cpu.torch1.12.1, 1.23.3.dev20230127+cpu.torch1.13.0, 1.23.3.dev20230127+cpu.torch1.13.1, 1.23.3.dev20230127+cuda11.6.torch1.13.1, 1.23.3.dev20230127+cuda11.7.torch1.13.1, 1.23.3.dev20230129+cpu.torch1.10.0, 1.23.3.dev20230129+cuda11.6.torch1.13.1, 1.23.3.dev20230129+cuda11.7.torch1.13.1, 1.23.3.dev20230130+cpu.torch1.7.1, 1.23.3.dev20230130+cpu.torch1.8.0, 1.23.3.dev20230130+cpu.torch1.8.1, 1.23.3.dev20230130+cpu.torch1.9.0, 1.23.3.dev20230130+cpu.torch1.9.1, 1.23.3.dev20230130+cpu.torch1.10.1, 1.23.3.dev20230130+cpu.torch1.10.2, 1.23.3.dev20230130+cpu.torch1.11.0, 1.23.3.dev20230130+cpu.torch1.12.0, 1.23.3.dev20230130+cpu.torch1.12.1, 1.23.3.dev20230130+cpu.torch1.13.0, 1.23.3.dev20230130+cpu.torch1.13.1, 1.23.3, 1.23.4.dev20230201+cuda11.6.torch1.13.1, 1.23.4.dev20230201+cuda11.7.torch1.13.1, 1.23.4.dev20230202+cpu.torch1.7.1, 1.23.4.dev20230202+cpu.torch1.8.0, 1.23.4.dev20230202+cpu.torch1.8.1, 1.23.4.dev20230202+cpu.torch1.9.0, 1.23.4.dev20230202+cpu.torch1.9.1, 1.23.4.dev20230202+cpu.torch1.10.0, 1.23.4.dev20230202+cpu.torch1.10.1, 1.23.4.dev20230202+cpu.torch1.10.2, 1.23.4.dev20230202+cpu.torch1.11.0, 1.23.4.dev20230202+cpu.torch1.12.0, 1.23.4.dev20230202+cpu.torch1.12.1, 1.23.4.dev20230202+cpu.torch1.13.0, 1.23.4.dev20230202+cpu.torch1.13.1, 1.23.4.dev20230205+cpu.torch1.10.0, 1.23.4.dev20230205+cuda11.6.torch1.13.1, 1.23.4.dev20230205+cuda11.7.torch1.13.1, 1.23.4.dev20230206+cpu.torch1.7.1, 1.23.4.dev20230206+cpu.torch1.8.0, 1.23.4.dev20230206+cpu.torch1.8.1, 1.23.4.dev20230206+cpu.torch1.9.0, 1.23.4.dev20230206+cpu.torch1.9.1, 1.23.4.dev20230206+cpu.torch1.10.1, 1.23.4.dev20230206+cpu.torch1.10.2, 1.23.4.dev20230206+cpu.torch1.11.0, 1.23.4.dev20230206+cpu.torch1.12.0, 1.23.4.dev20230206+cpu.torch1.12.1, 1.23.4.dev20230206+cpu.torch1.13.0, 1.23.4.dev20230206+cpu.torch1.13.1, 1.23.4.dev20230217+cpu.torch1.10.0, 1.23.4.dev20230217+cpu.torch1.10.1, 1.23.4.dev20230217+cuda11.6.torch1.13.1, 1.23.4.dev20230217+cuda11.7.torch1.13.1, 1.23.4.dev20230218+cpu.torch1.7.1, 1.23.4.dev20230218+cpu.torch1.8.0, 1.23.4.dev20230218+cpu.torch1.8.1, 1.23.4.dev20230218+cpu.torch1.9.0, 1.23.4.dev20230218+cpu.torch1.9.1, 1.23.4.dev20230218+cpu.torch1.10.2, 1.23.4.dev20230218+cpu.torch1.11.0, 1.23.4.dev20230218+cpu.torch1.12.0, 1.23.4.dev20230218+cpu.torch1.12.1, 1.23.4.dev20230218+cpu.torch1.13.0, 1.23.4.dev20230218+cpu.torch1.13.1, 1.23.4.dev20230222+cpu.torch1.10.0, 1.23.4.dev20230222+cpu.torch1.10.1, 1.23.4.dev20230222+cuda11.6.torch1.13.1, 1.23.4.dev20230222+cuda11.7.torch1.13.1, 1.23.4.dev20230223+cpu.torch1.7.1, 1.23.4.dev20230223+cpu.torch1.8.0, 1.23.4.dev20230223+cpu.torch1.8.1, 1.23.4.dev20230223+cpu.torch1.9.0, 1.23.4.dev20230223+cpu.torch1.9.1, 1.23.4.dev20230223+cpu.torch1.10.2, 1.23.4.dev20230223+cpu.torch1.11.0, 1.23.4.dev20230223+cpu.torch1.12.0, 1.23.4.dev20230223+cpu.torch1.12.1, 1.23.4.dev20230223+cpu.torch1.13.0, 1.23.4.dev20230223+cpu.torch1.13.1, 1.23.4.dev20230228+cpu.torch1.10.0, 1.23.4.dev20230228+cpu.torch1.10.1, 1.23.4.dev20230228+cuda11.6.torch1.13.1, 1.23.4.dev20230228+cuda11.7.torch1.13.1, 1.23.4.dev20230301+cpu.torch1.7.1, 1.23.4.dev20230301+cpu.torch1.8.0, 1.23.4.dev20230301+cpu.torch1.8.1, 1.23.4.dev20230301+cpu.torch1.9.0, 1.23.4.dev20230301+cpu.torch1.9.1, 1.23.4.dev20230301+cpu.torch1.10.2, 1.23.4.dev20230301+cpu.torch1.11.0, 1.23.4.dev20230301+cpu.torch1.12.0, 1.23.4.dev20230301+cpu.torch1.12.1, 1.23.4.dev20230301+cpu.torch1.13.0, 1.23.4.dev20230301+cpu.torch1.13.1, 1.23.4.dev20230316+cpu.torch1.10.0, 1.23.4.dev20230316+cpu.torch1.10.1, 1.23.4.dev20230316+cuda11.6.torch1.13.1, 1.23.4.dev20230316+cuda11.7.torch1.13.1, 1.23.4.dev20230317+cpu.torch1.7.1, 1.23.4.dev20230317+cpu.torch1.8.0, 1.23.4.dev20230317+cpu.torch1.8.1, 1.23.4.dev20230317+cpu.torch1.9.0, 1.23.4.dev20230317+cpu.torch1.9.1, 1.23.4.dev20230317+cpu.torch1.10.2, 1.23.4.dev20230317+cpu.torch1.11.0, 1.23.4.dev20230317+cpu.torch1.12.0, 1.23.4.dev20230317+cpu.torch1.12.1, 1.23.4.dev20230317+cpu.torch1.13.0, 1.23.4.dev20230317+cpu.torch1.13.1, 1.23.4.dev20230318+cuda11.6.torch1.13.1, 1.23.4.dev20230318+cuda11.7.torch1.13.1, 1.23.4.dev20230319+cpu.torch1.7.1, 1.23.4.dev20230319+cpu.torch1.8.0, 1.23.4.dev20230319+cpu.torch1.8.1, 1.23.4.dev20230319+cpu.torch1.9.0, 1.23.4.dev20230319+cpu.torch1.9.1, 1.23.4.dev20230319+cpu.torch1.10.0, 1.23.4.dev20230319+cpu.torch1.10.1, 1.23.4.dev20230319+cpu.torch1.10.2, 1.23.4.dev20230319+cpu.torch1.11.0, 1.23.4.dev20230319+cpu.torch1.12.0, 1.23.4.dev20230319+cpu.torch1.12.1, 1.23.4.dev20230319+cpu.torch1.13.0, 1.23.4.dev20230319+cpu.torch1.13.1, 1.23.4)\u001b[0m\u001b[31m\n",
            "\u001b[0m\u001b[31mERROR: No matching distribution found for k2==1.10.dev20211102+cuda10.1.torch1.7.1\u001b[0m\u001b[31m\n",
            "\u001b[0m"
          ]
        }
      ]
    },
    {
      "cell_type": "markdown",
      "source": [
        "Check that k2 was installed successfully:"
      ],
      "metadata": {
        "id": "SJC8l1LAP5Rt"
      }
    },
    {
      "cell_type": "code",
      "source": [
        "! python3 -m k2.version"
      ],
      "metadata": {
        "colab": {
          "base_uri": "https://localhost:8080/"
        },
        "id": "yrJrc17wP50p",
        "outputId": "6bd525eb-f965-4a53-a0eb-823181201de8"
      },
      "execution_count": 41,
      "outputs": [
        {
          "output_type": "stream",
          "name": "stdout",
          "text": [
            "Collecting environment information...\n",
            "\n",
            "k2 version: 1.23.4\n",
            "Build type: Release\n",
            "Git SHA1: 62e404dd3f3a811d73e424199b3408e309c06e1a\n",
            "Git date: Mon Jan 30 02:26:16 2023\n",
            "Cuda used to build k2: 11.7\n",
            "cuDNN used to build k2: 8.2.0\n",
            "Python version used to build k2: 3.9\n",
            "OS used to build k2: Ubuntu 18.04.6 LTS\n",
            "CMake version: 3.25.1\n",
            "GCC version: 7.5.0\n",
            "CMAKE_CUDA_FLAGS:  -Wno-deprecated-gpu-targets   -lineinfo --expt-extended-lambda -use_fast_math -Xptxas=-w  --expt-extended-lambda -gencode arch=compute_35,code=sm_35  -lineinfo --expt-extended-lambda -use_fast_math -Xptxas=-w  --expt-extended-lambda -gencode arch=compute_50,code=sm_50  -lineinfo --expt-extended-lambda -use_fast_math -Xptxas=-w  --expt-extended-lambda -gencode arch=compute_60,code=sm_60  -lineinfo --expt-extended-lambda -use_fast_math -Xptxas=-w  --expt-extended-lambda -gencode arch=compute_61,code=sm_61  -lineinfo --expt-extended-lambda -use_fast_math -Xptxas=-w  --expt-extended-lambda -gencode arch=compute_70,code=sm_70  -lineinfo --expt-extended-lambda -use_fast_math -Xptxas=-w  --expt-extended-lambda -gencode arch=compute_75,code=sm_75  -lineinfo --expt-extended-lambda -use_fast_math -Xptxas=-w  --expt-extended-lambda -gencode arch=compute_80,code=sm_80  -lineinfo --expt-extended-lambda -use_fast_math -Xptxas=-w  --expt-extended-lambda -gencode arch=compute_86,code=sm_86 -DONNX_NAMESPACE=onnx_c2 -gencode arch=compute_35,code=sm_35 -gencode arch=compute_50,code=sm_50 -gencode arch=compute_52,code=sm_52 -gencode arch=compute_60,code=sm_60 -gencode arch=compute_61,code=sm_61 -gencode arch=compute_70,code=sm_70 -gencode arch=compute_75,code=sm_75 -gencode arch=compute_80,code=sm_80 -gencode arch=compute_86,code=sm_86 -gencode arch=compute_86,code=compute_86 -Xcudafe --diag_suppress=cc_clobber_ignored,--diag_suppress=integer_sign_change,--diag_suppress=useless_using_declaration,--diag_suppress=set_but_not_used,--diag_suppress=field_without_dll_interface,--diag_suppress=base_class_has_different_dll_interface,--diag_suppress=dll_interface_conflict_none_assumed,--diag_suppress=dll_interface_conflict_dllexport_assumed,--diag_suppress=implicit_return_from_non_void_function,--diag_suppress=unsigned_compare_with_zero,--diag_suppress=declared_but_not_referenced,--diag_suppress=bad_friend_decl --expt-relaxed-constexpr --expt-extended-lambda -D_GLIBCXX_USE_CXX11_ABI=0 --compiler-options -Wall  --compiler-options -Wno-strict-overflow  --compiler-options -Wno-unknown-pragmas \n",
            "CMAKE_CXX_FLAGS:  -D_GLIBCXX_USE_CXX11_ABI=0 -Wno-unused-variable  -Wno-strict-overflow \n",
            "PyTorch version used to build k2: 1.13.1+cu117\n",
            "PyTorch is using Cuda: 11.7\n",
            "NVTX enabled: True\n",
            "With CUDA: True\n",
            "Disable debug: True\n",
            "Sync kernels : False\n",
            "Disable checks: False\n",
            "Max cpu memory allocate: 214748364800 bytes (or 200.0 GB)\n",
            "k2 abort: False\n",
            "__file__: /usr/local/lib/python3.9/dist-packages/k2/version/version.py\n",
            "_k2.__file__: /usr/local/lib/python3.9/dist-packages/_k2.cpython-39-x86_64-linux-gnu.so\n",
            "    \n"
          ]
        }
      ]
    },
    {
      "cell_type": "markdown",
      "source": [
        "### Install kaldifeat"
      ],
      "metadata": {
        "id": "JtQrfy_IQD3D"
      }
    },
    {
      "cell_type": "code",
      "source": [
        "! KALDIFEAT_MAKE_ARGS=\"-j\" pip install --verbose kaldifeat"
      ],
      "metadata": {
        "colab": {
          "base_uri": "https://localhost:8080/"
        },
        "id": "Utl8nJxDQAiy",
        "outputId": "33c39b41-c882-4ee0-cdca-4d552c939045"
      },
      "execution_count": 42,
      "outputs": [
        {
          "output_type": "stream",
          "name": "stdout",
          "text": [
            "Using pip 23.0.1 from /usr/local/lib/python3.9/dist-packages/pip (python 3.9)\n",
            "Looking in indexes: https://pypi.org/simple, https://us-python.pkg.dev/colab-wheels/public/simple/\n",
            "Requirement already satisfied: kaldifeat in /usr/local/lib/python3.9/dist-packages (1.21)\n"
          ]
        }
      ]
    },
    {
      "cell_type": "markdown",
      "source": [
        "To check that kaldifeat was installed successfully, run"
      ],
      "metadata": {
        "id": "ZNFs-7WeQIr3"
      }
    },
    {
      "cell_type": "code",
      "source": [
        "! python3 -c \"import kaldifeat; print(kaldifeat.__version__)\""
      ],
      "metadata": {
        "colab": {
          "base_uri": "https://localhost:8080/"
        },
        "id": "iMo6WHQJQGS3",
        "outputId": "91bccdee-2dda-4cd2-ea9b-a17c6885f72b"
      },
      "execution_count": 43,
      "outputs": [
        {
          "output_type": "stream",
          "name": "stdout",
          "text": [
            "1.21\n"
          ]
        }
      ]
    },
    {
      "cell_type": "markdown",
      "source": [
        "### Install icefall\n",
        "\n",
        "icefall is a collection of Python scripts. All you need is just to\n",
        "download its source code and set the `PYTHONPATH` environment variable."
      ],
      "metadata": {
        "id": "Nj1qvE2gQPAx"
      }
    },
    {
      "cell_type": "code",
      "source": [
        "! git clone https://github.com/k2-fsa/icefall"
      ],
      "metadata": {
        "colab": {
          "base_uri": "https://localhost:8080/"
        },
        "id": "0-1EowsbQLAs",
        "outputId": "2d96cf56-5d1c-4fe6-9067-af1597d4d39b"
      },
      "execution_count": 44,
      "outputs": [
        {
          "output_type": "stream",
          "name": "stdout",
          "text": [
            "fatal: destination path 'icefall' already exists and is not an empty directory.\n"
          ]
        }
      ]
    },
    {
      "cell_type": "code",
      "source": [
        "! pip install -q kaldialign sentencepiece>=0.1.96 lhotse"
      ],
      "metadata": {
        "id": "eFUULI_pQee5"
      },
      "execution_count": 45,
      "outputs": []
    },
    {
      "cell_type": "markdown",
      "source": [
        "## Download pre-trained RNN-T Conformer model\n",
        "\n",
        "To make the following steps easier, we decide to download the model\n",
        "to `icefall/egs/tedlium3/ASR/tmp`"
      ],
      "metadata": {
        "id": "4t8GkI5MQjL9"
      }
    },
    {
      "cell_type": "code",
      "source": [
        "! apt-get install -y -qq tree sox git-lfs"
      ],
      "metadata": {
        "id": "28sjWwOlQnVI"
      },
      "execution_count": 46,
      "outputs": []
    },
    {
      "cell_type": "markdown",
      "source": [
        "**CAUTION**: You have to run `sudo apt-get install git-lfs`\n",
        "and `git lfs install` in order to download the pre-trained model."
      ],
      "metadata": {
        "id": "HyC5nsRfQv09"
      }
    },
    {
      "cell_type": "code",
      "source": [
        "! cd icefall/egs/tedlium3/ASR && rm -rf tmp"
      ],
      "metadata": {
        "id": "04moo3mBQwVl"
      },
      "execution_count": 24,
      "outputs": []
    },
    {
      "cell_type": "code",
      "source": [
        "! cd icefall/egs/tedlium3/ASR && \\\n",
        "  mkdir tmp && \\\n",
        "  cd tmp && \\\n",
        "  git lfs install && \\\n",
        "  git clone -v https://huggingface.co/luomingshuang/icefall_asr_tedlium3_transducer_stateless && \\\n",
        "  cd icefall_asr_tedlium3_transducer_stateless && \\\n",
        "  cd ../.. && \\\n",
        "  tree tmp"
      ],
      "metadata": {
        "colab": {
          "base_uri": "https://localhost:8080/"
        },
        "id": "Tw9PdusqQ1Rv",
        "outputId": "11938ebd-dbf1-45b1-b616-462d2ea237f7"
      },
      "execution_count": 25,
      "outputs": [
        {
          "output_type": "stream",
          "name": "stdout",
          "text": [
            "Updated git hooks.\n",
            "Git LFS initialized.\n",
            "Cloning into 'icefall_asr_tedlium3_transducer_stateless'...\n",
            "POST git-upload-pack (165 bytes)\n",
            "remote: Enumerating objects: 78, done.\u001b[K\n",
            "remote: Counting objects: 100% (4/4), done.\u001b[K\n",
            "remote: Compressing objects: 100% (4/4), done.\u001b[K\n",
            "remote: Total 78 (delta 0), reused 4 (delta 0), pack-reused 74\u001b[K\n",
            "Unpacking objects: 100% (78/78), 2.78 MiB | 2.50 MiB/s, done.\n",
            "Filtering content: 100% (4/4), 2.21 GiB | 31.63 MiB/s, done.\n",
            "\u001b[01;34mtmp\u001b[00m\n",
            "└── \u001b[01;34micefall_asr_tedlium3_transducer_stateless\u001b[00m\n",
            "    ├── \u001b[01;34mdata\u001b[00m\n",
            "    │   └── \u001b[01;34mlang_bpe_500\u001b[00m\n",
            "    │       └── \u001b[01;32mbpe.model\u001b[00m\n",
            "    ├── \u001b[01;34mexp\u001b[00m\n",
            "    │   ├── cpu_jit_epoch_19_avg_11_torch.1.7.1.pt\n",
            "    │   ├── pretrained_average_14_to_29.pt\n",
            "    │   └── pretrained_average_19_to_29.pt\n",
            "    ├── \u001b[01;34mlog\u001b[00m\n",
            "    │   ├── \u001b[01;34mbeam_search\u001b[00m\n",
            "    │   │   ├── errs-dev-beam_4-epoch-29-avg-11-beam-4.txt\n",
            "    │   │   ├── \u001b[01;32merrs-dev-beam_4-epoch-29-avg-16-beam-4.txt\u001b[00m\n",
            "    │   │   ├── errs-test-beam_4-epoch-29-avg-11-beam-4.txt\n",
            "    │   │   ├── \u001b[01;32merrs-test-beam_4-epoch-29-avg-16-beam-4.txt\u001b[00m\n",
            "    │   │   ├── log-decode-epoch-29-avg-11-beam-4-2022-03-21-15-43-55\n",
            "    │   │   ├── \u001b[01;32mlog-decode-epoch-29-avg-16-beam-4-2022-03-02-10-52-09\u001b[00m\n",
            "    │   │   ├── recogs-dev-beam_4-epoch-29-avg-11-beam-4.txt\n",
            "    │   │   ├── \u001b[01;32mrecogs-dev-beam_4-epoch-29-avg-16-beam-4.txt\u001b[00m\n",
            "    │   │   ├── recogs-test-beam_4-epoch-29-avg-11-beam-4.txt\n",
            "    │   │   ├── \u001b[01;32mrecogs-test-beam_4-epoch-29-avg-16-beam-4.txt\u001b[00m\n",
            "    │   │   ├── wer-summary-dev-beam_4-epoch-29-avg-11-beam-4.txt\n",
            "    │   │   └── wer-summary-test-beam_4-epoch-29-avg-11-beam-4.txt\n",
            "    │   ├── \u001b[01;34mgreedy_search\u001b[00m\n",
            "    │   │   ├── errs-dev-greedy_search-epoch-29-avg-11-context-2-max-sym-per-frame-3.txt\n",
            "    │   │   ├── \u001b[01;32merrs-dev-greedy_search-epoch-29-avg-16-context-2-max-sym-per-frame-3.txt\u001b[00m\n",
            "    │   │   ├── errs-test-greedy_search-epoch-29-avg-11-context-2-max-sym-per-frame-3.txt\n",
            "    │   │   ├── \u001b[01;32merrs-test-greedy_search-epoch-29-avg-16-context-2-max-sym-per-frame-3.txt\u001b[00m\n",
            "    │   │   ├── log-decode-epoch-29-avg-11-context-2-max-sym-per-frame-3-2022-03-21-14-41-55\n",
            "    │   │   ├── \u001b[01;32mlog-decode-epoch-29-avg-16-context-2-max-sym-per-frame-3-2022-03-02-10-34-49\u001b[00m\n",
            "    │   │   ├── recogs-dev-greedy_search-epoch-29-avg-11-context-2-max-sym-per-frame-3.txt\n",
            "    │   │   ├── \u001b[01;32mrecogs-dev-greedy_search-epoch-29-avg-16-context-2-max-sym-per-frame-3.txt\u001b[00m\n",
            "    │   │   ├── recogs-test-greedy_search-epoch-29-avg-11-context-2-max-sym-per-frame-3.txt\n",
            "    │   │   ├── \u001b[01;32mrecogs-test-greedy_search-epoch-29-avg-16-context-2-max-sym-per-frame-3.txt\u001b[00m\n",
            "    │   │   ├── wer-summary-dev-greedy_search-epoch-29-avg-11-context-2-max-sym-per-frame-3.txt\n",
            "    │   │   └── wer-summary-test-greedy_search-epoch-29-avg-11-context-2-max-sym-per-frame-3.txt\n",
            "    │   └── \u001b[01;34mmodified_beam_search\u001b[00m\n",
            "    │       ├── errs-dev-beam_4-epoch-29-avg-11-beam-4.txt\n",
            "    │       ├── \u001b[01;32merrs-dev-beam_4-epoch-29-avg-16-beam-4.txt\u001b[00m\n",
            "    │       ├── errs-test-beam_4-epoch-29-avg-11-beam-4.txt\n",
            "    │       ├── \u001b[01;32merrs-test-beam_4-epoch-29-avg-16-beam-4.txt\u001b[00m\n",
            "    │       ├── log-decode-epoch-29-avg-11-beam-4-2022-03-21-15-36-23\n",
            "    │       ├── log-decode-epoch-29-avg-11-beam-4-2022-03-21-15-36-41\n",
            "    │       ├── \u001b[01;32mlog-decode-epoch-29-avg-16-beam-4-2022-03-02-11-25-20\u001b[00m\n",
            "    │       ├── recogs-dev-beam_4-epoch-29-avg-11-beam-4.txt\n",
            "    │       ├── \u001b[01;32mrecogs-dev-beam_4-epoch-29-avg-16-beam-4.txt\u001b[00m\n",
            "    │       ├── recogs-test-beam_4-epoch-29-avg-11-beam-4.txt\n",
            "    │       ├── \u001b[01;32mrecogs-test-beam_4-epoch-29-avg-16-beam-4.txt\u001b[00m\n",
            "    │       ├── wer-summary-dev-beam_4-epoch-29-avg-11-beam-4.txt\n",
            "    │       └── wer-summary-test-beam_4-epoch-29-avg-11-beam-4.txt\n",
            "    ├── README.md\n",
            "    └── \u001b[01;34mtest_wavs\u001b[00m\n",
            "        ├── RESULTS.md\n",
            "        ├── \u001b[01;35mRichBenjamin_2015W01.wav\u001b[00m\n",
            "        ├── \u001b[01;35mRichBenjamin_2015W02.wav\u001b[00m\n",
            "        └── \u001b[01;35mRichBenjamin_2015W03.wav\u001b[00m\n",
            "\n",
            "9 directories, 46 files\n"
          ]
        }
      ]
    },
    {
      "cell_type": "code",
      "source": [
        "! soxi icefall/egs/tedlium3/ASR/tmp/icefall_asr_tedlium3_transducer_stateless/test_wavs/*.wav"
      ],
      "metadata": {
        "colab": {
          "base_uri": "https://localhost:8080/"
        },
        "id": "Yv9lvcxgRJ8U",
        "outputId": "e6c66f8b-cc58-424b-9999-3b7bbd5104f5"
      },
      "execution_count": 26,
      "outputs": [
        {
          "output_type": "stream",
          "name": "stdout",
          "text": [
            "\n",
            "Input File     : 'icefall/egs/tedlium3/ASR/tmp/icefall_asr_tedlium3_transducer_stateless/test_wavs/RichBenjamin_2015W01.wav'\n",
            "Channels       : 1\n",
            "Sample Rate    : 16000\n",
            "Precision      : 16-bit\n",
            "Duration       : 00:00:30.02 = 480256 samples ~ 2251.2 CDDA sectors\n",
            "File Size      : 961k\n",
            "Bit Rate       : 256k\n",
            "Sample Encoding: 16-bit Signed Integer PCM\n",
            "\n",
            "\n",
            "Input File     : 'icefall/egs/tedlium3/ASR/tmp/icefall_asr_tedlium3_transducer_stateless/test_wavs/RichBenjamin_2015W02.wav'\n",
            "Channels       : 1\n",
            "Sample Rate    : 16000\n",
            "Precision      : 16-bit\n",
            "Duration       : 00:00:30.02 = 480256 samples ~ 2251.2 CDDA sectors\n",
            "File Size      : 961k\n",
            "Bit Rate       : 256k\n",
            "Sample Encoding: 16-bit Signed Integer PCM\n",
            "\n",
            "\n",
            "Input File     : 'icefall/egs/tedlium3/ASR/tmp/icefall_asr_tedlium3_transducer_stateless/test_wavs/RichBenjamin_2015W03.wav'\n",
            "Channels       : 1\n",
            "Sample Rate    : 16000\n",
            "Precision      : 16-bit\n",
            "Duration       : 00:00:29.95 = 479232 samples ~ 2246.4 CDDA sectors\n",
            "File Size      : 959k\n",
            "Bit Rate       : 256k\n",
            "Sample Encoding: 16-bit Signed Integer PCM\n",
            "\n",
            "Total Duration of 3 files: 00:01:29.98\n"
          ]
        }
      ]
    },
    {
      "cell_type": "markdown",
      "source": [
        "## Greedy search"
      ],
      "metadata": {
        "id": "JCFbqlP3Rrhh"
      }
    },
    {
      "cell_type": "code",
      "source": [
        "! cd icefall/egs/tedlium3/ASR && \\\n",
        "    PYTHONPATH=/content/icefall python3 ./transducer_stateless/pretrained.py \\\n",
        "      --method greedy_search \\\n",
        "      --max-sym-per-frame 1 \\\n",
        "      --checkpoint ./tmp/icefall_asr_tedlium3_transducer_stateless/exp/pretrained_average_19_to_29.pt \\\n",
        "      --bpe-model ./tmp/icefall_asr_tedlium3_transducer_stateless/data/lang_bpe_500/bpe.model \\\n",
        "      ./tmp/icefall_asr_tedlium3_transducer_stateless/test_wavs/RichBenjamin_2015W01.wav \\\n",
        "      ./tmp/icefall_asr_tedlium3_transducer_stateless/test_wavs/RichBenjamin_2015W02.wav \\\n",
        "      ./tmp/icefall_asr_tedlium3_transducer_stateless/test_wavs/RichBenjamin_2015W03.wav"
      ],
      "metadata": {
        "colab": {
          "base_uri": "https://localhost:8080/"
        },
        "id": "020PHIu9RsMR",
        "outputId": "52ca09b7-cfec-4537-8d29-ee89824162f6"
      },
      "execution_count": 47,
      "outputs": [
        {
          "output_type": "stream",
          "name": "stdout",
          "text": [
            "2023-04-17 14:59:34,785 INFO [pretrained.py:249] {'sample_rate': 16000, 'feature_dim': 80, 'encoder_out_dim': 512, 'subsampling_factor': 4, 'attention_dim': 512, 'nhead': 8, 'dim_feedforward': 2048, 'num_encoder_layers': 12, 'vgg_frontend': False, 'env_info': {'k2-version': '1.23.4', 'k2-build-type': 'Release', 'k2-with-cuda': True, 'k2-git-sha1': '62e404dd3f3a811d73e424199b3408e309c06e1a', 'k2-git-date': 'Mon Jan 30 02:26:16 2023', 'lhotse-version': '1.13.0', 'torch-version': '1.13.1+cu117', 'torch-cuda-available': True, 'torch-cuda-version': '11.7', 'python-version': '3.9', 'icefall-git-branch': 'master', 'icefall-git-sha1': '8838fe0-clean', 'icefall-git-date': 'Mon Apr 17 09:47:25 2023', 'icefall-path': '/content/icefall', 'k2-path': '/usr/local/lib/python3.9/dist-packages/k2/__init__.py', 'lhotse-path': '/usr/local/lib/python3.9/dist-packages/lhotse/__init__.py', 'hostname': '3f5f2b213a05', 'IP address': '172.28.0.12'}, 'checkpoint': './tmp/icefall_asr_tedlium3_transducer_stateless/exp/pretrained_average_19_to_29.pt', 'bpe_model': './tmp/icefall_asr_tedlium3_transducer_stateless/data/lang_bpe_500/bpe.model', 'method': 'greedy_search', 'sound_files': ['./tmp/icefall_asr_tedlium3_transducer_stateless/test_wavs/RichBenjamin_2015W01.wav', './tmp/icefall_asr_tedlium3_transducer_stateless/test_wavs/RichBenjamin_2015W02.wav', './tmp/icefall_asr_tedlium3_transducer_stateless/test_wavs/RichBenjamin_2015W03.wav'], 'beam_size': 4, 'context_size': 2, 'max_sym_per_frame': 1, 'blank_id': 0, 'unk_id': 2, 'vocab_size': 500}\n",
            "2023-04-17 14:59:34,785 INFO [pretrained.py:255] device: cuda:0\n",
            "2023-04-17 14:59:34,785 INFO [pretrained.py:257] Creating model\n",
            "2023-04-17 14:59:38,187 INFO [pretrained.py:266] Constructing Fbank computer\n",
            "2023-04-17 14:59:38,188 INFO [pretrained.py:276] Reading sound files: ['./tmp/icefall_asr_tedlium3_transducer_stateless/test_wavs/RichBenjamin_2015W01.wav', './tmp/icefall_asr_tedlium3_transducer_stateless/test_wavs/RichBenjamin_2015W02.wav', './tmp/icefall_asr_tedlium3_transducer_stateless/test_wavs/RichBenjamin_2015W03.wav']\n",
            "2023-04-17 14:59:38,202 INFO [pretrained.py:282] Decoding started\n",
            "2023-04-17 14:59:39,690 INFO [pretrained.py:300] Using greedy_search\n",
            "2023-04-17 14:59:40,137 INFO [pretrained.py:328] \n",
            "./tmp/icefall_asr_tedlium3_transducer_stateless/test_wavs/RichBenjamin_2015W01.wav:\n",
            "choice isn 't it i don 't live there but i did journey on a twenty seven thousand mile trip for two years to the fastest scroing and whiteest counties in america what is a whitopia i define whitopia in three ways first whitopia has posted at least six percent\n",
            "\n",
            "./tmp/icefall_asr_tedlium3_transducer_stateless/test_wavs/RichBenjamin_2015W02.wav:\n",
            "population growth since two thousand secondly the majority of that growth comes from white migrants and third the whitopia has an ineffable charm a pleasant look and feel a genose clas to learn how and why whitopias are ticking i immerse myself for several months apiece in three of them first\n",
            "\n",
            "./tmp/icefall_asr_tedlium3_transducer_stateless/test_wavs/RichBenjamin_2015W03.wav:\n",
            "st george utah second queur d 'lain idaho and third forcife county georgia first stop st george a beautiful town of red rock landscapes in the one thousand eight hundred and fifty 's brigham young dispatched families to st george to grow cotton because of the hot arid climate and so they called it utah 's dixie and the name sticks to this day\n",
            "\n",
            "\n",
            "2023-04-17 14:59:40,137 INFO [pretrained.py:330] Decoding Done\n"
          ]
        }
      ]
    },
    {
      "cell_type": "markdown",
      "source": [
        "## Beam search"
      ],
      "metadata": {
        "id": "G_MA_2MQRJll"
      }
    },
    {
      "cell_type": "code",
      "source": [
        "! cd icefall/egs/tedlium3/ASR && \\\n",
        "    PYTHONPATH=/content/icefall python3 ./transducer_stateless/pretrained.py \\\n",
        "      --method beam_search \\\n",
        "      --beam-size 4 \\\n",
        "      --checkpoint ./tmp/icefall_asr_tedlium3_transducer_stateless/exp/pretrained_average_19_to_29.pt \\\n",
        "      --bpe-model ./tmp/icefall_asr_tedlium3_transducer_stateless/data/lang_bpe_500/bpe.model \\\n",
        "      ./tmp/icefall_asr_tedlium3_transducer_stateless/test_wavs/RichBenjamin_2015W01.wav \\\n",
        "      ./tmp/icefall_asr_tedlium3_transducer_stateless/test_wavs/RichBenjamin_2015W02.wav \\\n",
        "      ./tmp/icefall_asr_tedlium3_transducer_stateless/test_wavs/RichBenjamin_2015W03.wav"
      ],
      "metadata": {
        "colab": {
          "base_uri": "https://localhost:8080/"
        },
        "id": "dDE2Dx1RTCFB",
        "outputId": "f4dc8dc9-5f25-43be-a7da-fec818d7bbde"
      },
      "execution_count": 48,
      "outputs": [
        {
          "output_type": "stream",
          "name": "stdout",
          "text": [
            "2023-04-17 14:59:59,016 INFO [pretrained.py:249] {'sample_rate': 16000, 'feature_dim': 80, 'encoder_out_dim': 512, 'subsampling_factor': 4, 'attention_dim': 512, 'nhead': 8, 'dim_feedforward': 2048, 'num_encoder_layers': 12, 'vgg_frontend': False, 'env_info': {'k2-version': '1.23.4', 'k2-build-type': 'Release', 'k2-with-cuda': True, 'k2-git-sha1': '62e404dd3f3a811d73e424199b3408e309c06e1a', 'k2-git-date': 'Mon Jan 30 02:26:16 2023', 'lhotse-version': '1.13.0', 'torch-version': '1.13.1+cu117', 'torch-cuda-available': True, 'torch-cuda-version': '11.7', 'python-version': '3.9', 'icefall-git-branch': 'master', 'icefall-git-sha1': '8838fe0-clean', 'icefall-git-date': 'Mon Apr 17 09:47:25 2023', 'icefall-path': '/content/icefall', 'k2-path': '/usr/local/lib/python3.9/dist-packages/k2/__init__.py', 'lhotse-path': '/usr/local/lib/python3.9/dist-packages/lhotse/__init__.py', 'hostname': '3f5f2b213a05', 'IP address': '172.28.0.12'}, 'checkpoint': './tmp/icefall_asr_tedlium3_transducer_stateless/exp/pretrained_average_19_to_29.pt', 'bpe_model': './tmp/icefall_asr_tedlium3_transducer_stateless/data/lang_bpe_500/bpe.model', 'method': 'beam_search', 'sound_files': ['./tmp/icefall_asr_tedlium3_transducer_stateless/test_wavs/RichBenjamin_2015W01.wav', './tmp/icefall_asr_tedlium3_transducer_stateless/test_wavs/RichBenjamin_2015W02.wav', './tmp/icefall_asr_tedlium3_transducer_stateless/test_wavs/RichBenjamin_2015W03.wav'], 'beam_size': 4, 'context_size': 2, 'max_sym_per_frame': 3, 'blank_id': 0, 'unk_id': 2, 'vocab_size': 500}\n",
            "2023-04-17 14:59:59,016 INFO [pretrained.py:255] device: cuda:0\n",
            "2023-04-17 14:59:59,016 INFO [pretrained.py:257] Creating model\n",
            "2023-04-17 15:00:02,386 INFO [pretrained.py:266] Constructing Fbank computer\n",
            "2023-04-17 15:00:02,386 INFO [pretrained.py:276] Reading sound files: ['./tmp/icefall_asr_tedlium3_transducer_stateless/test_wavs/RichBenjamin_2015W01.wav', './tmp/icefall_asr_tedlium3_transducer_stateless/test_wavs/RichBenjamin_2015W02.wav', './tmp/icefall_asr_tedlium3_transducer_stateless/test_wavs/RichBenjamin_2015W03.wav']\n",
            "2023-04-17 15:00:02,399 INFO [pretrained.py:282] Decoding started\n",
            "2023-04-17 15:00:03,876 INFO [pretrained.py:300] Using beam_search with beam size 4\n",
            "2023-04-17 15:00:12,391 INFO [pretrained.py:328] \n",
            "./tmp/icefall_asr_tedlium3_transducer_stateless/test_wavs/RichBenjamin_2015W01.wav:\n",
            "choice isn 't it i don 't live there but i did journey on a twenty seven thousand mile trip for two years to the fastest growing and whiteest counties in america what is a whitopia i define whitopia in three ways first whitopia has posted at least six percent\n",
            "\n",
            "./tmp/icefall_asr_tedlium3_transducer_stateless/test_wavs/RichBenjamin_2015W02.wav:\n",
            "population growth since two thousand secondly the majority of that growth comes from white migrants and third the whitopia has an ineffable charm a pleasant look and feel a genociqua to learn how and why whitopias are ticking i immerse myself for several months apiece in three of them first\n",
            "\n",
            "./tmp/icefall_asr_tedlium3_transducer_stateless/test_wavs/RichBenjamin_2015W03.wav:\n",
            "st george utah second coeur dalene idaho and third forcie county georgia first stop st george a beautiful town of red rock landscapes in the 1850s brigham young dispatched families to st george to grow cotton because of the hot arid climate and so they called it utah 's dixie and the name sticks to this day\n",
            "\n",
            "\n",
            "2023-04-17 15:00:12,392 INFO [pretrained.py:330] Decoding Done\n"
          ]
        }
      ]
    },
    {
      "cell_type": "code",
      "source": [
        "! cd icefall/egs/tedlium3/ASR && \\\n",
        "  export CUDA_VISIBLE_DEVICES=\"0,1,2,3\" && \\\n",
        "  python ./transducer_stateless/train.py  && \\\n",
        "  --world-size 4 && \\\n",
        "  --num-epochs 30 \\\n",
        "  --start-epoch 0 \\\n",
        "  --exp-dir transducer_stateless/exp \\\n",
        "  --max-duration 300"
      ],
      "metadata": {
        "id": "GqPEnLs-sINB",
        "outputId": "20028da4-6fa6-49fd-cf61-fdd2327825d8",
        "colab": {
          "base_uri": "https://localhost:8080/"
        }
      },
      "execution_count": 50,
      "outputs": [
        {
          "output_type": "stream",
          "name": "stdout",
          "text": [
            "Traceback (most recent call last):\n",
            "  File \"/content/icefall/egs/tedlium3/ASR/./transducer_stateless/train.py\", line 44, in <module>\n",
            "    from asr_datamodule import TedLiumAsrDataModule\n",
            "  File \"/content/icefall/egs/tedlium3/ASR/transducer_stateless/asr_datamodule.py\", line 37, in <module>\n",
            "    from icefall.utils import str2bool\n",
            "ModuleNotFoundError: No module named 'icefall'\n"
          ]
        }
      ]
    }
  ]
}