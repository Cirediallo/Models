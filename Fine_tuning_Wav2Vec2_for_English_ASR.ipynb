{
  "nbformat": 4,
  "nbformat_minor": 0,
  "metadata": {
    "colab": {
      "name": "Fine-tuning Wav2Vec2 for English ASR",
      "provenance": [],
      "toc_visible": true,
      "machine_shape": "hm",
      "gpuType": "T4",
      "include_colab_link": true
    },
    "kernelspec": {
      "name": "python3",
      "display_name": "Python 3"
    },
    "accelerator": "GPU",
    "widgets": {
      "application/vnd.jupyter.widget-state+json": {
        "a7725ad7a1774178bba1b39b48bee36b": {
          "model_module": "@jupyter-widgets/controls",
          "model_name": "HBoxModel",
          "model_module_version": "1.5.0",
          "state": {
            "_dom_classes": [],
            "_model_module": "@jupyter-widgets/controls",
            "_model_module_version": "1.5.0",
            "_model_name": "HBoxModel",
            "_view_count": null,
            "_view_module": "@jupyter-widgets/controls",
            "_view_module_version": "1.5.0",
            "_view_name": "HBoxView",
            "box_style": "",
            "children": [
              "IPY_MODEL_acc6c975316f4fc9af3f449ccaf71646",
              "IPY_MODEL_2b48e3c58b284b32ae51a3c3afb13d85",
              "IPY_MODEL_7748d6bd4e224b3f836a06b321e72de0"
            ],
            "layout": "IPY_MODEL_b29aab47d701449181b8d8c715b09657"
          }
        },
        "acc6c975316f4fc9af3f449ccaf71646": {
          "model_module": "@jupyter-widgets/controls",
          "model_name": "HTMLModel",
          "model_module_version": "1.5.0",
          "state": {
            "_dom_classes": [],
            "_model_module": "@jupyter-widgets/controls",
            "_model_module_version": "1.5.0",
            "_model_name": "HTMLModel",
            "_view_count": null,
            "_view_module": "@jupyter-widgets/controls",
            "_view_module_version": "1.5.0",
            "_view_name": "HTMLView",
            "description": "",
            "description_tooltip": null,
            "layout": "IPY_MODEL_5cb2c62e3d6f426f8c17eec2fe6e23ae",
            "placeholder": "​",
            "style": "IPY_MODEL_f44a8453ba314ddbb153e1278eb59eec",
            "value": "Upload file pytorch_model.bin: 100%"
          }
        },
        "2b48e3c58b284b32ae51a3c3afb13d85": {
          "model_module": "@jupyter-widgets/controls",
          "model_name": "FloatProgressModel",
          "model_module_version": "1.5.0",
          "state": {
            "_dom_classes": [],
            "_model_module": "@jupyter-widgets/controls",
            "_model_module_version": "1.5.0",
            "_model_name": "FloatProgressModel",
            "_view_count": null,
            "_view_module": "@jupyter-widgets/controls",
            "_view_module_version": "1.5.0",
            "_view_name": "ProgressView",
            "bar_style": "success",
            "description": "",
            "description_tooltip": null,
            "layout": "IPY_MODEL_6ba56300bd3240629256a72060f36fde",
            "max": 377671575,
            "min": 0,
            "orientation": "horizontal",
            "style": "IPY_MODEL_d8f4c2ce266a4a9284572af28ad9ad1c",
            "value": 377671575
          }
        },
        "7748d6bd4e224b3f836a06b321e72de0": {
          "model_module": "@jupyter-widgets/controls",
          "model_name": "HTMLModel",
          "model_module_version": "1.5.0",
          "state": {
            "_dom_classes": [],
            "_model_module": "@jupyter-widgets/controls",
            "_model_module_version": "1.5.0",
            "_model_name": "HTMLModel",
            "_view_count": null,
            "_view_module": "@jupyter-widgets/controls",
            "_view_module_version": "1.5.0",
            "_view_name": "HTMLView",
            "description": "",
            "description_tooltip": null,
            "layout": "IPY_MODEL_4cdbe067372b4c32bc782f966aea7f42",
            "placeholder": "​",
            "style": "IPY_MODEL_afe17562ac7948edab0233eb3804d9cb",
            "value": " 360M/360M [05:26&lt;00:00, 735kB/s]"
          }
        },
        "b29aab47d701449181b8d8c715b09657": {
          "model_module": "@jupyter-widgets/base",
          "model_name": "LayoutModel",
          "model_module_version": "1.2.0",
          "state": {
            "_model_module": "@jupyter-widgets/base",
            "_model_module_version": "1.2.0",
            "_model_name": "LayoutModel",
            "_view_count": null,
            "_view_module": "@jupyter-widgets/base",
            "_view_module_version": "1.2.0",
            "_view_name": "LayoutView",
            "align_content": null,
            "align_items": null,
            "align_self": null,
            "border": null,
            "bottom": null,
            "display": null,
            "flex": null,
            "flex_flow": null,
            "grid_area": null,
            "grid_auto_columns": null,
            "grid_auto_flow": null,
            "grid_auto_rows": null,
            "grid_column": null,
            "grid_gap": null,
            "grid_row": null,
            "grid_template_areas": null,
            "grid_template_columns": null,
            "grid_template_rows": null,
            "height": null,
            "justify_content": null,
            "justify_items": null,
            "left": null,
            "margin": null,
            "max_height": null,
            "max_width": null,
            "min_height": null,
            "min_width": null,
            "object_fit": null,
            "object_position": null,
            "order": null,
            "overflow": null,
            "overflow_x": null,
            "overflow_y": null,
            "padding": null,
            "right": null,
            "top": null,
            "visibility": null,
            "width": null
          }
        },
        "5cb2c62e3d6f426f8c17eec2fe6e23ae": {
          "model_module": "@jupyter-widgets/base",
          "model_name": "LayoutModel",
          "model_module_version": "1.2.0",
          "state": {
            "_model_module": "@jupyter-widgets/base",
            "_model_module_version": "1.2.0",
            "_model_name": "LayoutModel",
            "_view_count": null,
            "_view_module": "@jupyter-widgets/base",
            "_view_module_version": "1.2.0",
            "_view_name": "LayoutView",
            "align_content": null,
            "align_items": null,
            "align_self": null,
            "border": null,
            "bottom": null,
            "display": null,
            "flex": null,
            "flex_flow": null,
            "grid_area": null,
            "grid_auto_columns": null,
            "grid_auto_flow": null,
            "grid_auto_rows": null,
            "grid_column": null,
            "grid_gap": null,
            "grid_row": null,
            "grid_template_areas": null,
            "grid_template_columns": null,
            "grid_template_rows": null,
            "height": null,
            "justify_content": null,
            "justify_items": null,
            "left": null,
            "margin": null,
            "max_height": null,
            "max_width": null,
            "min_height": null,
            "min_width": null,
            "object_fit": null,
            "object_position": null,
            "order": null,
            "overflow": null,
            "overflow_x": null,
            "overflow_y": null,
            "padding": null,
            "right": null,
            "top": null,
            "visibility": null,
            "width": null
          }
        },
        "f44a8453ba314ddbb153e1278eb59eec": {
          "model_module": "@jupyter-widgets/controls",
          "model_name": "DescriptionStyleModel",
          "model_module_version": "1.5.0",
          "state": {
            "_model_module": "@jupyter-widgets/controls",
            "_model_module_version": "1.5.0",
            "_model_name": "DescriptionStyleModel",
            "_view_count": null,
            "_view_module": "@jupyter-widgets/base",
            "_view_module_version": "1.2.0",
            "_view_name": "StyleView",
            "description_width": ""
          }
        },
        "6ba56300bd3240629256a72060f36fde": {
          "model_module": "@jupyter-widgets/base",
          "model_name": "LayoutModel",
          "model_module_version": "1.2.0",
          "state": {
            "_model_module": "@jupyter-widgets/base",
            "_model_module_version": "1.2.0",
            "_model_name": "LayoutModel",
            "_view_count": null,
            "_view_module": "@jupyter-widgets/base",
            "_view_module_version": "1.2.0",
            "_view_name": "LayoutView",
            "align_content": null,
            "align_items": null,
            "align_self": null,
            "border": null,
            "bottom": null,
            "display": null,
            "flex": null,
            "flex_flow": null,
            "grid_area": null,
            "grid_auto_columns": null,
            "grid_auto_flow": null,
            "grid_auto_rows": null,
            "grid_column": null,
            "grid_gap": null,
            "grid_row": null,
            "grid_template_areas": null,
            "grid_template_columns": null,
            "grid_template_rows": null,
            "height": null,
            "justify_content": null,
            "justify_items": null,
            "left": null,
            "margin": null,
            "max_height": null,
            "max_width": null,
            "min_height": null,
            "min_width": null,
            "object_fit": null,
            "object_position": null,
            "order": null,
            "overflow": null,
            "overflow_x": null,
            "overflow_y": null,
            "padding": null,
            "right": null,
            "top": null,
            "visibility": null,
            "width": null
          }
        },
        "d8f4c2ce266a4a9284572af28ad9ad1c": {
          "model_module": "@jupyter-widgets/controls",
          "model_name": "ProgressStyleModel",
          "model_module_version": "1.5.0",
          "state": {
            "_model_module": "@jupyter-widgets/controls",
            "_model_module_version": "1.5.0",
            "_model_name": "ProgressStyleModel",
            "_view_count": null,
            "_view_module": "@jupyter-widgets/base",
            "_view_module_version": "1.2.0",
            "_view_name": "StyleView",
            "bar_color": null,
            "description_width": ""
          }
        },
        "4cdbe067372b4c32bc782f966aea7f42": {
          "model_module": "@jupyter-widgets/base",
          "model_name": "LayoutModel",
          "model_module_version": "1.2.0",
          "state": {
            "_model_module": "@jupyter-widgets/base",
            "_model_module_version": "1.2.0",
            "_model_name": "LayoutModel",
            "_view_count": null,
            "_view_module": "@jupyter-widgets/base",
            "_view_module_version": "1.2.0",
            "_view_name": "LayoutView",
            "align_content": null,
            "align_items": null,
            "align_self": null,
            "border": null,
            "bottom": null,
            "display": null,
            "flex": null,
            "flex_flow": null,
            "grid_area": null,
            "grid_auto_columns": null,
            "grid_auto_flow": null,
            "grid_auto_rows": null,
            "grid_column": null,
            "grid_gap": null,
            "grid_row": null,
            "grid_template_areas": null,
            "grid_template_columns": null,
            "grid_template_rows": null,
            "height": null,
            "justify_content": null,
            "justify_items": null,
            "left": null,
            "margin": null,
            "max_height": null,
            "max_width": null,
            "min_height": null,
            "min_width": null,
            "object_fit": null,
            "object_position": null,
            "order": null,
            "overflow": null,
            "overflow_x": null,
            "overflow_y": null,
            "padding": null,
            "right": null,
            "top": null,
            "visibility": null,
            "width": null
          }
        },
        "afe17562ac7948edab0233eb3804d9cb": {
          "model_module": "@jupyter-widgets/controls",
          "model_name": "DescriptionStyleModel",
          "model_module_version": "1.5.0",
          "state": {
            "_model_module": "@jupyter-widgets/controls",
            "_model_module_version": "1.5.0",
            "_model_name": "DescriptionStyleModel",
            "_view_count": null,
            "_view_module": "@jupyter-widgets/base",
            "_view_module_version": "1.2.0",
            "_view_name": "StyleView",
            "description_width": ""
          }
        },
        "00a02ff8b284413f853da9d7c41afedd": {
          "model_module": "@jupyter-widgets/controls",
          "model_name": "HBoxModel",
          "model_module_version": "1.5.0",
          "state": {
            "_dom_classes": [],
            "_model_module": "@jupyter-widgets/controls",
            "_model_module_version": "1.5.0",
            "_model_name": "HBoxModel",
            "_view_count": null,
            "_view_module": "@jupyter-widgets/controls",
            "_view_module_version": "1.5.0",
            "_view_name": "HBoxView",
            "box_style": "",
            "children": [
              "IPY_MODEL_73b586087e9447e688c97318bf6eba11",
              "IPY_MODEL_6ba8f8fde3fc4050a304df11cc1d2c7c",
              "IPY_MODEL_0ceb294ca03a4bf2ae5586ffbbb6f0fc"
            ],
            "layout": "IPY_MODEL_ffa2bd3495f54f1c81f15ebf50fd4fee"
          }
        },
        "73b586087e9447e688c97318bf6eba11": {
          "model_module": "@jupyter-widgets/controls",
          "model_name": "HTMLModel",
          "model_module_version": "1.5.0",
          "state": {
            "_dom_classes": [],
            "_model_module": "@jupyter-widgets/controls",
            "_model_module_version": "1.5.0",
            "_model_name": "HTMLModel",
            "_view_count": null,
            "_view_module": "@jupyter-widgets/controls",
            "_view_module_version": "1.5.0",
            "_view_name": "HTMLView",
            "description": "",
            "description_tooltip": null,
            "layout": "IPY_MODEL_e53ec4e8ee3d44bb8b3bdcf323335c8a",
            "placeholder": "​",
            "style": "IPY_MODEL_ceef78fab0024c578976ad6c589c0d7f",
            "value": "Upload file runs/May10_11-02-51_d58de38fbf77/1652180636.6085317/events.out.tfevents.1652180636.d58de38fbf77.96.3: 100%"
          }
        },
        "6ba8f8fde3fc4050a304df11cc1d2c7c": {
          "model_module": "@jupyter-widgets/controls",
          "model_name": "FloatProgressModel",
          "model_module_version": "1.5.0",
          "state": {
            "_dom_classes": [],
            "_model_module": "@jupyter-widgets/controls",
            "_model_module_version": "1.5.0",
            "_model_name": "FloatProgressModel",
            "_view_count": null,
            "_view_module": "@jupyter-widgets/controls",
            "_view_module_version": "1.5.0",
            "_view_name": "ProgressView",
            "bar_style": "success",
            "description": "",
            "description_tooltip": null,
            "layout": "IPY_MODEL_35a9027e670146f3a25db0d06035fd1b",
            "max": 4825,
            "min": 0,
            "orientation": "horizontal",
            "style": "IPY_MODEL_0cd65792216b4decaf24961bb33802d0",
            "value": 4825
          }
        },
        "0ceb294ca03a4bf2ae5586ffbbb6f0fc": {
          "model_module": "@jupyter-widgets/controls",
          "model_name": "HTMLModel",
          "model_module_version": "1.5.0",
          "state": {
            "_dom_classes": [],
            "_model_module": "@jupyter-widgets/controls",
            "_model_module_version": "1.5.0",
            "_model_name": "HTMLModel",
            "_view_count": null,
            "_view_module": "@jupyter-widgets/controls",
            "_view_module_version": "1.5.0",
            "_view_name": "HTMLView",
            "description": "",
            "description_tooltip": null,
            "layout": "IPY_MODEL_968f456d45ab4f25aeaf57b0c0ddc190",
            "placeholder": "​",
            "style": "IPY_MODEL_92ae2ab85efc40fa89da650ccbe85e21",
            "value": " 4.71k/4.71k [05:26&lt;00:00, 13.9kB/s]"
          }
        },
        "ffa2bd3495f54f1c81f15ebf50fd4fee": {
          "model_module": "@jupyter-widgets/base",
          "model_name": "LayoutModel",
          "model_module_version": "1.2.0",
          "state": {
            "_model_module": "@jupyter-widgets/base",
            "_model_module_version": "1.2.0",
            "_model_name": "LayoutModel",
            "_view_count": null,
            "_view_module": "@jupyter-widgets/base",
            "_view_module_version": "1.2.0",
            "_view_name": "LayoutView",
            "align_content": null,
            "align_items": null,
            "align_self": null,
            "border": null,
            "bottom": null,
            "display": null,
            "flex": null,
            "flex_flow": null,
            "grid_area": null,
            "grid_auto_columns": null,
            "grid_auto_flow": null,
            "grid_auto_rows": null,
            "grid_column": null,
            "grid_gap": null,
            "grid_row": null,
            "grid_template_areas": null,
            "grid_template_columns": null,
            "grid_template_rows": null,
            "height": null,
            "justify_content": null,
            "justify_items": null,
            "left": null,
            "margin": null,
            "max_height": null,
            "max_width": null,
            "min_height": null,
            "min_width": null,
            "object_fit": null,
            "object_position": null,
            "order": null,
            "overflow": null,
            "overflow_x": null,
            "overflow_y": null,
            "padding": null,
            "right": null,
            "top": null,
            "visibility": null,
            "width": null
          }
        },
        "e53ec4e8ee3d44bb8b3bdcf323335c8a": {
          "model_module": "@jupyter-widgets/base",
          "model_name": "LayoutModel",
          "model_module_version": "1.2.0",
          "state": {
            "_model_module": "@jupyter-widgets/base",
            "_model_module_version": "1.2.0",
            "_model_name": "LayoutModel",
            "_view_count": null,
            "_view_module": "@jupyter-widgets/base",
            "_view_module_version": "1.2.0",
            "_view_name": "LayoutView",
            "align_content": null,
            "align_items": null,
            "align_self": null,
            "border": null,
            "bottom": null,
            "display": null,
            "flex": null,
            "flex_flow": null,
            "grid_area": null,
            "grid_auto_columns": null,
            "grid_auto_flow": null,
            "grid_auto_rows": null,
            "grid_column": null,
            "grid_gap": null,
            "grid_row": null,
            "grid_template_areas": null,
            "grid_template_columns": null,
            "grid_template_rows": null,
            "height": null,
            "justify_content": null,
            "justify_items": null,
            "left": null,
            "margin": null,
            "max_height": null,
            "max_width": null,
            "min_height": null,
            "min_width": null,
            "object_fit": null,
            "object_position": null,
            "order": null,
            "overflow": null,
            "overflow_x": null,
            "overflow_y": null,
            "padding": null,
            "right": null,
            "top": null,
            "visibility": null,
            "width": null
          }
        },
        "ceef78fab0024c578976ad6c589c0d7f": {
          "model_module": "@jupyter-widgets/controls",
          "model_name": "DescriptionStyleModel",
          "model_module_version": "1.5.0",
          "state": {
            "_model_module": "@jupyter-widgets/controls",
            "_model_module_version": "1.5.0",
            "_model_name": "DescriptionStyleModel",
            "_view_count": null,
            "_view_module": "@jupyter-widgets/base",
            "_view_module_version": "1.2.0",
            "_view_name": "StyleView",
            "description_width": ""
          }
        },
        "35a9027e670146f3a25db0d06035fd1b": {
          "model_module": "@jupyter-widgets/base",
          "model_name": "LayoutModel",
          "model_module_version": "1.2.0",
          "state": {
            "_model_module": "@jupyter-widgets/base",
            "_model_module_version": "1.2.0",
            "_model_name": "LayoutModel",
            "_view_count": null,
            "_view_module": "@jupyter-widgets/base",
            "_view_module_version": "1.2.0",
            "_view_name": "LayoutView",
            "align_content": null,
            "align_items": null,
            "align_self": null,
            "border": null,
            "bottom": null,
            "display": null,
            "flex": null,
            "flex_flow": null,
            "grid_area": null,
            "grid_auto_columns": null,
            "grid_auto_flow": null,
            "grid_auto_rows": null,
            "grid_column": null,
            "grid_gap": null,
            "grid_row": null,
            "grid_template_areas": null,
            "grid_template_columns": null,
            "grid_template_rows": null,
            "height": null,
            "justify_content": null,
            "justify_items": null,
            "left": null,
            "margin": null,
            "max_height": null,
            "max_width": null,
            "min_height": null,
            "min_width": null,
            "object_fit": null,
            "object_position": null,
            "order": null,
            "overflow": null,
            "overflow_x": null,
            "overflow_y": null,
            "padding": null,
            "right": null,
            "top": null,
            "visibility": null,
            "width": null
          }
        },
        "0cd65792216b4decaf24961bb33802d0": {
          "model_module": "@jupyter-widgets/controls",
          "model_name": "ProgressStyleModel",
          "model_module_version": "1.5.0",
          "state": {
            "_model_module": "@jupyter-widgets/controls",
            "_model_module_version": "1.5.0",
            "_model_name": "ProgressStyleModel",
            "_view_count": null,
            "_view_module": "@jupyter-widgets/base",
            "_view_module_version": "1.2.0",
            "_view_name": "StyleView",
            "bar_color": null,
            "description_width": ""
          }
        },
        "968f456d45ab4f25aeaf57b0c0ddc190": {
          "model_module": "@jupyter-widgets/base",
          "model_name": "LayoutModel",
          "model_module_version": "1.2.0",
          "state": {
            "_model_module": "@jupyter-widgets/base",
            "_model_module_version": "1.2.0",
            "_model_name": "LayoutModel",
            "_view_count": null,
            "_view_module": "@jupyter-widgets/base",
            "_view_module_version": "1.2.0",
            "_view_name": "LayoutView",
            "align_content": null,
            "align_items": null,
            "align_self": null,
            "border": null,
            "bottom": null,
            "display": null,
            "flex": null,
            "flex_flow": null,
            "grid_area": null,
            "grid_auto_columns": null,
            "grid_auto_flow": null,
            "grid_auto_rows": null,
            "grid_column": null,
            "grid_gap": null,
            "grid_row": null,
            "grid_template_areas": null,
            "grid_template_columns": null,
            "grid_template_rows": null,
            "height": null,
            "justify_content": null,
            "justify_items": null,
            "left": null,
            "margin": null,
            "max_height": null,
            "max_width": null,
            "min_height": null,
            "min_width": null,
            "object_fit": null,
            "object_position": null,
            "order": null,
            "overflow": null,
            "overflow_x": null,
            "overflow_y": null,
            "padding": null,
            "right": null,
            "top": null,
            "visibility": null,
            "width": null
          }
        },
        "92ae2ab85efc40fa89da650ccbe85e21": {
          "model_module": "@jupyter-widgets/controls",
          "model_name": "DescriptionStyleModel",
          "model_module_version": "1.5.0",
          "state": {
            "_model_module": "@jupyter-widgets/controls",
            "_model_module_version": "1.5.0",
            "_model_name": "DescriptionStyleModel",
            "_view_count": null,
            "_view_module": "@jupyter-widgets/base",
            "_view_module_version": "1.2.0",
            "_view_name": "StyleView",
            "description_width": ""
          }
        },
        "e1a34af59be04546808279b6e673c498": {
          "model_module": "@jupyter-widgets/controls",
          "model_name": "HBoxModel",
          "model_module_version": "1.5.0",
          "state": {
            "_dom_classes": [],
            "_model_module": "@jupyter-widgets/controls",
            "_model_module_version": "1.5.0",
            "_model_name": "HBoxModel",
            "_view_count": null,
            "_view_module": "@jupyter-widgets/controls",
            "_view_module_version": "1.5.0",
            "_view_name": "HBoxView",
            "box_style": "",
            "children": [
              "IPY_MODEL_91a9bd637428473192d5ec47ba137268",
              "IPY_MODEL_f11e33bc060746758ad638204b71955c",
              "IPY_MODEL_ef69985b8f7c4662912a11a377e99b59"
            ],
            "layout": "IPY_MODEL_9721f00cdfc942e8ab8a4faf8080ef2d"
          }
        },
        "91a9bd637428473192d5ec47ba137268": {
          "model_module": "@jupyter-widgets/controls",
          "model_name": "HTMLModel",
          "model_module_version": "1.5.0",
          "state": {
            "_dom_classes": [],
            "_model_module": "@jupyter-widgets/controls",
            "_model_module_version": "1.5.0",
            "_model_name": "HTMLModel",
            "_view_count": null,
            "_view_module": "@jupyter-widgets/controls",
            "_view_module_version": "1.5.0",
            "_view_name": "HTMLView",
            "description": "",
            "description_tooltip": null,
            "layout": "IPY_MODEL_196c66080f944a61a537a0ddd9905248",
            "placeholder": "​",
            "style": "IPY_MODEL_e7d54319900548208c3852623ebc3dcf",
            "value": "Upload file training_args.bin: 100%"
          }
        },
        "f11e33bc060746758ad638204b71955c": {
          "model_module": "@jupyter-widgets/controls",
          "model_name": "FloatProgressModel",
          "model_module_version": "1.5.0",
          "state": {
            "_dom_classes": [],
            "_model_module": "@jupyter-widgets/controls",
            "_model_module_version": "1.5.0",
            "_model_name": "FloatProgressModel",
            "_view_count": null,
            "_view_module": "@jupyter-widgets/controls",
            "_view_module_version": "1.5.0",
            "_view_name": "ProgressView",
            "bar_style": "success",
            "description": "",
            "description_tooltip": null,
            "layout": "IPY_MODEL_adbd04cd03624b66a8c725f9a89647b6",
            "max": 3055,
            "min": 0,
            "orientation": "horizontal",
            "style": "IPY_MODEL_200b5fada23d45ff947953003d052605",
            "value": 3055
          }
        },
        "ef69985b8f7c4662912a11a377e99b59": {
          "model_module": "@jupyter-widgets/controls",
          "model_name": "HTMLModel",
          "model_module_version": "1.5.0",
          "state": {
            "_dom_classes": [],
            "_model_module": "@jupyter-widgets/controls",
            "_model_module_version": "1.5.0",
            "_model_name": "HTMLModel",
            "_view_count": null,
            "_view_module": "@jupyter-widgets/controls",
            "_view_module_version": "1.5.0",
            "_view_name": "HTMLView",
            "description": "",
            "description_tooltip": null,
            "layout": "IPY_MODEL_8c89f99cd7b9408eafbfbf8e0c56d39c",
            "placeholder": "​",
            "style": "IPY_MODEL_a40561b6f013481ba77fa137ab43b1c2",
            "value": " 2.98k/2.98k [05:26&lt;?, ?B/s]"
          }
        },
        "9721f00cdfc942e8ab8a4faf8080ef2d": {
          "model_module": "@jupyter-widgets/base",
          "model_name": "LayoutModel",
          "model_module_version": "1.2.0",
          "state": {
            "_model_module": "@jupyter-widgets/base",
            "_model_module_version": "1.2.0",
            "_model_name": "LayoutModel",
            "_view_count": null,
            "_view_module": "@jupyter-widgets/base",
            "_view_module_version": "1.2.0",
            "_view_name": "LayoutView",
            "align_content": null,
            "align_items": null,
            "align_self": null,
            "border": null,
            "bottom": null,
            "display": null,
            "flex": null,
            "flex_flow": null,
            "grid_area": null,
            "grid_auto_columns": null,
            "grid_auto_flow": null,
            "grid_auto_rows": null,
            "grid_column": null,
            "grid_gap": null,
            "grid_row": null,
            "grid_template_areas": null,
            "grid_template_columns": null,
            "grid_template_rows": null,
            "height": null,
            "justify_content": null,
            "justify_items": null,
            "left": null,
            "margin": null,
            "max_height": null,
            "max_width": null,
            "min_height": null,
            "min_width": null,
            "object_fit": null,
            "object_position": null,
            "order": null,
            "overflow": null,
            "overflow_x": null,
            "overflow_y": null,
            "padding": null,
            "right": null,
            "top": null,
            "visibility": null,
            "width": null
          }
        },
        "196c66080f944a61a537a0ddd9905248": {
          "model_module": "@jupyter-widgets/base",
          "model_name": "LayoutModel",
          "model_module_version": "1.2.0",
          "state": {
            "_model_module": "@jupyter-widgets/base",
            "_model_module_version": "1.2.0",
            "_model_name": "LayoutModel",
            "_view_count": null,
            "_view_module": "@jupyter-widgets/base",
            "_view_module_version": "1.2.0",
            "_view_name": "LayoutView",
            "align_content": null,
            "align_items": null,
            "align_self": null,
            "border": null,
            "bottom": null,
            "display": null,
            "flex": null,
            "flex_flow": null,
            "grid_area": null,
            "grid_auto_columns": null,
            "grid_auto_flow": null,
            "grid_auto_rows": null,
            "grid_column": null,
            "grid_gap": null,
            "grid_row": null,
            "grid_template_areas": null,
            "grid_template_columns": null,
            "grid_template_rows": null,
            "height": null,
            "justify_content": null,
            "justify_items": null,
            "left": null,
            "margin": null,
            "max_height": null,
            "max_width": null,
            "min_height": null,
            "min_width": null,
            "object_fit": null,
            "object_position": null,
            "order": null,
            "overflow": null,
            "overflow_x": null,
            "overflow_y": null,
            "padding": null,
            "right": null,
            "top": null,
            "visibility": null,
            "width": null
          }
        },
        "e7d54319900548208c3852623ebc3dcf": {
          "model_module": "@jupyter-widgets/controls",
          "model_name": "DescriptionStyleModel",
          "model_module_version": "1.5.0",
          "state": {
            "_model_module": "@jupyter-widgets/controls",
            "_model_module_version": "1.5.0",
            "_model_name": "DescriptionStyleModel",
            "_view_count": null,
            "_view_module": "@jupyter-widgets/base",
            "_view_module_version": "1.2.0",
            "_view_name": "StyleView",
            "description_width": ""
          }
        },
        "adbd04cd03624b66a8c725f9a89647b6": {
          "model_module": "@jupyter-widgets/base",
          "model_name": "LayoutModel",
          "model_module_version": "1.2.0",
          "state": {
            "_model_module": "@jupyter-widgets/base",
            "_model_module_version": "1.2.0",
            "_model_name": "LayoutModel",
            "_view_count": null,
            "_view_module": "@jupyter-widgets/base",
            "_view_module_version": "1.2.0",
            "_view_name": "LayoutView",
            "align_content": null,
            "align_items": null,
            "align_self": null,
            "border": null,
            "bottom": null,
            "display": null,
            "flex": null,
            "flex_flow": null,
            "grid_area": null,
            "grid_auto_columns": null,
            "grid_auto_flow": null,
            "grid_auto_rows": null,
            "grid_column": null,
            "grid_gap": null,
            "grid_row": null,
            "grid_template_areas": null,
            "grid_template_columns": null,
            "grid_template_rows": null,
            "height": null,
            "justify_content": null,
            "justify_items": null,
            "left": null,
            "margin": null,
            "max_height": null,
            "max_width": null,
            "min_height": null,
            "min_width": null,
            "object_fit": null,
            "object_position": null,
            "order": null,
            "overflow": null,
            "overflow_x": null,
            "overflow_y": null,
            "padding": null,
            "right": null,
            "top": null,
            "visibility": null,
            "width": null
          }
        },
        "200b5fada23d45ff947953003d052605": {
          "model_module": "@jupyter-widgets/controls",
          "model_name": "ProgressStyleModel",
          "model_module_version": "1.5.0",
          "state": {
            "_model_module": "@jupyter-widgets/controls",
            "_model_module_version": "1.5.0",
            "_model_name": "ProgressStyleModel",
            "_view_count": null,
            "_view_module": "@jupyter-widgets/base",
            "_view_module_version": "1.2.0",
            "_view_name": "StyleView",
            "bar_color": null,
            "description_width": ""
          }
        },
        "8c89f99cd7b9408eafbfbf8e0c56d39c": {
          "model_module": "@jupyter-widgets/base",
          "model_name": "LayoutModel",
          "model_module_version": "1.2.0",
          "state": {
            "_model_module": "@jupyter-widgets/base",
            "_model_module_version": "1.2.0",
            "_model_name": "LayoutModel",
            "_view_count": null,
            "_view_module": "@jupyter-widgets/base",
            "_view_module_version": "1.2.0",
            "_view_name": "LayoutView",
            "align_content": null,
            "align_items": null,
            "align_self": null,
            "border": null,
            "bottom": null,
            "display": null,
            "flex": null,
            "flex_flow": null,
            "grid_area": null,
            "grid_auto_columns": null,
            "grid_auto_flow": null,
            "grid_auto_rows": null,
            "grid_column": null,
            "grid_gap": null,
            "grid_row": null,
            "grid_template_areas": null,
            "grid_template_columns": null,
            "grid_template_rows": null,
            "height": null,
            "justify_content": null,
            "justify_items": null,
            "left": null,
            "margin": null,
            "max_height": null,
            "max_width": null,
            "min_height": null,
            "min_width": null,
            "object_fit": null,
            "object_position": null,
            "order": null,
            "overflow": null,
            "overflow_x": null,
            "overflow_y": null,
            "padding": null,
            "right": null,
            "top": null,
            "visibility": null,
            "width": null
          }
        },
        "a40561b6f013481ba77fa137ab43b1c2": {
          "model_module": "@jupyter-widgets/controls",
          "model_name": "DescriptionStyleModel",
          "model_module_version": "1.5.0",
          "state": {
            "_model_module": "@jupyter-widgets/controls",
            "_model_module_version": "1.5.0",
            "_model_name": "DescriptionStyleModel",
            "_view_count": null,
            "_view_module": "@jupyter-widgets/base",
            "_view_module_version": "1.2.0",
            "_view_name": "StyleView",
            "description_width": ""
          }
        },
        "63ee5e2413434249bd47a8d662ec0da6": {
          "model_module": "@jupyter-widgets/controls",
          "model_name": "HBoxModel",
          "model_module_version": "1.5.0",
          "state": {
            "_dom_classes": [],
            "_model_module": "@jupyter-widgets/controls",
            "_model_module_version": "1.5.0",
            "_model_name": "HBoxModel",
            "_view_count": null,
            "_view_module": "@jupyter-widgets/controls",
            "_view_module_version": "1.5.0",
            "_view_name": "HBoxView",
            "box_style": "",
            "children": [
              "IPY_MODEL_d10215d60b9f471ab681a948ad143159",
              "IPY_MODEL_bcb33e49c5ab412eb5b8cd823cf06706",
              "IPY_MODEL_f23b78d30ff040f481b5584a83083b39"
            ],
            "layout": "IPY_MODEL_fe39df4b5e9d41f6a0233bafb4522dd4"
          }
        },
        "d10215d60b9f471ab681a948ad143159": {
          "model_module": "@jupyter-widgets/controls",
          "model_name": "HTMLModel",
          "model_module_version": "1.5.0",
          "state": {
            "_dom_classes": [],
            "_model_module": "@jupyter-widgets/controls",
            "_model_module_version": "1.5.0",
            "_model_name": "HTMLModel",
            "_view_count": null,
            "_view_module": "@jupyter-widgets/controls",
            "_view_module_version": "1.5.0",
            "_view_name": "HTMLView",
            "description": "",
            "description_tooltip": null,
            "layout": "IPY_MODEL_6cac8e9fcefd4353a76244f89ff459e1",
            "placeholder": "​",
            "style": "IPY_MODEL_4f70c2c356074adf9aa7c1fb6b20f8e3",
            "value": "Upload file runs/May10_11-02-51_d58de38fbf77/events.out.tfevents.1652180636.d58de38fbf77.96.2: 100%"
          }
        },
        "bcb33e49c5ab412eb5b8cd823cf06706": {
          "model_module": "@jupyter-widgets/controls",
          "model_name": "FloatProgressModel",
          "model_module_version": "1.5.0",
          "state": {
            "_dom_classes": [],
            "_model_module": "@jupyter-widgets/controls",
            "_model_module_version": "1.5.0",
            "_model_name": "FloatProgressModel",
            "_view_count": null,
            "_view_module": "@jupyter-widgets/controls",
            "_view_module_version": "1.5.0",
            "_view_name": "ProgressView",
            "bar_style": "success",
            "description": "",
            "description_tooltip": null,
            "layout": "IPY_MODEL_4cc884973b734098a135619736b5f599",
            "max": 19164,
            "min": 0,
            "orientation": "horizontal",
            "style": "IPY_MODEL_fd72ea27c82843ceb5fdb74886fc5b44",
            "value": 19164
          }
        },
        "f23b78d30ff040f481b5584a83083b39": {
          "model_module": "@jupyter-widgets/controls",
          "model_name": "HTMLModel",
          "model_module_version": "1.5.0",
          "state": {
            "_dom_classes": [],
            "_model_module": "@jupyter-widgets/controls",
            "_model_module_version": "1.5.0",
            "_model_name": "HTMLModel",
            "_view_count": null,
            "_view_module": "@jupyter-widgets/controls",
            "_view_module_version": "1.5.0",
            "_view_name": "HTMLView",
            "description": "",
            "description_tooltip": null,
            "layout": "IPY_MODEL_28b1ff0d507e40fb84e4083537207de4",
            "placeholder": "​",
            "style": "IPY_MODEL_bf2896c4b25147f0a303c748fa2b0cd9",
            "value": " 18.7k/18.7k [05:26&lt;00:00, 48.2B/s]"
          }
        },
        "fe39df4b5e9d41f6a0233bafb4522dd4": {
          "model_module": "@jupyter-widgets/base",
          "model_name": "LayoutModel",
          "model_module_version": "1.2.0",
          "state": {
            "_model_module": "@jupyter-widgets/base",
            "_model_module_version": "1.2.0",
            "_model_name": "LayoutModel",
            "_view_count": null,
            "_view_module": "@jupyter-widgets/base",
            "_view_module_version": "1.2.0",
            "_view_name": "LayoutView",
            "align_content": null,
            "align_items": null,
            "align_self": null,
            "border": null,
            "bottom": null,
            "display": null,
            "flex": null,
            "flex_flow": null,
            "grid_area": null,
            "grid_auto_columns": null,
            "grid_auto_flow": null,
            "grid_auto_rows": null,
            "grid_column": null,
            "grid_gap": null,
            "grid_row": null,
            "grid_template_areas": null,
            "grid_template_columns": null,
            "grid_template_rows": null,
            "height": null,
            "justify_content": null,
            "justify_items": null,
            "left": null,
            "margin": null,
            "max_height": null,
            "max_width": null,
            "min_height": null,
            "min_width": null,
            "object_fit": null,
            "object_position": null,
            "order": null,
            "overflow": null,
            "overflow_x": null,
            "overflow_y": null,
            "padding": null,
            "right": null,
            "top": null,
            "visibility": null,
            "width": null
          }
        },
        "6cac8e9fcefd4353a76244f89ff459e1": {
          "model_module": "@jupyter-widgets/base",
          "model_name": "LayoutModel",
          "model_module_version": "1.2.0",
          "state": {
            "_model_module": "@jupyter-widgets/base",
            "_model_module_version": "1.2.0",
            "_model_name": "LayoutModel",
            "_view_count": null,
            "_view_module": "@jupyter-widgets/base",
            "_view_module_version": "1.2.0",
            "_view_name": "LayoutView",
            "align_content": null,
            "align_items": null,
            "align_self": null,
            "border": null,
            "bottom": null,
            "display": null,
            "flex": null,
            "flex_flow": null,
            "grid_area": null,
            "grid_auto_columns": null,
            "grid_auto_flow": null,
            "grid_auto_rows": null,
            "grid_column": null,
            "grid_gap": null,
            "grid_row": null,
            "grid_template_areas": null,
            "grid_template_columns": null,
            "grid_template_rows": null,
            "height": null,
            "justify_content": null,
            "justify_items": null,
            "left": null,
            "margin": null,
            "max_height": null,
            "max_width": null,
            "min_height": null,
            "min_width": null,
            "object_fit": null,
            "object_position": null,
            "order": null,
            "overflow": null,
            "overflow_x": null,
            "overflow_y": null,
            "padding": null,
            "right": null,
            "top": null,
            "visibility": null,
            "width": null
          }
        },
        "4f70c2c356074adf9aa7c1fb6b20f8e3": {
          "model_module": "@jupyter-widgets/controls",
          "model_name": "DescriptionStyleModel",
          "model_module_version": "1.5.0",
          "state": {
            "_model_module": "@jupyter-widgets/controls",
            "_model_module_version": "1.5.0",
            "_model_name": "DescriptionStyleModel",
            "_view_count": null,
            "_view_module": "@jupyter-widgets/base",
            "_view_module_version": "1.2.0",
            "_view_name": "StyleView",
            "description_width": ""
          }
        },
        "4cc884973b734098a135619736b5f599": {
          "model_module": "@jupyter-widgets/base",
          "model_name": "LayoutModel",
          "model_module_version": "1.2.0",
          "state": {
            "_model_module": "@jupyter-widgets/base",
            "_model_module_version": "1.2.0",
            "_model_name": "LayoutModel",
            "_view_count": null,
            "_view_module": "@jupyter-widgets/base",
            "_view_module_version": "1.2.0",
            "_view_name": "LayoutView",
            "align_content": null,
            "align_items": null,
            "align_self": null,
            "border": null,
            "bottom": null,
            "display": null,
            "flex": null,
            "flex_flow": null,
            "grid_area": null,
            "grid_auto_columns": null,
            "grid_auto_flow": null,
            "grid_auto_rows": null,
            "grid_column": null,
            "grid_gap": null,
            "grid_row": null,
            "grid_template_areas": null,
            "grid_template_columns": null,
            "grid_template_rows": null,
            "height": null,
            "justify_content": null,
            "justify_items": null,
            "left": null,
            "margin": null,
            "max_height": null,
            "max_width": null,
            "min_height": null,
            "min_width": null,
            "object_fit": null,
            "object_position": null,
            "order": null,
            "overflow": null,
            "overflow_x": null,
            "overflow_y": null,
            "padding": null,
            "right": null,
            "top": null,
            "visibility": null,
            "width": null
          }
        },
        "fd72ea27c82843ceb5fdb74886fc5b44": {
          "model_module": "@jupyter-widgets/controls",
          "model_name": "ProgressStyleModel",
          "model_module_version": "1.5.0",
          "state": {
            "_model_module": "@jupyter-widgets/controls",
            "_model_module_version": "1.5.0",
            "_model_name": "ProgressStyleModel",
            "_view_count": null,
            "_view_module": "@jupyter-widgets/base",
            "_view_module_version": "1.2.0",
            "_view_name": "StyleView",
            "bar_color": null,
            "description_width": ""
          }
        },
        "28b1ff0d507e40fb84e4083537207de4": {
          "model_module": "@jupyter-widgets/base",
          "model_name": "LayoutModel",
          "model_module_version": "1.2.0",
          "state": {
            "_model_module": "@jupyter-widgets/base",
            "_model_module_version": "1.2.0",
            "_model_name": "LayoutModel",
            "_view_count": null,
            "_view_module": "@jupyter-widgets/base",
            "_view_module_version": "1.2.0",
            "_view_name": "LayoutView",
            "align_content": null,
            "align_items": null,
            "align_self": null,
            "border": null,
            "bottom": null,
            "display": null,
            "flex": null,
            "flex_flow": null,
            "grid_area": null,
            "grid_auto_columns": null,
            "grid_auto_flow": null,
            "grid_auto_rows": null,
            "grid_column": null,
            "grid_gap": null,
            "grid_row": null,
            "grid_template_areas": null,
            "grid_template_columns": null,
            "grid_template_rows": null,
            "height": null,
            "justify_content": null,
            "justify_items": null,
            "left": null,
            "margin": null,
            "max_height": null,
            "max_width": null,
            "min_height": null,
            "min_width": null,
            "object_fit": null,
            "object_position": null,
            "order": null,
            "overflow": null,
            "overflow_x": null,
            "overflow_y": null,
            "padding": null,
            "right": null,
            "top": null,
            "visibility": null,
            "width": null
          }
        },
        "bf2896c4b25147f0a303c748fa2b0cd9": {
          "model_module": "@jupyter-widgets/controls",
          "model_name": "DescriptionStyleModel",
          "model_module_version": "1.5.0",
          "state": {
            "_model_module": "@jupyter-widgets/controls",
            "_model_module_version": "1.5.0",
            "_model_name": "DescriptionStyleModel",
            "_view_count": null,
            "_view_module": "@jupyter-widgets/base",
            "_view_module_version": "1.2.0",
            "_view_name": "StyleView",
            "description_width": ""
          }
        },
        "8fbdb230253a4152be95bf6229049f09": {
          "model_module": "@jupyter-widgets/controls",
          "model_name": "HBoxModel",
          "model_module_version": "1.5.0",
          "state": {
            "_dom_classes": [],
            "_model_module": "@jupyter-widgets/controls",
            "_model_module_version": "1.5.0",
            "_model_name": "HBoxModel",
            "_view_count": null,
            "_view_module": "@jupyter-widgets/controls",
            "_view_module_version": "1.5.0",
            "_view_name": "HBoxView",
            "box_style": "",
            "children": [
              "IPY_MODEL_857f0c099d8549e98991a93c791db4c1",
              "IPY_MODEL_16561789e2b9417a80ddcb6ef9d8676a",
              "IPY_MODEL_050c9d6bfd1e4b6ebe67401183a8d397"
            ],
            "layout": "IPY_MODEL_5874591082f944ff9b32202a1edbfd60"
          }
        },
        "857f0c099d8549e98991a93c791db4c1": {
          "model_module": "@jupyter-widgets/controls",
          "model_name": "HTMLModel",
          "model_module_version": "1.5.0",
          "state": {
            "_dom_classes": [],
            "_model_module": "@jupyter-widgets/controls",
            "_model_module_version": "1.5.0",
            "_model_name": "HTMLModel",
            "_view_count": null,
            "_view_module": "@jupyter-widgets/controls",
            "_view_module_version": "1.5.0",
            "_view_name": "HTMLView",
            "description": "",
            "description_tooltip": null,
            "layout": "IPY_MODEL_8c968b160d3d4fbb998840734f9f07e4",
            "placeholder": "​",
            "style": "IPY_MODEL_d2fd7c9e56b1419f9d23a10c260a7c7d",
            "value": ""
          }
        },
        "16561789e2b9417a80ddcb6ef9d8676a": {
          "model_module": "@jupyter-widgets/controls",
          "model_name": "FloatProgressModel",
          "model_module_version": "1.5.0",
          "state": {
            "_dom_classes": [],
            "_model_module": "@jupyter-widgets/controls",
            "_model_module_version": "1.5.0",
            "_model_name": "FloatProgressModel",
            "_view_count": null,
            "_view_module": "@jupyter-widgets/controls",
            "_view_module_version": "1.5.0",
            "_view_name": "ProgressView",
            "bar_style": "success",
            "description": "",
            "description_tooltip": null,
            "layout": "IPY_MODEL_4a03fb6d945f4102bc4f7192195d810d",
            "max": 1,
            "min": 0,
            "orientation": "horizontal",
            "style": "IPY_MODEL_8ab2466b187047fbbe4d8b72455b1108",
            "value": 1
          }
        },
        "050c9d6bfd1e4b6ebe67401183a8d397": {
          "model_module": "@jupyter-widgets/controls",
          "model_name": "HTMLModel",
          "model_module_version": "1.5.0",
          "state": {
            "_dom_classes": [],
            "_model_module": "@jupyter-widgets/controls",
            "_model_module_version": "1.5.0",
            "_model_name": "HTMLModel",
            "_view_count": null,
            "_view_module": "@jupyter-widgets/controls",
            "_view_module_version": "1.5.0",
            "_view_name": "HTMLView",
            "description": "",
            "description_tooltip": null,
            "layout": "IPY_MODEL_89472d79793e4db9afa6845fb016c8ad",
            "placeholder": "​",
            "style": "IPY_MODEL_f5e79b8c3a634eae8a555f18b9dc9bd6",
            "value": " 1680/? [00:55&lt;00:00, 30.41ex/s]"
          }
        },
        "5874591082f944ff9b32202a1edbfd60": {
          "model_module": "@jupyter-widgets/base",
          "model_name": "LayoutModel",
          "model_module_version": "1.2.0",
          "state": {
            "_model_module": "@jupyter-widgets/base",
            "_model_module_version": "1.2.0",
            "_model_name": "LayoutModel",
            "_view_count": null,
            "_view_module": "@jupyter-widgets/base",
            "_view_module_version": "1.2.0",
            "_view_name": "LayoutView",
            "align_content": null,
            "align_items": null,
            "align_self": null,
            "border": null,
            "bottom": null,
            "display": null,
            "flex": null,
            "flex_flow": null,
            "grid_area": null,
            "grid_auto_columns": null,
            "grid_auto_flow": null,
            "grid_auto_rows": null,
            "grid_column": null,
            "grid_gap": null,
            "grid_row": null,
            "grid_template_areas": null,
            "grid_template_columns": null,
            "grid_template_rows": null,
            "height": null,
            "justify_content": null,
            "justify_items": null,
            "left": null,
            "margin": null,
            "max_height": null,
            "max_width": null,
            "min_height": null,
            "min_width": null,
            "object_fit": null,
            "object_position": null,
            "order": null,
            "overflow": null,
            "overflow_x": null,
            "overflow_y": null,
            "padding": null,
            "right": null,
            "top": null,
            "visibility": null,
            "width": null
          }
        },
        "8c968b160d3d4fbb998840734f9f07e4": {
          "model_module": "@jupyter-widgets/base",
          "model_name": "LayoutModel",
          "model_module_version": "1.2.0",
          "state": {
            "_model_module": "@jupyter-widgets/base",
            "_model_module_version": "1.2.0",
            "_model_name": "LayoutModel",
            "_view_count": null,
            "_view_module": "@jupyter-widgets/base",
            "_view_module_version": "1.2.0",
            "_view_name": "LayoutView",
            "align_content": null,
            "align_items": null,
            "align_self": null,
            "border": null,
            "bottom": null,
            "display": null,
            "flex": null,
            "flex_flow": null,
            "grid_area": null,
            "grid_auto_columns": null,
            "grid_auto_flow": null,
            "grid_auto_rows": null,
            "grid_column": null,
            "grid_gap": null,
            "grid_row": null,
            "grid_template_areas": null,
            "grid_template_columns": null,
            "grid_template_rows": null,
            "height": null,
            "justify_content": null,
            "justify_items": null,
            "left": null,
            "margin": null,
            "max_height": null,
            "max_width": null,
            "min_height": null,
            "min_width": null,
            "object_fit": null,
            "object_position": null,
            "order": null,
            "overflow": null,
            "overflow_x": null,
            "overflow_y": null,
            "padding": null,
            "right": null,
            "top": null,
            "visibility": null,
            "width": null
          }
        },
        "d2fd7c9e56b1419f9d23a10c260a7c7d": {
          "model_module": "@jupyter-widgets/controls",
          "model_name": "DescriptionStyleModel",
          "model_module_version": "1.5.0",
          "state": {
            "_model_module": "@jupyter-widgets/controls",
            "_model_module_version": "1.5.0",
            "_model_name": "DescriptionStyleModel",
            "_view_count": null,
            "_view_module": "@jupyter-widgets/base",
            "_view_module_version": "1.2.0",
            "_view_name": "StyleView",
            "description_width": ""
          }
        },
        "4a03fb6d945f4102bc4f7192195d810d": {
          "model_module": "@jupyter-widgets/base",
          "model_name": "LayoutModel",
          "model_module_version": "1.2.0",
          "state": {
            "_model_module": "@jupyter-widgets/base",
            "_model_module_version": "1.2.0",
            "_model_name": "LayoutModel",
            "_view_count": null,
            "_view_module": "@jupyter-widgets/base",
            "_view_module_version": "1.2.0",
            "_view_name": "LayoutView",
            "align_content": null,
            "align_items": null,
            "align_self": null,
            "border": null,
            "bottom": null,
            "display": null,
            "flex": null,
            "flex_flow": null,
            "grid_area": null,
            "grid_auto_columns": null,
            "grid_auto_flow": null,
            "grid_auto_rows": null,
            "grid_column": null,
            "grid_gap": null,
            "grid_row": null,
            "grid_template_areas": null,
            "grid_template_columns": null,
            "grid_template_rows": null,
            "height": null,
            "justify_content": null,
            "justify_items": null,
            "left": null,
            "margin": null,
            "max_height": null,
            "max_width": null,
            "min_height": null,
            "min_width": null,
            "object_fit": null,
            "object_position": null,
            "order": null,
            "overflow": null,
            "overflow_x": null,
            "overflow_y": null,
            "padding": null,
            "right": null,
            "top": null,
            "visibility": null,
            "width": "20px"
          }
        },
        "8ab2466b187047fbbe4d8b72455b1108": {
          "model_module": "@jupyter-widgets/controls",
          "model_name": "ProgressStyleModel",
          "model_module_version": "1.5.0",
          "state": {
            "_model_module": "@jupyter-widgets/controls",
            "_model_module_version": "1.5.0",
            "_model_name": "ProgressStyleModel",
            "_view_count": null,
            "_view_module": "@jupyter-widgets/base",
            "_view_module_version": "1.2.0",
            "_view_name": "StyleView",
            "bar_color": null,
            "description_width": ""
          }
        },
        "89472d79793e4db9afa6845fb016c8ad": {
          "model_module": "@jupyter-widgets/base",
          "model_name": "LayoutModel",
          "model_module_version": "1.2.0",
          "state": {
            "_model_module": "@jupyter-widgets/base",
            "_model_module_version": "1.2.0",
            "_model_name": "LayoutModel",
            "_view_count": null,
            "_view_module": "@jupyter-widgets/base",
            "_view_module_version": "1.2.0",
            "_view_name": "LayoutView",
            "align_content": null,
            "align_items": null,
            "align_self": null,
            "border": null,
            "bottom": null,
            "display": null,
            "flex": null,
            "flex_flow": null,
            "grid_area": null,
            "grid_auto_columns": null,
            "grid_auto_flow": null,
            "grid_auto_rows": null,
            "grid_column": null,
            "grid_gap": null,
            "grid_row": null,
            "grid_template_areas": null,
            "grid_template_columns": null,
            "grid_template_rows": null,
            "height": null,
            "justify_content": null,
            "justify_items": null,
            "left": null,
            "margin": null,
            "max_height": null,
            "max_width": null,
            "min_height": null,
            "min_width": null,
            "object_fit": null,
            "object_position": null,
            "order": null,
            "overflow": null,
            "overflow_x": null,
            "overflow_y": null,
            "padding": null,
            "right": null,
            "top": null,
            "visibility": null,
            "width": null
          }
        },
        "f5e79b8c3a634eae8a555f18b9dc9bd6": {
          "model_module": "@jupyter-widgets/controls",
          "model_name": "DescriptionStyleModel",
          "model_module_version": "1.5.0",
          "state": {
            "_model_module": "@jupyter-widgets/controls",
            "_model_module_version": "1.5.0",
            "_model_name": "DescriptionStyleModel",
            "_view_count": null,
            "_view_module": "@jupyter-widgets/base",
            "_view_module_version": "1.2.0",
            "_view_name": "StyleView",
            "description_width": ""
          }
        },
        "d46e32c735a44f029776bfa7a46354b0": {
          "model_module": "@jupyter-widgets/controls",
          "model_name": "VBoxModel",
          "model_module_version": "1.5.0",
          "state": {
            "_dom_classes": [],
            "_model_module": "@jupyter-widgets/controls",
            "_model_module_version": "1.5.0",
            "_model_name": "VBoxModel",
            "_view_count": null,
            "_view_module": "@jupyter-widgets/controls",
            "_view_module_version": "1.5.0",
            "_view_name": "VBoxView",
            "box_style": "",
            "children": [
              "IPY_MODEL_f21500b7e21744daa11e21fb27f4413e",
              "IPY_MODEL_5f2d42338c0942a287547ab33eaae341",
              "IPY_MODEL_35e10e84780747aeb44a0ddbfcb91ea0",
              "IPY_MODEL_6e7fab8461e841109f4aeb2c76bdbae7"
            ],
            "layout": "IPY_MODEL_00df436ffbab436db8399c618afedcab"
          }
        },
        "f21500b7e21744daa11e21fb27f4413e": {
          "model_module": "@jupyter-widgets/controls",
          "model_name": "HTMLModel",
          "model_module_version": "1.5.0",
          "state": {
            "_dom_classes": [],
            "_model_module": "@jupyter-widgets/controls",
            "_model_module_version": "1.5.0",
            "_model_name": "HTMLModel",
            "_view_count": null,
            "_view_module": "@jupyter-widgets/controls",
            "_view_module_version": "1.5.0",
            "_view_name": "HTMLView",
            "description": "",
            "description_tooltip": null,
            "layout": "IPY_MODEL_4ea6f2dbfb45426ba213a20b532211f2",
            "placeholder": "​",
            "style": "IPY_MODEL_c4a1ab1f77f34e4fa327c901854e6ec8",
            "value": "<center> <img\nsrc=https://huggingface.co/front/assets/huggingface_logo-noborder.svg\nalt='Hugging Face'> <br> Copy a token from <a\nhref=\"https://huggingface.co/settings/tokens\" target=\"_blank\">your Hugging Face\ntokens page</a> and paste it below. <br> Immediately click login after copying\nyour token or it might be stored in plain text in this notebook file. </center>"
          }
        },
        "5f2d42338c0942a287547ab33eaae341": {
          "model_module": "@jupyter-widgets/controls",
          "model_name": "PasswordModel",
          "model_module_version": "1.5.0",
          "state": {
            "_dom_classes": [],
            "_model_module": "@jupyter-widgets/controls",
            "_model_module_version": "1.5.0",
            "_model_name": "PasswordModel",
            "_view_count": null,
            "_view_module": "@jupyter-widgets/controls",
            "_view_module_version": "1.5.0",
            "_view_name": "PasswordView",
            "continuous_update": true,
            "description": "Token:",
            "description_tooltip": null,
            "disabled": false,
            "layout": "IPY_MODEL_8c639b34debe4bc1a676910707504993",
            "placeholder": "​",
            "style": "IPY_MODEL_81c54f3ea01d40e1a6ba55090bea504b",
            "value": ""
          }
        },
        "35e10e84780747aeb44a0ddbfcb91ea0": {
          "model_module": "@jupyter-widgets/controls",
          "model_name": "ButtonModel",
          "model_module_version": "1.5.0",
          "state": {
            "_dom_classes": [],
            "_model_module": "@jupyter-widgets/controls",
            "_model_module_version": "1.5.0",
            "_model_name": "ButtonModel",
            "_view_count": null,
            "_view_module": "@jupyter-widgets/controls",
            "_view_module_version": "1.5.0",
            "_view_name": "ButtonView",
            "button_style": "",
            "description": "Login",
            "disabled": false,
            "icon": "",
            "layout": "IPY_MODEL_fe5be510a3a74bcebee71f692491a6ad",
            "style": "IPY_MODEL_c4b77e75574445bb89dcf540b29fcdf0",
            "tooltip": ""
          }
        },
        "6e7fab8461e841109f4aeb2c76bdbae7": {
          "model_module": "@jupyter-widgets/controls",
          "model_name": "HTMLModel",
          "model_module_version": "1.5.0",
          "state": {
            "_dom_classes": [],
            "_model_module": "@jupyter-widgets/controls",
            "_model_module_version": "1.5.0",
            "_model_name": "HTMLModel",
            "_view_count": null,
            "_view_module": "@jupyter-widgets/controls",
            "_view_module_version": "1.5.0",
            "_view_name": "HTMLView",
            "description": "",
            "description_tooltip": null,
            "layout": "IPY_MODEL_24f995a25f8f42a799917287e39c1e00",
            "placeholder": "​",
            "style": "IPY_MODEL_e58adc892ef040afb27bd7dbf71f1292",
            "value": "\n<b>Pro Tip:</b> If you don't already have one, you can create a dedicated\n'notebooks' token with 'write' access, that you can then easily reuse for all\nnotebooks. </center>"
          }
        },
        "00df436ffbab436db8399c618afedcab": {
          "model_module": "@jupyter-widgets/base",
          "model_name": "LayoutModel",
          "model_module_version": "1.2.0",
          "state": {
            "_model_module": "@jupyter-widgets/base",
            "_model_module_version": "1.2.0",
            "_model_name": "LayoutModel",
            "_view_count": null,
            "_view_module": "@jupyter-widgets/base",
            "_view_module_version": "1.2.0",
            "_view_name": "LayoutView",
            "align_content": null,
            "align_items": "center",
            "align_self": null,
            "border": null,
            "bottom": null,
            "display": "flex",
            "flex": null,
            "flex_flow": "column",
            "grid_area": null,
            "grid_auto_columns": null,
            "grid_auto_flow": null,
            "grid_auto_rows": null,
            "grid_column": null,
            "grid_gap": null,
            "grid_row": null,
            "grid_template_areas": null,
            "grid_template_columns": null,
            "grid_template_rows": null,
            "height": null,
            "justify_content": null,
            "justify_items": null,
            "left": null,
            "margin": null,
            "max_height": null,
            "max_width": null,
            "min_height": null,
            "min_width": null,
            "object_fit": null,
            "object_position": null,
            "order": null,
            "overflow": null,
            "overflow_x": null,
            "overflow_y": null,
            "padding": null,
            "right": null,
            "top": null,
            "visibility": null,
            "width": "50%"
          }
        },
        "4ea6f2dbfb45426ba213a20b532211f2": {
          "model_module": "@jupyter-widgets/base",
          "model_name": "LayoutModel",
          "model_module_version": "1.2.0",
          "state": {
            "_model_module": "@jupyter-widgets/base",
            "_model_module_version": "1.2.0",
            "_model_name": "LayoutModel",
            "_view_count": null,
            "_view_module": "@jupyter-widgets/base",
            "_view_module_version": "1.2.0",
            "_view_name": "LayoutView",
            "align_content": null,
            "align_items": null,
            "align_self": null,
            "border": null,
            "bottom": null,
            "display": null,
            "flex": null,
            "flex_flow": null,
            "grid_area": null,
            "grid_auto_columns": null,
            "grid_auto_flow": null,
            "grid_auto_rows": null,
            "grid_column": null,
            "grid_gap": null,
            "grid_row": null,
            "grid_template_areas": null,
            "grid_template_columns": null,
            "grid_template_rows": null,
            "height": null,
            "justify_content": null,
            "justify_items": null,
            "left": null,
            "margin": null,
            "max_height": null,
            "max_width": null,
            "min_height": null,
            "min_width": null,
            "object_fit": null,
            "object_position": null,
            "order": null,
            "overflow": null,
            "overflow_x": null,
            "overflow_y": null,
            "padding": null,
            "right": null,
            "top": null,
            "visibility": null,
            "width": null
          }
        },
        "c4a1ab1f77f34e4fa327c901854e6ec8": {
          "model_module": "@jupyter-widgets/controls",
          "model_name": "DescriptionStyleModel",
          "model_module_version": "1.5.0",
          "state": {
            "_model_module": "@jupyter-widgets/controls",
            "_model_module_version": "1.5.0",
            "_model_name": "DescriptionStyleModel",
            "_view_count": null,
            "_view_module": "@jupyter-widgets/base",
            "_view_module_version": "1.2.0",
            "_view_name": "StyleView",
            "description_width": ""
          }
        },
        "8c639b34debe4bc1a676910707504993": {
          "model_module": "@jupyter-widgets/base",
          "model_name": "LayoutModel",
          "model_module_version": "1.2.0",
          "state": {
            "_model_module": "@jupyter-widgets/base",
            "_model_module_version": "1.2.0",
            "_model_name": "LayoutModel",
            "_view_count": null,
            "_view_module": "@jupyter-widgets/base",
            "_view_module_version": "1.2.0",
            "_view_name": "LayoutView",
            "align_content": null,
            "align_items": null,
            "align_self": null,
            "border": null,
            "bottom": null,
            "display": null,
            "flex": null,
            "flex_flow": null,
            "grid_area": null,
            "grid_auto_columns": null,
            "grid_auto_flow": null,
            "grid_auto_rows": null,
            "grid_column": null,
            "grid_gap": null,
            "grid_row": null,
            "grid_template_areas": null,
            "grid_template_columns": null,
            "grid_template_rows": null,
            "height": null,
            "justify_content": null,
            "justify_items": null,
            "left": null,
            "margin": null,
            "max_height": null,
            "max_width": null,
            "min_height": null,
            "min_width": null,
            "object_fit": null,
            "object_position": null,
            "order": null,
            "overflow": null,
            "overflow_x": null,
            "overflow_y": null,
            "padding": null,
            "right": null,
            "top": null,
            "visibility": null,
            "width": null
          }
        },
        "81c54f3ea01d40e1a6ba55090bea504b": {
          "model_module": "@jupyter-widgets/controls",
          "model_name": "DescriptionStyleModel",
          "model_module_version": "1.5.0",
          "state": {
            "_model_module": "@jupyter-widgets/controls",
            "_model_module_version": "1.5.0",
            "_model_name": "DescriptionStyleModel",
            "_view_count": null,
            "_view_module": "@jupyter-widgets/base",
            "_view_module_version": "1.2.0",
            "_view_name": "StyleView",
            "description_width": ""
          }
        },
        "fe5be510a3a74bcebee71f692491a6ad": {
          "model_module": "@jupyter-widgets/base",
          "model_name": "LayoutModel",
          "model_module_version": "1.2.0",
          "state": {
            "_model_module": "@jupyter-widgets/base",
            "_model_module_version": "1.2.0",
            "_model_name": "LayoutModel",
            "_view_count": null,
            "_view_module": "@jupyter-widgets/base",
            "_view_module_version": "1.2.0",
            "_view_name": "LayoutView",
            "align_content": null,
            "align_items": null,
            "align_self": null,
            "border": null,
            "bottom": null,
            "display": null,
            "flex": null,
            "flex_flow": null,
            "grid_area": null,
            "grid_auto_columns": null,
            "grid_auto_flow": null,
            "grid_auto_rows": null,
            "grid_column": null,
            "grid_gap": null,
            "grid_row": null,
            "grid_template_areas": null,
            "grid_template_columns": null,
            "grid_template_rows": null,
            "height": null,
            "justify_content": null,
            "justify_items": null,
            "left": null,
            "margin": null,
            "max_height": null,
            "max_width": null,
            "min_height": null,
            "min_width": null,
            "object_fit": null,
            "object_position": null,
            "order": null,
            "overflow": null,
            "overflow_x": null,
            "overflow_y": null,
            "padding": null,
            "right": null,
            "top": null,
            "visibility": null,
            "width": null
          }
        },
        "c4b77e75574445bb89dcf540b29fcdf0": {
          "model_module": "@jupyter-widgets/controls",
          "model_name": "ButtonStyleModel",
          "model_module_version": "1.5.0",
          "state": {
            "_model_module": "@jupyter-widgets/controls",
            "_model_module_version": "1.5.0",
            "_model_name": "ButtonStyleModel",
            "_view_count": null,
            "_view_module": "@jupyter-widgets/base",
            "_view_module_version": "1.2.0",
            "_view_name": "StyleView",
            "button_color": null,
            "font_weight": ""
          }
        },
        "24f995a25f8f42a799917287e39c1e00": {
          "model_module": "@jupyter-widgets/base",
          "model_name": "LayoutModel",
          "model_module_version": "1.2.0",
          "state": {
            "_model_module": "@jupyter-widgets/base",
            "_model_module_version": "1.2.0",
            "_model_name": "LayoutModel",
            "_view_count": null,
            "_view_module": "@jupyter-widgets/base",
            "_view_module_version": "1.2.0",
            "_view_name": "LayoutView",
            "align_content": null,
            "align_items": null,
            "align_self": null,
            "border": null,
            "bottom": null,
            "display": null,
            "flex": null,
            "flex_flow": null,
            "grid_area": null,
            "grid_auto_columns": null,
            "grid_auto_flow": null,
            "grid_auto_rows": null,
            "grid_column": null,
            "grid_gap": null,
            "grid_row": null,
            "grid_template_areas": null,
            "grid_template_columns": null,
            "grid_template_rows": null,
            "height": null,
            "justify_content": null,
            "justify_items": null,
            "left": null,
            "margin": null,
            "max_height": null,
            "max_width": null,
            "min_height": null,
            "min_width": null,
            "object_fit": null,
            "object_position": null,
            "order": null,
            "overflow": null,
            "overflow_x": null,
            "overflow_y": null,
            "padding": null,
            "right": null,
            "top": null,
            "visibility": null,
            "width": null
          }
        },
        "e58adc892ef040afb27bd7dbf71f1292": {
          "model_module": "@jupyter-widgets/controls",
          "model_name": "DescriptionStyleModel",
          "model_module_version": "1.5.0",
          "state": {
            "_model_module": "@jupyter-widgets/controls",
            "_model_module_version": "1.5.0",
            "_model_name": "DescriptionStyleModel",
            "_view_count": null,
            "_view_module": "@jupyter-widgets/base",
            "_view_module_version": "1.2.0",
            "_view_name": "StyleView",
            "description_width": ""
          }
        },
        "df38e8fc3a8140f5b61b5c4df35ece27": {
          "model_module": "@jupyter-widgets/controls",
          "model_name": "HBoxModel",
          "model_module_version": "1.5.0",
          "state": {
            "_dom_classes": [],
            "_model_module": "@jupyter-widgets/controls",
            "_model_module_version": "1.5.0",
            "_model_name": "HBoxModel",
            "_view_count": null,
            "_view_module": "@jupyter-widgets/controls",
            "_view_module_version": "1.5.0",
            "_view_name": "HBoxView",
            "box_style": "",
            "children": [
              "IPY_MODEL_0f23fc02e8f14c96b25147c5c1604005",
              "IPY_MODEL_32c867b3896145a6adc46d28fed09d71",
              "IPY_MODEL_fece154349c74e329fb32f89427e42d6"
            ],
            "layout": "IPY_MODEL_fe7207532ea84d2f8ea52117c43cf135"
          }
        },
        "0f23fc02e8f14c96b25147c5c1604005": {
          "model_module": "@jupyter-widgets/controls",
          "model_name": "HTMLModel",
          "model_module_version": "1.5.0",
          "state": {
            "_dom_classes": [],
            "_model_module": "@jupyter-widgets/controls",
            "_model_module_version": "1.5.0",
            "_model_name": "HTMLModel",
            "_view_count": null,
            "_view_module": "@jupyter-widgets/controls",
            "_view_module_version": "1.5.0",
            "_view_name": "HTMLView",
            "description": "",
            "description_tooltip": null,
            "layout": "IPY_MODEL_488df4cc65fc45d4b6a077bdfca1ef7a",
            "placeholder": "​",
            "style": "IPY_MODEL_7fdd27d0f9644cfe9db0dd630d992690",
            "value": "100%"
          }
        },
        "32c867b3896145a6adc46d28fed09d71": {
          "model_module": "@jupyter-widgets/controls",
          "model_name": "FloatProgressModel",
          "model_module_version": "1.5.0",
          "state": {
            "_dom_classes": [],
            "_model_module": "@jupyter-widgets/controls",
            "_model_module_version": "1.5.0",
            "_model_name": "FloatProgressModel",
            "_view_count": null,
            "_view_module": "@jupyter-widgets/controls",
            "_view_module_version": "1.5.0",
            "_view_name": "ProgressView",
            "bar_style": "success",
            "description": "",
            "description_tooltip": null,
            "layout": "IPY_MODEL_3a332614ef704897ade96fd93c1be494",
            "max": 2,
            "min": 0,
            "orientation": "horizontal",
            "style": "IPY_MODEL_53bdbc329c6246a1a0e7d17d8ccef019",
            "value": 2
          }
        },
        "fece154349c74e329fb32f89427e42d6": {
          "model_module": "@jupyter-widgets/controls",
          "model_name": "HTMLModel",
          "model_module_version": "1.5.0",
          "state": {
            "_dom_classes": [],
            "_model_module": "@jupyter-widgets/controls",
            "_model_module_version": "1.5.0",
            "_model_name": "HTMLModel",
            "_view_count": null,
            "_view_module": "@jupyter-widgets/controls",
            "_view_module_version": "1.5.0",
            "_view_name": "HTMLView",
            "description": "",
            "description_tooltip": null,
            "layout": "IPY_MODEL_9996cd86c06d445d870bda20ec7318f7",
            "placeholder": "​",
            "style": "IPY_MODEL_ca88eb7bb0234be296bba05e8089e356",
            "value": " 2/2 [00:00&lt;00:00, 84.12it/s]"
          }
        },
        "fe7207532ea84d2f8ea52117c43cf135": {
          "model_module": "@jupyter-widgets/base",
          "model_name": "LayoutModel",
          "model_module_version": "1.2.0",
          "state": {
            "_model_module": "@jupyter-widgets/base",
            "_model_module_version": "1.2.0",
            "_model_name": "LayoutModel",
            "_view_count": null,
            "_view_module": "@jupyter-widgets/base",
            "_view_module_version": "1.2.0",
            "_view_name": "LayoutView",
            "align_content": null,
            "align_items": null,
            "align_self": null,
            "border": null,
            "bottom": null,
            "display": null,
            "flex": null,
            "flex_flow": null,
            "grid_area": null,
            "grid_auto_columns": null,
            "grid_auto_flow": null,
            "grid_auto_rows": null,
            "grid_column": null,
            "grid_gap": null,
            "grid_row": null,
            "grid_template_areas": null,
            "grid_template_columns": null,
            "grid_template_rows": null,
            "height": null,
            "justify_content": null,
            "justify_items": null,
            "left": null,
            "margin": null,
            "max_height": null,
            "max_width": null,
            "min_height": null,
            "min_width": null,
            "object_fit": null,
            "object_position": null,
            "order": null,
            "overflow": null,
            "overflow_x": null,
            "overflow_y": null,
            "padding": null,
            "right": null,
            "top": null,
            "visibility": null,
            "width": null
          }
        },
        "488df4cc65fc45d4b6a077bdfca1ef7a": {
          "model_module": "@jupyter-widgets/base",
          "model_name": "LayoutModel",
          "model_module_version": "1.2.0",
          "state": {
            "_model_module": "@jupyter-widgets/base",
            "_model_module_version": "1.2.0",
            "_model_name": "LayoutModel",
            "_view_count": null,
            "_view_module": "@jupyter-widgets/base",
            "_view_module_version": "1.2.0",
            "_view_name": "LayoutView",
            "align_content": null,
            "align_items": null,
            "align_self": null,
            "border": null,
            "bottom": null,
            "display": null,
            "flex": null,
            "flex_flow": null,
            "grid_area": null,
            "grid_auto_columns": null,
            "grid_auto_flow": null,
            "grid_auto_rows": null,
            "grid_column": null,
            "grid_gap": null,
            "grid_row": null,
            "grid_template_areas": null,
            "grid_template_columns": null,
            "grid_template_rows": null,
            "height": null,
            "justify_content": null,
            "justify_items": null,
            "left": null,
            "margin": null,
            "max_height": null,
            "max_width": null,
            "min_height": null,
            "min_width": null,
            "object_fit": null,
            "object_position": null,
            "order": null,
            "overflow": null,
            "overflow_x": null,
            "overflow_y": null,
            "padding": null,
            "right": null,
            "top": null,
            "visibility": null,
            "width": null
          }
        },
        "7fdd27d0f9644cfe9db0dd630d992690": {
          "model_module": "@jupyter-widgets/controls",
          "model_name": "DescriptionStyleModel",
          "model_module_version": "1.5.0",
          "state": {
            "_model_module": "@jupyter-widgets/controls",
            "_model_module_version": "1.5.0",
            "_model_name": "DescriptionStyleModel",
            "_view_count": null,
            "_view_module": "@jupyter-widgets/base",
            "_view_module_version": "1.2.0",
            "_view_name": "StyleView",
            "description_width": ""
          }
        },
        "3a332614ef704897ade96fd93c1be494": {
          "model_module": "@jupyter-widgets/base",
          "model_name": "LayoutModel",
          "model_module_version": "1.2.0",
          "state": {
            "_model_module": "@jupyter-widgets/base",
            "_model_module_version": "1.2.0",
            "_model_name": "LayoutModel",
            "_view_count": null,
            "_view_module": "@jupyter-widgets/base",
            "_view_module_version": "1.2.0",
            "_view_name": "LayoutView",
            "align_content": null,
            "align_items": null,
            "align_self": null,
            "border": null,
            "bottom": null,
            "display": null,
            "flex": null,
            "flex_flow": null,
            "grid_area": null,
            "grid_auto_columns": null,
            "grid_auto_flow": null,
            "grid_auto_rows": null,
            "grid_column": null,
            "grid_gap": null,
            "grid_row": null,
            "grid_template_areas": null,
            "grid_template_columns": null,
            "grid_template_rows": null,
            "height": null,
            "justify_content": null,
            "justify_items": null,
            "left": null,
            "margin": null,
            "max_height": null,
            "max_width": null,
            "min_height": null,
            "min_width": null,
            "object_fit": null,
            "object_position": null,
            "order": null,
            "overflow": null,
            "overflow_x": null,
            "overflow_y": null,
            "padding": null,
            "right": null,
            "top": null,
            "visibility": null,
            "width": null
          }
        },
        "53bdbc329c6246a1a0e7d17d8ccef019": {
          "model_module": "@jupyter-widgets/controls",
          "model_name": "ProgressStyleModel",
          "model_module_version": "1.5.0",
          "state": {
            "_model_module": "@jupyter-widgets/controls",
            "_model_module_version": "1.5.0",
            "_model_name": "ProgressStyleModel",
            "_view_count": null,
            "_view_module": "@jupyter-widgets/base",
            "_view_module_version": "1.2.0",
            "_view_name": "StyleView",
            "bar_color": null,
            "description_width": ""
          }
        },
        "9996cd86c06d445d870bda20ec7318f7": {
          "model_module": "@jupyter-widgets/base",
          "model_name": "LayoutModel",
          "model_module_version": "1.2.0",
          "state": {
            "_model_module": "@jupyter-widgets/base",
            "_model_module_version": "1.2.0",
            "_model_name": "LayoutModel",
            "_view_count": null,
            "_view_module": "@jupyter-widgets/base",
            "_view_module_version": "1.2.0",
            "_view_name": "LayoutView",
            "align_content": null,
            "align_items": null,
            "align_self": null,
            "border": null,
            "bottom": null,
            "display": null,
            "flex": null,
            "flex_flow": null,
            "grid_area": null,
            "grid_auto_columns": null,
            "grid_auto_flow": null,
            "grid_auto_rows": null,
            "grid_column": null,
            "grid_gap": null,
            "grid_row": null,
            "grid_template_areas": null,
            "grid_template_columns": null,
            "grid_template_rows": null,
            "height": null,
            "justify_content": null,
            "justify_items": null,
            "left": null,
            "margin": null,
            "max_height": null,
            "max_width": null,
            "min_height": null,
            "min_width": null,
            "object_fit": null,
            "object_position": null,
            "order": null,
            "overflow": null,
            "overflow_x": null,
            "overflow_y": null,
            "padding": null,
            "right": null,
            "top": null,
            "visibility": null,
            "width": null
          }
        },
        "ca88eb7bb0234be296bba05e8089e356": {
          "model_module": "@jupyter-widgets/controls",
          "model_name": "DescriptionStyleModel",
          "model_module_version": "1.5.0",
          "state": {
            "_model_module": "@jupyter-widgets/controls",
            "_model_module_version": "1.5.0",
            "_model_name": "DescriptionStyleModel",
            "_view_count": null,
            "_view_module": "@jupyter-widgets/base",
            "_view_module_version": "1.2.0",
            "_view_name": "StyleView",
            "description_width": ""
          }
        },
        "4ce515948cf14749b9ef1a0d83d2d8b7": {
          "model_module": "@jupyter-widgets/controls",
          "model_name": "HBoxModel",
          "model_module_version": "1.5.0",
          "state": {
            "_dom_classes": [],
            "_model_module": "@jupyter-widgets/controls",
            "_model_module_version": "1.5.0",
            "_model_name": "HBoxModel",
            "_view_count": null,
            "_view_module": "@jupyter-widgets/controls",
            "_view_module_version": "1.5.0",
            "_view_name": "HBoxView",
            "box_style": "",
            "children": [
              "IPY_MODEL_0cd1a1d2bb504a5894d9749018a5d470",
              "IPY_MODEL_b4c10cfbd4fc427981f5327c8d3796dc",
              "IPY_MODEL_7a5c8a71991a49f88b5f77785fa58d82"
            ],
            "layout": "IPY_MODEL_743023466147450fa733bab6be2a076e"
          }
        },
        "0cd1a1d2bb504a5894d9749018a5d470": {
          "model_module": "@jupyter-widgets/controls",
          "model_name": "HTMLModel",
          "model_module_version": "1.5.0",
          "state": {
            "_dom_classes": [],
            "_model_module": "@jupyter-widgets/controls",
            "_model_module_version": "1.5.0",
            "_model_name": "HTMLModel",
            "_view_count": null,
            "_view_module": "@jupyter-widgets/controls",
            "_view_module_version": "1.5.0",
            "_view_name": "HTMLView",
            "description": "",
            "description_tooltip": null,
            "layout": "IPY_MODEL_d6fa322e70a8409e81c5f2e40256fc6b",
            "placeholder": "​",
            "style": "IPY_MODEL_1cb7905e83f943359513362205c95eb6",
            "value": ""
          }
        },
        "b4c10cfbd4fc427981f5327c8d3796dc": {
          "model_module": "@jupyter-widgets/controls",
          "model_name": "FloatProgressModel",
          "model_module_version": "1.5.0",
          "state": {
            "_dom_classes": [],
            "_model_module": "@jupyter-widgets/controls",
            "_model_module_version": "1.5.0",
            "_model_name": "FloatProgressModel",
            "_view_count": null,
            "_view_module": "@jupyter-widgets/controls",
            "_view_module_version": "1.5.0",
            "_view_name": "ProgressView",
            "bar_style": "success",
            "description": "",
            "description_tooltip": null,
            "layout": "IPY_MODEL_18d0b63e343c4947855b690f78ab6487",
            "max": 1,
            "min": 0,
            "orientation": "horizontal",
            "style": "IPY_MODEL_f92ea5c656604afc857f2ecb1cd0d22c",
            "value": 1
          }
        },
        "7a5c8a71991a49f88b5f77785fa58d82": {
          "model_module": "@jupyter-widgets/controls",
          "model_name": "HTMLModel",
          "model_module_version": "1.5.0",
          "state": {
            "_dom_classes": [],
            "_model_module": "@jupyter-widgets/controls",
            "_model_module_version": "1.5.0",
            "_model_name": "HTMLModel",
            "_view_count": null,
            "_view_module": "@jupyter-widgets/controls",
            "_view_module_version": "1.5.0",
            "_view_name": "HTMLView",
            "description": "",
            "description_tooltip": null,
            "layout": "IPY_MODEL_87aaf37e7eda45a0aea5f53cec1bd6d2",
            "placeholder": "​",
            "style": "IPY_MODEL_932679ab9d134d8da2fa8191abd19229",
            "value": " 4620/? [00:00&lt;00:00, 11196.64ex/s]"
          }
        },
        "743023466147450fa733bab6be2a076e": {
          "model_module": "@jupyter-widgets/base",
          "model_name": "LayoutModel",
          "model_module_version": "1.2.0",
          "state": {
            "_model_module": "@jupyter-widgets/base",
            "_model_module_version": "1.2.0",
            "_model_name": "LayoutModel",
            "_view_count": null,
            "_view_module": "@jupyter-widgets/base",
            "_view_module_version": "1.2.0",
            "_view_name": "LayoutView",
            "align_content": null,
            "align_items": null,
            "align_self": null,
            "border": null,
            "bottom": null,
            "display": null,
            "flex": null,
            "flex_flow": null,
            "grid_area": null,
            "grid_auto_columns": null,
            "grid_auto_flow": null,
            "grid_auto_rows": null,
            "grid_column": null,
            "grid_gap": null,
            "grid_row": null,
            "grid_template_areas": null,
            "grid_template_columns": null,
            "grid_template_rows": null,
            "height": null,
            "justify_content": null,
            "justify_items": null,
            "left": null,
            "margin": null,
            "max_height": null,
            "max_width": null,
            "min_height": null,
            "min_width": null,
            "object_fit": null,
            "object_position": null,
            "order": null,
            "overflow": null,
            "overflow_x": null,
            "overflow_y": null,
            "padding": null,
            "right": null,
            "top": null,
            "visibility": null,
            "width": null
          }
        },
        "d6fa322e70a8409e81c5f2e40256fc6b": {
          "model_module": "@jupyter-widgets/base",
          "model_name": "LayoutModel",
          "model_module_version": "1.2.0",
          "state": {
            "_model_module": "@jupyter-widgets/base",
            "_model_module_version": "1.2.0",
            "_model_name": "LayoutModel",
            "_view_count": null,
            "_view_module": "@jupyter-widgets/base",
            "_view_module_version": "1.2.0",
            "_view_name": "LayoutView",
            "align_content": null,
            "align_items": null,
            "align_self": null,
            "border": null,
            "bottom": null,
            "display": null,
            "flex": null,
            "flex_flow": null,
            "grid_area": null,
            "grid_auto_columns": null,
            "grid_auto_flow": null,
            "grid_auto_rows": null,
            "grid_column": null,
            "grid_gap": null,
            "grid_row": null,
            "grid_template_areas": null,
            "grid_template_columns": null,
            "grid_template_rows": null,
            "height": null,
            "justify_content": null,
            "justify_items": null,
            "left": null,
            "margin": null,
            "max_height": null,
            "max_width": null,
            "min_height": null,
            "min_width": null,
            "object_fit": null,
            "object_position": null,
            "order": null,
            "overflow": null,
            "overflow_x": null,
            "overflow_y": null,
            "padding": null,
            "right": null,
            "top": null,
            "visibility": null,
            "width": null
          }
        },
        "1cb7905e83f943359513362205c95eb6": {
          "model_module": "@jupyter-widgets/controls",
          "model_name": "DescriptionStyleModel",
          "model_module_version": "1.5.0",
          "state": {
            "_model_module": "@jupyter-widgets/controls",
            "_model_module_version": "1.5.0",
            "_model_name": "DescriptionStyleModel",
            "_view_count": null,
            "_view_module": "@jupyter-widgets/base",
            "_view_module_version": "1.2.0",
            "_view_name": "StyleView",
            "description_width": ""
          }
        },
        "18d0b63e343c4947855b690f78ab6487": {
          "model_module": "@jupyter-widgets/base",
          "model_name": "LayoutModel",
          "model_module_version": "1.2.0",
          "state": {
            "_model_module": "@jupyter-widgets/base",
            "_model_module_version": "1.2.0",
            "_model_name": "LayoutModel",
            "_view_count": null,
            "_view_module": "@jupyter-widgets/base",
            "_view_module_version": "1.2.0",
            "_view_name": "LayoutView",
            "align_content": null,
            "align_items": null,
            "align_self": null,
            "border": null,
            "bottom": null,
            "display": null,
            "flex": null,
            "flex_flow": null,
            "grid_area": null,
            "grid_auto_columns": null,
            "grid_auto_flow": null,
            "grid_auto_rows": null,
            "grid_column": null,
            "grid_gap": null,
            "grid_row": null,
            "grid_template_areas": null,
            "grid_template_columns": null,
            "grid_template_rows": null,
            "height": null,
            "justify_content": null,
            "justify_items": null,
            "left": null,
            "margin": null,
            "max_height": null,
            "max_width": null,
            "min_height": null,
            "min_width": null,
            "object_fit": null,
            "object_position": null,
            "order": null,
            "overflow": null,
            "overflow_x": null,
            "overflow_y": null,
            "padding": null,
            "right": null,
            "top": null,
            "visibility": null,
            "width": "20px"
          }
        },
        "f92ea5c656604afc857f2ecb1cd0d22c": {
          "model_module": "@jupyter-widgets/controls",
          "model_name": "ProgressStyleModel",
          "model_module_version": "1.5.0",
          "state": {
            "_model_module": "@jupyter-widgets/controls",
            "_model_module_version": "1.5.0",
            "_model_name": "ProgressStyleModel",
            "_view_count": null,
            "_view_module": "@jupyter-widgets/base",
            "_view_module_version": "1.2.0",
            "_view_name": "StyleView",
            "bar_color": null,
            "description_width": ""
          }
        },
        "87aaf37e7eda45a0aea5f53cec1bd6d2": {
          "model_module": "@jupyter-widgets/base",
          "model_name": "LayoutModel",
          "model_module_version": "1.2.0",
          "state": {
            "_model_module": "@jupyter-widgets/base",
            "_model_module_version": "1.2.0",
            "_model_name": "LayoutModel",
            "_view_count": null,
            "_view_module": "@jupyter-widgets/base",
            "_view_module_version": "1.2.0",
            "_view_name": "LayoutView",
            "align_content": null,
            "align_items": null,
            "align_self": null,
            "border": null,
            "bottom": null,
            "display": null,
            "flex": null,
            "flex_flow": null,
            "grid_area": null,
            "grid_auto_columns": null,
            "grid_auto_flow": null,
            "grid_auto_rows": null,
            "grid_column": null,
            "grid_gap": null,
            "grid_row": null,
            "grid_template_areas": null,
            "grid_template_columns": null,
            "grid_template_rows": null,
            "height": null,
            "justify_content": null,
            "justify_items": null,
            "left": null,
            "margin": null,
            "max_height": null,
            "max_width": null,
            "min_height": null,
            "min_width": null,
            "object_fit": null,
            "object_position": null,
            "order": null,
            "overflow": null,
            "overflow_x": null,
            "overflow_y": null,
            "padding": null,
            "right": null,
            "top": null,
            "visibility": null,
            "width": null
          }
        },
        "932679ab9d134d8da2fa8191abd19229": {
          "model_module": "@jupyter-widgets/controls",
          "model_name": "DescriptionStyleModel",
          "model_module_version": "1.5.0",
          "state": {
            "_model_module": "@jupyter-widgets/controls",
            "_model_module_version": "1.5.0",
            "_model_name": "DescriptionStyleModel",
            "_view_count": null,
            "_view_module": "@jupyter-widgets/base",
            "_view_module_version": "1.2.0",
            "_view_name": "StyleView",
            "description_width": ""
          }
        },
        "1c2e725907a440b39de1b534d3c64ac4": {
          "model_module": "@jupyter-widgets/controls",
          "model_name": "HBoxModel",
          "model_module_version": "1.5.0",
          "state": {
            "_dom_classes": [],
            "_model_module": "@jupyter-widgets/controls",
            "_model_module_version": "1.5.0",
            "_model_name": "HBoxModel",
            "_view_count": null,
            "_view_module": "@jupyter-widgets/controls",
            "_view_module_version": "1.5.0",
            "_view_name": "HBoxView",
            "box_style": "",
            "children": [
              "IPY_MODEL_921b54190d9d4594b0ceac35df40f330",
              "IPY_MODEL_2fa125e0c37f49a1a9492816b583d0a8",
              "IPY_MODEL_dc675353b4104bdb9e09e5076d5606ae"
            ],
            "layout": "IPY_MODEL_c2020cf9ba2141ef910f24efba55d49b"
          }
        },
        "921b54190d9d4594b0ceac35df40f330": {
          "model_module": "@jupyter-widgets/controls",
          "model_name": "HTMLModel",
          "model_module_version": "1.5.0",
          "state": {
            "_dom_classes": [],
            "_model_module": "@jupyter-widgets/controls",
            "_model_module_version": "1.5.0",
            "_model_name": "HTMLModel",
            "_view_count": null,
            "_view_module": "@jupyter-widgets/controls",
            "_view_module_version": "1.5.0",
            "_view_name": "HTMLView",
            "description": "",
            "description_tooltip": null,
            "layout": "IPY_MODEL_830f4e8368704c7fb8296b9523aa1bc4",
            "placeholder": "​",
            "style": "IPY_MODEL_e57d6f1ae0494b929d2f5e9daaabc448",
            "value": ""
          }
        },
        "2fa125e0c37f49a1a9492816b583d0a8": {
          "model_module": "@jupyter-widgets/controls",
          "model_name": "FloatProgressModel",
          "model_module_version": "1.5.0",
          "state": {
            "_dom_classes": [],
            "_model_module": "@jupyter-widgets/controls",
            "_model_module_version": "1.5.0",
            "_model_name": "FloatProgressModel",
            "_view_count": null,
            "_view_module": "@jupyter-widgets/controls",
            "_view_module_version": "1.5.0",
            "_view_name": "ProgressView",
            "bar_style": "success",
            "description": "",
            "description_tooltip": null,
            "layout": "IPY_MODEL_f4d99d25000044ff93355e50a67e50de",
            "max": 1,
            "min": 0,
            "orientation": "horizontal",
            "style": "IPY_MODEL_46a3a649c9e44435a6929f11500b982c",
            "value": 1
          }
        },
        "dc675353b4104bdb9e09e5076d5606ae": {
          "model_module": "@jupyter-widgets/controls",
          "model_name": "HTMLModel",
          "model_module_version": "1.5.0",
          "state": {
            "_dom_classes": [],
            "_model_module": "@jupyter-widgets/controls",
            "_model_module_version": "1.5.0",
            "_model_name": "HTMLModel",
            "_view_count": null,
            "_view_module": "@jupyter-widgets/controls",
            "_view_module_version": "1.5.0",
            "_view_name": "HTMLView",
            "description": "",
            "description_tooltip": null,
            "layout": "IPY_MODEL_43049b8e67b4446f84d635da79409efe",
            "placeholder": "​",
            "style": "IPY_MODEL_bd9b5a2a6e124608abe0a7343644d952",
            "value": " 1680/? [00:00&lt;00:00, 5915.56ex/s]"
          }
        },
        "c2020cf9ba2141ef910f24efba55d49b": {
          "model_module": "@jupyter-widgets/base",
          "model_name": "LayoutModel",
          "model_module_version": "1.2.0",
          "state": {
            "_model_module": "@jupyter-widgets/base",
            "_model_module_version": "1.2.0",
            "_model_name": "LayoutModel",
            "_view_count": null,
            "_view_module": "@jupyter-widgets/base",
            "_view_module_version": "1.2.0",
            "_view_name": "LayoutView",
            "align_content": null,
            "align_items": null,
            "align_self": null,
            "border": null,
            "bottom": null,
            "display": null,
            "flex": null,
            "flex_flow": null,
            "grid_area": null,
            "grid_auto_columns": null,
            "grid_auto_flow": null,
            "grid_auto_rows": null,
            "grid_column": null,
            "grid_gap": null,
            "grid_row": null,
            "grid_template_areas": null,
            "grid_template_columns": null,
            "grid_template_rows": null,
            "height": null,
            "justify_content": null,
            "justify_items": null,
            "left": null,
            "margin": null,
            "max_height": null,
            "max_width": null,
            "min_height": null,
            "min_width": null,
            "object_fit": null,
            "object_position": null,
            "order": null,
            "overflow": null,
            "overflow_x": null,
            "overflow_y": null,
            "padding": null,
            "right": null,
            "top": null,
            "visibility": null,
            "width": null
          }
        },
        "830f4e8368704c7fb8296b9523aa1bc4": {
          "model_module": "@jupyter-widgets/base",
          "model_name": "LayoutModel",
          "model_module_version": "1.2.0",
          "state": {
            "_model_module": "@jupyter-widgets/base",
            "_model_module_version": "1.2.0",
            "_model_name": "LayoutModel",
            "_view_count": null,
            "_view_module": "@jupyter-widgets/base",
            "_view_module_version": "1.2.0",
            "_view_name": "LayoutView",
            "align_content": null,
            "align_items": null,
            "align_self": null,
            "border": null,
            "bottom": null,
            "display": null,
            "flex": null,
            "flex_flow": null,
            "grid_area": null,
            "grid_auto_columns": null,
            "grid_auto_flow": null,
            "grid_auto_rows": null,
            "grid_column": null,
            "grid_gap": null,
            "grid_row": null,
            "grid_template_areas": null,
            "grid_template_columns": null,
            "grid_template_rows": null,
            "height": null,
            "justify_content": null,
            "justify_items": null,
            "left": null,
            "margin": null,
            "max_height": null,
            "max_width": null,
            "min_height": null,
            "min_width": null,
            "object_fit": null,
            "object_position": null,
            "order": null,
            "overflow": null,
            "overflow_x": null,
            "overflow_y": null,
            "padding": null,
            "right": null,
            "top": null,
            "visibility": null,
            "width": null
          }
        },
        "e57d6f1ae0494b929d2f5e9daaabc448": {
          "model_module": "@jupyter-widgets/controls",
          "model_name": "DescriptionStyleModel",
          "model_module_version": "1.5.0",
          "state": {
            "_model_module": "@jupyter-widgets/controls",
            "_model_module_version": "1.5.0",
            "_model_name": "DescriptionStyleModel",
            "_view_count": null,
            "_view_module": "@jupyter-widgets/base",
            "_view_module_version": "1.2.0",
            "_view_name": "StyleView",
            "description_width": ""
          }
        },
        "f4d99d25000044ff93355e50a67e50de": {
          "model_module": "@jupyter-widgets/base",
          "model_name": "LayoutModel",
          "model_module_version": "1.2.0",
          "state": {
            "_model_module": "@jupyter-widgets/base",
            "_model_module_version": "1.2.0",
            "_model_name": "LayoutModel",
            "_view_count": null,
            "_view_module": "@jupyter-widgets/base",
            "_view_module_version": "1.2.0",
            "_view_name": "LayoutView",
            "align_content": null,
            "align_items": null,
            "align_self": null,
            "border": null,
            "bottom": null,
            "display": null,
            "flex": null,
            "flex_flow": null,
            "grid_area": null,
            "grid_auto_columns": null,
            "grid_auto_flow": null,
            "grid_auto_rows": null,
            "grid_column": null,
            "grid_gap": null,
            "grid_row": null,
            "grid_template_areas": null,
            "grid_template_columns": null,
            "grid_template_rows": null,
            "height": null,
            "justify_content": null,
            "justify_items": null,
            "left": null,
            "margin": null,
            "max_height": null,
            "max_width": null,
            "min_height": null,
            "min_width": null,
            "object_fit": null,
            "object_position": null,
            "order": null,
            "overflow": null,
            "overflow_x": null,
            "overflow_y": null,
            "padding": null,
            "right": null,
            "top": null,
            "visibility": null,
            "width": "20px"
          }
        },
        "46a3a649c9e44435a6929f11500b982c": {
          "model_module": "@jupyter-widgets/controls",
          "model_name": "ProgressStyleModel",
          "model_module_version": "1.5.0",
          "state": {
            "_model_module": "@jupyter-widgets/controls",
            "_model_module_version": "1.5.0",
            "_model_name": "ProgressStyleModel",
            "_view_count": null,
            "_view_module": "@jupyter-widgets/base",
            "_view_module_version": "1.2.0",
            "_view_name": "StyleView",
            "bar_color": null,
            "description_width": ""
          }
        },
        "43049b8e67b4446f84d635da79409efe": {
          "model_module": "@jupyter-widgets/base",
          "model_name": "LayoutModel",
          "model_module_version": "1.2.0",
          "state": {
            "_model_module": "@jupyter-widgets/base",
            "_model_module_version": "1.2.0",
            "_model_name": "LayoutModel",
            "_view_count": null,
            "_view_module": "@jupyter-widgets/base",
            "_view_module_version": "1.2.0",
            "_view_name": "LayoutView",
            "align_content": null,
            "align_items": null,
            "align_self": null,
            "border": null,
            "bottom": null,
            "display": null,
            "flex": null,
            "flex_flow": null,
            "grid_area": null,
            "grid_auto_columns": null,
            "grid_auto_flow": null,
            "grid_auto_rows": null,
            "grid_column": null,
            "grid_gap": null,
            "grid_row": null,
            "grid_template_areas": null,
            "grid_template_columns": null,
            "grid_template_rows": null,
            "height": null,
            "justify_content": null,
            "justify_items": null,
            "left": null,
            "margin": null,
            "max_height": null,
            "max_width": null,
            "min_height": null,
            "min_width": null,
            "object_fit": null,
            "object_position": null,
            "order": null,
            "overflow": null,
            "overflow_x": null,
            "overflow_y": null,
            "padding": null,
            "right": null,
            "top": null,
            "visibility": null,
            "width": null
          }
        },
        "bd9b5a2a6e124608abe0a7343644d952": {
          "model_module": "@jupyter-widgets/controls",
          "model_name": "DescriptionStyleModel",
          "model_module_version": "1.5.0",
          "state": {
            "_model_module": "@jupyter-widgets/controls",
            "_model_module_version": "1.5.0",
            "_model_name": "DescriptionStyleModel",
            "_view_count": null,
            "_view_module": "@jupyter-widgets/base",
            "_view_module_version": "1.2.0",
            "_view_name": "StyleView",
            "description_width": ""
          }
        },
        "4966d57fd0944f0a85e54fe867c10360": {
          "model_module": "@jupyter-widgets/controls",
          "model_name": "HBoxModel",
          "model_module_version": "1.5.0",
          "state": {
            "_dom_classes": [],
            "_model_module": "@jupyter-widgets/controls",
            "_model_module_version": "1.5.0",
            "_model_name": "HBoxModel",
            "_view_count": null,
            "_view_module": "@jupyter-widgets/controls",
            "_view_module_version": "1.5.0",
            "_view_name": "HBoxView",
            "box_style": "",
            "children": [
              "IPY_MODEL_5ee3a2181577428ab1827d79ffc51756",
              "IPY_MODEL_31c3cdcc47be42e8b702ba1f5c1f6bb3",
              "IPY_MODEL_96e91729d2fc4fb5948f59dafe3fe951"
            ],
            "layout": "IPY_MODEL_890496a9ecdf41bda4f8e9d4ab412bdd"
          }
        },
        "5ee3a2181577428ab1827d79ffc51756": {
          "model_module": "@jupyter-widgets/controls",
          "model_name": "HTMLModel",
          "model_module_version": "1.5.0",
          "state": {
            "_dom_classes": [],
            "_model_module": "@jupyter-widgets/controls",
            "_model_module_version": "1.5.0",
            "_model_name": "HTMLModel",
            "_view_count": null,
            "_view_module": "@jupyter-widgets/controls",
            "_view_module_version": "1.5.0",
            "_view_name": "HTMLView",
            "description": "",
            "description_tooltip": null,
            "layout": "IPY_MODEL_4decdf9c75d54ae2a692c165ed5c15e3",
            "placeholder": "​",
            "style": "IPY_MODEL_b9fdeef8387c47489b5eafae1bc7ee45",
            "value": "100%"
          }
        },
        "31c3cdcc47be42e8b702ba1f5c1f6bb3": {
          "model_module": "@jupyter-widgets/controls",
          "model_name": "FloatProgressModel",
          "model_module_version": "1.5.0",
          "state": {
            "_dom_classes": [],
            "_model_module": "@jupyter-widgets/controls",
            "_model_module_version": "1.5.0",
            "_model_name": "FloatProgressModel",
            "_view_count": null,
            "_view_module": "@jupyter-widgets/controls",
            "_view_module_version": "1.5.0",
            "_view_name": "ProgressView",
            "bar_style": "success",
            "description": "",
            "description_tooltip": null,
            "layout": "IPY_MODEL_77c38e4964af4bb69059bb53e70068fd",
            "max": 1,
            "min": 0,
            "orientation": "horizontal",
            "style": "IPY_MODEL_049eaf51199349d69cf9b2be761e233b",
            "value": 1
          }
        },
        "96e91729d2fc4fb5948f59dafe3fe951": {
          "model_module": "@jupyter-widgets/controls",
          "model_name": "HTMLModel",
          "model_module_version": "1.5.0",
          "state": {
            "_dom_classes": [],
            "_model_module": "@jupyter-widgets/controls",
            "_model_module_version": "1.5.0",
            "_model_name": "HTMLModel",
            "_view_count": null,
            "_view_module": "@jupyter-widgets/controls",
            "_view_module_version": "1.5.0",
            "_view_name": "HTMLView",
            "description": "",
            "description_tooltip": null,
            "layout": "IPY_MODEL_371a71bcde8a493ab658824dcaf2add7",
            "placeholder": "​",
            "style": "IPY_MODEL_384536899a8b460b80127b97829daa62",
            "value": " 1/1 [00:00&lt;00:00,  9.67ba/s]"
          }
        },
        "890496a9ecdf41bda4f8e9d4ab412bdd": {
          "model_module": "@jupyter-widgets/base",
          "model_name": "LayoutModel",
          "model_module_version": "1.2.0",
          "state": {
            "_model_module": "@jupyter-widgets/base",
            "_model_module_version": "1.2.0",
            "_model_name": "LayoutModel",
            "_view_count": null,
            "_view_module": "@jupyter-widgets/base",
            "_view_module_version": "1.2.0",
            "_view_name": "LayoutView",
            "align_content": null,
            "align_items": null,
            "align_self": null,
            "border": null,
            "bottom": null,
            "display": null,
            "flex": null,
            "flex_flow": null,
            "grid_area": null,
            "grid_auto_columns": null,
            "grid_auto_flow": null,
            "grid_auto_rows": null,
            "grid_column": null,
            "grid_gap": null,
            "grid_row": null,
            "grid_template_areas": null,
            "grid_template_columns": null,
            "grid_template_rows": null,
            "height": null,
            "justify_content": null,
            "justify_items": null,
            "left": null,
            "margin": null,
            "max_height": null,
            "max_width": null,
            "min_height": null,
            "min_width": null,
            "object_fit": null,
            "object_position": null,
            "order": null,
            "overflow": null,
            "overflow_x": null,
            "overflow_y": null,
            "padding": null,
            "right": null,
            "top": null,
            "visibility": null,
            "width": null
          }
        },
        "4decdf9c75d54ae2a692c165ed5c15e3": {
          "model_module": "@jupyter-widgets/base",
          "model_name": "LayoutModel",
          "model_module_version": "1.2.0",
          "state": {
            "_model_module": "@jupyter-widgets/base",
            "_model_module_version": "1.2.0",
            "_model_name": "LayoutModel",
            "_view_count": null,
            "_view_module": "@jupyter-widgets/base",
            "_view_module_version": "1.2.0",
            "_view_name": "LayoutView",
            "align_content": null,
            "align_items": null,
            "align_self": null,
            "border": null,
            "bottom": null,
            "display": null,
            "flex": null,
            "flex_flow": null,
            "grid_area": null,
            "grid_auto_columns": null,
            "grid_auto_flow": null,
            "grid_auto_rows": null,
            "grid_column": null,
            "grid_gap": null,
            "grid_row": null,
            "grid_template_areas": null,
            "grid_template_columns": null,
            "grid_template_rows": null,
            "height": null,
            "justify_content": null,
            "justify_items": null,
            "left": null,
            "margin": null,
            "max_height": null,
            "max_width": null,
            "min_height": null,
            "min_width": null,
            "object_fit": null,
            "object_position": null,
            "order": null,
            "overflow": null,
            "overflow_x": null,
            "overflow_y": null,
            "padding": null,
            "right": null,
            "top": null,
            "visibility": null,
            "width": null
          }
        },
        "b9fdeef8387c47489b5eafae1bc7ee45": {
          "model_module": "@jupyter-widgets/controls",
          "model_name": "DescriptionStyleModel",
          "model_module_version": "1.5.0",
          "state": {
            "_model_module": "@jupyter-widgets/controls",
            "_model_module_version": "1.5.0",
            "_model_name": "DescriptionStyleModel",
            "_view_count": null,
            "_view_module": "@jupyter-widgets/base",
            "_view_module_version": "1.2.0",
            "_view_name": "StyleView",
            "description_width": ""
          }
        },
        "77c38e4964af4bb69059bb53e70068fd": {
          "model_module": "@jupyter-widgets/base",
          "model_name": "LayoutModel",
          "model_module_version": "1.2.0",
          "state": {
            "_model_module": "@jupyter-widgets/base",
            "_model_module_version": "1.2.0",
            "_model_name": "LayoutModel",
            "_view_count": null,
            "_view_module": "@jupyter-widgets/base",
            "_view_module_version": "1.2.0",
            "_view_name": "LayoutView",
            "align_content": null,
            "align_items": null,
            "align_self": null,
            "border": null,
            "bottom": null,
            "display": null,
            "flex": null,
            "flex_flow": null,
            "grid_area": null,
            "grid_auto_columns": null,
            "grid_auto_flow": null,
            "grid_auto_rows": null,
            "grid_column": null,
            "grid_gap": null,
            "grid_row": null,
            "grid_template_areas": null,
            "grid_template_columns": null,
            "grid_template_rows": null,
            "height": null,
            "justify_content": null,
            "justify_items": null,
            "left": null,
            "margin": null,
            "max_height": null,
            "max_width": null,
            "min_height": null,
            "min_width": null,
            "object_fit": null,
            "object_position": null,
            "order": null,
            "overflow": null,
            "overflow_x": null,
            "overflow_y": null,
            "padding": null,
            "right": null,
            "top": null,
            "visibility": null,
            "width": null
          }
        },
        "049eaf51199349d69cf9b2be761e233b": {
          "model_module": "@jupyter-widgets/controls",
          "model_name": "ProgressStyleModel",
          "model_module_version": "1.5.0",
          "state": {
            "_model_module": "@jupyter-widgets/controls",
            "_model_module_version": "1.5.0",
            "_model_name": "ProgressStyleModel",
            "_view_count": null,
            "_view_module": "@jupyter-widgets/base",
            "_view_module_version": "1.2.0",
            "_view_name": "StyleView",
            "bar_color": null,
            "description_width": ""
          }
        },
        "371a71bcde8a493ab658824dcaf2add7": {
          "model_module": "@jupyter-widgets/base",
          "model_name": "LayoutModel",
          "model_module_version": "1.2.0",
          "state": {
            "_model_module": "@jupyter-widgets/base",
            "_model_module_version": "1.2.0",
            "_model_name": "LayoutModel",
            "_view_count": null,
            "_view_module": "@jupyter-widgets/base",
            "_view_module_version": "1.2.0",
            "_view_name": "LayoutView",
            "align_content": null,
            "align_items": null,
            "align_self": null,
            "border": null,
            "bottom": null,
            "display": null,
            "flex": null,
            "flex_flow": null,
            "grid_area": null,
            "grid_auto_columns": null,
            "grid_auto_flow": null,
            "grid_auto_rows": null,
            "grid_column": null,
            "grid_gap": null,
            "grid_row": null,
            "grid_template_areas": null,
            "grid_template_columns": null,
            "grid_template_rows": null,
            "height": null,
            "justify_content": null,
            "justify_items": null,
            "left": null,
            "margin": null,
            "max_height": null,
            "max_width": null,
            "min_height": null,
            "min_width": null,
            "object_fit": null,
            "object_position": null,
            "order": null,
            "overflow": null,
            "overflow_x": null,
            "overflow_y": null,
            "padding": null,
            "right": null,
            "top": null,
            "visibility": null,
            "width": null
          }
        },
        "384536899a8b460b80127b97829daa62": {
          "model_module": "@jupyter-widgets/controls",
          "model_name": "DescriptionStyleModel",
          "model_module_version": "1.5.0",
          "state": {
            "_model_module": "@jupyter-widgets/controls",
            "_model_module_version": "1.5.0",
            "_model_name": "DescriptionStyleModel",
            "_view_count": null,
            "_view_module": "@jupyter-widgets/base",
            "_view_module_version": "1.2.0",
            "_view_name": "StyleView",
            "description_width": ""
          }
        },
        "81d3246c8cd1497ead0da37a5d00e3a3": {
          "model_module": "@jupyter-widgets/controls",
          "model_name": "HBoxModel",
          "model_module_version": "1.5.0",
          "state": {
            "_dom_classes": [],
            "_model_module": "@jupyter-widgets/controls",
            "_model_module_version": "1.5.0",
            "_model_name": "HBoxModel",
            "_view_count": null,
            "_view_module": "@jupyter-widgets/controls",
            "_view_module_version": "1.5.0",
            "_view_name": "HBoxView",
            "box_style": "",
            "children": [
              "IPY_MODEL_4062c42664b94a9e87d57ef9dde985bc",
              "IPY_MODEL_6fffa9a453b548c3b00988ff84b6e1ea",
              "IPY_MODEL_bcac028a39224ee89027a2c3761cbe61"
            ],
            "layout": "IPY_MODEL_430031aee3284583bb7adfa21e4409eb"
          }
        },
        "4062c42664b94a9e87d57ef9dde985bc": {
          "model_module": "@jupyter-widgets/controls",
          "model_name": "HTMLModel",
          "model_module_version": "1.5.0",
          "state": {
            "_dom_classes": [],
            "_model_module": "@jupyter-widgets/controls",
            "_model_module_version": "1.5.0",
            "_model_name": "HTMLModel",
            "_view_count": null,
            "_view_module": "@jupyter-widgets/controls",
            "_view_module_version": "1.5.0",
            "_view_name": "HTMLView",
            "description": "",
            "description_tooltip": null,
            "layout": "IPY_MODEL_6d1ce6a28ae84f60b6e3d70850acac95",
            "placeholder": "​",
            "style": "IPY_MODEL_21bb120fb0134241a55c06ff4b2a77f4",
            "value": "100%"
          }
        },
        "6fffa9a453b548c3b00988ff84b6e1ea": {
          "model_module": "@jupyter-widgets/controls",
          "model_name": "FloatProgressModel",
          "model_module_version": "1.5.0",
          "state": {
            "_dom_classes": [],
            "_model_module": "@jupyter-widgets/controls",
            "_model_module_version": "1.5.0",
            "_model_name": "FloatProgressModel",
            "_view_count": null,
            "_view_module": "@jupyter-widgets/controls",
            "_view_module_version": "1.5.0",
            "_view_name": "ProgressView",
            "bar_style": "success",
            "description": "",
            "description_tooltip": null,
            "layout": "IPY_MODEL_574580798b7a4e2982e1394a7372390d",
            "max": 1,
            "min": 0,
            "orientation": "horizontal",
            "style": "IPY_MODEL_dfc0220d395243399d672415a1cb5983",
            "value": 1
          }
        },
        "bcac028a39224ee89027a2c3761cbe61": {
          "model_module": "@jupyter-widgets/controls",
          "model_name": "HTMLModel",
          "model_module_version": "1.5.0",
          "state": {
            "_dom_classes": [],
            "_model_module": "@jupyter-widgets/controls",
            "_model_module_version": "1.5.0",
            "_model_name": "HTMLModel",
            "_view_count": null,
            "_view_module": "@jupyter-widgets/controls",
            "_view_module_version": "1.5.0",
            "_view_name": "HTMLView",
            "description": "",
            "description_tooltip": null,
            "layout": "IPY_MODEL_1b40eae46422460b9d4c6afae2e06c4d",
            "placeholder": "​",
            "style": "IPY_MODEL_dacb08b10f0d46af9b06e745b13217a2",
            "value": " 1/1 [00:00&lt;00:00, 21.96ba/s]"
          }
        },
        "430031aee3284583bb7adfa21e4409eb": {
          "model_module": "@jupyter-widgets/base",
          "model_name": "LayoutModel",
          "model_module_version": "1.2.0",
          "state": {
            "_model_module": "@jupyter-widgets/base",
            "_model_module_version": "1.2.0",
            "_model_name": "LayoutModel",
            "_view_count": null,
            "_view_module": "@jupyter-widgets/base",
            "_view_module_version": "1.2.0",
            "_view_name": "LayoutView",
            "align_content": null,
            "align_items": null,
            "align_self": null,
            "border": null,
            "bottom": null,
            "display": null,
            "flex": null,
            "flex_flow": null,
            "grid_area": null,
            "grid_auto_columns": null,
            "grid_auto_flow": null,
            "grid_auto_rows": null,
            "grid_column": null,
            "grid_gap": null,
            "grid_row": null,
            "grid_template_areas": null,
            "grid_template_columns": null,
            "grid_template_rows": null,
            "height": null,
            "justify_content": null,
            "justify_items": null,
            "left": null,
            "margin": null,
            "max_height": null,
            "max_width": null,
            "min_height": null,
            "min_width": null,
            "object_fit": null,
            "object_position": null,
            "order": null,
            "overflow": null,
            "overflow_x": null,
            "overflow_y": null,
            "padding": null,
            "right": null,
            "top": null,
            "visibility": null,
            "width": null
          }
        },
        "6d1ce6a28ae84f60b6e3d70850acac95": {
          "model_module": "@jupyter-widgets/base",
          "model_name": "LayoutModel",
          "model_module_version": "1.2.0",
          "state": {
            "_model_module": "@jupyter-widgets/base",
            "_model_module_version": "1.2.0",
            "_model_name": "LayoutModel",
            "_view_count": null,
            "_view_module": "@jupyter-widgets/base",
            "_view_module_version": "1.2.0",
            "_view_name": "LayoutView",
            "align_content": null,
            "align_items": null,
            "align_self": null,
            "border": null,
            "bottom": null,
            "display": null,
            "flex": null,
            "flex_flow": null,
            "grid_area": null,
            "grid_auto_columns": null,
            "grid_auto_flow": null,
            "grid_auto_rows": null,
            "grid_column": null,
            "grid_gap": null,
            "grid_row": null,
            "grid_template_areas": null,
            "grid_template_columns": null,
            "grid_template_rows": null,
            "height": null,
            "justify_content": null,
            "justify_items": null,
            "left": null,
            "margin": null,
            "max_height": null,
            "max_width": null,
            "min_height": null,
            "min_width": null,
            "object_fit": null,
            "object_position": null,
            "order": null,
            "overflow": null,
            "overflow_x": null,
            "overflow_y": null,
            "padding": null,
            "right": null,
            "top": null,
            "visibility": null,
            "width": null
          }
        },
        "21bb120fb0134241a55c06ff4b2a77f4": {
          "model_module": "@jupyter-widgets/controls",
          "model_name": "DescriptionStyleModel",
          "model_module_version": "1.5.0",
          "state": {
            "_model_module": "@jupyter-widgets/controls",
            "_model_module_version": "1.5.0",
            "_model_name": "DescriptionStyleModel",
            "_view_count": null,
            "_view_module": "@jupyter-widgets/base",
            "_view_module_version": "1.2.0",
            "_view_name": "StyleView",
            "description_width": ""
          }
        },
        "574580798b7a4e2982e1394a7372390d": {
          "model_module": "@jupyter-widgets/base",
          "model_name": "LayoutModel",
          "model_module_version": "1.2.0",
          "state": {
            "_model_module": "@jupyter-widgets/base",
            "_model_module_version": "1.2.0",
            "_model_name": "LayoutModel",
            "_view_count": null,
            "_view_module": "@jupyter-widgets/base",
            "_view_module_version": "1.2.0",
            "_view_name": "LayoutView",
            "align_content": null,
            "align_items": null,
            "align_self": null,
            "border": null,
            "bottom": null,
            "display": null,
            "flex": null,
            "flex_flow": null,
            "grid_area": null,
            "grid_auto_columns": null,
            "grid_auto_flow": null,
            "grid_auto_rows": null,
            "grid_column": null,
            "grid_gap": null,
            "grid_row": null,
            "grid_template_areas": null,
            "grid_template_columns": null,
            "grid_template_rows": null,
            "height": null,
            "justify_content": null,
            "justify_items": null,
            "left": null,
            "margin": null,
            "max_height": null,
            "max_width": null,
            "min_height": null,
            "min_width": null,
            "object_fit": null,
            "object_position": null,
            "order": null,
            "overflow": null,
            "overflow_x": null,
            "overflow_y": null,
            "padding": null,
            "right": null,
            "top": null,
            "visibility": null,
            "width": null
          }
        },
        "dfc0220d395243399d672415a1cb5983": {
          "model_module": "@jupyter-widgets/controls",
          "model_name": "ProgressStyleModel",
          "model_module_version": "1.5.0",
          "state": {
            "_model_module": "@jupyter-widgets/controls",
            "_model_module_version": "1.5.0",
            "_model_name": "ProgressStyleModel",
            "_view_count": null,
            "_view_module": "@jupyter-widgets/base",
            "_view_module_version": "1.2.0",
            "_view_name": "StyleView",
            "bar_color": null,
            "description_width": ""
          }
        },
        "1b40eae46422460b9d4c6afae2e06c4d": {
          "model_module": "@jupyter-widgets/base",
          "model_name": "LayoutModel",
          "model_module_version": "1.2.0",
          "state": {
            "_model_module": "@jupyter-widgets/base",
            "_model_module_version": "1.2.0",
            "_model_name": "LayoutModel",
            "_view_count": null,
            "_view_module": "@jupyter-widgets/base",
            "_view_module_version": "1.2.0",
            "_view_name": "LayoutView",
            "align_content": null,
            "align_items": null,
            "align_self": null,
            "border": null,
            "bottom": null,
            "display": null,
            "flex": null,
            "flex_flow": null,
            "grid_area": null,
            "grid_auto_columns": null,
            "grid_auto_flow": null,
            "grid_auto_rows": null,
            "grid_column": null,
            "grid_gap": null,
            "grid_row": null,
            "grid_template_areas": null,
            "grid_template_columns": null,
            "grid_template_rows": null,
            "height": null,
            "justify_content": null,
            "justify_items": null,
            "left": null,
            "margin": null,
            "max_height": null,
            "max_width": null,
            "min_height": null,
            "min_width": null,
            "object_fit": null,
            "object_position": null,
            "order": null,
            "overflow": null,
            "overflow_x": null,
            "overflow_y": null,
            "padding": null,
            "right": null,
            "top": null,
            "visibility": null,
            "width": null
          }
        },
        "dacb08b10f0d46af9b06e745b13217a2": {
          "model_module": "@jupyter-widgets/controls",
          "model_name": "DescriptionStyleModel",
          "model_module_version": "1.5.0",
          "state": {
            "_model_module": "@jupyter-widgets/controls",
            "_model_module_version": "1.5.0",
            "_model_name": "DescriptionStyleModel",
            "_view_count": null,
            "_view_module": "@jupyter-widgets/base",
            "_view_module_version": "1.2.0",
            "_view_name": "StyleView",
            "description_width": ""
          }
        },
        "520ccfa3d7e1447ea9294825114d7030": {
          "model_module": "@jupyter-widgets/controls",
          "model_name": "HBoxModel",
          "model_module_version": "1.5.0",
          "state": {
            "_dom_classes": [],
            "_model_module": "@jupyter-widgets/controls",
            "_model_module_version": "1.5.0",
            "_model_name": "HBoxModel",
            "_view_count": null,
            "_view_module": "@jupyter-widgets/controls",
            "_view_module_version": "1.5.0",
            "_view_name": "HBoxView",
            "box_style": "",
            "children": [
              "IPY_MODEL_e1f7cb6dbed34cf7aaa7a7aef79a3b48",
              "IPY_MODEL_5904b66d20d14970baa1cf37ad7b75c0",
              "IPY_MODEL_eeb523bd95644c0db61d79c69b8295d0"
            ],
            "layout": "IPY_MODEL_b654e88bb19443b98e321a5fa952d9a1"
          }
        },
        "e1f7cb6dbed34cf7aaa7a7aef79a3b48": {
          "model_module": "@jupyter-widgets/controls",
          "model_name": "HTMLModel",
          "model_module_version": "1.5.0",
          "state": {
            "_dom_classes": [],
            "_model_module": "@jupyter-widgets/controls",
            "_model_module_version": "1.5.0",
            "_model_name": "HTMLModel",
            "_view_count": null,
            "_view_module": "@jupyter-widgets/controls",
            "_view_module_version": "1.5.0",
            "_view_name": "HTMLView",
            "description": "",
            "description_tooltip": null,
            "layout": "IPY_MODEL_88a13c1a25e54bdca2b8d0a447fbc7c9",
            "placeholder": "​",
            "style": "IPY_MODEL_1d53385ed9644cb99ae34a1c827a4225",
            "value": "100%"
          }
        },
        "5904b66d20d14970baa1cf37ad7b75c0": {
          "model_module": "@jupyter-widgets/controls",
          "model_name": "FloatProgressModel",
          "model_module_version": "1.5.0",
          "state": {
            "_dom_classes": [],
            "_model_module": "@jupyter-widgets/controls",
            "_model_module_version": "1.5.0",
            "_model_name": "FloatProgressModel",
            "_view_count": null,
            "_view_module": "@jupyter-widgets/controls",
            "_view_module_version": "1.5.0",
            "_view_name": "ProgressView",
            "bar_style": "success",
            "description": "",
            "description_tooltip": null,
            "layout": "IPY_MODEL_4eecd992238c409085a3bf74ff304a45",
            "max": 5,
            "min": 0,
            "orientation": "horizontal",
            "style": "IPY_MODEL_eb640667adc24939bccb0ef4b2053c52",
            "value": 5
          }
        },
        "eeb523bd95644c0db61d79c69b8295d0": {
          "model_module": "@jupyter-widgets/controls",
          "model_name": "HTMLModel",
          "model_module_version": "1.5.0",
          "state": {
            "_dom_classes": [],
            "_model_module": "@jupyter-widgets/controls",
            "_model_module_version": "1.5.0",
            "_model_name": "HTMLModel",
            "_view_count": null,
            "_view_module": "@jupyter-widgets/controls",
            "_view_module_version": "1.5.0",
            "_view_name": "HTMLView",
            "description": "",
            "description_tooltip": null,
            "layout": "IPY_MODEL_aca97c70fb904e52b777d998b2d0fdf1",
            "placeholder": "​",
            "style": "IPY_MODEL_5c0302a5ceec4a69be1bd78e949296f5",
            "value": " 5/5 [00:00&lt;00:00, 111.34ba/s]"
          }
        },
        "b654e88bb19443b98e321a5fa952d9a1": {
          "model_module": "@jupyter-widgets/base",
          "model_name": "LayoutModel",
          "model_module_version": "1.2.0",
          "state": {
            "_model_module": "@jupyter-widgets/base",
            "_model_module_version": "1.2.0",
            "_model_name": "LayoutModel",
            "_view_count": null,
            "_view_module": "@jupyter-widgets/base",
            "_view_module_version": "1.2.0",
            "_view_name": "LayoutView",
            "align_content": null,
            "align_items": null,
            "align_self": null,
            "border": null,
            "bottom": null,
            "display": null,
            "flex": null,
            "flex_flow": null,
            "grid_area": null,
            "grid_auto_columns": null,
            "grid_auto_flow": null,
            "grid_auto_rows": null,
            "grid_column": null,
            "grid_gap": null,
            "grid_row": null,
            "grid_template_areas": null,
            "grid_template_columns": null,
            "grid_template_rows": null,
            "height": null,
            "justify_content": null,
            "justify_items": null,
            "left": null,
            "margin": null,
            "max_height": null,
            "max_width": null,
            "min_height": null,
            "min_width": null,
            "object_fit": null,
            "object_position": null,
            "order": null,
            "overflow": null,
            "overflow_x": null,
            "overflow_y": null,
            "padding": null,
            "right": null,
            "top": null,
            "visibility": null,
            "width": null
          }
        },
        "88a13c1a25e54bdca2b8d0a447fbc7c9": {
          "model_module": "@jupyter-widgets/base",
          "model_name": "LayoutModel",
          "model_module_version": "1.2.0",
          "state": {
            "_model_module": "@jupyter-widgets/base",
            "_model_module_version": "1.2.0",
            "_model_name": "LayoutModel",
            "_view_count": null,
            "_view_module": "@jupyter-widgets/base",
            "_view_module_version": "1.2.0",
            "_view_name": "LayoutView",
            "align_content": null,
            "align_items": null,
            "align_self": null,
            "border": null,
            "bottom": null,
            "display": null,
            "flex": null,
            "flex_flow": null,
            "grid_area": null,
            "grid_auto_columns": null,
            "grid_auto_flow": null,
            "grid_auto_rows": null,
            "grid_column": null,
            "grid_gap": null,
            "grid_row": null,
            "grid_template_areas": null,
            "grid_template_columns": null,
            "grid_template_rows": null,
            "height": null,
            "justify_content": null,
            "justify_items": null,
            "left": null,
            "margin": null,
            "max_height": null,
            "max_width": null,
            "min_height": null,
            "min_width": null,
            "object_fit": null,
            "object_position": null,
            "order": null,
            "overflow": null,
            "overflow_x": null,
            "overflow_y": null,
            "padding": null,
            "right": null,
            "top": null,
            "visibility": null,
            "width": null
          }
        },
        "1d53385ed9644cb99ae34a1c827a4225": {
          "model_module": "@jupyter-widgets/controls",
          "model_name": "DescriptionStyleModel",
          "model_module_version": "1.5.0",
          "state": {
            "_model_module": "@jupyter-widgets/controls",
            "_model_module_version": "1.5.0",
            "_model_name": "DescriptionStyleModel",
            "_view_count": null,
            "_view_module": "@jupyter-widgets/base",
            "_view_module_version": "1.2.0",
            "_view_name": "StyleView",
            "description_width": ""
          }
        },
        "4eecd992238c409085a3bf74ff304a45": {
          "model_module": "@jupyter-widgets/base",
          "model_name": "LayoutModel",
          "model_module_version": "1.2.0",
          "state": {
            "_model_module": "@jupyter-widgets/base",
            "_model_module_version": "1.2.0",
            "_model_name": "LayoutModel",
            "_view_count": null,
            "_view_module": "@jupyter-widgets/base",
            "_view_module_version": "1.2.0",
            "_view_name": "LayoutView",
            "align_content": null,
            "align_items": null,
            "align_self": null,
            "border": null,
            "bottom": null,
            "display": null,
            "flex": null,
            "flex_flow": null,
            "grid_area": null,
            "grid_auto_columns": null,
            "grid_auto_flow": null,
            "grid_auto_rows": null,
            "grid_column": null,
            "grid_gap": null,
            "grid_row": null,
            "grid_template_areas": null,
            "grid_template_columns": null,
            "grid_template_rows": null,
            "height": null,
            "justify_content": null,
            "justify_items": null,
            "left": null,
            "margin": null,
            "max_height": null,
            "max_width": null,
            "min_height": null,
            "min_width": null,
            "object_fit": null,
            "object_position": null,
            "order": null,
            "overflow": null,
            "overflow_x": null,
            "overflow_y": null,
            "padding": null,
            "right": null,
            "top": null,
            "visibility": null,
            "width": null
          }
        },
        "eb640667adc24939bccb0ef4b2053c52": {
          "model_module": "@jupyter-widgets/controls",
          "model_name": "ProgressStyleModel",
          "model_module_version": "1.5.0",
          "state": {
            "_model_module": "@jupyter-widgets/controls",
            "_model_module_version": "1.5.0",
            "_model_name": "ProgressStyleModel",
            "_view_count": null,
            "_view_module": "@jupyter-widgets/base",
            "_view_module_version": "1.2.0",
            "_view_name": "StyleView",
            "bar_color": null,
            "description_width": ""
          }
        },
        "aca97c70fb904e52b777d998b2d0fdf1": {
          "model_module": "@jupyter-widgets/base",
          "model_name": "LayoutModel",
          "model_module_version": "1.2.0",
          "state": {
            "_model_module": "@jupyter-widgets/base",
            "_model_module_version": "1.2.0",
            "_model_name": "LayoutModel",
            "_view_count": null,
            "_view_module": "@jupyter-widgets/base",
            "_view_module_version": "1.2.0",
            "_view_name": "LayoutView",
            "align_content": null,
            "align_items": null,
            "align_self": null,
            "border": null,
            "bottom": null,
            "display": null,
            "flex": null,
            "flex_flow": null,
            "grid_area": null,
            "grid_auto_columns": null,
            "grid_auto_flow": null,
            "grid_auto_rows": null,
            "grid_column": null,
            "grid_gap": null,
            "grid_row": null,
            "grid_template_areas": null,
            "grid_template_columns": null,
            "grid_template_rows": null,
            "height": null,
            "justify_content": null,
            "justify_items": null,
            "left": null,
            "margin": null,
            "max_height": null,
            "max_width": null,
            "min_height": null,
            "min_width": null,
            "object_fit": null,
            "object_position": null,
            "order": null,
            "overflow": null,
            "overflow_x": null,
            "overflow_y": null,
            "padding": null,
            "right": null,
            "top": null,
            "visibility": null,
            "width": null
          }
        },
        "5c0302a5ceec4a69be1bd78e949296f5": {
          "model_module": "@jupyter-widgets/controls",
          "model_name": "DescriptionStyleModel",
          "model_module_version": "1.5.0",
          "state": {
            "_model_module": "@jupyter-widgets/controls",
            "_model_module_version": "1.5.0",
            "_model_name": "DescriptionStyleModel",
            "_view_count": null,
            "_view_module": "@jupyter-widgets/base",
            "_view_module_version": "1.2.0",
            "_view_name": "StyleView",
            "description_width": ""
          }
        },
        "12d39f5eb6474dc394ebaed8b0d659f3": {
          "model_module": "@jupyter-widgets/controls",
          "model_name": "HBoxModel",
          "model_module_version": "1.5.0",
          "state": {
            "_dom_classes": [],
            "_model_module": "@jupyter-widgets/controls",
            "_model_module_version": "1.5.0",
            "_model_name": "HBoxModel",
            "_view_count": null,
            "_view_module": "@jupyter-widgets/controls",
            "_view_module_version": "1.5.0",
            "_view_name": "HBoxView",
            "box_style": "",
            "children": [
              "IPY_MODEL_4c112a655b5f4ce9886391e07702cb1a",
              "IPY_MODEL_7008f4e16e0541a8889e9dd8869c8331",
              "IPY_MODEL_0d83314871d44dd088634b7711ed08a1"
            ],
            "layout": "IPY_MODEL_d4631874498f4d92abd71bedba08a11c"
          }
        },
        "4c112a655b5f4ce9886391e07702cb1a": {
          "model_module": "@jupyter-widgets/controls",
          "model_name": "HTMLModel",
          "model_module_version": "1.5.0",
          "state": {
            "_dom_classes": [],
            "_model_module": "@jupyter-widgets/controls",
            "_model_module_version": "1.5.0",
            "_model_name": "HTMLModel",
            "_view_count": null,
            "_view_module": "@jupyter-widgets/controls",
            "_view_module_version": "1.5.0",
            "_view_name": "HTMLView",
            "description": "",
            "description_tooltip": null,
            "layout": "IPY_MODEL_a9d178f5797d4ade9194699e6eeb1d34",
            "placeholder": "​",
            "style": "IPY_MODEL_637327dc8e1b48a7a06e6aac5f9bb3be",
            "value": "Downloading: "
          }
        },
        "7008f4e16e0541a8889e9dd8869c8331": {
          "model_module": "@jupyter-widgets/controls",
          "model_name": "FloatProgressModel",
          "model_module_version": "1.5.0",
          "state": {
            "_dom_classes": [],
            "_model_module": "@jupyter-widgets/controls",
            "_model_module_version": "1.5.0",
            "_model_name": "FloatProgressModel",
            "_view_count": null,
            "_view_module": "@jupyter-widgets/controls",
            "_view_module_version": "1.5.0",
            "_view_name": "ProgressView",
            "bar_style": "success",
            "description": "",
            "description_tooltip": null,
            "layout": "IPY_MODEL_ee3f077b4a2340428855e21021564655",
            "max": 1901,
            "min": 0,
            "orientation": "horizontal",
            "style": "IPY_MODEL_0f93723e34f4461bad02f7a107250ad3",
            "value": 1901
          }
        },
        "0d83314871d44dd088634b7711ed08a1": {
          "model_module": "@jupyter-widgets/controls",
          "model_name": "HTMLModel",
          "model_module_version": "1.5.0",
          "state": {
            "_dom_classes": [],
            "_model_module": "@jupyter-widgets/controls",
            "_model_module_version": "1.5.0",
            "_model_name": "HTMLModel",
            "_view_count": null,
            "_view_module": "@jupyter-widgets/controls",
            "_view_module_version": "1.5.0",
            "_view_name": "HTMLView",
            "description": "",
            "description_tooltip": null,
            "layout": "IPY_MODEL_6ef85d412cae47348303bb706f736746",
            "placeholder": "​",
            "style": "IPY_MODEL_68ef52fd799d47109d69b7171559d955",
            "value": " 4.48k/? [00:00&lt;00:00, 239kB/s]"
          }
        },
        "d4631874498f4d92abd71bedba08a11c": {
          "model_module": "@jupyter-widgets/base",
          "model_name": "LayoutModel",
          "model_module_version": "1.2.0",
          "state": {
            "_model_module": "@jupyter-widgets/base",
            "_model_module_version": "1.2.0",
            "_model_name": "LayoutModel",
            "_view_count": null,
            "_view_module": "@jupyter-widgets/base",
            "_view_module_version": "1.2.0",
            "_view_name": "LayoutView",
            "align_content": null,
            "align_items": null,
            "align_self": null,
            "border": null,
            "bottom": null,
            "display": null,
            "flex": null,
            "flex_flow": null,
            "grid_area": null,
            "grid_auto_columns": null,
            "grid_auto_flow": null,
            "grid_auto_rows": null,
            "grid_column": null,
            "grid_gap": null,
            "grid_row": null,
            "grid_template_areas": null,
            "grid_template_columns": null,
            "grid_template_rows": null,
            "height": null,
            "justify_content": null,
            "justify_items": null,
            "left": null,
            "margin": null,
            "max_height": null,
            "max_width": null,
            "min_height": null,
            "min_width": null,
            "object_fit": null,
            "object_position": null,
            "order": null,
            "overflow": null,
            "overflow_x": null,
            "overflow_y": null,
            "padding": null,
            "right": null,
            "top": null,
            "visibility": null,
            "width": null
          }
        },
        "a9d178f5797d4ade9194699e6eeb1d34": {
          "model_module": "@jupyter-widgets/base",
          "model_name": "LayoutModel",
          "model_module_version": "1.2.0",
          "state": {
            "_model_module": "@jupyter-widgets/base",
            "_model_module_version": "1.2.0",
            "_model_name": "LayoutModel",
            "_view_count": null,
            "_view_module": "@jupyter-widgets/base",
            "_view_module_version": "1.2.0",
            "_view_name": "LayoutView",
            "align_content": null,
            "align_items": null,
            "align_self": null,
            "border": null,
            "bottom": null,
            "display": null,
            "flex": null,
            "flex_flow": null,
            "grid_area": null,
            "grid_auto_columns": null,
            "grid_auto_flow": null,
            "grid_auto_rows": null,
            "grid_column": null,
            "grid_gap": null,
            "grid_row": null,
            "grid_template_areas": null,
            "grid_template_columns": null,
            "grid_template_rows": null,
            "height": null,
            "justify_content": null,
            "justify_items": null,
            "left": null,
            "margin": null,
            "max_height": null,
            "max_width": null,
            "min_height": null,
            "min_width": null,
            "object_fit": null,
            "object_position": null,
            "order": null,
            "overflow": null,
            "overflow_x": null,
            "overflow_y": null,
            "padding": null,
            "right": null,
            "top": null,
            "visibility": null,
            "width": null
          }
        },
        "637327dc8e1b48a7a06e6aac5f9bb3be": {
          "model_module": "@jupyter-widgets/controls",
          "model_name": "DescriptionStyleModel",
          "model_module_version": "1.5.0",
          "state": {
            "_model_module": "@jupyter-widgets/controls",
            "_model_module_version": "1.5.0",
            "_model_name": "DescriptionStyleModel",
            "_view_count": null,
            "_view_module": "@jupyter-widgets/base",
            "_view_module_version": "1.2.0",
            "_view_name": "StyleView",
            "description_width": ""
          }
        },
        "ee3f077b4a2340428855e21021564655": {
          "model_module": "@jupyter-widgets/base",
          "model_name": "LayoutModel",
          "model_module_version": "1.2.0",
          "state": {
            "_model_module": "@jupyter-widgets/base",
            "_model_module_version": "1.2.0",
            "_model_name": "LayoutModel",
            "_view_count": null,
            "_view_module": "@jupyter-widgets/base",
            "_view_module_version": "1.2.0",
            "_view_name": "LayoutView",
            "align_content": null,
            "align_items": null,
            "align_self": null,
            "border": null,
            "bottom": null,
            "display": null,
            "flex": null,
            "flex_flow": null,
            "grid_area": null,
            "grid_auto_columns": null,
            "grid_auto_flow": null,
            "grid_auto_rows": null,
            "grid_column": null,
            "grid_gap": null,
            "grid_row": null,
            "grid_template_areas": null,
            "grid_template_columns": null,
            "grid_template_rows": null,
            "height": null,
            "justify_content": null,
            "justify_items": null,
            "left": null,
            "margin": null,
            "max_height": null,
            "max_width": null,
            "min_height": null,
            "min_width": null,
            "object_fit": null,
            "object_position": null,
            "order": null,
            "overflow": null,
            "overflow_x": null,
            "overflow_y": null,
            "padding": null,
            "right": null,
            "top": null,
            "visibility": null,
            "width": null
          }
        },
        "0f93723e34f4461bad02f7a107250ad3": {
          "model_module": "@jupyter-widgets/controls",
          "model_name": "ProgressStyleModel",
          "model_module_version": "1.5.0",
          "state": {
            "_model_module": "@jupyter-widgets/controls",
            "_model_module_version": "1.5.0",
            "_model_name": "ProgressStyleModel",
            "_view_count": null,
            "_view_module": "@jupyter-widgets/base",
            "_view_module_version": "1.2.0",
            "_view_name": "StyleView",
            "bar_color": null,
            "description_width": ""
          }
        },
        "6ef85d412cae47348303bb706f736746": {
          "model_module": "@jupyter-widgets/base",
          "model_name": "LayoutModel",
          "model_module_version": "1.2.0",
          "state": {
            "_model_module": "@jupyter-widgets/base",
            "_model_module_version": "1.2.0",
            "_model_name": "LayoutModel",
            "_view_count": null,
            "_view_module": "@jupyter-widgets/base",
            "_view_module_version": "1.2.0",
            "_view_name": "LayoutView",
            "align_content": null,
            "align_items": null,
            "align_self": null,
            "border": null,
            "bottom": null,
            "display": null,
            "flex": null,
            "flex_flow": null,
            "grid_area": null,
            "grid_auto_columns": null,
            "grid_auto_flow": null,
            "grid_auto_rows": null,
            "grid_column": null,
            "grid_gap": null,
            "grid_row": null,
            "grid_template_areas": null,
            "grid_template_columns": null,
            "grid_template_rows": null,
            "height": null,
            "justify_content": null,
            "justify_items": null,
            "left": null,
            "margin": null,
            "max_height": null,
            "max_width": null,
            "min_height": null,
            "min_width": null,
            "object_fit": null,
            "object_position": null,
            "order": null,
            "overflow": null,
            "overflow_x": null,
            "overflow_y": null,
            "padding": null,
            "right": null,
            "top": null,
            "visibility": null,
            "width": null
          }
        },
        "68ef52fd799d47109d69b7171559d955": {
          "model_module": "@jupyter-widgets/controls",
          "model_name": "DescriptionStyleModel",
          "model_module_version": "1.5.0",
          "state": {
            "_model_module": "@jupyter-widgets/controls",
            "_model_module_version": "1.5.0",
            "_model_name": "DescriptionStyleModel",
            "_view_count": null,
            "_view_module": "@jupyter-widgets/base",
            "_view_module_version": "1.2.0",
            "_view_name": "StyleView",
            "description_width": ""
          }
        },
        "7f58991cc9b94432b82cb7f1b5c26e40": {
          "model_module": "@jupyter-widgets/controls",
          "model_name": "HBoxModel",
          "model_module_version": "1.5.0",
          "state": {
            "_dom_classes": [],
            "_model_module": "@jupyter-widgets/controls",
            "_model_module_version": "1.5.0",
            "_model_name": "HBoxModel",
            "_view_count": null,
            "_view_module": "@jupyter-widgets/controls",
            "_view_module_version": "1.5.0",
            "_view_name": "HBoxView",
            "box_style": "",
            "children": [
              "IPY_MODEL_77fc205f75e646afad327fb8ff5bb6fa",
              "IPY_MODEL_2129cd35d7414800857f2a1ae673b591",
              "IPY_MODEL_0c79cfb996ac4eecae06d24f50a11ab9"
            ],
            "layout": "IPY_MODEL_024ce40a5d154bc38b92af9d51308137"
          }
        },
        "77fc205f75e646afad327fb8ff5bb6fa": {
          "model_module": "@jupyter-widgets/controls",
          "model_name": "HTMLModel",
          "model_module_version": "1.5.0",
          "state": {
            "_dom_classes": [],
            "_model_module": "@jupyter-widgets/controls",
            "_model_module_version": "1.5.0",
            "_model_name": "HTMLModel",
            "_view_count": null,
            "_view_module": "@jupyter-widgets/controls",
            "_view_module_version": "1.5.0",
            "_view_name": "HTMLView",
            "description": "",
            "description_tooltip": null,
            "layout": "IPY_MODEL_a4fed13d882f4765b98366a7a440ffb7",
            "placeholder": "​",
            "style": "IPY_MODEL_a9269a9ce9b04849aee783c037e02ecb",
            "value": "Downloading: 100%"
          }
        },
        "2129cd35d7414800857f2a1ae673b591": {
          "model_module": "@jupyter-widgets/controls",
          "model_name": "FloatProgressModel",
          "model_module_version": "1.5.0",
          "state": {
            "_dom_classes": [],
            "_model_module": "@jupyter-widgets/controls",
            "_model_module_version": "1.5.0",
            "_model_name": "FloatProgressModel",
            "_view_count": null,
            "_view_module": "@jupyter-widgets/controls",
            "_view_module_version": "1.5.0",
            "_view_name": "ProgressView",
            "bar_style": "success",
            "description": "",
            "description_tooltip": null,
            "layout": "IPY_MODEL_95b82944fe5a46ae99c077e369cf268a",
            "max": 1553,
            "min": 0,
            "orientation": "horizontal",
            "style": "IPY_MODEL_ff2301acb10e4a909483feed14f39d78",
            "value": 1553
          }
        },
        "0c79cfb996ac4eecae06d24f50a11ab9": {
          "model_module": "@jupyter-widgets/controls",
          "model_name": "HTMLModel",
          "model_module_version": "1.5.0",
          "state": {
            "_dom_classes": [],
            "_model_module": "@jupyter-widgets/controls",
            "_model_module_version": "1.5.0",
            "_model_name": "HTMLModel",
            "_view_count": null,
            "_view_module": "@jupyter-widgets/controls",
            "_view_module_version": "1.5.0",
            "_view_name": "HTMLView",
            "description": "",
            "description_tooltip": null,
            "layout": "IPY_MODEL_493477a83d524e1a8e6d51b1d1e7572a",
            "placeholder": "​",
            "style": "IPY_MODEL_d4053b64b4254b1fb225feab1f9ca97e",
            "value": " 1.55k/1.55k [00:00&lt;00:00, 37.5kB/s]"
          }
        },
        "024ce40a5d154bc38b92af9d51308137": {
          "model_module": "@jupyter-widgets/base",
          "model_name": "LayoutModel",
          "model_module_version": "1.2.0",
          "state": {
            "_model_module": "@jupyter-widgets/base",
            "_model_module_version": "1.2.0",
            "_model_name": "LayoutModel",
            "_view_count": null,
            "_view_module": "@jupyter-widgets/base",
            "_view_module_version": "1.2.0",
            "_view_name": "LayoutView",
            "align_content": null,
            "align_items": null,
            "align_self": null,
            "border": null,
            "bottom": null,
            "display": null,
            "flex": null,
            "flex_flow": null,
            "grid_area": null,
            "grid_auto_columns": null,
            "grid_auto_flow": null,
            "grid_auto_rows": null,
            "grid_column": null,
            "grid_gap": null,
            "grid_row": null,
            "grid_template_areas": null,
            "grid_template_columns": null,
            "grid_template_rows": null,
            "height": null,
            "justify_content": null,
            "justify_items": null,
            "left": null,
            "margin": null,
            "max_height": null,
            "max_width": null,
            "min_height": null,
            "min_width": null,
            "object_fit": null,
            "object_position": null,
            "order": null,
            "overflow": null,
            "overflow_x": null,
            "overflow_y": null,
            "padding": null,
            "right": null,
            "top": null,
            "visibility": null,
            "width": null
          }
        },
        "a4fed13d882f4765b98366a7a440ffb7": {
          "model_module": "@jupyter-widgets/base",
          "model_name": "LayoutModel",
          "model_module_version": "1.2.0",
          "state": {
            "_model_module": "@jupyter-widgets/base",
            "_model_module_version": "1.2.0",
            "_model_name": "LayoutModel",
            "_view_count": null,
            "_view_module": "@jupyter-widgets/base",
            "_view_module_version": "1.2.0",
            "_view_name": "LayoutView",
            "align_content": null,
            "align_items": null,
            "align_self": null,
            "border": null,
            "bottom": null,
            "display": null,
            "flex": null,
            "flex_flow": null,
            "grid_area": null,
            "grid_auto_columns": null,
            "grid_auto_flow": null,
            "grid_auto_rows": null,
            "grid_column": null,
            "grid_gap": null,
            "grid_row": null,
            "grid_template_areas": null,
            "grid_template_columns": null,
            "grid_template_rows": null,
            "height": null,
            "justify_content": null,
            "justify_items": null,
            "left": null,
            "margin": null,
            "max_height": null,
            "max_width": null,
            "min_height": null,
            "min_width": null,
            "object_fit": null,
            "object_position": null,
            "order": null,
            "overflow": null,
            "overflow_x": null,
            "overflow_y": null,
            "padding": null,
            "right": null,
            "top": null,
            "visibility": null,
            "width": null
          }
        },
        "a9269a9ce9b04849aee783c037e02ecb": {
          "model_module": "@jupyter-widgets/controls",
          "model_name": "DescriptionStyleModel",
          "model_module_version": "1.5.0",
          "state": {
            "_model_module": "@jupyter-widgets/controls",
            "_model_module_version": "1.5.0",
            "_model_name": "DescriptionStyleModel",
            "_view_count": null,
            "_view_module": "@jupyter-widgets/base",
            "_view_module_version": "1.2.0",
            "_view_name": "StyleView",
            "description_width": ""
          }
        },
        "95b82944fe5a46ae99c077e369cf268a": {
          "model_module": "@jupyter-widgets/base",
          "model_name": "LayoutModel",
          "model_module_version": "1.2.0",
          "state": {
            "_model_module": "@jupyter-widgets/base",
            "_model_module_version": "1.2.0",
            "_model_name": "LayoutModel",
            "_view_count": null,
            "_view_module": "@jupyter-widgets/base",
            "_view_module_version": "1.2.0",
            "_view_name": "LayoutView",
            "align_content": null,
            "align_items": null,
            "align_self": null,
            "border": null,
            "bottom": null,
            "display": null,
            "flex": null,
            "flex_flow": null,
            "grid_area": null,
            "grid_auto_columns": null,
            "grid_auto_flow": null,
            "grid_auto_rows": null,
            "grid_column": null,
            "grid_gap": null,
            "grid_row": null,
            "grid_template_areas": null,
            "grid_template_columns": null,
            "grid_template_rows": null,
            "height": null,
            "justify_content": null,
            "justify_items": null,
            "left": null,
            "margin": null,
            "max_height": null,
            "max_width": null,
            "min_height": null,
            "min_width": null,
            "object_fit": null,
            "object_position": null,
            "order": null,
            "overflow": null,
            "overflow_x": null,
            "overflow_y": null,
            "padding": null,
            "right": null,
            "top": null,
            "visibility": null,
            "width": null
          }
        },
        "ff2301acb10e4a909483feed14f39d78": {
          "model_module": "@jupyter-widgets/controls",
          "model_name": "ProgressStyleModel",
          "model_module_version": "1.5.0",
          "state": {
            "_model_module": "@jupyter-widgets/controls",
            "_model_module_version": "1.5.0",
            "_model_name": "ProgressStyleModel",
            "_view_count": null,
            "_view_module": "@jupyter-widgets/base",
            "_view_module_version": "1.2.0",
            "_view_name": "StyleView",
            "bar_color": null,
            "description_width": ""
          }
        },
        "493477a83d524e1a8e6d51b1d1e7572a": {
          "model_module": "@jupyter-widgets/base",
          "model_name": "LayoutModel",
          "model_module_version": "1.2.0",
          "state": {
            "_model_module": "@jupyter-widgets/base",
            "_model_module_version": "1.2.0",
            "_model_name": "LayoutModel",
            "_view_count": null,
            "_view_module": "@jupyter-widgets/base",
            "_view_module_version": "1.2.0",
            "_view_name": "LayoutView",
            "align_content": null,
            "align_items": null,
            "align_self": null,
            "border": null,
            "bottom": null,
            "display": null,
            "flex": null,
            "flex_flow": null,
            "grid_area": null,
            "grid_auto_columns": null,
            "grid_auto_flow": null,
            "grid_auto_rows": null,
            "grid_column": null,
            "grid_gap": null,
            "grid_row": null,
            "grid_template_areas": null,
            "grid_template_columns": null,
            "grid_template_rows": null,
            "height": null,
            "justify_content": null,
            "justify_items": null,
            "left": null,
            "margin": null,
            "max_height": null,
            "max_width": null,
            "min_height": null,
            "min_width": null,
            "object_fit": null,
            "object_position": null,
            "order": null,
            "overflow": null,
            "overflow_x": null,
            "overflow_y": null,
            "padding": null,
            "right": null,
            "top": null,
            "visibility": null,
            "width": null
          }
        },
        "d4053b64b4254b1fb225feab1f9ca97e": {
          "model_module": "@jupyter-widgets/controls",
          "model_name": "DescriptionStyleModel",
          "model_module_version": "1.5.0",
          "state": {
            "_model_module": "@jupyter-widgets/controls",
            "_model_module_version": "1.5.0",
            "_model_name": "DescriptionStyleModel",
            "_view_count": null,
            "_view_module": "@jupyter-widgets/base",
            "_view_module_version": "1.2.0",
            "_view_name": "StyleView",
            "description_width": ""
          }
        },
        "6715e7e41e2b4061ac9a8ce86c7a9c2f": {
          "model_module": "@jupyter-widgets/controls",
          "model_name": "HBoxModel",
          "model_module_version": "1.5.0",
          "state": {
            "_dom_classes": [],
            "_model_module": "@jupyter-widgets/controls",
            "_model_module_version": "1.5.0",
            "_model_name": "HBoxModel",
            "_view_count": null,
            "_view_module": "@jupyter-widgets/controls",
            "_view_module_version": "1.5.0",
            "_view_name": "HBoxView",
            "box_style": "",
            "children": [
              "IPY_MODEL_9f9521f2917342308f073e117bdf0e71",
              "IPY_MODEL_00de0a628b8e48f98791faba92392519",
              "IPY_MODEL_25c518dca3884415a642506e91e5ce14"
            ],
            "layout": "IPY_MODEL_06fca186963e4d01b5474bc5dceb3c26"
          }
        },
        "9f9521f2917342308f073e117bdf0e71": {
          "model_module": "@jupyter-widgets/controls",
          "model_name": "HTMLModel",
          "model_module_version": "1.5.0",
          "state": {
            "_dom_classes": [],
            "_model_module": "@jupyter-widgets/controls",
            "_model_module_version": "1.5.0",
            "_model_name": "HTMLModel",
            "_view_count": null,
            "_view_module": "@jupyter-widgets/controls",
            "_view_module_version": "1.5.0",
            "_view_name": "HTMLView",
            "description": "",
            "description_tooltip": null,
            "layout": "IPY_MODEL_2971865c5d264b41a540ac6bf8869f61",
            "placeholder": "​",
            "style": "IPY_MODEL_660014a5eaec42529354edc21e6fc8a2",
            "value": "Downloading: 100%"
          }
        },
        "00de0a628b8e48f98791faba92392519": {
          "model_module": "@jupyter-widgets/controls",
          "model_name": "FloatProgressModel",
          "model_module_version": "1.5.0",
          "state": {
            "_dom_classes": [],
            "_model_module": "@jupyter-widgets/controls",
            "_model_module_version": "1.5.0",
            "_model_name": "FloatProgressModel",
            "_view_count": null,
            "_view_module": "@jupyter-widgets/controls",
            "_view_module_version": "1.5.0",
            "_view_name": "ProgressView",
            "bar_style": "success",
            "description": "",
            "description_tooltip": null,
            "layout": "IPY_MODEL_beebda7da8804c28a35b5f429fe0f613",
            "max": 1269737156,
            "min": 0,
            "orientation": "horizontal",
            "style": "IPY_MODEL_7e79d1bd505f441a87e4cdbe53ffd598",
            "value": 1269737156
          }
        },
        "25c518dca3884415a642506e91e5ce14": {
          "model_module": "@jupyter-widgets/controls",
          "model_name": "HTMLModel",
          "model_module_version": "1.5.0",
          "state": {
            "_dom_classes": [],
            "_model_module": "@jupyter-widgets/controls",
            "_model_module_version": "1.5.0",
            "_model_name": "HTMLModel",
            "_view_count": null,
            "_view_module": "@jupyter-widgets/controls",
            "_view_module_version": "1.5.0",
            "_view_name": "HTMLView",
            "description": "",
            "description_tooltip": null,
            "layout": "IPY_MODEL_b8409b3da1a743c29c4ae251c34575e7",
            "placeholder": "​",
            "style": "IPY_MODEL_a9890d2268e0467e92202eaa53bb1bfb",
            "value": " 1.27G/1.27G [00:18&lt;00:00, 79.0MB/s]"
          }
        },
        "06fca186963e4d01b5474bc5dceb3c26": {
          "model_module": "@jupyter-widgets/base",
          "model_name": "LayoutModel",
          "model_module_version": "1.2.0",
          "state": {
            "_model_module": "@jupyter-widgets/base",
            "_model_module_version": "1.2.0",
            "_model_name": "LayoutModel",
            "_view_count": null,
            "_view_module": "@jupyter-widgets/base",
            "_view_module_version": "1.2.0",
            "_view_name": "LayoutView",
            "align_content": null,
            "align_items": null,
            "align_self": null,
            "border": null,
            "bottom": null,
            "display": null,
            "flex": null,
            "flex_flow": null,
            "grid_area": null,
            "grid_auto_columns": null,
            "grid_auto_flow": null,
            "grid_auto_rows": null,
            "grid_column": null,
            "grid_gap": null,
            "grid_row": null,
            "grid_template_areas": null,
            "grid_template_columns": null,
            "grid_template_rows": null,
            "height": null,
            "justify_content": null,
            "justify_items": null,
            "left": null,
            "margin": null,
            "max_height": null,
            "max_width": null,
            "min_height": null,
            "min_width": null,
            "object_fit": null,
            "object_position": null,
            "order": null,
            "overflow": null,
            "overflow_x": null,
            "overflow_y": null,
            "padding": null,
            "right": null,
            "top": null,
            "visibility": null,
            "width": null
          }
        },
        "2971865c5d264b41a540ac6bf8869f61": {
          "model_module": "@jupyter-widgets/base",
          "model_name": "LayoutModel",
          "model_module_version": "1.2.0",
          "state": {
            "_model_module": "@jupyter-widgets/base",
            "_model_module_version": "1.2.0",
            "_model_name": "LayoutModel",
            "_view_count": null,
            "_view_module": "@jupyter-widgets/base",
            "_view_module_version": "1.2.0",
            "_view_name": "LayoutView",
            "align_content": null,
            "align_items": null,
            "align_self": null,
            "border": null,
            "bottom": null,
            "display": null,
            "flex": null,
            "flex_flow": null,
            "grid_area": null,
            "grid_auto_columns": null,
            "grid_auto_flow": null,
            "grid_auto_rows": null,
            "grid_column": null,
            "grid_gap": null,
            "grid_row": null,
            "grid_template_areas": null,
            "grid_template_columns": null,
            "grid_template_rows": null,
            "height": null,
            "justify_content": null,
            "justify_items": null,
            "left": null,
            "margin": null,
            "max_height": null,
            "max_width": null,
            "min_height": null,
            "min_width": null,
            "object_fit": null,
            "object_position": null,
            "order": null,
            "overflow": null,
            "overflow_x": null,
            "overflow_y": null,
            "padding": null,
            "right": null,
            "top": null,
            "visibility": null,
            "width": null
          }
        },
        "660014a5eaec42529354edc21e6fc8a2": {
          "model_module": "@jupyter-widgets/controls",
          "model_name": "DescriptionStyleModel",
          "model_module_version": "1.5.0",
          "state": {
            "_model_module": "@jupyter-widgets/controls",
            "_model_module_version": "1.5.0",
            "_model_name": "DescriptionStyleModel",
            "_view_count": null,
            "_view_module": "@jupyter-widgets/base",
            "_view_module_version": "1.2.0",
            "_view_name": "StyleView",
            "description_width": ""
          }
        },
        "beebda7da8804c28a35b5f429fe0f613": {
          "model_module": "@jupyter-widgets/base",
          "model_name": "LayoutModel",
          "model_module_version": "1.2.0",
          "state": {
            "_model_module": "@jupyter-widgets/base",
            "_model_module_version": "1.2.0",
            "_model_name": "LayoutModel",
            "_view_count": null,
            "_view_module": "@jupyter-widgets/base",
            "_view_module_version": "1.2.0",
            "_view_name": "LayoutView",
            "align_content": null,
            "align_items": null,
            "align_self": null,
            "border": null,
            "bottom": null,
            "display": null,
            "flex": null,
            "flex_flow": null,
            "grid_area": null,
            "grid_auto_columns": null,
            "grid_auto_flow": null,
            "grid_auto_rows": null,
            "grid_column": null,
            "grid_gap": null,
            "grid_row": null,
            "grid_template_areas": null,
            "grid_template_columns": null,
            "grid_template_rows": null,
            "height": null,
            "justify_content": null,
            "justify_items": null,
            "left": null,
            "margin": null,
            "max_height": null,
            "max_width": null,
            "min_height": null,
            "min_width": null,
            "object_fit": null,
            "object_position": null,
            "order": null,
            "overflow": null,
            "overflow_x": null,
            "overflow_y": null,
            "padding": null,
            "right": null,
            "top": null,
            "visibility": null,
            "width": null
          }
        },
        "7e79d1bd505f441a87e4cdbe53ffd598": {
          "model_module": "@jupyter-widgets/controls",
          "model_name": "ProgressStyleModel",
          "model_module_version": "1.5.0",
          "state": {
            "_model_module": "@jupyter-widgets/controls",
            "_model_module_version": "1.5.0",
            "_model_name": "ProgressStyleModel",
            "_view_count": null,
            "_view_module": "@jupyter-widgets/base",
            "_view_module_version": "1.2.0",
            "_view_name": "StyleView",
            "bar_color": null,
            "description_width": ""
          }
        },
        "b8409b3da1a743c29c4ae251c34575e7": {
          "model_module": "@jupyter-widgets/base",
          "model_name": "LayoutModel",
          "model_module_version": "1.2.0",
          "state": {
            "_model_module": "@jupyter-widgets/base",
            "_model_module_version": "1.2.0",
            "_model_name": "LayoutModel",
            "_view_count": null,
            "_view_module": "@jupyter-widgets/base",
            "_view_module_version": "1.2.0",
            "_view_name": "LayoutView",
            "align_content": null,
            "align_items": null,
            "align_self": null,
            "border": null,
            "bottom": null,
            "display": null,
            "flex": null,
            "flex_flow": null,
            "grid_area": null,
            "grid_auto_columns": null,
            "grid_auto_flow": null,
            "grid_auto_rows": null,
            "grid_column": null,
            "grid_gap": null,
            "grid_row": null,
            "grid_template_areas": null,
            "grid_template_columns": null,
            "grid_template_rows": null,
            "height": null,
            "justify_content": null,
            "justify_items": null,
            "left": null,
            "margin": null,
            "max_height": null,
            "max_width": null,
            "min_height": null,
            "min_width": null,
            "object_fit": null,
            "object_position": null,
            "order": null,
            "overflow": null,
            "overflow_x": null,
            "overflow_y": null,
            "padding": null,
            "right": null,
            "top": null,
            "visibility": null,
            "width": null
          }
        },
        "a9890d2268e0467e92202eaa53bb1bfb": {
          "model_module": "@jupyter-widgets/controls",
          "model_name": "DescriptionStyleModel",
          "model_module_version": "1.5.0",
          "state": {
            "_model_module": "@jupyter-widgets/controls",
            "_model_module_version": "1.5.0",
            "_model_name": "DescriptionStyleModel",
            "_view_count": null,
            "_view_module": "@jupyter-widgets/base",
            "_view_module_version": "1.2.0",
            "_view_name": "StyleView",
            "description_width": ""
          }
        }
      }
    }
  },
  "cells": [
    {
      "cell_type": "markdown",
      "metadata": {
        "id": "view-in-github",
        "colab_type": "text"
      },
      "source": [
        "<a href=\"https://colab.research.google.com/github/Cirediallo/Models/blob/main/Fine_tuning_Wav2Vec2_for_English_ASR.ipynb\" target=\"_parent\"><img src=\"https://colab.research.google.com/assets/colab-badge.svg\" alt=\"Open In Colab\"/></a>"
      ]
    },
    {
      "cell_type": "markdown",
      "metadata": {
        "id": "LBSYoWbi-45k"
      },
      "source": [
        "# **Fine-tuning Wav2Vec2 for English ASR with 🤗 Transformers**"
      ]
    },
    {
      "cell_type": "markdown",
      "metadata": {
        "id": "V7YOT2mnUiea"
      },
      "source": [
        "Wav2Vec2 is a pretrained model for Automatic Speech Recognition (ASR) and was released in [September 2020](https://ai.facebook.com/blog/wav2vec-20-learning-the-structure-of-speech-from-raw-audio/) by Alexei Baevski, Michael Auli, and Alex Conneau.\n",
        "\n",
        "Using a novel contrastive pretraining objective, Wav2Vec2 learns powerful speech representations from more than 50.000 hours of unlabeled speech. Similar, to [BERT's masked language modeling](http://jalammar.github.io/illustrated-bert/), the model learns contextualized speech representations by randomly masking feature vectors before passing them to a transformer network.\n",
        "\n",
        "![wav2vec2_structure](https://raw.githubusercontent.com/patrickvonplaten/scientific_images/master/wav2vec2.png)\n",
        "\n",
        "For the first time, it has been shown that pretraining, followed by fine-tuning on very little labeled speech data achieves competitive results to state-of-the-art ASR systems. Using as little as 10 minutes of labeled data, Wav2Vec2 yields a word error rate (WER) of less than 5% on the clean test set of [LibriSpeech](https://huggingface.co/datasets/librispeech_asr) - *cf.* with Table 9 of the [paper](https://arxiv.org/pdf/2006.11477.pdf)."
      ]
    },
    {
      "cell_type": "markdown",
      "metadata": {
        "id": "nT_QrfWtsxIz"
      },
      "source": [
        "In this notebook, we will give an in-detail explanation of how Wav2Vec2's pretrained checkpoints can be fine-tuned on any English ASR dataset. Note that in this notebook, we will fine-tune Wav2Vec2 without making use of a language model. It is much simpler to use Wav2Vec2 without a language model as an end-to-end ASR system and it has been shown that a standalone Wav2Vec2 acoustic model achieves impressive results. For demonstration purposes, we fine-tune the \"base\"-sized [pretrained checkpoint](https://huggingface.co/facebook/wav2vec2-base) on the rather small [Timit](https://huggingface.co/datasets/timit_asr) dataset that contains just 5h of training data."
      ]
    },
    {
      "cell_type": "markdown",
      "metadata": {
        "id": "Gx9OdDYrCtQ1"
      },
      "source": [
        "Wav2Vec2 is fine-tuned using Connectionist Temporal Classification (CTC), which is an algorithm that is used to train neural networks for sequence-to-sequence problems and mainly in Automatic Speech Recognition and handwriting recognition. \n",
        "\n",
        "I highly recommend reading the blog post [Sequence Modeling with CTC (2017)](https://distill.pub/2017/ctc/) very well-written blog post by Awni Hannun."
      ]
    },
    {
      "cell_type": "markdown",
      "metadata": {
        "id": "qW3J3rBizeds"
      },
      "source": [
        "First, let's try to get a good GPU in our colab! With Google Colab's free version it's sadly becoming much harder to get access to a good GPU. With Google Colab Pro, one has a much easier time getting access to a V100 or P100 GPU however."
      ]
    },
    {
      "cell_type": "code",
      "metadata": {
        "id": "SLAufgh_xxj7",
        "colab": {
          "base_uri": "https://localhost:8080/"
        },
        "outputId": "56da9201-624d-4dd2-ad8f-1d2e9c829723"
      },
      "source": [
        "gpu_info = !nvidia-smi\n",
        "gpu_info = '\\n'.join(gpu_info)\n",
        "if gpu_info.find('failed') >= 0:\n",
        "  print('Not connected to a GPU')\n",
        "else:\n",
        "  print(gpu_info)"
      ],
      "execution_count": null,
      "outputs": [
        {
          "output_type": "stream",
          "name": "stdout",
          "text": [
            "Tue May 10 10:58:40 2022       \n",
            "+-----------------------------------------------------------------------------+\n",
            "| NVIDIA-SMI 460.32.03    Driver Version: 460.32.03    CUDA Version: 11.2     |\n",
            "|-------------------------------+----------------------+----------------------+\n",
            "| GPU  Name        Persistence-M| Bus-Id        Disp.A | Volatile Uncorr. ECC |\n",
            "| Fan  Temp  Perf  Pwr:Usage/Cap|         Memory-Usage | GPU-Util  Compute M. |\n",
            "|                               |                      |               MIG M. |\n",
            "|===============================+======================+======================|\n",
            "|   0  Tesla V100-SXM2...  Off  | 00000000:00:04.0 Off |                    0 |\n",
            "| N/A   38C    P0    41W / 300W |   7183MiB / 16160MiB |      0%      Default |\n",
            "|                               |                      |                  N/A |\n",
            "+-------------------------------+----------------------+----------------------+\n",
            "                                                                               \n",
            "+-----------------------------------------------------------------------------+\n",
            "| Processes:                                                                  |\n",
            "|  GPU   GI   CI        PID   Type   Process name                  GPU Memory |\n",
            "|        ID   ID                                                   Usage      |\n",
            "|=============================================================================|\n",
            "+-----------------------------------------------------------------------------+\n"
          ]
        }
      ]
    },
    {
      "cell_type": "code",
      "source": [
        "gpu_info = !nvidia-smi\n",
        "gpu_info = '\\n'.join(gpu_info)\n",
        "if gpu_info.find('failed') >= 0:\n",
        "  print('Not connected to a GPU')\n",
        "else:\n",
        "  print(gpu_info)"
      ],
      "metadata": {
        "id": "oMPCMWgL6fxb",
        "outputId": "dcfd2143-29fd-48b5-ac41-b19c6971e450",
        "colab": {
          "base_uri": "https://localhost:8080/"
        }
      },
      "execution_count": 1,
      "outputs": [
        {
          "output_type": "stream",
          "name": "stdout",
          "text": [
            "Fri Jun  2 21:01:11 2023       \n",
            "+-----------------------------------------------------------------------------+\n",
            "| NVIDIA-SMI 525.85.12    Driver Version: 525.85.12    CUDA Version: 12.0     |\n",
            "|-------------------------------+----------------------+----------------------+\n",
            "| GPU  Name        Persistence-M| Bus-Id        Disp.A | Volatile Uncorr. ECC |\n",
            "| Fan  Temp  Perf  Pwr:Usage/Cap|         Memory-Usage | GPU-Util  Compute M. |\n",
            "|                               |                      |               MIG M. |\n",
            "|===============================+======================+======================|\n",
            "|   0  Tesla T4            Off  | 00000000:00:04.0 Off |                    0 |\n",
            "| N/A   52C    P8    12W /  70W |      0MiB / 15360MiB |      0%      Default |\n",
            "|                               |                      |                  N/A |\n",
            "+-------------------------------+----------------------+----------------------+\n",
            "                                                                               \n",
            "+-----------------------------------------------------------------------------+\n",
            "| Processes:                                                                  |\n",
            "|  GPU   GI   CI        PID   Type   Process name                  GPU Memory |\n",
            "|        ID   ID                                                   Usage      |\n",
            "|=============================================================================|\n",
            "|  No running processes found                                                 |\n",
            "+-----------------------------------------------------------------------------+\n"
          ]
        }
      ]
    },
    {
      "cell_type": "markdown",
      "metadata": {
        "id": "e335hPmdtASZ"
      },
      "source": [
        "Before we start, let's install both `datasets` and `transformers` from master. Also, we need the `librosa` package to load audio files and the `jiwer` to evaluate our fine-tuned model using the [word error rate (WER)](https://huggingface.co/metrics/wer) metric ${}^1$."
      ]
    },
    {
      "cell_type": "code",
      "metadata": {
        "id": "c8eh87Hoee5d"
      },
      "source": [
        "%%capture\n",
        "!pip install datasets==1.18.3\n",
        "!pip install transformers==4.17.0\n",
        "!pip install jiwer"
      ],
      "execution_count": 2,
      "outputs": []
    },
    {
      "cell_type": "code",
      "source": [
        "#diallomama/wav2vec2_common_voice_xlsr\n",
        "\n",
        "!pip install transformers==4.24.0\n",
        "!pip install huggingface_hub==0.10\n"
      ],
      "metadata": {
        "id": "0O-WARjN628K",
        "outputId": "6688a611-834b-4593-b107-152e4d77b759",
        "colab": {
          "base_uri": "https://localhost:8080/",
          "height": 997
        }
      },
      "execution_count": 31,
      "outputs": [
        {
          "output_type": "stream",
          "name": "stdout",
          "text": [
            "Looking in indexes: https://pypi.org/simple, https://us-python.pkg.dev/colab-wheels/public/simple/\n",
            "Collecting transformers==4.24.0\n",
            "  Downloading transformers-4.24.0-py3-none-any.whl (5.5 MB)\n",
            "\u001b[2K     \u001b[90m━━━━━━━━━━━━━━━━━━━━━━━━━━━━━━━━━━━━━━━━\u001b[0m \u001b[32m5.5/5.5 MB\u001b[0m \u001b[31m32.5 MB/s\u001b[0m eta \u001b[36m0:00:00\u001b[0m\n",
            "\u001b[?25hRequirement already satisfied: filelock in /usr/local/lib/python3.10/dist-packages (from transformers==4.24.0) (3.12.0)\n",
            "Requirement already satisfied: huggingface-hub<1.0,>=0.10.0 in /usr/local/lib/python3.10/dist-packages (from transformers==4.24.0) (0.15.1)\n",
            "Requirement already satisfied: numpy>=1.17 in /usr/local/lib/python3.10/dist-packages (from transformers==4.24.0) (1.22.4)\n",
            "Requirement already satisfied: packaging>=20.0 in /usr/local/lib/python3.10/dist-packages (from transformers==4.24.0) (23.1)\n",
            "Requirement already satisfied: pyyaml>=5.1 in /usr/local/lib/python3.10/dist-packages (from transformers==4.24.0) (6.0)\n",
            "Requirement already satisfied: regex!=2019.12.17 in /usr/local/lib/python3.10/dist-packages (from transformers==4.24.0) (2022.10.31)\n",
            "Requirement already satisfied: requests in /usr/local/lib/python3.10/dist-packages (from transformers==4.24.0) (2.27.1)\n",
            "Requirement already satisfied: tokenizers!=0.11.3,<0.14,>=0.11.1 in /usr/local/lib/python3.10/dist-packages (from transformers==4.24.0) (0.13.3)\n",
            "Requirement already satisfied: tqdm>=4.27 in /usr/local/lib/python3.10/dist-packages (from transformers==4.24.0) (4.65.0)\n",
            "Requirement already satisfied: fsspec in /usr/local/lib/python3.10/dist-packages (from huggingface-hub<1.0,>=0.10.0->transformers==4.24.0) (2023.4.0)\n",
            "Requirement already satisfied: typing-extensions>=3.7.4.3 in /usr/local/lib/python3.10/dist-packages (from huggingface-hub<1.0,>=0.10.0->transformers==4.24.0) (4.5.0)\n",
            "Requirement already satisfied: urllib3<1.27,>=1.21.1 in /usr/local/lib/python3.10/dist-packages (from requests->transformers==4.24.0) (1.26.15)\n",
            "Requirement already satisfied: certifi>=2017.4.17 in /usr/local/lib/python3.10/dist-packages (from requests->transformers==4.24.0) (2022.12.7)\n",
            "Requirement already satisfied: charset-normalizer~=2.0.0 in /usr/local/lib/python3.10/dist-packages (from requests->transformers==4.24.0) (2.0.12)\n",
            "Requirement already satisfied: idna<4,>=2.5 in /usr/local/lib/python3.10/dist-packages (from requests->transformers==4.24.0) (3.4)\n",
            "Installing collected packages: transformers\n",
            "  Attempting uninstall: transformers\n",
            "    Found existing installation: transformers 4.17.0\n",
            "    Uninstalling transformers-4.17.0:\n",
            "      Successfully uninstalled transformers-4.17.0\n",
            "Successfully installed transformers-4.24.0\n"
          ]
        },
        {
          "output_type": "display_data",
          "data": {
            "application/vnd.colab-display-data+json": {
              "pip_warning": {
                "packages": [
                  "transformers"
                ]
              }
            }
          },
          "metadata": {}
        },
        {
          "output_type": "stream",
          "name": "stdout",
          "text": [
            "Looking in indexes: https://pypi.org/simple, https://us-python.pkg.dev/colab-wheels/public/simple/\n",
            "Collecting huggingface_hub==0.10\n",
            "  Downloading huggingface_hub-0.10.0-py3-none-any.whl (163 kB)\n",
            "\u001b[2K     \u001b[90m━━━━━━━━━━━━━━━━━━━━━━━━━━━━━━━━━━━━━━━\u001b[0m \u001b[32m163.5/163.5 kB\u001b[0m \u001b[31m4.8 MB/s\u001b[0m eta \u001b[36m0:00:00\u001b[0m\n",
            "\u001b[?25hRequirement already satisfied: filelock in /usr/local/lib/python3.10/dist-packages (from huggingface_hub==0.10) (3.12.0)\n",
            "Requirement already satisfied: requests in /usr/local/lib/python3.10/dist-packages (from huggingface_hub==0.10) (2.27.1)\n",
            "Requirement already satisfied: tqdm in /usr/local/lib/python3.10/dist-packages (from huggingface_hub==0.10) (4.65.0)\n",
            "Requirement already satisfied: pyyaml>=5.1 in /usr/local/lib/python3.10/dist-packages (from huggingface_hub==0.10) (6.0)\n",
            "Requirement already satisfied: typing-extensions>=3.7.4.3 in /usr/local/lib/python3.10/dist-packages (from huggingface_hub==0.10) (4.5.0)\n",
            "Requirement already satisfied: packaging>=20.9 in /usr/local/lib/python3.10/dist-packages (from huggingface_hub==0.10) (23.1)\n",
            "Requirement already satisfied: urllib3<1.27,>=1.21.1 in /usr/local/lib/python3.10/dist-packages (from requests->huggingface_hub==0.10) (1.26.15)\n",
            "Requirement already satisfied: certifi>=2017.4.17 in /usr/local/lib/python3.10/dist-packages (from requests->huggingface_hub==0.10) (2022.12.7)\n",
            "Requirement already satisfied: charset-normalizer~=2.0.0 in /usr/local/lib/python3.10/dist-packages (from requests->huggingface_hub==0.10) (2.0.12)\n",
            "Requirement already satisfied: idna<4,>=2.5 in /usr/local/lib/python3.10/dist-packages (from requests->huggingface_hub==0.10) (3.4)\n",
            "Installing collected packages: huggingface_hub\n",
            "  Attempting uninstall: huggingface_hub\n",
            "    Found existing installation: huggingface-hub 0.15.1\n",
            "    Uninstalling huggingface-hub-0.15.1:\n",
            "      Successfully uninstalled huggingface-hub-0.15.1\n",
            "Successfully installed huggingface_hub-0.10.0\n"
          ]
        },
        {
          "output_type": "display_data",
          "data": {
            "application/vnd.colab-display-data+json": {
              "pip_warning": {
                "packages": [
                  "huggingface_hub"
                ]
              }
            }
          },
          "metadata": {}
        }
      ]
    },
    {
      "cell_type": "markdown",
      "metadata": {
        "id": "8_6kYmDMH9lR"
      },
      "source": [
        "Next we strongly suggest to upload your training checkpoints directly to the [🤗 Hub](https://huggingface.co/) while training. The [🤗 Hub](https://huggingface.co/) has integrated version control so you can be sure that no model checkpoint is getting lost during training. \n",
        "\n",
        "To do so you have to store your authentication token from the Hugging Face website (sign up [here](https://huggingface.co/join) if you haven't already!)"
      ]
    },
    {
      "cell_type": "code",
      "metadata": {
        "colab": {
          "base_uri": "https://localhost:8080/",
          "height": 383,
          "referenced_widgets": [
            "d46e32c735a44f029776bfa7a46354b0",
            "f21500b7e21744daa11e21fb27f4413e",
            "5f2d42338c0942a287547ab33eaae341",
            "35e10e84780747aeb44a0ddbfcb91ea0",
            "6e7fab8461e841109f4aeb2c76bdbae7",
            "00df436ffbab436db8399c618afedcab",
            "4ea6f2dbfb45426ba213a20b532211f2",
            "c4a1ab1f77f34e4fa327c901854e6ec8",
            "8c639b34debe4bc1a676910707504993",
            "81c54f3ea01d40e1a6ba55090bea504b",
            "fe5be510a3a74bcebee71f692491a6ad",
            "c4b77e75574445bb89dcf540b29fcdf0",
            "24f995a25f8f42a799917287e39c1e00",
            "e58adc892ef040afb27bd7dbf71f1292"
          ]
        },
        "id": "zFLBDyzQIA3R",
        "outputId": "b433ee08-e9e0-4292-a83c-afdf82d0ae44"
      },
      "source": [
        "from huggingface_hub import notebook_login\n",
        "\n",
        "notebook_login()"
      ],
      "execution_count": 1,
      "outputs": [
        {
          "output_type": "stream",
          "name": "stdout",
          "text": [
            "Login successful\n",
            "Your token has been saved to /root/.huggingface/token\n"
          ]
        }
      ]
    },
    {
      "cell_type": "markdown",
      "metadata": {
        "id": "zCyw5D23IQ1F"
      },
      "source": [
        "\n",
        "Then you need to install Git-LFS to upload your model checkpoints:"
      ]
    },
    {
      "cell_type": "code",
      "metadata": {
        "id": "Q9BnQDhOITBC"
      },
      "source": [
        "%%capture\n",
        "!apt install git-lfs"
      ],
      "execution_count": 2,
      "outputs": []
    },
    {
      "cell_type": "markdown",
      "metadata": {
        "id": "Mn9swf6EQ9Vd"
      },
      "source": [
        "\n",
        "\n",
        "\n",
        "---\n",
        "\n",
        "${}^1$ Timit is usually evaluated using the phoneme error rate (PER), but by far the most common metric in ASR is the word error rate (WER). To keep this notebook as general as possible we decided to evaluate the model using WER."
      ]
    },
    {
      "cell_type": "markdown",
      "metadata": {
        "id": "0mW-C1Nt-j7k"
      },
      "source": [
        "## Prepare Data, Tokenizer, Feature Extractor"
      ]
    },
    {
      "cell_type": "markdown",
      "metadata": {
        "id": "BeBosnY9BH3e"
      },
      "source": [
        "ASR models transcribe speech to text, which means that we both need a feature extractor that processes the speech signal to the model's input format, *e.g.* a feature vector, and a tokenizer that processes the model's output format to text. \n",
        "\n",
        "In 🤗 Transformers, the Wav2Vec2 model is thus accompanied by both a tokenizer, called [Wav2Vec2CTCTokenizer](https://huggingface.co/transformers/master/model_doc/wav2vec2.html#wav2vec2ctctokenizer), and a feature extractor, called [Wav2Vec2FeatureExtractor](https://huggingface.co/transformers/master/model_doc/wav2vec2.html#wav2vec2featureextractor).\n",
        "\n",
        "Let's start by creating the tokenizer responsible for decoding the model's predictions."
      ]
    },
    {
      "cell_type": "markdown",
      "metadata": {
        "id": "sEXEWEJGQPqD"
      },
      "source": [
        "### Create Wav2Vec2CTCTokenizer"
      ]
    },
    {
      "cell_type": "markdown",
      "metadata": {
        "id": "tWmMikuNEKl_"
      },
      "source": [
        "The [pretrained Wav2Vec2 checkpoint]( ) maps the speech signal to a sequence of context representations as illustrated in the figure above. A fine-tuned Wav2Vec2 checkpoint needs to map this sequence of context representations to its corresponding transcription so that a linear layer has to be added on top of the transformer block (shown in yellow). This linear layer is used to classifies each context representation to a token class analogous how, *e.g.*, after pretraining a linear layer is added on top of BERT's embeddings for further classification - *cf.* with *\"BERT\"* section of this [blog post](https://huggingface.co/blog/warm-starting-encoder-decoder).\n",
        "\n",
        "The output size of this layer corresponds to the number of tokens in the vocabulary, which does **not** depend on Wav2Vec2's pretraining task, but only on the labeled dataset used for fine-tuning. So in the first step, we will take a look at Timit and define a vocabulary based on the dataset's transcriptions."
      ]
    },
    {
      "cell_type": "markdown",
      "metadata": {
        "id": "bee4g9rpLxll"
      },
      "source": [
        "Let's start by loading the dataset and taking a look at its structure."
      ]
    },
    {
      "cell_type": "code",
      "metadata": {
        "id": "2MMXcWFFgCXU",
        "colab": {
          "base_uri": "https://localhost:8080/",
          "height": 86,
          "referenced_widgets": [
            "df38e8fc3a8140f5b61b5c4df35ece27",
            "0f23fc02e8f14c96b25147c5c1604005",
            "32c867b3896145a6adc46d28fed09d71",
            "fece154349c74e329fb32f89427e42d6",
            "fe7207532ea84d2f8ea52117c43cf135",
            "488df4cc65fc45d4b6a077bdfca1ef7a",
            "7fdd27d0f9644cfe9db0dd630d992690",
            "3a332614ef704897ade96fd93c1be494",
            "53bdbc329c6246a1a0e7d17d8ccef019",
            "9996cd86c06d445d870bda20ec7318f7",
            "ca88eb7bb0234be296bba05e8089e356"
          ]
        },
        "outputId": "f3ef9ef4-cd01-4f2c-ca3b-62d6b0193363"
      },
      "source": [
        "from datasets import load_dataset, load_metric\n",
        "\n",
        "timit = load_dataset(\"timit_asr\")"
      ],
      "execution_count": 4,
      "outputs": [
        {
          "output_type": "stream",
          "name": "stderr",
          "text": [
            "WARNING:datasets.builder:Reusing dataset timit_asr (/root/.cache/huggingface/datasets/timit_asr/clean/2.0.1/b11b576ddcccbcefa7c9f0c4e6c2a43756f3033adffe0fb686aa61043d0450ad)\n"
          ]
        },
        {
          "output_type": "display_data",
          "data": {
            "text/plain": [
              "  0%|          | 0/2 [00:00<?, ?it/s]"
            ],
            "application/vnd.jupyter.widget-view+json": {
              "version_major": 2,
              "version_minor": 0,
              "model_id": "df38e8fc3a8140f5b61b5c4df35ece27"
            }
          },
          "metadata": {}
        }
      ]
    },
    {
      "cell_type": "code",
      "source": [
        "timit"
      ],
      "metadata": {
        "id": "yBHRBjJe73vw",
        "outputId": "28c6e7e8-4002-4d4a-8bfe-191ecdd47c5e",
        "colab": {
          "base_uri": "https://localhost:8080/"
        }
      },
      "execution_count": 5,
      "outputs": [
        {
          "output_type": "execute_result",
          "data": {
            "text/plain": [
              "DatasetDict({\n",
              "    train: Dataset({\n",
              "        features: ['file', 'audio', 'text', 'phonetic_detail', 'word_detail', 'dialect_region', 'sentence_type', 'speaker_id', 'id'],\n",
              "        num_rows: 4620\n",
              "    })\n",
              "    test: Dataset({\n",
              "        features: ['file', 'audio', 'text', 'phonetic_detail', 'word_detail', 'dialect_region', 'sentence_type', 'speaker_id', 'id'],\n",
              "        num_rows: 1680\n",
              "    })\n",
              "})"
            ]
          },
          "metadata": {},
          "execution_count": 5
        }
      ]
    },
    {
      "cell_type": "code",
      "metadata": {
        "colab": {
          "base_uri": "https://localhost:8080/"
        },
        "id": "QbIM-L0xdvf4",
        "outputId": "0e6fbc8e-f606-4b89-a44d-a09224d5115b"
      },
      "source": [
        "timit"
      ],
      "execution_count": null,
      "outputs": [
        {
          "output_type": "execute_result",
          "data": {
            "text/plain": [
              "DatasetDict({\n",
              "    train: Dataset({\n",
              "        features: ['file', 'audio', 'text', 'phonetic_detail', 'word_detail', 'dialect_region', 'sentence_type', 'speaker_id', 'id'],\n",
              "        num_rows: 4620\n",
              "    })\n",
              "    test: Dataset({\n",
              "        features: ['file', 'audio', 'text', 'phonetic_detail', 'word_detail', 'dialect_region', 'sentence_type', 'speaker_id', 'id'],\n",
              "        num_rows: 1680\n",
              "    })\n",
              "})"
            ]
          },
          "metadata": {},
          "execution_count": 48
        }
      ]
    },
    {
      "cell_type": "markdown",
      "metadata": {
        "id": "ri5y5N_HMANq"
      },
      "source": [
        "Many ASR datasets only provide the target text, `'text'` for each audio `'audio'` and file `'file'`. Timit actually provides much more information about each audio file, such as the `'phonetic_detail'`, etc., which is why many researchers choose to evaluate their models on phoneme classification instead of speech recognition when working with Timit. However, we want to keep the notebook as general as possible, so that we will only consider the transcribed text for fine-tuning.\n",
        "\n"
      ]
    },
    {
      "cell_type": "code",
      "metadata": {
        "id": "kbyq6lDgQc2a"
      },
      "source": [
        "timit = timit.remove_columns([\"phonetic_detail\", \"word_detail\", \"dialect_region\", \"id\", \"sentence_type\", \"speaker_id\"])"
      ],
      "execution_count": 6,
      "outputs": []
    },
    {
      "cell_type": "markdown",
      "metadata": {
        "id": "Go9Hq4e4NDT9"
      },
      "source": [
        "Let's write a short function to display some random samples of the dataset and run it a couple of times to get a feeling for the transcriptions."
      ]
    },
    {
      "cell_type": "code",
      "metadata": {
        "id": "72737oog2F6U"
      },
      "source": [
        "from datasets import ClassLabel\n",
        "import random\n",
        "import pandas as pd\n",
        "from IPython.display import display, HTML\n",
        "\n",
        "def show_random_elements(dataset, num_examples=10):\n",
        "    assert num_examples <= len(dataset), \"Can't pick more elements than there are in the dataset.\"\n",
        "    picks = []\n",
        "    for _ in range(num_examples):\n",
        "        pick = random.randint(0, len(dataset)-1)\n",
        "        while pick in picks:\n",
        "            pick = random.randint(0, len(dataset)-1)\n",
        "        picks.append(pick)\n",
        "    \n",
        "    df = pd.DataFrame(dataset[picks])\n",
        "    display(HTML(df.to_html()))"
      ],
      "execution_count": 7,
      "outputs": []
    },
    {
      "cell_type": "code",
      "metadata": {
        "colab": {
          "base_uri": "https://localhost:8080/",
          "height": 363
        },
        "id": "K_JUmf3G3b9S",
        "outputId": "d51781a6-8740-453a-9d0f-6512a8c0b788"
      },
      "source": [
        "show_random_elements(timit[\"train\"].remove_columns([\"audio\", \"file\"]), num_examples=10)"
      ],
      "execution_count": 8,
      "outputs": [
        {
          "output_type": "display_data",
          "data": {
            "text/plain": [
              "<IPython.core.display.HTML object>"
            ],
            "text/html": [
              "<table border=\"1\" class=\"dataframe\">\n",
              "  <thead>\n",
              "    <tr style=\"text-align: right;\">\n",
              "      <th></th>\n",
              "      <th>text</th>\n",
              "    </tr>\n",
              "  </thead>\n",
              "  <tbody>\n",
              "    <tr>\n",
              "      <th>0</th>\n",
              "      <td>Don't ask me to carry an oily rag like that.</td>\n",
              "    </tr>\n",
              "    <tr>\n",
              "      <th>1</th>\n",
              "      <td>Cyclical programs will never compile.</td>\n",
              "    </tr>\n",
              "    <tr>\n",
              "      <th>2</th>\n",
              "      <td>We like bleu cheese but Victor prefers swiss cheese.</td>\n",
              "    </tr>\n",
              "    <tr>\n",
              "      <th>3</th>\n",
              "      <td>Rich purchased several signed lithographs.</td>\n",
              "    </tr>\n",
              "    <tr>\n",
              "      <th>4</th>\n",
              "      <td>Rich looked for spotted hyenas and jaguars on the safari.</td>\n",
              "    </tr>\n",
              "    <tr>\n",
              "      <th>5</th>\n",
              "      <td>Birthday parties have cupcakes and ice cream.</td>\n",
              "    </tr>\n",
              "    <tr>\n",
              "      <th>6</th>\n",
              "      <td>It moved in a silver arc toward his throat, then veered downward.</td>\n",
              "    </tr>\n",
              "    <tr>\n",
              "      <th>7</th>\n",
              "      <td>Resistance thermometers.</td>\n",
              "    </tr>\n",
              "    <tr>\n",
              "      <th>8</th>\n",
              "      <td>The big dog loved to chew on the old rag doll.</td>\n",
              "    </tr>\n",
              "    <tr>\n",
              "      <th>9</th>\n",
              "      <td>The annoying raccoons slipped into Phil's garden every night.</td>\n",
              "    </tr>\n",
              "  </tbody>\n",
              "</table>"
            ]
          },
          "metadata": {}
        }
      ]
    },
    {
      "cell_type": "markdown",
      "metadata": {
        "id": "fowcOllGNNju"
      },
      "source": [
        "Alright! The transcriptions look very clean and the language seems to correspond more to written text than dialogue. This makes sense taking into account that [Timit](https://huggingface.co/datasets/timit_asr) is a read speech corpus."
      ]
    },
    {
      "cell_type": "markdown",
      "metadata": {
        "id": "vq7OR50LN49m"
      },
      "source": [
        "We can see that the transcriptions contain some special characters, such as `,.?!;:`. Without a language model, it is much harder to classify speech chunks to such special characters because they don't really correspond to a characteristic sound unit. *E.g.*, the letter `\"s\"` has a more or less clear sound, whereas the special character `\".\"` does not.\n",
        "Also in order to understand the meaning of a speech signal, it is usually not necessary to include special characters in the transcription.\n",
        "\n",
        "In addition, we normalize the text to only have lower case letters and append a word separator token at the end."
      ]
    },
    {
      "cell_type": "code",
      "metadata": {
        "id": "svKzVJ_hQGK6"
      },
      "source": [
        "import re\n",
        "chars_to_ignore_regex = '[\\,\\?\\.\\!\\-\\;\\:\\\"]'\n",
        "\n",
        "def remove_special_characters(batch):\n",
        "    batch[\"text\"] = re.sub(chars_to_ignore_regex, '', batch[\"text\"]).lower() + \" \"\n",
        "    return batch"
      ],
      "execution_count": 9,
      "outputs": []
    },
    {
      "cell_type": "code",
      "metadata": {
        "colab": {
          "base_uri": "https://localhost:8080/",
          "height": 118,
          "referenced_widgets": [
            "4ce515948cf14749b9ef1a0d83d2d8b7",
            "0cd1a1d2bb504a5894d9749018a5d470",
            "b4c10cfbd4fc427981f5327c8d3796dc",
            "7a5c8a71991a49f88b5f77785fa58d82",
            "743023466147450fa733bab6be2a076e",
            "d6fa322e70a8409e81c5f2e40256fc6b",
            "1cb7905e83f943359513362205c95eb6",
            "18d0b63e343c4947855b690f78ab6487",
            "f92ea5c656604afc857f2ecb1cd0d22c",
            "87aaf37e7eda45a0aea5f53cec1bd6d2",
            "932679ab9d134d8da2fa8191abd19229",
            "1c2e725907a440b39de1b534d3c64ac4",
            "921b54190d9d4594b0ceac35df40f330",
            "2fa125e0c37f49a1a9492816b583d0a8",
            "dc675353b4104bdb9e09e5076d5606ae",
            "c2020cf9ba2141ef910f24efba55d49b",
            "830f4e8368704c7fb8296b9523aa1bc4",
            "e57d6f1ae0494b929d2f5e9daaabc448",
            "f4d99d25000044ff93355e50a67e50de",
            "46a3a649c9e44435a6929f11500b982c",
            "43049b8e67b4446f84d635da79409efe",
            "bd9b5a2a6e124608abe0a7343644d952"
          ]
        },
        "id": "XIHocAuTQbBR",
        "outputId": "89a8fb45-162f-4340-f233-03e1c77091f1"
      },
      "source": [
        "timit = timit.map(remove_special_characters)"
      ],
      "execution_count": 10,
      "outputs": [
        {
          "output_type": "stream",
          "name": "stderr",
          "text": [
            "WARNING:datasets.fingerprint:Parameter 'function'=<function remove_special_characters at 0x7f28f36236d0> of the transform datasets.arrow_dataset.Dataset._map_single couldn't be hashed properly, a random hash was used instead. Make sure your transforms and parameters are serializable with pickle or dill for the dataset fingerprinting and caching to work. If you reuse this transform, the caching mechanism will consider it to be different from the previous calls and recompute everything. This warning is only showed once. Subsequent hashing failures won't be showed.\n"
          ]
        },
        {
          "output_type": "display_data",
          "data": {
            "text/plain": [
              "0ex [00:00, ?ex/s]"
            ],
            "application/vnd.jupyter.widget-view+json": {
              "version_major": 2,
              "version_minor": 0,
              "model_id": "4ce515948cf14749b9ef1a0d83d2d8b7"
            }
          },
          "metadata": {}
        },
        {
          "output_type": "display_data",
          "data": {
            "text/plain": [
              "0ex [00:00, ?ex/s]"
            ],
            "application/vnd.jupyter.widget-view+json": {
              "version_major": 2,
              "version_minor": 0,
              "model_id": "1c2e725907a440b39de1b534d3c64ac4"
            }
          },
          "metadata": {}
        }
      ]
    },
    {
      "cell_type": "code",
      "metadata": {
        "colab": {
          "base_uri": "https://localhost:8080/",
          "height": 363
        },
        "id": "RBDRAAYxRE6n",
        "outputId": "9f7151d0-525e-4108-ca2a-1b1ba69459cc"
      },
      "source": [
        "show_random_elements(timit[\"train\"].remove_columns([\"audio\", \"file\"]))"
      ],
      "execution_count": 11,
      "outputs": [
        {
          "output_type": "display_data",
          "data": {
            "text/plain": [
              "<IPython.core.display.HTML object>"
            ],
            "text/html": [
              "<table border=\"1\" class=\"dataframe\">\n",
              "  <thead>\n",
              "    <tr style=\"text-align: right;\">\n",
              "      <th></th>\n",
              "      <th>text</th>\n",
              "    </tr>\n",
              "  </thead>\n",
              "  <tbody>\n",
              "    <tr>\n",
              "      <th>0</th>\n",
              "      <td>trish saw hours and hours of movies saturday</td>\n",
              "    </tr>\n",
              "    <tr>\n",
              "      <th>1</th>\n",
              "      <td>soak up local color</td>\n",
              "    </tr>\n",
              "    <tr>\n",
              "      <th>2</th>\n",
              "      <td>may i order a strawberry sundae after i eat dinner</td>\n",
              "    </tr>\n",
              "    <tr>\n",
              "      <th>3</th>\n",
              "      <td>space charge influences will also decrease at increased voltages</td>\n",
              "    </tr>\n",
              "    <tr>\n",
              "      <th>4</th>\n",
              "      <td>encyclopedias seldom present anecdotal evidence</td>\n",
              "    </tr>\n",
              "    <tr>\n",
              "      <th>5</th>\n",
              "      <td>it's hard to tell an original from a forgery</td>\n",
              "    </tr>\n",
              "    <tr>\n",
              "      <th>6</th>\n",
              "      <td>the old woman arose stiffly and led me to a clearing where a small hut stood</td>\n",
              "    </tr>\n",
              "    <tr>\n",
              "      <th>7</th>\n",
              "      <td>you need answers to four important questions</td>\n",
              "    </tr>\n",
              "    <tr>\n",
              "      <th>8</th>\n",
              "      <td>i ate every oyster on nora's plate</td>\n",
              "    </tr>\n",
              "    <tr>\n",
              "      <th>9</th>\n",
              "      <td>it will accommodate firing rates as low as half a gallon an hour</td>\n",
              "    </tr>\n",
              "  </tbody>\n",
              "</table>"
            ]
          },
          "metadata": {}
        }
      ]
    },
    {
      "cell_type": "markdown",
      "metadata": {
        "id": "jwfaptH5RJwA"
      },
      "source": [
        "Good! This looks better. We have removed most special characters from transcriptions and normalized them to lower-case only.\n",
        "\n",
        "In CTC, it is common to classify speech chunks into letters, so we will do the same here. \n",
        "Let's extract all distinct letters of the training and test data and build our vocabulary from this set of letters.\n",
        "\n",
        "We write a mapping function that concatenates all transcriptions into one long transcription and then transforms the string into a set of chars. \n",
        "It is important to pass the argument `batched=True` to the `map(...)` function so that the mapping function has access to all transcriptions at once."
      ]
    },
    {
      "cell_type": "code",
      "metadata": {
        "id": "LwCshNbbeRZR"
      },
      "source": [
        "def extract_all_chars(batch):\n",
        "  all_text = \" \".join(batch[\"text\"])\n",
        "  vocab = list(set(all_text))\n",
        "  return {\"vocab\": [vocab], \"all_text\": [all_text]}"
      ],
      "execution_count": 12,
      "outputs": []
    },
    {
      "cell_type": "code",
      "metadata": {
        "colab": {
          "base_uri": "https://localhost:8080/",
          "height": 81,
          "referenced_widgets": [
            "4966d57fd0944f0a85e54fe867c10360",
            "5ee3a2181577428ab1827d79ffc51756",
            "31c3cdcc47be42e8b702ba1f5c1f6bb3",
            "96e91729d2fc4fb5948f59dafe3fe951",
            "890496a9ecdf41bda4f8e9d4ab412bdd",
            "4decdf9c75d54ae2a692c165ed5c15e3",
            "b9fdeef8387c47489b5eafae1bc7ee45",
            "77c38e4964af4bb69059bb53e70068fd",
            "049eaf51199349d69cf9b2be761e233b",
            "371a71bcde8a493ab658824dcaf2add7",
            "384536899a8b460b80127b97829daa62",
            "81d3246c8cd1497ead0da37a5d00e3a3",
            "4062c42664b94a9e87d57ef9dde985bc",
            "6fffa9a453b548c3b00988ff84b6e1ea",
            "bcac028a39224ee89027a2c3761cbe61",
            "430031aee3284583bb7adfa21e4409eb",
            "6d1ce6a28ae84f60b6e3d70850acac95",
            "21bb120fb0134241a55c06ff4b2a77f4",
            "574580798b7a4e2982e1394a7372390d",
            "dfc0220d395243399d672415a1cb5983",
            "1b40eae46422460b9d4c6afae2e06c4d",
            "dacb08b10f0d46af9b06e745b13217a2"
          ]
        },
        "id": "_m6uUjjcfbjH",
        "outputId": "47b427ad-3351-45a5-de67-22d1c2fa5870"
      },
      "source": [
        "vocabs = timit.map(extract_all_chars, batched=True, batch_size=-1, keep_in_memory=True, remove_columns=timit.column_names[\"train\"])"
      ],
      "execution_count": 13,
      "outputs": [
        {
          "output_type": "display_data",
          "data": {
            "text/plain": [
              "  0%|          | 0/1 [00:00<?, ?ba/s]"
            ],
            "application/vnd.jupyter.widget-view+json": {
              "version_major": 2,
              "version_minor": 0,
              "model_id": "4966d57fd0944f0a85e54fe867c10360"
            }
          },
          "metadata": {}
        },
        {
          "output_type": "display_data",
          "data": {
            "text/plain": [
              "  0%|          | 0/1 [00:00<?, ?ba/s]"
            ],
            "application/vnd.jupyter.widget-view+json": {
              "version_major": 2,
              "version_minor": 0,
              "model_id": "81d3246c8cd1497ead0da37a5d00e3a3"
            }
          },
          "metadata": {}
        }
      ]
    },
    {
      "cell_type": "markdown",
      "metadata": {
        "id": "7oVgE8RZSJNP"
      },
      "source": [
        "Now, we create the union of all distinct letters in the training dataset and test dataset and convert the resulting list into an enumerated dictionary."
      ]
    },
    {
      "cell_type": "code",
      "metadata": {
        "id": "aQfneNsmlJI0"
      },
      "source": [
        "vocab_list = list(set(vocabs[\"train\"][\"vocab\"][0]) | set(vocabs[\"test\"][\"vocab\"][0]))"
      ],
      "execution_count": 14,
      "outputs": []
    },
    {
      "cell_type": "code",
      "metadata": {
        "colab": {
          "base_uri": "https://localhost:8080/"
        },
        "id": "_0kRndSvqaKk",
        "outputId": "a84040a8-5d5e-40f2-aa09-6d1ce95dcddb"
      },
      "source": [
        "vocab_dict = {v: k for k, v in enumerate(vocab_list)}\n",
        "vocab_dict"
      ],
      "execution_count": 15,
      "outputs": [
        {
          "output_type": "execute_result",
          "data": {
            "text/plain": [
              "{'a': 0,\n",
              " 'u': 1,\n",
              " \"'\": 2,\n",
              " 'j': 3,\n",
              " 'w': 4,\n",
              " 'h': 5,\n",
              " 'e': 6,\n",
              " 's': 7,\n",
              " 'g': 8,\n",
              " 'y': 9,\n",
              " 'p': 10,\n",
              " 'c': 11,\n",
              " 't': 12,\n",
              " 'r': 13,\n",
              " 'v': 14,\n",
              " 'i': 15,\n",
              " 'q': 16,\n",
              " 'k': 17,\n",
              " 'd': 18,\n",
              " 'l': 19,\n",
              " 'n': 20,\n",
              " ' ': 21,\n",
              " 'o': 22,\n",
              " 'z': 23,\n",
              " 'f': 24,\n",
              " 'm': 25,\n",
              " 'b': 26,\n",
              " 'x': 27}"
            ]
          },
          "metadata": {},
          "execution_count": 15
        }
      ]
    },
    {
      "cell_type": "markdown",
      "metadata": {
        "id": "JOSzbvs9SXT1"
      },
      "source": [
        "Cool, we see that all letters of the alphabet occur in the dataset (which is not really surprising) and we also extracted the special characters `\" \"` and `'`. Note that we did not exclude those special characters because: \n",
        "\n",
        "- The model has to learn to predict when a word finished or else the model prediction would always be a sequence of chars which would make it impossible to separate words from each other.\n",
        "- In English, we need to keep the `'` character to differentiate between words, *e.g.*, `\"it's\"` and `\"its\"` which have very different meanings."
      ]
    },
    {
      "cell_type": "markdown",
      "metadata": {
        "id": "b1fBRCn-TRaO"
      },
      "source": [
        "To make it clearer that `\" \"` has its own token class, we give it a more visible character `|`. In addition, we also add an \"unknown\" token so that the model can later deal with characters not encountered in Timit's training set. \n",
        "\n",
        "Finally, we also add a padding token that corresponds to CTC's \"*blank token*\". The \"blank token\" is a core component of the CTC algorithm. For more information, please take a look at the \"Alignment\" section [here](https://distill.pub/2017/ctc/)."
      ]
    },
    {
      "cell_type": "code",
      "metadata": {
        "id": "npbIbBoLgaFX"
      },
      "source": [
        "vocab_dict[\"|\"] = vocab_dict[\" \"]\n",
        "del vocab_dict[\" \"]"
      ],
      "execution_count": 16,
      "outputs": []
    },
    {
      "cell_type": "code",
      "metadata": {
        "id": "znF0bNunsjbl",
        "colab": {
          "base_uri": "https://localhost:8080/"
        },
        "outputId": "a330423b-5d0d-4160-befb-66db6ef84082"
      },
      "source": [
        "vocab_dict[\"[UNK]\"] = len(vocab_dict)\n",
        "vocab_dict[\"[PAD]\"] = len(vocab_dict)\n",
        "len(vocab_dict)"
      ],
      "execution_count": 17,
      "outputs": [
        {
          "output_type": "execute_result",
          "data": {
            "text/plain": [
              "30"
            ]
          },
          "metadata": {},
          "execution_count": 17
        }
      ]
    },
    {
      "cell_type": "markdown",
      "metadata": {
        "id": "SFPGfet8U5sL"
      },
      "source": [
        "Cool, now our vocabulary is complete and consists of 30 tokens, which means that the linear layer that we will add on top of the pretrained Wav2Vec2 checkpoint will have an output dimension of 30."
      ]
    },
    {
      "cell_type": "markdown",
      "metadata": {
        "id": "1CujRgBNVRaD"
      },
      "source": [
        "Let's now save the vocabulary as a json file."
      ]
    },
    {
      "cell_type": "code",
      "metadata": {
        "id": "ehyUoh9vk191"
      },
      "source": [
        "import json\n",
        "with open('vocab.json', 'w') as vocab_file:\n",
        "    json.dump(vocab_dict, vocab_file)"
      ],
      "execution_count": 18,
      "outputs": []
    },
    {
      "cell_type": "markdown",
      "metadata": {
        "id": "SHJDaKlIVVim"
      },
      "source": [
        "In a final step, we use the json file to instantiate an object of the `Wav2Vec2CTCTokenizer` class."
      ]
    },
    {
      "cell_type": "code",
      "metadata": {
        "id": "xriFGEWQkO4M"
      },
      "source": [
        "from transformers import Wav2Vec2CTCTokenizer\n",
        "\n",
        "tokenizer = Wav2Vec2CTCTokenizer(\"./vocab.json\", unk_token=\"[UNK]\", pad_token=\"[PAD]\", word_delimiter_token=\"|\")"
      ],
      "execution_count": 19,
      "outputs": []
    },
    {
      "cell_type": "markdown",
      "metadata": {
        "id": "P6L2EVWwIazG"
      },
      "source": [
        "If one wants to re-use the just created tokenizer with the fine-tuned model of this notebook, it is strongly advised to upload the `tokenizer` to the [🤗 Hub](https://huggingface.co/). Let's call the repo to which we will upload the files\n",
        "`\"wav2vec2-base-timit-demo-colab\"`:"
      ]
    },
    {
      "cell_type": "code",
      "metadata": {
        "id": "1mbffBdxIl0M"
      },
      "source": [
        "#repo_name = \"wav2vec2-base-timit-demo-google-colab\""
      ],
      "execution_count": null,
      "outputs": []
    },
    {
      "cell_type": "code",
      "source": [
        "repo_name = \"wav2vec2_timit_xlsr\""
      ],
      "metadata": {
        "id": "v9lWhQP_91LW"
      },
      "execution_count": 20,
      "outputs": []
    },
    {
      "cell_type": "markdown",
      "metadata": {
        "id": "pmpG2ftFIu3B"
      },
      "source": [
        "and upload the tokenizer to the [🤗 Hub](https://huggingface.co/)."
      ]
    },
    {
      "cell_type": "code",
      "metadata": {
        "colab": {
          "base_uri": "https://localhost:8080/"
        },
        "id": "ScBMUz8jIxJi",
        "outputId": "a2d2c321-0b96-4e79-b5cf-bb118db1a76d"
      },
      "source": [
        "tokenizer.push_to_hub(repo_name)"
      ],
      "execution_count": 21,
      "outputs": [
        {
          "output_type": "execute_result",
          "data": {
            "text/plain": [
              "CommitInfo(commit_url='https://huggingface.co/diallomama/wav2vec2_timit_xlsr/commit/c4e4a5b0c42743bd605697728d0a0917eb4dd61e', commit_message='Upload tokenizer', commit_description='', oid='c4e4a5b0c42743bd605697728d0a0917eb4dd61e', pr_url=None, pr_revision=None, pr_num=None)"
            ]
          },
          "metadata": {},
          "execution_count": 21
        }
      ]
    },
    {
      "cell_type": "markdown",
      "metadata": {
        "id": "KvL12DrNV4cx"
      },
      "source": [
        "Great, you can see the just created repository under `https://huggingface.co/<your-username>/wav2vec2-base-timit-demo-colab`"
      ]
    },
    {
      "cell_type": "markdown",
      "metadata": {
        "id": "mYcIiR2FQ96i"
      },
      "source": [
        "### Create Wav2Vec2 Feature Extractor"
      ]
    },
    {
      "cell_type": "markdown",
      "metadata": {
        "id": "Y6mDEyW719rx"
      },
      "source": [
        "Speech is a continuous signal and to be treated by computers, it first has to be discretized, which is usually called **sampling**. The sampling rate hereby plays an important role in that it defines how many data points of the speech signal are measured per second. Therefore, sampling with a higher sampling rate results in a better approximation of the *real* speech signal but also necessitates more values per second.\n",
        "\n",
        "A pretrained checkpoint expects its input data to have been sampled more or less from the same distribution as the data it was trained on. The same speech signals sampled at two different rates have a very different distribution, *e.g.*, doubling the sampling rate results in data points being twice as long. Thus, \n",
        "before fine-tuning a pretrained checkpoint of an ASR model, it is crucial to verify that the sampling rate of the data that was used to pretrain the model matches the sampling rate of the dataset used to fine-tune the model.\n",
        "\n",
        "Wav2Vec2 was pretrained on the audio data of [LibriSpeech](https://huggingface.co/datasets/librispeech_asr) and LibriVox which both were sampling with 16kHz. Our fine-tuning dataset, [Timit](hhtps://huggingface.co/datasets/timit_asr), was luckily also sampled with 16kHz. If the fine-tuning dataset would have been sampled with a rate lower or higher than 16kHz, we first would have had to up or downsample the speech signal to match the sampling rate of the data used for pretraining. \n",
        "\n"
      ]
    },
    {
      "cell_type": "markdown",
      "metadata": {
        "id": "KuUbPW7oV-B5"
      },
      "source": [
        "A Wav2Vec2 feature extractor object requires the following parameters to be instantiated:\n",
        "\n",
        "- `feature_size`: Speech models take a sequence of feature vectors as an input. While the length of this sequence obviously varies, the feature size should not. In the case of Wav2Vec2, the feature size is 1 because the model was trained on the raw speech signal ${}^2$.\n",
        "- `sampling_rate`: The sampling rate at which the model is trained on.\n",
        "- `padding_value`: For batched inference, shorter inputs need to be padded with a specific value\n",
        "- `do_normalize`: Whether the input should be *zero-mean-unit-variance* normalized or not. Usually, speech models perform better when normalizing the input\n",
        "- `return_attention_mask`: Whether the model should make use of an `attention_mask` for batched inference. In general, models should **always** make use of the `attention_mask` to mask padded tokens. However, due to a very specific design choice of `Wav2Vec2`'s \"base\" checkpoint, better results are achieved when using no `attention_mask`. This is **not** recommended for other speech models. For more information, one can take a look at [this](https://github.com/pytorch/fairseq/issues/3227) issue. **Important** If you want to use this notebook to fine-tune [large-lv60](https://huggingface.co/facebook/wav2vec2-large-lv60), this parameter should be set to `True`."
      ]
    },
    {
      "cell_type": "code",
      "metadata": {
        "id": "kAR0-2KLkopp"
      },
      "source": [
        "\"\"\"\n",
        "from transformers import Wav2Vec2FeatureExtractor\n",
        "\n",
        "feature_extractor = Wav2Vec2FeatureExtractor(feature_size=1, sampling_rate=16000, padding_value=0.0, do_normalize=True, return_attention_mask=False)\n",
        "\"\"\""
      ],
      "execution_count": null,
      "outputs": []
    },
    {
      "cell_type": "code",
      "source": [
        "from transformers import Wav2Vec2FeatureExtractor\n",
        "\n",
        "feature_extractor = Wav2Vec2FeatureExtractor(feature_size=1, sampling_rate=16000, padding_value=0.0, do_normalize=True, return_attention_mask=True)"
      ],
      "metadata": {
        "id": "ca8LKs9SCZYu"
      },
      "execution_count": 22,
      "outputs": []
    },
    {
      "cell_type": "markdown",
      "metadata": {
        "id": "qUETetgqYC3W"
      },
      "source": [
        "Great, Wav2Vec2's feature extraction pipeline is thereby fully defined!\n",
        "\n",
        "To make the usage of Wav2Vec2 as user-friendly as possible, the feature extractor and tokenizer are *wrapped* into a single `Wav2Vec2Processor` class so that one only needs a `model` and `processor` object."
      ]
    },
    {
      "cell_type": "code",
      "metadata": {
        "id": "KYZtoW-tlZgl"
      },
      "source": [
        "from transformers import Wav2Vec2Processor\n",
        "\n",
        "processor = Wav2Vec2Processor(feature_extractor=feature_extractor, tokenizer=tokenizer)"
      ],
      "execution_count": 23,
      "outputs": []
    },
    {
      "cell_type": "markdown",
      "metadata": {
        "id": "DrKnYuvDIoOO"
      },
      "source": [
        "Next, we can prepare the dataset."
      ]
    },
    {
      "cell_type": "markdown",
      "metadata": {
        "id": "YFmShnl7RE35"
      },
      "source": [
        "### Preprocess Data\n",
        "\n",
        "So far, we have not looked at the actual values of the speech signal but just the transcription. In addition to `'text'`, our datasets include two more column names `'file'` and `'audio'`. `'file'` states the absolute path of the audio file. Let's take a look."
      ]
    },
    {
      "cell_type": "code",
      "metadata": {
        "colab": {
          "base_uri": "https://localhost:8080/",
          "height": 53
        },
        "id": "TTCS7W6XJ9BG",
        "outputId": "b6b933c5-7a48-46bc-9b45-89d0c022933f"
      },
      "source": [
        "timit[\"train\"][0][\"file\"]"
      ],
      "execution_count": 24,
      "outputs": [
        {
          "output_type": "execute_result",
          "data": {
            "text/plain": [
              "'/root/.cache/huggingface/datasets/downloads/extracted/404950a46da14eac65eb4e2a8317b1372fb3971d980d91d5d5b221275b1fd7e0/data/TRAIN/DR4/MMDM0/SI681.WAV'"
            ],
            "application/vnd.google.colaboratory.intrinsic+json": {
              "type": "string"
            }
          },
          "metadata": {},
          "execution_count": 24
        }
      ]
    },
    {
      "cell_type": "markdown",
      "metadata": {
        "id": "BwxprOw4Nzrl"
      },
      "source": [
        "`Wav2Vec2` expects the input in the format of a 1-dimensional array of 16 kHz. This means that the audio file has to be loaded and resampled.\n",
        "\n",
        " Thankfully, `datasets` does this automatically when calling the column `audio`. Let try it out. "
      ]
    },
    {
      "cell_type": "code",
      "metadata": {
        "colab": {
          "base_uri": "https://localhost:8080/"
        },
        "id": "mk9QHuSsN7lf",
        "outputId": "d61a2fa2-d869-4a41-f314-07f108a1ac39"
      },
      "source": [
        "timit[\"train\"][0][\"audio\"]"
      ],
      "execution_count": 25,
      "outputs": [
        {
          "output_type": "execute_result",
          "data": {
            "text/plain": [
              "{'path': '/root/.cache/huggingface/datasets/downloads/extracted/404950a46da14eac65eb4e2a8317b1372fb3971d980d91d5d5b221275b1fd7e0/data/TRAIN/DR4/MMDM0/SI681.WAV',\n",
              " 'array': array([-2.1362305e-04,  6.1035156e-05,  3.0517578e-05, ...,\n",
              "        -3.0517578e-05, -9.1552734e-05, -6.1035156e-05], dtype=float32),\n",
              " 'sampling_rate': 16000}"
            ]
          },
          "metadata": {},
          "execution_count": 25
        }
      ]
    },
    {
      "cell_type": "markdown",
      "metadata": {
        "id": "wSBIGEiaKHMn"
      },
      "source": [
        "We can see that the audio file has automatically been loaded. This is thanks to the new [`\"Audio\"` feature](https://huggingface.co/docs/datasets/package_reference/main_classes.html?highlight=audio#datasets.Audio) introduced in `datasets == 4.13.3`, which loads and resamples audio files on-the-fly upon calling.\n",
        "\n",
        "The sampling rate is set to 16kHz which is what `Wav2Vec2` expects as an input."
      ]
    },
    {
      "cell_type": "markdown",
      "metadata": {
        "id": "SOckzFd4Mbzq"
      },
      "source": [
        "Great, let's listen to a couple of audio files to better understand the dataset and verify that the audio was correctly loaded. \n",
        "\n",
        "**Note**: *You can click the following cell a couple of times to listen to different speech samples.*"
      ]
    },
    {
      "cell_type": "code",
      "metadata": {
        "colab": {
          "base_uri": "https://localhost:8080/",
          "height": 79
        },
        "outputId": "c3c70e7e-05c3-4e4a-f6bd-1699f01936c7",
        "id": "EjV16kofC6Pe"
      },
      "source": [
        "import IPython.display as ipd\n",
        "import numpy as np\n",
        "import random\n",
        "\n",
        "rand_int = random.randint(0, len(timit[\"train\"]))\n",
        "\n",
        "print(timit[\"train\"][rand_int][\"text\"])\n",
        "ipd.Audio(data=np.asarray(timit[\"train\"][rand_int][\"audio\"][\"array\"]), autoplay=True, rate=16000)"
      ],
      "execution_count": 27,
      "outputs": [
        {
          "output_type": "stream",
          "name": "stdout",
          "text": [
            "her lips moist and parted spoke his name \n"
          ]
        },
        {
          "output_type": "execute_result",
          "data": {
            "text/plain": [
              "<IPython.lib.display.Audio object>"
            ],
            "text/html": [
              "\n",
              "                <audio  controls=\"controls\" autoplay=\"autoplay\">\n",
              "                    <source src=\"data:audio/wav;base64,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\" type=\"audio/wav\" />\n",
              "                    Your browser does not support the audio element.\n",
              "                </audio>\n",
              "              "
            ]
          },
          "metadata": {},
          "execution_count": 27
        }
      ]
    },
    {
      "cell_type": "code",
      "metadata": {
        "colab": {
          "base_uri": "https://localhost:8080/",
          "height": 94
        },
        "id": "dueM6U7Ev0OA",
        "outputId": "4220aef7-b6ef-452f-e7f9-905198a5b497"
      },
      "source": [
        "\"\"\"\n",
        "import IPython.display as ipd\n",
        "import numpy as np\n",
        "import random\n",
        "\n",
        "rand_int = random.randint(0, len(timit[\"train\"]))\n",
        "\n",
        "print(timit[\"train\"][rand_int][\"text\"])\n",
        "ipd.Audio(data=np.asarray(timit[\"train\"][rand_int][\"audio\"][\"array\"]), autoplay=True, rate=16000)\n",
        "\"\"\""
      ],
      "execution_count": null,
      "outputs": [
        {
          "output_type": "stream",
          "name": "stdout",
          "text": [
            "the water contained too much chlorine and stung his eyes \n"
          ]
        },
        {
          "output_type": "execute_result",
          "data": {
            "text/plain": [
              "<IPython.lib.display.Audio object>"
            ],
            "text/html": [
              "\n",
              "                <audio controls=\"controls\" autoplay=\"autoplay\">\n",
              "                    <source src=\"data:audio/wav;base64,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\" type=\"audio/wav\" />\n",
              "                    Your browser does not support the audio element.\n",
              "                </audio>\n",
              "              "
            ]
          },
          "metadata": {},
          "execution_count": 72
        }
      ]
    },
    {
      "cell_type": "markdown",
      "metadata": {
        "id": "1MaL9J2dNVtG"
      },
      "source": [
        "It can be heard, that the speakers change along with their speaking rate, accent, etc. Overall, the recordings sound relatively clear though, which is to be expected from a read speech corpus.\n",
        "\n",
        "Let's do a final check that the data is correctly prepared, by printing the shape of the speech input, its transcription, and the corresponding sampling rate.\n",
        "\n",
        "**Note**: *You can click the following cell a couple of times to verify multiple samples.*"
      ]
    },
    {
      "cell_type": "code",
      "metadata": {
        "colab": {
          "base_uri": "https://localhost:8080/"
        },
        "outputId": "d4e0aaf9-0d58-46d6-9fa6-53a30921dcac",
        "id": "zccYGsIrDOh2"
      },
      "source": [
        "rand_int = random.randint(0, len(timit[\"train\"]))\n",
        "\n",
        "print(\"Target text:\", timit[\"train\"][rand_int][\"text\"])\n",
        "print(\"Input array shape:\", np.asarray(timit[\"train\"][rand_int][\"audio\"][\"array\"]).shape)\n",
        "print(\"Sampling rate:\", timit[\"train\"][rand_int][\"audio\"][\"sampling_rate\"])"
      ],
      "execution_count": 28,
      "outputs": [
        {
          "output_type": "stream",
          "name": "stdout",
          "text": [
            "Target text: maybe it's taking longer to get things squared away than the bankers expected \n",
            "Input array shape: (82023,)\n",
            "Sampling rate: 16000\n"
          ]
        }
      ]
    },
    {
      "cell_type": "code",
      "source": [
        "#print(timit[\"train\"][rand_int][\"text\"])\n",
        "\n",
        "#ipd.Audio(data=np.asarray(timit[\"train\"][rand_int][\"audio\"][\"array\"]), autoplay=True, rate=16000)"
      ],
      "metadata": {
        "id": "DPfJVK29EVWu"
      },
      "execution_count": 33,
      "outputs": []
    },
    {
      "cell_type": "code",
      "metadata": {
        "colab": {
          "base_uri": "https://localhost:8080/"
        },
        "id": "1Po2g7YPuRTx",
        "outputId": "5a99494b-4cf6-46d2-a986-81ed4e1240dd"
      },
      "source": [
        "rand_int = random.randint(0, len(timit[\"train\"]))\n",
        "\n",
        "print(\"Target text:\", timit[\"train\"][rand_int][\"text\"])\n",
        "print(\"Input array shape:\", np.asarray(timit[\"train\"][rand_int][\"audio\"][\"array\"]).shape)\n",
        "print(\"Sampling rate:\", timit[\"train\"][rand_int][\"audio\"][\"sampling_rate\"])"
      ],
      "execution_count": null,
      "outputs": [
        {
          "output_type": "stream",
          "name": "stdout",
          "text": [
            "Target text: leave me your address \n",
            "Input array shape: (23962,)\n",
            "Sampling rate: 16000\n"
          ]
        }
      ]
    },
    {
      "cell_type": "markdown",
      "metadata": {
        "id": "M9teZcSwOBJ4"
      },
      "source": [
        "Good! Everything looks fine - the data is a 1-dimensional array, the sampling rate always corresponds to 16kHz, and the target text is normalized."
      ]
    },
    {
      "cell_type": "markdown",
      "metadata": {
        "id": "k3Pbn5WvOYZF"
      },
      "source": [
        "Finally, we can process the dataset to the format expected by the model for training. We will make use of the `map(...)` function.\n",
        "\n",
        "First, we load and resample the audio data, simply by calling `batch[\"audio\"]`.\n",
        "Second, we extract the `input_values` from the loaded audio file. In our case, the `Wav2Vec2Processor` only normalizes the data. For other speech models, however, this step can include more complex feature extraction, such as [Log-Mel feature extraction](https://en.wikipedia.org/wiki/Mel-frequency_cepstrum).\n",
        "Third, we encode the transcriptions to label ids.\n",
        "\n",
        "**Note**: This mapping function is a good example of how the `Wav2Vec2Processor` class should be used. In \"normal\" context, calling `processor(...)` is redirected to `Wav2Vec2FeatureExtractor`'s call method. When wrapping the processor into the `as_target_processor` context, however, the same method is redirected to `Wav2Vec2CTCTokenizer`'s call method.\n",
        "For more information please check the [docs](https://huggingface.co/transformers/master/model_doc/wav2vec2.html#transformers.Wav2Vec2Processor.__call__)."
      ]
    },
    {
      "cell_type": "code",
      "metadata": {
        "id": "eJY7I0XAwe9p"
      },
      "source": [
        "def prepare_dataset(batch):\n",
        "    audio = batch[\"audio\"]\n",
        "\n",
        "    # batched output is \"un-batched\" to ensure mapping is correct\n",
        "    batch[\"input_values\"] = processor(audio[\"array\"], sampling_rate=audio[\"sampling_rate\"]).input_values[0]\n",
        "    batch[\"input_length\"] = len(batch[\"input_values\"])\n",
        "    \n",
        "    with processor.as_target_processor():\n",
        "        batch[\"labels\"] = processor(batch[\"text\"]).input_ids\n",
        "    return batch"
      ],
      "execution_count": 29,
      "outputs": []
    },
    {
      "cell_type": "markdown",
      "metadata": {
        "id": "hVMZhH4-nP8-"
      },
      "source": [
        "Let's apply the data preparation function to all examples."
      ]
    },
    {
      "cell_type": "code",
      "metadata": {
        "id": "-np9xYK-wl8q",
        "colab": {
          "base_uri": "https://localhost:8080/",
          "height": 315
        },
        "outputId": "0cc991f7-c52f-4c92-95a4-dfde552fd384"
      },
      "source": [
        "timit = timit.map(prepare_dataset, remove_columns=timit.column_names[\"train\"], num_proc=4)"
      ],
      "execution_count": 30,
      "outputs": [
        {
          "output_type": "stream",
          "name": "stderr",
          "text": [
            "/usr/local/lib/python3.10/dist-packages/transformers/models/wav2vec2/processing_wav2vec2.py:154: UserWarning: `as_target_processor` is deprecated and will be removed in v5 of Transformers. You can process your labels by using the argument `text` of the regular `__call__` method (either in the same call as your audio inputs, or in a separate call.\n",
            "  warnings.warn(\n",
            "/usr/local/lib/python3.10/dist-packages/transformers/models/wav2vec2/processing_wav2vec2.py:154: UserWarning: `as_target_processor` is deprecated and will be removed in v5 of Transformers. You can process your labels by using the argument `text` of the regular `__call__` method (either in the same call as your audio inputs, or in a separate call.\n",
            "  warnings.warn(\n",
            "/usr/local/lib/python3.10/dist-packages/transformers/models/wav2vec2/processing_wav2vec2.py:154: UserWarning: `as_target_processor` is deprecated and will be removed in v5 of Transformers. You can process your labels by using the argument `text` of the regular `__call__` method (either in the same call as your audio inputs, or in a separate call.\n",
            "  warnings.warn(\n",
            "/usr/local/lib/python3.10/dist-packages/transformers/models/wav2vec2/processing_wav2vec2.py:154: UserWarning: `as_target_processor` is deprecated and will be removed in v5 of Transformers. You can process your labels by using the argument `text` of the regular `__call__` method (either in the same call as your audio inputs, or in a separate call.\n",
            "  warnings.warn(\n",
            "/usr/local/lib/python3.10/dist-packages/transformers/models/wav2vec2/processing_wav2vec2.py:154: UserWarning: `as_target_processor` is deprecated and will be removed in v5 of Transformers. You can process your labels by using the argument `text` of the regular `__call__` method (either in the same call as your audio inputs, or in a separate call.\n",
            "  warnings.warn(\n",
            "/usr/local/lib/python3.10/dist-packages/transformers/models/wav2vec2/processing_wav2vec2.py:154: UserWarning: `as_target_processor` is deprecated and will be removed in v5 of Transformers. You can process your labels by using the argument `text` of the regular `__call__` method (either in the same call as your audio inputs, or in a separate call.\n",
            "  warnings.warn(\n",
            "/usr/local/lib/python3.10/dist-packages/transformers/models/wav2vec2/processing_wav2vec2.py:154: UserWarning: `as_target_processor` is deprecated and will be removed in v5 of Transformers. You can process your labels by using the argument `text` of the regular `__call__` method (either in the same call as your audio inputs, or in a separate call.\n",
            "  warnings.warn(\n",
            "/usr/local/lib/python3.10/dist-packages/transformers/models/wav2vec2/processing_wav2vec2.py:154: UserWarning: `as_target_processor` is deprecated and will be removed in v5 of Transformers. You can process your labels by using the argument `text` of the regular `__call__` method (either in the same call as your audio inputs, or in a separate call.\n",
            "  warnings.warn(\n"
          ]
        }
      ]
    },
    {
      "cell_type": "markdown",
      "metadata": {
        "id": "p_MuJSH8nTuQ"
      },
      "source": [
        "**Note**: Currently `datasets` make use of [`torchaudio`](https://pytorch.org/audio/stable/index.html) and [`librosa`](https://librosa.org/doc/latest/index.html) for audio loading and resampling. If you wish to implement your own costumized data loading/sampling, feel free to just make use of the `\"path\"` column instead and disregard the `\"audio\"` column."
      ]
    },
    {
      "cell_type": "markdown",
      "metadata": {
        "id": "M4J0bU1WsvAg"
      },
      "source": [
        "Long input sequences require a lot of memory. Since `Wav2Vec2` is based on `self-attention` the memory requirement scales quadratically with the input length for long input sequences (*cf.* with [this](https://www.reddit.com/r/MachineLearning/comments/genjvb/d_why_is_the_maximum_input_sequence_length_of/) reddit post). For this demo, let's filter all sequences that are longer than 4 seconds out of the training dataset."
      ]
    },
    {
      "cell_type": "code",
      "metadata": {
        "colab": {
          "base_uri": "https://localhost:8080/",
          "height": 49,
          "referenced_widgets": [
            "520ccfa3d7e1447ea9294825114d7030",
            "e1f7cb6dbed34cf7aaa7a7aef79a3b48",
            "5904b66d20d14970baa1cf37ad7b75c0",
            "eeb523bd95644c0db61d79c69b8295d0",
            "b654e88bb19443b98e321a5fa952d9a1",
            "88a13c1a25e54bdca2b8d0a447fbc7c9",
            "1d53385ed9644cb99ae34a1c827a4225",
            "4eecd992238c409085a3bf74ff304a45",
            "eb640667adc24939bccb0ef4b2053c52",
            "aca97c70fb904e52b777d998b2d0fdf1",
            "5c0302a5ceec4a69be1bd78e949296f5"
          ]
        },
        "id": "nqGobEPUvG3v",
        "outputId": "9eab0bb9-2ff4-4835-e3cd-ab9dd67f461b"
      },
      "source": [
        "max_input_length_in_sec = 4.0\n",
        "timit[\"train\"] = timit[\"train\"].filter(lambda x: x < max_input_length_in_sec * processor.feature_extractor.sampling_rate, input_columns=[\"input_length\"])"
      ],
      "execution_count": 34,
      "outputs": [
        {
          "output_type": "display_data",
          "data": {
            "text/plain": [
              "  0%|          | 0/5 [00:00<?, ?ba/s]"
            ],
            "application/vnd.jupyter.widget-view+json": {
              "version_major": 2,
              "version_minor": 0,
              "model_id": "520ccfa3d7e1447ea9294825114d7030"
            }
          },
          "metadata": {}
        }
      ]
    },
    {
      "cell_type": "markdown",
      "metadata": {
        "id": "25Genil2v_Br"
      },
      "source": [
        "Awesome, now we are ready to start training!"
      ]
    },
    {
      "cell_type": "code",
      "source": [
        "print(len(timit[\"train\"]))"
      ],
      "metadata": {
        "id": "_GuU3YdcEzzd",
        "outputId": "139c0058-d205-498e-d155-6ff13cbd2658",
        "colab": {
          "base_uri": "https://localhost:8080/"
        }
      },
      "execution_count": 35,
      "outputs": [
        {
          "output_type": "stream",
          "name": "stdout",
          "text": [
            "3978\n"
          ]
        }
      ]
    },
    {
      "cell_type": "markdown",
      "metadata": {
        "id": "gYlQkKVoRUos"
      },
      "source": [
        "## Training & Evaluation\n",
        "\n",
        "The data is processed so that we are ready to start setting up the training pipeline. We will make use of 🤗's [Trainer](https://huggingface.co/transformers/master/main_classes/trainer.html?highlight=trainer) for which we essentially need to do the following:\n",
        "\n",
        "- Define a data collator. In contrast to most NLP models, Wav2Vec2 has a much larger input length than output length. *E.g.*, a sample of input length 50000 has an output length of no more than 100. Given the large input sizes, it is much more efficient to pad the training batches dynamically meaning that all training samples should only be padded to the longest sample in their batch and not the overall longest sample. Therefore, fine-tuning Wav2Vec2 requires a special padding data collator, which we will define below\n",
        "\n",
        "- Evaluation metric. During training, the model should be evaluated on the word error rate. We should define a `compute_metrics` function accordingly\n",
        "\n",
        "- Load a pretrained checkpoint. We need to load a pretrained checkpoint and configure it correctly for training.\n",
        "\n",
        "- Define the training configuration.\n",
        "\n",
        "After having fine-tuned the model, we will correctly evaluate it on the test data and verify that it has indeed learned to correctly transcribe speech."
      ]
    },
    {
      "cell_type": "markdown",
      "metadata": {
        "id": "Slk403unUS91"
      },
      "source": [
        "### Set-up Trainer\n",
        "\n",
        "Let's start by defining the data collator. The code for the data collator was copied from [this example](https://github.com/huggingface/transformers/blob/9a06b6b11bdfc42eea08fa91d0c737d1863c99e3/examples/research_projects/wav2vec2/run_asr.py#L81).\n",
        "\n",
        "Without going into too many details, in contrast to the common data collators, this data collator treats the `input_values` and `labels` differently and thus applies to separate padding functions on them (again making use of Wav2Vec2's context manager). This is necessary because in speech input and output are of different modalities meaning that they should not be treated by the same padding function.\n",
        "Analogous to the common data collators, the padding tokens in the labels with `-100` so that those tokens are **not** taken into account when computing the loss."
      ]
    },
    {
      "cell_type": "code",
      "metadata": {
        "id": "tborvC9hx88e"
      },
      "source": [
        "import torch\n",
        "\n",
        "from dataclasses import dataclass, field\n",
        "from typing import Any, Dict, List, Optional, Union\n",
        "\n",
        "@dataclass\n",
        "class DataCollatorCTCWithPadding:\n",
        "    \"\"\"\n",
        "    Data collator that will dynamically pad the inputs received.\n",
        "    Args:\n",
        "        processor (:class:`~transformers.Wav2Vec2Processor`)\n",
        "            The processor used for proccessing the data.\n",
        "        padding (:obj:`bool`, :obj:`str` or :class:`~transformers.tokenization_utils_base.PaddingStrategy`, `optional`, defaults to :obj:`True`):\n",
        "            Select a strategy to pad the returned sequences (according to the model's padding side and padding index)\n",
        "            among:\n",
        "            * :obj:`True` or :obj:`'longest'`: Pad to the longest sequence in the batch (or no padding if only a single\n",
        "              sequence if provided).\n",
        "            * :obj:`'max_length'`: Pad to a maximum length specified with the argument :obj:`max_length` or to the\n",
        "              maximum acceptable input length for the model if that argument is not provided.\n",
        "            * :obj:`False` or :obj:`'do_not_pad'` (default): No padding (i.e., can output a batch with sequences of\n",
        "              different lengths).\n",
        "    \"\"\"\n",
        "\n",
        "    processor: Wav2Vec2Processor\n",
        "    padding: Union[bool, str] = True\n",
        "\n",
        "    def __call__(self, features: List[Dict[str, Union[List[int], torch.Tensor]]]) -> Dict[str, torch.Tensor]:\n",
        "        # split inputs and labels since they have to be of different lenghts and need\n",
        "        # different padding methods\n",
        "        input_features = [{\"input_values\": feature[\"input_values\"]} for feature in features]\n",
        "        label_features = [{\"input_ids\": feature[\"labels\"]} for feature in features]\n",
        "\n",
        "        batch = self.processor.pad(\n",
        "            input_features,\n",
        "            padding=self.padding,\n",
        "            return_tensors=\"pt\",\n",
        "        )\n",
        "        with self.processor.as_target_processor():\n",
        "            labels_batch = self.processor.pad(\n",
        "                label_features,\n",
        "                padding=self.padding,\n",
        "                return_tensors=\"pt\",\n",
        "            )\n",
        "\n",
        "        # replace padding with -100 to ignore loss correctly\n",
        "        labels = labels_batch[\"input_ids\"].masked_fill(labels_batch.attention_mask.ne(1), -100)\n",
        "\n",
        "        batch[\"labels\"] = labels\n",
        "\n",
        "        return batch"
      ],
      "execution_count": 36,
      "outputs": []
    },
    {
      "cell_type": "code",
      "metadata": {
        "id": "lbQf5GuZyQ4_"
      },
      "source": [
        "data_collator = DataCollatorCTCWithPadding(processor=processor, padding=True)"
      ],
      "execution_count": 37,
      "outputs": []
    },
    {
      "cell_type": "markdown",
      "metadata": {
        "id": "xO-Zdj-5cxXp"
      },
      "source": [
        "Next, the evaluation metric is defined. As mentioned earlier, the \n",
        "predominant metric in ASR is the word error rate (WER), hence we will use it in this notebook as well."
      ]
    },
    {
      "cell_type": "code",
      "metadata": {
        "id": "9Xsux2gmyXso",
        "outputId": "00d00d02-adf0-46c6-c782-d71442a169d0",
        "colab": {
          "base_uri": "https://localhost:8080/",
          "height": 49,
          "referenced_widgets": [
            "12d39f5eb6474dc394ebaed8b0d659f3",
            "4c112a655b5f4ce9886391e07702cb1a",
            "7008f4e16e0541a8889e9dd8869c8331",
            "0d83314871d44dd088634b7711ed08a1",
            "d4631874498f4d92abd71bedba08a11c",
            "a9d178f5797d4ade9194699e6eeb1d34",
            "637327dc8e1b48a7a06e6aac5f9bb3be",
            "ee3f077b4a2340428855e21021564655",
            "0f93723e34f4461bad02f7a107250ad3",
            "6ef85d412cae47348303bb706f736746",
            "68ef52fd799d47109d69b7171559d955"
          ]
        }
      },
      "source": [
        "wer_metric = load_metric(\"wer\")"
      ],
      "execution_count": 38,
      "outputs": [
        {
          "output_type": "display_data",
          "data": {
            "text/plain": [
              "Downloading:   0%|          | 0.00/1.90k [00:00<?, ?B/s]"
            ],
            "application/vnd.jupyter.widget-view+json": {
              "version_major": 2,
              "version_minor": 0,
              "model_id": "12d39f5eb6474dc394ebaed8b0d659f3"
            }
          },
          "metadata": {}
        }
      ]
    },
    {
      "cell_type": "markdown",
      "metadata": {
        "id": "E1qZU5p-deqB"
      },
      "source": [
        "The model will return a sequence of logit vectors:\n",
        "$\\mathbf{y}_1, \\ldots, \\mathbf{y}_m$ with $\\mathbf{y}_1 = f_{\\theta}(x_1, \\ldots, x_n)[0]$ and $n >> m$.\n",
        "\n",
        "A logit vector $\\mathbf{y}_1$ contains the log-odds for each word in the vocabulary we defined earlier, thus $\\text{len}(\\mathbf{y}_i) =$ `config.vocab_size`. We are interested in the most likely prediction of the model and thus take the `argmax(...)` of the logits. Also, we transform the encoded labels back to the original string by replacing `-100` with the `pad_token_id` and decoding the ids while making sure that consecutive tokens are **not** grouped to the same token in CTC style ${}^1$."
      ]
    },
    {
      "cell_type": "code",
      "metadata": {
        "id": "1XZ-kjweyTy_"
      },
      "source": [
        "def compute_metrics(pred):\n",
        "    pred_logits = pred.predictions\n",
        "    pred_ids = np.argmax(pred_logits, axis=-1)\n",
        "\n",
        "    pred.label_ids[pred.label_ids == -100] = processor.tokenizer.pad_token_id\n",
        "\n",
        "    pred_str = processor.batch_decode(pred_ids)\n",
        "    # we do not want to group tokens when computing the metrics\n",
        "    label_str = processor.batch_decode(pred.label_ids, group_tokens=False)\n",
        "\n",
        "    wer = wer_metric.compute(predictions=pred_str, references=label_str)\n",
        "\n",
        "    return {\"wer\": wer}"
      ],
      "execution_count": 39,
      "outputs": []
    },
    {
      "cell_type": "markdown",
      "metadata": {
        "id": "Xmgrx4bRwLIH"
      },
      "source": [
        "Now, we can load the pretrained `Wav2Vec2` checkpoint. The tokenizer's `pad_token_id` must be to define the model's `pad_token_id` or in the case of `Wav2Vec2ForCTC` also CTC's *blank token* ${}^2$. To save GPU memory, we enable PyTorch's [gradient checkpointing](https://pytorch.org/docs/stable/checkpoint.html) and also set the loss reduction to \"*mean*\"."
      ]
    },
    {
      "cell_type": "code",
      "metadata": {
        "colab": {
          "base_uri": "https://localhost:8080/",
          "height": 188,
          "referenced_widgets": [
            "7f58991cc9b94432b82cb7f1b5c26e40",
            "77fc205f75e646afad327fb8ff5bb6fa",
            "2129cd35d7414800857f2a1ae673b591",
            "0c79cfb996ac4eecae06d24f50a11ab9",
            "024ce40a5d154bc38b92af9d51308137",
            "a4fed13d882f4765b98366a7a440ffb7",
            "a9269a9ce9b04849aee783c037e02ecb",
            "95b82944fe5a46ae99c077e369cf268a",
            "ff2301acb10e4a909483feed14f39d78",
            "493477a83d524e1a8e6d51b1d1e7572a",
            "d4053b64b4254b1fb225feab1f9ca97e",
            "6715e7e41e2b4061ac9a8ce86c7a9c2f",
            "9f9521f2917342308f073e117bdf0e71",
            "00de0a628b8e48f98791faba92392519",
            "25c518dca3884415a642506e91e5ce14",
            "06fca186963e4d01b5474bc5dceb3c26",
            "2971865c5d264b41a540ac6bf8869f61",
            "660014a5eaec42529354edc21e6fc8a2",
            "beebda7da8804c28a35b5f429fe0f613",
            "7e79d1bd505f441a87e4cdbe53ffd598",
            "b8409b3da1a743c29c4ae251c34575e7",
            "a9890d2268e0467e92202eaa53bb1bfb"
          ]
        },
        "id": "e7cqAWIayn6w",
        "outputId": "b9b48fca-9a40-40bc-9de5-bd4237281552"
      },
      "source": [
        "from transformers import Wav2Vec2ForCTC\n",
        "\n",
        "model = Wav2Vec2ForCTC.from_pretrained(\n",
        "    #\"facebook/wav2vec2-base\",\n",
        "    \"facebook/wav2vec2-large-lv60\",\n",
        "    ctc_loss_reduction=\"mean\", \n",
        "    pad_token_id=processor.tokenizer.pad_token_id,\n",
        ")"
      ],
      "execution_count": 40,
      "outputs": [
        {
          "output_type": "display_data",
          "data": {
            "text/plain": [
              "Downloading:   0%|          | 0.00/1.55k [00:00<?, ?B/s]"
            ],
            "application/vnd.jupyter.widget-view+json": {
              "version_major": 2,
              "version_minor": 0,
              "model_id": "7f58991cc9b94432b82cb7f1b5c26e40"
            }
          },
          "metadata": {}
        },
        {
          "output_type": "display_data",
          "data": {
            "text/plain": [
              "Downloading:   0%|          | 0.00/1.27G [00:00<?, ?B/s]"
            ],
            "application/vnd.jupyter.widget-view+json": {
              "version_major": 2,
              "version_minor": 0,
              "model_id": "6715e7e41e2b4061ac9a8ce86c7a9c2f"
            }
          },
          "metadata": {}
        },
        {
          "output_type": "stream",
          "name": "stderr",
          "text": [
            "Some weights of the model checkpoint at facebook/wav2vec2-large-lv60 were not used when initializing Wav2Vec2ForCTC: ['quantizer.weight_proj.weight', 'quantizer.codevectors', 'project_hid.weight', 'project_hid.bias', 'quantizer.weight_proj.bias', 'project_q.weight', 'project_q.bias']\n",
            "- This IS expected if you are initializing Wav2Vec2ForCTC from the checkpoint of a model trained on another task or with another architecture (e.g. initializing a BertForSequenceClassification model from a BertForPreTraining model).\n",
            "- This IS NOT expected if you are initializing Wav2Vec2ForCTC from the checkpoint of a model that you expect to be exactly identical (initializing a BertForSequenceClassification model from a BertForSequenceClassification model).\n",
            "Some weights of Wav2Vec2ForCTC were not initialized from the model checkpoint at facebook/wav2vec2-large-lv60 and are newly initialized: ['lm_head.bias', 'lm_head.weight']\n",
            "You should probably TRAIN this model on a down-stream task to be able to use it for predictions and inference.\n"
          ]
        }
      ]
    },
    {
      "cell_type": "markdown",
      "metadata": {
        "id": "1DwR3XLSzGDD"
      },
      "source": [
        "The first component of Wav2Vec2 consists of a stack of CNN layers that are used to extract acoustically meaningful - but contextually independent - features from the raw speech signal. This part of the model has already been sufficiently trained during pretrainind and as stated in the [paper](https://arxiv.org/abs/2006.11477) does not need to be fine-tuned anymore. \n",
        "Thus, we can set the `requires_grad` to `False` for all parameters of the *feature extraction* part."
      ]
    },
    {
      "cell_type": "code",
      "source": [
        "model.freeze_feature_encoder()"
      ],
      "metadata": {
        "id": "Et_NUAZjWppc"
      },
      "execution_count": 41,
      "outputs": []
    },
    {
      "cell_type": "markdown",
      "metadata": {
        "id": "lD4aGhQM0K-D"
      },
      "source": [
        "In a final step, we define all parameters related to training. \n",
        "To give more explanation on some of the parameters:\n",
        "- `group_by_length` makes training more efficient by grouping training samples of similar input length into one batch. This can significantly speed up training time by heavily reducing the overall number of useless padding tokens that are passed through the model\n",
        "- `learning_rate` and `weight_decay` were heuristically tuned until fine-tuning has become stable. Note that those parameters strongly depend on the Timit dataset and might be suboptimal for other speech datasets.\n",
        "\n",
        "For more explanations on other parameters, one can take a look at the [docs](https://huggingface.co/transformers/master/main_classes/trainer.html?highlight=trainer#trainingarguments).\n",
        "\n",
        "During training, a checkpoint will be uploaded asynchronously to the hub every 400 training steps. It allows you to also play around with the demo widget even while your model is still training.\n",
        "\n",
        "**Note**: If one does not want to upload the model checkpoints to the hub, simply set `push_to_hub=False`."
      ]
    },
    {
      "cell_type": "code",
      "metadata": {
        "id": "KbeKSV7uzGPP"
      },
      "source": [
        "from transformers import TrainingArguments\n",
        "\n",
        "training_args = TrainingArguments(\n",
        "  output_dir=repo_name,\n",
        "  group_by_length=True,\n",
        "  per_device_train_batch_size=8,\n",
        "  evaluation_strategy=\"steps\",\n",
        "  num_train_epochs=30,\n",
        "  fp16=True,\n",
        "  gradient_checkpointing=True,\n",
        "  save_steps=500,\n",
        "  eval_steps=500,\n",
        "  logging_steps=500,\n",
        "  learning_rate=1e-4,\n",
        "  weight_decay=0.005,\n",
        "  warmup_steps=1000,\n",
        "  save_total_limit=2,\n",
        ")"
      ],
      "execution_count": 42,
      "outputs": []
    },
    {
      "cell_type": "markdown",
      "metadata": {
        "id": "OsW-WZcL1ZtN"
      },
      "source": [
        "Now, all instances can be passed to Trainer and we are ready to start training!"
      ]
    },
    {
      "cell_type": "code",
      "metadata": {
        "id": "rY7vBmFCPFgC",
        "colab": {
          "base_uri": "https://localhost:8080/"
        },
        "outputId": "7fc89505-86fc-462c-f86c-663780b243d7"
      },
      "source": [
        "from transformers import Trainer\n",
        "\n",
        "trainer = Trainer(\n",
        "    model=model,\n",
        "    data_collator=data_collator,\n",
        "    args=training_args,\n",
        "    compute_metrics=compute_metrics,\n",
        "    train_dataset=timit[\"train\"],\n",
        "    eval_dataset=timit[\"test\"],\n",
        "    tokenizer=processor.feature_extractor,\n",
        ")"
      ],
      "execution_count": 43,
      "outputs": [
        {
          "output_type": "stream",
          "name": "stderr",
          "text": [
            "Using cuda_amp half precision backend\n"
          ]
        }
      ]
    },
    {
      "cell_type": "markdown",
      "metadata": {
        "id": "UoXBx1JAA0DX"
      },
      "source": [
        "\n",
        "\n",
        "---\n",
        "\n",
        "${}^1$ To allow models to become independent of the speaker rate, in CTC, consecutive tokens that are identical are simply grouped as a single token. However, the encoded labels should not be grouped when decoding since they don't correspond to the predicted tokens of the model, which is why the `group_tokens=False` parameter has to be passed. If we wouldn't pass this parameter a word like `\"hello\"` would incorrectly be encoded, and decoded as `\"helo\"`.\n",
        "\n",
        "${}^2$ The blank token allows the model to predict a word, such as `\"hello\"` by forcing it to insert the blank token between the two l's. A CTC-conform prediction of `\"hello\"` of our model would be `[PAD] [PAD] \"h\" \"e\" \"e\" \"l\" \"l\" [PAD] \"l\" \"o\" \"o\" [PAD]`."
      ]
    },
    {
      "cell_type": "markdown",
      "metadata": {
        "id": "rpvZHM1xReIW"
      },
      "source": [
        "### Training"
      ]
    },
    {
      "cell_type": "markdown",
      "metadata": {
        "id": "j-3oKSzZ1hGq"
      },
      "source": [
        "Training will take between 90 and 270 minutes depending on the GPU allocated to this notebook. While the trained model yields satisfying results on *Timit*'s test data, it is by no means an optimally fine-tuned model. The purpose of this notebook is to demonstrate how Wav2Vec2's [base](https://huggingface.co/facebook/wav2vec2-base), [large](https://huggingface.co/facebook/wav2vec2-large), and [large-lv60](https://huggingface.co/facebook/wav2vec2-large-lv60) checkpoints can be fine-tuned on any English dataset.\n",
        "\n",
        "In case you want to use this google colab to fine-tune your model, you should make sure that your training doesn't stop due to inactivity. A simple hack to prevent this is to paste the following code into the console of this tab (*right mouse click -> inspect -> Console tab and insert code*)."
      ]
    },
    {
      "cell_type": "markdown",
      "metadata": {
        "id": "VYYAvgkW4P0m"
      },
      "source": [
        "```javascript\n",
        "function ConnectButton(){\n",
        "    console.log(\"Connect pushed\"); \n",
        "    document.querySelector(\"#top-toolbar > colab-connect-button\").shadowRoot.querySelector(\"#connect\").click() \n",
        "}\n",
        "setInterval(ConnectButton,60000);\n",
        "```"
      ]
    },
    {
      "cell_type": "markdown",
      "metadata": {
        "id": "PmY6yqd1zvzU"
      },
      "source": [
        "Depending on what GPU was allocated to your google colab it might be possible that you are seeing an `\"out-of-memory\"` error here. In this case, it's probably best to reduce `per_device_train_batch_size` to 16 or even less and eventually make use of [`gradient_accumulation`](https://huggingface.co/transformers/master/main_classes/trainer.html#trainingarguments)."
      ]
    },
    {
      "cell_type": "code",
      "source": [
        "trainer.train()"
      ],
      "metadata": {
        "id": "VGE9YYGSGGvM",
        "outputId": "d4a2735e-625d-4efd-fafd-77e828baf7a1",
        "colab": {
          "base_uri": "https://localhost:8080/",
          "height": 1000
        }
      },
      "execution_count": null,
      "outputs": [
        {
          "output_type": "stream",
          "name": "stderr",
          "text": [
            "The following columns in the training set don't have a corresponding argument in `Wav2Vec2ForCTC.forward` and have been ignored: input_length. If input_length are not expected by `Wav2Vec2ForCTC.forward`,  you can safely ignore this message.\n",
            "/usr/local/lib/python3.10/dist-packages/transformers/optimization.py:306: FutureWarning: This implementation of AdamW is deprecated and will be removed in a future version. Use the PyTorch implementation torch.optim.AdamW instead, or set `no_deprecation_warning=True` to disable this warning\n",
            "  warnings.warn(\n",
            "***** Running training *****\n",
            "  Num examples = 3978\n",
            "  Num Epochs = 30\n",
            "  Instantaneous batch size per device = 8\n",
            "  Total train batch size (w. parallel, distributed & accumulation) = 8\n",
            "  Gradient Accumulation steps = 1\n",
            "  Total optimization steps = 14940\n",
            "  Number of trainable parameters = 311261344\n",
            "/usr/local/lib/python3.10/dist-packages/transformers/models/wav2vec2/processing_wav2vec2.py:154: UserWarning: `as_target_processor` is deprecated and will be removed in v5 of Transformers. You can process your labels by using the argument `text` of the regular `__call__` method (either in the same call as your audio inputs, or in a separate call.\n",
            "  warnings.warn(\n"
          ]
        },
        {
          "output_type": "display_data",
          "data": {
            "text/plain": [
              "<IPython.core.display.HTML object>"
            ],
            "text/html": [
              "\n",
              "    <div>\n",
              "      \n",
              "      <progress value='11408' max='14940' style='width:300px; height:20px; vertical-align: middle;'></progress>\n",
              "      [11408/14940 2:47:18 < 51:48, 1.14 it/s, Epoch 22.91/30]\n",
              "    </div>\n",
              "    <table border=\"1\" class=\"dataframe\">\n",
              "  <thead>\n",
              " <tr style=\"text-align: left;\">\n",
              "      <th>Step</th>\n",
              "      <th>Training Loss</th>\n",
              "      <th>Validation Loss</th>\n",
              "      <th>Wer</th>\n",
              "    </tr>\n",
              "  </thead>\n",
              "  <tbody>\n",
              "    <tr>\n",
              "      <td>500</td>\n",
              "      <td>5.057900</td>\n",
              "      <td>2.954469</td>\n",
              "      <td>0.981876</td>\n",
              "    </tr>\n",
              "    <tr>\n",
              "      <td>1000</td>\n",
              "      <td>1.934100</td>\n",
              "      <td>0.513923</td>\n",
              "      <td>0.505548</td>\n",
              "    </tr>\n",
              "    <tr>\n",
              "      <td>1500</td>\n",
              "      <td>0.454700</td>\n",
              "      <td>0.297166</td>\n",
              "      <td>0.366963</td>\n",
              "    </tr>\n",
              "    <tr>\n",
              "      <td>2000</td>\n",
              "      <td>0.256100</td>\n",
              "      <td>0.242661</td>\n",
              "      <td>0.313762</td>\n",
              "    </tr>\n",
              "    <tr>\n",
              "      <td>2500</td>\n",
              "      <td>0.176200</td>\n",
              "      <td>0.245810</td>\n",
              "      <td>0.297843</td>\n",
              "    </tr>\n",
              "    <tr>\n",
              "      <td>3000</td>\n",
              "      <td>0.136700</td>\n",
              "      <td>0.245471</td>\n",
              "      <td>0.274757</td>\n",
              "    </tr>\n",
              "    <tr>\n",
              "      <td>3500</td>\n",
              "      <td>0.109800</td>\n",
              "      <td>0.250437</td>\n",
              "      <td>0.270967</td>\n",
              "    </tr>\n",
              "    <tr>\n",
              "      <td>4000</td>\n",
              "      <td>0.087100</td>\n",
              "      <td>0.240173</td>\n",
              "      <td>0.264696</td>\n",
              "    </tr>\n",
              "    <tr>\n",
              "      <td>4500</td>\n",
              "      <td>0.080800</td>\n",
              "      <td>0.262613</td>\n",
              "      <td>0.268348</td>\n",
              "    </tr>\n",
              "    <tr>\n",
              "      <td>5000</td>\n",
              "      <td>0.070700</td>\n",
              "      <td>0.249834</td>\n",
              "      <td>0.262008</td>\n",
              "    </tr>\n",
              "    <tr>\n",
              "      <td>5500</td>\n",
              "      <td>0.060200</td>\n",
              "      <td>0.289149</td>\n",
              "      <td>0.262146</td>\n",
              "    </tr>\n",
              "    <tr>\n",
              "      <td>6000</td>\n",
              "      <td>0.058000</td>\n",
              "      <td>0.269914</td>\n",
              "      <td>0.260837</td>\n",
              "    </tr>\n",
              "    <tr>\n",
              "      <td>6500</td>\n",
              "      <td>0.051000</td>\n",
              "      <td>0.263523</td>\n",
              "      <td>0.250362</td>\n",
              "    </tr>\n",
              "    <tr>\n",
              "      <td>7000</td>\n",
              "      <td>0.049600</td>\n",
              "      <td>0.282290</td>\n",
              "      <td>0.258218</td>\n",
              "    </tr>\n",
              "    <tr>\n",
              "      <td>7500</td>\n",
              "      <td>0.043900</td>\n",
              "      <td>0.288957</td>\n",
              "      <td>0.252291</td>\n",
              "    </tr>\n",
              "    <tr>\n",
              "      <td>8000</td>\n",
              "      <td>0.042300</td>\n",
              "      <td>0.295197</td>\n",
              "      <td>0.249810</td>\n",
              "    </tr>\n",
              "    <tr>\n",
              "      <td>8500</td>\n",
              "      <td>0.036400</td>\n",
              "      <td>0.299577</td>\n",
              "      <td>0.250293</td>\n",
              "    </tr>\n",
              "    <tr>\n",
              "      <td>9000</td>\n",
              "      <td>0.036100</td>\n",
              "      <td>0.293968</td>\n",
              "      <td>0.249604</td>\n",
              "    </tr>\n",
              "    <tr>\n",
              "      <td>9500</td>\n",
              "      <td>0.031700</td>\n",
              "      <td>0.319375</td>\n",
              "      <td>0.250569</td>\n",
              "    </tr>\n",
              "    <tr>\n",
              "      <td>10000</td>\n",
              "      <td>0.028300</td>\n",
              "      <td>0.312755</td>\n",
              "      <td>0.252498</td>\n",
              "    </tr>\n",
              "    <tr>\n",
              "      <td>10500</td>\n",
              "      <td>0.027100</td>\n",
              "      <td>0.322357</td>\n",
              "      <td>0.248501</td>\n",
              "    </tr>\n",
              "    <tr>\n",
              "      <td>11000</td>\n",
              "      <td>0.027800</td>\n",
              "      <td>0.304064</td>\n",
              "      <td>0.250775</td>\n",
              "    </tr>\n",
              "  </tbody>\n",
              "</table><p>"
            ]
          },
          "metadata": {}
        },
        {
          "output_type": "stream",
          "name": "stderr",
          "text": [
            "The following columns in the evaluation set don't have a corresponding argument in `Wav2Vec2ForCTC.forward` and have been ignored: input_length. If input_length are not expected by `Wav2Vec2ForCTC.forward`,  you can safely ignore this message.\n",
            "***** Running Evaluation *****\n",
            "  Num examples = 1680\n",
            "  Batch size = 8\n",
            "Saving model checkpoint to wav2vec2_timit_xlsr/checkpoint-500\n",
            "Configuration saved in wav2vec2_timit_xlsr/checkpoint-500/config.json\n",
            "Model weights saved in wav2vec2_timit_xlsr/checkpoint-500/pytorch_model.bin\n",
            "Feature extractor saved in wav2vec2_timit_xlsr/checkpoint-500/preprocessor_config.json\n",
            "/usr/local/lib/python3.10/dist-packages/transformers/models/wav2vec2/processing_wav2vec2.py:154: UserWarning: `as_target_processor` is deprecated and will be removed in v5 of Transformers. You can process your labels by using the argument `text` of the regular `__call__` method (either in the same call as your audio inputs, or in a separate call.\n",
            "  warnings.warn(\n",
            "The following columns in the evaluation set don't have a corresponding argument in `Wav2Vec2ForCTC.forward` and have been ignored: input_length. If input_length are not expected by `Wav2Vec2ForCTC.forward`,  you can safely ignore this message.\n",
            "***** Running Evaluation *****\n",
            "  Num examples = 1680\n",
            "  Batch size = 8\n",
            "Saving model checkpoint to wav2vec2_timit_xlsr/checkpoint-1000\n",
            "Configuration saved in wav2vec2_timit_xlsr/checkpoint-1000/config.json\n",
            "Model weights saved in wav2vec2_timit_xlsr/checkpoint-1000/pytorch_model.bin\n",
            "Feature extractor saved in wav2vec2_timit_xlsr/checkpoint-1000/preprocessor_config.json\n",
            "/usr/local/lib/python3.10/dist-packages/transformers/models/wav2vec2/processing_wav2vec2.py:154: UserWarning: `as_target_processor` is deprecated and will be removed in v5 of Transformers. You can process your labels by using the argument `text` of the regular `__call__` method (either in the same call as your audio inputs, or in a separate call.\n",
            "  warnings.warn(\n",
            "The following columns in the evaluation set don't have a corresponding argument in `Wav2Vec2ForCTC.forward` and have been ignored: input_length. If input_length are not expected by `Wav2Vec2ForCTC.forward`,  you can safely ignore this message.\n",
            "***** Running Evaluation *****\n",
            "  Num examples = 1680\n",
            "  Batch size = 8\n",
            "Saving model checkpoint to wav2vec2_timit_xlsr/checkpoint-1500\n",
            "Configuration saved in wav2vec2_timit_xlsr/checkpoint-1500/config.json\n",
            "Model weights saved in wav2vec2_timit_xlsr/checkpoint-1500/pytorch_model.bin\n",
            "Feature extractor saved in wav2vec2_timit_xlsr/checkpoint-1500/preprocessor_config.json\n",
            "Deleting older checkpoint [wav2vec2_timit_xlsr/checkpoint-500] due to args.save_total_limit\n",
            "/usr/local/lib/python3.10/dist-packages/transformers/models/wav2vec2/processing_wav2vec2.py:154: UserWarning: `as_target_processor` is deprecated and will be removed in v5 of Transformers. You can process your labels by using the argument `text` of the regular `__call__` method (either in the same call as your audio inputs, or in a separate call.\n",
            "  warnings.warn(\n",
            "The following columns in the evaluation set don't have a corresponding argument in `Wav2Vec2ForCTC.forward` and have been ignored: input_length. If input_length are not expected by `Wav2Vec2ForCTC.forward`,  you can safely ignore this message.\n",
            "***** Running Evaluation *****\n",
            "  Num examples = 1680\n",
            "  Batch size = 8\n",
            "Saving model checkpoint to wav2vec2_timit_xlsr/checkpoint-2000\n",
            "Configuration saved in wav2vec2_timit_xlsr/checkpoint-2000/config.json\n",
            "Model weights saved in wav2vec2_timit_xlsr/checkpoint-2000/pytorch_model.bin\n",
            "Feature extractor saved in wav2vec2_timit_xlsr/checkpoint-2000/preprocessor_config.json\n",
            "Deleting older checkpoint [wav2vec2_timit_xlsr/checkpoint-1000] due to args.save_total_limit\n",
            "/usr/local/lib/python3.10/dist-packages/transformers/models/wav2vec2/processing_wav2vec2.py:154: UserWarning: `as_target_processor` is deprecated and will be removed in v5 of Transformers. You can process your labels by using the argument `text` of the regular `__call__` method (either in the same call as your audio inputs, or in a separate call.\n",
            "  warnings.warn(\n",
            "The following columns in the evaluation set don't have a corresponding argument in `Wav2Vec2ForCTC.forward` and have been ignored: input_length. If input_length are not expected by `Wav2Vec2ForCTC.forward`,  you can safely ignore this message.\n",
            "***** Running Evaluation *****\n",
            "  Num examples = 1680\n",
            "  Batch size = 8\n",
            "Saving model checkpoint to wav2vec2_timit_xlsr/checkpoint-2500\n",
            "Configuration saved in wav2vec2_timit_xlsr/checkpoint-2500/config.json\n",
            "Model weights saved in wav2vec2_timit_xlsr/checkpoint-2500/pytorch_model.bin\n",
            "Feature extractor saved in wav2vec2_timit_xlsr/checkpoint-2500/preprocessor_config.json\n",
            "Deleting older checkpoint [wav2vec2_timit_xlsr/checkpoint-1500] due to args.save_total_limit\n",
            "/usr/local/lib/python3.10/dist-packages/transformers/models/wav2vec2/processing_wav2vec2.py:154: UserWarning: `as_target_processor` is deprecated and will be removed in v5 of Transformers. You can process your labels by using the argument `text` of the regular `__call__` method (either in the same call as your audio inputs, or in a separate call.\n",
            "  warnings.warn(\n",
            "The following columns in the evaluation set don't have a corresponding argument in `Wav2Vec2ForCTC.forward` and have been ignored: input_length. If input_length are not expected by `Wav2Vec2ForCTC.forward`,  you can safely ignore this message.\n",
            "***** Running Evaluation *****\n",
            "  Num examples = 1680\n",
            "  Batch size = 8\n",
            "Saving model checkpoint to wav2vec2_timit_xlsr/checkpoint-3000\n",
            "Configuration saved in wav2vec2_timit_xlsr/checkpoint-3000/config.json\n",
            "Model weights saved in wav2vec2_timit_xlsr/checkpoint-3000/pytorch_model.bin\n",
            "Feature extractor saved in wav2vec2_timit_xlsr/checkpoint-3000/preprocessor_config.json\n",
            "Deleting older checkpoint [wav2vec2_timit_xlsr/checkpoint-2000] due to args.save_total_limit\n",
            "/usr/local/lib/python3.10/dist-packages/transformers/models/wav2vec2/processing_wav2vec2.py:154: UserWarning: `as_target_processor` is deprecated and will be removed in v5 of Transformers. You can process your labels by using the argument `text` of the regular `__call__` method (either in the same call as your audio inputs, or in a separate call.\n",
            "  warnings.warn(\n",
            "The following columns in the evaluation set don't have a corresponding argument in `Wav2Vec2ForCTC.forward` and have been ignored: input_length. If input_length are not expected by `Wav2Vec2ForCTC.forward`,  you can safely ignore this message.\n",
            "***** Running Evaluation *****\n",
            "  Num examples = 1680\n",
            "  Batch size = 8\n",
            "Saving model checkpoint to wav2vec2_timit_xlsr/checkpoint-3500\n",
            "Configuration saved in wav2vec2_timit_xlsr/checkpoint-3500/config.json\n",
            "Model weights saved in wav2vec2_timit_xlsr/checkpoint-3500/pytorch_model.bin\n",
            "Feature extractor saved in wav2vec2_timit_xlsr/checkpoint-3500/preprocessor_config.json\n",
            "Deleting older checkpoint [wav2vec2_timit_xlsr/checkpoint-2500] due to args.save_total_limit\n",
            "/usr/local/lib/python3.10/dist-packages/transformers/models/wav2vec2/processing_wav2vec2.py:154: UserWarning: `as_target_processor` is deprecated and will be removed in v5 of Transformers. You can process your labels by using the argument `text` of the regular `__call__` method (either in the same call as your audio inputs, or in a separate call.\n",
            "  warnings.warn(\n",
            "The following columns in the evaluation set don't have a corresponding argument in `Wav2Vec2ForCTC.forward` and have been ignored: input_length. If input_length are not expected by `Wav2Vec2ForCTC.forward`,  you can safely ignore this message.\n",
            "***** Running Evaluation *****\n",
            "  Num examples = 1680\n",
            "  Batch size = 8\n",
            "Saving model checkpoint to wav2vec2_timit_xlsr/checkpoint-4000\n",
            "Configuration saved in wav2vec2_timit_xlsr/checkpoint-4000/config.json\n",
            "Model weights saved in wav2vec2_timit_xlsr/checkpoint-4000/pytorch_model.bin\n",
            "Feature extractor saved in wav2vec2_timit_xlsr/checkpoint-4000/preprocessor_config.json\n",
            "Deleting older checkpoint [wav2vec2_timit_xlsr/checkpoint-3000] due to args.save_total_limit\n",
            "/usr/local/lib/python3.10/dist-packages/transformers/models/wav2vec2/processing_wav2vec2.py:154: UserWarning: `as_target_processor` is deprecated and will be removed in v5 of Transformers. You can process your labels by using the argument `text` of the regular `__call__` method (either in the same call as your audio inputs, or in a separate call.\n",
            "  warnings.warn(\n",
            "The following columns in the evaluation set don't have a corresponding argument in `Wav2Vec2ForCTC.forward` and have been ignored: input_length. If input_length are not expected by `Wav2Vec2ForCTC.forward`,  you can safely ignore this message.\n",
            "***** Running Evaluation *****\n",
            "  Num examples = 1680\n",
            "  Batch size = 8\n",
            "Saving model checkpoint to wav2vec2_timit_xlsr/checkpoint-4500\n",
            "Configuration saved in wav2vec2_timit_xlsr/checkpoint-4500/config.json\n",
            "Model weights saved in wav2vec2_timit_xlsr/checkpoint-4500/pytorch_model.bin\n",
            "Feature extractor saved in wav2vec2_timit_xlsr/checkpoint-4500/preprocessor_config.json\n",
            "Deleting older checkpoint [wav2vec2_timit_xlsr/checkpoint-3500] due to args.save_total_limit\n",
            "/usr/local/lib/python3.10/dist-packages/transformers/models/wav2vec2/processing_wav2vec2.py:154: UserWarning: `as_target_processor` is deprecated and will be removed in v5 of Transformers. You can process your labels by using the argument `text` of the regular `__call__` method (either in the same call as your audio inputs, or in a separate call.\n",
            "  warnings.warn(\n",
            "The following columns in the evaluation set don't have a corresponding argument in `Wav2Vec2ForCTC.forward` and have been ignored: input_length. If input_length are not expected by `Wav2Vec2ForCTC.forward`,  you can safely ignore this message.\n",
            "***** Running Evaluation *****\n",
            "  Num examples = 1680\n",
            "  Batch size = 8\n",
            "Saving model checkpoint to wav2vec2_timit_xlsr/checkpoint-5000\n",
            "Configuration saved in wav2vec2_timit_xlsr/checkpoint-5000/config.json\n",
            "Model weights saved in wav2vec2_timit_xlsr/checkpoint-5000/pytorch_model.bin\n",
            "Feature extractor saved in wav2vec2_timit_xlsr/checkpoint-5000/preprocessor_config.json\n",
            "Deleting older checkpoint [wav2vec2_timit_xlsr/checkpoint-4000] due to args.save_total_limit\n",
            "/usr/local/lib/python3.10/dist-packages/transformers/models/wav2vec2/processing_wav2vec2.py:154: UserWarning: `as_target_processor` is deprecated and will be removed in v5 of Transformers. You can process your labels by using the argument `text` of the regular `__call__` method (either in the same call as your audio inputs, or in a separate call.\n",
            "  warnings.warn(\n",
            "The following columns in the evaluation set don't have a corresponding argument in `Wav2Vec2ForCTC.forward` and have been ignored: input_length. If input_length are not expected by `Wav2Vec2ForCTC.forward`,  you can safely ignore this message.\n",
            "***** Running Evaluation *****\n",
            "  Num examples = 1680\n",
            "  Batch size = 8\n",
            "Saving model checkpoint to wav2vec2_timit_xlsr/checkpoint-5500\n",
            "Configuration saved in wav2vec2_timit_xlsr/checkpoint-5500/config.json\n",
            "Model weights saved in wav2vec2_timit_xlsr/checkpoint-5500/pytorch_model.bin\n",
            "Feature extractor saved in wav2vec2_timit_xlsr/checkpoint-5500/preprocessor_config.json\n",
            "Deleting older checkpoint [wav2vec2_timit_xlsr/checkpoint-4500] due to args.save_total_limit\n",
            "/usr/local/lib/python3.10/dist-packages/transformers/models/wav2vec2/processing_wav2vec2.py:154: UserWarning: `as_target_processor` is deprecated and will be removed in v5 of Transformers. You can process your labels by using the argument `text` of the regular `__call__` method (either in the same call as your audio inputs, or in a separate call.\n",
            "  warnings.warn(\n",
            "The following columns in the evaluation set don't have a corresponding argument in `Wav2Vec2ForCTC.forward` and have been ignored: input_length. If input_length are not expected by `Wav2Vec2ForCTC.forward`,  you can safely ignore this message.\n",
            "***** Running Evaluation *****\n",
            "  Num examples = 1680\n",
            "  Batch size = 8\n",
            "Saving model checkpoint to wav2vec2_timit_xlsr/checkpoint-6000\n",
            "Configuration saved in wav2vec2_timit_xlsr/checkpoint-6000/config.json\n",
            "Model weights saved in wav2vec2_timit_xlsr/checkpoint-6000/pytorch_model.bin\n",
            "Feature extractor saved in wav2vec2_timit_xlsr/checkpoint-6000/preprocessor_config.json\n",
            "Deleting older checkpoint [wav2vec2_timit_xlsr/checkpoint-5000] due to args.save_total_limit\n",
            "/usr/local/lib/python3.10/dist-packages/transformers/models/wav2vec2/processing_wav2vec2.py:154: UserWarning: `as_target_processor` is deprecated and will be removed in v5 of Transformers. You can process your labels by using the argument `text` of the regular `__call__` method (either in the same call as your audio inputs, or in a separate call.\n",
            "  warnings.warn(\n",
            "The following columns in the evaluation set don't have a corresponding argument in `Wav2Vec2ForCTC.forward` and have been ignored: input_length. If input_length are not expected by `Wav2Vec2ForCTC.forward`,  you can safely ignore this message.\n",
            "***** Running Evaluation *****\n",
            "  Num examples = 1680\n",
            "  Batch size = 8\n",
            "Saving model checkpoint to wav2vec2_timit_xlsr/checkpoint-6500\n",
            "Configuration saved in wav2vec2_timit_xlsr/checkpoint-6500/config.json\n",
            "Model weights saved in wav2vec2_timit_xlsr/checkpoint-6500/pytorch_model.bin\n",
            "Feature extractor saved in wav2vec2_timit_xlsr/checkpoint-6500/preprocessor_config.json\n",
            "Deleting older checkpoint [wav2vec2_timit_xlsr/checkpoint-5500] due to args.save_total_limit\n",
            "/usr/local/lib/python3.10/dist-packages/transformers/models/wav2vec2/processing_wav2vec2.py:154: UserWarning: `as_target_processor` is deprecated and will be removed in v5 of Transformers. You can process your labels by using the argument `text` of the regular `__call__` method (either in the same call as your audio inputs, or in a separate call.\n",
            "  warnings.warn(\n",
            "The following columns in the evaluation set don't have a corresponding argument in `Wav2Vec2ForCTC.forward` and have been ignored: input_length. If input_length are not expected by `Wav2Vec2ForCTC.forward`,  you can safely ignore this message.\n",
            "***** Running Evaluation *****\n",
            "  Num examples = 1680\n",
            "  Batch size = 8\n",
            "Saving model checkpoint to wav2vec2_timit_xlsr/checkpoint-7000\n",
            "Configuration saved in wav2vec2_timit_xlsr/checkpoint-7000/config.json\n",
            "Model weights saved in wav2vec2_timit_xlsr/checkpoint-7000/pytorch_model.bin\n",
            "Feature extractor saved in wav2vec2_timit_xlsr/checkpoint-7000/preprocessor_config.json\n",
            "Deleting older checkpoint [wav2vec2_timit_xlsr/checkpoint-6000] due to args.save_total_limit\n",
            "/usr/local/lib/python3.10/dist-packages/transformers/models/wav2vec2/processing_wav2vec2.py:154: UserWarning: `as_target_processor` is deprecated and will be removed in v5 of Transformers. You can process your labels by using the argument `text` of the regular `__call__` method (either in the same call as your audio inputs, or in a separate call.\n",
            "  warnings.warn(\n",
            "The following columns in the evaluation set don't have a corresponding argument in `Wav2Vec2ForCTC.forward` and have been ignored: input_length. If input_length are not expected by `Wav2Vec2ForCTC.forward`,  you can safely ignore this message.\n",
            "***** Running Evaluation *****\n",
            "  Num examples = 1680\n",
            "  Batch size = 8\n",
            "Saving model checkpoint to wav2vec2_timit_xlsr/checkpoint-7500\n",
            "Configuration saved in wav2vec2_timit_xlsr/checkpoint-7500/config.json\n",
            "Model weights saved in wav2vec2_timit_xlsr/checkpoint-7500/pytorch_model.bin\n",
            "Feature extractor saved in wav2vec2_timit_xlsr/checkpoint-7500/preprocessor_config.json\n",
            "Deleting older checkpoint [wav2vec2_timit_xlsr/checkpoint-6500] due to args.save_total_limit\n",
            "/usr/local/lib/python3.10/dist-packages/transformers/models/wav2vec2/processing_wav2vec2.py:154: UserWarning: `as_target_processor` is deprecated and will be removed in v5 of Transformers. You can process your labels by using the argument `text` of the regular `__call__` method (either in the same call as your audio inputs, or in a separate call.\n",
            "  warnings.warn(\n",
            "The following columns in the evaluation set don't have a corresponding argument in `Wav2Vec2ForCTC.forward` and have been ignored: input_length. If input_length are not expected by `Wav2Vec2ForCTC.forward`,  you can safely ignore this message.\n",
            "***** Running Evaluation *****\n",
            "  Num examples = 1680\n",
            "  Batch size = 8\n",
            "Saving model checkpoint to wav2vec2_timit_xlsr/checkpoint-8000\n",
            "Configuration saved in wav2vec2_timit_xlsr/checkpoint-8000/config.json\n",
            "Model weights saved in wav2vec2_timit_xlsr/checkpoint-8000/pytorch_model.bin\n",
            "Feature extractor saved in wav2vec2_timit_xlsr/checkpoint-8000/preprocessor_config.json\n",
            "Deleting older checkpoint [wav2vec2_timit_xlsr/checkpoint-7000] due to args.save_total_limit\n",
            "/usr/local/lib/python3.10/dist-packages/transformers/models/wav2vec2/processing_wav2vec2.py:154: UserWarning: `as_target_processor` is deprecated and will be removed in v5 of Transformers. You can process your labels by using the argument `text` of the regular `__call__` method (either in the same call as your audio inputs, or in a separate call.\n",
            "  warnings.warn(\n",
            "The following columns in the evaluation set don't have a corresponding argument in `Wav2Vec2ForCTC.forward` and have been ignored: input_length. If input_length are not expected by `Wav2Vec2ForCTC.forward`,  you can safely ignore this message.\n",
            "***** Running Evaluation *****\n",
            "  Num examples = 1680\n",
            "  Batch size = 8\n",
            "Saving model checkpoint to wav2vec2_timit_xlsr/checkpoint-8500\n",
            "Configuration saved in wav2vec2_timit_xlsr/checkpoint-8500/config.json\n",
            "Model weights saved in wav2vec2_timit_xlsr/checkpoint-8500/pytorch_model.bin\n",
            "Feature extractor saved in wav2vec2_timit_xlsr/checkpoint-8500/preprocessor_config.json\n",
            "Deleting older checkpoint [wav2vec2_timit_xlsr/checkpoint-7500] due to args.save_total_limit\n",
            "/usr/local/lib/python3.10/dist-packages/transformers/models/wav2vec2/processing_wav2vec2.py:154: UserWarning: `as_target_processor` is deprecated and will be removed in v5 of Transformers. You can process your labels by using the argument `text` of the regular `__call__` method (either in the same call as your audio inputs, or in a separate call.\n",
            "  warnings.warn(\n",
            "The following columns in the evaluation set don't have a corresponding argument in `Wav2Vec2ForCTC.forward` and have been ignored: input_length. If input_length are not expected by `Wav2Vec2ForCTC.forward`,  you can safely ignore this message.\n",
            "***** Running Evaluation *****\n",
            "  Num examples = 1680\n",
            "  Batch size = 8\n",
            "Saving model checkpoint to wav2vec2_timit_xlsr/checkpoint-9000\n",
            "Configuration saved in wav2vec2_timit_xlsr/checkpoint-9000/config.json\n",
            "Model weights saved in wav2vec2_timit_xlsr/checkpoint-9000/pytorch_model.bin\n",
            "Feature extractor saved in wav2vec2_timit_xlsr/checkpoint-9000/preprocessor_config.json\n",
            "Deleting older checkpoint [wav2vec2_timit_xlsr/checkpoint-8000] due to args.save_total_limit\n",
            "/usr/local/lib/python3.10/dist-packages/transformers/models/wav2vec2/processing_wav2vec2.py:154: UserWarning: `as_target_processor` is deprecated and will be removed in v5 of Transformers. You can process your labels by using the argument `text` of the regular `__call__` method (either in the same call as your audio inputs, or in a separate call.\n",
            "  warnings.warn(\n",
            "The following columns in the evaluation set don't have a corresponding argument in `Wav2Vec2ForCTC.forward` and have been ignored: input_length. If input_length are not expected by `Wav2Vec2ForCTC.forward`,  you can safely ignore this message.\n",
            "***** Running Evaluation *****\n",
            "  Num examples = 1680\n",
            "  Batch size = 8\n",
            "Saving model checkpoint to wav2vec2_timit_xlsr/checkpoint-9500\n",
            "Configuration saved in wav2vec2_timit_xlsr/checkpoint-9500/config.json\n",
            "Model weights saved in wav2vec2_timit_xlsr/checkpoint-9500/pytorch_model.bin\n",
            "Feature extractor saved in wav2vec2_timit_xlsr/checkpoint-9500/preprocessor_config.json\n",
            "Deleting older checkpoint [wav2vec2_timit_xlsr/checkpoint-8500] due to args.save_total_limit\n",
            "/usr/local/lib/python3.10/dist-packages/transformers/models/wav2vec2/processing_wav2vec2.py:154: UserWarning: `as_target_processor` is deprecated and will be removed in v5 of Transformers. You can process your labels by using the argument `text` of the regular `__call__` method (either in the same call as your audio inputs, or in a separate call.\n",
            "  warnings.warn(\n",
            "The following columns in the evaluation set don't have a corresponding argument in `Wav2Vec2ForCTC.forward` and have been ignored: input_length. If input_length are not expected by `Wav2Vec2ForCTC.forward`,  you can safely ignore this message.\n",
            "***** Running Evaluation *****\n",
            "  Num examples = 1680\n",
            "  Batch size = 8\n",
            "Saving model checkpoint to wav2vec2_timit_xlsr/checkpoint-10000\n",
            "Configuration saved in wav2vec2_timit_xlsr/checkpoint-10000/config.json\n",
            "Model weights saved in wav2vec2_timit_xlsr/checkpoint-10000/pytorch_model.bin\n",
            "Feature extractor saved in wav2vec2_timit_xlsr/checkpoint-10000/preprocessor_config.json\n",
            "Deleting older checkpoint [wav2vec2_timit_xlsr/checkpoint-9000] due to args.save_total_limit\n",
            "/usr/local/lib/python3.10/dist-packages/transformers/models/wav2vec2/processing_wav2vec2.py:154: UserWarning: `as_target_processor` is deprecated and will be removed in v5 of Transformers. You can process your labels by using the argument `text` of the regular `__call__` method (either in the same call as your audio inputs, or in a separate call.\n",
            "  warnings.warn(\n",
            "The following columns in the evaluation set don't have a corresponding argument in `Wav2Vec2ForCTC.forward` and have been ignored: input_length. If input_length are not expected by `Wav2Vec2ForCTC.forward`,  you can safely ignore this message.\n",
            "***** Running Evaluation *****\n",
            "  Num examples = 1680\n",
            "  Batch size = 8\n",
            "Saving model checkpoint to wav2vec2_timit_xlsr/checkpoint-10500\n",
            "Configuration saved in wav2vec2_timit_xlsr/checkpoint-10500/config.json\n",
            "Model weights saved in wav2vec2_timit_xlsr/checkpoint-10500/pytorch_model.bin\n",
            "Feature extractor saved in wav2vec2_timit_xlsr/checkpoint-10500/preprocessor_config.json\n",
            "Deleting older checkpoint [wav2vec2_timit_xlsr/checkpoint-9500] due to args.save_total_limit\n",
            "/usr/local/lib/python3.10/dist-packages/transformers/models/wav2vec2/processing_wav2vec2.py:154: UserWarning: `as_target_processor` is deprecated and will be removed in v5 of Transformers. You can process your labels by using the argument `text` of the regular `__call__` method (either in the same call as your audio inputs, or in a separate call.\n",
            "  warnings.warn(\n",
            "The following columns in the evaluation set don't have a corresponding argument in `Wav2Vec2ForCTC.forward` and have been ignored: input_length. If input_length are not expected by `Wav2Vec2ForCTC.forward`,  you can safely ignore this message.\n",
            "***** Running Evaluation *****\n",
            "  Num examples = 1680\n",
            "  Batch size = 8\n",
            "Saving model checkpoint to wav2vec2_timit_xlsr/checkpoint-11000\n",
            "Configuration saved in wav2vec2_timit_xlsr/checkpoint-11000/config.json\n",
            "Model weights saved in wav2vec2_timit_xlsr/checkpoint-11000/pytorch_model.bin\n",
            "Feature extractor saved in wav2vec2_timit_xlsr/checkpoint-11000/preprocessor_config.json\n",
            "Deleting older checkpoint [wav2vec2_timit_xlsr/checkpoint-10000] due to args.save_total_limit\n",
            "/usr/local/lib/python3.10/dist-packages/transformers/models/wav2vec2/processing_wav2vec2.py:154: UserWarning: `as_target_processor` is deprecated and will be removed in v5 of Transformers. You can process your labels by using the argument `text` of the regular `__call__` method (either in the same call as your audio inputs, or in a separate call.\n",
            "  warnings.warn(\n"
          ]
        }
      ]
    },
    {
      "cell_type": "code",
      "metadata": {
        "colab": {
          "base_uri": "https://localhost:8080/",
          "height": 1000
        },
        "id": "_UEjJqGsQw24",
        "outputId": "ef86cb55-632e-44fd-b9b2-6b804e7808df"
      },
      "source": [
        "trainer.train()"
      ],
      "execution_count": null,
      "outputs": [
        {
          "output_type": "stream",
          "name": "stderr",
          "text": [
            "The following columns in the training set  don't have a corresponding argument in `Wav2Vec2ForCTC.forward` and have been ignored: input_length. If input_length are not expected by `Wav2Vec2ForCTC.forward`,  you can safely ignore this message.\n",
            "/usr/local/lib/python3.7/dist-packages/transformers/optimization.py:309: FutureWarning: This implementation of AdamW is deprecated and will be removed in a future version. Use the PyTorch implementation torch.optim.AdamW instead, or set `no_deprecation_warning=True` to disable this warning\n",
            "  FutureWarning,\n",
            "***** Running training *****\n",
            "  Num examples = 3978\n",
            "  Num Epochs = 30\n",
            "  Instantaneous batch size per device = 8\n",
            "  Total train batch size (w. parallel, distributed & accumulation) = 8\n",
            "  Gradient Accumulation steps = 1\n",
            "  Total optimization steps = 14940\n"
          ]
        },
        {
          "output_type": "display_data",
          "data": {
            "text/plain": [
              "<IPython.core.display.HTML object>"
            ],
            "text/html": [
              "\n",
              "    <div>\n",
              "      \n",
              "      <progress value='14940' max='14940' style='width:300px; height:20px; vertical-align: middle;'></progress>\n",
              "      [14940/14940 1:24:12, Epoch 30/30]\n",
              "    </div>\n",
              "    <table border=\"1\" class=\"dataframe\">\n",
              "  <thead>\n",
              " <tr style=\"text-align: left;\">\n",
              "      <th>Step</th>\n",
              "      <th>Training Loss</th>\n",
              "      <th>Validation Loss</th>\n",
              "      <th>Wer</th>\n",
              "    </tr>\n",
              "  </thead>\n",
              "  <tbody>\n",
              "    <tr>\n",
              "      <td>500</td>\n",
              "      <td>3.513700</td>\n",
              "      <td>1.671889</td>\n",
              "      <td>0.958032</td>\n",
              "    </tr>\n",
              "    <tr>\n",
              "      <td>1000</td>\n",
              "      <td>0.832400</td>\n",
              "      <td>0.554610</td>\n",
              "      <td>0.534147</td>\n",
              "    </tr>\n",
              "    <tr>\n",
              "      <td>1500</td>\n",
              "      <td>0.436500</td>\n",
              "      <td>0.456734</td>\n",
              "      <td>0.463510</td>\n",
              "    </tr>\n",
              "    <tr>\n",
              "      <td>2000</td>\n",
              "      <td>0.305800</td>\n",
              "      <td>0.442902</td>\n",
              "      <td>0.445386</td>\n",
              "    </tr>\n",
              "    <tr>\n",
              "      <td>2500</td>\n",
              "      <td>0.228400</td>\n",
              "      <td>0.473383</td>\n",
              "      <td>0.418648</td>\n",
              "    </tr>\n",
              "    <tr>\n",
              "      <td>3000</td>\n",
              "      <td>0.189200</td>\n",
              "      <td>0.419089</td>\n",
              "      <td>0.403005</td>\n",
              "    </tr>\n",
              "    <tr>\n",
              "      <td>3500</td>\n",
              "      <td>0.154200</td>\n",
              "      <td>0.452161</td>\n",
              "      <td>0.398456</td>\n",
              "    </tr>\n",
              "    <tr>\n",
              "      <td>4000</td>\n",
              "      <td>0.136400</td>\n",
              "      <td>0.474920</td>\n",
              "      <td>0.392185</td>\n",
              "    </tr>\n",
              "    <tr>\n",
              "      <td>4500</td>\n",
              "      <td>0.123900</td>\n",
              "      <td>0.495003</td>\n",
              "      <td>0.397698</td>\n",
              "    </tr>\n",
              "    <tr>\n",
              "      <td>5000</td>\n",
              "      <td>0.109200</td>\n",
              "      <td>0.446769</td>\n",
              "      <td>0.377851</td>\n",
              "    </tr>\n",
              "    <tr>\n",
              "      <td>5500</td>\n",
              "      <td>0.095600</td>\n",
              "      <td>0.489680</td>\n",
              "      <td>0.378885</td>\n",
              "    </tr>\n",
              "    <tr>\n",
              "      <td>6000</td>\n",
              "      <td>0.089700</td>\n",
              "      <td>0.492681</td>\n",
              "      <td>0.371787</td>\n",
              "    </tr>\n",
              "    <tr>\n",
              "      <td>6500</td>\n",
              "      <td>0.079200</td>\n",
              "      <td>0.524202</td>\n",
              "      <td>0.369926</td>\n",
              "    </tr>\n",
              "    <tr>\n",
              "      <td>7000</td>\n",
              "      <td>0.073100</td>\n",
              "      <td>0.520223</td>\n",
              "      <td>0.377162</td>\n",
              "    </tr>\n",
              "    <tr>\n",
              "      <td>7500</td>\n",
              "      <td>0.068100</td>\n",
              "      <td>0.504624</td>\n",
              "      <td>0.363724</td>\n",
              "    </tr>\n",
              "    <tr>\n",
              "      <td>8000</td>\n",
              "      <td>0.062000</td>\n",
              "      <td>0.533646</td>\n",
              "      <td>0.366412</td>\n",
              "    </tr>\n",
              "    <tr>\n",
              "      <td>8500</td>\n",
              "      <td>0.055600</td>\n",
              "      <td>0.501713</td>\n",
              "      <td>0.363311</td>\n",
              "    </tr>\n",
              "    <tr>\n",
              "      <td>9000</td>\n",
              "      <td>0.055600</td>\n",
              "      <td>0.546627</td>\n",
              "      <td>0.373648</td>\n",
              "    </tr>\n",
              "    <tr>\n",
              "      <td>9500</td>\n",
              "      <td>0.046100</td>\n",
              "      <td>0.548935</td>\n",
              "      <td>0.356626</td>\n",
              "    </tr>\n",
              "    <tr>\n",
              "      <td>10000</td>\n",
              "      <td>0.043900</td>\n",
              "      <td>0.539872</td>\n",
              "      <td>0.355937</td>\n",
              "    </tr>\n",
              "    <tr>\n",
              "      <td>10500</td>\n",
              "      <td>0.039700</td>\n",
              "      <td>0.515413</td>\n",
              "      <td>0.353938</td>\n",
              "    </tr>\n",
              "    <tr>\n",
              "      <td>11000</td>\n",
              "      <td>0.034600</td>\n",
              "      <td>0.517013</td>\n",
              "      <td>0.351251</td>\n",
              "    </tr>\n",
              "    <tr>\n",
              "      <td>11500</td>\n",
              "      <td>0.033800</td>\n",
              "      <td>0.523557</td>\n",
              "      <td>0.349183</td>\n",
              "    </tr>\n",
              "    <tr>\n",
              "      <td>12000</td>\n",
              "      <td>0.034200</td>\n",
              "      <td>0.528785</td>\n",
              "      <td>0.349252</td>\n",
              "    </tr>\n",
              "    <tr>\n",
              "      <td>12500</td>\n",
              "      <td>0.028200</td>\n",
              "      <td>0.514678</td>\n",
              "      <td>0.344911</td>\n",
              "    </tr>\n",
              "    <tr>\n",
              "      <td>13000</td>\n",
              "      <td>0.025100</td>\n",
              "      <td>0.509152</td>\n",
              "      <td>0.344222</td>\n",
              "    </tr>\n",
              "    <tr>\n",
              "      <td>13500</td>\n",
              "      <td>0.026800</td>\n",
              "      <td>0.509325</td>\n",
              "      <td>0.341327</td>\n",
              "    </tr>\n",
              "    <tr>\n",
              "      <td>14000</td>\n",
              "      <td>0.021000</td>\n",
              "      <td>0.530961</td>\n",
              "      <td>0.339880</td>\n",
              "    </tr>\n",
              "    <tr>\n",
              "      <td>14500</td>\n",
              "      <td>0.022000</td>\n",
              "      <td>0.518533</td>\n",
              "      <td>0.336986</td>\n",
              "    </tr>\n",
              "  </tbody>\n",
              "</table><p>"
            ]
          },
          "metadata": {}
        },
        {
          "output_type": "stream",
          "name": "stderr",
          "text": [
            "The following columns in the evaluation set  don't have a corresponding argument in `Wav2Vec2ForCTC.forward` and have been ignored: input_length. If input_length are not expected by `Wav2Vec2ForCTC.forward`,  you can safely ignore this message.\n",
            "***** Running Evaluation *****\n",
            "  Num examples = 1680\n",
            "  Batch size = 8\n",
            "Saving model checkpoint to wav2vec2-base-timit-demo-google-colab/checkpoint-500\n",
            "Configuration saved in wav2vec2-base-timit-demo-google-colab/checkpoint-500/config.json\n",
            "Model weights saved in wav2vec2-base-timit-demo-google-colab/checkpoint-500/pytorch_model.bin\n",
            "Feature extractor saved in wav2vec2-base-timit-demo-google-colab/checkpoint-500/preprocessor_config.json\n",
            "The following columns in the evaluation set  don't have a corresponding argument in `Wav2Vec2ForCTC.forward` and have been ignored: input_length. If input_length are not expected by `Wav2Vec2ForCTC.forward`,  you can safely ignore this message.\n",
            "***** Running Evaluation *****\n",
            "  Num examples = 1680\n",
            "  Batch size = 8\n",
            "Saving model checkpoint to wav2vec2-base-timit-demo-google-colab/checkpoint-1000\n",
            "Configuration saved in wav2vec2-base-timit-demo-google-colab/checkpoint-1000/config.json\n",
            "Model weights saved in wav2vec2-base-timit-demo-google-colab/checkpoint-1000/pytorch_model.bin\n",
            "Feature extractor saved in wav2vec2-base-timit-demo-google-colab/checkpoint-1000/preprocessor_config.json\n",
            "The following columns in the evaluation set  don't have a corresponding argument in `Wav2Vec2ForCTC.forward` and have been ignored: input_length. If input_length are not expected by `Wav2Vec2ForCTC.forward`,  you can safely ignore this message.\n",
            "***** Running Evaluation *****\n",
            "  Num examples = 1680\n",
            "  Batch size = 8\n",
            "Saving model checkpoint to wav2vec2-base-timit-demo-google-colab/checkpoint-1500\n",
            "Configuration saved in wav2vec2-base-timit-demo-google-colab/checkpoint-1500/config.json\n",
            "Model weights saved in wav2vec2-base-timit-demo-google-colab/checkpoint-1500/pytorch_model.bin\n",
            "Feature extractor saved in wav2vec2-base-timit-demo-google-colab/checkpoint-1500/preprocessor_config.json\n",
            "Deleting older checkpoint [wav2vec2-base-timit-demo-google-colab/checkpoint-500] due to args.save_total_limit\n",
            "The following columns in the evaluation set  don't have a corresponding argument in `Wav2Vec2ForCTC.forward` and have been ignored: input_length. If input_length are not expected by `Wav2Vec2ForCTC.forward`,  you can safely ignore this message.\n",
            "***** Running Evaluation *****\n",
            "  Num examples = 1680\n",
            "  Batch size = 8\n",
            "Saving model checkpoint to wav2vec2-base-timit-demo-google-colab/checkpoint-2000\n",
            "Configuration saved in wav2vec2-base-timit-demo-google-colab/checkpoint-2000/config.json\n",
            "Model weights saved in wav2vec2-base-timit-demo-google-colab/checkpoint-2000/pytorch_model.bin\n",
            "Feature extractor saved in wav2vec2-base-timit-demo-google-colab/checkpoint-2000/preprocessor_config.json\n",
            "Deleting older checkpoint [wav2vec2-base-timit-demo-google-colab/checkpoint-1000] due to args.save_total_limit\n",
            "The following columns in the evaluation set  don't have a corresponding argument in `Wav2Vec2ForCTC.forward` and have been ignored: input_length. If input_length are not expected by `Wav2Vec2ForCTC.forward`,  you can safely ignore this message.\n",
            "***** Running Evaluation *****\n",
            "  Num examples = 1680\n",
            "  Batch size = 8\n",
            "Saving model checkpoint to wav2vec2-base-timit-demo-google-colab/checkpoint-2500\n",
            "Configuration saved in wav2vec2-base-timit-demo-google-colab/checkpoint-2500/config.json\n",
            "Model weights saved in wav2vec2-base-timit-demo-google-colab/checkpoint-2500/pytorch_model.bin\n",
            "Feature extractor saved in wav2vec2-base-timit-demo-google-colab/checkpoint-2500/preprocessor_config.json\n",
            "Deleting older checkpoint [wav2vec2-base-timit-demo-google-colab/checkpoint-1500] due to args.save_total_limit\n",
            "The following columns in the evaluation set  don't have a corresponding argument in `Wav2Vec2ForCTC.forward` and have been ignored: input_length. If input_length are not expected by `Wav2Vec2ForCTC.forward`,  you can safely ignore this message.\n",
            "***** Running Evaluation *****\n",
            "  Num examples = 1680\n",
            "  Batch size = 8\n",
            "Saving model checkpoint to wav2vec2-base-timit-demo-google-colab/checkpoint-3000\n",
            "Configuration saved in wav2vec2-base-timit-demo-google-colab/checkpoint-3000/config.json\n",
            "Model weights saved in wav2vec2-base-timit-demo-google-colab/checkpoint-3000/pytorch_model.bin\n",
            "Feature extractor saved in wav2vec2-base-timit-demo-google-colab/checkpoint-3000/preprocessor_config.json\n",
            "Deleting older checkpoint [wav2vec2-base-timit-demo-google-colab/checkpoint-2000] due to args.save_total_limit\n",
            "The following columns in the evaluation set  don't have a corresponding argument in `Wav2Vec2ForCTC.forward` and have been ignored: input_length. If input_length are not expected by `Wav2Vec2ForCTC.forward`,  you can safely ignore this message.\n",
            "***** Running Evaluation *****\n",
            "  Num examples = 1680\n",
            "  Batch size = 8\n",
            "Saving model checkpoint to wav2vec2-base-timit-demo-google-colab/checkpoint-3500\n",
            "Configuration saved in wav2vec2-base-timit-demo-google-colab/checkpoint-3500/config.json\n",
            "Model weights saved in wav2vec2-base-timit-demo-google-colab/checkpoint-3500/pytorch_model.bin\n",
            "Feature extractor saved in wav2vec2-base-timit-demo-google-colab/checkpoint-3500/preprocessor_config.json\n",
            "Deleting older checkpoint [wav2vec2-base-timit-demo-google-colab/checkpoint-2500] due to args.save_total_limit\n",
            "The following columns in the evaluation set  don't have a corresponding argument in `Wav2Vec2ForCTC.forward` and have been ignored: input_length. If input_length are not expected by `Wav2Vec2ForCTC.forward`,  you can safely ignore this message.\n",
            "***** Running Evaluation *****\n",
            "  Num examples = 1680\n",
            "  Batch size = 8\n",
            "Saving model checkpoint to wav2vec2-base-timit-demo-google-colab/checkpoint-4000\n",
            "Configuration saved in wav2vec2-base-timit-demo-google-colab/checkpoint-4000/config.json\n",
            "Model weights saved in wav2vec2-base-timit-demo-google-colab/checkpoint-4000/pytorch_model.bin\n",
            "Feature extractor saved in wav2vec2-base-timit-demo-google-colab/checkpoint-4000/preprocessor_config.json\n",
            "Deleting older checkpoint [wav2vec2-base-timit-demo-google-colab/checkpoint-3000] due to args.save_total_limit\n",
            "The following columns in the evaluation set  don't have a corresponding argument in `Wav2Vec2ForCTC.forward` and have been ignored: input_length. If input_length are not expected by `Wav2Vec2ForCTC.forward`,  you can safely ignore this message.\n",
            "***** Running Evaluation *****\n",
            "  Num examples = 1680\n",
            "  Batch size = 8\n",
            "Saving model checkpoint to wav2vec2-base-timit-demo-google-colab/checkpoint-4500\n",
            "Configuration saved in wav2vec2-base-timit-demo-google-colab/checkpoint-4500/config.json\n",
            "Model weights saved in wav2vec2-base-timit-demo-google-colab/checkpoint-4500/pytorch_model.bin\n",
            "Feature extractor saved in wav2vec2-base-timit-demo-google-colab/checkpoint-4500/preprocessor_config.json\n",
            "Deleting older checkpoint [wav2vec2-base-timit-demo-google-colab/checkpoint-3500] due to args.save_total_limit\n",
            "The following columns in the evaluation set  don't have a corresponding argument in `Wav2Vec2ForCTC.forward` and have been ignored: input_length. If input_length are not expected by `Wav2Vec2ForCTC.forward`,  you can safely ignore this message.\n",
            "***** Running Evaluation *****\n",
            "  Num examples = 1680\n",
            "  Batch size = 8\n",
            "Saving model checkpoint to wav2vec2-base-timit-demo-google-colab/checkpoint-5000\n",
            "Configuration saved in wav2vec2-base-timit-demo-google-colab/checkpoint-5000/config.json\n",
            "Model weights saved in wav2vec2-base-timit-demo-google-colab/checkpoint-5000/pytorch_model.bin\n",
            "Feature extractor saved in wav2vec2-base-timit-demo-google-colab/checkpoint-5000/preprocessor_config.json\n",
            "Deleting older checkpoint [wav2vec2-base-timit-demo-google-colab/checkpoint-4000] due to args.save_total_limit\n",
            "The following columns in the evaluation set  don't have a corresponding argument in `Wav2Vec2ForCTC.forward` and have been ignored: input_length. If input_length are not expected by `Wav2Vec2ForCTC.forward`,  you can safely ignore this message.\n",
            "***** Running Evaluation *****\n",
            "  Num examples = 1680\n",
            "  Batch size = 8\n",
            "Saving model checkpoint to wav2vec2-base-timit-demo-google-colab/checkpoint-5500\n",
            "Configuration saved in wav2vec2-base-timit-demo-google-colab/checkpoint-5500/config.json\n",
            "Model weights saved in wav2vec2-base-timit-demo-google-colab/checkpoint-5500/pytorch_model.bin\n",
            "Feature extractor saved in wav2vec2-base-timit-demo-google-colab/checkpoint-5500/preprocessor_config.json\n",
            "Deleting older checkpoint [wav2vec2-base-timit-demo-google-colab/checkpoint-4500] due to args.save_total_limit\n",
            "The following columns in the evaluation set  don't have a corresponding argument in `Wav2Vec2ForCTC.forward` and have been ignored: input_length. If input_length are not expected by `Wav2Vec2ForCTC.forward`,  you can safely ignore this message.\n",
            "***** Running Evaluation *****\n",
            "  Num examples = 1680\n",
            "  Batch size = 8\n",
            "Saving model checkpoint to wav2vec2-base-timit-demo-google-colab/checkpoint-6000\n",
            "Configuration saved in wav2vec2-base-timit-demo-google-colab/checkpoint-6000/config.json\n",
            "Model weights saved in wav2vec2-base-timit-demo-google-colab/checkpoint-6000/pytorch_model.bin\n",
            "Feature extractor saved in wav2vec2-base-timit-demo-google-colab/checkpoint-6000/preprocessor_config.json\n",
            "Deleting older checkpoint [wav2vec2-base-timit-demo-google-colab/checkpoint-5000] due to args.save_total_limit\n",
            "The following columns in the evaluation set  don't have a corresponding argument in `Wav2Vec2ForCTC.forward` and have been ignored: input_length. If input_length are not expected by `Wav2Vec2ForCTC.forward`,  you can safely ignore this message.\n",
            "***** Running Evaluation *****\n",
            "  Num examples = 1680\n",
            "  Batch size = 8\n",
            "Saving model checkpoint to wav2vec2-base-timit-demo-google-colab/checkpoint-6500\n",
            "Configuration saved in wav2vec2-base-timit-demo-google-colab/checkpoint-6500/config.json\n",
            "Model weights saved in wav2vec2-base-timit-demo-google-colab/checkpoint-6500/pytorch_model.bin\n",
            "Feature extractor saved in wav2vec2-base-timit-demo-google-colab/checkpoint-6500/preprocessor_config.json\n",
            "Deleting older checkpoint [wav2vec2-base-timit-demo-google-colab/checkpoint-5500] due to args.save_total_limit\n",
            "The following columns in the evaluation set  don't have a corresponding argument in `Wav2Vec2ForCTC.forward` and have been ignored: input_length. If input_length are not expected by `Wav2Vec2ForCTC.forward`,  you can safely ignore this message.\n",
            "***** Running Evaluation *****\n",
            "  Num examples = 1680\n",
            "  Batch size = 8\n",
            "Saving model checkpoint to wav2vec2-base-timit-demo-google-colab/checkpoint-7000\n",
            "Configuration saved in wav2vec2-base-timit-demo-google-colab/checkpoint-7000/config.json\n",
            "Model weights saved in wav2vec2-base-timit-demo-google-colab/checkpoint-7000/pytorch_model.bin\n",
            "Feature extractor saved in wav2vec2-base-timit-demo-google-colab/checkpoint-7000/preprocessor_config.json\n",
            "Deleting older checkpoint [wav2vec2-base-timit-demo-google-colab/checkpoint-6000] due to args.save_total_limit\n",
            "The following columns in the evaluation set  don't have a corresponding argument in `Wav2Vec2ForCTC.forward` and have been ignored: input_length. If input_length are not expected by `Wav2Vec2ForCTC.forward`,  you can safely ignore this message.\n",
            "***** Running Evaluation *****\n",
            "  Num examples = 1680\n",
            "  Batch size = 8\n",
            "Saving model checkpoint to wav2vec2-base-timit-demo-google-colab/checkpoint-7500\n",
            "Configuration saved in wav2vec2-base-timit-demo-google-colab/checkpoint-7500/config.json\n",
            "Model weights saved in wav2vec2-base-timit-demo-google-colab/checkpoint-7500/pytorch_model.bin\n",
            "Feature extractor saved in wav2vec2-base-timit-demo-google-colab/checkpoint-7500/preprocessor_config.json\n",
            "Deleting older checkpoint [wav2vec2-base-timit-demo-google-colab/checkpoint-6500] due to args.save_total_limit\n",
            "The following columns in the evaluation set  don't have a corresponding argument in `Wav2Vec2ForCTC.forward` and have been ignored: input_length. If input_length are not expected by `Wav2Vec2ForCTC.forward`,  you can safely ignore this message.\n",
            "***** Running Evaluation *****\n",
            "  Num examples = 1680\n",
            "  Batch size = 8\n",
            "Saving model checkpoint to wav2vec2-base-timit-demo-google-colab/checkpoint-8000\n",
            "Configuration saved in wav2vec2-base-timit-demo-google-colab/checkpoint-8000/config.json\n",
            "Model weights saved in wav2vec2-base-timit-demo-google-colab/checkpoint-8000/pytorch_model.bin\n",
            "Feature extractor saved in wav2vec2-base-timit-demo-google-colab/checkpoint-8000/preprocessor_config.json\n",
            "Deleting older checkpoint [wav2vec2-base-timit-demo-google-colab/checkpoint-7000] due to args.save_total_limit\n",
            "The following columns in the evaluation set  don't have a corresponding argument in `Wav2Vec2ForCTC.forward` and have been ignored: input_length. If input_length are not expected by `Wav2Vec2ForCTC.forward`,  you can safely ignore this message.\n",
            "***** Running Evaluation *****\n",
            "  Num examples = 1680\n",
            "  Batch size = 8\n",
            "Saving model checkpoint to wav2vec2-base-timit-demo-google-colab/checkpoint-8500\n",
            "Configuration saved in wav2vec2-base-timit-demo-google-colab/checkpoint-8500/config.json\n",
            "Model weights saved in wav2vec2-base-timit-demo-google-colab/checkpoint-8500/pytorch_model.bin\n",
            "Feature extractor saved in wav2vec2-base-timit-demo-google-colab/checkpoint-8500/preprocessor_config.json\n",
            "Deleting older checkpoint [wav2vec2-base-timit-demo-google-colab/checkpoint-7500] due to args.save_total_limit\n",
            "The following columns in the evaluation set  don't have a corresponding argument in `Wav2Vec2ForCTC.forward` and have been ignored: input_length. If input_length are not expected by `Wav2Vec2ForCTC.forward`,  you can safely ignore this message.\n",
            "***** Running Evaluation *****\n",
            "  Num examples = 1680\n",
            "  Batch size = 8\n",
            "Saving model checkpoint to wav2vec2-base-timit-demo-google-colab/checkpoint-9000\n",
            "Configuration saved in wav2vec2-base-timit-demo-google-colab/checkpoint-9000/config.json\n",
            "Model weights saved in wav2vec2-base-timit-demo-google-colab/checkpoint-9000/pytorch_model.bin\n",
            "Feature extractor saved in wav2vec2-base-timit-demo-google-colab/checkpoint-9000/preprocessor_config.json\n",
            "Deleting older checkpoint [wav2vec2-base-timit-demo-google-colab/checkpoint-8000] due to args.save_total_limit\n",
            "The following columns in the evaluation set  don't have a corresponding argument in `Wav2Vec2ForCTC.forward` and have been ignored: input_length. If input_length are not expected by `Wav2Vec2ForCTC.forward`,  you can safely ignore this message.\n",
            "***** Running Evaluation *****\n",
            "  Num examples = 1680\n",
            "  Batch size = 8\n",
            "Saving model checkpoint to wav2vec2-base-timit-demo-google-colab/checkpoint-9500\n",
            "Configuration saved in wav2vec2-base-timit-demo-google-colab/checkpoint-9500/config.json\n",
            "Model weights saved in wav2vec2-base-timit-demo-google-colab/checkpoint-9500/pytorch_model.bin\n",
            "Feature extractor saved in wav2vec2-base-timit-demo-google-colab/checkpoint-9500/preprocessor_config.json\n",
            "Deleting older checkpoint [wav2vec2-base-timit-demo-google-colab/checkpoint-8500] due to args.save_total_limit\n",
            "The following columns in the evaluation set  don't have a corresponding argument in `Wav2Vec2ForCTC.forward` and have been ignored: input_length. If input_length are not expected by `Wav2Vec2ForCTC.forward`,  you can safely ignore this message.\n",
            "***** Running Evaluation *****\n",
            "  Num examples = 1680\n",
            "  Batch size = 8\n",
            "Saving model checkpoint to wav2vec2-base-timit-demo-google-colab/checkpoint-10000\n",
            "Configuration saved in wav2vec2-base-timit-demo-google-colab/checkpoint-10000/config.json\n",
            "Model weights saved in wav2vec2-base-timit-demo-google-colab/checkpoint-10000/pytorch_model.bin\n",
            "Feature extractor saved in wav2vec2-base-timit-demo-google-colab/checkpoint-10000/preprocessor_config.json\n",
            "Deleting older checkpoint [wav2vec2-base-timit-demo-google-colab/checkpoint-9000] due to args.save_total_limit\n",
            "The following columns in the evaluation set  don't have a corresponding argument in `Wav2Vec2ForCTC.forward` and have been ignored: input_length. If input_length are not expected by `Wav2Vec2ForCTC.forward`,  you can safely ignore this message.\n",
            "***** Running Evaluation *****\n",
            "  Num examples = 1680\n",
            "  Batch size = 8\n",
            "Saving model checkpoint to wav2vec2-base-timit-demo-google-colab/checkpoint-10500\n",
            "Configuration saved in wav2vec2-base-timit-demo-google-colab/checkpoint-10500/config.json\n",
            "Model weights saved in wav2vec2-base-timit-demo-google-colab/checkpoint-10500/pytorch_model.bin\n",
            "Feature extractor saved in wav2vec2-base-timit-demo-google-colab/checkpoint-10500/preprocessor_config.json\n",
            "Deleting older checkpoint [wav2vec2-base-timit-demo-google-colab/checkpoint-9500] due to args.save_total_limit\n",
            "The following columns in the evaluation set  don't have a corresponding argument in `Wav2Vec2ForCTC.forward` and have been ignored: input_length. If input_length are not expected by `Wav2Vec2ForCTC.forward`,  you can safely ignore this message.\n",
            "***** Running Evaluation *****\n",
            "  Num examples = 1680\n",
            "  Batch size = 8\n",
            "Saving model checkpoint to wav2vec2-base-timit-demo-google-colab/checkpoint-11000\n",
            "Configuration saved in wav2vec2-base-timit-demo-google-colab/checkpoint-11000/config.json\n",
            "Model weights saved in wav2vec2-base-timit-demo-google-colab/checkpoint-11000/pytorch_model.bin\n",
            "Feature extractor saved in wav2vec2-base-timit-demo-google-colab/checkpoint-11000/preprocessor_config.json\n",
            "Deleting older checkpoint [wav2vec2-base-timit-demo-google-colab/checkpoint-10000] due to args.save_total_limit\n",
            "The following columns in the evaluation set  don't have a corresponding argument in `Wav2Vec2ForCTC.forward` and have been ignored: input_length. If input_length are not expected by `Wav2Vec2ForCTC.forward`,  you can safely ignore this message.\n",
            "***** Running Evaluation *****\n",
            "  Num examples = 1680\n",
            "  Batch size = 8\n",
            "Saving model checkpoint to wav2vec2-base-timit-demo-google-colab/checkpoint-11500\n",
            "Configuration saved in wav2vec2-base-timit-demo-google-colab/checkpoint-11500/config.json\n",
            "Model weights saved in wav2vec2-base-timit-demo-google-colab/checkpoint-11500/pytorch_model.bin\n",
            "Feature extractor saved in wav2vec2-base-timit-demo-google-colab/checkpoint-11500/preprocessor_config.json\n",
            "Deleting older checkpoint [wav2vec2-base-timit-demo-google-colab/checkpoint-10500] due to args.save_total_limit\n",
            "The following columns in the evaluation set  don't have a corresponding argument in `Wav2Vec2ForCTC.forward` and have been ignored: input_length. If input_length are not expected by `Wav2Vec2ForCTC.forward`,  you can safely ignore this message.\n",
            "***** Running Evaluation *****\n",
            "  Num examples = 1680\n",
            "  Batch size = 8\n",
            "Saving model checkpoint to wav2vec2-base-timit-demo-google-colab/checkpoint-12000\n",
            "Configuration saved in wav2vec2-base-timit-demo-google-colab/checkpoint-12000/config.json\n",
            "Model weights saved in wav2vec2-base-timit-demo-google-colab/checkpoint-12000/pytorch_model.bin\n",
            "Feature extractor saved in wav2vec2-base-timit-demo-google-colab/checkpoint-12000/preprocessor_config.json\n",
            "Deleting older checkpoint [wav2vec2-base-timit-demo-google-colab/checkpoint-11000] due to args.save_total_limit\n",
            "The following columns in the evaluation set  don't have a corresponding argument in `Wav2Vec2ForCTC.forward` and have been ignored: input_length. If input_length are not expected by `Wav2Vec2ForCTC.forward`,  you can safely ignore this message.\n",
            "***** Running Evaluation *****\n",
            "  Num examples = 1680\n",
            "  Batch size = 8\n",
            "Saving model checkpoint to wav2vec2-base-timit-demo-google-colab/checkpoint-12500\n",
            "Configuration saved in wav2vec2-base-timit-demo-google-colab/checkpoint-12500/config.json\n",
            "Model weights saved in wav2vec2-base-timit-demo-google-colab/checkpoint-12500/pytorch_model.bin\n",
            "Feature extractor saved in wav2vec2-base-timit-demo-google-colab/checkpoint-12500/preprocessor_config.json\n",
            "Deleting older checkpoint [wav2vec2-base-timit-demo-google-colab/checkpoint-11500] due to args.save_total_limit\n",
            "The following columns in the evaluation set  don't have a corresponding argument in `Wav2Vec2ForCTC.forward` and have been ignored: input_length. If input_length are not expected by `Wav2Vec2ForCTC.forward`,  you can safely ignore this message.\n",
            "***** Running Evaluation *****\n",
            "  Num examples = 1680\n",
            "  Batch size = 8\n",
            "Saving model checkpoint to wav2vec2-base-timit-demo-google-colab/checkpoint-13000\n",
            "Configuration saved in wav2vec2-base-timit-demo-google-colab/checkpoint-13000/config.json\n",
            "Model weights saved in wav2vec2-base-timit-demo-google-colab/checkpoint-13000/pytorch_model.bin\n",
            "Feature extractor saved in wav2vec2-base-timit-demo-google-colab/checkpoint-13000/preprocessor_config.json\n",
            "Deleting older checkpoint [wav2vec2-base-timit-demo-google-colab/checkpoint-12000] due to args.save_total_limit\n",
            "The following columns in the evaluation set  don't have a corresponding argument in `Wav2Vec2ForCTC.forward` and have been ignored: input_length. If input_length are not expected by `Wav2Vec2ForCTC.forward`,  you can safely ignore this message.\n",
            "***** Running Evaluation *****\n",
            "  Num examples = 1680\n",
            "  Batch size = 8\n",
            "Saving model checkpoint to wav2vec2-base-timit-demo-google-colab/checkpoint-13500\n",
            "Configuration saved in wav2vec2-base-timit-demo-google-colab/checkpoint-13500/config.json\n",
            "Model weights saved in wav2vec2-base-timit-demo-google-colab/checkpoint-13500/pytorch_model.bin\n",
            "Feature extractor saved in wav2vec2-base-timit-demo-google-colab/checkpoint-13500/preprocessor_config.json\n",
            "Deleting older checkpoint [wav2vec2-base-timit-demo-google-colab/checkpoint-12500] due to args.save_total_limit\n",
            "The following columns in the evaluation set  don't have a corresponding argument in `Wav2Vec2ForCTC.forward` and have been ignored: input_length. If input_length are not expected by `Wav2Vec2ForCTC.forward`,  you can safely ignore this message.\n",
            "***** Running Evaluation *****\n",
            "  Num examples = 1680\n",
            "  Batch size = 8\n",
            "Saving model checkpoint to wav2vec2-base-timit-demo-google-colab/checkpoint-14000\n",
            "Configuration saved in wav2vec2-base-timit-demo-google-colab/checkpoint-14000/config.json\n",
            "Model weights saved in wav2vec2-base-timit-demo-google-colab/checkpoint-14000/pytorch_model.bin\n",
            "Feature extractor saved in wav2vec2-base-timit-demo-google-colab/checkpoint-14000/preprocessor_config.json\n",
            "Deleting older checkpoint [wav2vec2-base-timit-demo-google-colab/checkpoint-13000] due to args.save_total_limit\n",
            "The following columns in the evaluation set  don't have a corresponding argument in `Wav2Vec2ForCTC.forward` and have been ignored: input_length. If input_length are not expected by `Wav2Vec2ForCTC.forward`,  you can safely ignore this message.\n",
            "***** Running Evaluation *****\n",
            "  Num examples = 1680\n",
            "  Batch size = 8\n",
            "Saving model checkpoint to wav2vec2-base-timit-demo-google-colab/checkpoint-14500\n",
            "Configuration saved in wav2vec2-base-timit-demo-google-colab/checkpoint-14500/config.json\n",
            "Model weights saved in wav2vec2-base-timit-demo-google-colab/checkpoint-14500/pytorch_model.bin\n",
            "Feature extractor saved in wav2vec2-base-timit-demo-google-colab/checkpoint-14500/preprocessor_config.json\n",
            "Deleting older checkpoint [wav2vec2-base-timit-demo-google-colab/checkpoint-13500] due to args.save_total_limit\n",
            "\n",
            "\n",
            "Training completed. Do not forget to share your model on huggingface.co/models =)\n",
            "\n",
            "\n"
          ]
        },
        {
          "output_type": "execute_result",
          "data": {
            "text/plain": [
              "TrainOutput(global_step=14940, training_loss=0.23359869193520091, metrics={'train_runtime': 5052.3634, 'train_samples_per_second': 23.621, 'train_steps_per_second': 2.957, 'total_flos': 3.0766610595969556e+18, 'train_loss': 0.23359869193520091, 'epoch': 30.0})"
            ]
          },
          "metadata": {},
          "execution_count": 85
        }
      ]
    },
    {
      "cell_type": "markdown",
      "metadata": {
        "id": "UCyp-v3n4Zlt"
      },
      "source": [
        "The final WER should be around 0.3 which is reasonable given that state-of-the-art phoneme error rates (PER) are just below 0.1 (see [leaderboard](https://paperswithcode.com/sota/speech-recognition-on-timit)) and that WER is usually worse than PER.\n",
        "\n",
        "You can now upload the result of the training to the Hub, just execute this instruction:"
      ]
    },
    {
      "cell_type": "code",
      "metadata": {
        "colab": {
          "base_uri": "https://localhost:8080/",
          "height": 497,
          "referenced_widgets": [
            "a7725ad7a1774178bba1b39b48bee36b",
            "acc6c975316f4fc9af3f449ccaf71646",
            "2b48e3c58b284b32ae51a3c3afb13d85",
            "7748d6bd4e224b3f836a06b321e72de0",
            "b29aab47d701449181b8d8c715b09657",
            "5cb2c62e3d6f426f8c17eec2fe6e23ae",
            "f44a8453ba314ddbb153e1278eb59eec",
            "6ba56300bd3240629256a72060f36fde",
            "d8f4c2ce266a4a9284572af28ad9ad1c",
            "4cdbe067372b4c32bc782f966aea7f42",
            "afe17562ac7948edab0233eb3804d9cb",
            "00a02ff8b284413f853da9d7c41afedd",
            "73b586087e9447e688c97318bf6eba11",
            "6ba8f8fde3fc4050a304df11cc1d2c7c",
            "0ceb294ca03a4bf2ae5586ffbbb6f0fc",
            "ffa2bd3495f54f1c81f15ebf50fd4fee",
            "e53ec4e8ee3d44bb8b3bdcf323335c8a",
            "ceef78fab0024c578976ad6c589c0d7f",
            "35a9027e670146f3a25db0d06035fd1b",
            "0cd65792216b4decaf24961bb33802d0",
            "968f456d45ab4f25aeaf57b0c0ddc190",
            "92ae2ab85efc40fa89da650ccbe85e21",
            "e1a34af59be04546808279b6e673c498",
            "91a9bd637428473192d5ec47ba137268",
            "f11e33bc060746758ad638204b71955c",
            "ef69985b8f7c4662912a11a377e99b59",
            "9721f00cdfc942e8ab8a4faf8080ef2d",
            "196c66080f944a61a537a0ddd9905248",
            "e7d54319900548208c3852623ebc3dcf",
            "adbd04cd03624b66a8c725f9a89647b6",
            "200b5fada23d45ff947953003d052605",
            "8c89f99cd7b9408eafbfbf8e0c56d39c",
            "a40561b6f013481ba77fa137ab43b1c2",
            "63ee5e2413434249bd47a8d662ec0da6",
            "d10215d60b9f471ab681a948ad143159",
            "bcb33e49c5ab412eb5b8cd823cf06706",
            "f23b78d30ff040f481b5584a83083b39",
            "fe39df4b5e9d41f6a0233bafb4522dd4",
            "6cac8e9fcefd4353a76244f89ff459e1",
            "4f70c2c356074adf9aa7c1fb6b20f8e3",
            "4cc884973b734098a135619736b5f599",
            "fd72ea27c82843ceb5fdb74886fc5b44",
            "28b1ff0d507e40fb84e4083537207de4",
            "bf2896c4b25147f0a303c748fa2b0cd9"
          ]
        },
        "id": "JYGQYBhHNsvj",
        "outputId": "c60381d7-a4ec-4cfe-ec0b-0b16af963c3d"
      },
      "source": [
        "trainer.push_to_hub()"
      ],
      "execution_count": null,
      "outputs": [
        {
          "output_type": "stream",
          "name": "stderr",
          "text": [
            "/content/wav2vec2-base-timit-demo-google-colab is already a clone of https://huggingface.co/patrickvonplaten/wav2vec2-base-timit-demo-google-colab. Make sure you pull the latest changes with `repo.git_pull()`.\n",
            "Saving model checkpoint to wav2vec2-base-timit-demo-google-colab\n",
            "Configuration saved in wav2vec2-base-timit-demo-google-colab/config.json\n",
            "Model weights saved in wav2vec2-base-timit-demo-google-colab/pytorch_model.bin\n",
            "Feature extractor saved in wav2vec2-base-timit-demo-google-colab/preprocessor_config.json\n"
          ]
        },
        {
          "output_type": "display_data",
          "data": {
            "text/plain": [
              "Upload file pytorch_model.bin:   0%|          | 3.34k/360M [00:00<?, ?B/s]"
            ],
            "application/vnd.jupyter.widget-view+json": {
              "version_major": 2,
              "version_minor": 0,
              "model_id": "a7725ad7a1774178bba1b39b48bee36b"
            }
          },
          "metadata": {}
        },
        {
          "output_type": "display_data",
          "data": {
            "text/plain": [
              "Upload file runs/May10_11-02-51_d58de38fbf77/1652180636.6085317/events.out.tfevents.1652180636.d58de38fbf77.96…"
            ],
            "application/vnd.jupyter.widget-view+json": {
              "version_major": 2,
              "version_minor": 0,
              "model_id": "00a02ff8b284413f853da9d7c41afedd"
            }
          },
          "metadata": {}
        },
        {
          "output_type": "display_data",
          "data": {
            "text/plain": [
              "Upload file training_args.bin: 100%|##########| 2.98k/2.98k [00:00<?, ?B/s]"
            ],
            "application/vnd.jupyter.widget-view+json": {
              "version_major": 2,
              "version_minor": 0,
              "model_id": "e1a34af59be04546808279b6e673c498"
            }
          },
          "metadata": {}
        },
        {
          "output_type": "display_data",
          "data": {
            "text/plain": [
              "Upload file runs/May10_11-02-51_d58de38fbf77/events.out.tfevents.1652180636.d58de38fbf77.96.2:  18%|#7        …"
            ],
            "application/vnd.jupyter.widget-view+json": {
              "version_major": 2,
              "version_minor": 0,
              "model_id": "63ee5e2413434249bd47a8d662ec0da6"
            }
          },
          "metadata": {}
        },
        {
          "output_type": "stream",
          "name": "stderr",
          "text": [
            "remote: Enforcing permissions...        \n",
            "remote: Allowed refs: all        \n",
            "To https://huggingface.co/patrickvonplaten/wav2vec2-base-timit-demo-google-colab\n",
            "   293755a..629f0ba  main -> main\n",
            "\n",
            "Dropping the following result as it does not have all the necessary fields:\n",
            "{}\n",
            "remote: Enforcing permissions...        \n",
            "remote: Allowed refs: all        \n",
            "To https://huggingface.co/patrickvonplaten/wav2vec2-base-timit-demo-google-colab\n",
            "   629f0ba..38b281e  main -> main\n",
            "\n"
          ]
        },
        {
          "output_type": "execute_result",
          "data": {
            "text/plain": [
              "'https://huggingface.co/patrickvonplaten/wav2vec2-base-timit-demo-google-colab/commit/629f0ba808bdecd2134e2d91110e86e4d7d7647c'"
            ],
            "application/vnd.google.colaboratory.intrinsic+json": {
              "type": "string"
            }
          },
          "metadata": {},
          "execution_count": 86
        }
      ]
    },
    {
      "cell_type": "markdown",
      "metadata": {
        "id": "djzwS5WeNu16"
      },
      "source": [
        "You can now share this model with all your friends, family, favorite pets: they can all load it with the identifier \"your-username/the-name-you-picked\" so for instance:"
      ]
    },
    {
      "cell_type": "markdown",
      "metadata": {
        "id": "Adm0LngNNxq7"
      },
      "source": [
        "```python\n",
        "from transformers import AutoModelForCTC, Wav2Vec2Processor\n",
        "\n",
        "model = AutoModelForCTC.from_pretrained(\"patrickvonplaten/wav2vec2-base-timit-demo-google-colab\")\n",
        "processor = Wav2Vec2Processor.from_pretrained(\"patrickvonplaten/wav2vec2-base-timit-demo-google-colab\")\n",
        "```"
      ]
    },
    {
      "cell_type": "markdown",
      "metadata": {
        "id": "nD4XP5IHncsY"
      },
      "source": [
        "### Evaluate\n",
        "\n",
        "In the final part, we run our model on some of the validation data to get a feeling for how well it works.\n",
        "\n",
        "Let's load the `processor` and `model`."
      ]
    },
    {
      "cell_type": "code",
      "metadata": {
        "id": "-rg0USDCnbo6",
        "colab": {
          "base_uri": "https://localhost:8080/",
          "height": 186
        },
        "outputId": "0b368774-c5ad-45fb-ee44-9fb4d373bf35"
      },
      "source": [
        "processor = Wav2Vec2Processor.from_pretrained(\"diallomama/diallomama/wav2vec2-common_voice-fr-training\")"
      ],
      "execution_count": 1,
      "outputs": [
        {
          "output_type": "error",
          "ename": "NameError",
          "evalue": "ignored",
          "traceback": [
            "\u001b[0;31m---------------------------------------------------------------------------\u001b[0m",
            "\u001b[0;31mNameError\u001b[0m                                 Traceback (most recent call last)",
            "\u001b[0;32m<ipython-input-1-997ee49ae4df>\u001b[0m in \u001b[0;36m<cell line: 1>\u001b[0;34m()\u001b[0m\n\u001b[0;32m----> 1\u001b[0;31m \u001b[0mprocessor\u001b[0m \u001b[0;34m=\u001b[0m \u001b[0mWav2Vec2Processor\u001b[0m\u001b[0;34m.\u001b[0m\u001b[0mfrom_pretrained\u001b[0m\u001b[0;34m(\u001b[0m\u001b[0;34m\"diallomama/diallomama/wav2vec2-common_voice-fr-training\"\u001b[0m\u001b[0;34m)\u001b[0m\u001b[0;34m\u001b[0m\u001b[0;34m\u001b[0m\u001b[0m\n\u001b[0m",
            "\u001b[0;31mNameError\u001b[0m: name 'Wav2Vec2Processor' is not defined"
          ]
        }
      ]
    },
    {
      "cell_type": "code",
      "metadata": {
        "id": "sSpFW3pDn23P",
        "colab": {
          "base_uri": "https://localhost:8080/"
        },
        "outputId": "dd9ac831-3620-4b87-98b6-c85a57150a15"
      },
      "source": [
        "model = Wav2Vec2ForCTC.from_pretrained(\"patrickvonplaten/wav2vec2-base-timit-demo-google-colab\").cuda()"
      ],
      "execution_count": null,
      "outputs": [
        {
          "output_type": "stream",
          "name": "stderr",
          "text": [
            "loading configuration file https://huggingface.co/patrickvonplaten/wav2vec2-base-timit-demo-google-colab/resolve/main/config.json from cache at /root/.cache/huggingface/transformers/7606a293c66b1cba6bb9a342dcffe3831dc19a120cfeeb9e57cdf6ffb9630f3f.3202909be16e9c482257d0c4d35b4f4c2558cea585027c729eed803ba4bf0d8e\n",
            "Model config Wav2Vec2Config {\n",
            "  \"_name_or_path\": \"facebook/wav2vec2-base\",\n",
            "  \"activation_dropout\": 0.0,\n",
            "  \"adapter_kernel_size\": 3,\n",
            "  \"adapter_stride\": 2,\n",
            "  \"add_adapter\": false,\n",
            "  \"apply_spec_augment\": true,\n",
            "  \"architectures\": [\n",
            "    \"Wav2Vec2ForCTC\"\n",
            "  ],\n",
            "  \"attention_dropout\": 0.1,\n",
            "  \"bos_token_id\": 1,\n",
            "  \"classifier_proj_size\": 256,\n",
            "  \"codevector_dim\": 256,\n",
            "  \"contrastive_logits_temperature\": 0.1,\n",
            "  \"conv_bias\": false,\n",
            "  \"conv_dim\": [\n",
            "    512,\n",
            "    512,\n",
            "    512,\n",
            "    512,\n",
            "    512,\n",
            "    512,\n",
            "    512\n",
            "  ],\n",
            "  \"conv_kernel\": [\n",
            "    10,\n",
            "    3,\n",
            "    3,\n",
            "    3,\n",
            "    3,\n",
            "    2,\n",
            "    2\n",
            "  ],\n",
            "  \"conv_stride\": [\n",
            "    5,\n",
            "    2,\n",
            "    2,\n",
            "    2,\n",
            "    2,\n",
            "    2,\n",
            "    2\n",
            "  ],\n",
            "  \"ctc_loss_reduction\": \"mean\",\n",
            "  \"ctc_zero_infinity\": false,\n",
            "  \"diversity_loss_weight\": 0.1,\n",
            "  \"do_stable_layer_norm\": false,\n",
            "  \"eos_token_id\": 2,\n",
            "  \"feat_extract_activation\": \"gelu\",\n",
            "  \"feat_extract_norm\": \"group\",\n",
            "  \"feat_proj_dropout\": 0.1,\n",
            "  \"feat_quantizer_dropout\": 0.0,\n",
            "  \"final_dropout\": 0.0,\n",
            "  \"freeze_feat_extract_train\": true,\n",
            "  \"hidden_act\": \"gelu\",\n",
            "  \"hidden_dropout\": 0.1,\n",
            "  \"hidden_size\": 768,\n",
            "  \"initializer_range\": 0.02,\n",
            "  \"intermediate_size\": 3072,\n",
            "  \"layer_norm_eps\": 1e-05,\n",
            "  \"layerdrop\": 0.0,\n",
            "  \"mask_channel_length\": 10,\n",
            "  \"mask_channel_min_space\": 1,\n",
            "  \"mask_channel_other\": 0.0,\n",
            "  \"mask_channel_prob\": 0.0,\n",
            "  \"mask_channel_selection\": \"static\",\n",
            "  \"mask_feature_length\": 10,\n",
            "  \"mask_feature_min_masks\": 0,\n",
            "  \"mask_feature_prob\": 0.0,\n",
            "  \"mask_time_length\": 10,\n",
            "  \"mask_time_min_masks\": 2,\n",
            "  \"mask_time_min_space\": 1,\n",
            "  \"mask_time_other\": 0.0,\n",
            "  \"mask_time_prob\": 0.05,\n",
            "  \"mask_time_selection\": \"static\",\n",
            "  \"model_type\": \"wav2vec2\",\n",
            "  \"no_mask_channel_overlap\": false,\n",
            "  \"no_mask_time_overlap\": false,\n",
            "  \"num_adapter_layers\": 3,\n",
            "  \"num_attention_heads\": 12,\n",
            "  \"num_codevector_groups\": 2,\n",
            "  \"num_codevectors_per_group\": 320,\n",
            "  \"num_conv_pos_embedding_groups\": 16,\n",
            "  \"num_conv_pos_embeddings\": 128,\n",
            "  \"num_feat_extract_layers\": 7,\n",
            "  \"num_hidden_layers\": 12,\n",
            "  \"num_negatives\": 100,\n",
            "  \"output_hidden_size\": 768,\n",
            "  \"pad_token_id\": 29,\n",
            "  \"proj_codevector_dim\": 256,\n",
            "  \"tdnn_dilation\": [\n",
            "    1,\n",
            "    2,\n",
            "    3,\n",
            "    1,\n",
            "    1\n",
            "  ],\n",
            "  \"tdnn_dim\": [\n",
            "    512,\n",
            "    512,\n",
            "    512,\n",
            "    512,\n",
            "    1500\n",
            "  ],\n",
            "  \"tdnn_kernel\": [\n",
            "    5,\n",
            "    3,\n",
            "    3,\n",
            "    1,\n",
            "    1\n",
            "  ],\n",
            "  \"torch_dtype\": \"float32\",\n",
            "  \"transformers_version\": \"4.17.0\",\n",
            "  \"use_weighted_layer_sum\": false,\n",
            "  \"vocab_size\": 32,\n",
            "  \"xvector_output_dim\": 512\n",
            "}\n",
            "\n",
            "loading weights file https://huggingface.co/patrickvonplaten/wav2vec2-base-timit-demo-google-colab/resolve/main/pytorch_model.bin from cache at /root/.cache/huggingface/transformers/666767bce47a87d50dfd1ceac759d5dc9db6eac8d185ae8f9a7dd388687c28c5.20bdf845b9896c1d0a213f03187b544f2a12b23d751b88c7b49a95d00bd946e1\n",
            "All model checkpoint weights were used when initializing Wav2Vec2ForCTC.\n",
            "\n",
            "All the weights of Wav2Vec2ForCTC were initialized from the model checkpoint at patrickvonplaten/wav2vec2-base-timit-demo-google-colab.\n",
            "If your task is similar to the task the model of the checkpoint was trained on, you can already use Wav2Vec2ForCTC for predictions without further training.\n"
          ]
        }
      ]
    },
    {
      "cell_type": "markdown",
      "metadata": {
        "id": "TUuZpB0v5jn_"
      },
      "source": [
        "Now, we will make use of the `map(...)` function to predict the transcription of every test sample and to save the prediction in the dataset itself. We will call the resulting dictionary `\"results\"`. \n",
        "\n",
        "**Note**: we evaluate the test data set with `batch_size=1` on purpose due to this [issue](https://github.com/pytorch/fairseq/issues/3227). Since padded inputs don't yield the exact same output as non-padded inputs, a better WER can be achieved by not padding the input at all."
      ]
    },
    {
      "cell_type": "code",
      "metadata": {
        "id": "40naJl53n7jT"
      },
      "source": [
        "def map_to_result(batch):\n",
        "  with torch.no_grad():\n",
        "    input_values = torch.tensor(batch[\"input_values\"], device=\"cuda\").unsqueeze(0)\n",
        "    logits = model(input_values).logits\n",
        "\n",
        "  pred_ids = torch.argmax(logits, dim=-1)\n",
        "  batch[\"pred_str\"] = processor.batch_decode(pred_ids)[0]\n",
        "  batch[\"text\"] = processor.decode(batch[\"labels\"], group_tokens=False)\n",
        "  \n",
        "  return batch"
      ],
      "execution_count": null,
      "outputs": []
    },
    {
      "cell_type": "code",
      "metadata": {
        "id": "uPqH7gZqrGPi",
        "colab": {
          "base_uri": "https://localhost:8080/",
          "height": 48,
          "referenced_widgets": [
            "8fbdb230253a4152be95bf6229049f09",
            "857f0c099d8549e98991a93c791db4c1",
            "16561789e2b9417a80ddcb6ef9d8676a",
            "050c9d6bfd1e4b6ebe67401183a8d397",
            "5874591082f944ff9b32202a1edbfd60",
            "8c968b160d3d4fbb998840734f9f07e4",
            "d2fd7c9e56b1419f9d23a10c260a7c7d",
            "4a03fb6d945f4102bc4f7192195d810d",
            "8ab2466b187047fbbe4d8b72455b1108",
            "89472d79793e4db9afa6845fb016c8ad",
            "f5e79b8c3a634eae8a555f18b9dc9bd6"
          ]
        },
        "outputId": "1eb633f5-c487-4cd1-8be6-aac4af385a2e"
      },
      "source": [
        "results = timit[\"test\"].map(map_to_result, remove_columns=timit[\"test\"].column_names)"
      ],
      "execution_count": null,
      "outputs": [
        {
          "output_type": "display_data",
          "data": {
            "text/plain": [
              "0ex [00:00, ?ex/s]"
            ],
            "application/vnd.jupyter.widget-view+json": {
              "version_major": 2,
              "version_minor": 0,
              "model_id": "8fbdb230253a4152be95bf6229049f09"
            }
          },
          "metadata": {}
        }
      ]
    },
    {
      "cell_type": "markdown",
      "metadata": {
        "id": "-mqpdB8R6rty"
      },
      "source": [
        "Let's compute the overall WER now."
      ]
    },
    {
      "cell_type": "code",
      "metadata": {
        "id": "PmqAb4Isx8OK",
        "colab": {
          "base_uri": "https://localhost:8080/"
        },
        "outputId": "d70180e0-77e4-458b-daff-61df307f500c"
      },
      "source": [
        "print(\"Test WER: {:.3f}\".format(wer_metric.compute(predictions=results[\"pred_str\"], references=results[\"text\"])))"
      ],
      "execution_count": null,
      "outputs": [
        {
          "output_type": "stream",
          "name": "stdout",
          "text": [
            "Test WER: 0.218\n"
          ]
        }
      ]
    },
    {
      "cell_type": "markdown",
      "metadata": {
        "id": "6Va94d8Y7Q98"
      },
      "source": [
        "21.8% WER - not bad! Our demo model would have probably made it on the official [leaderboard](https://paperswithcode.com/sota/speech-recognition-on-timit).\n",
        "\n",
        "Let's take a look at some predictions to see what errors are made by the model."
      ]
    },
    {
      "cell_type": "code",
      "metadata": {
        "id": "odNDiFVRy53w",
        "colab": {
          "base_uri": "https://localhost:8080/",
          "height": 363
        },
        "outputId": "cb787bc7-5346-449e-e314-202df442185a"
      },
      "source": [
        "show_random_elements(results)"
      ],
      "execution_count": null,
      "outputs": [
        {
          "output_type": "display_data",
          "data": {
            "text/plain": [
              "<IPython.core.display.HTML object>"
            ],
            "text/html": [
              "<table border=\"1\" class=\"dataframe\">\n",
              "  <thead>\n",
              "    <tr style=\"text-align: right;\">\n",
              "      <th></th>\n",
              "      <th>pred_str</th>\n",
              "      <th>text</th>\n",
              "    </tr>\n",
              "  </thead>\n",
              "  <tbody>\n",
              "    <tr>\n",
              "      <th>0</th>\n",
              "      <td>aim to balenge your employ you benefits package</td>\n",
              "      <td>aim to balance your employee benefit package</td>\n",
              "    </tr>\n",
              "    <tr>\n",
              "      <th>1</th>\n",
              "      <td>the fog prevented them from ariving on tom</td>\n",
              "      <td>the fog prevented them from arriving on time</td>\n",
              "    </tr>\n",
              "    <tr>\n",
              "      <th>2</th>\n",
              "      <td>young children should avoid exposure to contageous diseases</td>\n",
              "      <td>young children should avoid exposure to contagious diseases</td>\n",
              "    </tr>\n",
              "    <tr>\n",
              "      <th>3</th>\n",
              "      <td>art official intelligence is for real</td>\n",
              "      <td>artificial intelligence is for real</td>\n",
              "    </tr>\n",
              "    <tr>\n",
              "      <th>4</th>\n",
              "      <td>theire propes were two step latters a chair and a pame fen</td>\n",
              "      <td>their props were two stepladders a chair and a palm fan</td>\n",
              "    </tr>\n",
              "    <tr>\n",
              "      <th>5</th>\n",
              "      <td>if people were more generous there would be no need for wealfar</td>\n",
              "      <td>if people were more generous there would be no need for welfare</td>\n",
              "    </tr>\n",
              "    <tr>\n",
              "      <th>6</th>\n",
              "      <td>the fish began to leep frantically on the surface of the smalleaku</td>\n",
              "      <td>the fish began to leap frantically on the surface of the small lake</td>\n",
              "    </tr>\n",
              "    <tr>\n",
              "      <th>7</th>\n",
              "      <td>her rite hand aques whenever the baramatric presuer changes</td>\n",
              "      <td>her right hand aches whenever the barometric pressure changes</td>\n",
              "    </tr>\n",
              "    <tr>\n",
              "      <th>8</th>\n",
              "      <td>only lawyers loved milunears</td>\n",
              "      <td>only lawyers love millionaires</td>\n",
              "    </tr>\n",
              "    <tr>\n",
              "      <th>9</th>\n",
              "      <td>the nearest synnegu may not be within walk in distance</td>\n",
              "      <td>the nearest synagogue may not be within walking distance</td>\n",
              "    </tr>\n",
              "  </tbody>\n",
              "</table>"
            ]
          },
          "metadata": {}
        }
      ]
    },
    {
      "cell_type": "markdown",
      "metadata": {
        "id": "5HFCujhd9n4N"
      },
      "source": [
        "It becomes clear that the predicted transcriptions are acoustically very similar to the target transcriptions, but often contain spelling or grammatical errors. This shouldn't be very surprising though given that we purely rely on Wav2Vec2 without making use of a language model."
      ]
    },
    {
      "cell_type": "markdown",
      "metadata": {
        "id": "a3ydKvUl9FTK"
      },
      "source": [
        "Finally, to better understand how CTC works, it is worth taking a deeper look at the exact output of the model. Let's run the first test sample through the model, take the predicted ids and convert them to their corresponding tokens."
      ]
    },
    {
      "cell_type": "code",
      "metadata": {
        "id": "AqaM45t87uM4",
        "colab": {
          "base_uri": "https://localhost:8080/",
          "height": 73
        },
        "outputId": "2d181121-2184-48dc-a337-bb33194fd68b"
      },
      "source": [
        "model.to(\"cuda\")\n",
        "\n",
        "with torch.no_grad():\n",
        "  logits = model(torch.tensor(timit[\"test\"][:1][\"input_values\"], device=\"cuda\")).logits\n",
        "\n",
        "pred_ids = torch.argmax(logits, dim=-1)\n",
        "\n",
        "# convert ids to tokens\n",
        "\" \".join(processor.tokenizer.convert_ids_to_tokens(pred_ids[0].tolist()))"
      ],
      "execution_count": null,
      "outputs": [
        {
          "output_type": "execute_result",
          "data": {
            "text/plain": [
              "'[PAD] [PAD] [PAD] [PAD] [PAD] t t h h e | | | b [PAD] [PAD] [PAD] u u n n g g [PAD] [PAD] l l l l [PAD] o o o | | w w a a s s | | [PAD] [PAD] [PAD] p l l [PAD] e s s s s [PAD] n n t t [PAD] l l l y y | | [PAD] s s s i i t t t [PAD] u u u u u [PAD] [PAD] [PAD] [PAD] a a t t [PAD] e e d d | | [PAD] n n e e a a r | | t t h e e | | s s h h [PAD] [PAD] [PAD] [PAD] o o r r r r | [PAD] [PAD] [PAD] [PAD] [PAD] [PAD] [PAD] [PAD] [PAD]'"
            ],
            "application/vnd.google.colaboratory.intrinsic+json": {
              "type": "string"
            }
          },
          "metadata": {},
          "execution_count": 98
        }
      ]
    },
    {
      "cell_type": "markdown",
      "metadata": {
        "id": "tdO8E28g-n5C"
      },
      "source": [
        "The output should make it a bit clearer how CTC works in practice. The model is to some extent invariant to speaking rate since it has learned to either just repeat the same token in case the speech chunk to be classified still corresponds to the same token. This makes CTC a very powerful algorithm for speech recognition since the speech file's transcription is often very much independent of its length.\n",
        "\n",
        "I again advise the reader to take a look at [this](https://distill.pub/2017/ctc) very nice blog post to better understand CTC."
      ]
    }
  ]
}