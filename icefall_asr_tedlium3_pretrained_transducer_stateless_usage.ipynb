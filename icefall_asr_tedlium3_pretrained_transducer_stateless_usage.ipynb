{
  "nbformat": 4,
  "nbformat_minor": 0,
  "metadata": {
    "colab": {
      "provenance": [],
      "machine_shape": "hm",
      "include_colab_link": true
    },
    "kernelspec": {
      "name": "python3",
      "display_name": "Python 3"
    },
    "language_info": {
      "name": "python"
    },
    "accelerator": "TPU",
    "gpuClass": "premium",
    "widgets": {
      "application/vnd.jupyter.widget-state+json": {
        "081e21ec1d104a3c921dc1ab580393d2": {
          "model_module": "@jupyter-widgets/controls",
          "model_name": "HBoxModel",
          "model_module_version": "1.5.0",
          "state": {
            "_dom_classes": [],
            "_model_module": "@jupyter-widgets/controls",
            "_model_module_version": "1.5.0",
            "_model_name": "HBoxModel",
            "_view_count": null,
            "_view_module": "@jupyter-widgets/controls",
            "_view_module_version": "1.5.0",
            "_view_name": "HBoxView",
            "box_style": "",
            "children": [
              "IPY_MODEL_942e10b9bd6942f5a5deb3eccbb74096",
              "IPY_MODEL_fda78f2b5f9e45d6958016f2b9f6fe28",
              "IPY_MODEL_e45ca52234c04c039a476102582aee47"
            ],
            "layout": "IPY_MODEL_c0705695f0fe46efb4473c68aa5239d7"
          }
        },
        "942e10b9bd6942f5a5deb3eccbb74096": {
          "model_module": "@jupyter-widgets/controls",
          "model_name": "HTMLModel",
          "model_module_version": "1.5.0",
          "state": {
            "_dom_classes": [],
            "_model_module": "@jupyter-widgets/controls",
            "_model_module_version": "1.5.0",
            "_model_name": "HTMLModel",
            "_view_count": null,
            "_view_module": "@jupyter-widgets/controls",
            "_view_module_version": "1.5.0",
            "_view_name": "HTMLView",
            "description": "",
            "description_tooltip": null,
            "layout": "IPY_MODEL_4c34df0e593d4833ba670070b71625d7",
            "placeholder": "​",
            "style": "IPY_MODEL_f9a364774ca24ec188064ae073cc90d8",
            "value": "/root/.lhotse/tools/sph2pipe-2.5.tar.gz: "
          }
        },
        "fda78f2b5f9e45d6958016f2b9f6fe28": {
          "model_module": "@jupyter-widgets/controls",
          "model_name": "FloatProgressModel",
          "model_module_version": "1.5.0",
          "state": {
            "_dom_classes": [],
            "_model_module": "@jupyter-widgets/controls",
            "_model_module_version": "1.5.0",
            "_model_name": "FloatProgressModel",
            "_view_count": null,
            "_view_module": "@jupyter-widgets/controls",
            "_view_module_version": "1.5.0",
            "_view_name": "ProgressView",
            "bar_style": "success",
            "description": "",
            "description_tooltip": null,
            "layout": "IPY_MODEL_71953daca94b47b58ec4c0eb14ebc432",
            "max": 1,
            "min": 0,
            "orientation": "horizontal",
            "style": "IPY_MODEL_ca75a4892f904256a1bcfce6d4125533",
            "value": 1
          }
        },
        "e45ca52234c04c039a476102582aee47": {
          "model_module": "@jupyter-widgets/controls",
          "model_name": "HTMLModel",
          "model_module_version": "1.5.0",
          "state": {
            "_dom_classes": [],
            "_model_module": "@jupyter-widgets/controls",
            "_model_module_version": "1.5.0",
            "_model_name": "HTMLModel",
            "_view_count": null,
            "_view_module": "@jupyter-widgets/controls",
            "_view_module_version": "1.5.0",
            "_view_name": "HTMLView",
            "description": "",
            "description_tooltip": null,
            "layout": "IPY_MODEL_b9f02fc5b9404428a4157891ed9d7e5a",
            "placeholder": "​",
            "style": "IPY_MODEL_93e4deb4ccc74c73b7776a2944015466",
            "value": " 291k/0.00 [00:00&lt;00:00, 9.81kB/s]"
          }
        },
        "c0705695f0fe46efb4473c68aa5239d7": {
          "model_module": "@jupyter-widgets/base",
          "model_name": "LayoutModel",
          "model_module_version": "1.2.0",
          "state": {
            "_model_module": "@jupyter-widgets/base",
            "_model_module_version": "1.2.0",
            "_model_name": "LayoutModel",
            "_view_count": null,
            "_view_module": "@jupyter-widgets/base",
            "_view_module_version": "1.2.0",
            "_view_name": "LayoutView",
            "align_content": null,
            "align_items": null,
            "align_self": null,
            "border": null,
            "bottom": null,
            "display": null,
            "flex": null,
            "flex_flow": null,
            "grid_area": null,
            "grid_auto_columns": null,
            "grid_auto_flow": null,
            "grid_auto_rows": null,
            "grid_column": null,
            "grid_gap": null,
            "grid_row": null,
            "grid_template_areas": null,
            "grid_template_columns": null,
            "grid_template_rows": null,
            "height": null,
            "justify_content": null,
            "justify_items": null,
            "left": null,
            "margin": null,
            "max_height": null,
            "max_width": null,
            "min_height": null,
            "min_width": null,
            "object_fit": null,
            "object_position": null,
            "order": null,
            "overflow": null,
            "overflow_x": null,
            "overflow_y": null,
            "padding": null,
            "right": null,
            "top": null,
            "visibility": null,
            "width": null
          }
        },
        "4c34df0e593d4833ba670070b71625d7": {
          "model_module": "@jupyter-widgets/base",
          "model_name": "LayoutModel",
          "model_module_version": "1.2.0",
          "state": {
            "_model_module": "@jupyter-widgets/base",
            "_model_module_version": "1.2.0",
            "_model_name": "LayoutModel",
            "_view_count": null,
            "_view_module": "@jupyter-widgets/base",
            "_view_module_version": "1.2.0",
            "_view_name": "LayoutView",
            "align_content": null,
            "align_items": null,
            "align_self": null,
            "border": null,
            "bottom": null,
            "display": null,
            "flex": null,
            "flex_flow": null,
            "grid_area": null,
            "grid_auto_columns": null,
            "grid_auto_flow": null,
            "grid_auto_rows": null,
            "grid_column": null,
            "grid_gap": null,
            "grid_row": null,
            "grid_template_areas": null,
            "grid_template_columns": null,
            "grid_template_rows": null,
            "height": null,
            "justify_content": null,
            "justify_items": null,
            "left": null,
            "margin": null,
            "max_height": null,
            "max_width": null,
            "min_height": null,
            "min_width": null,
            "object_fit": null,
            "object_position": null,
            "order": null,
            "overflow": null,
            "overflow_x": null,
            "overflow_y": null,
            "padding": null,
            "right": null,
            "top": null,
            "visibility": null,
            "width": null
          }
        },
        "f9a364774ca24ec188064ae073cc90d8": {
          "model_module": "@jupyter-widgets/controls",
          "model_name": "DescriptionStyleModel",
          "model_module_version": "1.5.0",
          "state": {
            "_model_module": "@jupyter-widgets/controls",
            "_model_module_version": "1.5.0",
            "_model_name": "DescriptionStyleModel",
            "_view_count": null,
            "_view_module": "@jupyter-widgets/base",
            "_view_module_version": "1.2.0",
            "_view_name": "StyleView",
            "description_width": ""
          }
        },
        "71953daca94b47b58ec4c0eb14ebc432": {
          "model_module": "@jupyter-widgets/base",
          "model_name": "LayoutModel",
          "model_module_version": "1.2.0",
          "state": {
            "_model_module": "@jupyter-widgets/base",
            "_model_module_version": "1.2.0",
            "_model_name": "LayoutModel",
            "_view_count": null,
            "_view_module": "@jupyter-widgets/base",
            "_view_module_version": "1.2.0",
            "_view_name": "LayoutView",
            "align_content": null,
            "align_items": null,
            "align_self": null,
            "border": null,
            "bottom": null,
            "display": null,
            "flex": null,
            "flex_flow": null,
            "grid_area": null,
            "grid_auto_columns": null,
            "grid_auto_flow": null,
            "grid_auto_rows": null,
            "grid_column": null,
            "grid_gap": null,
            "grid_row": null,
            "grid_template_areas": null,
            "grid_template_columns": null,
            "grid_template_rows": null,
            "height": null,
            "justify_content": null,
            "justify_items": null,
            "left": null,
            "margin": null,
            "max_height": null,
            "max_width": null,
            "min_height": null,
            "min_width": null,
            "object_fit": null,
            "object_position": null,
            "order": null,
            "overflow": null,
            "overflow_x": null,
            "overflow_y": null,
            "padding": null,
            "right": null,
            "top": null,
            "visibility": null,
            "width": "20px"
          }
        },
        "ca75a4892f904256a1bcfce6d4125533": {
          "model_module": "@jupyter-widgets/controls",
          "model_name": "ProgressStyleModel",
          "model_module_version": "1.5.0",
          "state": {
            "_model_module": "@jupyter-widgets/controls",
            "_model_module_version": "1.5.0",
            "_model_name": "ProgressStyleModel",
            "_view_count": null,
            "_view_module": "@jupyter-widgets/base",
            "_view_module_version": "1.2.0",
            "_view_name": "StyleView",
            "bar_color": null,
            "description_width": ""
          }
        },
        "b9f02fc5b9404428a4157891ed9d7e5a": {
          "model_module": "@jupyter-widgets/base",
          "model_name": "LayoutModel",
          "model_module_version": "1.2.0",
          "state": {
            "_model_module": "@jupyter-widgets/base",
            "_model_module_version": "1.2.0",
            "_model_name": "LayoutModel",
            "_view_count": null,
            "_view_module": "@jupyter-widgets/base",
            "_view_module_version": "1.2.0",
            "_view_name": "LayoutView",
            "align_content": null,
            "align_items": null,
            "align_self": null,
            "border": null,
            "bottom": null,
            "display": null,
            "flex": null,
            "flex_flow": null,
            "grid_area": null,
            "grid_auto_columns": null,
            "grid_auto_flow": null,
            "grid_auto_rows": null,
            "grid_column": null,
            "grid_gap": null,
            "grid_row": null,
            "grid_template_areas": null,
            "grid_template_columns": null,
            "grid_template_rows": null,
            "height": null,
            "justify_content": null,
            "justify_items": null,
            "left": null,
            "margin": null,
            "max_height": null,
            "max_width": null,
            "min_height": null,
            "min_width": null,
            "object_fit": null,
            "object_position": null,
            "order": null,
            "overflow": null,
            "overflow_x": null,
            "overflow_y": null,
            "padding": null,
            "right": null,
            "top": null,
            "visibility": null,
            "width": null
          }
        },
        "93e4deb4ccc74c73b7776a2944015466": {
          "model_module": "@jupyter-widgets/controls",
          "model_name": "DescriptionStyleModel",
          "model_module_version": "1.5.0",
          "state": {
            "_model_module": "@jupyter-widgets/controls",
            "_model_module_version": "1.5.0",
            "_model_name": "DescriptionStyleModel",
            "_view_count": null,
            "_view_module": "@jupyter-widgets/base",
            "_view_module_version": "1.2.0",
            "_view_name": "StyleView",
            "description_width": ""
          }
        }
      }
    }
  },
  "cells": [
    {
      "cell_type": "markdown",
      "metadata": {
        "id": "view-in-github",
        "colab_type": "text"
      },
      "source": [
        "<a href=\"https://colab.research.google.com/github/Cirediallo/Models/blob/main/icefall_asr_tedlium3_pretrained_transducer_stateless_usage.ipynb\" target=\"_parent\"><img src=\"https://colab.research.google.com/assets/colab-badge.svg\" alt=\"Open In Colab\"/></a>"
      ]
    },
    {
      "cell_type": "markdown",
      "source": [
        "## Description\n",
        "This notebook shows how to use a pre-trained Transducer Stateless model with [icefall](https://github.com/k2-fsa/icefall/)."
      ],
      "metadata": {
        "id": "J3pHMbzMOK0v"
      }
    },
    {
      "cell_type": "markdown",
      "source": [
        "## Environment setup\n",
        "\n",
        "To use a pre-trained model with icefall, we have to install the following dependencies:\n",
        "\n",
        "- [k2][k2], for FSA operations\n",
        "- [torchaudio][audio], for reading sound files\n",
        "- [kaldifeat][kaldifeat], for extracting features from a single sound\n",
        "  file or multiple sound files\n",
        "\n",
        "**NOTE**: [lhotse][lhotse] is used only in training time, for data preparation.\n",
        "\n",
        "\n",
        "[k2]: https://github.com/k2-fsa/k2\n",
        "[audio]: https://github.com/pytorch/audio\n",
        "[kaldifeat]: https://github.com/csukuangfj/kaldifeat\n",
        "[lhotse]: https://github.com/lhotse-speech/lhotse"
      ],
      "metadata": {
        "id": "id65zgvnOTzA"
      }
    },
    {
      "cell_type": "code",
      "source": [
        "import os"
      ],
      "metadata": {
        "id": "Ch0acicR8LzV"
      },
      "execution_count": 7,
      "outputs": []
    },
    {
      "cell_type": "markdown",
      "source": [
        "### Install PyTorch and torchaudio\n",
        "\n"
      ],
      "metadata": {
        "id": "YjQKWEtAOTca"
      }
    },
    {
      "cell_type": "code",
      "source": [
        "! nvcc --version"
      ],
      "metadata": {
        "colab": {
          "base_uri": "https://localhost:8080/"
        },
        "id": "5WnDeVDkdGzu",
        "outputId": "765cdff9-1863-4c69-adb5-4338f958a117"
      },
      "execution_count": 34,
      "outputs": [
        {
          "output_type": "stream",
          "name": "stdout",
          "text": [
            "nvcc: NVIDIA (R) Cuda compiler driver\n",
            "Copyright (c) 2005-2022 NVIDIA Corporation\n",
            "Built on Wed_Sep_21_10:33:58_PDT_2022\n",
            "Cuda compilation tools, release 11.8, V11.8.89\n",
            "Build cuda_11.8.r11.8/compiler.31833905_0\n"
          ]
        }
      ]
    },
    {
      "cell_type": "code",
      "execution_count": 35,
      "metadata": {
        "id": "xA2JlPjSOEtj",
        "outputId": "dae1ac4c-d221-42cf-ea44-f8732339422e",
        "colab": {
          "base_uri": "https://localhost:8080/"
        }
      },
      "outputs": [
        {
          "output_type": "stream",
          "name": "stdout",
          "text": [
            "Found existing installation: torch 1.13.1\n",
            "Uninstalling torch-1.13.1:\n",
            "  Successfully uninstalled torch-1.13.1\n",
            "Found existing installation: torchaudio 0.13.1\n",
            "Uninstalling torchaudio-0.13.1:\n",
            "  Successfully uninstalled torchaudio-0.13.1\n",
            "Found existing installation: torchvision 0.15.1+cu118\n",
            "Uninstalling torchvision-0.15.1+cu118:\n",
            "  Successfully uninstalled torchvision-0.15.1+cu118\n",
            "Found existing installation: torchtext 0.15.1\n",
            "Uninstalling torchtext-0.15.1:\n",
            "  Successfully uninstalled torchtext-0.15.1\n",
            "Looking in indexes: https://pypi.org/simple, https://us-python.pkg.dev/colab-wheels/public/simple/\n",
            "Looking in links: https://download.pytorch.org/whl/torch_stable.html\n",
            "\u001b[31mERROR: Could not find a version that satisfies the requirement torch==1.7.1+cu101 (from versions: 1.11.0, 1.11.0+cpu, 1.11.0+cu102, 1.11.0+cu113, 1.11.0+cu115, 1.11.0+rocm4.3.1, 1.11.0+rocm4.5.2, 1.12.0, 1.12.0+cpu, 1.12.0+cu102, 1.12.0+cu113, 1.12.0+cu116, 1.12.0+rocm5.0, 1.12.0+rocm5.1.1, 1.12.1, 1.12.1+cpu, 1.12.1+cu102, 1.12.1+cu113, 1.12.1+cu116, 1.12.1+rocm5.0, 1.12.1+rocm5.1.1, 1.13.0, 1.13.0+cpu, 1.13.0+cu116, 1.13.0+cu117, 1.13.0+cu117.with.pypi.cudnn, 1.13.0+rocm5.1.1, 1.13.0+rocm5.2, 1.13.1, 1.13.1+cpu, 1.13.1+cu116, 1.13.1+cu117, 1.13.1+cu117.with.pypi.cudnn, 1.13.1+rocm5.1.1, 1.13.1+rocm5.2, 2.0.0, 2.0.0+cpu, 2.0.0+cpu.cxx11.abi, 2.0.0+cu117, 2.0.0+cu117.with.pypi.cudnn, 2.0.0+cu118, 2.0.0+rocm5.3, 2.0.0+rocm5.4.2)\u001b[0m\u001b[31m\n",
            "\u001b[0m\u001b[31mERROR: No matching distribution found for torch==1.7.1+cu101\u001b[0m\u001b[31m\n",
            "\u001b[0m"
          ]
        }
      ],
      "source": [
        "! pip uninstall -y torch torchaudio torchvision torchtext\n",
        "\n",
        "! pip install torch==1.7.1+cu101 torchaudio==0.7.2 -f https://download.pytorch.org/whl/torch_stable.html"
      ]
    },
    {
      "cell_type": "markdown",
      "source": [
        "### Install CUDA 11.7 => start execution here"
      ],
      "metadata": {
        "id": "1m_Gx4Vm27U6"
      }
    },
    {
      "cell_type": "code",
      "source": [
        "! wget https://developer.download.nvidia.com/compute/cuda/11.7.1/local_installers/cuda_11.7.1_515.65.01_linux.run"
      ],
      "metadata": {
        "colab": {
          "base_uri": "https://localhost:8080/"
        },
        "id": "2S8XM4ai2ACn",
        "outputId": "17f8f026-5b2a-46d0-95d9-111c6050c350"
      },
      "execution_count": 1,
      "outputs": [
        {
          "output_type": "stream",
          "name": "stdout",
          "text": [
            "--2023-05-01 10:49:44--  https://developer.download.nvidia.com/compute/cuda/11.7.1/local_installers/cuda_11.7.1_515.65.01_linux.run\n",
            "Resolving developer.download.nvidia.com (developer.download.nvidia.com)... 152.195.19.142\n",
            "Connecting to developer.download.nvidia.com (developer.download.nvidia.com)|152.195.19.142|:443... connected.\n",
            "HTTP request sent, awaiting response... 200 OK\n",
            "Length: 3524358811 (3.3G) [application/octet-stream]\n",
            "Saving to: ‘cuda_11.7.1_515.65.01_linux.run’\n",
            "\n",
            "cuda_11.7.1_515.65. 100%[===================>]   3.28G   271MB/s    in 13s     \n",
            "\n",
            "2023-05-01 10:49:57 (266 MB/s) - ‘cuda_11.7.1_515.65.01_linux.run’ saved [3524358811/3524358811]\n",
            "\n"
          ]
        }
      ]
    },
    {
      "cell_type": "code",
      "source": [
        "! chmod +x /content/cuda_11.7.1_515.65.01_linux.run"
      ],
      "metadata": {
        "id": "gq5PZsde2iKr"
      },
      "execution_count": 2,
      "outputs": []
    },
    {
      "cell_type": "code",
      "source": [
        "! cd /content/ && \\\n",
        "  ./cuda_11.7.1_515.65.01_linux.run \\\n",
        "    --silent \\\n",
        "    --toolkit \\\n",
        "    --installpath=/content/cuda11/software/cuda-11.7.1 \\\n",
        "    --no-opengl-libs \\\n",
        "    --no-drm \\\n",
        "    --no-man-page"
      ],
      "metadata": {
        "id": "Yh_SeMrY2scY"
      },
      "execution_count": 10,
      "outputs": []
    },
    {
      "cell_type": "markdown",
      "source": [
        "#### Install cuDNN for CUDA 11.7"
      ],
      "metadata": {
        "id": "JpfqBlD14x_W"
      }
    },
    {
      "cell_type": "code",
      "source": [
        "! wget https://huggingface.co/csukuangfj/cudnn/resolve/main/cudnn-11.3-linux-x64-v8.2.0.53.tgz"
      ],
      "metadata": {
        "colab": {
          "base_uri": "https://localhost:8080/"
        },
        "id": "pTD90BSs3TUe",
        "outputId": "6852fb7d-84cf-451f-bdf3-ac1202740d07"
      },
      "execution_count": 11,
      "outputs": [
        {
          "output_type": "stream",
          "name": "stdout",
          "text": [
            "--2023-05-01 11:00:28--  https://huggingface.co/csukuangfj/cudnn/resolve/main/cudnn-11.3-linux-x64-v8.2.0.53.tgz\n",
            "Resolving huggingface.co (huggingface.co)... 18.160.249.70, 18.160.249.78, 18.160.249.31, ...\n",
            "Connecting to huggingface.co (huggingface.co)|18.160.249.70|:443... connected.\n",
            "HTTP request sent, awaiting response... 302 Found\n",
            "Location: https://cdn-lfs.huggingface.co/csukuangfj/cudnn/7a195dc93a7cda2bdd4d9b73958d259c784be422cd941a9a625aab75309f19dc?response-content-disposition=attachment%3B+filename*%3DUTF-8%27%27cudnn-11.3-linux-x64-v8.2.0.53.tgz%3B+filename%3D%22cudnn-11.3-linux-x64-v8.2.0.53.tgz%22%3B&Expires=1683198029&Policy=eyJTdGF0ZW1lbnQiOlt7IlJlc291cmNlIjoiaHR0cHM6Ly9jZG4tbGZzLmh1Z2dpbmdmYWNlLmNvL2NzdWt1YW5nZmovY3Vkbm4vN2ExOTVkYzkzYTdjZGEyYmRkNGQ5YjczOTU4ZDI1OWM3ODRiZTQyMmNkOTQxYTlhNjI1YWFiNzUzMDlmMTlkYz9yZXNwb25zZS1jb250ZW50LWRpc3Bvc2l0aW9uPSoiLCJDb25kaXRpb24iOnsiRGF0ZUxlc3NUaGFuIjp7IkFXUzpFcG9jaFRpbWUiOjE2ODMxOTgwMjl9fX1dfQ__&Signature=ttQoIxYkP5V1aMT9jT-8CWzB2ghsvcwGbPusI7YTdL3SZJSiNjCoq3L1zcHpSDwn6jh9DWEuCGTPVTP5BJrnXcIM3HIf71%7ET3tU4MItVoVQ2db6JCUIG3St1aIkl-DSZV29jw0Do2rkkj%7Ee0v2rk0-DrOME-YJanhk76bR2rRwxwajhNUNIeBVy421bEpyd3LuunkZPMe6w-lVeBM5BM1P4frFLoyiSfaA004yeWVX1dCYa5r7qIC%7EuH4AB-7GznB2BAQ2VBkeuEf2pvuWo-a6SbdEaa58XBRnYjoFrL5SrrKyq-HeyCHbpItXpbFTtCZbotC2sEQLCgjUlqLT8XuQ__&Key-Pair-Id=KVTP0A1DKRTAX [following]\n",
            "--2023-05-01 11:00:28--  https://cdn-lfs.huggingface.co/csukuangfj/cudnn/7a195dc93a7cda2bdd4d9b73958d259c784be422cd941a9a625aab75309f19dc?response-content-disposition=attachment%3B+filename*%3DUTF-8%27%27cudnn-11.3-linux-x64-v8.2.0.53.tgz%3B+filename%3D%22cudnn-11.3-linux-x64-v8.2.0.53.tgz%22%3B&Expires=1683198029&Policy=eyJTdGF0ZW1lbnQiOlt7IlJlc291cmNlIjoiaHR0cHM6Ly9jZG4tbGZzLmh1Z2dpbmdmYWNlLmNvL2NzdWt1YW5nZmovY3Vkbm4vN2ExOTVkYzkzYTdjZGEyYmRkNGQ5YjczOTU4ZDI1OWM3ODRiZTQyMmNkOTQxYTlhNjI1YWFiNzUzMDlmMTlkYz9yZXNwb25zZS1jb250ZW50LWRpc3Bvc2l0aW9uPSoiLCJDb25kaXRpb24iOnsiRGF0ZUxlc3NUaGFuIjp7IkFXUzpFcG9jaFRpbWUiOjE2ODMxOTgwMjl9fX1dfQ__&Signature=ttQoIxYkP5V1aMT9jT-8CWzB2ghsvcwGbPusI7YTdL3SZJSiNjCoq3L1zcHpSDwn6jh9DWEuCGTPVTP5BJrnXcIM3HIf71%7ET3tU4MItVoVQ2db6JCUIG3St1aIkl-DSZV29jw0Do2rkkj%7Ee0v2rk0-DrOME-YJanhk76bR2rRwxwajhNUNIeBVy421bEpyd3LuunkZPMe6w-lVeBM5BM1P4frFLoyiSfaA004yeWVX1dCYa5r7qIC%7EuH4AB-7GznB2BAQ2VBkeuEf2pvuWo-a6SbdEaa58XBRnYjoFrL5SrrKyq-HeyCHbpItXpbFTtCZbotC2sEQLCgjUlqLT8XuQ__&Key-Pair-Id=KVTP0A1DKRTAX\n",
            "Resolving cdn-lfs.huggingface.co (cdn-lfs.huggingface.co)... 13.249.85.11, 13.249.85.12, 13.249.85.116, ...\n",
            "Connecting to cdn-lfs.huggingface.co (cdn-lfs.huggingface.co)|13.249.85.11|:443... connected.\n",
            "HTTP request sent, awaiting response... 200 OK\n",
            "Length: 1845502929 (1.7G) [application/octet-stream]\n",
            "Saving to: ‘cudnn-11.3-linux-x64-v8.2.0.53.tgz.1’\n",
            "\n",
            "cudnn-11.3-linux-x6 100%[===================>]   1.72G  87.2MB/s    in 20s     \n",
            "\n",
            "2023-05-01 11:00:48 (88.4 MB/s) - ‘cudnn-11.3-linux-x64-v8.2.0.53.tgz.1’ saved [1845502929/1845502929]\n",
            "\n"
          ]
        }
      ]
    },
    {
      "cell_type": "code",
      "source": [
        "! cd /content/ && tar xvf ./cudnn-11.3-linux-x64-v8.2.0.53.tgz --strip-components=1 -C /content/cuda11/software/cuda-11.7.1"
      ],
      "metadata": {
        "colab": {
          "base_uri": "https://localhost:8080/"
        },
        "id": "9lFGOugq3ZJt",
        "outputId": "f05f1fa2-496c-4151-9e32-36c618d0e979"
      },
      "execution_count": 12,
      "outputs": [
        {
          "output_type": "stream",
          "name": "stdout",
          "text": [
            "cuda/include/cudnn.h\n",
            "cuda/include/cudnn_adv_infer.h\n",
            "cuda/include/cudnn_adv_infer_v8.h\n",
            "cuda/include/cudnn_adv_train.h\n",
            "cuda/include/cudnn_adv_train_v8.h\n",
            "cuda/include/cudnn_backend.h\n",
            "cuda/include/cudnn_backend_v8.h\n",
            "cuda/include/cudnn_cnn_infer.h\n",
            "cuda/include/cudnn_cnn_infer_v8.h\n",
            "cuda/include/cudnn_cnn_train.h\n",
            "cuda/include/cudnn_cnn_train_v8.h\n",
            "cuda/include/cudnn_ops_infer.h\n",
            "cuda/include/cudnn_ops_infer_v8.h\n",
            "cuda/include/cudnn_ops_train.h\n",
            "cuda/include/cudnn_ops_train_v8.h\n",
            "cuda/include/cudnn_v8.h\n",
            "cuda/include/cudnn_version.h\n",
            "cuda/include/cudnn_version_v8.h\n",
            "cuda/NVIDIA_SLA_cuDNN_Support.txt\n",
            "cuda/lib64/libcudnn.so\n",
            "cuda/lib64/libcudnn.so.8\n",
            "cuda/lib64/libcudnn.so.8.2.0\n",
            "cuda/lib64/libcudnn_adv_infer.so\n",
            "cuda/lib64/libcudnn_adv_infer.so.8\n",
            "cuda/lib64/libcudnn_adv_infer.so.8.2.0\n",
            "cuda/lib64/libcudnn_adv_train.so\n",
            "cuda/lib64/libcudnn_adv_train.so.8\n",
            "cuda/lib64/libcudnn_adv_train.so.8.2.0\n",
            "cuda/lib64/libcudnn_cnn_infer.so\n",
            "cuda/lib64/libcudnn_cnn_infer.so.8\n",
            "cuda/lib64/libcudnn_cnn_infer.so.8.2.0\n",
            "cuda/lib64/libcudnn_cnn_infer_static.a\n",
            "cuda/lib64/libcudnn_cnn_infer_static_v8.a\n",
            "cuda/lib64/libcudnn_cnn_train.so\n",
            "cuda/lib64/libcudnn_cnn_train.so.8\n",
            "cuda/lib64/libcudnn_cnn_train.so.8.2.0\n",
            "cuda/lib64/libcudnn_cnn_train_static.a\n",
            "cuda/lib64/libcudnn_cnn_train_static_v8.a\n",
            "cuda/lib64/libcudnn_ops_infer.so\n",
            "cuda/lib64/libcudnn_ops_infer.so.8\n",
            "cuda/lib64/libcudnn_ops_infer.so.8.2.0\n",
            "cuda/lib64/libcudnn_ops_train.so\n",
            "cuda/lib64/libcudnn_ops_train.so.8\n",
            "cuda/lib64/libcudnn_ops_train.so.8.2.0\n",
            "cuda/lib64/libcudnn_static.a\n",
            "cuda/lib64/libcudnn_static_v8.a\n"
          ]
        }
      ]
    },
    {
      "cell_type": "code",
      "source": [
        "\"\"\"\n",
        "! echo $PATH\n",
        "print(\"****\")\n",
        "!pwd\n",
        "print(\"========\")\n",
        "! echo $PYTHONPATH\n",
        "\n",
        "print(\"--------\")\n",
        "#os.environ['PYTHONPATH'] += \":/content/icefall\"\n",
        "\n",
        "! echo $PYTHONPATH\n",
        "\n",
        "\"\"\"\n",
        "os.environ['CUDA_HOME'] = \"/content/cuda11/software/cuda-11.7.1\"\n",
        "os.environ['PATH'] += \":/content/cuda11/software/cuda-11.7.1/bin\"\n",
        "os.environ['LD_LIBRARY_PATH'] += \":/content/cuda11/software/cuda-11.7.1/lib64\"\n",
        "os.environ['LD_LIBRARY_PATH'] += \":/content/cuda11/software/cuda-11.7.1/lib\"\n",
        "\n",
        "os.environ['CUDA_TOOLKIT_ROOT_DIR']=os.environ['CUDA_HOME']\n",
        "os.environ['CUDA_TOOLKIT_ROOT']=os.environ['CUDA_HOME']\n",
        "os.environ['CUDA_BIN_PATH']=os.environ['CUDA_HOME']\n",
        "os.environ['CUDA_PATH']=os.environ['CUDA_HOME']\n",
        "os.environ['CUDA_INC_PATH']=\"/content/cuda11/software/cuda-11.7.1/targets/x86_64-linux\"\n",
        "#os.environ['CFLAGS'] +=\"-I\"+\":/content/cuda11/software/cuda-11.7.1/targets/x86_64-linux/include\"\n"
      ],
      "metadata": {
        "id": "49ZLjaOP7KvA"
      },
      "execution_count": 13,
      "outputs": []
    },
    {
      "cell_type": "code",
      "source": [
        "! python3 -m k2.version"
      ],
      "metadata": {
        "colab": {
          "base_uri": "https://localhost:8080/"
        },
        "id": "yrJrc17wP50p",
        "outputId": "b0100bd2-d398-45b4-be87-6b295e61cea8"
      },
      "execution_count": 17,
      "outputs": [
        {
          "output_type": "stream",
          "name": "stdout",
          "text": [
            "Collecting environment information...\n",
            "\n",
            "k2 version: 1.24.1\n",
            "Build type: Release\n",
            "Git SHA1: 7b67d26bb0e1d4b51044e00eb043cc87a6bfbc85\n",
            "Git date: Sun Apr 30 05:50:05 2023\n",
            "Cuda used to build k2: 11.7\n",
            "cuDNN used to build k2: 8.2.0\n",
            "Python version used to build k2: 3.10\n",
            "OS used to build k2: Ubuntu 20.04.5 LTS\n",
            "CMake version: 3.25.2\n",
            "GCC version: 9.4.0\n",
            "CMAKE_CUDA_FLAGS:  -Wno-deprecated-gpu-targets   -lineinfo --expt-extended-lambda -use_fast_math -Xptxas=-w  --expt-extended-lambda -gencode arch=compute_35,code=sm_35  -lineinfo --expt-extended-lambda -use_fast_math -Xptxas=-w  --expt-extended-lambda -gencode arch=compute_50,code=sm_50  -lineinfo --expt-extended-lambda -use_fast_math -Xptxas=-w  --expt-extended-lambda -gencode arch=compute_60,code=sm_60  -lineinfo --expt-extended-lambda -use_fast_math -Xptxas=-w  --expt-extended-lambda -gencode arch=compute_61,code=sm_61  -lineinfo --expt-extended-lambda -use_fast_math -Xptxas=-w  --expt-extended-lambda -gencode arch=compute_70,code=sm_70  -lineinfo --expt-extended-lambda -use_fast_math -Xptxas=-w  --expt-extended-lambda -gencode arch=compute_75,code=sm_75  -lineinfo --expt-extended-lambda -use_fast_math -Xptxas=-w  --expt-extended-lambda -gencode arch=compute_80,code=sm_80  -lineinfo --expt-extended-lambda -use_fast_math -Xptxas=-w  --expt-extended-lambda -gencode arch=compute_86,code=sm_86 -DONNX_NAMESPACE=onnx_c2 -gencode arch=compute_35,code=sm_35 -gencode arch=compute_50,code=sm_50 -gencode arch=compute_52,code=sm_52 -gencode arch=compute_60,code=sm_60 -gencode arch=compute_61,code=sm_61 -gencode arch=compute_70,code=sm_70 -gencode arch=compute_75,code=sm_75 -gencode arch=compute_80,code=sm_80 -gencode arch=compute_86,code=sm_86 -gencode arch=compute_86,code=compute_86 -Xcudafe --diag_suppress=cc_clobber_ignored,--diag_suppress=integer_sign_change,--diag_suppress=useless_using_declaration,--diag_suppress=set_but_not_used,--diag_suppress=field_without_dll_interface,--diag_suppress=base_class_has_different_dll_interface,--diag_suppress=dll_interface_conflict_none_assumed,--diag_suppress=dll_interface_conflict_dllexport_assumed,--diag_suppress=implicit_return_from_non_void_function,--diag_suppress=unsigned_compare_with_zero,--diag_suppress=declared_but_not_referenced,--diag_suppress=bad_friend_decl --expt-relaxed-constexpr --expt-extended-lambda -D_GLIBCXX_USE_CXX11_ABI=0 --compiler-options -Wall  --compiler-options -Wno-strict-overflow  --compiler-options -Wno-unknown-pragmas \n",
            "CMAKE_CXX_FLAGS:  -D_GLIBCXX_USE_CXX11_ABI=0 -Wno-unused-variable  -Wno-strict-overflow \n",
            "PyTorch version used to build k2: 1.13.1+cu117\n",
            "PyTorch is using Cuda: 11.7\n",
            "NVTX enabled: True\n",
            "With CUDA: True\n",
            "Disable debug: True\n",
            "Sync kernels : False\n",
            "Disable checks: False\n",
            "Max cpu memory allocate: 214748364800 bytes (or 200.0 GB)\n",
            "k2 abort: False\n",
            "__file__: /usr/local/lib/python3.10/dist-packages/k2-1.24.1.dev20230501+cuda11.7.torch1.13.1-py3.10-linux-x86_64.egg/k2/version/version.py\n",
            "_k2.__file__: /usr/local/lib/python3.10/dist-packages/k2-1.24.1.dev20230501+cuda11.7.torch1.13.1-py3.10-linux-x86_64.egg/_k2.cpython-310-x86_64-linux-gnu.so\n",
            "    \n"
          ]
        }
      ]
    },
    {
      "cell_type": "markdown",
      "source": [
        "### Install k2"
      ],
      "metadata": {
        "id": "2cWsdyNqP0bi"
      }
    },
    {
      "cell_type": "code",
      "source": [
        "! pip install torch==1.13.1\n",
        "! pip install torchaudio==0.13.1"
      ],
      "metadata": {
        "id": "mFlPZV2Y6msA",
        "outputId": "4d0f0979-27ce-4a8a-f1b3-988753524218",
        "colab": {
          "base_uri": "https://localhost:8080/"
        }
      },
      "execution_count": 14,
      "outputs": [
        {
          "output_type": "stream",
          "name": "stdout",
          "text": [
            "Looking in indexes: https://pypi.org/simple, https://us-python.pkg.dev/colab-wheels/public/simple/\n",
            "Collecting torch==1.13.1\n",
            "  Downloading torch-1.13.1-cp310-cp310-manylinux1_x86_64.whl (887.5 MB)\n",
            "\u001b[2K     \u001b[90m━━━━━━━━━━━━━━━━━━━━━━━━━━━━━━━━━━━━━━━\u001b[0m \u001b[32m887.5/887.5 MB\u001b[0m \u001b[31m2.4 MB/s\u001b[0m eta \u001b[36m0:00:00\u001b[0m\n",
            "\u001b[?25hCollecting nvidia-cuda-nvrtc-cu11==11.7.99\n",
            "  Downloading nvidia_cuda_nvrtc_cu11-11.7.99-2-py3-none-manylinux1_x86_64.whl (21.0 MB)\n",
            "\u001b[2K     \u001b[90m━━━━━━━━━━━━━━━━━━━━━━━━━━━━━━━━━━━━━━━━\u001b[0m \u001b[32m21.0/21.0 MB\u001b[0m \u001b[31m66.9 MB/s\u001b[0m eta \u001b[36m0:00:00\u001b[0m\n",
            "\u001b[?25hRequirement already satisfied: typing-extensions in /usr/local/lib/python3.10/dist-packages (from torch==1.13.1) (4.5.0)\n",
            "Collecting nvidia-cuda-runtime-cu11==11.7.99\n",
            "  Downloading nvidia_cuda_runtime_cu11-11.7.99-py3-none-manylinux1_x86_64.whl (849 kB)\n",
            "\u001b[2K     \u001b[90m━━━━━━━━━━━━━━━━━━━━━━━━━━━━━━━━━━━━━━\u001b[0m \u001b[32m849.3/849.3 kB\u001b[0m \u001b[31m60.8 MB/s\u001b[0m eta \u001b[36m0:00:00\u001b[0m\n",
            "\u001b[?25hCollecting nvidia-cublas-cu11==11.10.3.66\n",
            "  Downloading nvidia_cublas_cu11-11.10.3.66-py3-none-manylinux1_x86_64.whl (317.1 MB)\n",
            "\u001b[2K     \u001b[90m━━━━━━━━━━━━━━━━━━━━━━━━━━━━━━━━━━━━━━━\u001b[0m \u001b[32m317.1/317.1 MB\u001b[0m \u001b[31m4.7 MB/s\u001b[0m eta \u001b[36m0:00:00\u001b[0m\n",
            "\u001b[?25hCollecting nvidia-cudnn-cu11==8.5.0.96\n",
            "  Downloading nvidia_cudnn_cu11-8.5.0.96-2-py3-none-manylinux1_x86_64.whl (557.1 MB)\n",
            "\u001b[2K     \u001b[90m━━━━━━━━━━━━━━━━━━━━━━━━━━━━━━━━━━━━━━━\u001b[0m \u001b[32m557.1/557.1 MB\u001b[0m \u001b[31m3.6 MB/s\u001b[0m eta \u001b[36m0:00:00\u001b[0m\n",
            "\u001b[?25hRequirement already satisfied: wheel in /usr/local/lib/python3.10/dist-packages (from nvidia-cublas-cu11==11.10.3.66->torch==1.13.1) (0.40.0)\n",
            "Requirement already satisfied: setuptools in /usr/local/lib/python3.10/dist-packages (from nvidia-cublas-cu11==11.10.3.66->torch==1.13.1) (67.7.2)\n",
            "Installing collected packages: nvidia-cuda-runtime-cu11, nvidia-cuda-nvrtc-cu11, nvidia-cublas-cu11, nvidia-cudnn-cu11, torch\n",
            "  Attempting uninstall: torch\n",
            "    Found existing installation: torch 2.0.0+cu118\n",
            "    Uninstalling torch-2.0.0+cu118:\n",
            "      Successfully uninstalled torch-2.0.0+cu118\n",
            "\u001b[31mERROR: pip's dependency resolver does not currently take into account all the packages that are installed. This behaviour is the source of the following dependency conflicts.\n",
            "torchvision 0.15.1+cu118 requires torch==2.0.0, but you have torch 1.13.1 which is incompatible.\n",
            "torchtext 0.15.1 requires torch==2.0.0, but you have torch 1.13.1 which is incompatible.\n",
            "torchdata 0.6.0 requires torch==2.0.0, but you have torch 1.13.1 which is incompatible.\n",
            "torchaudio 2.0.1+cu118 requires torch==2.0.0, but you have torch 1.13.1 which is incompatible.\u001b[0m\u001b[31m\n",
            "\u001b[0mSuccessfully installed nvidia-cublas-cu11-11.10.3.66 nvidia-cuda-nvrtc-cu11-11.7.99 nvidia-cuda-runtime-cu11-11.7.99 nvidia-cudnn-cu11-8.5.0.96 torch-1.13.1\n",
            "Looking in indexes: https://pypi.org/simple, https://us-python.pkg.dev/colab-wheels/public/simple/\n",
            "Collecting torchaudio==0.13.1\n",
            "  Downloading torchaudio-0.13.1-cp310-cp310-manylinux1_x86_64.whl (4.2 MB)\n",
            "\u001b[2K     \u001b[90m━━━━━━━━━━━━━━━━━━━━━━━━━━━━━━━━━━━━━━━━\u001b[0m \u001b[32m4.2/4.2 MB\u001b[0m \u001b[31m39.3 MB/s\u001b[0m eta \u001b[36m0:00:00\u001b[0m\n",
            "\u001b[?25hRequirement already satisfied: torch==1.13.1 in /usr/local/lib/python3.10/dist-packages (from torchaudio==0.13.1) (1.13.1)\n",
            "Requirement already satisfied: nvidia-cuda-nvrtc-cu11==11.7.99 in /usr/local/lib/python3.10/dist-packages (from torch==1.13.1->torchaudio==0.13.1) (11.7.99)\n",
            "Requirement already satisfied: typing-extensions in /usr/local/lib/python3.10/dist-packages (from torch==1.13.1->torchaudio==0.13.1) (4.5.0)\n",
            "Requirement already satisfied: nvidia-cublas-cu11==11.10.3.66 in /usr/local/lib/python3.10/dist-packages (from torch==1.13.1->torchaudio==0.13.1) (11.10.3.66)\n",
            "Requirement already satisfied: nvidia-cudnn-cu11==8.5.0.96 in /usr/local/lib/python3.10/dist-packages (from torch==1.13.1->torchaudio==0.13.1) (8.5.0.96)\n",
            "Requirement already satisfied: nvidia-cuda-runtime-cu11==11.7.99 in /usr/local/lib/python3.10/dist-packages (from torch==1.13.1->torchaudio==0.13.1) (11.7.99)\n",
            "Requirement already satisfied: setuptools in /usr/local/lib/python3.10/dist-packages (from nvidia-cublas-cu11==11.10.3.66->torch==1.13.1->torchaudio==0.13.1) (67.7.2)\n",
            "Requirement already satisfied: wheel in /usr/local/lib/python3.10/dist-packages (from nvidia-cublas-cu11==11.10.3.66->torch==1.13.1->torchaudio==0.13.1) (0.40.0)\n",
            "Installing collected packages: torchaudio\n",
            "  Attempting uninstall: torchaudio\n",
            "    Found existing installation: torchaudio 2.0.1+cu118\n",
            "    Uninstalling torchaudio-2.0.1+cu118:\n",
            "      Successfully uninstalled torchaudio-2.0.1+cu118\n",
            "Successfully installed torchaudio-0.13.1\n"
          ]
        }
      ]
    },
    {
      "cell_type": "code",
      "source": [
        "#! pip install k2==1.17"
      ],
      "metadata": {
        "id": "V9wJjvDF63JZ",
        "outputId": "aa9b0790-196c-4e5d-f37d-0790ef8e93a1",
        "colab": {
          "base_uri": "https://localhost:8080/"
        }
      },
      "execution_count": 8,
      "outputs": [
        {
          "output_type": "stream",
          "name": "stdout",
          "text": [
            "Looking in indexes: https://pypi.org/simple, https://us-python.pkg.dev/colab-wheels/public/simple/\n",
            "Collecting k2==1.17\n",
            "  Using cached k2-1.17-py38-none-any.whl (72.7 MB)\n",
            "Requirement already satisfied: graphviz in /usr/local/lib/python3.10/dist-packages (from k2==1.17) (0.20.1)\n",
            "\u001b[31mERROR: Could not find a version that satisfies the requirement torch==1.7.1 (from k2) (from versions: 1.11.0, 1.12.0, 1.12.1, 1.13.0, 1.13.1, 2.0.0)\u001b[0m\u001b[31m\n",
            "\u001b[0m\u001b[31mERROR: No matching distribution found for torch==1.7.1\u001b[0m\u001b[31m\n",
            "\u001b[0m"
          ]
        }
      ]
    },
    {
      "cell_type": "code",
      "source": [
        "#! pip install k2==1.10.dev20211102+cuda10.1.torch1.7.1 -f https://k2-fsa.org/nightly"
      ],
      "metadata": {
        "colab": {
          "base_uri": "https://localhost:8080/"
        },
        "id": "FLw2IDOUO_Ce",
        "outputId": "e52f2b53-6785-4c9a-eef1-f366e7c8fd62"
      },
      "execution_count": 27,
      "outputs": [
        {
          "output_type": "stream",
          "name": "stdout",
          "text": [
            "Looking in indexes: https://pypi.org/simple, https://us-python.pkg.dev/colab-wheels/public/simple/\n",
            "Looking in links: https://k2-fsa.org/nightly\n",
            "\u001b[31mERROR: Could not find a version that satisfies the requirement k2==1.10.dev20211102+cuda10.1.torch1.7.1 (from versions: 0.0.1.dev0, 0.0.2.dev0, 0.0.3.dev20201019, 0.0.3.dev20201020, 0.0.3.dev20201025, 0.0.3.dev20201027, 0.0.4.dev20201027, 0.0.5.dev20201027, 0.0.5.dev20201028, 0.0.6.dev20201028, 0.0.7.dev20201028, 0.0.9.dev20201109, 0.0.10.dev20201110, 0.1, 0.1.1.dev20201116, 0.1.1.dev20201118, 0.1.1.dev20201130, 0.1.1.dev20201208, 0.1.1.dev20201210, 0.1.1.dev20201212, 0.1.1.dev20201216, 0.1.2.dev20210111, 0.1.2, 0.1.3.dev20210111, 0.3.0, 0.3.1.dev20210121, 0.3.1.dev20210127, 0.3.1.dev20210204, 0.3.2.dev20210204, 0.3.3.dev20210205, 0.3.3.dev20210206, 0.3.3.dev20210209, 0.3.3.dev20210218, 0.3.3.dev20210222, 0.3.3.dev20210224, 0.3.3.dev20210302, 0.3.3.dev20210305, 0.3.3.dev20210309, 0.3.3.dev20210321, 0.3.3.dev20210328, 0.3.3.dev20210331, 0.3.3.dev20210409, 0.3.3.dev20210411, 0.3.3.dev20210415, 0.3.3.dev20210421, 0.3.3.dev20210425, 0.3.3.dev20210426, 0.3.3.dev20210501, 0.3.4.dev20210511, 0.3.4.dev20210512, 0.3.4.dev20210515, 0.3.5.dev20210605, 0.3.5.dev20210606, 0.3.5.dev20210608, 0.3.5, 1.0.dev20210617, 1.0.dev20210619, 1.0, 1.1.dev20210706, 1.1, 1.2, 1.3, 1.4, 1.5, 1.6, 1.7, 1.8, 1.9.dev20211024, 1.9, 1.10, 1.11, 1.12, 1.13.dev20220315+cpu.torch1.11.0, 1.13, 1.14.dev20220316+cpu.torch1.11.0, 1.14.dev20220318+cpu.torch1.11.0, 1.14.dev20220319+cpu.torch1.11.0, 1.14.dev20220320+cpu.torch1.11.0, 1.14.dev20220321+cpu.torch1.11.0, 1.14.dev20220322+cpu.torch1.11.0, 1.14.dev20220323+cpu.torch1.11.0, 1.14.dev20220324+cpu.torch1.11.0, 1.14.dev20220325+cpu.torch1.11.0, 1.14.dev20220326+cpu.torch1.11.0, 1.14.dev20220327+cpu.torch1.11.0, 1.14.dev20220329+cpu.torch1.11.0, 1.14.dev20220330+cpu.torch1.11.0, 1.14.dev20220331+cpu.torch1.11.0, 1.14.dev20220401+cpu.torch1.11.0, 1.14.dev20220402+cpu.torch1.11.0, 1.14.dev20220403+cpu.torch1.11.0, 1.14.dev20220404+cpu.torch1.11.0, 1.14.dev20220405+cpu.torch1.11.0, 1.14.dev20220406+cpu.torch1.11.0, 1.14.dev20220408+cpu.torch1.11.0, 1.14.dev20220409+cpu.torch1.11.0, 1.14.dev20220412+cpu.torch1.11.0, 1.14.dev20220413+cpu.torch1.11.0, 1.14.dev20220414+cpu.torch1.11.0, 1.14, 1.15, 1.15.1.dev20220419+cpu.torch1.11.0, 1.15.1.dev20220422+cpu.torch1.11.0, 1.15.1.dev20220427+cpu.torch1.11.0, 1.15.1.dev20220511+cpu.torch1.11.0, 1.15.1.dev20220527+cpu.torch1.11.0, 1.15.1.dev20220605+cpu.torch1.11.0, 1.15.1.dev20220617+cpu.torch1.11.0, 1.15.1, 1.16.dev20220621+cpu.torch1.11.0, 1.16.dev20220622+cpu.torch1.11.0, 1.16, 1.17.dev20220707+cpu.torch1.11.0, 1.17.dev20220707+cpu.torch1.12.0, 1.17.dev20220708+cpu.torch1.11.0, 1.17.dev20220708+cpu.torch1.12.0, 1.17.dev20220709+cpu.torch1.11.0, 1.17.dev20220709+cpu.torch1.12.0, 1.17.dev20220710+cpu.torch1.11.0, 1.17.dev20220710+cpu.torch1.12.0, 1.17.dev20220714+cpu.torch1.11.0, 1.17.dev20220714+cpu.torch1.12.0, 1.17.dev20220716+cpu.torch1.11.0, 1.17.dev20220716+cpu.torch1.12.0, 1.17.dev20220719+cpu.torch1.11.0, 1.17.dev20220719+cpu.torch1.12.0, 1.17.dev20220726+cpu.torch1.11.0, 1.17.dev20220726+cpu.torch1.12.0, 1.17.dev20220803+cpu.torch1.11.0, 1.17.dev20220803+cpu.torch1.12.0, 1.17.dev20220808+cpu.torch1.11.0, 1.17.dev20220808+cpu.torch1.12.0, 1.17.dev20220813+cpu.torch1.11.0, 1.17.dev20220813+cpu.torch1.12.0, 1.17, 1.18.dev20220816+cpu.torch1.11.0, 1.18.dev20220816+cpu.torch1.12.0, 1.18.dev20220817+cpu.torch1.11.0, 1.18.dev20220817+cpu.torch1.12.0, 1.18.dev20220817+cpu.torch1.12.1, 1.18.dev20220818+cpu.torch1.11.0, 1.18.dev20220818+cpu.torch1.12.0, 1.18.dev20220818+cpu.torch1.12.1, 1.18.dev20220821+cpu.torch1.11.0, 1.18.dev20220821+cpu.torch1.12.0, 1.18.dev20220821+cpu.torch1.12.1, 1.18.dev20220823+cpu.torch1.11.0, 1.18.dev20220823+cpu.torch1.12.0, 1.18.dev20220823+cpu.torch1.12.1, 1.18, 1.19.dev20220824+cpu.torch1.11.0, 1.19.dev20220824+cpu.torch1.12.0, 1.19.dev20220824+cpu.torch1.12.1, 1.19.dev20220829+cpu.torch1.11.0, 1.19.dev20220829+cpu.torch1.12.0, 1.19.dev20220829+cpu.torch1.12.1, 1.19.dev20220901+cpu.torch1.11.0, 1.19.dev20220901+cpu.torch1.12.0, 1.19.dev20220901+cpu.torch1.12.1, 1.19.dev20220917+cpu.torch1.11.0, 1.19.dev20220917+cpu.torch1.12.0, 1.19.dev20220917+cpu.torch1.12.1, 1.19.dev20220918+cpu.torch1.11.0, 1.19.dev20220918+cpu.torch1.12.0, 1.19.dev20220918+cpu.torch1.12.1, 1.19.dev20220921+cpu.torch1.11.0, 1.19.dev20220921+cpu.torch1.12.0, 1.19.dev20220921+cpu.torch1.12.1, 1.19.dev20220922+cpu.torch1.11.0, 1.19.dev20220922+cpu.torch1.12.0, 1.19.dev20220922+cpu.torch1.12.1, 1.19, 1.21.dev20221008+cpu.torch1.11.0, 1.21.dev20221008+cpu.torch1.12.0, 1.21.dev20221008+cpu.torch1.12.1, 1.21.dev20221008+cuda10.2.torch1.12.1, 1.21.dev20221008+cuda11.3.torch1.12.1, 1.21.dev20221008+cuda11.6.torch1.12.1, 1.21.dev20221010+cpu.torch1.11.0, 1.21.dev20221010+cpu.torch1.12.0, 1.21.dev20221010+cpu.torch1.12.1, 1.21.dev20221010+cuda10.2.torch1.12.1, 1.21.dev20221010+cuda11.3.torch1.12.1, 1.21.dev20221010+cuda11.6.torch1.12.1, 1.21.dev20221015+cpu.torch1.11.0, 1.21.dev20221015+cpu.torch1.12.0, 1.21.dev20221015+cpu.torch1.12.1, 1.21.dev20221015+cuda10.2.torch1.12.1, 1.21.dev20221015+cuda11.3.torch1.12.1, 1.21.dev20221015+cuda11.6.torch1.12.1, 1.21.dev20221018+cpu.torch1.12.0, 1.21.dev20221018+cpu.torch1.12.1, 1.21.dev20221018+cuda10.2.torch1.12.1, 1.21.dev20221018+cuda11.3.torch1.12.1, 1.21.dev20221018+cuda11.6.torch1.12.1, 1.21.dev20221027+cuda10.2.torch1.12.1, 1.21.dev20221028+cpu.torch1.11.0, 1.21.dev20221028+cpu.torch1.12.0, 1.21.dev20221028+cpu.torch1.12.1, 1.21.dev20221028+cuda10.2.torch1.12.1, 1.21.dev20221028+cuda11.3.torch1.12.1, 1.21.dev20221028+cuda11.6.torch1.12.1, 1.21.dev20221029+cpu.torch1.11.0, 1.21.dev20221029+cpu.torch1.12.0, 1.21.dev20221029+cpu.torch1.12.1, 1.21.dev20221029+cuda11.3.torch1.12.1, 1.21.dev20221029+cuda11.6.torch1.12.1, 1.21.dev20221030+cuda10.2.torch1.12.1, 1.21.dev20221030+cuda11.3.torch1.12.1, 1.21.dev20221030+cuda11.6.torch1.12.1, 1.21.dev20221031+cpu.torch1.11.0, 1.21.dev20221031+cpu.torch1.12.0, 1.21.dev20221031+cpu.torch1.12.1, 1.21.dev20221101+cpu.torch1.11.0, 1.21.dev20221101+cpu.torch1.12.0, 1.21.dev20221101+cpu.torch1.12.1, 1.21.dev20221101+cpu.torch1.13.0, 1.21.dev20221101+cuda11.6.torch1.13.0, 1.21.dev20221101+cuda11.7.torch1.13.0, 1.21.dev20221104+cpu.torch1.11.0, 1.21.dev20221104+cpu.torch1.12.0, 1.21.dev20221104+cpu.torch1.12.1, 1.21.dev20221104+cpu.torch1.13.0, 1.21.dev20221104+cuda11.6.torch1.13.0, 1.21.dev20221104+cuda11.7.torch1.13.0, 1.21.dev20221105+cpu.torch1.11.0, 1.21.dev20221105+cpu.torch1.12.0, 1.21.dev20221105+cpu.torch1.12.1, 1.21.dev20221105+cpu.torch1.13.0, 1.21.dev20221105+cuda11.6.torch1.13.0, 1.21.dev20221105+cuda11.7.torch1.13.0, 1.21.dev20221107+cuda11.6.torch1.13.0, 1.21.dev20221107+cuda11.7.torch1.13.0, 1.21.dev20221108+cpu.torch1.11.0, 1.21.dev20221108+cpu.torch1.12.0, 1.21.dev20221108+cpu.torch1.12.1, 1.21.dev20221108+cpu.torch1.13.0, 1.21.dev20221109+cuda11.6.torch1.13.0, 1.21.dev20221109+cuda11.7.torch1.13.0, 1.21.dev20221110+cpu.torch1.11.0, 1.21.dev20221110+cpu.torch1.12.0, 1.21.dev20221110+cpu.torch1.12.1, 1.21.dev20221110+cpu.torch1.13.0, 1.22.dev20221111+cuda11.6.torch1.13.0, 1.22.dev20221111+cuda11.7.torch1.13.0, 1.22.dev20221112+cpu.torch1.11.0, 1.22.dev20221112+cpu.torch1.12.0, 1.22.dev20221112+cpu.torch1.12.1, 1.22.dev20221112+cpu.torch1.13.0, 1.22.dev20221115+cuda11.6.torch1.13.0, 1.22.dev20221115+cuda11.7.torch1.13.0, 1.22.dev20221116+cpu.torch1.11.0, 1.22.dev20221116+cpu.torch1.12.0, 1.22.dev20221116+cpu.torch1.12.1, 1.22.dev20221116+cpu.torch1.13.0, 1.22.dev20221116+cuda11.6.torch1.13.0, 1.22.dev20221116+cuda11.7.torch1.13.0, 1.22.dev20221117+cpu.torch1.11.0, 1.22.dev20221117+cpu.torch1.12.0, 1.22.dev20221117+cpu.torch1.12.1, 1.22.dev20221117+cpu.torch1.13.0, 1.22.dev20221117+cuda11.6.torch1.13.0, 1.22.dev20221117+cuda11.7.torch1.13.0, 1.22.dev20221118+cpu.torch1.11.0, 1.22.dev20221118+cpu.torch1.12.0, 1.22.dev20221118+cpu.torch1.12.1, 1.22.dev20221118+cpu.torch1.13.0, 1.22, 1.23.dev20221124+cuda11.6.torch1.13.0, 1.23.dev20221124+cuda11.7.torch1.13.0, 1.23.1, 1.23.2.dev20221127+cpu.torch1.11.0, 1.23.2.dev20221127+cpu.torch1.12.0, 1.23.2.dev20221127+cpu.torch1.12.1, 1.23.2.dev20221127+cpu.torch1.13.0, 1.23.2.dev20221127+cuda11.6.torch1.13.0, 1.23.2.dev20221127+cuda11.7.torch1.13.0, 1.23.2.dev20221128+cpu.torch1.11.0, 1.23.2.dev20221128+cpu.torch1.12.0, 1.23.2.dev20221128+cpu.torch1.12.1, 1.23.2.dev20221128+cpu.torch1.13.0, 1.23.2.dev20221129+cpu.torch1.11.0, 1.23.2.dev20221129+cpu.torch1.12.0, 1.23.2.dev20221129+cpu.torch1.12.1, 1.23.2.dev20221129+cpu.torch1.13.0, 1.23.2.dev20221129+cuda11.6.torch1.13.0, 1.23.2.dev20221129+cuda11.7.torch1.13.0, 1.23.2.dev20221130+cuda11.6.torch1.13.0, 1.23.2.dev20221130+cuda11.7.torch1.13.0, 1.23.2.dev20221201+cpu.torch1.11.0, 1.23.2.dev20221201+cpu.torch1.12.0, 1.23.2.dev20221201+cpu.torch1.12.1, 1.23.2.dev20221201+cpu.torch1.13.0, 1.23.2.dev20221202+cuda11.6.torch1.13.0, 1.23.2.dev20221202+cuda11.7.torch1.13.0, 1.23.2.dev20221203+cpu.torch1.11.0, 1.23.2.dev20221203+cpu.torch1.12.0, 1.23.2.dev20221203+cpu.torch1.12.1, 1.23.2.dev20221203+cpu.torch1.13.0, 1.23.2.dev20221205+cuda11.6.torch1.13.0, 1.23.2.dev20221205+cuda11.7.torch1.13.0, 1.23.2.dev20221206+cpu.torch1.11.0, 1.23.2.dev20221206+cpu.torch1.12.0, 1.23.2.dev20221206+cpu.torch1.12.1, 1.23.2.dev20221206+cpu.torch1.13.0, 1.23.2.dev20221214+cpu.torch1.11.0, 1.23.2.dev20221214+cpu.torch1.12.0, 1.23.2.dev20221214+cpu.torch1.12.1, 1.23.2.dev20221214+cpu.torch1.13.0, 1.23.2.dev20221214+cuda11.6.torch1.13.0, 1.23.2.dev20221214+cuda11.7.torch1.13.0, 1.23.2.dev20221229+cuda11.6.torch1.13.0, 1.23.2.dev20221229+cuda11.7.torch1.13.0, 1.23.2.dev20221230+cpu.torch1.11.0, 1.23.2.dev20221230+cpu.torch1.12.0, 1.23.2.dev20221230+cpu.torch1.12.1, 1.23.2.dev20221230+cpu.torch1.13.0, 1.23.2.dev20230104+cuda11.6.torch1.13.0, 1.23.2.dev20230104+cuda11.7.torch1.13.0, 1.23.2.dev20230105+cpu.torch1.11.0, 1.23.2.dev20230105+cpu.torch1.12.0, 1.23.2.dev20230105+cpu.torch1.12.1, 1.23.2.dev20230105+cpu.torch1.13.0, 1.23.2, 1.23.3.dev20230105+cuda11.6.torch1.13.1, 1.23.3.dev20230105+cuda11.7.torch1.13.1, 1.23.3.dev20230106+cpu.torch1.11.0, 1.23.3.dev20230106+cpu.torch1.12.0, 1.23.3.dev20230106+cpu.torch1.12.1, 1.23.3.dev20230106+cpu.torch1.13.0, 1.23.3.dev20230106+cpu.torch1.13.1, 1.23.3.dev20230110+cuda11.6.torch1.13.1, 1.23.3.dev20230110+cuda11.7.torch1.13.1, 1.23.3.dev20230111+cpu.torch1.11.0, 1.23.3.dev20230111+cpu.torch1.12.0, 1.23.3.dev20230111+cpu.torch1.12.1, 1.23.3.dev20230111+cpu.torch1.13.0, 1.23.3.dev20230111+cpu.torch1.13.1, 1.23.3.dev20230111+cuda11.6.torch1.13.1, 1.23.3.dev20230111+cuda11.7.torch1.13.1, 1.23.3.dev20230112+cpu.torch1.11.0, 1.23.3.dev20230112+cpu.torch1.12.0, 1.23.3.dev20230112+cpu.torch1.12.1, 1.23.3.dev20230112+cpu.torch1.13.0, 1.23.3.dev20230112+cpu.torch1.13.1, 1.23.3.dev20230115+cuda11.6.torch1.13.1, 1.23.3.dev20230115+cuda11.7.torch1.13.1, 1.23.3.dev20230116+cpu.torch1.11.0, 1.23.3.dev20230116+cpu.torch1.12.0, 1.23.3.dev20230116+cpu.torch1.12.1, 1.23.3.dev20230116+cpu.torch1.13.0, 1.23.3.dev20230116+cpu.torch1.13.1, 1.23.3.dev20230117+cuda11.6.torch1.13.1, 1.23.3.dev20230117+cuda11.7.torch1.13.1, 1.23.3.dev20230118+cpu.torch1.11.0, 1.23.3.dev20230118+cpu.torch1.12.0, 1.23.3.dev20230118+cpu.torch1.12.1, 1.23.3.dev20230118+cpu.torch1.13.0, 1.23.3.dev20230118+cpu.torch1.13.1, 1.23.3.dev20230127+cpu.torch1.11.0, 1.23.3.dev20230127+cpu.torch1.12.0, 1.23.3.dev20230127+cpu.torch1.12.1, 1.23.3.dev20230127+cpu.torch1.13.0, 1.23.3.dev20230127+cpu.torch1.13.1, 1.23.3.dev20230127+cuda11.6.torch1.13.1, 1.23.3.dev20230127+cuda11.7.torch1.13.1, 1.23.3.dev20230129+cuda11.6.torch1.13.1, 1.23.3.dev20230129+cuda11.7.torch1.13.1, 1.23.3.dev20230130+cpu.torch1.11.0, 1.23.3.dev20230130+cpu.torch1.12.0, 1.23.3.dev20230130+cpu.torch1.12.1, 1.23.3.dev20230130+cpu.torch1.13.0, 1.23.3.dev20230130+cpu.torch1.13.1, 1.23.3, 1.23.4.dev20230201+cuda11.6.torch1.13.1, 1.23.4.dev20230201+cuda11.7.torch1.13.1, 1.23.4.dev20230202+cpu.torch1.11.0, 1.23.4.dev20230202+cpu.torch1.12.0, 1.23.4.dev20230202+cpu.torch1.12.1, 1.23.4.dev20230202+cpu.torch1.13.0, 1.23.4.dev20230202+cpu.torch1.13.1, 1.23.4.dev20230205+cuda11.6.torch1.13.1, 1.23.4.dev20230205+cuda11.7.torch1.13.1, 1.23.4.dev20230206+cpu.torch1.11.0, 1.23.4.dev20230206+cpu.torch1.12.0, 1.23.4.dev20230206+cpu.torch1.12.1, 1.23.4.dev20230206+cpu.torch1.13.0, 1.23.4.dev20230206+cpu.torch1.13.1, 1.23.4.dev20230217+cuda11.6.torch1.13.1, 1.23.4.dev20230217+cuda11.7.torch1.13.1, 1.23.4.dev20230218+cpu.torch1.11.0, 1.23.4.dev20230218+cpu.torch1.12.0, 1.23.4.dev20230218+cpu.torch1.12.1, 1.23.4.dev20230218+cpu.torch1.13.0, 1.23.4.dev20230218+cpu.torch1.13.1, 1.23.4.dev20230222+cuda11.6.torch1.13.1, 1.23.4.dev20230222+cuda11.7.torch1.13.1, 1.23.4.dev20230223+cpu.torch1.11.0, 1.23.4.dev20230223+cpu.torch1.12.0, 1.23.4.dev20230223+cpu.torch1.12.1, 1.23.4.dev20230223+cpu.torch1.13.0, 1.23.4.dev20230223+cpu.torch1.13.1, 1.23.4.dev20230228+cuda11.6.torch1.13.1, 1.23.4.dev20230228+cuda11.7.torch1.13.1, 1.23.4.dev20230301+cpu.torch1.11.0, 1.23.4.dev20230301+cpu.torch1.12.0, 1.23.4.dev20230301+cpu.torch1.12.1, 1.23.4.dev20230301+cpu.torch1.13.0, 1.23.4.dev20230301+cpu.torch1.13.1, 1.23.4.dev20230316+cuda11.6.torch1.13.1, 1.23.4.dev20230316+cuda11.7.torch1.13.1, 1.23.4.dev20230317+cpu.torch1.11.0, 1.23.4.dev20230317+cpu.torch1.12.0, 1.23.4.dev20230317+cpu.torch1.12.1, 1.23.4.dev20230317+cpu.torch1.13.0, 1.23.4.dev20230317+cpu.torch1.13.1, 1.23.4.dev20230318+cuda11.6.torch1.13.1, 1.23.4.dev20230318+cuda11.7.torch1.13.1, 1.23.4.dev20230319+cpu.torch1.11.0, 1.23.4.dev20230319+cpu.torch1.12.0, 1.23.4.dev20230319+cpu.torch1.12.1, 1.23.4.dev20230319+cpu.torch1.13.0, 1.23.4.dev20230319+cpu.torch1.13.1, 1.23.4)\u001b[0m\u001b[31m\n",
            "\u001b[0m\u001b[31mERROR: No matching distribution found for k2==1.10.dev20211102+cuda10.1.torch1.7.1\u001b[0m\u001b[31m\n",
            "\u001b[0m"
          ]
        }
      ]
    },
    {
      "cell_type": "markdown",
      "source": [
        "Check that k2 was installed successfully:"
      ],
      "metadata": {
        "id": "SJC8l1LAP5Rt"
      }
    },
    {
      "cell_type": "code",
      "source": [
        "! git clone https://github.com/k2-fsa/k2.git"
      ],
      "metadata": {
        "colab": {
          "base_uri": "https://localhost:8080/"
        },
        "id": "OYmPnbD5vjBq",
        "outputId": "d24720e8-8b7e-4ed6-cc13-8a99bd9fcd28"
      },
      "execution_count": 15,
      "outputs": [
        {
          "output_type": "stream",
          "name": "stdout",
          "text": [
            "Cloning into 'k2'...\n",
            "remote: Enumerating objects: 14195, done.\u001b[K\n",
            "remote: Counting objects: 100% (467/467), done.\u001b[K\n",
            "remote: Compressing objects: 100% (125/125), done.\u001b[K\n",
            "remote: Total 14195 (delta 349), reused 450 (delta 341), pack-reused 13728\u001b[K\n",
            "Receiving objects: 100% (14195/14195), 15.38 MiB | 28.07 MiB/s, done.\n",
            "Resolving deltas: 100% (9920/9920), done.\n"
          ]
        }
      ]
    },
    {
      "cell_type": "code",
      "source": [
        "!cd /content/k2 && \\\n",
        "  export K2_MAKE_ARGS=\"-j6\" && \\\n",
        "  python3 setup.py install"
      ],
      "metadata": {
        "colab": {
          "base_uri": "https://localhost:8080/"
        },
        "id": "r_1JK3TDvpdk",
        "outputId": "6561111d-9301-4172-d140-bc533ffe9c39"
      },
      "execution_count": 16,
      "outputs": [
        {
          "output_type": "stream",
          "name": "stdout",
          "text": [
            "running install\n",
            "/usr/lib/python3.10/distutils/cmd.py:62: SetuptoolsDeprecationWarning: setup.py install is deprecated.\n",
            "!!\n",
            "\n",
            "        ********************************************************************************\n",
            "        Please avoid running ``setup.py`` directly.\n",
            "        Instead, use pypa/build, pypa/installer, pypa/build or\n",
            "        other standards-based tools.\n",
            "\n",
            "        See https://blog.ganssle.io/articles/2021/10/setup-py-deprecated.html for details.\n",
            "        ********************************************************************************\n",
            "\n",
            "!!\n",
            "  self.initialize_options()\n",
            "/usr/lib/python3.10/distutils/cmd.py:62: EasyInstallDeprecationWarning: easy_install command is deprecated.\n",
            "!!\n",
            "\n",
            "        ********************************************************************************\n",
            "        Please avoid running ``setup.py`` and ``easy_install``.\n",
            "        Instead, use pypa/build, pypa/installer, pypa/build or\n",
            "        other standards-based tools.\n",
            "\n",
            "        See https://github.com/pypa/setuptools/issues/917 for details.\n",
            "        ********************************************************************************\n",
            "\n",
            "!!\n",
            "  self.initialize_options()\n",
            "running bdist_egg\n",
            "running egg_info\n",
            "creating k2.egg-info\n",
            "writing k2.egg-info/PKG-INFO\n",
            "writing dependency_links to k2.egg-info/dependency_links.txt\n",
            "writing requirements to k2.egg-info/requires.txt\n",
            "writing top-level names to k2.egg-info/top_level.txt\n",
            "writing manifest file 'k2.egg-info/SOURCES.txt'\n",
            "reading manifest file 'k2.egg-info/SOURCES.txt'\n",
            "reading manifest template 'MANIFEST.in'\n",
            "adding license file 'LICENSE'\n",
            "writing manifest file 'k2.egg-info/SOURCES.txt'\n",
            "installing library code to build/bdist.linux-x86_64/egg\n",
            "running install_lib\n",
            "running build_py\n",
            "creating build\n",
            "creating build/lib.linux-x86_64-3.10\n",
            "creating build/lib.linux-x86_64-3.10/k2\n",
            "copying k2/python/k2/autograd_utils.py -> build/lib.linux-x86_64-3.10/k2\n",
            "copying k2/python/k2/symbol_table.py -> build/lib.linux-x86_64-3.10/k2\n",
            "copying k2/python/k2/utils.py -> build/lib.linux-x86_64-3.10/k2\n",
            "copying k2/python/k2/mwer_loss.py -> build/lib.linux-x86_64-3.10/k2\n",
            "copying k2/python/k2/online_dense_intersecter.py -> build/lib.linux-x86_64-3.10/k2\n",
            "copying k2/python/k2/fsa_properties.py -> build/lib.linux-x86_64-3.10/k2\n",
            "copying k2/python/k2/__init__.py -> build/lib.linux-x86_64-3.10/k2\n",
            "copying k2/python/k2/rnnt_loss.py -> build/lib.linux-x86_64-3.10/k2\n",
            "copying k2/python/k2/decode.py -> build/lib.linux-x86_64-3.10/k2\n",
            "copying k2/python/k2/ctc_loss.py -> build/lib.linux-x86_64-3.10/k2\n",
            "copying k2/python/k2/dense_fsa_vec.py -> build/lib.linux-x86_64-3.10/k2\n",
            "copying k2/python/k2/fsa_algo.py -> build/lib.linux-x86_64-3.10/k2\n",
            "copying k2/python/k2/mutual_information.py -> build/lib.linux-x86_64-3.10/k2\n",
            "copying k2/python/k2/autograd.py -> build/lib.linux-x86_64-3.10/k2\n",
            "copying k2/python/k2/nbest.py -> build/lib.linux-x86_64-3.10/k2\n",
            "copying k2/python/k2/ops.py -> build/lib.linux-x86_64-3.10/k2\n",
            "copying k2/python/k2/fsa.py -> build/lib.linux-x86_64-3.10/k2\n",
            "copying k2/python/k2/rnnt_decode.py -> build/lib.linux-x86_64-3.10/k2\n",
            "creating build/lib.linux-x86_64-3.10/k2/ragged\n",
            "copying k2/python/k2/ragged/__init__.py -> build/lib.linux-x86_64-3.10/k2/ragged\n",
            "creating build/lib.linux-x86_64-3.10/k2/sparse\n",
            "copying k2/python/k2/sparse/__init__.py -> build/lib.linux-x86_64-3.10/k2/sparse\n",
            "copying k2/python/k2/sparse/autograd.py -> build/lib.linux-x86_64-3.10/k2/sparse\n",
            "creating build/lib.linux-x86_64-3.10/k2/version\n",
            "copying k2/python/k2/version/__init__.py -> build/lib.linux-x86_64-3.10/k2/version\n",
            "copying k2/python/k2/version/__main__.py -> build/lib.linux-x86_64-3.10/k2/version\n",
            "copying k2/python/k2/version/version.py -> build/lib.linux-x86_64-3.10/k2/version\n",
            "running build_ext\n",
            "cmake_path: /usr/local/bin/cmake\n",
            "Setting PYTHON_EXECUTABLE to /usr/bin/python3\n",
            "build command is:\n",
            "\n",
            "                cd build/temp.linux-x86_64-3.10\n",
            "\n",
            "                cmake -DCMAKE_BUILD_TYPE=Release -DPYTHON_EXECUTABLE=/usr/bin/python3 -DK2_ENABLE_BENCHMARK=OFF  -DK2_ENABLE_TESTS=OFF  -DCMAKE_INSTALL_PREFIX=/content/k2/build/lib.linux-x86_64-3.10/k2  /content/k2\n",
            "\n",
            "                cat k2/csrc/version.h\n",
            "\n",
            "                make -j6 install\n",
            "            \n",
            "-- CMAKE_VERSION: 3.25.2\n",
            "-- Enabled languages: CXX;CUDA\n",
            "-- The CXX compiler identification is GNU 9.4.0\n",
            "-- The CUDA compiler identification is NVIDIA 11.7.99\n",
            "-- Detecting CXX compiler ABI info\n",
            "-- Detecting CXX compiler ABI info - done\n",
            "-- Check for working CXX compiler: /usr/bin/c++ - skipped\n",
            "-- Detecting CXX compile features\n",
            "-- Detecting CXX compile features - done\n",
            "-- Detecting CUDA compiler ABI info\n",
            "-- Detecting CUDA compiler ABI info - done\n",
            "-- Check for working CUDA compiler: /usr/local/cuda/bin/nvcc - skipped\n",
            "-- Detecting CUDA compile features\n",
            "-- Detecting CUDA compile features - done\n",
            "-- K2_OS: Ubuntu 20.04.5 LTS\n",
            "-- Found Git: /usr/bin/git (found version \"2.25.1\") \n",
            "-- Looking for C++ include cxxabi.h\n",
            "-- Looking for C++ include cxxabi.h - found\n",
            "-- Looking for C++ include execinfo.h\n",
            "-- Looking for C++ include execinfo.h - found\n",
            "-- Performing Test K2_COMPILER_SUPPORTS_CXX14\n",
            "-- Performing Test K2_COMPILER_SUPPORTS_CXX14 - Success\n",
            "-- C++ Standard version: 14\n",
            "-- Automatic GPU detection failed. Building for common architectures.\n",
            "-- Autodetected CUDA architecture(s): 3.5;5.0;5.2;6.0;6.1;7.0;7.5;8.0;8.6;8.6+PTX\n",
            "-- K2_COMPUTE_ARCH_FLAGS: -gencode;arch=compute_35,code=sm_35;-gencode;arch=compute_50,code=sm_50;-gencode;arch=compute_52,code=sm_52;-gencode;arch=compute_60,code=sm_60;-gencode;arch=compute_61,code=sm_61;-gencode;arch=compute_70,code=sm_70;-gencode;arch=compute_75,code=sm_75;-gencode;arch=compute_80,code=sm_80;-gencode;arch=compute_86,code=sm_86;-gencode;arch=compute_86,code=compute_86\n",
            "-- K2_COMPUTE_ARCH_CANDIDATES 35;50;60;61;70;75;80;86\n",
            "-- Adding arch 35\n",
            "-- Adding arch 50\n",
            "-- Adding arch 60\n",
            "-- Adding arch 61\n",
            "-- Adding arch 70\n",
            "-- Adding arch 75\n",
            "-- Adding arch 80\n",
            "-- Adding arch 86\n",
            "-- K2_COMPUTE_ARCHS: 35;50;60;61;70;75;80;86\n",
            "-- Could NOT find Valgrind (missing: Valgrind_INCLUDE_DIR Valgrind_EXECUTABLE) \n",
            "-- Downloading pybind11 from https://github.com/pybind/pybind11/archive/5bc0943ed96836f46489f53961f6c438d2935357.zip\n",
            "-- pybind11 is downloaded to /content/k2/build/temp.linux-x86_64-3.10/_deps/pybind11-src\n",
            "-- pybind11 v2.11.0 dev1\n",
            "-- Found PythonInterp: /usr/bin/python3 (found suitable version \"3.10.11\", minimum required is \"3.6\") \n",
            "-- Found PythonLibs: /usr/lib/x86_64-linux-gnu/libpython3.10.so\n",
            "-- Performing Test HAS_FLTO\n",
            "-- Performing Test HAS_FLTO - Success\n",
            "-- Python executable: /usr/bin/python3\n",
            "-- Performing Test CMAKE_HAVE_LIBC_PTHREAD\n",
            "-- Performing Test CMAKE_HAVE_LIBC_PTHREAD - Failed\n",
            "-- Looking for pthread_create in pthreads\n",
            "-- Looking for pthread_create in pthreads - not found\n",
            "-- Looking for pthread_create in pthread\n",
            "-- Looking for pthread_create in pthread - found\n",
            "-- Found Threads: TRUE  \n",
            "-- Found CUDA: /content/cuda11/software/cuda-11.7.1 (found version \"11.7\") \n",
            "-- Caffe2: CUDA detected: 11.7\n",
            "-- Caffe2: CUDA nvcc is: /content/cuda11/software/cuda-11.7.1/bin/nvcc\n",
            "-- Caffe2: CUDA toolkit directory: /content/cuda11/software/cuda-11.7.1\n",
            "-- Caffe2: Header version is: 11.7\n",
            "-- Found CUDNN: /content/cuda11/software/cuda-11.7.1/lib64/libcudnn.so  \n",
            "-- Found cuDNN: v8.2.0  (include: /content/cuda11/software/cuda-11.7.1/include, library: /content/cuda11/software/cuda-11.7.1/lib64/libcudnn.so)\n",
            "-- /content/cuda11/software/cuda-11.7.1/lib64/libnvrtc.so shorthash is 581f1f99\n",
            "-- Automatic GPU detection failed. Building for common architectures.\n",
            "-- Autodetected CUDA architecture(s): 3.5;5.0;5.2;6.0;6.1;7.0;7.5;8.0;8.6;8.6+PTX\n",
            "-- Added CUDA NVCC flags for: -gencode;arch=compute_35,code=sm_35;-gencode;arch=compute_50,code=sm_50;-gencode;arch=compute_52,code=sm_52;-gencode;arch=compute_60,code=sm_60;-gencode;arch=compute_61,code=sm_61;-gencode;arch=compute_70,code=sm_70;-gencode;arch=compute_75,code=sm_75;-gencode;arch=compute_80,code=sm_80;-gencode;arch=compute_86,code=sm_86;-gencode;arch=compute_86,code=compute_86\n",
            "\u001b[33mCMake Warning at /usr/local/lib/python3.10/dist-packages/torch/share/cmake/Torch/TorchConfig.cmake:22 (message):\n",
            "  static library kineto_LIBRARY-NOTFOUND not found.\n",
            "Call Stack (most recent call first):\n",
            "  /usr/local/lib/python3.10/dist-packages/torch/share/cmake/Torch/TorchConfig.cmake:127 (append_torchlib_if_found)\n",
            "  cmake/torch.cmake:11 (find_package)\n",
            "  CMakeLists.txt:292 (include)\n",
            "\n",
            "\u001b[0m\n",
            "-- Found Torch: /usr/local/lib/python3.10/dist-packages/torch/lib/libtorch.so  \n",
            "-- K2_TORCH_VERSION: 1.13\n",
            "-- PyTorch version: 1.13.1+cu117\n",
            "-- PyTorch cuda version: 11.7\n",
            "-- Generated /content/k2/build/temp.linux-x86_64-3.10/torch_version.py\n",
            "-- Downloading moderngpu from https://github.com/moderngpu/moderngpu/archive/8ec9ac0de8672de7217d014917eedec5317f75f3.zip\n",
            "-- moderngpu is downloaded to /content/k2/build/temp.linux-x86_64-3.10/_deps/moderngpu-src\n",
            "-- CMAKE_CUDA_FLAGS:  -Wno-deprecated-gpu-targets   -lineinfo --expt-extended-lambda -use_fast_math -Xptxas=-w  --expt-extended-lambda -gencode arch=compute_35,code=sm_35  -lineinfo --expt-extended-lambda -use_fast_math -Xptxas=-w  --expt-extended-lambda -gencode arch=compute_50,code=sm_50  -lineinfo --expt-extended-lambda -use_fast_math -Xptxas=-w  --expt-extended-lambda -gencode arch=compute_60,code=sm_60  -lineinfo --expt-extended-lambda -use_fast_math -Xptxas=-w  --expt-extended-lambda -gencode arch=compute_61,code=sm_61  -lineinfo --expt-extended-lambda -use_fast_math -Xptxas=-w  --expt-extended-lambda -gencode arch=compute_70,code=sm_70  -lineinfo --expt-extended-lambda -use_fast_math -Xptxas=-w  --expt-extended-lambda -gencode arch=compute_75,code=sm_75  -lineinfo --expt-extended-lambda -use_fast_math -Xptxas=-w  --expt-extended-lambda -gencode arch=compute_80,code=sm_80  -lineinfo --expt-extended-lambda -use_fast_math -Xptxas=-w  --expt-extended-lambda -gencode arch=compute_86,code=sm_86 -DONNX_NAMESPACE=onnx_c2 -gencode arch=compute_35,code=sm_35 -gencode arch=compute_50,code=sm_50 -gencode arch=compute_52,code=sm_52 -gencode arch=compute_60,code=sm_60 -gencode arch=compute_61,code=sm_61 -gencode arch=compute_70,code=sm_70 -gencode arch=compute_75,code=sm_75 -gencode arch=compute_80,code=sm_80 -gencode arch=compute_86,code=sm_86 -gencode arch=compute_86,code=compute_86 -Xcudafe --diag_suppress=cc_clobber_ignored,--diag_suppress=integer_sign_change,--diag_suppress=useless_using_declaration,--diag_suppress=set_but_not_used,--diag_suppress=field_without_dll_interface,--diag_suppress=base_class_has_different_dll_interface,--diag_suppress=dll_interface_conflict_none_assumed,--diag_suppress=dll_interface_conflict_dllexport_assumed,--diag_suppress=implicit_return_from_non_void_function,--diag_suppress=unsigned_compare_with_zero,--diag_suppress=declared_but_not_referenced,--diag_suppress=bad_friend_decl --expt-relaxed-constexpr --expt-extended-lambda -D_GLIBCXX_USE_CXX11_ABI=0 --compiler-options -Wall  --compiler-options -Wno-strict-overflow  --compiler-options -Wno-unknown-pragmas \n",
            "-- CMAKE_CXX_FLAGS:  -D_GLIBCXX_USE_CXX11_ABI=0 -Wno-unused-variable  -Wno-strict-overflow \n",
            "-- CMAKE_CUDA_FLAGS:  -Wno-deprecated-gpu-targets   -lineinfo --expt-extended-lambda -use_fast_math -Xptxas=-w  --expt-extended-lambda -gencode arch=compute_35,code=sm_35  -lineinfo --expt-extended-lambda -use_fast_math -Xptxas=-w  --expt-extended-lambda -gencode arch=compute_50,code=sm_50  -lineinfo --expt-extended-lambda -use_fast_math -Xptxas=-w  --expt-extended-lambda -gencode arch=compute_60,code=sm_60  -lineinfo --expt-extended-lambda -use_fast_math -Xptxas=-w  --expt-extended-lambda -gencode arch=compute_61,code=sm_61  -lineinfo --expt-extended-lambda -use_fast_math -Xptxas=-w  --expt-extended-lambda -gencode arch=compute_70,code=sm_70  -lineinfo --expt-extended-lambda -use_fast_math -Xptxas=-w  --expt-extended-lambda -gencode arch=compute_75,code=sm_75  -lineinfo --expt-extended-lambda -use_fast_math -Xptxas=-w  --expt-extended-lambda -gencode arch=compute_80,code=sm_80  -lineinfo --expt-extended-lambda -use_fast_math -Xptxas=-w  --expt-extended-lambda -gencode arch=compute_86,code=sm_86 -DONNX_NAMESPACE=onnx_c2 -gencode arch=compute_35,code=sm_35 -gencode arch=compute_50,code=sm_50 -gencode arch=compute_52,code=sm_52 -gencode arch=compute_60,code=sm_60 -gencode arch=compute_61,code=sm_61 -gencode arch=compute_70,code=sm_70 -gencode arch=compute_75,code=sm_75 -gencode arch=compute_80,code=sm_80 -gencode arch=compute_86,code=sm_86 -gencode arch=compute_86,code=compute_86 -Xcudafe --diag_suppress=cc_clobber_ignored,--diag_suppress=integer_sign_change,--diag_suppress=useless_using_declaration,--diag_suppress=set_but_not_used,--diag_suppress=field_without_dll_interface,--diag_suppress=base_class_has_different_dll_interface,--diag_suppress=dll_interface_conflict_none_assumed,--diag_suppress=dll_interface_conflict_dllexport_assumed,--diag_suppress=implicit_return_from_non_void_function,--diag_suppress=unsigned_compare_with_zero,--diag_suppress=declared_but_not_referenced,--diag_suppress=bad_friend_decl --expt-relaxed-constexpr --expt-extended-lambda -D_GLIBCXX_USE_CXX11_ABI=0 --compiler-options -Wall  --compiler-options -Wno-strict-overflow  --compiler-options -Wno-unknown-pragmas \n",
            "-- Generated /content/k2/build/temp.linux-x86_64-3.10/k2/csrc/version.h\n",
            "-- PYTHON_LIBRARY: /usr/lib/x86_64-linux-gnu/libpython3.10.so\n",
            "-- Including k2/torch. K2_TORCH_VERSION is 1.13\n",
            "-- Downloading kaldifeat from https://github.com/csukuangfj/kaldifeat/archive/refs/tags/v1.20.tar.gz\n",
            "-- kaldifeat is downloaded to /content/k2/build/temp.linux-x86_64-3.10/_deps/kaldifeat-src\n",
            "-- kaldifeat's binary dir is /content/k2/build/temp.linux-x86_64-3.10/_deps/kaldifeat-build\n",
            "-- The C compiler identification is GNU 9.4.0\n",
            "-- Detecting C compiler ABI info\n",
            "-- Detecting C compiler ABI info - done\n",
            "-- Check for working C compiler: /usr/bin/cc - skipped\n",
            "-- Detecting C compile features\n",
            "-- Detecting C compile features - done\n",
            "-- C++ Standard version: 14\n",
            "-- Python executable: /usr/bin/python3\n",
            "\u001b[33mCMake Warning at /usr/local/lib/python3.10/dist-packages/torch/share/cmake/Torch/TorchConfig.cmake:22 (message):\n",
            "  static library kineto_LIBRARY-NOTFOUND not found.\n",
            "Call Stack (most recent call first):\n",
            "  /usr/local/lib/python3.10/dist-packages/torch/share/cmake/Torch/TorchConfig.cmake:127 (append_torchlib_if_found)\n",
            "  cmake/torch.cmake:11 (find_package)\n",
            "  build/temp.linux-x86_64-3.10/_deps/kaldifeat-src/CMakeLists.txt:55 (include)\n",
            "\n",
            "\u001b[0m\n",
            "-- K2_TORCH_VERSION: 1.13\n",
            "-- PyTorch version: 1.13.1+cu117\n",
            "-- PyTorch cuda version: 11.7\n",
            "-- CMAKE_CXX_FLAGS:  -D_GLIBCXX_USE_CXX11_ABI=0 -Wno-unused-variable  -Wno-strict-overflow  -D_GLIBCXX_USE_CXX11_ABI=0\n",
            "-- CMAKE_INSTALL_PREFIX: /content/k2/build/lib.linux-x86_64-3.10/k2\n",
            "-- All headers: /content/k2/build/temp.linux-x86_64-3.10/_deps/kaldifeat-src/kaldifeat/csrc/feature-common-inl.h;/content/k2/build/temp.linux-x86_64-3.10/_deps/kaldifeat-src/kaldifeat/csrc/feature-common.h;/content/k2/build/temp.linux-x86_64-3.10/_deps/kaldifeat-src/kaldifeat/csrc/feature-fbank.h;/content/k2/build/temp.linux-x86_64-3.10/_deps/kaldifeat-src/kaldifeat/csrc/feature-functions.h;/content/k2/build/temp.linux-x86_64-3.10/_deps/kaldifeat-src/kaldifeat/csrc/feature-mfcc.h;/content/k2/build/temp.linux-x86_64-3.10/_deps/kaldifeat-src/kaldifeat/csrc/feature-plp.h;/content/k2/build/temp.linux-x86_64-3.10/_deps/kaldifeat-src/kaldifeat/csrc/feature-spectrogram.h;/content/k2/build/temp.linux-x86_64-3.10/_deps/kaldifeat-src/kaldifeat/csrc/feature-window.h;/content/k2/build/temp.linux-x86_64-3.10/_deps/kaldifeat-src/kaldifeat/csrc/log.h;/content/k2/build/temp.linux-x86_64-3.10/_deps/kaldifeat-src/kaldifeat/csrc/matrix-functions.h;/content/k2/build/temp.linux-x86_64-3.10/_deps/kaldifeat-src/kaldifeat/csrc/mel-computations.h;/content/k2/build/temp.linux-x86_64-3.10/_deps/kaldifeat-src/kaldifeat/csrc/online-feature-itf.h;/content/k2/build/temp.linux-x86_64-3.10/_deps/kaldifeat-src/kaldifeat/csrc/online-feature.h;/content/k2/build/temp.linux-x86_64-3.10/_deps/kaldifeat-src/kaldifeat/csrc/pitch-functions.h\n",
            "-- Configuring done\n",
            "-- Generating done\n",
            "-- Build files have been written to: /content/k2/build/temp.linux-x86_64-3.10\n",
            "/**\n",
            " * @brief\n",
            " * This file contains information for building k2, which is helpful\n",
            " * for describing the environment in which k2 is used when creating\n",
            " * an issue on GitHub.\n",
            " *\n",
            " * @copyright\n",
            " * Copyright (c)  2020  Mobvoi Inc.        (authors: Fangjun Kuang)\n",
            " *\n",
            " * @copyright\n",
            " * See LICENSE for clarification regarding multiple authors\n",
            " *\n",
            " * @caution\n",
            " * This file is auto-generated by CMake. Do NOT edit!\n",
            " * You can find it at build_dir/k2/csrc/version.h\n",
            " */\n",
            "\n",
            "#ifndef K2_CSRC_VERSION_H_\n",
            "#define K2_CSRC_VERSION_H_\n",
            "\n",
            "namespace k2 {\n",
            "\n",
            "// Version of k2 in \"major.minor.patch\" format\n",
            "static constexpr const char *kVersion = \"1.24.1\";\n",
            "\n",
            "// The commit used to build k2\n",
            "static constexpr const char *kGitSha1 = \"7b67d26bb0e1d4b51044e00eb043cc87a6bfbc85\";\n",
            "\n",
            "// Date of the commit used to build k2\n",
            "static constexpr const char *kGitDate = \"Sun Apr 30 05:50:05 2023\";\n",
            "\n",
            "// Version of CUDA used to build k2.\n",
            "// Its format is \"major.minor\", e.g., 10.1\n",
            "static constexpr const char *kCudaVersion = \"11.7\";\n",
            "\n",
            "// cuDNN version, e.g., 8.0.2\n",
            "static constexpr const char *kCudnnVersion = \"8.2.0\";\n",
            "\n",
            "// clang-format off\n",
            "// Version of Python used to build k2 Python bindings.\n",
            "static constexpr const char *kPythonVersion = \"3.10\";\n",
            "\n",
            "// clang-format on\n",
            "\n",
            "// CMake build type, e.g., Release or Debug.\n",
            "static constexpr const char *kBuildType = \"Release\";\n",
            "\n",
            "// The operating system that is used to build k2, e.g., Ubuntu 16.04 LTS\n",
            "static constexpr const char *kOS = R\"os(Ubuntu 20.04.5 LTS)os\";\n",
            "\n",
            "// e.g., 3.18.0\n",
            "static constexpr const char *kCMakeVersion = \"3.25.2\";\n",
            "\n",
            "// Version of the compiler, e.g., 5.4.0\n",
            "static constexpr const char *kGCCVersion = \"9.4.0\";\n",
            "\n",
            "// CUDA flags used to compile k2\n",
            "static constexpr const char *kCMakeCudaFlags = R\"cuda_flags( -Wno-deprecated-gpu-targets   -lineinfo --expt-extended-lambda -use_fast_math -Xptxas=-w  --expt-extended-lambda -gencode arch=compute_35,code=sm_35  -lineinfo --expt-extended-lambda -use_fast_math -Xptxas=-w  --expt-extended-lambda -gencode arch=compute_50,code=sm_50  -lineinfo --expt-extended-lambda -use_fast_math -Xptxas=-w  --expt-extended-lambda -gencode arch=compute_60,code=sm_60  -lineinfo --expt-extended-lambda -use_fast_math -Xptxas=-w  --expt-extended-lambda -gencode arch=compute_61,code=sm_61  -lineinfo --expt-extended-lambda -use_fast_math -Xptxas=-w  --expt-extended-lambda -gencode arch=compute_70,code=sm_70  -lineinfo --expt-extended-lambda -use_fast_math -Xptxas=-w  --expt-extended-lambda -gencode arch=compute_75,code=sm_75  -lineinfo --expt-extended-lambda -use_fast_math -Xptxas=-w  --expt-extended-lambda -gencode arch=compute_80,code=sm_80  -lineinfo --expt-extended-lambda -use_fast_math -Xptxas=-w  --expt-extended-lambda -gencode arch=compute_86,code=sm_86 -DONNX_NAMESPACE=onnx_c2 -gencode arch=compute_35,code=sm_35 -gencode arch=compute_50,code=sm_50 -gencode arch=compute_52,code=sm_52 -gencode arch=compute_60,code=sm_60 -gencode arch=compute_61,code=sm_61 -gencode arch=compute_70,code=sm_70 -gencode arch=compute_75,code=sm_75 -gencode arch=compute_80,code=sm_80 -gencode arch=compute_86,code=sm_86 -gencode arch=compute_86,code=compute_86 -Xcudafe --diag_suppress=cc_clobber_ignored,--diag_suppress=integer_sign_change,--diag_suppress=useless_using_declaration,--diag_suppress=set_but_not_used,--diag_suppress=field_without_dll_interface,--diag_suppress=base_class_has_different_dll_interface,--diag_suppress=dll_interface_conflict_none_assumed,--diag_suppress=dll_interface_conflict_dllexport_assumed,--diag_suppress=implicit_return_from_non_void_function,--diag_suppress=unsigned_compare_with_zero,--diag_suppress=declared_but_not_referenced,--diag_suppress=bad_friend_decl --expt-relaxed-constexpr --expt-extended-lambda -D_GLIBCXX_USE_CXX11_ABI=0 --compiler-options -Wall  --compiler-options -Wno-strict-overflow  --compiler-options -Wno-unknown-pragmas )cuda_flags\";\n",
            "\n",
            "// CXX flags used to compile k2\n",
            "static constexpr const char *kCMakeCxxFlags = R\"cxx_flags( -D_GLIBCXX_USE_CXX11_ABI=0 -Wno-unused-variable  -Wno-strict-overflow )cxx_flags\";\n",
            "\n",
            "// Which PyTorch version k2 is using, e.g., 1.6.0+cu101\n",
            "static constexpr const char *kTorchVersion = \"1.13.1+cu117\";\n",
            "\n",
            "// Which CUDA version PyTorch is using, e.g., 10.1\n",
            "static constexpr const char *kTorchCudaVersion = \"11.7\";\n",
            "\n",
            "#ifndef K2_WITH_CUDA\n",
            "#define K2_WITH_CUDA\n",
            "#endif\n",
            "\n",
            "#ifdef K2_WITH_CUDA\n",
            "  static constexpr bool kWithCuda = true;\n",
            "#else\n",
            "  static constexpr bool kWithCuda = false;\n",
            "#endif\n",
            "\n",
            "// Indicate whether NVTX is enabled or not\n",
            "#ifndef K2_ENABLE_NVTX\n",
            "#define K2_ENABLE_NVTX\n",
            "#endif\n",
            "\n",
            "#ifdef K2_ENABLE_NVTX\n",
            "static constexpr bool kEnableNvtx = true;\n",
            "#else\n",
            "static constexpr bool kEnableNvtx = false;\n",
            "#endif\n",
            "}  // namespace k2\n",
            "\n",
            "#endif  //  K2_CSRC_VERSION_H_\n",
            "[  1%] \u001b[32mBuilding CUDA object k2/csrc/CMakeFiles/k2_log.dir/log.cu.o\u001b[0m\n",
            "[  2%] \u001b[32mBuilding CXX object _deps/kaldifeat-build/kaldifeat/csrc/CMakeFiles/kaldifeat_core.dir/feature-fbank.cc.o\u001b[0m\n",
            "[  3%] \u001b[32mBuilding CXX object _deps/kaldifeat-build/kaldifeat/csrc/CMakeFiles/kaldifeat_core.dir/feature-functions.cc.o\u001b[0m\n",
            "[  3%] \u001b[32mBuilding CXX object _deps/kaldifeat-build/kaldifeat/csrc/CMakeFiles/kaldifeat_core.dir/feature-mfcc.cc.o\u001b[0m\n",
            "[  4%] \u001b[32mBuilding CXX object _deps/kaldifeat-build/kaldifeat/csrc/CMakeFiles/kaldifeat_core.dir/feature-plp.cc.o\u001b[0m\n",
            "[  5%] \u001b[32mBuilding CXX object _deps/kaldifeat-build/kaldifeat/csrc/CMakeFiles/kaldifeat_core.dir/feature-spectrogram.cc.o\u001b[0m\n",
            "[  6%] \u001b[32m\u001b[1mLinking CUDA shared library ../../lib/libk2_log.so\u001b[0m\n",
            "[  6%] Built target k2_log\n",
            "[  6%] \u001b[32mBuilding CXX object k2/csrc/host/CMakeFiles/fsa.dir/arcsort.cc.o\u001b[0m\n",
            "[  7%] \u001b[32mBuilding CXX object k2/csrc/host/CMakeFiles/fsa.dir/aux_labels.cc.o\u001b[0m\n",
            "[  8%] \u001b[32mBuilding CXX object k2/csrc/host/CMakeFiles/fsa.dir/connect.cc.o\u001b[0m\n",
            "[ 10%] \u001b[32mBuilding CXX object k2/csrc/host/CMakeFiles/fsa.dir/determinize.cc.o\u001b[0m\n",
            "[ 11%] \u001b[32mBuilding CXX object _deps/kaldifeat-build/kaldifeat/csrc/CMakeFiles/kaldifeat_core.dir/feature-window.cc.o\u001b[0m\n",
            "[ 12%] \u001b[32mBuilding CXX object k2/csrc/host/CMakeFiles/fsa.dir/determinize_pruned.cc.o\u001b[0m\n",
            "[ 12%] \u001b[32mBuilding CXX object k2/csrc/host/CMakeFiles/fsa.dir/fsa.cc.o\u001b[0m\n",
            "[ 13%] \u001b[32mBuilding CXX object k2/csrc/host/CMakeFiles/fsa.dir/fsa_equivalent.cc.o\u001b[0m\n",
            "[ 14%] \u001b[32mBuilding CXX object k2/csrc/host/CMakeFiles/fsa.dir/fsa_renderer.cc.o\u001b[0m\n",
            "[ 15%] \u001b[32mBuilding CXX object _deps/kaldifeat-build/kaldifeat/csrc/CMakeFiles/kaldifeat_core.dir/matrix-functions.cc.o\u001b[0m\n",
            "[ 15%] \u001b[32mBuilding CXX object _deps/kaldifeat-build/kaldifeat/csrc/CMakeFiles/kaldifeat_core.dir/mel-computations.cc.o\u001b[0m\n",
            "[ 16%] \u001b[32mBuilding CXX object k2/csrc/host/CMakeFiles/fsa.dir/fsa_util.cc.o\u001b[0m\n",
            "[ 17%] \u001b[32mBuilding CXX object _deps/kaldifeat-build/kaldifeat/csrc/CMakeFiles/kaldifeat_core.dir/online-feature.cc.o\u001b[0m\n",
            "[ 17%] \u001b[32mBuilding CXX object k2/csrc/host/CMakeFiles/fsa.dir/intersect.cc.o\u001b[0m\n",
            "[ 18%] \u001b[32mBuilding CXX object k2/csrc/host/CMakeFiles/fsa.dir/properties.cc.o\u001b[0m\n",
            "[ 20%] \u001b[32mBuilding CXX object k2/csrc/host/CMakeFiles/fsa.dir/rmepsilon_pruned.cc.o\u001b[0m\n",
            "[ 21%] \u001b[32mBuilding CXX object k2/csrc/host/CMakeFiles/fsa.dir/topsort.cc.o\u001b[0m\n",
            "[ 21%] \u001b[32mBuilding CXX object k2/csrc/host/CMakeFiles/fsa.dir/util.cc.o\u001b[0m\n",
            "[ 22%] \u001b[32mBuilding CXX object k2/csrc/host/CMakeFiles/fsa.dir/weights.cc.o\u001b[0m\n",
            "[ 23%] \u001b[32m\u001b[1mLinking CXX shared library ../../../lib/libk2fsa.so\u001b[0m\n",
            "[ 23%] Built target fsa\n",
            "[ 25%] \u001b[32mBuilding CUDA object k2/csrc/CMakeFiles/context.dir/algorithms.cu.o\u001b[0m\n",
            "[ 25%] \u001b[32mBuilding CUDA object k2/csrc/CMakeFiles/context.dir/array_of_ragged.cu.o\u001b[0m\n",
            "[ 26%] \u001b[32mBuilding CUDA object k2/csrc/CMakeFiles/context.dir/array_ops.cu.o\u001b[0m\n",
            "[ 27%] \u001b[32mBuilding CUDA object k2/csrc/CMakeFiles/context.dir/connect.cu.o\u001b[0m\n",
            "[ 27%] \u001b[32mBuilding CUDA object k2/csrc/CMakeFiles/context.dir/context.cu.o\u001b[0m\n",
            "[ 28%] \u001b[32m\u001b[1mLinking CXX shared library ../../../../lib/libkaldifeat_core.so\u001b[0m\n",
            "[ 28%] Built target kaldifeat_core\n",
            "[ 30%] \u001b[32mBuilding CUDA object k2/csrc/CMakeFiles/context.dir/dtype.cu.o\u001b[0m\n",
            "[ 31%] \u001b[32mBuilding CUDA object k2/csrc/CMakeFiles/context.dir/fsa.cu.o\u001b[0m\n",
            "[ 32%] \u001b[32mBuilding CUDA object k2/csrc/CMakeFiles/context.dir/fsa_algo.cu.o\u001b[0m\n",
            "[ 32%] \u001b[32mBuilding CUDA object k2/csrc/CMakeFiles/context.dir/fsa_utils.cu.o\u001b[0m\n",
            "[ 33%] \u001b[32mBuilding CUDA object k2/csrc/CMakeFiles/context.dir/hash.cu.o\u001b[0m\n",
            "[ 34%] \u001b[32mBuilding CUDA object k2/csrc/CMakeFiles/context.dir/host_shim.cu.o\u001b[0m\n",
            "[ 35%] \u001b[32mBuilding CUDA object k2/csrc/CMakeFiles/context.dir/intersect.cu.o\u001b[0m\n",
            "[ 35%] \u001b[32mBuilding CUDA object k2/csrc/CMakeFiles/context.dir/intersect_dense.cu.o\u001b[0m\n",
            "[ 36%] \u001b[32mBuilding CUDA object k2/csrc/CMakeFiles/context.dir/intersect_dense_pruned.cu.o\u001b[0m\n",
            "[ 37%] \u001b[32mBuilding CUDA object k2/csrc/CMakeFiles/context.dir/math.cu.o\u001b[0m\n",
            "[ 38%] \u001b[32mBuilding CUDA object k2/csrc/CMakeFiles/context.dir/moderngpu_allocator.cu.o\u001b[0m\n",
            "[ 40%] \u001b[32mBuilding CUDA object k2/csrc/CMakeFiles/context.dir/pinned_context.cu.o\u001b[0m\n",
            "[ 40%] \u001b[32mBuilding CUDA object k2/csrc/CMakeFiles/context.dir/ragged.cu.o\u001b[0m\n",
            "[ 41%] \u001b[32mBuilding CUDA object k2/csrc/CMakeFiles/context.dir/ragged_ops.cu.o\u001b[0m\n",
            "\u001b[01m\u001b[K/content/k2/k2/csrc/algorithms.h:\u001b[m\u001b[K In member function ‘\u001b[01m\u001b[Kk2::FsaVec k2::MultiGraphDenseIntersect::FormatOutput(k2::Array1<int>*, k2::Array1<int>*)\u001b[m\u001b[K’:\n",
            "\u001b[01m\u001b[K/content/k2/k2/csrc/algorithms.h:33:7:\u001b[m\u001b[K \u001b[01;35m\u001b[Kwarning: \u001b[m\u001b[K‘\u001b[01m\u001b[K<anonymous>.k2::Renumbering::num_new_elems_\u001b[m\u001b[K’ may be used uninitialized in this function [\u001b[01;35m\u001b[K-Wmaybe-uninitialized\u001b[m\u001b[K]\n",
            "   33 | class \u001b[01;35m\u001b[KRenumbering\u001b[m\u001b[K {\n",
            "      |       \u001b[01;35m\u001b[K^~~~~~~~~~~\u001b[m\u001b[K\n",
            "[ 42%] \u001b[32mBuilding CUDA object k2/csrc/CMakeFiles/context.dir/ragged_utils.cu.o\u001b[0m\n",
            "[ 43%] \u001b[32mBuilding CUDA object k2/csrc/CMakeFiles/context.dir/rand.cu.o\u001b[0m\n",
            "[ 43%] \u001b[32mBuilding CUDA object k2/csrc/CMakeFiles/context.dir/reverse.cu.o\u001b[0m\n",
            "[ 44%] \u001b[32mBuilding CUDA object k2/csrc/CMakeFiles/context.dir/rm_epsilon.cu.o\u001b[0m\n",
            "[ 45%] \u001b[32mBuilding CUDA object k2/csrc/CMakeFiles/context.dir/rnnt_decode.cu.o\u001b[0m\n",
            "[ 46%] \u001b[32mBuilding CUDA object k2/csrc/CMakeFiles/context.dir/tensor.cu.o\u001b[0m\n",
            "[ 46%] \u001b[32mBuilding CUDA object k2/csrc/CMakeFiles/context.dir/tensor_ops.cu.o\u001b[0m\n",
            "[ 47%] \u001b[32mBuilding CUDA object k2/csrc/CMakeFiles/context.dir/thread_pool.cu.o\u001b[0m\n",
            "[ 48%] \u001b[32mBuilding CUDA object k2/csrc/CMakeFiles/context.dir/timer.cu.o\u001b[0m\n",
            "[ 48%] \u001b[32mBuilding CXX object k2/torch/csrc/CMakeFiles/k2_fbank.dir/features.cc.o\u001b[0m\n",
            "[ 50%] \u001b[32mBuilding CUDA object k2/csrc/CMakeFiles/context.dir/top_sort.cu.o\u001b[0m\n",
            "[ 51%] \u001b[32m\u001b[1mLinking CXX shared library ../../../lib/libk2_fbank.so\u001b[0m\n",
            "[ 51%] Built target k2_fbank\n",
            "[ 52%] \u001b[32mBuilding CUDA object k2/csrc/CMakeFiles/context.dir/torch_util.cu.o\u001b[0m\n",
            "[ 52%] \u001b[32mBuilding CUDA object k2/csrc/CMakeFiles/context.dir/utils.cu.o\u001b[0m\n",
            "[ 53%] \u001b[32mBuilding CUDA object k2/csrc/CMakeFiles/context.dir/nbest.cu.o\u001b[0m\n",
            "[ 54%] \u001b[32mBuilding CUDA object k2/csrc/CMakeFiles/context.dir/pytorch_context.cu.o\u001b[0m\n",
            "[ 55%] \u001b[32mBuilding CUDA object k2/csrc/CMakeFiles/context.dir/cudpp/cudpp.cu.o\u001b[0m\n",
            "\u001b[01m\u001b[K/content/k2/k2/csrc/ragged_ops_inl.h:\u001b[m\u001b[K In function ‘\u001b[01m\u001b[Kk2::Renumbering k2::PruneRaggedAxis1(k2::Ragged<U>&, T, int32_t) [with T = double]\u001b[m\u001b[K’:\n",
            "\u001b[01m\u001b[K/content/k2/k2/csrc/ragged_ops_inl.h:870:16:\u001b[m\u001b[K \u001b[01;35m\u001b[Kwarning: \u001b[m\u001b[K‘\u001b[01m\u001b[Korder_map_data\u001b[m\u001b[K’ may be used uninitialized in this function [\u001b[01;35m\u001b[K-Wmaybe-uninitialized\u001b[m\u001b[K]\n",
            "  870 |   const int32_t\u001b[01;35m\u001b[K *order_map_da\u001b[m\u001b[Kta;\n",
            "      |                \u001b[01;35m\u001b[K^~~~~~~~~~~~~~\u001b[m\u001b[K\n",
            "[ 55%] \u001b[32m\u001b[1mLinking CUDA device code CMakeFiles/context.dir/cmake_device_link.o\u001b[0m\n",
            "[ 56%] \u001b[32m\u001b[1mLinking CUDA shared library ../../lib/libk2context.so\u001b[0m\n",
            "[ 56%] Built target context\n",
            "[ 56%] \u001b[32mBuilding CUDA object k2/torch/csrc/CMakeFiles/k2_torch.dir/beam_search.cu.o\u001b[0m\n",
            "[ 57%] \u001b[32mBuilding CUDA object k2/torch/csrc/CMakeFiles/k2_torch.dir/decode.cu.o\u001b[0m\n",
            "[ 58%] \u001b[32mBuilding CUDA object k2/torch/csrc/CMakeFiles/k2_torch.dir/dense_fsa_vec.cu.o\u001b[0m\n",
            "[ 58%] \u001b[32mBuilding CUDA object k2/python/csrc/CMakeFiles/_k2.dir/k2.cu.o\u001b[0m\n",
            "[ 60%] \u001b[32mBuilding CUDA object k2/torch/csrc/CMakeFiles/k2_torch.dir/deserialization.cu.o\u001b[0m\n",
            "[ 61%] \u001b[32mBuilding CUDA object k2/python/csrc/CMakeFiles/_k2.dir/torch.cu.o\u001b[0m\n",
            "\u001b[01m\u001b[K/content/k2/k2/torch/csrc/beam_search.cu:\u001b[m\u001b[K In function ‘\u001b[01m\u001b[Kstd::vector<std::vector<int>, std::allocator<std::vector<int> > > k2::ModifiedBeamSearch(const torch::jit::Module&, const at::Tensor&, const at::Tensor&, int32_t)\u001b[m\u001b[K’:\n",
            "\u001b[01m\u001b[K/content/k2/k2/torch/csrc/beam_search.cu:272:20:\u001b[m\u001b[K \u001b[01;35m\u001b[Kwarning: \u001b[m\u001b[Kcomparison of integer expressions of different signedness: ‘\u001b[01m\u001b[Kint32_t\u001b[m\u001b[K’ {aka ‘\u001b[01m\u001b[Kint\u001b[m\u001b[K’} and ‘\u001b[01m\u001b[Kstd::vector<k2::Hypotheses>::size_type\u001b[m\u001b[K’ {aka ‘\u001b[01m\u001b[Klong unsigned int\u001b[m\u001b[K’} [\u001b[01;35m\u001b[K-Wsign-compare\u001b[m\u001b[K]\n",
            "  272 |     \u001b[01;35m\u001b[Kif (cur_batch_size < cur.si\u001b[m\u001b[Kze()) {\n",
            "      |     \u001b[01;35m\u001b[K~~~~~~~~~~~~~~~^~~~~~~~~~~~\u001b[m\u001b[K\n",
            "\u001b[01m\u001b[K/content/k2/k2/torch/csrc/beam_search.cu:298:23:\u001b[m\u001b[K \u001b[01;35m\u001b[Kwarning: \u001b[m\u001b[Kcomparison of integer expressions of different signedness: ‘\u001b[01m\u001b[Kint32_t\u001b[m\u001b[K’ {aka ‘\u001b[01m\u001b[Kint\u001b[m\u001b[K’} and ‘\u001b[01m\u001b[Kstd::vector<k2::Hypothesis>::size_type\u001b[m\u001b[K’ {aka ‘\u001b[01m\u001b[Klong unsigned int\u001b[m\u001b[K’} [\u001b[01;35m\u001b[K-Wsign-compare\u001b[m\u001b[K]\n",
            "  298 |     for (int32_t k =\u001b[01;35m\u001b[K 0; k != prev.si\u001b[m\u001b[Kze(); ++k) {\n",
            "      |                     \u001b[01;35m\u001b[K~~^~~~~~~~~~~~~~\u001b[m\u001b[K\n",
            "[ 61%] \u001b[32mBuilding CUDA object k2/torch/csrc/CMakeFiles/k2_torch.dir/fsa_algo.cu.o\u001b[0m\n",
            "[ 62%] \u001b[32mBuilding CUDA object k2/torch/csrc/CMakeFiles/k2_torch.dir/fsa_class.cu.o\u001b[0m\n",
            "[ 63%] \u001b[32mBuilding CUDA object k2/torch/csrc/CMakeFiles/k2_torch.dir/hypothesis.cu.o\u001b[0m\n",
            "\u001b[01m\u001b[K/content/k2/k2/torch/csrc/deserialization.cu:\u001b[m\u001b[K In function ‘\u001b[01m\u001b[Kvoid k2::_GLOBAL__N__c918cc56_18_deserialization_cu_4aae5ec1::restoreAccurateTypeTags(const c10::IValue&, const TypePtr&)\u001b[m\u001b[K’:\n",
            "\u001b[01m\u001b[K/content/k2/k2/torch/csrc/deserialization.cu:101:8:\u001b[m\u001b[K \u001b[01;35m\u001b[Kwarning: \u001b[m\u001b[Kenumeration value ‘\u001b[01m\u001b[KStorageType\u001b[m\u001b[K’ not handled in switch [\u001b[01;35m\u001b[K-Wswitch\u001b[m\u001b[K]\n",
            "  101 |     swi\u001b[01;35m\u001b[Kt\u001b[m\u001b[Kch (w.static_type->kind()) {\n",
            "      |        \u001b[01;35m\u001b[K^\u001b[m\u001b[K\n",
            "\u001b[01m\u001b[K/content/k2/k2/torch/csrc/deserialization.cu:101:8:\u001b[m\u001b[K \u001b[01;35m\u001b[Kwarning: \u001b[m\u001b[Kenumeration value ‘\u001b[01m\u001b[KComplexType\u001b[m\u001b[K’ not handled in switch [\u001b[01;35m\u001b[K-Wswitch\u001b[m\u001b[K]\n",
            "\u001b[01m\u001b[K/content/k2/k2/torch/csrc/deserialization.cu:101:8:\u001b[m\u001b[K \u001b[01;35m\u001b[Kwarning: \u001b[m\u001b[Kenumeration value ‘\u001b[01m\u001b[KStreamObjType\u001b[m\u001b[K’ not handled in switch [\u001b[01;35m\u001b[K-Wswitch\u001b[m\u001b[K]\n",
            "\u001b[01m\u001b[K/content/k2/k2/torch/csrc/deserialization.cu:101:8:\u001b[m\u001b[K \u001b[01;35m\u001b[Kwarning: \u001b[m\u001b[Kenumeration value ‘\u001b[01m\u001b[KMemoryFormatType\u001b[m\u001b[K’ not handled in switch [\u001b[01;35m\u001b[K-Wswitch\u001b[m\u001b[K]\n",
            "\u001b[01m\u001b[K/content/k2/k2/torch/csrc/deserialization.cu:101:8:\u001b[m\u001b[K \u001b[01;35m\u001b[Kwarning: \u001b[m\u001b[Kenumeration value ‘\u001b[01m\u001b[KSymIntType\u001b[m\u001b[K’ not handled in switch [\u001b[01;35m\u001b[K-Wswitch\u001b[m\u001b[K]\n",
            "\u001b[01m\u001b[K/content/k2/k2/torch/csrc/deserialization.cu:101:8:\u001b[m\u001b[K \u001b[01;35m\u001b[Kwarning: \u001b[m\u001b[Kenumeration value ‘\u001b[01m\u001b[KSymFloatType\u001b[m\u001b[K’ not handled in switch [\u001b[01;35m\u001b[K-Wswitch\u001b[m\u001b[K]\n",
            "\u001b[01m\u001b[K/content/k2/k2/torch/csrc/deserialization.cu:101:8:\u001b[m\u001b[K \u001b[01;35m\u001b[Kwarning: \u001b[m\u001b[Kenumeration value ‘\u001b[01m\u001b[KUnionType\u001b[m\u001b[K’ not handled in switch [\u001b[01;35m\u001b[K-Wswitch\u001b[m\u001b[K]\n",
            "\u001b[01m\u001b[K/content/k2/k2/torch/csrc/deserialization.cu:101:8:\u001b[m\u001b[K \u001b[01;35m\u001b[Kwarning: \u001b[m\u001b[Kenumeration value ‘\u001b[01m\u001b[KDynamicType\u001b[m\u001b[K’ not handled in switch [\u001b[01;35m\u001b[K-Wswitch\u001b[m\u001b[K]\n",
            "[ 64%] \u001b[32mBuilding CUDA object k2/python/csrc/CMakeFiles/_k2.dir/version.cu.o\u001b[0m\n",
            "[ 65%] \u001b[32mBuilding CUDA object k2/torch/csrc/CMakeFiles/k2_torch.dir/nbest.cu.o\u001b[0m\n",
            "[ 66%] \u001b[32mBuilding CUDA object k2/python/csrc/CMakeFiles/_k2.dir/torch/arc.cu.o\u001b[0m\n",
            "[ 66%] \u001b[32mBuilding CUDA object k2/python/csrc/CMakeFiles/_k2.dir/torch/fsa.cu.o\u001b[0m\n",
            "[ 67%] \u001b[32mBuilding CUDA object k2/torch/csrc/CMakeFiles/k2_torch.dir/parse_options.cu.o\u001b[0m\n",
            "[ 67%] \u001b[32mBuilding CUDA object k2/torch/csrc/CMakeFiles/k2_torch.dir/symbol_table.cu.o\u001b[0m\n",
            "\u001b[01m\u001b[K/content/k2/k2/torch/csrc/parse_options.cu:\u001b[m\u001b[K In member function ‘\u001b[01m\u001b[Kint32_t k2::ParseOptions::ToInt(const string&) const\u001b[m\u001b[K’:\n",
            "\u001b[01m\u001b[K/content/k2/k2/torch/csrc/parse_options.cu:705:8:\u001b[m\u001b[K \u001b[01;35m\u001b[Kwarning: \u001b[m\u001b[K‘\u001b[01m\u001b[Kret\u001b[m\u001b[K’ may be used uninitialized in this function [\u001b[01;35m\u001b[K-Wmaybe-uninitialized\u001b[m\u001b[K]\n",
            "  705 |   retur\u001b[01;35m\u001b[Kn r\u001b[m\u001b[Ket;\n",
            "      |        \u001b[01;35m\u001b[K^~~\u001b[m\u001b[K\n",
            "\u001b[01m\u001b[K/content/k2/k2/torch/csrc/parse_options.cu:\u001b[m\u001b[K In member function ‘\u001b[01m\u001b[Kuint32_t k2::ParseOptions::ToUint(const string&) const\u001b[m\u001b[K’:\n",
            "\u001b[01m\u001b[K/content/k2/k2/torch/csrc/parse_options.cu:712:8:\u001b[m\u001b[K \u001b[01;35m\u001b[Kwarning: \u001b[m\u001b[K‘\u001b[01m\u001b[Kret\u001b[m\u001b[K’ may be used uninitialized in this function [\u001b[01;35m\u001b[K-Wmaybe-uninitialized\u001b[m\u001b[K]\n",
            "  712 |   retur\u001b[01;35m\u001b[Kn r\u001b[m\u001b[Ket;\n",
            "      |        \u001b[01;35m\u001b[K^~~\u001b[m\u001b[K\n",
            "[ 68%] \u001b[32mBuilding CUDA object k2/torch/csrc/CMakeFiles/k2_torch.dir/utils.cu.o\u001b[0m\n",
            "[ 70%] \u001b[32mBuilding CUDA object k2/torch/csrc/CMakeFiles/k2_torch.dir/wave_reader.cu.o\u001b[0m\n",
            "[ 71%] \u001b[32mBuilding CUDA object k2/python/csrc/CMakeFiles/_k2.dir/torch/fsa_algo.cu.o\u001b[0m\n",
            "[ 72%] \u001b[32mBuilding CUDA object k2/python/csrc/CMakeFiles/_k2.dir/torch/index_add.cu.o\u001b[0m\n",
            "[ 73%] \u001b[32mBuilding CUDA object k2/python/csrc/CMakeFiles/_k2.dir/torch/index_select.cu.o\u001b[0m\n",
            "[ 73%] \u001b[32mBuilding CUDA object k2/python/csrc/CMakeFiles/_k2.dir/torch/mutual_information.cu.o\u001b[0m\n",
            "[ 74%] \u001b[32mBuilding CUDA object k2/python/csrc/CMakeFiles/_k2.dir/torch/mutual_information_cpu.cu.o\u001b[0m\n",
            "[ 75%] \u001b[32m\u001b[1mLinking CUDA shared library ../../../lib/libk2_torch.so\u001b[0m\n",
            "[ 75%] Built target k2_torch\n",
            "[ 75%] \u001b[32mBuilding CUDA object k2/torch/csrc/CMakeFiles/k2_torch_api.dir/torch_api.cu.o\u001b[0m\n",
            "[ 76%] \u001b[32mBuilding CUDA object k2/python/csrc/CMakeFiles/_k2.dir/torch/nbest.cu.o\u001b[0m\n",
            "[ 77%] \u001b[32mBuilding CUDA object k2/python/csrc/CMakeFiles/_k2.dir/torch/ragged.cu.o\u001b[0m\n",
            "[ 78%] \u001b[32mBuilding CUDA object k2/python/csrc/CMakeFiles/_k2.dir/torch/ragged_ops.cu.o\u001b[0m\n",
            "[ 78%] \u001b[32mBuilding CUDA object k2/python/csrc/CMakeFiles/_k2.dir/torch/rnnt_decode.cu.o\u001b[0m\n",
            "[ 80%] \u001b[32mBuilding CUDA object k2/python/csrc/CMakeFiles/_k2.dir/torch/v2/any.cu.o\u001b[0m\n",
            "[ 81%] \u001b[32m\u001b[1mLinking CUDA shared library ../../../lib/libk2_torch_api.so\u001b[0m\n",
            "[ 81%] Built target k2_torch_api\n",
            "[ 82%] \u001b[32mBuilding CUDA object k2/torch/bin/CMakeFiles/ctc_decode.dir/ctc_decode.cu.o\u001b[0m\n",
            "[ 83%] \u001b[32mBuilding CUDA object k2/python/csrc/CMakeFiles/_k2.dir/torch/v2/autograd/swoosh.cu.o\u001b[0m\n",
            "[ 84%] \u001b[32mBuilding CUDA object k2/python/csrc/CMakeFiles/_k2.dir/torch/v2/doc/doc.cu.o\u001b[0m\n",
            "[ 84%] \u001b[32mBuilding CUDA object k2/python/csrc/CMakeFiles/_k2.dir/torch/v2/k2.cu.o\u001b[0m\n",
            "[ 85%] \u001b[32mBuilding CUDA object k2/python/csrc/CMakeFiles/_k2.dir/torch/v2/ragged_any.cu.o\u001b[0m\n",
            "[ 86%] \u001b[32mBuilding CUDA object k2/python/csrc/CMakeFiles/_k2.dir/torch/v2/ragged_shape.cu.o\u001b[0m\n",
            "[ 87%] \u001b[32m\u001b[1mLinking CUDA executable ../../../bin/ctc_decode\u001b[0m\n",
            "[ 87%] Built target ctc_decode\n",
            "[ 88%] \u001b[32mBuilding CUDA object k2/torch/bin/CMakeFiles/hlg_decode.dir/hlg_decode.cu.o\u001b[0m\n",
            "[ 90%] \u001b[32mBuilding CUDA object k2/python/csrc/CMakeFiles/_k2.dir/torch/mutual_information_cuda.cu.o\u001b[0m\n",
            "[ 91%] \u001b[32mBuilding CUDA object k2/torch/bin/CMakeFiles/ngram_lm_rescore.dir/ngram_lm_rescore.cu.o\u001b[0m\n",
            "[ 92%] \u001b[32mBuilding CUDA object k2/torch/bin/CMakeFiles/attention_rescore.dir/attention_rescore.cu.o\u001b[0m\n",
            "[ 93%] \u001b[32mBuilding CUDA object k2/torch/bin/CMakeFiles/online_decode.dir/online_decode.cu.o\u001b[0m\n",
            "[ 94%] \u001b[32m\u001b[1mLinking CUDA executable ../../../bin/hlg_decode\u001b[0m\n",
            "[ 94%] Built target hlg_decode\n",
            "[ 95%] \u001b[32mBuilding CUDA object k2/torch/bin/CMakeFiles/rnnt_demo.dir/rnnt_demo.cu.o\u001b[0m\n",
            "[ 96%] \u001b[32mBuilding CUDA object k2/torch/bin/CMakeFiles/pruned_stateless_transducer.dir/pruned_stateless_transducer.cu.o\u001b[0m\n",
            "[ 96%] \u001b[32m\u001b[1mLinking CUDA device code CMakeFiles/_k2.dir/cmake_device_link.o\u001b[0m\n",
            "[ 97%] \u001b[32m\u001b[1mLinking CUDA shared module ../../../lib/_k2.cpython-310-x86_64-linux-gnu.so\u001b[0m\n",
            "[ 97%] \u001b[32m\u001b[1mLinking CUDA executable ../../../bin/ngram_lm_rescore\u001b[0m\n",
            "[ 97%] Built target ngram_lm_rescore\n",
            "[ 97%] Built target _k2\n",
            "[ 97%] \u001b[32m\u001b[1mLinking CUDA executable ../../../bin/attention_rescore\u001b[0m\n",
            "[ 97%] Built target attention_rescore\n",
            "[ 98%] \u001b[32m\u001b[1mLinking CUDA executable ../../../bin/online_decode\u001b[0m\n",
            "[ 98%] Built target online_decode\n",
            "[100%] \u001b[32m\u001b[1mLinking CUDA executable ../../../bin/rnnt_demo\u001b[0m\n",
            "[100%] Built target rnnt_demo\n",
            "[100%] \u001b[32m\u001b[1mLinking CUDA executable ../../../bin/pruned_stateless_transducer\u001b[0m\n",
            "[100%] Built target pruned_stateless_transducer\n",
            "\u001b[36mInstall the project...\u001b[0m\n",
            "-- Install configuration: \"Release\"\n",
            "-- Installing: /content/k2/build/lib.linux-x86_64-3.10/k2/share/cmake/k2/k2ConfigVersion.cmake\n",
            "-- Installing: /content/k2/build/lib.linux-x86_64-3.10/k2/share/cmake/k2/k2Config.cmake\n",
            "-- Installing: /content/k2/build/lib.linux-x86_64-3.10/k2/./torch_version.py\n",
            "-- Installing: /content/k2/build/lib.linux-x86_64-3.10/k2/lib/libk2_log.so\n",
            "-- Set runtime path of \"/content/k2/build/lib.linux-x86_64-3.10/k2/lib/libk2_log.so\" to \"$ORIGIN\"\n",
            "-- Installing: /content/k2/build/lib.linux-x86_64-3.10/k2/lib/libk2context.so\n",
            "-- Set runtime path of \"/content/k2/build/lib.linux-x86_64-3.10/k2/lib/libk2context.so\" to \"$ORIGIN:/usr/local/lib/python3.10/dist-packages/torch/lib\"\n",
            "-- Installing: /content/k2/build/lib.linux-x86_64-3.10/k2/lib/libk2fsa.so\n",
            "-- Set runtime path of \"/content/k2/build/lib.linux-x86_64-3.10/k2/lib/libk2fsa.so\" to \"$ORIGIN\"\n",
            "-- Installing: /content/k2/build/lib.linux-x86_64-3.10/k2/../_k2.cpython-310-x86_64-linux-gnu.so\n",
            "-- Set runtime path of \"/content/k2/build/lib.linux-x86_64-3.10/k2/../_k2.cpython-310-x86_64-linux-gnu.so\" to \"$ORIGIN:/usr/local/lib/python3.10/dist-packages/torch/lib\"\n",
            "-- Installing: /content/k2/build/lib.linux-x86_64-3.10/k2/lib/libk2_torch_api.so\n",
            "-- Set runtime path of \"/content/k2/build/lib.linux-x86_64-3.10/k2/lib/libk2_torch_api.so\" to \"$ORIGIN:/usr/local/lib/python3.10/dist-packages/torch/lib\"\n",
            "-- Installing: /content/k2/build/lib.linux-x86_64-3.10/k2/lib/libk2_torch.so\n",
            "-- Set runtime path of \"/content/k2/build/lib.linux-x86_64-3.10/k2/lib/libk2_torch.so\" to \"$ORIGIN:/usr/local/lib/python3.10/dist-packages/torch/lib\"\n",
            "-- Installing: /content/k2/build/lib.linux-x86_64-3.10/k2/include/k2/torch_api.h\n",
            "creating build/bdist.linux-x86_64\n",
            "creating build/bdist.linux-x86_64/egg\n",
            "creating build/bdist.linux-x86_64/egg/k2\n",
            "copying build/lib.linux-x86_64-3.10/k2/autograd_utils.py -> build/bdist.linux-x86_64/egg/k2\n",
            "creating build/bdist.linux-x86_64/egg/k2/include\n",
            "creating build/bdist.linux-x86_64/egg/k2/include/k2\n",
            "copying build/lib.linux-x86_64-3.10/k2/include/k2/torch_api.h -> build/bdist.linux-x86_64/egg/k2/include/k2\n",
            "copying build/lib.linux-x86_64-3.10/k2/torch_version.py -> build/bdist.linux-x86_64/egg/k2\n",
            "creating build/bdist.linux-x86_64/egg/k2/share\n",
            "creating build/bdist.linux-x86_64/egg/k2/share/cmake\n",
            "creating build/bdist.linux-x86_64/egg/k2/share/cmake/k2\n",
            "copying build/lib.linux-x86_64-3.10/k2/share/cmake/k2/k2ConfigVersion.cmake -> build/bdist.linux-x86_64/egg/k2/share/cmake/k2\n",
            "copying build/lib.linux-x86_64-3.10/k2/share/cmake/k2/k2Config.cmake -> build/bdist.linux-x86_64/egg/k2/share/cmake/k2\n",
            "copying build/lib.linux-x86_64-3.10/k2/symbol_table.py -> build/bdist.linux-x86_64/egg/k2\n",
            "copying build/lib.linux-x86_64-3.10/k2/utils.py -> build/bdist.linux-x86_64/egg/k2\n",
            "copying build/lib.linux-x86_64-3.10/k2/mwer_loss.py -> build/bdist.linux-x86_64/egg/k2\n",
            "copying build/lib.linux-x86_64-3.10/k2/online_dense_intersecter.py -> build/bdist.linux-x86_64/egg/k2\n",
            "copying build/lib.linux-x86_64-3.10/k2/fsa_properties.py -> build/bdist.linux-x86_64/egg/k2\n",
            "copying build/lib.linux-x86_64-3.10/k2/__init__.py -> build/bdist.linux-x86_64/egg/k2\n",
            "copying build/lib.linux-x86_64-3.10/k2/rnnt_loss.py -> build/bdist.linux-x86_64/egg/k2\n",
            "creating build/bdist.linux-x86_64/egg/k2/lib\n",
            "copying build/lib.linux-x86_64-3.10/k2/lib/libk2fsa.so -> build/bdist.linux-x86_64/egg/k2/lib\n",
            "copying build/lib.linux-x86_64-3.10/k2/lib/libk2context.so -> build/bdist.linux-x86_64/egg/k2/lib\n",
            "copying build/lib.linux-x86_64-3.10/k2/lib/libk2_torch.so -> build/bdist.linux-x86_64/egg/k2/lib\n",
            "copying build/lib.linux-x86_64-3.10/k2/lib/libk2_torch_api.so -> build/bdist.linux-x86_64/egg/k2/lib\n",
            "copying build/lib.linux-x86_64-3.10/k2/lib/libk2_log.so -> build/bdist.linux-x86_64/egg/k2/lib\n",
            "copying build/lib.linux-x86_64-3.10/k2/decode.py -> build/bdist.linux-x86_64/egg/k2\n",
            "copying build/lib.linux-x86_64-3.10/k2/ctc_loss.py -> build/bdist.linux-x86_64/egg/k2\n",
            "copying build/lib.linux-x86_64-3.10/k2/dense_fsa_vec.py -> build/bdist.linux-x86_64/egg/k2\n",
            "creating build/bdist.linux-x86_64/egg/k2/version\n",
            "copying build/lib.linux-x86_64-3.10/k2/version/__init__.py -> build/bdist.linux-x86_64/egg/k2/version\n",
            "copying build/lib.linux-x86_64-3.10/k2/version/__main__.py -> build/bdist.linux-x86_64/egg/k2/version\n",
            "copying build/lib.linux-x86_64-3.10/k2/version/version.py -> build/bdist.linux-x86_64/egg/k2/version\n",
            "copying build/lib.linux-x86_64-3.10/k2/fsa_algo.py -> build/bdist.linux-x86_64/egg/k2\n",
            "copying build/lib.linux-x86_64-3.10/k2/mutual_information.py -> build/bdist.linux-x86_64/egg/k2\n",
            "creating build/bdist.linux-x86_64/egg/k2/ragged\n",
            "copying build/lib.linux-x86_64-3.10/k2/ragged/__init__.py -> build/bdist.linux-x86_64/egg/k2/ragged\n",
            "copying build/lib.linux-x86_64-3.10/k2/autograd.py -> build/bdist.linux-x86_64/egg/k2\n",
            "copying build/lib.linux-x86_64-3.10/k2/nbest.py -> build/bdist.linux-x86_64/egg/k2\n",
            "copying build/lib.linux-x86_64-3.10/k2/ops.py -> build/bdist.linux-x86_64/egg/k2\n",
            "copying build/lib.linux-x86_64-3.10/k2/fsa.py -> build/bdist.linux-x86_64/egg/k2\n",
            "creating build/bdist.linux-x86_64/egg/k2/sparse\n",
            "copying build/lib.linux-x86_64-3.10/k2/sparse/__init__.py -> build/bdist.linux-x86_64/egg/k2/sparse\n",
            "copying build/lib.linux-x86_64-3.10/k2/sparse/autograd.py -> build/bdist.linux-x86_64/egg/k2/sparse\n",
            "copying build/lib.linux-x86_64-3.10/k2/rnnt_decode.py -> build/bdist.linux-x86_64/egg/k2\n",
            "copying build/lib.linux-x86_64-3.10/_k2.cpython-310-x86_64-linux-gnu.so -> build/bdist.linux-x86_64/egg\n",
            "byte-compiling build/bdist.linux-x86_64/egg/k2/autograd_utils.py to autograd_utils.cpython-310.pyc\n",
            "byte-compiling build/bdist.linux-x86_64/egg/k2/torch_version.py to torch_version.cpython-310.pyc\n",
            "byte-compiling build/bdist.linux-x86_64/egg/k2/symbol_table.py to symbol_table.cpython-310.pyc\n",
            "byte-compiling build/bdist.linux-x86_64/egg/k2/utils.py to utils.cpython-310.pyc\n",
            "byte-compiling build/bdist.linux-x86_64/egg/k2/mwer_loss.py to mwer_loss.cpython-310.pyc\n",
            "byte-compiling build/bdist.linux-x86_64/egg/k2/online_dense_intersecter.py to online_dense_intersecter.cpython-310.pyc\n",
            "byte-compiling build/bdist.linux-x86_64/egg/k2/fsa_properties.py to fsa_properties.cpython-310.pyc\n",
            "byte-compiling build/bdist.linux-x86_64/egg/k2/__init__.py to __init__.cpython-310.pyc\n",
            "byte-compiling build/bdist.linux-x86_64/egg/k2/rnnt_loss.py to rnnt_loss.cpython-310.pyc\n",
            "byte-compiling build/bdist.linux-x86_64/egg/k2/decode.py to decode.cpython-310.pyc\n",
            "byte-compiling build/bdist.linux-x86_64/egg/k2/ctc_loss.py to ctc_loss.cpython-310.pyc\n",
            "byte-compiling build/bdist.linux-x86_64/egg/k2/dense_fsa_vec.py to dense_fsa_vec.cpython-310.pyc\n",
            "byte-compiling build/bdist.linux-x86_64/egg/k2/version/__init__.py to __init__.cpython-310.pyc\n",
            "byte-compiling build/bdist.linux-x86_64/egg/k2/version/__main__.py to __main__.cpython-310.pyc\n",
            "byte-compiling build/bdist.linux-x86_64/egg/k2/version/version.py to version.cpython-310.pyc\n",
            "byte-compiling build/bdist.linux-x86_64/egg/k2/fsa_algo.py to fsa_algo.cpython-310.pyc\n",
            "byte-compiling build/bdist.linux-x86_64/egg/k2/mutual_information.py to mutual_information.cpython-310.pyc\n",
            "byte-compiling build/bdist.linux-x86_64/egg/k2/ragged/__init__.py to __init__.cpython-310.pyc\n",
            "byte-compiling build/bdist.linux-x86_64/egg/k2/autograd.py to autograd.cpython-310.pyc\n",
            "byte-compiling build/bdist.linux-x86_64/egg/k2/nbest.py to nbest.cpython-310.pyc\n",
            "byte-compiling build/bdist.linux-x86_64/egg/k2/ops.py to ops.cpython-310.pyc\n",
            "byte-compiling build/bdist.linux-x86_64/egg/k2/fsa.py to fsa.cpython-310.pyc\n",
            "byte-compiling build/bdist.linux-x86_64/egg/k2/sparse/__init__.py to __init__.cpython-310.pyc\n",
            "byte-compiling build/bdist.linux-x86_64/egg/k2/sparse/autograd.py to autograd.cpython-310.pyc\n",
            "byte-compiling build/bdist.linux-x86_64/egg/k2/rnnt_decode.py to rnnt_decode.cpython-310.pyc\n",
            "creating stub loader for _k2.cpython-310-x86_64-linux-gnu.so\n",
            "byte-compiling build/bdist.linux-x86_64/egg/_k2.py to _k2.cpython-310.pyc\n",
            "creating build/bdist.linux-x86_64/egg/EGG-INFO\n",
            "copying k2.egg-info/PKG-INFO -> build/bdist.linux-x86_64/egg/EGG-INFO\n",
            "copying k2.egg-info/SOURCES.txt -> build/bdist.linux-x86_64/egg/EGG-INFO\n",
            "copying k2.egg-info/dependency_links.txt -> build/bdist.linux-x86_64/egg/EGG-INFO\n",
            "copying k2.egg-info/not-zip-safe -> build/bdist.linux-x86_64/egg/EGG-INFO\n",
            "copying k2.egg-info/requires.txt -> build/bdist.linux-x86_64/egg/EGG-INFO\n",
            "copying k2.egg-info/top_level.txt -> build/bdist.linux-x86_64/egg/EGG-INFO\n",
            "writing build/bdist.linux-x86_64/egg/EGG-INFO/native_libs.txt\n",
            "creating dist\n",
            "creating 'dist/k2-1.24.1.dev20230501+cuda11.7.torch1.13.1-py3.10-linux-x86_64.egg' and adding 'build/bdist.linux-x86_64/egg' to it\n",
            "removing 'build/bdist.linux-x86_64/egg' (and everything under it)\n",
            "Processing k2-1.24.1.dev20230501+cuda11.7.torch1.13.1-py3.10-linux-x86_64.egg\n",
            "creating /usr/local/lib/python3.10/dist-packages/k2-1.24.1.dev20230501+cuda11.7.torch1.13.1-py3.10-linux-x86_64.egg\n",
            "Extracting k2-1.24.1.dev20230501+cuda11.7.torch1.13.1-py3.10-linux-x86_64.egg to /usr/local/lib/python3.10/dist-packages\n",
            "Adding k2 1.24.1.dev20230501+cuda11.7.torch1.13.1 to easy-install.pth file\n",
            "\n",
            "Installed /usr/local/lib/python3.10/dist-packages/k2-1.24.1.dev20230501+cuda11.7.torch1.13.1-py3.10-linux-x86_64.egg\n",
            "Processing dependencies for k2==1.24.1.dev20230501+cuda11.7.torch1.13.1\n",
            "Searching for graphviz==0.20.1\n",
            "Best match: graphviz 0.20.1\n",
            "Adding graphviz 0.20.1 to easy-install.pth file\n",
            "\n",
            "Using /usr/local/lib/python3.10/dist-packages\n",
            "Searching for torch==1.13.1\n",
            "Best match: torch 1.13.1\n",
            "Adding torch 1.13.1 to easy-install.pth file\n",
            "Installing convert-caffe2-to-onnx script to /usr/local/bin\n",
            "Installing convert-onnx-to-caffe2 script to /usr/local/bin\n",
            "Installing torchrun script to /usr/local/bin\n",
            "\n",
            "Using /usr/local/lib/python3.10/dist-packages\n",
            "Searching for nvidia-cuda-nvrtc-cu11==11.7.99\n",
            "Best match: nvidia-cuda-nvrtc-cu11 11.7.99\n",
            "Adding nvidia-cuda-nvrtc-cu11 11.7.99 to easy-install.pth file\n",
            "\n",
            "Using /usr/local/lib/python3.10/dist-packages\n",
            "Searching for nvidia-cublas-cu11==11.10.3.66\n",
            "Best match: nvidia-cublas-cu11 11.10.3.66\n",
            "Adding nvidia-cublas-cu11 11.10.3.66 to easy-install.pth file\n",
            "\n",
            "Using /usr/local/lib/python3.10/dist-packages\n",
            "Searching for nvidia-cudnn-cu11==8.5.0.96\n",
            "Best match: nvidia-cudnn-cu11 8.5.0.96\n",
            "Adding nvidia-cudnn-cu11 8.5.0.96 to easy-install.pth file\n",
            "\n",
            "Using /usr/local/lib/python3.10/dist-packages\n",
            "Searching for nvidia-cuda-runtime-cu11==11.7.99\n",
            "Best match: nvidia-cuda-runtime-cu11 11.7.99\n",
            "Adding nvidia-cuda-runtime-cu11 11.7.99 to easy-install.pth file\n",
            "\n",
            "Using /usr/local/lib/python3.10/dist-packages\n",
            "Searching for typing-extensions==4.5.0\n",
            "Best match: typing-extensions 4.5.0\n",
            "Adding typing-extensions 4.5.0 to easy-install.pth file\n",
            "\n",
            "Using /usr/local/lib/python3.10/dist-packages\n",
            "Searching for wheel==0.40.0\n",
            "Best match: wheel 0.40.0\n",
            "Adding wheel 0.40.0 to easy-install.pth file\n",
            "Installing wheel script to /usr/local/bin\n",
            "\n",
            "Using /usr/local/lib/python3.10/dist-packages\n",
            "Searching for setuptools==67.7.2\n",
            "Best match: setuptools 67.7.2\n",
            "Adding setuptools 67.7.2 to easy-install.pth file\n",
            "\n",
            "Using /usr/local/lib/python3.10/dist-packages\n",
            "Finished processing dependencies for k2==1.24.1.dev20230501+cuda11.7.torch1.13.1\n"
          ]
        }
      ]
    },
    {
      "cell_type": "markdown",
      "source": [
        "### Install kaldifeat"
      ],
      "metadata": {
        "id": "JtQrfy_IQD3D"
      }
    },
    {
      "cell_type": "code",
      "source": [
        "! KALDIFEAT_MAKE_ARGS=\"-j\" pip install --verbose kaldifeat"
      ],
      "metadata": {
        "colab": {
          "base_uri": "https://localhost:8080/"
        },
        "id": "Utl8nJxDQAiy",
        "outputId": "2584117e-e441-41c0-c303-8a8d976f1523"
      },
      "execution_count": 18,
      "outputs": [
        {
          "output_type": "stream",
          "name": "stdout",
          "text": [
            "Using pip 23.0.1 from /usr/local/lib/python3.10/dist-packages/pip (python 3.10)\n",
            "Looking in indexes: https://pypi.org/simple, https://us-python.pkg.dev/colab-wheels/public/simple/\n",
            "Collecting kaldifeat\n",
            "  Downloading kaldifeat-1.21.tar.gz (482 kB)\n",
            "\u001b[2K     \u001b[90m━━━━━━━━━━━━━━━━━━━━━━━━━━━━━━━━━━━━━━\u001b[0m \u001b[32m482.4/482.4 kB\u001b[0m \u001b[31m10.3 MB/s\u001b[0m eta \u001b[36m0:00:00\u001b[0m\n",
            "\u001b[?25h  Running command python setup.py egg_info\n",
            "  running egg_info\n",
            "  creating /tmp/pip-pip-egg-info-yq1ut5cb/kaldifeat.egg-info\n",
            "  writing /tmp/pip-pip-egg-info-yq1ut5cb/kaldifeat.egg-info/PKG-INFO\n",
            "  writing dependency_links to /tmp/pip-pip-egg-info-yq1ut5cb/kaldifeat.egg-info/dependency_links.txt\n",
            "  writing top-level names to /tmp/pip-pip-egg-info-yq1ut5cb/kaldifeat.egg-info/top_level.txt\n",
            "  writing manifest file '/tmp/pip-pip-egg-info-yq1ut5cb/kaldifeat.egg-info/SOURCES.txt'\n",
            "  reading manifest file '/tmp/pip-pip-egg-info-yq1ut5cb/kaldifeat.egg-info/SOURCES.txt'\n",
            "  reading manifest template 'MANIFEST.in'\n",
            "  warning: no previously-included files found matching 'pyproject.toml'\n",
            "  adding license file 'LICENSE'\n",
            "  writing manifest file '/tmp/pip-pip-egg-info-yq1ut5cb/kaldifeat.egg-info/SOURCES.txt'\n",
            "  Preparing metadata (setup.py) ... \u001b[?25l\u001b[?25hdone\n",
            "Building wheels for collected packages: kaldifeat\n",
            "  Running command python setup.py bdist_wheel\n",
            "  running bdist_wheel\n",
            "  running build\n",
            "  running build_py\n",
            "  creating build\n",
            "  creating build/lib.linux-x86_64-3.10\n",
            "  creating build/lib.linux-x86_64-3.10/kaldifeat\n",
            "  copying kaldifeat/python/kaldifeat/offline_feature.py -> build/lib.linux-x86_64-3.10/kaldifeat\n",
            "  copying kaldifeat/python/kaldifeat/__init__.py -> build/lib.linux-x86_64-3.10/kaldifeat\n",
            "  copying kaldifeat/python/kaldifeat/plp.py -> build/lib.linux-x86_64-3.10/kaldifeat\n",
            "  copying kaldifeat/python/kaldifeat/mfcc.py -> build/lib.linux-x86_64-3.10/kaldifeat\n",
            "  copying kaldifeat/python/kaldifeat/spectrogram.py -> build/lib.linux-x86_64-3.10/kaldifeat\n",
            "  copying kaldifeat/python/kaldifeat/online_feature.py -> build/lib.linux-x86_64-3.10/kaldifeat\n",
            "  copying kaldifeat/python/kaldifeat/fbank.py -> build/lib.linux-x86_64-3.10/kaldifeat\n",
            "  running build_ext\n",
            "  Setting PYTHON_EXECUTABLE to /usr/bin/python3\n",
            "  build command is:\n",
            "\n",
            "                  cd build/temp.linux-x86_64-3.10\n",
            "\n",
            "                  cmake -DCMAKE_BUILD_TYPE=Release -DPYTHON_EXECUTABLE=/usr/bin/python3 -Dkaldifeat_BUILD_TESTS=OFF  -DCMAKE_INSTALL_PREFIX=/tmp/pip-install-11nswnvu/kaldifeat_e7f4af1bc2f5486a822d4251eb2ef7b6/build/lib.linux-x86_64-3.10/kaldifeat  /tmp/pip-install-11nswnvu/kaldifeat_e7f4af1bc2f5486a822d4251eb2ef7b6\n",
            "\n",
            "\n",
            "                  make -j _kaldifeat install\n",
            "\n",
            "  -- The C compiler identification is GNU 9.4.0\n",
            "  -- The CXX compiler identification is GNU 9.4.0\n",
            "  -- Detecting C compiler ABI info\n",
            "  -- Detecting C compiler ABI info - done\n",
            "  -- Check for working C compiler: /usr/bin/cc - skipped\n",
            "  -- Detecting C compile features\n",
            "  -- Detecting C compile features - done\n",
            "  -- Detecting CXX compiler ABI info\n",
            "  -- Detecting CXX compiler ABI info - done\n",
            "  -- Check for working CXX compiler: /usr/bin/c++ - skipped\n",
            "  -- Detecting CXX compile features\n",
            "  -- Detecting CXX compile features - done\n",
            "  -- C++ Standard version: 14\n",
            "  -- Downloading pybind11\n",
            "  -- pybind11 is downloaded to /tmp/pip-install-11nswnvu/kaldifeat_e7f4af1bc2f5486a822d4251eb2ef7b6/build/temp.linux-x86_64-3.10/_deps/pybind11-src\n",
            "  -- pybind11 v2.9.2\n",
            "  -- Found PythonInterp: /usr/bin/python3 (found version \"3.10.11\")\n",
            "  -- Found PythonLibs: /usr/lib/x86_64-linux-gnu/libpython3.10.so\n",
            "  -- Performing Test HAS_FLTO\n",
            "  -- Performing Test HAS_FLTO - Success\n",
            "  -- Python executable: /usr/bin/python3\n",
            "  -- TORCH_DIR: /usr/local/lib/python3.10/dist-packages/torch\n",
            "  -- Performing Test CMAKE_HAVE_LIBC_PTHREAD\n",
            "  -- Performing Test CMAKE_HAVE_LIBC_PTHREAD - Failed\n",
            "  -- Looking for pthread_create in pthreads\n",
            "  -- Looking for pthread_create in pthreads - not found\n",
            "  -- Looking for pthread_create in pthread\n",
            "  -- Looking for pthread_create in pthread - found\n",
            "  -- Found Threads: TRUE\n",
            "  -- Found CUDA: /content/cuda11/software/cuda-11.7.1 (found version \"11.7\")\n",
            "  -- The CUDA compiler identification is NVIDIA 11.7.99\n",
            "  -- Detecting CUDA compiler ABI info\n",
            "  -- Detecting CUDA compiler ABI info - done\n",
            "  -- Check for working CUDA compiler: /usr/local/cuda/bin/nvcc - skipped\n",
            "  -- Detecting CUDA compile features\n",
            "  -- Detecting CUDA compile features - done\n",
            "  -- Caffe2: CUDA detected: 11.7\n",
            "  -- Caffe2: CUDA nvcc is: /content/cuda11/software/cuda-11.7.1/bin/nvcc\n",
            "  -- Caffe2: CUDA toolkit directory: /content/cuda11/software/cuda-11.7.1\n",
            "  -- Caffe2: Header version is: 11.7\n",
            "  -- Found CUDNN: /content/cuda11/software/cuda-11.7.1/lib64/libcudnn.so\n",
            "  -- Found cuDNN: v8.2.0  (include: /content/cuda11/software/cuda-11.7.1/include, library: /content/cuda11/software/cuda-11.7.1/lib64/libcudnn.so)\n",
            "  -- /content/cuda11/software/cuda-11.7.1/lib64/libnvrtc.so shorthash is 581f1f99\n",
            "  -- Automatic GPU detection failed. Building for common architectures.\n",
            "  -- Autodetected CUDA architecture(s): 3.5;5.0;5.2;6.0;6.1;7.0;7.5;8.0;8.6;8.6+PTX\n",
            "  -- Added CUDA NVCC flags for: -gencode;arch=compute_35,code=sm_35;-gencode;arch=compute_50,code=sm_50;-gencode;arch=compute_52,code=sm_52;-gencode;arch=compute_60,code=sm_60;-gencode;arch=compute_61,code=sm_61;-gencode;arch=compute_70,code=sm_70;-gencode;arch=compute_75,code=sm_75;-gencode;arch=compute_80,code=sm_80;-gencode;arch=compute_86,code=sm_86;-gencode;arch=compute_86,code=compute_86\n",
            "  CMake Warning at /usr/local/lib/python3.10/dist-packages/torch/share/cmake/Torch/TorchConfig.cmake:22 (message):\n",
            "    static library kineto_LIBRARY-NOTFOUND not found.\n",
            "  Call Stack (most recent call first):\n",
            "    /usr/local/lib/python3.10/dist-packages/torch/share/cmake/Torch/TorchConfig.cmake:127 (append_torchlib_if_found)\n",
            "    cmake/torch.cmake:14 (find_package)\n",
            "    CMakeLists.txt:56 (include)\n",
            "\n",
            "\n",
            "  -- Found Torch: /usr/local/lib/python3.10/dist-packages/torch/lib/libtorch.so\n",
            "  -- PyTorch version: 1.13.1+cu117\n",
            "  -- CMAKE_CXX_FLAGS:  -D_GLIBCXX_USE_CXX11_ABI=0\n",
            "  -- CMAKE_INSTALL_PREFIX: /tmp/pip-install-11nswnvu/kaldifeat_e7f4af1bc2f5486a822d4251eb2ef7b6/build/lib.linux-x86_64-3.10/kaldifeat\n",
            "  -- All headers: /tmp/pip-install-11nswnvu/kaldifeat_e7f4af1bc2f5486a822d4251eb2ef7b6/kaldifeat/csrc/feature-common-inl.h;/tmp/pip-install-11nswnvu/kaldifeat_e7f4af1bc2f5486a822d4251eb2ef7b6/kaldifeat/csrc/feature-common.h;/tmp/pip-install-11nswnvu/kaldifeat_e7f4af1bc2f5486a822d4251eb2ef7b6/kaldifeat/csrc/feature-fbank.h;/tmp/pip-install-11nswnvu/kaldifeat_e7f4af1bc2f5486a822d4251eb2ef7b6/kaldifeat/csrc/feature-functions.h;/tmp/pip-install-11nswnvu/kaldifeat_e7f4af1bc2f5486a822d4251eb2ef7b6/kaldifeat/csrc/feature-mfcc.h;/tmp/pip-install-11nswnvu/kaldifeat_e7f4af1bc2f5486a822d4251eb2ef7b6/kaldifeat/csrc/feature-plp.h;/tmp/pip-install-11nswnvu/kaldifeat_e7f4af1bc2f5486a822d4251eb2ef7b6/kaldifeat/csrc/feature-spectrogram.h;/tmp/pip-install-11nswnvu/kaldifeat_e7f4af1bc2f5486a822d4251eb2ef7b6/kaldifeat/csrc/feature-window.h;/tmp/pip-install-11nswnvu/kaldifeat_e7f4af1bc2f5486a822d4251eb2ef7b6/kaldifeat/csrc/log.h;/tmp/pip-install-11nswnvu/kaldifeat_e7f4af1bc2f5486a822d4251eb2ef7b6/kaldifeat/csrc/matrix-functions.h;/tmp/pip-install-11nswnvu/kaldifeat_e7f4af1bc2f5486a822d4251eb2ef7b6/kaldifeat/csrc/mel-computations.h;/tmp/pip-install-11nswnvu/kaldifeat_e7f4af1bc2f5486a822d4251eb2ef7b6/kaldifeat/csrc/online-feature-itf.h;/tmp/pip-install-11nswnvu/kaldifeat_e7f4af1bc2f5486a822d4251eb2ef7b6/kaldifeat/csrc/online-feature.h;/tmp/pip-install-11nswnvu/kaldifeat_e7f4af1bc2f5486a822d4251eb2ef7b6/kaldifeat/csrc/pitch-functions.h\n",
            "  -- Configuring done\n",
            "  -- Generating done\n",
            "  -- Build files have been written to: /tmp/pip-install-11nswnvu/kaldifeat_e7f4af1bc2f5486a822d4251eb2ef7b6/build/temp.linux-x86_64-3.10\n",
            "  [  5%] Building CXX object kaldifeat/csrc/CMakeFiles/kaldifeat_core.dir/feature-fbank.cc.o\n",
            "  [ 10%] Building CXX object kaldifeat/csrc/CMakeFiles/kaldifeat_core.dir/feature-functions.cc.o\n",
            "  [ 15%] Building CXX object kaldifeat/csrc/CMakeFiles/kaldifeat_core.dir/feature-mfcc.cc.o\n",
            "  [ 20%] Building CXX object kaldifeat/csrc/CMakeFiles/kaldifeat_core.dir/feature-plp.cc.o\n",
            "  [ 25%] Building CXX object kaldifeat/csrc/CMakeFiles/kaldifeat_core.dir/feature-spectrogram.cc.o\n",
            "  [ 30%] Building CXX object kaldifeat/csrc/CMakeFiles/kaldifeat_core.dir/feature-window.cc.o\n",
            "  [ 35%] Building CXX object kaldifeat/csrc/CMakeFiles/kaldifeat_core.dir/matrix-functions.cc.o\n",
            "  [ 40%] Building CXX object kaldifeat/csrc/CMakeFiles/kaldifeat_core.dir/mel-computations.cc.o\n",
            "  [ 45%] Building CXX object kaldifeat/csrc/CMakeFiles/kaldifeat_core.dir/online-feature.cc.o\n",
            "  [ 50%] Linking CXX shared library ../../lib/libkaldifeat_core.so\n",
            "  [ 50%] Built target kaldifeat_core\n",
            "  [ 55%] Building CXX object kaldifeat/python/csrc/CMakeFiles/_kaldifeat.dir/feature-fbank.cc.o\n",
            "  [ 60%] Building CXX object kaldifeat/python/csrc/CMakeFiles/_kaldifeat.dir/feature-mfcc.cc.o\n",
            "  [ 65%] Building CXX object kaldifeat/python/csrc/CMakeFiles/_kaldifeat.dir/feature-plp.cc.o\n",
            "  [ 70%] Building CXX object kaldifeat/python/csrc/CMakeFiles/_kaldifeat.dir/feature-spectrogram.cc.o\n",
            "  [ 75%] Building CXX object kaldifeat/python/csrc/CMakeFiles/_kaldifeat.dir/feature-window.cc.o\n",
            "  [ 80%] Building CXX object kaldifeat/python/csrc/CMakeFiles/_kaldifeat.dir/kaldifeat.cc.o\n",
            "  [ 85%] Building CXX object kaldifeat/python/csrc/CMakeFiles/_kaldifeat.dir/mel-computations.cc.o\n",
            "  [ 95%] Building CXX object kaldifeat/python/csrc/CMakeFiles/_kaldifeat.dir/utils.cc.o\n",
            "  [ 95%] Building CXX object kaldifeat/python/csrc/CMakeFiles/_kaldifeat.dir/online-feature.cc.o\n",
            "  [100%] Linking CXX shared module ../../../lib/_kaldifeat.cpython-310-x86_64-linux-gnu.so\n",
            "  [100%] Built target _kaldifeat\n",
            "  [ 45%] Built target kaldifeat_core\n",
            "  [ 50%] Building CXX object kaldifeat/csrc/CMakeFiles/test_kaldifeat.dir/test_kaldifeat.cc.o\n",
            "  [ 95%] Built target _kaldifeat\n",
            "  [100%] Linking CXX executable ../../bin/test_kaldifeat\n",
            "  [100%] Built target test_kaldifeat\n",
            "  Install the project...\n",
            "  -- Install configuration: \"Release\"\n",
            "  -- Installing: /tmp/pip-install-11nswnvu/kaldifeat_e7f4af1bc2f5486a822d4251eb2ef7b6/build/lib.linux-x86_64-3.10/kaldifeat/share/cmake/kaldifeat/kaldifeatConfigVersion.cmake\n",
            "  -- Installing: /tmp/pip-install-11nswnvu/kaldifeat_e7f4af1bc2f5486a822d4251eb2ef7b6/build/lib.linux-x86_64-3.10/kaldifeat/share/cmake/kaldifeat/kaldifeatConfig.cmake\n",
            "  -- Installing: /tmp/pip-install-11nswnvu/kaldifeat_e7f4af1bc2f5486a822d4251eb2ef7b6/build/lib.linux-x86_64-3.10/kaldifeat/./torch_version.py\n",
            "  -- Installing: /tmp/pip-install-11nswnvu/kaldifeat_e7f4af1bc2f5486a822d4251eb2ef7b6/build/lib.linux-x86_64-3.10/kaldifeat/lib/libkaldifeat_core.so\n",
            "  -- Set runtime path of \"/tmp/pip-install-11nswnvu/kaldifeat_e7f4af1bc2f5486a822d4251eb2ef7b6/build/lib.linux-x86_64-3.10/kaldifeat/lib/libkaldifeat_core.so\" to \"$ORIGIN:/usr/local/lib/python3.10/dist-packages/torch/lib:/content/cuda11/software/cuda-11.7.1/lib64\"\n",
            "  -- Installing: /tmp/pip-install-11nswnvu/kaldifeat_e7f4af1bc2f5486a822d4251eb2ef7b6/build/lib.linux-x86_64-3.10/kaldifeat/include/kaldifeat/csrc/feature-common-inl.h\n",
            "  -- Installing: /tmp/pip-install-11nswnvu/kaldifeat_e7f4af1bc2f5486a822d4251eb2ef7b6/build/lib.linux-x86_64-3.10/kaldifeat/include/kaldifeat/csrc/feature-common.h\n",
            "  -- Installing: /tmp/pip-install-11nswnvu/kaldifeat_e7f4af1bc2f5486a822d4251eb2ef7b6/build/lib.linux-x86_64-3.10/kaldifeat/include/kaldifeat/csrc/feature-fbank.h\n",
            "  -- Installing: /tmp/pip-install-11nswnvu/kaldifeat_e7f4af1bc2f5486a822d4251eb2ef7b6/build/lib.linux-x86_64-3.10/kaldifeat/include/kaldifeat/csrc/feature-functions.h\n",
            "  -- Installing: /tmp/pip-install-11nswnvu/kaldifeat_e7f4af1bc2f5486a822d4251eb2ef7b6/build/lib.linux-x86_64-3.10/kaldifeat/include/kaldifeat/csrc/feature-mfcc.h\n",
            "  -- Installing: /tmp/pip-install-11nswnvu/kaldifeat_e7f4af1bc2f5486a822d4251eb2ef7b6/build/lib.linux-x86_64-3.10/kaldifeat/include/kaldifeat/csrc/feature-plp.h\n",
            "  -- Installing: /tmp/pip-install-11nswnvu/kaldifeat_e7f4af1bc2f5486a822d4251eb2ef7b6/build/lib.linux-x86_64-3.10/kaldifeat/include/kaldifeat/csrc/feature-spectrogram.h\n",
            "  -- Installing: /tmp/pip-install-11nswnvu/kaldifeat_e7f4af1bc2f5486a822d4251eb2ef7b6/build/lib.linux-x86_64-3.10/kaldifeat/include/kaldifeat/csrc/feature-window.h\n",
            "  -- Installing: /tmp/pip-install-11nswnvu/kaldifeat_e7f4af1bc2f5486a822d4251eb2ef7b6/build/lib.linux-x86_64-3.10/kaldifeat/include/kaldifeat/csrc/log.h\n",
            "  -- Installing: /tmp/pip-install-11nswnvu/kaldifeat_e7f4af1bc2f5486a822d4251eb2ef7b6/build/lib.linux-x86_64-3.10/kaldifeat/include/kaldifeat/csrc/matrix-functions.h\n",
            "  -- Installing: /tmp/pip-install-11nswnvu/kaldifeat_e7f4af1bc2f5486a822d4251eb2ef7b6/build/lib.linux-x86_64-3.10/kaldifeat/include/kaldifeat/csrc/mel-computations.h\n",
            "  -- Installing: /tmp/pip-install-11nswnvu/kaldifeat_e7f4af1bc2f5486a822d4251eb2ef7b6/build/lib.linux-x86_64-3.10/kaldifeat/include/kaldifeat/csrc/online-feature-itf.h\n",
            "  -- Installing: /tmp/pip-install-11nswnvu/kaldifeat_e7f4af1bc2f5486a822d4251eb2ef7b6/build/lib.linux-x86_64-3.10/kaldifeat/include/kaldifeat/csrc/online-feature.h\n",
            "  -- Installing: /tmp/pip-install-11nswnvu/kaldifeat_e7f4af1bc2f5486a822d4251eb2ef7b6/build/lib.linux-x86_64-3.10/kaldifeat/include/kaldifeat/csrc/pitch-functions.h\n",
            "  -- Installing: /tmp/pip-install-11nswnvu/kaldifeat_e7f4af1bc2f5486a822d4251eb2ef7b6/build/lib.linux-x86_64-3.10/kaldifeat/../_kaldifeat.cpython-310-x86_64-linux-gnu.so\n",
            "  -- Set runtime path of \"/tmp/pip-install-11nswnvu/kaldifeat_e7f4af1bc2f5486a822d4251eb2ef7b6/build/lib.linux-x86_64-3.10/kaldifeat/../_kaldifeat.cpython-310-x86_64-linux-gnu.so\" to \"$ORIGIN:/usr/local/lib/python3.10/dist-packages/torch/lib:/content/cuda11/software/cuda-11.7.1/lib64\"\n",
            "  /usr/lib/python3.10/distutils/cmd.py:62: SetuptoolsDeprecationWarning: setup.py install is deprecated.\n",
            "  !!\n",
            "\n",
            "          ********************************************************************************\n",
            "          Please avoid running ``setup.py`` directly.\n",
            "          Instead, use pypa/build, pypa/installer, pypa/build or\n",
            "          other standards-based tools.\n",
            "\n",
            "          See https://blog.ganssle.io/articles/2021/10/setup-py-deprecated.html for details.\n",
            "          ********************************************************************************\n",
            "\n",
            "  !!\n",
            "    self.initialize_options()\n",
            "  installing to build/bdist.linux-x86_64/wheel\n",
            "  running install\n",
            "  running install_lib\n",
            "  creating build/bdist.linux-x86_64\n",
            "  creating build/bdist.linux-x86_64/wheel\n",
            "  creating build/bdist.linux-x86_64/wheel/kaldifeat\n",
            "  creating build/bdist.linux-x86_64/wheel/kaldifeat/include\n",
            "  creating build/bdist.linux-x86_64/wheel/kaldifeat/include/kaldifeat\n",
            "  creating build/bdist.linux-x86_64/wheel/kaldifeat/include/kaldifeat/csrc\n",
            "  copying build/lib.linux-x86_64-3.10/kaldifeat/include/kaldifeat/csrc/online-feature.h -> build/bdist.linux-x86_64/wheel/kaldifeat/include/kaldifeat/csrc\n",
            "  copying build/lib.linux-x86_64-3.10/kaldifeat/include/kaldifeat/csrc/feature-common-inl.h -> build/bdist.linux-x86_64/wheel/kaldifeat/include/kaldifeat/csrc\n",
            "  copying build/lib.linux-x86_64-3.10/kaldifeat/include/kaldifeat/csrc/feature-spectrogram.h -> build/bdist.linux-x86_64/wheel/kaldifeat/include/kaldifeat/csrc\n",
            "  copying build/lib.linux-x86_64-3.10/kaldifeat/include/kaldifeat/csrc/feature-mfcc.h -> build/bdist.linux-x86_64/wheel/kaldifeat/include/kaldifeat/csrc\n",
            "  copying build/lib.linux-x86_64-3.10/kaldifeat/include/kaldifeat/csrc/feature-functions.h -> build/bdist.linux-x86_64/wheel/kaldifeat/include/kaldifeat/csrc\n",
            "  copying build/lib.linux-x86_64-3.10/kaldifeat/include/kaldifeat/csrc/online-feature-itf.h -> build/bdist.linux-x86_64/wheel/kaldifeat/include/kaldifeat/csrc\n",
            "  copying build/lib.linux-x86_64-3.10/kaldifeat/include/kaldifeat/csrc/feature-common.h -> build/bdist.linux-x86_64/wheel/kaldifeat/include/kaldifeat/csrc\n",
            "  copying build/lib.linux-x86_64-3.10/kaldifeat/include/kaldifeat/csrc/log.h -> build/bdist.linux-x86_64/wheel/kaldifeat/include/kaldifeat/csrc\n",
            "  copying build/lib.linux-x86_64-3.10/kaldifeat/include/kaldifeat/csrc/pitch-functions.h -> build/bdist.linux-x86_64/wheel/kaldifeat/include/kaldifeat/csrc\n",
            "  copying build/lib.linux-x86_64-3.10/kaldifeat/include/kaldifeat/csrc/feature-fbank.h -> build/bdist.linux-x86_64/wheel/kaldifeat/include/kaldifeat/csrc\n",
            "  copying build/lib.linux-x86_64-3.10/kaldifeat/include/kaldifeat/csrc/matrix-functions.h -> build/bdist.linux-x86_64/wheel/kaldifeat/include/kaldifeat/csrc\n",
            "  copying build/lib.linux-x86_64-3.10/kaldifeat/include/kaldifeat/csrc/feature-plp.h -> build/bdist.linux-x86_64/wheel/kaldifeat/include/kaldifeat/csrc\n",
            "  copying build/lib.linux-x86_64-3.10/kaldifeat/include/kaldifeat/csrc/mel-computations.h -> build/bdist.linux-x86_64/wheel/kaldifeat/include/kaldifeat/csrc\n",
            "  copying build/lib.linux-x86_64-3.10/kaldifeat/include/kaldifeat/csrc/feature-window.h -> build/bdist.linux-x86_64/wheel/kaldifeat/include/kaldifeat/csrc\n",
            "  copying build/lib.linux-x86_64-3.10/kaldifeat/offline_feature.py -> build/bdist.linux-x86_64/wheel/kaldifeat\n",
            "  copying build/lib.linux-x86_64-3.10/kaldifeat/torch_version.py -> build/bdist.linux-x86_64/wheel/kaldifeat\n",
            "  creating build/bdist.linux-x86_64/wheel/kaldifeat/share\n",
            "  creating build/bdist.linux-x86_64/wheel/kaldifeat/share/cmake\n",
            "  creating build/bdist.linux-x86_64/wheel/kaldifeat/share/cmake/kaldifeat\n",
            "  copying build/lib.linux-x86_64-3.10/kaldifeat/share/cmake/kaldifeat/kaldifeatConfigVersion.cmake -> build/bdist.linux-x86_64/wheel/kaldifeat/share/cmake/kaldifeat\n",
            "  copying build/lib.linux-x86_64-3.10/kaldifeat/share/cmake/kaldifeat/kaldifeatConfig.cmake -> build/bdist.linux-x86_64/wheel/kaldifeat/share/cmake/kaldifeat\n",
            "  copying build/lib.linux-x86_64-3.10/kaldifeat/__init__.py -> build/bdist.linux-x86_64/wheel/kaldifeat\n",
            "  creating build/bdist.linux-x86_64/wheel/kaldifeat/lib\n",
            "  copying build/lib.linux-x86_64-3.10/kaldifeat/lib/libkaldifeat_core.so -> build/bdist.linux-x86_64/wheel/kaldifeat/lib\n",
            "  copying build/lib.linux-x86_64-3.10/kaldifeat/plp.py -> build/bdist.linux-x86_64/wheel/kaldifeat\n",
            "  copying build/lib.linux-x86_64-3.10/kaldifeat/mfcc.py -> build/bdist.linux-x86_64/wheel/kaldifeat\n",
            "  copying build/lib.linux-x86_64-3.10/kaldifeat/spectrogram.py -> build/bdist.linux-x86_64/wheel/kaldifeat\n",
            "  copying build/lib.linux-x86_64-3.10/kaldifeat/online_feature.py -> build/bdist.linux-x86_64/wheel/kaldifeat\n",
            "  copying build/lib.linux-x86_64-3.10/kaldifeat/fbank.py -> build/bdist.linux-x86_64/wheel/kaldifeat\n",
            "  copying build/lib.linux-x86_64-3.10/_kaldifeat.cpython-310-x86_64-linux-gnu.so -> build/bdist.linux-x86_64/wheel\n",
            "  running install_egg_info\n",
            "  running egg_info\n",
            "  writing kaldifeat.egg-info/PKG-INFO\n",
            "  writing dependency_links to kaldifeat.egg-info/dependency_links.txt\n",
            "  writing top-level names to kaldifeat.egg-info/top_level.txt\n",
            "  reading manifest file 'kaldifeat.egg-info/SOURCES.txt'\n",
            "  reading manifest template 'MANIFEST.in'\n",
            "  warning: no previously-included files found matching 'pyproject.toml'\n",
            "  adding license file 'LICENSE'\n",
            "  writing manifest file 'kaldifeat.egg-info/SOURCES.txt'\n",
            "  Copying kaldifeat.egg-info to build/bdist.linux-x86_64/wheel/kaldifeat-1.21-py3.10.egg-info\n",
            "  running install_scripts\n",
            "  creating build/bdist.linux-x86_64/wheel/kaldifeat-1.21.dist-info/WHEEL\n",
            "  creating '/tmp/pip-wheel-1dpdktsk/kaldifeat-1.21-cp310-cp310-linux_x86_64.whl' and adding 'build/bdist.linux-x86_64/wheel' to it\n",
            "  adding '_kaldifeat.cpython-310-x86_64-linux-gnu.so'\n",
            "  adding 'kaldifeat/__init__.py'\n",
            "  adding 'kaldifeat/fbank.py'\n",
            "  adding 'kaldifeat/mfcc.py'\n",
            "  adding 'kaldifeat/offline_feature.py'\n",
            "  adding 'kaldifeat/online_feature.py'\n",
            "  adding 'kaldifeat/plp.py'\n",
            "  adding 'kaldifeat/spectrogram.py'\n",
            "  adding 'kaldifeat/torch_version.py'\n",
            "  adding 'kaldifeat/include/kaldifeat/csrc/feature-common-inl.h'\n",
            "  adding 'kaldifeat/include/kaldifeat/csrc/feature-common.h'\n",
            "  adding 'kaldifeat/include/kaldifeat/csrc/feature-fbank.h'\n",
            "  adding 'kaldifeat/include/kaldifeat/csrc/feature-functions.h'\n",
            "  adding 'kaldifeat/include/kaldifeat/csrc/feature-mfcc.h'\n",
            "  adding 'kaldifeat/include/kaldifeat/csrc/feature-plp.h'\n",
            "  adding 'kaldifeat/include/kaldifeat/csrc/feature-spectrogram.h'\n",
            "  adding 'kaldifeat/include/kaldifeat/csrc/feature-window.h'\n",
            "  adding 'kaldifeat/include/kaldifeat/csrc/log.h'\n",
            "  adding 'kaldifeat/include/kaldifeat/csrc/matrix-functions.h'\n",
            "  adding 'kaldifeat/include/kaldifeat/csrc/mel-computations.h'\n",
            "  adding 'kaldifeat/include/kaldifeat/csrc/online-feature-itf.h'\n",
            "  adding 'kaldifeat/include/kaldifeat/csrc/online-feature.h'\n",
            "  adding 'kaldifeat/include/kaldifeat/csrc/pitch-functions.h'\n",
            "  adding 'kaldifeat/lib/libkaldifeat_core.so'\n",
            "  adding 'kaldifeat/share/cmake/kaldifeat/kaldifeatConfig.cmake'\n",
            "  adding 'kaldifeat/share/cmake/kaldifeat/kaldifeatConfigVersion.cmake'\n",
            "  adding 'kaldifeat-1.21.dist-info/LICENSE'\n",
            "  adding 'kaldifeat-1.21.dist-info/METADATA'\n",
            "  adding 'kaldifeat-1.21.dist-info/WHEEL'\n",
            "  adding 'kaldifeat-1.21.dist-info/top_level.txt'\n",
            "  adding 'kaldifeat-1.21.dist-info/RECORD'\n",
            "  removing build/bdist.linux-x86_64/wheel\n",
            "  Building wheel for kaldifeat (setup.py) ... \u001b[?25l\u001b[?25hdone\n",
            "  Created wheel for kaldifeat: filename=kaldifeat-1.21-cp310-cp310-linux_x86_64.whl size=263257 sha256=594572bed03a1a3d61d9bd98b34920e3eb429d5481ea13ed9afc214a0c4d2c69\n",
            "  Stored in directory: /root/.cache/pip/wheels/e3/31/9b/a97ec285f4e5bfb43d7f85cff15db32ed680d3619e15675643\n",
            "Successfully built kaldifeat\n",
            "Installing collected packages: kaldifeat\n",
            "Successfully installed kaldifeat-1.21\n"
          ]
        }
      ]
    },
    {
      "cell_type": "markdown",
      "source": [
        "To check that kaldifeat was installed successfully, run"
      ],
      "metadata": {
        "id": "ZNFs-7WeQIr3"
      }
    },
    {
      "cell_type": "code",
      "source": [
        "! python3 -c \"import kaldifeat; print(kaldifeat.__version__)\""
      ],
      "metadata": {
        "colab": {
          "base_uri": "https://localhost:8080/"
        },
        "id": "iMo6WHQJQGS3",
        "outputId": "a9458084-8a18-4bfe-fe97-c0397fde4480"
      },
      "execution_count": 19,
      "outputs": [
        {
          "output_type": "stream",
          "name": "stdout",
          "text": [
            "1.21\n"
          ]
        }
      ]
    },
    {
      "cell_type": "markdown",
      "source": [
        "### Install icefall\n",
        "\n",
        "icefall is a collection of Python scripts. All you need is just to\n",
        "download its source code and set the `PYTHONPATH` environment variable."
      ],
      "metadata": {
        "id": "Nj1qvE2gQPAx"
      }
    },
    {
      "cell_type": "code",
      "source": [
        "! git clone https://github.com/k2-fsa/icefall"
      ],
      "metadata": {
        "colab": {
          "base_uri": "https://localhost:8080/"
        },
        "id": "0-1EowsbQLAs",
        "outputId": "fa549911-9eff-4566-9b29-b0465d09e96d"
      },
      "execution_count": 20,
      "outputs": [
        {
          "output_type": "stream",
          "name": "stdout",
          "text": [
            "Cloning into 'icefall'...\n",
            "remote: Enumerating objects: 11840, done.\u001b[K\n",
            "remote: Counting objects: 100% (183/183), done.\u001b[K\n",
            "remote: Compressing objects: 100% (123/123), done.\u001b[K\n",
            "remote: Total 11840 (delta 89), reused 92 (delta 44), pack-reused 11657\u001b[K\n",
            "Receiving objects: 100% (11840/11840), 13.61 MiB | 32.86 MiB/s, done.\n",
            "Resolving deltas: 100% (8048/8048), done.\n"
          ]
        }
      ]
    },
    {
      "cell_type": "code",
      "source": [
        "! pip install -q kaldialign sentencepiece>=0.1.96 lhotse"
      ],
      "metadata": {
        "id": "eFUULI_pQee5"
      },
      "execution_count": 21,
      "outputs": []
    },
    {
      "cell_type": "code",
      "source": [
        "! pip install git+https://github.com/lhotse-speech/lhotse\n"
      ],
      "metadata": {
        "colab": {
          "base_uri": "https://localhost:8080/"
        },
        "id": "T_5-c61Cb1wu",
        "outputId": "25f2e546-4163-45be-fcde-be552d65b1f9"
      },
      "execution_count": 22,
      "outputs": [
        {
          "output_type": "stream",
          "name": "stdout",
          "text": [
            "Looking in indexes: https://pypi.org/simple, https://us-python.pkg.dev/colab-wheels/public/simple/\n",
            "Collecting git+https://github.com/lhotse-speech/lhotse\n",
            "  Cloning https://github.com/lhotse-speech/lhotse to /tmp/pip-req-build-1nsgaai9\n",
            "  Running command git clone --filter=blob:none --quiet https://github.com/lhotse-speech/lhotse /tmp/pip-req-build-1nsgaai9\n",
            "  Resolved https://github.com/lhotse-speech/lhotse to commit cbd7b2b3e57b0e97470fe015eca5eafa6bb85d5e\n",
            "  Installing build dependencies ... \u001b[?25l\u001b[?25hdone\n",
            "  Getting requirements to build wheel ... \u001b[?25l\u001b[?25hdone\n",
            "  Preparing metadata (pyproject.toml) ... \u001b[?25l\u001b[?25hdone\n",
            "Requirement already satisfied: click>=7.1.1 in /usr/local/lib/python3.10/dist-packages (from lhotse==1.15.0.dev0+git.cbd7b2b.clean) (8.1.3)\n",
            "Requirement already satisfied: pyyaml>=5.3.1 in /usr/local/lib/python3.10/dist-packages (from lhotse==1.15.0.dev0+git.cbd7b2b.clean) (6.0)\n",
            "Requirement already satisfied: intervaltree>=3.1.0 in /usr/local/lib/python3.10/dist-packages (from lhotse==1.15.0.dev0+git.cbd7b2b.clean) (3.1.0)\n",
            "Requirement already satisfied: packaging in /usr/local/lib/python3.10/dist-packages (from lhotse==1.15.0.dev0+git.cbd7b2b.clean) (23.1)\n",
            "Requirement already satisfied: tabulate>=0.8.1 in /usr/local/lib/python3.10/dist-packages (from lhotse==1.15.0.dev0+git.cbd7b2b.clean) (0.8.10)\n",
            "Requirement already satisfied: audioread>=2.1.9 in /usr/local/lib/python3.10/dist-packages (from lhotse==1.15.0.dev0+git.cbd7b2b.clean) (3.0.0)\n",
            "Requirement already satisfied: dataclasses in /usr/local/lib/python3.10/dist-packages (from lhotse==1.15.0.dev0+git.cbd7b2b.clean) (0.6)\n",
            "Requirement already satisfied: numpy>=1.18.1 in /usr/local/lib/python3.10/dist-packages (from lhotse==1.15.0.dev0+git.cbd7b2b.clean) (1.24.3)\n",
            "Requirement already satisfied: cytoolz>=0.10.1 in /usr/local/lib/python3.10/dist-packages (from lhotse==1.15.0.dev0+git.cbd7b2b.clean) (0.12.1)\n",
            "Requirement already satisfied: torchaudio in /usr/local/lib/python3.10/dist-packages (from lhotse==1.15.0.dev0+git.cbd7b2b.clean) (0.13.1)\n",
            "Requirement already satisfied: torch in /usr/local/lib/python3.10/dist-packages (from lhotse==1.15.0.dev0+git.cbd7b2b.clean) (1.13.1)\n",
            "Requirement already satisfied: SoundFile>=0.10 in /usr/local/lib/python3.10/dist-packages (from lhotse==1.15.0.dev0+git.cbd7b2b.clean) (0.12.1)\n",
            "Requirement already satisfied: tqdm in /usr/local/lib/python3.10/dist-packages (from lhotse==1.15.0.dev0+git.cbd7b2b.clean) (4.65.0)\n",
            "Requirement already satisfied: lilcom>=1.1.0 in /usr/local/lib/python3.10/dist-packages (from lhotse==1.15.0.dev0+git.cbd7b2b.clean) (1.6)\n",
            "Requirement already satisfied: toolz>=0.8.0 in /usr/local/lib/python3.10/dist-packages (from cytoolz>=0.10.1->lhotse==1.15.0.dev0+git.cbd7b2b.clean) (0.12.0)\n",
            "Requirement already satisfied: sortedcontainers<3.0,>=2.0 in /usr/local/lib/python3.10/dist-packages (from intervaltree>=3.1.0->lhotse==1.15.0.dev0+git.cbd7b2b.clean) (2.4.0)\n",
            "Requirement already satisfied: cffi>=1.0 in /usr/local/lib/python3.10/dist-packages (from SoundFile>=0.10->lhotse==1.15.0.dev0+git.cbd7b2b.clean) (1.15.1)\n",
            "Requirement already satisfied: nvidia-cuda-nvrtc-cu11==11.7.99 in /usr/local/lib/python3.10/dist-packages (from torch->lhotse==1.15.0.dev0+git.cbd7b2b.clean) (11.7.99)\n",
            "Requirement already satisfied: nvidia-cublas-cu11==11.10.3.66 in /usr/local/lib/python3.10/dist-packages (from torch->lhotse==1.15.0.dev0+git.cbd7b2b.clean) (11.10.3.66)\n",
            "Requirement already satisfied: nvidia-cuda-runtime-cu11==11.7.99 in /usr/local/lib/python3.10/dist-packages (from torch->lhotse==1.15.0.dev0+git.cbd7b2b.clean) (11.7.99)\n",
            "Requirement already satisfied: typing-extensions in /usr/local/lib/python3.10/dist-packages (from torch->lhotse==1.15.0.dev0+git.cbd7b2b.clean) (4.5.0)\n",
            "Requirement already satisfied: nvidia-cudnn-cu11==8.5.0.96 in /usr/local/lib/python3.10/dist-packages (from torch->lhotse==1.15.0.dev0+git.cbd7b2b.clean) (8.5.0.96)\n",
            "Requirement already satisfied: wheel in /usr/local/lib/python3.10/dist-packages (from nvidia-cublas-cu11==11.10.3.66->torch->lhotse==1.15.0.dev0+git.cbd7b2b.clean) (0.40.0)\n",
            "Requirement already satisfied: setuptools in /usr/local/lib/python3.10/dist-packages (from nvidia-cublas-cu11==11.10.3.66->torch->lhotse==1.15.0.dev0+git.cbd7b2b.clean) (67.7.2)\n",
            "Requirement already satisfied: pycparser in /usr/local/lib/python3.10/dist-packages (from cffi>=1.0->SoundFile>=0.10->lhotse==1.15.0.dev0+git.cbd7b2b.clean) (2.21)\n",
            "Building wheels for collected packages: lhotse\n",
            "  Building wheel for lhotse (pyproject.toml) ... \u001b[?25l\u001b[?25hdone\n",
            "  Created wheel for lhotse: filename=lhotse-1.15.0.dev0+git.cbd7b2b.clean-py3-none-any.whl size=639690 sha256=469583cf46557159ca3d61e49ecbdb287b15b74eca6c5df7a28f772959a9bfd8\n",
            "  Stored in directory: /tmp/pip-ephem-wheel-cache-yg2t400g/wheels/df/b0/ff/cce0f16868fcdbee2088f3acf9f249dc90117d5f5dd9b6f69d\n",
            "Successfully built lhotse\n",
            "Installing collected packages: lhotse\n",
            "  Attempting uninstall: lhotse\n",
            "    Found existing installation: lhotse 1.14.0\n",
            "    Uninstalling lhotse-1.14.0:\n",
            "      Successfully uninstalled lhotse-1.14.0\n",
            "Successfully installed lhotse-1.15.0.dev0+git.cbd7b2b.clean\n"
          ]
        }
      ]
    },
    {
      "cell_type": "code",
      "source": [
        "# Python\n",
        "from lhotse.tools import install_sph2pipe\n",
        "install_sph2pipe()"
      ],
      "metadata": {
        "colab": {
          "base_uri": "https://localhost:8080/",
          "height": 49,
          "referenced_widgets": [
            "081e21ec1d104a3c921dc1ab580393d2",
            "942e10b9bd6942f5a5deb3eccbb74096",
            "fda78f2b5f9e45d6958016f2b9f6fe28",
            "e45ca52234c04c039a476102582aee47",
            "c0705695f0fe46efb4473c68aa5239d7",
            "4c34df0e593d4833ba670070b71625d7",
            "f9a364774ca24ec188064ae073cc90d8",
            "71953daca94b47b58ec4c0eb14ebc432",
            "ca75a4892f904256a1bcfce6d4125533",
            "b9f02fc5b9404428a4157891ed9d7e5a",
            "93e4deb4ccc74c73b7776a2944015466"
          ]
        },
        "id": "pGZF7CwOb_tY",
        "outputId": "9302181f-f772-4e58-ac83-67c11b5846cd"
      },
      "execution_count": 23,
      "outputs": [
        {
          "output_type": "display_data",
          "data": {
            "text/plain": [
              "/root/.lhotse/tools/sph2pipe-2.5.tar.gz: 0.00B [00:00, ?B/s]"
            ],
            "application/vnd.jupyter.widget-view+json": {
              "version_major": 2,
              "version_minor": 0,
              "model_id": "081e21ec1d104a3c921dc1ab580393d2"
            }
          },
          "metadata": {}
        }
      ]
    },
    {
      "cell_type": "markdown",
      "source": [
        "## Download pre-trained RNN-T Conformer model\n",
        "\n",
        "To make the following steps easier, we decide to download the model\n",
        "to `icefall/egs/tedlium3/ASR/tmp`"
      ],
      "metadata": {
        "id": "4t8GkI5MQjL9"
      }
    },
    {
      "cell_type": "code",
      "source": [
        "! apt-get install -y -qq tree sox git-lfs"
      ],
      "metadata": {
        "id": "28sjWwOlQnVI"
      },
      "execution_count": null,
      "outputs": []
    },
    {
      "cell_type": "markdown",
      "source": [
        "**CAUTION**: You have to run `sudo apt-get install git-lfs`\n",
        "and `git lfs install` in order to download the pre-trained model."
      ],
      "metadata": {
        "id": "HyC5nsRfQv09"
      }
    },
    {
      "cell_type": "code",
      "source": [
        "! cd icefall/egs/tedlium3/ASR && rm -rf tmp"
      ],
      "metadata": {
        "id": "04moo3mBQwVl"
      },
      "execution_count": null,
      "outputs": []
    },
    {
      "cell_type": "code",
      "source": [
        "! cd icefall/egs/tedlium3/ASR && \\\n",
        "  mkdir tmp && \\\n",
        "  cd tmp && \\\n",
        "  git lfs install && \\\n",
        "  git clone -v https://huggingface.co/luomingshuang/icefall_asr_tedlium3_transducer_stateless && \\\n",
        "  cd icefall_asr_tedlium3_transducer_stateless && \\\n",
        "  cd ../.. && \\\n",
        "  tree tmp"
      ],
      "metadata": {
        "colab": {
          "base_uri": "https://localhost:8080/"
        },
        "id": "Tw9PdusqQ1Rv",
        "outputId": "11938ebd-dbf1-45b1-b616-462d2ea237f7"
      },
      "execution_count": null,
      "outputs": [
        {
          "output_type": "stream",
          "name": "stdout",
          "text": [
            "Updated git hooks.\n",
            "Git LFS initialized.\n",
            "Cloning into 'icefall_asr_tedlium3_transducer_stateless'...\n",
            "POST git-upload-pack (165 bytes)\n",
            "remote: Enumerating objects: 78, done.\u001b[K\n",
            "remote: Counting objects: 100% (4/4), done.\u001b[K\n",
            "remote: Compressing objects: 100% (4/4), done.\u001b[K\n",
            "remote: Total 78 (delta 0), reused 4 (delta 0), pack-reused 74\u001b[K\n",
            "Unpacking objects: 100% (78/78), 2.78 MiB | 2.50 MiB/s, done.\n",
            "Filtering content: 100% (4/4), 2.21 GiB | 31.63 MiB/s, done.\n",
            "\u001b[01;34mtmp\u001b[00m\n",
            "└── \u001b[01;34micefall_asr_tedlium3_transducer_stateless\u001b[00m\n",
            "    ├── \u001b[01;34mdata\u001b[00m\n",
            "    │   └── \u001b[01;34mlang_bpe_500\u001b[00m\n",
            "    │       └── \u001b[01;32mbpe.model\u001b[00m\n",
            "    ├── \u001b[01;34mexp\u001b[00m\n",
            "    │   ├── cpu_jit_epoch_19_avg_11_torch.1.7.1.pt\n",
            "    │   ├── pretrained_average_14_to_29.pt\n",
            "    │   └── pretrained_average_19_to_29.pt\n",
            "    ├── \u001b[01;34mlog\u001b[00m\n",
            "    │   ├── \u001b[01;34mbeam_search\u001b[00m\n",
            "    │   │   ├── errs-dev-beam_4-epoch-29-avg-11-beam-4.txt\n",
            "    │   │   ├── \u001b[01;32merrs-dev-beam_4-epoch-29-avg-16-beam-4.txt\u001b[00m\n",
            "    │   │   ├── errs-test-beam_4-epoch-29-avg-11-beam-4.txt\n",
            "    │   │   ├── \u001b[01;32merrs-test-beam_4-epoch-29-avg-16-beam-4.txt\u001b[00m\n",
            "    │   │   ├── log-decode-epoch-29-avg-11-beam-4-2022-03-21-15-43-55\n",
            "    │   │   ├── \u001b[01;32mlog-decode-epoch-29-avg-16-beam-4-2022-03-02-10-52-09\u001b[00m\n",
            "    │   │   ├── recogs-dev-beam_4-epoch-29-avg-11-beam-4.txt\n",
            "    │   │   ├── \u001b[01;32mrecogs-dev-beam_4-epoch-29-avg-16-beam-4.txt\u001b[00m\n",
            "    │   │   ├── recogs-test-beam_4-epoch-29-avg-11-beam-4.txt\n",
            "    │   │   ├── \u001b[01;32mrecogs-test-beam_4-epoch-29-avg-16-beam-4.txt\u001b[00m\n",
            "    │   │   ├── wer-summary-dev-beam_4-epoch-29-avg-11-beam-4.txt\n",
            "    │   │   └── wer-summary-test-beam_4-epoch-29-avg-11-beam-4.txt\n",
            "    │   ├── \u001b[01;34mgreedy_search\u001b[00m\n",
            "    │   │   ├── errs-dev-greedy_search-epoch-29-avg-11-context-2-max-sym-per-frame-3.txt\n",
            "    │   │   ├── \u001b[01;32merrs-dev-greedy_search-epoch-29-avg-16-context-2-max-sym-per-frame-3.txt\u001b[00m\n",
            "    │   │   ├── errs-test-greedy_search-epoch-29-avg-11-context-2-max-sym-per-frame-3.txt\n",
            "    │   │   ├── \u001b[01;32merrs-test-greedy_search-epoch-29-avg-16-context-2-max-sym-per-frame-3.txt\u001b[00m\n",
            "    │   │   ├── log-decode-epoch-29-avg-11-context-2-max-sym-per-frame-3-2022-03-21-14-41-55\n",
            "    │   │   ├── \u001b[01;32mlog-decode-epoch-29-avg-16-context-2-max-sym-per-frame-3-2022-03-02-10-34-49\u001b[00m\n",
            "    │   │   ├── recogs-dev-greedy_search-epoch-29-avg-11-context-2-max-sym-per-frame-3.txt\n",
            "    │   │   ├── \u001b[01;32mrecogs-dev-greedy_search-epoch-29-avg-16-context-2-max-sym-per-frame-3.txt\u001b[00m\n",
            "    │   │   ├── recogs-test-greedy_search-epoch-29-avg-11-context-2-max-sym-per-frame-3.txt\n",
            "    │   │   ├── \u001b[01;32mrecogs-test-greedy_search-epoch-29-avg-16-context-2-max-sym-per-frame-3.txt\u001b[00m\n",
            "    │   │   ├── wer-summary-dev-greedy_search-epoch-29-avg-11-context-2-max-sym-per-frame-3.txt\n",
            "    │   │   └── wer-summary-test-greedy_search-epoch-29-avg-11-context-2-max-sym-per-frame-3.txt\n",
            "    │   └── \u001b[01;34mmodified_beam_search\u001b[00m\n",
            "    │       ├── errs-dev-beam_4-epoch-29-avg-11-beam-4.txt\n",
            "    │       ├── \u001b[01;32merrs-dev-beam_4-epoch-29-avg-16-beam-4.txt\u001b[00m\n",
            "    │       ├── errs-test-beam_4-epoch-29-avg-11-beam-4.txt\n",
            "    │       ├── \u001b[01;32merrs-test-beam_4-epoch-29-avg-16-beam-4.txt\u001b[00m\n",
            "    │       ├── log-decode-epoch-29-avg-11-beam-4-2022-03-21-15-36-23\n",
            "    │       ├── log-decode-epoch-29-avg-11-beam-4-2022-03-21-15-36-41\n",
            "    │       ├── \u001b[01;32mlog-decode-epoch-29-avg-16-beam-4-2022-03-02-11-25-20\u001b[00m\n",
            "    │       ├── recogs-dev-beam_4-epoch-29-avg-11-beam-4.txt\n",
            "    │       ├── \u001b[01;32mrecogs-dev-beam_4-epoch-29-avg-16-beam-4.txt\u001b[00m\n",
            "    │       ├── recogs-test-beam_4-epoch-29-avg-11-beam-4.txt\n",
            "    │       ├── \u001b[01;32mrecogs-test-beam_4-epoch-29-avg-16-beam-4.txt\u001b[00m\n",
            "    │       ├── wer-summary-dev-beam_4-epoch-29-avg-11-beam-4.txt\n",
            "    │       └── wer-summary-test-beam_4-epoch-29-avg-11-beam-4.txt\n",
            "    ├── README.md\n",
            "    └── \u001b[01;34mtest_wavs\u001b[00m\n",
            "        ├── RESULTS.md\n",
            "        ├── \u001b[01;35mRichBenjamin_2015W01.wav\u001b[00m\n",
            "        ├── \u001b[01;35mRichBenjamin_2015W02.wav\u001b[00m\n",
            "        └── \u001b[01;35mRichBenjamin_2015W03.wav\u001b[00m\n",
            "\n",
            "9 directories, 46 files\n"
          ]
        }
      ]
    },
    {
      "cell_type": "code",
      "source": [
        "! soxi icefall/egs/tedlium3/ASR/tmp/icefall_asr_tedlium3_transducer_stateless/test_wavs/*.wav"
      ],
      "metadata": {
        "colab": {
          "base_uri": "https://localhost:8080/"
        },
        "id": "Yv9lvcxgRJ8U",
        "outputId": "e6c66f8b-cc58-424b-9999-3b7bbd5104f5"
      },
      "execution_count": null,
      "outputs": [
        {
          "output_type": "stream",
          "name": "stdout",
          "text": [
            "\n",
            "Input File     : 'icefall/egs/tedlium3/ASR/tmp/icefall_asr_tedlium3_transducer_stateless/test_wavs/RichBenjamin_2015W01.wav'\n",
            "Channels       : 1\n",
            "Sample Rate    : 16000\n",
            "Precision      : 16-bit\n",
            "Duration       : 00:00:30.02 = 480256 samples ~ 2251.2 CDDA sectors\n",
            "File Size      : 961k\n",
            "Bit Rate       : 256k\n",
            "Sample Encoding: 16-bit Signed Integer PCM\n",
            "\n",
            "\n",
            "Input File     : 'icefall/egs/tedlium3/ASR/tmp/icefall_asr_tedlium3_transducer_stateless/test_wavs/RichBenjamin_2015W02.wav'\n",
            "Channels       : 1\n",
            "Sample Rate    : 16000\n",
            "Precision      : 16-bit\n",
            "Duration       : 00:00:30.02 = 480256 samples ~ 2251.2 CDDA sectors\n",
            "File Size      : 961k\n",
            "Bit Rate       : 256k\n",
            "Sample Encoding: 16-bit Signed Integer PCM\n",
            "\n",
            "\n",
            "Input File     : 'icefall/egs/tedlium3/ASR/tmp/icefall_asr_tedlium3_transducer_stateless/test_wavs/RichBenjamin_2015W03.wav'\n",
            "Channels       : 1\n",
            "Sample Rate    : 16000\n",
            "Precision      : 16-bit\n",
            "Duration       : 00:00:29.95 = 479232 samples ~ 2246.4 CDDA sectors\n",
            "File Size      : 959k\n",
            "Bit Rate       : 256k\n",
            "Sample Encoding: 16-bit Signed Integer PCM\n",
            "\n",
            "Total Duration of 3 files: 00:01:29.98\n"
          ]
        }
      ]
    },
    {
      "cell_type": "markdown",
      "source": [
        "## Greedy search"
      ],
      "metadata": {
        "id": "JCFbqlP3Rrhh"
      }
    },
    {
      "cell_type": "code",
      "source": [
        "! cd icefall/egs/tedlium3/ASR && \\\n",
        "    PYTHONPATH=/content/icefall python3 ./transducer_stateless/pretrained.py \\\n",
        "      --method greedy_search \\\n",
        "      --max-sym-per-frame 1 \\\n",
        "      --checkpoint ./tmp/icefall_asr_tedlium3_transducer_stateless/exp/pretrained_average_19_to_29.pt \\\n",
        "      --bpe-model ./tmp/icefall_asr_tedlium3_transducer_stateless/data/lang_bpe_500/bpe.model \\\n",
        "      ./tmp/icefall_asr_tedlium3_transducer_stateless/test_wavs/RichBenjamin_2015W01.wav \\\n",
        "      ./tmp/icefall_asr_tedlium3_transducer_stateless/test_wavs/RichBenjamin_2015W02.wav \\\n",
        "      ./tmp/icefall_asr_tedlium3_transducer_stateless/test_wavs/RichBenjamin_2015W03.wav"
      ],
      "metadata": {
        "colab": {
          "base_uri": "https://localhost:8080/"
        },
        "id": "020PHIu9RsMR",
        "outputId": "52ca09b7-cfec-4537-8d29-ee89824162f6"
      },
      "execution_count": null,
      "outputs": [
        {
          "output_type": "stream",
          "name": "stdout",
          "text": [
            "2023-04-17 14:59:34,785 INFO [pretrained.py:249] {'sample_rate': 16000, 'feature_dim': 80, 'encoder_out_dim': 512, 'subsampling_factor': 4, 'attention_dim': 512, 'nhead': 8, 'dim_feedforward': 2048, 'num_encoder_layers': 12, 'vgg_frontend': False, 'env_info': {'k2-version': '1.23.4', 'k2-build-type': 'Release', 'k2-with-cuda': True, 'k2-git-sha1': '62e404dd3f3a811d73e424199b3408e309c06e1a', 'k2-git-date': 'Mon Jan 30 02:26:16 2023', 'lhotse-version': '1.13.0', 'torch-version': '1.13.1+cu117', 'torch-cuda-available': True, 'torch-cuda-version': '11.7', 'python-version': '3.9', 'icefall-git-branch': 'master', 'icefall-git-sha1': '8838fe0-clean', 'icefall-git-date': 'Mon Apr 17 09:47:25 2023', 'icefall-path': '/content/icefall', 'k2-path': '/usr/local/lib/python3.9/dist-packages/k2/__init__.py', 'lhotse-path': '/usr/local/lib/python3.9/dist-packages/lhotse/__init__.py', 'hostname': '3f5f2b213a05', 'IP address': '172.28.0.12'}, 'checkpoint': './tmp/icefall_asr_tedlium3_transducer_stateless/exp/pretrained_average_19_to_29.pt', 'bpe_model': './tmp/icefall_asr_tedlium3_transducer_stateless/data/lang_bpe_500/bpe.model', 'method': 'greedy_search', 'sound_files': ['./tmp/icefall_asr_tedlium3_transducer_stateless/test_wavs/RichBenjamin_2015W01.wav', './tmp/icefall_asr_tedlium3_transducer_stateless/test_wavs/RichBenjamin_2015W02.wav', './tmp/icefall_asr_tedlium3_transducer_stateless/test_wavs/RichBenjamin_2015W03.wav'], 'beam_size': 4, 'context_size': 2, 'max_sym_per_frame': 1, 'blank_id': 0, 'unk_id': 2, 'vocab_size': 500}\n",
            "2023-04-17 14:59:34,785 INFO [pretrained.py:255] device: cuda:0\n",
            "2023-04-17 14:59:34,785 INFO [pretrained.py:257] Creating model\n",
            "2023-04-17 14:59:38,187 INFO [pretrained.py:266] Constructing Fbank computer\n",
            "2023-04-17 14:59:38,188 INFO [pretrained.py:276] Reading sound files: ['./tmp/icefall_asr_tedlium3_transducer_stateless/test_wavs/RichBenjamin_2015W01.wav', './tmp/icefall_asr_tedlium3_transducer_stateless/test_wavs/RichBenjamin_2015W02.wav', './tmp/icefall_asr_tedlium3_transducer_stateless/test_wavs/RichBenjamin_2015W03.wav']\n",
            "2023-04-17 14:59:38,202 INFO [pretrained.py:282] Decoding started\n",
            "2023-04-17 14:59:39,690 INFO [pretrained.py:300] Using greedy_search\n",
            "2023-04-17 14:59:40,137 INFO [pretrained.py:328] \n",
            "./tmp/icefall_asr_tedlium3_transducer_stateless/test_wavs/RichBenjamin_2015W01.wav:\n",
            "choice isn 't it i don 't live there but i did journey on a twenty seven thousand mile trip for two years to the fastest scroing and whiteest counties in america what is a whitopia i define whitopia in three ways first whitopia has posted at least six percent\n",
            "\n",
            "./tmp/icefall_asr_tedlium3_transducer_stateless/test_wavs/RichBenjamin_2015W02.wav:\n",
            "population growth since two thousand secondly the majority of that growth comes from white migrants and third the whitopia has an ineffable charm a pleasant look and feel a genose clas to learn how and why whitopias are ticking i immerse myself for several months apiece in three of them first\n",
            "\n",
            "./tmp/icefall_asr_tedlium3_transducer_stateless/test_wavs/RichBenjamin_2015W03.wav:\n",
            "st george utah second queur d 'lain idaho and third forcife county georgia first stop st george a beautiful town of red rock landscapes in the one thousand eight hundred and fifty 's brigham young dispatched families to st george to grow cotton because of the hot arid climate and so they called it utah 's dixie and the name sticks to this day\n",
            "\n",
            "\n",
            "2023-04-17 14:59:40,137 INFO [pretrained.py:330] Decoding Done\n"
          ]
        }
      ]
    },
    {
      "cell_type": "markdown",
      "source": [
        "## Beam search"
      ],
      "metadata": {
        "id": "G_MA_2MQRJll"
      }
    },
    {
      "cell_type": "code",
      "source": [
        "! cd icefall/egs/tedlium3/ASR && \\\n",
        "    PYTHONPATH=/content/icefall python3 ./transducer_stateless/pretrained.py \\\n",
        "      --method beam_search \\\n",
        "      --beam-size 4 \\\n",
        "      --checkpoint ./tmp/icefall_asr_tedlium3_transducer_stateless/exp/pretrained_average_19_to_29.pt \\\n",
        "      --bpe-model ./tmp/icefall_asr_tedlium3_transducer_stateless/data/lang_bpe_500/bpe.model \\\n",
        "      ./tmp/icefall_asr_tedlium3_transducer_stateless/test_wavs/RichBenjamin_2015W01.wav \\\n",
        "      ./tmp/icefall_asr_tedlium3_transducer_stateless/test_wavs/RichBenjamin_2015W02.wav \\\n",
        "      ./tmp/icefall_asr_tedlium3_transducer_stateless/test_wavs/RichBenjamin_2015W03.wav"
      ],
      "metadata": {
        "colab": {
          "base_uri": "https://localhost:8080/"
        },
        "id": "dDE2Dx1RTCFB",
        "outputId": "f4dc8dc9-5f25-43be-a7da-fec818d7bbde"
      },
      "execution_count": null,
      "outputs": [
        {
          "output_type": "stream",
          "name": "stdout",
          "text": [
            "2023-04-17 14:59:59,016 INFO [pretrained.py:249] {'sample_rate': 16000, 'feature_dim': 80, 'encoder_out_dim': 512, 'subsampling_factor': 4, 'attention_dim': 512, 'nhead': 8, 'dim_feedforward': 2048, 'num_encoder_layers': 12, 'vgg_frontend': False, 'env_info': {'k2-version': '1.23.4', 'k2-build-type': 'Release', 'k2-with-cuda': True, 'k2-git-sha1': '62e404dd3f3a811d73e424199b3408e309c06e1a', 'k2-git-date': 'Mon Jan 30 02:26:16 2023', 'lhotse-version': '1.13.0', 'torch-version': '1.13.1+cu117', 'torch-cuda-available': True, 'torch-cuda-version': '11.7', 'python-version': '3.9', 'icefall-git-branch': 'master', 'icefall-git-sha1': '8838fe0-clean', 'icefall-git-date': 'Mon Apr 17 09:47:25 2023', 'icefall-path': '/content/icefall', 'k2-path': '/usr/local/lib/python3.9/dist-packages/k2/__init__.py', 'lhotse-path': '/usr/local/lib/python3.9/dist-packages/lhotse/__init__.py', 'hostname': '3f5f2b213a05', 'IP address': '172.28.0.12'}, 'checkpoint': './tmp/icefall_asr_tedlium3_transducer_stateless/exp/pretrained_average_19_to_29.pt', 'bpe_model': './tmp/icefall_asr_tedlium3_transducer_stateless/data/lang_bpe_500/bpe.model', 'method': 'beam_search', 'sound_files': ['./tmp/icefall_asr_tedlium3_transducer_stateless/test_wavs/RichBenjamin_2015W01.wav', './tmp/icefall_asr_tedlium3_transducer_stateless/test_wavs/RichBenjamin_2015W02.wav', './tmp/icefall_asr_tedlium3_transducer_stateless/test_wavs/RichBenjamin_2015W03.wav'], 'beam_size': 4, 'context_size': 2, 'max_sym_per_frame': 3, 'blank_id': 0, 'unk_id': 2, 'vocab_size': 500}\n",
            "2023-04-17 14:59:59,016 INFO [pretrained.py:255] device: cuda:0\n",
            "2023-04-17 14:59:59,016 INFO [pretrained.py:257] Creating model\n",
            "2023-04-17 15:00:02,386 INFO [pretrained.py:266] Constructing Fbank computer\n",
            "2023-04-17 15:00:02,386 INFO [pretrained.py:276] Reading sound files: ['./tmp/icefall_asr_tedlium3_transducer_stateless/test_wavs/RichBenjamin_2015W01.wav', './tmp/icefall_asr_tedlium3_transducer_stateless/test_wavs/RichBenjamin_2015W02.wav', './tmp/icefall_asr_tedlium3_transducer_stateless/test_wavs/RichBenjamin_2015W03.wav']\n",
            "2023-04-17 15:00:02,399 INFO [pretrained.py:282] Decoding started\n",
            "2023-04-17 15:00:03,876 INFO [pretrained.py:300] Using beam_search with beam size 4\n",
            "2023-04-17 15:00:12,391 INFO [pretrained.py:328] \n",
            "./tmp/icefall_asr_tedlium3_transducer_stateless/test_wavs/RichBenjamin_2015W01.wav:\n",
            "choice isn 't it i don 't live there but i did journey on a twenty seven thousand mile trip for two years to the fastest growing and whiteest counties in america what is a whitopia i define whitopia in three ways first whitopia has posted at least six percent\n",
            "\n",
            "./tmp/icefall_asr_tedlium3_transducer_stateless/test_wavs/RichBenjamin_2015W02.wav:\n",
            "population growth since two thousand secondly the majority of that growth comes from white migrants and third the whitopia has an ineffable charm a pleasant look and feel a genociqua to learn how and why whitopias are ticking i immerse myself for several months apiece in three of them first\n",
            "\n",
            "./tmp/icefall_asr_tedlium3_transducer_stateless/test_wavs/RichBenjamin_2015W03.wav:\n",
            "st george utah second coeur dalene idaho and third forcie county georgia first stop st george a beautiful town of red rock landscapes in the 1850s brigham young dispatched families to st george to grow cotton because of the hot arid climate and so they called it utah 's dixie and the name sticks to this day\n",
            "\n",
            "\n",
            "2023-04-17 15:00:12,392 INFO [pretrained.py:330] Decoding Done\n"
          ]
        }
      ]
    },
    {
      "cell_type": "code",
      "source": [
        "! cd icefall/egs/tedlium3/ASR && \\\n",
        "    PYTHONPATH=/content/icefall python3 ./transducer_stateless/pretrained.py \\\n",
        "      --method beam_search \\\n",
        "      --beam-size 4 \\\n",
        "      --checkpoint ./tmp/icefall_asr_tedlium3_transducer_stateless/exp/pretrained_average_19_to_29.pt \\\n",
        "      --bpe-model ./tmp/icefall_asr_tedlium3_transducer_stateless/data/lang_bpe_500/bpe.model \\\n",
        "      /content/84-121123-0002.flac \\\n",
        "      /content/fr1.wav"
      ],
      "metadata": {
        "id": "ZQO6E9VSw2r3",
        "outputId": "402d3c16-ec90-41be-e2a8-dadc131dd245",
        "colab": {
          "base_uri": "https://localhost:8080/"
        }
      },
      "execution_count": null,
      "outputs": [
        {
          "output_type": "stream",
          "name": "stdout",
          "text": [
            "2023-04-17 15:17:53,303 INFO [pretrained.py:249] {'sample_rate': 16000, 'feature_dim': 80, 'encoder_out_dim': 512, 'subsampling_factor': 4, 'attention_dim': 512, 'nhead': 8, 'dim_feedforward': 2048, 'num_encoder_layers': 12, 'vgg_frontend': False, 'env_info': {'k2-version': '1.23.4', 'k2-build-type': 'Release', 'k2-with-cuda': True, 'k2-git-sha1': '62e404dd3f3a811d73e424199b3408e309c06e1a', 'k2-git-date': 'Mon Jan 30 02:26:16 2023', 'lhotse-version': '1.13.0', 'torch-version': '1.13.1+cu117', 'torch-cuda-available': True, 'torch-cuda-version': '11.7', 'python-version': '3.9', 'icefall-git-branch': 'master', 'icefall-git-sha1': '8838fe0-clean', 'icefall-git-date': 'Mon Apr 17 09:47:25 2023', 'icefall-path': '/content/icefall', 'k2-path': '/usr/local/lib/python3.9/dist-packages/k2/__init__.py', 'lhotse-path': '/usr/local/lib/python3.9/dist-packages/lhotse/__init__.py', 'hostname': '3f5f2b213a05', 'IP address': '172.28.0.12'}, 'checkpoint': './tmp/icefall_asr_tedlium3_transducer_stateless/exp/pretrained_average_19_to_29.pt', 'bpe_model': './tmp/icefall_asr_tedlium3_transducer_stateless/data/lang_bpe_500/bpe.model', 'method': 'beam_search', 'sound_files': ['/content/84-121123-0002.flac', '/content/fr1.wav'], 'beam_size': 4, 'context_size': 2, 'max_sym_per_frame': 3, 'blank_id': 0, 'unk_id': 2, 'vocab_size': 500}\n",
            "2023-04-17 15:17:53,304 INFO [pretrained.py:255] device: cuda:0\n",
            "2023-04-17 15:17:53,304 INFO [pretrained.py:257] Creating model\n",
            "2023-04-17 15:17:57,156 INFO [pretrained.py:266] Constructing Fbank computer\n",
            "2023-04-17 15:17:57,157 INFO [pretrained.py:276] Reading sound files: ['/content/84-121123-0002.flac', '/content/fr1.wav']\n",
            "Traceback (most recent call last):\n",
            "  File \"/content/icefall/egs/tedlium3/ASR/./transducer_stateless/pretrained.py\", line 337, in <module>\n",
            "    main()\n",
            "  File \"/usr/local/lib/python3.9/dist-packages/torch/autograd/grad_mode.py\", line 27, in decorate_context\n",
            "    return func(*args, **kwargs)\n",
            "  File \"/content/icefall/egs/tedlium3/ASR/./transducer_stateless/pretrained.py\", line 277, in main\n",
            "    waves = read_sound_files(\n",
            "  File \"/content/icefall/egs/tedlium3/ASR/./transducer_stateless/pretrained.py\", line 224, in read_sound_files\n",
            "    assert (\n",
            "AssertionError: expected sample rate: 16000. Given: 8000\n"
          ]
        }
      ]
    },
    {
      "cell_type": "code",
      "source": [
        "! cd icefall/egs/tedlium3/ASR && \\\n",
        "  export CUDA_VISIBLE_DEVICES=\"0,1,2,3\" && \\\n",
        "  python ./transducer_stateless/train.py  && \\\n",
        "  --world-size 4 && \\\n",
        "  --num-epochs 30 \\\n",
        "  --start-epoch 0 \\\n",
        "  --exp-dir transducer_stateless/exp \\\n",
        "  --max-duration 300"
      ],
      "metadata": {
        "colab": {
          "base_uri": "https://localhost:8080/"
        },
        "id": "GqPEnLs-sINB",
        "outputId": "20028da4-6fa6-49fd-cf61-fdd2327825d8"
      },
      "execution_count": null,
      "outputs": [
        {
          "output_type": "stream",
          "name": "stdout",
          "text": [
            "Traceback (most recent call last):\n",
            "  File \"/content/icefall/egs/tedlium3/ASR/./transducer_stateless/train.py\", line 44, in <module>\n",
            "    from asr_datamodule import TedLiumAsrDataModule\n",
            "  File \"/content/icefall/egs/tedlium3/ASR/transducer_stateless/asr_datamodule.py\", line 37, in <module>\n",
            "    from icefall.utils import str2bool\n",
            "ModuleNotFoundError: No module named 'icefall'\n"
          ]
        }
      ]
    },
    {
      "cell_type": "markdown",
      "source": [
        "## Train"
      ],
      "metadata": {
        "id": "EBQtWyM68HxJ"
      }
    },
    {
      "cell_type": "code",
      "source": [
        "! cd icefall && \\\n",
        "  ! pip install -r requirements.txt"
      ],
      "metadata": {
        "id": "AaILMeJW8J4-",
        "outputId": "8ef72fcd-5448-4415-d669-59a622be83dd",
        "colab": {
          "base_uri": "https://localhost:8080/"
        }
      },
      "execution_count": 24,
      "outputs": [
        {
          "output_type": "stream",
          "name": "stdout",
          "text": [
            "Looking in indexes: https://pypi.org/simple, https://us-python.pkg.dev/colab-wheels/public/simple/\n",
            "Collecting kaldifst\n",
            "  Downloading kaldifst-1.6-cp310-cp310-manylinux_2_17_x86_64.manylinux2014_x86_64.whl (9.1 MB)\n",
            "\u001b[2K     \u001b[90m━━━━━━━━━━━━━━━━━━━━━━━━━━━━━━━━━━━━━━━━\u001b[0m \u001b[32m9.1/9.1 MB\u001b[0m \u001b[31m61.2 MB/s\u001b[0m eta \u001b[36m0:00:00\u001b[0m\n",
            "\u001b[?25hCollecting kaldilm\n",
            "  Downloading kaldilm-1.15-cp310-cp310-manylinux_2_17_x86_64.manylinux2014_x86_64.whl (1.0 MB)\n",
            "\u001b[2K     \u001b[90m━━━━━━━━━━━━━━━━━━━━━━━━━━━━━━━━━━━━━━━━\u001b[0m \u001b[32m1.0/1.0 MB\u001b[0m \u001b[31m57.8 MB/s\u001b[0m eta \u001b[36m0:00:00\u001b[0m\n",
            "\u001b[?25hRequirement already satisfied: kaldialign in /usr/local/lib/python3.10/dist-packages (from -r requirements.txt (line 3)) (0.6)\n",
            "Requirement already satisfied: sentencepiece>=0.1.96 in /usr/local/lib/python3.10/dist-packages (from -r requirements.txt (line 4)) (0.1.98)\n",
            "Requirement already satisfied: tensorboard in /usr/local/lib/python3.10/dist-packages (from -r requirements.txt (line 5)) (2.12.2)\n",
            "Collecting typeguard\n",
            "  Downloading typeguard-3.0.2-py3-none-any.whl (30 kB)\n",
            "Collecting dill\n",
            "  Downloading dill-0.3.6-py3-none-any.whl (110 kB)\n",
            "\u001b[2K     \u001b[90m━━━━━━━━━━━━━━━━━━━━━━━━━━━━━━━━━━━━━━\u001b[0m \u001b[32m110.5/110.5 kB\u001b[0m \u001b[31m13.3 MB/s\u001b[0m eta \u001b[36m0:00:00\u001b[0m\n",
            "\u001b[?25hRequirement already satisfied: google-auth-oauthlib<1.1,>=0.5 in /usr/local/lib/python3.10/dist-packages (from tensorboard->-r requirements.txt (line 5)) (1.0.0)\n",
            "Requirement already satisfied: google-auth<3,>=1.6.3 in /usr/local/lib/python3.10/dist-packages (from tensorboard->-r requirements.txt (line 5)) (2.17.3)\n",
            "Requirement already satisfied: grpcio>=1.48.2 in /usr/local/lib/python3.10/dist-packages (from tensorboard->-r requirements.txt (line 5)) (1.54.0)\n",
            "Requirement already satisfied: markdown>=2.6.8 in /usr/local/lib/python3.10/dist-packages (from tensorboard->-r requirements.txt (line 5)) (3.4.3)\n",
            "Requirement already satisfied: requests<3,>=2.21.0 in /usr/local/lib/python3.10/dist-packages (from tensorboard->-r requirements.txt (line 5)) (2.27.1)\n",
            "Requirement already satisfied: absl-py>=0.4 in /usr/local/lib/python3.10/dist-packages (from tensorboard->-r requirements.txt (line 5)) (1.4.0)\n",
            "Requirement already satisfied: tensorboard-plugin-wit>=1.6.0 in /usr/local/lib/python3.10/dist-packages (from tensorboard->-r requirements.txt (line 5)) (1.8.1)\n",
            "Requirement already satisfied: werkzeug>=1.0.1 in /usr/local/lib/python3.10/dist-packages (from tensorboard->-r requirements.txt (line 5)) (2.3.0)\n",
            "Requirement already satisfied: numpy>=1.12.0 in /usr/local/lib/python3.10/dist-packages (from tensorboard->-r requirements.txt (line 5)) (1.24.3)\n",
            "Requirement already satisfied: wheel>=0.26 in /usr/local/lib/python3.10/dist-packages (from tensorboard->-r requirements.txt (line 5)) (0.40.0)\n",
            "Requirement already satisfied: setuptools>=41.0.0 in /usr/local/lib/python3.10/dist-packages (from tensorboard->-r requirements.txt (line 5)) (67.7.2)\n",
            "Requirement already satisfied: protobuf>=3.19.6 in /usr/local/lib/python3.10/dist-packages (from tensorboard->-r requirements.txt (line 5)) (3.20.3)\n",
            "Requirement already satisfied: tensorboard-data-server<0.8.0,>=0.7.0 in /usr/local/lib/python3.10/dist-packages (from tensorboard->-r requirements.txt (line 5)) (0.7.0)\n",
            "Requirement already satisfied: typing-extensions>=4.4.0 in /usr/local/lib/python3.10/dist-packages (from typeguard->-r requirements.txt (line 6)) (4.5.0)\n",
            "Requirement already satisfied: cachetools<6.0,>=2.0.0 in /usr/local/lib/python3.10/dist-packages (from google-auth<3,>=1.6.3->tensorboard->-r requirements.txt (line 5)) (5.3.0)\n",
            "Requirement already satisfied: six>=1.9.0 in /usr/local/lib/python3.10/dist-packages (from google-auth<3,>=1.6.3->tensorboard->-r requirements.txt (line 5)) (1.16.0)\n",
            "Requirement already satisfied: rsa<5,>=3.1.4 in /usr/local/lib/python3.10/dist-packages (from google-auth<3,>=1.6.3->tensorboard->-r requirements.txt (line 5)) (4.9)\n",
            "Requirement already satisfied: pyasn1-modules>=0.2.1 in /usr/local/lib/python3.10/dist-packages (from google-auth<3,>=1.6.3->tensorboard->-r requirements.txt (line 5)) (0.3.0)\n",
            "Requirement already satisfied: requests-oauthlib>=0.7.0 in /usr/local/lib/python3.10/dist-packages (from google-auth-oauthlib<1.1,>=0.5->tensorboard->-r requirements.txt (line 5)) (1.3.1)\n",
            "Requirement already satisfied: idna<4,>=2.5 in /usr/local/lib/python3.10/dist-packages (from requests<3,>=2.21.0->tensorboard->-r requirements.txt (line 5)) (3.4)\n",
            "Requirement already satisfied: certifi>=2017.4.17 in /usr/local/lib/python3.10/dist-packages (from requests<3,>=2.21.0->tensorboard->-r requirements.txt (line 5)) (2022.12.7)\n",
            "Requirement already satisfied: urllib3<1.27,>=1.21.1 in /usr/local/lib/python3.10/dist-packages (from requests<3,>=2.21.0->tensorboard->-r requirements.txt (line 5)) (1.26.15)\n",
            "Requirement already satisfied: charset-normalizer~=2.0.0 in /usr/local/lib/python3.10/dist-packages (from requests<3,>=2.21.0->tensorboard->-r requirements.txt (line 5)) (2.0.12)\n",
            "Requirement already satisfied: MarkupSafe>=2.1.1 in /usr/local/lib/python3.10/dist-packages (from werkzeug>=1.0.1->tensorboard->-r requirements.txt (line 5)) (2.1.2)\n",
            "Requirement already satisfied: pyasn1<0.6.0,>=0.4.6 in /usr/local/lib/python3.10/dist-packages (from pyasn1-modules>=0.2.1->google-auth<3,>=1.6.3->tensorboard->-r requirements.txt (line 5)) (0.5.0)\n",
            "Requirement already satisfied: oauthlib>=3.0.0 in /usr/local/lib/python3.10/dist-packages (from requests-oauthlib>=0.7.0->google-auth-oauthlib<1.1,>=0.5->tensorboard->-r requirements.txt (line 5)) (3.2.2)\n",
            "Installing collected packages: kaldilm, kaldifst, typeguard, dill\n",
            "Successfully installed dill-0.3.6 kaldifst-1.6 kaldilm-1.15 typeguard-3.0.2\n"
          ]
        }
      ]
    },
    {
      "cell_type": "code",
      "source": [
        "\n",
        "#import os\n",
        "\n",
        "!pwd\n",
        "! echo $PYTHONPATH\n",
        "\n",
        "\n",
        "os.environ['PYTHONPATH'] += \":/content/icefall\"\n",
        "\n",
        "! echo $PYTHONPATH"
      ],
      "metadata": {
        "id": "whbs55Ca8RQq",
        "outputId": "75b6ff1f-9ac1-41f2-8838-dd5998d4c2d2",
        "colab": {
          "base_uri": "https://localhost:8080/"
        }
      },
      "execution_count": 25,
      "outputs": [
        {
          "output_type": "stream",
          "name": "stdout",
          "text": [
            "/content\n",
            "/env/python\n",
            "/env/python:/content/icefall\n"
          ]
        }
      ]
    },
    {
      "cell_type": "code",
      "source": [
        "pip list  | grep torch"
      ],
      "metadata": {
        "id": "rfTyVvz18_LD",
        "outputId": "b16d262d-86eb-40ee-fb51-654af2cc3279",
        "colab": {
          "base_uri": "https://localhost:8080/"
        }
      },
      "execution_count": 26,
      "outputs": [
        {
          "output_type": "stream",
          "name": "stdout",
          "text": [
            "k2                            1.24.1.dev20230501+cuda11.7.torch1.13.1\n",
            "torch                         1.13.1\n",
            "torchaudio                    0.13.1\n",
            "torchdata                     0.6.0\n",
            "torchsummary                  1.5.1\n",
            "torchtext                     0.15.1\n",
            "torchvision                   0.15.1+cu118\n"
          ]
        }
      ]
    },
    {
      "cell_type": "code",
      "source": [
        "\"\"\"\n",
        "torch                         1.13.1\n",
        "torchaudio                    2.0.1+cu118\n",
        "torchdata                     0.6.0\n",
        "torchsummary                  1.5.1\n",
        "torchtext                     0.15.1\n",
        "torchvision                   0.15.1+cu118\n",
        "\"\"\""
      ],
      "metadata": {
        "id": "znBAOouNbPr9"
      },
      "execution_count": null,
      "outputs": []
    },
    {
      "cell_type": "code",
      "source": [
        "#pip install torchaudio==0.13.1"
      ],
      "metadata": {
        "id": "Tpzk4IT19MIV"
      },
      "execution_count": 32,
      "outputs": []
    },
    {
      "cell_type": "code",
      "source": [
        "! cd icefall/egs/tedlium3/ASR && \\\n",
        "  ./prepare.sh"
      ],
      "metadata": {
        "id": "J7NaVGJE8ZPg",
        "outputId": "e38fe8ab-5847-47cf-e405-24e77021f225",
        "colab": {
          "base_uri": "https://localhost:8080/"
        }
      },
      "execution_count": 34,
      "outputs": [
        {
          "output_type": "stream",
          "name": "stdout",
          "text": [
            "2023-05-01 14:55:16 (prepare.sh:50:main) dl_dir: /content/icefall/egs/tedlium3/ASR/download\n",
            "2023-05-01 14:55:16 (prepare.sh:53:main) Stage 0: Download data\n",
            "2023-05-01 14:55:16 (prepare.sh:83:main) Stage 1: Prepare tedlium3 manifests\n",
            "2023-05-01 14:55:16 (prepare.sh:94:main) Stage 2: Prepare musan manifests\n",
            "2023-05-01 14:55:16 (prepare.sh:105:main) Stage 3: Compute fbank for tedlium3\n",
            "Traceback (most recent call last):\n",
            "  File \"/content/icefall/egs/tedlium3/ASR/./local/compute_fbank_tedlium.py\", line 112, in <module>\n",
            "    compute_fbank_tedlium()\n",
            "  File \"/content/icefall/egs/tedlium3/ASR/./local/compute_fbank_tedlium.py\", line 73, in compute_fbank_tedlium\n",
            "    extractor = KaldifeatFbank(KaldifeatFbankConfig(num_mel_bins=num_mel_bins))\n",
            "NameError: name 'KaldifeatFbank' is not defined\n"
          ]
        }
      ]
    }
  ]
}