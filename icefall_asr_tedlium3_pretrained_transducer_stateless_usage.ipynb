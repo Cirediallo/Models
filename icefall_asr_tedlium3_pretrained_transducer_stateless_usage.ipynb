{
  "nbformat": 4,
  "nbformat_minor": 0,
  "metadata": {
    "colab": {
      "provenance": [],
      "machine_shape": "hm",
      "include_colab_link": true
    },
    "kernelspec": {
      "name": "python3",
      "display_name": "Python 3"
    },
    "language_info": {
      "name": "python"
    },
    "accelerator": "GPU",
    "gpuClass": "premium"
  },
  "cells": [
    {
      "cell_type": "markdown",
      "metadata": {
        "id": "view-in-github",
        "colab_type": "text"
      },
      "source": [
        "<a href=\"https://colab.research.google.com/github/Cirediallo/Models/blob/main/icefall_asr_tedlium3_pretrained_transducer_stateless_usage.ipynb\" target=\"_parent\"><img src=\"https://colab.research.google.com/assets/colab-badge.svg\" alt=\"Open In Colab\"/></a>"
      ]
    },
    {
      "cell_type": "markdown",
      "source": [
        "## Description\n",
        "This notebook shows how to use a pre-trained Transducer Stateless model with [icefall](https://github.com/k2-fsa/icefall/)."
      ],
      "metadata": {
        "id": "J3pHMbzMOK0v"
      }
    },
    {
      "cell_type": "markdown",
      "source": [
        "## Environment setup\n",
        "\n",
        "To use a pre-trained model with icefall, we have to install the following dependencies:\n",
        "\n",
        "- [k2][k2], for FSA operations\n",
        "- [torchaudio][audio], for reading sound files\n",
        "- [kaldifeat][kaldifeat], for extracting features from a single sound\n",
        "  file or multiple sound files\n",
        "\n",
        "**NOTE**: [lhotse][lhotse] is used only in training time, for data preparation.\n",
        "\n",
        "\n",
        "[k2]: https://github.com/k2-fsa/k2\n",
        "[audio]: https://github.com/pytorch/audio\n",
        "[kaldifeat]: https://github.com/csukuangfj/kaldifeat\n",
        "[lhotse]: https://github.com/lhotse-speech/lhotse"
      ],
      "metadata": {
        "id": "id65zgvnOTzA"
      }
    },
    {
      "cell_type": "markdown",
      "source": [
        "### Install PyTorch and torchaudio\n",
        "\n"
      ],
      "metadata": {
        "id": "YjQKWEtAOTca"
      }
    },
    {
      "cell_type": "code",
      "source": [
        "! nvcc --version"
      ],
      "metadata": {
        "colab": {
          "base_uri": "https://localhost:8080/"
        },
        "id": "5WnDeVDkdGzu",
        "outputId": "c60e3a81-1af3-4b22-cfbb-9e0e9fad5a00"
      },
      "execution_count": null,
      "outputs": [
        {
          "output_type": "stream",
          "name": "stdout",
          "text": [
            "nvcc: NVIDIA (R) Cuda compiler driver\n",
            "Copyright (c) 2005-2022 NVIDIA Corporation\n",
            "Built on Wed_Sep_21_10:33:58_PDT_2022\n",
            "Cuda compilation tools, release 11.8, V11.8.89\n",
            "Build cuda_11.8.r11.8/compiler.31833905_0\n"
          ]
        }
      ]
    },
    {
      "cell_type": "code",
      "execution_count": 20,
      "metadata": {
        "id": "xA2JlPjSOEtj",
        "outputId": "d4abebcd-e5e3-4fa4-c03b-7f4664bf6ff2",
        "colab": {
          "base_uri": "https://localhost:8080/"
        }
      },
      "outputs": [
        {
          "output_type": "stream",
          "name": "stdout",
          "text": [
            "Found existing installation: torch 1.13.1\n",
            "Uninstalling torch-1.13.1:\n",
            "  Successfully uninstalled torch-1.13.1\n",
            "Found existing installation: torchaudio 0.13.1\n",
            "Uninstalling torchaudio-0.13.1:\n",
            "  Successfully uninstalled torchaudio-0.13.1\n",
            "Found existing installation: torchvision 0.15.1+cu118\n",
            "Uninstalling torchvision-0.15.1+cu118:\n",
            "  Successfully uninstalled torchvision-0.15.1+cu118\n",
            "Found existing installation: torchtext 0.15.1\n",
            "Uninstalling torchtext-0.15.1:\n",
            "  Successfully uninstalled torchtext-0.15.1\n",
            "Looking in indexes: https://pypi.org/simple, https://us-python.pkg.dev/colab-wheels/public/simple/\n",
            "Looking in links: https://download.pytorch.org/whl/torch_stable.html\n",
            "\u001b[31mERROR: Could not find a version that satisfies the requirement torch==1.7.1+cu101 (from versions: 1.11.0, 1.11.0+cpu, 1.11.0+cu102, 1.11.0+cu113, 1.11.0+cu115, 1.11.0+rocm4.3.1, 1.11.0+rocm4.5.2, 1.12.0, 1.12.0+cpu, 1.12.0+cu102, 1.12.0+cu113, 1.12.0+cu116, 1.12.0+rocm5.0, 1.12.0+rocm5.1.1, 1.12.1, 1.12.1+cpu, 1.12.1+cu102, 1.12.1+cu113, 1.12.1+cu116, 1.12.1+rocm5.0, 1.12.1+rocm5.1.1, 1.13.0, 1.13.0+cpu, 1.13.0+cu116, 1.13.0+cu117, 1.13.0+cu117.with.pypi.cudnn, 1.13.0+rocm5.1.1, 1.13.0+rocm5.2, 1.13.1, 1.13.1+cpu, 1.13.1+cu116, 1.13.1+cu117, 1.13.1+cu117.with.pypi.cudnn, 1.13.1+rocm5.1.1, 1.13.1+rocm5.2, 2.0.0, 2.0.0+cpu, 2.0.0+cpu.cxx11.abi, 2.0.0+cu117, 2.0.0+cu117.with.pypi.cudnn, 2.0.0+cu118, 2.0.0+rocm5.3, 2.0.0+rocm5.4.2)\u001b[0m\u001b[31m\n",
            "\u001b[0m\u001b[31mERROR: No matching distribution found for torch==1.7.1+cu101\u001b[0m\u001b[31m\n",
            "\u001b[0m"
          ]
        }
      ],
      "source": [
        "! pip uninstall -y torch torchaudio torchvision torchtext\n",
        "\n",
        "! pip install torch==1.7.1+cu101 torchaudio==0.7.2 -f https://download.pytorch.org/whl/torch_stable.html"
      ]
    },
    {
      "cell_type": "markdown",
      "source": [
        "### Install k2"
      ],
      "metadata": {
        "id": "2cWsdyNqP0bi"
      }
    },
    {
      "cell_type": "code",
      "source": [
        "! pip install torch\n",
        "! pip install torchaudio"
      ],
      "metadata": {
        "id": "mFlPZV2Y6msA",
        "outputId": "45486dcf-54b2-4ecd-cb42-406383101853",
        "colab": {
          "base_uri": "https://localhost:8080/"
        }
      },
      "execution_count": 3,
      "outputs": [
        {
          "output_type": "stream",
          "name": "stdout",
          "text": [
            "Looking in indexes: https://pypi.org/simple, https://us-python.pkg.dev/colab-wheels/public/simple/\n",
            "Requirement already satisfied: torch in /usr/local/lib/python3.10/dist-packages (2.0.0+cu118)\n",
            "Requirement already satisfied: jinja2 in /usr/local/lib/python3.10/dist-packages (from torch) (3.1.2)\n",
            "Requirement already satisfied: triton==2.0.0 in /usr/local/lib/python3.10/dist-packages (from torch) (2.0.0)\n",
            "Requirement already satisfied: typing-extensions in /usr/local/lib/python3.10/dist-packages (from torch) (4.5.0)\n",
            "Requirement already satisfied: filelock in /usr/local/lib/python3.10/dist-packages (from torch) (3.12.0)\n",
            "Requirement already satisfied: sympy in /usr/local/lib/python3.10/dist-packages (from torch) (1.11.1)\n",
            "Requirement already satisfied: networkx in /usr/local/lib/python3.10/dist-packages (from torch) (3.1)\n",
            "Requirement already satisfied: cmake in /usr/local/lib/python3.10/dist-packages (from triton==2.0.0->torch) (3.25.2)\n",
            "Requirement already satisfied: lit in /usr/local/lib/python3.10/dist-packages (from triton==2.0.0->torch) (16.0.2)\n",
            "Requirement already satisfied: MarkupSafe>=2.0 in /usr/local/lib/python3.10/dist-packages (from jinja2->torch) (2.1.2)\n",
            "Requirement already satisfied: mpmath>=0.19 in /usr/local/lib/python3.10/dist-packages (from sympy->torch) (1.3.0)\n",
            "Looking in indexes: https://pypi.org/simple, https://us-python.pkg.dev/colab-wheels/public/simple/\n",
            "Requirement already satisfied: torchaudio in /usr/local/lib/python3.10/dist-packages (2.0.1+cu118)\n",
            "Requirement already satisfied: torch==2.0.0 in /usr/local/lib/python3.10/dist-packages (from torchaudio) (2.0.0+cu118)\n",
            "Requirement already satisfied: triton==2.0.0 in /usr/local/lib/python3.10/dist-packages (from torch==2.0.0->torchaudio) (2.0.0)\n",
            "Requirement already satisfied: networkx in /usr/local/lib/python3.10/dist-packages (from torch==2.0.0->torchaudio) (3.1)\n",
            "Requirement already satisfied: filelock in /usr/local/lib/python3.10/dist-packages (from torch==2.0.0->torchaudio) (3.12.0)\n",
            "Requirement already satisfied: jinja2 in /usr/local/lib/python3.10/dist-packages (from torch==2.0.0->torchaudio) (3.1.2)\n",
            "Requirement already satisfied: sympy in /usr/local/lib/python3.10/dist-packages (from torch==2.0.0->torchaudio) (1.11.1)\n",
            "Requirement already satisfied: typing-extensions in /usr/local/lib/python3.10/dist-packages (from torch==2.0.0->torchaudio) (4.5.0)\n",
            "Requirement already satisfied: lit in /usr/local/lib/python3.10/dist-packages (from triton==2.0.0->torch==2.0.0->torchaudio) (16.0.2)\n",
            "Requirement already satisfied: cmake in /usr/local/lib/python3.10/dist-packages (from triton==2.0.0->torch==2.0.0->torchaudio) (3.25.2)\n",
            "Requirement already satisfied: MarkupSafe>=2.0 in /usr/local/lib/python3.10/dist-packages (from jinja2->torch==2.0.0->torchaudio) (2.1.2)\n",
            "Requirement already satisfied: mpmath>=0.19 in /usr/local/lib/python3.10/dist-packages (from sympy->torch==2.0.0->torchaudio) (1.3.0)\n"
          ]
        }
      ]
    },
    {
      "cell_type": "code",
      "source": [
        "pip install k2"
      ],
      "metadata": {
        "id": "V9wJjvDF63JZ",
        "outputId": "e970e82f-0a42-4998-dda9-bcf88c30f707",
        "colab": {
          "base_uri": "https://localhost:8080/"
        }
      },
      "execution_count": 4,
      "outputs": [
        {
          "output_type": "stream",
          "name": "stdout",
          "text": [
            "Looking in indexes: https://pypi.org/simple, https://us-python.pkg.dev/colab-wheels/public/simple/\n",
            "Collecting k2\n",
            "  Downloading k2-1.23.4-py3.9-none-any.whl (103.1 MB)\n",
            "\u001b[2K     \u001b[90m━━━━━━━━━━━━━━━━━━━━━━━━━━━━━━━━━━━━━━\u001b[0m \u001b[32m103.1/103.1 MB\u001b[0m \u001b[31m11.0 MB/s\u001b[0m eta \u001b[36m0:00:00\u001b[0m\n",
            "\u001b[?25hRequirement already satisfied: graphviz in /usr/local/lib/python3.10/dist-packages (from k2) (0.20.1)\n",
            "Collecting torch==1.13.1\n",
            "  Downloading torch-1.13.1-cp310-cp310-manylinux1_x86_64.whl (887.5 MB)\n",
            "\u001b[2K     \u001b[90m━━━━━━━━━━━━━━━━━━━━━━━━━━━━━━━━━━━━━━━\u001b[0m \u001b[32m887.5/887.5 MB\u001b[0m \u001b[31m1.8 MB/s\u001b[0m eta \u001b[36m0:00:00\u001b[0m\n",
            "\u001b[?25hRequirement already satisfied: typing-extensions in /usr/local/lib/python3.10/dist-packages (from torch==1.13.1->k2) (4.5.0)\n",
            "Collecting nvidia-cuda-nvrtc-cu11==11.7.99\n",
            "  Downloading nvidia_cuda_nvrtc_cu11-11.7.99-2-py3-none-manylinux1_x86_64.whl (21.0 MB)\n",
            "\u001b[2K     \u001b[90m━━━━━━━━━━━━━━━━━━━━━━━━━━━━━━━━━━━━━━━━\u001b[0m \u001b[32m21.0/21.0 MB\u001b[0m \u001b[31m61.9 MB/s\u001b[0m eta \u001b[36m0:00:00\u001b[0m\n",
            "\u001b[?25hCollecting nvidia-cuda-runtime-cu11==11.7.99\n",
            "  Downloading nvidia_cuda_runtime_cu11-11.7.99-py3-none-manylinux1_x86_64.whl (849 kB)\n",
            "\u001b[2K     \u001b[90m━━━━━━━━━━━━━━━━━━━━━━━━━━━━━━━━━━━━━━\u001b[0m \u001b[32m849.3/849.3 kB\u001b[0m \u001b[31m71.0 MB/s\u001b[0m eta \u001b[36m0:00:00\u001b[0m\n",
            "\u001b[?25hCollecting nvidia-cublas-cu11==11.10.3.66\n",
            "  Downloading nvidia_cublas_cu11-11.10.3.66-py3-none-manylinux1_x86_64.whl (317.1 MB)\n",
            "\u001b[2K     \u001b[90m━━━━━━━━━━━━━━━━━━━━━━━━━━━━━━━━━━━━━━━\u001b[0m \u001b[32m317.1/317.1 MB\u001b[0m \u001b[31m3.7 MB/s\u001b[0m eta \u001b[36m0:00:00\u001b[0m\n",
            "\u001b[?25hCollecting nvidia-cudnn-cu11==8.5.0.96\n",
            "  Downloading nvidia_cudnn_cu11-8.5.0.96-2-py3-none-manylinux1_x86_64.whl (557.1 MB)\n",
            "\u001b[2K     \u001b[90m━━━━━━━━━━━━━━━━━━━━━━━━━━━━━━━━━━━━━━━\u001b[0m \u001b[32m557.1/557.1 MB\u001b[0m \u001b[31m2.6 MB/s\u001b[0m eta \u001b[36m0:00:00\u001b[0m\n",
            "\u001b[?25hRequirement already satisfied: setuptools in /usr/local/lib/python3.10/dist-packages (from nvidia-cublas-cu11==11.10.3.66->torch==1.13.1->k2) (67.7.2)\n",
            "Requirement already satisfied: wheel in /usr/local/lib/python3.10/dist-packages (from nvidia-cublas-cu11==11.10.3.66->torch==1.13.1->k2) (0.40.0)\n",
            "Installing collected packages: nvidia-cuda-runtime-cu11, nvidia-cuda-nvrtc-cu11, nvidia-cublas-cu11, nvidia-cudnn-cu11, torch, k2\n",
            "  Attempting uninstall: torch\n",
            "    Found existing installation: torch 2.0.0+cu118\n",
            "    Uninstalling torch-2.0.0+cu118:\n",
            "      Successfully uninstalled torch-2.0.0+cu118\n",
            "\u001b[31mERROR: pip's dependency resolver does not currently take into account all the packages that are installed. This behaviour is the source of the following dependency conflicts.\n",
            "torchvision 0.15.1+cu118 requires torch==2.0.0, but you have torch 1.13.1 which is incompatible.\n",
            "torchtext 0.15.1 requires torch==2.0.0, but you have torch 1.13.1 which is incompatible.\n",
            "torchdata 0.6.0 requires torch==2.0.0, but you have torch 1.13.1 which is incompatible.\n",
            "torchaudio 2.0.1+cu118 requires torch==2.0.0, but you have torch 1.13.1 which is incompatible.\u001b[0m\u001b[31m\n",
            "\u001b[0mSuccessfully installed k2-1.23.4 nvidia-cublas-cu11-11.10.3.66 nvidia-cuda-nvrtc-cu11-11.7.99 nvidia-cuda-runtime-cu11-11.7.99 nvidia-cudnn-cu11-8.5.0.96 torch-1.13.1\n"
          ]
        }
      ]
    },
    {
      "cell_type": "code",
      "source": [
        "! pip install k2==1.10.dev20211102+cuda10.1.torch1.7.1 -f https://k2-fsa.org/nightly"
      ],
      "metadata": {
        "colab": {
          "base_uri": "https://localhost:8080/"
        },
        "id": "FLw2IDOUO_Ce",
        "outputId": "8319b10e-03f5-4f36-e124-155d13d8651c"
      },
      "execution_count": 22,
      "outputs": [
        {
          "output_type": "stream",
          "name": "stdout",
          "text": [
            "Looking in indexes: https://pypi.org/simple, https://us-python.pkg.dev/colab-wheels/public/simple/\n",
            "Looking in links: https://k2-fsa.org/nightly\n",
            "\u001b[31mERROR: Could not find a version that satisfies the requirement k2==1.10.dev20211102+cuda10.1.torch1.7.1 (from versions: 0.0.1.dev0, 0.0.2.dev0, 0.0.3.dev20201019, 0.0.3.dev20201020, 0.0.3.dev20201025, 0.0.3.dev20201027, 0.0.4.dev20201027, 0.0.5.dev20201027, 0.0.5.dev20201028, 0.0.6.dev20201028, 0.0.7.dev20201028, 0.0.9.dev20201109, 0.0.10.dev20201110, 0.1, 0.1.1.dev20201116, 0.1.1.dev20201118, 0.1.1.dev20201130, 0.1.1.dev20201208, 0.1.1.dev20201210, 0.1.1.dev20201212, 0.1.1.dev20201216, 0.1.2.dev20210111, 0.1.2, 0.1.3.dev20210111, 0.3.0, 0.3.1.dev20210121, 0.3.1.dev20210127, 0.3.1.dev20210204, 0.3.2.dev20210204, 0.3.3.dev20210205, 0.3.3.dev20210206, 0.3.3.dev20210209, 0.3.3.dev20210218, 0.3.3.dev20210222, 0.3.3.dev20210224, 0.3.3.dev20210302, 0.3.3.dev20210305, 0.3.3.dev20210309, 0.3.3.dev20210321, 0.3.3.dev20210328, 0.3.3.dev20210331, 0.3.3.dev20210409, 0.3.3.dev20210411, 0.3.3.dev20210415, 0.3.3.dev20210421, 0.3.3.dev20210425, 0.3.3.dev20210426, 0.3.3.dev20210501, 0.3.4.dev20210511, 0.3.4.dev20210512, 0.3.4.dev20210515, 0.3.5.dev20210605, 0.3.5.dev20210606, 0.3.5.dev20210608, 0.3.5, 1.0.dev20210617, 1.0.dev20210619, 1.0, 1.1.dev20210706, 1.1, 1.2, 1.3, 1.4, 1.5, 1.6, 1.7, 1.8, 1.9.dev20211024, 1.9, 1.10, 1.11, 1.12, 1.13.dev20220315+cpu.torch1.11.0, 1.13, 1.14.dev20220316+cpu.torch1.11.0, 1.14.dev20220318+cpu.torch1.11.0, 1.14.dev20220319+cpu.torch1.11.0, 1.14.dev20220320+cpu.torch1.11.0, 1.14.dev20220321+cpu.torch1.11.0, 1.14.dev20220322+cpu.torch1.11.0, 1.14.dev20220323+cpu.torch1.11.0, 1.14.dev20220324+cpu.torch1.11.0, 1.14.dev20220325+cpu.torch1.11.0, 1.14.dev20220326+cpu.torch1.11.0, 1.14.dev20220327+cpu.torch1.11.0, 1.14.dev20220329+cpu.torch1.11.0, 1.14.dev20220330+cpu.torch1.11.0, 1.14.dev20220331+cpu.torch1.11.0, 1.14.dev20220401+cpu.torch1.11.0, 1.14.dev20220402+cpu.torch1.11.0, 1.14.dev20220403+cpu.torch1.11.0, 1.14.dev20220404+cpu.torch1.11.0, 1.14.dev20220405+cpu.torch1.11.0, 1.14.dev20220406+cpu.torch1.11.0, 1.14.dev20220408+cpu.torch1.11.0, 1.14.dev20220409+cpu.torch1.11.0, 1.14.dev20220412+cpu.torch1.11.0, 1.14.dev20220413+cpu.torch1.11.0, 1.14.dev20220414+cpu.torch1.11.0, 1.14, 1.15, 1.15.1.dev20220419+cpu.torch1.11.0, 1.15.1.dev20220422+cpu.torch1.11.0, 1.15.1.dev20220427+cpu.torch1.11.0, 1.15.1.dev20220511+cpu.torch1.11.0, 1.15.1.dev20220527+cpu.torch1.11.0, 1.15.1.dev20220605+cpu.torch1.11.0, 1.15.1.dev20220617+cpu.torch1.11.0, 1.15.1, 1.16.dev20220621+cpu.torch1.11.0, 1.16.dev20220622+cpu.torch1.11.0, 1.16, 1.17.dev20220707+cpu.torch1.11.0, 1.17.dev20220707+cpu.torch1.12.0, 1.17.dev20220708+cpu.torch1.11.0, 1.17.dev20220708+cpu.torch1.12.0, 1.17.dev20220709+cpu.torch1.11.0, 1.17.dev20220709+cpu.torch1.12.0, 1.17.dev20220710+cpu.torch1.11.0, 1.17.dev20220710+cpu.torch1.12.0, 1.17.dev20220714+cpu.torch1.11.0, 1.17.dev20220714+cpu.torch1.12.0, 1.17.dev20220716+cpu.torch1.11.0, 1.17.dev20220716+cpu.torch1.12.0, 1.17.dev20220719+cpu.torch1.11.0, 1.17.dev20220719+cpu.torch1.12.0, 1.17.dev20220726+cpu.torch1.11.0, 1.17.dev20220726+cpu.torch1.12.0, 1.17.dev20220803+cpu.torch1.11.0, 1.17.dev20220803+cpu.torch1.12.0, 1.17.dev20220808+cpu.torch1.11.0, 1.17.dev20220808+cpu.torch1.12.0, 1.17.dev20220813+cpu.torch1.11.0, 1.17.dev20220813+cpu.torch1.12.0, 1.17, 1.18.dev20220816+cpu.torch1.11.0, 1.18.dev20220816+cpu.torch1.12.0, 1.18.dev20220817+cpu.torch1.11.0, 1.18.dev20220817+cpu.torch1.12.0, 1.18.dev20220817+cpu.torch1.12.1, 1.18.dev20220818+cpu.torch1.11.0, 1.18.dev20220818+cpu.torch1.12.0, 1.18.dev20220818+cpu.torch1.12.1, 1.18.dev20220821+cpu.torch1.11.0, 1.18.dev20220821+cpu.torch1.12.0, 1.18.dev20220821+cpu.torch1.12.1, 1.18.dev20220823+cpu.torch1.11.0, 1.18.dev20220823+cpu.torch1.12.0, 1.18.dev20220823+cpu.torch1.12.1, 1.18, 1.19.dev20220824+cpu.torch1.11.0, 1.19.dev20220824+cpu.torch1.12.0, 1.19.dev20220824+cpu.torch1.12.1, 1.19.dev20220829+cpu.torch1.11.0, 1.19.dev20220829+cpu.torch1.12.0, 1.19.dev20220829+cpu.torch1.12.1, 1.19.dev20220901+cpu.torch1.11.0, 1.19.dev20220901+cpu.torch1.12.0, 1.19.dev20220901+cpu.torch1.12.1, 1.19.dev20220917+cpu.torch1.11.0, 1.19.dev20220917+cpu.torch1.12.0, 1.19.dev20220917+cpu.torch1.12.1, 1.19.dev20220918+cpu.torch1.11.0, 1.19.dev20220918+cpu.torch1.12.0, 1.19.dev20220918+cpu.torch1.12.1, 1.19.dev20220921+cpu.torch1.11.0, 1.19.dev20220921+cpu.torch1.12.0, 1.19.dev20220921+cpu.torch1.12.1, 1.19.dev20220922+cpu.torch1.11.0, 1.19.dev20220922+cpu.torch1.12.0, 1.19.dev20220922+cpu.torch1.12.1, 1.19, 1.21.dev20221008+cpu.torch1.11.0, 1.21.dev20221008+cpu.torch1.12.0, 1.21.dev20221008+cpu.torch1.12.1, 1.21.dev20221008+cuda10.2.torch1.12.1, 1.21.dev20221008+cuda11.3.torch1.12.1, 1.21.dev20221008+cuda11.6.torch1.12.1, 1.21.dev20221010+cpu.torch1.11.0, 1.21.dev20221010+cpu.torch1.12.0, 1.21.dev20221010+cpu.torch1.12.1, 1.21.dev20221010+cuda10.2.torch1.12.1, 1.21.dev20221010+cuda11.3.torch1.12.1, 1.21.dev20221010+cuda11.6.torch1.12.1, 1.21.dev20221015+cpu.torch1.11.0, 1.21.dev20221015+cpu.torch1.12.0, 1.21.dev20221015+cpu.torch1.12.1, 1.21.dev20221015+cuda10.2.torch1.12.1, 1.21.dev20221015+cuda11.3.torch1.12.1, 1.21.dev20221015+cuda11.6.torch1.12.1, 1.21.dev20221018+cpu.torch1.12.0, 1.21.dev20221018+cpu.torch1.12.1, 1.21.dev20221018+cuda10.2.torch1.12.1, 1.21.dev20221018+cuda11.3.torch1.12.1, 1.21.dev20221018+cuda11.6.torch1.12.1, 1.21.dev20221027+cuda10.2.torch1.12.1, 1.21.dev20221028+cpu.torch1.11.0, 1.21.dev20221028+cpu.torch1.12.0, 1.21.dev20221028+cpu.torch1.12.1, 1.21.dev20221028+cuda10.2.torch1.12.1, 1.21.dev20221028+cuda11.3.torch1.12.1, 1.21.dev20221028+cuda11.6.torch1.12.1, 1.21.dev20221029+cpu.torch1.11.0, 1.21.dev20221029+cpu.torch1.12.0, 1.21.dev20221029+cpu.torch1.12.1, 1.21.dev20221029+cuda11.3.torch1.12.1, 1.21.dev20221029+cuda11.6.torch1.12.1, 1.21.dev20221030+cuda10.2.torch1.12.1, 1.21.dev20221030+cuda11.3.torch1.12.1, 1.21.dev20221030+cuda11.6.torch1.12.1, 1.21.dev20221031+cpu.torch1.11.0, 1.21.dev20221031+cpu.torch1.12.0, 1.21.dev20221031+cpu.torch1.12.1, 1.21.dev20221101+cpu.torch1.11.0, 1.21.dev20221101+cpu.torch1.12.0, 1.21.dev20221101+cpu.torch1.12.1, 1.21.dev20221101+cpu.torch1.13.0, 1.21.dev20221101+cuda11.6.torch1.13.0, 1.21.dev20221101+cuda11.7.torch1.13.0, 1.21.dev20221104+cpu.torch1.11.0, 1.21.dev20221104+cpu.torch1.12.0, 1.21.dev20221104+cpu.torch1.12.1, 1.21.dev20221104+cpu.torch1.13.0, 1.21.dev20221104+cuda11.6.torch1.13.0, 1.21.dev20221104+cuda11.7.torch1.13.0, 1.21.dev20221105+cpu.torch1.11.0, 1.21.dev20221105+cpu.torch1.12.0, 1.21.dev20221105+cpu.torch1.12.1, 1.21.dev20221105+cpu.torch1.13.0, 1.21.dev20221105+cuda11.6.torch1.13.0, 1.21.dev20221105+cuda11.7.torch1.13.0, 1.21.dev20221107+cuda11.6.torch1.13.0, 1.21.dev20221107+cuda11.7.torch1.13.0, 1.21.dev20221108+cpu.torch1.11.0, 1.21.dev20221108+cpu.torch1.12.0, 1.21.dev20221108+cpu.torch1.12.1, 1.21.dev20221108+cpu.torch1.13.0, 1.21.dev20221109+cuda11.6.torch1.13.0, 1.21.dev20221109+cuda11.7.torch1.13.0, 1.21.dev20221110+cpu.torch1.11.0, 1.21.dev20221110+cpu.torch1.12.0, 1.21.dev20221110+cpu.torch1.12.1, 1.21.dev20221110+cpu.torch1.13.0, 1.22.dev20221111+cuda11.6.torch1.13.0, 1.22.dev20221111+cuda11.7.torch1.13.0, 1.22.dev20221112+cpu.torch1.11.0, 1.22.dev20221112+cpu.torch1.12.0, 1.22.dev20221112+cpu.torch1.12.1, 1.22.dev20221112+cpu.torch1.13.0, 1.22.dev20221115+cuda11.6.torch1.13.0, 1.22.dev20221115+cuda11.7.torch1.13.0, 1.22.dev20221116+cpu.torch1.11.0, 1.22.dev20221116+cpu.torch1.12.0, 1.22.dev20221116+cpu.torch1.12.1, 1.22.dev20221116+cpu.torch1.13.0, 1.22.dev20221116+cuda11.6.torch1.13.0, 1.22.dev20221116+cuda11.7.torch1.13.0, 1.22.dev20221117+cpu.torch1.11.0, 1.22.dev20221117+cpu.torch1.12.0, 1.22.dev20221117+cpu.torch1.12.1, 1.22.dev20221117+cpu.torch1.13.0, 1.22.dev20221117+cuda11.6.torch1.13.0, 1.22.dev20221117+cuda11.7.torch1.13.0, 1.22.dev20221118+cpu.torch1.11.0, 1.22.dev20221118+cpu.torch1.12.0, 1.22.dev20221118+cpu.torch1.12.1, 1.22.dev20221118+cpu.torch1.13.0, 1.22, 1.23.dev20221124+cuda11.6.torch1.13.0, 1.23.dev20221124+cuda11.7.torch1.13.0, 1.23.1, 1.23.2.dev20221127+cpu.torch1.11.0, 1.23.2.dev20221127+cpu.torch1.12.0, 1.23.2.dev20221127+cpu.torch1.12.1, 1.23.2.dev20221127+cpu.torch1.13.0, 1.23.2.dev20221127+cuda11.6.torch1.13.0, 1.23.2.dev20221127+cuda11.7.torch1.13.0, 1.23.2.dev20221128+cpu.torch1.11.0, 1.23.2.dev20221128+cpu.torch1.12.0, 1.23.2.dev20221128+cpu.torch1.12.1, 1.23.2.dev20221128+cpu.torch1.13.0, 1.23.2.dev20221129+cpu.torch1.11.0, 1.23.2.dev20221129+cpu.torch1.12.0, 1.23.2.dev20221129+cpu.torch1.12.1, 1.23.2.dev20221129+cpu.torch1.13.0, 1.23.2.dev20221129+cuda11.6.torch1.13.0, 1.23.2.dev20221129+cuda11.7.torch1.13.0, 1.23.2.dev20221130+cuda11.6.torch1.13.0, 1.23.2.dev20221130+cuda11.7.torch1.13.0, 1.23.2.dev20221201+cpu.torch1.11.0, 1.23.2.dev20221201+cpu.torch1.12.0, 1.23.2.dev20221201+cpu.torch1.12.1, 1.23.2.dev20221201+cpu.torch1.13.0, 1.23.2.dev20221202+cuda11.6.torch1.13.0, 1.23.2.dev20221202+cuda11.7.torch1.13.0, 1.23.2.dev20221203+cpu.torch1.11.0, 1.23.2.dev20221203+cpu.torch1.12.0, 1.23.2.dev20221203+cpu.torch1.12.1, 1.23.2.dev20221203+cpu.torch1.13.0, 1.23.2.dev20221205+cuda11.6.torch1.13.0, 1.23.2.dev20221205+cuda11.7.torch1.13.0, 1.23.2.dev20221206+cpu.torch1.11.0, 1.23.2.dev20221206+cpu.torch1.12.0, 1.23.2.dev20221206+cpu.torch1.12.1, 1.23.2.dev20221206+cpu.torch1.13.0, 1.23.2.dev20221214+cpu.torch1.11.0, 1.23.2.dev20221214+cpu.torch1.12.0, 1.23.2.dev20221214+cpu.torch1.12.1, 1.23.2.dev20221214+cpu.torch1.13.0, 1.23.2.dev20221214+cuda11.6.torch1.13.0, 1.23.2.dev20221214+cuda11.7.torch1.13.0, 1.23.2.dev20221229+cuda11.6.torch1.13.0, 1.23.2.dev20221229+cuda11.7.torch1.13.0, 1.23.2.dev20221230+cpu.torch1.11.0, 1.23.2.dev20221230+cpu.torch1.12.0, 1.23.2.dev20221230+cpu.torch1.12.1, 1.23.2.dev20221230+cpu.torch1.13.0, 1.23.2.dev20230104+cuda11.6.torch1.13.0, 1.23.2.dev20230104+cuda11.7.torch1.13.0, 1.23.2.dev20230105+cpu.torch1.11.0, 1.23.2.dev20230105+cpu.torch1.12.0, 1.23.2.dev20230105+cpu.torch1.12.1, 1.23.2.dev20230105+cpu.torch1.13.0, 1.23.2, 1.23.3.dev20230105+cuda11.6.torch1.13.1, 1.23.3.dev20230105+cuda11.7.torch1.13.1, 1.23.3.dev20230106+cpu.torch1.11.0, 1.23.3.dev20230106+cpu.torch1.12.0, 1.23.3.dev20230106+cpu.torch1.12.1, 1.23.3.dev20230106+cpu.torch1.13.0, 1.23.3.dev20230106+cpu.torch1.13.1, 1.23.3.dev20230110+cuda11.6.torch1.13.1, 1.23.3.dev20230110+cuda11.7.torch1.13.1, 1.23.3.dev20230111+cpu.torch1.11.0, 1.23.3.dev20230111+cpu.torch1.12.0, 1.23.3.dev20230111+cpu.torch1.12.1, 1.23.3.dev20230111+cpu.torch1.13.0, 1.23.3.dev20230111+cpu.torch1.13.1, 1.23.3.dev20230111+cuda11.6.torch1.13.1, 1.23.3.dev20230111+cuda11.7.torch1.13.1, 1.23.3.dev20230112+cpu.torch1.11.0, 1.23.3.dev20230112+cpu.torch1.12.0, 1.23.3.dev20230112+cpu.torch1.12.1, 1.23.3.dev20230112+cpu.torch1.13.0, 1.23.3.dev20230112+cpu.torch1.13.1, 1.23.3.dev20230115+cuda11.6.torch1.13.1, 1.23.3.dev20230115+cuda11.7.torch1.13.1, 1.23.3.dev20230116+cpu.torch1.11.0, 1.23.3.dev20230116+cpu.torch1.12.0, 1.23.3.dev20230116+cpu.torch1.12.1, 1.23.3.dev20230116+cpu.torch1.13.0, 1.23.3.dev20230116+cpu.torch1.13.1, 1.23.3.dev20230117+cuda11.6.torch1.13.1, 1.23.3.dev20230117+cuda11.7.torch1.13.1, 1.23.3.dev20230118+cpu.torch1.11.0, 1.23.3.dev20230118+cpu.torch1.12.0, 1.23.3.dev20230118+cpu.torch1.12.1, 1.23.3.dev20230118+cpu.torch1.13.0, 1.23.3.dev20230118+cpu.torch1.13.1, 1.23.3.dev20230127+cpu.torch1.11.0, 1.23.3.dev20230127+cpu.torch1.12.0, 1.23.3.dev20230127+cpu.torch1.12.1, 1.23.3.dev20230127+cpu.torch1.13.0, 1.23.3.dev20230127+cpu.torch1.13.1, 1.23.3.dev20230127+cuda11.6.torch1.13.1, 1.23.3.dev20230127+cuda11.7.torch1.13.1, 1.23.3.dev20230129+cuda11.6.torch1.13.1, 1.23.3.dev20230129+cuda11.7.torch1.13.1, 1.23.3.dev20230130+cpu.torch1.11.0, 1.23.3.dev20230130+cpu.torch1.12.0, 1.23.3.dev20230130+cpu.torch1.12.1, 1.23.3.dev20230130+cpu.torch1.13.0, 1.23.3.dev20230130+cpu.torch1.13.1, 1.23.3, 1.23.4.dev20230201+cuda11.6.torch1.13.1, 1.23.4.dev20230201+cuda11.7.torch1.13.1, 1.23.4.dev20230202+cpu.torch1.11.0, 1.23.4.dev20230202+cpu.torch1.12.0, 1.23.4.dev20230202+cpu.torch1.12.1, 1.23.4.dev20230202+cpu.torch1.13.0, 1.23.4.dev20230202+cpu.torch1.13.1, 1.23.4.dev20230205+cuda11.6.torch1.13.1, 1.23.4.dev20230205+cuda11.7.torch1.13.1, 1.23.4.dev20230206+cpu.torch1.11.0, 1.23.4.dev20230206+cpu.torch1.12.0, 1.23.4.dev20230206+cpu.torch1.12.1, 1.23.4.dev20230206+cpu.torch1.13.0, 1.23.4.dev20230206+cpu.torch1.13.1, 1.23.4.dev20230217+cuda11.6.torch1.13.1, 1.23.4.dev20230217+cuda11.7.torch1.13.1, 1.23.4.dev20230218+cpu.torch1.11.0, 1.23.4.dev20230218+cpu.torch1.12.0, 1.23.4.dev20230218+cpu.torch1.12.1, 1.23.4.dev20230218+cpu.torch1.13.0, 1.23.4.dev20230218+cpu.torch1.13.1, 1.23.4.dev20230222+cuda11.6.torch1.13.1, 1.23.4.dev20230222+cuda11.7.torch1.13.1, 1.23.4.dev20230223+cpu.torch1.11.0, 1.23.4.dev20230223+cpu.torch1.12.0, 1.23.4.dev20230223+cpu.torch1.12.1, 1.23.4.dev20230223+cpu.torch1.13.0, 1.23.4.dev20230223+cpu.torch1.13.1, 1.23.4.dev20230228+cuda11.6.torch1.13.1, 1.23.4.dev20230228+cuda11.7.torch1.13.1, 1.23.4.dev20230301+cpu.torch1.11.0, 1.23.4.dev20230301+cpu.torch1.12.0, 1.23.4.dev20230301+cpu.torch1.12.1, 1.23.4.dev20230301+cpu.torch1.13.0, 1.23.4.dev20230301+cpu.torch1.13.1, 1.23.4.dev20230316+cuda11.6.torch1.13.1, 1.23.4.dev20230316+cuda11.7.torch1.13.1, 1.23.4.dev20230317+cpu.torch1.11.0, 1.23.4.dev20230317+cpu.torch1.12.0, 1.23.4.dev20230317+cpu.torch1.12.1, 1.23.4.dev20230317+cpu.torch1.13.0, 1.23.4.dev20230317+cpu.torch1.13.1, 1.23.4.dev20230318+cuda11.6.torch1.13.1, 1.23.4.dev20230318+cuda11.7.torch1.13.1, 1.23.4.dev20230319+cpu.torch1.11.0, 1.23.4.dev20230319+cpu.torch1.12.0, 1.23.4.dev20230319+cpu.torch1.12.1, 1.23.4.dev20230319+cpu.torch1.13.0, 1.23.4.dev20230319+cpu.torch1.13.1, 1.23.4)\u001b[0m\u001b[31m\n",
            "\u001b[0m\u001b[31mERROR: No matching distribution found for k2==1.10.dev20211102+cuda10.1.torch1.7.1\u001b[0m\u001b[31m\n",
            "\u001b[0m"
          ]
        }
      ]
    },
    {
      "cell_type": "markdown",
      "source": [
        "Check that k2 was installed successfully:"
      ],
      "metadata": {
        "id": "SJC8l1LAP5Rt"
      }
    },
    {
      "cell_type": "code",
      "source": [
        "! python3 -m k2.version"
      ],
      "metadata": {
        "colab": {
          "base_uri": "https://localhost:8080/"
        },
        "id": "yrJrc17wP50p",
        "outputId": "e55f7445-2a17-46b4-f31f-b99d685a7552"
      },
      "execution_count": 5,
      "outputs": [
        {
          "output_type": "stream",
          "name": "stdout",
          "text": [
            "Traceback (most recent call last):\n",
            "  File \"/usr/lib/python3.10/runpy.py\", line 187, in _run_module_as_main\n",
            "    mod_name, mod_spec, code = _get_module_details(mod_name, _Error)\n",
            "  File \"/usr/lib/python3.10/runpy.py\", line 110, in _get_module_details\n",
            "    __import__(pkg_name)\n",
            "  File \"/usr/local/lib/python3.10/dist-packages/k2/__init__.py\", line 23, in <module>\n",
            "    from _k2 import DeterminizeWeightPushingType\n",
            "ModuleNotFoundError: No module named '_k2'\n"
          ]
        }
      ]
    },
    {
      "cell_type": "markdown",
      "source": [
        "### Install kaldifeat"
      ],
      "metadata": {
        "id": "JtQrfy_IQD3D"
      }
    },
    {
      "cell_type": "code",
      "source": [
        "! KALDIFEAT_MAKE_ARGS=\"-j\" pip install --verbose kaldifeat"
      ],
      "metadata": {
        "colab": {
          "base_uri": "https://localhost:8080/"
        },
        "id": "Utl8nJxDQAiy",
        "outputId": "7fd803cb-65f0-4cd8-9f18-f8f46f276136"
      },
      "execution_count": 6,
      "outputs": [
        {
          "output_type": "stream",
          "name": "stdout",
          "text": [
            "Using pip 23.0.1 from /usr/local/lib/python3.10/dist-packages/pip (python 3.10)\n",
            "Looking in indexes: https://pypi.org/simple, https://us-python.pkg.dev/colab-wheels/public/simple/\n",
            "Collecting kaldifeat\n",
            "  Downloading kaldifeat-1.21.tar.gz (482 kB)\n",
            "\u001b[2K     \u001b[90m━━━━━━━━━━━━━━━━━━━━━━━━━━━━━━━━━━━━━━\u001b[0m \u001b[32m482.4/482.4 kB\u001b[0m \u001b[31m30.1 MB/s\u001b[0m eta \u001b[36m0:00:00\u001b[0m\n",
            "\u001b[?25h  Running command python setup.py egg_info\n",
            "  running egg_info\n",
            "  creating /tmp/pip-pip-egg-info-rlg_oy0t/kaldifeat.egg-info\n",
            "  writing /tmp/pip-pip-egg-info-rlg_oy0t/kaldifeat.egg-info/PKG-INFO\n",
            "  writing dependency_links to /tmp/pip-pip-egg-info-rlg_oy0t/kaldifeat.egg-info/dependency_links.txt\n",
            "  writing top-level names to /tmp/pip-pip-egg-info-rlg_oy0t/kaldifeat.egg-info/top_level.txt\n",
            "  writing manifest file '/tmp/pip-pip-egg-info-rlg_oy0t/kaldifeat.egg-info/SOURCES.txt'\n",
            "  reading manifest file '/tmp/pip-pip-egg-info-rlg_oy0t/kaldifeat.egg-info/SOURCES.txt'\n",
            "  reading manifest template 'MANIFEST.in'\n",
            "  warning: no previously-included files found matching 'pyproject.toml'\n",
            "  adding license file 'LICENSE'\n",
            "  writing manifest file '/tmp/pip-pip-egg-info-rlg_oy0t/kaldifeat.egg-info/SOURCES.txt'\n",
            "  Preparing metadata (setup.py) ... \u001b[?25l\u001b[?25hdone\n",
            "Building wheels for collected packages: kaldifeat\n",
            "  Running command python setup.py bdist_wheel\n",
            "  running bdist_wheel\n",
            "  running build\n",
            "  running build_py\n",
            "  creating build\n",
            "  creating build/lib.linux-x86_64-3.10\n",
            "  creating build/lib.linux-x86_64-3.10/kaldifeat\n",
            "  copying kaldifeat/python/kaldifeat/spectrogram.py -> build/lib.linux-x86_64-3.10/kaldifeat\n",
            "  copying kaldifeat/python/kaldifeat/__init__.py -> build/lib.linux-x86_64-3.10/kaldifeat\n",
            "  copying kaldifeat/python/kaldifeat/online_feature.py -> build/lib.linux-x86_64-3.10/kaldifeat\n",
            "  copying kaldifeat/python/kaldifeat/fbank.py -> build/lib.linux-x86_64-3.10/kaldifeat\n",
            "  copying kaldifeat/python/kaldifeat/offline_feature.py -> build/lib.linux-x86_64-3.10/kaldifeat\n",
            "  copying kaldifeat/python/kaldifeat/mfcc.py -> build/lib.linux-x86_64-3.10/kaldifeat\n",
            "  copying kaldifeat/python/kaldifeat/plp.py -> build/lib.linux-x86_64-3.10/kaldifeat\n",
            "  running build_ext\n",
            "  Setting PYTHON_EXECUTABLE to /usr/bin/python3\n",
            "  build command is:\n",
            "\n",
            "                  cd build/temp.linux-x86_64-3.10\n",
            "\n",
            "                  cmake -DCMAKE_BUILD_TYPE=Release -DPYTHON_EXECUTABLE=/usr/bin/python3 -Dkaldifeat_BUILD_TESTS=OFF  -DCMAKE_INSTALL_PREFIX=/tmp/pip-install-yiwhivg1/kaldifeat_8ec64f9e74ac4c4c83dc87511dbc23b4/build/lib.linux-x86_64-3.10/kaldifeat  /tmp/pip-install-yiwhivg1/kaldifeat_8ec64f9e74ac4c4c83dc87511dbc23b4\n",
            "\n",
            "\n",
            "                  make -j _kaldifeat install\n",
            "\n",
            "  -- The C compiler identification is GNU 9.4.0\n",
            "  -- The CXX compiler identification is GNU 9.4.0\n",
            "  -- Detecting C compiler ABI info\n",
            "  -- Detecting C compiler ABI info - done\n",
            "  -- Check for working C compiler: /usr/bin/cc - skipped\n",
            "  -- Detecting C compile features\n",
            "  -- Detecting C compile features - done\n",
            "  -- Detecting CXX compiler ABI info\n",
            "  -- Detecting CXX compiler ABI info - done\n",
            "  -- Check for working CXX compiler: /usr/bin/c++ - skipped\n",
            "  -- Detecting CXX compile features\n",
            "  -- Detecting CXX compile features - done\n",
            "  -- C++ Standard version: 14\n",
            "  -- Downloading pybind11\n",
            "  -- pybind11 is downloaded to /tmp/pip-install-yiwhivg1/kaldifeat_8ec64f9e74ac4c4c83dc87511dbc23b4/build/temp.linux-x86_64-3.10/_deps/pybind11-src\n",
            "  -- pybind11 v2.9.2\n",
            "  -- Found PythonInterp: /usr/bin/python3 (found version \"3.10.11\")\n",
            "  -- Found PythonLibs: /usr/lib/x86_64-linux-gnu/libpython3.10.so\n",
            "  -- Performing Test HAS_FLTO\n",
            "  -- Performing Test HAS_FLTO - Success\n",
            "  -- Python executable: /usr/bin/python3\n",
            "  -- TORCH_DIR: /usr/local/lib/python3.10/dist-packages/torch\n",
            "  -- Performing Test CMAKE_HAVE_LIBC_PTHREAD\n",
            "  -- Performing Test CMAKE_HAVE_LIBC_PTHREAD - Failed\n",
            "  -- Looking for pthread_create in pthreads\n",
            "  -- Looking for pthread_create in pthreads - not found\n",
            "  -- Looking for pthread_create in pthread\n",
            "  -- Looking for pthread_create in pthread - found\n",
            "  -- Found Threads: TRUE\n",
            "  -- Found CUDA: /usr/local/cuda (found version \"11.8\")\n",
            "  -- The CUDA compiler identification is NVIDIA 11.8.89\n",
            "  -- Detecting CUDA compiler ABI info\n",
            "  -- Detecting CUDA compiler ABI info - done\n",
            "  -- Check for working CUDA compiler: /usr/local/cuda/bin/nvcc - skipped\n",
            "  -- Detecting CUDA compile features\n",
            "  -- Detecting CUDA compile features - done\n",
            "  -- Caffe2: CUDA detected: 11.8\n",
            "  -- Caffe2: CUDA nvcc is: /usr/local/cuda/bin/nvcc\n",
            "  -- Caffe2: CUDA toolkit directory: /usr/local/cuda\n",
            "  -- Caffe2: Header version is: 11.8\n",
            "  -- Found CUDNN: /usr/lib/x86_64-linux-gnu/libcudnn.so\n",
            "  -- Found cuDNN: v8.7.0  (include: /usr/include, library: /usr/lib/x86_64-linux-gnu/libcudnn.so)\n",
            "  -- /usr/local/cuda/lib64/libnvrtc.so shorthash is 672ee683\n",
            "  -- Autodetected CUDA architecture(s):  8.0\n",
            "  -- Added CUDA NVCC flags for: -gencode;arch=compute_80,code=sm_80\n",
            "  CMake Warning at /usr/local/lib/python3.10/dist-packages/torch/share/cmake/Torch/TorchConfig.cmake:22 (message):\n",
            "    static library kineto_LIBRARY-NOTFOUND not found.\n",
            "  Call Stack (most recent call first):\n",
            "    /usr/local/lib/python3.10/dist-packages/torch/share/cmake/Torch/TorchConfig.cmake:127 (append_torchlib_if_found)\n",
            "    cmake/torch.cmake:14 (find_package)\n",
            "    CMakeLists.txt:56 (include)\n",
            "\n",
            "\n",
            "  -- Found Torch: /usr/local/lib/python3.10/dist-packages/torch/lib/libtorch.so\n",
            "  -- PyTorch version: 1.13.1+cu117\n",
            "  -- CMAKE_CXX_FLAGS:  -D_GLIBCXX_USE_CXX11_ABI=0\n",
            "  -- CMAKE_INSTALL_PREFIX: /tmp/pip-install-yiwhivg1/kaldifeat_8ec64f9e74ac4c4c83dc87511dbc23b4/build/lib.linux-x86_64-3.10/kaldifeat\n",
            "  -- All headers: /tmp/pip-install-yiwhivg1/kaldifeat_8ec64f9e74ac4c4c83dc87511dbc23b4/kaldifeat/csrc/feature-common-inl.h;/tmp/pip-install-yiwhivg1/kaldifeat_8ec64f9e74ac4c4c83dc87511dbc23b4/kaldifeat/csrc/feature-common.h;/tmp/pip-install-yiwhivg1/kaldifeat_8ec64f9e74ac4c4c83dc87511dbc23b4/kaldifeat/csrc/feature-fbank.h;/tmp/pip-install-yiwhivg1/kaldifeat_8ec64f9e74ac4c4c83dc87511dbc23b4/kaldifeat/csrc/feature-functions.h;/tmp/pip-install-yiwhivg1/kaldifeat_8ec64f9e74ac4c4c83dc87511dbc23b4/kaldifeat/csrc/feature-mfcc.h;/tmp/pip-install-yiwhivg1/kaldifeat_8ec64f9e74ac4c4c83dc87511dbc23b4/kaldifeat/csrc/feature-plp.h;/tmp/pip-install-yiwhivg1/kaldifeat_8ec64f9e74ac4c4c83dc87511dbc23b4/kaldifeat/csrc/feature-spectrogram.h;/tmp/pip-install-yiwhivg1/kaldifeat_8ec64f9e74ac4c4c83dc87511dbc23b4/kaldifeat/csrc/feature-window.h;/tmp/pip-install-yiwhivg1/kaldifeat_8ec64f9e74ac4c4c83dc87511dbc23b4/kaldifeat/csrc/log.h;/tmp/pip-install-yiwhivg1/kaldifeat_8ec64f9e74ac4c4c83dc87511dbc23b4/kaldifeat/csrc/matrix-functions.h;/tmp/pip-install-yiwhivg1/kaldifeat_8ec64f9e74ac4c4c83dc87511dbc23b4/kaldifeat/csrc/mel-computations.h;/tmp/pip-install-yiwhivg1/kaldifeat_8ec64f9e74ac4c4c83dc87511dbc23b4/kaldifeat/csrc/online-feature-itf.h;/tmp/pip-install-yiwhivg1/kaldifeat_8ec64f9e74ac4c4c83dc87511dbc23b4/kaldifeat/csrc/online-feature.h;/tmp/pip-install-yiwhivg1/kaldifeat_8ec64f9e74ac4c4c83dc87511dbc23b4/kaldifeat/csrc/pitch-functions.h\n",
            "  -- Configuring done\n",
            "  -- Generating done\n",
            "  -- Build files have been written to: /tmp/pip-install-yiwhivg1/kaldifeat_8ec64f9e74ac4c4c83dc87511dbc23b4/build/temp.linux-x86_64-3.10\n",
            "  [  5%] Building CXX object kaldifeat/csrc/CMakeFiles/kaldifeat_core.dir/feature-fbank.cc.o\n",
            "  [ 15%] Building CXX object kaldifeat/csrc/CMakeFiles/kaldifeat_core.dir/feature-functions.cc.o\n",
            "  [ 15%] Building CXX object kaldifeat/csrc/CMakeFiles/kaldifeat_core.dir/feature-mfcc.cc.o\n",
            "  [ 25%] Building CXX object kaldifeat/csrc/CMakeFiles/kaldifeat_core.dir/feature-spectrogram.cc.o\n",
            "  [ 25%] Building CXX object kaldifeat/csrc/CMakeFiles/kaldifeat_core.dir/feature-plp.cc.o\n",
            "  [ 30%] Building CXX object kaldifeat/csrc/CMakeFiles/kaldifeat_core.dir/feature-window.cc.o\n",
            "  [ 35%] Building CXX object kaldifeat/csrc/CMakeFiles/kaldifeat_core.dir/matrix-functions.cc.o\n",
            "  [ 40%] Building CXX object kaldifeat/csrc/CMakeFiles/kaldifeat_core.dir/mel-computations.cc.o\n",
            "  [ 45%] Building CXX object kaldifeat/csrc/CMakeFiles/kaldifeat_core.dir/online-feature.cc.o\n",
            "  [ 50%] Linking CXX shared library ../../lib/libkaldifeat_core.so\n",
            "  [ 50%] Built target kaldifeat_core\n",
            "  [ 55%] Building CXX object kaldifeat/python/csrc/CMakeFiles/_kaldifeat.dir/feature-fbank.cc.o\n",
            "  [ 60%] Building CXX object kaldifeat/python/csrc/CMakeFiles/_kaldifeat.dir/feature-mfcc.cc.o\n",
            "  [ 65%] Building CXX object kaldifeat/python/csrc/CMakeFiles/_kaldifeat.dir/feature-plp.cc.o\n",
            "  [ 70%] Building CXX object kaldifeat/python/csrc/CMakeFiles/_kaldifeat.dir/feature-spectrogram.cc.o\n",
            "  [ 75%] Building CXX object kaldifeat/python/csrc/CMakeFiles/_kaldifeat.dir/feature-window.cc.o\n",
            "  [ 80%] Building CXX object kaldifeat/python/csrc/CMakeFiles/_kaldifeat.dir/kaldifeat.cc.o\n",
            "  [ 85%] Building CXX object kaldifeat/python/csrc/CMakeFiles/_kaldifeat.dir/online-feature.cc.o\n",
            "  [ 90%] Building CXX object kaldifeat/python/csrc/CMakeFiles/_kaldifeat.dir/mel-computations.cc.o\n",
            "  [ 95%] Building CXX object kaldifeat/python/csrc/CMakeFiles/_kaldifeat.dir/utils.cc.o\n",
            "  [100%] Linking CXX shared module ../../../lib/_kaldifeat.cpython-310-x86_64-linux-gnu.so\n",
            "  [100%] Built target _kaldifeat\n",
            "  [ 45%] Built target kaldifeat_core\n",
            "  [ 50%] Building CXX object kaldifeat/csrc/CMakeFiles/test_kaldifeat.dir/test_kaldifeat.cc.o\n",
            "  [ 95%] Built target _kaldifeat\n",
            "  [100%] Linking CXX executable ../../bin/test_kaldifeat\n",
            "  [100%] Built target test_kaldifeat\n",
            "  Install the project...\n",
            "  -- Install configuration: \"Release\"\n",
            "  -- Installing: /tmp/pip-install-yiwhivg1/kaldifeat_8ec64f9e74ac4c4c83dc87511dbc23b4/build/lib.linux-x86_64-3.10/kaldifeat/share/cmake/kaldifeat/kaldifeatConfigVersion.cmake\n",
            "  -- Installing: /tmp/pip-install-yiwhivg1/kaldifeat_8ec64f9e74ac4c4c83dc87511dbc23b4/build/lib.linux-x86_64-3.10/kaldifeat/share/cmake/kaldifeat/kaldifeatConfig.cmake\n",
            "  -- Installing: /tmp/pip-install-yiwhivg1/kaldifeat_8ec64f9e74ac4c4c83dc87511dbc23b4/build/lib.linux-x86_64-3.10/kaldifeat/./torch_version.py\n",
            "  -- Installing: /tmp/pip-install-yiwhivg1/kaldifeat_8ec64f9e74ac4c4c83dc87511dbc23b4/build/lib.linux-x86_64-3.10/kaldifeat/lib/libkaldifeat_core.so\n",
            "  -- Set runtime path of \"/tmp/pip-install-yiwhivg1/kaldifeat_8ec64f9e74ac4c4c83dc87511dbc23b4/build/lib.linux-x86_64-3.10/kaldifeat/lib/libkaldifeat_core.so\" to \"$ORIGIN:/usr/local/lib/python3.10/dist-packages/torch/lib:/usr/local/cuda/lib64\"\n",
            "  -- Installing: /tmp/pip-install-yiwhivg1/kaldifeat_8ec64f9e74ac4c4c83dc87511dbc23b4/build/lib.linux-x86_64-3.10/kaldifeat/include/kaldifeat/csrc/feature-common-inl.h\n",
            "  -- Installing: /tmp/pip-install-yiwhivg1/kaldifeat_8ec64f9e74ac4c4c83dc87511dbc23b4/build/lib.linux-x86_64-3.10/kaldifeat/include/kaldifeat/csrc/feature-common.h\n",
            "  -- Installing: /tmp/pip-install-yiwhivg1/kaldifeat_8ec64f9e74ac4c4c83dc87511dbc23b4/build/lib.linux-x86_64-3.10/kaldifeat/include/kaldifeat/csrc/feature-fbank.h\n",
            "  -- Installing: /tmp/pip-install-yiwhivg1/kaldifeat_8ec64f9e74ac4c4c83dc87511dbc23b4/build/lib.linux-x86_64-3.10/kaldifeat/include/kaldifeat/csrc/feature-functions.h\n",
            "  -- Installing: /tmp/pip-install-yiwhivg1/kaldifeat_8ec64f9e74ac4c4c83dc87511dbc23b4/build/lib.linux-x86_64-3.10/kaldifeat/include/kaldifeat/csrc/feature-mfcc.h\n",
            "  -- Installing: /tmp/pip-install-yiwhivg1/kaldifeat_8ec64f9e74ac4c4c83dc87511dbc23b4/build/lib.linux-x86_64-3.10/kaldifeat/include/kaldifeat/csrc/feature-plp.h\n",
            "  -- Installing: /tmp/pip-install-yiwhivg1/kaldifeat_8ec64f9e74ac4c4c83dc87511dbc23b4/build/lib.linux-x86_64-3.10/kaldifeat/include/kaldifeat/csrc/feature-spectrogram.h\n",
            "  -- Installing: /tmp/pip-install-yiwhivg1/kaldifeat_8ec64f9e74ac4c4c83dc87511dbc23b4/build/lib.linux-x86_64-3.10/kaldifeat/include/kaldifeat/csrc/feature-window.h\n",
            "  -- Installing: /tmp/pip-install-yiwhivg1/kaldifeat_8ec64f9e74ac4c4c83dc87511dbc23b4/build/lib.linux-x86_64-3.10/kaldifeat/include/kaldifeat/csrc/log.h\n",
            "  -- Installing: /tmp/pip-install-yiwhivg1/kaldifeat_8ec64f9e74ac4c4c83dc87511dbc23b4/build/lib.linux-x86_64-3.10/kaldifeat/include/kaldifeat/csrc/matrix-functions.h\n",
            "  -- Installing: /tmp/pip-install-yiwhivg1/kaldifeat_8ec64f9e74ac4c4c83dc87511dbc23b4/build/lib.linux-x86_64-3.10/kaldifeat/include/kaldifeat/csrc/mel-computations.h\n",
            "  -- Installing: /tmp/pip-install-yiwhivg1/kaldifeat_8ec64f9e74ac4c4c83dc87511dbc23b4/build/lib.linux-x86_64-3.10/kaldifeat/include/kaldifeat/csrc/online-feature-itf.h\n",
            "  -- Installing: /tmp/pip-install-yiwhivg1/kaldifeat_8ec64f9e74ac4c4c83dc87511dbc23b4/build/lib.linux-x86_64-3.10/kaldifeat/include/kaldifeat/csrc/online-feature.h\n",
            "  -- Installing: /tmp/pip-install-yiwhivg1/kaldifeat_8ec64f9e74ac4c4c83dc87511dbc23b4/build/lib.linux-x86_64-3.10/kaldifeat/include/kaldifeat/csrc/pitch-functions.h\n",
            "  -- Installing: /tmp/pip-install-yiwhivg1/kaldifeat_8ec64f9e74ac4c4c83dc87511dbc23b4/build/lib.linux-x86_64-3.10/kaldifeat/../_kaldifeat.cpython-310-x86_64-linux-gnu.so\n",
            "  -- Set runtime path of \"/tmp/pip-install-yiwhivg1/kaldifeat_8ec64f9e74ac4c4c83dc87511dbc23b4/build/lib.linux-x86_64-3.10/kaldifeat/../_kaldifeat.cpython-310-x86_64-linux-gnu.so\" to \"$ORIGIN:/usr/local/lib/python3.10/dist-packages/torch/lib:/usr/local/cuda/lib64\"\n",
            "  /usr/lib/python3.10/distutils/cmd.py:62: SetuptoolsDeprecationWarning: setup.py install is deprecated.\n",
            "  !!\n",
            "\n",
            "          ********************************************************************************\n",
            "          Please avoid running ``setup.py`` directly.\n",
            "          Instead, use pypa/build, pypa/installer, pypa/build or\n",
            "          other standards-based tools.\n",
            "\n",
            "          See https://blog.ganssle.io/articles/2021/10/setup-py-deprecated.html for details.\n",
            "          ********************************************************************************\n",
            "\n",
            "  !!\n",
            "    self.initialize_options()\n",
            "  installing to build/bdist.linux-x86_64/wheel\n",
            "  running install\n",
            "  running install_lib\n",
            "  creating build/bdist.linux-x86_64\n",
            "  creating build/bdist.linux-x86_64/wheel\n",
            "  creating build/bdist.linux-x86_64/wheel/kaldifeat\n",
            "  copying build/lib.linux-x86_64-3.10/kaldifeat/spectrogram.py -> build/bdist.linux-x86_64/wheel/kaldifeat\n",
            "  creating build/bdist.linux-x86_64/wheel/kaldifeat/lib\n",
            "  copying build/lib.linux-x86_64-3.10/kaldifeat/lib/libkaldifeat_core.so -> build/bdist.linux-x86_64/wheel/kaldifeat/lib\n",
            "  copying build/lib.linux-x86_64-3.10/kaldifeat/__init__.py -> build/bdist.linux-x86_64/wheel/kaldifeat\n",
            "  creating build/bdist.linux-x86_64/wheel/kaldifeat/share\n",
            "  creating build/bdist.linux-x86_64/wheel/kaldifeat/share/cmake\n",
            "  creating build/bdist.linux-x86_64/wheel/kaldifeat/share/cmake/kaldifeat\n",
            "  copying build/lib.linux-x86_64-3.10/kaldifeat/share/cmake/kaldifeat/kaldifeatConfig.cmake -> build/bdist.linux-x86_64/wheel/kaldifeat/share/cmake/kaldifeat\n",
            "  copying build/lib.linux-x86_64-3.10/kaldifeat/share/cmake/kaldifeat/kaldifeatConfigVersion.cmake -> build/bdist.linux-x86_64/wheel/kaldifeat/share/cmake/kaldifeat\n",
            "  copying build/lib.linux-x86_64-3.10/kaldifeat/online_feature.py -> build/bdist.linux-x86_64/wheel/kaldifeat\n",
            "  copying build/lib.linux-x86_64-3.10/kaldifeat/fbank.py -> build/bdist.linux-x86_64/wheel/kaldifeat\n",
            "  copying build/lib.linux-x86_64-3.10/kaldifeat/torch_version.py -> build/bdist.linux-x86_64/wheel/kaldifeat\n",
            "  copying build/lib.linux-x86_64-3.10/kaldifeat/offline_feature.py -> build/bdist.linux-x86_64/wheel/kaldifeat\n",
            "  copying build/lib.linux-x86_64-3.10/kaldifeat/mfcc.py -> build/bdist.linux-x86_64/wheel/kaldifeat\n",
            "  copying build/lib.linux-x86_64-3.10/kaldifeat/plp.py -> build/bdist.linux-x86_64/wheel/kaldifeat\n",
            "  creating build/bdist.linux-x86_64/wheel/kaldifeat/include\n",
            "  creating build/bdist.linux-x86_64/wheel/kaldifeat/include/kaldifeat\n",
            "  creating build/bdist.linux-x86_64/wheel/kaldifeat/include/kaldifeat/csrc\n",
            "  copying build/lib.linux-x86_64-3.10/kaldifeat/include/kaldifeat/csrc/feature-plp.h -> build/bdist.linux-x86_64/wheel/kaldifeat/include/kaldifeat/csrc\n",
            "  copying build/lib.linux-x86_64-3.10/kaldifeat/include/kaldifeat/csrc/matrix-functions.h -> build/bdist.linux-x86_64/wheel/kaldifeat/include/kaldifeat/csrc\n",
            "  copying build/lib.linux-x86_64-3.10/kaldifeat/include/kaldifeat/csrc/feature-spectrogram.h -> build/bdist.linux-x86_64/wheel/kaldifeat/include/kaldifeat/csrc\n",
            "  copying build/lib.linux-x86_64-3.10/kaldifeat/include/kaldifeat/csrc/feature-common.h -> build/bdist.linux-x86_64/wheel/kaldifeat/include/kaldifeat/csrc\n",
            "  copying build/lib.linux-x86_64-3.10/kaldifeat/include/kaldifeat/csrc/log.h -> build/bdist.linux-x86_64/wheel/kaldifeat/include/kaldifeat/csrc\n",
            "  copying build/lib.linux-x86_64-3.10/kaldifeat/include/kaldifeat/csrc/feature-window.h -> build/bdist.linux-x86_64/wheel/kaldifeat/include/kaldifeat/csrc\n",
            "  copying build/lib.linux-x86_64-3.10/kaldifeat/include/kaldifeat/csrc/feature-functions.h -> build/bdist.linux-x86_64/wheel/kaldifeat/include/kaldifeat/csrc\n",
            "  copying build/lib.linux-x86_64-3.10/kaldifeat/include/kaldifeat/csrc/online-feature.h -> build/bdist.linux-x86_64/wheel/kaldifeat/include/kaldifeat/csrc\n",
            "  copying build/lib.linux-x86_64-3.10/kaldifeat/include/kaldifeat/csrc/feature-mfcc.h -> build/bdist.linux-x86_64/wheel/kaldifeat/include/kaldifeat/csrc\n",
            "  copying build/lib.linux-x86_64-3.10/kaldifeat/include/kaldifeat/csrc/online-feature-itf.h -> build/bdist.linux-x86_64/wheel/kaldifeat/include/kaldifeat/csrc\n",
            "  copying build/lib.linux-x86_64-3.10/kaldifeat/include/kaldifeat/csrc/feature-common-inl.h -> build/bdist.linux-x86_64/wheel/kaldifeat/include/kaldifeat/csrc\n",
            "  copying build/lib.linux-x86_64-3.10/kaldifeat/include/kaldifeat/csrc/feature-fbank.h -> build/bdist.linux-x86_64/wheel/kaldifeat/include/kaldifeat/csrc\n",
            "  copying build/lib.linux-x86_64-3.10/kaldifeat/include/kaldifeat/csrc/pitch-functions.h -> build/bdist.linux-x86_64/wheel/kaldifeat/include/kaldifeat/csrc\n",
            "  copying build/lib.linux-x86_64-3.10/kaldifeat/include/kaldifeat/csrc/mel-computations.h -> build/bdist.linux-x86_64/wheel/kaldifeat/include/kaldifeat/csrc\n",
            "  copying build/lib.linux-x86_64-3.10/_kaldifeat.cpython-310-x86_64-linux-gnu.so -> build/bdist.linux-x86_64/wheel\n",
            "  running install_egg_info\n",
            "  running egg_info\n",
            "  writing kaldifeat.egg-info/PKG-INFO\n",
            "  writing dependency_links to kaldifeat.egg-info/dependency_links.txt\n",
            "  writing top-level names to kaldifeat.egg-info/top_level.txt\n",
            "  reading manifest file 'kaldifeat.egg-info/SOURCES.txt'\n",
            "  reading manifest template 'MANIFEST.in'\n",
            "  warning: no previously-included files found matching 'pyproject.toml'\n",
            "  adding license file 'LICENSE'\n",
            "  writing manifest file 'kaldifeat.egg-info/SOURCES.txt'\n",
            "  Copying kaldifeat.egg-info to build/bdist.linux-x86_64/wheel/kaldifeat-1.21-py3.10.egg-info\n",
            "  running install_scripts\n",
            "  creating build/bdist.linux-x86_64/wheel/kaldifeat-1.21.dist-info/WHEEL\n",
            "  creating '/tmp/pip-wheel-bgra69_f/kaldifeat-1.21-cp310-cp310-linux_x86_64.whl' and adding 'build/bdist.linux-x86_64/wheel' to it\n",
            "  adding '_kaldifeat.cpython-310-x86_64-linux-gnu.so'\n",
            "  adding 'kaldifeat/__init__.py'\n",
            "  adding 'kaldifeat/fbank.py'\n",
            "  adding 'kaldifeat/mfcc.py'\n",
            "  adding 'kaldifeat/offline_feature.py'\n",
            "  adding 'kaldifeat/online_feature.py'\n",
            "  adding 'kaldifeat/plp.py'\n",
            "  adding 'kaldifeat/spectrogram.py'\n",
            "  adding 'kaldifeat/torch_version.py'\n",
            "  adding 'kaldifeat/include/kaldifeat/csrc/feature-common-inl.h'\n",
            "  adding 'kaldifeat/include/kaldifeat/csrc/feature-common.h'\n",
            "  adding 'kaldifeat/include/kaldifeat/csrc/feature-fbank.h'\n",
            "  adding 'kaldifeat/include/kaldifeat/csrc/feature-functions.h'\n",
            "  adding 'kaldifeat/include/kaldifeat/csrc/feature-mfcc.h'\n",
            "  adding 'kaldifeat/include/kaldifeat/csrc/feature-plp.h'\n",
            "  adding 'kaldifeat/include/kaldifeat/csrc/feature-spectrogram.h'\n",
            "  adding 'kaldifeat/include/kaldifeat/csrc/feature-window.h'\n",
            "  adding 'kaldifeat/include/kaldifeat/csrc/log.h'\n",
            "  adding 'kaldifeat/include/kaldifeat/csrc/matrix-functions.h'\n",
            "  adding 'kaldifeat/include/kaldifeat/csrc/mel-computations.h'\n",
            "  adding 'kaldifeat/include/kaldifeat/csrc/online-feature-itf.h'\n",
            "  adding 'kaldifeat/include/kaldifeat/csrc/online-feature.h'\n",
            "  adding 'kaldifeat/include/kaldifeat/csrc/pitch-functions.h'\n",
            "  adding 'kaldifeat/lib/libkaldifeat_core.so'\n",
            "  adding 'kaldifeat/share/cmake/kaldifeat/kaldifeatConfig.cmake'\n",
            "  adding 'kaldifeat/share/cmake/kaldifeat/kaldifeatConfigVersion.cmake'\n",
            "  adding 'kaldifeat-1.21.dist-info/LICENSE'\n",
            "  adding 'kaldifeat-1.21.dist-info/METADATA'\n",
            "  adding 'kaldifeat-1.21.dist-info/WHEEL'\n",
            "  adding 'kaldifeat-1.21.dist-info/top_level.txt'\n",
            "  adding 'kaldifeat-1.21.dist-info/RECORD'\n",
            "  removing build/bdist.linux-x86_64/wheel\n",
            "  Building wheel for kaldifeat (setup.py) ... \u001b[?25l\u001b[?25hdone\n",
            "  Created wheel for kaldifeat: filename=kaldifeat-1.21-cp310-cp310-linux_x86_64.whl size=263216 sha256=65c1ab47e491eb1cb683c5fb8e53b8ec68ba7051c9ead102cdceaec141315416\n",
            "  Stored in directory: /root/.cache/pip/wheels/e3/31/9b/a97ec285f4e5bfb43d7f85cff15db32ed680d3619e15675643\n",
            "Successfully built kaldifeat\n",
            "Installing collected packages: kaldifeat\n",
            "Successfully installed kaldifeat-1.21\n"
          ]
        }
      ]
    },
    {
      "cell_type": "markdown",
      "source": [
        "To check that kaldifeat was installed successfully, run"
      ],
      "metadata": {
        "id": "ZNFs-7WeQIr3"
      }
    },
    {
      "cell_type": "code",
      "source": [
        "! python3 -c \"import kaldifeat; print(kaldifeat.__version__)\""
      ],
      "metadata": {
        "colab": {
          "base_uri": "https://localhost:8080/"
        },
        "id": "iMo6WHQJQGS3",
        "outputId": "b94714aa-1183-4504-e618-5ad2edb248e8"
      },
      "execution_count": 7,
      "outputs": [
        {
          "output_type": "stream",
          "name": "stdout",
          "text": [
            "1.21\n"
          ]
        }
      ]
    },
    {
      "cell_type": "markdown",
      "source": [
        "### Install icefall\n",
        "\n",
        "icefall is a collection of Python scripts. All you need is just to\n",
        "download its source code and set the `PYTHONPATH` environment variable."
      ],
      "metadata": {
        "id": "Nj1qvE2gQPAx"
      }
    },
    {
      "cell_type": "code",
      "source": [
        "! git clone https://github.com/k2-fsa/icefall"
      ],
      "metadata": {
        "colab": {
          "base_uri": "https://localhost:8080/"
        },
        "id": "0-1EowsbQLAs",
        "outputId": "e415eddc-2cd7-46df-d150-aaef8b718ba2"
      },
      "execution_count": 8,
      "outputs": [
        {
          "output_type": "stream",
          "name": "stdout",
          "text": [
            "Cloning into 'icefall'...\n",
            "remote: Enumerating objects: 11840, done.\u001b[K\n",
            "remote: Counting objects: 100% (182/182), done.\u001b[K\n",
            "remote: Compressing objects: 100% (119/119), done.\u001b[K\n",
            "remote: Total 11840 (delta 90), reused 99 (delta 47), pack-reused 11658\u001b[K\n",
            "Receiving objects: 100% (11840/11840), 13.73 MiB | 14.26 MiB/s, done.\n",
            "Resolving deltas: 100% (8057/8057), done.\n"
          ]
        }
      ]
    },
    {
      "cell_type": "code",
      "source": [
        "! pip install -q kaldialign sentencepiece>=0.1.96 lhotse"
      ],
      "metadata": {
        "id": "eFUULI_pQee5"
      },
      "execution_count": 9,
      "outputs": []
    },
    {
      "cell_type": "markdown",
      "source": [
        "## Download pre-trained RNN-T Conformer model\n",
        "\n",
        "To make the following steps easier, we decide to download the model\n",
        "to `icefall/egs/tedlium3/ASR/tmp`"
      ],
      "metadata": {
        "id": "4t8GkI5MQjL9"
      }
    },
    {
      "cell_type": "code",
      "source": [
        "! apt-get install -y -qq tree sox git-lfs"
      ],
      "metadata": {
        "id": "28sjWwOlQnVI"
      },
      "execution_count": null,
      "outputs": []
    },
    {
      "cell_type": "markdown",
      "source": [
        "**CAUTION**: You have to run `sudo apt-get install git-lfs`\n",
        "and `git lfs install` in order to download the pre-trained model."
      ],
      "metadata": {
        "id": "HyC5nsRfQv09"
      }
    },
    {
      "cell_type": "code",
      "source": [
        "! cd icefall/egs/tedlium3/ASR && rm -rf tmp"
      ],
      "metadata": {
        "id": "04moo3mBQwVl"
      },
      "execution_count": null,
      "outputs": []
    },
    {
      "cell_type": "code",
      "source": [
        "! cd icefall/egs/tedlium3/ASR && \\\n",
        "  mkdir tmp && \\\n",
        "  cd tmp && \\\n",
        "  git lfs install && \\\n",
        "  git clone -v https://huggingface.co/luomingshuang/icefall_asr_tedlium3_transducer_stateless && \\\n",
        "  cd icefall_asr_tedlium3_transducer_stateless && \\\n",
        "  cd ../.. && \\\n",
        "  tree tmp"
      ],
      "metadata": {
        "colab": {
          "base_uri": "https://localhost:8080/"
        },
        "id": "Tw9PdusqQ1Rv",
        "outputId": "11938ebd-dbf1-45b1-b616-462d2ea237f7"
      },
      "execution_count": null,
      "outputs": [
        {
          "output_type": "stream",
          "name": "stdout",
          "text": [
            "Updated git hooks.\n",
            "Git LFS initialized.\n",
            "Cloning into 'icefall_asr_tedlium3_transducer_stateless'...\n",
            "POST git-upload-pack (165 bytes)\n",
            "remote: Enumerating objects: 78, done.\u001b[K\n",
            "remote: Counting objects: 100% (4/4), done.\u001b[K\n",
            "remote: Compressing objects: 100% (4/4), done.\u001b[K\n",
            "remote: Total 78 (delta 0), reused 4 (delta 0), pack-reused 74\u001b[K\n",
            "Unpacking objects: 100% (78/78), 2.78 MiB | 2.50 MiB/s, done.\n",
            "Filtering content: 100% (4/4), 2.21 GiB | 31.63 MiB/s, done.\n",
            "\u001b[01;34mtmp\u001b[00m\n",
            "└── \u001b[01;34micefall_asr_tedlium3_transducer_stateless\u001b[00m\n",
            "    ├── \u001b[01;34mdata\u001b[00m\n",
            "    │   └── \u001b[01;34mlang_bpe_500\u001b[00m\n",
            "    │       └── \u001b[01;32mbpe.model\u001b[00m\n",
            "    ├── \u001b[01;34mexp\u001b[00m\n",
            "    │   ├── cpu_jit_epoch_19_avg_11_torch.1.7.1.pt\n",
            "    │   ├── pretrained_average_14_to_29.pt\n",
            "    │   └── pretrained_average_19_to_29.pt\n",
            "    ├── \u001b[01;34mlog\u001b[00m\n",
            "    │   ├── \u001b[01;34mbeam_search\u001b[00m\n",
            "    │   │   ├── errs-dev-beam_4-epoch-29-avg-11-beam-4.txt\n",
            "    │   │   ├── \u001b[01;32merrs-dev-beam_4-epoch-29-avg-16-beam-4.txt\u001b[00m\n",
            "    │   │   ├── errs-test-beam_4-epoch-29-avg-11-beam-4.txt\n",
            "    │   │   ├── \u001b[01;32merrs-test-beam_4-epoch-29-avg-16-beam-4.txt\u001b[00m\n",
            "    │   │   ├── log-decode-epoch-29-avg-11-beam-4-2022-03-21-15-43-55\n",
            "    │   │   ├── \u001b[01;32mlog-decode-epoch-29-avg-16-beam-4-2022-03-02-10-52-09\u001b[00m\n",
            "    │   │   ├── recogs-dev-beam_4-epoch-29-avg-11-beam-4.txt\n",
            "    │   │   ├── \u001b[01;32mrecogs-dev-beam_4-epoch-29-avg-16-beam-4.txt\u001b[00m\n",
            "    │   │   ├── recogs-test-beam_4-epoch-29-avg-11-beam-4.txt\n",
            "    │   │   ├── \u001b[01;32mrecogs-test-beam_4-epoch-29-avg-16-beam-4.txt\u001b[00m\n",
            "    │   │   ├── wer-summary-dev-beam_4-epoch-29-avg-11-beam-4.txt\n",
            "    │   │   └── wer-summary-test-beam_4-epoch-29-avg-11-beam-4.txt\n",
            "    │   ├── \u001b[01;34mgreedy_search\u001b[00m\n",
            "    │   │   ├── errs-dev-greedy_search-epoch-29-avg-11-context-2-max-sym-per-frame-3.txt\n",
            "    │   │   ├── \u001b[01;32merrs-dev-greedy_search-epoch-29-avg-16-context-2-max-sym-per-frame-3.txt\u001b[00m\n",
            "    │   │   ├── errs-test-greedy_search-epoch-29-avg-11-context-2-max-sym-per-frame-3.txt\n",
            "    │   │   ├── \u001b[01;32merrs-test-greedy_search-epoch-29-avg-16-context-2-max-sym-per-frame-3.txt\u001b[00m\n",
            "    │   │   ├── log-decode-epoch-29-avg-11-context-2-max-sym-per-frame-3-2022-03-21-14-41-55\n",
            "    │   │   ├── \u001b[01;32mlog-decode-epoch-29-avg-16-context-2-max-sym-per-frame-3-2022-03-02-10-34-49\u001b[00m\n",
            "    │   │   ├── recogs-dev-greedy_search-epoch-29-avg-11-context-2-max-sym-per-frame-3.txt\n",
            "    │   │   ├── \u001b[01;32mrecogs-dev-greedy_search-epoch-29-avg-16-context-2-max-sym-per-frame-3.txt\u001b[00m\n",
            "    │   │   ├── recogs-test-greedy_search-epoch-29-avg-11-context-2-max-sym-per-frame-3.txt\n",
            "    │   │   ├── \u001b[01;32mrecogs-test-greedy_search-epoch-29-avg-16-context-2-max-sym-per-frame-3.txt\u001b[00m\n",
            "    │   │   ├── wer-summary-dev-greedy_search-epoch-29-avg-11-context-2-max-sym-per-frame-3.txt\n",
            "    │   │   └── wer-summary-test-greedy_search-epoch-29-avg-11-context-2-max-sym-per-frame-3.txt\n",
            "    │   └── \u001b[01;34mmodified_beam_search\u001b[00m\n",
            "    │       ├── errs-dev-beam_4-epoch-29-avg-11-beam-4.txt\n",
            "    │       ├── \u001b[01;32merrs-dev-beam_4-epoch-29-avg-16-beam-4.txt\u001b[00m\n",
            "    │       ├── errs-test-beam_4-epoch-29-avg-11-beam-4.txt\n",
            "    │       ├── \u001b[01;32merrs-test-beam_4-epoch-29-avg-16-beam-4.txt\u001b[00m\n",
            "    │       ├── log-decode-epoch-29-avg-11-beam-4-2022-03-21-15-36-23\n",
            "    │       ├── log-decode-epoch-29-avg-11-beam-4-2022-03-21-15-36-41\n",
            "    │       ├── \u001b[01;32mlog-decode-epoch-29-avg-16-beam-4-2022-03-02-11-25-20\u001b[00m\n",
            "    │       ├── recogs-dev-beam_4-epoch-29-avg-11-beam-4.txt\n",
            "    │       ├── \u001b[01;32mrecogs-dev-beam_4-epoch-29-avg-16-beam-4.txt\u001b[00m\n",
            "    │       ├── recogs-test-beam_4-epoch-29-avg-11-beam-4.txt\n",
            "    │       ├── \u001b[01;32mrecogs-test-beam_4-epoch-29-avg-16-beam-4.txt\u001b[00m\n",
            "    │       ├── wer-summary-dev-beam_4-epoch-29-avg-11-beam-4.txt\n",
            "    │       └── wer-summary-test-beam_4-epoch-29-avg-11-beam-4.txt\n",
            "    ├── README.md\n",
            "    └── \u001b[01;34mtest_wavs\u001b[00m\n",
            "        ├── RESULTS.md\n",
            "        ├── \u001b[01;35mRichBenjamin_2015W01.wav\u001b[00m\n",
            "        ├── \u001b[01;35mRichBenjamin_2015W02.wav\u001b[00m\n",
            "        └── \u001b[01;35mRichBenjamin_2015W03.wav\u001b[00m\n",
            "\n",
            "9 directories, 46 files\n"
          ]
        }
      ]
    },
    {
      "cell_type": "code",
      "source": [
        "! soxi icefall/egs/tedlium3/ASR/tmp/icefall_asr_tedlium3_transducer_stateless/test_wavs/*.wav"
      ],
      "metadata": {
        "colab": {
          "base_uri": "https://localhost:8080/"
        },
        "id": "Yv9lvcxgRJ8U",
        "outputId": "e6c66f8b-cc58-424b-9999-3b7bbd5104f5"
      },
      "execution_count": null,
      "outputs": [
        {
          "output_type": "stream",
          "name": "stdout",
          "text": [
            "\n",
            "Input File     : 'icefall/egs/tedlium3/ASR/tmp/icefall_asr_tedlium3_transducer_stateless/test_wavs/RichBenjamin_2015W01.wav'\n",
            "Channels       : 1\n",
            "Sample Rate    : 16000\n",
            "Precision      : 16-bit\n",
            "Duration       : 00:00:30.02 = 480256 samples ~ 2251.2 CDDA sectors\n",
            "File Size      : 961k\n",
            "Bit Rate       : 256k\n",
            "Sample Encoding: 16-bit Signed Integer PCM\n",
            "\n",
            "\n",
            "Input File     : 'icefall/egs/tedlium3/ASR/tmp/icefall_asr_tedlium3_transducer_stateless/test_wavs/RichBenjamin_2015W02.wav'\n",
            "Channels       : 1\n",
            "Sample Rate    : 16000\n",
            "Precision      : 16-bit\n",
            "Duration       : 00:00:30.02 = 480256 samples ~ 2251.2 CDDA sectors\n",
            "File Size      : 961k\n",
            "Bit Rate       : 256k\n",
            "Sample Encoding: 16-bit Signed Integer PCM\n",
            "\n",
            "\n",
            "Input File     : 'icefall/egs/tedlium3/ASR/tmp/icefall_asr_tedlium3_transducer_stateless/test_wavs/RichBenjamin_2015W03.wav'\n",
            "Channels       : 1\n",
            "Sample Rate    : 16000\n",
            "Precision      : 16-bit\n",
            "Duration       : 00:00:29.95 = 479232 samples ~ 2246.4 CDDA sectors\n",
            "File Size      : 959k\n",
            "Bit Rate       : 256k\n",
            "Sample Encoding: 16-bit Signed Integer PCM\n",
            "\n",
            "Total Duration of 3 files: 00:01:29.98\n"
          ]
        }
      ]
    },
    {
      "cell_type": "markdown",
      "source": [
        "## Greedy search"
      ],
      "metadata": {
        "id": "JCFbqlP3Rrhh"
      }
    },
    {
      "cell_type": "code",
      "source": [
        "! cd icefall/egs/tedlium3/ASR && \\\n",
        "    PYTHONPATH=/content/icefall python3 ./transducer_stateless/pretrained.py \\\n",
        "      --method greedy_search \\\n",
        "      --max-sym-per-frame 1 \\\n",
        "      --checkpoint ./tmp/icefall_asr_tedlium3_transducer_stateless/exp/pretrained_average_19_to_29.pt \\\n",
        "      --bpe-model ./tmp/icefall_asr_tedlium3_transducer_stateless/data/lang_bpe_500/bpe.model \\\n",
        "      ./tmp/icefall_asr_tedlium3_transducer_stateless/test_wavs/RichBenjamin_2015W01.wav \\\n",
        "      ./tmp/icefall_asr_tedlium3_transducer_stateless/test_wavs/RichBenjamin_2015W02.wav \\\n",
        "      ./tmp/icefall_asr_tedlium3_transducer_stateless/test_wavs/RichBenjamin_2015W03.wav"
      ],
      "metadata": {
        "colab": {
          "base_uri": "https://localhost:8080/"
        },
        "id": "020PHIu9RsMR",
        "outputId": "52ca09b7-cfec-4537-8d29-ee89824162f6"
      },
      "execution_count": null,
      "outputs": [
        {
          "output_type": "stream",
          "name": "stdout",
          "text": [
            "2023-04-17 14:59:34,785 INFO [pretrained.py:249] {'sample_rate': 16000, 'feature_dim': 80, 'encoder_out_dim': 512, 'subsampling_factor': 4, 'attention_dim': 512, 'nhead': 8, 'dim_feedforward': 2048, 'num_encoder_layers': 12, 'vgg_frontend': False, 'env_info': {'k2-version': '1.23.4', 'k2-build-type': 'Release', 'k2-with-cuda': True, 'k2-git-sha1': '62e404dd3f3a811d73e424199b3408e309c06e1a', 'k2-git-date': 'Mon Jan 30 02:26:16 2023', 'lhotse-version': '1.13.0', 'torch-version': '1.13.1+cu117', 'torch-cuda-available': True, 'torch-cuda-version': '11.7', 'python-version': '3.9', 'icefall-git-branch': 'master', 'icefall-git-sha1': '8838fe0-clean', 'icefall-git-date': 'Mon Apr 17 09:47:25 2023', 'icefall-path': '/content/icefall', 'k2-path': '/usr/local/lib/python3.9/dist-packages/k2/__init__.py', 'lhotse-path': '/usr/local/lib/python3.9/dist-packages/lhotse/__init__.py', 'hostname': '3f5f2b213a05', 'IP address': '172.28.0.12'}, 'checkpoint': './tmp/icefall_asr_tedlium3_transducer_stateless/exp/pretrained_average_19_to_29.pt', 'bpe_model': './tmp/icefall_asr_tedlium3_transducer_stateless/data/lang_bpe_500/bpe.model', 'method': 'greedy_search', 'sound_files': ['./tmp/icefall_asr_tedlium3_transducer_stateless/test_wavs/RichBenjamin_2015W01.wav', './tmp/icefall_asr_tedlium3_transducer_stateless/test_wavs/RichBenjamin_2015W02.wav', './tmp/icefall_asr_tedlium3_transducer_stateless/test_wavs/RichBenjamin_2015W03.wav'], 'beam_size': 4, 'context_size': 2, 'max_sym_per_frame': 1, 'blank_id': 0, 'unk_id': 2, 'vocab_size': 500}\n",
            "2023-04-17 14:59:34,785 INFO [pretrained.py:255] device: cuda:0\n",
            "2023-04-17 14:59:34,785 INFO [pretrained.py:257] Creating model\n",
            "2023-04-17 14:59:38,187 INFO [pretrained.py:266] Constructing Fbank computer\n",
            "2023-04-17 14:59:38,188 INFO [pretrained.py:276] Reading sound files: ['./tmp/icefall_asr_tedlium3_transducer_stateless/test_wavs/RichBenjamin_2015W01.wav', './tmp/icefall_asr_tedlium3_transducer_stateless/test_wavs/RichBenjamin_2015W02.wav', './tmp/icefall_asr_tedlium3_transducer_stateless/test_wavs/RichBenjamin_2015W03.wav']\n",
            "2023-04-17 14:59:38,202 INFO [pretrained.py:282] Decoding started\n",
            "2023-04-17 14:59:39,690 INFO [pretrained.py:300] Using greedy_search\n",
            "2023-04-17 14:59:40,137 INFO [pretrained.py:328] \n",
            "./tmp/icefall_asr_tedlium3_transducer_stateless/test_wavs/RichBenjamin_2015W01.wav:\n",
            "choice isn 't it i don 't live there but i did journey on a twenty seven thousand mile trip for two years to the fastest scroing and whiteest counties in america what is a whitopia i define whitopia in three ways first whitopia has posted at least six percent\n",
            "\n",
            "./tmp/icefall_asr_tedlium3_transducer_stateless/test_wavs/RichBenjamin_2015W02.wav:\n",
            "population growth since two thousand secondly the majority of that growth comes from white migrants and third the whitopia has an ineffable charm a pleasant look and feel a genose clas to learn how and why whitopias are ticking i immerse myself for several months apiece in three of them first\n",
            "\n",
            "./tmp/icefall_asr_tedlium3_transducer_stateless/test_wavs/RichBenjamin_2015W03.wav:\n",
            "st george utah second queur d 'lain idaho and third forcife county georgia first stop st george a beautiful town of red rock landscapes in the one thousand eight hundred and fifty 's brigham young dispatched families to st george to grow cotton because of the hot arid climate and so they called it utah 's dixie and the name sticks to this day\n",
            "\n",
            "\n",
            "2023-04-17 14:59:40,137 INFO [pretrained.py:330] Decoding Done\n"
          ]
        }
      ]
    },
    {
      "cell_type": "markdown",
      "source": [
        "## Beam search"
      ],
      "metadata": {
        "id": "G_MA_2MQRJll"
      }
    },
    {
      "cell_type": "code",
      "source": [
        "! cd icefall/egs/tedlium3/ASR && \\\n",
        "    PYTHONPATH=/content/icefall python3 ./transducer_stateless/pretrained.py \\\n",
        "      --method beam_search \\\n",
        "      --beam-size 4 \\\n",
        "      --checkpoint ./tmp/icefall_asr_tedlium3_transducer_stateless/exp/pretrained_average_19_to_29.pt \\\n",
        "      --bpe-model ./tmp/icefall_asr_tedlium3_transducer_stateless/data/lang_bpe_500/bpe.model \\\n",
        "      ./tmp/icefall_asr_tedlium3_transducer_stateless/test_wavs/RichBenjamin_2015W01.wav \\\n",
        "      ./tmp/icefall_asr_tedlium3_transducer_stateless/test_wavs/RichBenjamin_2015W02.wav \\\n",
        "      ./tmp/icefall_asr_tedlium3_transducer_stateless/test_wavs/RichBenjamin_2015W03.wav"
      ],
      "metadata": {
        "colab": {
          "base_uri": "https://localhost:8080/"
        },
        "id": "dDE2Dx1RTCFB",
        "outputId": "f4dc8dc9-5f25-43be-a7da-fec818d7bbde"
      },
      "execution_count": null,
      "outputs": [
        {
          "output_type": "stream",
          "name": "stdout",
          "text": [
            "2023-04-17 14:59:59,016 INFO [pretrained.py:249] {'sample_rate': 16000, 'feature_dim': 80, 'encoder_out_dim': 512, 'subsampling_factor': 4, 'attention_dim': 512, 'nhead': 8, 'dim_feedforward': 2048, 'num_encoder_layers': 12, 'vgg_frontend': False, 'env_info': {'k2-version': '1.23.4', 'k2-build-type': 'Release', 'k2-with-cuda': True, 'k2-git-sha1': '62e404dd3f3a811d73e424199b3408e309c06e1a', 'k2-git-date': 'Mon Jan 30 02:26:16 2023', 'lhotse-version': '1.13.0', 'torch-version': '1.13.1+cu117', 'torch-cuda-available': True, 'torch-cuda-version': '11.7', 'python-version': '3.9', 'icefall-git-branch': 'master', 'icefall-git-sha1': '8838fe0-clean', 'icefall-git-date': 'Mon Apr 17 09:47:25 2023', 'icefall-path': '/content/icefall', 'k2-path': '/usr/local/lib/python3.9/dist-packages/k2/__init__.py', 'lhotse-path': '/usr/local/lib/python3.9/dist-packages/lhotse/__init__.py', 'hostname': '3f5f2b213a05', 'IP address': '172.28.0.12'}, 'checkpoint': './tmp/icefall_asr_tedlium3_transducer_stateless/exp/pretrained_average_19_to_29.pt', 'bpe_model': './tmp/icefall_asr_tedlium3_transducer_stateless/data/lang_bpe_500/bpe.model', 'method': 'beam_search', 'sound_files': ['./tmp/icefall_asr_tedlium3_transducer_stateless/test_wavs/RichBenjamin_2015W01.wav', './tmp/icefall_asr_tedlium3_transducer_stateless/test_wavs/RichBenjamin_2015W02.wav', './tmp/icefall_asr_tedlium3_transducer_stateless/test_wavs/RichBenjamin_2015W03.wav'], 'beam_size': 4, 'context_size': 2, 'max_sym_per_frame': 3, 'blank_id': 0, 'unk_id': 2, 'vocab_size': 500}\n",
            "2023-04-17 14:59:59,016 INFO [pretrained.py:255] device: cuda:0\n",
            "2023-04-17 14:59:59,016 INFO [pretrained.py:257] Creating model\n",
            "2023-04-17 15:00:02,386 INFO [pretrained.py:266] Constructing Fbank computer\n",
            "2023-04-17 15:00:02,386 INFO [pretrained.py:276] Reading sound files: ['./tmp/icefall_asr_tedlium3_transducer_stateless/test_wavs/RichBenjamin_2015W01.wav', './tmp/icefall_asr_tedlium3_transducer_stateless/test_wavs/RichBenjamin_2015W02.wav', './tmp/icefall_asr_tedlium3_transducer_stateless/test_wavs/RichBenjamin_2015W03.wav']\n",
            "2023-04-17 15:00:02,399 INFO [pretrained.py:282] Decoding started\n",
            "2023-04-17 15:00:03,876 INFO [pretrained.py:300] Using beam_search with beam size 4\n",
            "2023-04-17 15:00:12,391 INFO [pretrained.py:328] \n",
            "./tmp/icefall_asr_tedlium3_transducer_stateless/test_wavs/RichBenjamin_2015W01.wav:\n",
            "choice isn 't it i don 't live there but i did journey on a twenty seven thousand mile trip for two years to the fastest growing and whiteest counties in america what is a whitopia i define whitopia in three ways first whitopia has posted at least six percent\n",
            "\n",
            "./tmp/icefall_asr_tedlium3_transducer_stateless/test_wavs/RichBenjamin_2015W02.wav:\n",
            "population growth since two thousand secondly the majority of that growth comes from white migrants and third the whitopia has an ineffable charm a pleasant look and feel a genociqua to learn how and why whitopias are ticking i immerse myself for several months apiece in three of them first\n",
            "\n",
            "./tmp/icefall_asr_tedlium3_transducer_stateless/test_wavs/RichBenjamin_2015W03.wav:\n",
            "st george utah second coeur dalene idaho and third forcie county georgia first stop st george a beautiful town of red rock landscapes in the 1850s brigham young dispatched families to st george to grow cotton because of the hot arid climate and so they called it utah 's dixie and the name sticks to this day\n",
            "\n",
            "\n",
            "2023-04-17 15:00:12,392 INFO [pretrained.py:330] Decoding Done\n"
          ]
        }
      ]
    },
    {
      "cell_type": "code",
      "source": [
        "! cd icefall/egs/tedlium3/ASR && \\\n",
        "    PYTHONPATH=/content/icefall python3 ./transducer_stateless/pretrained.py \\\n",
        "      --method beam_search \\\n",
        "      --beam-size 4 \\\n",
        "      --checkpoint ./tmp/icefall_asr_tedlium3_transducer_stateless/exp/pretrained_average_19_to_29.pt \\\n",
        "      --bpe-model ./tmp/icefall_asr_tedlium3_transducer_stateless/data/lang_bpe_500/bpe.model \\\n",
        "      /content/84-121123-0002.flac \\\n",
        "      /content/fr1.wav"
      ],
      "metadata": {
        "id": "ZQO6E9VSw2r3",
        "outputId": "402d3c16-ec90-41be-e2a8-dadc131dd245",
        "colab": {
          "base_uri": "https://localhost:8080/"
        }
      },
      "execution_count": null,
      "outputs": [
        {
          "output_type": "stream",
          "name": "stdout",
          "text": [
            "2023-04-17 15:17:53,303 INFO [pretrained.py:249] {'sample_rate': 16000, 'feature_dim': 80, 'encoder_out_dim': 512, 'subsampling_factor': 4, 'attention_dim': 512, 'nhead': 8, 'dim_feedforward': 2048, 'num_encoder_layers': 12, 'vgg_frontend': False, 'env_info': {'k2-version': '1.23.4', 'k2-build-type': 'Release', 'k2-with-cuda': True, 'k2-git-sha1': '62e404dd3f3a811d73e424199b3408e309c06e1a', 'k2-git-date': 'Mon Jan 30 02:26:16 2023', 'lhotse-version': '1.13.0', 'torch-version': '1.13.1+cu117', 'torch-cuda-available': True, 'torch-cuda-version': '11.7', 'python-version': '3.9', 'icefall-git-branch': 'master', 'icefall-git-sha1': '8838fe0-clean', 'icefall-git-date': 'Mon Apr 17 09:47:25 2023', 'icefall-path': '/content/icefall', 'k2-path': '/usr/local/lib/python3.9/dist-packages/k2/__init__.py', 'lhotse-path': '/usr/local/lib/python3.9/dist-packages/lhotse/__init__.py', 'hostname': '3f5f2b213a05', 'IP address': '172.28.0.12'}, 'checkpoint': './tmp/icefall_asr_tedlium3_transducer_stateless/exp/pretrained_average_19_to_29.pt', 'bpe_model': './tmp/icefall_asr_tedlium3_transducer_stateless/data/lang_bpe_500/bpe.model', 'method': 'beam_search', 'sound_files': ['/content/84-121123-0002.flac', '/content/fr1.wav'], 'beam_size': 4, 'context_size': 2, 'max_sym_per_frame': 3, 'blank_id': 0, 'unk_id': 2, 'vocab_size': 500}\n",
            "2023-04-17 15:17:53,304 INFO [pretrained.py:255] device: cuda:0\n",
            "2023-04-17 15:17:53,304 INFO [pretrained.py:257] Creating model\n",
            "2023-04-17 15:17:57,156 INFO [pretrained.py:266] Constructing Fbank computer\n",
            "2023-04-17 15:17:57,157 INFO [pretrained.py:276] Reading sound files: ['/content/84-121123-0002.flac', '/content/fr1.wav']\n",
            "Traceback (most recent call last):\n",
            "  File \"/content/icefall/egs/tedlium3/ASR/./transducer_stateless/pretrained.py\", line 337, in <module>\n",
            "    main()\n",
            "  File \"/usr/local/lib/python3.9/dist-packages/torch/autograd/grad_mode.py\", line 27, in decorate_context\n",
            "    return func(*args, **kwargs)\n",
            "  File \"/content/icefall/egs/tedlium3/ASR/./transducer_stateless/pretrained.py\", line 277, in main\n",
            "    waves = read_sound_files(\n",
            "  File \"/content/icefall/egs/tedlium3/ASR/./transducer_stateless/pretrained.py\", line 224, in read_sound_files\n",
            "    assert (\n",
            "AssertionError: expected sample rate: 16000. Given: 8000\n"
          ]
        }
      ]
    },
    {
      "cell_type": "code",
      "source": [
        "! cd icefall/egs/tedlium3/ASR && \\\n",
        "  export CUDA_VISIBLE_DEVICES=\"0,1,2,3\" && \\\n",
        "  python ./transducer_stateless/train.py  && \\\n",
        "  --world-size 4 && \\\n",
        "  --num-epochs 30 \\\n",
        "  --start-epoch 0 \\\n",
        "  --exp-dir transducer_stateless/exp \\\n",
        "  --max-duration 300"
      ],
      "metadata": {
        "colab": {
          "base_uri": "https://localhost:8080/"
        },
        "id": "GqPEnLs-sINB",
        "outputId": "20028da4-6fa6-49fd-cf61-fdd2327825d8"
      },
      "execution_count": null,
      "outputs": [
        {
          "output_type": "stream",
          "name": "stdout",
          "text": [
            "Traceback (most recent call last):\n",
            "  File \"/content/icefall/egs/tedlium3/ASR/./transducer_stateless/train.py\", line 44, in <module>\n",
            "    from asr_datamodule import TedLiumAsrDataModule\n",
            "  File \"/content/icefall/egs/tedlium3/ASR/transducer_stateless/asr_datamodule.py\", line 37, in <module>\n",
            "    from icefall.utils import str2bool\n",
            "ModuleNotFoundError: No module named 'icefall'\n"
          ]
        }
      ]
    },
    {
      "cell_type": "markdown",
      "source": [
        "## Train"
      ],
      "metadata": {
        "id": "EBQtWyM68HxJ"
      }
    },
    {
      "cell_type": "code",
      "source": [
        "! cd icefall && \\\n",
        "  ! pip install -r requirements.txt"
      ],
      "metadata": {
        "id": "AaILMeJW8J4-",
        "outputId": "65a6d1f5-eac7-49c3-e2ec-d23e230cfa5a",
        "colab": {
          "base_uri": "https://localhost:8080/"
        }
      },
      "execution_count": 10,
      "outputs": [
        {
          "output_type": "stream",
          "name": "stdout",
          "text": [
            "Looking in indexes: https://pypi.org/simple, https://us-python.pkg.dev/colab-wheels/public/simple/\n",
            "Collecting kaldifst\n",
            "  Downloading kaldifst-1.6-cp310-cp310-manylinux_2_17_x86_64.manylinux2014_x86_64.whl (9.1 MB)\n",
            "\u001b[2K     \u001b[90m━━━━━━━━━━━━━━━━━━━━━━━━━━━━━━━━━━━━━━━━\u001b[0m \u001b[32m9.1/9.1 MB\u001b[0m \u001b[31m1.9 MB/s\u001b[0m eta \u001b[36m0:00:00\u001b[0m\n",
            "\u001b[?25hCollecting kaldilm\n",
            "  Downloading kaldilm-1.15-cp310-cp310-manylinux_2_17_x86_64.manylinux2014_x86_64.whl (1.0 MB)\n",
            "\u001b[2K     \u001b[90m━━━━━━━━━━━━━━━━━━━━━━━━━━━━━━━━━━━━━━━━\u001b[0m \u001b[32m1.0/1.0 MB\u001b[0m \u001b[31m73.6 MB/s\u001b[0m eta \u001b[36m0:00:00\u001b[0m\n",
            "\u001b[?25hRequirement already satisfied: kaldialign in /usr/local/lib/python3.10/dist-packages (from -r requirements.txt (line 3)) (0.6)\n",
            "Requirement already satisfied: sentencepiece>=0.1.96 in /usr/local/lib/python3.10/dist-packages (from -r requirements.txt (line 4)) (0.1.98)\n",
            "Requirement already satisfied: tensorboard in /usr/local/lib/python3.10/dist-packages (from -r requirements.txt (line 5)) (2.12.2)\n",
            "Collecting typeguard\n",
            "  Downloading typeguard-3.0.2-py3-none-any.whl (30 kB)\n",
            "Collecting dill\n",
            "  Downloading dill-0.3.6-py3-none-any.whl (110 kB)\n",
            "\u001b[2K     \u001b[90m━━━━━━━━━━━━━━━━━━━━━━━━━━━━━━━━━━━━━━\u001b[0m \u001b[32m110.5/110.5 kB\u001b[0m \u001b[31m16.8 MB/s\u001b[0m eta \u001b[36m0:00:00\u001b[0m\n",
            "\u001b[?25hRequirement already satisfied: wheel>=0.26 in /usr/local/lib/python3.10/dist-packages (from tensorboard->-r requirements.txt (line 5)) (0.40.0)\n",
            "Requirement already satisfied: protobuf>=3.19.6 in /usr/local/lib/python3.10/dist-packages (from tensorboard->-r requirements.txt (line 5)) (3.20.3)\n",
            "Requirement already satisfied: requests<3,>=2.21.0 in /usr/local/lib/python3.10/dist-packages (from tensorboard->-r requirements.txt (line 5)) (2.27.1)\n",
            "Requirement already satisfied: tensorboard-data-server<0.8.0,>=0.7.0 in /usr/local/lib/python3.10/dist-packages (from tensorboard->-r requirements.txt (line 5)) (0.7.0)\n",
            "Requirement already satisfied: google-auth<3,>=1.6.3 in /usr/local/lib/python3.10/dist-packages (from tensorboard->-r requirements.txt (line 5)) (2.17.3)\n",
            "Requirement already satisfied: tensorboard-plugin-wit>=1.6.0 in /usr/local/lib/python3.10/dist-packages (from tensorboard->-r requirements.txt (line 5)) (1.8.1)\n",
            "Requirement already satisfied: numpy>=1.12.0 in /usr/local/lib/python3.10/dist-packages (from tensorboard->-r requirements.txt (line 5)) (1.22.4)\n",
            "Requirement already satisfied: grpcio>=1.48.2 in /usr/local/lib/python3.10/dist-packages (from tensorboard->-r requirements.txt (line 5)) (1.54.0)\n",
            "Requirement already satisfied: setuptools>=41.0.0 in /usr/local/lib/python3.10/dist-packages (from tensorboard->-r requirements.txt (line 5)) (67.7.2)\n",
            "Requirement already satisfied: werkzeug>=1.0.1 in /usr/local/lib/python3.10/dist-packages (from tensorboard->-r requirements.txt (line 5)) (2.3.0)\n",
            "Requirement already satisfied: absl-py>=0.4 in /usr/local/lib/python3.10/dist-packages (from tensorboard->-r requirements.txt (line 5)) (1.4.0)\n",
            "Requirement already satisfied: google-auth-oauthlib<1.1,>=0.5 in /usr/local/lib/python3.10/dist-packages (from tensorboard->-r requirements.txt (line 5)) (1.0.0)\n",
            "Requirement already satisfied: markdown>=2.6.8 in /usr/local/lib/python3.10/dist-packages (from tensorboard->-r requirements.txt (line 5)) (3.4.3)\n",
            "Requirement already satisfied: typing-extensions>=4.4.0 in /usr/local/lib/python3.10/dist-packages (from typeguard->-r requirements.txt (line 6)) (4.5.0)\n",
            "Requirement already satisfied: cachetools<6.0,>=2.0.0 in /usr/local/lib/python3.10/dist-packages (from google-auth<3,>=1.6.3->tensorboard->-r requirements.txt (line 5)) (5.3.0)\n",
            "Requirement already satisfied: rsa<5,>=3.1.4 in /usr/local/lib/python3.10/dist-packages (from google-auth<3,>=1.6.3->tensorboard->-r requirements.txt (line 5)) (4.9)\n",
            "Requirement already satisfied: six>=1.9.0 in /usr/local/lib/python3.10/dist-packages (from google-auth<3,>=1.6.3->tensorboard->-r requirements.txt (line 5)) (1.16.0)\n",
            "Requirement already satisfied: pyasn1-modules>=0.2.1 in /usr/local/lib/python3.10/dist-packages (from google-auth<3,>=1.6.3->tensorboard->-r requirements.txt (line 5)) (0.3.0)\n",
            "Requirement already satisfied: requests-oauthlib>=0.7.0 in /usr/local/lib/python3.10/dist-packages (from google-auth-oauthlib<1.1,>=0.5->tensorboard->-r requirements.txt (line 5)) (1.3.1)\n",
            "Requirement already satisfied: urllib3<1.27,>=1.21.1 in /usr/local/lib/python3.10/dist-packages (from requests<3,>=2.21.0->tensorboard->-r requirements.txt (line 5)) (1.26.15)\n",
            "Requirement already satisfied: charset-normalizer~=2.0.0 in /usr/local/lib/python3.10/dist-packages (from requests<3,>=2.21.0->tensorboard->-r requirements.txt (line 5)) (2.0.12)\n",
            "Requirement already satisfied: certifi>=2017.4.17 in /usr/local/lib/python3.10/dist-packages (from requests<3,>=2.21.0->tensorboard->-r requirements.txt (line 5)) (2022.12.7)\n",
            "Requirement already satisfied: idna<4,>=2.5 in /usr/local/lib/python3.10/dist-packages (from requests<3,>=2.21.0->tensorboard->-r requirements.txt (line 5)) (3.4)\n",
            "Requirement already satisfied: MarkupSafe>=2.1.1 in /usr/local/lib/python3.10/dist-packages (from werkzeug>=1.0.1->tensorboard->-r requirements.txt (line 5)) (2.1.2)\n",
            "Requirement already satisfied: pyasn1<0.6.0,>=0.4.6 in /usr/local/lib/python3.10/dist-packages (from pyasn1-modules>=0.2.1->google-auth<3,>=1.6.3->tensorboard->-r requirements.txt (line 5)) (0.5.0)\n",
            "Requirement already satisfied: oauthlib>=3.0.0 in /usr/local/lib/python3.10/dist-packages (from requests-oauthlib>=0.7.0->google-auth-oauthlib<1.1,>=0.5->tensorboard->-r requirements.txt (line 5)) (3.2.2)\n",
            "Installing collected packages: kaldilm, kaldifst, typeguard, dill\n",
            "Successfully installed dill-0.3.6 kaldifst-1.6 kaldilm-1.15 typeguard-3.0.2\n"
          ]
        }
      ]
    },
    {
      "cell_type": "code",
      "source": [
        "\n",
        "import os\n",
        "\n",
        "!pwd\n",
        "! echo $PYTHONPATH\n",
        "\n",
        "\n",
        "os.environ['PYTHONPATH'] += \":/content/icefall\"\n",
        "\n",
        "! echo $PYTHONPATH"
      ],
      "metadata": {
        "id": "whbs55Ca8RQq",
        "outputId": "9be663d5-01ce-4531-cacc-9cb3063f2a18",
        "colab": {
          "base_uri": "https://localhost:8080/"
        }
      },
      "execution_count": 11,
      "outputs": [
        {
          "output_type": "stream",
          "name": "stdout",
          "text": [
            "/content\n",
            "/env/python\n",
            "/env/python:/content/icefall\n"
          ]
        }
      ]
    },
    {
      "cell_type": "code",
      "source": [
        "pip list  | grep torch"
      ],
      "metadata": {
        "id": "rfTyVvz18_LD",
        "outputId": "5c522241-af16-4542-936c-1579f781c084",
        "colab": {
          "base_uri": "https://localhost:8080/"
        }
      },
      "execution_count": 13,
      "outputs": [
        {
          "output_type": "stream",
          "name": "stdout",
          "text": [
            "torch                         1.13.1\n",
            "torchaudio                    2.0.1+cu118\n",
            "torchdata                     0.6.0\n",
            "torchsummary                  1.5.1\n",
            "torchtext                     0.15.1\n",
            "torchvision                   0.15.1+cu118\n"
          ]
        }
      ]
    },
    {
      "cell_type": "code",
      "source": [
        "pip install torchaudio==0.13.1"
      ],
      "metadata": {
        "id": "Tpzk4IT19MIV",
        "outputId": "710bc950-ef75-49fe-d6bb-bd72263830d7",
        "colab": {
          "base_uri": "https://localhost:8080/"
        }
      },
      "execution_count": 14,
      "outputs": [
        {
          "output_type": "stream",
          "name": "stdout",
          "text": [
            "Looking in indexes: https://pypi.org/simple, https://us-python.pkg.dev/colab-wheels/public/simple/\n",
            "Collecting torchaudio==0.13.1\n",
            "  Downloading torchaudio-0.13.1-cp310-cp310-manylinux1_x86_64.whl (4.2 MB)\n",
            "\u001b[2K     \u001b[90m━━━━━━━━━━━━━━━━━━━━━━━━━━━━━━━━━━━━━━━━\u001b[0m \u001b[32m4.2/4.2 MB\u001b[0m \u001b[31m77.3 MB/s\u001b[0m eta \u001b[36m0:00:00\u001b[0m\n",
            "\u001b[?25hRequirement already satisfied: torch==1.13.1 in /usr/local/lib/python3.10/dist-packages (from torchaudio==0.13.1) (1.13.1)\n",
            "Requirement already satisfied: nvidia-cuda-nvrtc-cu11==11.7.99 in /usr/local/lib/python3.10/dist-packages (from torch==1.13.1->torchaudio==0.13.1) (11.7.99)\n",
            "Requirement already satisfied: typing-extensions in /usr/local/lib/python3.10/dist-packages (from torch==1.13.1->torchaudio==0.13.1) (4.5.0)\n",
            "Requirement already satisfied: nvidia-cuda-runtime-cu11==11.7.99 in /usr/local/lib/python3.10/dist-packages (from torch==1.13.1->torchaudio==0.13.1) (11.7.99)\n",
            "Requirement already satisfied: nvidia-cublas-cu11==11.10.3.66 in /usr/local/lib/python3.10/dist-packages (from torch==1.13.1->torchaudio==0.13.1) (11.10.3.66)\n",
            "Requirement already satisfied: nvidia-cudnn-cu11==8.5.0.96 in /usr/local/lib/python3.10/dist-packages (from torch==1.13.1->torchaudio==0.13.1) (8.5.0.96)\n",
            "Requirement already satisfied: setuptools in /usr/local/lib/python3.10/dist-packages (from nvidia-cublas-cu11==11.10.3.66->torch==1.13.1->torchaudio==0.13.1) (67.7.2)\n",
            "Requirement already satisfied: wheel in /usr/local/lib/python3.10/dist-packages (from nvidia-cublas-cu11==11.10.3.66->torch==1.13.1->torchaudio==0.13.1) (0.40.0)\n",
            "Installing collected packages: torchaudio\n",
            "  Attempting uninstall: torchaudio\n",
            "    Found existing installation: torchaudio 2.0.1+cu118\n",
            "    Uninstalling torchaudio-2.0.1+cu118:\n",
            "      Successfully uninstalled torchaudio-2.0.1+cu118\n",
            "Successfully installed torchaudio-0.13.1\n"
          ]
        }
      ]
    },
    {
      "cell_type": "code",
      "source": [
        "! cd icefall/egs/tedlium3/ASR && \\\n",
        "  ./prepare.sh"
      ],
      "metadata": {
        "id": "J7NaVGJE8ZPg",
        "outputId": "5ebbf92a-bf1b-4a87-b60d-182a31874ac5",
        "colab": {
          "base_uri": "https://localhost:8080/"
        }
      },
      "execution_count": 15,
      "outputs": [
        {
          "output_type": "stream",
          "name": "stdout",
          "text": [
            "2023-04-29 12:20:37 (prepare.sh:50:main) dl_dir: /content/icefall/egs/tedlium3/ASR/download\n",
            "2023-04-29 12:20:37 (prepare.sh:53:main) Stage 0: Download data\n",
            "Downloading TEDLIUM v3: 50.6GB [1:00:53, 14.9MB/s]                \n",
            "--2023-04-29 13:39:57--  http://kaldi-asr.org/models/5/4gram_small.arpa.gz\n",
            "Resolving kaldi-asr.org (kaldi-asr.org)... 46.101.158.64\n",
            "Connecting to kaldi-asr.org (kaldi-asr.org)|46.101.158.64|:80... connected.\n",
            "HTTP request sent, awaiting response... 200 OK\n",
            "Length: 18358716 (18M) [application/x-gzip]\n",
            "Saving to: ‘/content/icefall/egs/tedlium3/ASR/download/lm/4gram_small.arpa.gz’\n",
            "\n",
            "4gram_small.arpa.gz 100%[===================>]  17.51M  6.75MB/s    in 2.6s    \n",
            "\n",
            "2023-04-29 13:40:00 (6.75 MB/s) - ‘/content/icefall/egs/tedlium3/ASR/download/lm/4gram_small.arpa.gz’ saved [18358716/18358716]\n",
            "\n",
            "--2023-04-29 13:40:00--  http://kaldi-asr.org/models/5/4gram_big.arpa.gz\n",
            "Resolving kaldi-asr.org (kaldi-asr.org)... 46.101.158.64\n",
            "Connecting to kaldi-asr.org (kaldi-asr.org)|46.101.158.64|:80... connected.\n",
            "HTTP request sent, awaiting response... 200 OK\n",
            "Length: 99823907 (95M) [application/x-gzip]\n",
            "Saving to: ‘/content/icefall/egs/tedlium3/ASR/download/lm/4gram_big.arpa.gz’\n",
            "\n",
            "4gram_big.arpa.gz   100%[===================>]  95.20M  14.2MB/s    in 8.1s    \n",
            "\n",
            "2023-04-29 13:40:09 (11.7 MB/s) - ‘/content/icefall/egs/tedlium3/ASR/download/lm/4gram_big.arpa.gz’ saved [99823907/99823907]\n",
            "\n",
            "Downloading musan.tar.gz: 10.3GB [12:28, 14.8MB/s]                \n",
            "2023-04-29 13:55:51 (prepare.sh:83:main) Stage 1: Prepare tedlium3 manifests\n",
            "2023-04-29 13:55:52,834 INFO [tedlium.py:114] Processing train split...\n",
            "Scanning audio files (*.sph): 0it [00:00, ?it/s]\n",
            "Traceback (most recent call last):\n",
            "  File \"/usr/local/lib/python3.10/dist-packages/lhotse/audio.py\", line 2389, in read_sph\n",
            "    run(cmd, shell=True, check=True, stdout=PIPE, stderr=PIPE).stdout\n",
            "  File \"/usr/lib/python3.10/subprocess.py\", line 526, in run\n",
            "    raise CalledProcessError(retcode, process.args,\n",
            "subprocess.CalledProcessError: Command 'sph2pipe -f wav -p -t 0.0: /content/icefall/egs/tedlium3/ASR/download/tedlium3/legacy/train/sph/DanAriely_2008P.sph' returned non-zero exit status 127.\n",
            "\n",
            "During handling of the above exception, another exception occurred:\n",
            "\n",
            "Traceback (most recent call last):\n",
            "  File \"/usr/local/bin/lhotse\", line 8, in <module>\n",
            "    sys.exit(cli())\n",
            "  File \"/usr/local/lib/python3.10/dist-packages/click/core.py\", line 1130, in __call__\n",
            "    return self.main(*args, **kwargs)\n",
            "  File \"/usr/local/lib/python3.10/dist-packages/click/core.py\", line 1055, in main\n",
            "    rv = self.invoke(ctx)\n",
            "  File \"/usr/local/lib/python3.10/dist-packages/click/core.py\", line 1657, in invoke\n",
            "    return _process_result(sub_ctx.command.invoke(sub_ctx))\n",
            "  File \"/usr/local/lib/python3.10/dist-packages/click/core.py\", line 1657, in invoke\n",
            "    return _process_result(sub_ctx.command.invoke(sub_ctx))\n",
            "  File \"/usr/local/lib/python3.10/dist-packages/click/core.py\", line 1404, in invoke\n",
            "    return ctx.invoke(self.callback, **ctx.params)\n",
            "  File \"/usr/local/lib/python3.10/dist-packages/click/core.py\", line 760, in invoke\n",
            "    return __callback(*args, **kwargs)\n",
            "  File \"/usr/local/lib/python3.10/dist-packages/lhotse/bin/modes/recipes/tedlium.py\", line 36, in tedlium\n",
            "    prepare_tedlium(\n",
            "  File \"/usr/local/lib/python3.10/dist-packages/lhotse/recipes/tedlium.py\", line 116, in prepare_tedlium\n",
            "    recordings = RecordingSet.from_dir(\n",
            "  File \"/usr/local/lib/python3.10/dist-packages/lhotse/audio.py\", line 1021, in from_dir\n",
            "    return RecordingSet.from_recordings(\n",
            "  File \"/usr/local/lib/python3.10/dist-packages/lhotse/audio.py\", line 977, in from_recordings\n",
            "    return RecordingSet(recordings=index_by_id_and_check(recordings))\n",
            "  File \"/usr/local/lib/python3.10/dist-packages/lhotse/utils.py\", line 633, in index_by_id_and_check\n",
            "    for m in manifests:\n",
            "  File \"/usr/local/lib/python3.10/dist-packages/tqdm/std.py\", line 1178, in __iter__\n",
            "    for obj in iterable:\n",
            "  File \"/usr/local/lib/python3.10/dist-packages/lhotse/audio.py\", line 403, in from_file\n",
            "    audio_info = info(\n",
            "  File \"/usr/local/lib/python3.10/dist-packages/lhotse/audio.py\", line 1776, in info\n",
            "    return sph_info(path)\n",
            "  File \"/usr/local/lib/python3.10/dist-packages/lhotse/audio.py\", line 2357, in sph_info\n",
            "    samples, sampling_rate = read_sph(path)\n",
            "  File \"/usr/local/lib/python3.10/dist-packages/lhotse/audio.py\", line 2393, in read_sph\n",
            "    raise ValueError(\n",
            "ValueError: It seems that 'sph2pipe' binary is not installed; did you run 'lhotse install-sph2pipe'?\n"
          ]
        }
      ]
    }
  ]
}