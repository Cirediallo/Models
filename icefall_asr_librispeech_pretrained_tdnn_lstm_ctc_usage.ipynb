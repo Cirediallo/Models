{
  "cells": [
    {
      "cell_type": "markdown",
      "metadata": {
        "id": "view-in-github",
        "colab_type": "text"
      },
      "source": [
        "<a href=\"https://colab.research.google.com/github/Cirediallo/Models/blob/main/icefall_asr_librispeech_pretrained_tdnn_lstm_ctc_usage.ipynb\" target=\"_parent\"><img src=\"https://colab.research.google.com/assets/colab-badge.svg\" alt=\"Open In Colab\"/></a>"
      ]
    },
    {
      "cell_type": "markdown",
      "metadata": {
        "id": "iNdbxB6QtV4S"
      },
      "source": [
        "## Description\n",
        "This notebook shows how to use a pre-trained tdnn-lstm_ctc model with [icefall](https://github.com/k2-fsa/icefall/)."
      ]
    },
    {
      "cell_type": "markdown",
      "metadata": {
        "id": "puZt_92gtSIt"
      },
      "source": [
        "## Environment setup\n",
        "\n",
        "To use a pre-trained model with icefall, we have to install the following dependencies:\n",
        "\n",
        "- [k2][k2], for FSA operations\n",
        "- [torchaudio][audio], for reading sound files\n",
        "- [kaldifeat][kaldifeat], for extracting features from a single sound\n",
        "  file or multiple sound files\n",
        "\n",
        "**NOTE**: [lhotse][lhotse] is used only in training time, for data preparation.\n",
        "\n",
        "\n",
        "[k2]: https://github.com/k2-fsa/k2\n",
        "[audio]: https://github.com/pytorch/audio\n",
        "[kaldifeat]: https://github.com/csukuangfj/kaldifeat\n",
        "[lhotse]: https://github.com/lhotse-speech/lhotse"
      ]
    },
    {
      "cell_type": "markdown",
      "metadata": {
        "id": "YhyomPem_Uf3"
      },
      "source": [
        "### Install PyTorch and torchaudio"
      ]
    },
    {
      "cell_type": "code",
      "execution_count": null,
      "metadata": {
        "colab": {
          "base_uri": "https://localhost:8080/"
        },
        "id": "xMptTIpQ_Tr5",
        "outputId": "57d0dd0f-9837-41ad-97bb-546e2cce7855"
      },
      "outputs": [
        {
          "output_type": "stream",
          "name": "stdout",
          "text": [
            "nvcc: NVIDIA (R) Cuda compiler driver\n",
            "Copyright (c) 2005-2022 NVIDIA Corporation\n",
            "Built on Wed_Sep_21_10:33:58_PDT_2022\n",
            "Cuda compilation tools, release 11.8, V11.8.89\n",
            "Build cuda_11.8.r11.8/compiler.31833905_0\n"
          ]
        }
      ],
      "source": [
        "! nvcc --version"
      ]
    },
    {
      "cell_type": "markdown",
      "metadata": {
        "id": "NG5aq1Pk_b7l"
      },
      "source": [
        "Colab provides CUDA 11.0, so we choose to install torch==1.7.1+cu110.\n",
        "\n",
        "The reason to select torch 1.7.1 is that we are going to install k2 using `pip install`, which depends on torch 1.7.1.\n",
        "\n",
        "If you want to use a different version of PyTorch, please\n",
        "refer to <https://k2.readthedocs.io/en/latest/installation/index.html> for installing k2 either from source or with `conda install`."
      ]
    },
    {
      "cell_type": "code",
      "execution_count": 2,
      "metadata": {
        "id": "x050l5rNAjpk"
      },
      "outputs": [],
      "source": [
        "#! pip install torch==1.7.1+cu110 torchaudio==0.7.2 -f https://download.pytorch.org/whl/torch_stable.html"
      ]
    },
    {
      "cell_type": "markdown",
      "metadata": {
        "id": "SXEOdqOrx4Vn"
      },
      "source": [
        "### Install k2"
      ]
    },
    {
      "cell_type": "code",
      "source": [
        "#! pip install k2==1.17"
      ],
      "metadata": {
        "id": "Sg1yIs67m7p7"
      },
      "execution_count": null,
      "outputs": []
    },
    {
      "cell_type": "code",
      "execution_count": null,
      "metadata": {
        "id": "DXSfH8AY0H2A"
      },
      "outputs": [],
      "source": [
        "#! pip install k2==1.17.dev20220725+cuda11.0.torch1.7.1 -f https://k2-fsa.org/nightly/index.html"
      ]
    },
    {
      "cell_type": "markdown",
      "metadata": {
        "id": "AaUlNrVL1HLG"
      },
      "source": [
        "Check that k2 was installed successfully:"
      ]
    },
    {
      "cell_type": "code",
      "execution_count": null,
      "metadata": {
        "id": "guNjro761LAa"
      },
      "outputs": [],
      "source": [
        "#! python3 -m k2.version"
      ]
    },
    {
      "cell_type": "markdown",
      "source": [
        "## All previous steps in one"
      ],
      "metadata": {
        "id": "dzThSh2E0FAB"
      }
    },
    {
      "cell_type": "markdown",
      "source": [
        "### Install Cuda and cudnn"
      ],
      "metadata": {
        "id": "hE6bsEsZ4yx8"
      }
    },
    {
      "cell_type": "code",
      "source": [
        "! wget https://developer.download.nvidia.com/compute/cuda/11.7.1/local_installers/cuda_11.7.1_515.65.01_linux.run"
      ],
      "metadata": {
        "id": "XCxv4KK243PH",
        "outputId": "19bc7c8b-6531-4503-92c1-fc20a6ee65ef",
        "colab": {
          "base_uri": "https://localhost:8080/"
        }
      },
      "execution_count": 7,
      "outputs": [
        {
          "output_type": "stream",
          "name": "stdout",
          "text": [
            "--2023-05-01 15:18:38--  https://developer.download.nvidia.com/compute/cuda/11.7.1/local_installers/cuda_11.7.1_515.65.01_linux.run\n",
            "Resolving developer.download.nvidia.com (developer.download.nvidia.com)... 152.195.19.142\n",
            "Connecting to developer.download.nvidia.com (developer.download.nvidia.com)|152.195.19.142|:443... connected.\n",
            "HTTP request sent, awaiting response... 200 OK\n",
            "Length: 3524358811 (3.3G) [application/octet-stream]\n",
            "Saving to: ‘cuda_11.7.1_515.65.01_linux.run’\n",
            "\n",
            "cuda_11.7.1_515.65. 100%[===================>]   3.28G   248MB/s    in 13s     \n",
            "\n",
            "2023-05-01 15:18:51 (258 MB/s) - ‘cuda_11.7.1_515.65.01_linux.run’ saved [3524358811/3524358811]\n",
            "\n"
          ]
        }
      ]
    },
    {
      "cell_type": "code",
      "source": [
        "! chmod +x /content/cuda_11.7.1_515.65.01_linux.run"
      ],
      "metadata": {
        "id": "KiXgI81946yV"
      },
      "execution_count": 8,
      "outputs": []
    },
    {
      "cell_type": "code",
      "source": [
        "! cd /content/ && \\\n",
        "  ./cuda_11.7.1_515.65.01_linux.run \\\n",
        "    --silent \\\n",
        "    --toolkit \\\n",
        "    --installpath=/content/cuda11/software/cuda-11.7.1 \\\n",
        "    --no-opengl-libs \\\n",
        "    --no-drm \\\n",
        "    --no-man-page"
      ],
      "metadata": {
        "id": "wcWSZGSo49lH"
      },
      "execution_count": 9,
      "outputs": []
    },
    {
      "cell_type": "code",
      "source": [
        "! wget https://huggingface.co/csukuangfj/cudnn/resolve/main/cudnn-11.3-linux-x64-v8.2.0.53.tgz"
      ],
      "metadata": {
        "id": "urV0H3xY5OG8",
        "outputId": "dd6219ea-5589-4407-cafc-f09ed901c381",
        "colab": {
          "base_uri": "https://localhost:8080/"
        }
      },
      "execution_count": 10,
      "outputs": [
        {
          "output_type": "stream",
          "name": "stdout",
          "text": [
            "--2023-05-01 15:21:02--  https://huggingface.co/csukuangfj/cudnn/resolve/main/cudnn-11.3-linux-x64-v8.2.0.53.tgz\n",
            "Resolving huggingface.co (huggingface.co)... 18.160.249.9, 18.160.249.78, 18.160.249.70, ...\n",
            "Connecting to huggingface.co (huggingface.co)|18.160.249.9|:443... connected.\n",
            "HTTP request sent, awaiting response... 302 Found\n",
            "Location: https://cdn-lfs.huggingface.co/csukuangfj/cudnn/7a195dc93a7cda2bdd4d9b73958d259c784be422cd941a9a625aab75309f19dc?response-content-disposition=attachment%3B+filename*%3DUTF-8%27%27cudnn-11.3-linux-x64-v8.2.0.53.tgz%3B+filename%3D%22cudnn-11.3-linux-x64-v8.2.0.53.tgz%22%3B&Expires=1683213662&Policy=eyJTdGF0ZW1lbnQiOlt7IlJlc291cmNlIjoiaHR0cHM6Ly9jZG4tbGZzLmh1Z2dpbmdmYWNlLmNvL2NzdWt1YW5nZmovY3Vkbm4vN2ExOTVkYzkzYTdjZGEyYmRkNGQ5YjczOTU4ZDI1OWM3ODRiZTQyMmNkOTQxYTlhNjI1YWFiNzUzMDlmMTlkYz9yZXNwb25zZS1jb250ZW50LWRpc3Bvc2l0aW9uPSoiLCJDb25kaXRpb24iOnsiRGF0ZUxlc3NUaGFuIjp7IkFXUzpFcG9jaFRpbWUiOjE2ODMyMTM2NjJ9fX1dfQ__&Signature=gq1zaVdfAXzgssk00K6kglFRmsMBcFlqa8FUGFz5O0CBhWTv3jmtVhn0V7IUgzG0sVuQTbbXI1G2M0GQfK6%7E7peaDJp%7E5PGOIjaGaBhb0kvc8N5kuz%7EDRezHk22W%7E4XOpdMBNNmS3a3lNaCm5MgA%7EK1o3fGaH-uHRNYJjgpBPlVO0HaNiqIUSC8OCHnLpMVnc6zmch8TisFYLeLu7xdykA7hDoKJBZys6tpewaN5tYvP3gEI7w20h-tNafu0GoCxIjoE83%7ESAXLGwB%7EqlF1db6TceLhrvWY2hFNd1icUS4kLiS-AOhwkcJeuo9WTjCIohmpPsNrFUDWCOoD122VJ7Q__&Key-Pair-Id=KVTP0A1DKRTAX [following]\n",
            "--2023-05-01 15:21:02--  https://cdn-lfs.huggingface.co/csukuangfj/cudnn/7a195dc93a7cda2bdd4d9b73958d259c784be422cd941a9a625aab75309f19dc?response-content-disposition=attachment%3B+filename*%3DUTF-8%27%27cudnn-11.3-linux-x64-v8.2.0.53.tgz%3B+filename%3D%22cudnn-11.3-linux-x64-v8.2.0.53.tgz%22%3B&Expires=1683213662&Policy=eyJTdGF0ZW1lbnQiOlt7IlJlc291cmNlIjoiaHR0cHM6Ly9jZG4tbGZzLmh1Z2dpbmdmYWNlLmNvL2NzdWt1YW5nZmovY3Vkbm4vN2ExOTVkYzkzYTdjZGEyYmRkNGQ5YjczOTU4ZDI1OWM3ODRiZTQyMmNkOTQxYTlhNjI1YWFiNzUzMDlmMTlkYz9yZXNwb25zZS1jb250ZW50LWRpc3Bvc2l0aW9uPSoiLCJDb25kaXRpb24iOnsiRGF0ZUxlc3NUaGFuIjp7IkFXUzpFcG9jaFRpbWUiOjE2ODMyMTM2NjJ9fX1dfQ__&Signature=gq1zaVdfAXzgssk00K6kglFRmsMBcFlqa8FUGFz5O0CBhWTv3jmtVhn0V7IUgzG0sVuQTbbXI1G2M0GQfK6%7E7peaDJp%7E5PGOIjaGaBhb0kvc8N5kuz%7EDRezHk22W%7E4XOpdMBNNmS3a3lNaCm5MgA%7EK1o3fGaH-uHRNYJjgpBPlVO0HaNiqIUSC8OCHnLpMVnc6zmch8TisFYLeLu7xdykA7hDoKJBZys6tpewaN5tYvP3gEI7w20h-tNafu0GoCxIjoE83%7ESAXLGwB%7EqlF1db6TceLhrvWY2hFNd1icUS4kLiS-AOhwkcJeuo9WTjCIohmpPsNrFUDWCOoD122VJ7Q__&Key-Pair-Id=KVTP0A1DKRTAX\n",
            "Resolving cdn-lfs.huggingface.co (cdn-lfs.huggingface.co)... 13.249.85.12, 13.249.85.116, 13.249.85.23, ...\n",
            "Connecting to cdn-lfs.huggingface.co (cdn-lfs.huggingface.co)|13.249.85.12|:443... connected.\n",
            "HTTP request sent, awaiting response... 200 OK\n",
            "Length: 1845502929 (1.7G) [application/octet-stream]\n",
            "Saving to: ‘cudnn-11.3-linux-x64-v8.2.0.53.tgz’\n",
            "\n",
            "cudnn-11.3-linux-x6 100%[===================>]   1.72G  56.3MB/s    in 29s     \n",
            "\n",
            "2023-05-01 15:21:31 (59.9 MB/s) - ‘cudnn-11.3-linux-x64-v8.2.0.53.tgz’ saved [1845502929/1845502929]\n",
            "\n"
          ]
        }
      ]
    },
    {
      "cell_type": "code",
      "source": [
        "! cd /content/ && tar xvf ./cudnn-11.3-linux-x64-v8.2.0.53.tgz --strip-components=1 -C /content/cuda11/software/cuda-11.7.1"
      ],
      "metadata": {
        "id": "cEZGlt4k5UJ2",
        "outputId": "f8ef055e-b9c5-4ed4-e307-018fb9e26c85",
        "colab": {
          "base_uri": "https://localhost:8080/"
        }
      },
      "execution_count": 11,
      "outputs": [
        {
          "output_type": "stream",
          "name": "stdout",
          "text": [
            "cuda/include/cudnn.h\n",
            "cuda/include/cudnn_adv_infer.h\n",
            "cuda/include/cudnn_adv_infer_v8.h\n",
            "cuda/include/cudnn_adv_train.h\n",
            "cuda/include/cudnn_adv_train_v8.h\n",
            "cuda/include/cudnn_backend.h\n",
            "cuda/include/cudnn_backend_v8.h\n",
            "cuda/include/cudnn_cnn_infer.h\n",
            "cuda/include/cudnn_cnn_infer_v8.h\n",
            "cuda/include/cudnn_cnn_train.h\n",
            "cuda/include/cudnn_cnn_train_v8.h\n",
            "cuda/include/cudnn_ops_infer.h\n",
            "cuda/include/cudnn_ops_infer_v8.h\n",
            "cuda/include/cudnn_ops_train.h\n",
            "cuda/include/cudnn_ops_train_v8.h\n",
            "cuda/include/cudnn_v8.h\n",
            "cuda/include/cudnn_version.h\n",
            "cuda/include/cudnn_version_v8.h\n",
            "cuda/NVIDIA_SLA_cuDNN_Support.txt\n",
            "cuda/lib64/libcudnn.so\n",
            "cuda/lib64/libcudnn.so.8\n",
            "cuda/lib64/libcudnn.so.8.2.0\n",
            "cuda/lib64/libcudnn_adv_infer.so\n",
            "cuda/lib64/libcudnn_adv_infer.so.8\n",
            "cuda/lib64/libcudnn_adv_infer.so.8.2.0\n",
            "cuda/lib64/libcudnn_adv_train.so\n",
            "cuda/lib64/libcudnn_adv_train.so.8\n",
            "cuda/lib64/libcudnn_adv_train.so.8.2.0\n",
            "cuda/lib64/libcudnn_cnn_infer.so\n",
            "cuda/lib64/libcudnn_cnn_infer.so.8\n",
            "cuda/lib64/libcudnn_cnn_infer.so.8.2.0\n",
            "cuda/lib64/libcudnn_cnn_infer_static.a\n",
            "cuda/lib64/libcudnn_cnn_infer_static_v8.a\n",
            "cuda/lib64/libcudnn_cnn_train.so\n",
            "cuda/lib64/libcudnn_cnn_train.so.8\n",
            "cuda/lib64/libcudnn_cnn_train.so.8.2.0\n",
            "cuda/lib64/libcudnn_cnn_train_static.a\n",
            "cuda/lib64/libcudnn_cnn_train_static_v8.a\n",
            "cuda/lib64/libcudnn_ops_infer.so\n",
            "cuda/lib64/libcudnn_ops_infer.so.8\n",
            "cuda/lib64/libcudnn_ops_infer.so.8.2.0\n",
            "cuda/lib64/libcudnn_ops_train.so\n",
            "cuda/lib64/libcudnn_ops_train.so.8\n",
            "cuda/lib64/libcudnn_ops_train.so.8.2.0\n",
            "cuda/lib64/libcudnn_static.a\n",
            "cuda/lib64/libcudnn_static_v8.a\n"
          ]
        }
      ]
    },
    {
      "cell_type": "code",
      "source": [
        "import os\n",
        "os.environ['CUDA_HOME'] = \"/content/cuda11/software/cuda-11.7.1\"\n",
        "os.environ['PATH'] += \":/content/cuda11/software/cuda-11.7.1/bin\"\n",
        "os.environ['LD_LIBRARY_PATH'] += \":/content/cuda11/software/cuda-11.7.1/lib64\"\n",
        "os.environ['LD_LIBRARY_PATH'] += \":/content/cuda11/software/cuda-11.7.1/lib\"\n",
        "\n",
        "os.environ['CUDA_TOOLKIT_ROOT_DIR']=os.environ['CUDA_HOME']\n",
        "os.environ['CUDA_TOOLKIT_ROOT']=os.environ['CUDA_HOME']\n",
        "os.environ['CUDA_BIN_PATH']=os.environ['CUDA_HOME']\n",
        "os.environ['CUDA_PATH']=os.environ['CUDA_HOME']\n",
        "os.environ['CUDA_INC_PATH']=\"/content/cuda11/software/cuda-11.7.1/targets/x86_64-linux\"\n"
      ],
      "metadata": {
        "id": "a5Fht1oE5asn"
      },
      "execution_count": 13,
      "outputs": []
    },
    {
      "cell_type": "code",
      "source": [
        "!pip install torch==1.13.1\n",
        "!pip install torchaudio==0.13.1"
      ],
      "metadata": {
        "colab": {
          "base_uri": "https://localhost:8080/"
        },
        "id": "sUeCcQws0Kae",
        "outputId": "311b8ac1-a993-4a39-8206-88e5cfed673e"
      },
      "execution_count": 3,
      "outputs": [
        {
          "output_type": "stream",
          "name": "stdout",
          "text": [
            "Looking in indexes: https://pypi.org/simple, https://us-python.pkg.dev/colab-wheels/public/simple/\n",
            "Collecting torch==1.13.1\n",
            "  Downloading torch-1.13.1-cp310-cp310-manylinux1_x86_64.whl (887.5 MB)\n",
            "\u001b[2K     \u001b[90m━━━━━━━━━━━━━━━━━━━━━━━━━━━━━━━━━━━━━━━\u001b[0m \u001b[32m887.5/887.5 MB\u001b[0m \u001b[31m2.3 MB/s\u001b[0m eta \u001b[36m0:00:00\u001b[0m\n",
            "\u001b[?25hCollecting nvidia-cublas-cu11==11.10.3.66\n",
            "  Downloading nvidia_cublas_cu11-11.10.3.66-py3-none-manylinux1_x86_64.whl (317.1 MB)\n",
            "\u001b[2K     \u001b[90m━━━━━━━━━━━━━━━━━━━━━━━━━━━━━━━━━━━━━━━\u001b[0m \u001b[32m317.1/317.1 MB\u001b[0m \u001b[31m5.0 MB/s\u001b[0m eta \u001b[36m0:00:00\u001b[0m\n",
            "\u001b[?25hRequirement already satisfied: typing-extensions in /usr/local/lib/python3.10/dist-packages (from torch==1.13.1) (4.5.0)\n",
            "Collecting nvidia-cuda-runtime-cu11==11.7.99\n",
            "  Downloading nvidia_cuda_runtime_cu11-11.7.99-py3-none-manylinux1_x86_64.whl (849 kB)\n",
            "\u001b[2K     \u001b[90m━━━━━━━━━━━━━━━━━━━━━━━━━━━━━━━━━━━━━━\u001b[0m \u001b[32m849.3/849.3 kB\u001b[0m \u001b[31m58.8 MB/s\u001b[0m eta \u001b[36m0:00:00\u001b[0m\n",
            "\u001b[?25hCollecting nvidia-cudnn-cu11==8.5.0.96\n",
            "  Downloading nvidia_cudnn_cu11-8.5.0.96-2-py3-none-manylinux1_x86_64.whl (557.1 MB)\n",
            "\u001b[2K     \u001b[90m━━━━━━━━━━━━━━━━━━━━━━━━━━━━━━━━━━━━━━━\u001b[0m \u001b[32m557.1/557.1 MB\u001b[0m \u001b[31m3.4 MB/s\u001b[0m eta \u001b[36m0:00:00\u001b[0m\n",
            "\u001b[?25hCollecting nvidia-cuda-nvrtc-cu11==11.7.99\n",
            "  Downloading nvidia_cuda_nvrtc_cu11-11.7.99-2-py3-none-manylinux1_x86_64.whl (21.0 MB)\n",
            "\u001b[2K     \u001b[90m━━━━━━━━━━━━━━━━━━━━━━━━━━━━━━━━━━━━━━━━\u001b[0m \u001b[32m21.0/21.0 MB\u001b[0m \u001b[31m70.6 MB/s\u001b[0m eta \u001b[36m0:00:00\u001b[0m\n",
            "\u001b[?25hRequirement already satisfied: setuptools in /usr/local/lib/python3.10/dist-packages (from nvidia-cublas-cu11==11.10.3.66->torch==1.13.1) (67.7.2)\n",
            "Requirement already satisfied: wheel in /usr/local/lib/python3.10/dist-packages (from nvidia-cublas-cu11==11.10.3.66->torch==1.13.1) (0.40.0)\n",
            "Installing collected packages: nvidia-cuda-runtime-cu11, nvidia-cuda-nvrtc-cu11, nvidia-cublas-cu11, nvidia-cudnn-cu11, torch\n",
            "  Attempting uninstall: torch\n",
            "    Found existing installation: torch 2.0.0+cu118\n",
            "    Uninstalling torch-2.0.0+cu118:\n",
            "      Successfully uninstalled torch-2.0.0+cu118\n",
            "\u001b[31mERROR: pip's dependency resolver does not currently take into account all the packages that are installed. This behaviour is the source of the following dependency conflicts.\n",
            "torchvision 0.15.1+cu118 requires torch==2.0.0, but you have torch 1.13.1 which is incompatible.\n",
            "torchtext 0.15.1 requires torch==2.0.0, but you have torch 1.13.1 which is incompatible.\n",
            "torchdata 0.6.0 requires torch==2.0.0, but you have torch 1.13.1 which is incompatible.\n",
            "torchaudio 2.0.1+cu118 requires torch==2.0.0, but you have torch 1.13.1 which is incompatible.\u001b[0m\u001b[31m\n",
            "\u001b[0mSuccessfully installed nvidia-cublas-cu11-11.10.3.66 nvidia-cuda-nvrtc-cu11-11.7.99 nvidia-cuda-runtime-cu11-11.7.99 nvidia-cudnn-cu11-8.5.0.96 torch-1.13.1\n",
            "Looking in indexes: https://pypi.org/simple, https://us-python.pkg.dev/colab-wheels/public/simple/\n",
            "Collecting torchaudio==0.13.1\n",
            "  Downloading torchaudio-0.13.1-cp310-cp310-manylinux1_x86_64.whl (4.2 MB)\n",
            "\u001b[2K     \u001b[90m━━━━━━━━━━━━━━━━━━━━━━━━━━━━━━━━━━━━━━━━\u001b[0m \u001b[32m4.2/4.2 MB\u001b[0m \u001b[31m41.9 MB/s\u001b[0m eta \u001b[36m0:00:00\u001b[0m\n",
            "\u001b[?25hRequirement already satisfied: torch==1.13.1 in /usr/local/lib/python3.10/dist-packages (from torchaudio==0.13.1) (1.13.1)\n",
            "Requirement already satisfied: typing-extensions in /usr/local/lib/python3.10/dist-packages (from torch==1.13.1->torchaudio==0.13.1) (4.5.0)\n",
            "Requirement already satisfied: nvidia-cuda-runtime-cu11==11.7.99 in /usr/local/lib/python3.10/dist-packages (from torch==1.13.1->torchaudio==0.13.1) (11.7.99)\n",
            "Requirement already satisfied: nvidia-cuda-nvrtc-cu11==11.7.99 in /usr/local/lib/python3.10/dist-packages (from torch==1.13.1->torchaudio==0.13.1) (11.7.99)\n",
            "Requirement already satisfied: nvidia-cublas-cu11==11.10.3.66 in /usr/local/lib/python3.10/dist-packages (from torch==1.13.1->torchaudio==0.13.1) (11.10.3.66)\n",
            "Requirement already satisfied: nvidia-cudnn-cu11==8.5.0.96 in /usr/local/lib/python3.10/dist-packages (from torch==1.13.1->torchaudio==0.13.1) (8.5.0.96)\n",
            "Requirement already satisfied: wheel in /usr/local/lib/python3.10/dist-packages (from nvidia-cublas-cu11==11.10.3.66->torch==1.13.1->torchaudio==0.13.1) (0.40.0)\n",
            "Requirement already satisfied: setuptools in /usr/local/lib/python3.10/dist-packages (from nvidia-cublas-cu11==11.10.3.66->torch==1.13.1->torchaudio==0.13.1) (67.7.2)\n",
            "Installing collected packages: torchaudio\n",
            "  Attempting uninstall: torchaudio\n",
            "    Found existing installation: torchaudio 2.0.1+cu118\n",
            "    Uninstalling torchaudio-2.0.1+cu118:\n",
            "      Successfully uninstalled torchaudio-2.0.1+cu118\n",
            "Successfully installed torchaudio-0.13.1\n"
          ]
        }
      ]
    },
    {
      "cell_type": "code",
      "source": [
        "! git clone https://github.com/k2-fsa/k2.git"
      ],
      "metadata": {
        "id": "0UkA9qE44Gkg",
        "outputId": "b12d33cb-9ad1-43b8-a00a-34c8e2eed0cd",
        "colab": {
          "base_uri": "https://localhost:8080/"
        }
      },
      "execution_count": 4,
      "outputs": [
        {
          "output_type": "stream",
          "name": "stdout",
          "text": [
            "Cloning into 'k2'...\n",
            "remote: Enumerating objects: 14302, done.\u001b[K\n",
            "remote: Counting objects: 100% (574/574), done.\u001b[K\n",
            "remote: Compressing objects: 100% (139/139), done.\u001b[K\n",
            "remote: Total 14302 (delta 440), reused 558 (delta 433), pack-reused 13728\u001b[K\n",
            "Receiving objects: 100% (14302/14302), 15.34 MiB | 26.90 MiB/s, done.\n",
            "Resolving deltas: 100% (10010/10010), done.\n"
          ]
        }
      ]
    },
    {
      "cell_type": "code",
      "source": [
        "! nvcc --version"
      ],
      "metadata": {
        "id": "msFWQZy14SUD",
        "outputId": "d644ca7c-63e5-4d89-a602-8fb7349c738b",
        "colab": {
          "base_uri": "https://localhost:8080/"
        }
      },
      "execution_count": 5,
      "outputs": [
        {
          "output_type": "stream",
          "name": "stdout",
          "text": [
            "nvcc: NVIDIA (R) Cuda compiler driver\n",
            "Copyright (c) 2005-2022 NVIDIA Corporation\n",
            "Built on Wed_Sep_21_10:33:58_PDT_2022\n",
            "Cuda compilation tools, release 11.8, V11.8.89\n",
            "Build cuda_11.8.r11.8/compiler.31833905_0\n"
          ]
        }
      ]
    },
    {
      "cell_type": "code",
      "source": [
        "!cd /content/k2 && \\\n",
        "  export K2_MAKE_ARGS=\"-j6\" && \\\n",
        "  python3 setup.py install\n"
      ],
      "metadata": {
        "id": "B5tixHKS4Lqi",
        "outputId": "94195640-269b-4cb0-e08a-a1ce9268f7b9",
        "colab": {
          "base_uri": "https://localhost:8080/"
        }
      },
      "execution_count": 14,
      "outputs": [
        {
          "output_type": "stream",
          "name": "stdout",
          "text": [
            "running install\n",
            "/usr/lib/python3.10/distutils/cmd.py:62: SetuptoolsDeprecationWarning: setup.py install is deprecated.\n",
            "!!\n",
            "\n",
            "        ********************************************************************************\n",
            "        Please avoid running ``setup.py`` directly.\n",
            "        Instead, use pypa/build, pypa/installer, pypa/build or\n",
            "        other standards-based tools.\n",
            "\n",
            "        See https://blog.ganssle.io/articles/2021/10/setup-py-deprecated.html for details.\n",
            "        ********************************************************************************\n",
            "\n",
            "!!\n",
            "  self.initialize_options()\n",
            "/usr/lib/python3.10/distutils/cmd.py:62: EasyInstallDeprecationWarning: easy_install command is deprecated.\n",
            "!!\n",
            "\n",
            "        ********************************************************************************\n",
            "        Please avoid running ``setup.py`` and ``easy_install``.\n",
            "        Instead, use pypa/build, pypa/installer, pypa/build or\n",
            "        other standards-based tools.\n",
            "\n",
            "        See https://github.com/pypa/setuptools/issues/917 for details.\n",
            "        ********************************************************************************\n",
            "\n",
            "!!\n",
            "  self.initialize_options()\n",
            "running bdist_egg\n",
            "running egg_info\n",
            "creating k2.egg-info\n",
            "writing k2.egg-info/PKG-INFO\n",
            "writing dependency_links to k2.egg-info/dependency_links.txt\n",
            "writing requirements to k2.egg-info/requires.txt\n",
            "writing top-level names to k2.egg-info/top_level.txt\n",
            "writing manifest file 'k2.egg-info/SOURCES.txt'\n",
            "reading manifest file 'k2.egg-info/SOURCES.txt'\n",
            "reading manifest template 'MANIFEST.in'\n",
            "adding license file 'LICENSE'\n",
            "writing manifest file 'k2.egg-info/SOURCES.txt'\n",
            "installing library code to build/bdist.linux-x86_64/egg\n",
            "running install_lib\n",
            "running build_py\n",
            "creating build\n",
            "creating build/lib.linux-x86_64-3.10\n",
            "creating build/lib.linux-x86_64-3.10/k2\n",
            "copying k2/python/k2/autograd_utils.py -> build/lib.linux-x86_64-3.10/k2\n",
            "copying k2/python/k2/symbol_table.py -> build/lib.linux-x86_64-3.10/k2\n",
            "copying k2/python/k2/utils.py -> build/lib.linux-x86_64-3.10/k2\n",
            "copying k2/python/k2/mwer_loss.py -> build/lib.linux-x86_64-3.10/k2\n",
            "copying k2/python/k2/online_dense_intersecter.py -> build/lib.linux-x86_64-3.10/k2\n",
            "copying k2/python/k2/fsa_properties.py -> build/lib.linux-x86_64-3.10/k2\n",
            "copying k2/python/k2/__init__.py -> build/lib.linux-x86_64-3.10/k2\n",
            "copying k2/python/k2/rnnt_loss.py -> build/lib.linux-x86_64-3.10/k2\n",
            "copying k2/python/k2/decode.py -> build/lib.linux-x86_64-3.10/k2\n",
            "copying k2/python/k2/ctc_loss.py -> build/lib.linux-x86_64-3.10/k2\n",
            "copying k2/python/k2/dense_fsa_vec.py -> build/lib.linux-x86_64-3.10/k2\n",
            "copying k2/python/k2/fsa_algo.py -> build/lib.linux-x86_64-3.10/k2\n",
            "copying k2/python/k2/mutual_information.py -> build/lib.linux-x86_64-3.10/k2\n",
            "copying k2/python/k2/autograd.py -> build/lib.linux-x86_64-3.10/k2\n",
            "copying k2/python/k2/nbest.py -> build/lib.linux-x86_64-3.10/k2\n",
            "copying k2/python/k2/ops.py -> build/lib.linux-x86_64-3.10/k2\n",
            "copying k2/python/k2/fsa.py -> build/lib.linux-x86_64-3.10/k2\n",
            "copying k2/python/k2/rnnt_decode.py -> build/lib.linux-x86_64-3.10/k2\n",
            "creating build/lib.linux-x86_64-3.10/k2/ragged\n",
            "copying k2/python/k2/ragged/__init__.py -> build/lib.linux-x86_64-3.10/k2/ragged\n",
            "creating build/lib.linux-x86_64-3.10/k2/sparse\n",
            "copying k2/python/k2/sparse/__init__.py -> build/lib.linux-x86_64-3.10/k2/sparse\n",
            "copying k2/python/k2/sparse/autograd.py -> build/lib.linux-x86_64-3.10/k2/sparse\n",
            "creating build/lib.linux-x86_64-3.10/k2/version\n",
            "copying k2/python/k2/version/__init__.py -> build/lib.linux-x86_64-3.10/k2/version\n",
            "copying k2/python/k2/version/__main__.py -> build/lib.linux-x86_64-3.10/k2/version\n",
            "copying k2/python/k2/version/version.py -> build/lib.linux-x86_64-3.10/k2/version\n",
            "running build_ext\n",
            "cmake_path: /usr/local/bin/cmake\n",
            "Setting PYTHON_EXECUTABLE to /usr/bin/python3\n",
            "build command is:\n",
            "\n",
            "                cd build/temp.linux-x86_64-3.10\n",
            "\n",
            "                cmake -DCMAKE_BUILD_TYPE=Release -DPYTHON_EXECUTABLE=/usr/bin/python3 -DK2_ENABLE_BENCHMARK=OFF  -DK2_ENABLE_TESTS=OFF  -DCMAKE_INSTALL_PREFIX=/content/k2/build/lib.linux-x86_64-3.10/k2  /content/k2\n",
            "\n",
            "                cat k2/csrc/version.h\n",
            "\n",
            "                make -j6 install\n",
            "            \n",
            "-- CMAKE_VERSION: 3.25.2\n",
            "-- Enabled languages: CXX;CUDA\n",
            "-- The CXX compiler identification is GNU 9.4.0\n",
            "-- The CUDA compiler identification is NVIDIA 11.7.99\n",
            "-- Detecting CXX compiler ABI info\n",
            "-- Detecting CXX compiler ABI info - done\n",
            "-- Check for working CXX compiler: /usr/bin/c++ - skipped\n",
            "-- Detecting CXX compile features\n",
            "-- Detecting CXX compile features - done\n",
            "-- Detecting CUDA compiler ABI info\n",
            "-- Detecting CUDA compiler ABI info - done\n",
            "-- Check for working CUDA compiler: /usr/local/cuda/bin/nvcc - skipped\n",
            "-- Detecting CUDA compile features\n",
            "-- Detecting CUDA compile features - done\n",
            "-- K2_OS: Ubuntu 20.04.5 LTS\n",
            "-- Found Git: /usr/bin/git (found version \"2.25.1\") \n",
            "-- Looking for C++ include cxxabi.h\n",
            "-- Looking for C++ include cxxabi.h - found\n",
            "-- Looking for C++ include execinfo.h\n",
            "-- Looking for C++ include execinfo.h - found\n",
            "-- Performing Test K2_COMPILER_SUPPORTS_CXX14\n",
            "-- Performing Test K2_COMPILER_SUPPORTS_CXX14 - Success\n",
            "-- C++ Standard version: 14\n",
            "-- Automatic GPU detection failed. Building for common architectures.\n",
            "-- Autodetected CUDA architecture(s): 3.5;5.0;5.2;6.0;6.1;7.0;7.5;8.0;8.6;8.6+PTX\n",
            "-- K2_COMPUTE_ARCH_FLAGS: -gencode;arch=compute_35,code=sm_35;-gencode;arch=compute_50,code=sm_50;-gencode;arch=compute_52,code=sm_52;-gencode;arch=compute_60,code=sm_60;-gencode;arch=compute_61,code=sm_61;-gencode;arch=compute_70,code=sm_70;-gencode;arch=compute_75,code=sm_75;-gencode;arch=compute_80,code=sm_80;-gencode;arch=compute_86,code=sm_86;-gencode;arch=compute_86,code=compute_86\n",
            "-- K2_COMPUTE_ARCH_CANDIDATES 35;50;60;61;70;75;80;86\n",
            "-- Adding arch 35\n",
            "-- Adding arch 50\n",
            "-- Adding arch 60\n",
            "-- Adding arch 61\n",
            "-- Adding arch 70\n",
            "-- Adding arch 75\n",
            "-- Adding arch 80\n",
            "-- Adding arch 86\n",
            "-- K2_COMPUTE_ARCHS: 35;50;60;61;70;75;80;86\n",
            "-- Could NOT find Valgrind (missing: Valgrind_INCLUDE_DIR Valgrind_EXECUTABLE) \n",
            "-- Downloading pybind11 from https://github.com/pybind/pybind11/archive/5bc0943ed96836f46489f53961f6c438d2935357.zip\n",
            "-- pybind11 is downloaded to /content/k2/build/temp.linux-x86_64-3.10/_deps/pybind11-src\n",
            "-- pybind11 v2.11.0 dev1\n",
            "-- Found PythonInterp: /usr/bin/python3 (found suitable version \"3.10.11\", minimum required is \"3.6\") \n",
            "-- Found PythonLibs: /usr/lib/x86_64-linux-gnu/libpython3.10.so\n",
            "-- Performing Test HAS_FLTO\n",
            "-- Performing Test HAS_FLTO - Success\n",
            "-- Python executable: /usr/bin/python3\n",
            "-- Performing Test CMAKE_HAVE_LIBC_PTHREAD\n",
            "-- Performing Test CMAKE_HAVE_LIBC_PTHREAD - Failed\n",
            "-- Looking for pthread_create in pthreads\n",
            "-- Looking for pthread_create in pthreads - not found\n",
            "-- Looking for pthread_create in pthread\n",
            "-- Looking for pthread_create in pthread - found\n",
            "-- Found Threads: TRUE  \n",
            "-- Found CUDA: /content/cuda11/software/cuda-11.7.1 (found version \"11.7\") \n",
            "-- Caffe2: CUDA detected: 11.7\n",
            "-- Caffe2: CUDA nvcc is: /content/cuda11/software/cuda-11.7.1/bin/nvcc\n",
            "-- Caffe2: CUDA toolkit directory: /content/cuda11/software/cuda-11.7.1\n",
            "-- Caffe2: Header version is: 11.7\n",
            "-- Found CUDNN: /content/cuda11/software/cuda-11.7.1/lib64/libcudnn.so  \n",
            "-- Found cuDNN: v8.2.0  (include: /content/cuda11/software/cuda-11.7.1/include, library: /content/cuda11/software/cuda-11.7.1/lib64/libcudnn.so)\n",
            "-- /content/cuda11/software/cuda-11.7.1/lib64/libnvrtc.so shorthash is 581f1f99\n",
            "-- Automatic GPU detection failed. Building for common architectures.\n",
            "-- Autodetected CUDA architecture(s): 3.5;5.0;5.2;6.0;6.1;7.0;7.5;8.0;8.6;8.6+PTX\n",
            "-- Added CUDA NVCC flags for: -gencode;arch=compute_35,code=sm_35;-gencode;arch=compute_50,code=sm_50;-gencode;arch=compute_52,code=sm_52;-gencode;arch=compute_60,code=sm_60;-gencode;arch=compute_61,code=sm_61;-gencode;arch=compute_70,code=sm_70;-gencode;arch=compute_75,code=sm_75;-gencode;arch=compute_80,code=sm_80;-gencode;arch=compute_86,code=sm_86;-gencode;arch=compute_86,code=compute_86\n",
            "\u001b[33mCMake Warning at /usr/local/lib/python3.10/dist-packages/torch/share/cmake/Torch/TorchConfig.cmake:22 (message):\n",
            "  static library kineto_LIBRARY-NOTFOUND not found.\n",
            "Call Stack (most recent call first):\n",
            "  /usr/local/lib/python3.10/dist-packages/torch/share/cmake/Torch/TorchConfig.cmake:127 (append_torchlib_if_found)\n",
            "  cmake/torch.cmake:11 (find_package)\n",
            "  CMakeLists.txt:292 (include)\n",
            "\n",
            "\u001b[0m\n",
            "-- Found Torch: /usr/local/lib/python3.10/dist-packages/torch/lib/libtorch.so  \n",
            "-- K2_TORCH_VERSION: 1.13\n",
            "-- PyTorch version: 1.13.1+cu117\n",
            "-- PyTorch cuda version: 11.7\n",
            "-- Generated /content/k2/build/temp.linux-x86_64-3.10/torch_version.py\n",
            "-- Downloading moderngpu from https://github.com/moderngpu/moderngpu/archive/8ec9ac0de8672de7217d014917eedec5317f75f3.zip\n",
            "-- moderngpu is downloaded to /content/k2/build/temp.linux-x86_64-3.10/_deps/moderngpu-src\n",
            "-- CMAKE_CUDA_FLAGS:  -Wno-deprecated-gpu-targets   -lineinfo --expt-extended-lambda -use_fast_math -Xptxas=-w  --expt-extended-lambda -gencode arch=compute_35,code=sm_35  -lineinfo --expt-extended-lambda -use_fast_math -Xptxas=-w  --expt-extended-lambda -gencode arch=compute_50,code=sm_50  -lineinfo --expt-extended-lambda -use_fast_math -Xptxas=-w  --expt-extended-lambda -gencode arch=compute_60,code=sm_60  -lineinfo --expt-extended-lambda -use_fast_math -Xptxas=-w  --expt-extended-lambda -gencode arch=compute_61,code=sm_61  -lineinfo --expt-extended-lambda -use_fast_math -Xptxas=-w  --expt-extended-lambda -gencode arch=compute_70,code=sm_70  -lineinfo --expt-extended-lambda -use_fast_math -Xptxas=-w  --expt-extended-lambda -gencode arch=compute_75,code=sm_75  -lineinfo --expt-extended-lambda -use_fast_math -Xptxas=-w  --expt-extended-lambda -gencode arch=compute_80,code=sm_80  -lineinfo --expt-extended-lambda -use_fast_math -Xptxas=-w  --expt-extended-lambda -gencode arch=compute_86,code=sm_86 -DONNX_NAMESPACE=onnx_c2 -gencode arch=compute_35,code=sm_35 -gencode arch=compute_50,code=sm_50 -gencode arch=compute_52,code=sm_52 -gencode arch=compute_60,code=sm_60 -gencode arch=compute_61,code=sm_61 -gencode arch=compute_70,code=sm_70 -gencode arch=compute_75,code=sm_75 -gencode arch=compute_80,code=sm_80 -gencode arch=compute_86,code=sm_86 -gencode arch=compute_86,code=compute_86 -Xcudafe --diag_suppress=cc_clobber_ignored,--diag_suppress=integer_sign_change,--diag_suppress=useless_using_declaration,--diag_suppress=set_but_not_used,--diag_suppress=field_without_dll_interface,--diag_suppress=base_class_has_different_dll_interface,--diag_suppress=dll_interface_conflict_none_assumed,--diag_suppress=dll_interface_conflict_dllexport_assumed,--diag_suppress=implicit_return_from_non_void_function,--diag_suppress=unsigned_compare_with_zero,--diag_suppress=declared_but_not_referenced,--diag_suppress=bad_friend_decl --expt-relaxed-constexpr --expt-extended-lambda -D_GLIBCXX_USE_CXX11_ABI=0 --compiler-options -Wall  --compiler-options -Wno-strict-overflow  --compiler-options -Wno-unknown-pragmas \n",
            "-- CMAKE_CXX_FLAGS:  -D_GLIBCXX_USE_CXX11_ABI=0 -Wno-unused-variable  -Wno-strict-overflow \n",
            "-- CMAKE_CUDA_FLAGS:  -Wno-deprecated-gpu-targets   -lineinfo --expt-extended-lambda -use_fast_math -Xptxas=-w  --expt-extended-lambda -gencode arch=compute_35,code=sm_35  -lineinfo --expt-extended-lambda -use_fast_math -Xptxas=-w  --expt-extended-lambda -gencode arch=compute_50,code=sm_50  -lineinfo --expt-extended-lambda -use_fast_math -Xptxas=-w  --expt-extended-lambda -gencode arch=compute_60,code=sm_60  -lineinfo --expt-extended-lambda -use_fast_math -Xptxas=-w  --expt-extended-lambda -gencode arch=compute_61,code=sm_61  -lineinfo --expt-extended-lambda -use_fast_math -Xptxas=-w  --expt-extended-lambda -gencode arch=compute_70,code=sm_70  -lineinfo --expt-extended-lambda -use_fast_math -Xptxas=-w  --expt-extended-lambda -gencode arch=compute_75,code=sm_75  -lineinfo --expt-extended-lambda -use_fast_math -Xptxas=-w  --expt-extended-lambda -gencode arch=compute_80,code=sm_80  -lineinfo --expt-extended-lambda -use_fast_math -Xptxas=-w  --expt-extended-lambda -gencode arch=compute_86,code=sm_86 -DONNX_NAMESPACE=onnx_c2 -gencode arch=compute_35,code=sm_35 -gencode arch=compute_50,code=sm_50 -gencode arch=compute_52,code=sm_52 -gencode arch=compute_60,code=sm_60 -gencode arch=compute_61,code=sm_61 -gencode arch=compute_70,code=sm_70 -gencode arch=compute_75,code=sm_75 -gencode arch=compute_80,code=sm_80 -gencode arch=compute_86,code=sm_86 -gencode arch=compute_86,code=compute_86 -Xcudafe --diag_suppress=cc_clobber_ignored,--diag_suppress=integer_sign_change,--diag_suppress=useless_using_declaration,--diag_suppress=set_but_not_used,--diag_suppress=field_without_dll_interface,--diag_suppress=base_class_has_different_dll_interface,--diag_suppress=dll_interface_conflict_none_assumed,--diag_suppress=dll_interface_conflict_dllexport_assumed,--diag_suppress=implicit_return_from_non_void_function,--diag_suppress=unsigned_compare_with_zero,--diag_suppress=declared_but_not_referenced,--diag_suppress=bad_friend_decl --expt-relaxed-constexpr --expt-extended-lambda -D_GLIBCXX_USE_CXX11_ABI=0 --compiler-options -Wall  --compiler-options -Wno-strict-overflow  --compiler-options -Wno-unknown-pragmas \n",
            "-- Generated /content/k2/build/temp.linux-x86_64-3.10/k2/csrc/version.h\n",
            "-- PYTHON_LIBRARY: /usr/lib/x86_64-linux-gnu/libpython3.10.so\n",
            "-- Including k2/torch. K2_TORCH_VERSION is 1.13\n",
            "-- Downloading kaldifeat from https://github.com/csukuangfj/kaldifeat/archive/refs/tags/v1.20.tar.gz\n",
            "-- kaldifeat is downloaded to /content/k2/build/temp.linux-x86_64-3.10/_deps/kaldifeat-src\n",
            "-- kaldifeat's binary dir is /content/k2/build/temp.linux-x86_64-3.10/_deps/kaldifeat-build\n",
            "-- The C compiler identification is GNU 9.4.0\n",
            "-- Detecting C compiler ABI info\n",
            "-- Detecting C compiler ABI info - done\n",
            "-- Check for working C compiler: /usr/bin/cc - skipped\n",
            "-- Detecting C compile features\n",
            "-- Detecting C compile features - done\n",
            "-- C++ Standard version: 14\n",
            "-- Python executable: /usr/bin/python3\n",
            "\u001b[33mCMake Warning at /usr/local/lib/python3.10/dist-packages/torch/share/cmake/Torch/TorchConfig.cmake:22 (message):\n",
            "  static library kineto_LIBRARY-NOTFOUND not found.\n",
            "Call Stack (most recent call first):\n",
            "  /usr/local/lib/python3.10/dist-packages/torch/share/cmake/Torch/TorchConfig.cmake:127 (append_torchlib_if_found)\n",
            "  cmake/torch.cmake:11 (find_package)\n",
            "  build/temp.linux-x86_64-3.10/_deps/kaldifeat-src/CMakeLists.txt:55 (include)\n",
            "\n",
            "\u001b[0m\n",
            "-- K2_TORCH_VERSION: 1.13\n",
            "-- PyTorch version: 1.13.1+cu117\n",
            "-- PyTorch cuda version: 11.7\n",
            "-- CMAKE_CXX_FLAGS:  -D_GLIBCXX_USE_CXX11_ABI=0 -Wno-unused-variable  -Wno-strict-overflow  -D_GLIBCXX_USE_CXX11_ABI=0\n",
            "-- CMAKE_INSTALL_PREFIX: /content/k2/build/lib.linux-x86_64-3.10/k2\n",
            "-- All headers: /content/k2/build/temp.linux-x86_64-3.10/_deps/kaldifeat-src/kaldifeat/csrc/feature-common-inl.h;/content/k2/build/temp.linux-x86_64-3.10/_deps/kaldifeat-src/kaldifeat/csrc/feature-common.h;/content/k2/build/temp.linux-x86_64-3.10/_deps/kaldifeat-src/kaldifeat/csrc/feature-fbank.h;/content/k2/build/temp.linux-x86_64-3.10/_deps/kaldifeat-src/kaldifeat/csrc/feature-functions.h;/content/k2/build/temp.linux-x86_64-3.10/_deps/kaldifeat-src/kaldifeat/csrc/feature-mfcc.h;/content/k2/build/temp.linux-x86_64-3.10/_deps/kaldifeat-src/kaldifeat/csrc/feature-plp.h;/content/k2/build/temp.linux-x86_64-3.10/_deps/kaldifeat-src/kaldifeat/csrc/feature-spectrogram.h;/content/k2/build/temp.linux-x86_64-3.10/_deps/kaldifeat-src/kaldifeat/csrc/feature-window.h;/content/k2/build/temp.linux-x86_64-3.10/_deps/kaldifeat-src/kaldifeat/csrc/log.h;/content/k2/build/temp.linux-x86_64-3.10/_deps/kaldifeat-src/kaldifeat/csrc/matrix-functions.h;/content/k2/build/temp.linux-x86_64-3.10/_deps/kaldifeat-src/kaldifeat/csrc/mel-computations.h;/content/k2/build/temp.linux-x86_64-3.10/_deps/kaldifeat-src/kaldifeat/csrc/online-feature-itf.h;/content/k2/build/temp.linux-x86_64-3.10/_deps/kaldifeat-src/kaldifeat/csrc/online-feature.h;/content/k2/build/temp.linux-x86_64-3.10/_deps/kaldifeat-src/kaldifeat/csrc/pitch-functions.h\n",
            "-- Configuring done\n",
            "-- Generating done\n",
            "-- Build files have been written to: /content/k2/build/temp.linux-x86_64-3.10\n",
            "/**\n",
            " * @brief\n",
            " * This file contains information for building k2, which is helpful\n",
            " * for describing the environment in which k2 is used when creating\n",
            " * an issue on GitHub.\n",
            " *\n",
            " * @copyright\n",
            " * Copyright (c)  2020  Mobvoi Inc.        (authors: Fangjun Kuang)\n",
            " *\n",
            " * @copyright\n",
            " * See LICENSE for clarification regarding multiple authors\n",
            " *\n",
            " * @caution\n",
            " * This file is auto-generated by CMake. Do NOT edit!\n",
            " * You can find it at build_dir/k2/csrc/version.h\n",
            " */\n",
            "\n",
            "#ifndef K2_CSRC_VERSION_H_\n",
            "#define K2_CSRC_VERSION_H_\n",
            "\n",
            "namespace k2 {\n",
            "\n",
            "// Version of k2 in \"major.minor.patch\" format\n",
            "static constexpr const char *kVersion = \"1.24.1\";\n",
            "\n",
            "// The commit used to build k2\n",
            "static constexpr const char *kGitSha1 = \"c51a0b9684442a88ee37f3ce0af686a04b66855b\";\n",
            "\n",
            "// Date of the commit used to build k2\n",
            "static constexpr const char *kGitDate = \"Mon May 1 13:38:03 2023\";\n",
            "\n",
            "// Version of CUDA used to build k2.\n",
            "// Its format is \"major.minor\", e.g., 10.1\n",
            "static constexpr const char *kCudaVersion = \"11.7\";\n",
            "\n",
            "// cuDNN version, e.g., 8.0.2\n",
            "static constexpr const char *kCudnnVersion = \"8.2.0\";\n",
            "\n",
            "// clang-format off\n",
            "// Version of Python used to build k2 Python bindings.\n",
            "static constexpr const char *kPythonVersion = \"3.10\";\n",
            "\n",
            "// clang-format on\n",
            "\n",
            "// CMake build type, e.g., Release or Debug.\n",
            "static constexpr const char *kBuildType = \"Release\";\n",
            "\n",
            "// The operating system that is used to build k2, e.g., Ubuntu 16.04 LTS\n",
            "static constexpr const char *kOS = R\"os(Ubuntu 20.04.5 LTS)os\";\n",
            "\n",
            "// e.g., 3.18.0\n",
            "static constexpr const char *kCMakeVersion = \"3.25.2\";\n",
            "\n",
            "// Version of the compiler, e.g., 5.4.0\n",
            "static constexpr const char *kGCCVersion = \"9.4.0\";\n",
            "\n",
            "// CUDA flags used to compile k2\n",
            "static constexpr const char *kCMakeCudaFlags = R\"cuda_flags( -Wno-deprecated-gpu-targets   -lineinfo --expt-extended-lambda -use_fast_math -Xptxas=-w  --expt-extended-lambda -gencode arch=compute_35,code=sm_35  -lineinfo --expt-extended-lambda -use_fast_math -Xptxas=-w  --expt-extended-lambda -gencode arch=compute_50,code=sm_50  -lineinfo --expt-extended-lambda -use_fast_math -Xptxas=-w  --expt-extended-lambda -gencode arch=compute_60,code=sm_60  -lineinfo --expt-extended-lambda -use_fast_math -Xptxas=-w  --expt-extended-lambda -gencode arch=compute_61,code=sm_61  -lineinfo --expt-extended-lambda -use_fast_math -Xptxas=-w  --expt-extended-lambda -gencode arch=compute_70,code=sm_70  -lineinfo --expt-extended-lambda -use_fast_math -Xptxas=-w  --expt-extended-lambda -gencode arch=compute_75,code=sm_75  -lineinfo --expt-extended-lambda -use_fast_math -Xptxas=-w  --expt-extended-lambda -gencode arch=compute_80,code=sm_80  -lineinfo --expt-extended-lambda -use_fast_math -Xptxas=-w  --expt-extended-lambda -gencode arch=compute_86,code=sm_86 -DONNX_NAMESPACE=onnx_c2 -gencode arch=compute_35,code=sm_35 -gencode arch=compute_50,code=sm_50 -gencode arch=compute_52,code=sm_52 -gencode arch=compute_60,code=sm_60 -gencode arch=compute_61,code=sm_61 -gencode arch=compute_70,code=sm_70 -gencode arch=compute_75,code=sm_75 -gencode arch=compute_80,code=sm_80 -gencode arch=compute_86,code=sm_86 -gencode arch=compute_86,code=compute_86 -Xcudafe --diag_suppress=cc_clobber_ignored,--diag_suppress=integer_sign_change,--diag_suppress=useless_using_declaration,--diag_suppress=set_but_not_used,--diag_suppress=field_without_dll_interface,--diag_suppress=base_class_has_different_dll_interface,--diag_suppress=dll_interface_conflict_none_assumed,--diag_suppress=dll_interface_conflict_dllexport_assumed,--diag_suppress=implicit_return_from_non_void_function,--diag_suppress=unsigned_compare_with_zero,--diag_suppress=declared_but_not_referenced,--diag_suppress=bad_friend_decl --expt-relaxed-constexpr --expt-extended-lambda -D_GLIBCXX_USE_CXX11_ABI=0 --compiler-options -Wall  --compiler-options -Wno-strict-overflow  --compiler-options -Wno-unknown-pragmas )cuda_flags\";\n",
            "\n",
            "// CXX flags used to compile k2\n",
            "static constexpr const char *kCMakeCxxFlags = R\"cxx_flags( -D_GLIBCXX_USE_CXX11_ABI=0 -Wno-unused-variable  -Wno-strict-overflow )cxx_flags\";\n",
            "\n",
            "// Which PyTorch version k2 is using, e.g., 1.6.0+cu101\n",
            "static constexpr const char *kTorchVersion = \"1.13.1+cu117\";\n",
            "\n",
            "// Which CUDA version PyTorch is using, e.g., 10.1\n",
            "static constexpr const char *kTorchCudaVersion = \"11.7\";\n",
            "\n",
            "#ifndef K2_WITH_CUDA\n",
            "#define K2_WITH_CUDA\n",
            "#endif\n",
            "\n",
            "#ifdef K2_WITH_CUDA\n",
            "  static constexpr bool kWithCuda = true;\n",
            "#else\n",
            "  static constexpr bool kWithCuda = false;\n",
            "#endif\n",
            "\n",
            "// Indicate whether NVTX is enabled or not\n",
            "#ifndef K2_ENABLE_NVTX\n",
            "#define K2_ENABLE_NVTX\n",
            "#endif\n",
            "\n",
            "#ifdef K2_ENABLE_NVTX\n",
            "static constexpr bool kEnableNvtx = true;\n",
            "#else\n",
            "static constexpr bool kEnableNvtx = false;\n",
            "#endif\n",
            "}  // namespace k2\n",
            "\n",
            "#endif  //  K2_CSRC_VERSION_H_\n",
            "[  1%] \u001b[32mBuilding CUDA object k2/csrc/CMakeFiles/k2_log.dir/log.cu.o\u001b[0m\n",
            "[  2%] \u001b[32mBuilding CXX object _deps/kaldifeat-build/kaldifeat/csrc/CMakeFiles/kaldifeat_core.dir/feature-fbank.cc.o\u001b[0m\n",
            "[  3%] \u001b[32mBuilding CXX object _deps/kaldifeat-build/kaldifeat/csrc/CMakeFiles/kaldifeat_core.dir/feature-functions.cc.o\u001b[0m\n",
            "[  3%] \u001b[32mBuilding CXX object _deps/kaldifeat-build/kaldifeat/csrc/CMakeFiles/kaldifeat_core.dir/feature-mfcc.cc.o\u001b[0m\n",
            "[  4%] \u001b[32mBuilding CXX object _deps/kaldifeat-build/kaldifeat/csrc/CMakeFiles/kaldifeat_core.dir/feature-plp.cc.o\u001b[0m\n",
            "[  5%] \u001b[32mBuilding CXX object _deps/kaldifeat-build/kaldifeat/csrc/CMakeFiles/kaldifeat_core.dir/feature-spectrogram.cc.o\u001b[0m\n",
            "[  6%] \u001b[32m\u001b[1mLinking CUDA shared library ../../lib/libk2_log.so\u001b[0m\n",
            "[  6%] Built target k2_log\n",
            "[  7%] \u001b[32mBuilding CXX object _deps/kaldifeat-build/kaldifeat/csrc/CMakeFiles/kaldifeat_core.dir/feature-window.cc.o\u001b[0m\n",
            "[  8%] \u001b[32mBuilding CXX object _deps/kaldifeat-build/kaldifeat/csrc/CMakeFiles/kaldifeat_core.dir/matrix-functions.cc.o\u001b[0m\n",
            "[  8%] \u001b[32mBuilding CXX object _deps/kaldifeat-build/kaldifeat/csrc/CMakeFiles/kaldifeat_core.dir/mel-computations.cc.o\u001b[0m\n",
            "[ 10%] \u001b[32mBuilding CXX object _deps/kaldifeat-build/kaldifeat/csrc/CMakeFiles/kaldifeat_core.dir/online-feature.cc.o\u001b[0m\n",
            "[ 10%] \u001b[32mBuilding CXX object k2/csrc/host/CMakeFiles/fsa.dir/arcsort.cc.o\u001b[0m\n",
            "[ 11%] \u001b[32mBuilding CXX object k2/csrc/host/CMakeFiles/fsa.dir/aux_labels.cc.o\u001b[0m\n",
            "[ 12%] \u001b[32mBuilding CXX object k2/csrc/host/CMakeFiles/fsa.dir/connect.cc.o\u001b[0m\n",
            "[ 13%] \u001b[32mBuilding CXX object k2/csrc/host/CMakeFiles/fsa.dir/determinize.cc.o\u001b[0m\n",
            "[ 14%] \u001b[32mBuilding CXX object k2/csrc/host/CMakeFiles/fsa.dir/determinize_pruned.cc.o\u001b[0m\n",
            "[ 14%] \u001b[32mBuilding CXX object k2/csrc/host/CMakeFiles/fsa.dir/fsa.cc.o\u001b[0m\n",
            "[ 15%] \u001b[32mBuilding CXX object k2/csrc/host/CMakeFiles/fsa.dir/fsa_equivalent.cc.o\u001b[0m\n",
            "[ 16%] \u001b[32mBuilding CXX object k2/csrc/host/CMakeFiles/fsa.dir/fsa_renderer.cc.o\u001b[0m\n",
            "[ 17%] \u001b[32mBuilding CXX object k2/csrc/host/CMakeFiles/fsa.dir/fsa_util.cc.o\u001b[0m\n",
            "[ 17%] \u001b[32mBuilding CXX object k2/csrc/host/CMakeFiles/fsa.dir/intersect.cc.o\u001b[0m\n",
            "[ 18%] \u001b[32mBuilding CXX object k2/csrc/host/CMakeFiles/fsa.dir/properties.cc.o\u001b[0m\n",
            "[ 20%] \u001b[32mBuilding CXX object k2/csrc/host/CMakeFiles/fsa.dir/rmepsilon_pruned.cc.o\u001b[0m\n",
            "[ 21%] \u001b[32mBuilding CXX object k2/csrc/host/CMakeFiles/fsa.dir/topsort.cc.o\u001b[0m\n",
            "[ 21%] \u001b[32mBuilding CXX object k2/csrc/host/CMakeFiles/fsa.dir/util.cc.o\u001b[0m\n",
            "[ 22%] \u001b[32mBuilding CXX object k2/csrc/host/CMakeFiles/fsa.dir/weights.cc.o\u001b[0m\n",
            "[ 23%] \u001b[32m\u001b[1mLinking CXX shared library ../../../lib/libk2fsa.so\u001b[0m\n",
            "[ 23%] Built target fsa\n",
            "[ 24%] \u001b[32mBuilding CUDA object k2/csrc/CMakeFiles/context.dir/algorithms.cu.o\u001b[0m\n",
            "[ 26%] \u001b[32mBuilding CUDA object k2/csrc/CMakeFiles/context.dir/array_of_ragged.cu.o\u001b[0m\n",
            "[ 26%] \u001b[32mBuilding CUDA object k2/csrc/CMakeFiles/context.dir/array_ops.cu.o\u001b[0m\n",
            "[ 27%] \u001b[32mBuilding CUDA object k2/csrc/CMakeFiles/context.dir/connect.cu.o\u001b[0m\n",
            "[ 27%] \u001b[32mBuilding CUDA object k2/csrc/CMakeFiles/context.dir/context.cu.o\u001b[0m\n",
            "[ 28%] \u001b[32m\u001b[1mLinking CXX shared library ../../../../lib/libkaldifeat_core.so\u001b[0m\n",
            "[ 28%] Built target kaldifeat_core\n",
            "[ 30%] \u001b[32mBuilding CUDA object k2/csrc/CMakeFiles/context.dir/dtype.cu.o\u001b[0m\n",
            "[ 31%] \u001b[32mBuilding CUDA object k2/csrc/CMakeFiles/context.dir/fsa.cu.o\u001b[0m\n",
            "[ 32%] \u001b[32mBuilding CUDA object k2/csrc/CMakeFiles/context.dir/fsa_algo.cu.o\u001b[0m\n",
            "[ 32%] \u001b[32mBuilding CUDA object k2/csrc/CMakeFiles/context.dir/fsa_utils.cu.o\u001b[0m\n",
            "[ 33%] \u001b[32mBuilding CUDA object k2/csrc/CMakeFiles/context.dir/hash.cu.o\u001b[0m\n",
            "[ 34%] \u001b[32mBuilding CUDA object k2/csrc/CMakeFiles/context.dir/host_shim.cu.o\u001b[0m\n",
            "[ 35%] \u001b[32mBuilding CUDA object k2/csrc/CMakeFiles/context.dir/intersect.cu.o\u001b[0m\n",
            "[ 35%] \u001b[32mBuilding CUDA object k2/csrc/CMakeFiles/context.dir/intersect_dense.cu.o\u001b[0m\n",
            "[ 36%] \u001b[32mBuilding CUDA object k2/csrc/CMakeFiles/context.dir/intersect_dense_pruned.cu.o\u001b[0m\n",
            "[ 37%] \u001b[32mBuilding CUDA object k2/csrc/CMakeFiles/context.dir/math.cu.o\u001b[0m\n",
            "[ 38%] \u001b[32mBuilding CUDA object k2/csrc/CMakeFiles/context.dir/moderngpu_allocator.cu.o\u001b[0m\n",
            "[ 40%] \u001b[32mBuilding CUDA object k2/csrc/CMakeFiles/context.dir/pinned_context.cu.o\u001b[0m\n",
            "[ 40%] \u001b[32mBuilding CUDA object k2/csrc/CMakeFiles/context.dir/ragged.cu.o\u001b[0m\n",
            "[ 41%] \u001b[32mBuilding CUDA object k2/csrc/CMakeFiles/context.dir/ragged_ops.cu.o\u001b[0m\n",
            "\u001b[01m\u001b[K/content/k2/k2/csrc/algorithms.h:\u001b[m\u001b[K In member function ‘\u001b[01m\u001b[Kk2::FsaVec k2::MultiGraphDenseIntersect::FormatOutput(k2::Array1<int>*, k2::Array1<int>*)\u001b[m\u001b[K’:\n",
            "\u001b[01m\u001b[K/content/k2/k2/csrc/algorithms.h:33:7:\u001b[m\u001b[K \u001b[01;35m\u001b[Kwarning: \u001b[m\u001b[K‘\u001b[01m\u001b[K<anonymous>.k2::Renumbering::num_new_elems_\u001b[m\u001b[K’ may be used uninitialized in this function [\u001b[01;35m\u001b[K-Wmaybe-uninitialized\u001b[m\u001b[K]\n",
            "   33 | class \u001b[01;35m\u001b[KRenumbering\u001b[m\u001b[K {\n",
            "      |       \u001b[01;35m\u001b[K^~~~~~~~~~~\u001b[m\u001b[K\n",
            "[ 42%] \u001b[32mBuilding CUDA object k2/csrc/CMakeFiles/context.dir/ragged_utils.cu.o\u001b[0m\n",
            "[ 43%] \u001b[32mBuilding CUDA object k2/csrc/CMakeFiles/context.dir/rand.cu.o\u001b[0m\n",
            "[ 43%] \u001b[32mBuilding CUDA object k2/csrc/CMakeFiles/context.dir/reverse.cu.o\u001b[0m\n",
            "[ 44%] \u001b[32mBuilding CUDA object k2/csrc/CMakeFiles/context.dir/rm_epsilon.cu.o\u001b[0m\n",
            "[ 45%] \u001b[32mBuilding CUDA object k2/csrc/CMakeFiles/context.dir/rnnt_decode.cu.o\u001b[0m\n",
            "[ 46%] \u001b[32mBuilding CUDA object k2/csrc/CMakeFiles/context.dir/tensor.cu.o\u001b[0m\n",
            "[ 46%] \u001b[32mBuilding CUDA object k2/csrc/CMakeFiles/context.dir/tensor_ops.cu.o\u001b[0m\n",
            "[ 47%] \u001b[32mBuilding CUDA object k2/csrc/CMakeFiles/context.dir/thread_pool.cu.o\u001b[0m\n",
            "[ 48%] \u001b[32mBuilding CUDA object k2/csrc/CMakeFiles/context.dir/timer.cu.o\u001b[0m\n",
            "[ 50%] \u001b[32mBuilding CUDA object k2/csrc/CMakeFiles/context.dir/top_sort.cu.o\u001b[0m\n",
            "[ 51%] \u001b[32mBuilding CUDA object k2/csrc/CMakeFiles/context.dir/torch_util.cu.o\u001b[0m\n",
            "[ 51%] \u001b[32mBuilding CUDA object k2/csrc/CMakeFiles/context.dir/utils.cu.o\u001b[0m\n",
            "[ 52%] \u001b[32mBuilding CUDA object k2/csrc/CMakeFiles/context.dir/nbest.cu.o\u001b[0m\n",
            "[ 53%] \u001b[32mBuilding CUDA object k2/csrc/CMakeFiles/context.dir/pytorch_context.cu.o\u001b[0m\n",
            "[ 54%] \u001b[32mBuilding CUDA object k2/csrc/CMakeFiles/context.dir/cudpp/cudpp.cu.o\u001b[0m\n",
            "\u001b[01m\u001b[K/content/k2/k2/csrc/ragged_ops_inl.h:\u001b[m\u001b[K In function ‘\u001b[01m\u001b[Kk2::Renumbering k2::PruneRaggedAxis1(k2::Ragged<U>&, T, int32_t) [with T = double]\u001b[m\u001b[K’:\n",
            "\u001b[01m\u001b[K/content/k2/k2/csrc/ragged_ops_inl.h:870:16:\u001b[m\u001b[K \u001b[01;35m\u001b[Kwarning: \u001b[m\u001b[K‘\u001b[01m\u001b[Korder_map_data\u001b[m\u001b[K’ may be used uninitialized in this function [\u001b[01;35m\u001b[K-Wmaybe-uninitialized\u001b[m\u001b[K]\n",
            "  870 |   const int32_t\u001b[01;35m\u001b[K *order_map_da\u001b[m\u001b[Kta;\n",
            "      |                \u001b[01;35m\u001b[K^~~~~~~~~~~~~~\u001b[m\u001b[K\n",
            "[ 54%] \u001b[32mBuilding CXX object k2/torch/csrc/CMakeFiles/k2_fbank.dir/features.cc.o\u001b[0m\n",
            "[ 55%] \u001b[32m\u001b[1mLinking CXX shared library ../../../lib/libk2_fbank.so\u001b[0m\n",
            "[ 55%] Built target k2_fbank\n",
            "[ 55%] \u001b[32m\u001b[1mLinking CUDA device code CMakeFiles/context.dir/cmake_device_link.o\u001b[0m\n",
            "[ 56%] \u001b[32m\u001b[1mLinking CUDA shared library ../../lib/libk2context.so\u001b[0m\n",
            "[ 56%] Built target context\n",
            "[ 56%] \u001b[32mBuilding CUDA object k2/torch/csrc/CMakeFiles/k2_torch.dir/beam_search.cu.o\u001b[0m\n",
            "[ 58%] \u001b[32mBuilding CUDA object k2/torch/csrc/CMakeFiles/k2_torch.dir/decode.cu.o\u001b[0m\n",
            "[ 58%] \u001b[32mBuilding CUDA object k2/torch/csrc/CMakeFiles/k2_torch.dir/dense_fsa_vec.cu.o\u001b[0m\n",
            "[ 60%] \u001b[32mBuilding CUDA object k2/torch/csrc/CMakeFiles/k2_torch.dir/deserialization.cu.o\u001b[0m\n",
            "[ 60%] \u001b[32mBuilding CUDA object k2/python/csrc/CMakeFiles/_k2.dir/k2.cu.o\u001b[0m\n",
            "[ 61%] \u001b[32mBuilding CUDA object k2/python/csrc/CMakeFiles/_k2.dir/torch.cu.o\u001b[0m\n",
            "\u001b[01m\u001b[K/content/k2/k2/torch/csrc/beam_search.cu:\u001b[m\u001b[K In function ‘\u001b[01m\u001b[Kstd::vector<std::vector<int>, std::allocator<std::vector<int> > > k2::ModifiedBeamSearch(const torch::jit::Module&, const at::Tensor&, const at::Tensor&, int32_t)\u001b[m\u001b[K’:\n",
            "\u001b[01m\u001b[K/content/k2/k2/torch/csrc/beam_search.cu:272:20:\u001b[m\u001b[K \u001b[01;35m\u001b[Kwarning: \u001b[m\u001b[Kcomparison of integer expressions of different signedness: ‘\u001b[01m\u001b[Kint32_t\u001b[m\u001b[K’ {aka ‘\u001b[01m\u001b[Kint\u001b[m\u001b[K’} and ‘\u001b[01m\u001b[Kstd::vector<k2::Hypotheses>::size_type\u001b[m\u001b[K’ {aka ‘\u001b[01m\u001b[Klong unsigned int\u001b[m\u001b[K’} [\u001b[01;35m\u001b[K-Wsign-compare\u001b[m\u001b[K]\n",
            "  272 |     \u001b[01;35m\u001b[Kif (cur_batch_size < cur.si\u001b[m\u001b[Kze()) {\n",
            "      |     \u001b[01;35m\u001b[K~~~~~~~~~~~~~~~^~~~~~~~~~~~\u001b[m\u001b[K\n",
            "\u001b[01m\u001b[K/content/k2/k2/torch/csrc/beam_search.cu:298:23:\u001b[m\u001b[K \u001b[01;35m\u001b[Kwarning: \u001b[m\u001b[Kcomparison of integer expressions of different signedness: ‘\u001b[01m\u001b[Kint32_t\u001b[m\u001b[K’ {aka ‘\u001b[01m\u001b[Kint\u001b[m\u001b[K’} and ‘\u001b[01m\u001b[Kstd::vector<k2::Hypothesis>::size_type\u001b[m\u001b[K’ {aka ‘\u001b[01m\u001b[Klong unsigned int\u001b[m\u001b[K’} [\u001b[01;35m\u001b[K-Wsign-compare\u001b[m\u001b[K]\n",
            "  298 |     for (int32_t k =\u001b[01;35m\u001b[K 0; k != prev.si\u001b[m\u001b[Kze(); ++k) {\n",
            "      |                     \u001b[01;35m\u001b[K~~^~~~~~~~~~~~~~\u001b[m\u001b[K\n",
            "[ 61%] \u001b[32mBuilding CUDA object k2/torch/csrc/CMakeFiles/k2_torch.dir/fsa_algo.cu.o\u001b[0m\n",
            "[ 62%] \u001b[32mBuilding CUDA object k2/torch/csrc/CMakeFiles/k2_torch.dir/fsa_class.cu.o\u001b[0m\n",
            "[ 63%] \u001b[32mBuilding CUDA object k2/torch/csrc/CMakeFiles/k2_torch.dir/hypothesis.cu.o\u001b[0m\n",
            "\u001b[01m\u001b[K/content/k2/k2/torch/csrc/deserialization.cu:\u001b[m\u001b[K In function ‘\u001b[01m\u001b[Kvoid k2::_GLOBAL__N__c918cc56_18_deserialization_cu_4aae5ec1::restoreAccurateTypeTags(const c10::IValue&, const TypePtr&)\u001b[m\u001b[K’:\n",
            "\u001b[01m\u001b[K/content/k2/k2/torch/csrc/deserialization.cu:101:8:\u001b[m\u001b[K \u001b[01;35m\u001b[Kwarning: \u001b[m\u001b[Kenumeration value ‘\u001b[01m\u001b[KStorageType\u001b[m\u001b[K’ not handled in switch [\u001b[01;35m\u001b[K-Wswitch\u001b[m\u001b[K]\n",
            "  101 |     swi\u001b[01;35m\u001b[Kt\u001b[m\u001b[Kch (w.static_type->kind()) {\n",
            "      |        \u001b[01;35m\u001b[K^\u001b[m\u001b[K\n",
            "\u001b[01m\u001b[K/content/k2/k2/torch/csrc/deserialization.cu:101:8:\u001b[m\u001b[K \u001b[01;35m\u001b[Kwarning: \u001b[m\u001b[Kenumeration value ‘\u001b[01m\u001b[KComplexType\u001b[m\u001b[K’ not handled in switch [\u001b[01;35m\u001b[K-Wswitch\u001b[m\u001b[K]\n",
            "\u001b[01m\u001b[K/content/k2/k2/torch/csrc/deserialization.cu:101:8:\u001b[m\u001b[K \u001b[01;35m\u001b[Kwarning: \u001b[m\u001b[Kenumeration value ‘\u001b[01m\u001b[KStreamObjType\u001b[m\u001b[K’ not handled in switch [\u001b[01;35m\u001b[K-Wswitch\u001b[m\u001b[K]\n",
            "\u001b[01m\u001b[K/content/k2/k2/torch/csrc/deserialization.cu:101:8:\u001b[m\u001b[K \u001b[01;35m\u001b[Kwarning: \u001b[m\u001b[Kenumeration value ‘\u001b[01m\u001b[KMemoryFormatType\u001b[m\u001b[K’ not handled in switch [\u001b[01;35m\u001b[K-Wswitch\u001b[m\u001b[K]\n",
            "\u001b[01m\u001b[K/content/k2/k2/torch/csrc/deserialization.cu:101:8:\u001b[m\u001b[K \u001b[01;35m\u001b[Kwarning: \u001b[m\u001b[Kenumeration value ‘\u001b[01m\u001b[KSymIntType\u001b[m\u001b[K’ not handled in switch [\u001b[01;35m\u001b[K-Wswitch\u001b[m\u001b[K]\n",
            "\u001b[01m\u001b[K/content/k2/k2/torch/csrc/deserialization.cu:101:8:\u001b[m\u001b[K \u001b[01;35m\u001b[Kwarning: \u001b[m\u001b[Kenumeration value ‘\u001b[01m\u001b[KSymFloatType\u001b[m\u001b[K’ not handled in switch [\u001b[01;35m\u001b[K-Wswitch\u001b[m\u001b[K]\n",
            "\u001b[01m\u001b[K/content/k2/k2/torch/csrc/deserialization.cu:101:8:\u001b[m\u001b[K \u001b[01;35m\u001b[Kwarning: \u001b[m\u001b[Kenumeration value ‘\u001b[01m\u001b[KUnionType\u001b[m\u001b[K’ not handled in switch [\u001b[01;35m\u001b[K-Wswitch\u001b[m\u001b[K]\n",
            "\u001b[01m\u001b[K/content/k2/k2/torch/csrc/deserialization.cu:101:8:\u001b[m\u001b[K \u001b[01;35m\u001b[Kwarning: \u001b[m\u001b[Kenumeration value ‘\u001b[01m\u001b[KDynamicType\u001b[m\u001b[K’ not handled in switch [\u001b[01;35m\u001b[K-Wswitch\u001b[m\u001b[K]\n",
            "[ 64%] \u001b[32mBuilding CUDA object k2/python/csrc/CMakeFiles/_k2.dir/version.cu.o\u001b[0m\n",
            "[ 65%] \u001b[32mBuilding CUDA object k2/torch/csrc/CMakeFiles/k2_torch.dir/nbest.cu.o\u001b[0m\n",
            "[ 66%] \u001b[32mBuilding CUDA object k2/python/csrc/CMakeFiles/_k2.dir/torch/arc.cu.o\u001b[0m\n",
            "[ 66%] \u001b[32mBuilding CUDA object k2/python/csrc/CMakeFiles/_k2.dir/torch/fsa.cu.o\u001b[0m\n",
            "[ 67%] \u001b[32mBuilding CUDA object k2/torch/csrc/CMakeFiles/k2_torch.dir/parse_options.cu.o\u001b[0m\n",
            "\u001b[01m\u001b[K/content/k2/k2/torch/csrc/parse_options.cu:\u001b[m\u001b[K In member function ‘\u001b[01m\u001b[Kint32_t k2::ParseOptions::ToInt(const string&) const\u001b[m\u001b[K’:\n",
            "\u001b[01m\u001b[K/content/k2/k2/torch/csrc/parse_options.cu:705:8:\u001b[m\u001b[K \u001b[01;35m\u001b[Kwarning: \u001b[m\u001b[K‘\u001b[01m\u001b[Kret\u001b[m\u001b[K’ may be used uninitialized in this function [\u001b[01;35m\u001b[K-Wmaybe-uninitialized\u001b[m\u001b[K]\n",
            "  705 |   retur\u001b[01;35m\u001b[Kn r\u001b[m\u001b[Ket;\n",
            "      |        \u001b[01;35m\u001b[K^~~\u001b[m\u001b[K\n",
            "\u001b[01m\u001b[K/content/k2/k2/torch/csrc/parse_options.cu:\u001b[m\u001b[K In member function ‘\u001b[01m\u001b[Kuint32_t k2::ParseOptions::ToUint(const string&) const\u001b[m\u001b[K’:\n",
            "\u001b[01m\u001b[K/content/k2/k2/torch/csrc/parse_options.cu:712:8:\u001b[m\u001b[K \u001b[01;35m\u001b[Kwarning: \u001b[m\u001b[K‘\u001b[01m\u001b[Kret\u001b[m\u001b[K’ may be used uninitialized in this function [\u001b[01;35m\u001b[K-Wmaybe-uninitialized\u001b[m\u001b[K]\n",
            "  712 |   retur\u001b[01;35m\u001b[Kn r\u001b[m\u001b[Ket;\n",
            "      |        \u001b[01;35m\u001b[K^~~\u001b[m\u001b[K\n",
            "[ 67%] \u001b[32mBuilding CUDA object k2/torch/csrc/CMakeFiles/k2_torch.dir/symbol_table.cu.o\u001b[0m\n",
            "[ 68%] \u001b[32mBuilding CUDA object k2/torch/csrc/CMakeFiles/k2_torch.dir/utils.cu.o\u001b[0m\n",
            "[ 70%] \u001b[32mBuilding CUDA object k2/torch/csrc/CMakeFiles/k2_torch.dir/wave_reader.cu.o\u001b[0m\n",
            "[ 71%] \u001b[32mBuilding CUDA object k2/python/csrc/CMakeFiles/_k2.dir/torch/fsa_algo.cu.o\u001b[0m\n",
            "[ 72%] \u001b[32mBuilding CUDA object k2/python/csrc/CMakeFiles/_k2.dir/torch/index_add.cu.o\u001b[0m\n",
            "[ 73%] \u001b[32mBuilding CUDA object k2/python/csrc/CMakeFiles/_k2.dir/torch/index_select.cu.o\u001b[0m\n",
            "[ 73%] \u001b[32mBuilding CUDA object k2/python/csrc/CMakeFiles/_k2.dir/torch/mutual_information.cu.o\u001b[0m\n",
            "[ 74%] \u001b[32mBuilding CUDA object k2/python/csrc/CMakeFiles/_k2.dir/torch/mutual_information_cpu.cu.o\u001b[0m\n",
            "[ 75%] \u001b[32m\u001b[1mLinking CUDA shared library ../../../lib/libk2_torch.so\u001b[0m\n",
            "[ 75%] Built target k2_torch\n",
            "[ 76%] \u001b[32mBuilding CUDA object k2/python/csrc/CMakeFiles/_k2.dir/torch/nbest.cu.o\u001b[0m\n",
            "[ 77%] \u001b[32mBuilding CUDA object k2/python/csrc/CMakeFiles/_k2.dir/torch/ragged.cu.o\u001b[0m\n",
            "[ 78%] \u001b[32mBuilding CUDA object k2/python/csrc/CMakeFiles/_k2.dir/torch/ragged_ops.cu.o\u001b[0m\n",
            "[ 78%] \u001b[32mBuilding CUDA object k2/python/csrc/CMakeFiles/_k2.dir/torch/rnnt_decode.cu.o\u001b[0m\n",
            "[ 80%] \u001b[32mBuilding CUDA object k2/python/csrc/CMakeFiles/_k2.dir/torch/v2/any.cu.o\u001b[0m\n",
            "[ 81%] \u001b[32mBuilding CUDA object k2/python/csrc/CMakeFiles/_k2.dir/torch/v2/autograd/swoosh.cu.o\u001b[0m\n",
            "[ 82%] \u001b[32mBuilding CUDA object k2/python/csrc/CMakeFiles/_k2.dir/torch/v2/doc/doc.cu.o\u001b[0m\n",
            "[ 82%] \u001b[32mBuilding CUDA object k2/python/csrc/CMakeFiles/_k2.dir/torch/v2/k2.cu.o\u001b[0m\n",
            "[ 83%] \u001b[32mBuilding CUDA object k2/python/csrc/CMakeFiles/_k2.dir/torch/v2/ragged_any.cu.o\u001b[0m\n",
            "[ 84%] \u001b[32mBuilding CUDA object k2/python/csrc/CMakeFiles/_k2.dir/torch/v2/ragged_shape.cu.o\u001b[0m\n",
            "[ 85%] \u001b[32mBuilding CUDA object k2/python/csrc/CMakeFiles/_k2.dir/torch/mutual_information_cuda.cu.o\u001b[0m\n",
            "[ 85%] \u001b[32mBuilding CUDA object k2/torch/csrc/CMakeFiles/k2_torch_api.dir/torch_api.cu.o\u001b[0m\n",
            "[ 86%] \u001b[32mBuilding CUDA object k2/torch/bin/CMakeFiles/ctc_decode.dir/ctc_decode.cu.o\u001b[0m\n",
            "[ 87%] \u001b[32mBuilding CUDA object k2/torch/bin/CMakeFiles/hlg_decode.dir/hlg_decode.cu.o\u001b[0m\n",
            "[ 88%] \u001b[32mBuilding CUDA object k2/torch/bin/CMakeFiles/ngram_lm_rescore.dir/ngram_lm_rescore.cu.o\u001b[0m\n",
            "[ 90%] \u001b[32mBuilding CUDA object k2/torch/bin/CMakeFiles/attention_rescore.dir/attention_rescore.cu.o\u001b[0m\n",
            "[ 91%] \u001b[32m\u001b[1mLinking CUDA shared library ../../../lib/libk2_torch_api.so\u001b[0m\n",
            "[ 91%] Built target k2_torch_api\n",
            "[ 92%] \u001b[32mBuilding CUDA object k2/torch/bin/CMakeFiles/online_decode.dir/online_decode.cu.o\u001b[0m\n",
            "[ 93%] \u001b[32m\u001b[1mLinking CUDA executable ../../../bin/ctc_decode\u001b[0m\n",
            "[ 93%] Built target ctc_decode\n",
            "[ 94%] \u001b[32mBuilding CUDA object k2/torch/bin/CMakeFiles/rnnt_demo.dir/rnnt_demo.cu.o\u001b[0m\n",
            "[ 94%] \u001b[32m\u001b[1mLinking CUDA device code CMakeFiles/_k2.dir/cmake_device_link.o\u001b[0m\n",
            "[ 95%] \u001b[32m\u001b[1mLinking CUDA shared module ../../../lib/_k2.cpython-310-x86_64-linux-gnu.so\u001b[0m\n",
            "[ 95%] Built target _k2\n",
            "[ 96%] \u001b[32mBuilding CUDA object k2/torch/bin/CMakeFiles/pruned_stateless_transducer.dir/pruned_stateless_transducer.cu.o\u001b[0m\n",
            "[ 97%] \u001b[32m\u001b[1mLinking CUDA executable ../../../bin/hlg_decode\u001b[0m\n",
            "[ 97%] Built target hlg_decode\n",
            "[ 97%] \u001b[32m\u001b[1mLinking CUDA executable ../../../bin/ngram_lm_rescore\u001b[0m\n",
            "[ 97%] Built target ngram_lm_rescore\n",
            "[ 97%] \u001b[32m\u001b[1mLinking CUDA executable ../../../bin/attention_rescore\u001b[0m\n",
            "[ 97%] Built target attention_rescore\n",
            "[ 98%] \u001b[32m\u001b[1mLinking CUDA executable ../../../bin/online_decode\u001b[0m\n",
            "[ 98%] Built target online_decode\n",
            "[ 98%] \u001b[32m\u001b[1mLinking CUDA executable ../../../bin/pruned_stateless_transducer\u001b[0m\n",
            "[ 98%] Built target pruned_stateless_transducer\n",
            "[100%] \u001b[32m\u001b[1mLinking CUDA executable ../../../bin/rnnt_demo\u001b[0m\n",
            "[100%] Built target rnnt_demo\n",
            "\u001b[36mInstall the project...\u001b[0m\n",
            "-- Install configuration: \"Release\"\n",
            "-- Installing: /content/k2/build/lib.linux-x86_64-3.10/k2/share/cmake/k2/k2ConfigVersion.cmake\n",
            "-- Installing: /content/k2/build/lib.linux-x86_64-3.10/k2/share/cmake/k2/k2Config.cmake\n",
            "-- Installing: /content/k2/build/lib.linux-x86_64-3.10/k2/./torch_version.py\n",
            "-- Installing: /content/k2/build/lib.linux-x86_64-3.10/k2/lib/libk2_log.so\n",
            "-- Set runtime path of \"/content/k2/build/lib.linux-x86_64-3.10/k2/lib/libk2_log.so\" to \"$ORIGIN\"\n",
            "-- Installing: /content/k2/build/lib.linux-x86_64-3.10/k2/lib/libk2context.so\n",
            "-- Set runtime path of \"/content/k2/build/lib.linux-x86_64-3.10/k2/lib/libk2context.so\" to \"$ORIGIN:/usr/local/lib/python3.10/dist-packages/torch/lib\"\n",
            "-- Installing: /content/k2/build/lib.linux-x86_64-3.10/k2/lib/libk2fsa.so\n",
            "-- Set runtime path of \"/content/k2/build/lib.linux-x86_64-3.10/k2/lib/libk2fsa.so\" to \"$ORIGIN\"\n",
            "-- Installing: /content/k2/build/lib.linux-x86_64-3.10/k2/../_k2.cpython-310-x86_64-linux-gnu.so\n",
            "-- Set runtime path of \"/content/k2/build/lib.linux-x86_64-3.10/k2/../_k2.cpython-310-x86_64-linux-gnu.so\" to \"$ORIGIN:/usr/local/lib/python3.10/dist-packages/torch/lib\"\n",
            "-- Installing: /content/k2/build/lib.linux-x86_64-3.10/k2/lib/libk2_torch_api.so\n",
            "-- Set runtime path of \"/content/k2/build/lib.linux-x86_64-3.10/k2/lib/libk2_torch_api.so\" to \"$ORIGIN:/usr/local/lib/python3.10/dist-packages/torch/lib\"\n",
            "-- Installing: /content/k2/build/lib.linux-x86_64-3.10/k2/lib/libk2_torch.so\n",
            "-- Set runtime path of \"/content/k2/build/lib.linux-x86_64-3.10/k2/lib/libk2_torch.so\" to \"$ORIGIN:/usr/local/lib/python3.10/dist-packages/torch/lib\"\n",
            "-- Installing: /content/k2/build/lib.linux-x86_64-3.10/k2/include/k2/torch_api.h\n",
            "creating build/bdist.linux-x86_64\n",
            "creating build/bdist.linux-x86_64/egg\n",
            "creating build/bdist.linux-x86_64/egg/k2\n",
            "copying build/lib.linux-x86_64-3.10/k2/autograd_utils.py -> build/bdist.linux-x86_64/egg/k2\n",
            "creating build/bdist.linux-x86_64/egg/k2/include\n",
            "creating build/bdist.linux-x86_64/egg/k2/include/k2\n",
            "copying build/lib.linux-x86_64-3.10/k2/include/k2/torch_api.h -> build/bdist.linux-x86_64/egg/k2/include/k2\n",
            "copying build/lib.linux-x86_64-3.10/k2/torch_version.py -> build/bdist.linux-x86_64/egg/k2\n",
            "creating build/bdist.linux-x86_64/egg/k2/share\n",
            "creating build/bdist.linux-x86_64/egg/k2/share/cmake\n",
            "creating build/bdist.linux-x86_64/egg/k2/share/cmake/k2\n",
            "copying build/lib.linux-x86_64-3.10/k2/share/cmake/k2/k2ConfigVersion.cmake -> build/bdist.linux-x86_64/egg/k2/share/cmake/k2\n",
            "copying build/lib.linux-x86_64-3.10/k2/share/cmake/k2/k2Config.cmake -> build/bdist.linux-x86_64/egg/k2/share/cmake/k2\n",
            "copying build/lib.linux-x86_64-3.10/k2/symbol_table.py -> build/bdist.linux-x86_64/egg/k2\n",
            "copying build/lib.linux-x86_64-3.10/k2/utils.py -> build/bdist.linux-x86_64/egg/k2\n",
            "copying build/lib.linux-x86_64-3.10/k2/mwer_loss.py -> build/bdist.linux-x86_64/egg/k2\n",
            "copying build/lib.linux-x86_64-3.10/k2/online_dense_intersecter.py -> build/bdist.linux-x86_64/egg/k2\n",
            "copying build/lib.linux-x86_64-3.10/k2/fsa_properties.py -> build/bdist.linux-x86_64/egg/k2\n",
            "copying build/lib.linux-x86_64-3.10/k2/__init__.py -> build/bdist.linux-x86_64/egg/k2\n",
            "copying build/lib.linux-x86_64-3.10/k2/rnnt_loss.py -> build/bdist.linux-x86_64/egg/k2\n",
            "creating build/bdist.linux-x86_64/egg/k2/lib\n",
            "copying build/lib.linux-x86_64-3.10/k2/lib/libk2fsa.so -> build/bdist.linux-x86_64/egg/k2/lib\n",
            "copying build/lib.linux-x86_64-3.10/k2/lib/libk2context.so -> build/bdist.linux-x86_64/egg/k2/lib\n",
            "copying build/lib.linux-x86_64-3.10/k2/lib/libk2_torch.so -> build/bdist.linux-x86_64/egg/k2/lib\n",
            "copying build/lib.linux-x86_64-3.10/k2/lib/libk2_torch_api.so -> build/bdist.linux-x86_64/egg/k2/lib\n",
            "copying build/lib.linux-x86_64-3.10/k2/lib/libk2_log.so -> build/bdist.linux-x86_64/egg/k2/lib\n",
            "copying build/lib.linux-x86_64-3.10/k2/decode.py -> build/bdist.linux-x86_64/egg/k2\n",
            "copying build/lib.linux-x86_64-3.10/k2/ctc_loss.py -> build/bdist.linux-x86_64/egg/k2\n",
            "copying build/lib.linux-x86_64-3.10/k2/dense_fsa_vec.py -> build/bdist.linux-x86_64/egg/k2\n",
            "creating build/bdist.linux-x86_64/egg/k2/version\n",
            "copying build/lib.linux-x86_64-3.10/k2/version/__init__.py -> build/bdist.linux-x86_64/egg/k2/version\n",
            "copying build/lib.linux-x86_64-3.10/k2/version/__main__.py -> build/bdist.linux-x86_64/egg/k2/version\n",
            "copying build/lib.linux-x86_64-3.10/k2/version/version.py -> build/bdist.linux-x86_64/egg/k2/version\n",
            "copying build/lib.linux-x86_64-3.10/k2/fsa_algo.py -> build/bdist.linux-x86_64/egg/k2\n",
            "copying build/lib.linux-x86_64-3.10/k2/mutual_information.py -> build/bdist.linux-x86_64/egg/k2\n",
            "creating build/bdist.linux-x86_64/egg/k2/ragged\n",
            "copying build/lib.linux-x86_64-3.10/k2/ragged/__init__.py -> build/bdist.linux-x86_64/egg/k2/ragged\n",
            "copying build/lib.linux-x86_64-3.10/k2/autograd.py -> build/bdist.linux-x86_64/egg/k2\n",
            "copying build/lib.linux-x86_64-3.10/k2/nbest.py -> build/bdist.linux-x86_64/egg/k2\n",
            "copying build/lib.linux-x86_64-3.10/k2/ops.py -> build/bdist.linux-x86_64/egg/k2\n",
            "copying build/lib.linux-x86_64-3.10/k2/fsa.py -> build/bdist.linux-x86_64/egg/k2\n",
            "creating build/bdist.linux-x86_64/egg/k2/sparse\n",
            "copying build/lib.linux-x86_64-3.10/k2/sparse/__init__.py -> build/bdist.linux-x86_64/egg/k2/sparse\n",
            "copying build/lib.linux-x86_64-3.10/k2/sparse/autograd.py -> build/bdist.linux-x86_64/egg/k2/sparse\n",
            "copying build/lib.linux-x86_64-3.10/k2/rnnt_decode.py -> build/bdist.linux-x86_64/egg/k2\n",
            "copying build/lib.linux-x86_64-3.10/_k2.cpython-310-x86_64-linux-gnu.so -> build/bdist.linux-x86_64/egg\n",
            "byte-compiling build/bdist.linux-x86_64/egg/k2/autograd_utils.py to autograd_utils.cpython-310.pyc\n",
            "byte-compiling build/bdist.linux-x86_64/egg/k2/torch_version.py to torch_version.cpython-310.pyc\n",
            "byte-compiling build/bdist.linux-x86_64/egg/k2/symbol_table.py to symbol_table.cpython-310.pyc\n",
            "byte-compiling build/bdist.linux-x86_64/egg/k2/utils.py to utils.cpython-310.pyc\n",
            "byte-compiling build/bdist.linux-x86_64/egg/k2/mwer_loss.py to mwer_loss.cpython-310.pyc\n",
            "byte-compiling build/bdist.linux-x86_64/egg/k2/online_dense_intersecter.py to online_dense_intersecter.cpython-310.pyc\n",
            "byte-compiling build/bdist.linux-x86_64/egg/k2/fsa_properties.py to fsa_properties.cpython-310.pyc\n",
            "byte-compiling build/bdist.linux-x86_64/egg/k2/__init__.py to __init__.cpython-310.pyc\n",
            "byte-compiling build/bdist.linux-x86_64/egg/k2/rnnt_loss.py to rnnt_loss.cpython-310.pyc\n",
            "byte-compiling build/bdist.linux-x86_64/egg/k2/decode.py to decode.cpython-310.pyc\n",
            "byte-compiling build/bdist.linux-x86_64/egg/k2/ctc_loss.py to ctc_loss.cpython-310.pyc\n",
            "byte-compiling build/bdist.linux-x86_64/egg/k2/dense_fsa_vec.py to dense_fsa_vec.cpython-310.pyc\n",
            "byte-compiling build/bdist.linux-x86_64/egg/k2/version/__init__.py to __init__.cpython-310.pyc\n",
            "byte-compiling build/bdist.linux-x86_64/egg/k2/version/__main__.py to __main__.cpython-310.pyc\n",
            "byte-compiling build/bdist.linux-x86_64/egg/k2/version/version.py to version.cpython-310.pyc\n",
            "byte-compiling build/bdist.linux-x86_64/egg/k2/fsa_algo.py to fsa_algo.cpython-310.pyc\n",
            "byte-compiling build/bdist.linux-x86_64/egg/k2/mutual_information.py to mutual_information.cpython-310.pyc\n",
            "byte-compiling build/bdist.linux-x86_64/egg/k2/ragged/__init__.py to __init__.cpython-310.pyc\n",
            "byte-compiling build/bdist.linux-x86_64/egg/k2/autograd.py to autograd.cpython-310.pyc\n",
            "byte-compiling build/bdist.linux-x86_64/egg/k2/nbest.py to nbest.cpython-310.pyc\n",
            "byte-compiling build/bdist.linux-x86_64/egg/k2/ops.py to ops.cpython-310.pyc\n",
            "byte-compiling build/bdist.linux-x86_64/egg/k2/fsa.py to fsa.cpython-310.pyc\n",
            "byte-compiling build/bdist.linux-x86_64/egg/k2/sparse/__init__.py to __init__.cpython-310.pyc\n",
            "byte-compiling build/bdist.linux-x86_64/egg/k2/sparse/autograd.py to autograd.cpython-310.pyc\n",
            "byte-compiling build/bdist.linux-x86_64/egg/k2/rnnt_decode.py to rnnt_decode.cpython-310.pyc\n",
            "creating stub loader for _k2.cpython-310-x86_64-linux-gnu.so\n",
            "byte-compiling build/bdist.linux-x86_64/egg/_k2.py to _k2.cpython-310.pyc\n",
            "creating build/bdist.linux-x86_64/egg/EGG-INFO\n",
            "copying k2.egg-info/PKG-INFO -> build/bdist.linux-x86_64/egg/EGG-INFO\n",
            "copying k2.egg-info/SOURCES.txt -> build/bdist.linux-x86_64/egg/EGG-INFO\n",
            "copying k2.egg-info/dependency_links.txt -> build/bdist.linux-x86_64/egg/EGG-INFO\n",
            "copying k2.egg-info/not-zip-safe -> build/bdist.linux-x86_64/egg/EGG-INFO\n",
            "copying k2.egg-info/requires.txt -> build/bdist.linux-x86_64/egg/EGG-INFO\n",
            "copying k2.egg-info/top_level.txt -> build/bdist.linux-x86_64/egg/EGG-INFO\n",
            "writing build/bdist.linux-x86_64/egg/EGG-INFO/native_libs.txt\n",
            "creating dist\n",
            "creating 'dist/k2-1.24.1.dev20230501+cuda11.7.torch1.13.1-py3.10-linux-x86_64.egg' and adding 'build/bdist.linux-x86_64/egg' to it\n",
            "removing 'build/bdist.linux-x86_64/egg' (and everything under it)\n",
            "Processing k2-1.24.1.dev20230501+cuda11.7.torch1.13.1-py3.10-linux-x86_64.egg\n",
            "creating /usr/local/lib/python3.10/dist-packages/k2-1.24.1.dev20230501+cuda11.7.torch1.13.1-py3.10-linux-x86_64.egg\n",
            "Extracting k2-1.24.1.dev20230501+cuda11.7.torch1.13.1-py3.10-linux-x86_64.egg to /usr/local/lib/python3.10/dist-packages\n",
            "Adding k2 1.24.1.dev20230501+cuda11.7.torch1.13.1 to easy-install.pth file\n",
            "\n",
            "Installed /usr/local/lib/python3.10/dist-packages/k2-1.24.1.dev20230501+cuda11.7.torch1.13.1-py3.10-linux-x86_64.egg\n",
            "Processing dependencies for k2==1.24.1.dev20230501+cuda11.7.torch1.13.1\n",
            "Searching for graphviz==0.20.1\n",
            "Best match: graphviz 0.20.1\n",
            "Adding graphviz 0.20.1 to easy-install.pth file\n",
            "\n",
            "Using /usr/local/lib/python3.10/dist-packages\n",
            "Searching for torch==1.13.1\n",
            "Best match: torch 1.13.1\n",
            "Adding torch 1.13.1 to easy-install.pth file\n",
            "Installing convert-caffe2-to-onnx script to /usr/local/bin\n",
            "Installing convert-onnx-to-caffe2 script to /usr/local/bin\n",
            "Installing torchrun script to /usr/local/bin\n",
            "\n",
            "Using /usr/local/lib/python3.10/dist-packages\n",
            "Searching for nvidia-cuda-nvrtc-cu11==11.7.99\n",
            "Best match: nvidia-cuda-nvrtc-cu11 11.7.99\n",
            "Adding nvidia-cuda-nvrtc-cu11 11.7.99 to easy-install.pth file\n",
            "\n",
            "Using /usr/local/lib/python3.10/dist-packages\n",
            "Searching for nvidia-cublas-cu11==11.10.3.66\n",
            "Best match: nvidia-cublas-cu11 11.10.3.66\n",
            "Adding nvidia-cublas-cu11 11.10.3.66 to easy-install.pth file\n",
            "\n",
            "Using /usr/local/lib/python3.10/dist-packages\n",
            "Searching for nvidia-cudnn-cu11==8.5.0.96\n",
            "Best match: nvidia-cudnn-cu11 8.5.0.96\n",
            "Adding nvidia-cudnn-cu11 8.5.0.96 to easy-install.pth file\n",
            "\n",
            "Using /usr/local/lib/python3.10/dist-packages\n",
            "Searching for nvidia-cuda-runtime-cu11==11.7.99\n",
            "Best match: nvidia-cuda-runtime-cu11 11.7.99\n",
            "Adding nvidia-cuda-runtime-cu11 11.7.99 to easy-install.pth file\n",
            "\n",
            "Using /usr/local/lib/python3.10/dist-packages\n",
            "Searching for typing-extensions==4.5.0\n",
            "Best match: typing-extensions 4.5.0\n",
            "Adding typing-extensions 4.5.0 to easy-install.pth file\n",
            "\n",
            "Using /usr/local/lib/python3.10/dist-packages\n",
            "Searching for wheel==0.40.0\n",
            "Best match: wheel 0.40.0\n",
            "Adding wheel 0.40.0 to easy-install.pth file\n",
            "Installing wheel script to /usr/local/bin\n",
            "\n",
            "Using /usr/local/lib/python3.10/dist-packages\n",
            "Searching for setuptools==67.7.2\n",
            "Best match: setuptools 67.7.2\n",
            "Adding setuptools 67.7.2 to easy-install.pth file\n",
            "\n",
            "Using /usr/local/lib/python3.10/dist-packages\n",
            "Finished processing dependencies for k2==1.24.1.dev20230501+cuda11.7.torch1.13.1\n"
          ]
        }
      ]
    },
    {
      "cell_type": "code",
      "source": [
        "#pip install k2"
      ],
      "metadata": {
        "colab": {
          "base_uri": "https://localhost:8080/"
        },
        "id": "kUkkLjRD0wGS",
        "outputId": "ff0770e4-973f-488c-c421-8a18402508ea"
      },
      "execution_count": 2,
      "outputs": [
        {
          "output_type": "stream",
          "name": "stdout",
          "text": [
            "Looking in indexes: https://pypi.org/simple, https://us-python.pkg.dev/colab-wheels/public/simple/\n",
            "Collecting k2\n",
            "  Downloading k2-1.23.4-py3.9-none-any.whl (103.1 MB)\n",
            "\u001b[2K     \u001b[90m━━━━━━━━━━━━━━━━━━━━━━━━━━━━━━━━━━━━━━\u001b[0m \u001b[32m103.1/103.1 MB\u001b[0m \u001b[31m17.3 MB/s\u001b[0m eta \u001b[36m0:00:00\u001b[0m\n",
            "\u001b[?25hRequirement already satisfied: torch==1.13.1 in /usr/local/lib/python3.10/dist-packages (from k2) (1.13.1)\n",
            "Requirement already satisfied: graphviz in /usr/local/lib/python3.10/dist-packages (from k2) (0.20.1)\n",
            "Requirement already satisfied: nvidia-cuda-nvrtc-cu11==11.7.99 in /usr/local/lib/python3.10/dist-packages (from torch==1.13.1->k2) (11.7.99)\n",
            "Requirement already satisfied: nvidia-cuda-runtime-cu11==11.7.99 in /usr/local/lib/python3.10/dist-packages (from torch==1.13.1->k2) (11.7.99)\n",
            "Requirement already satisfied: nvidia-cublas-cu11==11.10.3.66 in /usr/local/lib/python3.10/dist-packages (from torch==1.13.1->k2) (11.10.3.66)\n",
            "Requirement already satisfied: nvidia-cudnn-cu11==8.5.0.96 in /usr/local/lib/python3.10/dist-packages (from torch==1.13.1->k2) (8.5.0.96)\n",
            "Requirement already satisfied: typing-extensions in /usr/local/lib/python3.10/dist-packages (from torch==1.13.1->k2) (4.5.0)\n",
            "Requirement already satisfied: setuptools in /usr/local/lib/python3.10/dist-packages (from nvidia-cublas-cu11==11.10.3.66->torch==1.13.1->k2) (67.7.2)\n",
            "Requirement already satisfied: wheel in /usr/local/lib/python3.10/dist-packages (from nvidia-cublas-cu11==11.10.3.66->torch==1.13.1->k2) (0.40.0)\n",
            "Installing collected packages: k2\n",
            "Successfully installed k2-1.23.4\n"
          ]
        }
      ]
    },
    {
      "cell_type": "code",
      "source": [
        "! python3 -m k2.version"
      ],
      "metadata": {
        "colab": {
          "base_uri": "https://localhost:8080/"
        },
        "id": "CuFaeXrw0ajF",
        "outputId": "262e0a70-7bca-4e29-99f2-dbc3955cf860"
      },
      "execution_count": 15,
      "outputs": [
        {
          "output_type": "stream",
          "name": "stdout",
          "text": [
            "Collecting environment information...\n",
            "\n",
            "k2 version: 1.24.1\n",
            "Build type: Release\n",
            "Git SHA1: c51a0b9684442a88ee37f3ce0af686a04b66855b\n",
            "Git date: Mon May 1 13:38:03 2023\n",
            "Cuda used to build k2: 11.7\n",
            "cuDNN used to build k2: 8.2.0\n",
            "Python version used to build k2: 3.10\n",
            "OS used to build k2: Ubuntu 20.04.5 LTS\n",
            "CMake version: 3.25.2\n",
            "GCC version: 9.4.0\n",
            "CMAKE_CUDA_FLAGS:  -Wno-deprecated-gpu-targets   -lineinfo --expt-extended-lambda -use_fast_math -Xptxas=-w  --expt-extended-lambda -gencode arch=compute_35,code=sm_35  -lineinfo --expt-extended-lambda -use_fast_math -Xptxas=-w  --expt-extended-lambda -gencode arch=compute_50,code=sm_50  -lineinfo --expt-extended-lambda -use_fast_math -Xptxas=-w  --expt-extended-lambda -gencode arch=compute_60,code=sm_60  -lineinfo --expt-extended-lambda -use_fast_math -Xptxas=-w  --expt-extended-lambda -gencode arch=compute_61,code=sm_61  -lineinfo --expt-extended-lambda -use_fast_math -Xptxas=-w  --expt-extended-lambda -gencode arch=compute_70,code=sm_70  -lineinfo --expt-extended-lambda -use_fast_math -Xptxas=-w  --expt-extended-lambda -gencode arch=compute_75,code=sm_75  -lineinfo --expt-extended-lambda -use_fast_math -Xptxas=-w  --expt-extended-lambda -gencode arch=compute_80,code=sm_80  -lineinfo --expt-extended-lambda -use_fast_math -Xptxas=-w  --expt-extended-lambda -gencode arch=compute_86,code=sm_86 -DONNX_NAMESPACE=onnx_c2 -gencode arch=compute_35,code=sm_35 -gencode arch=compute_50,code=sm_50 -gencode arch=compute_52,code=sm_52 -gencode arch=compute_60,code=sm_60 -gencode arch=compute_61,code=sm_61 -gencode arch=compute_70,code=sm_70 -gencode arch=compute_75,code=sm_75 -gencode arch=compute_80,code=sm_80 -gencode arch=compute_86,code=sm_86 -gencode arch=compute_86,code=compute_86 -Xcudafe --diag_suppress=cc_clobber_ignored,--diag_suppress=integer_sign_change,--diag_suppress=useless_using_declaration,--diag_suppress=set_but_not_used,--diag_suppress=field_without_dll_interface,--diag_suppress=base_class_has_different_dll_interface,--diag_suppress=dll_interface_conflict_none_assumed,--diag_suppress=dll_interface_conflict_dllexport_assumed,--diag_suppress=implicit_return_from_non_void_function,--diag_suppress=unsigned_compare_with_zero,--diag_suppress=declared_but_not_referenced,--diag_suppress=bad_friend_decl --expt-relaxed-constexpr --expt-extended-lambda -D_GLIBCXX_USE_CXX11_ABI=0 --compiler-options -Wall  --compiler-options -Wno-strict-overflow  --compiler-options -Wno-unknown-pragmas \n",
            "CMAKE_CXX_FLAGS:  -D_GLIBCXX_USE_CXX11_ABI=0 -Wno-unused-variable  -Wno-strict-overflow \n",
            "PyTorch version used to build k2: 1.13.1+cu117\n",
            "PyTorch is using Cuda: 11.7\n",
            "NVTX enabled: True\n",
            "With CUDA: True\n",
            "Disable debug: True\n",
            "Sync kernels : False\n",
            "Disable checks: False\n",
            "Max cpu memory allocate: 214748364800 bytes (or 200.0 GB)\n",
            "k2 abort: False\n",
            "__file__: /usr/local/lib/python3.10/dist-packages/k2-1.24.1.dev20230501+cuda11.7.torch1.13.1-py3.10-linux-x86_64.egg/k2/version/version.py\n",
            "_k2.__file__: /usr/local/lib/python3.10/dist-packages/k2-1.24.1.dev20230501+cuda11.7.torch1.13.1-py3.10-linux-x86_64.egg/_k2.cpython-310-x86_64-linux-gnu.so\n",
            "    \n"
          ]
        }
      ]
    },
    {
      "cell_type": "markdown",
      "metadata": {
        "id": "iUjhlmP4yOhf"
      },
      "source": [
        "### Install kaldifeat"
      ]
    },
    {
      "cell_type": "code",
      "execution_count": 16,
      "metadata": {
        "colab": {
          "base_uri": "https://localhost:8080/"
        },
        "id": "nU96wkwPvX8Y",
        "outputId": "40aa3b3b-70aa-4a01-b03b-0e0b81ff5eac"
      },
      "outputs": [
        {
          "output_type": "stream",
          "name": "stdout",
          "text": [
            "Looking in indexes: https://pypi.org/simple, https://us-python.pkg.dev/colab-wheels/public/simple/\n",
            "Collecting kaldifeat\n",
            "  Downloading kaldifeat-1.21.tar.gz (482 kB)\n",
            "\u001b[2K     \u001b[90m━━━━━━━━━━━━━━━━━━━━━━━━━━━━━━━━━━━━━━━\u001b[0m \u001b[32m482.4/482.4 kB\u001b[0m \u001b[31m1.0 MB/s\u001b[0m eta \u001b[36m0:00:00\u001b[0m\n",
            "\u001b[?25h  Preparing metadata (setup.py) ... \u001b[?25l\u001b[?25hdone\n",
            "Building wheels for collected packages: kaldifeat\n",
            "  Building wheel for kaldifeat (setup.py) ... \u001b[?25l\u001b[?25hdone\n",
            "  Created wheel for kaldifeat: filename=kaldifeat-1.21-cp310-cp310-linux_x86_64.whl size=263257 sha256=89a29d27b94c63f1c78097de662bcc2e3d1c983259b7b331c24cf3d5f28f7ce6\n",
            "  Stored in directory: /root/.cache/pip/wheels/e3/31/9b/a97ec285f4e5bfb43d7f85cff15db32ed680d3619e15675643\n",
            "Successfully built kaldifeat\n",
            "Installing collected packages: kaldifeat\n",
            "Successfully installed kaldifeat-1.21\n"
          ]
        }
      ],
      "source": [
        "! pip install kaldifeat"
      ]
    },
    {
      "cell_type": "markdown",
      "metadata": {
        "id": "tfBK2YJl3TTO"
      },
      "source": [
        "To check that kaldifeat was installed successfully, run"
      ]
    },
    {
      "cell_type": "code",
      "execution_count": 17,
      "metadata": {
        "colab": {
          "base_uri": "https://localhost:8080/"
        },
        "id": "f2JFgh27vblQ",
        "outputId": "7dd26b2b-2a4a-4c6f-e669-dbe2c0c7fadc"
      },
      "outputs": [
        {
          "output_type": "stream",
          "name": "stdout",
          "text": [
            "1.21\n"
          ]
        }
      ],
      "source": [
        "! python3 -c \"import kaldifeat; print(kaldifeat.__version__)\""
      ]
    },
    {
      "cell_type": "code",
      "source": [],
      "metadata": {
        "id": "iw7Bc6wm2bV_"
      },
      "execution_count": null,
      "outputs": []
    },
    {
      "cell_type": "markdown",
      "metadata": {
        "id": "U4MZRxzqDMj4"
      },
      "source": [
        "### Install icefall\n",
        "\n",
        "icefall is a collection of Python scripts. All you need is just to\n",
        "download its source code and set the `PYTHONPATH` environment variable."
      ]
    },
    {
      "cell_type": "code",
      "execution_count": 18,
      "metadata": {
        "colab": {
          "base_uri": "https://localhost:8080/"
        },
        "id": "rbziVC69Bf2h",
        "outputId": "34ce0612-608b-4b96-d8e2-e7025aa8388c"
      },
      "outputs": [
        {
          "output_type": "stream",
          "name": "stdout",
          "text": [
            "Cloning into 'icefall'...\n",
            "remote: Enumerating objects: 11840, done.\u001b[K\n",
            "remote: Counting objects: 100% (183/183), done.\u001b[K\n",
            "remote: Compressing objects: 100% (122/122), done.\u001b[K\n",
            "remote: Total 11840 (delta 89), reused 96 (delta 45), pack-reused 11657\u001b[K\n",
            "Receiving objects: 100% (11840/11840), 13.70 MiB | 32.79 MiB/s, done.\n",
            "Resolving deltas: 100% (8037/8037), done.\n"
          ]
        }
      ],
      "source": [
        "! git clone https://github.com/k2-fsa/icefall"
      ]
    },
    {
      "cell_type": "code",
      "execution_count": 19,
      "metadata": {
        "colab": {
          "base_uri": "https://localhost:8080/"
        },
        "id": "rtgsNZCBGaNU",
        "outputId": "c46a7d03-cae4-4b3a-ff8d-eaa5acbfc15a"
      },
      "outputs": [
        {
          "output_type": "stream",
          "name": "stdout",
          "text": [
            "\u001b[?25l     \u001b[90m━━━━━━━━━━━━━━━━━━━━━━━━━━━━━━━━━━━━━━━━\u001b[0m \u001b[32m0.0/81.3 kB\u001b[0m \u001b[31m?\u001b[0m eta \u001b[36m-:--:--\u001b[0m\r\u001b[2K     \u001b[90m━━━━━━━━━━━━━━━━━━━━━━━━━━━━━━━━━━━━━━━━\u001b[0m \u001b[32m81.3/81.3 kB\u001b[0m \u001b[31m3.7 MB/s\u001b[0m eta \u001b[36m0:00:00\u001b[0m\n",
            "\u001b[?25h"
          ]
        }
      ],
      "source": [
        "! pip install -q kaldialign"
      ]
    },
    {
      "cell_type": "markdown",
      "source": [
        "### install lhoste"
      ],
      "metadata": {
        "id": "9Efvqixt1LJn"
      }
    },
    {
      "cell_type": "code",
      "source": [
        "! pip install git+https://github.com/lhotse-speech/lhotse"
      ],
      "metadata": {
        "colab": {
          "base_uri": "https://localhost:8080/",
          "height": 994
        },
        "id": "ChadKSXY08bO",
        "outputId": "bea69453-8dde-4b39-b50c-da2223716fc9"
      },
      "execution_count": 20,
      "outputs": [
        {
          "output_type": "stream",
          "name": "stdout",
          "text": [
            "Looking in indexes: https://pypi.org/simple, https://us-python.pkg.dev/colab-wheels/public/simple/\n",
            "Collecting git+https://github.com/lhotse-speech/lhotse\n",
            "  Cloning https://github.com/lhotse-speech/lhotse to /tmp/pip-req-build-l9zb7xgw\n",
            "  Running command git clone --filter=blob:none --quiet https://github.com/lhotse-speech/lhotse /tmp/pip-req-build-l9zb7xgw\n",
            "  Resolved https://github.com/lhotse-speech/lhotse to commit cbd7b2b3e57b0e97470fe015eca5eafa6bb85d5e\n",
            "  Installing build dependencies ... \u001b[?25l\u001b[?25hdone\n",
            "  Getting requirements to build wheel ... \u001b[?25l\u001b[?25hdone\n",
            "  Preparing metadata (pyproject.toml) ... \u001b[?25l\u001b[?25hdone\n",
            "Requirement already satisfied: click>=7.1.1 in /usr/local/lib/python3.10/dist-packages (from lhotse==1.15.0.dev0+git.cbd7b2b.clean) (8.1.3)\n",
            "Requirement already satisfied: numpy>=1.18.1 in /usr/local/lib/python3.10/dist-packages (from lhotse==1.15.0.dev0+git.cbd7b2b.clean) (1.24.3)\n",
            "Requirement already satisfied: tabulate>=0.8.1 in /usr/local/lib/python3.10/dist-packages (from lhotse==1.15.0.dev0+git.cbd7b2b.clean) (0.8.10)\n",
            "Requirement already satisfied: SoundFile>=0.10 in /usr/local/lib/python3.10/dist-packages (from lhotse==1.15.0.dev0+git.cbd7b2b.clean) (0.12.1)\n",
            "Requirement already satisfied: audioread>=2.1.9 in /usr/local/lib/python3.10/dist-packages (from lhotse==1.15.0.dev0+git.cbd7b2b.clean) (3.0.0)\n",
            "Collecting intervaltree>=3.1.0\n",
            "  Downloading intervaltree-3.1.0.tar.gz (32 kB)\n",
            "  Preparing metadata (setup.py) ... \u001b[?25l\u001b[?25hdone\n",
            "Requirement already satisfied: pyyaml>=5.3.1 in /usr/local/lib/python3.10/dist-packages (from lhotse==1.15.0.dev0+git.cbd7b2b.clean) (6.0)\n",
            "Requirement already satisfied: tqdm in /usr/local/lib/python3.10/dist-packages (from lhotse==1.15.0.dev0+git.cbd7b2b.clean) (4.65.0)\n",
            "Requirement already satisfied: torch in /usr/local/lib/python3.10/dist-packages (from lhotse==1.15.0.dev0+git.cbd7b2b.clean) (1.13.1)\n",
            "Collecting cytoolz>=0.10.1\n",
            "  Downloading cytoolz-0.12.1-cp310-cp310-manylinux_2_17_x86_64.manylinux2014_x86_64.whl (1.8 MB)\n",
            "\u001b[2K     \u001b[90m━━━━━━━━━━━━━━━━━━━━━━━━━━━━━━━━━━━━━━━━\u001b[0m \u001b[32m1.8/1.8 MB\u001b[0m \u001b[31m28.9 MB/s\u001b[0m eta \u001b[36m0:00:00\u001b[0m\n",
            "\u001b[?25hCollecting lilcom>=1.1.0\n",
            "  Downloading lilcom-1.6-cp310-cp310-manylinux_2_17_x86_64.manylinux2014_x86_64.whl (87 kB)\n",
            "\u001b[2K     \u001b[90m━━━━━━━━━━━━━━━━━━━━━━━━━━━━━━━━━━━━━━━━\u001b[0m \u001b[32m87.2/87.2 kB\u001b[0m \u001b[31m10.6 MB/s\u001b[0m eta \u001b[36m0:00:00\u001b[0m\n",
            "\u001b[?25hCollecting dataclasses\n",
            "  Downloading dataclasses-0.6-py3-none-any.whl (14 kB)\n",
            "Requirement already satisfied: torchaudio in /usr/local/lib/python3.10/dist-packages (from lhotse==1.15.0.dev0+git.cbd7b2b.clean) (0.13.1)\n",
            "Requirement already satisfied: packaging in /usr/local/lib/python3.10/dist-packages (from lhotse==1.15.0.dev0+git.cbd7b2b.clean) (23.1)\n",
            "Requirement already satisfied: toolz>=0.8.0 in /usr/local/lib/python3.10/dist-packages (from cytoolz>=0.10.1->lhotse==1.15.0.dev0+git.cbd7b2b.clean) (0.12.0)\n",
            "Requirement already satisfied: sortedcontainers<3.0,>=2.0 in /usr/local/lib/python3.10/dist-packages (from intervaltree>=3.1.0->lhotse==1.15.0.dev0+git.cbd7b2b.clean) (2.4.0)\n",
            "Requirement already satisfied: cffi>=1.0 in /usr/local/lib/python3.10/dist-packages (from SoundFile>=0.10->lhotse==1.15.0.dev0+git.cbd7b2b.clean) (1.15.1)\n",
            "Requirement already satisfied: nvidia-cuda-nvrtc-cu11==11.7.99 in /usr/local/lib/python3.10/dist-packages (from torch->lhotse==1.15.0.dev0+git.cbd7b2b.clean) (11.7.99)\n",
            "Requirement already satisfied: nvidia-cublas-cu11==11.10.3.66 in /usr/local/lib/python3.10/dist-packages (from torch->lhotse==1.15.0.dev0+git.cbd7b2b.clean) (11.10.3.66)\n",
            "Requirement already satisfied: typing-extensions in /usr/local/lib/python3.10/dist-packages (from torch->lhotse==1.15.0.dev0+git.cbd7b2b.clean) (4.5.0)\n",
            "Requirement already satisfied: nvidia-cuda-runtime-cu11==11.7.99 in /usr/local/lib/python3.10/dist-packages (from torch->lhotse==1.15.0.dev0+git.cbd7b2b.clean) (11.7.99)\n",
            "Requirement already satisfied: nvidia-cudnn-cu11==8.5.0.96 in /usr/local/lib/python3.10/dist-packages (from torch->lhotse==1.15.0.dev0+git.cbd7b2b.clean) (8.5.0.96)\n",
            "Requirement already satisfied: setuptools in /usr/local/lib/python3.10/dist-packages (from nvidia-cublas-cu11==11.10.3.66->torch->lhotse==1.15.0.dev0+git.cbd7b2b.clean) (67.7.2)\n",
            "Requirement already satisfied: wheel in /usr/local/lib/python3.10/dist-packages (from nvidia-cublas-cu11==11.10.3.66->torch->lhotse==1.15.0.dev0+git.cbd7b2b.clean) (0.40.0)\n",
            "Requirement already satisfied: pycparser in /usr/local/lib/python3.10/dist-packages (from cffi>=1.0->SoundFile>=0.10->lhotse==1.15.0.dev0+git.cbd7b2b.clean) (2.21)\n",
            "Building wheels for collected packages: lhotse, intervaltree\n",
            "  Building wheel for lhotse (pyproject.toml) ... \u001b[?25l\u001b[?25hdone\n",
            "  Created wheel for lhotse: filename=lhotse-1.15.0.dev0+git.cbd7b2b.clean-py3-none-any.whl size=639690 sha256=cb57064e9642c7cd729913662b004ba2f7b0341b362a6c9384dd79ed8f81a2e9\n",
            "  Stored in directory: /tmp/pip-ephem-wheel-cache-hldx0vyb/wheels/df/b0/ff/cce0f16868fcdbee2088f3acf9f249dc90117d5f5dd9b6f69d\n",
            "  Building wheel for intervaltree (setup.py) ... \u001b[?25l\u001b[?25hdone\n",
            "  Created wheel for intervaltree: filename=intervaltree-3.1.0-py2.py3-none-any.whl size=26114 sha256=b28db2cd99388328a3056371cc3ac0cfb45da009dadd922713a31e3f3e3ca7a6\n",
            "  Stored in directory: /root/.cache/pip/wheels/fa/80/8c/43488a924a046b733b64de3fac99252674c892a4c3801c0a61\n",
            "Successfully built lhotse intervaltree\n",
            "Installing collected packages: dataclasses, lilcom, intervaltree, cytoolz, lhotse\n",
            "Successfully installed cytoolz-0.12.1 dataclasses-0.6 intervaltree-3.1.0 lhotse-1.15.0.dev0+git.cbd7b2b.clean lilcom-1.6\n"
          ]
        },
        {
          "output_type": "display_data",
          "data": {
            "application/vnd.colab-display-data+json": {
              "pip_warning": {
                "packages": [
                  "dataclasses"
                ]
              }
            }
          },
          "metadata": {}
        }
      ]
    },
    {
      "cell_type": "code",
      "source": [
        "! cd icefall && \\\n",
        "  ! pip install -r requirements.txt"
      ],
      "metadata": {
        "colab": {
          "base_uri": "https://localhost:8080/"
        },
        "id": "dGUXMK_31bj-",
        "outputId": "4825360f-abbf-42ad-d871-0fc8198650c5"
      },
      "execution_count": 21,
      "outputs": [
        {
          "output_type": "stream",
          "name": "stdout",
          "text": [
            "Looking in indexes: https://pypi.org/simple, https://us-python.pkg.dev/colab-wheels/public/simple/\n",
            "Collecting kaldifst\n",
            "  Downloading kaldifst-1.6-cp310-cp310-manylinux_2_17_x86_64.manylinux2014_x86_64.whl (9.1 MB)\n",
            "\u001b[2K     \u001b[90m━━━━━━━━━━━━━━━━━━━━━━━━━━━━━━━━━━━━━━━━\u001b[0m \u001b[32m9.1/9.1 MB\u001b[0m \u001b[31m60.8 MB/s\u001b[0m eta \u001b[36m0:00:00\u001b[0m\n",
            "\u001b[?25hCollecting kaldilm\n",
            "  Downloading kaldilm-1.15-cp310-cp310-manylinux_2_17_x86_64.manylinux2014_x86_64.whl (1.0 MB)\n",
            "\u001b[2K     \u001b[90m━━━━━━━━━━━━━━━━━━━━━━━━━━━━━━━━━━━━━━━━\u001b[0m \u001b[32m1.0/1.0 MB\u001b[0m \u001b[31m57.1 MB/s\u001b[0m eta \u001b[36m0:00:00\u001b[0m\n",
            "\u001b[?25hRequirement already satisfied: kaldialign in /usr/local/lib/python3.10/dist-packages (from -r requirements.txt (line 3)) (0.6)\n",
            "Collecting sentencepiece>=0.1.96\n",
            "  Downloading sentencepiece-0.1.98-cp310-cp310-manylinux_2_17_x86_64.manylinux2014_x86_64.whl (1.3 MB)\n",
            "\u001b[2K     \u001b[90m━━━━━━━━━━━━━━━━━━━━━━━━━━━━━━━━━━━━━━━━\u001b[0m \u001b[32m1.3/1.3 MB\u001b[0m \u001b[31m67.0 MB/s\u001b[0m eta \u001b[36m0:00:00\u001b[0m\n",
            "\u001b[?25hRequirement already satisfied: tensorboard in /usr/local/lib/python3.10/dist-packages (from -r requirements.txt (line 5)) (2.12.2)\n",
            "Collecting typeguard\n",
            "  Downloading typeguard-3.0.2-py3-none-any.whl (30 kB)\n",
            "Collecting dill\n",
            "  Downloading dill-0.3.6-py3-none-any.whl (110 kB)\n",
            "\u001b[2K     \u001b[90m━━━━━━━━━━━━━━━━━━━━━━━━━━━━━━━━━━━━━━\u001b[0m \u001b[32m110.5/110.5 kB\u001b[0m \u001b[31m13.4 MB/s\u001b[0m eta \u001b[36m0:00:00\u001b[0m\n",
            "\u001b[?25hRequirement already satisfied: google-auth-oauthlib<1.1,>=0.5 in /usr/local/lib/python3.10/dist-packages (from tensorboard->-r requirements.txt (line 5)) (1.0.0)\n",
            "Requirement already satisfied: grpcio>=1.48.2 in /usr/local/lib/python3.10/dist-packages (from tensorboard->-r requirements.txt (line 5)) (1.54.0)\n",
            "Requirement already satisfied: setuptools>=41.0.0 in /usr/local/lib/python3.10/dist-packages (from tensorboard->-r requirements.txt (line 5)) (67.7.2)\n",
            "Requirement already satisfied: markdown>=2.6.8 in /usr/local/lib/python3.10/dist-packages (from tensorboard->-r requirements.txt (line 5)) (3.4.3)\n",
            "Requirement already satisfied: absl-py>=0.4 in /usr/local/lib/python3.10/dist-packages (from tensorboard->-r requirements.txt (line 5)) (1.4.0)\n",
            "Requirement already satisfied: wheel>=0.26 in /usr/local/lib/python3.10/dist-packages (from tensorboard->-r requirements.txt (line 5)) (0.40.0)\n",
            "Requirement already satisfied: werkzeug>=1.0.1 in /usr/local/lib/python3.10/dist-packages (from tensorboard->-r requirements.txt (line 5)) (2.3.0)\n",
            "Requirement already satisfied: google-auth<3,>=1.6.3 in /usr/local/lib/python3.10/dist-packages (from tensorboard->-r requirements.txt (line 5)) (2.17.3)\n",
            "Requirement already satisfied: tensorboard-data-server<0.8.0,>=0.7.0 in /usr/local/lib/python3.10/dist-packages (from tensorboard->-r requirements.txt (line 5)) (0.7.0)\n",
            "Requirement already satisfied: protobuf>=3.19.6 in /usr/local/lib/python3.10/dist-packages (from tensorboard->-r requirements.txt (line 5)) (3.20.3)\n",
            "Requirement already satisfied: numpy>=1.12.0 in /usr/local/lib/python3.10/dist-packages (from tensorboard->-r requirements.txt (line 5)) (1.24.3)\n",
            "Requirement already satisfied: requests<3,>=2.21.0 in /usr/local/lib/python3.10/dist-packages (from tensorboard->-r requirements.txt (line 5)) (2.27.1)\n",
            "Requirement already satisfied: tensorboard-plugin-wit>=1.6.0 in /usr/local/lib/python3.10/dist-packages (from tensorboard->-r requirements.txt (line 5)) (1.8.1)\n",
            "Requirement already satisfied: typing-extensions>=4.4.0 in /usr/local/lib/python3.10/dist-packages (from typeguard->-r requirements.txt (line 6)) (4.5.0)\n",
            "Requirement already satisfied: cachetools<6.0,>=2.0.0 in /usr/local/lib/python3.10/dist-packages (from google-auth<3,>=1.6.3->tensorboard->-r requirements.txt (line 5)) (5.3.0)\n",
            "Requirement already satisfied: pyasn1-modules>=0.2.1 in /usr/local/lib/python3.10/dist-packages (from google-auth<3,>=1.6.3->tensorboard->-r requirements.txt (line 5)) (0.3.0)\n",
            "Requirement already satisfied: six>=1.9.0 in /usr/local/lib/python3.10/dist-packages (from google-auth<3,>=1.6.3->tensorboard->-r requirements.txt (line 5)) (1.16.0)\n",
            "Requirement already satisfied: rsa<5,>=3.1.4 in /usr/local/lib/python3.10/dist-packages (from google-auth<3,>=1.6.3->tensorboard->-r requirements.txt (line 5)) (4.9)\n",
            "Requirement already satisfied: requests-oauthlib>=0.7.0 in /usr/local/lib/python3.10/dist-packages (from google-auth-oauthlib<1.1,>=0.5->tensorboard->-r requirements.txt (line 5)) (1.3.1)\n",
            "Requirement already satisfied: idna<4,>=2.5 in /usr/local/lib/python3.10/dist-packages (from requests<3,>=2.21.0->tensorboard->-r requirements.txt (line 5)) (3.4)\n",
            "Requirement already satisfied: urllib3<1.27,>=1.21.1 in /usr/local/lib/python3.10/dist-packages (from requests<3,>=2.21.0->tensorboard->-r requirements.txt (line 5)) (1.26.15)\n",
            "Requirement already satisfied: charset-normalizer~=2.0.0 in /usr/local/lib/python3.10/dist-packages (from requests<3,>=2.21.0->tensorboard->-r requirements.txt (line 5)) (2.0.12)\n",
            "Requirement already satisfied: certifi>=2017.4.17 in /usr/local/lib/python3.10/dist-packages (from requests<3,>=2.21.0->tensorboard->-r requirements.txt (line 5)) (2022.12.7)\n",
            "Requirement already satisfied: MarkupSafe>=2.1.1 in /usr/local/lib/python3.10/dist-packages (from werkzeug>=1.0.1->tensorboard->-r requirements.txt (line 5)) (2.1.2)\n",
            "Requirement already satisfied: pyasn1<0.6.0,>=0.4.6 in /usr/local/lib/python3.10/dist-packages (from pyasn1-modules>=0.2.1->google-auth<3,>=1.6.3->tensorboard->-r requirements.txt (line 5)) (0.5.0)\n",
            "Requirement already satisfied: oauthlib>=3.0.0 in /usr/local/lib/python3.10/dist-packages (from requests-oauthlib>=0.7.0->google-auth-oauthlib<1.1,>=0.5->tensorboard->-r requirements.txt (line 5)) (3.2.2)\n",
            "Installing collected packages: sentencepiece, kaldilm, kaldifst, typeguard, dill\n",
            "Successfully installed dill-0.3.6 kaldifst-1.6 kaldilm-1.15 sentencepiece-0.1.98 typeguard-3.0.2\n"
          ]
        }
      ]
    },
    {
      "cell_type": "code",
      "source": [
        "import os\n",
        "\n",
        "!pwd\n",
        "! echo $PYTHONPATH\n",
        "\n",
        "\n",
        "os.environ['PYTHONPATH'] += \":/content/icefall\"\n",
        "\n",
        "! echo $PYTHONPATH"
      ],
      "metadata": {
        "id": "bmPc0uJ9LFAw",
        "outputId": "aff89d74-aab5-43ae-c860-474712174bcb",
        "colab": {
          "base_uri": "https://localhost:8080/"
        }
      },
      "execution_count": 22,
      "outputs": [
        {
          "output_type": "stream",
          "name": "stdout",
          "text": [
            "/content\n",
            "/env/python\n",
            "/env/python:/content/icefall\n"
          ]
        }
      ]
    },
    {
      "cell_type": "code",
      "source": [
        "#export PYTHONPATH=/content:$PYTHONPATH"
      ],
      "metadata": {
        "id": "4-MaMT-7K24T"
      },
      "execution_count": null,
      "outputs": []
    },
    {
      "cell_type": "markdown",
      "metadata": {
        "id": "QFMhu2rfDj1z"
      },
      "source": [
        "## Download pre-trained Tdnn-Lstm CTC model\n",
        "\n",
        "To make the following steps easier, we decide to download the model\n",
        "to `icefall/egs/librispeech/ASR/tmp-lstm`"
      ]
    },
    {
      "cell_type": "code",
      "execution_count": null,
      "metadata": {
        "colab": {
          "base_uri": "https://localhost:8080/"
        },
        "id": "2vHkv7etENRm",
        "outputId": "7c85c633-90c1-45e1-c857-611e0eff2a76"
      },
      "outputs": [
        {
          "output_type": "stream",
          "name": "stdout",
          "text": [
            "Selecting previously unselected package libopencore-amrnb0:amd64.\n",
            "(Reading database ... 122349 files and directories currently installed.)\n",
            "Preparing to unpack .../0-libopencore-amrnb0_0.1.5-1_amd64.deb ...\n",
            "Unpacking libopencore-amrnb0:amd64 (0.1.5-1) ...\n",
            "Selecting previously unselected package libopencore-amrwb0:amd64.\n",
            "Preparing to unpack .../1-libopencore-amrwb0_0.1.5-1_amd64.deb ...\n",
            "Unpacking libopencore-amrwb0:amd64 (0.1.5-1) ...\n",
            "Selecting previously unselected package libsox3:amd64.\n",
            "Preparing to unpack .../2-libsox3_14.4.2+git20190427-2+deb11u2build0.20.04.1_amd64.deb ...\n",
            "Unpacking libsox3:amd64 (14.4.2+git20190427-2+deb11u2build0.20.04.1) ...\n",
            "Selecting previously unselected package libsox-fmt-alsa:amd64.\n",
            "Preparing to unpack .../3-libsox-fmt-alsa_14.4.2+git20190427-2+deb11u2build0.20.04.1_amd64.deb ...\n",
            "Unpacking libsox-fmt-alsa:amd64 (14.4.2+git20190427-2+deb11u2build0.20.04.1) ...\n",
            "Selecting previously unselected package libsox-fmt-base:amd64.\n",
            "Preparing to unpack .../4-libsox-fmt-base_14.4.2+git20190427-2+deb11u2build0.20.04.1_amd64.deb ...\n",
            "Unpacking libsox-fmt-base:amd64 (14.4.2+git20190427-2+deb11u2build0.20.04.1) ...\n",
            "Selecting previously unselected package sox.\n",
            "Preparing to unpack .../5-sox_14.4.2+git20190427-2+deb11u2build0.20.04.1_amd64.deb ...\n",
            "Unpacking sox (14.4.2+git20190427-2+deb11u2build0.20.04.1) ...\n",
            "Selecting previously unselected package tree.\n",
            "Preparing to unpack .../6-tree_1.8.0-1_amd64.deb ...\n",
            "Unpacking tree (1.8.0-1) ...\n",
            "Setting up libsox3:amd64 (14.4.2+git20190427-2+deb11u2build0.20.04.1) ...\n",
            "Setting up libopencore-amrwb0:amd64 (0.1.5-1) ...\n",
            "Setting up tree (1.8.0-1) ...\n",
            "Setting up libsox-fmt-alsa:amd64 (14.4.2+git20190427-2+deb11u2build0.20.04.1) ...\n",
            "Setting up libopencore-amrnb0:amd64 (0.1.5-1) ...\n",
            "Setting up libsox-fmt-base:amd64 (14.4.2+git20190427-2+deb11u2build0.20.04.1) ...\n",
            "Setting up sox (14.4.2+git20190427-2+deb11u2build0.20.04.1) ...\n",
            "Processing triggers for libc-bin (2.31-0ubuntu9.9) ...\n",
            "Processing triggers for man-db (2.9.1-1) ...\n",
            "Processing triggers for mime-support (3.64ubuntu1) ...\n"
          ]
        }
      ],
      "source": [
        "! apt-get install -y -qq tree sox git-lfs"
      ]
    },
    {
      "cell_type": "markdown",
      "metadata": {
        "id": "_WU5-8eLPqx3"
      },
      "source": [
        "**CAUTION**: You have to run `sudo apt-get install git-lfs`\n",
        "and `git lfs install` in order to download the pre-trained model."
      ]
    },
    {
      "cell_type": "code",
      "execution_count": null,
      "metadata": {
        "colab": {
          "background_save": true
        },
        "id": "F8B6pvLxQAmQ"
      },
      "outputs": [],
      "source": [
        "! cd icefall/egs/librispeech/ASR && rm -rf tmp-lstm"
      ]
    },
    {
      "cell_type": "code",
      "execution_count": null,
      "metadata": {
        "id": "fQA11UBCDeQ-"
      },
      "outputs": [],
      "source": [
        "! cd icefall/egs/librispeech/ASR && \\\n",
        "  mkdir tmp-lstm && \\\n",
        "  cd tmp-lstm && \\\n",
        "  git lfs install && \\\n",
        "  git clone https://huggingface.co/pkufool/icefall_asr_librispeech_tdnn-lstm_ctc && \\\n",
        "  cd icefall_asr_librispeech_tdnn-lstm_ctc && \\\n",
        "  cd ../.. && \\\n",
        "  tree tmp-lstm"
      ]
    },
    {
      "cell_type": "code",
      "execution_count": null,
      "metadata": {
        "id": "G5xnm3jADoLm"
      },
      "outputs": [],
      "source": [
        "! ffprobe -show_format icefall/egs/librispeech/ASR/tmp-lstm/icefall_asr_librispeech_tdnn-lstm_ctc/test_wavs/1089-134686-0001.flac"
      ]
    },
    {
      "cell_type": "code",
      "execution_count": null,
      "metadata": {
        "id": "W188JM7hdDHE"
      },
      "outputs": [],
      "source": [
        "! ffprobe -show_format icefall/egs/librispeech/ASR/tmp-lstm/icefall_asr_librispeech_tdnn-lstm_ctc/test_wavs/1221-135766-0001.flac"
      ]
    },
    {
      "cell_type": "code",
      "execution_count": null,
      "metadata": {
        "id": "gaz8hvB9dMx5"
      },
      "outputs": [],
      "source": [
        "! ffprobe -show_format icefall/egs/librispeech/ASR/tmp-lstm/icefall_asr_librispeech_tdnn-lstm_ctc/test_wavs/1221-135766-0002.flac"
      ]
    },
    {
      "cell_type": "markdown",
      "metadata": {
        "id": "Gcoh2MP4ZhA6"
      },
      "source": [
        "Due to limited memory provided by Colab, you have to upgrade to Colab Pro\n",
        "to run `HLG decoding + LM rescoring`."
      ]
    },
    {
      "cell_type": "code",
      "execution_count": null,
      "metadata": {
        "id": "Ab1-qbkiemJy",
        "outputId": "790e7a9f-055d-4d68-b7fa-e515dd52b603",
        "colab": {
          "base_uri": "https://localhost:8080/"
        }
      },
      "outputs": [
        {
          "output_type": "stream",
          "name": "stdout",
          "text": [
            "Looking in indexes: https://pypi.org/simple, https://us-python.pkg.dev/colab-wheels/public/simple/\n",
            "Requirement already satisfied: lhotse in /usr/local/lib/python3.9/dist-packages (1.14.0.dev0+git.76ae055.clean)\n",
            "Requirement already satisfied: sentencepiece in /usr/local/lib/python3.9/dist-packages (0.1.98)\n",
            "Requirement already satisfied: tqdm in /usr/local/lib/python3.9/dist-packages (from lhotse) (4.65.0)\n",
            "Requirement already satisfied: packaging in /usr/local/lib/python3.9/dist-packages (from lhotse) (23.1)\n",
            "Requirement already satisfied: dataclasses in /usr/local/lib/python3.9/dist-packages (from lhotse) (0.6)\n",
            "Requirement already satisfied: audioread>=2.1.9 in /usr/local/lib/python3.9/dist-packages (from lhotse) (3.0.0)\n",
            "Requirement already satisfied: torchaudio in /usr/local/lib/python3.9/dist-packages (from lhotse) (0.13.1)\n",
            "Requirement already satisfied: tabulate>=0.8.1 in /usr/local/lib/python3.9/dist-packages (from lhotse) (0.8.10)\n",
            "Requirement already satisfied: torch in /usr/local/lib/python3.9/dist-packages (from lhotse) (1.13.1)\n",
            "Requirement already satisfied: lilcom>=1.1.0 in /usr/local/lib/python3.9/dist-packages (from lhotse) (1.6)\n",
            "Requirement already satisfied: cytoolz>=0.10.1 in /usr/local/lib/python3.9/dist-packages (from lhotse) (0.12.1)\n",
            "Requirement already satisfied: SoundFile>=0.10 in /usr/local/lib/python3.9/dist-packages (from lhotse) (0.12.1)\n",
            "Requirement already satisfied: click>=7.1.1 in /usr/local/lib/python3.9/dist-packages (from lhotse) (8.1.3)\n",
            "Requirement already satisfied: pyyaml>=5.3.1 in /usr/local/lib/python3.9/dist-packages (from lhotse) (6.0)\n",
            "Requirement already satisfied: intervaltree>=3.1.0 in /usr/local/lib/python3.9/dist-packages (from lhotse) (3.1.0)\n",
            "Requirement already satisfied: numpy>=1.18.1 in /usr/local/lib/python3.9/dist-packages (from lhotse) (1.22.4)\n",
            "Requirement already satisfied: toolz>=0.8.0 in /usr/local/lib/python3.9/dist-packages (from cytoolz>=0.10.1->lhotse) (0.12.0)\n",
            "Requirement already satisfied: sortedcontainers<3.0,>=2.0 in /usr/local/lib/python3.9/dist-packages (from intervaltree>=3.1.0->lhotse) (2.4.0)\n",
            "Requirement already satisfied: cffi>=1.0 in /usr/local/lib/python3.9/dist-packages (from SoundFile>=0.10->lhotse) (1.15.1)\n",
            "Requirement already satisfied: nvidia-cuda-runtime-cu11==11.7.99 in /usr/local/lib/python3.9/dist-packages (from torch->lhotse) (11.7.99)\n",
            "Requirement already satisfied: nvidia-cublas-cu11==11.10.3.66 in /usr/local/lib/python3.9/dist-packages (from torch->lhotse) (11.10.3.66)\n",
            "Requirement already satisfied: nvidia-cuda-nvrtc-cu11==11.7.99 in /usr/local/lib/python3.9/dist-packages (from torch->lhotse) (11.7.99)\n",
            "Requirement already satisfied: nvidia-cudnn-cu11==8.5.0.96 in /usr/local/lib/python3.9/dist-packages (from torch->lhotse) (8.5.0.96)\n",
            "Requirement already satisfied: typing-extensions in /usr/local/lib/python3.9/dist-packages (from torch->lhotse) (4.5.0)\n",
            "Requirement already satisfied: wheel in /usr/local/lib/python3.9/dist-packages (from nvidia-cublas-cu11==11.10.3.66->torch->lhotse) (0.40.0)\n",
            "Requirement already satisfied: setuptools in /usr/local/lib/python3.9/dist-packages (from nvidia-cublas-cu11==11.10.3.66->torch->lhotse) (67.7.2)\n",
            "Requirement already satisfied: pycparser in /usr/local/lib/python3.9/dist-packages (from cffi>=1.0->SoundFile>=0.10->lhotse) (2.21)\n"
          ]
        }
      ],
      "source": [
        "! pip install lhotse sentencepiece"
      ]
    },
    {
      "cell_type": "markdown",
      "metadata": {
        "id": "EO00BEDjeNna"
      },
      "source": [
        "## HLG decoding (1best)"
      ]
    },
    {
      "cell_type": "code",
      "execution_count": null,
      "metadata": {
        "colab": {
          "base_uri": "https://localhost:8080/"
        },
        "id": "Zj1Z60mceap5",
        "outputId": "c966cfd3-8bbd-4aa5-e919-068a6c447eca"
      },
      "outputs": [
        {
          "name": "stdout",
          "output_type": "stream",
          "text": [
            "/usr/local/lib/python3.7/dist-packages/torchaudio/backend/utils.py:54: UserWarning: \"sox\" backend is being deprecated. The default backend will be changed to \"sox_io\" backend in 0.8.0 and \"sox\" backend will be removed in 0.9.0. Please migrate to \"sox_io\" backend. Please refer to https://github.com/pytorch/audio/issues/903 for the detail.\n",
            "  '\"sox\" backend is being deprecated. '\n",
            "2022-11-02 14:32:26,910 INFO [pretrained.py:162] {'feature_dim': 80, 'subsampling_factor': 3, 'num_classes': 72, 'sample_rate': 16000, 'search_beam': 20, 'output_beam': 5, 'min_active_states': 30, 'max_active_states': 10000, 'use_double_scores': True, 'checkpoint': './tmp-lstm/icefall_asr_librispeech_tdnn-lstm_ctc/exp/pretrained.pt', 'words_file': './tmp-lstm/icefall_asr_librispeech_tdnn-lstm_ctc/data/lang_phone/words.txt', 'HLG': './tmp-lstm/icefall_asr_librispeech_tdnn-lstm_ctc/data/lang_phone/HLG.pt', 'method': '1best', 'G': None, 'ngram_lm_scale': 0.8, 'sound_files': ['./tmp-lstm/icefall_asr_librispeech_tdnn-lstm_ctc/test_wavs/1089-134686-0001.flac', './tmp-lstm/icefall_asr_librispeech_tdnn-lstm_ctc/test_wavs/1221-135766-0001.flac', './tmp-lstm/icefall_asr_librispeech_tdnn-lstm_ctc/test_wavs/1221-135766-0002.flac']}\n",
            "2022-11-02 14:32:26,987 INFO [pretrained.py:168] device: cuda:0\n",
            "2022-11-02 14:32:26,987 INFO [pretrained.py:170] Creating model\n",
            "2022-11-02 14:32:36,150 INFO [pretrained.py:182] Loading HLG from ./tmp-lstm/icefall_asr_librispeech_tdnn-lstm_ctc/data/lang_phone/HLG.pt\n",
            "tcmalloc: large alloc 1585831936 bytes == 0x9cce6000 @  0x7f7124c8fb6b 0x7f7124caf379 0x7f708480d74e 0x7f708480f7b6 0x7f7110ac29cd 0x7f7120180720 0x7f711fe052d0 0x58f6e4 0x590691 0x510946 0x5b575e 0x58ff2e 0x50c4fc 0x5b575e 0x4bad99 0x59178d 0x591ac9 0x5ef48d 0x4fef15 0x4d2197 0x51041f 0x5b575e 0x4bad0a 0x50e18c 0x5b4ee6 0x58ff2e 0x50d482 0x5b575e 0x58ff2e 0x50c4fc 0x5b4ee6\n",
            "2022-11-02 14:32:53,624 INFO [pretrained.py:199] Constructing Fbank computer\n",
            "2022-11-02 14:32:53,632 INFO [pretrained.py:209] Reading sound files: ['./tmp-lstm/icefall_asr_librispeech_tdnn-lstm_ctc/test_wavs/1089-134686-0001.flac', './tmp-lstm/icefall_asr_librispeech_tdnn-lstm_ctc/test_wavs/1221-135766-0001.flac', './tmp-lstm/icefall_asr_librispeech_tdnn-lstm_ctc/test_wavs/1221-135766-0002.flac']\n",
            "2022-11-02 14:32:53,678 INFO [pretrained.py:215] Decoding started\n",
            "2022-11-02 14:32:54,237 INFO [pretrained.py:245] Use HLG decoding\n",
            "2022-11-02 14:32:54,532 INFO [pretrained.py:266] \n",
            "./tmp-lstm/icefall_asr_librispeech_tdnn-lstm_ctc/test_wavs/1089-134686-0001.flac:\n",
            "AFTER EARLY NIGHTFALL THE YELLOW LAMPS WOULD LIGHT UP HERE AND THERE THE SQUALID QUARTER OF THE BROTHELS\n",
            "\n",
            "./tmp-lstm/icefall_asr_librispeech_tdnn-lstm_ctc/test_wavs/1221-135766-0001.flac:\n",
            "GOD AS A DIRECT CONSEQUENCE OF THE SIN WHICH MAN THUS PUNISHED HAD GIVEN HER A LOVELY CHILD WHOSE PLACE WAS ON THAT SAME DISHONORED BOSOM TO CONNECT HER PARENT FOREVER WITH THE RACE AND DESCENT OF MORTALS AND TO BE FINALLY A BLESSED SOUL IN HEAVEN\n",
            "\n",
            "./tmp-lstm/icefall_asr_librispeech_tdnn-lstm_ctc/test_wavs/1221-135766-0002.flac:\n",
            "YET THESE THOUGHTS AFFECTED HESTER PRYNNE LESS WITH HOPE THAN APPREHENSION\n",
            "\n",
            "\n",
            "2022-11-02 14:32:54,532 INFO [pretrained.py:268] Decoding Done\n"
          ]
        }
      ],
      "source": [
        "! cd icefall/egs/librispeech/ASR && \\\n",
        "    PYTHONPATH=/content/icefall python3 ./tdnn_lstm_ctc/pretrained.py \\\n",
        "      --method 1best \\\n",
        "      --checkpoint ./tmp-lstm/icefall_asr_librispeech_tdnn-lstm_ctc/exp/pretrained.pt \\\n",
        "      --words-file ./tmp-lstm/icefall_asr_librispeech_tdnn-lstm_ctc/data/lang_phone/words.txt \\\n",
        "      --HLG ./tmp-lstm/icefall_asr_librispeech_tdnn-lstm_ctc/data/lang_phone/HLG.pt \\\n",
        "      ./tmp-lstm/icefall_asr_librispeech_tdnn-lstm_ctc/test_wavs/1089-134686-0001.flac \\\n",
        "      ./tmp-lstm/icefall_asr_librispeech_tdnn-lstm_ctc/test_wavs/1221-135766-0001.flac \\\n",
        "      ./tmp-lstm/icefall_asr_librispeech_tdnn-lstm_ctc/test_wavs/1221-135766-0002.flac "
      ]
    },
    {
      "cell_type": "markdown",
      "metadata": {
        "id": "V7olsM8AS1Oe"
      },
      "source": [
        "## HLG decoding + LM rescoring"
      ]
    },
    {
      "cell_type": "code",
      "execution_count": null,
      "metadata": {
        "colab": {
          "base_uri": "https://localhost:8080/"
        },
        "id": "xUqFYSQvFKau",
        "outputId": "24f6a023-8c2d-46c9-a1ea-97f8ff37b707"
      },
      "outputs": [
        {
          "name": "stdout",
          "output_type": "stream",
          "text": [
            "/usr/local/lib/python3.7/dist-packages/torchaudio/backend/utils.py:54: UserWarning: \"sox\" backend is being deprecated. The default backend will be changed to \"sox_io\" backend in 0.8.0 and \"sox\" backend will be removed in 0.9.0. Please migrate to \"sox_io\" backend. Please refer to https://github.com/pytorch/audio/issues/903 for the detail.\n",
            "  '\"sox\" backend is being deprecated. '\n",
            "2022-11-02 14:35:30,881 INFO [pretrained.py:162] {'feature_dim': 80, 'subsampling_factor': 3, 'num_classes': 72, 'sample_rate': 16000, 'search_beam': 20, 'output_beam': 5, 'min_active_states': 30, 'max_active_states': 10000, 'use_double_scores': True, 'checkpoint': './tmp-lstm/icefall_asr_librispeech_tdnn-lstm_ctc/exp/pretrained.pt', 'words_file': './tmp-lstm/icefall_asr_librispeech_tdnn-lstm_ctc/data/lang_phone/words.txt', 'HLG': './tmp-lstm/icefall_asr_librispeech_tdnn-lstm_ctc/data/lang_phone/HLG.pt', 'method': 'whole-lattice-rescoring', 'G': './tmp-lstm/icefall_asr_librispeech_tdnn-lstm_ctc/data/lm/G_4_gram.pt', 'ngram_lm_scale': 0.08, 'sound_files': ['./tmp-lstm/icefall_asr_librispeech_tdnn-lstm_ctc/test_wavs/1089-134686-0001.flac', './tmp-lstm/icefall_asr_librispeech_tdnn-lstm_ctc/test_wavs/1221-135766-0001.flac', './tmp-lstm/icefall_asr_librispeech_tdnn-lstm_ctc/test_wavs/1221-135766-0002.flac']}\n",
            "2022-11-02 14:35:30,966 INFO [pretrained.py:168] device: cuda:0\n",
            "2022-11-02 14:35:30,966 INFO [pretrained.py:170] Creating model\n",
            "2022-11-02 14:35:40,105 INFO [pretrained.py:182] Loading HLG from ./tmp-lstm/icefall_asr_librispeech_tdnn-lstm_ctc/data/lang_phone/HLG.pt\n",
            "tcmalloc: large alloc 1585831936 bytes == 0x9e0b4000 @  0x7f296829cb6b 0x7f29682bc379 0x7f28c7e1a74e 0x7f28c7e1c7b6 0x7f29540cf9cd 0x7f296378d720 0x7f29634122d0 0x58f6e4 0x590691 0x510946 0x5b575e 0x58ff2e 0x50c4fc 0x5b575e 0x4bad99 0x59178d 0x591ac9 0x5ef48d 0x4fef15 0x4d2197 0x51041f 0x5b575e 0x4bad0a 0x50e18c 0x5b4ee6 0x58ff2e 0x50d482 0x5b575e 0x58ff2e 0x50c4fc 0x5b4ee6\n",
            "2022-11-02 14:35:56,251 INFO [pretrained.py:190] Loading G from ./tmp-lstm/icefall_asr_librispeech_tdnn-lstm_ctc/data/lm/G_4_gram.pt\n",
            "tcmalloc: large alloc 3700957184 bytes == 0x7f263f67e000 @  0x7f296829cb6b 0x7f29682bc379 0x7f28c7e1a74e 0x7f28c7e1c7b6 0x7f29540cf9cd 0x7f296378d720 0x7f29634122d0 0x58f6e4 0x590691 0x510946 0x5b575e 0x58ff2e 0x50c4fc 0x5b575e 0x4bad99 0x59178d 0x591ac9 0x5ef48d 0x4fef15 0x4d2197 0x51041f 0x5b575e 0x4bad0a 0x50e18c 0x5b4ee6 0x58ff2e 0x50d482 0x5b575e 0x58ff2e 0x50c4fc 0x5b4ee6\n",
            "^C\n"
          ]
        }
      ],
      "source": [
        "! cd icefall/egs/librispeech/ASR && \\\n",
        "    PYTHONPATH=/content/icefall python3 ./tdnn_lstm_ctc/pretrained.py \\\n",
        "      --method whole-lattice-rescoring \\\n",
        "      --checkpoint ./tmp-lstm/icefall_asr_librispeech_tdnn-lstm_ctc/exp/pretrained.pt \\\n",
        "      --words-file ./tmp-lstm/icefall_asr_librispeech_tdnn-lstm_ctc/data/lang_phone/words.txt \\\n",
        "      --HLG ./tmp-lstm/icefall_asr_librispeech_tdnn-lstm_ctc/data/lang_phone/HLG.pt \\\n",
        "      --G ./tmp-lstm/icefall_asr_librispeech_tdnn-lstm_ctc/data/lm/G_4_gram.pt \\\n",
        "      --ngram-lm-scale 0.08 \\\n",
        "      ./tmp-lstm/icefall_asr_librispeech_tdnn-lstm_ctc/test_wavs/1089-134686-0001.flac \\\n",
        "      ./tmp-lstm/icefall_asr_librispeech_tdnn-lstm_ctc/test_wavs/1221-135766-0001.flac \\\n",
        "      ./tmp-lstm/icefall_asr_librispeech_tdnn-lstm_ctc/test_wavs/1221-135766-0002.flac "
      ]
    },
    {
      "cell_type": "markdown",
      "source": [
        "## Training"
      ],
      "metadata": {
        "id": "x6TajxC03nRH"
      }
    },
    {
      "cell_type": "markdown",
      "source": [
        "### Data preparation"
      ],
      "metadata": {
        "id": "HYgeCT4g-6pF"
      }
    },
    {
      "cell_type": "code",
      "source": [
        "! cd icefall/egs/librispeech/ASR && \\\n",
        "  ./prepare.sh"
      ],
      "metadata": {
        "colab": {
          "base_uri": "https://localhost:8080/"
        },
        "id": "eXGsmMSf3o9n",
        "outputId": "1fc1a385-62a6-4e4f-8d2c-b760331e03fe"
      },
      "execution_count": 1,
      "outputs": [
        {
          "output_type": "stream",
          "name": "stdout",
          "text": [
            "2023-05-01 16:26:54 (prepare.sh:63:main) dl_dir: /content/icefall/egs/librispeech/ASR/download\n",
            "2023-05-01 16:26:54 (prepare.sh:66:main) Stage -1: Download LM\n",
            "Traceback (most recent call last):\n",
            "  File \"/content/icefall/egs/librispeech/ASR/./local/download_lm.py\", line 44, in <module>\n",
            "    from lhotse.utils import urlretrieve_progress\n",
            "ImportError: cannot import name 'urlretrieve_progress' from 'lhotse.utils' (/usr/local/lib/python3.10/dist-packages/lhotse/utils.py)\n"
          ]
        }
      ]
    },
    {
      "cell_type": "markdown",
      "source": [
        "### Launch training"
      ],
      "metadata": {
        "id": "oYv33Na_--Nx"
      }
    },
    {
      "cell_type": "code",
      "source": [
        "# https://k2-fsa.github.io/icefall/recipes/Non-streaming-ASR/librispeech/tdnn_lstm_ctc.html"
      ],
      "metadata": {
        "id": "pvoY8Bu4-pii"
      },
      "execution_count": null,
      "outputs": []
    }
  ],
  "metadata": {
    "accelerator": "TPU",
    "colab": {
      "provenance": [],
      "machine_shape": "hm",
      "include_colab_link": true
    },
    "kernelspec": {
      "display_name": "Python 3",
      "name": "python3"
    },
    "language_info": {
      "name": "python"
    },
    "gpuClass": "premium"
  },
  "nbformat": 4,
  "nbformat_minor": 0
}