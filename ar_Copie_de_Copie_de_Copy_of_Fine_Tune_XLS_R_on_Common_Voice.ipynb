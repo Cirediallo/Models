{
  "cells": [
    {
      "cell_type": "markdown",
      "metadata": {
        "id": "view-in-github",
        "colab_type": "text"
      },
      "source": [
        "<a href=\"https://colab.research.google.com/github/Cirediallo/Models/blob/main/ar_Copie_de_Copie_de_Copy_of_Fine_Tune_XLS_R_on_Common_Voice.ipynb\" target=\"_parent\"><img src=\"https://colab.research.google.com/assets/colab-badge.svg\" alt=\"Open In Colab\"/></a>"
      ]
    },
    {
      "cell_type": "markdown",
      "metadata": {
        "id": "LBSYoWbi-45k"
      },
      "source": [
        "# **Fine-tuning XLS-R for Multi-Lingual ASR with 🤗 Transformers**\n",
        "\n",
        "***New (11/2021)***: *This blog post has been updated to feature XLSR's successor, called [XLS-R](https://huggingface.co/models?other=xls_r)*."
      ]
    },
    {
      "cell_type": "markdown",
      "metadata": {
        "id": "V7YOT2mnUiea"
      },
      "source": [
        "**Wav2Vec2** is a pretrained model for Automatic Speech Recognition (ASR) and was released in [September 2020](https://ai.facebook.com/blog/wav2vec-20-learning-the-structure-of-speech-from-raw-audio/) by *Alexei Baevski, Michael Auli, and Alex Conneau*.  Soon after the superior performance of Wav2Vec2 was demonstrated on one of the most popular English datasets for ASR, called [LibriSpeech](https://huggingface.co/datasets/librispeech_asr), *Facebook AI* presented a multi-lingual version of Wav2Vec2, called [XLSR](https://arxiv.org/abs/2006.13979). XLSR stands for *cross-lingual speech representations* and refers to model's ability to learn speech representations that are useful across multiple languages.\n",
        "\n",
        "XLSR's successor, simply called **XLS-R** (refering to the [*''XLM-R*](https://ai.facebook.com/blog/-xlm-r-state-of-the-art-cross-lingual-understanding-through-self-supervision/) *for Speech''*), was released in [November 2021](https://ai.facebook.com/blog/xls-r-self-supervised-speech-processing-for-128-languages) by *Arun Babu, Changhan Wang, Andros Tjandra, et al.* XLS-R used almost **half a million** hours of audio data in 128 languages for self-supervised pre-training and comes in sizes ranging from 300 milion up to **two billion** parameters. You can find the pretrained checkpoints on the 🤗 Hub:\n",
        "\n",
        "- [**Wav2Vec2-XLS-R-300M**](https://huggingface.co/facebook/wav2vec2-xls-r-300m)\n",
        "- [**Wav2Vec2-XLS-R-1B**](https://huggingface.co/facebook/wav2vec2-xls-r-1b)\n",
        "- [**Wav2Vec2-XLS-R-2B**](https://huggingface.co/facebook/wav2vec2-xls-r-2b)\n",
        "\n",
        "Similar to [BERT's masked language modeling objective](http://jalammar.github.io/illustrated-bert/), XLS-R learns contextualized speech representations by randomly masking feature vectors before passing them to a transformer network during self-supervised pre-training (*i.e.* diagram on the left below). \n",
        "\n",
        "For fine-tuning, a single linear layer is added on top of the pre-trained network to train the model on labeled data of audio downstream tasks such as speech recognition, speech translation and audio classification (*i.e.* diagram on the right below).\n",
        "\n",
        "![wav2vec2_structure](https://raw.githubusercontent.com/patrickvonplaten/scientific_images/master/xls_r.png)\n",
        "\n",
        "XLS-R shows impressive improvements over previous state-of-the-art results on both speech recognition, speech translation and speaker/language identification, *cf.* with Table 3-6, Table 7-10, and Table 11-12 respectively of the official [paper](https://ai.facebook.com/blog/xls-r-self-supervised-speech-processing-for-128-languages)."
      ]
    },
    {
      "cell_type": "markdown",
      "metadata": {
        "id": "nT_QrfWtsxIz"
      },
      "source": [
        "## Notebook Setup"
      ]
    },
    {
      "cell_type": "markdown",
      "metadata": {
        "id": "kruqixOYHaIo"
      },
      "source": [
        "\n",
        "In this notebook, we will give an in-detail explanation of how XLS-R - more specifically the pre-trained checkpoint [**Wav2Vec2-XLS-R-300M**](https://huggingface.co/facebook/wav2vec2-xls-r-300m) - can be fine-tuned for ASR.  \n",
        "\n",
        "For demonstration purposes, we fine-tune the model on the low resource ASR dataset of [Common Voice](https://huggingface.co/datasets/common_voice) that contains only *ca.* 4h of validated training data."
      ]
    },
    {
      "cell_type": "markdown",
      "metadata": {
        "id": "Gx9OdDYrCtQ1"
      },
      "source": [
        "XLS-R is fine-tuned using Connectionist Temporal Classification (CTC), which is an algorithm that is used to train neural networks for sequence-to-sequence problems, such as ASR and handwriting recognition. \n",
        "\n",
        "I highly recommend reading the well-written blog post [*Sequence Modeling with CTC (2017)*](https://distill.pub/2017/ctc/) by Awni Hannun."
      ]
    },
    {
      "cell_type": "markdown",
      "metadata": {
        "id": "wcHuXIaWyHZU"
      },
      "source": [
        "First, let's try to get a good GPU in our colab! With Google Colab's free version it's sadly becoming much harder to get access to a good GPU. With Google Colab Pro, however, one should easily get either a V100 or P100 GPU."
      ]
    },
    {
      "cell_type": "code",
      "source": [
        "gpu_info = !nvidia-smi\n",
        "gpu_info = '\\n'.join(gpu_info)\n",
        "if gpu_info.find('failed') >= 0:\n",
        "  print('Not connected to a GPU')\n",
        "else:\n",
        "  print(gpu_info)"
      ],
      "metadata": {
        "colab": {
          "base_uri": "https://localhost:8080/"
        },
        "id": "sIjPrkawHAzh",
        "outputId": "9767f066-73e6-4224-ad3e-a03ad52a0b1a"
      },
      "execution_count": 1,
      "outputs": [
        {
          "output_type": "stream",
          "name": "stdout",
          "text": [
            "Wed Jun  7 04:27:28 2023       \n",
            "+-----------------------------------------------------------------------------+\n",
            "| NVIDIA-SMI 525.85.12    Driver Version: 525.85.12    CUDA Version: 12.0     |\n",
            "|-------------------------------+----------------------+----------------------+\n",
            "| GPU  Name        Persistence-M| Bus-Id        Disp.A | Volatile Uncorr. ECC |\n",
            "| Fan  Temp  Perf  Pwr:Usage/Cap|         Memory-Usage | GPU-Util  Compute M. |\n",
            "|                               |                      |               MIG M. |\n",
            "|===============================+======================+======================|\n",
            "|   0  Tesla V100-SXM2...  Off  | 00000000:00:04.0 Off |                    0 |\n",
            "| N/A   34C    P0    23W / 300W |      0MiB / 16384MiB |      0%      Default |\n",
            "|                               |                      |                  N/A |\n",
            "+-------------------------------+----------------------+----------------------+\n",
            "                                                                               \n",
            "+-----------------------------------------------------------------------------+\n",
            "| Processes:                                                                  |\n",
            "|  GPU   GI   CI        PID   Type   Process name                  GPU Memory |\n",
            "|        ID   ID                                                   Usage      |\n",
            "|=============================================================================|\n",
            "|  No running processes found                                                 |\n",
            "+-----------------------------------------------------------------------------+\n"
          ]
        }
      ]
    },
    {
      "cell_type": "code",
      "execution_count": null,
      "metadata": {
        "colab": {
          "base_uri": "https://localhost:8080/"
        },
        "id": "YELVqGxMxnbG",
        "outputId": "1ab7eb67-409d-4371-b99e-7eb1171cb5fb"
      },
      "outputs": [
        {
          "name": "stdout",
          "output_type": "stream",
          "text": [
            "Fri Nov 12 14:31:29 2021       \n",
            "+-----------------------------------------------------------------------------+\n",
            "| NVIDIA-SMI 495.44       Driver Version: 460.32.03    CUDA Version: 11.2     |\n",
            "|-------------------------------+----------------------+----------------------+\n",
            "| GPU  Name        Persistence-M| Bus-Id        Disp.A | Volatile Uncorr. ECC |\n",
            "| Fan  Temp  Perf  Pwr:Usage/Cap|         Memory-Usage | GPU-Util  Compute M. |\n",
            "|                               |                      |               MIG M. |\n",
            "|===============================+======================+======================|\n",
            "|   0  Tesla P100-PCIE...  Off  | 00000000:00:04.0 Off |                    0 |\n",
            "| N/A   41C    P0    26W / 250W |      0MiB / 16280MiB |      0%      Default |\n",
            "|                               |                      |                  N/A |\n",
            "+-------------------------------+----------------------+----------------------+\n",
            "                                                                               \n",
            "+-----------------------------------------------------------------------------+\n",
            "| Processes:                                                                  |\n",
            "|  GPU   GI   CI        PID   Type   Process name                  GPU Memory |\n",
            "|        ID   ID                                                   Usage      |\n",
            "|=============================================================================|\n",
            "|  No running processes found                                                 |\n",
            "+-----------------------------------------------------------------------------+\n"
          ]
        }
      ],
      "source": [
        "gpu_info = !nvidia-smi\n",
        "gpu_info = '\\n'.join(gpu_info)\n",
        "if gpu_info.find('failed') >= 0:\n",
        "  print('Not connected to a GPU')\n",
        "else:\n",
        "  print(gpu_info)"
      ]
    },
    {
      "cell_type": "markdown",
      "metadata": {
        "id": "e335hPmdtASZ"
      },
      "source": [
        "Before we start, let's install `datasets` and `transformers`. Also, we need the `torchaudio` to load audio files and `jiwer` to evaluate our fine-tuned model using the [word error rate (WER)](https://huggingface.co/metrics/wer) metric ${}^1$."
      ]
    },
    {
      "cell_type": "code",
      "execution_count": 2,
      "metadata": {
        "id": "c8eh87Hoee5d"
      },
      "outputs": [],
      "source": [
        "%%capture\n",
        "!pip install datasets==1.18.3\n",
        "!pip install transformers==4.28.0\n",
        "!pip install torchaudio==0.10.0+cu113 -f https://download.pytorch.org/whl/cu113/torch_stable.html\n",
        "!pip install jiwer"
      ]
    },
    {
      "cell_type": "markdown",
      "metadata": {
        "id": "0xxt_LwxDQlO"
      },
      "source": [
        "We strongly suggest to upload your training checkpoints directly to the [🤗 Hub](https://huggingface.co/) while training. The [🤗 Hub](https://huggingface.co/) has integrated version control so you can be sure that no model checkpoint is getting lost during training. \n",
        "\n",
        "To do so you have to store your authentication token from the Hugging Face website (sign up [here](https://huggingface.co/join) if you haven't already!)"
      ]
    },
    {
      "cell_type": "code",
      "execution_count": 3,
      "metadata": {
        "colab": {
          "base_uri": "https://localhost:8080/",
          "height": 145,
          "referenced_widgets": [
            "354dcbb1c20d45dca8897d0ef0257855",
            "4cab0b20949544ed93f528a3da63de71",
            "b2d65219ea3a459bbfafaa112d340edf",
            "d4addaac9a854fbab9c0ae9b94ac1d7c",
            "adee7044ae6a47a583d216f054ee2b3c",
            "edc89b0727344241b6b94e366b62a29c",
            "1177984933dc4ca7b46478ecfb293d6d",
            "a64706b2ff9c4d34b68dcf7dc1569384",
            "f5a3aec943104b57aba1289386de9346",
            "396f82a16d024a75a2c21524de53c19c",
            "c8ba0c624ca4488eadd2d8cc9d903272",
            "b9605ce151584ed2ab09d535bcbfc12d",
            "5443a647f1864929ab73ab7fa50e6da3",
            "e79a5add56fb4ecf841186c4aac36972",
            "53bef2060d284d398b201a304aa8bbd6",
            "fb7d4a3b82574a318432908ff94794ea",
            "f45c32798c4243c3a44d6ac886d0ee0a",
            "0542745a73ac42b9b40f8b9eb80168d9",
            "329d2436c8154b4bbe2312b4e7364eae",
            "61436531c8ad44b1963e928ee9f7d6ff",
            "756e6c15675a489caf527fa263b2e92b",
            "dd208fc2e1844fd0988094890a2a2a25",
            "93b0f0a4be98489689ad9aac95732820",
            "466ff0be546f40e0b68ecea040421b34",
            "ec2baddee9a2498bac9d7f15463388b4",
            "7d280fa92bf84aebab137a07067fdb33",
            "3d39a5d685a54fa6a9c10e587cf92099",
            "9dbc096b741547beb9dcbcefb5cc84ac",
            "bf55ac5af9674742ab34399891f9fcd7",
            "ed4d0dc433ce48c29f2c809e7a67dab7",
            "c60e0d4291cd41fcb45df3f13a882f5b",
            "214376293c464dee9406a78e6729c27a"
          ]
        },
        "id": "mlMSH3T3EazV",
        "outputId": "5f4d5a2a-0127-4aa9-f889-7d4c722781f8"
      },
      "outputs": [
        {
          "output_type": "display_data",
          "data": {
            "text/plain": [
              "VBox(children=(HTML(value='<center> <img\\nsrc=https://huggingface.co/front/assets/huggingface_logo-noborder.sv…"
            ],
            "application/vnd.jupyter.widget-view+json": {
              "version_major": 2,
              "version_minor": 0,
              "model_id": "354dcbb1c20d45dca8897d0ef0257855"
            }
          },
          "metadata": {}
        }
      ],
      "source": [
        "from huggingface_hub import notebook_login\n",
        "\n",
        "notebook_login()"
      ]
    },
    {
      "cell_type": "markdown",
      "metadata": {
        "id": "ujdZ2TxhElk6"
      },
      "source": [
        "\n",
        "Then you need to install Git-LFS to upload your model checkpoints:"
      ]
    },
    {
      "cell_type": "code",
      "execution_count": 4,
      "metadata": {
        "id": "WcR-d83OEkqb"
      },
      "outputs": [],
      "source": [
        "%%capture\n",
        "!apt install git-lfs"
      ]
    },
    {
      "cell_type": "markdown",
      "metadata": {
        "id": "Mn9swf6EQ9Vd"
      },
      "source": [
        "\n",
        "\n",
        "\n",
        "---\n",
        "\n",
        "${}^1$ In the [paper](https://arxiv.org/pdf/2006.13979.pdf), the model was evaluated using the phoneme error rate (PER), but by far the most common metric in ASR is the word error rate (WER). To keep this notebook as general as possible we decided to evaluate the model using WER."
      ]
    },
    {
      "cell_type": "markdown",
      "metadata": {
        "id": "0mW-C1Nt-j7k"
      },
      "source": [
        "## Prepare Data, Tokenizer, Feature Extractor"
      ]
    },
    {
      "cell_type": "markdown",
      "metadata": {
        "id": "BeBosnY9BH3e"
      },
      "source": [
        "ASR models transcribe speech to text, which means that we both need a feature extractor that processes the speech signal to the model's input format, *e.g.* a feature vector, and a tokenizer that processes the model's output format to text. \n",
        "\n",
        "In 🤗 Transformers, the XLS-R model is thus accompanied by both a tokenizer, called [Wav2Vec2CTCTokenizer](https://huggingface.co/transformers/master/model_doc/wav2vec2.html#wav2vec2ctctokenizer), and a feature extractor, called [Wav2Vec2FeatureExtractor](https://huggingface.co/transformers/master/model_doc/wav2vec2.html#wav2vec2featureextractor).\n",
        "\n",
        "Let's start by creating the tokenizer to decode the predicted output classes to the output transcription."
      ]
    },
    {
      "cell_type": "markdown",
      "metadata": {
        "id": "sEXEWEJGQPqD"
      },
      "source": [
        "### Create `Wav2Vec2CTCTokenizer`"
      ]
    },
    {
      "cell_type": "markdown",
      "metadata": {
        "id": "tWmMikuNEKl_"
      },
      "source": [
        "A pre-trained XLS-R model maps the speech signal to a sequence of context representations as illustrated in the figure above. However, for speech recognition the model has to to map this sequence of context representations to its corresponding transcription which means that a linear layer has to be added on top of the transformer block (shown in yellow in the diagram above). This linear layer is used to classifies each context representation to a token class analogous how, *e.g.*, after pretraining a linear layer is added on top of BERT's embeddings for further classification - *cf.* with *'BERT'* section of this [blog post](https://huggingface.co/blog/warm-starting-encoder-decoder)."
      ]
    },
    {
      "cell_type": "markdown",
      "metadata": {
        "id": "v5oRE8XjIUH3"
      },
      "source": [
        "The output size of this layer corresponds to the number of tokens in the vocabulary, which does **not** depend onXLS-R's pretraining task, but only on the labeled dataset used for fine-tuning. So in the first step, we will take a look at the chosen dataset of Common Voice and define a vocabulary based on the transcriptions."
      ]
    },
    {
      "cell_type": "markdown",
      "metadata": {
        "id": "idBczw8mWzgt"
      },
      "source": [
        "First, let's go to Common Voice [official website](https://commonvoice.mozilla.org/en/datasets) and pick a language to fine-tune XLS-R on. For this notebook, we will use Turkish. \n",
        "\n",
        "For each language-specific dataset, you can find a language code corresponding to your chosen language. On [Common Voice](https://commonvoice.mozilla.org/en/datasets), look for the field \"Version\". The language code then corresponds to the prefix before the underscore. For Turkish, *e.g.* the language code is `\"tr\"`.\n",
        "\n",
        "Great, now we can use 🤗 Datasets' simple API to download the data. The dataset name is `\"common_voice\"`, the configuration name corresponds to the language code, which is `\"tr\"` in our case."
      ]
    },
    {
      "cell_type": "markdown",
      "metadata": {
        "id": "bee4g9rpLxll"
      },
      "source": [
        "Common Voice has many different splits including `invalidated`, which refers to data that was not rated as \"clean enough\" to be considered useful. In this notebook, we will only make use of the splits `\"train\"`, `\"validation\"` and `\"test\"`. \n",
        "\n",
        "Because the Turkish dataset is so small, we will merge both the validation and training data into a training dataset and only use the test data for validation."
      ]
    },
    {
      "cell_type": "code",
      "execution_count": 5,
      "metadata": {
        "colab": {
          "base_uri": "https://localhost:8080/",
          "height": 185,
          "referenced_widgets": [
            "107d8d87f1804c8793d859a1e881fb33",
            "487b2773f42e4789a1aaa8ce37aeb656",
            "86fa326a86f948fd82c5c052d3f3c373",
            "222723e09e104843aeccdede121f9907",
            "9ec3b8386f1242c7a8110242eb03d6e9",
            "e54bd54f91504ee8bfdc56ed0982bf4a",
            "fa973005048f4ac0811235fe6e1f7bfc",
            "f9ef5cf51b06440494389550e22c92d8",
            "1a0e42c5750e43b18f105943d3a5e3cf",
            "01d6d0912cee48ffb1b8b880fb4f3f6d",
            "b553835cd56548caafc8a90cb0506f1a",
            "05c535e7caef4990bd50b4176fc9d77f",
            "8bef4740d3674c05a11031f4b240a48c",
            "b5d8abf7d41c4e12beeb21b8134d6a42",
            "b5555c7d080640daabba24266ed57ea0",
            "74886fd0bd654c04a1d63b94c0be5bb8",
            "85dfd32b32874281b3c811d852580007",
            "29fee00023b14af7aa0c9fff1aba300e",
            "ac31be50c5514030959b14c1103ad10f",
            "85e13842091544218bd112eba36e945d",
            "4efd95dc881840afbc6b7218a706e5e9",
            "72f3c3687aa94d5d83242f2152ce52b7",
            "29bfe3fd5021419a93c871286c8bb83a",
            "a87d5cdc59924cc4a8f07513c306d7e8",
            "0fca76c4d42c4354aca6c8493e2592f1",
            "6128120f836948d384cd09ef84bb74c5",
            "aeb6fa5062934bd2be6ff9600419d2dd",
            "908945e065114ae684314d8897166186",
            "9245adb0a6aa42a29614747f67598648",
            "32da6e0fcfdd4b90835bf30324bc8f60",
            "75539c5803e64f1aa8c5b93c76c1e044",
            "38a7d816478646c6ba21a7595cdf33ba",
            "3882ca6f92ec4c488a0c309955ad134f",
            "f2c68b22213549c986155585dcce88e5",
            "6254a8d83e7e4542b4ca1f46a33d427b",
            "aeab1bfabf0d45edbb9cbc3050043c98",
            "ea63bb7819d1489ab8cac73a15a488c4",
            "fd7208a102c242e6911f2fd74baa5d8e",
            "3480d9c443bf422bb2a68bde27f441f6",
            "1a2ea71b682c46f38eb0f0e103c2fcad",
            "2f0340262f8a4a3788f3dbdc882b6aee",
            "f2ffb31a29694cc7bb28013dc2ca437d",
            "a5f6e4e15d1f44c983a4c73f190b5dc9",
            "6a9773b7c6c64dc99f8182d883c7a963",
            "b449b2bf1e85480db9ffe691dfa8fa9b",
            "5716d745a46c4d2bae0ecb2ba5fba195",
            "2ae012c7f0ad449ea73ad56fa97f8dab",
            "eca4f24d818446b3b5e2e8110ee20a9d",
            "3798151733fe4d09844a31f72796f245",
            "cbe07c44a34b41a7a6512422b059e126",
            "3a10c83f1c46429b97e9deab9fa6d2ee",
            "cc3e5cff878e4d9bb0e67aeaec59fb34",
            "aba6e9151b6846e888cbb34468652566",
            "76a419a18f6f42908695b22f99d22806",
            "a3f5e0a9f2384582b577d50880656f00",
            "05c8bbf932b34ccf8946dc9526eb0818",
            "5c3bef13e8f64b7e840738f129a84e72",
            "2a53c96273014a54bf08baf61d157801",
            "eb38eb6e892c402e9284b0ad4eeee90c",
            "bedfa60045de4ed2b257ce0a36a166e7",
            "e11bab0ac74a4ac1b40da42b6253fb75",
            "475b0eae0d0545cb839404003dec6c65",
            "8946050600e546dabbdcc1ce9389286b",
            "4af96b8ee6be41328581a992d7ca1ec0",
            "0d70c24568e64aa687a7682550e0f2d0",
            "7876a16eb2834e30bcd0356868d5f7d9",
            "a64e40eedbf14c5c8d90bd3d43b0f342",
            "18b19c2590214100bb598e8428b9f78b",
            "f5f5fb94c28243ab8b0a74964cc3de71",
            "a6b597dcdd9a4ceda566da36ca090304",
            "e83d16922dfb448a8dcd951faab75795",
            "dbb9131837354995b5eb2be834ff1b2e",
            "a7bda209d0274967852056f59aca830a",
            "41e6ceea064c42e884084432a03a7b71",
            "b3c7ad4466fe4c61ade86f370e3c2ee1",
            "1a5528bb4435495792091f5de781ab54",
            "872d30ec26ff454b903b2d60fb9437a7",
            "49f5af7388be46e48d97977c2b6881d9",
            "2770417b564c4f068ad36b9557885413",
            "ef9ba99a6306410f903ee83d665e5d70",
            "9792a1f831f0480e9105370303d50f4e",
            "53654197982f49038290c32885bb68c9",
            "9b7b85d471cf41e3be14a87ddefe7311",
            "044952ada45c4082a38d3312dc9a32c1",
            "6c929e34711b427dac763bde5836475d",
            "7a34505d59814d88872650533286e9b5",
            "1f8d7e04f17e46cea3ab8399e7cd0184",
            "ddd54391a592426e828ac65202b524d9"
          ]
        },
        "id": "2MMXcWFFgCXU",
        "outputId": "ea38b592-2ef4-4186-b16d-18244901511a"
      },
      "outputs": [
        {
          "output_type": "display_data",
          "data": {
            "text/plain": [
              "Downloading:   0%|          | 0.00/4.62k [00:00<?, ?B/s]"
            ],
            "application/vnd.jupyter.widget-view+json": {
              "version_major": 2,
              "version_minor": 0,
              "model_id": "107d8d87f1804c8793d859a1e881fb33"
            }
          },
          "metadata": {}
        },
        {
          "output_type": "display_data",
          "data": {
            "text/plain": [
              "Downloading:   0%|          | 0.00/10.7k [00:00<?, ?B/s]"
            ],
            "application/vnd.jupyter.widget-view+json": {
              "version_major": 2,
              "version_minor": 0,
              "model_id": "05c535e7caef4990bd50b4176fc9d77f"
            }
          },
          "metadata": {}
        },
        {
          "output_type": "stream",
          "name": "stdout",
          "text": [
            "Downloading and preparing dataset common_voice/ar (download: 1.64 GiB, generated: 1.41 GiB, post-processed: Unknown size, total: 3.05 GiB) to /root/.cache/huggingface/datasets/common_voice/ar/6.1.0/5693bfc0feeade582a78c2fb250bc88f52bd86f0a7f1bb22bfee67e715de30fd...\n"
          ]
        },
        {
          "output_type": "display_data",
          "data": {
            "text/plain": [
              "Downloading:   0%|          | 0.00/1.76G [00:00<?, ?B/s]"
            ],
            "application/vnd.jupyter.widget-view+json": {
              "version_major": 2,
              "version_minor": 0,
              "model_id": "29bfe3fd5021419a93c871286c8bb83a"
            }
          },
          "metadata": {}
        },
        {
          "output_type": "display_data",
          "data": {
            "text/plain": [
              "0 examples [00:00, ? examples/s]"
            ],
            "application/vnd.jupyter.widget-view+json": {
              "version_major": 2,
              "version_minor": 0,
              "model_id": "f2c68b22213549c986155585dcce88e5"
            }
          },
          "metadata": {}
        },
        {
          "output_type": "display_data",
          "data": {
            "text/plain": [
              "0 examples [00:00, ? examples/s]"
            ],
            "application/vnd.jupyter.widget-view+json": {
              "version_major": 2,
              "version_minor": 0,
              "model_id": "b449b2bf1e85480db9ffe691dfa8fa9b"
            }
          },
          "metadata": {}
        },
        {
          "output_type": "display_data",
          "data": {
            "text/plain": [
              "0 examples [00:00, ? examples/s]"
            ],
            "application/vnd.jupyter.widget-view+json": {
              "version_major": 2,
              "version_minor": 0,
              "model_id": "05c8bbf932b34ccf8946dc9526eb0818"
            }
          },
          "metadata": {}
        },
        {
          "output_type": "display_data",
          "data": {
            "text/plain": [
              "0 examples [00:00, ? examples/s]"
            ],
            "application/vnd.jupyter.widget-view+json": {
              "version_major": 2,
              "version_minor": 0,
              "model_id": "a64e40eedbf14c5c8d90bd3d43b0f342"
            }
          },
          "metadata": {}
        },
        {
          "output_type": "display_data",
          "data": {
            "text/plain": [
              "0 examples [00:00, ? examples/s]"
            ],
            "application/vnd.jupyter.widget-view+json": {
              "version_major": 2,
              "version_minor": 0,
              "model_id": "49f5af7388be46e48d97977c2b6881d9"
            }
          },
          "metadata": {}
        },
        {
          "output_type": "stream",
          "name": "stdout",
          "text": [
            "Dataset common_voice downloaded and prepared to /root/.cache/huggingface/datasets/common_voice/ar/6.1.0/5693bfc0feeade582a78c2fb250bc88f52bd86f0a7f1bb22bfee67e715de30fd. Subsequent calls will reuse this data.\n"
          ]
        },
        {
          "output_type": "stream",
          "name": "stderr",
          "text": [
            "WARNING:datasets.builder:Reusing dataset common_voice (/root/.cache/huggingface/datasets/common_voice/ar/6.1.0/5693bfc0feeade582a78c2fb250bc88f52bd86f0a7f1bb22bfee67e715de30fd)\n"
          ]
        }
      ],
      "source": [
        "from datasets import load_dataset, load_metric, Audio\n",
        "\n",
        "common_voice_train = load_dataset(\"common_voice\", \"ar\", split=\"train+validation\")\n",
        "#common_voice_validation = load_dataset(\"common_voice\", \"es\", split=\"validation\")\n",
        "common_voice_test = load_dataset(\"common_voice\", \"ar\", split=\"test\")\n",
        "\n"
      ]
    },
    {
      "cell_type": "code",
      "execution_count": 6,
      "metadata": {
        "colab": {
          "base_uri": "https://localhost:8080/"
        },
        "id": "H5Nr__zDoeQd",
        "outputId": "c0ba9409-207b-48c6-aa55-e3e522bc76eb"
      },
      "outputs": [
        {
          "output_type": "execute_result",
          "data": {
            "text/plain": [
              "Dataset({\n",
              "    features: ['client_id', 'path', 'audio', 'sentence', 'up_votes', 'down_votes', 'age', 'gender', 'accent', 'locale', 'segment'],\n",
              "    num_rows: 21744\n",
              "})"
            ]
          },
          "metadata": {},
          "execution_count": 6
        }
      ],
      "source": [
        "common_voice_train"
      ]
    },
    {
      "cell_type": "markdown",
      "metadata": {
        "id": "ri5y5N_HMANq"
      },
      "source": [
        "Many ASR datasets only provide the target text, `'sentence'` for each audio array `'audio'` and file `'path'`. Common Voice actually provides much more information about each audio file, such as the `'accent'`, etc. Keeping the notebook as general as possible, we only consider the transcribed text for fine-tuning.\n",
        "\n"
      ]
    },
    {
      "cell_type": "code",
      "execution_count": 7,
      "metadata": {
        "id": "kbyq6lDgQc2a"
      },
      "outputs": [],
      "source": [
        "common_voice_train = common_voice_train.remove_columns([\"accent\", \"age\", \"client_id\", \"down_votes\", \"gender\", \"locale\", \"segment\", \"up_votes\"])\n",
        "common_voice_test = common_voice_test.remove_columns([\"accent\", \"age\", \"client_id\", \"down_votes\", \"gender\", \"locale\", \"segment\", \"up_votes\"])"
      ]
    },
    {
      "cell_type": "markdown",
      "metadata": {
        "id": "Go9Hq4e4NDT9"
      },
      "source": [
        "Let's write a short function to display some random samples of the dataset and run it a couple of times to get a feeling for the transcriptions."
      ]
    },
    {
      "cell_type": "code",
      "execution_count": 8,
      "metadata": {
        "id": "72737oog2F6U"
      },
      "outputs": [],
      "source": [
        "from datasets import ClassLabel\n",
        "import random\n",
        "import pandas as pd\n",
        "from IPython.display import display, HTML\n",
        "\n",
        "def show_random_elements(dataset, num_examples=10):\n",
        "    assert num_examples <= len(dataset), \"Can't pick more elements than there are in the dataset.\"\n",
        "    picks = []\n",
        "    for _ in range(num_examples):\n",
        "        pick = random.randint(0, len(dataset)-1)\n",
        "        while pick in picks:\n",
        "            pick = random.randint(0, len(dataset)-1)\n",
        "        picks.append(pick)\n",
        "    \n",
        "    df = pd.DataFrame(dataset[picks])\n",
        "    display(HTML(df.to_html()))"
      ]
    },
    {
      "cell_type": "code",
      "execution_count": 9,
      "metadata": {
        "colab": {
          "base_uri": "https://localhost:8080/",
          "height": 363
        },
        "id": "K_JUmf3G3b9S",
        "outputId": "6bdf99aa-a84c-494a-e420-98ddd9a8af68"
      },
      "outputs": [
        {
          "output_type": "display_data",
          "data": {
            "text/plain": [
              "<IPython.core.display.HTML object>"
            ],
            "text/html": [
              "<table border=\"1\" class=\"dataframe\">\n",
              "  <thead>\n",
              "    <tr style=\"text-align: right;\">\n",
              "      <th></th>\n",
              "      <th>sentence</th>\n",
              "    </tr>\n",
              "  </thead>\n",
              "  <tbody>\n",
              "    <tr>\n",
              "      <th>0</th>\n",
              "      <td>لَا يُفْسِدَنَّكَ الظَّنُّ عَلَى صَدِيقٍ قَدْ أَصْلَحَك الْيَقِينُ لَهُ</td>\n",
              "    </tr>\n",
              "    <tr>\n",
              "      <th>1</th>\n",
              "      <td>كُن معقول.</td>\n",
              "    </tr>\n",
              "    <tr>\n",
              "      <th>2</th>\n",
              "      <td>أذهب إلى المدرسة في الساعة السابعة</td>\n",
              "    </tr>\n",
              "    <tr>\n",
              "      <th>3</th>\n",
              "      <td>يوجد هاتف في غرفتي.</td>\n",
              "    </tr>\n",
              "    <tr>\n",
              "      <th>4</th>\n",
              "      <td>أنا حزين.</td>\n",
              "    </tr>\n",
              "    <tr>\n",
              "      <th>5</th>\n",
              "      <td>ان في ثورتنا فصل الخطاب</td>\n",
              "    </tr>\n",
              "    <tr>\n",
              "      <th>6</th>\n",
              "      <td>بدأت أبكي.</td>\n",
              "    </tr>\n",
              "    <tr>\n",
              "      <th>7</th>\n",
              "      <td>كَلَّا لَئِنْ لَمْ يَنْتَهِ لَنَسْفَعًا بِالنَّاصِيَةِ</td>\n",
              "    </tr>\n",
              "    <tr>\n",
              "      <th>8</th>\n",
              "      <td>وَالْجَارُ السُّوءُ يُفْشِي السِّرَّ وَيَهْتِكُ السِّتْرَ</td>\n",
              "    </tr>\n",
              "    <tr>\n",
              "      <th>9</th>\n",
              "      <td>انها خجولة.</td>\n",
              "    </tr>\n",
              "  </tbody>\n",
              "</table>"
            ]
          },
          "metadata": {}
        }
      ],
      "source": [
        "show_random_elements(common_voice_train.remove_columns([\"path\", \"audio\"]), num_examples=10)"
      ]
    },
    {
      "cell_type": "markdown",
      "metadata": {
        "id": "fowcOllGNNju"
      },
      "source": [
        "Alright! The transcriptions look fairly clean. Having translated the transcribed sentences, it seems that the language corresponds more to written-out text than noisy dialogue. This makes sense considering that [Common Voice](https://huggingface.co/datasets/common_voice) is a crowd-sourced read speech corpus."
      ]
    },
    {
      "cell_type": "markdown",
      "metadata": {
        "id": "vq7OR50LN49m"
      },
      "source": [
        "We can see that the transcriptions contain some special characters, such as `,.?!;:`. Without a language model, it is much harder to classify speech chunks to such special characters because they don't really correspond to a characteristic sound unit. *E.g.*, the letter `\"s\"` has a more or less clear sound, whereas the special character `\".\"` does not.\n",
        "Also in order to understand the meaning of a speech signal, it is usually not necessary to include special characters in the transcription.\n",
        "\n",
        "Let's simply remove all characters that don't contribute to the meaning of a word and cannot really be represented by an acoustic sound and normalize the text."
      ]
    },
    {
      "cell_type": "code",
      "execution_count": 10,
      "metadata": {
        "id": "svKzVJ_hQGK6"
      },
      "outputs": [],
      "source": [
        "\n",
        "import re\n",
        "chars_to_remove_regex = '[\\!\\\"\\,\\-\\.\\:\\;\\?\\«\\»\\“]'\n",
        "def remove_special_characters(batch):\n",
        "    batch[\"sentence\"] = re.sub(chars_to_remove_regex, '', batch[\"sentence\"]).lower()\n",
        "    return batch\n"
      ]
    },
    {
      "cell_type": "code",
      "execution_count": 11,
      "metadata": {
        "colab": {
          "base_uri": "https://localhost:8080/",
          "height": 118,
          "referenced_widgets": [
            "818e927f83e54340920f4a36b9d9baef",
            "1095109ed4e84ae7b35e4d501ca09341",
            "cc5f582784f5497e9c036d521d3db639",
            "dc3c5b4bade94d379fa9d0847ff6e185",
            "09c74e3c1a4b4796a9afbfdbd63f7de7",
            "a3872e7f461b4fa6bd7c9736c090225e",
            "a97800a983bd4fb6a7522c69a9c7e45f",
            "dc3dd599f3bc45ebad0346f8f73f02c0",
            "74e5f9789b444c17beabf509b4dacbde",
            "3ee323dacc714a218ab559ffe0ce024d",
            "8ba1af14b39e47a286c55062c5e19e96",
            "5c6758ede52a4f68bdde4797b43f7326",
            "2a1963f2c25c4fa09ebb73f786c8a3c1",
            "0394ec012b284d4d913bc0166e5884db",
            "eb2aa1adae414943b071e8fe23f22c7c",
            "ae4d0abd2b8d481b93341ec2824134f0",
            "611c362c243143fa8f8ad81e61b6f89f",
            "e613071c5c694798bdeb10e767973057",
            "c1bce6d4c7e94386a8c673e349f5729e",
            "1541eeec90be4b00ba84f4455f201a74",
            "cd124209004a46409996db52fbb16559",
            "78ddc99e5a5142c69f93f50c37ec798a"
          ]
        },
        "id": "XIHocAuTQbBR",
        "outputId": "0c026244-1618-46ac-d8d6-81c46024c68e"
      },
      "outputs": [
        {
          "output_type": "stream",
          "name": "stderr",
          "text": [
            "WARNING:datasets.fingerprint:Parameter 'function'=<function remove_special_characters at 0x7f4217f3f880> of the transform datasets.arrow_dataset.Dataset._map_single couldn't be hashed properly, a random hash was used instead. Make sure your transforms and parameters are serializable with pickle or dill for the dataset fingerprinting and caching to work. If you reuse this transform, the caching mechanism will consider it to be different from the previous calls and recompute everything. This warning is only showed once. Subsequent hashing failures won't be showed.\n"
          ]
        },
        {
          "output_type": "display_data",
          "data": {
            "text/plain": [
              "0ex [00:00, ?ex/s]"
            ],
            "application/vnd.jupyter.widget-view+json": {
              "version_major": 2,
              "version_minor": 0,
              "model_id": "818e927f83e54340920f4a36b9d9baef"
            }
          },
          "metadata": {}
        },
        {
          "output_type": "display_data",
          "data": {
            "text/plain": [
              "0ex [00:00, ?ex/s]"
            ],
            "application/vnd.jupyter.widget-view+json": {
              "version_major": 2,
              "version_minor": 0,
              "model_id": "5c6758ede52a4f68bdde4797b43f7326"
            }
          },
          "metadata": {}
        }
      ],
      "source": [
        "common_voice_train = common_voice_train.map(remove_special_characters)\n",
        "common_voice_test = common_voice_test.map(remove_special_characters)"
      ]
    },
    {
      "cell_type": "markdown",
      "metadata": {
        "id": "TxnVS9gIhIma"
      },
      "source": [
        "Let's look at the processed text labels again."
      ]
    },
    {
      "cell_type": "code",
      "execution_count": 12,
      "metadata": {
        "colab": {
          "base_uri": "https://localhost:8080/",
          "height": 363
        },
        "id": "RBDRAAYxRE6n",
        "outputId": "4bc227f5-4da9-493a-ad0d-827da6809b0c"
      },
      "outputs": [
        {
          "output_type": "display_data",
          "data": {
            "text/plain": [
              "<IPython.core.display.HTML object>"
            ],
            "text/html": [
              "<table border=\"1\" class=\"dataframe\">\n",
              "  <thead>\n",
              "    <tr style=\"text-align: right;\">\n",
              "      <th></th>\n",
              "      <th>sentence</th>\n",
              "    </tr>\n",
              "  </thead>\n",
              "  <tbody>\n",
              "    <tr>\n",
              "      <th>0</th>\n",
              "      <td>سأفتقدك</td>\n",
              "    </tr>\n",
              "    <tr>\n",
              "      <th>1</th>\n",
              "      <td>استحم من فضلك</td>\n",
              "    </tr>\n",
              "    <tr>\n",
              "      <th>2</th>\n",
              "      <td>يا له من مجتمع إن كنت نظيف، فسوف يجعلونك قذرا</td>\n",
              "    </tr>\n",
              "    <tr>\n",
              "      <th>3</th>\n",
              "      <td>فَهَذَا يَسْتَحِقُّ عَذَابَ الْمُجْتَرِئِ</td>\n",
              "    </tr>\n",
              "    <tr>\n",
              "      <th>4</th>\n",
              "      <td>لا أريد أن أعمل في ظل هذه الظروف</td>\n",
              "    </tr>\n",
              "    <tr>\n",
              "      <th>5</th>\n",
              "      <td>لا شريك له وبذلك أمرت وأنا أول المسلمين</td>\n",
              "    </tr>\n",
              "    <tr>\n",
              "      <th>6</th>\n",
              "      <td>أنا لست خائفاً هذه متعة</td>\n",
              "    </tr>\n",
              "    <tr>\n",
              "      <th>7</th>\n",
              "      <td>لا تنظر إليها</td>\n",
              "    </tr>\n",
              "    <tr>\n",
              "      <th>8</th>\n",
              "      <td>أَلَمْ أَعْهَدْ إِلَيْكُمْ يَا بَنِي آدَمَ أَنْ لَا تَعْبُدُوا الشَّيْطَانَ إِنَّهُ لَكُمْ عَدُوٌّ مُبِينٌ</td>\n",
              "    </tr>\n",
              "    <tr>\n",
              "      <th>9</th>\n",
              "      <td>فَوَاَلَّذِي نَفْسُ مُحَمَّدٍ بِيَدِهِ مَا بَعْدَ الْمَوْتِ مِنْ مُسْتَعْتَبٍ وَلَا بَعْدَ الدُّنْيَا دَارٍ</td>\n",
              "    </tr>\n",
              "  </tbody>\n",
              "</table>"
            ]
          },
          "metadata": {}
        }
      ],
      "source": [
        "show_random_elements(common_voice_train.remove_columns([\"path\",\"audio\"]))"
      ]
    },
    {
      "cell_type": "markdown",
      "metadata": {
        "id": "jwfaptH5RJwA"
      },
      "source": [
        "Good! This looks better. We have removed most special characters from transcriptions and normalized them to lower-case only.\n",
        "\n",
        "Before finalizing the pre-processing, it is always advantageous to consult a native speaker of the target language to see whether the text can be further simplified. \n",
        "For this blog post, [Merve](https://twitter.com/mervenoyann) was kind enough to take a quick look and noted that \"hatted\" characters - like `â` - aren't really used anymore in Turkish and can be replaced by their \"un-hatted\" equivalent, *e.g.* `a`. \n",
        "\n",
        "This means that we should replace a sentence like `\"yargı sistemi hâlâ sağlıksız\"` to `\"yargı sistemi hala sağlıksız\"`.\n",
        "\n",
        "Let's write another short mapping function to further simplify the text labels. Remember - the simler the text labels, the easier it is for the model to learn to predict those labels.\n",
        "\n"
      ]
    },
    {
      "cell_type": "code",
      "execution_count": null,
      "metadata": {
        "id": "aZcrz6z7lgGm"
      },
      "outputs": [],
      "source": [
        "\"\"\"\n",
        "def replace_hatted_characters(batch):\n",
        "    batch[\"sentence\"] = re.sub('[â]', 'a', batch[\"sentence\"])\n",
        "    batch[\"sentence\"] = re.sub('[î]', 'i', batch[\"sentence\"])\n",
        "    batch[\"sentence\"] = re.sub('[ô]', 'o', batch[\"sentence\"])\n",
        "    batch[\"sentence\"] = re.sub('[û]', 'u', batch[\"sentence\"])\n",
        "    return batch\n",
        "\"\"\""
      ]
    },
    {
      "cell_type": "code",
      "execution_count": null,
      "metadata": {
        "colab": {
          "base_uri": "https://localhost:8080/"
        },
        "id": "ieGhhND5mSwI",
        "outputId": "2f5cee33-a98a-45ae-a8b4-0f10d97f4d15"
      },
      "outputs": [
        {
          "name": "stderr",
          "output_type": "stream",
          "text": [
            "Loading cached processed dataset at /root/.cache/huggingface/datasets/common_voice/tr/6.1.0/f7a9d973839b7706e9e281c19b7e512f31badf3c0fdbd21c671f3c4bf9acf3b9/cache-42d8bb33221ffcb6.arrow\n",
            "Loading cached processed dataset at /root/.cache/huggingface/datasets/common_voice/tr/6.1.0/f7a9d973839b7706e9e281c19b7e512f31badf3c0fdbd21c671f3c4bf9acf3b9/cache-7feed192f520d0a3.arrow\n"
          ]
        }
      ],
      "source": [
        "#common_voice_train = common_voice_train.map(replace_hatted_characters)\n",
        "#common_voice_test = common_voice_test.map(replace_hatted_characters)"
      ]
    },
    {
      "cell_type": "markdown",
      "metadata": {
        "id": "3ORHDb2Th2TW"
      },
      "source": [
        "In CTC, it is common to classify speech chunks into letters, so we will do the same here. \n",
        "Let's extract all distinct letters of the training and test data and build our vocabulary from this set of letters.\n",
        "\n",
        "We write a mapping function that concatenates all transcriptions into one long transcription and then transforms the string into a set of chars. \n",
        "It is important to pass the argument `batched=True` to the `map(...)` function so that the mapping function has access to all transcriptions at once."
      ]
    },
    {
      "cell_type": "code",
      "execution_count": 13,
      "metadata": {
        "id": "LwCshNbbeRZR"
      },
      "outputs": [],
      "source": [
        "def extract_all_chars(batch):\n",
        "  all_text = \" \".join(batch[\"sentence\"])\n",
        "  vocab = list(set(all_text))\n",
        "  return {\"vocab\": [vocab], \"all_text\": [all_text]}"
      ]
    },
    {
      "cell_type": "code",
      "execution_count": 14,
      "metadata": {
        "colab": {
          "base_uri": "https://localhost:8080/",
          "height": 81,
          "referenced_widgets": [
            "4e592291661b4be48d646c0cd063e829",
            "fe35e5aae3a441f388167625bcb117e0",
            "a3732e8e49d8471f8d8fa7472ae98105",
            "a2debcc5e3eb4d1caa717117e4ab4cda",
            "3d21a7c6a64f44eeb420044395a42fad",
            "f21f671040e5462b8faad20c9be28a9a",
            "334f770df4244dc6b2c31e658836cd08",
            "ee92db614174456b8f611b78e7db1600",
            "0bdcaec9a70d48ea9cab0b62b96eb1b5",
            "270b6d5388674869b5712aa011e1d6ce",
            "bc99b8aa310d455fbbe2971a3a208ca2",
            "8698d0ca77984fe19ae050173f4e7afb",
            "f2ee7c43aad74d49a3cdbc67311b543a",
            "6f772dd3859e4a2a89100fe68eaf08d5",
            "d4ad7da312214ba8907d953c20cd8f53",
            "5186417f794646aa95c24d64a926dea7",
            "5bcde964e67e4982bb31340443303792",
            "a264c0c9d7f24d388fdc8d6948fda8cd",
            "f5ab416c8a0847819818416bcab13b27",
            "c7f722eed8f6420e92da2154f3bdee4a",
            "b37ccc6b46944d3ca74589fc348350fd",
            "c6aae2f4bd9f456bb150f55e18662fbf"
          ]
        },
        "id": "_m6uUjjcfbjH",
        "outputId": "f743e7cb-d929-4e3b-c951-a0cfdc6354e7"
      },
      "outputs": [
        {
          "output_type": "display_data",
          "data": {
            "text/plain": [
              "  0%|          | 0/1 [00:00<?, ?ba/s]"
            ],
            "application/vnd.jupyter.widget-view+json": {
              "version_major": 2,
              "version_minor": 0,
              "model_id": "4e592291661b4be48d646c0cd063e829"
            }
          },
          "metadata": {}
        },
        {
          "output_type": "display_data",
          "data": {
            "text/plain": [
              "  0%|          | 0/1 [00:00<?, ?ba/s]"
            ],
            "application/vnd.jupyter.widget-view+json": {
              "version_major": 2,
              "version_minor": 0,
              "model_id": "8698d0ca77984fe19ae050173f4e7afb"
            }
          },
          "metadata": {}
        }
      ],
      "source": [
        "vocab_train = common_voice_train.map(extract_all_chars, batched=True, batch_size=-1, keep_in_memory=True, remove_columns=common_voice_train.column_names)\n",
        "vocab_test = common_voice_test.map(extract_all_chars, batched=True, batch_size=-1, keep_in_memory=True, remove_columns=common_voice_test.column_names)"
      ]
    },
    {
      "cell_type": "markdown",
      "metadata": {
        "id": "7oVgE8RZSJNP"
      },
      "source": [
        "Now, we create the union of all distinct letters in the training dataset and test dataset and convert the resulting list into an enumerated dictionary."
      ]
    },
    {
      "cell_type": "code",
      "execution_count": 15,
      "metadata": {
        "id": "aQfneNsmlJI0"
      },
      "outputs": [],
      "source": [
        "vocab_list = list(set(vocab_train[\"vocab\"][0]) | set(vocab_test[\"vocab\"][0]))"
      ]
    },
    {
      "cell_type": "code",
      "execution_count": 17,
      "metadata": {
        "colab": {
          "base_uri": "https://localhost:8080/"
        },
        "id": "_0kRndSvqaKk",
        "outputId": "2eead439-0885-40b3-aa0c-11c066d49680"
      },
      "outputs": [
        {
          "output_type": "execute_result",
          "data": {
            "text/plain": [
              "{' ': 0,\n",
              " '_': 1,\n",
              " 'e': 2,\n",
              " 'g': 3,\n",
              " 't': 4,\n",
              " '،': 5,\n",
              " '؛': 6,\n",
              " '؟': 7,\n",
              " 'ء': 8,\n",
              " 'آ': 9,\n",
              " 'أ': 10,\n",
              " 'ؤ': 11,\n",
              " 'إ': 12,\n",
              " 'ئ': 13,\n",
              " 'ا': 14,\n",
              " 'ب': 15,\n",
              " 'ة': 16,\n",
              " 'ت': 17,\n",
              " 'ث': 18,\n",
              " 'ج': 19,\n",
              " 'ح': 20,\n",
              " 'خ': 21,\n",
              " 'د': 22,\n",
              " 'ذ': 23,\n",
              " 'ر': 24,\n",
              " 'ز': 25,\n",
              " 'س': 26,\n",
              " 'ش': 27,\n",
              " 'ص': 28,\n",
              " 'ض': 29,\n",
              " 'ط': 30,\n",
              " 'ظ': 31,\n",
              " 'ع': 32,\n",
              " 'غ': 33,\n",
              " 'ـ': 34,\n",
              " 'ف': 35,\n",
              " 'ق': 36,\n",
              " 'ك': 37,\n",
              " 'ل': 38,\n",
              " 'م': 39,\n",
              " 'ن': 40,\n",
              " 'ه': 41,\n",
              " 'و': 42,\n",
              " 'ى': 43,\n",
              " 'ي': 44,\n",
              " 'ً': 45,\n",
              " 'ٌ': 46,\n",
              " 'ٍ': 47,\n",
              " 'َ': 48,\n",
              " 'ُ': 49,\n",
              " 'ِ': 50,\n",
              " 'ّ': 51,\n",
              " 'ْ': 52,\n",
              " 'ٰ': 53,\n",
              " 'چ': 54,\n",
              " 'ڨ': 55,\n",
              " 'ک': 56,\n",
              " 'ھ': 57,\n",
              " 'ی': 58,\n",
              " 'ۖ': 59,\n",
              " 'ۚ': 60,\n",
              " '—': 61,\n",
              " '”': 62,\n",
              " '☭': 63,\n",
              " 'ﺃ': 64,\n",
              " 'ﻻ': 65}"
            ]
          },
          "metadata": {},
          "execution_count": 17
        }
      ],
      "source": [
        "vocab_dict = {v: k for k, v in enumerate(sorted(vocab_list))}\n",
        "vocab_dict"
      ]
    },
    {
      "cell_type": "markdown",
      "metadata": {
        "id": "JOSzbvs9SXT1"
      },
      "source": [
        "Cool, we see that all letters of the alphabet occur in the dataset (which is not really surprising) and we also extracted the special characters `\"\"` and `'`. Note that we did not exclude those special characters because: \n",
        "\n",
        "The model has to learn to predict when a word is finished or else the model prediction would always be a sequence of chars which would make it impossible to separate words from each other.\n",
        "\n",
        "One should always keep in mind that pre-processing is a very important step before training your model. E.g., we don't want our model to differentiate between `a` and `A` just because we forgot to normalize the data. The difference between `a` and `A` does not depend on the \"sound\" of the letter at all, but more on grammatical rules - *e.g.* use a capitalized letter at the beginning of the sentence. So it is sensible to remove the difference between capitalized and non-capitalized letters so that the model has an easier time learning to transcribe speech. "
      ]
    },
    {
      "cell_type": "markdown",
      "metadata": {
        "id": "b1fBRCn-TRaO"
      },
      "source": [
        "To make it clearer that `\" \"` has its own token class, we give it a more visible character `|`. In addition, we also add an \"unknown\" token so that the model can later deal with characters not encountered in Common Voice's training set. "
      ]
    },
    {
      "cell_type": "code",
      "execution_count": 18,
      "metadata": {
        "id": "npbIbBoLgaFX"
      },
      "outputs": [],
      "source": [
        "vocab_dict[\"|\"] = vocab_dict[\" \"]\n",
        "del vocab_dict[\" \"]"
      ]
    },
    {
      "cell_type": "markdown",
      "metadata": {
        "id": "_9yCWg4Sd0cb"
      },
      "source": [
        "Finally, we also add a padding token that corresponds to CTC's \"*blank token*\". The \"blank token\" is a core component of the CTC algorithm. For more information, please take a look at the \"Alignment\" section [here](https://distill.pub/2017/ctc/)."
      ]
    },
    {
      "cell_type": "code",
      "execution_count": 19,
      "metadata": {
        "colab": {
          "base_uri": "https://localhost:8080/"
        },
        "id": "znF0bNunsjbl",
        "outputId": "61ea44e1-c13a-4fd0-b24b-0e999e3b906f"
      },
      "outputs": [
        {
          "output_type": "execute_result",
          "data": {
            "text/plain": [
              "68"
            ]
          },
          "metadata": {},
          "execution_count": 19
        }
      ],
      "source": [
        "vocab_dict[\"[UNK]\"] = len(vocab_dict)\n",
        "vocab_dict[\"[PAD]\"] = len(vocab_dict)\n",
        "len(vocab_dict)"
      ]
    },
    {
      "cell_type": "markdown",
      "metadata": {
        "id": "SFPGfet8U5sL"
      },
      "source": [
        "Cool, now our vocabulary is complete and consists of 39 tokens, which means that the linear layer that we will add on top of the pretrained XLS-R checkpoint will have an output dimension of 39."
      ]
    },
    {
      "cell_type": "markdown",
      "metadata": {
        "id": "1CujRgBNVRaD"
      },
      "source": [
        "Let's now save the vocabulary as a json file."
      ]
    },
    {
      "cell_type": "code",
      "execution_count": 20,
      "metadata": {
        "id": "ehyUoh9vk191"
      },
      "outputs": [],
      "source": [
        "import json\n",
        "with open('vocab.json', 'w') as vocab_file:\n",
        "    json.dump(vocab_dict, vocab_file)"
      ]
    },
    {
      "cell_type": "markdown",
      "metadata": {
        "id": "SHJDaKlIVVim"
      },
      "source": [
        "In a final step, we use the json file to load the vocabulary into an instance of the `Wav2Vec2CTCTokenizer` class."
      ]
    },
    {
      "cell_type": "code",
      "execution_count": 21,
      "metadata": {
        "colab": {
          "base_uri": "https://localhost:8080/"
        },
        "id": "xriFGEWQkO4M",
        "outputId": "0551a5ef-e0a6-434e-c45a-44c6022ddeef"
      },
      "outputs": [
        {
          "output_type": "stream",
          "name": "stderr",
          "text": [
            "Special tokens have been added in the vocabulary, make sure the associated word embeddings are fine-tuned or trained.\n"
          ]
        }
      ],
      "source": [
        "from transformers import Wav2Vec2CTCTokenizer\n",
        "\n",
        "tokenizer = Wav2Vec2CTCTokenizer.from_pretrained(\"./\", unk_token=\"[UNK]\", pad_token=\"[PAD]\", word_delimiter_token=\"|\")"
      ]
    },
    {
      "cell_type": "markdown",
      "metadata": {
        "id": "KvL12DrNV4cx"
      },
      "source": [
        "If one wants to re-use the just created tokenizer with the fine-tuned model of this notebook, it is strongly advised to upload the `tokenizer` to the [🤗 Hub](https://huggingface.co/). Let's call the repo to which we will upload the files\n",
        "`\"wav2vec2-large-xlsr-turkish-demo-colab\"`:"
      ]
    },
    {
      "cell_type": "code",
      "execution_count": 22,
      "metadata": {
        "id": "A1XApZBAF2zr"
      },
      "outputs": [],
      "source": [
        "repo_name = \"wav2vec2-xls-r-300m-en-ar-fr-es\""
      ]
    },
    {
      "cell_type": "markdown",
      "metadata": {
        "id": "B1BiezWZF16d"
      },
      "source": [
        "and upload the tokenizer to the [🤗 Hub](https://huggingface.co/)."
      ]
    },
    {
      "cell_type": "code",
      "execution_count": 23,
      "metadata": {
        "colab": {
          "base_uri": "https://localhost:8080/"
        },
        "id": "zytE1175GAKM",
        "outputId": "73b679d2-4e55-4f2f-f536-d39d86e065c5"
      },
      "outputs": [
        {
          "output_type": "execute_result",
          "data": {
            "text/plain": [
              "CommitInfo(commit_url='https://huggingface.co/diallomama/wav2vec2-xls-r-300m-en-ar-fr-es/commit/7f3d23cdb538b9e5ec6071bae788504a999e928d', commit_message='Upload tokenizer', commit_description='', oid='7f3d23cdb538b9e5ec6071bae788504a999e928d', pr_url=None, pr_revision=None, pr_num=None)"
            ]
          },
          "metadata": {},
          "execution_count": 23
        }
      ],
      "source": [
        "tokenizer.push_to_hub(repo_name)"
      ]
    },
    {
      "cell_type": "markdown",
      "metadata": {
        "id": "SwQM8lH_GGuP"
      },
      "source": [
        "Great, you can see the just created repository under `https://huggingface.co/<your-username>/wav2vec2-large-xls-r-300m-tr-colab`"
      ]
    },
    {
      "cell_type": "markdown",
      "metadata": {
        "id": "mYcIiR2FQ96i"
      },
      "source": [
        "### Create `Wav2Vec2FeatureExtractor`"
      ]
    },
    {
      "cell_type": "markdown",
      "metadata": {
        "id": "Y6mDEyW719rx"
      },
      "source": [
        "Speech is a continuous signal and to be treated by computers, it first has to be discretized, which is usually called **sampling**. The sampling rate hereby plays an important role in that it defines how many data points of the speech signal are measured per second. Therefore, sampling with a higher sampling rate results in a better approximation of the *real* speech signal but also necessitates more values per second.\n",
        "\n",
        "A pretrained checkpoint expects its input data to have been sampled more or less from the same distribution as the data it was trained on. The same speech signals sampled at two different rates have a very different distribution, *e.g.*, doubling the sampling rate results in data points being twice as long. Thus, \n",
        "before fine-tuning a pretrained checkpoint of an ASR model, it is crucial to verify that the sampling rate of the data that was used to pretrain the model matches the sampling rate of the dataset used to fine-tune the model.\n",
        "\n",
        "XLS-R was pretrained on audio data of [Babel](http://www.reading.ac.uk/AcaDepts/ll/speechlab/babel/r), \n",
        "[Multilingual LibriSpeech (MLS)](https://huggingface.co/datasets/multilingual_librispeech), [Common Voice](https://huggingface.co/datasets/common_voice), [VoxPopuli](https://arxiv.org/abs/2101.00390), and [VoxLingua107](https://arxiv.org/abs/2011.12998) at a sampling rate of 16kHz. Common Voice, in its original form, has a sampling rate of 48kHz, thus we will have to downsample the fine-tuning data to 16kHz in the following.\n",
        "\n"
      ]
    },
    {
      "cell_type": "markdown",
      "metadata": {
        "id": "KuUbPW7oV-B5"
      },
      "source": [
        "A `Wav2Vec2FeatureExtractor` object requires the following parameters to be instantiated:\n",
        "\n",
        "- `feature_size`: Speech models take a sequence of feature vectors as an input. While the length of this sequence obviously varies, the feature size should not. In the case of Wav2Vec2, the feature size is 1 because the model was trained on the raw speech signal ${}^2$.\n",
        "- `sampling_rate`: The sampling rate at which the model is trained on.\n",
        "- `padding_value`: For batched inference, shorter inputs need to be padded with a specific value\n",
        "- `do_normalize`: Whether the input should be *zero-mean-unit-variance* normalized or not. Usually, speech models perform better when normalizing the input\n",
        "- `return_attention_mask`: Whether the model should make use of an `attention_mask` for batched inference. In general, XLS-R models checkpoints should **always** use the `attention_mask`."
      ]
    },
    {
      "cell_type": "code",
      "execution_count": 24,
      "metadata": {
        "id": "kAR0-2KLkopp"
      },
      "outputs": [],
      "source": [
        "from transformers import Wav2Vec2FeatureExtractor\n",
        "\n",
        "feature_extractor = Wav2Vec2FeatureExtractor(feature_size=1, sampling_rate=16000, padding_value=0.0, do_normalize=True, return_attention_mask=True)"
      ]
    },
    {
      "cell_type": "markdown",
      "metadata": {
        "id": "qUETetgqYC3W"
      },
      "source": [
        "Great, XLS-R's feature extraction pipeline is thereby fully defined!\n",
        "\n",
        "For improved user-friendliness, the feature extractor and tokenizer are *wrapped* into a single `Wav2Vec2Processor` class so that one only needs a `model` and `processor` object."
      ]
    },
    {
      "cell_type": "code",
      "execution_count": 25,
      "metadata": {
        "id": "KYZtoW-tlZgl"
      },
      "outputs": [],
      "source": [
        "from transformers import Wav2Vec2Processor\n",
        "\n",
        "processor = Wav2Vec2Processor(feature_extractor=feature_extractor, tokenizer=tokenizer)"
      ]
    },
    {
      "cell_type": "markdown",
      "metadata": {
        "id": "DrKnYuvDIoOO"
      },
      "source": [
        "Next, we can prepare the dataset."
      ]
    },
    {
      "cell_type": "markdown",
      "metadata": {
        "id": "YFmShnl7RE35"
      },
      "source": [
        "### Preprocess Data\n",
        "\n",
        "So far, we have not looked at the actual values of the speech signal but just the transcription. In addition to `sentence`, our datasets include two more column names `path` and `audio`. `path` states the absolute path of the audio file. Let's take a look.\n"
      ]
    },
    {
      "cell_type": "code",
      "execution_count": null,
      "metadata": {
        "colab": {
          "base_uri": "https://localhost:8080/",
          "height": 35
        },
        "id": "TTCS7W6XJ9BG",
        "outputId": "76df9155-28b2-4847-f253-480ccf31fc58"
      },
      "outputs": [
        {
          "data": {
            "application/vnd.google.colaboratory.intrinsic+json": {
              "type": "string"
            },
            "text/plain": [
              "'common_voice_ar_19225971.mp3'"
            ]
          },
          "execution_count": 74,
          "metadata": {},
          "output_type": "execute_result"
        }
      ],
      "source": [
        "common_voice_train[0][\"path\"]"
      ]
    },
    {
      "cell_type": "markdown",
      "metadata": {
        "id": "T6ndIjHGFp0W"
      },
      "source": [
        "XLS-R expects the input in the format of a 1-dimensional array of 16 kHz. This means that the audio file has to be loaded and resampled.\n",
        "\n",
        " Thankfully, `datasets` does this automatically by calling the other column `audio`. Let try it out. "
      ]
    },
    {
      "cell_type": "code",
      "execution_count": 26,
      "metadata": {
        "colab": {
          "base_uri": "https://localhost:8080/"
        },
        "id": "qj_z5Zc3GAs9",
        "outputId": "a3c17510-5631-4b65-b565-0623254b6833"
      },
      "outputs": [
        {
          "output_type": "execute_result",
          "data": {
            "text/plain": [
              "{'path': 'cv-corpus-6.1-2020-12-11/ar/clips/common_voice_ar_19225971.mp3',\n",
              " 'array': array([ 0.0000000e+00,  0.0000000e+00,  0.0000000e+00, ...,\n",
              "         2.3667126e-06, -2.5793133e-06,  6.8762515e-06], dtype=float32),\n",
              " 'sampling_rate': 48000}"
            ]
          },
          "metadata": {},
          "execution_count": 26
        }
      ],
      "source": [
        "common_voice_train[0][\"audio\"]"
      ]
    },
    {
      "cell_type": "markdown",
      "metadata": {
        "id": "WUUTgI1bGHW-"
      },
      "source": [
        "Great, we can see that the audio file has automatically been loaded. This is thanks to the new [`\"Audio\"` feature](https://huggingface.co/docs/datasets/package_reference/main_classes.html?highlight=audio#datasets.Audio) introduced in `datasets == 4.13.3`, which loads and resamples audio files on-the-fly upon calling.\n",
        "\n",
        "In the example above we can see that the audio data is loaded with a sampling rate of 48kHz whereas 16kHz are expected by the model. We can set the audio feature to the correct sampling rate by making use of [`cast_column`](https://huggingface.co/docs/datasets/package_reference/main_classes.html?highlight=cast_column#datasets.DatasetDict.cast_column):"
      ]
    },
    {
      "cell_type": "code",
      "execution_count": 27,
      "metadata": {
        "id": "rrv65aj7G95i"
      },
      "outputs": [],
      "source": [
        "common_voice_train = common_voice_train.cast_column(\"audio\", Audio(sampling_rate=16_000))\n",
        "common_voice_test = common_voice_test.cast_column(\"audio\", Audio(sampling_rate=16_000))"
      ]
    },
    {
      "cell_type": "markdown",
      "metadata": {
        "id": "PcnO4x-NGBEi"
      },
      "source": [
        "Let's take a look at `\"audio\"` again."
      ]
    },
    {
      "cell_type": "code",
      "execution_count": 28,
      "metadata": {
        "colab": {
          "base_uri": "https://localhost:8080/"
        },
        "id": "aKtkc1o_HWHC",
        "outputId": "3e3ab625-6f22-4b5b-cdc1-6ec757a01b1b"
      },
      "outputs": [
        {
          "output_type": "execute_result",
          "data": {
            "text/plain": [
              "{'path': 'cv-corpus-6.1-2020-12-11/ar/clips/common_voice_ar_19225971.mp3',\n",
              " 'array': array([0.0000000e+00, 0.0000000e+00, 0.0000000e+00, ..., 3.9961551e-06,\n",
              "        8.9953237e-06, 6.5385566e-06], dtype=float32),\n",
              " 'sampling_rate': 16000}"
            ]
          },
          "metadata": {},
          "execution_count": 28
        }
      ],
      "source": [
        "common_voice_train[0][\"audio\"]"
      ]
    },
    {
      "cell_type": "markdown",
      "metadata": {
        "id": "SOckzFd4Mbzq"
      },
      "source": [
        "This seemed to have worked! Let's listen to a couple of audio files to better understand the dataset and verify that the audio was correctly loaded. \n",
        "\n",
        "**Note**: *You can click the following cell a couple of times to listen to different speech samples.*"
      ]
    },
    {
      "cell_type": "code",
      "execution_count": 29,
      "metadata": {
        "colab": {
          "base_uri": "https://localhost:8080/",
          "height": 93
        },
        "id": "dueM6U7Ev0OA",
        "outputId": "0f18cf9a-a08c-42cb-d85f-410cd08cc3cc"
      },
      "outputs": [
        {
          "output_type": "stream",
          "name": "stdout",
          "text": [
            "ما رأيها في سيارتي ؟\n"
          ]
        },
        {
          "output_type": "execute_result",
          "data": {
            "text/plain": [
              "<IPython.lib.display.Audio object>"
            ],
            "text/html": [
              "\n",
              "                <audio  controls=\"controls\" autoplay=\"autoplay\">\n",
              "                    <source src=\"data:audio/wav;base64,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\" type=\"audio/wav\" />\n",
              "                    Your browser does not support the audio element.\n",
              "                </audio>\n",
              "              "
            ]
          },
          "metadata": {},
          "execution_count": 29
        }
      ],
      "source": [
        "import IPython.display as ipd\n",
        "import numpy as np\n",
        "import random\n",
        "\n",
        "rand_int = random.randint(0, len(common_voice_train)-1)\n",
        "\n",
        "print(common_voice_train[rand_int][\"sentence\"])\n",
        "ipd.Audio(data=common_voice_train[rand_int][\"audio\"][\"array\"], autoplay=True, rate=16000)"
      ]
    },
    {
      "cell_type": "markdown",
      "metadata": {
        "id": "gY8m3vARHYTa"
      },
      "source": [
        "It seems like the data is now correctly loaded and resampled. "
      ]
    },
    {
      "cell_type": "markdown",
      "metadata": {
        "id": "1MaL9J2dNVtG"
      },
      "source": [
        "It can be heard, that the speakers change along with their speaking rate, accent, and background environment, etc. Overall, the recordings sound acceptably clear though, which is to be expected from a crowd-sourced read speech corpus.\n",
        "\n",
        "Let's do a final check that the data is correctly prepared, by printing the shape of the speech input, its transcription, and the corresponding sampling rate.\n",
        "\n",
        "**Note**: *You can click the following cell a couple of times to verify multiple samples.*"
      ]
    },
    {
      "cell_type": "code",
      "execution_count": 30,
      "metadata": {
        "colab": {
          "base_uri": "https://localhost:8080/"
        },
        "id": "1Po2g7YPuRTx",
        "outputId": "811b7ca5-cbf2-4b3e-d546-2a9a129cb984"
      },
      "outputs": [
        {
          "output_type": "stream",
          "name": "stdout",
          "text": [
            "Target text: درست الإنجليزية لخمسة سنوات\n",
            "Input array shape: (60480,)\n",
            "Sampling rate: 16000\n"
          ]
        }
      ],
      "source": [
        "rand_int = random.randint(0, len(common_voice_train)-1)\n",
        "\n",
        "print(\"Target text:\", common_voice_train[rand_int][\"sentence\"])\n",
        "print(\"Input array shape:\", common_voice_train[rand_int][\"audio\"][\"array\"].shape)\n",
        "print(\"Sampling rate:\", common_voice_train[rand_int][\"audio\"][\"sampling_rate\"])"
      ]
    },
    {
      "cell_type": "markdown",
      "metadata": {
        "id": "M9teZcSwOBJ4"
      },
      "source": [
        "Good! Everything looks fine - the data is a 1-dimensional array, the sampling rate always corresponds to 16kHz, and the target text is normalized."
      ]
    },
    {
      "cell_type": "markdown",
      "metadata": {
        "id": "k3Pbn5WvOYZF"
      },
      "source": [
        "Finally, we can leverage `Wav2Vec2Processor` to process the data to the format expected by `Wav2Vec2ForCTC` for training. To do so let's make use of Dataset's [`map(...)`](https://huggingface.co/docs/datasets/package_reference/main_classes.html?highlight=map#datasets.DatasetDict.map) function.\n",
        "\n",
        "First, we load and resample the audio data, simply by calling `batch[\"audio\"]`.\n",
        "Second, we extract the `input_values` from the loaded audio file. In our case, the `Wav2Vec2Processor` only normalizes the data. For other speech models, however, this step can include more complex feature extraction, such as [Log-Mel feature extraction](https://en.wikipedia.org/wiki/Mel-frequency_cepstrum). \n",
        "Third, we encode the transcriptions to label ids.\n",
        "\n",
        "**Note**: This mapping function is a good example of how the `Wav2Vec2Processor` class should be used. In \"normal\" context, calling `processor(...)` is redirected to `Wav2Vec2FeatureExtractor`'s call method. When wrapping the processor into the `as_target_processor` context, however, the same method is redirected to `Wav2Vec2CTCTokenizer`'s call method.\n",
        "For more information please check the [docs](https://huggingface.co/transformers/master/model_doc/wav2vec2.html#transformers.Wav2Vec2Processor.__call__)."
      ]
    },
    {
      "cell_type": "code",
      "execution_count": 31,
      "metadata": {
        "id": "eJY7I0XAwe9p"
      },
      "outputs": [],
      "source": [
        "def prepare_dataset(batch):\n",
        "    audio = batch[\"audio\"]\n",
        "\n",
        "    # batched output is \"un-batched\"\n",
        "    batch[\"input_values\"] = processor(audio[\"array\"], sampling_rate=audio[\"sampling_rate\"]).input_values[0]\n",
        "    batch[\"input_length\"] = len(batch[\"input_values\"])\n",
        "    \n",
        "    with processor.as_target_processor():\n",
        "        batch[\"labels\"] = processor(batch[\"sentence\"]).input_ids\n",
        "    return batch"
      ]
    },
    {
      "cell_type": "markdown",
      "metadata": {
        "id": "q6Pg_WR3OGAP"
      },
      "source": [
        "Let's apply the data preparation function to all examples."
      ]
    },
    {
      "cell_type": "code",
      "execution_count": 32,
      "metadata": {
        "colab": {
          "base_uri": "https://localhost:8080/",
          "height": 136,
          "referenced_widgets": [
            "21f43c2480b64140a99a7e2f9a49e155",
            "2ee6e88ce0ef4a728478c70b720203be",
            "53b3fc2a6c92457c9a42660554b686fe",
            "efe037d6463a4278a08c41454f795392",
            "5df75170b9814530b1729b45bb33289f",
            "3d26877d707e4c6da24e0e7c2bd7c6d5",
            "ec800dd9629844388bbeac0d931910b5",
            "fadd9a9c92d6448b90fd3e8ab1d15956",
            "55e28d4be1684eeba117dd9c6c398699",
            "0b5fd7bc5f674888b9d252f781f448cc",
            "4a7bdd299f0a4dd2bd96a5320a23b656",
            "82a40d2d8dd345e382009a7ae73f7620",
            "77e165b10bbe40249407b214a8d30c72",
            "575045267293451fbcf6687f0e052281",
            "4b3a6b58bf274a10a2193f0ce4d417ca",
            "591fb31fc2a745a7a8fd53328ef3bded",
            "e95d16b4da4241c7b10ae5463e420be1",
            "18108d600b724619a2f84a3a9c0a5949",
            "08c9728f17954d349da248bbcf8b0106",
            "3c3cd0f9be01474c925f1c75792955ca",
            "052299d85578434baf5997867fed6d59",
            "56132e8cce4e477e8f7e00e09108cd1c"
          ]
        },
        "id": "-np9xYK-wl8q",
        "outputId": "5f7a81cc-742a-4cb6-b421-8bc11ac2bfbd"
      },
      "outputs": [
        {
          "output_type": "display_data",
          "data": {
            "text/plain": [
              "0ex [00:00, ?ex/s]"
            ],
            "application/vnd.jupyter.widget-view+json": {
              "version_major": 2,
              "version_minor": 0,
              "model_id": "21f43c2480b64140a99a7e2f9a49e155"
            }
          },
          "metadata": {}
        },
        {
          "output_type": "stream",
          "name": "stderr",
          "text": [
            "/usr/local/lib/python3.10/dist-packages/transformers/models/wav2vec2/processing_wav2vec2.py:155: UserWarning: `as_target_processor` is deprecated and will be removed in v5 of Transformers. You can process your labels by using the argument `text` of the regular `__call__` method (either in the same call as your audio inputs, or in a separate call.\n",
            "  warnings.warn(\n"
          ]
        },
        {
          "output_type": "display_data",
          "data": {
            "text/plain": [
              "0ex [00:00, ?ex/s]"
            ],
            "application/vnd.jupyter.widget-view+json": {
              "version_major": 2,
              "version_minor": 0,
              "model_id": "82a40d2d8dd345e382009a7ae73f7620"
            }
          },
          "metadata": {}
        }
      ],
      "source": [
        "common_voice_train = common_voice_train.map(prepare_dataset, remove_columns=common_voice_train.column_names)\n",
        "common_voice_test = common_voice_test.map(prepare_dataset, remove_columns=common_voice_test.column_names)"
      ]
    },
    {
      "cell_type": "markdown",
      "metadata": {
        "id": "nKcEWHvKI1by"
      },
      "source": [
        "**Note**: Currently `datasets` make use of [`torchaudio`](https://pytorch.org/audio/stable/index.html) and [`librosa`](https://librosa.org/doc/latest/index.html) for audio loading and resampling. If you wish to implement your own costumized data loading/sampling, feel free to just make use of the `\"path\"` column instead and disregard the `\"audio\"` column."
      ]
    },
    {
      "cell_type": "markdown",
      "metadata": {
        "id": "24CxHd5ewI4T"
      },
      "source": [
        "Long input sequences require a lot of memory. XLS-R is based on `self-attention` the memory requirement scales quadratically with the input length for long input sequences (*cf.* with [this](https://www.reddit.com/r/MachineLearning/comments/genjvb/d_why_is_the_maximum_input_sequence_length_of/) reddit post). In case this demo crashes with an \"Out-of-memory\" error for you, you might want to uncomment the following lines to filter all sequences that are longer than 5 seconds for training."
      ]
    },
    {
      "cell_type": "code",
      "execution_count": null,
      "metadata": {
        "id": "tdHfbUJ_09iA"
      },
      "outputs": [],
      "source": [
        "#max_input_length_in_sec = 5.0\n",
        "#common_voice_train = common_voice_train.filter(lambda x: x < max_input_length_in_sec * processor.feature_extractor.sampling_rate, input_columns=[\"input_length\"])"
      ]
    },
    {
      "cell_type": "markdown",
      "metadata": {
        "id": "1ZWDCCKqwcfS"
      },
      "source": [
        "Awesome, now we are ready to start training!"
      ]
    },
    {
      "cell_type": "markdown",
      "metadata": {
        "id": "gYlQkKVoRUos"
      },
      "source": [
        "## Training\n",
        "\n",
        "The data is processed so that we are ready to start setting up the training pipeline. We will make use of 🤗's [Trainer](https://huggingface.co/transformers/master/main_classes/trainer.html?highlight=trainer) for which we essentially need to do the following:\n",
        "\n",
        "- Define a data collator. In contrast to most NLP models, XLS-R has a much larger input length than output length. *E.g.*, a sample of input length 50000 has an output length of no more than 100. Given the large input sizes, it is much more efficient to pad the training batches dynamically meaning that all training samples should only be padded to the longest sample in their batch and not the overall longest sample. Therefore, fine-tuning XLS-R requires a special padding data collator, which we will define below\n",
        "\n",
        "- Evaluation metric. During training, the model should be evaluated on the word error rate. We should define a `compute_metrics` function accordingly\n",
        "\n",
        "- Load a pretrained checkpoint. We need to load a pretrained checkpoint and configure it correctly for training.\n",
        "\n",
        "- Define the training configuration.\n",
        "\n",
        "After having fine-tuned the model, we will correctly evaluate it on the test data and verify that it has indeed learned to correctly transcribe speech."
      ]
    },
    {
      "cell_type": "markdown",
      "metadata": {
        "id": "Slk403unUS91"
      },
      "source": [
        "### Set-up Trainer\n",
        "\n",
        "Let's start by defining the data collator. The code for the data collator was copied from [this example](https://github.com/huggingface/transformers/blob/7e61d56a45c19284cfda0cee8995fb552f6b1f4e/examples/pytorch/speech-recognition/run_speech_recognition_ctc.py#L219).\n",
        "\n",
        "Without going into too many details, in contrast to the common data collators, this data collator treats the `input_values` and `labels` differently and thus applies to separate padding functions on them (again making use of XLS-R processor's context manager). This is necessary because in speech input and output are of different modalities meaning that they should not be treated by the same padding function.\n",
        "Analogous to the common data collators, the padding tokens in the labels with `-100` so that those tokens are **not** taken into account when computing the loss."
      ]
    },
    {
      "cell_type": "code",
      "execution_count": 33,
      "metadata": {
        "id": "tborvC9hx88e"
      },
      "outputs": [],
      "source": [
        "import torch\n",
        "\n",
        "from dataclasses import dataclass, field\n",
        "from typing import Any, Dict, List, Optional, Union\n",
        "\n",
        "@dataclass\n",
        "class DataCollatorCTCWithPadding:\n",
        "    \"\"\"\n",
        "    Data collator that will dynamically pad the inputs received.\n",
        "    Args:\n",
        "        processor (:class:`~transformers.Wav2Vec2Processor`)\n",
        "            The processor used for proccessing the data.\n",
        "        padding (:obj:`bool`, :obj:`str` or :class:`~transformers.tokenization_utils_base.PaddingStrategy`, `optional`, defaults to :obj:`True`):\n",
        "            Select a strategy to pad the returned sequences (according to the model's padding side and padding index)\n",
        "            among:\n",
        "            * :obj:`True` or :obj:`'longest'`: Pad to the longest sequence in the batch (or no padding if only a single\n",
        "              sequence if provided).\n",
        "            * :obj:`'max_length'`: Pad to a maximum length specified with the argument :obj:`max_length` or to the\n",
        "              maximum acceptable input length for the model if that argument is not provided.\n",
        "            * :obj:`False` or :obj:`'do_not_pad'` (default): No padding (i.e., can output a batch with sequences of\n",
        "              different lengths).\n",
        "    \"\"\"\n",
        "\n",
        "    processor: Wav2Vec2Processor\n",
        "    padding: Union[bool, str] = True\n",
        "\n",
        "    def __call__(self, features: List[Dict[str, Union[List[int], torch.Tensor]]]) -> Dict[str, torch.Tensor]:\n",
        "        # split inputs and labels since they have to be of different lenghts and need\n",
        "        # different padding methods\n",
        "        input_features = [{\"input_values\": feature[\"input_values\"]} for feature in features]\n",
        "        label_features = [{\"input_ids\": feature[\"labels\"]} for feature in features]\n",
        "\n",
        "        batch = self.processor.pad(\n",
        "            input_features,\n",
        "            padding=self.padding,\n",
        "            return_tensors=\"pt\",\n",
        "        )\n",
        "        with self.processor.as_target_processor():\n",
        "            labels_batch = self.processor.pad(\n",
        "                label_features,\n",
        "                padding=self.padding,\n",
        "                return_tensors=\"pt\",\n",
        "            )\n",
        "\n",
        "        # replace padding with -100 to ignore loss correctly\n",
        "        labels = labels_batch[\"input_ids\"].masked_fill(labels_batch.attention_mask.ne(1), -100)\n",
        "\n",
        "        batch[\"labels\"] = labels\n",
        "\n",
        "        return batch"
      ]
    },
    {
      "cell_type": "code",
      "execution_count": 34,
      "metadata": {
        "id": "lbQf5GuZyQ4_"
      },
      "outputs": [],
      "source": [
        "data_collator = DataCollatorCTCWithPadding(processor=processor, padding=True)"
      ]
    },
    {
      "cell_type": "markdown",
      "metadata": {
        "id": "xO-Zdj-5cxXp"
      },
      "source": [
        "Next, the evaluation metric is defined. As mentioned earlier, the \n",
        "predominant metric in ASR is the word error rate (WER), hence we will use it in this notebook as well."
      ]
    },
    {
      "cell_type": "code",
      "execution_count": 35,
      "metadata": {
        "id": "9Xsux2gmyXso",
        "colab": {
          "base_uri": "https://localhost:8080/",
          "height": 49,
          "referenced_widgets": [
            "b789676db52c4861b65822da4ca00816",
            "5853337ee5b54530b10f12400ba918aa",
            "a5e1fde3c3e24f03959db8a68e0ea7c0",
            "ef07f2b69702456d8813a18f0c8ff24a",
            "69b833c3c2204cd6944a9fa94a01e166",
            "09cbe893d75e4e24a37fd3d522863466",
            "9256a26f145f47ecb781592faf2d8626",
            "ce6c9d1e1c0143bc98fc52dca558e6d4",
            "b36c8cd7e7d8444ba712599f5abaa8d8",
            "bb1602e661bc422f9bcc2bb483755b13",
            "9609fc6cd9274ca090129efc1571da6a"
          ]
        },
        "outputId": "3d3c4beb-2476-4632-d5a3-77a6e8c3ab10"
      },
      "outputs": [
        {
          "output_type": "display_data",
          "data": {
            "text/plain": [
              "Downloading:   0%|          | 0.00/1.90k [00:00<?, ?B/s]"
            ],
            "application/vnd.jupyter.widget-view+json": {
              "version_major": 2,
              "version_minor": 0,
              "model_id": "b789676db52c4861b65822da4ca00816"
            }
          },
          "metadata": {}
        }
      ],
      "source": [
        "wer_metric = load_metric(\"wer\")"
      ]
    },
    {
      "cell_type": "markdown",
      "metadata": {
        "id": "E1qZU5p-deqB"
      },
      "source": [
        "The model will return a sequence of logit vectors:\n",
        "$\\mathbf{y}_1, \\ldots, \\mathbf{y}_m$ with $\\mathbf{y}_1 = f_{\\theta}(x_1, \\ldots, x_n)[0]$ and $n >> m$.\n",
        "\n",
        "A logit vector $\\mathbf{y}_1$ contains the log-odds for each word in the vocabulary we defined earlier, thus $\\text{len}(\\mathbf{y}_i) =$ `config.vocab_size`. We are interested in the most likely prediction of the model and thus take the `argmax(...)` of the logits. Also, we transform the encoded labels back to the original string by replacing `-100` with the `pad_token_id` and decoding the ids while making sure that consecutive tokens are **not** grouped to the same token in CTC style ${}^1$."
      ]
    },
    {
      "cell_type": "code",
      "execution_count": 36,
      "metadata": {
        "id": "1XZ-kjweyTy_"
      },
      "outputs": [],
      "source": [
        "def compute_metrics(pred):\n",
        "    pred_logits = pred.predictions\n",
        "    pred_ids = np.argmax(pred_logits, axis=-1)\n",
        "\n",
        "    pred.label_ids[pred.label_ids == -100] = processor.tokenizer.pad_token_id\n",
        "\n",
        "    pred_str = processor.batch_decode(pred_ids)\n",
        "    # we do not want to group tokens when computing the metrics\n",
        "    label_str = processor.batch_decode(pred.label_ids, group_tokens=False)\n",
        "\n",
        "    wer = wer_metric.compute(predictions=pred_str, references=label_str)\n",
        "\n",
        "    return {\"wer\": wer}"
      ]
    },
    {
      "cell_type": "markdown",
      "metadata": {
        "id": "Xmgrx4bRwLIH"
      },
      "source": [
        "Now, we can load the pretrained checkpoint of [Wav2Vec2-XLS-R-300M](https://huggingface.co/facebook/wav2vec2-xls-r-300m). The tokenizer's `pad_token_id` must be to define the model's `pad_token_id` or in the case of `Wav2Vec2ForCTC` also CTC's *blank token* ${}^2$. To save GPU memory, we enable PyTorch's [gradient checkpointing](https://pytorch.org/docs/stable/checkpoint.html) and also set the loss reduction to \"*mean*\".\n",
        "\n",
        "Because the dataset is quite small (~6h of training data) and because Common Voice is quite noisy, fine-tuning Facebook's [wav2vec2-xls-r-300m checkpoint](https://huggingface.co/facebook/wav2vec2-xls-r-300m) seems to require some hyper-parameter tuning. Therefore, I had to play around a bit with different values for dropout, [SpecAugment](https://arxiv.org/abs/1904.08779)'s masking dropout rate, layer dropout, and the learning rate until training seemed to be stable enough. \n",
        "\n",
        "**Note**: When using this notebook to train XLS-R on another language of Common Voice those hyper-parameter settings might not work very well. Feel free to adapt those depending on your use case. "
      ]
    },
    {
      "cell_type": "code",
      "execution_count": 37,
      "metadata": {
        "colab": {
          "base_uri": "https://localhost:8080/",
          "height": 188,
          "referenced_widgets": [
            "91cfe0758e4e46b7b67e4895bda66c02",
            "60c61d47d1ba4a8d8a9284d04e0745ff",
            "aa6d5e30890e465fa47ad575df91f860",
            "4c8b8ce3da4b47e0bedd97a94e23fc46",
            "2235e7cdf69848a28f60c947812eed8e",
            "563867d1fa4c4672886147d062f16e43",
            "d078b7ef07fc4e1299e750852ea8dac5",
            "8f176efd9a4a4267bfa6f29af222296d",
            "41e15a1ecfc941d0a04523e3699681f1",
            "b8a8abdb96614b559fdfc9254aae72a3",
            "29a34d3c14bb4ab292b685a6a031b50c",
            "9dafd2fcef27469591706531412d1fa8",
            "f1dbe30ec0764fa1a4c8f3a746deb375",
            "d17b9ec9ad054c1694a00b0d1dd1fc7a",
            "3e1c5eda47dc4b83a328a3c5433a9a2b",
            "32f53e2048ef4ab59c58dd7952f3b482",
            "381ed98f293243cea32e594dc3d56c89",
            "19af9cb21ee444e29c57ed098a6f8a71",
            "d63899afd55a411e8276d7b34924bb7a",
            "b0d03b976f2748519b57d08a8460d768",
            "d5e6f8abab964be7899b069fff5143f4",
            "9a0ef7d705f24619a0dff4c0cbbe6f00"
          ]
        },
        "id": "e7cqAWIayn6w",
        "outputId": "e2ee44d3-17e3-421b-bbbb-fe856f4f671a"
      },
      "outputs": [
        {
          "output_type": "display_data",
          "data": {
            "text/plain": [
              "Downloading (…)lve/main/config.json:   0%|          | 0.00/1.57k [00:00<?, ?B/s]"
            ],
            "application/vnd.jupyter.widget-view+json": {
              "version_major": 2,
              "version_minor": 0,
              "model_id": "91cfe0758e4e46b7b67e4895bda66c02"
            }
          },
          "metadata": {}
        },
        {
          "output_type": "display_data",
          "data": {
            "text/plain": [
              "Downloading pytorch_model.bin:   0%|          | 0.00/1.27G [00:00<?, ?B/s]"
            ],
            "application/vnd.jupyter.widget-view+json": {
              "version_major": 2,
              "version_minor": 0,
              "model_id": "9dafd2fcef27469591706531412d1fa8"
            }
          },
          "metadata": {}
        },
        {
          "output_type": "stream",
          "name": "stderr",
          "text": [
            "Some weights of the model checkpoint at facebook/wav2vec2-xls-r-300m were not used when initializing Wav2Vec2ForCTC: ['quantizer.weight_proj.weight', 'project_hid.bias', 'project_q.bias', 'quantizer.weight_proj.bias', 'project_hid.weight', 'quantizer.codevectors', 'project_q.weight']\n",
            "- This IS expected if you are initializing Wav2Vec2ForCTC from the checkpoint of a model trained on another task or with another architecture (e.g. initializing a BertForSequenceClassification model from a BertForPreTraining model).\n",
            "- This IS NOT expected if you are initializing Wav2Vec2ForCTC from the checkpoint of a model that you expect to be exactly identical (initializing a BertForSequenceClassification model from a BertForSequenceClassification model).\n",
            "Some weights of Wav2Vec2ForCTC were not initialized from the model checkpoint at facebook/wav2vec2-xls-r-300m and are newly initialized: ['lm_head.bias', 'lm_head.weight']\n",
            "You should probably TRAIN this model on a down-stream task to be able to use it for predictions and inference.\n"
          ]
        }
      ],
      "source": [
        "from transformers import Wav2Vec2ForCTC\n",
        "\n",
        "model = Wav2Vec2ForCTC.from_pretrained(\n",
        "   \"facebook/wav2vec2-xls-r-300m\",\n",
        "    attention_dropout=0.0,\n",
        "    hidden_dropout=0.0,\n",
        "    feat_proj_dropout=0.0,\n",
        "    mask_time_prob=0.05,\n",
        "    layerdrop=0.0,\n",
        "    ctc_loss_reduction=\"mean\", \n",
        "    pad_token_id=processor.tokenizer.pad_token_id,\n",
        "    vocab_size=len(processor.tokenizer),\n",
        ")"
      ]
    },
    {
      "cell_type": "markdown",
      "metadata": {
        "id": "1DwR3XLSzGDD"
      },
      "source": [
        "The first component of XLS-R consists of a stack of CNN layers that are used to extract acoustically meaningful - but contextually independent - features from the raw speech signal. This part of the model has already been sufficiently trained during pretraining and as stated in the [paper](https://arxiv.org/pdf/2006.13979.pdf) does not need to be fine-tuned anymore. \n",
        "Thus, we can set the `requires_grad` to `False` for all parameters of the *feature extraction* part."
      ]
    },
    {
      "cell_type": "code",
      "execution_count": 38,
      "metadata": {
        "colab": {
          "base_uri": "https://localhost:8080/"
        },
        "id": "oGI8zObtZ3V0",
        "outputId": "cd8215b8-c185-416a-8f47-2a64c7ba841c"
      },
      "outputs": [
        {
          "output_type": "stream",
          "name": "stderr",
          "text": [
            "/usr/local/lib/python3.10/dist-packages/transformers/models/wav2vec2/modeling_wav2vec2.py:1643: FutureWarning: The method `freeze_feature_extractor` is deprecated and will be removed in Transformers v5.Please use the equivalent `freeze_feature_encoder` method instead.\n",
            "  warnings.warn(\n"
          ]
        }
      ],
      "source": [
        "model.freeze_feature_extractor()"
      ]
    },
    {
      "cell_type": "markdown",
      "metadata": {
        "id": "lD4aGhQM0K-D"
      },
      "source": [
        "In a final step, we define all parameters related to training. \n",
        "To give more explanation on some of the parameters:\n",
        "- `group_by_length` makes training more efficient by grouping training samples of similar input length into one batch. This can significantly speed up training time by heavily reducing the overall number of useless padding tokens that are passed through the model\n",
        "- `learning_rate` and `weight_decay` were heuristically tuned until fine-tuning has become stable. Note that those parameters strongly depend on the Common Voice dataset and might be suboptimal for other speech datasets.\n",
        "\n",
        "For more explanations on other parameters, one can take a look at the [docs](https://huggingface.co/transformers/master/main_classes/trainer.html?highlight=trainer#trainingarguments).\n",
        "\n",
        "During training, a checkpoint will be uploaded asynchronously to the hub every 400 training steps. It allows you to also play around with the demo widget even while your model is still training.\n",
        "\n",
        "**Note**: If one does not want to upload the model checkpoints to the hub, simply set `push_to_hub=False`."
      ]
    },
    {
      "cell_type": "code",
      "execution_count": null,
      "metadata": {
        "colab": {
          "base_uri": "https://localhost:8080/"
        },
        "id": "DbaUhWlDr-k_",
        "outputId": "d6c50602-e32c-480c-d7c7-4c5b64ae1aaf"
      },
      "outputs": [
        {
          "name": "stdout",
          "output_type": "stream",
          "text": [
            "Looking in indexes: https://pypi.org/simple, https://us-python.pkg.dev/colab-wheels/public/simple/\n",
            "Requirement already satisfied: accelerate in /usr/local/lib/python3.10/dist-packages (0.19.0)\n",
            "Requirement already satisfied: numpy>=1.17 in /usr/local/lib/python3.10/dist-packages (from accelerate) (1.22.4)\n",
            "Requirement already satisfied: packaging>=20.0 in /usr/local/lib/python3.10/dist-packages (from accelerate) (23.1)\n",
            "Requirement already satisfied: psutil in /usr/local/lib/python3.10/dist-packages (from accelerate) (5.9.5)\n",
            "Requirement already satisfied: pyyaml in /usr/local/lib/python3.10/dist-packages (from accelerate) (6.0)\n",
            "Requirement already satisfied: torch>=1.6.0 in /usr/local/lib/python3.10/dist-packages (from accelerate) (2.0.1+cu118)\n",
            "Requirement already satisfied: filelock in /usr/local/lib/python3.10/dist-packages (from torch>=1.6.0->accelerate) (3.12.0)\n",
            "Requirement already satisfied: typing-extensions in /usr/local/lib/python3.10/dist-packages (from torch>=1.6.0->accelerate) (4.5.0)\n",
            "Requirement already satisfied: sympy in /usr/local/lib/python3.10/dist-packages (from torch>=1.6.0->accelerate) (1.11.1)\n",
            "Requirement already satisfied: networkx in /usr/local/lib/python3.10/dist-packages (from torch>=1.6.0->accelerate) (3.1)\n",
            "Requirement already satisfied: jinja2 in /usr/local/lib/python3.10/dist-packages (from torch>=1.6.0->accelerate) (3.1.2)\n",
            "Requirement already satisfied: triton==2.0.0 in /usr/local/lib/python3.10/dist-packages (from torch>=1.6.0->accelerate) (2.0.0)\n",
            "Requirement already satisfied: cmake in /usr/local/lib/python3.10/dist-packages (from triton==2.0.0->torch>=1.6.0->accelerate) (3.25.2)\n",
            "Requirement already satisfied: lit in /usr/local/lib/python3.10/dist-packages (from triton==2.0.0->torch>=1.6.0->accelerate) (16.0.5)\n",
            "Requirement already satisfied: MarkupSafe>=2.0 in /usr/local/lib/python3.10/dist-packages (from jinja2->torch>=1.6.0->accelerate) (2.1.2)\n",
            "Requirement already satisfied: mpmath>=0.19 in /usr/local/lib/python3.10/dist-packages (from sympy->torch>=1.6.0->accelerate) (1.3.0)\n"
          ]
        }
      ],
      "source": [
        "#! pip install --upgrade accelerate"
      ]
    },
    {
      "cell_type": "code",
      "execution_count": 42,
      "metadata": {
        "id": "KbeKSV7uzGPP"
      },
      "outputs": [],
      "source": [
        "from transformers import TrainingArguments\n",
        "# fp16=True,\n",
        "training_args = TrainingArguments(\n",
        "  output_dir=repo_name,\n",
        "  group_by_length=True,\n",
        "  per_device_train_batch_size=16,\n",
        "  gradient_accumulation_steps=2,\n",
        "  evaluation_strategy=\"steps\",\n",
        "  num_train_epochs=20,\n",
        "  gradient_checkpointing=True,\n",
        "  fp16=True,\n",
        "  save_steps=400,\n",
        "  eval_steps=400,\n",
        "  logging_steps=400,\n",
        "  learning_rate=3e-4,\n",
        "  warmup_steps=500,\n",
        "  save_total_limit=2,\n",
        "  push_to_hub=True,\n",
        ")"
      ]
    },
    {
      "cell_type": "markdown",
      "metadata": {
        "id": "OsW-WZcL1ZtN"
      },
      "source": [
        "Now, all instances can be passed to Trainer and we are ready to start training!"
      ]
    },
    {
      "cell_type": "code",
      "execution_count": 43,
      "metadata": {
        "colab": {
          "base_uri": "https://localhost:8080/"
        },
        "id": "rY7vBmFCPFgC",
        "outputId": "dedfb15b-88c9-41dc-ec67-c8c97c5ccf15"
      },
      "outputs": [
        {
          "output_type": "stream",
          "name": "stderr",
          "text": [
            "/content/wav2vec2-xls-r-300m-en-ar-fr-es is already a clone of https://huggingface.co/diallomama/wav2vec2-xls-r-300m-en-ar-fr-es. Make sure you pull the latest changes with `repo.git_pull()`.\n",
            "WARNING:huggingface_hub.repository:/content/wav2vec2-xls-r-300m-en-ar-fr-es is already a clone of https://huggingface.co/diallomama/wav2vec2-xls-r-300m-en-ar-fr-es. Make sure you pull the latest changes with `repo.git_pull()`.\n"
          ]
        }
      ],
      "source": [
        "from transformers import Trainer\n",
        "\n",
        "trainer = Trainer(\n",
        "    model=model,\n",
        "    data_collator=data_collator,\n",
        "    args=training_args,\n",
        "    compute_metrics=compute_metrics,\n",
        "    train_dataset=common_voice_train,\n",
        "    eval_dataset=common_voice_test,\n",
        "    tokenizer=processor.feature_extractor,\n",
        ")"
      ]
    },
    {
      "cell_type": "markdown",
      "metadata": {
        "id": "UoXBx1JAA0DX"
      },
      "source": [
        "\n",
        "\n",
        "---\n",
        "\n",
        "${}^1$ To allow models to become independent of the speaker rate, in CTC, consecutive tokens that are identical are simply grouped as a single token. However, the encoded labels should not be grouped when decoding since they don't correspond to the predicted tokens of the model, which is why the `group_tokens=False` parameter has to be passed. If we wouldn't pass this parameter a word like `\"hello\"` would incorrectly be encoded, and decoded as `\"helo\"`.\n",
        "\n",
        "${}^2$ The blank token allows the model to predict a word, such as `\"hello\"` by forcing it to insert the blank token between the two l's. A CTC-conform prediction of `\"hello\"` of our model would be `[PAD] [PAD] \"h\" \"e\" \"e\" \"l\" \"l\" [PAD] \"l\" \"o\" \"o\" [PAD]`."
      ]
    },
    {
      "cell_type": "markdown",
      "metadata": {
        "id": "rpvZHM1xReIW"
      },
      "source": [
        "### Training"
      ]
    },
    {
      "cell_type": "markdown",
      "metadata": {
        "id": "j-3oKSzZ1hGq"
      },
      "source": [
        "Training will take multiple hours depending on the GPU allocated to this notebook. While the trained model yields somewhat satisfying results on *Common Voice*'s test data of Turkish, it is by no means an optimally fine-tuned model. The purpose of this notebook is just to demonstrate how to fine-tune XLS-R on an ASR dataset.\n",
        "\n",
        "In case you want to use this google colab to fine-tune your model, you should make sure that your training doesn't stop due to inactivity. A simple hack to prevent this is to paste the following code into the console of this tab (*right mouse click -> inspect -> Console tab and insert code*)."
      ]
    },
    {
      "cell_type": "markdown",
      "metadata": {
        "id": "VYYAvgkW4P0m"
      },
      "source": [
        "```javascript\n",
        "function ConnectButton(){\n",
        "    console.log(\"Connect pushed\"); \n",
        "    document.querySelector(\"#top-toolbar > colab-connect-button\").shadowRoot.querySelector(\"#connect\").click() \n",
        "}\n",
        "setInterval(ConnectButton,60000);\n",
        "```"
      ]
    },
    {
      "cell_type": "markdown",
      "metadata": {
        "id": "7bGgLV2r0yvZ"
      },
      "source": [
        "Depending on what GPU was allocated to your google colab it might be possible that you are seeing an `\"out-of-memory\"` error here. In this case, it's probably best to reduce `per_device_train_batch_size` to 8 or even less and increase [`gradient_accumulation`](https://huggingface.co/transformers/master/main_classes/trainer.html#trainingarguments)."
      ]
    },
    {
      "cell_type": "code",
      "execution_count": 44,
      "metadata": {
        "colab": {
          "base_uri": "https://localhost:8080/",
          "height": 1000
        },
        "id": "9fRr9TG5pGBl",
        "outputId": "af896a6a-7047-4f4a-abde-c3b4157415fd"
      },
      "outputs": [
        {
          "metadata": {
            "tags": null
          },
          "name": "stderr",
          "output_type": "stream",
          "text": [
            "/usr/local/lib/python3.10/dist-packages/transformers/optimization.py:391: FutureWarning: This implementation of AdamW is deprecated and will be removed in a future version. Use the PyTorch implementation torch.optim.AdamW instead, or set `no_deprecation_warning=True` to disable this warning\n",
            "  warnings.warn(\n",
            "/usr/local/lib/python3.10/dist-packages/transformers/models/wav2vec2/processing_wav2vec2.py:155: UserWarning: `as_target_processor` is deprecated and will be removed in v5 of Transformers. You can process your labels by using the argument `text` of the regular `__call__` method (either in the same call as your audio inputs, or in a separate call.\n",
            "  warnings.warn(\n"
          ]
        },
        {
          "data": {
            "text/html": [
              "\n",
              "    <div>\n",
              "      \n",
              "      <progress value='10401' max='13580' style='width:300px; height:20px; vertical-align: middle;'></progress>\n",
              "      [10401/13580 7:43:45 < 2:21:46, 0.37 it/s, Epoch 15.31/20]\n",
              "    </div>\n",
              "    <table border=\"1\" class=\"dataframe\">\n",
              "  <thead>\n",
              " <tr style=\"text-align: left;\">\n",
              "      <th>Step</th>\n",
              "      <th>Training Loss</th>\n",
              "      <th>Validation Loss</th>\n",
              "      <th>Wer</th>\n",
              "    </tr>\n",
              "  </thead>\n",
              "  <tbody>\n",
              "    <tr>\n",
              "      <td>400</td>\n",
              "      <td>6.393800</td>\n",
              "      <td>3.370310</td>\n",
              "      <td>1.000000</td>\n",
              "    </tr>\n",
              "    <tr>\n",
              "      <td>800</td>\n",
              "      <td>2.353000</td>\n",
              "      <td>0.969643</td>\n",
              "      <td>0.780912</td>\n",
              "    </tr>\n",
              "    <tr>\n",
              "      <td>1200</td>\n",
              "      <td>0.985900</td>\n",
              "      <td>0.703138</td>\n",
              "      <td>0.651501</td>\n",
              "    </tr>\n",
              "    <tr>\n",
              "      <td>1600</td>\n",
              "      <td>0.768500</td>\n",
              "      <td>0.657509</td>\n",
              "      <td>0.632081</td>\n",
              "    </tr>\n",
              "    <tr>\n",
              "      <td>2000</td>\n",
              "      <td>0.689200</td>\n",
              "      <td>0.603007</td>\n",
              "      <td>0.592694</td>\n",
              "    </tr>\n",
              "    <tr>\n",
              "      <td>2400</td>\n",
              "      <td>0.586600</td>\n",
              "      <td>0.555159</td>\n",
              "      <td>0.554101</td>\n",
              "    </tr>\n",
              "    <tr>\n",
              "      <td>2800</td>\n",
              "      <td>0.549600</td>\n",
              "      <td>0.580483</td>\n",
              "      <td>0.550277</td>\n",
              "    </tr>\n",
              "    <tr>\n",
              "      <td>3200</td>\n",
              "      <td>0.489700</td>\n",
              "      <td>0.552562</td>\n",
              "      <td>0.533464</td>\n",
              "    </tr>\n",
              "    <tr>\n",
              "      <td>3600</td>\n",
              "      <td>0.467100</td>\n",
              "      <td>0.562234</td>\n",
              "      <td>0.550724</td>\n",
              "    </tr>\n",
              "    <tr>\n",
              "      <td>4000</td>\n",
              "      <td>0.434600</td>\n",
              "      <td>0.564083</td>\n",
              "      <td>0.531155</td>\n",
              "    </tr>\n",
              "    <tr>\n",
              "      <td>4400</td>\n",
              "      <td>0.385900</td>\n",
              "      <td>0.568485</td>\n",
              "      <td>0.507065</td>\n",
              "    </tr>\n",
              "    <tr>\n",
              "      <td>4800</td>\n",
              "      <td>0.372800</td>\n",
              "      <td>0.610641</td>\n",
              "      <td>0.515732</td>\n",
              "    </tr>\n",
              "    <tr>\n",
              "      <td>5200</td>\n",
              "      <td>0.324300</td>\n",
              "      <td>0.678209</td>\n",
              "      <td>0.526958</td>\n",
              "    </tr>\n",
              "    <tr>\n",
              "      <td>5600</td>\n",
              "      <td>0.307300</td>\n",
              "      <td>0.612103</td>\n",
              "      <td>0.523208</td>\n",
              "    </tr>\n",
              "    <tr>\n",
              "      <td>6000</td>\n",
              "      <td>0.274800</td>\n",
              "      <td>0.631835</td>\n",
              "      <td>0.520923</td>\n",
              "    </tr>\n",
              "    <tr>\n",
              "      <td>6400</td>\n",
              "      <td>0.250000</td>\n",
              "      <td>0.633406</td>\n",
              "      <td>0.490625</td>\n",
              "    </tr>\n",
              "    <tr>\n",
              "      <td>6800</td>\n",
              "      <td>0.247700</td>\n",
              "      <td>0.640325</td>\n",
              "      <td>0.516850</td>\n",
              "    </tr>\n",
              "    <tr>\n",
              "      <td>7200</td>\n",
              "      <td>0.212500</td>\n",
              "      <td>0.649797</td>\n",
              "      <td>0.508034</td>\n",
              "    </tr>\n",
              "    <tr>\n",
              "      <td>7600</td>\n",
              "      <td>0.199700</td>\n",
              "      <td>0.702904</td>\n",
              "      <td>0.515310</td>\n",
              "    </tr>\n",
              "    <tr>\n",
              "      <td>8000</td>\n",
              "      <td>0.180300</td>\n",
              "      <td>0.679582</td>\n",
              "      <td>0.519259</td>\n",
              "    </tr>\n",
              "    <tr>\n",
              "      <td>8400</td>\n",
              "      <td>0.164400</td>\n",
              "      <td>0.731974</td>\n",
              "      <td>0.507959</td>\n",
              "    </tr>\n",
              "    <tr>\n",
              "      <td>8800</td>\n",
              "      <td>0.160900</td>\n",
              "      <td>0.670537</td>\n",
              "      <td>0.508133</td>\n",
              "    </tr>\n",
              "    <tr>\n",
              "      <td>9200</td>\n",
              "      <td>0.141900</td>\n",
              "      <td>0.710816</td>\n",
              "      <td>0.511958</td>\n",
              "    </tr>\n",
              "    <tr>\n",
              "      <td>9600</td>\n",
              "      <td>0.137500</td>\n",
              "      <td>0.756977</td>\n",
              "      <td>0.490923</td>\n",
              "    </tr>\n",
              "    <tr>\n",
              "      <td>10000</td>\n",
              "      <td>0.126500</td>\n",
              "      <td>0.768064</td>\n",
              "      <td>0.504433</td>\n",
              "    </tr>\n",
              "  </tbody>\n",
              "</table><p>\n",
              "    <div>\n",
              "      \n",
              "      <progress value='719' max='953' style='width:300px; height:20px; vertical-align: middle;'></progress>\n",
              "      [719/953 04:10 < 01:21, 2.87 it/s]\n",
              "    </div>\n",
              "    "
            ],
            "text/plain": [
              "<IPython.core.display.HTML object>"
            ]
          },
          "metadata": {},
          "output_type": "display_data"
        },
        {
          "metadata": {
            "tags": null
          },
          "name": "stderr",
          "output_type": "stream",
          "text": [
            "/usr/local/lib/python3.10/dist-packages/transformers/models/wav2vec2/processing_wav2vec2.py:155: UserWarning: `as_target_processor` is deprecated and will be removed in v5 of Transformers. You can process your labels by using the argument `text` of the regular `__call__` method (either in the same call as your audio inputs, or in a separate call.\n",
            "  warnings.warn(\n",
            "/usr/local/lib/python3.10/dist-packages/transformers/models/wav2vec2/processing_wav2vec2.py:155: UserWarning: `as_target_processor` is deprecated and will be removed in v5 of Transformers. You can process your labels by using the argument `text` of the regular `__call__` method (either in the same call as your audio inputs, or in a separate call.\n",
            "  warnings.warn(\n",
            "/usr/local/lib/python3.10/dist-packages/transformers/models/wav2vec2/processing_wav2vec2.py:155: UserWarning: `as_target_processor` is deprecated and will be removed in v5 of Transformers. You can process your labels by using the argument `text` of the regular `__call__` method (either in the same call as your audio inputs, or in a separate call.\n",
            "  warnings.warn(\n",
            "/usr/local/lib/python3.10/dist-packages/transformers/models/wav2vec2/processing_wav2vec2.py:155: UserWarning: `as_target_processor` is deprecated and will be removed in v5 of Transformers. You can process your labels by using the argument `text` of the regular `__call__` method (either in the same call as your audio inputs, or in a separate call.\n",
            "  warnings.warn(\n",
            "/usr/local/lib/python3.10/dist-packages/transformers/models/wav2vec2/processing_wav2vec2.py:155: UserWarning: `as_target_processor` is deprecated and will be removed in v5 of Transformers. You can process your labels by using the argument `text` of the regular `__call__` method (either in the same call as your audio inputs, or in a separate call.\n",
            "  warnings.warn(\n",
            "/usr/local/lib/python3.10/dist-packages/transformers/models/wav2vec2/processing_wav2vec2.py:155: UserWarning: `as_target_processor` is deprecated and will be removed in v5 of Transformers. You can process your labels by using the argument `text` of the regular `__call__` method (either in the same call as your audio inputs, or in a separate call.\n",
            "  warnings.warn(\n",
            "/usr/local/lib/python3.10/dist-packages/transformers/models/wav2vec2/processing_wav2vec2.py:155: UserWarning: `as_target_processor` is deprecated and will be removed in v5 of Transformers. You can process your labels by using the argument `text` of the regular `__call__` method (either in the same call as your audio inputs, or in a separate call.\n",
            "  warnings.warn(\n",
            "/usr/local/lib/python3.10/dist-packages/transformers/models/wav2vec2/processing_wav2vec2.py:155: UserWarning: `as_target_processor` is deprecated and will be removed in v5 of Transformers. You can process your labels by using the argument `text` of the regular `__call__` method (either in the same call as your audio inputs, or in a separate call.\n",
            "  warnings.warn(\n",
            "/usr/local/lib/python3.10/dist-packages/transformers/models/wav2vec2/processing_wav2vec2.py:155: UserWarning: `as_target_processor` is deprecated and will be removed in v5 of Transformers. You can process your labels by using the argument `text` of the regular `__call__` method (either in the same call as your audio inputs, or in a separate call.\n",
            "  warnings.warn(\n",
            "/usr/local/lib/python3.10/dist-packages/transformers/models/wav2vec2/processing_wav2vec2.py:155: UserWarning: `as_target_processor` is deprecated and will be removed in v5 of Transformers. You can process your labels by using the argument `text` of the regular `__call__` method (either in the same call as your audio inputs, or in a separate call.\n",
            "  warnings.warn(\n",
            "/usr/local/lib/python3.10/dist-packages/transformers/models/wav2vec2/processing_wav2vec2.py:155: UserWarning: `as_target_processor` is deprecated and will be removed in v5 of Transformers. You can process your labels by using the argument `text` of the regular `__call__` method (either in the same call as your audio inputs, or in a separate call.\n",
            "  warnings.warn(\n",
            "/usr/local/lib/python3.10/dist-packages/transformers/models/wav2vec2/processing_wav2vec2.py:155: UserWarning: `as_target_processor` is deprecated and will be removed in v5 of Transformers. You can process your labels by using the argument `text` of the regular `__call__` method (either in the same call as your audio inputs, or in a separate call.\n",
            "  warnings.warn(\n",
            "/usr/local/lib/python3.10/dist-packages/transformers/models/wav2vec2/processing_wav2vec2.py:155: UserWarning: `as_target_processor` is deprecated and will be removed in v5 of Transformers. You can process your labels by using the argument `text` of the regular `__call__` method (either in the same call as your audio inputs, or in a separate call.\n",
            "  warnings.warn(\n",
            "/usr/local/lib/python3.10/dist-packages/transformers/models/wav2vec2/processing_wav2vec2.py:155: UserWarning: `as_target_processor` is deprecated and will be removed in v5 of Transformers. You can process your labels by using the argument `text` of the regular `__call__` method (either in the same call as your audio inputs, or in a separate call.\n",
            "  warnings.warn(\n",
            "/usr/local/lib/python3.10/dist-packages/transformers/models/wav2vec2/processing_wav2vec2.py:155: UserWarning: `as_target_processor` is deprecated and will be removed in v5 of Transformers. You can process your labels by using the argument `text` of the regular `__call__` method (either in the same call as your audio inputs, or in a separate call.\n",
            "  warnings.warn(\n",
            "/usr/local/lib/python3.10/dist-packages/transformers/models/wav2vec2/processing_wav2vec2.py:155: UserWarning: `as_target_processor` is deprecated and will be removed in v5 of Transformers. You can process your labels by using the argument `text` of the regular `__call__` method (either in the same call as your audio inputs, or in a separate call.\n",
            "  warnings.warn(\n",
            "/usr/local/lib/python3.10/dist-packages/transformers/models/wav2vec2/processing_wav2vec2.py:155: UserWarning: `as_target_processor` is deprecated and will be removed in v5 of Transformers. You can process your labels by using the argument `text` of the regular `__call__` method (either in the same call as your audio inputs, or in a separate call.\n",
            "  warnings.warn(\n",
            "/usr/local/lib/python3.10/dist-packages/transformers/models/wav2vec2/processing_wav2vec2.py:155: UserWarning: `as_target_processor` is deprecated and will be removed in v5 of Transformers. You can process your labels by using the argument `text` of the regular `__call__` method (either in the same call as your audio inputs, or in a separate call.\n",
            "  warnings.warn(\n",
            "/usr/local/lib/python3.10/dist-packages/transformers/models/wav2vec2/processing_wav2vec2.py:155: UserWarning: `as_target_processor` is deprecated and will be removed in v5 of Transformers. You can process your labels by using the argument `text` of the regular `__call__` method (either in the same call as your audio inputs, or in a separate call.\n",
            "  warnings.warn(\n",
            "/usr/local/lib/python3.10/dist-packages/transformers/models/wav2vec2/processing_wav2vec2.py:155: UserWarning: `as_target_processor` is deprecated and will be removed in v5 of Transformers. You can process your labels by using the argument `text` of the regular `__call__` method (either in the same call as your audio inputs, or in a separate call.\n",
            "  warnings.warn(\n",
            "/usr/local/lib/python3.10/dist-packages/transformers/models/wav2vec2/processing_wav2vec2.py:155: UserWarning: `as_target_processor` is deprecated and will be removed in v5 of Transformers. You can process your labels by using the argument `text` of the regular `__call__` method (either in the same call as your audio inputs, or in a separate call.\n",
            "  warnings.warn(\n",
            "/usr/local/lib/python3.10/dist-packages/transformers/models/wav2vec2/processing_wav2vec2.py:155: UserWarning: `as_target_processor` is deprecated and will be removed in v5 of Transformers. You can process your labels by using the argument `text` of the regular `__call__` method (either in the same call as your audio inputs, or in a separate call.\n",
            "  warnings.warn(\n",
            "/usr/local/lib/python3.10/dist-packages/transformers/models/wav2vec2/processing_wav2vec2.py:155: UserWarning: `as_target_processor` is deprecated and will be removed in v5 of Transformers. You can process your labels by using the argument `text` of the regular `__call__` method (either in the same call as your audio inputs, or in a separate call.\n",
            "  warnings.warn(\n",
            "/usr/local/lib/python3.10/dist-packages/transformers/models/wav2vec2/processing_wav2vec2.py:155: UserWarning: `as_target_processor` is deprecated and will be removed in v5 of Transformers. You can process your labels by using the argument `text` of the regular `__call__` method (either in the same call as your audio inputs, or in a separate call.\n",
            "  warnings.warn(\n",
            "/usr/local/lib/python3.10/dist-packages/transformers/models/wav2vec2/processing_wav2vec2.py:155: UserWarning: `as_target_processor` is deprecated and will be removed in v5 of Transformers. You can process your labels by using the argument `text` of the regular `__call__` method (either in the same call as your audio inputs, or in a separate call.\n",
            "  warnings.warn(\n"
          ]
        },
        {
          "output_type": "display_data",
          "data": {
            "text/plain": [
              "<IPython.core.display.HTML object>"
            ],
            "text/html": [
              "\n",
              "    <div>\n",
              "      \n",
              "      <progress value='13580' max='13580' style='width:300px; height:20px; vertical-align: middle;'></progress>\n",
              "      [13580/13580 10:08:34, Epoch 19/20]\n",
              "    </div>\n",
              "    <table border=\"1\" class=\"dataframe\">\n",
              "  <thead>\n",
              " <tr style=\"text-align: left;\">\n",
              "      <th>Step</th>\n",
              "      <th>Training Loss</th>\n",
              "      <th>Validation Loss</th>\n",
              "      <th>Wer</th>\n",
              "    </tr>\n",
              "  </thead>\n",
              "  <tbody>\n",
              "    <tr>\n",
              "      <td>400</td>\n",
              "      <td>6.393800</td>\n",
              "      <td>3.370310</td>\n",
              "      <td>1.000000</td>\n",
              "    </tr>\n",
              "    <tr>\n",
              "      <td>800</td>\n",
              "      <td>2.353000</td>\n",
              "      <td>0.969643</td>\n",
              "      <td>0.780912</td>\n",
              "    </tr>\n",
              "    <tr>\n",
              "      <td>1200</td>\n",
              "      <td>0.985900</td>\n",
              "      <td>0.703138</td>\n",
              "      <td>0.651501</td>\n",
              "    </tr>\n",
              "    <tr>\n",
              "      <td>1600</td>\n",
              "      <td>0.768500</td>\n",
              "      <td>0.657509</td>\n",
              "      <td>0.632081</td>\n",
              "    </tr>\n",
              "    <tr>\n",
              "      <td>2000</td>\n",
              "      <td>0.689200</td>\n",
              "      <td>0.603007</td>\n",
              "      <td>0.592694</td>\n",
              "    </tr>\n",
              "    <tr>\n",
              "      <td>2400</td>\n",
              "      <td>0.586600</td>\n",
              "      <td>0.555159</td>\n",
              "      <td>0.554101</td>\n",
              "    </tr>\n",
              "    <tr>\n",
              "      <td>2800</td>\n",
              "      <td>0.549600</td>\n",
              "      <td>0.580483</td>\n",
              "      <td>0.550277</td>\n",
              "    </tr>\n",
              "    <tr>\n",
              "      <td>3200</td>\n",
              "      <td>0.489700</td>\n",
              "      <td>0.552562</td>\n",
              "      <td>0.533464</td>\n",
              "    </tr>\n",
              "    <tr>\n",
              "      <td>3600</td>\n",
              "      <td>0.467100</td>\n",
              "      <td>0.562234</td>\n",
              "      <td>0.550724</td>\n",
              "    </tr>\n",
              "    <tr>\n",
              "      <td>4000</td>\n",
              "      <td>0.434600</td>\n",
              "      <td>0.564083</td>\n",
              "      <td>0.531155</td>\n",
              "    </tr>\n",
              "    <tr>\n",
              "      <td>4400</td>\n",
              "      <td>0.385900</td>\n",
              "      <td>0.568485</td>\n",
              "      <td>0.507065</td>\n",
              "    </tr>\n",
              "    <tr>\n",
              "      <td>4800</td>\n",
              "      <td>0.372800</td>\n",
              "      <td>0.610641</td>\n",
              "      <td>0.515732</td>\n",
              "    </tr>\n",
              "    <tr>\n",
              "      <td>5200</td>\n",
              "      <td>0.324300</td>\n",
              "      <td>0.678209</td>\n",
              "      <td>0.526958</td>\n",
              "    </tr>\n",
              "    <tr>\n",
              "      <td>5600</td>\n",
              "      <td>0.307300</td>\n",
              "      <td>0.612103</td>\n",
              "      <td>0.523208</td>\n",
              "    </tr>\n",
              "    <tr>\n",
              "      <td>6000</td>\n",
              "      <td>0.274800</td>\n",
              "      <td>0.631835</td>\n",
              "      <td>0.520923</td>\n",
              "    </tr>\n",
              "    <tr>\n",
              "      <td>6400</td>\n",
              "      <td>0.250000</td>\n",
              "      <td>0.633406</td>\n",
              "      <td>0.490625</td>\n",
              "    </tr>\n",
              "    <tr>\n",
              "      <td>6800</td>\n",
              "      <td>0.247700</td>\n",
              "      <td>0.640325</td>\n",
              "      <td>0.516850</td>\n",
              "    </tr>\n",
              "    <tr>\n",
              "      <td>7200</td>\n",
              "      <td>0.212500</td>\n",
              "      <td>0.649797</td>\n",
              "      <td>0.508034</td>\n",
              "    </tr>\n",
              "    <tr>\n",
              "      <td>7600</td>\n",
              "      <td>0.199700</td>\n",
              "      <td>0.702904</td>\n",
              "      <td>0.515310</td>\n",
              "    </tr>\n",
              "    <tr>\n",
              "      <td>8000</td>\n",
              "      <td>0.180300</td>\n",
              "      <td>0.679582</td>\n",
              "      <td>0.519259</td>\n",
              "    </tr>\n",
              "    <tr>\n",
              "      <td>8400</td>\n",
              "      <td>0.164400</td>\n",
              "      <td>0.731974</td>\n",
              "      <td>0.507959</td>\n",
              "    </tr>\n",
              "    <tr>\n",
              "      <td>8800</td>\n",
              "      <td>0.160900</td>\n",
              "      <td>0.670537</td>\n",
              "      <td>0.508133</td>\n",
              "    </tr>\n",
              "    <tr>\n",
              "      <td>9200</td>\n",
              "      <td>0.141900</td>\n",
              "      <td>0.710816</td>\n",
              "      <td>0.511958</td>\n",
              "    </tr>\n",
              "    <tr>\n",
              "      <td>9600</td>\n",
              "      <td>0.137500</td>\n",
              "      <td>0.756977</td>\n",
              "      <td>0.490923</td>\n",
              "    </tr>\n",
              "    <tr>\n",
              "      <td>10000</td>\n",
              "      <td>0.126500</td>\n",
              "      <td>0.768064</td>\n",
              "      <td>0.504433</td>\n",
              "    </tr>\n",
              "    <tr>\n",
              "      <td>10400</td>\n",
              "      <td>0.115200</td>\n",
              "      <td>0.817993</td>\n",
              "      <td>0.501055</td>\n",
              "    </tr>\n",
              "    <tr>\n",
              "      <td>10800</td>\n",
              "      <td>0.109400</td>\n",
              "      <td>0.775277</td>\n",
              "      <td>0.494748</td>\n",
              "    </tr>\n",
              "    <tr>\n",
              "      <td>11200</td>\n",
              "      <td>0.099800</td>\n",
              "      <td>0.807700</td>\n",
              "      <td>0.497156</td>\n",
              "    </tr>\n",
              "    <tr>\n",
              "      <td>11600</td>\n",
              "      <td>0.101900</td>\n",
              "      <td>0.818921</td>\n",
              "      <td>0.492090</td>\n",
              "    </tr>\n",
              "    <tr>\n",
              "      <td>12000</td>\n",
              "      <td>0.088200</td>\n",
              "      <td>0.835072</td>\n",
              "      <td>0.492214</td>\n",
              "    </tr>\n",
              "    <tr>\n",
              "      <td>12400</td>\n",
              "      <td>0.085500</td>\n",
              "      <td>0.868765</td>\n",
              "      <td>0.490228</td>\n",
              "    </tr>\n",
              "    <tr>\n",
              "      <td>12800</td>\n",
              "      <td>0.082600</td>\n",
              "      <td>0.847624</td>\n",
              "      <td>0.491594</td>\n",
              "    </tr>\n",
              "    <tr>\n",
              "      <td>13200</td>\n",
              "      <td>0.076900</td>\n",
              "      <td>0.856508</td>\n",
              "      <td>0.486925</td>\n",
              "    </tr>\n",
              "  </tbody>\n",
              "</table><p>"
            ]
          },
          "metadata": {}
        },
        {
          "output_type": "stream",
          "name": "stderr",
          "text": [
            "/usr/local/lib/python3.10/dist-packages/transformers/models/wav2vec2/processing_wav2vec2.py:155: UserWarning: `as_target_processor` is deprecated and will be removed in v5 of Transformers. You can process your labels by using the argument `text` of the regular `__call__` method (either in the same call as your audio inputs, or in a separate call.\n",
            "  warnings.warn(\n",
            "/usr/local/lib/python3.10/dist-packages/transformers/models/wav2vec2/processing_wav2vec2.py:155: UserWarning: `as_target_processor` is deprecated and will be removed in v5 of Transformers. You can process your labels by using the argument `text` of the regular `__call__` method (either in the same call as your audio inputs, or in a separate call.\n",
            "  warnings.warn(\n",
            "/usr/local/lib/python3.10/dist-packages/transformers/models/wav2vec2/processing_wav2vec2.py:155: UserWarning: `as_target_processor` is deprecated and will be removed in v5 of Transformers. You can process your labels by using the argument `text` of the regular `__call__` method (either in the same call as your audio inputs, or in a separate call.\n",
            "  warnings.warn(\n",
            "/usr/local/lib/python3.10/dist-packages/transformers/models/wav2vec2/processing_wav2vec2.py:155: UserWarning: `as_target_processor` is deprecated and will be removed in v5 of Transformers. You can process your labels by using the argument `text` of the regular `__call__` method (either in the same call as your audio inputs, or in a separate call.\n",
            "  warnings.warn(\n",
            "/usr/local/lib/python3.10/dist-packages/transformers/models/wav2vec2/processing_wav2vec2.py:155: UserWarning: `as_target_processor` is deprecated and will be removed in v5 of Transformers. You can process your labels by using the argument `text` of the regular `__call__` method (either in the same call as your audio inputs, or in a separate call.\n",
            "  warnings.warn(\n",
            "/usr/local/lib/python3.10/dist-packages/transformers/models/wav2vec2/processing_wav2vec2.py:155: UserWarning: `as_target_processor` is deprecated and will be removed in v5 of Transformers. You can process your labels by using the argument `text` of the regular `__call__` method (either in the same call as your audio inputs, or in a separate call.\n",
            "  warnings.warn(\n",
            "/usr/local/lib/python3.10/dist-packages/transformers/models/wav2vec2/processing_wav2vec2.py:155: UserWarning: `as_target_processor` is deprecated and will be removed in v5 of Transformers. You can process your labels by using the argument `text` of the regular `__call__` method (either in the same call as your audio inputs, or in a separate call.\n",
            "  warnings.warn(\n",
            "/usr/local/lib/python3.10/dist-packages/transformers/models/wav2vec2/processing_wav2vec2.py:155: UserWarning: `as_target_processor` is deprecated and will be removed in v5 of Transformers. You can process your labels by using the argument `text` of the regular `__call__` method (either in the same call as your audio inputs, or in a separate call.\n",
            "  warnings.warn(\n"
          ]
        },
        {
          "output_type": "execute_result",
          "data": {
            "text/plain": [
              "TrainOutput(global_step=13580, training_loss=0.5312731308859824, metrics={'train_runtime': 36526.8683, 'train_samples_per_second': 11.906, 'train_steps_per_second': 0.372, 'total_flos': 5.594810948796177e+19, 'train_loss': 0.5312731308859824, 'epoch': 19.99})"
            ]
          },
          "metadata": {},
          "execution_count": 44
        }
      ],
      "source": [
        "trainer.train()"
      ]
    },
    {
      "cell_type": "markdown",
      "metadata": {
        "id": "a9q4mgMZplr_"
      },
      "source": [
        "The training loss and validation WER go down nicely."
      ]
    },
    {
      "cell_type": "markdown",
      "metadata": {
        "id": "4Ya7WEy0pd13"
      },
      "source": [
        "You can now upload the result of the training to the 🤗 Hub, just execute this instruction:"
      ]
    },
    {
      "cell_type": "code",
      "execution_count": 45,
      "metadata": {
        "colab": {
          "base_uri": "https://localhost:8080/",
          "height": 336,
          "referenced_widgets": [
            "36ff8eb24665429a9a5baf9ceddd00e8",
            "0927a80faa6844da8b7359159e71cd27",
            "7fd4765e3bec4e889e27265468acc103",
            "7dec4c1b29f942cea4680982bad4ffab",
            "4c3792f340ae452fb182b22e379c952d",
            "c2ac31ac832c4d1b87fd265f325e5b84",
            "d644cd31969a4dbb91f8262164143ee6",
            "e7297c9674444f21babdbc6149000506",
            "a9d8bdefe8264b42aec456ac6c460e8c",
            "f09a301ceb294c8ba3d4f5204a297a12",
            "7d960950900145979a34748cccef7b59",
            "2295f7f706a54e94af71254f4ef3a2cc",
            "f433fa988b7942d3a5b8b2face71d087",
            "96b8a2dab3104a3ca8120351134768c6",
            "a486d502c5bf4626998c0c139d87ab9b",
            "14624c2a476d44d29ad4ce230c132c1d",
            "5a9635fc6be24e4ba6d21bd306ac7c1e",
            "9812b0ab49af415ca0792289abdd6e37",
            "d93d37dea2d94e83acf92148c6c58d64",
            "044bca9d6bbf4199b1b91f1060afbfa4",
            "994387bd983b4079a673626720c27614",
            "1f5e3e9f85a341ac81ee7a0f7308a9cb"
          ]
        },
        "id": "ArG1Thf6NBWm",
        "outputId": "e4b40b7b-9421-416e-c5d7-56cd65c5fb30"
      },
      "outputs": [
        {
          "output_type": "display_data",
          "data": {
            "text/plain": [
              "Upload file pytorch_model.bin:   0%|          | 1.00/1.18G [00:00<?, ?B/s]"
            ],
            "application/vnd.jupyter.widget-view+json": {
              "version_major": 2,
              "version_minor": 0,
              "model_id": "36ff8eb24665429a9a5baf9ceddd00e8"
            }
          },
          "metadata": {}
        },
        {
          "output_type": "display_data",
          "data": {
            "text/plain": [
              "Upload file runs/Jun07_04-50-41_1b62bcbf64b6/events.out.tfevents.1686114073.1b62bcbf64b6.261.0:   0%|         …"
            ],
            "application/vnd.jupyter.widget-view+json": {
              "version_major": 2,
              "version_minor": 0,
              "model_id": "2295f7f706a54e94af71254f4ef3a2cc"
            }
          },
          "metadata": {}
        },
        {
          "output_type": "stream",
          "name": "stderr",
          "text": [
            "To https://huggingface.co/diallomama/wav2vec2-xls-r-300m-en-ar-fr-es\n",
            "   2f51e7f..f9c3f13  main -> main\n",
            "\n",
            "WARNING:huggingface_hub.repository:To https://huggingface.co/diallomama/wav2vec2-xls-r-300m-en-ar-fr-es\n",
            "   2f51e7f..f9c3f13  main -> main\n",
            "\n",
            "To https://huggingface.co/diallomama/wav2vec2-xls-r-300m-en-ar-fr-es\n",
            "   f9c3f13..f3736e3  main -> main\n",
            "\n",
            "WARNING:huggingface_hub.repository:To https://huggingface.co/diallomama/wav2vec2-xls-r-300m-en-ar-fr-es\n",
            "   f9c3f13..f3736e3  main -> main\n",
            "\n"
          ]
        },
        {
          "output_type": "execute_result",
          "data": {
            "text/plain": [
              "'https://huggingface.co/diallomama/wav2vec2-xls-r-300m-en-ar-fr-es/commit/f9c3f133c666646eb5ee3fea4742f898fa099b69'"
            ],
            "application/vnd.google.colaboratory.intrinsic+json": {
              "type": "string"
            }
          },
          "metadata": {},
          "execution_count": 45
        }
      ],
      "source": [
        "trainer.push_to_hub()"
      ]
    },
    {
      "cell_type": "markdown",
      "metadata": {
        "id": "RHIVc44_fY2N"
      },
      "source": [
        "You can now share this model with all your friends, family, favorite pets: they can all load it with the identifier \"your-username/the-name-you-picked\" so for instance:"
      ]
    },
    {
      "cell_type": "markdown",
      "metadata": {
        "id": "5lWWIKyBpx1h"
      },
      "source": [
        "```python\n",
        "from transformers import AutoModelForCTC, Wav2Vec2Processor\n",
        "\n",
        "model = AutoModelForCTC.from_pretrained(\"patrickvonplaten/wav2vec2-large-xls-r-300m-tr-colab\")\n",
        "processor = Wav2Vec2Processor.from_pretrained(\"patrickvonplaten/wav2vec2-large-xls-r-300m-tr-colab\")\n",
        "```"
      ]
    },
    {
      "cell_type": "markdown",
      "metadata": {
        "id": "pmi1cX0fRBit"
      },
      "source": [
        "For more examples of how XLS-R can be fine-tuned, please take a look at the [official speech recognition examples](https://github.com/huggingface/transformers/tree/master/examples/pytorch/speech-recognition#examples)."
      ]
    },
    {
      "cell_type": "markdown",
      "metadata": {
        "id": "L8b8Qkoy3KyS"
      },
      "source": [
        "### Evaluation\n",
        "\n",
        "As a final check, let's load the model and verify that it indeed has learned to transcribe Turkish speech.\n",
        "\n",
        "Let's first load the pretrained checkpoint."
      ]
    },
    {
      "cell_type": "code",
      "execution_count": 46,
      "metadata": {
        "id": "R351I9IQp_9D"
      },
      "outputs": [],
      "source": [
        "model = Wav2Vec2ForCTC.from_pretrained(repo_name).to(\"cuda\")\n",
        "processor = Wav2Vec2Processor.from_pretrained(repo_name)"
      ]
    },
    {
      "cell_type": "markdown",
      "metadata": {
        "id": "jD7TZ1YS3S_K"
      },
      "source": [
        "\n",
        "Now, we will just take the first example of the test set, run it through the model and take the `argmax(...)` of the logits to retrieve the predicted token ids."
      ]
    },
    {
      "cell_type": "code",
      "execution_count": 51,
      "metadata": {
        "colab": {
          "base_uri": "https://localhost:8080/"
        },
        "id": "pax07TnL3WZn",
        "outputId": "9513dfb2-4578-4e78-9297-27522387e120"
      },
      "outputs": [
        {
          "output_type": "stream",
          "name": "stderr",
          "text": [
            "It is strongly recommended to pass the ``sampling_rate`` argument to this function. Failing to do so can result in silent errors that might be hard to debug.\n"
          ]
        }
      ],
      "source": [
        "input_dict = processor(common_voice_test[13][\"input_values\"], return_tensors=\"pt\", padding=True)\n",
        "\n",
        "logits = model(input_dict.input_values.to(\"cuda\")).logits\n",
        "\n",
        "pred_ids = torch.argmax(logits, dim=-1)[0]"
      ]
    },
    {
      "cell_type": "markdown",
      "metadata": {
        "id": "7nkzSQu53Zs2"
      },
      "source": [
        "We adapted `common_voice_test` quite a bit so that the dataset instance does not contain the original sentence label anymore. Thus, we re-use the original dataset to get the label of the first example."
      ]
    },
    {
      "cell_type": "code",
      "execution_count": 48,
      "metadata": {
        "colab": {
          "base_uri": "https://localhost:8080/",
          "height": 89,
          "referenced_widgets": [
            "1e0fd757e79344c39578d7ef14160e3d",
            "4b233b467b3f4a86802bb4ca0233bc80",
            "5e5814dcdbd94678a4b66c75b16ee950",
            "b93b2dde94b14f98aaa291bc55ad041a",
            "efa2a728ddc14704ab2475672b06eb0a",
            "4bcbd7dd2e9f4565b4a82e2fc786abd3",
            "505c32bfa81f460a82cb3a292c1e809c",
            "d743c3f9a688469c9a444b22efc9c94d",
            "b75420803b5c4bfa917ac0a46dfc1842",
            "47b85a8b2f974b9c8c9f498564869c12",
            "b0aa337885e0428b83096d02083a31ef",
            "c178e83b9527477487aed3931e6cfb84",
            "0d9ee400e7fe4dddbcb166d574d06c9d",
            "0c216d6b705742519dcef9be7fe161f5",
            "2f257f06eece4401b357e9ac4cd74550",
            "b629a7ef7f934e0191918194260b3d16",
            "5b991385a07146cfa44d4bf58a4496a1",
            "1bdd82c3dcef4aaa8157d3e5270f3879",
            "abd583c49074471497df4c6e13affb8c",
            "d7ab064cea6f4cbb8b5a22a57810e700",
            "7b686d7f24fd44dcb7ec2ae4e38ca005",
            "7afdd9345c804ecbb7f1a8703f86b0a2",
            "0eecf11b87b24abab7062f84c1bd087e",
            "99f80c27447a45ef976fa7c7424d3a47",
            "f83d9833101e4be2bbdbdfdb696686c3",
            "9fe6592100c244868d1e450ada624ffd",
            "ebccf881b6284a77ba7a15f54d7d8174",
            "d9213c350359435382620a23f4ca425b",
            "32eae57c28ef4d0bbd44351cff5bcfeb",
            "f9648738d4914da395fb70539412dafe",
            "4e8d0ee19dea4cff92e44a10e200e08c",
            "7b5ce32d66cb4ab197775e993bd4e8e4",
            "0097c13005054dac8d5517b4682ac6ed",
            "37c6df53be7447da919f318890254774",
            "e3cf92c953aa499ab96269bc81ef449c",
            "448d228042a345a4b0f92e10d9ca4dd9",
            "78572fe1f6284812aa7663c9af272199",
            "46bac3b6e1e649fd9a796197e669b66e",
            "fd39083208c74a7ab88ebdf703347851",
            "92adddd8883a4745b3eb9e32f432867e",
            "ed079cbbe3e04b38919b2a991a135f7a",
            "525dc131034246d78cffc4267e06d8ba",
            "5ada6cb5ed3445e09b869672c18fccb1",
            "e4cf87ae53564e089609da684d53c4c6",
            "f981e7ee845048198066554fb088c3e8",
            "153f02be8a7c4174ac1f284e7ebb4877",
            "d1a5f10d26e9412a846bf4e7e9e1f633",
            "92c0cd69ea314bb1b081276fba3b0deb",
            "d3d8fe57299447d49ee08442ad1cfa8e",
            "d3475ed3eb014bc3bca509cac02067c0",
            "dbebfc4af3b44f1488e53b12f5a5f82c",
            "79c0241412f94654a50cb7eb7589bb4f",
            "9d983cfbf7fb4b2594ceaa308fda7e33",
            "c1faa2553c3240b6bf0035ff48bdd2bc",
            "9ee4c818fdbc40cb9ae3d348bcd7eb4e"
          ]
        },
        "id": "fe2AE-2xqKHx",
        "outputId": "d41201e8-53f4-42bb-fa5a-a43fb0dea0ad"
      },
      "outputs": [
        {
          "output_type": "stream",
          "name": "stderr",
          "text": [
            "WARNING:datasets.builder:Using custom data configuration ar-00b7e43d66b8c1a3\n"
          ]
        },
        {
          "output_type": "stream",
          "name": "stdout",
          "text": [
            "Downloading and preparing dataset common_voice/ar (download: 1.64 GiB, generated: 1.41 GiB, post-processed: Unknown size, total: 3.05 GiB) to /root/.cache/huggingface/datasets/common_voice/ar-00b7e43d66b8c1a3/6.1.0/5693bfc0feeade582a78c2fb250bc88f52bd86f0a7f1bb22bfee67e715de30fd...\n"
          ]
        },
        {
          "output_type": "display_data",
          "data": {
            "text/plain": [
              "0 examples [00:00, ? examples/s]"
            ],
            "application/vnd.jupyter.widget-view+json": {
              "version_major": 2,
              "version_minor": 0,
              "model_id": "1e0fd757e79344c39578d7ef14160e3d"
            }
          },
          "metadata": {}
        },
        {
          "output_type": "display_data",
          "data": {
            "text/plain": [
              "0 examples [00:00, ? examples/s]"
            ],
            "application/vnd.jupyter.widget-view+json": {
              "version_major": 2,
              "version_minor": 0,
              "model_id": "c178e83b9527477487aed3931e6cfb84"
            }
          },
          "metadata": {}
        },
        {
          "output_type": "display_data",
          "data": {
            "text/plain": [
              "0 examples [00:00, ? examples/s]"
            ],
            "application/vnd.jupyter.widget-view+json": {
              "version_major": 2,
              "version_minor": 0,
              "model_id": "0eecf11b87b24abab7062f84c1bd087e"
            }
          },
          "metadata": {}
        },
        {
          "output_type": "display_data",
          "data": {
            "text/plain": [
              "0 examples [00:00, ? examples/s]"
            ],
            "application/vnd.jupyter.widget-view+json": {
              "version_major": 2,
              "version_minor": 0,
              "model_id": "37c6df53be7447da919f318890254774"
            }
          },
          "metadata": {}
        },
        {
          "output_type": "display_data",
          "data": {
            "text/plain": [
              "0 examples [00:00, ? examples/s]"
            ],
            "application/vnd.jupyter.widget-view+json": {
              "version_major": 2,
              "version_minor": 0,
              "model_id": "f981e7ee845048198066554fb088c3e8"
            }
          },
          "metadata": {}
        },
        {
          "output_type": "stream",
          "name": "stdout",
          "text": [
            "Dataset common_voice downloaded and prepared to /root/.cache/huggingface/datasets/common_voice/ar-00b7e43d66b8c1a3/6.1.0/5693bfc0feeade582a78c2fb250bc88f52bd86f0a7f1bb22bfee67e715de30fd. Subsequent calls will reuse this data.\n"
          ]
        }
      ],
      "source": [
        "common_voice_test_transcription = load_dataset(\"common_voice\", \"ar\", data_dir=\"./cv-corpus-6.1-2020-12-11\", split=\"test\")"
      ]
    },
    {
      "cell_type": "markdown",
      "metadata": {
        "id": "epu8kCQZ3h70"
      },
      "source": [
        "\n",
        "Finally, we can decode the example."
      ]
    },
    {
      "cell_type": "code",
      "execution_count": 52,
      "metadata": {
        "colab": {
          "base_uri": "https://localhost:8080/"
        },
        "id": "K4xWqmk_qMn0",
        "outputId": "0a51b5d6-fb92-4945-a282-41465191ce27"
      },
      "outputs": [
        {
          "output_type": "stream",
          "name": "stdout",
          "text": [
            "Prediction:\n",
            "عَيْنَاهُ زَرْقَاوَتَانِ\n",
            "\n",
            "Reference:\n",
            "عيناه زرقاوتان.\n"
          ]
        }
      ],
      "source": [
        "print(\"Prediction:\")\n",
        "print(processor.decode(pred_ids))\n",
        "\n",
        "print(\"\\nReference:\")\n",
        "print(common_voice_test_transcription[13][\"sentence\"].lower())"
      ]
    },
    {
      "cell_type": "markdown",
      "metadata": {
        "id": "HwhyoMml3oOT"
      },
      "source": [
        "Alright! The transcription can definitely be recognized from our prediction, but it is not perfect yet. Training the model a bit longer, spending more time on the data preprocessing, and especially using a language model for decoding would certainly improve the model's overall performance.\n",
        "\n",
        "For a demonstration model on a low-resource language, the results are quite acceptable however 🤗."
      ]
    }
  ],
  "metadata": {
    "colab": {
      "machine_shape": "hm",
      "provenance": [],
      "gpuType": "V100",
      "include_colab_link": true
    },
    "kernelspec": {
      "display_name": "Python 3",
      "name": "python3"
    },
    "widgets": {
      "application/vnd.jupyter.widget-state+json": {
        "354dcbb1c20d45dca8897d0ef0257855": {
          "model_module": "@jupyter-widgets/controls",
          "model_name": "VBoxModel",
          "model_module_version": "1.5.0",
          "state": {
            "_dom_classes": [],
            "_model_module": "@jupyter-widgets/controls",
            "_model_module_version": "1.5.0",
            "_model_name": "VBoxModel",
            "_view_count": null,
            "_view_module": "@jupyter-widgets/controls",
            "_view_module_version": "1.5.0",
            "_view_name": "VBoxView",
            "box_style": "",
            "children": [
              "IPY_MODEL_756e6c15675a489caf527fa263b2e92b",
              "IPY_MODEL_dd208fc2e1844fd0988094890a2a2a25",
              "IPY_MODEL_93b0f0a4be98489689ad9aac95732820",
              "IPY_MODEL_466ff0be546f40e0b68ecea040421b34"
            ],
            "layout": "IPY_MODEL_1177984933dc4ca7b46478ecfb293d6d"
          }
        },
        "4cab0b20949544ed93f528a3da63de71": {
          "model_module": "@jupyter-widgets/controls",
          "model_name": "HTMLModel",
          "model_module_version": "1.5.0",
          "state": {
            "_dom_classes": [],
            "_model_module": "@jupyter-widgets/controls",
            "_model_module_version": "1.5.0",
            "_model_name": "HTMLModel",
            "_view_count": null,
            "_view_module": "@jupyter-widgets/controls",
            "_view_module_version": "1.5.0",
            "_view_name": "HTMLView",
            "description": "",
            "description_tooltip": null,
            "layout": "IPY_MODEL_a64706b2ff9c4d34b68dcf7dc1569384",
            "placeholder": "​",
            "style": "IPY_MODEL_f5a3aec943104b57aba1289386de9346",
            "value": "<center> <img\nsrc=https://huggingface.co/front/assets/huggingface_logo-noborder.svg\nalt='Hugging Face'> <br> Copy a token from <a\nhref=\"https://huggingface.co/settings/tokens\" target=\"_blank\">your Hugging Face\ntokens page</a> and paste it below. <br> Immediately click login after copying\nyour token or it might be stored in plain text in this notebook file. </center>"
          }
        },
        "b2d65219ea3a459bbfafaa112d340edf": {
          "model_module": "@jupyter-widgets/controls",
          "model_name": "PasswordModel",
          "model_module_version": "1.5.0",
          "state": {
            "_dom_classes": [],
            "_model_module": "@jupyter-widgets/controls",
            "_model_module_version": "1.5.0",
            "_model_name": "PasswordModel",
            "_view_count": null,
            "_view_module": "@jupyter-widgets/controls",
            "_view_module_version": "1.5.0",
            "_view_name": "PasswordView",
            "continuous_update": true,
            "description": "Token:",
            "description_tooltip": null,
            "disabled": false,
            "layout": "IPY_MODEL_396f82a16d024a75a2c21524de53c19c",
            "placeholder": "​",
            "style": "IPY_MODEL_c8ba0c624ca4488eadd2d8cc9d903272",
            "value": ""
          }
        },
        "d4addaac9a854fbab9c0ae9b94ac1d7c": {
          "model_module": "@jupyter-widgets/controls",
          "model_name": "CheckboxModel",
          "model_module_version": "1.5.0",
          "state": {
            "_dom_classes": [],
            "_model_module": "@jupyter-widgets/controls",
            "_model_module_version": "1.5.0",
            "_model_name": "CheckboxModel",
            "_view_count": null,
            "_view_module": "@jupyter-widgets/controls",
            "_view_module_version": "1.5.0",
            "_view_name": "CheckboxView",
            "description": "Add token as git credential?",
            "description_tooltip": null,
            "disabled": false,
            "indent": true,
            "layout": "IPY_MODEL_b9605ce151584ed2ab09d535bcbfc12d",
            "style": "IPY_MODEL_5443a647f1864929ab73ab7fa50e6da3",
            "value": true
          }
        },
        "adee7044ae6a47a583d216f054ee2b3c": {
          "model_module": "@jupyter-widgets/controls",
          "model_name": "ButtonModel",
          "model_module_version": "1.5.0",
          "state": {
            "_dom_classes": [],
            "_model_module": "@jupyter-widgets/controls",
            "_model_module_version": "1.5.0",
            "_model_name": "ButtonModel",
            "_view_count": null,
            "_view_module": "@jupyter-widgets/controls",
            "_view_module_version": "1.5.0",
            "_view_name": "ButtonView",
            "button_style": "",
            "description": "Login",
            "disabled": false,
            "icon": "",
            "layout": "IPY_MODEL_e79a5add56fb4ecf841186c4aac36972",
            "style": "IPY_MODEL_53bef2060d284d398b201a304aa8bbd6",
            "tooltip": ""
          }
        },
        "edc89b0727344241b6b94e366b62a29c": {
          "model_module": "@jupyter-widgets/controls",
          "model_name": "HTMLModel",
          "model_module_version": "1.5.0",
          "state": {
            "_dom_classes": [],
            "_model_module": "@jupyter-widgets/controls",
            "_model_module_version": "1.5.0",
            "_model_name": "HTMLModel",
            "_view_count": null,
            "_view_module": "@jupyter-widgets/controls",
            "_view_module_version": "1.5.0",
            "_view_name": "HTMLView",
            "description": "",
            "description_tooltip": null,
            "layout": "IPY_MODEL_fb7d4a3b82574a318432908ff94794ea",
            "placeholder": "​",
            "style": "IPY_MODEL_f45c32798c4243c3a44d6ac886d0ee0a",
            "value": "\n<b>Pro Tip:</b> If you don't already have one, you can create a dedicated\n'notebooks' token with 'write' access, that you can then easily reuse for all\nnotebooks. </center>"
          }
        },
        "1177984933dc4ca7b46478ecfb293d6d": {
          "model_module": "@jupyter-widgets/base",
          "model_name": "LayoutModel",
          "model_module_version": "1.2.0",
          "state": {
            "_model_module": "@jupyter-widgets/base",
            "_model_module_version": "1.2.0",
            "_model_name": "LayoutModel",
            "_view_count": null,
            "_view_module": "@jupyter-widgets/base",
            "_view_module_version": "1.2.0",
            "_view_name": "LayoutView",
            "align_content": null,
            "align_items": "center",
            "align_self": null,
            "border": null,
            "bottom": null,
            "display": "flex",
            "flex": null,
            "flex_flow": "column",
            "grid_area": null,
            "grid_auto_columns": null,
            "grid_auto_flow": null,
            "grid_auto_rows": null,
            "grid_column": null,
            "grid_gap": null,
            "grid_row": null,
            "grid_template_areas": null,
            "grid_template_columns": null,
            "grid_template_rows": null,
            "height": null,
            "justify_content": null,
            "justify_items": null,
            "left": null,
            "margin": null,
            "max_height": null,
            "max_width": null,
            "min_height": null,
            "min_width": null,
            "object_fit": null,
            "object_position": null,
            "order": null,
            "overflow": null,
            "overflow_x": null,
            "overflow_y": null,
            "padding": null,
            "right": null,
            "top": null,
            "visibility": null,
            "width": "50%"
          }
        },
        "a64706b2ff9c4d34b68dcf7dc1569384": {
          "model_module": "@jupyter-widgets/base",
          "model_name": "LayoutModel",
          "model_module_version": "1.2.0",
          "state": {
            "_model_module": "@jupyter-widgets/base",
            "_model_module_version": "1.2.0",
            "_model_name": "LayoutModel",
            "_view_count": null,
            "_view_module": "@jupyter-widgets/base",
            "_view_module_version": "1.2.0",
            "_view_name": "LayoutView",
            "align_content": null,
            "align_items": null,
            "align_self": null,
            "border": null,
            "bottom": null,
            "display": null,
            "flex": null,
            "flex_flow": null,
            "grid_area": null,
            "grid_auto_columns": null,
            "grid_auto_flow": null,
            "grid_auto_rows": null,
            "grid_column": null,
            "grid_gap": null,
            "grid_row": null,
            "grid_template_areas": null,
            "grid_template_columns": null,
            "grid_template_rows": null,
            "height": null,
            "justify_content": null,
            "justify_items": null,
            "left": null,
            "margin": null,
            "max_height": null,
            "max_width": null,
            "min_height": null,
            "min_width": null,
            "object_fit": null,
            "object_position": null,
            "order": null,
            "overflow": null,
            "overflow_x": null,
            "overflow_y": null,
            "padding": null,
            "right": null,
            "top": null,
            "visibility": null,
            "width": null
          }
        },
        "f5a3aec943104b57aba1289386de9346": {
          "model_module": "@jupyter-widgets/controls",
          "model_name": "DescriptionStyleModel",
          "model_module_version": "1.5.0",
          "state": {
            "_model_module": "@jupyter-widgets/controls",
            "_model_module_version": "1.5.0",
            "_model_name": "DescriptionStyleModel",
            "_view_count": null,
            "_view_module": "@jupyter-widgets/base",
            "_view_module_version": "1.2.0",
            "_view_name": "StyleView",
            "description_width": ""
          }
        },
        "396f82a16d024a75a2c21524de53c19c": {
          "model_module": "@jupyter-widgets/base",
          "model_name": "LayoutModel",
          "model_module_version": "1.2.0",
          "state": {
            "_model_module": "@jupyter-widgets/base",
            "_model_module_version": "1.2.0",
            "_model_name": "LayoutModel",
            "_view_count": null,
            "_view_module": "@jupyter-widgets/base",
            "_view_module_version": "1.2.0",
            "_view_name": "LayoutView",
            "align_content": null,
            "align_items": null,
            "align_self": null,
            "border": null,
            "bottom": null,
            "display": null,
            "flex": null,
            "flex_flow": null,
            "grid_area": null,
            "grid_auto_columns": null,
            "grid_auto_flow": null,
            "grid_auto_rows": null,
            "grid_column": null,
            "grid_gap": null,
            "grid_row": null,
            "grid_template_areas": null,
            "grid_template_columns": null,
            "grid_template_rows": null,
            "height": null,
            "justify_content": null,
            "justify_items": null,
            "left": null,
            "margin": null,
            "max_height": null,
            "max_width": null,
            "min_height": null,
            "min_width": null,
            "object_fit": null,
            "object_position": null,
            "order": null,
            "overflow": null,
            "overflow_x": null,
            "overflow_y": null,
            "padding": null,
            "right": null,
            "top": null,
            "visibility": null,
            "width": null
          }
        },
        "c8ba0c624ca4488eadd2d8cc9d903272": {
          "model_module": "@jupyter-widgets/controls",
          "model_name": "DescriptionStyleModel",
          "model_module_version": "1.5.0",
          "state": {
            "_model_module": "@jupyter-widgets/controls",
            "_model_module_version": "1.5.0",
            "_model_name": "DescriptionStyleModel",
            "_view_count": null,
            "_view_module": "@jupyter-widgets/base",
            "_view_module_version": "1.2.0",
            "_view_name": "StyleView",
            "description_width": ""
          }
        },
        "b9605ce151584ed2ab09d535bcbfc12d": {
          "model_module": "@jupyter-widgets/base",
          "model_name": "LayoutModel",
          "model_module_version": "1.2.0",
          "state": {
            "_model_module": "@jupyter-widgets/base",
            "_model_module_version": "1.2.0",
            "_model_name": "LayoutModel",
            "_view_count": null,
            "_view_module": "@jupyter-widgets/base",
            "_view_module_version": "1.2.0",
            "_view_name": "LayoutView",
            "align_content": null,
            "align_items": null,
            "align_self": null,
            "border": null,
            "bottom": null,
            "display": null,
            "flex": null,
            "flex_flow": null,
            "grid_area": null,
            "grid_auto_columns": null,
            "grid_auto_flow": null,
            "grid_auto_rows": null,
            "grid_column": null,
            "grid_gap": null,
            "grid_row": null,
            "grid_template_areas": null,
            "grid_template_columns": null,
            "grid_template_rows": null,
            "height": null,
            "justify_content": null,
            "justify_items": null,
            "left": null,
            "margin": null,
            "max_height": null,
            "max_width": null,
            "min_height": null,
            "min_width": null,
            "object_fit": null,
            "object_position": null,
            "order": null,
            "overflow": null,
            "overflow_x": null,
            "overflow_y": null,
            "padding": null,
            "right": null,
            "top": null,
            "visibility": null,
            "width": null
          }
        },
        "5443a647f1864929ab73ab7fa50e6da3": {
          "model_module": "@jupyter-widgets/controls",
          "model_name": "DescriptionStyleModel",
          "model_module_version": "1.5.0",
          "state": {
            "_model_module": "@jupyter-widgets/controls",
            "_model_module_version": "1.5.0",
            "_model_name": "DescriptionStyleModel",
            "_view_count": null,
            "_view_module": "@jupyter-widgets/base",
            "_view_module_version": "1.2.0",
            "_view_name": "StyleView",
            "description_width": ""
          }
        },
        "e79a5add56fb4ecf841186c4aac36972": {
          "model_module": "@jupyter-widgets/base",
          "model_name": "LayoutModel",
          "model_module_version": "1.2.0",
          "state": {
            "_model_module": "@jupyter-widgets/base",
            "_model_module_version": "1.2.0",
            "_model_name": "LayoutModel",
            "_view_count": null,
            "_view_module": "@jupyter-widgets/base",
            "_view_module_version": "1.2.0",
            "_view_name": "LayoutView",
            "align_content": null,
            "align_items": null,
            "align_self": null,
            "border": null,
            "bottom": null,
            "display": null,
            "flex": null,
            "flex_flow": null,
            "grid_area": null,
            "grid_auto_columns": null,
            "grid_auto_flow": null,
            "grid_auto_rows": null,
            "grid_column": null,
            "grid_gap": null,
            "grid_row": null,
            "grid_template_areas": null,
            "grid_template_columns": null,
            "grid_template_rows": null,
            "height": null,
            "justify_content": null,
            "justify_items": null,
            "left": null,
            "margin": null,
            "max_height": null,
            "max_width": null,
            "min_height": null,
            "min_width": null,
            "object_fit": null,
            "object_position": null,
            "order": null,
            "overflow": null,
            "overflow_x": null,
            "overflow_y": null,
            "padding": null,
            "right": null,
            "top": null,
            "visibility": null,
            "width": null
          }
        },
        "53bef2060d284d398b201a304aa8bbd6": {
          "model_module": "@jupyter-widgets/controls",
          "model_name": "ButtonStyleModel",
          "model_module_version": "1.5.0",
          "state": {
            "_model_module": "@jupyter-widgets/controls",
            "_model_module_version": "1.5.0",
            "_model_name": "ButtonStyleModel",
            "_view_count": null,
            "_view_module": "@jupyter-widgets/base",
            "_view_module_version": "1.2.0",
            "_view_name": "StyleView",
            "button_color": null,
            "font_weight": ""
          }
        },
        "fb7d4a3b82574a318432908ff94794ea": {
          "model_module": "@jupyter-widgets/base",
          "model_name": "LayoutModel",
          "model_module_version": "1.2.0",
          "state": {
            "_model_module": "@jupyter-widgets/base",
            "_model_module_version": "1.2.0",
            "_model_name": "LayoutModel",
            "_view_count": null,
            "_view_module": "@jupyter-widgets/base",
            "_view_module_version": "1.2.0",
            "_view_name": "LayoutView",
            "align_content": null,
            "align_items": null,
            "align_self": null,
            "border": null,
            "bottom": null,
            "display": null,
            "flex": null,
            "flex_flow": null,
            "grid_area": null,
            "grid_auto_columns": null,
            "grid_auto_flow": null,
            "grid_auto_rows": null,
            "grid_column": null,
            "grid_gap": null,
            "grid_row": null,
            "grid_template_areas": null,
            "grid_template_columns": null,
            "grid_template_rows": null,
            "height": null,
            "justify_content": null,
            "justify_items": null,
            "left": null,
            "margin": null,
            "max_height": null,
            "max_width": null,
            "min_height": null,
            "min_width": null,
            "object_fit": null,
            "object_position": null,
            "order": null,
            "overflow": null,
            "overflow_x": null,
            "overflow_y": null,
            "padding": null,
            "right": null,
            "top": null,
            "visibility": null,
            "width": null
          }
        },
        "f45c32798c4243c3a44d6ac886d0ee0a": {
          "model_module": "@jupyter-widgets/controls",
          "model_name": "DescriptionStyleModel",
          "model_module_version": "1.5.0",
          "state": {
            "_model_module": "@jupyter-widgets/controls",
            "_model_module_version": "1.5.0",
            "_model_name": "DescriptionStyleModel",
            "_view_count": null,
            "_view_module": "@jupyter-widgets/base",
            "_view_module_version": "1.2.0",
            "_view_name": "StyleView",
            "description_width": ""
          }
        },
        "0542745a73ac42b9b40f8b9eb80168d9": {
          "model_module": "@jupyter-widgets/controls",
          "model_name": "LabelModel",
          "model_module_version": "1.5.0",
          "state": {
            "_dom_classes": [],
            "_model_module": "@jupyter-widgets/controls",
            "_model_module_version": "1.5.0",
            "_model_name": "LabelModel",
            "_view_count": null,
            "_view_module": "@jupyter-widgets/controls",
            "_view_module_version": "1.5.0",
            "_view_name": "LabelView",
            "description": "",
            "description_tooltip": null,
            "layout": "IPY_MODEL_329d2436c8154b4bbe2312b4e7364eae",
            "placeholder": "​",
            "style": "IPY_MODEL_61436531c8ad44b1963e928ee9f7d6ff",
            "value": "Connecting..."
          }
        },
        "329d2436c8154b4bbe2312b4e7364eae": {
          "model_module": "@jupyter-widgets/base",
          "model_name": "LayoutModel",
          "model_module_version": "1.2.0",
          "state": {
            "_model_module": "@jupyter-widgets/base",
            "_model_module_version": "1.2.0",
            "_model_name": "LayoutModel",
            "_view_count": null,
            "_view_module": "@jupyter-widgets/base",
            "_view_module_version": "1.2.0",
            "_view_name": "LayoutView",
            "align_content": null,
            "align_items": null,
            "align_self": null,
            "border": null,
            "bottom": null,
            "display": null,
            "flex": null,
            "flex_flow": null,
            "grid_area": null,
            "grid_auto_columns": null,
            "grid_auto_flow": null,
            "grid_auto_rows": null,
            "grid_column": null,
            "grid_gap": null,
            "grid_row": null,
            "grid_template_areas": null,
            "grid_template_columns": null,
            "grid_template_rows": null,
            "height": null,
            "justify_content": null,
            "justify_items": null,
            "left": null,
            "margin": null,
            "max_height": null,
            "max_width": null,
            "min_height": null,
            "min_width": null,
            "object_fit": null,
            "object_position": null,
            "order": null,
            "overflow": null,
            "overflow_x": null,
            "overflow_y": null,
            "padding": null,
            "right": null,
            "top": null,
            "visibility": null,
            "width": null
          }
        },
        "61436531c8ad44b1963e928ee9f7d6ff": {
          "model_module": "@jupyter-widgets/controls",
          "model_name": "DescriptionStyleModel",
          "model_module_version": "1.5.0",
          "state": {
            "_model_module": "@jupyter-widgets/controls",
            "_model_module_version": "1.5.0",
            "_model_name": "DescriptionStyleModel",
            "_view_count": null,
            "_view_module": "@jupyter-widgets/base",
            "_view_module_version": "1.2.0",
            "_view_name": "StyleView",
            "description_width": ""
          }
        },
        "756e6c15675a489caf527fa263b2e92b": {
          "model_module": "@jupyter-widgets/controls",
          "model_name": "LabelModel",
          "model_module_version": "1.5.0",
          "state": {
            "_dom_classes": [],
            "_model_module": "@jupyter-widgets/controls",
            "_model_module_version": "1.5.0",
            "_model_name": "LabelModel",
            "_view_count": null,
            "_view_module": "@jupyter-widgets/controls",
            "_view_module_version": "1.5.0",
            "_view_name": "LabelView",
            "description": "",
            "description_tooltip": null,
            "layout": "IPY_MODEL_ec2baddee9a2498bac9d7f15463388b4",
            "placeholder": "​",
            "style": "IPY_MODEL_7d280fa92bf84aebab137a07067fdb33",
            "value": "Token is valid (permission: write)."
          }
        },
        "dd208fc2e1844fd0988094890a2a2a25": {
          "model_module": "@jupyter-widgets/controls",
          "model_name": "LabelModel",
          "model_module_version": "1.5.0",
          "state": {
            "_dom_classes": [],
            "_model_module": "@jupyter-widgets/controls",
            "_model_module_version": "1.5.0",
            "_model_name": "LabelModel",
            "_view_count": null,
            "_view_module": "@jupyter-widgets/controls",
            "_view_module_version": "1.5.0",
            "_view_name": "LabelView",
            "description": "",
            "description_tooltip": null,
            "layout": "IPY_MODEL_3d39a5d685a54fa6a9c10e587cf92099",
            "placeholder": "​",
            "style": "IPY_MODEL_9dbc096b741547beb9dcbcefb5cc84ac",
            "value": "Your token has been saved in your configured git credential helpers (store)."
          }
        },
        "93b0f0a4be98489689ad9aac95732820": {
          "model_module": "@jupyter-widgets/controls",
          "model_name": "LabelModel",
          "model_module_version": "1.5.0",
          "state": {
            "_dom_classes": [],
            "_model_module": "@jupyter-widgets/controls",
            "_model_module_version": "1.5.0",
            "_model_name": "LabelModel",
            "_view_count": null,
            "_view_module": "@jupyter-widgets/controls",
            "_view_module_version": "1.5.0",
            "_view_name": "LabelView",
            "description": "",
            "description_tooltip": null,
            "layout": "IPY_MODEL_bf55ac5af9674742ab34399891f9fcd7",
            "placeholder": "​",
            "style": "IPY_MODEL_ed4d0dc433ce48c29f2c809e7a67dab7",
            "value": "Your token has been saved to /root/.cache/huggingface/token"
          }
        },
        "466ff0be546f40e0b68ecea040421b34": {
          "model_module": "@jupyter-widgets/controls",
          "model_name": "LabelModel",
          "model_module_version": "1.5.0",
          "state": {
            "_dom_classes": [],
            "_model_module": "@jupyter-widgets/controls",
            "_model_module_version": "1.5.0",
            "_model_name": "LabelModel",
            "_view_count": null,
            "_view_module": "@jupyter-widgets/controls",
            "_view_module_version": "1.5.0",
            "_view_name": "LabelView",
            "description": "",
            "description_tooltip": null,
            "layout": "IPY_MODEL_c60e0d4291cd41fcb45df3f13a882f5b",
            "placeholder": "​",
            "style": "IPY_MODEL_214376293c464dee9406a78e6729c27a",
            "value": "Login successful"
          }
        },
        "ec2baddee9a2498bac9d7f15463388b4": {
          "model_module": "@jupyter-widgets/base",
          "model_name": "LayoutModel",
          "model_module_version": "1.2.0",
          "state": {
            "_model_module": "@jupyter-widgets/base",
            "_model_module_version": "1.2.0",
            "_model_name": "LayoutModel",
            "_view_count": null,
            "_view_module": "@jupyter-widgets/base",
            "_view_module_version": "1.2.0",
            "_view_name": "LayoutView",
            "align_content": null,
            "align_items": null,
            "align_self": null,
            "border": null,
            "bottom": null,
            "display": null,
            "flex": null,
            "flex_flow": null,
            "grid_area": null,
            "grid_auto_columns": null,
            "grid_auto_flow": null,
            "grid_auto_rows": null,
            "grid_column": null,
            "grid_gap": null,
            "grid_row": null,
            "grid_template_areas": null,
            "grid_template_columns": null,
            "grid_template_rows": null,
            "height": null,
            "justify_content": null,
            "justify_items": null,
            "left": null,
            "margin": null,
            "max_height": null,
            "max_width": null,
            "min_height": null,
            "min_width": null,
            "object_fit": null,
            "object_position": null,
            "order": null,
            "overflow": null,
            "overflow_x": null,
            "overflow_y": null,
            "padding": null,
            "right": null,
            "top": null,
            "visibility": null,
            "width": null
          }
        },
        "7d280fa92bf84aebab137a07067fdb33": {
          "model_module": "@jupyter-widgets/controls",
          "model_name": "DescriptionStyleModel",
          "model_module_version": "1.5.0",
          "state": {
            "_model_module": "@jupyter-widgets/controls",
            "_model_module_version": "1.5.0",
            "_model_name": "DescriptionStyleModel",
            "_view_count": null,
            "_view_module": "@jupyter-widgets/base",
            "_view_module_version": "1.2.0",
            "_view_name": "StyleView",
            "description_width": ""
          }
        },
        "3d39a5d685a54fa6a9c10e587cf92099": {
          "model_module": "@jupyter-widgets/base",
          "model_name": "LayoutModel",
          "model_module_version": "1.2.0",
          "state": {
            "_model_module": "@jupyter-widgets/base",
            "_model_module_version": "1.2.0",
            "_model_name": "LayoutModel",
            "_view_count": null,
            "_view_module": "@jupyter-widgets/base",
            "_view_module_version": "1.2.0",
            "_view_name": "LayoutView",
            "align_content": null,
            "align_items": null,
            "align_self": null,
            "border": null,
            "bottom": null,
            "display": null,
            "flex": null,
            "flex_flow": null,
            "grid_area": null,
            "grid_auto_columns": null,
            "grid_auto_flow": null,
            "grid_auto_rows": null,
            "grid_column": null,
            "grid_gap": null,
            "grid_row": null,
            "grid_template_areas": null,
            "grid_template_columns": null,
            "grid_template_rows": null,
            "height": null,
            "justify_content": null,
            "justify_items": null,
            "left": null,
            "margin": null,
            "max_height": null,
            "max_width": null,
            "min_height": null,
            "min_width": null,
            "object_fit": null,
            "object_position": null,
            "order": null,
            "overflow": null,
            "overflow_x": null,
            "overflow_y": null,
            "padding": null,
            "right": null,
            "top": null,
            "visibility": null,
            "width": null
          }
        },
        "9dbc096b741547beb9dcbcefb5cc84ac": {
          "model_module": "@jupyter-widgets/controls",
          "model_name": "DescriptionStyleModel",
          "model_module_version": "1.5.0",
          "state": {
            "_model_module": "@jupyter-widgets/controls",
            "_model_module_version": "1.5.0",
            "_model_name": "DescriptionStyleModel",
            "_view_count": null,
            "_view_module": "@jupyter-widgets/base",
            "_view_module_version": "1.2.0",
            "_view_name": "StyleView",
            "description_width": ""
          }
        },
        "bf55ac5af9674742ab34399891f9fcd7": {
          "model_module": "@jupyter-widgets/base",
          "model_name": "LayoutModel",
          "model_module_version": "1.2.0",
          "state": {
            "_model_module": "@jupyter-widgets/base",
            "_model_module_version": "1.2.0",
            "_model_name": "LayoutModel",
            "_view_count": null,
            "_view_module": "@jupyter-widgets/base",
            "_view_module_version": "1.2.0",
            "_view_name": "LayoutView",
            "align_content": null,
            "align_items": null,
            "align_self": null,
            "border": null,
            "bottom": null,
            "display": null,
            "flex": null,
            "flex_flow": null,
            "grid_area": null,
            "grid_auto_columns": null,
            "grid_auto_flow": null,
            "grid_auto_rows": null,
            "grid_column": null,
            "grid_gap": null,
            "grid_row": null,
            "grid_template_areas": null,
            "grid_template_columns": null,
            "grid_template_rows": null,
            "height": null,
            "justify_content": null,
            "justify_items": null,
            "left": null,
            "margin": null,
            "max_height": null,
            "max_width": null,
            "min_height": null,
            "min_width": null,
            "object_fit": null,
            "object_position": null,
            "order": null,
            "overflow": null,
            "overflow_x": null,
            "overflow_y": null,
            "padding": null,
            "right": null,
            "top": null,
            "visibility": null,
            "width": null
          }
        },
        "ed4d0dc433ce48c29f2c809e7a67dab7": {
          "model_module": "@jupyter-widgets/controls",
          "model_name": "DescriptionStyleModel",
          "model_module_version": "1.5.0",
          "state": {
            "_model_module": "@jupyter-widgets/controls",
            "_model_module_version": "1.5.0",
            "_model_name": "DescriptionStyleModel",
            "_view_count": null,
            "_view_module": "@jupyter-widgets/base",
            "_view_module_version": "1.2.0",
            "_view_name": "StyleView",
            "description_width": ""
          }
        },
        "c60e0d4291cd41fcb45df3f13a882f5b": {
          "model_module": "@jupyter-widgets/base",
          "model_name": "LayoutModel",
          "model_module_version": "1.2.0",
          "state": {
            "_model_module": "@jupyter-widgets/base",
            "_model_module_version": "1.2.0",
            "_model_name": "LayoutModel",
            "_view_count": null,
            "_view_module": "@jupyter-widgets/base",
            "_view_module_version": "1.2.0",
            "_view_name": "LayoutView",
            "align_content": null,
            "align_items": null,
            "align_self": null,
            "border": null,
            "bottom": null,
            "display": null,
            "flex": null,
            "flex_flow": null,
            "grid_area": null,
            "grid_auto_columns": null,
            "grid_auto_flow": null,
            "grid_auto_rows": null,
            "grid_column": null,
            "grid_gap": null,
            "grid_row": null,
            "grid_template_areas": null,
            "grid_template_columns": null,
            "grid_template_rows": null,
            "height": null,
            "justify_content": null,
            "justify_items": null,
            "left": null,
            "margin": null,
            "max_height": null,
            "max_width": null,
            "min_height": null,
            "min_width": null,
            "object_fit": null,
            "object_position": null,
            "order": null,
            "overflow": null,
            "overflow_x": null,
            "overflow_y": null,
            "padding": null,
            "right": null,
            "top": null,
            "visibility": null,
            "width": null
          }
        },
        "214376293c464dee9406a78e6729c27a": {
          "model_module": "@jupyter-widgets/controls",
          "model_name": "DescriptionStyleModel",
          "model_module_version": "1.5.0",
          "state": {
            "_model_module": "@jupyter-widgets/controls",
            "_model_module_version": "1.5.0",
            "_model_name": "DescriptionStyleModel",
            "_view_count": null,
            "_view_module": "@jupyter-widgets/base",
            "_view_module_version": "1.2.0",
            "_view_name": "StyleView",
            "description_width": ""
          }
        },
        "107d8d87f1804c8793d859a1e881fb33": {
          "model_module": "@jupyter-widgets/controls",
          "model_name": "HBoxModel",
          "model_module_version": "1.5.0",
          "state": {
            "_dom_classes": [],
            "_model_module": "@jupyter-widgets/controls",
            "_model_module_version": "1.5.0",
            "_model_name": "HBoxModel",
            "_view_count": null,
            "_view_module": "@jupyter-widgets/controls",
            "_view_module_version": "1.5.0",
            "_view_name": "HBoxView",
            "box_style": "",
            "children": [
              "IPY_MODEL_487b2773f42e4789a1aaa8ce37aeb656",
              "IPY_MODEL_86fa326a86f948fd82c5c052d3f3c373",
              "IPY_MODEL_222723e09e104843aeccdede121f9907"
            ],
            "layout": "IPY_MODEL_9ec3b8386f1242c7a8110242eb03d6e9"
          }
        },
        "487b2773f42e4789a1aaa8ce37aeb656": {
          "model_module": "@jupyter-widgets/controls",
          "model_name": "HTMLModel",
          "model_module_version": "1.5.0",
          "state": {
            "_dom_classes": [],
            "_model_module": "@jupyter-widgets/controls",
            "_model_module_version": "1.5.0",
            "_model_name": "HTMLModel",
            "_view_count": null,
            "_view_module": "@jupyter-widgets/controls",
            "_view_module_version": "1.5.0",
            "_view_name": "HTMLView",
            "description": "",
            "description_tooltip": null,
            "layout": "IPY_MODEL_e54bd54f91504ee8bfdc56ed0982bf4a",
            "placeholder": "​",
            "style": "IPY_MODEL_fa973005048f4ac0811235fe6e1f7bfc",
            "value": "Downloading: "
          }
        },
        "86fa326a86f948fd82c5c052d3f3c373": {
          "model_module": "@jupyter-widgets/controls",
          "model_name": "FloatProgressModel",
          "model_module_version": "1.5.0",
          "state": {
            "_dom_classes": [],
            "_model_module": "@jupyter-widgets/controls",
            "_model_module_version": "1.5.0",
            "_model_name": "FloatProgressModel",
            "_view_count": null,
            "_view_module": "@jupyter-widgets/controls",
            "_view_module_version": "1.5.0",
            "_view_name": "ProgressView",
            "bar_style": "success",
            "description": "",
            "description_tooltip": null,
            "layout": "IPY_MODEL_f9ef5cf51b06440494389550e22c92d8",
            "max": 4620,
            "min": 0,
            "orientation": "horizontal",
            "style": "IPY_MODEL_1a0e42c5750e43b18f105943d3a5e3cf",
            "value": 4620
          }
        },
        "222723e09e104843aeccdede121f9907": {
          "model_module": "@jupyter-widgets/controls",
          "model_name": "HTMLModel",
          "model_module_version": "1.5.0",
          "state": {
            "_dom_classes": [],
            "_model_module": "@jupyter-widgets/controls",
            "_model_module_version": "1.5.0",
            "_model_name": "HTMLModel",
            "_view_count": null,
            "_view_module": "@jupyter-widgets/controls",
            "_view_module_version": "1.5.0",
            "_view_name": "HTMLView",
            "description": "",
            "description_tooltip": null,
            "layout": "IPY_MODEL_01d6d0912cee48ffb1b8b880fb4f3f6d",
            "placeholder": "​",
            "style": "IPY_MODEL_b553835cd56548caafc8a90cb0506f1a",
            "value": " 23.3k/? [00:00&lt;00:00, 1.42MB/s]"
          }
        },
        "9ec3b8386f1242c7a8110242eb03d6e9": {
          "model_module": "@jupyter-widgets/base",
          "model_name": "LayoutModel",
          "model_module_version": "1.2.0",
          "state": {
            "_model_module": "@jupyter-widgets/base",
            "_model_module_version": "1.2.0",
            "_model_name": "LayoutModel",
            "_view_count": null,
            "_view_module": "@jupyter-widgets/base",
            "_view_module_version": "1.2.0",
            "_view_name": "LayoutView",
            "align_content": null,
            "align_items": null,
            "align_self": null,
            "border": null,
            "bottom": null,
            "display": null,
            "flex": null,
            "flex_flow": null,
            "grid_area": null,
            "grid_auto_columns": null,
            "grid_auto_flow": null,
            "grid_auto_rows": null,
            "grid_column": null,
            "grid_gap": null,
            "grid_row": null,
            "grid_template_areas": null,
            "grid_template_columns": null,
            "grid_template_rows": null,
            "height": null,
            "justify_content": null,
            "justify_items": null,
            "left": null,
            "margin": null,
            "max_height": null,
            "max_width": null,
            "min_height": null,
            "min_width": null,
            "object_fit": null,
            "object_position": null,
            "order": null,
            "overflow": null,
            "overflow_x": null,
            "overflow_y": null,
            "padding": null,
            "right": null,
            "top": null,
            "visibility": null,
            "width": null
          }
        },
        "e54bd54f91504ee8bfdc56ed0982bf4a": {
          "model_module": "@jupyter-widgets/base",
          "model_name": "LayoutModel",
          "model_module_version": "1.2.0",
          "state": {
            "_model_module": "@jupyter-widgets/base",
            "_model_module_version": "1.2.0",
            "_model_name": "LayoutModel",
            "_view_count": null,
            "_view_module": "@jupyter-widgets/base",
            "_view_module_version": "1.2.0",
            "_view_name": "LayoutView",
            "align_content": null,
            "align_items": null,
            "align_self": null,
            "border": null,
            "bottom": null,
            "display": null,
            "flex": null,
            "flex_flow": null,
            "grid_area": null,
            "grid_auto_columns": null,
            "grid_auto_flow": null,
            "grid_auto_rows": null,
            "grid_column": null,
            "grid_gap": null,
            "grid_row": null,
            "grid_template_areas": null,
            "grid_template_columns": null,
            "grid_template_rows": null,
            "height": null,
            "justify_content": null,
            "justify_items": null,
            "left": null,
            "margin": null,
            "max_height": null,
            "max_width": null,
            "min_height": null,
            "min_width": null,
            "object_fit": null,
            "object_position": null,
            "order": null,
            "overflow": null,
            "overflow_x": null,
            "overflow_y": null,
            "padding": null,
            "right": null,
            "top": null,
            "visibility": null,
            "width": null
          }
        },
        "fa973005048f4ac0811235fe6e1f7bfc": {
          "model_module": "@jupyter-widgets/controls",
          "model_name": "DescriptionStyleModel",
          "model_module_version": "1.5.0",
          "state": {
            "_model_module": "@jupyter-widgets/controls",
            "_model_module_version": "1.5.0",
            "_model_name": "DescriptionStyleModel",
            "_view_count": null,
            "_view_module": "@jupyter-widgets/base",
            "_view_module_version": "1.2.0",
            "_view_name": "StyleView",
            "description_width": ""
          }
        },
        "f9ef5cf51b06440494389550e22c92d8": {
          "model_module": "@jupyter-widgets/base",
          "model_name": "LayoutModel",
          "model_module_version": "1.2.0",
          "state": {
            "_model_module": "@jupyter-widgets/base",
            "_model_module_version": "1.2.0",
            "_model_name": "LayoutModel",
            "_view_count": null,
            "_view_module": "@jupyter-widgets/base",
            "_view_module_version": "1.2.0",
            "_view_name": "LayoutView",
            "align_content": null,
            "align_items": null,
            "align_self": null,
            "border": null,
            "bottom": null,
            "display": null,
            "flex": null,
            "flex_flow": null,
            "grid_area": null,
            "grid_auto_columns": null,
            "grid_auto_flow": null,
            "grid_auto_rows": null,
            "grid_column": null,
            "grid_gap": null,
            "grid_row": null,
            "grid_template_areas": null,
            "grid_template_columns": null,
            "grid_template_rows": null,
            "height": null,
            "justify_content": null,
            "justify_items": null,
            "left": null,
            "margin": null,
            "max_height": null,
            "max_width": null,
            "min_height": null,
            "min_width": null,
            "object_fit": null,
            "object_position": null,
            "order": null,
            "overflow": null,
            "overflow_x": null,
            "overflow_y": null,
            "padding": null,
            "right": null,
            "top": null,
            "visibility": null,
            "width": null
          }
        },
        "1a0e42c5750e43b18f105943d3a5e3cf": {
          "model_module": "@jupyter-widgets/controls",
          "model_name": "ProgressStyleModel",
          "model_module_version": "1.5.0",
          "state": {
            "_model_module": "@jupyter-widgets/controls",
            "_model_module_version": "1.5.0",
            "_model_name": "ProgressStyleModel",
            "_view_count": null,
            "_view_module": "@jupyter-widgets/base",
            "_view_module_version": "1.2.0",
            "_view_name": "StyleView",
            "bar_color": null,
            "description_width": ""
          }
        },
        "01d6d0912cee48ffb1b8b880fb4f3f6d": {
          "model_module": "@jupyter-widgets/base",
          "model_name": "LayoutModel",
          "model_module_version": "1.2.0",
          "state": {
            "_model_module": "@jupyter-widgets/base",
            "_model_module_version": "1.2.0",
            "_model_name": "LayoutModel",
            "_view_count": null,
            "_view_module": "@jupyter-widgets/base",
            "_view_module_version": "1.2.0",
            "_view_name": "LayoutView",
            "align_content": null,
            "align_items": null,
            "align_self": null,
            "border": null,
            "bottom": null,
            "display": null,
            "flex": null,
            "flex_flow": null,
            "grid_area": null,
            "grid_auto_columns": null,
            "grid_auto_flow": null,
            "grid_auto_rows": null,
            "grid_column": null,
            "grid_gap": null,
            "grid_row": null,
            "grid_template_areas": null,
            "grid_template_columns": null,
            "grid_template_rows": null,
            "height": null,
            "justify_content": null,
            "justify_items": null,
            "left": null,
            "margin": null,
            "max_height": null,
            "max_width": null,
            "min_height": null,
            "min_width": null,
            "object_fit": null,
            "object_position": null,
            "order": null,
            "overflow": null,
            "overflow_x": null,
            "overflow_y": null,
            "padding": null,
            "right": null,
            "top": null,
            "visibility": null,
            "width": null
          }
        },
        "b553835cd56548caafc8a90cb0506f1a": {
          "model_module": "@jupyter-widgets/controls",
          "model_name": "DescriptionStyleModel",
          "model_module_version": "1.5.0",
          "state": {
            "_model_module": "@jupyter-widgets/controls",
            "_model_module_version": "1.5.0",
            "_model_name": "DescriptionStyleModel",
            "_view_count": null,
            "_view_module": "@jupyter-widgets/base",
            "_view_module_version": "1.2.0",
            "_view_name": "StyleView",
            "description_width": ""
          }
        },
        "05c535e7caef4990bd50b4176fc9d77f": {
          "model_module": "@jupyter-widgets/controls",
          "model_name": "HBoxModel",
          "model_module_version": "1.5.0",
          "state": {
            "_dom_classes": [],
            "_model_module": "@jupyter-widgets/controls",
            "_model_module_version": "1.5.0",
            "_model_name": "HBoxModel",
            "_view_count": null,
            "_view_module": "@jupyter-widgets/controls",
            "_view_module_version": "1.5.0",
            "_view_name": "HBoxView",
            "box_style": "",
            "children": [
              "IPY_MODEL_8bef4740d3674c05a11031f4b240a48c",
              "IPY_MODEL_b5d8abf7d41c4e12beeb21b8134d6a42",
              "IPY_MODEL_b5555c7d080640daabba24266ed57ea0"
            ],
            "layout": "IPY_MODEL_74886fd0bd654c04a1d63b94c0be5bb8"
          }
        },
        "8bef4740d3674c05a11031f4b240a48c": {
          "model_module": "@jupyter-widgets/controls",
          "model_name": "HTMLModel",
          "model_module_version": "1.5.0",
          "state": {
            "_dom_classes": [],
            "_model_module": "@jupyter-widgets/controls",
            "_model_module_version": "1.5.0",
            "_model_name": "HTMLModel",
            "_view_count": null,
            "_view_module": "@jupyter-widgets/controls",
            "_view_module_version": "1.5.0",
            "_view_name": "HTMLView",
            "description": "",
            "description_tooltip": null,
            "layout": "IPY_MODEL_85dfd32b32874281b3c811d852580007",
            "placeholder": "​",
            "style": "IPY_MODEL_29fee00023b14af7aa0c9fff1aba300e",
            "value": "Downloading: "
          }
        },
        "b5d8abf7d41c4e12beeb21b8134d6a42": {
          "model_module": "@jupyter-widgets/controls",
          "model_name": "FloatProgressModel",
          "model_module_version": "1.5.0",
          "state": {
            "_dom_classes": [],
            "_model_module": "@jupyter-widgets/controls",
            "_model_module_version": "1.5.0",
            "_model_name": "FloatProgressModel",
            "_view_count": null,
            "_view_module": "@jupyter-widgets/controls",
            "_view_module_version": "1.5.0",
            "_view_name": "ProgressView",
            "bar_style": "success",
            "description": "",
            "description_tooltip": null,
            "layout": "IPY_MODEL_ac31be50c5514030959b14c1103ad10f",
            "max": 10657,
            "min": 0,
            "orientation": "horizontal",
            "style": "IPY_MODEL_85e13842091544218bd112eba36e945d",
            "value": 10657
          }
        },
        "b5555c7d080640daabba24266ed57ea0": {
          "model_module": "@jupyter-widgets/controls",
          "model_name": "HTMLModel",
          "model_module_version": "1.5.0",
          "state": {
            "_dom_classes": [],
            "_model_module": "@jupyter-widgets/controls",
            "_model_module_version": "1.5.0",
            "_model_name": "HTMLModel",
            "_view_count": null,
            "_view_module": "@jupyter-widgets/controls",
            "_view_module_version": "1.5.0",
            "_view_name": "HTMLView",
            "description": "",
            "description_tooltip": null,
            "layout": "IPY_MODEL_4efd95dc881840afbc6b7218a706e5e9",
            "placeholder": "​",
            "style": "IPY_MODEL_72f3c3687aa94d5d83242f2152ce52b7",
            "value": " 168k/? [00:00&lt;00:00, 10.5MB/s]"
          }
        },
        "74886fd0bd654c04a1d63b94c0be5bb8": {
          "model_module": "@jupyter-widgets/base",
          "model_name": "LayoutModel",
          "model_module_version": "1.2.0",
          "state": {
            "_model_module": "@jupyter-widgets/base",
            "_model_module_version": "1.2.0",
            "_model_name": "LayoutModel",
            "_view_count": null,
            "_view_module": "@jupyter-widgets/base",
            "_view_module_version": "1.2.0",
            "_view_name": "LayoutView",
            "align_content": null,
            "align_items": null,
            "align_self": null,
            "border": null,
            "bottom": null,
            "display": null,
            "flex": null,
            "flex_flow": null,
            "grid_area": null,
            "grid_auto_columns": null,
            "grid_auto_flow": null,
            "grid_auto_rows": null,
            "grid_column": null,
            "grid_gap": null,
            "grid_row": null,
            "grid_template_areas": null,
            "grid_template_columns": null,
            "grid_template_rows": null,
            "height": null,
            "justify_content": null,
            "justify_items": null,
            "left": null,
            "margin": null,
            "max_height": null,
            "max_width": null,
            "min_height": null,
            "min_width": null,
            "object_fit": null,
            "object_position": null,
            "order": null,
            "overflow": null,
            "overflow_x": null,
            "overflow_y": null,
            "padding": null,
            "right": null,
            "top": null,
            "visibility": null,
            "width": null
          }
        },
        "85dfd32b32874281b3c811d852580007": {
          "model_module": "@jupyter-widgets/base",
          "model_name": "LayoutModel",
          "model_module_version": "1.2.0",
          "state": {
            "_model_module": "@jupyter-widgets/base",
            "_model_module_version": "1.2.0",
            "_model_name": "LayoutModel",
            "_view_count": null,
            "_view_module": "@jupyter-widgets/base",
            "_view_module_version": "1.2.0",
            "_view_name": "LayoutView",
            "align_content": null,
            "align_items": null,
            "align_self": null,
            "border": null,
            "bottom": null,
            "display": null,
            "flex": null,
            "flex_flow": null,
            "grid_area": null,
            "grid_auto_columns": null,
            "grid_auto_flow": null,
            "grid_auto_rows": null,
            "grid_column": null,
            "grid_gap": null,
            "grid_row": null,
            "grid_template_areas": null,
            "grid_template_columns": null,
            "grid_template_rows": null,
            "height": null,
            "justify_content": null,
            "justify_items": null,
            "left": null,
            "margin": null,
            "max_height": null,
            "max_width": null,
            "min_height": null,
            "min_width": null,
            "object_fit": null,
            "object_position": null,
            "order": null,
            "overflow": null,
            "overflow_x": null,
            "overflow_y": null,
            "padding": null,
            "right": null,
            "top": null,
            "visibility": null,
            "width": null
          }
        },
        "29fee00023b14af7aa0c9fff1aba300e": {
          "model_module": "@jupyter-widgets/controls",
          "model_name": "DescriptionStyleModel",
          "model_module_version": "1.5.0",
          "state": {
            "_model_module": "@jupyter-widgets/controls",
            "_model_module_version": "1.5.0",
            "_model_name": "DescriptionStyleModel",
            "_view_count": null,
            "_view_module": "@jupyter-widgets/base",
            "_view_module_version": "1.2.0",
            "_view_name": "StyleView",
            "description_width": ""
          }
        },
        "ac31be50c5514030959b14c1103ad10f": {
          "model_module": "@jupyter-widgets/base",
          "model_name": "LayoutModel",
          "model_module_version": "1.2.0",
          "state": {
            "_model_module": "@jupyter-widgets/base",
            "_model_module_version": "1.2.0",
            "_model_name": "LayoutModel",
            "_view_count": null,
            "_view_module": "@jupyter-widgets/base",
            "_view_module_version": "1.2.0",
            "_view_name": "LayoutView",
            "align_content": null,
            "align_items": null,
            "align_self": null,
            "border": null,
            "bottom": null,
            "display": null,
            "flex": null,
            "flex_flow": null,
            "grid_area": null,
            "grid_auto_columns": null,
            "grid_auto_flow": null,
            "grid_auto_rows": null,
            "grid_column": null,
            "grid_gap": null,
            "grid_row": null,
            "grid_template_areas": null,
            "grid_template_columns": null,
            "grid_template_rows": null,
            "height": null,
            "justify_content": null,
            "justify_items": null,
            "left": null,
            "margin": null,
            "max_height": null,
            "max_width": null,
            "min_height": null,
            "min_width": null,
            "object_fit": null,
            "object_position": null,
            "order": null,
            "overflow": null,
            "overflow_x": null,
            "overflow_y": null,
            "padding": null,
            "right": null,
            "top": null,
            "visibility": null,
            "width": null
          }
        },
        "85e13842091544218bd112eba36e945d": {
          "model_module": "@jupyter-widgets/controls",
          "model_name": "ProgressStyleModel",
          "model_module_version": "1.5.0",
          "state": {
            "_model_module": "@jupyter-widgets/controls",
            "_model_module_version": "1.5.0",
            "_model_name": "ProgressStyleModel",
            "_view_count": null,
            "_view_module": "@jupyter-widgets/base",
            "_view_module_version": "1.2.0",
            "_view_name": "StyleView",
            "bar_color": null,
            "description_width": ""
          }
        },
        "4efd95dc881840afbc6b7218a706e5e9": {
          "model_module": "@jupyter-widgets/base",
          "model_name": "LayoutModel",
          "model_module_version": "1.2.0",
          "state": {
            "_model_module": "@jupyter-widgets/base",
            "_model_module_version": "1.2.0",
            "_model_name": "LayoutModel",
            "_view_count": null,
            "_view_module": "@jupyter-widgets/base",
            "_view_module_version": "1.2.0",
            "_view_name": "LayoutView",
            "align_content": null,
            "align_items": null,
            "align_self": null,
            "border": null,
            "bottom": null,
            "display": null,
            "flex": null,
            "flex_flow": null,
            "grid_area": null,
            "grid_auto_columns": null,
            "grid_auto_flow": null,
            "grid_auto_rows": null,
            "grid_column": null,
            "grid_gap": null,
            "grid_row": null,
            "grid_template_areas": null,
            "grid_template_columns": null,
            "grid_template_rows": null,
            "height": null,
            "justify_content": null,
            "justify_items": null,
            "left": null,
            "margin": null,
            "max_height": null,
            "max_width": null,
            "min_height": null,
            "min_width": null,
            "object_fit": null,
            "object_position": null,
            "order": null,
            "overflow": null,
            "overflow_x": null,
            "overflow_y": null,
            "padding": null,
            "right": null,
            "top": null,
            "visibility": null,
            "width": null
          }
        },
        "72f3c3687aa94d5d83242f2152ce52b7": {
          "model_module": "@jupyter-widgets/controls",
          "model_name": "DescriptionStyleModel",
          "model_module_version": "1.5.0",
          "state": {
            "_model_module": "@jupyter-widgets/controls",
            "_model_module_version": "1.5.0",
            "_model_name": "DescriptionStyleModel",
            "_view_count": null,
            "_view_module": "@jupyter-widgets/base",
            "_view_module_version": "1.2.0",
            "_view_name": "StyleView",
            "description_width": ""
          }
        },
        "29bfe3fd5021419a93c871286c8bb83a": {
          "model_module": "@jupyter-widgets/controls",
          "model_name": "HBoxModel",
          "model_module_version": "1.5.0",
          "state": {
            "_dom_classes": [],
            "_model_module": "@jupyter-widgets/controls",
            "_model_module_version": "1.5.0",
            "_model_name": "HBoxModel",
            "_view_count": null,
            "_view_module": "@jupyter-widgets/controls",
            "_view_module_version": "1.5.0",
            "_view_name": "HBoxView",
            "box_style": "",
            "children": [
              "IPY_MODEL_a87d5cdc59924cc4a8f07513c306d7e8",
              "IPY_MODEL_0fca76c4d42c4354aca6c8493e2592f1",
              "IPY_MODEL_6128120f836948d384cd09ef84bb74c5"
            ],
            "layout": "IPY_MODEL_aeb6fa5062934bd2be6ff9600419d2dd"
          }
        },
        "a87d5cdc59924cc4a8f07513c306d7e8": {
          "model_module": "@jupyter-widgets/controls",
          "model_name": "HTMLModel",
          "model_module_version": "1.5.0",
          "state": {
            "_dom_classes": [],
            "_model_module": "@jupyter-widgets/controls",
            "_model_module_version": "1.5.0",
            "_model_name": "HTMLModel",
            "_view_count": null,
            "_view_module": "@jupyter-widgets/controls",
            "_view_module_version": "1.5.0",
            "_view_name": "HTMLView",
            "description": "",
            "description_tooltip": null,
            "layout": "IPY_MODEL_908945e065114ae684314d8897166186",
            "placeholder": "​",
            "style": "IPY_MODEL_9245adb0a6aa42a29614747f67598648",
            "value": "Downloading: 100%"
          }
        },
        "0fca76c4d42c4354aca6c8493e2592f1": {
          "model_module": "@jupyter-widgets/controls",
          "model_name": "FloatProgressModel",
          "model_module_version": "1.5.0",
          "state": {
            "_dom_classes": [],
            "_model_module": "@jupyter-widgets/controls",
            "_model_module_version": "1.5.0",
            "_model_name": "FloatProgressModel",
            "_view_count": null,
            "_view_module": "@jupyter-widgets/controls",
            "_view_module_version": "1.5.0",
            "_view_name": "ProgressView",
            "bar_style": "success",
            "description": "",
            "description_tooltip": null,
            "layout": "IPY_MODEL_32da6e0fcfdd4b90835bf30324bc8f60",
            "max": 1756264615,
            "min": 0,
            "orientation": "horizontal",
            "style": "IPY_MODEL_75539c5803e64f1aa8c5b93c76c1e044",
            "value": 1756264615
          }
        },
        "6128120f836948d384cd09ef84bb74c5": {
          "model_module": "@jupyter-widgets/controls",
          "model_name": "HTMLModel",
          "model_module_version": "1.5.0",
          "state": {
            "_dom_classes": [],
            "_model_module": "@jupyter-widgets/controls",
            "_model_module_version": "1.5.0",
            "_model_name": "HTMLModel",
            "_view_count": null,
            "_view_module": "@jupyter-widgets/controls",
            "_view_module_version": "1.5.0",
            "_view_name": "HTMLView",
            "description": "",
            "description_tooltip": null,
            "layout": "IPY_MODEL_38a7d816478646c6ba21a7595cdf33ba",
            "placeholder": "​",
            "style": "IPY_MODEL_3882ca6f92ec4c488a0c309955ad134f",
            "value": " 1.76G/1.76G [02:06&lt;00:00, 19.3MB/s]"
          }
        },
        "aeb6fa5062934bd2be6ff9600419d2dd": {
          "model_module": "@jupyter-widgets/base",
          "model_name": "LayoutModel",
          "model_module_version": "1.2.0",
          "state": {
            "_model_module": "@jupyter-widgets/base",
            "_model_module_version": "1.2.0",
            "_model_name": "LayoutModel",
            "_view_count": null,
            "_view_module": "@jupyter-widgets/base",
            "_view_module_version": "1.2.0",
            "_view_name": "LayoutView",
            "align_content": null,
            "align_items": null,
            "align_self": null,
            "border": null,
            "bottom": null,
            "display": null,
            "flex": null,
            "flex_flow": null,
            "grid_area": null,
            "grid_auto_columns": null,
            "grid_auto_flow": null,
            "grid_auto_rows": null,
            "grid_column": null,
            "grid_gap": null,
            "grid_row": null,
            "grid_template_areas": null,
            "grid_template_columns": null,
            "grid_template_rows": null,
            "height": null,
            "justify_content": null,
            "justify_items": null,
            "left": null,
            "margin": null,
            "max_height": null,
            "max_width": null,
            "min_height": null,
            "min_width": null,
            "object_fit": null,
            "object_position": null,
            "order": null,
            "overflow": null,
            "overflow_x": null,
            "overflow_y": null,
            "padding": null,
            "right": null,
            "top": null,
            "visibility": null,
            "width": null
          }
        },
        "908945e065114ae684314d8897166186": {
          "model_module": "@jupyter-widgets/base",
          "model_name": "LayoutModel",
          "model_module_version": "1.2.0",
          "state": {
            "_model_module": "@jupyter-widgets/base",
            "_model_module_version": "1.2.0",
            "_model_name": "LayoutModel",
            "_view_count": null,
            "_view_module": "@jupyter-widgets/base",
            "_view_module_version": "1.2.0",
            "_view_name": "LayoutView",
            "align_content": null,
            "align_items": null,
            "align_self": null,
            "border": null,
            "bottom": null,
            "display": null,
            "flex": null,
            "flex_flow": null,
            "grid_area": null,
            "grid_auto_columns": null,
            "grid_auto_flow": null,
            "grid_auto_rows": null,
            "grid_column": null,
            "grid_gap": null,
            "grid_row": null,
            "grid_template_areas": null,
            "grid_template_columns": null,
            "grid_template_rows": null,
            "height": null,
            "justify_content": null,
            "justify_items": null,
            "left": null,
            "margin": null,
            "max_height": null,
            "max_width": null,
            "min_height": null,
            "min_width": null,
            "object_fit": null,
            "object_position": null,
            "order": null,
            "overflow": null,
            "overflow_x": null,
            "overflow_y": null,
            "padding": null,
            "right": null,
            "top": null,
            "visibility": null,
            "width": null
          }
        },
        "9245adb0a6aa42a29614747f67598648": {
          "model_module": "@jupyter-widgets/controls",
          "model_name": "DescriptionStyleModel",
          "model_module_version": "1.5.0",
          "state": {
            "_model_module": "@jupyter-widgets/controls",
            "_model_module_version": "1.5.0",
            "_model_name": "DescriptionStyleModel",
            "_view_count": null,
            "_view_module": "@jupyter-widgets/base",
            "_view_module_version": "1.2.0",
            "_view_name": "StyleView",
            "description_width": ""
          }
        },
        "32da6e0fcfdd4b90835bf30324bc8f60": {
          "model_module": "@jupyter-widgets/base",
          "model_name": "LayoutModel",
          "model_module_version": "1.2.0",
          "state": {
            "_model_module": "@jupyter-widgets/base",
            "_model_module_version": "1.2.0",
            "_model_name": "LayoutModel",
            "_view_count": null,
            "_view_module": "@jupyter-widgets/base",
            "_view_module_version": "1.2.0",
            "_view_name": "LayoutView",
            "align_content": null,
            "align_items": null,
            "align_self": null,
            "border": null,
            "bottom": null,
            "display": null,
            "flex": null,
            "flex_flow": null,
            "grid_area": null,
            "grid_auto_columns": null,
            "grid_auto_flow": null,
            "grid_auto_rows": null,
            "grid_column": null,
            "grid_gap": null,
            "grid_row": null,
            "grid_template_areas": null,
            "grid_template_columns": null,
            "grid_template_rows": null,
            "height": null,
            "justify_content": null,
            "justify_items": null,
            "left": null,
            "margin": null,
            "max_height": null,
            "max_width": null,
            "min_height": null,
            "min_width": null,
            "object_fit": null,
            "object_position": null,
            "order": null,
            "overflow": null,
            "overflow_x": null,
            "overflow_y": null,
            "padding": null,
            "right": null,
            "top": null,
            "visibility": null,
            "width": null
          }
        },
        "75539c5803e64f1aa8c5b93c76c1e044": {
          "model_module": "@jupyter-widgets/controls",
          "model_name": "ProgressStyleModel",
          "model_module_version": "1.5.0",
          "state": {
            "_model_module": "@jupyter-widgets/controls",
            "_model_module_version": "1.5.0",
            "_model_name": "ProgressStyleModel",
            "_view_count": null,
            "_view_module": "@jupyter-widgets/base",
            "_view_module_version": "1.2.0",
            "_view_name": "StyleView",
            "bar_color": null,
            "description_width": ""
          }
        },
        "38a7d816478646c6ba21a7595cdf33ba": {
          "model_module": "@jupyter-widgets/base",
          "model_name": "LayoutModel",
          "model_module_version": "1.2.0",
          "state": {
            "_model_module": "@jupyter-widgets/base",
            "_model_module_version": "1.2.0",
            "_model_name": "LayoutModel",
            "_view_count": null,
            "_view_module": "@jupyter-widgets/base",
            "_view_module_version": "1.2.0",
            "_view_name": "LayoutView",
            "align_content": null,
            "align_items": null,
            "align_self": null,
            "border": null,
            "bottom": null,
            "display": null,
            "flex": null,
            "flex_flow": null,
            "grid_area": null,
            "grid_auto_columns": null,
            "grid_auto_flow": null,
            "grid_auto_rows": null,
            "grid_column": null,
            "grid_gap": null,
            "grid_row": null,
            "grid_template_areas": null,
            "grid_template_columns": null,
            "grid_template_rows": null,
            "height": null,
            "justify_content": null,
            "justify_items": null,
            "left": null,
            "margin": null,
            "max_height": null,
            "max_width": null,
            "min_height": null,
            "min_width": null,
            "object_fit": null,
            "object_position": null,
            "order": null,
            "overflow": null,
            "overflow_x": null,
            "overflow_y": null,
            "padding": null,
            "right": null,
            "top": null,
            "visibility": null,
            "width": null
          }
        },
        "3882ca6f92ec4c488a0c309955ad134f": {
          "model_module": "@jupyter-widgets/controls",
          "model_name": "DescriptionStyleModel",
          "model_module_version": "1.5.0",
          "state": {
            "_model_module": "@jupyter-widgets/controls",
            "_model_module_version": "1.5.0",
            "_model_name": "DescriptionStyleModel",
            "_view_count": null,
            "_view_module": "@jupyter-widgets/base",
            "_view_module_version": "1.2.0",
            "_view_name": "StyleView",
            "description_width": ""
          }
        },
        "f2c68b22213549c986155585dcce88e5": {
          "model_module": "@jupyter-widgets/controls",
          "model_name": "HBoxModel",
          "model_module_version": "1.5.0",
          "state": {
            "_dom_classes": [],
            "_model_module": "@jupyter-widgets/controls",
            "_model_module_version": "1.5.0",
            "_model_name": "HBoxModel",
            "_view_count": null,
            "_view_module": "@jupyter-widgets/controls",
            "_view_module_version": "1.5.0",
            "_view_name": "HBoxView",
            "box_style": "",
            "children": [
              "IPY_MODEL_6254a8d83e7e4542b4ca1f46a33d427b",
              "IPY_MODEL_aeab1bfabf0d45edbb9cbc3050043c98",
              "IPY_MODEL_ea63bb7819d1489ab8cac73a15a488c4"
            ],
            "layout": "IPY_MODEL_fd7208a102c242e6911f2fd74baa5d8e"
          }
        },
        "6254a8d83e7e4542b4ca1f46a33d427b": {
          "model_module": "@jupyter-widgets/controls",
          "model_name": "HTMLModel",
          "model_module_version": "1.5.0",
          "state": {
            "_dom_classes": [],
            "_model_module": "@jupyter-widgets/controls",
            "_model_module_version": "1.5.0",
            "_model_name": "HTMLModel",
            "_view_count": null,
            "_view_module": "@jupyter-widgets/controls",
            "_view_module_version": "1.5.0",
            "_view_name": "HTMLView",
            "description": "",
            "description_tooltip": null,
            "layout": "IPY_MODEL_3480d9c443bf422bb2a68bde27f441f6",
            "placeholder": "​",
            "style": "IPY_MODEL_1a2ea71b682c46f38eb0f0e103c2fcad",
            "value": ""
          }
        },
        "aeab1bfabf0d45edbb9cbc3050043c98": {
          "model_module": "@jupyter-widgets/controls",
          "model_name": "FloatProgressModel",
          "model_module_version": "1.5.0",
          "state": {
            "_dom_classes": [],
            "_model_module": "@jupyter-widgets/controls",
            "_model_module_version": "1.5.0",
            "_model_name": "FloatProgressModel",
            "_view_count": null,
            "_view_module": "@jupyter-widgets/controls",
            "_view_module_version": "1.5.0",
            "_view_name": "ProgressView",
            "bar_style": "info",
            "description": "",
            "description_tooltip": null,
            "layout": "IPY_MODEL_2f0340262f8a4a3788f3dbdc882b6aee",
            "max": 1,
            "min": 0,
            "orientation": "horizontal",
            "style": "IPY_MODEL_f2ffb31a29694cc7bb28013dc2ca437d",
            "value": 1
          }
        },
        "ea63bb7819d1489ab8cac73a15a488c4": {
          "model_module": "@jupyter-widgets/controls",
          "model_name": "HTMLModel",
          "model_module_version": "1.5.0",
          "state": {
            "_dom_classes": [],
            "_model_module": "@jupyter-widgets/controls",
            "_model_module_version": "1.5.0",
            "_model_name": "HTMLModel",
            "_view_count": null,
            "_view_module": "@jupyter-widgets/controls",
            "_view_module_version": "1.5.0",
            "_view_name": "HTMLView",
            "description": "",
            "description_tooltip": null,
            "layout": "IPY_MODEL_a5f6e4e15d1f44c983a4c73f190b5dc9",
            "placeholder": "​",
            "style": "IPY_MODEL_6a9773b7c6c64dc99f8182d883c7a963",
            "value": " 14213/0 [00:16&lt;00:00, 229.16 examples/s]"
          }
        },
        "fd7208a102c242e6911f2fd74baa5d8e": {
          "model_module": "@jupyter-widgets/base",
          "model_name": "LayoutModel",
          "model_module_version": "1.2.0",
          "state": {
            "_model_module": "@jupyter-widgets/base",
            "_model_module_version": "1.2.0",
            "_model_name": "LayoutModel",
            "_view_count": null,
            "_view_module": "@jupyter-widgets/base",
            "_view_module_version": "1.2.0",
            "_view_name": "LayoutView",
            "align_content": null,
            "align_items": null,
            "align_self": null,
            "border": null,
            "bottom": null,
            "display": null,
            "flex": null,
            "flex_flow": null,
            "grid_area": null,
            "grid_auto_columns": null,
            "grid_auto_flow": null,
            "grid_auto_rows": null,
            "grid_column": null,
            "grid_gap": null,
            "grid_row": null,
            "grid_template_areas": null,
            "grid_template_columns": null,
            "grid_template_rows": null,
            "height": null,
            "justify_content": null,
            "justify_items": null,
            "left": null,
            "margin": null,
            "max_height": null,
            "max_width": null,
            "min_height": null,
            "min_width": null,
            "object_fit": null,
            "object_position": null,
            "order": null,
            "overflow": null,
            "overflow_x": null,
            "overflow_y": null,
            "padding": null,
            "right": null,
            "top": null,
            "visibility": "hidden",
            "width": null
          }
        },
        "3480d9c443bf422bb2a68bde27f441f6": {
          "model_module": "@jupyter-widgets/base",
          "model_name": "LayoutModel",
          "model_module_version": "1.2.0",
          "state": {
            "_model_module": "@jupyter-widgets/base",
            "_model_module_version": "1.2.0",
            "_model_name": "LayoutModel",
            "_view_count": null,
            "_view_module": "@jupyter-widgets/base",
            "_view_module_version": "1.2.0",
            "_view_name": "LayoutView",
            "align_content": null,
            "align_items": null,
            "align_self": null,
            "border": null,
            "bottom": null,
            "display": null,
            "flex": null,
            "flex_flow": null,
            "grid_area": null,
            "grid_auto_columns": null,
            "grid_auto_flow": null,
            "grid_auto_rows": null,
            "grid_column": null,
            "grid_gap": null,
            "grid_row": null,
            "grid_template_areas": null,
            "grid_template_columns": null,
            "grid_template_rows": null,
            "height": null,
            "justify_content": null,
            "justify_items": null,
            "left": null,
            "margin": null,
            "max_height": null,
            "max_width": null,
            "min_height": null,
            "min_width": null,
            "object_fit": null,
            "object_position": null,
            "order": null,
            "overflow": null,
            "overflow_x": null,
            "overflow_y": null,
            "padding": null,
            "right": null,
            "top": null,
            "visibility": null,
            "width": null
          }
        },
        "1a2ea71b682c46f38eb0f0e103c2fcad": {
          "model_module": "@jupyter-widgets/controls",
          "model_name": "DescriptionStyleModel",
          "model_module_version": "1.5.0",
          "state": {
            "_model_module": "@jupyter-widgets/controls",
            "_model_module_version": "1.5.0",
            "_model_name": "DescriptionStyleModel",
            "_view_count": null,
            "_view_module": "@jupyter-widgets/base",
            "_view_module_version": "1.2.0",
            "_view_name": "StyleView",
            "description_width": ""
          }
        },
        "2f0340262f8a4a3788f3dbdc882b6aee": {
          "model_module": "@jupyter-widgets/base",
          "model_name": "LayoutModel",
          "model_module_version": "1.2.0",
          "state": {
            "_model_module": "@jupyter-widgets/base",
            "_model_module_version": "1.2.0",
            "_model_name": "LayoutModel",
            "_view_count": null,
            "_view_module": "@jupyter-widgets/base",
            "_view_module_version": "1.2.0",
            "_view_name": "LayoutView",
            "align_content": null,
            "align_items": null,
            "align_self": null,
            "border": null,
            "bottom": null,
            "display": null,
            "flex": null,
            "flex_flow": null,
            "grid_area": null,
            "grid_auto_columns": null,
            "grid_auto_flow": null,
            "grid_auto_rows": null,
            "grid_column": null,
            "grid_gap": null,
            "grid_row": null,
            "grid_template_areas": null,
            "grid_template_columns": null,
            "grid_template_rows": null,
            "height": null,
            "justify_content": null,
            "justify_items": null,
            "left": null,
            "margin": null,
            "max_height": null,
            "max_width": null,
            "min_height": null,
            "min_width": null,
            "object_fit": null,
            "object_position": null,
            "order": null,
            "overflow": null,
            "overflow_x": null,
            "overflow_y": null,
            "padding": null,
            "right": null,
            "top": null,
            "visibility": null,
            "width": "20px"
          }
        },
        "f2ffb31a29694cc7bb28013dc2ca437d": {
          "model_module": "@jupyter-widgets/controls",
          "model_name": "ProgressStyleModel",
          "model_module_version": "1.5.0",
          "state": {
            "_model_module": "@jupyter-widgets/controls",
            "_model_module_version": "1.5.0",
            "_model_name": "ProgressStyleModel",
            "_view_count": null,
            "_view_module": "@jupyter-widgets/base",
            "_view_module_version": "1.2.0",
            "_view_name": "StyleView",
            "bar_color": null,
            "description_width": ""
          }
        },
        "a5f6e4e15d1f44c983a4c73f190b5dc9": {
          "model_module": "@jupyter-widgets/base",
          "model_name": "LayoutModel",
          "model_module_version": "1.2.0",
          "state": {
            "_model_module": "@jupyter-widgets/base",
            "_model_module_version": "1.2.0",
            "_model_name": "LayoutModel",
            "_view_count": null,
            "_view_module": "@jupyter-widgets/base",
            "_view_module_version": "1.2.0",
            "_view_name": "LayoutView",
            "align_content": null,
            "align_items": null,
            "align_self": null,
            "border": null,
            "bottom": null,
            "display": null,
            "flex": null,
            "flex_flow": null,
            "grid_area": null,
            "grid_auto_columns": null,
            "grid_auto_flow": null,
            "grid_auto_rows": null,
            "grid_column": null,
            "grid_gap": null,
            "grid_row": null,
            "grid_template_areas": null,
            "grid_template_columns": null,
            "grid_template_rows": null,
            "height": null,
            "justify_content": null,
            "justify_items": null,
            "left": null,
            "margin": null,
            "max_height": null,
            "max_width": null,
            "min_height": null,
            "min_width": null,
            "object_fit": null,
            "object_position": null,
            "order": null,
            "overflow": null,
            "overflow_x": null,
            "overflow_y": null,
            "padding": null,
            "right": null,
            "top": null,
            "visibility": null,
            "width": null
          }
        },
        "6a9773b7c6c64dc99f8182d883c7a963": {
          "model_module": "@jupyter-widgets/controls",
          "model_name": "DescriptionStyleModel",
          "model_module_version": "1.5.0",
          "state": {
            "_model_module": "@jupyter-widgets/controls",
            "_model_module_version": "1.5.0",
            "_model_name": "DescriptionStyleModel",
            "_view_count": null,
            "_view_module": "@jupyter-widgets/base",
            "_view_module_version": "1.2.0",
            "_view_name": "StyleView",
            "description_width": ""
          }
        },
        "b449b2bf1e85480db9ffe691dfa8fa9b": {
          "model_module": "@jupyter-widgets/controls",
          "model_name": "HBoxModel",
          "model_module_version": "1.5.0",
          "state": {
            "_dom_classes": [],
            "_model_module": "@jupyter-widgets/controls",
            "_model_module_version": "1.5.0",
            "_model_name": "HBoxModel",
            "_view_count": null,
            "_view_module": "@jupyter-widgets/controls",
            "_view_module_version": "1.5.0",
            "_view_name": "HBoxView",
            "box_style": "",
            "children": [
              "IPY_MODEL_5716d745a46c4d2bae0ecb2ba5fba195",
              "IPY_MODEL_2ae012c7f0ad449ea73ad56fa97f8dab",
              "IPY_MODEL_eca4f24d818446b3b5e2e8110ee20a9d"
            ],
            "layout": "IPY_MODEL_3798151733fe4d09844a31f72796f245"
          }
        },
        "5716d745a46c4d2bae0ecb2ba5fba195": {
          "model_module": "@jupyter-widgets/controls",
          "model_name": "HTMLModel",
          "model_module_version": "1.5.0",
          "state": {
            "_dom_classes": [],
            "_model_module": "@jupyter-widgets/controls",
            "_model_module_version": "1.5.0",
            "_model_name": "HTMLModel",
            "_view_count": null,
            "_view_module": "@jupyter-widgets/controls",
            "_view_module_version": "1.5.0",
            "_view_name": "HTMLView",
            "description": "",
            "description_tooltip": null,
            "layout": "IPY_MODEL_cbe07c44a34b41a7a6512422b059e126",
            "placeholder": "​",
            "style": "IPY_MODEL_3a10c83f1c46429b97e9deab9fa6d2ee",
            "value": ""
          }
        },
        "2ae012c7f0ad449ea73ad56fa97f8dab": {
          "model_module": "@jupyter-widgets/controls",
          "model_name": "FloatProgressModel",
          "model_module_version": "1.5.0",
          "state": {
            "_dom_classes": [],
            "_model_module": "@jupyter-widgets/controls",
            "_model_module_version": "1.5.0",
            "_model_name": "FloatProgressModel",
            "_view_count": null,
            "_view_module": "@jupyter-widgets/controls",
            "_view_module_version": "1.5.0",
            "_view_name": "ProgressView",
            "bar_style": "info",
            "description": "",
            "description_tooltip": null,
            "layout": "IPY_MODEL_cc3e5cff878e4d9bb0e67aeaec59fb34",
            "max": 1,
            "min": 0,
            "orientation": "horizontal",
            "style": "IPY_MODEL_aba6e9151b6846e888cbb34468652566",
            "value": 1
          }
        },
        "eca4f24d818446b3b5e2e8110ee20a9d": {
          "model_module": "@jupyter-widgets/controls",
          "model_name": "HTMLModel",
          "model_module_version": "1.5.0",
          "state": {
            "_dom_classes": [],
            "_model_module": "@jupyter-widgets/controls",
            "_model_module_version": "1.5.0",
            "_model_name": "HTMLModel",
            "_view_count": null,
            "_view_module": "@jupyter-widgets/controls",
            "_view_module_version": "1.5.0",
            "_view_name": "HTMLView",
            "description": "",
            "description_tooltip": null,
            "layout": "IPY_MODEL_76a419a18f6f42908695b22f99d22806",
            "placeholder": "​",
            "style": "IPY_MODEL_a3f5e0a9f2384582b577d50880656f00",
            "value": " 7620/0 [00:15&lt;00:00, 147.96 examples/s]"
          }
        },
        "3798151733fe4d09844a31f72796f245": {
          "model_module": "@jupyter-widgets/base",
          "model_name": "LayoutModel",
          "model_module_version": "1.2.0",
          "state": {
            "_model_module": "@jupyter-widgets/base",
            "_model_module_version": "1.2.0",
            "_model_name": "LayoutModel",
            "_view_count": null,
            "_view_module": "@jupyter-widgets/base",
            "_view_module_version": "1.2.0",
            "_view_name": "LayoutView",
            "align_content": null,
            "align_items": null,
            "align_self": null,
            "border": null,
            "bottom": null,
            "display": null,
            "flex": null,
            "flex_flow": null,
            "grid_area": null,
            "grid_auto_columns": null,
            "grid_auto_flow": null,
            "grid_auto_rows": null,
            "grid_column": null,
            "grid_gap": null,
            "grid_row": null,
            "grid_template_areas": null,
            "grid_template_columns": null,
            "grid_template_rows": null,
            "height": null,
            "justify_content": null,
            "justify_items": null,
            "left": null,
            "margin": null,
            "max_height": null,
            "max_width": null,
            "min_height": null,
            "min_width": null,
            "object_fit": null,
            "object_position": null,
            "order": null,
            "overflow": null,
            "overflow_x": null,
            "overflow_y": null,
            "padding": null,
            "right": null,
            "top": null,
            "visibility": "hidden",
            "width": null
          }
        },
        "cbe07c44a34b41a7a6512422b059e126": {
          "model_module": "@jupyter-widgets/base",
          "model_name": "LayoutModel",
          "model_module_version": "1.2.0",
          "state": {
            "_model_module": "@jupyter-widgets/base",
            "_model_module_version": "1.2.0",
            "_model_name": "LayoutModel",
            "_view_count": null,
            "_view_module": "@jupyter-widgets/base",
            "_view_module_version": "1.2.0",
            "_view_name": "LayoutView",
            "align_content": null,
            "align_items": null,
            "align_self": null,
            "border": null,
            "bottom": null,
            "display": null,
            "flex": null,
            "flex_flow": null,
            "grid_area": null,
            "grid_auto_columns": null,
            "grid_auto_flow": null,
            "grid_auto_rows": null,
            "grid_column": null,
            "grid_gap": null,
            "grid_row": null,
            "grid_template_areas": null,
            "grid_template_columns": null,
            "grid_template_rows": null,
            "height": null,
            "justify_content": null,
            "justify_items": null,
            "left": null,
            "margin": null,
            "max_height": null,
            "max_width": null,
            "min_height": null,
            "min_width": null,
            "object_fit": null,
            "object_position": null,
            "order": null,
            "overflow": null,
            "overflow_x": null,
            "overflow_y": null,
            "padding": null,
            "right": null,
            "top": null,
            "visibility": null,
            "width": null
          }
        },
        "3a10c83f1c46429b97e9deab9fa6d2ee": {
          "model_module": "@jupyter-widgets/controls",
          "model_name": "DescriptionStyleModel",
          "model_module_version": "1.5.0",
          "state": {
            "_model_module": "@jupyter-widgets/controls",
            "_model_module_version": "1.5.0",
            "_model_name": "DescriptionStyleModel",
            "_view_count": null,
            "_view_module": "@jupyter-widgets/base",
            "_view_module_version": "1.2.0",
            "_view_name": "StyleView",
            "description_width": ""
          }
        },
        "cc3e5cff878e4d9bb0e67aeaec59fb34": {
          "model_module": "@jupyter-widgets/base",
          "model_name": "LayoutModel",
          "model_module_version": "1.2.0",
          "state": {
            "_model_module": "@jupyter-widgets/base",
            "_model_module_version": "1.2.0",
            "_model_name": "LayoutModel",
            "_view_count": null,
            "_view_module": "@jupyter-widgets/base",
            "_view_module_version": "1.2.0",
            "_view_name": "LayoutView",
            "align_content": null,
            "align_items": null,
            "align_self": null,
            "border": null,
            "bottom": null,
            "display": null,
            "flex": null,
            "flex_flow": null,
            "grid_area": null,
            "grid_auto_columns": null,
            "grid_auto_flow": null,
            "grid_auto_rows": null,
            "grid_column": null,
            "grid_gap": null,
            "grid_row": null,
            "grid_template_areas": null,
            "grid_template_columns": null,
            "grid_template_rows": null,
            "height": null,
            "justify_content": null,
            "justify_items": null,
            "left": null,
            "margin": null,
            "max_height": null,
            "max_width": null,
            "min_height": null,
            "min_width": null,
            "object_fit": null,
            "object_position": null,
            "order": null,
            "overflow": null,
            "overflow_x": null,
            "overflow_y": null,
            "padding": null,
            "right": null,
            "top": null,
            "visibility": null,
            "width": "20px"
          }
        },
        "aba6e9151b6846e888cbb34468652566": {
          "model_module": "@jupyter-widgets/controls",
          "model_name": "ProgressStyleModel",
          "model_module_version": "1.5.0",
          "state": {
            "_model_module": "@jupyter-widgets/controls",
            "_model_module_version": "1.5.0",
            "_model_name": "ProgressStyleModel",
            "_view_count": null,
            "_view_module": "@jupyter-widgets/base",
            "_view_module_version": "1.2.0",
            "_view_name": "StyleView",
            "bar_color": null,
            "description_width": ""
          }
        },
        "76a419a18f6f42908695b22f99d22806": {
          "model_module": "@jupyter-widgets/base",
          "model_name": "LayoutModel",
          "model_module_version": "1.2.0",
          "state": {
            "_model_module": "@jupyter-widgets/base",
            "_model_module_version": "1.2.0",
            "_model_name": "LayoutModel",
            "_view_count": null,
            "_view_module": "@jupyter-widgets/base",
            "_view_module_version": "1.2.0",
            "_view_name": "LayoutView",
            "align_content": null,
            "align_items": null,
            "align_self": null,
            "border": null,
            "bottom": null,
            "display": null,
            "flex": null,
            "flex_flow": null,
            "grid_area": null,
            "grid_auto_columns": null,
            "grid_auto_flow": null,
            "grid_auto_rows": null,
            "grid_column": null,
            "grid_gap": null,
            "grid_row": null,
            "grid_template_areas": null,
            "grid_template_columns": null,
            "grid_template_rows": null,
            "height": null,
            "justify_content": null,
            "justify_items": null,
            "left": null,
            "margin": null,
            "max_height": null,
            "max_width": null,
            "min_height": null,
            "min_width": null,
            "object_fit": null,
            "object_position": null,
            "order": null,
            "overflow": null,
            "overflow_x": null,
            "overflow_y": null,
            "padding": null,
            "right": null,
            "top": null,
            "visibility": null,
            "width": null
          }
        },
        "a3f5e0a9f2384582b577d50880656f00": {
          "model_module": "@jupyter-widgets/controls",
          "model_name": "DescriptionStyleModel",
          "model_module_version": "1.5.0",
          "state": {
            "_model_module": "@jupyter-widgets/controls",
            "_model_module_version": "1.5.0",
            "_model_name": "DescriptionStyleModel",
            "_view_count": null,
            "_view_module": "@jupyter-widgets/base",
            "_view_module_version": "1.2.0",
            "_view_name": "StyleView",
            "description_width": ""
          }
        },
        "05c8bbf932b34ccf8946dc9526eb0818": {
          "model_module": "@jupyter-widgets/controls",
          "model_name": "HBoxModel",
          "model_module_version": "1.5.0",
          "state": {
            "_dom_classes": [],
            "_model_module": "@jupyter-widgets/controls",
            "_model_module_version": "1.5.0",
            "_model_name": "HBoxModel",
            "_view_count": null,
            "_view_module": "@jupyter-widgets/controls",
            "_view_module_version": "1.5.0",
            "_view_name": "HBoxView",
            "box_style": "",
            "children": [
              "IPY_MODEL_5c3bef13e8f64b7e840738f129a84e72",
              "IPY_MODEL_2a53c96273014a54bf08baf61d157801",
              "IPY_MODEL_eb38eb6e892c402e9284b0ad4eeee90c"
            ],
            "layout": "IPY_MODEL_bedfa60045de4ed2b257ce0a36a166e7"
          }
        },
        "5c3bef13e8f64b7e840738f129a84e72": {
          "model_module": "@jupyter-widgets/controls",
          "model_name": "HTMLModel",
          "model_module_version": "1.5.0",
          "state": {
            "_dom_classes": [],
            "_model_module": "@jupyter-widgets/controls",
            "_model_module_version": "1.5.0",
            "_model_name": "HTMLModel",
            "_view_count": null,
            "_view_module": "@jupyter-widgets/controls",
            "_view_module_version": "1.5.0",
            "_view_name": "HTMLView",
            "description": "",
            "description_tooltip": null,
            "layout": "IPY_MODEL_e11bab0ac74a4ac1b40da42b6253fb75",
            "placeholder": "​",
            "style": "IPY_MODEL_475b0eae0d0545cb839404003dec6c65",
            "value": ""
          }
        },
        "2a53c96273014a54bf08baf61d157801": {
          "model_module": "@jupyter-widgets/controls",
          "model_name": "FloatProgressModel",
          "model_module_version": "1.5.0",
          "state": {
            "_dom_classes": [],
            "_model_module": "@jupyter-widgets/controls",
            "_model_module_version": "1.5.0",
            "_model_name": "FloatProgressModel",
            "_view_count": null,
            "_view_module": "@jupyter-widgets/controls",
            "_view_module_version": "1.5.0",
            "_view_name": "ProgressView",
            "bar_style": "info",
            "description": "",
            "description_tooltip": null,
            "layout": "IPY_MODEL_8946050600e546dabbdcc1ce9389286b",
            "max": 1,
            "min": 0,
            "orientation": "horizontal",
            "style": "IPY_MODEL_4af96b8ee6be41328581a992d7ca1ec0",
            "value": 1
          }
        },
        "eb38eb6e892c402e9284b0ad4eeee90c": {
          "model_module": "@jupyter-widgets/controls",
          "model_name": "HTMLModel",
          "model_module_version": "1.5.0",
          "state": {
            "_dom_classes": [],
            "_model_module": "@jupyter-widgets/controls",
            "_model_module_version": "1.5.0",
            "_model_name": "HTMLModel",
            "_view_count": null,
            "_view_module": "@jupyter-widgets/controls",
            "_view_module_version": "1.5.0",
            "_view_name": "HTMLView",
            "description": "",
            "description_tooltip": null,
            "layout": "IPY_MODEL_0d70c24568e64aa687a7682550e0f2d0",
            "placeholder": "​",
            "style": "IPY_MODEL_7876a16eb2834e30bcd0356868d5f7d9",
            "value": " 7496/0 [00:15&lt;00:00, 182.79 examples/s]"
          }
        },
        "bedfa60045de4ed2b257ce0a36a166e7": {
          "model_module": "@jupyter-widgets/base",
          "model_name": "LayoutModel",
          "model_module_version": "1.2.0",
          "state": {
            "_model_module": "@jupyter-widgets/base",
            "_model_module_version": "1.2.0",
            "_model_name": "LayoutModel",
            "_view_count": null,
            "_view_module": "@jupyter-widgets/base",
            "_view_module_version": "1.2.0",
            "_view_name": "LayoutView",
            "align_content": null,
            "align_items": null,
            "align_self": null,
            "border": null,
            "bottom": null,
            "display": null,
            "flex": null,
            "flex_flow": null,
            "grid_area": null,
            "grid_auto_columns": null,
            "grid_auto_flow": null,
            "grid_auto_rows": null,
            "grid_column": null,
            "grid_gap": null,
            "grid_row": null,
            "grid_template_areas": null,
            "grid_template_columns": null,
            "grid_template_rows": null,
            "height": null,
            "justify_content": null,
            "justify_items": null,
            "left": null,
            "margin": null,
            "max_height": null,
            "max_width": null,
            "min_height": null,
            "min_width": null,
            "object_fit": null,
            "object_position": null,
            "order": null,
            "overflow": null,
            "overflow_x": null,
            "overflow_y": null,
            "padding": null,
            "right": null,
            "top": null,
            "visibility": "hidden",
            "width": null
          }
        },
        "e11bab0ac74a4ac1b40da42b6253fb75": {
          "model_module": "@jupyter-widgets/base",
          "model_name": "LayoutModel",
          "model_module_version": "1.2.0",
          "state": {
            "_model_module": "@jupyter-widgets/base",
            "_model_module_version": "1.2.0",
            "_model_name": "LayoutModel",
            "_view_count": null,
            "_view_module": "@jupyter-widgets/base",
            "_view_module_version": "1.2.0",
            "_view_name": "LayoutView",
            "align_content": null,
            "align_items": null,
            "align_self": null,
            "border": null,
            "bottom": null,
            "display": null,
            "flex": null,
            "flex_flow": null,
            "grid_area": null,
            "grid_auto_columns": null,
            "grid_auto_flow": null,
            "grid_auto_rows": null,
            "grid_column": null,
            "grid_gap": null,
            "grid_row": null,
            "grid_template_areas": null,
            "grid_template_columns": null,
            "grid_template_rows": null,
            "height": null,
            "justify_content": null,
            "justify_items": null,
            "left": null,
            "margin": null,
            "max_height": null,
            "max_width": null,
            "min_height": null,
            "min_width": null,
            "object_fit": null,
            "object_position": null,
            "order": null,
            "overflow": null,
            "overflow_x": null,
            "overflow_y": null,
            "padding": null,
            "right": null,
            "top": null,
            "visibility": null,
            "width": null
          }
        },
        "475b0eae0d0545cb839404003dec6c65": {
          "model_module": "@jupyter-widgets/controls",
          "model_name": "DescriptionStyleModel",
          "model_module_version": "1.5.0",
          "state": {
            "_model_module": "@jupyter-widgets/controls",
            "_model_module_version": "1.5.0",
            "_model_name": "DescriptionStyleModel",
            "_view_count": null,
            "_view_module": "@jupyter-widgets/base",
            "_view_module_version": "1.2.0",
            "_view_name": "StyleView",
            "description_width": ""
          }
        },
        "8946050600e546dabbdcc1ce9389286b": {
          "model_module": "@jupyter-widgets/base",
          "model_name": "LayoutModel",
          "model_module_version": "1.2.0",
          "state": {
            "_model_module": "@jupyter-widgets/base",
            "_model_module_version": "1.2.0",
            "_model_name": "LayoutModel",
            "_view_count": null,
            "_view_module": "@jupyter-widgets/base",
            "_view_module_version": "1.2.0",
            "_view_name": "LayoutView",
            "align_content": null,
            "align_items": null,
            "align_self": null,
            "border": null,
            "bottom": null,
            "display": null,
            "flex": null,
            "flex_flow": null,
            "grid_area": null,
            "grid_auto_columns": null,
            "grid_auto_flow": null,
            "grid_auto_rows": null,
            "grid_column": null,
            "grid_gap": null,
            "grid_row": null,
            "grid_template_areas": null,
            "grid_template_columns": null,
            "grid_template_rows": null,
            "height": null,
            "justify_content": null,
            "justify_items": null,
            "left": null,
            "margin": null,
            "max_height": null,
            "max_width": null,
            "min_height": null,
            "min_width": null,
            "object_fit": null,
            "object_position": null,
            "order": null,
            "overflow": null,
            "overflow_x": null,
            "overflow_y": null,
            "padding": null,
            "right": null,
            "top": null,
            "visibility": null,
            "width": "20px"
          }
        },
        "4af96b8ee6be41328581a992d7ca1ec0": {
          "model_module": "@jupyter-widgets/controls",
          "model_name": "ProgressStyleModel",
          "model_module_version": "1.5.0",
          "state": {
            "_model_module": "@jupyter-widgets/controls",
            "_model_module_version": "1.5.0",
            "_model_name": "ProgressStyleModel",
            "_view_count": null,
            "_view_module": "@jupyter-widgets/base",
            "_view_module_version": "1.2.0",
            "_view_name": "StyleView",
            "bar_color": null,
            "description_width": ""
          }
        },
        "0d70c24568e64aa687a7682550e0f2d0": {
          "model_module": "@jupyter-widgets/base",
          "model_name": "LayoutModel",
          "model_module_version": "1.2.0",
          "state": {
            "_model_module": "@jupyter-widgets/base",
            "_model_module_version": "1.2.0",
            "_model_name": "LayoutModel",
            "_view_count": null,
            "_view_module": "@jupyter-widgets/base",
            "_view_module_version": "1.2.0",
            "_view_name": "LayoutView",
            "align_content": null,
            "align_items": null,
            "align_self": null,
            "border": null,
            "bottom": null,
            "display": null,
            "flex": null,
            "flex_flow": null,
            "grid_area": null,
            "grid_auto_columns": null,
            "grid_auto_flow": null,
            "grid_auto_rows": null,
            "grid_column": null,
            "grid_gap": null,
            "grid_row": null,
            "grid_template_areas": null,
            "grid_template_columns": null,
            "grid_template_rows": null,
            "height": null,
            "justify_content": null,
            "justify_items": null,
            "left": null,
            "margin": null,
            "max_height": null,
            "max_width": null,
            "min_height": null,
            "min_width": null,
            "object_fit": null,
            "object_position": null,
            "order": null,
            "overflow": null,
            "overflow_x": null,
            "overflow_y": null,
            "padding": null,
            "right": null,
            "top": null,
            "visibility": null,
            "width": null
          }
        },
        "7876a16eb2834e30bcd0356868d5f7d9": {
          "model_module": "@jupyter-widgets/controls",
          "model_name": "DescriptionStyleModel",
          "model_module_version": "1.5.0",
          "state": {
            "_model_module": "@jupyter-widgets/controls",
            "_model_module_version": "1.5.0",
            "_model_name": "DescriptionStyleModel",
            "_view_count": null,
            "_view_module": "@jupyter-widgets/base",
            "_view_module_version": "1.2.0",
            "_view_name": "StyleView",
            "description_width": ""
          }
        },
        "a64e40eedbf14c5c8d90bd3d43b0f342": {
          "model_module": "@jupyter-widgets/controls",
          "model_name": "HBoxModel",
          "model_module_version": "1.5.0",
          "state": {
            "_dom_classes": [],
            "_model_module": "@jupyter-widgets/controls",
            "_model_module_version": "1.5.0",
            "_model_name": "HBoxModel",
            "_view_count": null,
            "_view_module": "@jupyter-widgets/controls",
            "_view_module_version": "1.5.0",
            "_view_name": "HBoxView",
            "box_style": "",
            "children": [
              "IPY_MODEL_18b19c2590214100bb598e8428b9f78b",
              "IPY_MODEL_f5f5fb94c28243ab8b0a74964cc3de71",
              "IPY_MODEL_a6b597dcdd9a4ceda566da36ca090304"
            ],
            "layout": "IPY_MODEL_e83d16922dfb448a8dcd951faab75795"
          }
        },
        "18b19c2590214100bb598e8428b9f78b": {
          "model_module": "@jupyter-widgets/controls",
          "model_name": "HTMLModel",
          "model_module_version": "1.5.0",
          "state": {
            "_dom_classes": [],
            "_model_module": "@jupyter-widgets/controls",
            "_model_module_version": "1.5.0",
            "_model_name": "HTMLModel",
            "_view_count": null,
            "_view_module": "@jupyter-widgets/controls",
            "_view_module_version": "1.5.0",
            "_view_name": "HTMLView",
            "description": "",
            "description_tooltip": null,
            "layout": "IPY_MODEL_dbb9131837354995b5eb2be834ff1b2e",
            "placeholder": "​",
            "style": "IPY_MODEL_a7bda209d0274967852056f59aca830a",
            "value": ""
          }
        },
        "f5f5fb94c28243ab8b0a74964cc3de71": {
          "model_module": "@jupyter-widgets/controls",
          "model_name": "FloatProgressModel",
          "model_module_version": "1.5.0",
          "state": {
            "_dom_classes": [],
            "_model_module": "@jupyter-widgets/controls",
            "_model_module_version": "1.5.0",
            "_model_name": "FloatProgressModel",
            "_view_count": null,
            "_view_module": "@jupyter-widgets/controls",
            "_view_module_version": "1.5.0",
            "_view_name": "ProgressView",
            "bar_style": "info",
            "description": "",
            "description_tooltip": null,
            "layout": "IPY_MODEL_41e6ceea064c42e884084432a03a7b71",
            "max": 1,
            "min": 0,
            "orientation": "horizontal",
            "style": "IPY_MODEL_b3c7ad4466fe4c61ade86f370e3c2ee1",
            "value": 1
          }
        },
        "a6b597dcdd9a4ceda566da36ca090304": {
          "model_module": "@jupyter-widgets/controls",
          "model_name": "HTMLModel",
          "model_module_version": "1.5.0",
          "state": {
            "_dom_classes": [],
            "_model_module": "@jupyter-widgets/controls",
            "_model_module_version": "1.5.0",
            "_model_name": "HTMLModel",
            "_view_count": null,
            "_view_module": "@jupyter-widgets/controls",
            "_view_module_version": "1.5.0",
            "_view_name": "HTMLView",
            "description": "",
            "description_tooltip": null,
            "layout": "IPY_MODEL_1a5528bb4435495792091f5de781ab54",
            "placeholder": "​",
            "style": "IPY_MODEL_872d30ec26ff454b903b2d60fb9437a7",
            "value": " 18060/0 [00:17&lt;00:00, 2041.58 examples/s]"
          }
        },
        "e83d16922dfb448a8dcd951faab75795": {
          "model_module": "@jupyter-widgets/base",
          "model_name": "LayoutModel",
          "model_module_version": "1.2.0",
          "state": {
            "_model_module": "@jupyter-widgets/base",
            "_model_module_version": "1.2.0",
            "_model_name": "LayoutModel",
            "_view_count": null,
            "_view_module": "@jupyter-widgets/base",
            "_view_module_version": "1.2.0",
            "_view_name": "LayoutView",
            "align_content": null,
            "align_items": null,
            "align_self": null,
            "border": null,
            "bottom": null,
            "display": null,
            "flex": null,
            "flex_flow": null,
            "grid_area": null,
            "grid_auto_columns": null,
            "grid_auto_flow": null,
            "grid_auto_rows": null,
            "grid_column": null,
            "grid_gap": null,
            "grid_row": null,
            "grid_template_areas": null,
            "grid_template_columns": null,
            "grid_template_rows": null,
            "height": null,
            "justify_content": null,
            "justify_items": null,
            "left": null,
            "margin": null,
            "max_height": null,
            "max_width": null,
            "min_height": null,
            "min_width": null,
            "object_fit": null,
            "object_position": null,
            "order": null,
            "overflow": null,
            "overflow_x": null,
            "overflow_y": null,
            "padding": null,
            "right": null,
            "top": null,
            "visibility": "hidden",
            "width": null
          }
        },
        "dbb9131837354995b5eb2be834ff1b2e": {
          "model_module": "@jupyter-widgets/base",
          "model_name": "LayoutModel",
          "model_module_version": "1.2.0",
          "state": {
            "_model_module": "@jupyter-widgets/base",
            "_model_module_version": "1.2.0",
            "_model_name": "LayoutModel",
            "_view_count": null,
            "_view_module": "@jupyter-widgets/base",
            "_view_module_version": "1.2.0",
            "_view_name": "LayoutView",
            "align_content": null,
            "align_items": null,
            "align_self": null,
            "border": null,
            "bottom": null,
            "display": null,
            "flex": null,
            "flex_flow": null,
            "grid_area": null,
            "grid_auto_columns": null,
            "grid_auto_flow": null,
            "grid_auto_rows": null,
            "grid_column": null,
            "grid_gap": null,
            "grid_row": null,
            "grid_template_areas": null,
            "grid_template_columns": null,
            "grid_template_rows": null,
            "height": null,
            "justify_content": null,
            "justify_items": null,
            "left": null,
            "margin": null,
            "max_height": null,
            "max_width": null,
            "min_height": null,
            "min_width": null,
            "object_fit": null,
            "object_position": null,
            "order": null,
            "overflow": null,
            "overflow_x": null,
            "overflow_y": null,
            "padding": null,
            "right": null,
            "top": null,
            "visibility": null,
            "width": null
          }
        },
        "a7bda209d0274967852056f59aca830a": {
          "model_module": "@jupyter-widgets/controls",
          "model_name": "DescriptionStyleModel",
          "model_module_version": "1.5.0",
          "state": {
            "_model_module": "@jupyter-widgets/controls",
            "_model_module_version": "1.5.0",
            "_model_name": "DescriptionStyleModel",
            "_view_count": null,
            "_view_module": "@jupyter-widgets/base",
            "_view_module_version": "1.2.0",
            "_view_name": "StyleView",
            "description_width": ""
          }
        },
        "41e6ceea064c42e884084432a03a7b71": {
          "model_module": "@jupyter-widgets/base",
          "model_name": "LayoutModel",
          "model_module_version": "1.2.0",
          "state": {
            "_model_module": "@jupyter-widgets/base",
            "_model_module_version": "1.2.0",
            "_model_name": "LayoutModel",
            "_view_count": null,
            "_view_module": "@jupyter-widgets/base",
            "_view_module_version": "1.2.0",
            "_view_name": "LayoutView",
            "align_content": null,
            "align_items": null,
            "align_self": null,
            "border": null,
            "bottom": null,
            "display": null,
            "flex": null,
            "flex_flow": null,
            "grid_area": null,
            "grid_auto_columns": null,
            "grid_auto_flow": null,
            "grid_auto_rows": null,
            "grid_column": null,
            "grid_gap": null,
            "grid_row": null,
            "grid_template_areas": null,
            "grid_template_columns": null,
            "grid_template_rows": null,
            "height": null,
            "justify_content": null,
            "justify_items": null,
            "left": null,
            "margin": null,
            "max_height": null,
            "max_width": null,
            "min_height": null,
            "min_width": null,
            "object_fit": null,
            "object_position": null,
            "order": null,
            "overflow": null,
            "overflow_x": null,
            "overflow_y": null,
            "padding": null,
            "right": null,
            "top": null,
            "visibility": null,
            "width": "20px"
          }
        },
        "b3c7ad4466fe4c61ade86f370e3c2ee1": {
          "model_module": "@jupyter-widgets/controls",
          "model_name": "ProgressStyleModel",
          "model_module_version": "1.5.0",
          "state": {
            "_model_module": "@jupyter-widgets/controls",
            "_model_module_version": "1.5.0",
            "_model_name": "ProgressStyleModel",
            "_view_count": null,
            "_view_module": "@jupyter-widgets/base",
            "_view_module_version": "1.2.0",
            "_view_name": "StyleView",
            "bar_color": null,
            "description_width": ""
          }
        },
        "1a5528bb4435495792091f5de781ab54": {
          "model_module": "@jupyter-widgets/base",
          "model_name": "LayoutModel",
          "model_module_version": "1.2.0",
          "state": {
            "_model_module": "@jupyter-widgets/base",
            "_model_module_version": "1.2.0",
            "_model_name": "LayoutModel",
            "_view_count": null,
            "_view_module": "@jupyter-widgets/base",
            "_view_module_version": "1.2.0",
            "_view_name": "LayoutView",
            "align_content": null,
            "align_items": null,
            "align_self": null,
            "border": null,
            "bottom": null,
            "display": null,
            "flex": null,
            "flex_flow": null,
            "grid_area": null,
            "grid_auto_columns": null,
            "grid_auto_flow": null,
            "grid_auto_rows": null,
            "grid_column": null,
            "grid_gap": null,
            "grid_row": null,
            "grid_template_areas": null,
            "grid_template_columns": null,
            "grid_template_rows": null,
            "height": null,
            "justify_content": null,
            "justify_items": null,
            "left": null,
            "margin": null,
            "max_height": null,
            "max_width": null,
            "min_height": null,
            "min_width": null,
            "object_fit": null,
            "object_position": null,
            "order": null,
            "overflow": null,
            "overflow_x": null,
            "overflow_y": null,
            "padding": null,
            "right": null,
            "top": null,
            "visibility": null,
            "width": null
          }
        },
        "872d30ec26ff454b903b2d60fb9437a7": {
          "model_module": "@jupyter-widgets/controls",
          "model_name": "DescriptionStyleModel",
          "model_module_version": "1.5.0",
          "state": {
            "_model_module": "@jupyter-widgets/controls",
            "_model_module_version": "1.5.0",
            "_model_name": "DescriptionStyleModel",
            "_view_count": null,
            "_view_module": "@jupyter-widgets/base",
            "_view_module_version": "1.2.0",
            "_view_name": "StyleView",
            "description_width": ""
          }
        },
        "49f5af7388be46e48d97977c2b6881d9": {
          "model_module": "@jupyter-widgets/controls",
          "model_name": "HBoxModel",
          "model_module_version": "1.5.0",
          "state": {
            "_dom_classes": [],
            "_model_module": "@jupyter-widgets/controls",
            "_model_module_version": "1.5.0",
            "_model_name": "HBoxModel",
            "_view_count": null,
            "_view_module": "@jupyter-widgets/controls",
            "_view_module_version": "1.5.0",
            "_view_name": "HBoxView",
            "box_style": "",
            "children": [
              "IPY_MODEL_2770417b564c4f068ad36b9557885413",
              "IPY_MODEL_ef9ba99a6306410f903ee83d665e5d70",
              "IPY_MODEL_9792a1f831f0480e9105370303d50f4e"
            ],
            "layout": "IPY_MODEL_53654197982f49038290c32885bb68c9"
          }
        },
        "2770417b564c4f068ad36b9557885413": {
          "model_module": "@jupyter-widgets/controls",
          "model_name": "HTMLModel",
          "model_module_version": "1.5.0",
          "state": {
            "_dom_classes": [],
            "_model_module": "@jupyter-widgets/controls",
            "_model_module_version": "1.5.0",
            "_model_name": "HTMLModel",
            "_view_count": null,
            "_view_module": "@jupyter-widgets/controls",
            "_view_module_version": "1.5.0",
            "_view_name": "HTMLView",
            "description": "",
            "description_tooltip": null,
            "layout": "IPY_MODEL_9b7b85d471cf41e3be14a87ddefe7311",
            "placeholder": "​",
            "style": "IPY_MODEL_044952ada45c4082a38d3312dc9a32c1",
            "value": ""
          }
        },
        "ef9ba99a6306410f903ee83d665e5d70": {
          "model_module": "@jupyter-widgets/controls",
          "model_name": "FloatProgressModel",
          "model_module_version": "1.5.0",
          "state": {
            "_dom_classes": [],
            "_model_module": "@jupyter-widgets/controls",
            "_model_module_version": "1.5.0",
            "_model_name": "FloatProgressModel",
            "_view_count": null,
            "_view_module": "@jupyter-widgets/controls",
            "_view_module_version": "1.5.0",
            "_view_name": "ProgressView",
            "bar_style": "info",
            "description": "",
            "description_tooltip": null,
            "layout": "IPY_MODEL_6c929e34711b427dac763bde5836475d",
            "max": 1,
            "min": 0,
            "orientation": "horizontal",
            "style": "IPY_MODEL_7a34505d59814d88872650533286e9b5",
            "value": 1
          }
        },
        "9792a1f831f0480e9105370303d50f4e": {
          "model_module": "@jupyter-widgets/controls",
          "model_name": "HTMLModel",
          "model_module_version": "1.5.0",
          "state": {
            "_dom_classes": [],
            "_model_module": "@jupyter-widgets/controls",
            "_model_module_version": "1.5.0",
            "_model_name": "HTMLModel",
            "_view_count": null,
            "_view_module": "@jupyter-widgets/controls",
            "_view_module_version": "1.5.0",
            "_view_name": "HTMLView",
            "description": "",
            "description_tooltip": null,
            "layout": "IPY_MODEL_1f8d7e04f17e46cea3ab8399e7cd0184",
            "placeholder": "​",
            "style": "IPY_MODEL_ddd54391a592426e828ac65202b524d9",
            "value": " 6282/0 [00:14&lt;00:00, 421.85 examples/s]"
          }
        },
        "53654197982f49038290c32885bb68c9": {
          "model_module": "@jupyter-widgets/base",
          "model_name": "LayoutModel",
          "model_module_version": "1.2.0",
          "state": {
            "_model_module": "@jupyter-widgets/base",
            "_model_module_version": "1.2.0",
            "_model_name": "LayoutModel",
            "_view_count": null,
            "_view_module": "@jupyter-widgets/base",
            "_view_module_version": "1.2.0",
            "_view_name": "LayoutView",
            "align_content": null,
            "align_items": null,
            "align_self": null,
            "border": null,
            "bottom": null,
            "display": null,
            "flex": null,
            "flex_flow": null,
            "grid_area": null,
            "grid_auto_columns": null,
            "grid_auto_flow": null,
            "grid_auto_rows": null,
            "grid_column": null,
            "grid_gap": null,
            "grid_row": null,
            "grid_template_areas": null,
            "grid_template_columns": null,
            "grid_template_rows": null,
            "height": null,
            "justify_content": null,
            "justify_items": null,
            "left": null,
            "margin": null,
            "max_height": null,
            "max_width": null,
            "min_height": null,
            "min_width": null,
            "object_fit": null,
            "object_position": null,
            "order": null,
            "overflow": null,
            "overflow_x": null,
            "overflow_y": null,
            "padding": null,
            "right": null,
            "top": null,
            "visibility": "hidden",
            "width": null
          }
        },
        "9b7b85d471cf41e3be14a87ddefe7311": {
          "model_module": "@jupyter-widgets/base",
          "model_name": "LayoutModel",
          "model_module_version": "1.2.0",
          "state": {
            "_model_module": "@jupyter-widgets/base",
            "_model_module_version": "1.2.0",
            "_model_name": "LayoutModel",
            "_view_count": null,
            "_view_module": "@jupyter-widgets/base",
            "_view_module_version": "1.2.0",
            "_view_name": "LayoutView",
            "align_content": null,
            "align_items": null,
            "align_self": null,
            "border": null,
            "bottom": null,
            "display": null,
            "flex": null,
            "flex_flow": null,
            "grid_area": null,
            "grid_auto_columns": null,
            "grid_auto_flow": null,
            "grid_auto_rows": null,
            "grid_column": null,
            "grid_gap": null,
            "grid_row": null,
            "grid_template_areas": null,
            "grid_template_columns": null,
            "grid_template_rows": null,
            "height": null,
            "justify_content": null,
            "justify_items": null,
            "left": null,
            "margin": null,
            "max_height": null,
            "max_width": null,
            "min_height": null,
            "min_width": null,
            "object_fit": null,
            "object_position": null,
            "order": null,
            "overflow": null,
            "overflow_x": null,
            "overflow_y": null,
            "padding": null,
            "right": null,
            "top": null,
            "visibility": null,
            "width": null
          }
        },
        "044952ada45c4082a38d3312dc9a32c1": {
          "model_module": "@jupyter-widgets/controls",
          "model_name": "DescriptionStyleModel",
          "model_module_version": "1.5.0",
          "state": {
            "_model_module": "@jupyter-widgets/controls",
            "_model_module_version": "1.5.0",
            "_model_name": "DescriptionStyleModel",
            "_view_count": null,
            "_view_module": "@jupyter-widgets/base",
            "_view_module_version": "1.2.0",
            "_view_name": "StyleView",
            "description_width": ""
          }
        },
        "6c929e34711b427dac763bde5836475d": {
          "model_module": "@jupyter-widgets/base",
          "model_name": "LayoutModel",
          "model_module_version": "1.2.0",
          "state": {
            "_model_module": "@jupyter-widgets/base",
            "_model_module_version": "1.2.0",
            "_model_name": "LayoutModel",
            "_view_count": null,
            "_view_module": "@jupyter-widgets/base",
            "_view_module_version": "1.2.0",
            "_view_name": "LayoutView",
            "align_content": null,
            "align_items": null,
            "align_self": null,
            "border": null,
            "bottom": null,
            "display": null,
            "flex": null,
            "flex_flow": null,
            "grid_area": null,
            "grid_auto_columns": null,
            "grid_auto_flow": null,
            "grid_auto_rows": null,
            "grid_column": null,
            "grid_gap": null,
            "grid_row": null,
            "grid_template_areas": null,
            "grid_template_columns": null,
            "grid_template_rows": null,
            "height": null,
            "justify_content": null,
            "justify_items": null,
            "left": null,
            "margin": null,
            "max_height": null,
            "max_width": null,
            "min_height": null,
            "min_width": null,
            "object_fit": null,
            "object_position": null,
            "order": null,
            "overflow": null,
            "overflow_x": null,
            "overflow_y": null,
            "padding": null,
            "right": null,
            "top": null,
            "visibility": null,
            "width": "20px"
          }
        },
        "7a34505d59814d88872650533286e9b5": {
          "model_module": "@jupyter-widgets/controls",
          "model_name": "ProgressStyleModel",
          "model_module_version": "1.5.0",
          "state": {
            "_model_module": "@jupyter-widgets/controls",
            "_model_module_version": "1.5.0",
            "_model_name": "ProgressStyleModel",
            "_view_count": null,
            "_view_module": "@jupyter-widgets/base",
            "_view_module_version": "1.2.0",
            "_view_name": "StyleView",
            "bar_color": null,
            "description_width": ""
          }
        },
        "1f8d7e04f17e46cea3ab8399e7cd0184": {
          "model_module": "@jupyter-widgets/base",
          "model_name": "LayoutModel",
          "model_module_version": "1.2.0",
          "state": {
            "_model_module": "@jupyter-widgets/base",
            "_model_module_version": "1.2.0",
            "_model_name": "LayoutModel",
            "_view_count": null,
            "_view_module": "@jupyter-widgets/base",
            "_view_module_version": "1.2.0",
            "_view_name": "LayoutView",
            "align_content": null,
            "align_items": null,
            "align_self": null,
            "border": null,
            "bottom": null,
            "display": null,
            "flex": null,
            "flex_flow": null,
            "grid_area": null,
            "grid_auto_columns": null,
            "grid_auto_flow": null,
            "grid_auto_rows": null,
            "grid_column": null,
            "grid_gap": null,
            "grid_row": null,
            "grid_template_areas": null,
            "grid_template_columns": null,
            "grid_template_rows": null,
            "height": null,
            "justify_content": null,
            "justify_items": null,
            "left": null,
            "margin": null,
            "max_height": null,
            "max_width": null,
            "min_height": null,
            "min_width": null,
            "object_fit": null,
            "object_position": null,
            "order": null,
            "overflow": null,
            "overflow_x": null,
            "overflow_y": null,
            "padding": null,
            "right": null,
            "top": null,
            "visibility": null,
            "width": null
          }
        },
        "ddd54391a592426e828ac65202b524d9": {
          "model_module": "@jupyter-widgets/controls",
          "model_name": "DescriptionStyleModel",
          "model_module_version": "1.5.0",
          "state": {
            "_model_module": "@jupyter-widgets/controls",
            "_model_module_version": "1.5.0",
            "_model_name": "DescriptionStyleModel",
            "_view_count": null,
            "_view_module": "@jupyter-widgets/base",
            "_view_module_version": "1.2.0",
            "_view_name": "StyleView",
            "description_width": ""
          }
        },
        "818e927f83e54340920f4a36b9d9baef": {
          "model_module": "@jupyter-widgets/controls",
          "model_name": "HBoxModel",
          "model_module_version": "1.5.0",
          "state": {
            "_dom_classes": [],
            "_model_module": "@jupyter-widgets/controls",
            "_model_module_version": "1.5.0",
            "_model_name": "HBoxModel",
            "_view_count": null,
            "_view_module": "@jupyter-widgets/controls",
            "_view_module_version": "1.5.0",
            "_view_name": "HBoxView",
            "box_style": "",
            "children": [
              "IPY_MODEL_1095109ed4e84ae7b35e4d501ca09341",
              "IPY_MODEL_cc5f582784f5497e9c036d521d3db639",
              "IPY_MODEL_dc3c5b4bade94d379fa9d0847ff6e185"
            ],
            "layout": "IPY_MODEL_09c74e3c1a4b4796a9afbfdbd63f7de7"
          }
        },
        "1095109ed4e84ae7b35e4d501ca09341": {
          "model_module": "@jupyter-widgets/controls",
          "model_name": "HTMLModel",
          "model_module_version": "1.5.0",
          "state": {
            "_dom_classes": [],
            "_model_module": "@jupyter-widgets/controls",
            "_model_module_version": "1.5.0",
            "_model_name": "HTMLModel",
            "_view_count": null,
            "_view_module": "@jupyter-widgets/controls",
            "_view_module_version": "1.5.0",
            "_view_name": "HTMLView",
            "description": "",
            "description_tooltip": null,
            "layout": "IPY_MODEL_a3872e7f461b4fa6bd7c9736c090225e",
            "placeholder": "​",
            "style": "IPY_MODEL_a97800a983bd4fb6a7522c69a9c7e45f",
            "value": ""
          }
        },
        "cc5f582784f5497e9c036d521d3db639": {
          "model_module": "@jupyter-widgets/controls",
          "model_name": "FloatProgressModel",
          "model_module_version": "1.5.0",
          "state": {
            "_dom_classes": [],
            "_model_module": "@jupyter-widgets/controls",
            "_model_module_version": "1.5.0",
            "_model_name": "FloatProgressModel",
            "_view_count": null,
            "_view_module": "@jupyter-widgets/controls",
            "_view_module_version": "1.5.0",
            "_view_name": "ProgressView",
            "bar_style": "success",
            "description": "",
            "description_tooltip": null,
            "layout": "IPY_MODEL_dc3dd599f3bc45ebad0346f8f73f02c0",
            "max": 1,
            "min": 0,
            "orientation": "horizontal",
            "style": "IPY_MODEL_74e5f9789b444c17beabf509b4dacbde",
            "value": 1
          }
        },
        "dc3c5b4bade94d379fa9d0847ff6e185": {
          "model_module": "@jupyter-widgets/controls",
          "model_name": "HTMLModel",
          "model_module_version": "1.5.0",
          "state": {
            "_dom_classes": [],
            "_model_module": "@jupyter-widgets/controls",
            "_model_module_version": "1.5.0",
            "_model_name": "HTMLModel",
            "_view_count": null,
            "_view_module": "@jupyter-widgets/controls",
            "_view_module_version": "1.5.0",
            "_view_name": "HTMLView",
            "description": "",
            "description_tooltip": null,
            "layout": "IPY_MODEL_3ee323dacc714a218ab559ffe0ce024d",
            "placeholder": "​",
            "style": "IPY_MODEL_8ba1af14b39e47a286c55062c5e19e96",
            "value": " 21744/? [00:04&lt;00:00, 4970.94ex/s]"
          }
        },
        "09c74e3c1a4b4796a9afbfdbd63f7de7": {
          "model_module": "@jupyter-widgets/base",
          "model_name": "LayoutModel",
          "model_module_version": "1.2.0",
          "state": {
            "_model_module": "@jupyter-widgets/base",
            "_model_module_version": "1.2.0",
            "_model_name": "LayoutModel",
            "_view_count": null,
            "_view_module": "@jupyter-widgets/base",
            "_view_module_version": "1.2.0",
            "_view_name": "LayoutView",
            "align_content": null,
            "align_items": null,
            "align_self": null,
            "border": null,
            "bottom": null,
            "display": null,
            "flex": null,
            "flex_flow": null,
            "grid_area": null,
            "grid_auto_columns": null,
            "grid_auto_flow": null,
            "grid_auto_rows": null,
            "grid_column": null,
            "grid_gap": null,
            "grid_row": null,
            "grid_template_areas": null,
            "grid_template_columns": null,
            "grid_template_rows": null,
            "height": null,
            "justify_content": null,
            "justify_items": null,
            "left": null,
            "margin": null,
            "max_height": null,
            "max_width": null,
            "min_height": null,
            "min_width": null,
            "object_fit": null,
            "object_position": null,
            "order": null,
            "overflow": null,
            "overflow_x": null,
            "overflow_y": null,
            "padding": null,
            "right": null,
            "top": null,
            "visibility": null,
            "width": null
          }
        },
        "a3872e7f461b4fa6bd7c9736c090225e": {
          "model_module": "@jupyter-widgets/base",
          "model_name": "LayoutModel",
          "model_module_version": "1.2.0",
          "state": {
            "_model_module": "@jupyter-widgets/base",
            "_model_module_version": "1.2.0",
            "_model_name": "LayoutModel",
            "_view_count": null,
            "_view_module": "@jupyter-widgets/base",
            "_view_module_version": "1.2.0",
            "_view_name": "LayoutView",
            "align_content": null,
            "align_items": null,
            "align_self": null,
            "border": null,
            "bottom": null,
            "display": null,
            "flex": null,
            "flex_flow": null,
            "grid_area": null,
            "grid_auto_columns": null,
            "grid_auto_flow": null,
            "grid_auto_rows": null,
            "grid_column": null,
            "grid_gap": null,
            "grid_row": null,
            "grid_template_areas": null,
            "grid_template_columns": null,
            "grid_template_rows": null,
            "height": null,
            "justify_content": null,
            "justify_items": null,
            "left": null,
            "margin": null,
            "max_height": null,
            "max_width": null,
            "min_height": null,
            "min_width": null,
            "object_fit": null,
            "object_position": null,
            "order": null,
            "overflow": null,
            "overflow_x": null,
            "overflow_y": null,
            "padding": null,
            "right": null,
            "top": null,
            "visibility": null,
            "width": null
          }
        },
        "a97800a983bd4fb6a7522c69a9c7e45f": {
          "model_module": "@jupyter-widgets/controls",
          "model_name": "DescriptionStyleModel",
          "model_module_version": "1.5.0",
          "state": {
            "_model_module": "@jupyter-widgets/controls",
            "_model_module_version": "1.5.0",
            "_model_name": "DescriptionStyleModel",
            "_view_count": null,
            "_view_module": "@jupyter-widgets/base",
            "_view_module_version": "1.2.0",
            "_view_name": "StyleView",
            "description_width": ""
          }
        },
        "dc3dd599f3bc45ebad0346f8f73f02c0": {
          "model_module": "@jupyter-widgets/base",
          "model_name": "LayoutModel",
          "model_module_version": "1.2.0",
          "state": {
            "_model_module": "@jupyter-widgets/base",
            "_model_module_version": "1.2.0",
            "_model_name": "LayoutModel",
            "_view_count": null,
            "_view_module": "@jupyter-widgets/base",
            "_view_module_version": "1.2.0",
            "_view_name": "LayoutView",
            "align_content": null,
            "align_items": null,
            "align_self": null,
            "border": null,
            "bottom": null,
            "display": null,
            "flex": null,
            "flex_flow": null,
            "grid_area": null,
            "grid_auto_columns": null,
            "grid_auto_flow": null,
            "grid_auto_rows": null,
            "grid_column": null,
            "grid_gap": null,
            "grid_row": null,
            "grid_template_areas": null,
            "grid_template_columns": null,
            "grid_template_rows": null,
            "height": null,
            "justify_content": null,
            "justify_items": null,
            "left": null,
            "margin": null,
            "max_height": null,
            "max_width": null,
            "min_height": null,
            "min_width": null,
            "object_fit": null,
            "object_position": null,
            "order": null,
            "overflow": null,
            "overflow_x": null,
            "overflow_y": null,
            "padding": null,
            "right": null,
            "top": null,
            "visibility": null,
            "width": "20px"
          }
        },
        "74e5f9789b444c17beabf509b4dacbde": {
          "model_module": "@jupyter-widgets/controls",
          "model_name": "ProgressStyleModel",
          "model_module_version": "1.5.0",
          "state": {
            "_model_module": "@jupyter-widgets/controls",
            "_model_module_version": "1.5.0",
            "_model_name": "ProgressStyleModel",
            "_view_count": null,
            "_view_module": "@jupyter-widgets/base",
            "_view_module_version": "1.2.0",
            "_view_name": "StyleView",
            "bar_color": null,
            "description_width": ""
          }
        },
        "3ee323dacc714a218ab559ffe0ce024d": {
          "model_module": "@jupyter-widgets/base",
          "model_name": "LayoutModel",
          "model_module_version": "1.2.0",
          "state": {
            "_model_module": "@jupyter-widgets/base",
            "_model_module_version": "1.2.0",
            "_model_name": "LayoutModel",
            "_view_count": null,
            "_view_module": "@jupyter-widgets/base",
            "_view_module_version": "1.2.0",
            "_view_name": "LayoutView",
            "align_content": null,
            "align_items": null,
            "align_self": null,
            "border": null,
            "bottom": null,
            "display": null,
            "flex": null,
            "flex_flow": null,
            "grid_area": null,
            "grid_auto_columns": null,
            "grid_auto_flow": null,
            "grid_auto_rows": null,
            "grid_column": null,
            "grid_gap": null,
            "grid_row": null,
            "grid_template_areas": null,
            "grid_template_columns": null,
            "grid_template_rows": null,
            "height": null,
            "justify_content": null,
            "justify_items": null,
            "left": null,
            "margin": null,
            "max_height": null,
            "max_width": null,
            "min_height": null,
            "min_width": null,
            "object_fit": null,
            "object_position": null,
            "order": null,
            "overflow": null,
            "overflow_x": null,
            "overflow_y": null,
            "padding": null,
            "right": null,
            "top": null,
            "visibility": null,
            "width": null
          }
        },
        "8ba1af14b39e47a286c55062c5e19e96": {
          "model_module": "@jupyter-widgets/controls",
          "model_name": "DescriptionStyleModel",
          "model_module_version": "1.5.0",
          "state": {
            "_model_module": "@jupyter-widgets/controls",
            "_model_module_version": "1.5.0",
            "_model_name": "DescriptionStyleModel",
            "_view_count": null,
            "_view_module": "@jupyter-widgets/base",
            "_view_module_version": "1.2.0",
            "_view_name": "StyleView",
            "description_width": ""
          }
        },
        "5c6758ede52a4f68bdde4797b43f7326": {
          "model_module": "@jupyter-widgets/controls",
          "model_name": "HBoxModel",
          "model_module_version": "1.5.0",
          "state": {
            "_dom_classes": [],
            "_model_module": "@jupyter-widgets/controls",
            "_model_module_version": "1.5.0",
            "_model_name": "HBoxModel",
            "_view_count": null,
            "_view_module": "@jupyter-widgets/controls",
            "_view_module_version": "1.5.0",
            "_view_name": "HBoxView",
            "box_style": "",
            "children": [
              "IPY_MODEL_2a1963f2c25c4fa09ebb73f786c8a3c1",
              "IPY_MODEL_0394ec012b284d4d913bc0166e5884db",
              "IPY_MODEL_eb2aa1adae414943b071e8fe23f22c7c"
            ],
            "layout": "IPY_MODEL_ae4d0abd2b8d481b93341ec2824134f0"
          }
        },
        "2a1963f2c25c4fa09ebb73f786c8a3c1": {
          "model_module": "@jupyter-widgets/controls",
          "model_name": "HTMLModel",
          "model_module_version": "1.5.0",
          "state": {
            "_dom_classes": [],
            "_model_module": "@jupyter-widgets/controls",
            "_model_module_version": "1.5.0",
            "_model_name": "HTMLModel",
            "_view_count": null,
            "_view_module": "@jupyter-widgets/controls",
            "_view_module_version": "1.5.0",
            "_view_name": "HTMLView",
            "description": "",
            "description_tooltip": null,
            "layout": "IPY_MODEL_611c362c243143fa8f8ad81e61b6f89f",
            "placeholder": "​",
            "style": "IPY_MODEL_e613071c5c694798bdeb10e767973057",
            "value": ""
          }
        },
        "0394ec012b284d4d913bc0166e5884db": {
          "model_module": "@jupyter-widgets/controls",
          "model_name": "FloatProgressModel",
          "model_module_version": "1.5.0",
          "state": {
            "_dom_classes": [],
            "_model_module": "@jupyter-widgets/controls",
            "_model_module_version": "1.5.0",
            "_model_name": "FloatProgressModel",
            "_view_count": null,
            "_view_module": "@jupyter-widgets/controls",
            "_view_module_version": "1.5.0",
            "_view_name": "ProgressView",
            "bar_style": "success",
            "description": "",
            "description_tooltip": null,
            "layout": "IPY_MODEL_c1bce6d4c7e94386a8c673e349f5729e",
            "max": 1,
            "min": 0,
            "orientation": "horizontal",
            "style": "IPY_MODEL_1541eeec90be4b00ba84f4455f201a74",
            "value": 1
          }
        },
        "eb2aa1adae414943b071e8fe23f22c7c": {
          "model_module": "@jupyter-widgets/controls",
          "model_name": "HTMLModel",
          "model_module_version": "1.5.0",
          "state": {
            "_dom_classes": [],
            "_model_module": "@jupyter-widgets/controls",
            "_model_module_version": "1.5.0",
            "_model_name": "HTMLModel",
            "_view_count": null,
            "_view_module": "@jupyter-widgets/controls",
            "_view_module_version": "1.5.0",
            "_view_name": "HTMLView",
            "description": "",
            "description_tooltip": null,
            "layout": "IPY_MODEL_cd124209004a46409996db52fbb16559",
            "placeholder": "​",
            "style": "IPY_MODEL_78ddc99e5a5142c69f93f50c37ec798a",
            "value": " 7622/? [00:01&lt;00:00, 4366.40ex/s]"
          }
        },
        "ae4d0abd2b8d481b93341ec2824134f0": {
          "model_module": "@jupyter-widgets/base",
          "model_name": "LayoutModel",
          "model_module_version": "1.2.0",
          "state": {
            "_model_module": "@jupyter-widgets/base",
            "_model_module_version": "1.2.0",
            "_model_name": "LayoutModel",
            "_view_count": null,
            "_view_module": "@jupyter-widgets/base",
            "_view_module_version": "1.2.0",
            "_view_name": "LayoutView",
            "align_content": null,
            "align_items": null,
            "align_self": null,
            "border": null,
            "bottom": null,
            "display": null,
            "flex": null,
            "flex_flow": null,
            "grid_area": null,
            "grid_auto_columns": null,
            "grid_auto_flow": null,
            "grid_auto_rows": null,
            "grid_column": null,
            "grid_gap": null,
            "grid_row": null,
            "grid_template_areas": null,
            "grid_template_columns": null,
            "grid_template_rows": null,
            "height": null,
            "justify_content": null,
            "justify_items": null,
            "left": null,
            "margin": null,
            "max_height": null,
            "max_width": null,
            "min_height": null,
            "min_width": null,
            "object_fit": null,
            "object_position": null,
            "order": null,
            "overflow": null,
            "overflow_x": null,
            "overflow_y": null,
            "padding": null,
            "right": null,
            "top": null,
            "visibility": null,
            "width": null
          }
        },
        "611c362c243143fa8f8ad81e61b6f89f": {
          "model_module": "@jupyter-widgets/base",
          "model_name": "LayoutModel",
          "model_module_version": "1.2.0",
          "state": {
            "_model_module": "@jupyter-widgets/base",
            "_model_module_version": "1.2.0",
            "_model_name": "LayoutModel",
            "_view_count": null,
            "_view_module": "@jupyter-widgets/base",
            "_view_module_version": "1.2.0",
            "_view_name": "LayoutView",
            "align_content": null,
            "align_items": null,
            "align_self": null,
            "border": null,
            "bottom": null,
            "display": null,
            "flex": null,
            "flex_flow": null,
            "grid_area": null,
            "grid_auto_columns": null,
            "grid_auto_flow": null,
            "grid_auto_rows": null,
            "grid_column": null,
            "grid_gap": null,
            "grid_row": null,
            "grid_template_areas": null,
            "grid_template_columns": null,
            "grid_template_rows": null,
            "height": null,
            "justify_content": null,
            "justify_items": null,
            "left": null,
            "margin": null,
            "max_height": null,
            "max_width": null,
            "min_height": null,
            "min_width": null,
            "object_fit": null,
            "object_position": null,
            "order": null,
            "overflow": null,
            "overflow_x": null,
            "overflow_y": null,
            "padding": null,
            "right": null,
            "top": null,
            "visibility": null,
            "width": null
          }
        },
        "e613071c5c694798bdeb10e767973057": {
          "model_module": "@jupyter-widgets/controls",
          "model_name": "DescriptionStyleModel",
          "model_module_version": "1.5.0",
          "state": {
            "_model_module": "@jupyter-widgets/controls",
            "_model_module_version": "1.5.0",
            "_model_name": "DescriptionStyleModel",
            "_view_count": null,
            "_view_module": "@jupyter-widgets/base",
            "_view_module_version": "1.2.0",
            "_view_name": "StyleView",
            "description_width": ""
          }
        },
        "c1bce6d4c7e94386a8c673e349f5729e": {
          "model_module": "@jupyter-widgets/base",
          "model_name": "LayoutModel",
          "model_module_version": "1.2.0",
          "state": {
            "_model_module": "@jupyter-widgets/base",
            "_model_module_version": "1.2.0",
            "_model_name": "LayoutModel",
            "_view_count": null,
            "_view_module": "@jupyter-widgets/base",
            "_view_module_version": "1.2.0",
            "_view_name": "LayoutView",
            "align_content": null,
            "align_items": null,
            "align_self": null,
            "border": null,
            "bottom": null,
            "display": null,
            "flex": null,
            "flex_flow": null,
            "grid_area": null,
            "grid_auto_columns": null,
            "grid_auto_flow": null,
            "grid_auto_rows": null,
            "grid_column": null,
            "grid_gap": null,
            "grid_row": null,
            "grid_template_areas": null,
            "grid_template_columns": null,
            "grid_template_rows": null,
            "height": null,
            "justify_content": null,
            "justify_items": null,
            "left": null,
            "margin": null,
            "max_height": null,
            "max_width": null,
            "min_height": null,
            "min_width": null,
            "object_fit": null,
            "object_position": null,
            "order": null,
            "overflow": null,
            "overflow_x": null,
            "overflow_y": null,
            "padding": null,
            "right": null,
            "top": null,
            "visibility": null,
            "width": "20px"
          }
        },
        "1541eeec90be4b00ba84f4455f201a74": {
          "model_module": "@jupyter-widgets/controls",
          "model_name": "ProgressStyleModel",
          "model_module_version": "1.5.0",
          "state": {
            "_model_module": "@jupyter-widgets/controls",
            "_model_module_version": "1.5.0",
            "_model_name": "ProgressStyleModel",
            "_view_count": null,
            "_view_module": "@jupyter-widgets/base",
            "_view_module_version": "1.2.0",
            "_view_name": "StyleView",
            "bar_color": null,
            "description_width": ""
          }
        },
        "cd124209004a46409996db52fbb16559": {
          "model_module": "@jupyter-widgets/base",
          "model_name": "LayoutModel",
          "model_module_version": "1.2.0",
          "state": {
            "_model_module": "@jupyter-widgets/base",
            "_model_module_version": "1.2.0",
            "_model_name": "LayoutModel",
            "_view_count": null,
            "_view_module": "@jupyter-widgets/base",
            "_view_module_version": "1.2.0",
            "_view_name": "LayoutView",
            "align_content": null,
            "align_items": null,
            "align_self": null,
            "border": null,
            "bottom": null,
            "display": null,
            "flex": null,
            "flex_flow": null,
            "grid_area": null,
            "grid_auto_columns": null,
            "grid_auto_flow": null,
            "grid_auto_rows": null,
            "grid_column": null,
            "grid_gap": null,
            "grid_row": null,
            "grid_template_areas": null,
            "grid_template_columns": null,
            "grid_template_rows": null,
            "height": null,
            "justify_content": null,
            "justify_items": null,
            "left": null,
            "margin": null,
            "max_height": null,
            "max_width": null,
            "min_height": null,
            "min_width": null,
            "object_fit": null,
            "object_position": null,
            "order": null,
            "overflow": null,
            "overflow_x": null,
            "overflow_y": null,
            "padding": null,
            "right": null,
            "top": null,
            "visibility": null,
            "width": null
          }
        },
        "78ddc99e5a5142c69f93f50c37ec798a": {
          "model_module": "@jupyter-widgets/controls",
          "model_name": "DescriptionStyleModel",
          "model_module_version": "1.5.0",
          "state": {
            "_model_module": "@jupyter-widgets/controls",
            "_model_module_version": "1.5.0",
            "_model_name": "DescriptionStyleModel",
            "_view_count": null,
            "_view_module": "@jupyter-widgets/base",
            "_view_module_version": "1.2.0",
            "_view_name": "StyleView",
            "description_width": ""
          }
        },
        "4e592291661b4be48d646c0cd063e829": {
          "model_module": "@jupyter-widgets/controls",
          "model_name": "HBoxModel",
          "model_module_version": "1.5.0",
          "state": {
            "_dom_classes": [],
            "_model_module": "@jupyter-widgets/controls",
            "_model_module_version": "1.5.0",
            "_model_name": "HBoxModel",
            "_view_count": null,
            "_view_module": "@jupyter-widgets/controls",
            "_view_module_version": "1.5.0",
            "_view_name": "HBoxView",
            "box_style": "",
            "children": [
              "IPY_MODEL_fe35e5aae3a441f388167625bcb117e0",
              "IPY_MODEL_a3732e8e49d8471f8d8fa7472ae98105",
              "IPY_MODEL_a2debcc5e3eb4d1caa717117e4ab4cda"
            ],
            "layout": "IPY_MODEL_3d21a7c6a64f44eeb420044395a42fad"
          }
        },
        "fe35e5aae3a441f388167625bcb117e0": {
          "model_module": "@jupyter-widgets/controls",
          "model_name": "HTMLModel",
          "model_module_version": "1.5.0",
          "state": {
            "_dom_classes": [],
            "_model_module": "@jupyter-widgets/controls",
            "_model_module_version": "1.5.0",
            "_model_name": "HTMLModel",
            "_view_count": null,
            "_view_module": "@jupyter-widgets/controls",
            "_view_module_version": "1.5.0",
            "_view_name": "HTMLView",
            "description": "",
            "description_tooltip": null,
            "layout": "IPY_MODEL_f21f671040e5462b8faad20c9be28a9a",
            "placeholder": "​",
            "style": "IPY_MODEL_334f770df4244dc6b2c31e658836cd08",
            "value": "100%"
          }
        },
        "a3732e8e49d8471f8d8fa7472ae98105": {
          "model_module": "@jupyter-widgets/controls",
          "model_name": "FloatProgressModel",
          "model_module_version": "1.5.0",
          "state": {
            "_dom_classes": [],
            "_model_module": "@jupyter-widgets/controls",
            "_model_module_version": "1.5.0",
            "_model_name": "FloatProgressModel",
            "_view_count": null,
            "_view_module": "@jupyter-widgets/controls",
            "_view_module_version": "1.5.0",
            "_view_name": "ProgressView",
            "bar_style": "success",
            "description": "",
            "description_tooltip": null,
            "layout": "IPY_MODEL_ee92db614174456b8f611b78e7db1600",
            "max": 1,
            "min": 0,
            "orientation": "horizontal",
            "style": "IPY_MODEL_0bdcaec9a70d48ea9cab0b62b96eb1b5",
            "value": 1
          }
        },
        "a2debcc5e3eb4d1caa717117e4ab4cda": {
          "model_module": "@jupyter-widgets/controls",
          "model_name": "HTMLModel",
          "model_module_version": "1.5.0",
          "state": {
            "_dom_classes": [],
            "_model_module": "@jupyter-widgets/controls",
            "_model_module_version": "1.5.0",
            "_model_name": "HTMLModel",
            "_view_count": null,
            "_view_module": "@jupyter-widgets/controls",
            "_view_module_version": "1.5.0",
            "_view_name": "HTMLView",
            "description": "",
            "description_tooltip": null,
            "layout": "IPY_MODEL_270b6d5388674869b5712aa011e1d6ce",
            "placeholder": "​",
            "style": "IPY_MODEL_bc99b8aa310d455fbbe2971a3a208ca2",
            "value": " 1/1 [00:00&lt;00:00,  1.46ba/s]"
          }
        },
        "3d21a7c6a64f44eeb420044395a42fad": {
          "model_module": "@jupyter-widgets/base",
          "model_name": "LayoutModel",
          "model_module_version": "1.2.0",
          "state": {
            "_model_module": "@jupyter-widgets/base",
            "_model_module_version": "1.2.0",
            "_model_name": "LayoutModel",
            "_view_count": null,
            "_view_module": "@jupyter-widgets/base",
            "_view_module_version": "1.2.0",
            "_view_name": "LayoutView",
            "align_content": null,
            "align_items": null,
            "align_self": null,
            "border": null,
            "bottom": null,
            "display": null,
            "flex": null,
            "flex_flow": null,
            "grid_area": null,
            "grid_auto_columns": null,
            "grid_auto_flow": null,
            "grid_auto_rows": null,
            "grid_column": null,
            "grid_gap": null,
            "grid_row": null,
            "grid_template_areas": null,
            "grid_template_columns": null,
            "grid_template_rows": null,
            "height": null,
            "justify_content": null,
            "justify_items": null,
            "left": null,
            "margin": null,
            "max_height": null,
            "max_width": null,
            "min_height": null,
            "min_width": null,
            "object_fit": null,
            "object_position": null,
            "order": null,
            "overflow": null,
            "overflow_x": null,
            "overflow_y": null,
            "padding": null,
            "right": null,
            "top": null,
            "visibility": null,
            "width": null
          }
        },
        "f21f671040e5462b8faad20c9be28a9a": {
          "model_module": "@jupyter-widgets/base",
          "model_name": "LayoutModel",
          "model_module_version": "1.2.0",
          "state": {
            "_model_module": "@jupyter-widgets/base",
            "_model_module_version": "1.2.0",
            "_model_name": "LayoutModel",
            "_view_count": null,
            "_view_module": "@jupyter-widgets/base",
            "_view_module_version": "1.2.0",
            "_view_name": "LayoutView",
            "align_content": null,
            "align_items": null,
            "align_self": null,
            "border": null,
            "bottom": null,
            "display": null,
            "flex": null,
            "flex_flow": null,
            "grid_area": null,
            "grid_auto_columns": null,
            "grid_auto_flow": null,
            "grid_auto_rows": null,
            "grid_column": null,
            "grid_gap": null,
            "grid_row": null,
            "grid_template_areas": null,
            "grid_template_columns": null,
            "grid_template_rows": null,
            "height": null,
            "justify_content": null,
            "justify_items": null,
            "left": null,
            "margin": null,
            "max_height": null,
            "max_width": null,
            "min_height": null,
            "min_width": null,
            "object_fit": null,
            "object_position": null,
            "order": null,
            "overflow": null,
            "overflow_x": null,
            "overflow_y": null,
            "padding": null,
            "right": null,
            "top": null,
            "visibility": null,
            "width": null
          }
        },
        "334f770df4244dc6b2c31e658836cd08": {
          "model_module": "@jupyter-widgets/controls",
          "model_name": "DescriptionStyleModel",
          "model_module_version": "1.5.0",
          "state": {
            "_model_module": "@jupyter-widgets/controls",
            "_model_module_version": "1.5.0",
            "_model_name": "DescriptionStyleModel",
            "_view_count": null,
            "_view_module": "@jupyter-widgets/base",
            "_view_module_version": "1.2.0",
            "_view_name": "StyleView",
            "description_width": ""
          }
        },
        "ee92db614174456b8f611b78e7db1600": {
          "model_module": "@jupyter-widgets/base",
          "model_name": "LayoutModel",
          "model_module_version": "1.2.0",
          "state": {
            "_model_module": "@jupyter-widgets/base",
            "_model_module_version": "1.2.0",
            "_model_name": "LayoutModel",
            "_view_count": null,
            "_view_module": "@jupyter-widgets/base",
            "_view_module_version": "1.2.0",
            "_view_name": "LayoutView",
            "align_content": null,
            "align_items": null,
            "align_self": null,
            "border": null,
            "bottom": null,
            "display": null,
            "flex": null,
            "flex_flow": null,
            "grid_area": null,
            "grid_auto_columns": null,
            "grid_auto_flow": null,
            "grid_auto_rows": null,
            "grid_column": null,
            "grid_gap": null,
            "grid_row": null,
            "grid_template_areas": null,
            "grid_template_columns": null,
            "grid_template_rows": null,
            "height": null,
            "justify_content": null,
            "justify_items": null,
            "left": null,
            "margin": null,
            "max_height": null,
            "max_width": null,
            "min_height": null,
            "min_width": null,
            "object_fit": null,
            "object_position": null,
            "order": null,
            "overflow": null,
            "overflow_x": null,
            "overflow_y": null,
            "padding": null,
            "right": null,
            "top": null,
            "visibility": null,
            "width": null
          }
        },
        "0bdcaec9a70d48ea9cab0b62b96eb1b5": {
          "model_module": "@jupyter-widgets/controls",
          "model_name": "ProgressStyleModel",
          "model_module_version": "1.5.0",
          "state": {
            "_model_module": "@jupyter-widgets/controls",
            "_model_module_version": "1.5.0",
            "_model_name": "ProgressStyleModel",
            "_view_count": null,
            "_view_module": "@jupyter-widgets/base",
            "_view_module_version": "1.2.0",
            "_view_name": "StyleView",
            "bar_color": null,
            "description_width": ""
          }
        },
        "270b6d5388674869b5712aa011e1d6ce": {
          "model_module": "@jupyter-widgets/base",
          "model_name": "LayoutModel",
          "model_module_version": "1.2.0",
          "state": {
            "_model_module": "@jupyter-widgets/base",
            "_model_module_version": "1.2.0",
            "_model_name": "LayoutModel",
            "_view_count": null,
            "_view_module": "@jupyter-widgets/base",
            "_view_module_version": "1.2.0",
            "_view_name": "LayoutView",
            "align_content": null,
            "align_items": null,
            "align_self": null,
            "border": null,
            "bottom": null,
            "display": null,
            "flex": null,
            "flex_flow": null,
            "grid_area": null,
            "grid_auto_columns": null,
            "grid_auto_flow": null,
            "grid_auto_rows": null,
            "grid_column": null,
            "grid_gap": null,
            "grid_row": null,
            "grid_template_areas": null,
            "grid_template_columns": null,
            "grid_template_rows": null,
            "height": null,
            "justify_content": null,
            "justify_items": null,
            "left": null,
            "margin": null,
            "max_height": null,
            "max_width": null,
            "min_height": null,
            "min_width": null,
            "object_fit": null,
            "object_position": null,
            "order": null,
            "overflow": null,
            "overflow_x": null,
            "overflow_y": null,
            "padding": null,
            "right": null,
            "top": null,
            "visibility": null,
            "width": null
          }
        },
        "bc99b8aa310d455fbbe2971a3a208ca2": {
          "model_module": "@jupyter-widgets/controls",
          "model_name": "DescriptionStyleModel",
          "model_module_version": "1.5.0",
          "state": {
            "_model_module": "@jupyter-widgets/controls",
            "_model_module_version": "1.5.0",
            "_model_name": "DescriptionStyleModel",
            "_view_count": null,
            "_view_module": "@jupyter-widgets/base",
            "_view_module_version": "1.2.0",
            "_view_name": "StyleView",
            "description_width": ""
          }
        },
        "8698d0ca77984fe19ae050173f4e7afb": {
          "model_module": "@jupyter-widgets/controls",
          "model_name": "HBoxModel",
          "model_module_version": "1.5.0",
          "state": {
            "_dom_classes": [],
            "_model_module": "@jupyter-widgets/controls",
            "_model_module_version": "1.5.0",
            "_model_name": "HBoxModel",
            "_view_count": null,
            "_view_module": "@jupyter-widgets/controls",
            "_view_module_version": "1.5.0",
            "_view_name": "HBoxView",
            "box_style": "",
            "children": [
              "IPY_MODEL_f2ee7c43aad74d49a3cdbc67311b543a",
              "IPY_MODEL_6f772dd3859e4a2a89100fe68eaf08d5",
              "IPY_MODEL_d4ad7da312214ba8907d953c20cd8f53"
            ],
            "layout": "IPY_MODEL_5186417f794646aa95c24d64a926dea7"
          }
        },
        "f2ee7c43aad74d49a3cdbc67311b543a": {
          "model_module": "@jupyter-widgets/controls",
          "model_name": "HTMLModel",
          "model_module_version": "1.5.0",
          "state": {
            "_dom_classes": [],
            "_model_module": "@jupyter-widgets/controls",
            "_model_module_version": "1.5.0",
            "_model_name": "HTMLModel",
            "_view_count": null,
            "_view_module": "@jupyter-widgets/controls",
            "_view_module_version": "1.5.0",
            "_view_name": "HTMLView",
            "description": "",
            "description_tooltip": null,
            "layout": "IPY_MODEL_5bcde964e67e4982bb31340443303792",
            "placeholder": "​",
            "style": "IPY_MODEL_a264c0c9d7f24d388fdc8d6948fda8cd",
            "value": "100%"
          }
        },
        "6f772dd3859e4a2a89100fe68eaf08d5": {
          "model_module": "@jupyter-widgets/controls",
          "model_name": "FloatProgressModel",
          "model_module_version": "1.5.0",
          "state": {
            "_dom_classes": [],
            "_model_module": "@jupyter-widgets/controls",
            "_model_module_version": "1.5.0",
            "_model_name": "FloatProgressModel",
            "_view_count": null,
            "_view_module": "@jupyter-widgets/controls",
            "_view_module_version": "1.5.0",
            "_view_name": "ProgressView",
            "bar_style": "success",
            "description": "",
            "description_tooltip": null,
            "layout": "IPY_MODEL_f5ab416c8a0847819818416bcab13b27",
            "max": 1,
            "min": 0,
            "orientation": "horizontal",
            "style": "IPY_MODEL_c7f722eed8f6420e92da2154f3bdee4a",
            "value": 1
          }
        },
        "d4ad7da312214ba8907d953c20cd8f53": {
          "model_module": "@jupyter-widgets/controls",
          "model_name": "HTMLModel",
          "model_module_version": "1.5.0",
          "state": {
            "_dom_classes": [],
            "_model_module": "@jupyter-widgets/controls",
            "_model_module_version": "1.5.0",
            "_model_name": "HTMLModel",
            "_view_count": null,
            "_view_module": "@jupyter-widgets/controls",
            "_view_module_version": "1.5.0",
            "_view_name": "HTMLView",
            "description": "",
            "description_tooltip": null,
            "layout": "IPY_MODEL_b37ccc6b46944d3ca74589fc348350fd",
            "placeholder": "​",
            "style": "IPY_MODEL_c6aae2f4bd9f456bb150f55e18662fbf",
            "value": " 1/1 [00:00&lt;00:00,  5.53ba/s]"
          }
        },
        "5186417f794646aa95c24d64a926dea7": {
          "model_module": "@jupyter-widgets/base",
          "model_name": "LayoutModel",
          "model_module_version": "1.2.0",
          "state": {
            "_model_module": "@jupyter-widgets/base",
            "_model_module_version": "1.2.0",
            "_model_name": "LayoutModel",
            "_view_count": null,
            "_view_module": "@jupyter-widgets/base",
            "_view_module_version": "1.2.0",
            "_view_name": "LayoutView",
            "align_content": null,
            "align_items": null,
            "align_self": null,
            "border": null,
            "bottom": null,
            "display": null,
            "flex": null,
            "flex_flow": null,
            "grid_area": null,
            "grid_auto_columns": null,
            "grid_auto_flow": null,
            "grid_auto_rows": null,
            "grid_column": null,
            "grid_gap": null,
            "grid_row": null,
            "grid_template_areas": null,
            "grid_template_columns": null,
            "grid_template_rows": null,
            "height": null,
            "justify_content": null,
            "justify_items": null,
            "left": null,
            "margin": null,
            "max_height": null,
            "max_width": null,
            "min_height": null,
            "min_width": null,
            "object_fit": null,
            "object_position": null,
            "order": null,
            "overflow": null,
            "overflow_x": null,
            "overflow_y": null,
            "padding": null,
            "right": null,
            "top": null,
            "visibility": null,
            "width": null
          }
        },
        "5bcde964e67e4982bb31340443303792": {
          "model_module": "@jupyter-widgets/base",
          "model_name": "LayoutModel",
          "model_module_version": "1.2.0",
          "state": {
            "_model_module": "@jupyter-widgets/base",
            "_model_module_version": "1.2.0",
            "_model_name": "LayoutModel",
            "_view_count": null,
            "_view_module": "@jupyter-widgets/base",
            "_view_module_version": "1.2.0",
            "_view_name": "LayoutView",
            "align_content": null,
            "align_items": null,
            "align_self": null,
            "border": null,
            "bottom": null,
            "display": null,
            "flex": null,
            "flex_flow": null,
            "grid_area": null,
            "grid_auto_columns": null,
            "grid_auto_flow": null,
            "grid_auto_rows": null,
            "grid_column": null,
            "grid_gap": null,
            "grid_row": null,
            "grid_template_areas": null,
            "grid_template_columns": null,
            "grid_template_rows": null,
            "height": null,
            "justify_content": null,
            "justify_items": null,
            "left": null,
            "margin": null,
            "max_height": null,
            "max_width": null,
            "min_height": null,
            "min_width": null,
            "object_fit": null,
            "object_position": null,
            "order": null,
            "overflow": null,
            "overflow_x": null,
            "overflow_y": null,
            "padding": null,
            "right": null,
            "top": null,
            "visibility": null,
            "width": null
          }
        },
        "a264c0c9d7f24d388fdc8d6948fda8cd": {
          "model_module": "@jupyter-widgets/controls",
          "model_name": "DescriptionStyleModel",
          "model_module_version": "1.5.0",
          "state": {
            "_model_module": "@jupyter-widgets/controls",
            "_model_module_version": "1.5.0",
            "_model_name": "DescriptionStyleModel",
            "_view_count": null,
            "_view_module": "@jupyter-widgets/base",
            "_view_module_version": "1.2.0",
            "_view_name": "StyleView",
            "description_width": ""
          }
        },
        "f5ab416c8a0847819818416bcab13b27": {
          "model_module": "@jupyter-widgets/base",
          "model_name": "LayoutModel",
          "model_module_version": "1.2.0",
          "state": {
            "_model_module": "@jupyter-widgets/base",
            "_model_module_version": "1.2.0",
            "_model_name": "LayoutModel",
            "_view_count": null,
            "_view_module": "@jupyter-widgets/base",
            "_view_module_version": "1.2.0",
            "_view_name": "LayoutView",
            "align_content": null,
            "align_items": null,
            "align_self": null,
            "border": null,
            "bottom": null,
            "display": null,
            "flex": null,
            "flex_flow": null,
            "grid_area": null,
            "grid_auto_columns": null,
            "grid_auto_flow": null,
            "grid_auto_rows": null,
            "grid_column": null,
            "grid_gap": null,
            "grid_row": null,
            "grid_template_areas": null,
            "grid_template_columns": null,
            "grid_template_rows": null,
            "height": null,
            "justify_content": null,
            "justify_items": null,
            "left": null,
            "margin": null,
            "max_height": null,
            "max_width": null,
            "min_height": null,
            "min_width": null,
            "object_fit": null,
            "object_position": null,
            "order": null,
            "overflow": null,
            "overflow_x": null,
            "overflow_y": null,
            "padding": null,
            "right": null,
            "top": null,
            "visibility": null,
            "width": null
          }
        },
        "c7f722eed8f6420e92da2154f3bdee4a": {
          "model_module": "@jupyter-widgets/controls",
          "model_name": "ProgressStyleModel",
          "model_module_version": "1.5.0",
          "state": {
            "_model_module": "@jupyter-widgets/controls",
            "_model_module_version": "1.5.0",
            "_model_name": "ProgressStyleModel",
            "_view_count": null,
            "_view_module": "@jupyter-widgets/base",
            "_view_module_version": "1.2.0",
            "_view_name": "StyleView",
            "bar_color": null,
            "description_width": ""
          }
        },
        "b37ccc6b46944d3ca74589fc348350fd": {
          "model_module": "@jupyter-widgets/base",
          "model_name": "LayoutModel",
          "model_module_version": "1.2.0",
          "state": {
            "_model_module": "@jupyter-widgets/base",
            "_model_module_version": "1.2.0",
            "_model_name": "LayoutModel",
            "_view_count": null,
            "_view_module": "@jupyter-widgets/base",
            "_view_module_version": "1.2.0",
            "_view_name": "LayoutView",
            "align_content": null,
            "align_items": null,
            "align_self": null,
            "border": null,
            "bottom": null,
            "display": null,
            "flex": null,
            "flex_flow": null,
            "grid_area": null,
            "grid_auto_columns": null,
            "grid_auto_flow": null,
            "grid_auto_rows": null,
            "grid_column": null,
            "grid_gap": null,
            "grid_row": null,
            "grid_template_areas": null,
            "grid_template_columns": null,
            "grid_template_rows": null,
            "height": null,
            "justify_content": null,
            "justify_items": null,
            "left": null,
            "margin": null,
            "max_height": null,
            "max_width": null,
            "min_height": null,
            "min_width": null,
            "object_fit": null,
            "object_position": null,
            "order": null,
            "overflow": null,
            "overflow_x": null,
            "overflow_y": null,
            "padding": null,
            "right": null,
            "top": null,
            "visibility": null,
            "width": null
          }
        },
        "c6aae2f4bd9f456bb150f55e18662fbf": {
          "model_module": "@jupyter-widgets/controls",
          "model_name": "DescriptionStyleModel",
          "model_module_version": "1.5.0",
          "state": {
            "_model_module": "@jupyter-widgets/controls",
            "_model_module_version": "1.5.0",
            "_model_name": "DescriptionStyleModel",
            "_view_count": null,
            "_view_module": "@jupyter-widgets/base",
            "_view_module_version": "1.2.0",
            "_view_name": "StyleView",
            "description_width": ""
          }
        },
        "21f43c2480b64140a99a7e2f9a49e155": {
          "model_module": "@jupyter-widgets/controls",
          "model_name": "HBoxModel",
          "model_module_version": "1.5.0",
          "state": {
            "_dom_classes": [],
            "_model_module": "@jupyter-widgets/controls",
            "_model_module_version": "1.5.0",
            "_model_name": "HBoxModel",
            "_view_count": null,
            "_view_module": "@jupyter-widgets/controls",
            "_view_module_version": "1.5.0",
            "_view_name": "HBoxView",
            "box_style": "",
            "children": [
              "IPY_MODEL_2ee6e88ce0ef4a728478c70b720203be",
              "IPY_MODEL_53b3fc2a6c92457c9a42660554b686fe",
              "IPY_MODEL_efe037d6463a4278a08c41454f795392"
            ],
            "layout": "IPY_MODEL_5df75170b9814530b1729b45bb33289f"
          }
        },
        "2ee6e88ce0ef4a728478c70b720203be": {
          "model_module": "@jupyter-widgets/controls",
          "model_name": "HTMLModel",
          "model_module_version": "1.5.0",
          "state": {
            "_dom_classes": [],
            "_model_module": "@jupyter-widgets/controls",
            "_model_module_version": "1.5.0",
            "_model_name": "HTMLModel",
            "_view_count": null,
            "_view_module": "@jupyter-widgets/controls",
            "_view_module_version": "1.5.0",
            "_view_name": "HTMLView",
            "description": "",
            "description_tooltip": null,
            "layout": "IPY_MODEL_3d26877d707e4c6da24e0e7c2bd7c6d5",
            "placeholder": "​",
            "style": "IPY_MODEL_ec800dd9629844388bbeac0d931910b5",
            "value": ""
          }
        },
        "53b3fc2a6c92457c9a42660554b686fe": {
          "model_module": "@jupyter-widgets/controls",
          "model_name": "FloatProgressModel",
          "model_module_version": "1.5.0",
          "state": {
            "_dom_classes": [],
            "_model_module": "@jupyter-widgets/controls",
            "_model_module_version": "1.5.0",
            "_model_name": "FloatProgressModel",
            "_view_count": null,
            "_view_module": "@jupyter-widgets/controls",
            "_view_module_version": "1.5.0",
            "_view_name": "ProgressView",
            "bar_style": "success",
            "description": "",
            "description_tooltip": null,
            "layout": "IPY_MODEL_fadd9a9c92d6448b90fd3e8ab1d15956",
            "max": 1,
            "min": 0,
            "orientation": "horizontal",
            "style": "IPY_MODEL_55e28d4be1684eeba117dd9c6c398699",
            "value": 1
          }
        },
        "efe037d6463a4278a08c41454f795392": {
          "model_module": "@jupyter-widgets/controls",
          "model_name": "HTMLModel",
          "model_module_version": "1.5.0",
          "state": {
            "_dom_classes": [],
            "_model_module": "@jupyter-widgets/controls",
            "_model_module_version": "1.5.0",
            "_model_name": "HTMLModel",
            "_view_count": null,
            "_view_module": "@jupyter-widgets/controls",
            "_view_module_version": "1.5.0",
            "_view_name": "HTMLView",
            "description": "",
            "description_tooltip": null,
            "layout": "IPY_MODEL_0b5fd7bc5f674888b9d252f781f448cc",
            "placeholder": "​",
            "style": "IPY_MODEL_4a7bdd299f0a4dd2bd96a5320a23b656",
            "value": " 21744/? [02:55&lt;00:00, 128.78ex/s]"
          }
        },
        "5df75170b9814530b1729b45bb33289f": {
          "model_module": "@jupyter-widgets/base",
          "model_name": "LayoutModel",
          "model_module_version": "1.2.0",
          "state": {
            "_model_module": "@jupyter-widgets/base",
            "_model_module_version": "1.2.0",
            "_model_name": "LayoutModel",
            "_view_count": null,
            "_view_module": "@jupyter-widgets/base",
            "_view_module_version": "1.2.0",
            "_view_name": "LayoutView",
            "align_content": null,
            "align_items": null,
            "align_self": null,
            "border": null,
            "bottom": null,
            "display": null,
            "flex": null,
            "flex_flow": null,
            "grid_area": null,
            "grid_auto_columns": null,
            "grid_auto_flow": null,
            "grid_auto_rows": null,
            "grid_column": null,
            "grid_gap": null,
            "grid_row": null,
            "grid_template_areas": null,
            "grid_template_columns": null,
            "grid_template_rows": null,
            "height": null,
            "justify_content": null,
            "justify_items": null,
            "left": null,
            "margin": null,
            "max_height": null,
            "max_width": null,
            "min_height": null,
            "min_width": null,
            "object_fit": null,
            "object_position": null,
            "order": null,
            "overflow": null,
            "overflow_x": null,
            "overflow_y": null,
            "padding": null,
            "right": null,
            "top": null,
            "visibility": null,
            "width": null
          }
        },
        "3d26877d707e4c6da24e0e7c2bd7c6d5": {
          "model_module": "@jupyter-widgets/base",
          "model_name": "LayoutModel",
          "model_module_version": "1.2.0",
          "state": {
            "_model_module": "@jupyter-widgets/base",
            "_model_module_version": "1.2.0",
            "_model_name": "LayoutModel",
            "_view_count": null,
            "_view_module": "@jupyter-widgets/base",
            "_view_module_version": "1.2.0",
            "_view_name": "LayoutView",
            "align_content": null,
            "align_items": null,
            "align_self": null,
            "border": null,
            "bottom": null,
            "display": null,
            "flex": null,
            "flex_flow": null,
            "grid_area": null,
            "grid_auto_columns": null,
            "grid_auto_flow": null,
            "grid_auto_rows": null,
            "grid_column": null,
            "grid_gap": null,
            "grid_row": null,
            "grid_template_areas": null,
            "grid_template_columns": null,
            "grid_template_rows": null,
            "height": null,
            "justify_content": null,
            "justify_items": null,
            "left": null,
            "margin": null,
            "max_height": null,
            "max_width": null,
            "min_height": null,
            "min_width": null,
            "object_fit": null,
            "object_position": null,
            "order": null,
            "overflow": null,
            "overflow_x": null,
            "overflow_y": null,
            "padding": null,
            "right": null,
            "top": null,
            "visibility": null,
            "width": null
          }
        },
        "ec800dd9629844388bbeac0d931910b5": {
          "model_module": "@jupyter-widgets/controls",
          "model_name": "DescriptionStyleModel",
          "model_module_version": "1.5.0",
          "state": {
            "_model_module": "@jupyter-widgets/controls",
            "_model_module_version": "1.5.0",
            "_model_name": "DescriptionStyleModel",
            "_view_count": null,
            "_view_module": "@jupyter-widgets/base",
            "_view_module_version": "1.2.0",
            "_view_name": "StyleView",
            "description_width": ""
          }
        },
        "fadd9a9c92d6448b90fd3e8ab1d15956": {
          "model_module": "@jupyter-widgets/base",
          "model_name": "LayoutModel",
          "model_module_version": "1.2.0",
          "state": {
            "_model_module": "@jupyter-widgets/base",
            "_model_module_version": "1.2.0",
            "_model_name": "LayoutModel",
            "_view_count": null,
            "_view_module": "@jupyter-widgets/base",
            "_view_module_version": "1.2.0",
            "_view_name": "LayoutView",
            "align_content": null,
            "align_items": null,
            "align_self": null,
            "border": null,
            "bottom": null,
            "display": null,
            "flex": null,
            "flex_flow": null,
            "grid_area": null,
            "grid_auto_columns": null,
            "grid_auto_flow": null,
            "grid_auto_rows": null,
            "grid_column": null,
            "grid_gap": null,
            "grid_row": null,
            "grid_template_areas": null,
            "grid_template_columns": null,
            "grid_template_rows": null,
            "height": null,
            "justify_content": null,
            "justify_items": null,
            "left": null,
            "margin": null,
            "max_height": null,
            "max_width": null,
            "min_height": null,
            "min_width": null,
            "object_fit": null,
            "object_position": null,
            "order": null,
            "overflow": null,
            "overflow_x": null,
            "overflow_y": null,
            "padding": null,
            "right": null,
            "top": null,
            "visibility": null,
            "width": "20px"
          }
        },
        "55e28d4be1684eeba117dd9c6c398699": {
          "model_module": "@jupyter-widgets/controls",
          "model_name": "ProgressStyleModel",
          "model_module_version": "1.5.0",
          "state": {
            "_model_module": "@jupyter-widgets/controls",
            "_model_module_version": "1.5.0",
            "_model_name": "ProgressStyleModel",
            "_view_count": null,
            "_view_module": "@jupyter-widgets/base",
            "_view_module_version": "1.2.0",
            "_view_name": "StyleView",
            "bar_color": null,
            "description_width": ""
          }
        },
        "0b5fd7bc5f674888b9d252f781f448cc": {
          "model_module": "@jupyter-widgets/base",
          "model_name": "LayoutModel",
          "model_module_version": "1.2.0",
          "state": {
            "_model_module": "@jupyter-widgets/base",
            "_model_module_version": "1.2.0",
            "_model_name": "LayoutModel",
            "_view_count": null,
            "_view_module": "@jupyter-widgets/base",
            "_view_module_version": "1.2.0",
            "_view_name": "LayoutView",
            "align_content": null,
            "align_items": null,
            "align_self": null,
            "border": null,
            "bottom": null,
            "display": null,
            "flex": null,
            "flex_flow": null,
            "grid_area": null,
            "grid_auto_columns": null,
            "grid_auto_flow": null,
            "grid_auto_rows": null,
            "grid_column": null,
            "grid_gap": null,
            "grid_row": null,
            "grid_template_areas": null,
            "grid_template_columns": null,
            "grid_template_rows": null,
            "height": null,
            "justify_content": null,
            "justify_items": null,
            "left": null,
            "margin": null,
            "max_height": null,
            "max_width": null,
            "min_height": null,
            "min_width": null,
            "object_fit": null,
            "object_position": null,
            "order": null,
            "overflow": null,
            "overflow_x": null,
            "overflow_y": null,
            "padding": null,
            "right": null,
            "top": null,
            "visibility": null,
            "width": null
          }
        },
        "4a7bdd299f0a4dd2bd96a5320a23b656": {
          "model_module": "@jupyter-widgets/controls",
          "model_name": "DescriptionStyleModel",
          "model_module_version": "1.5.0",
          "state": {
            "_model_module": "@jupyter-widgets/controls",
            "_model_module_version": "1.5.0",
            "_model_name": "DescriptionStyleModel",
            "_view_count": null,
            "_view_module": "@jupyter-widgets/base",
            "_view_module_version": "1.2.0",
            "_view_name": "StyleView",
            "description_width": ""
          }
        },
        "82a40d2d8dd345e382009a7ae73f7620": {
          "model_module": "@jupyter-widgets/controls",
          "model_name": "HBoxModel",
          "model_module_version": "1.5.0",
          "state": {
            "_dom_classes": [],
            "_model_module": "@jupyter-widgets/controls",
            "_model_module_version": "1.5.0",
            "_model_name": "HBoxModel",
            "_view_count": null,
            "_view_module": "@jupyter-widgets/controls",
            "_view_module_version": "1.5.0",
            "_view_name": "HBoxView",
            "box_style": "",
            "children": [
              "IPY_MODEL_77e165b10bbe40249407b214a8d30c72",
              "IPY_MODEL_575045267293451fbcf6687f0e052281",
              "IPY_MODEL_4b3a6b58bf274a10a2193f0ce4d417ca"
            ],
            "layout": "IPY_MODEL_591fb31fc2a745a7a8fd53328ef3bded"
          }
        },
        "77e165b10bbe40249407b214a8d30c72": {
          "model_module": "@jupyter-widgets/controls",
          "model_name": "HTMLModel",
          "model_module_version": "1.5.0",
          "state": {
            "_dom_classes": [],
            "_model_module": "@jupyter-widgets/controls",
            "_model_module_version": "1.5.0",
            "_model_name": "HTMLModel",
            "_view_count": null,
            "_view_module": "@jupyter-widgets/controls",
            "_view_module_version": "1.5.0",
            "_view_name": "HTMLView",
            "description": "",
            "description_tooltip": null,
            "layout": "IPY_MODEL_e95d16b4da4241c7b10ae5463e420be1",
            "placeholder": "​",
            "style": "IPY_MODEL_18108d600b724619a2f84a3a9c0a5949",
            "value": ""
          }
        },
        "575045267293451fbcf6687f0e052281": {
          "model_module": "@jupyter-widgets/controls",
          "model_name": "FloatProgressModel",
          "model_module_version": "1.5.0",
          "state": {
            "_dom_classes": [],
            "_model_module": "@jupyter-widgets/controls",
            "_model_module_version": "1.5.0",
            "_model_name": "FloatProgressModel",
            "_view_count": null,
            "_view_module": "@jupyter-widgets/controls",
            "_view_module_version": "1.5.0",
            "_view_name": "ProgressView",
            "bar_style": "success",
            "description": "",
            "description_tooltip": null,
            "layout": "IPY_MODEL_08c9728f17954d349da248bbcf8b0106",
            "max": 1,
            "min": 0,
            "orientation": "horizontal",
            "style": "IPY_MODEL_3c3cd0f9be01474c925f1c75792955ca",
            "value": 1
          }
        },
        "4b3a6b58bf274a10a2193f0ce4d417ca": {
          "model_module": "@jupyter-widgets/controls",
          "model_name": "HTMLModel",
          "model_module_version": "1.5.0",
          "state": {
            "_dom_classes": [],
            "_model_module": "@jupyter-widgets/controls",
            "_model_module_version": "1.5.0",
            "_model_name": "HTMLModel",
            "_view_count": null,
            "_view_module": "@jupyter-widgets/controls",
            "_view_module_version": "1.5.0",
            "_view_name": "HTMLView",
            "description": "",
            "description_tooltip": null,
            "layout": "IPY_MODEL_052299d85578434baf5997867fed6d59",
            "placeholder": "​",
            "style": "IPY_MODEL_56132e8cce4e477e8f7e00e09108cd1c",
            "value": " 7622/? [01:09&lt;00:00, 126.27ex/s]"
          }
        },
        "591fb31fc2a745a7a8fd53328ef3bded": {
          "model_module": "@jupyter-widgets/base",
          "model_name": "LayoutModel",
          "model_module_version": "1.2.0",
          "state": {
            "_model_module": "@jupyter-widgets/base",
            "_model_module_version": "1.2.0",
            "_model_name": "LayoutModel",
            "_view_count": null,
            "_view_module": "@jupyter-widgets/base",
            "_view_module_version": "1.2.0",
            "_view_name": "LayoutView",
            "align_content": null,
            "align_items": null,
            "align_self": null,
            "border": null,
            "bottom": null,
            "display": null,
            "flex": null,
            "flex_flow": null,
            "grid_area": null,
            "grid_auto_columns": null,
            "grid_auto_flow": null,
            "grid_auto_rows": null,
            "grid_column": null,
            "grid_gap": null,
            "grid_row": null,
            "grid_template_areas": null,
            "grid_template_columns": null,
            "grid_template_rows": null,
            "height": null,
            "justify_content": null,
            "justify_items": null,
            "left": null,
            "margin": null,
            "max_height": null,
            "max_width": null,
            "min_height": null,
            "min_width": null,
            "object_fit": null,
            "object_position": null,
            "order": null,
            "overflow": null,
            "overflow_x": null,
            "overflow_y": null,
            "padding": null,
            "right": null,
            "top": null,
            "visibility": null,
            "width": null
          }
        },
        "e95d16b4da4241c7b10ae5463e420be1": {
          "model_module": "@jupyter-widgets/base",
          "model_name": "LayoutModel",
          "model_module_version": "1.2.0",
          "state": {
            "_model_module": "@jupyter-widgets/base",
            "_model_module_version": "1.2.0",
            "_model_name": "LayoutModel",
            "_view_count": null,
            "_view_module": "@jupyter-widgets/base",
            "_view_module_version": "1.2.0",
            "_view_name": "LayoutView",
            "align_content": null,
            "align_items": null,
            "align_self": null,
            "border": null,
            "bottom": null,
            "display": null,
            "flex": null,
            "flex_flow": null,
            "grid_area": null,
            "grid_auto_columns": null,
            "grid_auto_flow": null,
            "grid_auto_rows": null,
            "grid_column": null,
            "grid_gap": null,
            "grid_row": null,
            "grid_template_areas": null,
            "grid_template_columns": null,
            "grid_template_rows": null,
            "height": null,
            "justify_content": null,
            "justify_items": null,
            "left": null,
            "margin": null,
            "max_height": null,
            "max_width": null,
            "min_height": null,
            "min_width": null,
            "object_fit": null,
            "object_position": null,
            "order": null,
            "overflow": null,
            "overflow_x": null,
            "overflow_y": null,
            "padding": null,
            "right": null,
            "top": null,
            "visibility": null,
            "width": null
          }
        },
        "18108d600b724619a2f84a3a9c0a5949": {
          "model_module": "@jupyter-widgets/controls",
          "model_name": "DescriptionStyleModel",
          "model_module_version": "1.5.0",
          "state": {
            "_model_module": "@jupyter-widgets/controls",
            "_model_module_version": "1.5.0",
            "_model_name": "DescriptionStyleModel",
            "_view_count": null,
            "_view_module": "@jupyter-widgets/base",
            "_view_module_version": "1.2.0",
            "_view_name": "StyleView",
            "description_width": ""
          }
        },
        "08c9728f17954d349da248bbcf8b0106": {
          "model_module": "@jupyter-widgets/base",
          "model_name": "LayoutModel",
          "model_module_version": "1.2.0",
          "state": {
            "_model_module": "@jupyter-widgets/base",
            "_model_module_version": "1.2.0",
            "_model_name": "LayoutModel",
            "_view_count": null,
            "_view_module": "@jupyter-widgets/base",
            "_view_module_version": "1.2.0",
            "_view_name": "LayoutView",
            "align_content": null,
            "align_items": null,
            "align_self": null,
            "border": null,
            "bottom": null,
            "display": null,
            "flex": null,
            "flex_flow": null,
            "grid_area": null,
            "grid_auto_columns": null,
            "grid_auto_flow": null,
            "grid_auto_rows": null,
            "grid_column": null,
            "grid_gap": null,
            "grid_row": null,
            "grid_template_areas": null,
            "grid_template_columns": null,
            "grid_template_rows": null,
            "height": null,
            "justify_content": null,
            "justify_items": null,
            "left": null,
            "margin": null,
            "max_height": null,
            "max_width": null,
            "min_height": null,
            "min_width": null,
            "object_fit": null,
            "object_position": null,
            "order": null,
            "overflow": null,
            "overflow_x": null,
            "overflow_y": null,
            "padding": null,
            "right": null,
            "top": null,
            "visibility": null,
            "width": "20px"
          }
        },
        "3c3cd0f9be01474c925f1c75792955ca": {
          "model_module": "@jupyter-widgets/controls",
          "model_name": "ProgressStyleModel",
          "model_module_version": "1.5.0",
          "state": {
            "_model_module": "@jupyter-widgets/controls",
            "_model_module_version": "1.5.0",
            "_model_name": "ProgressStyleModel",
            "_view_count": null,
            "_view_module": "@jupyter-widgets/base",
            "_view_module_version": "1.2.0",
            "_view_name": "StyleView",
            "bar_color": null,
            "description_width": ""
          }
        },
        "052299d85578434baf5997867fed6d59": {
          "model_module": "@jupyter-widgets/base",
          "model_name": "LayoutModel",
          "model_module_version": "1.2.0",
          "state": {
            "_model_module": "@jupyter-widgets/base",
            "_model_module_version": "1.2.0",
            "_model_name": "LayoutModel",
            "_view_count": null,
            "_view_module": "@jupyter-widgets/base",
            "_view_module_version": "1.2.0",
            "_view_name": "LayoutView",
            "align_content": null,
            "align_items": null,
            "align_self": null,
            "border": null,
            "bottom": null,
            "display": null,
            "flex": null,
            "flex_flow": null,
            "grid_area": null,
            "grid_auto_columns": null,
            "grid_auto_flow": null,
            "grid_auto_rows": null,
            "grid_column": null,
            "grid_gap": null,
            "grid_row": null,
            "grid_template_areas": null,
            "grid_template_columns": null,
            "grid_template_rows": null,
            "height": null,
            "justify_content": null,
            "justify_items": null,
            "left": null,
            "margin": null,
            "max_height": null,
            "max_width": null,
            "min_height": null,
            "min_width": null,
            "object_fit": null,
            "object_position": null,
            "order": null,
            "overflow": null,
            "overflow_x": null,
            "overflow_y": null,
            "padding": null,
            "right": null,
            "top": null,
            "visibility": null,
            "width": null
          }
        },
        "56132e8cce4e477e8f7e00e09108cd1c": {
          "model_module": "@jupyter-widgets/controls",
          "model_name": "DescriptionStyleModel",
          "model_module_version": "1.5.0",
          "state": {
            "_model_module": "@jupyter-widgets/controls",
            "_model_module_version": "1.5.0",
            "_model_name": "DescriptionStyleModel",
            "_view_count": null,
            "_view_module": "@jupyter-widgets/base",
            "_view_module_version": "1.2.0",
            "_view_name": "StyleView",
            "description_width": ""
          }
        },
        "b789676db52c4861b65822da4ca00816": {
          "model_module": "@jupyter-widgets/controls",
          "model_name": "HBoxModel",
          "model_module_version": "1.5.0",
          "state": {
            "_dom_classes": [],
            "_model_module": "@jupyter-widgets/controls",
            "_model_module_version": "1.5.0",
            "_model_name": "HBoxModel",
            "_view_count": null,
            "_view_module": "@jupyter-widgets/controls",
            "_view_module_version": "1.5.0",
            "_view_name": "HBoxView",
            "box_style": "",
            "children": [
              "IPY_MODEL_5853337ee5b54530b10f12400ba918aa",
              "IPY_MODEL_a5e1fde3c3e24f03959db8a68e0ea7c0",
              "IPY_MODEL_ef07f2b69702456d8813a18f0c8ff24a"
            ],
            "layout": "IPY_MODEL_69b833c3c2204cd6944a9fa94a01e166"
          }
        },
        "5853337ee5b54530b10f12400ba918aa": {
          "model_module": "@jupyter-widgets/controls",
          "model_name": "HTMLModel",
          "model_module_version": "1.5.0",
          "state": {
            "_dom_classes": [],
            "_model_module": "@jupyter-widgets/controls",
            "_model_module_version": "1.5.0",
            "_model_name": "HTMLModel",
            "_view_count": null,
            "_view_module": "@jupyter-widgets/controls",
            "_view_module_version": "1.5.0",
            "_view_name": "HTMLView",
            "description": "",
            "description_tooltip": null,
            "layout": "IPY_MODEL_09cbe893d75e4e24a37fd3d522863466",
            "placeholder": "​",
            "style": "IPY_MODEL_9256a26f145f47ecb781592faf2d8626",
            "value": "Downloading: "
          }
        },
        "a5e1fde3c3e24f03959db8a68e0ea7c0": {
          "model_module": "@jupyter-widgets/controls",
          "model_name": "FloatProgressModel",
          "model_module_version": "1.5.0",
          "state": {
            "_dom_classes": [],
            "_model_module": "@jupyter-widgets/controls",
            "_model_module_version": "1.5.0",
            "_model_name": "FloatProgressModel",
            "_view_count": null,
            "_view_module": "@jupyter-widgets/controls",
            "_view_module_version": "1.5.0",
            "_view_name": "ProgressView",
            "bar_style": "success",
            "description": "",
            "description_tooltip": null,
            "layout": "IPY_MODEL_ce6c9d1e1c0143bc98fc52dca558e6d4",
            "max": 1901,
            "min": 0,
            "orientation": "horizontal",
            "style": "IPY_MODEL_b36c8cd7e7d8444ba712599f5abaa8d8",
            "value": 1901
          }
        },
        "ef07f2b69702456d8813a18f0c8ff24a": {
          "model_module": "@jupyter-widgets/controls",
          "model_name": "HTMLModel",
          "model_module_version": "1.5.0",
          "state": {
            "_dom_classes": [],
            "_model_module": "@jupyter-widgets/controls",
            "_model_module_version": "1.5.0",
            "_model_name": "HTMLModel",
            "_view_count": null,
            "_view_module": "@jupyter-widgets/controls",
            "_view_module_version": "1.5.0",
            "_view_name": "HTMLView",
            "description": "",
            "description_tooltip": null,
            "layout": "IPY_MODEL_bb1602e661bc422f9bcc2bb483755b13",
            "placeholder": "​",
            "style": "IPY_MODEL_9609fc6cd9274ca090129efc1571da6a",
            "value": " 4.48k/? [00:00&lt;00:00, 299kB/s]"
          }
        },
        "69b833c3c2204cd6944a9fa94a01e166": {
          "model_module": "@jupyter-widgets/base",
          "model_name": "LayoutModel",
          "model_module_version": "1.2.0",
          "state": {
            "_model_module": "@jupyter-widgets/base",
            "_model_module_version": "1.2.0",
            "_model_name": "LayoutModel",
            "_view_count": null,
            "_view_module": "@jupyter-widgets/base",
            "_view_module_version": "1.2.0",
            "_view_name": "LayoutView",
            "align_content": null,
            "align_items": null,
            "align_self": null,
            "border": null,
            "bottom": null,
            "display": null,
            "flex": null,
            "flex_flow": null,
            "grid_area": null,
            "grid_auto_columns": null,
            "grid_auto_flow": null,
            "grid_auto_rows": null,
            "grid_column": null,
            "grid_gap": null,
            "grid_row": null,
            "grid_template_areas": null,
            "grid_template_columns": null,
            "grid_template_rows": null,
            "height": null,
            "justify_content": null,
            "justify_items": null,
            "left": null,
            "margin": null,
            "max_height": null,
            "max_width": null,
            "min_height": null,
            "min_width": null,
            "object_fit": null,
            "object_position": null,
            "order": null,
            "overflow": null,
            "overflow_x": null,
            "overflow_y": null,
            "padding": null,
            "right": null,
            "top": null,
            "visibility": null,
            "width": null
          }
        },
        "09cbe893d75e4e24a37fd3d522863466": {
          "model_module": "@jupyter-widgets/base",
          "model_name": "LayoutModel",
          "model_module_version": "1.2.0",
          "state": {
            "_model_module": "@jupyter-widgets/base",
            "_model_module_version": "1.2.0",
            "_model_name": "LayoutModel",
            "_view_count": null,
            "_view_module": "@jupyter-widgets/base",
            "_view_module_version": "1.2.0",
            "_view_name": "LayoutView",
            "align_content": null,
            "align_items": null,
            "align_self": null,
            "border": null,
            "bottom": null,
            "display": null,
            "flex": null,
            "flex_flow": null,
            "grid_area": null,
            "grid_auto_columns": null,
            "grid_auto_flow": null,
            "grid_auto_rows": null,
            "grid_column": null,
            "grid_gap": null,
            "grid_row": null,
            "grid_template_areas": null,
            "grid_template_columns": null,
            "grid_template_rows": null,
            "height": null,
            "justify_content": null,
            "justify_items": null,
            "left": null,
            "margin": null,
            "max_height": null,
            "max_width": null,
            "min_height": null,
            "min_width": null,
            "object_fit": null,
            "object_position": null,
            "order": null,
            "overflow": null,
            "overflow_x": null,
            "overflow_y": null,
            "padding": null,
            "right": null,
            "top": null,
            "visibility": null,
            "width": null
          }
        },
        "9256a26f145f47ecb781592faf2d8626": {
          "model_module": "@jupyter-widgets/controls",
          "model_name": "DescriptionStyleModel",
          "model_module_version": "1.5.0",
          "state": {
            "_model_module": "@jupyter-widgets/controls",
            "_model_module_version": "1.5.0",
            "_model_name": "DescriptionStyleModel",
            "_view_count": null,
            "_view_module": "@jupyter-widgets/base",
            "_view_module_version": "1.2.0",
            "_view_name": "StyleView",
            "description_width": ""
          }
        },
        "ce6c9d1e1c0143bc98fc52dca558e6d4": {
          "model_module": "@jupyter-widgets/base",
          "model_name": "LayoutModel",
          "model_module_version": "1.2.0",
          "state": {
            "_model_module": "@jupyter-widgets/base",
            "_model_module_version": "1.2.0",
            "_model_name": "LayoutModel",
            "_view_count": null,
            "_view_module": "@jupyter-widgets/base",
            "_view_module_version": "1.2.0",
            "_view_name": "LayoutView",
            "align_content": null,
            "align_items": null,
            "align_self": null,
            "border": null,
            "bottom": null,
            "display": null,
            "flex": null,
            "flex_flow": null,
            "grid_area": null,
            "grid_auto_columns": null,
            "grid_auto_flow": null,
            "grid_auto_rows": null,
            "grid_column": null,
            "grid_gap": null,
            "grid_row": null,
            "grid_template_areas": null,
            "grid_template_columns": null,
            "grid_template_rows": null,
            "height": null,
            "justify_content": null,
            "justify_items": null,
            "left": null,
            "margin": null,
            "max_height": null,
            "max_width": null,
            "min_height": null,
            "min_width": null,
            "object_fit": null,
            "object_position": null,
            "order": null,
            "overflow": null,
            "overflow_x": null,
            "overflow_y": null,
            "padding": null,
            "right": null,
            "top": null,
            "visibility": null,
            "width": null
          }
        },
        "b36c8cd7e7d8444ba712599f5abaa8d8": {
          "model_module": "@jupyter-widgets/controls",
          "model_name": "ProgressStyleModel",
          "model_module_version": "1.5.0",
          "state": {
            "_model_module": "@jupyter-widgets/controls",
            "_model_module_version": "1.5.0",
            "_model_name": "ProgressStyleModel",
            "_view_count": null,
            "_view_module": "@jupyter-widgets/base",
            "_view_module_version": "1.2.0",
            "_view_name": "StyleView",
            "bar_color": null,
            "description_width": ""
          }
        },
        "bb1602e661bc422f9bcc2bb483755b13": {
          "model_module": "@jupyter-widgets/base",
          "model_name": "LayoutModel",
          "model_module_version": "1.2.0",
          "state": {
            "_model_module": "@jupyter-widgets/base",
            "_model_module_version": "1.2.0",
            "_model_name": "LayoutModel",
            "_view_count": null,
            "_view_module": "@jupyter-widgets/base",
            "_view_module_version": "1.2.0",
            "_view_name": "LayoutView",
            "align_content": null,
            "align_items": null,
            "align_self": null,
            "border": null,
            "bottom": null,
            "display": null,
            "flex": null,
            "flex_flow": null,
            "grid_area": null,
            "grid_auto_columns": null,
            "grid_auto_flow": null,
            "grid_auto_rows": null,
            "grid_column": null,
            "grid_gap": null,
            "grid_row": null,
            "grid_template_areas": null,
            "grid_template_columns": null,
            "grid_template_rows": null,
            "height": null,
            "justify_content": null,
            "justify_items": null,
            "left": null,
            "margin": null,
            "max_height": null,
            "max_width": null,
            "min_height": null,
            "min_width": null,
            "object_fit": null,
            "object_position": null,
            "order": null,
            "overflow": null,
            "overflow_x": null,
            "overflow_y": null,
            "padding": null,
            "right": null,
            "top": null,
            "visibility": null,
            "width": null
          }
        },
        "9609fc6cd9274ca090129efc1571da6a": {
          "model_module": "@jupyter-widgets/controls",
          "model_name": "DescriptionStyleModel",
          "model_module_version": "1.5.0",
          "state": {
            "_model_module": "@jupyter-widgets/controls",
            "_model_module_version": "1.5.0",
            "_model_name": "DescriptionStyleModel",
            "_view_count": null,
            "_view_module": "@jupyter-widgets/base",
            "_view_module_version": "1.2.0",
            "_view_name": "StyleView",
            "description_width": ""
          }
        },
        "91cfe0758e4e46b7b67e4895bda66c02": {
          "model_module": "@jupyter-widgets/controls",
          "model_name": "HBoxModel",
          "model_module_version": "1.5.0",
          "state": {
            "_dom_classes": [],
            "_model_module": "@jupyter-widgets/controls",
            "_model_module_version": "1.5.0",
            "_model_name": "HBoxModel",
            "_view_count": null,
            "_view_module": "@jupyter-widgets/controls",
            "_view_module_version": "1.5.0",
            "_view_name": "HBoxView",
            "box_style": "",
            "children": [
              "IPY_MODEL_60c61d47d1ba4a8d8a9284d04e0745ff",
              "IPY_MODEL_aa6d5e30890e465fa47ad575df91f860",
              "IPY_MODEL_4c8b8ce3da4b47e0bedd97a94e23fc46"
            ],
            "layout": "IPY_MODEL_2235e7cdf69848a28f60c947812eed8e"
          }
        },
        "60c61d47d1ba4a8d8a9284d04e0745ff": {
          "model_module": "@jupyter-widgets/controls",
          "model_name": "HTMLModel",
          "model_module_version": "1.5.0",
          "state": {
            "_dom_classes": [],
            "_model_module": "@jupyter-widgets/controls",
            "_model_module_version": "1.5.0",
            "_model_name": "HTMLModel",
            "_view_count": null,
            "_view_module": "@jupyter-widgets/controls",
            "_view_module_version": "1.5.0",
            "_view_name": "HTMLView",
            "description": "",
            "description_tooltip": null,
            "layout": "IPY_MODEL_563867d1fa4c4672886147d062f16e43",
            "placeholder": "​",
            "style": "IPY_MODEL_d078b7ef07fc4e1299e750852ea8dac5",
            "value": "Downloading (…)lve/main/config.json: 100%"
          }
        },
        "aa6d5e30890e465fa47ad575df91f860": {
          "model_module": "@jupyter-widgets/controls",
          "model_name": "FloatProgressModel",
          "model_module_version": "1.5.0",
          "state": {
            "_dom_classes": [],
            "_model_module": "@jupyter-widgets/controls",
            "_model_module_version": "1.5.0",
            "_model_name": "FloatProgressModel",
            "_view_count": null,
            "_view_module": "@jupyter-widgets/controls",
            "_view_module_version": "1.5.0",
            "_view_name": "ProgressView",
            "bar_style": "success",
            "description": "",
            "description_tooltip": null,
            "layout": "IPY_MODEL_8f176efd9a4a4267bfa6f29af222296d",
            "max": 1568,
            "min": 0,
            "orientation": "horizontal",
            "style": "IPY_MODEL_41e15a1ecfc941d0a04523e3699681f1",
            "value": 1568
          }
        },
        "4c8b8ce3da4b47e0bedd97a94e23fc46": {
          "model_module": "@jupyter-widgets/controls",
          "model_name": "HTMLModel",
          "model_module_version": "1.5.0",
          "state": {
            "_dom_classes": [],
            "_model_module": "@jupyter-widgets/controls",
            "_model_module_version": "1.5.0",
            "_model_name": "HTMLModel",
            "_view_count": null,
            "_view_module": "@jupyter-widgets/controls",
            "_view_module_version": "1.5.0",
            "_view_name": "HTMLView",
            "description": "",
            "description_tooltip": null,
            "layout": "IPY_MODEL_b8a8abdb96614b559fdfc9254aae72a3",
            "placeholder": "​",
            "style": "IPY_MODEL_29a34d3c14bb4ab292b685a6a031b50c",
            "value": " 1.57k/1.57k [00:00&lt;00:00, 130kB/s]"
          }
        },
        "2235e7cdf69848a28f60c947812eed8e": {
          "model_module": "@jupyter-widgets/base",
          "model_name": "LayoutModel",
          "model_module_version": "1.2.0",
          "state": {
            "_model_module": "@jupyter-widgets/base",
            "_model_module_version": "1.2.0",
            "_model_name": "LayoutModel",
            "_view_count": null,
            "_view_module": "@jupyter-widgets/base",
            "_view_module_version": "1.2.0",
            "_view_name": "LayoutView",
            "align_content": null,
            "align_items": null,
            "align_self": null,
            "border": null,
            "bottom": null,
            "display": null,
            "flex": null,
            "flex_flow": null,
            "grid_area": null,
            "grid_auto_columns": null,
            "grid_auto_flow": null,
            "grid_auto_rows": null,
            "grid_column": null,
            "grid_gap": null,
            "grid_row": null,
            "grid_template_areas": null,
            "grid_template_columns": null,
            "grid_template_rows": null,
            "height": null,
            "justify_content": null,
            "justify_items": null,
            "left": null,
            "margin": null,
            "max_height": null,
            "max_width": null,
            "min_height": null,
            "min_width": null,
            "object_fit": null,
            "object_position": null,
            "order": null,
            "overflow": null,
            "overflow_x": null,
            "overflow_y": null,
            "padding": null,
            "right": null,
            "top": null,
            "visibility": null,
            "width": null
          }
        },
        "563867d1fa4c4672886147d062f16e43": {
          "model_module": "@jupyter-widgets/base",
          "model_name": "LayoutModel",
          "model_module_version": "1.2.0",
          "state": {
            "_model_module": "@jupyter-widgets/base",
            "_model_module_version": "1.2.0",
            "_model_name": "LayoutModel",
            "_view_count": null,
            "_view_module": "@jupyter-widgets/base",
            "_view_module_version": "1.2.0",
            "_view_name": "LayoutView",
            "align_content": null,
            "align_items": null,
            "align_self": null,
            "border": null,
            "bottom": null,
            "display": null,
            "flex": null,
            "flex_flow": null,
            "grid_area": null,
            "grid_auto_columns": null,
            "grid_auto_flow": null,
            "grid_auto_rows": null,
            "grid_column": null,
            "grid_gap": null,
            "grid_row": null,
            "grid_template_areas": null,
            "grid_template_columns": null,
            "grid_template_rows": null,
            "height": null,
            "justify_content": null,
            "justify_items": null,
            "left": null,
            "margin": null,
            "max_height": null,
            "max_width": null,
            "min_height": null,
            "min_width": null,
            "object_fit": null,
            "object_position": null,
            "order": null,
            "overflow": null,
            "overflow_x": null,
            "overflow_y": null,
            "padding": null,
            "right": null,
            "top": null,
            "visibility": null,
            "width": null
          }
        },
        "d078b7ef07fc4e1299e750852ea8dac5": {
          "model_module": "@jupyter-widgets/controls",
          "model_name": "DescriptionStyleModel",
          "model_module_version": "1.5.0",
          "state": {
            "_model_module": "@jupyter-widgets/controls",
            "_model_module_version": "1.5.0",
            "_model_name": "DescriptionStyleModel",
            "_view_count": null,
            "_view_module": "@jupyter-widgets/base",
            "_view_module_version": "1.2.0",
            "_view_name": "StyleView",
            "description_width": ""
          }
        },
        "8f176efd9a4a4267bfa6f29af222296d": {
          "model_module": "@jupyter-widgets/base",
          "model_name": "LayoutModel",
          "model_module_version": "1.2.0",
          "state": {
            "_model_module": "@jupyter-widgets/base",
            "_model_module_version": "1.2.0",
            "_model_name": "LayoutModel",
            "_view_count": null,
            "_view_module": "@jupyter-widgets/base",
            "_view_module_version": "1.2.0",
            "_view_name": "LayoutView",
            "align_content": null,
            "align_items": null,
            "align_self": null,
            "border": null,
            "bottom": null,
            "display": null,
            "flex": null,
            "flex_flow": null,
            "grid_area": null,
            "grid_auto_columns": null,
            "grid_auto_flow": null,
            "grid_auto_rows": null,
            "grid_column": null,
            "grid_gap": null,
            "grid_row": null,
            "grid_template_areas": null,
            "grid_template_columns": null,
            "grid_template_rows": null,
            "height": null,
            "justify_content": null,
            "justify_items": null,
            "left": null,
            "margin": null,
            "max_height": null,
            "max_width": null,
            "min_height": null,
            "min_width": null,
            "object_fit": null,
            "object_position": null,
            "order": null,
            "overflow": null,
            "overflow_x": null,
            "overflow_y": null,
            "padding": null,
            "right": null,
            "top": null,
            "visibility": null,
            "width": null
          }
        },
        "41e15a1ecfc941d0a04523e3699681f1": {
          "model_module": "@jupyter-widgets/controls",
          "model_name": "ProgressStyleModel",
          "model_module_version": "1.5.0",
          "state": {
            "_model_module": "@jupyter-widgets/controls",
            "_model_module_version": "1.5.0",
            "_model_name": "ProgressStyleModel",
            "_view_count": null,
            "_view_module": "@jupyter-widgets/base",
            "_view_module_version": "1.2.0",
            "_view_name": "StyleView",
            "bar_color": null,
            "description_width": ""
          }
        },
        "b8a8abdb96614b559fdfc9254aae72a3": {
          "model_module": "@jupyter-widgets/base",
          "model_name": "LayoutModel",
          "model_module_version": "1.2.0",
          "state": {
            "_model_module": "@jupyter-widgets/base",
            "_model_module_version": "1.2.0",
            "_model_name": "LayoutModel",
            "_view_count": null,
            "_view_module": "@jupyter-widgets/base",
            "_view_module_version": "1.2.0",
            "_view_name": "LayoutView",
            "align_content": null,
            "align_items": null,
            "align_self": null,
            "border": null,
            "bottom": null,
            "display": null,
            "flex": null,
            "flex_flow": null,
            "grid_area": null,
            "grid_auto_columns": null,
            "grid_auto_flow": null,
            "grid_auto_rows": null,
            "grid_column": null,
            "grid_gap": null,
            "grid_row": null,
            "grid_template_areas": null,
            "grid_template_columns": null,
            "grid_template_rows": null,
            "height": null,
            "justify_content": null,
            "justify_items": null,
            "left": null,
            "margin": null,
            "max_height": null,
            "max_width": null,
            "min_height": null,
            "min_width": null,
            "object_fit": null,
            "object_position": null,
            "order": null,
            "overflow": null,
            "overflow_x": null,
            "overflow_y": null,
            "padding": null,
            "right": null,
            "top": null,
            "visibility": null,
            "width": null
          }
        },
        "29a34d3c14bb4ab292b685a6a031b50c": {
          "model_module": "@jupyter-widgets/controls",
          "model_name": "DescriptionStyleModel",
          "model_module_version": "1.5.0",
          "state": {
            "_model_module": "@jupyter-widgets/controls",
            "_model_module_version": "1.5.0",
            "_model_name": "DescriptionStyleModel",
            "_view_count": null,
            "_view_module": "@jupyter-widgets/base",
            "_view_module_version": "1.2.0",
            "_view_name": "StyleView",
            "description_width": ""
          }
        },
        "9dafd2fcef27469591706531412d1fa8": {
          "model_module": "@jupyter-widgets/controls",
          "model_name": "HBoxModel",
          "model_module_version": "1.5.0",
          "state": {
            "_dom_classes": [],
            "_model_module": "@jupyter-widgets/controls",
            "_model_module_version": "1.5.0",
            "_model_name": "HBoxModel",
            "_view_count": null,
            "_view_module": "@jupyter-widgets/controls",
            "_view_module_version": "1.5.0",
            "_view_name": "HBoxView",
            "box_style": "",
            "children": [
              "IPY_MODEL_f1dbe30ec0764fa1a4c8f3a746deb375",
              "IPY_MODEL_d17b9ec9ad054c1694a00b0d1dd1fc7a",
              "IPY_MODEL_3e1c5eda47dc4b83a328a3c5433a9a2b"
            ],
            "layout": "IPY_MODEL_32f53e2048ef4ab59c58dd7952f3b482"
          }
        },
        "f1dbe30ec0764fa1a4c8f3a746deb375": {
          "model_module": "@jupyter-widgets/controls",
          "model_name": "HTMLModel",
          "model_module_version": "1.5.0",
          "state": {
            "_dom_classes": [],
            "_model_module": "@jupyter-widgets/controls",
            "_model_module_version": "1.5.0",
            "_model_name": "HTMLModel",
            "_view_count": null,
            "_view_module": "@jupyter-widgets/controls",
            "_view_module_version": "1.5.0",
            "_view_name": "HTMLView",
            "description": "",
            "description_tooltip": null,
            "layout": "IPY_MODEL_381ed98f293243cea32e594dc3d56c89",
            "placeholder": "​",
            "style": "IPY_MODEL_19af9cb21ee444e29c57ed098a6f8a71",
            "value": "Downloading pytorch_model.bin: 100%"
          }
        },
        "d17b9ec9ad054c1694a00b0d1dd1fc7a": {
          "model_module": "@jupyter-widgets/controls",
          "model_name": "FloatProgressModel",
          "model_module_version": "1.5.0",
          "state": {
            "_dom_classes": [],
            "_model_module": "@jupyter-widgets/controls",
            "_model_module_version": "1.5.0",
            "_model_name": "FloatProgressModel",
            "_view_count": null,
            "_view_module": "@jupyter-widgets/controls",
            "_view_module_version": "1.5.0",
            "_view_name": "ProgressView",
            "bar_style": "success",
            "description": "",
            "description_tooltip": null,
            "layout": "IPY_MODEL_d63899afd55a411e8276d7b34924bb7a",
            "max": 1269737156,
            "min": 0,
            "orientation": "horizontal",
            "style": "IPY_MODEL_b0d03b976f2748519b57d08a8460d768",
            "value": 1269737156
          }
        },
        "3e1c5eda47dc4b83a328a3c5433a9a2b": {
          "model_module": "@jupyter-widgets/controls",
          "model_name": "HTMLModel",
          "model_module_version": "1.5.0",
          "state": {
            "_dom_classes": [],
            "_model_module": "@jupyter-widgets/controls",
            "_model_module_version": "1.5.0",
            "_model_name": "HTMLModel",
            "_view_count": null,
            "_view_module": "@jupyter-widgets/controls",
            "_view_module_version": "1.5.0",
            "_view_name": "HTMLView",
            "description": "",
            "description_tooltip": null,
            "layout": "IPY_MODEL_d5e6f8abab964be7899b069fff5143f4",
            "placeholder": "​",
            "style": "IPY_MODEL_9a0ef7d705f24619a0dff4c0cbbe6f00",
            "value": " 1.27G/1.27G [00:03&lt;00:00, 366MB/s]"
          }
        },
        "32f53e2048ef4ab59c58dd7952f3b482": {
          "model_module": "@jupyter-widgets/base",
          "model_name": "LayoutModel",
          "model_module_version": "1.2.0",
          "state": {
            "_model_module": "@jupyter-widgets/base",
            "_model_module_version": "1.2.0",
            "_model_name": "LayoutModel",
            "_view_count": null,
            "_view_module": "@jupyter-widgets/base",
            "_view_module_version": "1.2.0",
            "_view_name": "LayoutView",
            "align_content": null,
            "align_items": null,
            "align_self": null,
            "border": null,
            "bottom": null,
            "display": null,
            "flex": null,
            "flex_flow": null,
            "grid_area": null,
            "grid_auto_columns": null,
            "grid_auto_flow": null,
            "grid_auto_rows": null,
            "grid_column": null,
            "grid_gap": null,
            "grid_row": null,
            "grid_template_areas": null,
            "grid_template_columns": null,
            "grid_template_rows": null,
            "height": null,
            "justify_content": null,
            "justify_items": null,
            "left": null,
            "margin": null,
            "max_height": null,
            "max_width": null,
            "min_height": null,
            "min_width": null,
            "object_fit": null,
            "object_position": null,
            "order": null,
            "overflow": null,
            "overflow_x": null,
            "overflow_y": null,
            "padding": null,
            "right": null,
            "top": null,
            "visibility": null,
            "width": null
          }
        },
        "381ed98f293243cea32e594dc3d56c89": {
          "model_module": "@jupyter-widgets/base",
          "model_name": "LayoutModel",
          "model_module_version": "1.2.0",
          "state": {
            "_model_module": "@jupyter-widgets/base",
            "_model_module_version": "1.2.0",
            "_model_name": "LayoutModel",
            "_view_count": null,
            "_view_module": "@jupyter-widgets/base",
            "_view_module_version": "1.2.0",
            "_view_name": "LayoutView",
            "align_content": null,
            "align_items": null,
            "align_self": null,
            "border": null,
            "bottom": null,
            "display": null,
            "flex": null,
            "flex_flow": null,
            "grid_area": null,
            "grid_auto_columns": null,
            "grid_auto_flow": null,
            "grid_auto_rows": null,
            "grid_column": null,
            "grid_gap": null,
            "grid_row": null,
            "grid_template_areas": null,
            "grid_template_columns": null,
            "grid_template_rows": null,
            "height": null,
            "justify_content": null,
            "justify_items": null,
            "left": null,
            "margin": null,
            "max_height": null,
            "max_width": null,
            "min_height": null,
            "min_width": null,
            "object_fit": null,
            "object_position": null,
            "order": null,
            "overflow": null,
            "overflow_x": null,
            "overflow_y": null,
            "padding": null,
            "right": null,
            "top": null,
            "visibility": null,
            "width": null
          }
        },
        "19af9cb21ee444e29c57ed098a6f8a71": {
          "model_module": "@jupyter-widgets/controls",
          "model_name": "DescriptionStyleModel",
          "model_module_version": "1.5.0",
          "state": {
            "_model_module": "@jupyter-widgets/controls",
            "_model_module_version": "1.5.0",
            "_model_name": "DescriptionStyleModel",
            "_view_count": null,
            "_view_module": "@jupyter-widgets/base",
            "_view_module_version": "1.2.0",
            "_view_name": "StyleView",
            "description_width": ""
          }
        },
        "d63899afd55a411e8276d7b34924bb7a": {
          "model_module": "@jupyter-widgets/base",
          "model_name": "LayoutModel",
          "model_module_version": "1.2.0",
          "state": {
            "_model_module": "@jupyter-widgets/base",
            "_model_module_version": "1.2.0",
            "_model_name": "LayoutModel",
            "_view_count": null,
            "_view_module": "@jupyter-widgets/base",
            "_view_module_version": "1.2.0",
            "_view_name": "LayoutView",
            "align_content": null,
            "align_items": null,
            "align_self": null,
            "border": null,
            "bottom": null,
            "display": null,
            "flex": null,
            "flex_flow": null,
            "grid_area": null,
            "grid_auto_columns": null,
            "grid_auto_flow": null,
            "grid_auto_rows": null,
            "grid_column": null,
            "grid_gap": null,
            "grid_row": null,
            "grid_template_areas": null,
            "grid_template_columns": null,
            "grid_template_rows": null,
            "height": null,
            "justify_content": null,
            "justify_items": null,
            "left": null,
            "margin": null,
            "max_height": null,
            "max_width": null,
            "min_height": null,
            "min_width": null,
            "object_fit": null,
            "object_position": null,
            "order": null,
            "overflow": null,
            "overflow_x": null,
            "overflow_y": null,
            "padding": null,
            "right": null,
            "top": null,
            "visibility": null,
            "width": null
          }
        },
        "b0d03b976f2748519b57d08a8460d768": {
          "model_module": "@jupyter-widgets/controls",
          "model_name": "ProgressStyleModel",
          "model_module_version": "1.5.0",
          "state": {
            "_model_module": "@jupyter-widgets/controls",
            "_model_module_version": "1.5.0",
            "_model_name": "ProgressStyleModel",
            "_view_count": null,
            "_view_module": "@jupyter-widgets/base",
            "_view_module_version": "1.2.0",
            "_view_name": "StyleView",
            "bar_color": null,
            "description_width": ""
          }
        },
        "d5e6f8abab964be7899b069fff5143f4": {
          "model_module": "@jupyter-widgets/base",
          "model_name": "LayoutModel",
          "model_module_version": "1.2.0",
          "state": {
            "_model_module": "@jupyter-widgets/base",
            "_model_module_version": "1.2.0",
            "_model_name": "LayoutModel",
            "_view_count": null,
            "_view_module": "@jupyter-widgets/base",
            "_view_module_version": "1.2.0",
            "_view_name": "LayoutView",
            "align_content": null,
            "align_items": null,
            "align_self": null,
            "border": null,
            "bottom": null,
            "display": null,
            "flex": null,
            "flex_flow": null,
            "grid_area": null,
            "grid_auto_columns": null,
            "grid_auto_flow": null,
            "grid_auto_rows": null,
            "grid_column": null,
            "grid_gap": null,
            "grid_row": null,
            "grid_template_areas": null,
            "grid_template_columns": null,
            "grid_template_rows": null,
            "height": null,
            "justify_content": null,
            "justify_items": null,
            "left": null,
            "margin": null,
            "max_height": null,
            "max_width": null,
            "min_height": null,
            "min_width": null,
            "object_fit": null,
            "object_position": null,
            "order": null,
            "overflow": null,
            "overflow_x": null,
            "overflow_y": null,
            "padding": null,
            "right": null,
            "top": null,
            "visibility": null,
            "width": null
          }
        },
        "9a0ef7d705f24619a0dff4c0cbbe6f00": {
          "model_module": "@jupyter-widgets/controls",
          "model_name": "DescriptionStyleModel",
          "model_module_version": "1.5.0",
          "state": {
            "_model_module": "@jupyter-widgets/controls",
            "_model_module_version": "1.5.0",
            "_model_name": "DescriptionStyleModel",
            "_view_count": null,
            "_view_module": "@jupyter-widgets/base",
            "_view_module_version": "1.2.0",
            "_view_name": "StyleView",
            "description_width": ""
          }
        },
        "36ff8eb24665429a9a5baf9ceddd00e8": {
          "model_module": "@jupyter-widgets/controls",
          "model_name": "HBoxModel",
          "model_module_version": "1.5.0",
          "state": {
            "_dom_classes": [],
            "_model_module": "@jupyter-widgets/controls",
            "_model_module_version": "1.5.0",
            "_model_name": "HBoxModel",
            "_view_count": null,
            "_view_module": "@jupyter-widgets/controls",
            "_view_module_version": "1.5.0",
            "_view_name": "HBoxView",
            "box_style": "",
            "children": [
              "IPY_MODEL_0927a80faa6844da8b7359159e71cd27",
              "IPY_MODEL_7fd4765e3bec4e889e27265468acc103",
              "IPY_MODEL_7dec4c1b29f942cea4680982bad4ffab"
            ],
            "layout": "IPY_MODEL_4c3792f340ae452fb182b22e379c952d"
          }
        },
        "0927a80faa6844da8b7359159e71cd27": {
          "model_module": "@jupyter-widgets/controls",
          "model_name": "HTMLModel",
          "model_module_version": "1.5.0",
          "state": {
            "_dom_classes": [],
            "_model_module": "@jupyter-widgets/controls",
            "_model_module_version": "1.5.0",
            "_model_name": "HTMLModel",
            "_view_count": null,
            "_view_module": "@jupyter-widgets/controls",
            "_view_module_version": "1.5.0",
            "_view_name": "HTMLView",
            "description": "",
            "description_tooltip": null,
            "layout": "IPY_MODEL_c2ac31ac832c4d1b87fd265f325e5b84",
            "placeholder": "​",
            "style": "IPY_MODEL_d644cd31969a4dbb91f8262164143ee6",
            "value": "Upload file pytorch_model.bin: 100%"
          }
        },
        "7fd4765e3bec4e889e27265468acc103": {
          "model_module": "@jupyter-widgets/controls",
          "model_name": "FloatProgressModel",
          "model_module_version": "1.5.0",
          "state": {
            "_dom_classes": [],
            "_model_module": "@jupyter-widgets/controls",
            "_model_module_version": "1.5.0",
            "_model_name": "FloatProgressModel",
            "_view_count": null,
            "_view_module": "@jupyter-widgets/controls",
            "_view_module_version": "1.5.0",
            "_view_name": "ProgressView",
            "bar_style": "success",
            "description": "",
            "description_tooltip": null,
            "layout": "IPY_MODEL_e7297c9674444f21babdbc6149000506",
            "max": 1262188845,
            "min": 0,
            "orientation": "horizontal",
            "style": "IPY_MODEL_a9d8bdefe8264b42aec456ac6c460e8c",
            "value": 1262188845
          }
        },
        "7dec4c1b29f942cea4680982bad4ffab": {
          "model_module": "@jupyter-widgets/controls",
          "model_name": "HTMLModel",
          "model_module_version": "1.5.0",
          "state": {
            "_dom_classes": [],
            "_model_module": "@jupyter-widgets/controls",
            "_model_module_version": "1.5.0",
            "_model_name": "HTMLModel",
            "_view_count": null,
            "_view_module": "@jupyter-widgets/controls",
            "_view_module_version": "1.5.0",
            "_view_name": "HTMLView",
            "description": "",
            "description_tooltip": null,
            "layout": "IPY_MODEL_f09a301ceb294c8ba3d4f5204a297a12",
            "placeholder": "​",
            "style": "IPY_MODEL_7d960950900145979a34748cccef7b59",
            "value": " 1.18G/1.18G [00:52&lt;00:00, 26.8MB/s]"
          }
        },
        "4c3792f340ae452fb182b22e379c952d": {
          "model_module": "@jupyter-widgets/base",
          "model_name": "LayoutModel",
          "model_module_version": "1.2.0",
          "state": {
            "_model_module": "@jupyter-widgets/base",
            "_model_module_version": "1.2.0",
            "_model_name": "LayoutModel",
            "_view_count": null,
            "_view_module": "@jupyter-widgets/base",
            "_view_module_version": "1.2.0",
            "_view_name": "LayoutView",
            "align_content": null,
            "align_items": null,
            "align_self": null,
            "border": null,
            "bottom": null,
            "display": null,
            "flex": null,
            "flex_flow": null,
            "grid_area": null,
            "grid_auto_columns": null,
            "grid_auto_flow": null,
            "grid_auto_rows": null,
            "grid_column": null,
            "grid_gap": null,
            "grid_row": null,
            "grid_template_areas": null,
            "grid_template_columns": null,
            "grid_template_rows": null,
            "height": null,
            "justify_content": null,
            "justify_items": null,
            "left": null,
            "margin": null,
            "max_height": null,
            "max_width": null,
            "min_height": null,
            "min_width": null,
            "object_fit": null,
            "object_position": null,
            "order": null,
            "overflow": null,
            "overflow_x": null,
            "overflow_y": null,
            "padding": null,
            "right": null,
            "top": null,
            "visibility": null,
            "width": null
          }
        },
        "c2ac31ac832c4d1b87fd265f325e5b84": {
          "model_module": "@jupyter-widgets/base",
          "model_name": "LayoutModel",
          "model_module_version": "1.2.0",
          "state": {
            "_model_module": "@jupyter-widgets/base",
            "_model_module_version": "1.2.0",
            "_model_name": "LayoutModel",
            "_view_count": null,
            "_view_module": "@jupyter-widgets/base",
            "_view_module_version": "1.2.0",
            "_view_name": "LayoutView",
            "align_content": null,
            "align_items": null,
            "align_self": null,
            "border": null,
            "bottom": null,
            "display": null,
            "flex": null,
            "flex_flow": null,
            "grid_area": null,
            "grid_auto_columns": null,
            "grid_auto_flow": null,
            "grid_auto_rows": null,
            "grid_column": null,
            "grid_gap": null,
            "grid_row": null,
            "grid_template_areas": null,
            "grid_template_columns": null,
            "grid_template_rows": null,
            "height": null,
            "justify_content": null,
            "justify_items": null,
            "left": null,
            "margin": null,
            "max_height": null,
            "max_width": null,
            "min_height": null,
            "min_width": null,
            "object_fit": null,
            "object_position": null,
            "order": null,
            "overflow": null,
            "overflow_x": null,
            "overflow_y": null,
            "padding": null,
            "right": null,
            "top": null,
            "visibility": null,
            "width": null
          }
        },
        "d644cd31969a4dbb91f8262164143ee6": {
          "model_module": "@jupyter-widgets/controls",
          "model_name": "DescriptionStyleModel",
          "model_module_version": "1.5.0",
          "state": {
            "_model_module": "@jupyter-widgets/controls",
            "_model_module_version": "1.5.0",
            "_model_name": "DescriptionStyleModel",
            "_view_count": null,
            "_view_module": "@jupyter-widgets/base",
            "_view_module_version": "1.2.0",
            "_view_name": "StyleView",
            "description_width": ""
          }
        },
        "e7297c9674444f21babdbc6149000506": {
          "model_module": "@jupyter-widgets/base",
          "model_name": "LayoutModel",
          "model_module_version": "1.2.0",
          "state": {
            "_model_module": "@jupyter-widgets/base",
            "_model_module_version": "1.2.0",
            "_model_name": "LayoutModel",
            "_view_count": null,
            "_view_module": "@jupyter-widgets/base",
            "_view_module_version": "1.2.0",
            "_view_name": "LayoutView",
            "align_content": null,
            "align_items": null,
            "align_self": null,
            "border": null,
            "bottom": null,
            "display": null,
            "flex": null,
            "flex_flow": null,
            "grid_area": null,
            "grid_auto_columns": null,
            "grid_auto_flow": null,
            "grid_auto_rows": null,
            "grid_column": null,
            "grid_gap": null,
            "grid_row": null,
            "grid_template_areas": null,
            "grid_template_columns": null,
            "grid_template_rows": null,
            "height": null,
            "justify_content": null,
            "justify_items": null,
            "left": null,
            "margin": null,
            "max_height": null,
            "max_width": null,
            "min_height": null,
            "min_width": null,
            "object_fit": null,
            "object_position": null,
            "order": null,
            "overflow": null,
            "overflow_x": null,
            "overflow_y": null,
            "padding": null,
            "right": null,
            "top": null,
            "visibility": null,
            "width": null
          }
        },
        "a9d8bdefe8264b42aec456ac6c460e8c": {
          "model_module": "@jupyter-widgets/controls",
          "model_name": "ProgressStyleModel",
          "model_module_version": "1.5.0",
          "state": {
            "_model_module": "@jupyter-widgets/controls",
            "_model_module_version": "1.5.0",
            "_model_name": "ProgressStyleModel",
            "_view_count": null,
            "_view_module": "@jupyter-widgets/base",
            "_view_module_version": "1.2.0",
            "_view_name": "StyleView",
            "bar_color": null,
            "description_width": ""
          }
        },
        "f09a301ceb294c8ba3d4f5204a297a12": {
          "model_module": "@jupyter-widgets/base",
          "model_name": "LayoutModel",
          "model_module_version": "1.2.0",
          "state": {
            "_model_module": "@jupyter-widgets/base",
            "_model_module_version": "1.2.0",
            "_model_name": "LayoutModel",
            "_view_count": null,
            "_view_module": "@jupyter-widgets/base",
            "_view_module_version": "1.2.0",
            "_view_name": "LayoutView",
            "align_content": null,
            "align_items": null,
            "align_self": null,
            "border": null,
            "bottom": null,
            "display": null,
            "flex": null,
            "flex_flow": null,
            "grid_area": null,
            "grid_auto_columns": null,
            "grid_auto_flow": null,
            "grid_auto_rows": null,
            "grid_column": null,
            "grid_gap": null,
            "grid_row": null,
            "grid_template_areas": null,
            "grid_template_columns": null,
            "grid_template_rows": null,
            "height": null,
            "justify_content": null,
            "justify_items": null,
            "left": null,
            "margin": null,
            "max_height": null,
            "max_width": null,
            "min_height": null,
            "min_width": null,
            "object_fit": null,
            "object_position": null,
            "order": null,
            "overflow": null,
            "overflow_x": null,
            "overflow_y": null,
            "padding": null,
            "right": null,
            "top": null,
            "visibility": null,
            "width": null
          }
        },
        "7d960950900145979a34748cccef7b59": {
          "model_module": "@jupyter-widgets/controls",
          "model_name": "DescriptionStyleModel",
          "model_module_version": "1.5.0",
          "state": {
            "_model_module": "@jupyter-widgets/controls",
            "_model_module_version": "1.5.0",
            "_model_name": "DescriptionStyleModel",
            "_view_count": null,
            "_view_module": "@jupyter-widgets/base",
            "_view_module_version": "1.2.0",
            "_view_name": "StyleView",
            "description_width": ""
          }
        },
        "2295f7f706a54e94af71254f4ef3a2cc": {
          "model_module": "@jupyter-widgets/controls",
          "model_name": "HBoxModel",
          "model_module_version": "1.5.0",
          "state": {
            "_dom_classes": [],
            "_model_module": "@jupyter-widgets/controls",
            "_model_module_version": "1.5.0",
            "_model_name": "HBoxModel",
            "_view_count": null,
            "_view_module": "@jupyter-widgets/controls",
            "_view_module_version": "1.5.0",
            "_view_name": "HBoxView",
            "box_style": "",
            "children": [
              "IPY_MODEL_f433fa988b7942d3a5b8b2face71d087",
              "IPY_MODEL_96b8a2dab3104a3ca8120351134768c6",
              "IPY_MODEL_a486d502c5bf4626998c0c139d87ab9b"
            ],
            "layout": "IPY_MODEL_14624c2a476d44d29ad4ce230c132c1d"
          }
        },
        "f433fa988b7942d3a5b8b2face71d087": {
          "model_module": "@jupyter-widgets/controls",
          "model_name": "HTMLModel",
          "model_module_version": "1.5.0",
          "state": {
            "_dom_classes": [],
            "_model_module": "@jupyter-widgets/controls",
            "_model_module_version": "1.5.0",
            "_model_name": "HTMLModel",
            "_view_count": null,
            "_view_module": "@jupyter-widgets/controls",
            "_view_module_version": "1.5.0",
            "_view_name": "HTMLView",
            "description": "",
            "description_tooltip": null,
            "layout": "IPY_MODEL_5a9635fc6be24e4ba6d21bd306ac7c1e",
            "placeholder": "​",
            "style": "IPY_MODEL_9812b0ab49af415ca0792289abdd6e37",
            "value": "Upload file runs/Jun07_04-50-41_1b62bcbf64b6/events.out.tfevents.1686114073.1b62bcbf64b6.261.0: 100%"
          }
        },
        "96b8a2dab3104a3ca8120351134768c6": {
          "model_module": "@jupyter-widgets/controls",
          "model_name": "FloatProgressModel",
          "model_module_version": "1.5.0",
          "state": {
            "_dom_classes": [],
            "_model_module": "@jupyter-widgets/controls",
            "_model_module_version": "1.5.0",
            "_model_name": "FloatProgressModel",
            "_view_count": null,
            "_view_module": "@jupyter-widgets/controls",
            "_view_module_version": "1.5.0",
            "_view_name": "ProgressView",
            "bar_style": "success",
            "description": "",
            "description_tooltip": null,
            "layout": "IPY_MODEL_d93d37dea2d94e83acf92148c6c58d64",
            "max": 21490,
            "min": 0,
            "orientation": "horizontal",
            "style": "IPY_MODEL_044bca9d6bbf4199b1b91f1060afbfa4",
            "value": 21490
          }
        },
        "a486d502c5bf4626998c0c139d87ab9b": {
          "model_module": "@jupyter-widgets/controls",
          "model_name": "HTMLModel",
          "model_module_version": "1.5.0",
          "state": {
            "_dom_classes": [],
            "_model_module": "@jupyter-widgets/controls",
            "_model_module_version": "1.5.0",
            "_model_name": "HTMLModel",
            "_view_count": null,
            "_view_module": "@jupyter-widgets/controls",
            "_view_module_version": "1.5.0",
            "_view_name": "HTMLView",
            "description": "",
            "description_tooltip": null,
            "layout": "IPY_MODEL_994387bd983b4079a673626720c27614",
            "placeholder": "​",
            "style": "IPY_MODEL_1f5e3e9f85a341ac81ee7a0f7308a9cb",
            "value": " 21.0k/21.0k [00:52&lt;00:00, 15.8MB/s]"
          }
        },
        "14624c2a476d44d29ad4ce230c132c1d": {
          "model_module": "@jupyter-widgets/base",
          "model_name": "LayoutModel",
          "model_module_version": "1.2.0",
          "state": {
            "_model_module": "@jupyter-widgets/base",
            "_model_module_version": "1.2.0",
            "_model_name": "LayoutModel",
            "_view_count": null,
            "_view_module": "@jupyter-widgets/base",
            "_view_module_version": "1.2.0",
            "_view_name": "LayoutView",
            "align_content": null,
            "align_items": null,
            "align_self": null,
            "border": null,
            "bottom": null,
            "display": null,
            "flex": null,
            "flex_flow": null,
            "grid_area": null,
            "grid_auto_columns": null,
            "grid_auto_flow": null,
            "grid_auto_rows": null,
            "grid_column": null,
            "grid_gap": null,
            "grid_row": null,
            "grid_template_areas": null,
            "grid_template_columns": null,
            "grid_template_rows": null,
            "height": null,
            "justify_content": null,
            "justify_items": null,
            "left": null,
            "margin": null,
            "max_height": null,
            "max_width": null,
            "min_height": null,
            "min_width": null,
            "object_fit": null,
            "object_position": null,
            "order": null,
            "overflow": null,
            "overflow_x": null,
            "overflow_y": null,
            "padding": null,
            "right": null,
            "top": null,
            "visibility": null,
            "width": null
          }
        },
        "5a9635fc6be24e4ba6d21bd306ac7c1e": {
          "model_module": "@jupyter-widgets/base",
          "model_name": "LayoutModel",
          "model_module_version": "1.2.0",
          "state": {
            "_model_module": "@jupyter-widgets/base",
            "_model_module_version": "1.2.0",
            "_model_name": "LayoutModel",
            "_view_count": null,
            "_view_module": "@jupyter-widgets/base",
            "_view_module_version": "1.2.0",
            "_view_name": "LayoutView",
            "align_content": null,
            "align_items": null,
            "align_self": null,
            "border": null,
            "bottom": null,
            "display": null,
            "flex": null,
            "flex_flow": null,
            "grid_area": null,
            "grid_auto_columns": null,
            "grid_auto_flow": null,
            "grid_auto_rows": null,
            "grid_column": null,
            "grid_gap": null,
            "grid_row": null,
            "grid_template_areas": null,
            "grid_template_columns": null,
            "grid_template_rows": null,
            "height": null,
            "justify_content": null,
            "justify_items": null,
            "left": null,
            "margin": null,
            "max_height": null,
            "max_width": null,
            "min_height": null,
            "min_width": null,
            "object_fit": null,
            "object_position": null,
            "order": null,
            "overflow": null,
            "overflow_x": null,
            "overflow_y": null,
            "padding": null,
            "right": null,
            "top": null,
            "visibility": null,
            "width": null
          }
        },
        "9812b0ab49af415ca0792289abdd6e37": {
          "model_module": "@jupyter-widgets/controls",
          "model_name": "DescriptionStyleModel",
          "model_module_version": "1.5.0",
          "state": {
            "_model_module": "@jupyter-widgets/controls",
            "_model_module_version": "1.5.0",
            "_model_name": "DescriptionStyleModel",
            "_view_count": null,
            "_view_module": "@jupyter-widgets/base",
            "_view_module_version": "1.2.0",
            "_view_name": "StyleView",
            "description_width": ""
          }
        },
        "d93d37dea2d94e83acf92148c6c58d64": {
          "model_module": "@jupyter-widgets/base",
          "model_name": "LayoutModel",
          "model_module_version": "1.2.0",
          "state": {
            "_model_module": "@jupyter-widgets/base",
            "_model_module_version": "1.2.0",
            "_model_name": "LayoutModel",
            "_view_count": null,
            "_view_module": "@jupyter-widgets/base",
            "_view_module_version": "1.2.0",
            "_view_name": "LayoutView",
            "align_content": null,
            "align_items": null,
            "align_self": null,
            "border": null,
            "bottom": null,
            "display": null,
            "flex": null,
            "flex_flow": null,
            "grid_area": null,
            "grid_auto_columns": null,
            "grid_auto_flow": null,
            "grid_auto_rows": null,
            "grid_column": null,
            "grid_gap": null,
            "grid_row": null,
            "grid_template_areas": null,
            "grid_template_columns": null,
            "grid_template_rows": null,
            "height": null,
            "justify_content": null,
            "justify_items": null,
            "left": null,
            "margin": null,
            "max_height": null,
            "max_width": null,
            "min_height": null,
            "min_width": null,
            "object_fit": null,
            "object_position": null,
            "order": null,
            "overflow": null,
            "overflow_x": null,
            "overflow_y": null,
            "padding": null,
            "right": null,
            "top": null,
            "visibility": null,
            "width": null
          }
        },
        "044bca9d6bbf4199b1b91f1060afbfa4": {
          "model_module": "@jupyter-widgets/controls",
          "model_name": "ProgressStyleModel",
          "model_module_version": "1.5.0",
          "state": {
            "_model_module": "@jupyter-widgets/controls",
            "_model_module_version": "1.5.0",
            "_model_name": "ProgressStyleModel",
            "_view_count": null,
            "_view_module": "@jupyter-widgets/base",
            "_view_module_version": "1.2.0",
            "_view_name": "StyleView",
            "bar_color": null,
            "description_width": ""
          }
        },
        "994387bd983b4079a673626720c27614": {
          "model_module": "@jupyter-widgets/base",
          "model_name": "LayoutModel",
          "model_module_version": "1.2.0",
          "state": {
            "_model_module": "@jupyter-widgets/base",
            "_model_module_version": "1.2.0",
            "_model_name": "LayoutModel",
            "_view_count": null,
            "_view_module": "@jupyter-widgets/base",
            "_view_module_version": "1.2.0",
            "_view_name": "LayoutView",
            "align_content": null,
            "align_items": null,
            "align_self": null,
            "border": null,
            "bottom": null,
            "display": null,
            "flex": null,
            "flex_flow": null,
            "grid_area": null,
            "grid_auto_columns": null,
            "grid_auto_flow": null,
            "grid_auto_rows": null,
            "grid_column": null,
            "grid_gap": null,
            "grid_row": null,
            "grid_template_areas": null,
            "grid_template_columns": null,
            "grid_template_rows": null,
            "height": null,
            "justify_content": null,
            "justify_items": null,
            "left": null,
            "margin": null,
            "max_height": null,
            "max_width": null,
            "min_height": null,
            "min_width": null,
            "object_fit": null,
            "object_position": null,
            "order": null,
            "overflow": null,
            "overflow_x": null,
            "overflow_y": null,
            "padding": null,
            "right": null,
            "top": null,
            "visibility": null,
            "width": null
          }
        },
        "1f5e3e9f85a341ac81ee7a0f7308a9cb": {
          "model_module": "@jupyter-widgets/controls",
          "model_name": "DescriptionStyleModel",
          "model_module_version": "1.5.0",
          "state": {
            "_model_module": "@jupyter-widgets/controls",
            "_model_module_version": "1.5.0",
            "_model_name": "DescriptionStyleModel",
            "_view_count": null,
            "_view_module": "@jupyter-widgets/base",
            "_view_module_version": "1.2.0",
            "_view_name": "StyleView",
            "description_width": ""
          }
        },
        "1e0fd757e79344c39578d7ef14160e3d": {
          "model_module": "@jupyter-widgets/controls",
          "model_name": "HBoxModel",
          "model_module_version": "1.5.0",
          "state": {
            "_dom_classes": [],
            "_model_module": "@jupyter-widgets/controls",
            "_model_module_version": "1.5.0",
            "_model_name": "HBoxModel",
            "_view_count": null,
            "_view_module": "@jupyter-widgets/controls",
            "_view_module_version": "1.5.0",
            "_view_name": "HBoxView",
            "box_style": "",
            "children": [
              "IPY_MODEL_4b233b467b3f4a86802bb4ca0233bc80",
              "IPY_MODEL_5e5814dcdbd94678a4b66c75b16ee950",
              "IPY_MODEL_b93b2dde94b14f98aaa291bc55ad041a"
            ],
            "layout": "IPY_MODEL_efa2a728ddc14704ab2475672b06eb0a"
          }
        },
        "4b233b467b3f4a86802bb4ca0233bc80": {
          "model_module": "@jupyter-widgets/controls",
          "model_name": "HTMLModel",
          "model_module_version": "1.5.0",
          "state": {
            "_dom_classes": [],
            "_model_module": "@jupyter-widgets/controls",
            "_model_module_version": "1.5.0",
            "_model_name": "HTMLModel",
            "_view_count": null,
            "_view_module": "@jupyter-widgets/controls",
            "_view_module_version": "1.5.0",
            "_view_name": "HTMLView",
            "description": "",
            "description_tooltip": null,
            "layout": "IPY_MODEL_4bcbd7dd2e9f4565b4a82e2fc786abd3",
            "placeholder": "​",
            "style": "IPY_MODEL_505c32bfa81f460a82cb3a292c1e809c",
            "value": ""
          }
        },
        "5e5814dcdbd94678a4b66c75b16ee950": {
          "model_module": "@jupyter-widgets/controls",
          "model_name": "FloatProgressModel",
          "model_module_version": "1.5.0",
          "state": {
            "_dom_classes": [],
            "_model_module": "@jupyter-widgets/controls",
            "_model_module_version": "1.5.0",
            "_model_name": "FloatProgressModel",
            "_view_count": null,
            "_view_module": "@jupyter-widgets/controls",
            "_view_module_version": "1.5.0",
            "_view_name": "ProgressView",
            "bar_style": "info",
            "description": "",
            "description_tooltip": null,
            "layout": "IPY_MODEL_d743c3f9a688469c9a444b22efc9c94d",
            "max": 1,
            "min": 0,
            "orientation": "horizontal",
            "style": "IPY_MODEL_b75420803b5c4bfa917ac0a46dfc1842",
            "value": 1
          }
        },
        "b93b2dde94b14f98aaa291bc55ad041a": {
          "model_module": "@jupyter-widgets/controls",
          "model_name": "HTMLModel",
          "model_module_version": "1.5.0",
          "state": {
            "_dom_classes": [],
            "_model_module": "@jupyter-widgets/controls",
            "_model_module_version": "1.5.0",
            "_model_name": "HTMLModel",
            "_view_count": null,
            "_view_module": "@jupyter-widgets/controls",
            "_view_module_version": "1.5.0",
            "_view_name": "HTMLView",
            "description": "",
            "description_tooltip": null,
            "layout": "IPY_MODEL_47b85a8b2f974b9c8c9f498564869c12",
            "placeholder": "​",
            "style": "IPY_MODEL_b0aa337885e0428b83096d02083a31ef",
            "value": " 14212/0 [00:16&lt;00:00, 200.68 examples/s]"
          }
        },
        "efa2a728ddc14704ab2475672b06eb0a": {
          "model_module": "@jupyter-widgets/base",
          "model_name": "LayoutModel",
          "model_module_version": "1.2.0",
          "state": {
            "_model_module": "@jupyter-widgets/base",
            "_model_module_version": "1.2.0",
            "_model_name": "LayoutModel",
            "_view_count": null,
            "_view_module": "@jupyter-widgets/base",
            "_view_module_version": "1.2.0",
            "_view_name": "LayoutView",
            "align_content": null,
            "align_items": null,
            "align_self": null,
            "border": null,
            "bottom": null,
            "display": null,
            "flex": null,
            "flex_flow": null,
            "grid_area": null,
            "grid_auto_columns": null,
            "grid_auto_flow": null,
            "grid_auto_rows": null,
            "grid_column": null,
            "grid_gap": null,
            "grid_row": null,
            "grid_template_areas": null,
            "grid_template_columns": null,
            "grid_template_rows": null,
            "height": null,
            "justify_content": null,
            "justify_items": null,
            "left": null,
            "margin": null,
            "max_height": null,
            "max_width": null,
            "min_height": null,
            "min_width": null,
            "object_fit": null,
            "object_position": null,
            "order": null,
            "overflow": null,
            "overflow_x": null,
            "overflow_y": null,
            "padding": null,
            "right": null,
            "top": null,
            "visibility": "hidden",
            "width": null
          }
        },
        "4bcbd7dd2e9f4565b4a82e2fc786abd3": {
          "model_module": "@jupyter-widgets/base",
          "model_name": "LayoutModel",
          "model_module_version": "1.2.0",
          "state": {
            "_model_module": "@jupyter-widgets/base",
            "_model_module_version": "1.2.0",
            "_model_name": "LayoutModel",
            "_view_count": null,
            "_view_module": "@jupyter-widgets/base",
            "_view_module_version": "1.2.0",
            "_view_name": "LayoutView",
            "align_content": null,
            "align_items": null,
            "align_self": null,
            "border": null,
            "bottom": null,
            "display": null,
            "flex": null,
            "flex_flow": null,
            "grid_area": null,
            "grid_auto_columns": null,
            "grid_auto_flow": null,
            "grid_auto_rows": null,
            "grid_column": null,
            "grid_gap": null,
            "grid_row": null,
            "grid_template_areas": null,
            "grid_template_columns": null,
            "grid_template_rows": null,
            "height": null,
            "justify_content": null,
            "justify_items": null,
            "left": null,
            "margin": null,
            "max_height": null,
            "max_width": null,
            "min_height": null,
            "min_width": null,
            "object_fit": null,
            "object_position": null,
            "order": null,
            "overflow": null,
            "overflow_x": null,
            "overflow_y": null,
            "padding": null,
            "right": null,
            "top": null,
            "visibility": null,
            "width": null
          }
        },
        "505c32bfa81f460a82cb3a292c1e809c": {
          "model_module": "@jupyter-widgets/controls",
          "model_name": "DescriptionStyleModel",
          "model_module_version": "1.5.0",
          "state": {
            "_model_module": "@jupyter-widgets/controls",
            "_model_module_version": "1.5.0",
            "_model_name": "DescriptionStyleModel",
            "_view_count": null,
            "_view_module": "@jupyter-widgets/base",
            "_view_module_version": "1.2.0",
            "_view_name": "StyleView",
            "description_width": ""
          }
        },
        "d743c3f9a688469c9a444b22efc9c94d": {
          "model_module": "@jupyter-widgets/base",
          "model_name": "LayoutModel",
          "model_module_version": "1.2.0",
          "state": {
            "_model_module": "@jupyter-widgets/base",
            "_model_module_version": "1.2.0",
            "_model_name": "LayoutModel",
            "_view_count": null,
            "_view_module": "@jupyter-widgets/base",
            "_view_module_version": "1.2.0",
            "_view_name": "LayoutView",
            "align_content": null,
            "align_items": null,
            "align_self": null,
            "border": null,
            "bottom": null,
            "display": null,
            "flex": null,
            "flex_flow": null,
            "grid_area": null,
            "grid_auto_columns": null,
            "grid_auto_flow": null,
            "grid_auto_rows": null,
            "grid_column": null,
            "grid_gap": null,
            "grid_row": null,
            "grid_template_areas": null,
            "grid_template_columns": null,
            "grid_template_rows": null,
            "height": null,
            "justify_content": null,
            "justify_items": null,
            "left": null,
            "margin": null,
            "max_height": null,
            "max_width": null,
            "min_height": null,
            "min_width": null,
            "object_fit": null,
            "object_position": null,
            "order": null,
            "overflow": null,
            "overflow_x": null,
            "overflow_y": null,
            "padding": null,
            "right": null,
            "top": null,
            "visibility": null,
            "width": "20px"
          }
        },
        "b75420803b5c4bfa917ac0a46dfc1842": {
          "model_module": "@jupyter-widgets/controls",
          "model_name": "ProgressStyleModel",
          "model_module_version": "1.5.0",
          "state": {
            "_model_module": "@jupyter-widgets/controls",
            "_model_module_version": "1.5.0",
            "_model_name": "ProgressStyleModel",
            "_view_count": null,
            "_view_module": "@jupyter-widgets/base",
            "_view_module_version": "1.2.0",
            "_view_name": "StyleView",
            "bar_color": null,
            "description_width": ""
          }
        },
        "47b85a8b2f974b9c8c9f498564869c12": {
          "model_module": "@jupyter-widgets/base",
          "model_name": "LayoutModel",
          "model_module_version": "1.2.0",
          "state": {
            "_model_module": "@jupyter-widgets/base",
            "_model_module_version": "1.2.0",
            "_model_name": "LayoutModel",
            "_view_count": null,
            "_view_module": "@jupyter-widgets/base",
            "_view_module_version": "1.2.0",
            "_view_name": "LayoutView",
            "align_content": null,
            "align_items": null,
            "align_self": null,
            "border": null,
            "bottom": null,
            "display": null,
            "flex": null,
            "flex_flow": null,
            "grid_area": null,
            "grid_auto_columns": null,
            "grid_auto_flow": null,
            "grid_auto_rows": null,
            "grid_column": null,
            "grid_gap": null,
            "grid_row": null,
            "grid_template_areas": null,
            "grid_template_columns": null,
            "grid_template_rows": null,
            "height": null,
            "justify_content": null,
            "justify_items": null,
            "left": null,
            "margin": null,
            "max_height": null,
            "max_width": null,
            "min_height": null,
            "min_width": null,
            "object_fit": null,
            "object_position": null,
            "order": null,
            "overflow": null,
            "overflow_x": null,
            "overflow_y": null,
            "padding": null,
            "right": null,
            "top": null,
            "visibility": null,
            "width": null
          }
        },
        "b0aa337885e0428b83096d02083a31ef": {
          "model_module": "@jupyter-widgets/controls",
          "model_name": "DescriptionStyleModel",
          "model_module_version": "1.5.0",
          "state": {
            "_model_module": "@jupyter-widgets/controls",
            "_model_module_version": "1.5.0",
            "_model_name": "DescriptionStyleModel",
            "_view_count": null,
            "_view_module": "@jupyter-widgets/base",
            "_view_module_version": "1.2.0",
            "_view_name": "StyleView",
            "description_width": ""
          }
        },
        "c178e83b9527477487aed3931e6cfb84": {
          "model_module": "@jupyter-widgets/controls",
          "model_name": "HBoxModel",
          "model_module_version": "1.5.0",
          "state": {
            "_dom_classes": [],
            "_model_module": "@jupyter-widgets/controls",
            "_model_module_version": "1.5.0",
            "_model_name": "HBoxModel",
            "_view_count": null,
            "_view_module": "@jupyter-widgets/controls",
            "_view_module_version": "1.5.0",
            "_view_name": "HBoxView",
            "box_style": "",
            "children": [
              "IPY_MODEL_0d9ee400e7fe4dddbcb166d574d06c9d",
              "IPY_MODEL_0c216d6b705742519dcef9be7fe161f5",
              "IPY_MODEL_2f257f06eece4401b357e9ac4cd74550"
            ],
            "layout": "IPY_MODEL_b629a7ef7f934e0191918194260b3d16"
          }
        },
        "0d9ee400e7fe4dddbcb166d574d06c9d": {
          "model_module": "@jupyter-widgets/controls",
          "model_name": "HTMLModel",
          "model_module_version": "1.5.0",
          "state": {
            "_dom_classes": [],
            "_model_module": "@jupyter-widgets/controls",
            "_model_module_version": "1.5.0",
            "_model_name": "HTMLModel",
            "_view_count": null,
            "_view_module": "@jupyter-widgets/controls",
            "_view_module_version": "1.5.0",
            "_view_name": "HTMLView",
            "description": "",
            "description_tooltip": null,
            "layout": "IPY_MODEL_5b991385a07146cfa44d4bf58a4496a1",
            "placeholder": "​",
            "style": "IPY_MODEL_1bdd82c3dcef4aaa8157d3e5270f3879",
            "value": ""
          }
        },
        "0c216d6b705742519dcef9be7fe161f5": {
          "model_module": "@jupyter-widgets/controls",
          "model_name": "FloatProgressModel",
          "model_module_version": "1.5.0",
          "state": {
            "_dom_classes": [],
            "_model_module": "@jupyter-widgets/controls",
            "_model_module_version": "1.5.0",
            "_model_name": "FloatProgressModel",
            "_view_count": null,
            "_view_module": "@jupyter-widgets/controls",
            "_view_module_version": "1.5.0",
            "_view_name": "ProgressView",
            "bar_style": "info",
            "description": "",
            "description_tooltip": null,
            "layout": "IPY_MODEL_abd583c49074471497df4c6e13affb8c",
            "max": 1,
            "min": 0,
            "orientation": "horizontal",
            "style": "IPY_MODEL_d7ab064cea6f4cbb8b5a22a57810e700",
            "value": 1
          }
        },
        "2f257f06eece4401b357e9ac4cd74550": {
          "model_module": "@jupyter-widgets/controls",
          "model_name": "HTMLModel",
          "model_module_version": "1.5.0",
          "state": {
            "_dom_classes": [],
            "_model_module": "@jupyter-widgets/controls",
            "_model_module_version": "1.5.0",
            "_model_name": "HTMLModel",
            "_view_count": null,
            "_view_module": "@jupyter-widgets/controls",
            "_view_module_version": "1.5.0",
            "_view_name": "HTMLView",
            "description": "",
            "description_tooltip": null,
            "layout": "IPY_MODEL_7b686d7f24fd44dcb7ec2ae4e38ca005",
            "placeholder": "​",
            "style": "IPY_MODEL_7afdd9345c804ecbb7f1a8703f86b0a2",
            "value": " 7599/0 [00:15&lt;00:00, 143.54 examples/s]"
          }
        },
        "b629a7ef7f934e0191918194260b3d16": {
          "model_module": "@jupyter-widgets/base",
          "model_name": "LayoutModel",
          "model_module_version": "1.2.0",
          "state": {
            "_model_module": "@jupyter-widgets/base",
            "_model_module_version": "1.2.0",
            "_model_name": "LayoutModel",
            "_view_count": null,
            "_view_module": "@jupyter-widgets/base",
            "_view_module_version": "1.2.0",
            "_view_name": "LayoutView",
            "align_content": null,
            "align_items": null,
            "align_self": null,
            "border": null,
            "bottom": null,
            "display": null,
            "flex": null,
            "flex_flow": null,
            "grid_area": null,
            "grid_auto_columns": null,
            "grid_auto_flow": null,
            "grid_auto_rows": null,
            "grid_column": null,
            "grid_gap": null,
            "grid_row": null,
            "grid_template_areas": null,
            "grid_template_columns": null,
            "grid_template_rows": null,
            "height": null,
            "justify_content": null,
            "justify_items": null,
            "left": null,
            "margin": null,
            "max_height": null,
            "max_width": null,
            "min_height": null,
            "min_width": null,
            "object_fit": null,
            "object_position": null,
            "order": null,
            "overflow": null,
            "overflow_x": null,
            "overflow_y": null,
            "padding": null,
            "right": null,
            "top": null,
            "visibility": "hidden",
            "width": null
          }
        },
        "5b991385a07146cfa44d4bf58a4496a1": {
          "model_module": "@jupyter-widgets/base",
          "model_name": "LayoutModel",
          "model_module_version": "1.2.0",
          "state": {
            "_model_module": "@jupyter-widgets/base",
            "_model_module_version": "1.2.0",
            "_model_name": "LayoutModel",
            "_view_count": null,
            "_view_module": "@jupyter-widgets/base",
            "_view_module_version": "1.2.0",
            "_view_name": "LayoutView",
            "align_content": null,
            "align_items": null,
            "align_self": null,
            "border": null,
            "bottom": null,
            "display": null,
            "flex": null,
            "flex_flow": null,
            "grid_area": null,
            "grid_auto_columns": null,
            "grid_auto_flow": null,
            "grid_auto_rows": null,
            "grid_column": null,
            "grid_gap": null,
            "grid_row": null,
            "grid_template_areas": null,
            "grid_template_columns": null,
            "grid_template_rows": null,
            "height": null,
            "justify_content": null,
            "justify_items": null,
            "left": null,
            "margin": null,
            "max_height": null,
            "max_width": null,
            "min_height": null,
            "min_width": null,
            "object_fit": null,
            "object_position": null,
            "order": null,
            "overflow": null,
            "overflow_x": null,
            "overflow_y": null,
            "padding": null,
            "right": null,
            "top": null,
            "visibility": null,
            "width": null
          }
        },
        "1bdd82c3dcef4aaa8157d3e5270f3879": {
          "model_module": "@jupyter-widgets/controls",
          "model_name": "DescriptionStyleModel",
          "model_module_version": "1.5.0",
          "state": {
            "_model_module": "@jupyter-widgets/controls",
            "_model_module_version": "1.5.0",
            "_model_name": "DescriptionStyleModel",
            "_view_count": null,
            "_view_module": "@jupyter-widgets/base",
            "_view_module_version": "1.2.0",
            "_view_name": "StyleView",
            "description_width": ""
          }
        },
        "abd583c49074471497df4c6e13affb8c": {
          "model_module": "@jupyter-widgets/base",
          "model_name": "LayoutModel",
          "model_module_version": "1.2.0",
          "state": {
            "_model_module": "@jupyter-widgets/base",
            "_model_module_version": "1.2.0",
            "_model_name": "LayoutModel",
            "_view_count": null,
            "_view_module": "@jupyter-widgets/base",
            "_view_module_version": "1.2.0",
            "_view_name": "LayoutView",
            "align_content": null,
            "align_items": null,
            "align_self": null,
            "border": null,
            "bottom": null,
            "display": null,
            "flex": null,
            "flex_flow": null,
            "grid_area": null,
            "grid_auto_columns": null,
            "grid_auto_flow": null,
            "grid_auto_rows": null,
            "grid_column": null,
            "grid_gap": null,
            "grid_row": null,
            "grid_template_areas": null,
            "grid_template_columns": null,
            "grid_template_rows": null,
            "height": null,
            "justify_content": null,
            "justify_items": null,
            "left": null,
            "margin": null,
            "max_height": null,
            "max_width": null,
            "min_height": null,
            "min_width": null,
            "object_fit": null,
            "object_position": null,
            "order": null,
            "overflow": null,
            "overflow_x": null,
            "overflow_y": null,
            "padding": null,
            "right": null,
            "top": null,
            "visibility": null,
            "width": "20px"
          }
        },
        "d7ab064cea6f4cbb8b5a22a57810e700": {
          "model_module": "@jupyter-widgets/controls",
          "model_name": "ProgressStyleModel",
          "model_module_version": "1.5.0",
          "state": {
            "_model_module": "@jupyter-widgets/controls",
            "_model_module_version": "1.5.0",
            "_model_name": "ProgressStyleModel",
            "_view_count": null,
            "_view_module": "@jupyter-widgets/base",
            "_view_module_version": "1.2.0",
            "_view_name": "StyleView",
            "bar_color": null,
            "description_width": ""
          }
        },
        "7b686d7f24fd44dcb7ec2ae4e38ca005": {
          "model_module": "@jupyter-widgets/base",
          "model_name": "LayoutModel",
          "model_module_version": "1.2.0",
          "state": {
            "_model_module": "@jupyter-widgets/base",
            "_model_module_version": "1.2.0",
            "_model_name": "LayoutModel",
            "_view_count": null,
            "_view_module": "@jupyter-widgets/base",
            "_view_module_version": "1.2.0",
            "_view_name": "LayoutView",
            "align_content": null,
            "align_items": null,
            "align_self": null,
            "border": null,
            "bottom": null,
            "display": null,
            "flex": null,
            "flex_flow": null,
            "grid_area": null,
            "grid_auto_columns": null,
            "grid_auto_flow": null,
            "grid_auto_rows": null,
            "grid_column": null,
            "grid_gap": null,
            "grid_row": null,
            "grid_template_areas": null,
            "grid_template_columns": null,
            "grid_template_rows": null,
            "height": null,
            "justify_content": null,
            "justify_items": null,
            "left": null,
            "margin": null,
            "max_height": null,
            "max_width": null,
            "min_height": null,
            "min_width": null,
            "object_fit": null,
            "object_position": null,
            "order": null,
            "overflow": null,
            "overflow_x": null,
            "overflow_y": null,
            "padding": null,
            "right": null,
            "top": null,
            "visibility": null,
            "width": null
          }
        },
        "7afdd9345c804ecbb7f1a8703f86b0a2": {
          "model_module": "@jupyter-widgets/controls",
          "model_name": "DescriptionStyleModel",
          "model_module_version": "1.5.0",
          "state": {
            "_model_module": "@jupyter-widgets/controls",
            "_model_module_version": "1.5.0",
            "_model_name": "DescriptionStyleModel",
            "_view_count": null,
            "_view_module": "@jupyter-widgets/base",
            "_view_module_version": "1.2.0",
            "_view_name": "StyleView",
            "description_width": ""
          }
        },
        "0eecf11b87b24abab7062f84c1bd087e": {
          "model_module": "@jupyter-widgets/controls",
          "model_name": "HBoxModel",
          "model_module_version": "1.5.0",
          "state": {
            "_dom_classes": [],
            "_model_module": "@jupyter-widgets/controls",
            "_model_module_version": "1.5.0",
            "_model_name": "HBoxModel",
            "_view_count": null,
            "_view_module": "@jupyter-widgets/controls",
            "_view_module_version": "1.5.0",
            "_view_name": "HBoxView",
            "box_style": "",
            "children": [
              "IPY_MODEL_99f80c27447a45ef976fa7c7424d3a47",
              "IPY_MODEL_f83d9833101e4be2bbdbdfdb696686c3",
              "IPY_MODEL_9fe6592100c244868d1e450ada624ffd"
            ],
            "layout": "IPY_MODEL_ebccf881b6284a77ba7a15f54d7d8174"
          }
        },
        "99f80c27447a45ef976fa7c7424d3a47": {
          "model_module": "@jupyter-widgets/controls",
          "model_name": "HTMLModel",
          "model_module_version": "1.5.0",
          "state": {
            "_dom_classes": [],
            "_model_module": "@jupyter-widgets/controls",
            "_model_module_version": "1.5.0",
            "_model_name": "HTMLModel",
            "_view_count": null,
            "_view_module": "@jupyter-widgets/controls",
            "_view_module_version": "1.5.0",
            "_view_name": "HTMLView",
            "description": "",
            "description_tooltip": null,
            "layout": "IPY_MODEL_d9213c350359435382620a23f4ca425b",
            "placeholder": "​",
            "style": "IPY_MODEL_32eae57c28ef4d0bbd44351cff5bcfeb",
            "value": ""
          }
        },
        "f83d9833101e4be2bbdbdfdb696686c3": {
          "model_module": "@jupyter-widgets/controls",
          "model_name": "FloatProgressModel",
          "model_module_version": "1.5.0",
          "state": {
            "_dom_classes": [],
            "_model_module": "@jupyter-widgets/controls",
            "_model_module_version": "1.5.0",
            "_model_name": "FloatProgressModel",
            "_view_count": null,
            "_view_module": "@jupyter-widgets/controls",
            "_view_module_version": "1.5.0",
            "_view_name": "ProgressView",
            "bar_style": "info",
            "description": "",
            "description_tooltip": null,
            "layout": "IPY_MODEL_f9648738d4914da395fb70539412dafe",
            "max": 1,
            "min": 0,
            "orientation": "horizontal",
            "style": "IPY_MODEL_4e8d0ee19dea4cff92e44a10e200e08c",
            "value": 1
          }
        },
        "9fe6592100c244868d1e450ada624ffd": {
          "model_module": "@jupyter-widgets/controls",
          "model_name": "HTMLModel",
          "model_module_version": "1.5.0",
          "state": {
            "_dom_classes": [],
            "_model_module": "@jupyter-widgets/controls",
            "_model_module_version": "1.5.0",
            "_model_name": "HTMLModel",
            "_view_count": null,
            "_view_module": "@jupyter-widgets/controls",
            "_view_module_version": "1.5.0",
            "_view_name": "HTMLView",
            "description": "",
            "description_tooltip": null,
            "layout": "IPY_MODEL_7b5ce32d66cb4ab197775e993bd4e8e4",
            "placeholder": "​",
            "style": "IPY_MODEL_0097c13005054dac8d5517b4682ac6ed",
            "value": " 7503/0 [00:15&lt;00:00, 155.45 examples/s]"
          }
        },
        "ebccf881b6284a77ba7a15f54d7d8174": {
          "model_module": "@jupyter-widgets/base",
          "model_name": "LayoutModel",
          "model_module_version": "1.2.0",
          "state": {
            "_model_module": "@jupyter-widgets/base",
            "_model_module_version": "1.2.0",
            "_model_name": "LayoutModel",
            "_view_count": null,
            "_view_module": "@jupyter-widgets/base",
            "_view_module_version": "1.2.0",
            "_view_name": "LayoutView",
            "align_content": null,
            "align_items": null,
            "align_self": null,
            "border": null,
            "bottom": null,
            "display": null,
            "flex": null,
            "flex_flow": null,
            "grid_area": null,
            "grid_auto_columns": null,
            "grid_auto_flow": null,
            "grid_auto_rows": null,
            "grid_column": null,
            "grid_gap": null,
            "grid_row": null,
            "grid_template_areas": null,
            "grid_template_columns": null,
            "grid_template_rows": null,
            "height": null,
            "justify_content": null,
            "justify_items": null,
            "left": null,
            "margin": null,
            "max_height": null,
            "max_width": null,
            "min_height": null,
            "min_width": null,
            "object_fit": null,
            "object_position": null,
            "order": null,
            "overflow": null,
            "overflow_x": null,
            "overflow_y": null,
            "padding": null,
            "right": null,
            "top": null,
            "visibility": "hidden",
            "width": null
          }
        },
        "d9213c350359435382620a23f4ca425b": {
          "model_module": "@jupyter-widgets/base",
          "model_name": "LayoutModel",
          "model_module_version": "1.2.0",
          "state": {
            "_model_module": "@jupyter-widgets/base",
            "_model_module_version": "1.2.0",
            "_model_name": "LayoutModel",
            "_view_count": null,
            "_view_module": "@jupyter-widgets/base",
            "_view_module_version": "1.2.0",
            "_view_name": "LayoutView",
            "align_content": null,
            "align_items": null,
            "align_self": null,
            "border": null,
            "bottom": null,
            "display": null,
            "flex": null,
            "flex_flow": null,
            "grid_area": null,
            "grid_auto_columns": null,
            "grid_auto_flow": null,
            "grid_auto_rows": null,
            "grid_column": null,
            "grid_gap": null,
            "grid_row": null,
            "grid_template_areas": null,
            "grid_template_columns": null,
            "grid_template_rows": null,
            "height": null,
            "justify_content": null,
            "justify_items": null,
            "left": null,
            "margin": null,
            "max_height": null,
            "max_width": null,
            "min_height": null,
            "min_width": null,
            "object_fit": null,
            "object_position": null,
            "order": null,
            "overflow": null,
            "overflow_x": null,
            "overflow_y": null,
            "padding": null,
            "right": null,
            "top": null,
            "visibility": null,
            "width": null
          }
        },
        "32eae57c28ef4d0bbd44351cff5bcfeb": {
          "model_module": "@jupyter-widgets/controls",
          "model_name": "DescriptionStyleModel",
          "model_module_version": "1.5.0",
          "state": {
            "_model_module": "@jupyter-widgets/controls",
            "_model_module_version": "1.5.0",
            "_model_name": "DescriptionStyleModel",
            "_view_count": null,
            "_view_module": "@jupyter-widgets/base",
            "_view_module_version": "1.2.0",
            "_view_name": "StyleView",
            "description_width": ""
          }
        },
        "f9648738d4914da395fb70539412dafe": {
          "model_module": "@jupyter-widgets/base",
          "model_name": "LayoutModel",
          "model_module_version": "1.2.0",
          "state": {
            "_model_module": "@jupyter-widgets/base",
            "_model_module_version": "1.2.0",
            "_model_name": "LayoutModel",
            "_view_count": null,
            "_view_module": "@jupyter-widgets/base",
            "_view_module_version": "1.2.0",
            "_view_name": "LayoutView",
            "align_content": null,
            "align_items": null,
            "align_self": null,
            "border": null,
            "bottom": null,
            "display": null,
            "flex": null,
            "flex_flow": null,
            "grid_area": null,
            "grid_auto_columns": null,
            "grid_auto_flow": null,
            "grid_auto_rows": null,
            "grid_column": null,
            "grid_gap": null,
            "grid_row": null,
            "grid_template_areas": null,
            "grid_template_columns": null,
            "grid_template_rows": null,
            "height": null,
            "justify_content": null,
            "justify_items": null,
            "left": null,
            "margin": null,
            "max_height": null,
            "max_width": null,
            "min_height": null,
            "min_width": null,
            "object_fit": null,
            "object_position": null,
            "order": null,
            "overflow": null,
            "overflow_x": null,
            "overflow_y": null,
            "padding": null,
            "right": null,
            "top": null,
            "visibility": null,
            "width": "20px"
          }
        },
        "4e8d0ee19dea4cff92e44a10e200e08c": {
          "model_module": "@jupyter-widgets/controls",
          "model_name": "ProgressStyleModel",
          "model_module_version": "1.5.0",
          "state": {
            "_model_module": "@jupyter-widgets/controls",
            "_model_module_version": "1.5.0",
            "_model_name": "ProgressStyleModel",
            "_view_count": null,
            "_view_module": "@jupyter-widgets/base",
            "_view_module_version": "1.2.0",
            "_view_name": "StyleView",
            "bar_color": null,
            "description_width": ""
          }
        },
        "7b5ce32d66cb4ab197775e993bd4e8e4": {
          "model_module": "@jupyter-widgets/base",
          "model_name": "LayoutModel",
          "model_module_version": "1.2.0",
          "state": {
            "_model_module": "@jupyter-widgets/base",
            "_model_module_version": "1.2.0",
            "_model_name": "LayoutModel",
            "_view_count": null,
            "_view_module": "@jupyter-widgets/base",
            "_view_module_version": "1.2.0",
            "_view_name": "LayoutView",
            "align_content": null,
            "align_items": null,
            "align_self": null,
            "border": null,
            "bottom": null,
            "display": null,
            "flex": null,
            "flex_flow": null,
            "grid_area": null,
            "grid_auto_columns": null,
            "grid_auto_flow": null,
            "grid_auto_rows": null,
            "grid_column": null,
            "grid_gap": null,
            "grid_row": null,
            "grid_template_areas": null,
            "grid_template_columns": null,
            "grid_template_rows": null,
            "height": null,
            "justify_content": null,
            "justify_items": null,
            "left": null,
            "margin": null,
            "max_height": null,
            "max_width": null,
            "min_height": null,
            "min_width": null,
            "object_fit": null,
            "object_position": null,
            "order": null,
            "overflow": null,
            "overflow_x": null,
            "overflow_y": null,
            "padding": null,
            "right": null,
            "top": null,
            "visibility": null,
            "width": null
          }
        },
        "0097c13005054dac8d5517b4682ac6ed": {
          "model_module": "@jupyter-widgets/controls",
          "model_name": "DescriptionStyleModel",
          "model_module_version": "1.5.0",
          "state": {
            "_model_module": "@jupyter-widgets/controls",
            "_model_module_version": "1.5.0",
            "_model_name": "DescriptionStyleModel",
            "_view_count": null,
            "_view_module": "@jupyter-widgets/base",
            "_view_module_version": "1.2.0",
            "_view_name": "StyleView",
            "description_width": ""
          }
        },
        "37c6df53be7447da919f318890254774": {
          "model_module": "@jupyter-widgets/controls",
          "model_name": "HBoxModel",
          "model_module_version": "1.5.0",
          "state": {
            "_dom_classes": [],
            "_model_module": "@jupyter-widgets/controls",
            "_model_module_version": "1.5.0",
            "_model_name": "HBoxModel",
            "_view_count": null,
            "_view_module": "@jupyter-widgets/controls",
            "_view_module_version": "1.5.0",
            "_view_name": "HBoxView",
            "box_style": "",
            "children": [
              "IPY_MODEL_e3cf92c953aa499ab96269bc81ef449c",
              "IPY_MODEL_448d228042a345a4b0f92e10d9ca4dd9",
              "IPY_MODEL_78572fe1f6284812aa7663c9af272199"
            ],
            "layout": "IPY_MODEL_46bac3b6e1e649fd9a796197e669b66e"
          }
        },
        "e3cf92c953aa499ab96269bc81ef449c": {
          "model_module": "@jupyter-widgets/controls",
          "model_name": "HTMLModel",
          "model_module_version": "1.5.0",
          "state": {
            "_dom_classes": [],
            "_model_module": "@jupyter-widgets/controls",
            "_model_module_version": "1.5.0",
            "_model_name": "HTMLModel",
            "_view_count": null,
            "_view_module": "@jupyter-widgets/controls",
            "_view_module_version": "1.5.0",
            "_view_name": "HTMLView",
            "description": "",
            "description_tooltip": null,
            "layout": "IPY_MODEL_fd39083208c74a7ab88ebdf703347851",
            "placeholder": "​",
            "style": "IPY_MODEL_92adddd8883a4745b3eb9e32f432867e",
            "value": ""
          }
        },
        "448d228042a345a4b0f92e10d9ca4dd9": {
          "model_module": "@jupyter-widgets/controls",
          "model_name": "FloatProgressModel",
          "model_module_version": "1.5.0",
          "state": {
            "_dom_classes": [],
            "_model_module": "@jupyter-widgets/controls",
            "_model_module_version": "1.5.0",
            "_model_name": "FloatProgressModel",
            "_view_count": null,
            "_view_module": "@jupyter-widgets/controls",
            "_view_module_version": "1.5.0",
            "_view_name": "ProgressView",
            "bar_style": "info",
            "description": "",
            "description_tooltip": null,
            "layout": "IPY_MODEL_ed079cbbe3e04b38919b2a991a135f7a",
            "max": 1,
            "min": 0,
            "orientation": "horizontal",
            "style": "IPY_MODEL_525dc131034246d78cffc4267e06d8ba",
            "value": 1
          }
        },
        "78572fe1f6284812aa7663c9af272199": {
          "model_module": "@jupyter-widgets/controls",
          "model_name": "HTMLModel",
          "model_module_version": "1.5.0",
          "state": {
            "_dom_classes": [],
            "_model_module": "@jupyter-widgets/controls",
            "_model_module_version": "1.5.0",
            "_model_name": "HTMLModel",
            "_view_count": null,
            "_view_module": "@jupyter-widgets/controls",
            "_view_module_version": "1.5.0",
            "_view_name": "HTMLView",
            "description": "",
            "description_tooltip": null,
            "layout": "IPY_MODEL_5ada6cb5ed3445e09b869672c18fccb1",
            "placeholder": "​",
            "style": "IPY_MODEL_e4cf87ae53564e089609da684d53c4c6",
            "value": " 18068/0 [00:17&lt;00:00, 1930.68 examples/s]"
          }
        },
        "46bac3b6e1e649fd9a796197e669b66e": {
          "model_module": "@jupyter-widgets/base",
          "model_name": "LayoutModel",
          "model_module_version": "1.2.0",
          "state": {
            "_model_module": "@jupyter-widgets/base",
            "_model_module_version": "1.2.0",
            "_model_name": "LayoutModel",
            "_view_count": null,
            "_view_module": "@jupyter-widgets/base",
            "_view_module_version": "1.2.0",
            "_view_name": "LayoutView",
            "align_content": null,
            "align_items": null,
            "align_self": null,
            "border": null,
            "bottom": null,
            "display": null,
            "flex": null,
            "flex_flow": null,
            "grid_area": null,
            "grid_auto_columns": null,
            "grid_auto_flow": null,
            "grid_auto_rows": null,
            "grid_column": null,
            "grid_gap": null,
            "grid_row": null,
            "grid_template_areas": null,
            "grid_template_columns": null,
            "grid_template_rows": null,
            "height": null,
            "justify_content": null,
            "justify_items": null,
            "left": null,
            "margin": null,
            "max_height": null,
            "max_width": null,
            "min_height": null,
            "min_width": null,
            "object_fit": null,
            "object_position": null,
            "order": null,
            "overflow": null,
            "overflow_x": null,
            "overflow_y": null,
            "padding": null,
            "right": null,
            "top": null,
            "visibility": "hidden",
            "width": null
          }
        },
        "fd39083208c74a7ab88ebdf703347851": {
          "model_module": "@jupyter-widgets/base",
          "model_name": "LayoutModel",
          "model_module_version": "1.2.0",
          "state": {
            "_model_module": "@jupyter-widgets/base",
            "_model_module_version": "1.2.0",
            "_model_name": "LayoutModel",
            "_view_count": null,
            "_view_module": "@jupyter-widgets/base",
            "_view_module_version": "1.2.0",
            "_view_name": "LayoutView",
            "align_content": null,
            "align_items": null,
            "align_self": null,
            "border": null,
            "bottom": null,
            "display": null,
            "flex": null,
            "flex_flow": null,
            "grid_area": null,
            "grid_auto_columns": null,
            "grid_auto_flow": null,
            "grid_auto_rows": null,
            "grid_column": null,
            "grid_gap": null,
            "grid_row": null,
            "grid_template_areas": null,
            "grid_template_columns": null,
            "grid_template_rows": null,
            "height": null,
            "justify_content": null,
            "justify_items": null,
            "left": null,
            "margin": null,
            "max_height": null,
            "max_width": null,
            "min_height": null,
            "min_width": null,
            "object_fit": null,
            "object_position": null,
            "order": null,
            "overflow": null,
            "overflow_x": null,
            "overflow_y": null,
            "padding": null,
            "right": null,
            "top": null,
            "visibility": null,
            "width": null
          }
        },
        "92adddd8883a4745b3eb9e32f432867e": {
          "model_module": "@jupyter-widgets/controls",
          "model_name": "DescriptionStyleModel",
          "model_module_version": "1.5.0",
          "state": {
            "_model_module": "@jupyter-widgets/controls",
            "_model_module_version": "1.5.0",
            "_model_name": "DescriptionStyleModel",
            "_view_count": null,
            "_view_module": "@jupyter-widgets/base",
            "_view_module_version": "1.2.0",
            "_view_name": "StyleView",
            "description_width": ""
          }
        },
        "ed079cbbe3e04b38919b2a991a135f7a": {
          "model_module": "@jupyter-widgets/base",
          "model_name": "LayoutModel",
          "model_module_version": "1.2.0",
          "state": {
            "_model_module": "@jupyter-widgets/base",
            "_model_module_version": "1.2.0",
            "_model_name": "LayoutModel",
            "_view_count": null,
            "_view_module": "@jupyter-widgets/base",
            "_view_module_version": "1.2.0",
            "_view_name": "LayoutView",
            "align_content": null,
            "align_items": null,
            "align_self": null,
            "border": null,
            "bottom": null,
            "display": null,
            "flex": null,
            "flex_flow": null,
            "grid_area": null,
            "grid_auto_columns": null,
            "grid_auto_flow": null,
            "grid_auto_rows": null,
            "grid_column": null,
            "grid_gap": null,
            "grid_row": null,
            "grid_template_areas": null,
            "grid_template_columns": null,
            "grid_template_rows": null,
            "height": null,
            "justify_content": null,
            "justify_items": null,
            "left": null,
            "margin": null,
            "max_height": null,
            "max_width": null,
            "min_height": null,
            "min_width": null,
            "object_fit": null,
            "object_position": null,
            "order": null,
            "overflow": null,
            "overflow_x": null,
            "overflow_y": null,
            "padding": null,
            "right": null,
            "top": null,
            "visibility": null,
            "width": "20px"
          }
        },
        "525dc131034246d78cffc4267e06d8ba": {
          "model_module": "@jupyter-widgets/controls",
          "model_name": "ProgressStyleModel",
          "model_module_version": "1.5.0",
          "state": {
            "_model_module": "@jupyter-widgets/controls",
            "_model_module_version": "1.5.0",
            "_model_name": "ProgressStyleModel",
            "_view_count": null,
            "_view_module": "@jupyter-widgets/base",
            "_view_module_version": "1.2.0",
            "_view_name": "StyleView",
            "bar_color": null,
            "description_width": ""
          }
        },
        "5ada6cb5ed3445e09b869672c18fccb1": {
          "model_module": "@jupyter-widgets/base",
          "model_name": "LayoutModel",
          "model_module_version": "1.2.0",
          "state": {
            "_model_module": "@jupyter-widgets/base",
            "_model_module_version": "1.2.0",
            "_model_name": "LayoutModel",
            "_view_count": null,
            "_view_module": "@jupyter-widgets/base",
            "_view_module_version": "1.2.0",
            "_view_name": "LayoutView",
            "align_content": null,
            "align_items": null,
            "align_self": null,
            "border": null,
            "bottom": null,
            "display": null,
            "flex": null,
            "flex_flow": null,
            "grid_area": null,
            "grid_auto_columns": null,
            "grid_auto_flow": null,
            "grid_auto_rows": null,
            "grid_column": null,
            "grid_gap": null,
            "grid_row": null,
            "grid_template_areas": null,
            "grid_template_columns": null,
            "grid_template_rows": null,
            "height": null,
            "justify_content": null,
            "justify_items": null,
            "left": null,
            "margin": null,
            "max_height": null,
            "max_width": null,
            "min_height": null,
            "min_width": null,
            "object_fit": null,
            "object_position": null,
            "order": null,
            "overflow": null,
            "overflow_x": null,
            "overflow_y": null,
            "padding": null,
            "right": null,
            "top": null,
            "visibility": null,
            "width": null
          }
        },
        "e4cf87ae53564e089609da684d53c4c6": {
          "model_module": "@jupyter-widgets/controls",
          "model_name": "DescriptionStyleModel",
          "model_module_version": "1.5.0",
          "state": {
            "_model_module": "@jupyter-widgets/controls",
            "_model_module_version": "1.5.0",
            "_model_name": "DescriptionStyleModel",
            "_view_count": null,
            "_view_module": "@jupyter-widgets/base",
            "_view_module_version": "1.2.0",
            "_view_name": "StyleView",
            "description_width": ""
          }
        },
        "f981e7ee845048198066554fb088c3e8": {
          "model_module": "@jupyter-widgets/controls",
          "model_name": "HBoxModel",
          "model_module_version": "1.5.0",
          "state": {
            "_dom_classes": [],
            "_model_module": "@jupyter-widgets/controls",
            "_model_module_version": "1.5.0",
            "_model_name": "HBoxModel",
            "_view_count": null,
            "_view_module": "@jupyter-widgets/controls",
            "_view_module_version": "1.5.0",
            "_view_name": "HBoxView",
            "box_style": "",
            "children": [
              "IPY_MODEL_153f02be8a7c4174ac1f284e7ebb4877",
              "IPY_MODEL_d1a5f10d26e9412a846bf4e7e9e1f633",
              "IPY_MODEL_92c0cd69ea314bb1b081276fba3b0deb"
            ],
            "layout": "IPY_MODEL_d3d8fe57299447d49ee08442ad1cfa8e"
          }
        },
        "153f02be8a7c4174ac1f284e7ebb4877": {
          "model_module": "@jupyter-widgets/controls",
          "model_name": "HTMLModel",
          "model_module_version": "1.5.0",
          "state": {
            "_dom_classes": [],
            "_model_module": "@jupyter-widgets/controls",
            "_model_module_version": "1.5.0",
            "_model_name": "HTMLModel",
            "_view_count": null,
            "_view_module": "@jupyter-widgets/controls",
            "_view_module_version": "1.5.0",
            "_view_name": "HTMLView",
            "description": "",
            "description_tooltip": null,
            "layout": "IPY_MODEL_d3475ed3eb014bc3bca509cac02067c0",
            "placeholder": "​",
            "style": "IPY_MODEL_dbebfc4af3b44f1488e53b12f5a5f82c",
            "value": ""
          }
        },
        "d1a5f10d26e9412a846bf4e7e9e1f633": {
          "model_module": "@jupyter-widgets/controls",
          "model_name": "FloatProgressModel",
          "model_module_version": "1.5.0",
          "state": {
            "_dom_classes": [],
            "_model_module": "@jupyter-widgets/controls",
            "_model_module_version": "1.5.0",
            "_model_name": "FloatProgressModel",
            "_view_count": null,
            "_view_module": "@jupyter-widgets/controls",
            "_view_module_version": "1.5.0",
            "_view_name": "ProgressView",
            "bar_style": "info",
            "description": "",
            "description_tooltip": null,
            "layout": "IPY_MODEL_79c0241412f94654a50cb7eb7589bb4f",
            "max": 1,
            "min": 0,
            "orientation": "horizontal",
            "style": "IPY_MODEL_9d983cfbf7fb4b2594ceaa308fda7e33",
            "value": 1
          }
        },
        "92c0cd69ea314bb1b081276fba3b0deb": {
          "model_module": "@jupyter-widgets/controls",
          "model_name": "HTMLModel",
          "model_module_version": "1.5.0",
          "state": {
            "_dom_classes": [],
            "_model_module": "@jupyter-widgets/controls",
            "_model_module_version": "1.5.0",
            "_model_name": "HTMLModel",
            "_view_count": null,
            "_view_module": "@jupyter-widgets/controls",
            "_view_module_version": "1.5.0",
            "_view_name": "HTMLView",
            "description": "",
            "description_tooltip": null,
            "layout": "IPY_MODEL_c1faa2553c3240b6bf0035ff48bdd2bc",
            "placeholder": "​",
            "style": "IPY_MODEL_9ee4c818fdbc40cb9ae3d348bcd7eb4e",
            "value": " 6277/0 [00:14&lt;00:00, 458.12 examples/s]"
          }
        },
        "d3d8fe57299447d49ee08442ad1cfa8e": {
          "model_module": "@jupyter-widgets/base",
          "model_name": "LayoutModel",
          "model_module_version": "1.2.0",
          "state": {
            "_model_module": "@jupyter-widgets/base",
            "_model_module_version": "1.2.0",
            "_model_name": "LayoutModel",
            "_view_count": null,
            "_view_module": "@jupyter-widgets/base",
            "_view_module_version": "1.2.0",
            "_view_name": "LayoutView",
            "align_content": null,
            "align_items": null,
            "align_self": null,
            "border": null,
            "bottom": null,
            "display": null,
            "flex": null,
            "flex_flow": null,
            "grid_area": null,
            "grid_auto_columns": null,
            "grid_auto_flow": null,
            "grid_auto_rows": null,
            "grid_column": null,
            "grid_gap": null,
            "grid_row": null,
            "grid_template_areas": null,
            "grid_template_columns": null,
            "grid_template_rows": null,
            "height": null,
            "justify_content": null,
            "justify_items": null,
            "left": null,
            "margin": null,
            "max_height": null,
            "max_width": null,
            "min_height": null,
            "min_width": null,
            "object_fit": null,
            "object_position": null,
            "order": null,
            "overflow": null,
            "overflow_x": null,
            "overflow_y": null,
            "padding": null,
            "right": null,
            "top": null,
            "visibility": "hidden",
            "width": null
          }
        },
        "d3475ed3eb014bc3bca509cac02067c0": {
          "model_module": "@jupyter-widgets/base",
          "model_name": "LayoutModel",
          "model_module_version": "1.2.0",
          "state": {
            "_model_module": "@jupyter-widgets/base",
            "_model_module_version": "1.2.0",
            "_model_name": "LayoutModel",
            "_view_count": null,
            "_view_module": "@jupyter-widgets/base",
            "_view_module_version": "1.2.0",
            "_view_name": "LayoutView",
            "align_content": null,
            "align_items": null,
            "align_self": null,
            "border": null,
            "bottom": null,
            "display": null,
            "flex": null,
            "flex_flow": null,
            "grid_area": null,
            "grid_auto_columns": null,
            "grid_auto_flow": null,
            "grid_auto_rows": null,
            "grid_column": null,
            "grid_gap": null,
            "grid_row": null,
            "grid_template_areas": null,
            "grid_template_columns": null,
            "grid_template_rows": null,
            "height": null,
            "justify_content": null,
            "justify_items": null,
            "left": null,
            "margin": null,
            "max_height": null,
            "max_width": null,
            "min_height": null,
            "min_width": null,
            "object_fit": null,
            "object_position": null,
            "order": null,
            "overflow": null,
            "overflow_x": null,
            "overflow_y": null,
            "padding": null,
            "right": null,
            "top": null,
            "visibility": null,
            "width": null
          }
        },
        "dbebfc4af3b44f1488e53b12f5a5f82c": {
          "model_module": "@jupyter-widgets/controls",
          "model_name": "DescriptionStyleModel",
          "model_module_version": "1.5.0",
          "state": {
            "_model_module": "@jupyter-widgets/controls",
            "_model_module_version": "1.5.0",
            "_model_name": "DescriptionStyleModel",
            "_view_count": null,
            "_view_module": "@jupyter-widgets/base",
            "_view_module_version": "1.2.0",
            "_view_name": "StyleView",
            "description_width": ""
          }
        },
        "79c0241412f94654a50cb7eb7589bb4f": {
          "model_module": "@jupyter-widgets/base",
          "model_name": "LayoutModel",
          "model_module_version": "1.2.0",
          "state": {
            "_model_module": "@jupyter-widgets/base",
            "_model_module_version": "1.2.0",
            "_model_name": "LayoutModel",
            "_view_count": null,
            "_view_module": "@jupyter-widgets/base",
            "_view_module_version": "1.2.0",
            "_view_name": "LayoutView",
            "align_content": null,
            "align_items": null,
            "align_self": null,
            "border": null,
            "bottom": null,
            "display": null,
            "flex": null,
            "flex_flow": null,
            "grid_area": null,
            "grid_auto_columns": null,
            "grid_auto_flow": null,
            "grid_auto_rows": null,
            "grid_column": null,
            "grid_gap": null,
            "grid_row": null,
            "grid_template_areas": null,
            "grid_template_columns": null,
            "grid_template_rows": null,
            "height": null,
            "justify_content": null,
            "justify_items": null,
            "left": null,
            "margin": null,
            "max_height": null,
            "max_width": null,
            "min_height": null,
            "min_width": null,
            "object_fit": null,
            "object_position": null,
            "order": null,
            "overflow": null,
            "overflow_x": null,
            "overflow_y": null,
            "padding": null,
            "right": null,
            "top": null,
            "visibility": null,
            "width": "20px"
          }
        },
        "9d983cfbf7fb4b2594ceaa308fda7e33": {
          "model_module": "@jupyter-widgets/controls",
          "model_name": "ProgressStyleModel",
          "model_module_version": "1.5.0",
          "state": {
            "_model_module": "@jupyter-widgets/controls",
            "_model_module_version": "1.5.0",
            "_model_name": "ProgressStyleModel",
            "_view_count": null,
            "_view_module": "@jupyter-widgets/base",
            "_view_module_version": "1.2.0",
            "_view_name": "StyleView",
            "bar_color": null,
            "description_width": ""
          }
        },
        "c1faa2553c3240b6bf0035ff48bdd2bc": {
          "model_module": "@jupyter-widgets/base",
          "model_name": "LayoutModel",
          "model_module_version": "1.2.0",
          "state": {
            "_model_module": "@jupyter-widgets/base",
            "_model_module_version": "1.2.0",
            "_model_name": "LayoutModel",
            "_view_count": null,
            "_view_module": "@jupyter-widgets/base",
            "_view_module_version": "1.2.0",
            "_view_name": "LayoutView",
            "align_content": null,
            "align_items": null,
            "align_self": null,
            "border": null,
            "bottom": null,
            "display": null,
            "flex": null,
            "flex_flow": null,
            "grid_area": null,
            "grid_auto_columns": null,
            "grid_auto_flow": null,
            "grid_auto_rows": null,
            "grid_column": null,
            "grid_gap": null,
            "grid_row": null,
            "grid_template_areas": null,
            "grid_template_columns": null,
            "grid_template_rows": null,
            "height": null,
            "justify_content": null,
            "justify_items": null,
            "left": null,
            "margin": null,
            "max_height": null,
            "max_width": null,
            "min_height": null,
            "min_width": null,
            "object_fit": null,
            "object_position": null,
            "order": null,
            "overflow": null,
            "overflow_x": null,
            "overflow_y": null,
            "padding": null,
            "right": null,
            "top": null,
            "visibility": null,
            "width": null
          }
        },
        "9ee4c818fdbc40cb9ae3d348bcd7eb4e": {
          "model_module": "@jupyter-widgets/controls",
          "model_name": "DescriptionStyleModel",
          "model_module_version": "1.5.0",
          "state": {
            "_model_module": "@jupyter-widgets/controls",
            "_model_module_version": "1.5.0",
            "_model_name": "DescriptionStyleModel",
            "_view_count": null,
            "_view_module": "@jupyter-widgets/base",
            "_view_module_version": "1.2.0",
            "_view_name": "StyleView",
            "description_width": ""
          }
        }
      }
    },
    "accelerator": "GPU"
  },
  "nbformat": 4,
  "nbformat_minor": 0
}